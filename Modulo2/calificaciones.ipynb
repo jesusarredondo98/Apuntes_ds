{
 "cells": [
  {
   "cell_type": "code",
   "execution_count": 1,
   "id": "a3c550dd",
   "metadata": {},
   "outputs": [],
   "source": [
    "import pandas as pd\n",
    "import numpy as np\n",
    "import seaborn as sns\n",
    "import plotly.express as px\n",
    "import matplotlib.pyplot as plt"
   ]
  },
  {
   "cell_type": "code",
   "execution_count": 2,
   "id": "3c0a7a34",
   "metadata": {},
   "outputs": [],
   "source": [
    "pd.set_option('display.max_columns', 500)"
   ]
  },
  {
   "cell_type": "code",
   "execution_count": 3,
   "id": "3ac62693",
   "metadata": {},
   "outputs": [
    {
     "data": {
      "text/html": [
       "<div>\n",
       "<style scoped>\n",
       "    .dataframe tbody tr th:only-of-type {\n",
       "        vertical-align: middle;\n",
       "    }\n",
       "\n",
       "    .dataframe tbody tr th {\n",
       "        vertical-align: top;\n",
       "    }\n",
       "\n",
       "    .dataframe thead th {\n",
       "        text-align: right;\n",
       "    }\n",
       "</style>\n",
       "<table border=\"1\" class=\"dataframe\">\n",
       "  <thead>\n",
       "    <tr style=\"text-align: right;\">\n",
       "      <th></th>\n",
       "      <th>Correo</th>\n",
       "      <th>Apellido</th>\n",
       "      <th>Nombre</th>\n",
       "      <th>Examen</th>\n",
       "      <th>P1</th>\n",
       "      <th>P2</th>\n",
       "      <th>P3</th>\n",
       "      <th>P4</th>\n",
       "      <th>Presentacion Proyecto</th>\n",
       "      <th>Proyecto escrito y codigo</th>\n",
       "      <th>Calificación final</th>\n",
       "    </tr>\n",
       "  </thead>\n",
       "  <tbody>\n",
       "    <tr>\n",
       "      <th>0</th>\n",
       "      <td>abramhz@gmail.com</td>\n",
       "      <td>Hernández</td>\n",
       "      <td>Abraham</td>\n",
       "      <td>76.0</td>\n",
       "      <td>90.0</td>\n",
       "      <td>80.0</td>\n",
       "      <td>80.0</td>\n",
       "      <td>90.0</td>\n",
       "      <td>97.0</td>\n",
       "      <td>100.0</td>\n",
       "      <td>84.0</td>\n",
       "    </tr>\n",
       "    <tr>\n",
       "      <th>1</th>\n",
       "      <td>aleesquiviasj@gmail.com</td>\n",
       "      <td>Jiménez</td>\n",
       "      <td>Alejandra Guadalupe</td>\n",
       "      <td>88.0</td>\n",
       "      <td>100.0</td>\n",
       "      <td>92.0</td>\n",
       "      <td>78.0</td>\n",
       "      <td>85.0</td>\n",
       "      <td>100.0</td>\n",
       "      <td>100.0</td>\n",
       "      <td>89.0</td>\n",
       "    </tr>\n",
       "    <tr>\n",
       "      <th>2</th>\n",
       "      <td>a.mitra2311@gmail.com</td>\n",
       "      <td>Mitra</td>\n",
       "      <td>Alejandro</td>\n",
       "      <td>78.0</td>\n",
       "      <td>82.0</td>\n",
       "      <td>78.0</td>\n",
       "      <td>NaN</td>\n",
       "      <td>82.0</td>\n",
       "      <td>99.0</td>\n",
       "      <td>100.0</td>\n",
       "      <td>75.0</td>\n",
       "    </tr>\n",
       "  </tbody>\n",
       "</table>\n",
       "</div>"
      ],
      "text/plain": [
       "                    Correo   Apellido               Nombre  Examen     P1  \\\n",
       "0        abramhz@gmail.com  Hernández              Abraham    76.0   90.0   \n",
       "1  aleesquiviasj@gmail.com    Jiménez  Alejandra Guadalupe    88.0  100.0   \n",
       "2    a.mitra2311@gmail.com      Mitra            Alejandro    78.0   82.0   \n",
       "\n",
       "     P2    P3    P4  Presentacion Proyecto  Proyecto escrito y codigo  \\\n",
       "0  80.0  80.0  90.0                   97.0                      100.0   \n",
       "1  92.0  78.0  85.0                  100.0                      100.0   \n",
       "2  78.0   NaN  82.0                   99.0                      100.0   \n",
       "\n",
       "   Calificación final  \n",
       "0                84.0  \n",
       "1                89.0  \n",
       "2                75.0  "
      ]
     },
     "execution_count": 3,
     "metadata": {},
     "output_type": "execute_result"
    }
   ],
   "source": [
    "df=pd.read_csv(\"Calificaciones Finales Generación 13 Modulo 2 - Hoja 1.csv\",encoding=\"utf-8\")\n",
    "df.head(3)"
   ]
  },
  {
   "cell_type": "code",
   "execution_count": 23,
   "id": "f7e0b9d7",
   "metadata": {},
   "outputs": [
    {
     "data": {
      "text/html": [
       "<div>\n",
       "<style scoped>\n",
       "    .dataframe tbody tr th:only-of-type {\n",
       "        vertical-align: middle;\n",
       "    }\n",
       "\n",
       "    .dataframe tbody tr th {\n",
       "        vertical-align: top;\n",
       "    }\n",
       "\n",
       "    .dataframe thead th {\n",
       "        text-align: right;\n",
       "    }\n",
       "</style>\n",
       "<table border=\"1\" class=\"dataframe\">\n",
       "  <thead>\n",
       "    <tr style=\"text-align: right;\">\n",
       "      <th></th>\n",
       "      <th>Examen</th>\n",
       "      <th>P1</th>\n",
       "      <th>P2</th>\n",
       "      <th>P3</th>\n",
       "      <th>P4</th>\n",
       "      <th>Presentacion Proyecto</th>\n",
       "      <th>Proyecto escrito y codigo</th>\n",
       "      <th>Calificación final</th>\n",
       "      <th>Paso</th>\n",
       "    </tr>\n",
       "  </thead>\n",
       "  <tbody>\n",
       "    <tr>\n",
       "      <th>count</th>\n",
       "      <td>54.000000</td>\n",
       "      <td>54.000000</td>\n",
       "      <td>54.000000</td>\n",
       "      <td>54.000000</td>\n",
       "      <td>54.000000</td>\n",
       "      <td>54.000000</td>\n",
       "      <td>54.000000</td>\n",
       "      <td>54.000000</td>\n",
       "      <td>54.000000</td>\n",
       "    </tr>\n",
       "    <tr>\n",
       "      <th>mean</th>\n",
       "      <td>73.925926</td>\n",
       "      <td>79.962963</td>\n",
       "      <td>85.981481</td>\n",
       "      <td>76.055556</td>\n",
       "      <td>82.796296</td>\n",
       "      <td>82.388889</td>\n",
       "      <td>81.851852</td>\n",
       "      <td>76.259259</td>\n",
       "      <td>0.740741</td>\n",
       "    </tr>\n",
       "    <tr>\n",
       "      <th>std</th>\n",
       "      <td>25.443872</td>\n",
       "      <td>32.703911</td>\n",
       "      <td>22.349278</td>\n",
       "      <td>28.317883</td>\n",
       "      <td>24.353822</td>\n",
       "      <td>30.059951</td>\n",
       "      <td>33.363864</td>\n",
       "      <td>25.728030</td>\n",
       "      <td>0.442343</td>\n",
       "    </tr>\n",
       "    <tr>\n",
       "      <th>min</th>\n",
       "      <td>0.000000</td>\n",
       "      <td>0.000000</td>\n",
       "      <td>0.000000</td>\n",
       "      <td>0.000000</td>\n",
       "      <td>0.000000</td>\n",
       "      <td>0.000000</td>\n",
       "      <td>0.000000</td>\n",
       "      <td>0.000000</td>\n",
       "      <td>0.000000</td>\n",
       "    </tr>\n",
       "    <tr>\n",
       "      <th>25%</th>\n",
       "      <td>75.250000</td>\n",
       "      <td>80.000000</td>\n",
       "      <td>82.000000</td>\n",
       "      <td>78.000000</td>\n",
       "      <td>85.000000</td>\n",
       "      <td>85.000000</td>\n",
       "      <td>88.000000</td>\n",
       "      <td>78.750000</td>\n",
       "      <td>0.250000</td>\n",
       "    </tr>\n",
       "    <tr>\n",
       "      <th>50%</th>\n",
       "      <td>81.000000</td>\n",
       "      <td>95.000000</td>\n",
       "      <td>92.000000</td>\n",
       "      <td>80.000000</td>\n",
       "      <td>90.000000</td>\n",
       "      <td>92.000000</td>\n",
       "      <td>100.000000</td>\n",
       "      <td>85.000000</td>\n",
       "      <td>1.000000</td>\n",
       "    </tr>\n",
       "    <tr>\n",
       "      <th>75%</th>\n",
       "      <td>88.000000</td>\n",
       "      <td>100.000000</td>\n",
       "      <td>97.750000</td>\n",
       "      <td>90.000000</td>\n",
       "      <td>93.750000</td>\n",
       "      <td>98.750000</td>\n",
       "      <td>100.000000</td>\n",
       "      <td>88.000000</td>\n",
       "      <td>1.000000</td>\n",
       "    </tr>\n",
       "    <tr>\n",
       "      <th>90%</th>\n",
       "      <td>92.000000</td>\n",
       "      <td>100.000000</td>\n",
       "      <td>100.000000</td>\n",
       "      <td>100.000000</td>\n",
       "      <td>99.100000</td>\n",
       "      <td>100.000000</td>\n",
       "      <td>100.000000</td>\n",
       "      <td>90.700000</td>\n",
       "      <td>1.000000</td>\n",
       "    </tr>\n",
       "    <tr>\n",
       "      <th>max</th>\n",
       "      <td>99.000000</td>\n",
       "      <td>100.000000</td>\n",
       "      <td>100.000000</td>\n",
       "      <td>100.000000</td>\n",
       "      <td>100.000000</td>\n",
       "      <td>100.000000</td>\n",
       "      <td>100.000000</td>\n",
       "      <td>96.000000</td>\n",
       "      <td>1.000000</td>\n",
       "    </tr>\n",
       "  </tbody>\n",
       "</table>\n",
       "</div>"
      ],
      "text/plain": [
       "          Examen          P1          P2          P3          P4  \\\n",
       "count  54.000000   54.000000   54.000000   54.000000   54.000000   \n",
       "mean   73.925926   79.962963   85.981481   76.055556   82.796296   \n",
       "std    25.443872   32.703911   22.349278   28.317883   24.353822   \n",
       "min     0.000000    0.000000    0.000000    0.000000    0.000000   \n",
       "25%    75.250000   80.000000   82.000000   78.000000   85.000000   \n",
       "50%    81.000000   95.000000   92.000000   80.000000   90.000000   \n",
       "75%    88.000000  100.000000   97.750000   90.000000   93.750000   \n",
       "90%    92.000000  100.000000  100.000000  100.000000   99.100000   \n",
       "max    99.000000  100.000000  100.000000  100.000000  100.000000   \n",
       "\n",
       "       Presentacion Proyecto  Proyecto escrito y codigo  Calificación final  \\\n",
       "count              54.000000                  54.000000           54.000000   \n",
       "mean               82.388889                  81.851852           76.259259   \n",
       "std                30.059951                  33.363864           25.728030   \n",
       "min                 0.000000                   0.000000            0.000000   \n",
       "25%                85.000000                  88.000000           78.750000   \n",
       "50%                92.000000                 100.000000           85.000000   \n",
       "75%                98.750000                 100.000000           88.000000   \n",
       "90%               100.000000                 100.000000           90.700000   \n",
       "max               100.000000                 100.000000           96.000000   \n",
       "\n",
       "            Paso  \n",
       "count  54.000000  \n",
       "mean    0.740741  \n",
       "std     0.442343  \n",
       "min     0.000000  \n",
       "25%     0.250000  \n",
       "50%     1.000000  \n",
       "75%     1.000000  \n",
       "90%     1.000000  \n",
       "max     1.000000  "
      ]
     },
     "execution_count": 23,
     "metadata": {},
     "output_type": "execute_result"
    }
   ],
   "source": [
    "df.describe(percentiles = [0.25,0.5,0.75,0.9])"
   ]
  },
  {
   "cell_type": "code",
   "execution_count": 5,
   "id": "c5b2a289",
   "metadata": {},
   "outputs": [
    {
     "name": "stdout",
     "output_type": "stream",
     "text": [
      "<class 'pandas.core.frame.DataFrame'>\n",
      "RangeIndex: 54 entries, 0 to 53\n",
      "Data columns (total 11 columns):\n",
      " #   Column                     Non-Null Count  Dtype  \n",
      "---  ------                     --------------  -----  \n",
      " 0   Correo                     54 non-null     object \n",
      " 1   Apellido                   54 non-null     object \n",
      " 2   Nombre                     54 non-null     object \n",
      " 3   Examen                     49 non-null     float64\n",
      " 4   P1                         47 non-null     float64\n",
      " 5   P2                         51 non-null     float64\n",
      " 6   P3                         48 non-null     float64\n",
      " 7   P4                         50 non-null     float64\n",
      " 8   Presentacion Proyecto      48 non-null     float64\n",
      " 9   Proyecto escrito y codigo  47 non-null     float64\n",
      " 10  Calificación final         49 non-null     float64\n",
      "dtypes: float64(8), object(3)\n",
      "memory usage: 4.8+ KB\n"
     ]
    }
   ],
   "source": [
    "df.info()"
   ]
  },
  {
   "cell_type": "code",
   "execution_count": 6,
   "id": "b2b47922",
   "metadata": {},
   "outputs": [
    {
     "data": {
      "text/plain": [
       "Correo                       False\n",
       "Apellido                     False\n",
       "Nombre                       False\n",
       "Examen                        True\n",
       "P1                            True\n",
       "P2                            True\n",
       "P3                            True\n",
       "P4                            True\n",
       "Presentacion Proyecto         True\n",
       "Proyecto escrito y codigo     True\n",
       "Calificación final            True\n",
       "dtype: bool"
      ]
     },
     "execution_count": 6,
     "metadata": {},
     "output_type": "execute_result"
    }
   ],
   "source": [
    "df.isnull().any()"
   ]
  },
  {
   "cell_type": "code",
   "execution_count": 7,
   "id": "8417ce5a",
   "metadata": {},
   "outputs": [
    {
     "data": {
      "text/plain": [
       "Correo                       False\n",
       "Apellido                     False\n",
       "Nombre                       False\n",
       "Examen                       False\n",
       "P1                           False\n",
       "P2                           False\n",
       "P3                           False\n",
       "P4                           False\n",
       "Presentacion Proyecto        False\n",
       "Proyecto escrito y codigo    False\n",
       "Calificación final           False\n",
       "dtype: bool"
      ]
     },
     "execution_count": 7,
     "metadata": {},
     "output_type": "execute_result"
    }
   ],
   "source": [
    "df=df.fillna(0)\n",
    "df.isnull().any()"
   ]
  },
  {
   "cell_type": "code",
   "execution_count": 8,
   "id": "596b0b3d",
   "metadata": {},
   "outputs": [],
   "source": [
    "df[\"Paso\"]=np.nan\n",
    "df.loc[df[\"Calificación final\"]>=80,\"Paso\"]=1\n",
    "df.loc[df[\"Calificación final\"]<80,\"Paso\"]=0"
   ]
  },
  {
   "cell_type": "code",
   "execution_count": 9,
   "id": "0f38e472",
   "metadata": {},
   "outputs": [
    {
     "data": {
      "text/html": [
       "<div>\n",
       "<style scoped>\n",
       "    .dataframe tbody tr th:only-of-type {\n",
       "        vertical-align: middle;\n",
       "    }\n",
       "\n",
       "    .dataframe tbody tr th {\n",
       "        vertical-align: top;\n",
       "    }\n",
       "\n",
       "    .dataframe thead th {\n",
       "        text-align: right;\n",
       "    }\n",
       "</style>\n",
       "<table border=\"1\" class=\"dataframe\">\n",
       "  <thead>\n",
       "    <tr style=\"text-align: right;\">\n",
       "      <th></th>\n",
       "      <th>Correo</th>\n",
       "      <th>Apellido</th>\n",
       "      <th>Nombre</th>\n",
       "      <th>Examen</th>\n",
       "      <th>P1</th>\n",
       "      <th>P2</th>\n",
       "      <th>P3</th>\n",
       "      <th>P4</th>\n",
       "      <th>Presentacion Proyecto</th>\n",
       "      <th>Proyecto escrito y codigo</th>\n",
       "      <th>Calificación final</th>\n",
       "      <th>Paso</th>\n",
       "    </tr>\n",
       "  </thead>\n",
       "  <tbody>\n",
       "    <tr>\n",
       "      <th>0</th>\n",
       "      <td>abramhz@gmail.com</td>\n",
       "      <td>Hernández</td>\n",
       "      <td>Abraham</td>\n",
       "      <td>76.0</td>\n",
       "      <td>90.0</td>\n",
       "      <td>80.0</td>\n",
       "      <td>80.0</td>\n",
       "      <td>90.0</td>\n",
       "      <td>97.0</td>\n",
       "      <td>100.0</td>\n",
       "      <td>84.0</td>\n",
       "      <td>1.0</td>\n",
       "    </tr>\n",
       "    <tr>\n",
       "      <th>1</th>\n",
       "      <td>aleesquiviasj@gmail.com</td>\n",
       "      <td>Jiménez</td>\n",
       "      <td>Alejandra Guadalupe</td>\n",
       "      <td>88.0</td>\n",
       "      <td>100.0</td>\n",
       "      <td>92.0</td>\n",
       "      <td>78.0</td>\n",
       "      <td>85.0</td>\n",
       "      <td>100.0</td>\n",
       "      <td>100.0</td>\n",
       "      <td>89.0</td>\n",
       "      <td>1.0</td>\n",
       "    </tr>\n",
       "    <tr>\n",
       "      <th>2</th>\n",
       "      <td>a.mitra2311@gmail.com</td>\n",
       "      <td>Mitra</td>\n",
       "      <td>Alejandro</td>\n",
       "      <td>78.0</td>\n",
       "      <td>82.0</td>\n",
       "      <td>78.0</td>\n",
       "      <td>0.0</td>\n",
       "      <td>82.0</td>\n",
       "      <td>99.0</td>\n",
       "      <td>100.0</td>\n",
       "      <td>75.0</td>\n",
       "      <td>0.0</td>\n",
       "    </tr>\n",
       "    <tr>\n",
       "      <th>3</th>\n",
       "      <td>aeabernalinte@gmail.com</td>\n",
       "      <td>Apanco</td>\n",
       "      <td>Alexis Eduardo</td>\n",
       "      <td>71.0</td>\n",
       "      <td>92.0</td>\n",
       "      <td>95.0</td>\n",
       "      <td>75.0</td>\n",
       "      <td>85.0</td>\n",
       "      <td>100.0</td>\n",
       "      <td>100.0</td>\n",
       "      <td>84.0</td>\n",
       "      <td>1.0</td>\n",
       "    </tr>\n",
       "    <tr>\n",
       "      <th>4</th>\n",
       "      <td>aerzk8@gmail.com</td>\n",
       "      <td>Español</td>\n",
       "      <td>Antonio</td>\n",
       "      <td>79.0</td>\n",
       "      <td>100.0</td>\n",
       "      <td>100.0</td>\n",
       "      <td>88.0</td>\n",
       "      <td>100.0</td>\n",
       "      <td>92.0</td>\n",
       "      <td>90.0</td>\n",
       "      <td>88.0</td>\n",
       "      <td>1.0</td>\n",
       "    </tr>\n",
       "    <tr>\n",
       "      <th>5</th>\n",
       "      <td>aurarodriguez1968@gmail.com</td>\n",
       "      <td>Rodríguez</td>\n",
       "      <td>Aura Berenice</td>\n",
       "      <td>83.0</td>\n",
       "      <td>95.0</td>\n",
       "      <td>97.0</td>\n",
       "      <td>78.0</td>\n",
       "      <td>90.0</td>\n",
       "      <td>100.0</td>\n",
       "      <td>60.0</td>\n",
       "      <td>83.0</td>\n",
       "      <td>1.0</td>\n",
       "    </tr>\n",
       "    <tr>\n",
       "      <th>6</th>\n",
       "      <td>wname666@gmail.com</td>\n",
       "      <td>Galindo</td>\n",
       "      <td>Bernardo Antonio</td>\n",
       "      <td>95.0</td>\n",
       "      <td>100.0</td>\n",
       "      <td>95.0</td>\n",
       "      <td>85.0</td>\n",
       "      <td>80.0</td>\n",
       "      <td>89.0</td>\n",
       "      <td>90.0</td>\n",
       "      <td>89.0</td>\n",
       "      <td>1.0</td>\n",
       "    </tr>\n",
       "    <tr>\n",
       "      <th>7</th>\n",
       "      <td>deku.momentum@gmail.com</td>\n",
       "      <td>Rodríguez</td>\n",
       "      <td>Carlos Bruno</td>\n",
       "      <td>76.0</td>\n",
       "      <td>92.0</td>\n",
       "      <td>100.0</td>\n",
       "      <td>95.0</td>\n",
       "      <td>97.0</td>\n",
       "      <td>89.0</td>\n",
       "      <td>100.0</td>\n",
       "      <td>88.0</td>\n",
       "      <td>1.0</td>\n",
       "    </tr>\n",
       "    <tr>\n",
       "      <th>8</th>\n",
       "      <td>act.noriega98@gmail.com</td>\n",
       "      <td>Noriega</td>\n",
       "      <td>Carlos Alberto</td>\n",
       "      <td>81.0</td>\n",
       "      <td>100.0</td>\n",
       "      <td>100.0</td>\n",
       "      <td>100.0</td>\n",
       "      <td>95.0</td>\n",
       "      <td>97.0</td>\n",
       "      <td>100.0</td>\n",
       "      <td>91.0</td>\n",
       "      <td>1.0</td>\n",
       "    </tr>\n",
       "    <tr>\n",
       "      <th>9</th>\n",
       "      <td>caroaguilarmo@gmail.com</td>\n",
       "      <td>Aguilar Moreira</td>\n",
       "      <td>Carolina Berenice</td>\n",
       "      <td>0.0</td>\n",
       "      <td>92.0</td>\n",
       "      <td>82.0</td>\n",
       "      <td>80.0</td>\n",
       "      <td>0.0</td>\n",
       "      <td>0.0</td>\n",
       "      <td>0.0</td>\n",
       "      <td>0.0</td>\n",
       "      <td>0.0</td>\n",
       "    </tr>\n",
       "    <tr>\n",
       "      <th>10</th>\n",
       "      <td>csr.astro@gmail.com</td>\n",
       "      <td>Villarreal</td>\n",
       "      <td>César Augusto</td>\n",
       "      <td>62.0</td>\n",
       "      <td>70.0</td>\n",
       "      <td>95.0</td>\n",
       "      <td>88.0</td>\n",
       "      <td>85.0</td>\n",
       "      <td>84.0</td>\n",
       "      <td>88.0</td>\n",
       "      <td>77.0</td>\n",
       "      <td>0.0</td>\n",
       "    </tr>\n",
       "    <tr>\n",
       "      <th>11</th>\n",
       "      <td>actuario.cmr94@gmail.com</td>\n",
       "      <td>Mata</td>\n",
       "      <td>Cristopher Ismael</td>\n",
       "      <td>88.0</td>\n",
       "      <td>60.0</td>\n",
       "      <td>88.0</td>\n",
       "      <td>80.0</td>\n",
       "      <td>90.0</td>\n",
       "      <td>90.0</td>\n",
       "      <td>100.0</td>\n",
       "      <td>84.0</td>\n",
       "      <td>1.0</td>\n",
       "    </tr>\n",
       "    <tr>\n",
       "      <th>12</th>\n",
       "      <td>dadego@gmail.com</td>\n",
       "      <td>Degollado</td>\n",
       "      <td>Daniel</td>\n",
       "      <td>67.0</td>\n",
       "      <td>100.0</td>\n",
       "      <td>92.0</td>\n",
       "      <td>80.0</td>\n",
       "      <td>80.0</td>\n",
       "      <td>90.0</td>\n",
       "      <td>0.0</td>\n",
       "      <td>67.0</td>\n",
       "      <td>0.0</td>\n",
       "    </tr>\n",
       "    <tr>\n",
       "      <th>13</th>\n",
       "      <td>vg.danieljda@gmail.com</td>\n",
       "      <td>Vega</td>\n",
       "      <td>Francisco Daniel</td>\n",
       "      <td>81.0</td>\n",
       "      <td>70.0</td>\n",
       "      <td>82.0</td>\n",
       "      <td>78.0</td>\n",
       "      <td>95.0</td>\n",
       "      <td>80.0</td>\n",
       "      <td>100.0</td>\n",
       "      <td>81.0</td>\n",
       "      <td>1.0</td>\n",
       "    </tr>\n",
       "    <tr>\n",
       "      <th>14</th>\n",
       "      <td>danesquivelg@gmail.com</td>\n",
       "      <td>Esquivel</td>\n",
       "      <td>Daniela</td>\n",
       "      <td>88.0</td>\n",
       "      <td>100.0</td>\n",
       "      <td>82.0</td>\n",
       "      <td>80.0</td>\n",
       "      <td>90.0</td>\n",
       "      <td>97.0</td>\n",
       "      <td>100.0</td>\n",
       "      <td>88.0</td>\n",
       "      <td>1.0</td>\n",
       "    </tr>\n",
       "    <tr>\n",
       "      <th>15</th>\n",
       "      <td>actdavidnolas@gmail.com</td>\n",
       "      <td>Nolasco</td>\n",
       "      <td>David</td>\n",
       "      <td>98.0</td>\n",
       "      <td>100.0</td>\n",
       "      <td>100.0</td>\n",
       "      <td>100.0</td>\n",
       "      <td>95.0</td>\n",
       "      <td>100.0</td>\n",
       "      <td>100.0</td>\n",
       "      <td>96.0</td>\n",
       "      <td>1.0</td>\n",
       "    </tr>\n",
       "    <tr>\n",
       "      <th>16</th>\n",
       "      <td>rayonaguila2112@gmail.com</td>\n",
       "      <td>Rayón</td>\n",
       "      <td>David Alberto</td>\n",
       "      <td>75.0</td>\n",
       "      <td>100.0</td>\n",
       "      <td>82.0</td>\n",
       "      <td>80.0</td>\n",
       "      <td>80.0</td>\n",
       "      <td>95.0</td>\n",
       "      <td>100.0</td>\n",
       "      <td>84.0</td>\n",
       "      <td>1.0</td>\n",
       "    </tr>\n",
       "    <tr>\n",
       "      <th>17</th>\n",
       "      <td>eroldanfranco@gmail.com</td>\n",
       "      <td>Roldan</td>\n",
       "      <td>Edgar Gerardo</td>\n",
       "      <td>52.0</td>\n",
       "      <td>80.0</td>\n",
       "      <td>80.0</td>\n",
       "      <td>80.0</td>\n",
       "      <td>80.0</td>\n",
       "      <td>80.0</td>\n",
       "      <td>70.0</td>\n",
       "      <td>69.0</td>\n",
       "      <td>0.0</td>\n",
       "    </tr>\n",
       "    <tr>\n",
       "      <th>18</th>\n",
       "      <td>gombeli@gmail.com</td>\n",
       "      <td>Jacobo</td>\n",
       "      <td>Erika Camila</td>\n",
       "      <td>84.0</td>\n",
       "      <td>75.0</td>\n",
       "      <td>92.0</td>\n",
       "      <td>80.0</td>\n",
       "      <td>85.0</td>\n",
       "      <td>94.0</td>\n",
       "      <td>95.0</td>\n",
       "      <td>84.0</td>\n",
       "      <td>1.0</td>\n",
       "    </tr>\n",
       "    <tr>\n",
       "      <th>19</th>\n",
       "      <td>esperanzacolmenares0@gmail.com</td>\n",
       "      <td>Colmenares</td>\n",
       "      <td>Esperanza</td>\n",
       "      <td>76.0</td>\n",
       "      <td>0.0</td>\n",
       "      <td>95.0</td>\n",
       "      <td>100.0</td>\n",
       "      <td>85.0</td>\n",
       "      <td>82.0</td>\n",
       "      <td>60.0</td>\n",
       "      <td>70.0</td>\n",
       "      <td>0.0</td>\n",
       "    </tr>\n",
       "    <tr>\n",
       "      <th>20</th>\n",
       "      <td>evedv166@gmail.com</td>\n",
       "      <td>Díaz</td>\n",
       "      <td>Flor Eveling</td>\n",
       "      <td>82.0</td>\n",
       "      <td>100.0</td>\n",
       "      <td>98.0</td>\n",
       "      <td>100.0</td>\n",
       "      <td>90.0</td>\n",
       "      <td>100.0</td>\n",
       "      <td>75.0</td>\n",
       "      <td>88.0</td>\n",
       "      <td>1.0</td>\n",
       "    </tr>\n",
       "    <tr>\n",
       "      <th>21</th>\n",
       "      <td>fabhl003@gmail.com</td>\n",
       "      <td>Herrera</td>\n",
       "      <td>Fabian</td>\n",
       "      <td>88.0</td>\n",
       "      <td>92.0</td>\n",
       "      <td>100.0</td>\n",
       "      <td>95.0</td>\n",
       "      <td>100.0</td>\n",
       "      <td>92.0</td>\n",
       "      <td>90.0</td>\n",
       "      <td>90.0</td>\n",
       "      <td>1.0</td>\n",
       "    </tr>\n",
       "    <tr>\n",
       "      <th>22</th>\n",
       "      <td>gstremplermx@gmail.com</td>\n",
       "      <td>Strempler Chávez</td>\n",
       "      <td>Germán</td>\n",
       "      <td>0.0</td>\n",
       "      <td>0.0</td>\n",
       "      <td>0.0</td>\n",
       "      <td>0.0</td>\n",
       "      <td>0.0</td>\n",
       "      <td>0.0</td>\n",
       "      <td>0.0</td>\n",
       "      <td>0.0</td>\n",
       "      <td>0.0</td>\n",
       "    </tr>\n",
       "    <tr>\n",
       "      <th>23</th>\n",
       "      <td>saintyxer@gmail.com</td>\n",
       "      <td>Rodríguez</td>\n",
       "      <td>Gustavo</td>\n",
       "      <td>92.0</td>\n",
       "      <td>82.0</td>\n",
       "      <td>92.0</td>\n",
       "      <td>100.0</td>\n",
       "      <td>90.0</td>\n",
       "      <td>97.0</td>\n",
       "      <td>100.0</td>\n",
       "      <td>91.0</td>\n",
       "      <td>1.0</td>\n",
       "    </tr>\n",
       "    <tr>\n",
       "      <th>24</th>\n",
       "      <td>hugbe.1197@gmail.com</td>\n",
       "      <td>Benítez</td>\n",
       "      <td>Hugo</td>\n",
       "      <td>85.0</td>\n",
       "      <td>100.0</td>\n",
       "      <td>78.0</td>\n",
       "      <td>75.0</td>\n",
       "      <td>80.0</td>\n",
       "      <td>100.0</td>\n",
       "      <td>100.0</td>\n",
       "      <td>86.0</td>\n",
       "      <td>1.0</td>\n",
       "    </tr>\n",
       "    <tr>\n",
       "      <th>25</th>\n",
       "      <td>HectorIvanMZ@gmail.com</td>\n",
       "      <td>Martinez</td>\n",
       "      <td>Héctor Iván</td>\n",
       "      <td>79.0</td>\n",
       "      <td>95.0</td>\n",
       "      <td>90.0</td>\n",
       "      <td>80.0</td>\n",
       "      <td>85.0</td>\n",
       "      <td>88.0</td>\n",
       "      <td>85.0</td>\n",
       "      <td>83.0</td>\n",
       "      <td>1.0</td>\n",
       "    </tr>\n",
       "    <tr>\n",
       "      <th>26</th>\n",
       "      <td>lemasi2396@gmail.com</td>\n",
       "      <td>Padilla</td>\n",
       "      <td>Ismael</td>\n",
       "      <td>85.0</td>\n",
       "      <td>100.0</td>\n",
       "      <td>88.0</td>\n",
       "      <td>90.0</td>\n",
       "      <td>90.0</td>\n",
       "      <td>97.0</td>\n",
       "      <td>100.0</td>\n",
       "      <td>89.0</td>\n",
       "      <td>1.0</td>\n",
       "    </tr>\n",
       "    <tr>\n",
       "      <th>27</th>\n",
       "      <td>Blas.Estudillo@gmail.com</td>\n",
       "      <td>Blas</td>\n",
       "      <td>Iván</td>\n",
       "      <td>79.0</td>\n",
       "      <td>100.0</td>\n",
       "      <td>95.0</td>\n",
       "      <td>80.0</td>\n",
       "      <td>85.0</td>\n",
       "      <td>92.0</td>\n",
       "      <td>100.0</td>\n",
       "      <td>86.0</td>\n",
       "      <td>1.0</td>\n",
       "    </tr>\n",
       "    <tr>\n",
       "      <th>28</th>\n",
       "      <td>jaimejesusmacedo97@gmail.com</td>\n",
       "      <td>Macedo</td>\n",
       "      <td>Jaime Jesús</td>\n",
       "      <td>79.0</td>\n",
       "      <td>0.0</td>\n",
       "      <td>98.0</td>\n",
       "      <td>80.0</td>\n",
       "      <td>90.0</td>\n",
       "      <td>80.0</td>\n",
       "      <td>95.0</td>\n",
       "      <td>75.0</td>\n",
       "      <td>0.0</td>\n",
       "    </tr>\n",
       "    <tr>\n",
       "      <th>29</th>\n",
       "      <td>ja.he.he.1994@gmail.com</td>\n",
       "      <td>Hernandez</td>\n",
       "      <td>Javier</td>\n",
       "      <td>0.0</td>\n",
       "      <td>0.0</td>\n",
       "      <td>0.0</td>\n",
       "      <td>0.0</td>\n",
       "      <td>0.0</td>\n",
       "      <td>0.0</td>\n",
       "      <td>0.0</td>\n",
       "      <td>0.0</td>\n",
       "      <td>0.0</td>\n",
       "    </tr>\n",
       "    <tr>\n",
       "      <th>30</th>\n",
       "      <td>javierjhairtlr@gmail.com</td>\n",
       "      <td>López</td>\n",
       "      <td>Javier Jhairt</td>\n",
       "      <td>76.0</td>\n",
       "      <td>97.0</td>\n",
       "      <td>92.0</td>\n",
       "      <td>85.0</td>\n",
       "      <td>97.0</td>\n",
       "      <td>100.0</td>\n",
       "      <td>94.0</td>\n",
       "      <td>87.0</td>\n",
       "      <td>1.0</td>\n",
       "    </tr>\n",
       "    <tr>\n",
       "      <th>31</th>\n",
       "      <td>jesus.nicolas.098@gmail.com</td>\n",
       "      <td>Nicolas</td>\n",
       "      <td>Jesus</td>\n",
       "      <td>73.0</td>\n",
       "      <td>97.0</td>\n",
       "      <td>82.0</td>\n",
       "      <td>75.0</td>\n",
       "      <td>100.0</td>\n",
       "      <td>88.0</td>\n",
       "      <td>100.0</td>\n",
       "      <td>83.0</td>\n",
       "      <td>1.0</td>\n",
       "    </tr>\n",
       "    <tr>\n",
       "      <th>32</th>\n",
       "      <td>jesusarredondo0498@gmail.com</td>\n",
       "      <td>Arredondo</td>\n",
       "      <td>Jesús Antonio</td>\n",
       "      <td>99.0</td>\n",
       "      <td>100.0</td>\n",
       "      <td>92.0</td>\n",
       "      <td>100.0</td>\n",
       "      <td>85.0</td>\n",
       "      <td>100.0</td>\n",
       "      <td>100.0</td>\n",
       "      <td>94.0</td>\n",
       "      <td>1.0</td>\n",
       "    </tr>\n",
       "    <tr>\n",
       "      <th>33</th>\n",
       "      <td>jorge.soa7847@gmail.com</td>\n",
       "      <td>Castro Montes</td>\n",
       "      <td>Jorge</td>\n",
       "      <td>0.0</td>\n",
       "      <td>0.0</td>\n",
       "      <td>100.0</td>\n",
       "      <td>90.0</td>\n",
       "      <td>80.0</td>\n",
       "      <td>0.0</td>\n",
       "      <td>0.0</td>\n",
       "      <td>0.0</td>\n",
       "      <td>0.0</td>\n",
       "    </tr>\n",
       "    <tr>\n",
       "      <th>34</th>\n",
       "      <td>josemayaceron@gmail.com</td>\n",
       "      <td>Maya</td>\n",
       "      <td>José Armando</td>\n",
       "      <td>95.0</td>\n",
       "      <td>95.0</td>\n",
       "      <td>82.0</td>\n",
       "      <td>80.0</td>\n",
       "      <td>90.0</td>\n",
       "      <td>85.0</td>\n",
       "      <td>100.0</td>\n",
       "      <td>88.0</td>\n",
       "      <td>1.0</td>\n",
       "    </tr>\n",
       "    <tr>\n",
       "      <th>35</th>\n",
       "      <td>PacheUnam@gmail.com</td>\n",
       "      <td>Pacheco</td>\n",
       "      <td>José Ricardo</td>\n",
       "      <td>79.0</td>\n",
       "      <td>87.0</td>\n",
       "      <td>80.0</td>\n",
       "      <td>78.0</td>\n",
       "      <td>95.0</td>\n",
       "      <td>100.0</td>\n",
       "      <td>95.0</td>\n",
       "      <td>85.0</td>\n",
       "      <td>1.0</td>\n",
       "    </tr>\n",
       "    <tr>\n",
       "      <th>36</th>\n",
       "      <td>juanjav98@gmail.com</td>\n",
       "      <td>Pinette</td>\n",
       "      <td>Juan Javier</td>\n",
       "      <td>88.0</td>\n",
       "      <td>85.0</td>\n",
       "      <td>78.0</td>\n",
       "      <td>85.0</td>\n",
       "      <td>85.0</td>\n",
       "      <td>100.0</td>\n",
       "      <td>88.0</td>\n",
       "      <td>85.0</td>\n",
       "      <td>1.0</td>\n",
       "    </tr>\n",
       "    <tr>\n",
       "      <th>37</th>\n",
       "      <td>juanpy_94@hotmail.com</td>\n",
       "      <td>Negrete</td>\n",
       "      <td>Juan Pablo</td>\n",
       "      <td>81.0</td>\n",
       "      <td>80.0</td>\n",
       "      <td>92.0</td>\n",
       "      <td>90.0</td>\n",
       "      <td>90.0</td>\n",
       "      <td>98.0</td>\n",
       "      <td>100.0</td>\n",
       "      <td>87.0</td>\n",
       "      <td>1.0</td>\n",
       "    </tr>\n",
       "    <tr>\n",
       "      <th>38</th>\n",
       "      <td>lizbethlphernandez@gmail.com</td>\n",
       "      <td>Lopez</td>\n",
       "      <td>Lizbeth</td>\n",
       "      <td>86.0</td>\n",
       "      <td>100.0</td>\n",
       "      <td>95.0</td>\n",
       "      <td>0.0</td>\n",
       "      <td>100.0</td>\n",
       "      <td>87.0</td>\n",
       "      <td>100.0</td>\n",
       "      <td>81.0</td>\n",
       "      <td>1.0</td>\n",
       "    </tr>\n",
       "    <tr>\n",
       "      <th>39</th>\n",
       "      <td>luis.angel.calen@gmail.com</td>\n",
       "      <td>Calderón</td>\n",
       "      <td>Luis Angel</td>\n",
       "      <td>88.0</td>\n",
       "      <td>70.0</td>\n",
       "      <td>97.0</td>\n",
       "      <td>80.0</td>\n",
       "      <td>90.0</td>\n",
       "      <td>92.0</td>\n",
       "      <td>100.0</td>\n",
       "      <td>86.0</td>\n",
       "      <td>1.0</td>\n",
       "    </tr>\n",
       "    <tr>\n",
       "      <th>40</th>\n",
       "      <td>castillo.luisf94@gmail.com</td>\n",
       "      <td>Castillo</td>\n",
       "      <td>Luis Fernando</td>\n",
       "      <td>64.0</td>\n",
       "      <td>0.0</td>\n",
       "      <td>90.0</td>\n",
       "      <td>80.0</td>\n",
       "      <td>90.0</td>\n",
       "      <td>80.0</td>\n",
       "      <td>92.0</td>\n",
       "      <td>70.0</td>\n",
       "      <td>0.0</td>\n",
       "    </tr>\n",
       "    <tr>\n",
       "      <th>41</th>\n",
       "      <td>mely.niiw@gmail.com</td>\n",
       "      <td>Miranda</td>\n",
       "      <td>Melissa Sofía</td>\n",
       "      <td>88.0</td>\n",
       "      <td>100.0</td>\n",
       "      <td>98.0</td>\n",
       "      <td>100.0</td>\n",
       "      <td>95.0</td>\n",
       "      <td>100.0</td>\n",
       "      <td>100.0</td>\n",
       "      <td>93.0</td>\n",
       "      <td>1.0</td>\n",
       "    </tr>\n",
       "    <tr>\n",
       "      <th>42</th>\n",
       "      <td>MiltonGonzales81@gmail.com</td>\n",
       "      <td>Gonzalez</td>\n",
       "      <td>Milton Jair</td>\n",
       "      <td>77.0</td>\n",
       "      <td>100.0</td>\n",
       "      <td>100.0</td>\n",
       "      <td>88.0</td>\n",
       "      <td>90.0</td>\n",
       "      <td>90.0</td>\n",
       "      <td>95.0</td>\n",
       "      <td>87.0</td>\n",
       "      <td>1.0</td>\n",
       "    </tr>\n",
       "    <tr>\n",
       "      <th>43</th>\n",
       "      <td>nnashelly@gmail.com</td>\n",
       "      <td>Sánchez</td>\n",
       "      <td>Nashelly Natasha</td>\n",
       "      <td>85.0</td>\n",
       "      <td>100.0</td>\n",
       "      <td>92.0</td>\n",
       "      <td>100.0</td>\n",
       "      <td>90.0</td>\n",
       "      <td>88.0</td>\n",
       "      <td>100.0</td>\n",
       "      <td>89.0</td>\n",
       "      <td>1.0</td>\n",
       "    </tr>\n",
       "    <tr>\n",
       "      <th>44</th>\n",
       "      <td>raet94@gmail.com</td>\n",
       "      <td>Espínola</td>\n",
       "      <td>Rodrigo Atzel</td>\n",
       "      <td>92.0</td>\n",
       "      <td>100.0</td>\n",
       "      <td>100.0</td>\n",
       "      <td>80.0</td>\n",
       "      <td>95.0</td>\n",
       "      <td>100.0</td>\n",
       "      <td>100.0</td>\n",
       "      <td>93.0</td>\n",
       "      <td>1.0</td>\n",
       "    </tr>\n",
       "    <tr>\n",
       "      <th>45</th>\n",
       "      <td>rhr.ruth@gmail.com</td>\n",
       "      <td>Hernández</td>\n",
       "      <td>Ruth</td>\n",
       "      <td>81.0</td>\n",
       "      <td>100.0</td>\n",
       "      <td>80.0</td>\n",
       "      <td>80.0</td>\n",
       "      <td>85.0</td>\n",
       "      <td>85.0</td>\n",
       "      <td>100.0</td>\n",
       "      <td>84.0</td>\n",
       "      <td>1.0</td>\n",
       "    </tr>\n",
       "    <tr>\n",
       "      <th>46</th>\n",
       "      <td>salvatoregarcia135@gmail.com</td>\n",
       "      <td>Garcia</td>\n",
       "      <td>Salvador</td>\n",
       "      <td>0.0</td>\n",
       "      <td>0.0</td>\n",
       "      <td>0.0</td>\n",
       "      <td>0.0</td>\n",
       "      <td>0.0</td>\n",
       "      <td>0.0</td>\n",
       "      <td>0.0</td>\n",
       "      <td>0.0</td>\n",
       "      <td>0.0</td>\n",
       "    </tr>\n",
       "    <tr>\n",
       "      <th>47</th>\n",
       "      <td>VargasMendozaSalvadorR@gmail.com</td>\n",
       "      <td>Vargas</td>\n",
       "      <td>Salvador Ramiro</td>\n",
       "      <td>83.0</td>\n",
       "      <td>100.0</td>\n",
       "      <td>100.0</td>\n",
       "      <td>80.0</td>\n",
       "      <td>85.0</td>\n",
       "      <td>99.0</td>\n",
       "      <td>100.0</td>\n",
       "      <td>89.0</td>\n",
       "      <td>1.0</td>\n",
       "    </tr>\n",
       "    <tr>\n",
       "      <th>48</th>\n",
       "      <td>samantharaquelcalzadatorres@gmail.com</td>\n",
       "      <td>Calzada</td>\n",
       "      <td>Samantha Raquel</td>\n",
       "      <td>86.0</td>\n",
       "      <td>95.0</td>\n",
       "      <td>90.0</td>\n",
       "      <td>95.0</td>\n",
       "      <td>85.0</td>\n",
       "      <td>98.0</td>\n",
       "      <td>100.0</td>\n",
       "      <td>90.0</td>\n",
       "      <td>1.0</td>\n",
       "    </tr>\n",
       "    <tr>\n",
       "      <th>49</th>\n",
       "      <td>sharissa.spm@gmail.com</td>\n",
       "      <td>Pulido</td>\n",
       "      <td>Sharissa</td>\n",
       "      <td>65.0</td>\n",
       "      <td>100.0</td>\n",
       "      <td>100.0</td>\n",
       "      <td>100.0</td>\n",
       "      <td>90.0</td>\n",
       "      <td>95.0</td>\n",
       "      <td>100.0</td>\n",
       "      <td>87.0</td>\n",
       "      <td>1.0</td>\n",
       "    </tr>\n",
       "    <tr>\n",
       "      <th>50</th>\n",
       "      <td>victorcureno12@gmail.com</td>\n",
       "      <td>Cureno</td>\n",
       "      <td>Victor</td>\n",
       "      <td>88.0</td>\n",
       "      <td>90.0</td>\n",
       "      <td>80.0</td>\n",
       "      <td>80.0</td>\n",
       "      <td>100.0</td>\n",
       "      <td>90.0</td>\n",
       "      <td>100.0</td>\n",
       "      <td>87.0</td>\n",
       "      <td>1.0</td>\n",
       "    </tr>\n",
       "    <tr>\n",
       "      <th>51</th>\n",
       "      <td>rohtkiv@gmail.com</td>\n",
       "      <td>Tomás</td>\n",
       "      <td>Víctor Manuel</td>\n",
       "      <td>84.0</td>\n",
       "      <td>95.0</td>\n",
       "      <td>80.0</td>\n",
       "      <td>78.0</td>\n",
       "      <td>100.0</td>\n",
       "      <td>88.0</td>\n",
       "      <td>88.0</td>\n",
       "      <td>84.0</td>\n",
       "      <td>1.0</td>\n",
       "    </tr>\n",
       "    <tr>\n",
       "      <th>52</th>\n",
       "      <td>yimirh.86@gmail.com</td>\n",
       "      <td>Ramírez</td>\n",
       "      <td>Yimel Yatziri</td>\n",
       "      <td>92.0</td>\n",
       "      <td>90.0</td>\n",
       "      <td>97.0</td>\n",
       "      <td>0.0</td>\n",
       "      <td>85.0</td>\n",
       "      <td>0.0</td>\n",
       "      <td>0.0</td>\n",
       "      <td>52.0</td>\n",
       "      <td>0.0</td>\n",
       "    </tr>\n",
       "    <tr>\n",
       "      <th>53</th>\n",
       "      <td>escarleth.silva07@gmail.com</td>\n",
       "      <td>Silva</td>\n",
       "      <td>Escarleth Marlenn</td>\n",
       "      <td>75.0</td>\n",
       "      <td>70.0</td>\n",
       "      <td>100.0</td>\n",
       "      <td>78.0</td>\n",
       "      <td>90.0</td>\n",
       "      <td>85.0</td>\n",
       "      <td>70.0</td>\n",
       "      <td>78.0</td>\n",
       "      <td>0.0</td>\n",
       "    </tr>\n",
       "  </tbody>\n",
       "</table>\n",
       "</div>"
      ],
      "text/plain": [
       "                                   Correo          Apellido  \\\n",
       "0                       abramhz@gmail.com         Hernández   \n",
       "1                 aleesquiviasj@gmail.com           Jiménez   \n",
       "2                   a.mitra2311@gmail.com             Mitra   \n",
       "3                 aeabernalinte@gmail.com            Apanco   \n",
       "4                        aerzk8@gmail.com           Español   \n",
       "5             aurarodriguez1968@gmail.com         Rodríguez   \n",
       "6                      wname666@gmail.com           Galindo   \n",
       "7                 deku.momentum@gmail.com         Rodríguez   \n",
       "8                 act.noriega98@gmail.com           Noriega   \n",
       "9                 caroaguilarmo@gmail.com   Aguilar Moreira   \n",
       "10                    csr.astro@gmail.com        Villarreal   \n",
       "11               actuario.cmr94@gmail.com              Mata   \n",
       "12                       dadego@gmail.com         Degollado   \n",
       "13                 vg.danieljda@gmail.com              Vega   \n",
       "14                 danesquivelg@gmail.com          Esquivel   \n",
       "15                actdavidnolas@gmail.com           Nolasco   \n",
       "16              rayonaguila2112@gmail.com             Rayón   \n",
       "17                eroldanfranco@gmail.com            Roldan   \n",
       "18                      gombeli@gmail.com            Jacobo   \n",
       "19         esperanzacolmenares0@gmail.com       Colmenares    \n",
       "20                     evedv166@gmail.com              Díaz   \n",
       "21                     fabhl003@gmail.com           Herrera   \n",
       "22                 gstremplermx@gmail.com  Strempler Chávez   \n",
       "23                    saintyxer@gmail.com         Rodríguez   \n",
       "24                   hugbe.1197@gmail.com           Benítez   \n",
       "25                 HectorIvanMZ@gmail.com          Martinez   \n",
       "26                   lemasi2396@gmail.com           Padilla   \n",
       "27               Blas.Estudillo@gmail.com              Blas   \n",
       "28           jaimejesusmacedo97@gmail.com           Macedo    \n",
       "29                ja.he.he.1994@gmail.com         Hernandez   \n",
       "30               javierjhairtlr@gmail.com            López    \n",
       "31            jesus.nicolas.098@gmail.com           Nicolas   \n",
       "32           jesusarredondo0498@gmail.com         Arredondo   \n",
       "33                jorge.soa7847@gmail.com     Castro Montes   \n",
       "34                josemayaceron@gmail.com              Maya   \n",
       "35                    PacheUnam@gmail.com           Pacheco   \n",
       "36                    juanjav98@gmail.com           Pinette   \n",
       "37                  juanpy_94@hotmail.com          Negrete    \n",
       "38           lizbethlphernandez@gmail.com             Lopez   \n",
       "39             luis.angel.calen@gmail.com          Calderón   \n",
       "40             castillo.luisf94@gmail.com          Castillo   \n",
       "41                    mely.niiw@gmail.com           Miranda   \n",
       "42             MiltonGonzales81@gmail.com          Gonzalez   \n",
       "43                    nnashelly@gmail.com          Sánchez    \n",
       "44                       raet94@gmail.com          Espínola   \n",
       "45                     rhr.ruth@gmail.com         Hernández   \n",
       "46           salvatoregarcia135@gmail.com            Garcia   \n",
       "47       VargasMendozaSalvadorR@gmail.com            Vargas   \n",
       "48  samantharaquelcalzadatorres@gmail.com           Calzada   \n",
       "49                 sharissa.spm@gmail.com            Pulido   \n",
       "50               victorcureno12@gmail.com            Cureno   \n",
       "51                      rohtkiv@gmail.com             Tomás   \n",
       "52                    yimirh.86@gmail.com           Ramírez   \n",
       "53            escarleth.silva07@gmail.com             Silva   \n",
       "\n",
       "                 Nombre  Examen     P1     P2     P3     P4  \\\n",
       "0               Abraham    76.0   90.0   80.0   80.0   90.0   \n",
       "1   Alejandra Guadalupe    88.0  100.0   92.0   78.0   85.0   \n",
       "2             Alejandro    78.0   82.0   78.0    0.0   82.0   \n",
       "3        Alexis Eduardo    71.0   92.0   95.0   75.0   85.0   \n",
       "4               Antonio    79.0  100.0  100.0   88.0  100.0   \n",
       "5         Aura Berenice    83.0   95.0   97.0   78.0   90.0   \n",
       "6      Bernardo Antonio    95.0  100.0   95.0   85.0   80.0   \n",
       "7          Carlos Bruno    76.0   92.0  100.0   95.0   97.0   \n",
       "8        Carlos Alberto    81.0  100.0  100.0  100.0   95.0   \n",
       "9     Carolina Berenice     0.0   92.0   82.0   80.0    0.0   \n",
       "10        César Augusto    62.0   70.0   95.0   88.0   85.0   \n",
       "11    Cristopher Ismael    88.0   60.0   88.0   80.0   90.0   \n",
       "12               Daniel    67.0  100.0   92.0   80.0   80.0   \n",
       "13     Francisco Daniel    81.0   70.0   82.0   78.0   95.0   \n",
       "14              Daniela    88.0  100.0   82.0   80.0   90.0   \n",
       "15                David    98.0  100.0  100.0  100.0   95.0   \n",
       "16        David Alberto    75.0  100.0   82.0   80.0   80.0   \n",
       "17        Edgar Gerardo    52.0   80.0   80.0   80.0   80.0   \n",
       "18         Erika Camila    84.0   75.0   92.0   80.0   85.0   \n",
       "19            Esperanza    76.0    0.0   95.0  100.0   85.0   \n",
       "20         Flor Eveling    82.0  100.0   98.0  100.0   90.0   \n",
       "21               Fabian    88.0   92.0  100.0   95.0  100.0   \n",
       "22               Germán     0.0    0.0    0.0    0.0    0.0   \n",
       "23              Gustavo    92.0   82.0   92.0  100.0   90.0   \n",
       "24                 Hugo    85.0  100.0   78.0   75.0   80.0   \n",
       "25          Héctor Iván    79.0   95.0   90.0   80.0   85.0   \n",
       "26               Ismael    85.0  100.0   88.0   90.0   90.0   \n",
       "27                 Iván    79.0  100.0   95.0   80.0   85.0   \n",
       "28         Jaime Jesús     79.0    0.0   98.0   80.0   90.0   \n",
       "29               Javier     0.0    0.0    0.0    0.0    0.0   \n",
       "30        Javier Jhairt    76.0   97.0   92.0   85.0   97.0   \n",
       "31                Jesus    73.0   97.0   82.0   75.0  100.0   \n",
       "32        Jesús Antonio    99.0  100.0   92.0  100.0   85.0   \n",
       "33                Jorge     0.0    0.0  100.0   90.0   80.0   \n",
       "34         José Armando    95.0   95.0   82.0   80.0   90.0   \n",
       "35         José Ricardo    79.0   87.0   80.0   78.0   95.0   \n",
       "36          Juan Javier    88.0   85.0   78.0   85.0   85.0   \n",
       "37           Juan Pablo    81.0   80.0   92.0   90.0   90.0   \n",
       "38              Lizbeth    86.0  100.0   95.0    0.0  100.0   \n",
       "39           Luis Angel    88.0   70.0   97.0   80.0   90.0   \n",
       "40        Luis Fernando    64.0    0.0   90.0   80.0   90.0   \n",
       "41        Melissa Sofía    88.0  100.0   98.0  100.0   95.0   \n",
       "42          Milton Jair    77.0  100.0  100.0   88.0   90.0   \n",
       "43     Nashelly Natasha    85.0  100.0   92.0  100.0   90.0   \n",
       "44        Rodrigo Atzel    92.0  100.0  100.0   80.0   95.0   \n",
       "45                 Ruth    81.0  100.0   80.0   80.0   85.0   \n",
       "46             Salvador     0.0    0.0    0.0    0.0    0.0   \n",
       "47      Salvador Ramiro    83.0  100.0  100.0   80.0   85.0   \n",
       "48      Samantha Raquel    86.0   95.0   90.0   95.0   85.0   \n",
       "49             Sharissa    65.0  100.0  100.0  100.0   90.0   \n",
       "50               Victor    88.0   90.0   80.0   80.0  100.0   \n",
       "51        Víctor Manuel    84.0   95.0   80.0   78.0  100.0   \n",
       "52        Yimel Yatziri    92.0   90.0   97.0    0.0   85.0   \n",
       "53    Escarleth Marlenn    75.0   70.0  100.0   78.0   90.0   \n",
       "\n",
       "    Presentacion Proyecto  Proyecto escrito y codigo  Calificación final  Paso  \n",
       "0                    97.0                      100.0                84.0   1.0  \n",
       "1                   100.0                      100.0                89.0   1.0  \n",
       "2                    99.0                      100.0                75.0   0.0  \n",
       "3                   100.0                      100.0                84.0   1.0  \n",
       "4                    92.0                       90.0                88.0   1.0  \n",
       "5                   100.0                       60.0                83.0   1.0  \n",
       "6                    89.0                       90.0                89.0   1.0  \n",
       "7                    89.0                      100.0                88.0   1.0  \n",
       "8                    97.0                      100.0                91.0   1.0  \n",
       "9                     0.0                        0.0                 0.0   0.0  \n",
       "10                   84.0                       88.0                77.0   0.0  \n",
       "11                   90.0                      100.0                84.0   1.0  \n",
       "12                   90.0                        0.0                67.0   0.0  \n",
       "13                   80.0                      100.0                81.0   1.0  \n",
       "14                   97.0                      100.0                88.0   1.0  \n",
       "15                  100.0                      100.0                96.0   1.0  \n",
       "16                   95.0                      100.0                84.0   1.0  \n",
       "17                   80.0                       70.0                69.0   0.0  \n",
       "18                   94.0                       95.0                84.0   1.0  \n",
       "19                   82.0                       60.0                70.0   0.0  \n",
       "20                  100.0                       75.0                88.0   1.0  \n",
       "21                   92.0                       90.0                90.0   1.0  \n",
       "22                    0.0                        0.0                 0.0   0.0  \n",
       "23                   97.0                      100.0                91.0   1.0  \n",
       "24                  100.0                      100.0                86.0   1.0  \n",
       "25                   88.0                       85.0                83.0   1.0  \n",
       "26                   97.0                      100.0                89.0   1.0  \n",
       "27                   92.0                      100.0                86.0   1.0  \n",
       "28                   80.0                       95.0                75.0   0.0  \n",
       "29                    0.0                        0.0                 0.0   0.0  \n",
       "30                  100.0                       94.0                87.0   1.0  \n",
       "31                   88.0                      100.0                83.0   1.0  \n",
       "32                  100.0                      100.0                94.0   1.0  \n",
       "33                    0.0                        0.0                 0.0   0.0  \n",
       "34                   85.0                      100.0                88.0   1.0  \n",
       "35                  100.0                       95.0                85.0   1.0  \n",
       "36                  100.0                       88.0                85.0   1.0  \n",
       "37                   98.0                      100.0                87.0   1.0  \n",
       "38                   87.0                      100.0                81.0   1.0  \n",
       "39                   92.0                      100.0                86.0   1.0  \n",
       "40                   80.0                       92.0                70.0   0.0  \n",
       "41                  100.0                      100.0                93.0   1.0  \n",
       "42                   90.0                       95.0                87.0   1.0  \n",
       "43                   88.0                      100.0                89.0   1.0  \n",
       "44                  100.0                      100.0                93.0   1.0  \n",
       "45                   85.0                      100.0                84.0   1.0  \n",
       "46                    0.0                        0.0                 0.0   0.0  \n",
       "47                   99.0                      100.0                89.0   1.0  \n",
       "48                   98.0                      100.0                90.0   1.0  \n",
       "49                   95.0                      100.0                87.0   1.0  \n",
       "50                   90.0                      100.0                87.0   1.0  \n",
       "51                   88.0                       88.0                84.0   1.0  \n",
       "52                    0.0                        0.0                52.0   0.0  \n",
       "53                   85.0                       70.0                78.0   0.0  "
      ]
     },
     "execution_count": 9,
     "metadata": {},
     "output_type": "execute_result"
    }
   ],
   "source": [
    "df"
   ]
  },
  {
   "cell_type": "code",
   "execution_count": 17,
   "id": "21d38fb0",
   "metadata": {},
   "outputs": [
    {
     "data": {
      "text/html": [
       "<div>\n",
       "<style scoped>\n",
       "    .dataframe tbody tr th:only-of-type {\n",
       "        vertical-align: middle;\n",
       "    }\n",
       "\n",
       "    .dataframe tbody tr th {\n",
       "        vertical-align: top;\n",
       "    }\n",
       "\n",
       "    .dataframe thead th {\n",
       "        text-align: right;\n",
       "    }\n",
       "</style>\n",
       "<table border=\"1\" class=\"dataframe\">\n",
       "  <thead>\n",
       "    <tr style=\"text-align: right;\">\n",
       "      <th></th>\n",
       "      <th>Paso</th>\n",
       "    </tr>\n",
       "  </thead>\n",
       "  <tbody>\n",
       "    <tr>\n",
       "      <th>1.0</th>\n",
       "      <td>40</td>\n",
       "    </tr>\n",
       "    <tr>\n",
       "      <th>0.0</th>\n",
       "      <td>14</td>\n",
       "    </tr>\n",
       "  </tbody>\n",
       "</table>\n",
       "</div>"
      ],
      "text/plain": [
       "     Paso\n",
       "1.0    40\n",
       "0.0    14"
      ]
     },
     "execution_count": 17,
     "metadata": {},
     "output_type": "execute_result"
    }
   ],
   "source": [
    "aux = pd.DataFrame(df[\"Paso\"].value_counts(dropna=False))\n",
    "aux"
   ]
  },
  {
   "cell_type": "code",
   "execution_count": 19,
   "id": "49df2396",
   "metadata": {},
   "outputs": [
    {
     "data": {
      "application/vnd.plotly.v1+json": {
       "config": {
        "plotlyServerURL": "https://plot.ly"
       },
       "data": [
        {
         "alignmentgroup": "True",
         "hovertemplate": "index=%{x}<br>Paso=%{y}<extra></extra>",
         "legendgroup": "",
         "marker": {
          "color": "#636efa",
          "pattern": {
           "shape": ""
          }
         },
         "name": "",
         "offsetgroup": "",
         "orientation": "v",
         "showlegend": false,
         "textposition": "auto",
         "type": "bar",
         "x": [
          1,
          0
         ],
         "xaxis": "x",
         "y": [
          40,
          14
         ],
         "yaxis": "y"
        }
       ],
       "layout": {
        "barmode": "relative",
        "legend": {
         "tracegroupgap": 0
        },
        "margin": {
         "t": 60
        },
        "template": {
         "data": {
          "bar": [
           {
            "error_x": {
             "color": "#2a3f5f"
            },
            "error_y": {
             "color": "#2a3f5f"
            },
            "marker": {
             "line": {
              "color": "#E5ECF6",
              "width": 0.5
             },
             "pattern": {
              "fillmode": "overlay",
              "size": 10,
              "solidity": 0.2
             }
            },
            "type": "bar"
           }
          ],
          "barpolar": [
           {
            "marker": {
             "line": {
              "color": "#E5ECF6",
              "width": 0.5
             },
             "pattern": {
              "fillmode": "overlay",
              "size": 10,
              "solidity": 0.2
             }
            },
            "type": "barpolar"
           }
          ],
          "carpet": [
           {
            "aaxis": {
             "endlinecolor": "#2a3f5f",
             "gridcolor": "white",
             "linecolor": "white",
             "minorgridcolor": "white",
             "startlinecolor": "#2a3f5f"
            },
            "baxis": {
             "endlinecolor": "#2a3f5f",
             "gridcolor": "white",
             "linecolor": "white",
             "minorgridcolor": "white",
             "startlinecolor": "#2a3f5f"
            },
            "type": "carpet"
           }
          ],
          "choropleth": [
           {
            "colorbar": {
             "outlinewidth": 0,
             "ticks": ""
            },
            "type": "choropleth"
           }
          ],
          "contour": [
           {
            "colorbar": {
             "outlinewidth": 0,
             "ticks": ""
            },
            "colorscale": [
             [
              0,
              "#0d0887"
             ],
             [
              0.1111111111111111,
              "#46039f"
             ],
             [
              0.2222222222222222,
              "#7201a8"
             ],
             [
              0.3333333333333333,
              "#9c179e"
             ],
             [
              0.4444444444444444,
              "#bd3786"
             ],
             [
              0.5555555555555556,
              "#d8576b"
             ],
             [
              0.6666666666666666,
              "#ed7953"
             ],
             [
              0.7777777777777778,
              "#fb9f3a"
             ],
             [
              0.8888888888888888,
              "#fdca26"
             ],
             [
              1,
              "#f0f921"
             ]
            ],
            "type": "contour"
           }
          ],
          "contourcarpet": [
           {
            "colorbar": {
             "outlinewidth": 0,
             "ticks": ""
            },
            "type": "contourcarpet"
           }
          ],
          "heatmap": [
           {
            "colorbar": {
             "outlinewidth": 0,
             "ticks": ""
            },
            "colorscale": [
             [
              0,
              "#0d0887"
             ],
             [
              0.1111111111111111,
              "#46039f"
             ],
             [
              0.2222222222222222,
              "#7201a8"
             ],
             [
              0.3333333333333333,
              "#9c179e"
             ],
             [
              0.4444444444444444,
              "#bd3786"
             ],
             [
              0.5555555555555556,
              "#d8576b"
             ],
             [
              0.6666666666666666,
              "#ed7953"
             ],
             [
              0.7777777777777778,
              "#fb9f3a"
             ],
             [
              0.8888888888888888,
              "#fdca26"
             ],
             [
              1,
              "#f0f921"
             ]
            ],
            "type": "heatmap"
           }
          ],
          "heatmapgl": [
           {
            "colorbar": {
             "outlinewidth": 0,
             "ticks": ""
            },
            "colorscale": [
             [
              0,
              "#0d0887"
             ],
             [
              0.1111111111111111,
              "#46039f"
             ],
             [
              0.2222222222222222,
              "#7201a8"
             ],
             [
              0.3333333333333333,
              "#9c179e"
             ],
             [
              0.4444444444444444,
              "#bd3786"
             ],
             [
              0.5555555555555556,
              "#d8576b"
             ],
             [
              0.6666666666666666,
              "#ed7953"
             ],
             [
              0.7777777777777778,
              "#fb9f3a"
             ],
             [
              0.8888888888888888,
              "#fdca26"
             ],
             [
              1,
              "#f0f921"
             ]
            ],
            "type": "heatmapgl"
           }
          ],
          "histogram": [
           {
            "marker": {
             "pattern": {
              "fillmode": "overlay",
              "size": 10,
              "solidity": 0.2
             }
            },
            "type": "histogram"
           }
          ],
          "histogram2d": [
           {
            "colorbar": {
             "outlinewidth": 0,
             "ticks": ""
            },
            "colorscale": [
             [
              0,
              "#0d0887"
             ],
             [
              0.1111111111111111,
              "#46039f"
             ],
             [
              0.2222222222222222,
              "#7201a8"
             ],
             [
              0.3333333333333333,
              "#9c179e"
             ],
             [
              0.4444444444444444,
              "#bd3786"
             ],
             [
              0.5555555555555556,
              "#d8576b"
             ],
             [
              0.6666666666666666,
              "#ed7953"
             ],
             [
              0.7777777777777778,
              "#fb9f3a"
             ],
             [
              0.8888888888888888,
              "#fdca26"
             ],
             [
              1,
              "#f0f921"
             ]
            ],
            "type": "histogram2d"
           }
          ],
          "histogram2dcontour": [
           {
            "colorbar": {
             "outlinewidth": 0,
             "ticks": ""
            },
            "colorscale": [
             [
              0,
              "#0d0887"
             ],
             [
              0.1111111111111111,
              "#46039f"
             ],
             [
              0.2222222222222222,
              "#7201a8"
             ],
             [
              0.3333333333333333,
              "#9c179e"
             ],
             [
              0.4444444444444444,
              "#bd3786"
             ],
             [
              0.5555555555555556,
              "#d8576b"
             ],
             [
              0.6666666666666666,
              "#ed7953"
             ],
             [
              0.7777777777777778,
              "#fb9f3a"
             ],
             [
              0.8888888888888888,
              "#fdca26"
             ],
             [
              1,
              "#f0f921"
             ]
            ],
            "type": "histogram2dcontour"
           }
          ],
          "mesh3d": [
           {
            "colorbar": {
             "outlinewidth": 0,
             "ticks": ""
            },
            "type": "mesh3d"
           }
          ],
          "parcoords": [
           {
            "line": {
             "colorbar": {
              "outlinewidth": 0,
              "ticks": ""
             }
            },
            "type": "parcoords"
           }
          ],
          "pie": [
           {
            "automargin": true,
            "type": "pie"
           }
          ],
          "scatter": [
           {
            "fillpattern": {
             "fillmode": "overlay",
             "size": 10,
             "solidity": 0.2
            },
            "type": "scatter"
           }
          ],
          "scatter3d": [
           {
            "line": {
             "colorbar": {
              "outlinewidth": 0,
              "ticks": ""
             }
            },
            "marker": {
             "colorbar": {
              "outlinewidth": 0,
              "ticks": ""
             }
            },
            "type": "scatter3d"
           }
          ],
          "scattercarpet": [
           {
            "marker": {
             "colorbar": {
              "outlinewidth": 0,
              "ticks": ""
             }
            },
            "type": "scattercarpet"
           }
          ],
          "scattergeo": [
           {
            "marker": {
             "colorbar": {
              "outlinewidth": 0,
              "ticks": ""
             }
            },
            "type": "scattergeo"
           }
          ],
          "scattergl": [
           {
            "marker": {
             "colorbar": {
              "outlinewidth": 0,
              "ticks": ""
             }
            },
            "type": "scattergl"
           }
          ],
          "scattermapbox": [
           {
            "marker": {
             "colorbar": {
              "outlinewidth": 0,
              "ticks": ""
             }
            },
            "type": "scattermapbox"
           }
          ],
          "scatterpolar": [
           {
            "marker": {
             "colorbar": {
              "outlinewidth": 0,
              "ticks": ""
             }
            },
            "type": "scatterpolar"
           }
          ],
          "scatterpolargl": [
           {
            "marker": {
             "colorbar": {
              "outlinewidth": 0,
              "ticks": ""
             }
            },
            "type": "scatterpolargl"
           }
          ],
          "scatterternary": [
           {
            "marker": {
             "colorbar": {
              "outlinewidth": 0,
              "ticks": ""
             }
            },
            "type": "scatterternary"
           }
          ],
          "surface": [
           {
            "colorbar": {
             "outlinewidth": 0,
             "ticks": ""
            },
            "colorscale": [
             [
              0,
              "#0d0887"
             ],
             [
              0.1111111111111111,
              "#46039f"
             ],
             [
              0.2222222222222222,
              "#7201a8"
             ],
             [
              0.3333333333333333,
              "#9c179e"
             ],
             [
              0.4444444444444444,
              "#bd3786"
             ],
             [
              0.5555555555555556,
              "#d8576b"
             ],
             [
              0.6666666666666666,
              "#ed7953"
             ],
             [
              0.7777777777777778,
              "#fb9f3a"
             ],
             [
              0.8888888888888888,
              "#fdca26"
             ],
             [
              1,
              "#f0f921"
             ]
            ],
            "type": "surface"
           }
          ],
          "table": [
           {
            "cells": {
             "fill": {
              "color": "#EBF0F8"
             },
             "line": {
              "color": "white"
             }
            },
            "header": {
             "fill": {
              "color": "#C8D4E3"
             },
             "line": {
              "color": "white"
             }
            },
            "type": "table"
           }
          ]
         },
         "layout": {
          "annotationdefaults": {
           "arrowcolor": "#2a3f5f",
           "arrowhead": 0,
           "arrowwidth": 1
          },
          "autotypenumbers": "strict",
          "coloraxis": {
           "colorbar": {
            "outlinewidth": 0,
            "ticks": ""
           }
          },
          "colorscale": {
           "diverging": [
            [
             0,
             "#8e0152"
            ],
            [
             0.1,
             "#c51b7d"
            ],
            [
             0.2,
             "#de77ae"
            ],
            [
             0.3,
             "#f1b6da"
            ],
            [
             0.4,
             "#fde0ef"
            ],
            [
             0.5,
             "#f7f7f7"
            ],
            [
             0.6,
             "#e6f5d0"
            ],
            [
             0.7,
             "#b8e186"
            ],
            [
             0.8,
             "#7fbc41"
            ],
            [
             0.9,
             "#4d9221"
            ],
            [
             1,
             "#276419"
            ]
           ],
           "sequential": [
            [
             0,
             "#0d0887"
            ],
            [
             0.1111111111111111,
             "#46039f"
            ],
            [
             0.2222222222222222,
             "#7201a8"
            ],
            [
             0.3333333333333333,
             "#9c179e"
            ],
            [
             0.4444444444444444,
             "#bd3786"
            ],
            [
             0.5555555555555556,
             "#d8576b"
            ],
            [
             0.6666666666666666,
             "#ed7953"
            ],
            [
             0.7777777777777778,
             "#fb9f3a"
            ],
            [
             0.8888888888888888,
             "#fdca26"
            ],
            [
             1,
             "#f0f921"
            ]
           ],
           "sequentialminus": [
            [
             0,
             "#0d0887"
            ],
            [
             0.1111111111111111,
             "#46039f"
            ],
            [
             0.2222222222222222,
             "#7201a8"
            ],
            [
             0.3333333333333333,
             "#9c179e"
            ],
            [
             0.4444444444444444,
             "#bd3786"
            ],
            [
             0.5555555555555556,
             "#d8576b"
            ],
            [
             0.6666666666666666,
             "#ed7953"
            ],
            [
             0.7777777777777778,
             "#fb9f3a"
            ],
            [
             0.8888888888888888,
             "#fdca26"
            ],
            [
             1,
             "#f0f921"
            ]
           ]
          },
          "colorway": [
           "#636efa",
           "#EF553B",
           "#00cc96",
           "#ab63fa",
           "#FFA15A",
           "#19d3f3",
           "#FF6692",
           "#B6E880",
           "#FF97FF",
           "#FECB52"
          ],
          "font": {
           "color": "#2a3f5f"
          },
          "geo": {
           "bgcolor": "white",
           "lakecolor": "white",
           "landcolor": "#E5ECF6",
           "showlakes": true,
           "showland": true,
           "subunitcolor": "white"
          },
          "hoverlabel": {
           "align": "left"
          },
          "hovermode": "closest",
          "mapbox": {
           "style": "light"
          },
          "paper_bgcolor": "white",
          "plot_bgcolor": "#E5ECF6",
          "polar": {
           "angularaxis": {
            "gridcolor": "white",
            "linecolor": "white",
            "ticks": ""
           },
           "bgcolor": "#E5ECF6",
           "radialaxis": {
            "gridcolor": "white",
            "linecolor": "white",
            "ticks": ""
           }
          },
          "scene": {
           "xaxis": {
            "backgroundcolor": "#E5ECF6",
            "gridcolor": "white",
            "gridwidth": 2,
            "linecolor": "white",
            "showbackground": true,
            "ticks": "",
            "zerolinecolor": "white"
           },
           "yaxis": {
            "backgroundcolor": "#E5ECF6",
            "gridcolor": "white",
            "gridwidth": 2,
            "linecolor": "white",
            "showbackground": true,
            "ticks": "",
            "zerolinecolor": "white"
           },
           "zaxis": {
            "backgroundcolor": "#E5ECF6",
            "gridcolor": "white",
            "gridwidth": 2,
            "linecolor": "white",
            "showbackground": true,
            "ticks": "",
            "zerolinecolor": "white"
           }
          },
          "shapedefaults": {
           "line": {
            "color": "#2a3f5f"
           }
          },
          "ternary": {
           "aaxis": {
            "gridcolor": "white",
            "linecolor": "white",
            "ticks": ""
           },
           "baxis": {
            "gridcolor": "white",
            "linecolor": "white",
            "ticks": ""
           },
           "bgcolor": "#E5ECF6",
           "caxis": {
            "gridcolor": "white",
            "linecolor": "white",
            "ticks": ""
           }
          },
          "title": {
           "x": 0.05
          },
          "xaxis": {
           "automargin": true,
           "gridcolor": "white",
           "linecolor": "white",
           "ticks": "",
           "title": {
            "standoff": 15
           },
           "zerolinecolor": "white",
           "zerolinewidth": 2
          },
          "yaxis": {
           "automargin": true,
           "gridcolor": "white",
           "linecolor": "white",
           "ticks": "",
           "title": {
            "standoff": 15
           },
           "zerolinecolor": "white",
           "zerolinewidth": 2
          }
         }
        },
        "xaxis": {
         "anchor": "y",
         "domain": [
          0,
          1
         ],
         "title": {
          "text": "index"
         }
        },
        "yaxis": {
         "anchor": "x",
         "domain": [
          0,
          1
         ],
         "title": {
          "text": "Paso"
         }
        }
       }
      },
      "text/html": [
       "<div>                            <div id=\"f3f3a2de-a85c-4eb6-bb1b-9beace717391\" class=\"plotly-graph-div\" style=\"height:525px; width:100%;\"></div>            <script type=\"text/javascript\">                require([\"plotly\"], function(Plotly) {                    window.PLOTLYENV=window.PLOTLYENV || {};                                    if (document.getElementById(\"f3f3a2de-a85c-4eb6-bb1b-9beace717391\")) {                    Plotly.newPlot(                        \"f3f3a2de-a85c-4eb6-bb1b-9beace717391\",                        [{\"alignmentgroup\":\"True\",\"hovertemplate\":\"index=%{x}<br>Paso=%{y}<extra></extra>\",\"legendgroup\":\"\",\"marker\":{\"color\":\"#636efa\",\"pattern\":{\"shape\":\"\"}},\"name\":\"\",\"offsetgroup\":\"\",\"orientation\":\"v\",\"showlegend\":false,\"textposition\":\"auto\",\"x\":[1.0,0.0],\"xaxis\":\"x\",\"y\":[40,14],\"yaxis\":\"y\",\"type\":\"bar\"}],                        {\"template\":{\"data\":{\"histogram2dcontour\":[{\"type\":\"histogram2dcontour\",\"colorbar\":{\"outlinewidth\":0,\"ticks\":\"\"},\"colorscale\":[[0.0,\"#0d0887\"],[0.1111111111111111,\"#46039f\"],[0.2222222222222222,\"#7201a8\"],[0.3333333333333333,\"#9c179e\"],[0.4444444444444444,\"#bd3786\"],[0.5555555555555556,\"#d8576b\"],[0.6666666666666666,\"#ed7953\"],[0.7777777777777778,\"#fb9f3a\"],[0.8888888888888888,\"#fdca26\"],[1.0,\"#f0f921\"]]}],\"choropleth\":[{\"type\":\"choropleth\",\"colorbar\":{\"outlinewidth\":0,\"ticks\":\"\"}}],\"histogram2d\":[{\"type\":\"histogram2d\",\"colorbar\":{\"outlinewidth\":0,\"ticks\":\"\"},\"colorscale\":[[0.0,\"#0d0887\"],[0.1111111111111111,\"#46039f\"],[0.2222222222222222,\"#7201a8\"],[0.3333333333333333,\"#9c179e\"],[0.4444444444444444,\"#bd3786\"],[0.5555555555555556,\"#d8576b\"],[0.6666666666666666,\"#ed7953\"],[0.7777777777777778,\"#fb9f3a\"],[0.8888888888888888,\"#fdca26\"],[1.0,\"#f0f921\"]]}],\"heatmap\":[{\"type\":\"heatmap\",\"colorbar\":{\"outlinewidth\":0,\"ticks\":\"\"},\"colorscale\":[[0.0,\"#0d0887\"],[0.1111111111111111,\"#46039f\"],[0.2222222222222222,\"#7201a8\"],[0.3333333333333333,\"#9c179e\"],[0.4444444444444444,\"#bd3786\"],[0.5555555555555556,\"#d8576b\"],[0.6666666666666666,\"#ed7953\"],[0.7777777777777778,\"#fb9f3a\"],[0.8888888888888888,\"#fdca26\"],[1.0,\"#f0f921\"]]}],\"heatmapgl\":[{\"type\":\"heatmapgl\",\"colorbar\":{\"outlinewidth\":0,\"ticks\":\"\"},\"colorscale\":[[0.0,\"#0d0887\"],[0.1111111111111111,\"#46039f\"],[0.2222222222222222,\"#7201a8\"],[0.3333333333333333,\"#9c179e\"],[0.4444444444444444,\"#bd3786\"],[0.5555555555555556,\"#d8576b\"],[0.6666666666666666,\"#ed7953\"],[0.7777777777777778,\"#fb9f3a\"],[0.8888888888888888,\"#fdca26\"],[1.0,\"#f0f921\"]]}],\"contourcarpet\":[{\"type\":\"contourcarpet\",\"colorbar\":{\"outlinewidth\":0,\"ticks\":\"\"}}],\"contour\":[{\"type\":\"contour\",\"colorbar\":{\"outlinewidth\":0,\"ticks\":\"\"},\"colorscale\":[[0.0,\"#0d0887\"],[0.1111111111111111,\"#46039f\"],[0.2222222222222222,\"#7201a8\"],[0.3333333333333333,\"#9c179e\"],[0.4444444444444444,\"#bd3786\"],[0.5555555555555556,\"#d8576b\"],[0.6666666666666666,\"#ed7953\"],[0.7777777777777778,\"#fb9f3a\"],[0.8888888888888888,\"#fdca26\"],[1.0,\"#f0f921\"]]}],\"surface\":[{\"type\":\"surface\",\"colorbar\":{\"outlinewidth\":0,\"ticks\":\"\"},\"colorscale\":[[0.0,\"#0d0887\"],[0.1111111111111111,\"#46039f\"],[0.2222222222222222,\"#7201a8\"],[0.3333333333333333,\"#9c179e\"],[0.4444444444444444,\"#bd3786\"],[0.5555555555555556,\"#d8576b\"],[0.6666666666666666,\"#ed7953\"],[0.7777777777777778,\"#fb9f3a\"],[0.8888888888888888,\"#fdca26\"],[1.0,\"#f0f921\"]]}],\"mesh3d\":[{\"type\":\"mesh3d\",\"colorbar\":{\"outlinewidth\":0,\"ticks\":\"\"}}],\"scatter\":[{\"fillpattern\":{\"fillmode\":\"overlay\",\"size\":10,\"solidity\":0.2},\"type\":\"scatter\"}],\"parcoords\":[{\"type\":\"parcoords\",\"line\":{\"colorbar\":{\"outlinewidth\":0,\"ticks\":\"\"}}}],\"scatterpolargl\":[{\"type\":\"scatterpolargl\",\"marker\":{\"colorbar\":{\"outlinewidth\":0,\"ticks\":\"\"}}}],\"bar\":[{\"error_x\":{\"color\":\"#2a3f5f\"},\"error_y\":{\"color\":\"#2a3f5f\"},\"marker\":{\"line\":{\"color\":\"#E5ECF6\",\"width\":0.5},\"pattern\":{\"fillmode\":\"overlay\",\"size\":10,\"solidity\":0.2}},\"type\":\"bar\"}],\"scattergeo\":[{\"type\":\"scattergeo\",\"marker\":{\"colorbar\":{\"outlinewidth\":0,\"ticks\":\"\"}}}],\"scatterpolar\":[{\"type\":\"scatterpolar\",\"marker\":{\"colorbar\":{\"outlinewidth\":0,\"ticks\":\"\"}}}],\"histogram\":[{\"marker\":{\"pattern\":{\"fillmode\":\"overlay\",\"size\":10,\"solidity\":0.2}},\"type\":\"histogram\"}],\"scattergl\":[{\"type\":\"scattergl\",\"marker\":{\"colorbar\":{\"outlinewidth\":0,\"ticks\":\"\"}}}],\"scatter3d\":[{\"type\":\"scatter3d\",\"line\":{\"colorbar\":{\"outlinewidth\":0,\"ticks\":\"\"}},\"marker\":{\"colorbar\":{\"outlinewidth\":0,\"ticks\":\"\"}}}],\"scattermapbox\":[{\"type\":\"scattermapbox\",\"marker\":{\"colorbar\":{\"outlinewidth\":0,\"ticks\":\"\"}}}],\"scatterternary\":[{\"type\":\"scatterternary\",\"marker\":{\"colorbar\":{\"outlinewidth\":0,\"ticks\":\"\"}}}],\"scattercarpet\":[{\"type\":\"scattercarpet\",\"marker\":{\"colorbar\":{\"outlinewidth\":0,\"ticks\":\"\"}}}],\"carpet\":[{\"aaxis\":{\"endlinecolor\":\"#2a3f5f\",\"gridcolor\":\"white\",\"linecolor\":\"white\",\"minorgridcolor\":\"white\",\"startlinecolor\":\"#2a3f5f\"},\"baxis\":{\"endlinecolor\":\"#2a3f5f\",\"gridcolor\":\"white\",\"linecolor\":\"white\",\"minorgridcolor\":\"white\",\"startlinecolor\":\"#2a3f5f\"},\"type\":\"carpet\"}],\"table\":[{\"cells\":{\"fill\":{\"color\":\"#EBF0F8\"},\"line\":{\"color\":\"white\"}},\"header\":{\"fill\":{\"color\":\"#C8D4E3\"},\"line\":{\"color\":\"white\"}},\"type\":\"table\"}],\"barpolar\":[{\"marker\":{\"line\":{\"color\":\"#E5ECF6\",\"width\":0.5},\"pattern\":{\"fillmode\":\"overlay\",\"size\":10,\"solidity\":0.2}},\"type\":\"barpolar\"}],\"pie\":[{\"automargin\":true,\"type\":\"pie\"}]},\"layout\":{\"autotypenumbers\":\"strict\",\"colorway\":[\"#636efa\",\"#EF553B\",\"#00cc96\",\"#ab63fa\",\"#FFA15A\",\"#19d3f3\",\"#FF6692\",\"#B6E880\",\"#FF97FF\",\"#FECB52\"],\"font\":{\"color\":\"#2a3f5f\"},\"hovermode\":\"closest\",\"hoverlabel\":{\"align\":\"left\"},\"paper_bgcolor\":\"white\",\"plot_bgcolor\":\"#E5ECF6\",\"polar\":{\"bgcolor\":\"#E5ECF6\",\"angularaxis\":{\"gridcolor\":\"white\",\"linecolor\":\"white\",\"ticks\":\"\"},\"radialaxis\":{\"gridcolor\":\"white\",\"linecolor\":\"white\",\"ticks\":\"\"}},\"ternary\":{\"bgcolor\":\"#E5ECF6\",\"aaxis\":{\"gridcolor\":\"white\",\"linecolor\":\"white\",\"ticks\":\"\"},\"baxis\":{\"gridcolor\":\"white\",\"linecolor\":\"white\",\"ticks\":\"\"},\"caxis\":{\"gridcolor\":\"white\",\"linecolor\":\"white\",\"ticks\":\"\"}},\"coloraxis\":{\"colorbar\":{\"outlinewidth\":0,\"ticks\":\"\"}},\"colorscale\":{\"sequential\":[[0.0,\"#0d0887\"],[0.1111111111111111,\"#46039f\"],[0.2222222222222222,\"#7201a8\"],[0.3333333333333333,\"#9c179e\"],[0.4444444444444444,\"#bd3786\"],[0.5555555555555556,\"#d8576b\"],[0.6666666666666666,\"#ed7953\"],[0.7777777777777778,\"#fb9f3a\"],[0.8888888888888888,\"#fdca26\"],[1.0,\"#f0f921\"]],\"sequentialminus\":[[0.0,\"#0d0887\"],[0.1111111111111111,\"#46039f\"],[0.2222222222222222,\"#7201a8\"],[0.3333333333333333,\"#9c179e\"],[0.4444444444444444,\"#bd3786\"],[0.5555555555555556,\"#d8576b\"],[0.6666666666666666,\"#ed7953\"],[0.7777777777777778,\"#fb9f3a\"],[0.8888888888888888,\"#fdca26\"],[1.0,\"#f0f921\"]],\"diverging\":[[0,\"#8e0152\"],[0.1,\"#c51b7d\"],[0.2,\"#de77ae\"],[0.3,\"#f1b6da\"],[0.4,\"#fde0ef\"],[0.5,\"#f7f7f7\"],[0.6,\"#e6f5d0\"],[0.7,\"#b8e186\"],[0.8,\"#7fbc41\"],[0.9,\"#4d9221\"],[1,\"#276419\"]]},\"xaxis\":{\"gridcolor\":\"white\",\"linecolor\":\"white\",\"ticks\":\"\",\"title\":{\"standoff\":15},\"zerolinecolor\":\"white\",\"automargin\":true,\"zerolinewidth\":2},\"yaxis\":{\"gridcolor\":\"white\",\"linecolor\":\"white\",\"ticks\":\"\",\"title\":{\"standoff\":15},\"zerolinecolor\":\"white\",\"automargin\":true,\"zerolinewidth\":2},\"scene\":{\"xaxis\":{\"backgroundcolor\":\"#E5ECF6\",\"gridcolor\":\"white\",\"linecolor\":\"white\",\"showbackground\":true,\"ticks\":\"\",\"zerolinecolor\":\"white\",\"gridwidth\":2},\"yaxis\":{\"backgroundcolor\":\"#E5ECF6\",\"gridcolor\":\"white\",\"linecolor\":\"white\",\"showbackground\":true,\"ticks\":\"\",\"zerolinecolor\":\"white\",\"gridwidth\":2},\"zaxis\":{\"backgroundcolor\":\"#E5ECF6\",\"gridcolor\":\"white\",\"linecolor\":\"white\",\"showbackground\":true,\"ticks\":\"\",\"zerolinecolor\":\"white\",\"gridwidth\":2}},\"shapedefaults\":{\"line\":{\"color\":\"#2a3f5f\"}},\"annotationdefaults\":{\"arrowcolor\":\"#2a3f5f\",\"arrowhead\":0,\"arrowwidth\":1},\"geo\":{\"bgcolor\":\"white\",\"landcolor\":\"#E5ECF6\",\"subunitcolor\":\"white\",\"showland\":true,\"showlakes\":true,\"lakecolor\":\"white\"},\"title\":{\"x\":0.05},\"mapbox\":{\"style\":\"light\"}}},\"xaxis\":{\"anchor\":\"y\",\"domain\":[0.0,1.0],\"title\":{\"text\":\"index\"}},\"yaxis\":{\"anchor\":\"x\",\"domain\":[0.0,1.0],\"title\":{\"text\":\"Paso\"}},\"legend\":{\"tracegroupgap\":0},\"margin\":{\"t\":60},\"barmode\":\"relative\"},                        {\"responsive\": true}                    ).then(function(){\n",
       "                            \n",
       "var gd = document.getElementById('f3f3a2de-a85c-4eb6-bb1b-9beace717391');\n",
       "var x = new MutationObserver(function (mutations, observer) {{\n",
       "        var display = window.getComputedStyle(gd).display;\n",
       "        if (!display || display === 'none') {{\n",
       "            console.log([gd, 'removed!']);\n",
       "            Plotly.purge(gd);\n",
       "            observer.disconnect();\n",
       "        }}\n",
       "}});\n",
       "\n",
       "// Listen for the removal of the full notebook cells\n",
       "var notebookContainer = gd.closest('#notebook-container');\n",
       "if (notebookContainer) {{\n",
       "    x.observe(notebookContainer, {childList: true});\n",
       "}}\n",
       "\n",
       "// Listen for the clearing of the current output cell\n",
       "var outputEl = gd.closest('.output');\n",
       "if (outputEl) {{\n",
       "    x.observe(outputEl, {childList: true});\n",
       "}}\n",
       "\n",
       "                        })                };                });            </script>        </div>"
      ]
     },
     "metadata": {},
     "output_type": "display_data"
    }
   ],
   "source": [
    "px.bar(aux, y=\"Paso\")"
   ]
  },
  {
   "cell_type": "code",
   "execution_count": 22,
   "id": "d529f759",
   "metadata": {},
   "outputs": [
    {
     "data": {
      "text/html": [
       "<div>\n",
       "<style scoped>\n",
       "    .dataframe tbody tr th:only-of-type {\n",
       "        vertical-align: middle;\n",
       "    }\n",
       "\n",
       "    .dataframe tbody tr th {\n",
       "        vertical-align: top;\n",
       "    }\n",
       "\n",
       "    .dataframe thead th {\n",
       "        text-align: right;\n",
       "    }\n",
       "</style>\n",
       "<table border=\"1\" class=\"dataframe\">\n",
       "  <thead>\n",
       "    <tr style=\"text-align: right;\">\n",
       "      <th></th>\n",
       "      <th>Correo</th>\n",
       "      <th>Apellido</th>\n",
       "      <th>Nombre</th>\n",
       "      <th>Examen</th>\n",
       "      <th>P1</th>\n",
       "      <th>P2</th>\n",
       "      <th>P3</th>\n",
       "      <th>P4</th>\n",
       "      <th>Presentacion Proyecto</th>\n",
       "      <th>Proyecto escrito y codigo</th>\n",
       "      <th>Calificación final</th>\n",
       "      <th>Paso</th>\n",
       "    </tr>\n",
       "  </thead>\n",
       "  <tbody>\n",
       "    <tr>\n",
       "      <th>15</th>\n",
       "      <td>actdavidnolas@gmail.com</td>\n",
       "      <td>Nolasco</td>\n",
       "      <td>David</td>\n",
       "      <td>98.0</td>\n",
       "      <td>100.0</td>\n",
       "      <td>100.0</td>\n",
       "      <td>100.0</td>\n",
       "      <td>95.0</td>\n",
       "      <td>100.0</td>\n",
       "      <td>100.0</td>\n",
       "      <td>96.0</td>\n",
       "      <td>1.0</td>\n",
       "    </tr>\n",
       "    <tr>\n",
       "      <th>32</th>\n",
       "      <td>jesusarredondo0498@gmail.com</td>\n",
       "      <td>Arredondo</td>\n",
       "      <td>Jesús Antonio</td>\n",
       "      <td>99.0</td>\n",
       "      <td>100.0</td>\n",
       "      <td>92.0</td>\n",
       "      <td>100.0</td>\n",
       "      <td>85.0</td>\n",
       "      <td>100.0</td>\n",
       "      <td>100.0</td>\n",
       "      <td>94.0</td>\n",
       "      <td>1.0</td>\n",
       "    </tr>\n",
       "    <tr>\n",
       "      <th>44</th>\n",
       "      <td>raet94@gmail.com</td>\n",
       "      <td>Espínola</td>\n",
       "      <td>Rodrigo Atzel</td>\n",
       "      <td>92.0</td>\n",
       "      <td>100.0</td>\n",
       "      <td>100.0</td>\n",
       "      <td>80.0</td>\n",
       "      <td>95.0</td>\n",
       "      <td>100.0</td>\n",
       "      <td>100.0</td>\n",
       "      <td>93.0</td>\n",
       "      <td>1.0</td>\n",
       "    </tr>\n",
       "    <tr>\n",
       "      <th>41</th>\n",
       "      <td>mely.niiw@gmail.com</td>\n",
       "      <td>Miranda</td>\n",
       "      <td>Melissa Sofía</td>\n",
       "      <td>88.0</td>\n",
       "      <td>100.0</td>\n",
       "      <td>98.0</td>\n",
       "      <td>100.0</td>\n",
       "      <td>95.0</td>\n",
       "      <td>100.0</td>\n",
       "      <td>100.0</td>\n",
       "      <td>93.0</td>\n",
       "      <td>1.0</td>\n",
       "    </tr>\n",
       "    <tr>\n",
       "      <th>23</th>\n",
       "      <td>saintyxer@gmail.com</td>\n",
       "      <td>Rodríguez</td>\n",
       "      <td>Gustavo</td>\n",
       "      <td>92.0</td>\n",
       "      <td>82.0</td>\n",
       "      <td>92.0</td>\n",
       "      <td>100.0</td>\n",
       "      <td>90.0</td>\n",
       "      <td>97.0</td>\n",
       "      <td>100.0</td>\n",
       "      <td>91.0</td>\n",
       "      <td>1.0</td>\n",
       "    </tr>\n",
       "    <tr>\n",
       "      <th>8</th>\n",
       "      <td>act.noriega98@gmail.com</td>\n",
       "      <td>Noriega</td>\n",
       "      <td>Carlos Alberto</td>\n",
       "      <td>81.0</td>\n",
       "      <td>100.0</td>\n",
       "      <td>100.0</td>\n",
       "      <td>100.0</td>\n",
       "      <td>95.0</td>\n",
       "      <td>97.0</td>\n",
       "      <td>100.0</td>\n",
       "      <td>91.0</td>\n",
       "      <td>1.0</td>\n",
       "    </tr>\n",
       "    <tr>\n",
       "      <th>21</th>\n",
       "      <td>fabhl003@gmail.com</td>\n",
       "      <td>Herrera</td>\n",
       "      <td>Fabian</td>\n",
       "      <td>88.0</td>\n",
       "      <td>92.0</td>\n",
       "      <td>100.0</td>\n",
       "      <td>95.0</td>\n",
       "      <td>100.0</td>\n",
       "      <td>92.0</td>\n",
       "      <td>90.0</td>\n",
       "      <td>90.0</td>\n",
       "      <td>1.0</td>\n",
       "    </tr>\n",
       "    <tr>\n",
       "      <th>48</th>\n",
       "      <td>samantharaquelcalzadatorres@gmail.com</td>\n",
       "      <td>Calzada</td>\n",
       "      <td>Samantha Raquel</td>\n",
       "      <td>86.0</td>\n",
       "      <td>95.0</td>\n",
       "      <td>90.0</td>\n",
       "      <td>95.0</td>\n",
       "      <td>85.0</td>\n",
       "      <td>98.0</td>\n",
       "      <td>100.0</td>\n",
       "      <td>90.0</td>\n",
       "      <td>1.0</td>\n",
       "    </tr>\n",
       "    <tr>\n",
       "      <th>26</th>\n",
       "      <td>lemasi2396@gmail.com</td>\n",
       "      <td>Padilla</td>\n",
       "      <td>Ismael</td>\n",
       "      <td>85.0</td>\n",
       "      <td>100.0</td>\n",
       "      <td>88.0</td>\n",
       "      <td>90.0</td>\n",
       "      <td>90.0</td>\n",
       "      <td>97.0</td>\n",
       "      <td>100.0</td>\n",
       "      <td>89.0</td>\n",
       "      <td>1.0</td>\n",
       "    </tr>\n",
       "    <tr>\n",
       "      <th>1</th>\n",
       "      <td>aleesquiviasj@gmail.com</td>\n",
       "      <td>Jiménez</td>\n",
       "      <td>Alejandra Guadalupe</td>\n",
       "      <td>88.0</td>\n",
       "      <td>100.0</td>\n",
       "      <td>92.0</td>\n",
       "      <td>78.0</td>\n",
       "      <td>85.0</td>\n",
       "      <td>100.0</td>\n",
       "      <td>100.0</td>\n",
       "      <td>89.0</td>\n",
       "      <td>1.0</td>\n",
       "    </tr>\n",
       "    <tr>\n",
       "      <th>43</th>\n",
       "      <td>nnashelly@gmail.com</td>\n",
       "      <td>Sánchez</td>\n",
       "      <td>Nashelly Natasha</td>\n",
       "      <td>85.0</td>\n",
       "      <td>100.0</td>\n",
       "      <td>92.0</td>\n",
       "      <td>100.0</td>\n",
       "      <td>90.0</td>\n",
       "      <td>88.0</td>\n",
       "      <td>100.0</td>\n",
       "      <td>89.0</td>\n",
       "      <td>1.0</td>\n",
       "    </tr>\n",
       "    <tr>\n",
       "      <th>47</th>\n",
       "      <td>VargasMendozaSalvadorR@gmail.com</td>\n",
       "      <td>Vargas</td>\n",
       "      <td>Salvador Ramiro</td>\n",
       "      <td>83.0</td>\n",
       "      <td>100.0</td>\n",
       "      <td>100.0</td>\n",
       "      <td>80.0</td>\n",
       "      <td>85.0</td>\n",
       "      <td>99.0</td>\n",
       "      <td>100.0</td>\n",
       "      <td>89.0</td>\n",
       "      <td>1.0</td>\n",
       "    </tr>\n",
       "    <tr>\n",
       "      <th>6</th>\n",
       "      <td>wname666@gmail.com</td>\n",
       "      <td>Galindo</td>\n",
       "      <td>Bernardo Antonio</td>\n",
       "      <td>95.0</td>\n",
       "      <td>100.0</td>\n",
       "      <td>95.0</td>\n",
       "      <td>85.0</td>\n",
       "      <td>80.0</td>\n",
       "      <td>89.0</td>\n",
       "      <td>90.0</td>\n",
       "      <td>89.0</td>\n",
       "      <td>1.0</td>\n",
       "    </tr>\n",
       "    <tr>\n",
       "      <th>34</th>\n",
       "      <td>josemayaceron@gmail.com</td>\n",
       "      <td>Maya</td>\n",
       "      <td>José Armando</td>\n",
       "      <td>95.0</td>\n",
       "      <td>95.0</td>\n",
       "      <td>82.0</td>\n",
       "      <td>80.0</td>\n",
       "      <td>90.0</td>\n",
       "      <td>85.0</td>\n",
       "      <td>100.0</td>\n",
       "      <td>88.0</td>\n",
       "      <td>1.0</td>\n",
       "    </tr>\n",
       "    <tr>\n",
       "      <th>14</th>\n",
       "      <td>danesquivelg@gmail.com</td>\n",
       "      <td>Esquivel</td>\n",
       "      <td>Daniela</td>\n",
       "      <td>88.0</td>\n",
       "      <td>100.0</td>\n",
       "      <td>82.0</td>\n",
       "      <td>80.0</td>\n",
       "      <td>90.0</td>\n",
       "      <td>97.0</td>\n",
       "      <td>100.0</td>\n",
       "      <td>88.0</td>\n",
       "      <td>1.0</td>\n",
       "    </tr>\n",
       "    <tr>\n",
       "      <th>7</th>\n",
       "      <td>deku.momentum@gmail.com</td>\n",
       "      <td>Rodríguez</td>\n",
       "      <td>Carlos Bruno</td>\n",
       "      <td>76.0</td>\n",
       "      <td>92.0</td>\n",
       "      <td>100.0</td>\n",
       "      <td>95.0</td>\n",
       "      <td>97.0</td>\n",
       "      <td>89.0</td>\n",
       "      <td>100.0</td>\n",
       "      <td>88.0</td>\n",
       "      <td>1.0</td>\n",
       "    </tr>\n",
       "    <tr>\n",
       "      <th>20</th>\n",
       "      <td>evedv166@gmail.com</td>\n",
       "      <td>Díaz</td>\n",
       "      <td>Flor Eveling</td>\n",
       "      <td>82.0</td>\n",
       "      <td>100.0</td>\n",
       "      <td>98.0</td>\n",
       "      <td>100.0</td>\n",
       "      <td>90.0</td>\n",
       "      <td>100.0</td>\n",
       "      <td>75.0</td>\n",
       "      <td>88.0</td>\n",
       "      <td>1.0</td>\n",
       "    </tr>\n",
       "    <tr>\n",
       "      <th>4</th>\n",
       "      <td>aerzk8@gmail.com</td>\n",
       "      <td>Español</td>\n",
       "      <td>Antonio</td>\n",
       "      <td>79.0</td>\n",
       "      <td>100.0</td>\n",
       "      <td>100.0</td>\n",
       "      <td>88.0</td>\n",
       "      <td>100.0</td>\n",
       "      <td>92.0</td>\n",
       "      <td>90.0</td>\n",
       "      <td>88.0</td>\n",
       "      <td>1.0</td>\n",
       "    </tr>\n",
       "    <tr>\n",
       "      <th>30</th>\n",
       "      <td>javierjhairtlr@gmail.com</td>\n",
       "      <td>López</td>\n",
       "      <td>Javier Jhairt</td>\n",
       "      <td>76.0</td>\n",
       "      <td>97.0</td>\n",
       "      <td>92.0</td>\n",
       "      <td>85.0</td>\n",
       "      <td>97.0</td>\n",
       "      <td>100.0</td>\n",
       "      <td>94.0</td>\n",
       "      <td>87.0</td>\n",
       "      <td>1.0</td>\n",
       "    </tr>\n",
       "    <tr>\n",
       "      <th>50</th>\n",
       "      <td>victorcureno12@gmail.com</td>\n",
       "      <td>Cureno</td>\n",
       "      <td>Victor</td>\n",
       "      <td>88.0</td>\n",
       "      <td>90.0</td>\n",
       "      <td>80.0</td>\n",
       "      <td>80.0</td>\n",
       "      <td>100.0</td>\n",
       "      <td>90.0</td>\n",
       "      <td>100.0</td>\n",
       "      <td>87.0</td>\n",
       "      <td>1.0</td>\n",
       "    </tr>\n",
       "    <tr>\n",
       "      <th>37</th>\n",
       "      <td>juanpy_94@hotmail.com</td>\n",
       "      <td>Negrete</td>\n",
       "      <td>Juan Pablo</td>\n",
       "      <td>81.0</td>\n",
       "      <td>80.0</td>\n",
       "      <td>92.0</td>\n",
       "      <td>90.0</td>\n",
       "      <td>90.0</td>\n",
       "      <td>98.0</td>\n",
       "      <td>100.0</td>\n",
       "      <td>87.0</td>\n",
       "      <td>1.0</td>\n",
       "    </tr>\n",
       "    <tr>\n",
       "      <th>49</th>\n",
       "      <td>sharissa.spm@gmail.com</td>\n",
       "      <td>Pulido</td>\n",
       "      <td>Sharissa</td>\n",
       "      <td>65.0</td>\n",
       "      <td>100.0</td>\n",
       "      <td>100.0</td>\n",
       "      <td>100.0</td>\n",
       "      <td>90.0</td>\n",
       "      <td>95.0</td>\n",
       "      <td>100.0</td>\n",
       "      <td>87.0</td>\n",
       "      <td>1.0</td>\n",
       "    </tr>\n",
       "    <tr>\n",
       "      <th>42</th>\n",
       "      <td>MiltonGonzales81@gmail.com</td>\n",
       "      <td>Gonzalez</td>\n",
       "      <td>Milton Jair</td>\n",
       "      <td>77.0</td>\n",
       "      <td>100.0</td>\n",
       "      <td>100.0</td>\n",
       "      <td>88.0</td>\n",
       "      <td>90.0</td>\n",
       "      <td>90.0</td>\n",
       "      <td>95.0</td>\n",
       "      <td>87.0</td>\n",
       "      <td>1.0</td>\n",
       "    </tr>\n",
       "    <tr>\n",
       "      <th>24</th>\n",
       "      <td>hugbe.1197@gmail.com</td>\n",
       "      <td>Benítez</td>\n",
       "      <td>Hugo</td>\n",
       "      <td>85.0</td>\n",
       "      <td>100.0</td>\n",
       "      <td>78.0</td>\n",
       "      <td>75.0</td>\n",
       "      <td>80.0</td>\n",
       "      <td>100.0</td>\n",
       "      <td>100.0</td>\n",
       "      <td>86.0</td>\n",
       "      <td>1.0</td>\n",
       "    </tr>\n",
       "    <tr>\n",
       "      <th>27</th>\n",
       "      <td>Blas.Estudillo@gmail.com</td>\n",
       "      <td>Blas</td>\n",
       "      <td>Iván</td>\n",
       "      <td>79.0</td>\n",
       "      <td>100.0</td>\n",
       "      <td>95.0</td>\n",
       "      <td>80.0</td>\n",
       "      <td>85.0</td>\n",
       "      <td>92.0</td>\n",
       "      <td>100.0</td>\n",
       "      <td>86.0</td>\n",
       "      <td>1.0</td>\n",
       "    </tr>\n",
       "    <tr>\n",
       "      <th>39</th>\n",
       "      <td>luis.angel.calen@gmail.com</td>\n",
       "      <td>Calderón</td>\n",
       "      <td>Luis Angel</td>\n",
       "      <td>88.0</td>\n",
       "      <td>70.0</td>\n",
       "      <td>97.0</td>\n",
       "      <td>80.0</td>\n",
       "      <td>90.0</td>\n",
       "      <td>92.0</td>\n",
       "      <td>100.0</td>\n",
       "      <td>86.0</td>\n",
       "      <td>1.0</td>\n",
       "    </tr>\n",
       "    <tr>\n",
       "      <th>35</th>\n",
       "      <td>PacheUnam@gmail.com</td>\n",
       "      <td>Pacheco</td>\n",
       "      <td>José Ricardo</td>\n",
       "      <td>79.0</td>\n",
       "      <td>87.0</td>\n",
       "      <td>80.0</td>\n",
       "      <td>78.0</td>\n",
       "      <td>95.0</td>\n",
       "      <td>100.0</td>\n",
       "      <td>95.0</td>\n",
       "      <td>85.0</td>\n",
       "      <td>1.0</td>\n",
       "    </tr>\n",
       "    <tr>\n",
       "      <th>36</th>\n",
       "      <td>juanjav98@gmail.com</td>\n",
       "      <td>Pinette</td>\n",
       "      <td>Juan Javier</td>\n",
       "      <td>88.0</td>\n",
       "      <td>85.0</td>\n",
       "      <td>78.0</td>\n",
       "      <td>85.0</td>\n",
       "      <td>85.0</td>\n",
       "      <td>100.0</td>\n",
       "      <td>88.0</td>\n",
       "      <td>85.0</td>\n",
       "      <td>1.0</td>\n",
       "    </tr>\n",
       "    <tr>\n",
       "      <th>45</th>\n",
       "      <td>rhr.ruth@gmail.com</td>\n",
       "      <td>Hernández</td>\n",
       "      <td>Ruth</td>\n",
       "      <td>81.0</td>\n",
       "      <td>100.0</td>\n",
       "      <td>80.0</td>\n",
       "      <td>80.0</td>\n",
       "      <td>85.0</td>\n",
       "      <td>85.0</td>\n",
       "      <td>100.0</td>\n",
       "      <td>84.0</td>\n",
       "      <td>1.0</td>\n",
       "    </tr>\n",
       "    <tr>\n",
       "      <th>51</th>\n",
       "      <td>rohtkiv@gmail.com</td>\n",
       "      <td>Tomás</td>\n",
       "      <td>Víctor Manuel</td>\n",
       "      <td>84.0</td>\n",
       "      <td>95.0</td>\n",
       "      <td>80.0</td>\n",
       "      <td>78.0</td>\n",
       "      <td>100.0</td>\n",
       "      <td>88.0</td>\n",
       "      <td>88.0</td>\n",
       "      <td>84.0</td>\n",
       "      <td>1.0</td>\n",
       "    </tr>\n",
       "    <tr>\n",
       "      <th>0</th>\n",
       "      <td>abramhz@gmail.com</td>\n",
       "      <td>Hernández</td>\n",
       "      <td>Abraham</td>\n",
       "      <td>76.0</td>\n",
       "      <td>90.0</td>\n",
       "      <td>80.0</td>\n",
       "      <td>80.0</td>\n",
       "      <td>90.0</td>\n",
       "      <td>97.0</td>\n",
       "      <td>100.0</td>\n",
       "      <td>84.0</td>\n",
       "      <td>1.0</td>\n",
       "    </tr>\n",
       "    <tr>\n",
       "      <th>16</th>\n",
       "      <td>rayonaguila2112@gmail.com</td>\n",
       "      <td>Rayón</td>\n",
       "      <td>David Alberto</td>\n",
       "      <td>75.0</td>\n",
       "      <td>100.0</td>\n",
       "      <td>82.0</td>\n",
       "      <td>80.0</td>\n",
       "      <td>80.0</td>\n",
       "      <td>95.0</td>\n",
       "      <td>100.0</td>\n",
       "      <td>84.0</td>\n",
       "      <td>1.0</td>\n",
       "    </tr>\n",
       "    <tr>\n",
       "      <th>18</th>\n",
       "      <td>gombeli@gmail.com</td>\n",
       "      <td>Jacobo</td>\n",
       "      <td>Erika Camila</td>\n",
       "      <td>84.0</td>\n",
       "      <td>75.0</td>\n",
       "      <td>92.0</td>\n",
       "      <td>80.0</td>\n",
       "      <td>85.0</td>\n",
       "      <td>94.0</td>\n",
       "      <td>95.0</td>\n",
       "      <td>84.0</td>\n",
       "      <td>1.0</td>\n",
       "    </tr>\n",
       "    <tr>\n",
       "      <th>3</th>\n",
       "      <td>aeabernalinte@gmail.com</td>\n",
       "      <td>Apanco</td>\n",
       "      <td>Alexis Eduardo</td>\n",
       "      <td>71.0</td>\n",
       "      <td>92.0</td>\n",
       "      <td>95.0</td>\n",
       "      <td>75.0</td>\n",
       "      <td>85.0</td>\n",
       "      <td>100.0</td>\n",
       "      <td>100.0</td>\n",
       "      <td>84.0</td>\n",
       "      <td>1.0</td>\n",
       "    </tr>\n",
       "    <tr>\n",
       "      <th>11</th>\n",
       "      <td>actuario.cmr94@gmail.com</td>\n",
       "      <td>Mata</td>\n",
       "      <td>Cristopher Ismael</td>\n",
       "      <td>88.0</td>\n",
       "      <td>60.0</td>\n",
       "      <td>88.0</td>\n",
       "      <td>80.0</td>\n",
       "      <td>90.0</td>\n",
       "      <td>90.0</td>\n",
       "      <td>100.0</td>\n",
       "      <td>84.0</td>\n",
       "      <td>1.0</td>\n",
       "    </tr>\n",
       "    <tr>\n",
       "      <th>5</th>\n",
       "      <td>aurarodriguez1968@gmail.com</td>\n",
       "      <td>Rodríguez</td>\n",
       "      <td>Aura Berenice</td>\n",
       "      <td>83.0</td>\n",
       "      <td>95.0</td>\n",
       "      <td>97.0</td>\n",
       "      <td>78.0</td>\n",
       "      <td>90.0</td>\n",
       "      <td>100.0</td>\n",
       "      <td>60.0</td>\n",
       "      <td>83.0</td>\n",
       "      <td>1.0</td>\n",
       "    </tr>\n",
       "    <tr>\n",
       "      <th>31</th>\n",
       "      <td>jesus.nicolas.098@gmail.com</td>\n",
       "      <td>Nicolas</td>\n",
       "      <td>Jesus</td>\n",
       "      <td>73.0</td>\n",
       "      <td>97.0</td>\n",
       "      <td>82.0</td>\n",
       "      <td>75.0</td>\n",
       "      <td>100.0</td>\n",
       "      <td>88.0</td>\n",
       "      <td>100.0</td>\n",
       "      <td>83.0</td>\n",
       "      <td>1.0</td>\n",
       "    </tr>\n",
       "    <tr>\n",
       "      <th>25</th>\n",
       "      <td>HectorIvanMZ@gmail.com</td>\n",
       "      <td>Martinez</td>\n",
       "      <td>Héctor Iván</td>\n",
       "      <td>79.0</td>\n",
       "      <td>95.0</td>\n",
       "      <td>90.0</td>\n",
       "      <td>80.0</td>\n",
       "      <td>85.0</td>\n",
       "      <td>88.0</td>\n",
       "      <td>85.0</td>\n",
       "      <td>83.0</td>\n",
       "      <td>1.0</td>\n",
       "    </tr>\n",
       "    <tr>\n",
       "      <th>13</th>\n",
       "      <td>vg.danieljda@gmail.com</td>\n",
       "      <td>Vega</td>\n",
       "      <td>Francisco Daniel</td>\n",
       "      <td>81.0</td>\n",
       "      <td>70.0</td>\n",
       "      <td>82.0</td>\n",
       "      <td>78.0</td>\n",
       "      <td>95.0</td>\n",
       "      <td>80.0</td>\n",
       "      <td>100.0</td>\n",
       "      <td>81.0</td>\n",
       "      <td>1.0</td>\n",
       "    </tr>\n",
       "    <tr>\n",
       "      <th>38</th>\n",
       "      <td>lizbethlphernandez@gmail.com</td>\n",
       "      <td>Lopez</td>\n",
       "      <td>Lizbeth</td>\n",
       "      <td>86.0</td>\n",
       "      <td>100.0</td>\n",
       "      <td>95.0</td>\n",
       "      <td>0.0</td>\n",
       "      <td>100.0</td>\n",
       "      <td>87.0</td>\n",
       "      <td>100.0</td>\n",
       "      <td>81.0</td>\n",
       "      <td>1.0</td>\n",
       "    </tr>\n",
       "    <tr>\n",
       "      <th>53</th>\n",
       "      <td>escarleth.silva07@gmail.com</td>\n",
       "      <td>Silva</td>\n",
       "      <td>Escarleth Marlenn</td>\n",
       "      <td>75.0</td>\n",
       "      <td>70.0</td>\n",
       "      <td>100.0</td>\n",
       "      <td>78.0</td>\n",
       "      <td>90.0</td>\n",
       "      <td>85.0</td>\n",
       "      <td>70.0</td>\n",
       "      <td>78.0</td>\n",
       "      <td>0.0</td>\n",
       "    </tr>\n",
       "    <tr>\n",
       "      <th>10</th>\n",
       "      <td>csr.astro@gmail.com</td>\n",
       "      <td>Villarreal</td>\n",
       "      <td>César Augusto</td>\n",
       "      <td>62.0</td>\n",
       "      <td>70.0</td>\n",
       "      <td>95.0</td>\n",
       "      <td>88.0</td>\n",
       "      <td>85.0</td>\n",
       "      <td>84.0</td>\n",
       "      <td>88.0</td>\n",
       "      <td>77.0</td>\n",
       "      <td>0.0</td>\n",
       "    </tr>\n",
       "    <tr>\n",
       "      <th>28</th>\n",
       "      <td>jaimejesusmacedo97@gmail.com</td>\n",
       "      <td>Macedo</td>\n",
       "      <td>Jaime Jesús</td>\n",
       "      <td>79.0</td>\n",
       "      <td>0.0</td>\n",
       "      <td>98.0</td>\n",
       "      <td>80.0</td>\n",
       "      <td>90.0</td>\n",
       "      <td>80.0</td>\n",
       "      <td>95.0</td>\n",
       "      <td>75.0</td>\n",
       "      <td>0.0</td>\n",
       "    </tr>\n",
       "    <tr>\n",
       "      <th>2</th>\n",
       "      <td>a.mitra2311@gmail.com</td>\n",
       "      <td>Mitra</td>\n",
       "      <td>Alejandro</td>\n",
       "      <td>78.0</td>\n",
       "      <td>82.0</td>\n",
       "      <td>78.0</td>\n",
       "      <td>0.0</td>\n",
       "      <td>82.0</td>\n",
       "      <td>99.0</td>\n",
       "      <td>100.0</td>\n",
       "      <td>75.0</td>\n",
       "      <td>0.0</td>\n",
       "    </tr>\n",
       "    <tr>\n",
       "      <th>40</th>\n",
       "      <td>castillo.luisf94@gmail.com</td>\n",
       "      <td>Castillo</td>\n",
       "      <td>Luis Fernando</td>\n",
       "      <td>64.0</td>\n",
       "      <td>0.0</td>\n",
       "      <td>90.0</td>\n",
       "      <td>80.0</td>\n",
       "      <td>90.0</td>\n",
       "      <td>80.0</td>\n",
       "      <td>92.0</td>\n",
       "      <td>70.0</td>\n",
       "      <td>0.0</td>\n",
       "    </tr>\n",
       "    <tr>\n",
       "      <th>19</th>\n",
       "      <td>esperanzacolmenares0@gmail.com</td>\n",
       "      <td>Colmenares</td>\n",
       "      <td>Esperanza</td>\n",
       "      <td>76.0</td>\n",
       "      <td>0.0</td>\n",
       "      <td>95.0</td>\n",
       "      <td>100.0</td>\n",
       "      <td>85.0</td>\n",
       "      <td>82.0</td>\n",
       "      <td>60.0</td>\n",
       "      <td>70.0</td>\n",
       "      <td>0.0</td>\n",
       "    </tr>\n",
       "    <tr>\n",
       "      <th>17</th>\n",
       "      <td>eroldanfranco@gmail.com</td>\n",
       "      <td>Roldan</td>\n",
       "      <td>Edgar Gerardo</td>\n",
       "      <td>52.0</td>\n",
       "      <td>80.0</td>\n",
       "      <td>80.0</td>\n",
       "      <td>80.0</td>\n",
       "      <td>80.0</td>\n",
       "      <td>80.0</td>\n",
       "      <td>70.0</td>\n",
       "      <td>69.0</td>\n",
       "      <td>0.0</td>\n",
       "    </tr>\n",
       "    <tr>\n",
       "      <th>12</th>\n",
       "      <td>dadego@gmail.com</td>\n",
       "      <td>Degollado</td>\n",
       "      <td>Daniel</td>\n",
       "      <td>67.0</td>\n",
       "      <td>100.0</td>\n",
       "      <td>92.0</td>\n",
       "      <td>80.0</td>\n",
       "      <td>80.0</td>\n",
       "      <td>90.0</td>\n",
       "      <td>0.0</td>\n",
       "      <td>67.0</td>\n",
       "      <td>0.0</td>\n",
       "    </tr>\n",
       "    <tr>\n",
       "      <th>52</th>\n",
       "      <td>yimirh.86@gmail.com</td>\n",
       "      <td>Ramírez</td>\n",
       "      <td>Yimel Yatziri</td>\n",
       "      <td>92.0</td>\n",
       "      <td>90.0</td>\n",
       "      <td>97.0</td>\n",
       "      <td>0.0</td>\n",
       "      <td>85.0</td>\n",
       "      <td>0.0</td>\n",
       "      <td>0.0</td>\n",
       "      <td>52.0</td>\n",
       "      <td>0.0</td>\n",
       "    </tr>\n",
       "    <tr>\n",
       "      <th>29</th>\n",
       "      <td>ja.he.he.1994@gmail.com</td>\n",
       "      <td>Hernandez</td>\n",
       "      <td>Javier</td>\n",
       "      <td>0.0</td>\n",
       "      <td>0.0</td>\n",
       "      <td>0.0</td>\n",
       "      <td>0.0</td>\n",
       "      <td>0.0</td>\n",
       "      <td>0.0</td>\n",
       "      <td>0.0</td>\n",
       "      <td>0.0</td>\n",
       "      <td>0.0</td>\n",
       "    </tr>\n",
       "    <tr>\n",
       "      <th>22</th>\n",
       "      <td>gstremplermx@gmail.com</td>\n",
       "      <td>Strempler Chávez</td>\n",
       "      <td>Germán</td>\n",
       "      <td>0.0</td>\n",
       "      <td>0.0</td>\n",
       "      <td>0.0</td>\n",
       "      <td>0.0</td>\n",
       "      <td>0.0</td>\n",
       "      <td>0.0</td>\n",
       "      <td>0.0</td>\n",
       "      <td>0.0</td>\n",
       "      <td>0.0</td>\n",
       "    </tr>\n",
       "    <tr>\n",
       "      <th>46</th>\n",
       "      <td>salvatoregarcia135@gmail.com</td>\n",
       "      <td>Garcia</td>\n",
       "      <td>Salvador</td>\n",
       "      <td>0.0</td>\n",
       "      <td>0.0</td>\n",
       "      <td>0.0</td>\n",
       "      <td>0.0</td>\n",
       "      <td>0.0</td>\n",
       "      <td>0.0</td>\n",
       "      <td>0.0</td>\n",
       "      <td>0.0</td>\n",
       "      <td>0.0</td>\n",
       "    </tr>\n",
       "    <tr>\n",
       "      <th>9</th>\n",
       "      <td>caroaguilarmo@gmail.com</td>\n",
       "      <td>Aguilar Moreira</td>\n",
       "      <td>Carolina Berenice</td>\n",
       "      <td>0.0</td>\n",
       "      <td>92.0</td>\n",
       "      <td>82.0</td>\n",
       "      <td>80.0</td>\n",
       "      <td>0.0</td>\n",
       "      <td>0.0</td>\n",
       "      <td>0.0</td>\n",
       "      <td>0.0</td>\n",
       "      <td>0.0</td>\n",
       "    </tr>\n",
       "    <tr>\n",
       "      <th>33</th>\n",
       "      <td>jorge.soa7847@gmail.com</td>\n",
       "      <td>Castro Montes</td>\n",
       "      <td>Jorge</td>\n",
       "      <td>0.0</td>\n",
       "      <td>0.0</td>\n",
       "      <td>100.0</td>\n",
       "      <td>90.0</td>\n",
       "      <td>80.0</td>\n",
       "      <td>0.0</td>\n",
       "      <td>0.0</td>\n",
       "      <td>0.0</td>\n",
       "      <td>0.0</td>\n",
       "    </tr>\n",
       "  </tbody>\n",
       "</table>\n",
       "</div>"
      ],
      "text/plain": [
       "                                   Correo          Apellido  \\\n",
       "15                actdavidnolas@gmail.com           Nolasco   \n",
       "32           jesusarredondo0498@gmail.com         Arredondo   \n",
       "44                       raet94@gmail.com          Espínola   \n",
       "41                    mely.niiw@gmail.com           Miranda   \n",
       "23                    saintyxer@gmail.com         Rodríguez   \n",
       "8                 act.noriega98@gmail.com           Noriega   \n",
       "21                     fabhl003@gmail.com           Herrera   \n",
       "48  samantharaquelcalzadatorres@gmail.com           Calzada   \n",
       "26                   lemasi2396@gmail.com           Padilla   \n",
       "1                 aleesquiviasj@gmail.com           Jiménez   \n",
       "43                    nnashelly@gmail.com          Sánchez    \n",
       "47       VargasMendozaSalvadorR@gmail.com            Vargas   \n",
       "6                      wname666@gmail.com           Galindo   \n",
       "34                josemayaceron@gmail.com              Maya   \n",
       "14                 danesquivelg@gmail.com          Esquivel   \n",
       "7                 deku.momentum@gmail.com         Rodríguez   \n",
       "20                     evedv166@gmail.com              Díaz   \n",
       "4                        aerzk8@gmail.com           Español   \n",
       "30               javierjhairtlr@gmail.com            López    \n",
       "50               victorcureno12@gmail.com            Cureno   \n",
       "37                  juanpy_94@hotmail.com          Negrete    \n",
       "49                 sharissa.spm@gmail.com            Pulido   \n",
       "42             MiltonGonzales81@gmail.com          Gonzalez   \n",
       "24                   hugbe.1197@gmail.com           Benítez   \n",
       "27               Blas.Estudillo@gmail.com              Blas   \n",
       "39             luis.angel.calen@gmail.com          Calderón   \n",
       "35                    PacheUnam@gmail.com           Pacheco   \n",
       "36                    juanjav98@gmail.com           Pinette   \n",
       "45                     rhr.ruth@gmail.com         Hernández   \n",
       "51                      rohtkiv@gmail.com             Tomás   \n",
       "0                       abramhz@gmail.com         Hernández   \n",
       "16              rayonaguila2112@gmail.com             Rayón   \n",
       "18                      gombeli@gmail.com            Jacobo   \n",
       "3                 aeabernalinte@gmail.com            Apanco   \n",
       "11               actuario.cmr94@gmail.com              Mata   \n",
       "5             aurarodriguez1968@gmail.com         Rodríguez   \n",
       "31            jesus.nicolas.098@gmail.com           Nicolas   \n",
       "25                 HectorIvanMZ@gmail.com          Martinez   \n",
       "13                 vg.danieljda@gmail.com              Vega   \n",
       "38           lizbethlphernandez@gmail.com             Lopez   \n",
       "53            escarleth.silva07@gmail.com             Silva   \n",
       "10                    csr.astro@gmail.com        Villarreal   \n",
       "28           jaimejesusmacedo97@gmail.com           Macedo    \n",
       "2                   a.mitra2311@gmail.com             Mitra   \n",
       "40             castillo.luisf94@gmail.com          Castillo   \n",
       "19         esperanzacolmenares0@gmail.com       Colmenares    \n",
       "17                eroldanfranco@gmail.com            Roldan   \n",
       "12                       dadego@gmail.com         Degollado   \n",
       "52                    yimirh.86@gmail.com           Ramírez   \n",
       "29                ja.he.he.1994@gmail.com         Hernandez   \n",
       "22                 gstremplermx@gmail.com  Strempler Chávez   \n",
       "46           salvatoregarcia135@gmail.com            Garcia   \n",
       "9                 caroaguilarmo@gmail.com   Aguilar Moreira   \n",
       "33                jorge.soa7847@gmail.com     Castro Montes   \n",
       "\n",
       "                 Nombre  Examen     P1     P2     P3     P4  \\\n",
       "15                David    98.0  100.0  100.0  100.0   95.0   \n",
       "32        Jesús Antonio    99.0  100.0   92.0  100.0   85.0   \n",
       "44        Rodrigo Atzel    92.0  100.0  100.0   80.0   95.0   \n",
       "41        Melissa Sofía    88.0  100.0   98.0  100.0   95.0   \n",
       "23              Gustavo    92.0   82.0   92.0  100.0   90.0   \n",
       "8        Carlos Alberto    81.0  100.0  100.0  100.0   95.0   \n",
       "21               Fabian    88.0   92.0  100.0   95.0  100.0   \n",
       "48      Samantha Raquel    86.0   95.0   90.0   95.0   85.0   \n",
       "26               Ismael    85.0  100.0   88.0   90.0   90.0   \n",
       "1   Alejandra Guadalupe    88.0  100.0   92.0   78.0   85.0   \n",
       "43     Nashelly Natasha    85.0  100.0   92.0  100.0   90.0   \n",
       "47      Salvador Ramiro    83.0  100.0  100.0   80.0   85.0   \n",
       "6      Bernardo Antonio    95.0  100.0   95.0   85.0   80.0   \n",
       "34         José Armando    95.0   95.0   82.0   80.0   90.0   \n",
       "14              Daniela    88.0  100.0   82.0   80.0   90.0   \n",
       "7          Carlos Bruno    76.0   92.0  100.0   95.0   97.0   \n",
       "20         Flor Eveling    82.0  100.0   98.0  100.0   90.0   \n",
       "4               Antonio    79.0  100.0  100.0   88.0  100.0   \n",
       "30        Javier Jhairt    76.0   97.0   92.0   85.0   97.0   \n",
       "50               Victor    88.0   90.0   80.0   80.0  100.0   \n",
       "37           Juan Pablo    81.0   80.0   92.0   90.0   90.0   \n",
       "49             Sharissa    65.0  100.0  100.0  100.0   90.0   \n",
       "42          Milton Jair    77.0  100.0  100.0   88.0   90.0   \n",
       "24                 Hugo    85.0  100.0   78.0   75.0   80.0   \n",
       "27                 Iván    79.0  100.0   95.0   80.0   85.0   \n",
       "39           Luis Angel    88.0   70.0   97.0   80.0   90.0   \n",
       "35         José Ricardo    79.0   87.0   80.0   78.0   95.0   \n",
       "36          Juan Javier    88.0   85.0   78.0   85.0   85.0   \n",
       "45                 Ruth    81.0  100.0   80.0   80.0   85.0   \n",
       "51        Víctor Manuel    84.0   95.0   80.0   78.0  100.0   \n",
       "0               Abraham    76.0   90.0   80.0   80.0   90.0   \n",
       "16        David Alberto    75.0  100.0   82.0   80.0   80.0   \n",
       "18         Erika Camila    84.0   75.0   92.0   80.0   85.0   \n",
       "3        Alexis Eduardo    71.0   92.0   95.0   75.0   85.0   \n",
       "11    Cristopher Ismael    88.0   60.0   88.0   80.0   90.0   \n",
       "5         Aura Berenice    83.0   95.0   97.0   78.0   90.0   \n",
       "31                Jesus    73.0   97.0   82.0   75.0  100.0   \n",
       "25          Héctor Iván    79.0   95.0   90.0   80.0   85.0   \n",
       "13     Francisco Daniel    81.0   70.0   82.0   78.0   95.0   \n",
       "38              Lizbeth    86.0  100.0   95.0    0.0  100.0   \n",
       "53    Escarleth Marlenn    75.0   70.0  100.0   78.0   90.0   \n",
       "10        César Augusto    62.0   70.0   95.0   88.0   85.0   \n",
       "28         Jaime Jesús     79.0    0.0   98.0   80.0   90.0   \n",
       "2             Alejandro    78.0   82.0   78.0    0.0   82.0   \n",
       "40        Luis Fernando    64.0    0.0   90.0   80.0   90.0   \n",
       "19            Esperanza    76.0    0.0   95.0  100.0   85.0   \n",
       "17        Edgar Gerardo    52.0   80.0   80.0   80.0   80.0   \n",
       "12               Daniel    67.0  100.0   92.0   80.0   80.0   \n",
       "52        Yimel Yatziri    92.0   90.0   97.0    0.0   85.0   \n",
       "29               Javier     0.0    0.0    0.0    0.0    0.0   \n",
       "22               Germán     0.0    0.0    0.0    0.0    0.0   \n",
       "46             Salvador     0.0    0.0    0.0    0.0    0.0   \n",
       "9     Carolina Berenice     0.0   92.0   82.0   80.0    0.0   \n",
       "33                Jorge     0.0    0.0  100.0   90.0   80.0   \n",
       "\n",
       "    Presentacion Proyecto  Proyecto escrito y codigo  Calificación final  Paso  \n",
       "15                  100.0                      100.0                96.0   1.0  \n",
       "32                  100.0                      100.0                94.0   1.0  \n",
       "44                  100.0                      100.0                93.0   1.0  \n",
       "41                  100.0                      100.0                93.0   1.0  \n",
       "23                   97.0                      100.0                91.0   1.0  \n",
       "8                    97.0                      100.0                91.0   1.0  \n",
       "21                   92.0                       90.0                90.0   1.0  \n",
       "48                   98.0                      100.0                90.0   1.0  \n",
       "26                   97.0                      100.0                89.0   1.0  \n",
       "1                   100.0                      100.0                89.0   1.0  \n",
       "43                   88.0                      100.0                89.0   1.0  \n",
       "47                   99.0                      100.0                89.0   1.0  \n",
       "6                    89.0                       90.0                89.0   1.0  \n",
       "34                   85.0                      100.0                88.0   1.0  \n",
       "14                   97.0                      100.0                88.0   1.0  \n",
       "7                    89.0                      100.0                88.0   1.0  \n",
       "20                  100.0                       75.0                88.0   1.0  \n",
       "4                    92.0                       90.0                88.0   1.0  \n",
       "30                  100.0                       94.0                87.0   1.0  \n",
       "50                   90.0                      100.0                87.0   1.0  \n",
       "37                   98.0                      100.0                87.0   1.0  \n",
       "49                   95.0                      100.0                87.0   1.0  \n",
       "42                   90.0                       95.0                87.0   1.0  \n",
       "24                  100.0                      100.0                86.0   1.0  \n",
       "27                   92.0                      100.0                86.0   1.0  \n",
       "39                   92.0                      100.0                86.0   1.0  \n",
       "35                  100.0                       95.0                85.0   1.0  \n",
       "36                  100.0                       88.0                85.0   1.0  \n",
       "45                   85.0                      100.0                84.0   1.0  \n",
       "51                   88.0                       88.0                84.0   1.0  \n",
       "0                    97.0                      100.0                84.0   1.0  \n",
       "16                   95.0                      100.0                84.0   1.0  \n",
       "18                   94.0                       95.0                84.0   1.0  \n",
       "3                   100.0                      100.0                84.0   1.0  \n",
       "11                   90.0                      100.0                84.0   1.0  \n",
       "5                   100.0                       60.0                83.0   1.0  \n",
       "31                   88.0                      100.0                83.0   1.0  \n",
       "25                   88.0                       85.0                83.0   1.0  \n",
       "13                   80.0                      100.0                81.0   1.0  \n",
       "38                   87.0                      100.0                81.0   1.0  \n",
       "53                   85.0                       70.0                78.0   0.0  \n",
       "10                   84.0                       88.0                77.0   0.0  \n",
       "28                   80.0                       95.0                75.0   0.0  \n",
       "2                    99.0                      100.0                75.0   0.0  \n",
       "40                   80.0                       92.0                70.0   0.0  \n",
       "19                   82.0                       60.0                70.0   0.0  \n",
       "17                   80.0                       70.0                69.0   0.0  \n",
       "12                   90.0                        0.0                67.0   0.0  \n",
       "52                    0.0                        0.0                52.0   0.0  \n",
       "29                    0.0                        0.0                 0.0   0.0  \n",
       "22                    0.0                        0.0                 0.0   0.0  \n",
       "46                    0.0                        0.0                 0.0   0.0  \n",
       "9                     0.0                        0.0                 0.0   0.0  \n",
       "33                    0.0                        0.0                 0.0   0.0  "
      ]
     },
     "execution_count": 22,
     "metadata": {},
     "output_type": "execute_result"
    }
   ],
   "source": [
    "df.sort_values(by=\"Calificación final\",ascending=False)"
   ]
  },
  {
   "cell_type": "code",
   "execution_count": 24,
   "id": "7843a95b",
   "metadata": {},
   "outputs": [
    {
     "data": {
      "application/vnd.plotly.v1+json": {
       "config": {
        "plotlyServerURL": "https://plot.ly"
       },
       "data": [
        {
         "alignmentgroup": "True",
         "hovertemplate": "Calificación final=%{y}<extra></extra>",
         "legendgroup": "",
         "marker": {
          "color": "#636efa"
         },
         "name": "",
         "notched": false,
         "offsetgroup": "",
         "orientation": "v",
         "showlegend": false,
         "type": "box",
         "x0": " ",
         "xaxis": "x",
         "y": [
          84,
          89,
          75,
          84,
          88,
          83,
          89,
          88,
          91,
          0,
          77,
          84,
          67,
          81,
          88,
          96,
          84,
          69,
          84,
          70,
          88,
          90,
          0,
          91,
          86,
          83,
          89,
          86,
          75,
          0,
          87,
          83,
          94,
          0,
          88,
          85,
          85,
          87,
          81,
          86,
          70,
          93,
          87,
          89,
          93,
          84,
          0,
          89,
          90,
          87,
          87,
          84,
          52,
          78
         ],
         "y0": " ",
         "yaxis": "y"
        }
       ],
       "layout": {
        "boxmode": "group",
        "legend": {
         "tracegroupgap": 0
        },
        "margin": {
         "t": 60
        },
        "template": {
         "data": {
          "bar": [
           {
            "error_x": {
             "color": "#2a3f5f"
            },
            "error_y": {
             "color": "#2a3f5f"
            },
            "marker": {
             "line": {
              "color": "#E5ECF6",
              "width": 0.5
             },
             "pattern": {
              "fillmode": "overlay",
              "size": 10,
              "solidity": 0.2
             }
            },
            "type": "bar"
           }
          ],
          "barpolar": [
           {
            "marker": {
             "line": {
              "color": "#E5ECF6",
              "width": 0.5
             },
             "pattern": {
              "fillmode": "overlay",
              "size": 10,
              "solidity": 0.2
             }
            },
            "type": "barpolar"
           }
          ],
          "carpet": [
           {
            "aaxis": {
             "endlinecolor": "#2a3f5f",
             "gridcolor": "white",
             "linecolor": "white",
             "minorgridcolor": "white",
             "startlinecolor": "#2a3f5f"
            },
            "baxis": {
             "endlinecolor": "#2a3f5f",
             "gridcolor": "white",
             "linecolor": "white",
             "minorgridcolor": "white",
             "startlinecolor": "#2a3f5f"
            },
            "type": "carpet"
           }
          ],
          "choropleth": [
           {
            "colorbar": {
             "outlinewidth": 0,
             "ticks": ""
            },
            "type": "choropleth"
           }
          ],
          "contour": [
           {
            "colorbar": {
             "outlinewidth": 0,
             "ticks": ""
            },
            "colorscale": [
             [
              0,
              "#0d0887"
             ],
             [
              0.1111111111111111,
              "#46039f"
             ],
             [
              0.2222222222222222,
              "#7201a8"
             ],
             [
              0.3333333333333333,
              "#9c179e"
             ],
             [
              0.4444444444444444,
              "#bd3786"
             ],
             [
              0.5555555555555556,
              "#d8576b"
             ],
             [
              0.6666666666666666,
              "#ed7953"
             ],
             [
              0.7777777777777778,
              "#fb9f3a"
             ],
             [
              0.8888888888888888,
              "#fdca26"
             ],
             [
              1,
              "#f0f921"
             ]
            ],
            "type": "contour"
           }
          ],
          "contourcarpet": [
           {
            "colorbar": {
             "outlinewidth": 0,
             "ticks": ""
            },
            "type": "contourcarpet"
           }
          ],
          "heatmap": [
           {
            "colorbar": {
             "outlinewidth": 0,
             "ticks": ""
            },
            "colorscale": [
             [
              0,
              "#0d0887"
             ],
             [
              0.1111111111111111,
              "#46039f"
             ],
             [
              0.2222222222222222,
              "#7201a8"
             ],
             [
              0.3333333333333333,
              "#9c179e"
             ],
             [
              0.4444444444444444,
              "#bd3786"
             ],
             [
              0.5555555555555556,
              "#d8576b"
             ],
             [
              0.6666666666666666,
              "#ed7953"
             ],
             [
              0.7777777777777778,
              "#fb9f3a"
             ],
             [
              0.8888888888888888,
              "#fdca26"
             ],
             [
              1,
              "#f0f921"
             ]
            ],
            "type": "heatmap"
           }
          ],
          "heatmapgl": [
           {
            "colorbar": {
             "outlinewidth": 0,
             "ticks": ""
            },
            "colorscale": [
             [
              0,
              "#0d0887"
             ],
             [
              0.1111111111111111,
              "#46039f"
             ],
             [
              0.2222222222222222,
              "#7201a8"
             ],
             [
              0.3333333333333333,
              "#9c179e"
             ],
             [
              0.4444444444444444,
              "#bd3786"
             ],
             [
              0.5555555555555556,
              "#d8576b"
             ],
             [
              0.6666666666666666,
              "#ed7953"
             ],
             [
              0.7777777777777778,
              "#fb9f3a"
             ],
             [
              0.8888888888888888,
              "#fdca26"
             ],
             [
              1,
              "#f0f921"
             ]
            ],
            "type": "heatmapgl"
           }
          ],
          "histogram": [
           {
            "marker": {
             "pattern": {
              "fillmode": "overlay",
              "size": 10,
              "solidity": 0.2
             }
            },
            "type": "histogram"
           }
          ],
          "histogram2d": [
           {
            "colorbar": {
             "outlinewidth": 0,
             "ticks": ""
            },
            "colorscale": [
             [
              0,
              "#0d0887"
             ],
             [
              0.1111111111111111,
              "#46039f"
             ],
             [
              0.2222222222222222,
              "#7201a8"
             ],
             [
              0.3333333333333333,
              "#9c179e"
             ],
             [
              0.4444444444444444,
              "#bd3786"
             ],
             [
              0.5555555555555556,
              "#d8576b"
             ],
             [
              0.6666666666666666,
              "#ed7953"
             ],
             [
              0.7777777777777778,
              "#fb9f3a"
             ],
             [
              0.8888888888888888,
              "#fdca26"
             ],
             [
              1,
              "#f0f921"
             ]
            ],
            "type": "histogram2d"
           }
          ],
          "histogram2dcontour": [
           {
            "colorbar": {
             "outlinewidth": 0,
             "ticks": ""
            },
            "colorscale": [
             [
              0,
              "#0d0887"
             ],
             [
              0.1111111111111111,
              "#46039f"
             ],
             [
              0.2222222222222222,
              "#7201a8"
             ],
             [
              0.3333333333333333,
              "#9c179e"
             ],
             [
              0.4444444444444444,
              "#bd3786"
             ],
             [
              0.5555555555555556,
              "#d8576b"
             ],
             [
              0.6666666666666666,
              "#ed7953"
             ],
             [
              0.7777777777777778,
              "#fb9f3a"
             ],
             [
              0.8888888888888888,
              "#fdca26"
             ],
             [
              1,
              "#f0f921"
             ]
            ],
            "type": "histogram2dcontour"
           }
          ],
          "mesh3d": [
           {
            "colorbar": {
             "outlinewidth": 0,
             "ticks": ""
            },
            "type": "mesh3d"
           }
          ],
          "parcoords": [
           {
            "line": {
             "colorbar": {
              "outlinewidth": 0,
              "ticks": ""
             }
            },
            "type": "parcoords"
           }
          ],
          "pie": [
           {
            "automargin": true,
            "type": "pie"
           }
          ],
          "scatter": [
           {
            "fillpattern": {
             "fillmode": "overlay",
             "size": 10,
             "solidity": 0.2
            },
            "type": "scatter"
           }
          ],
          "scatter3d": [
           {
            "line": {
             "colorbar": {
              "outlinewidth": 0,
              "ticks": ""
             }
            },
            "marker": {
             "colorbar": {
              "outlinewidth": 0,
              "ticks": ""
             }
            },
            "type": "scatter3d"
           }
          ],
          "scattercarpet": [
           {
            "marker": {
             "colorbar": {
              "outlinewidth": 0,
              "ticks": ""
             }
            },
            "type": "scattercarpet"
           }
          ],
          "scattergeo": [
           {
            "marker": {
             "colorbar": {
              "outlinewidth": 0,
              "ticks": ""
             }
            },
            "type": "scattergeo"
           }
          ],
          "scattergl": [
           {
            "marker": {
             "colorbar": {
              "outlinewidth": 0,
              "ticks": ""
             }
            },
            "type": "scattergl"
           }
          ],
          "scattermapbox": [
           {
            "marker": {
             "colorbar": {
              "outlinewidth": 0,
              "ticks": ""
             }
            },
            "type": "scattermapbox"
           }
          ],
          "scatterpolar": [
           {
            "marker": {
             "colorbar": {
              "outlinewidth": 0,
              "ticks": ""
             }
            },
            "type": "scatterpolar"
           }
          ],
          "scatterpolargl": [
           {
            "marker": {
             "colorbar": {
              "outlinewidth": 0,
              "ticks": ""
             }
            },
            "type": "scatterpolargl"
           }
          ],
          "scatterternary": [
           {
            "marker": {
             "colorbar": {
              "outlinewidth": 0,
              "ticks": ""
             }
            },
            "type": "scatterternary"
           }
          ],
          "surface": [
           {
            "colorbar": {
             "outlinewidth": 0,
             "ticks": ""
            },
            "colorscale": [
             [
              0,
              "#0d0887"
             ],
             [
              0.1111111111111111,
              "#46039f"
             ],
             [
              0.2222222222222222,
              "#7201a8"
             ],
             [
              0.3333333333333333,
              "#9c179e"
             ],
             [
              0.4444444444444444,
              "#bd3786"
             ],
             [
              0.5555555555555556,
              "#d8576b"
             ],
             [
              0.6666666666666666,
              "#ed7953"
             ],
             [
              0.7777777777777778,
              "#fb9f3a"
             ],
             [
              0.8888888888888888,
              "#fdca26"
             ],
             [
              1,
              "#f0f921"
             ]
            ],
            "type": "surface"
           }
          ],
          "table": [
           {
            "cells": {
             "fill": {
              "color": "#EBF0F8"
             },
             "line": {
              "color": "white"
             }
            },
            "header": {
             "fill": {
              "color": "#C8D4E3"
             },
             "line": {
              "color": "white"
             }
            },
            "type": "table"
           }
          ]
         },
         "layout": {
          "annotationdefaults": {
           "arrowcolor": "#2a3f5f",
           "arrowhead": 0,
           "arrowwidth": 1
          },
          "autotypenumbers": "strict",
          "coloraxis": {
           "colorbar": {
            "outlinewidth": 0,
            "ticks": ""
           }
          },
          "colorscale": {
           "diverging": [
            [
             0,
             "#8e0152"
            ],
            [
             0.1,
             "#c51b7d"
            ],
            [
             0.2,
             "#de77ae"
            ],
            [
             0.3,
             "#f1b6da"
            ],
            [
             0.4,
             "#fde0ef"
            ],
            [
             0.5,
             "#f7f7f7"
            ],
            [
             0.6,
             "#e6f5d0"
            ],
            [
             0.7,
             "#b8e186"
            ],
            [
             0.8,
             "#7fbc41"
            ],
            [
             0.9,
             "#4d9221"
            ],
            [
             1,
             "#276419"
            ]
           ],
           "sequential": [
            [
             0,
             "#0d0887"
            ],
            [
             0.1111111111111111,
             "#46039f"
            ],
            [
             0.2222222222222222,
             "#7201a8"
            ],
            [
             0.3333333333333333,
             "#9c179e"
            ],
            [
             0.4444444444444444,
             "#bd3786"
            ],
            [
             0.5555555555555556,
             "#d8576b"
            ],
            [
             0.6666666666666666,
             "#ed7953"
            ],
            [
             0.7777777777777778,
             "#fb9f3a"
            ],
            [
             0.8888888888888888,
             "#fdca26"
            ],
            [
             1,
             "#f0f921"
            ]
           ],
           "sequentialminus": [
            [
             0,
             "#0d0887"
            ],
            [
             0.1111111111111111,
             "#46039f"
            ],
            [
             0.2222222222222222,
             "#7201a8"
            ],
            [
             0.3333333333333333,
             "#9c179e"
            ],
            [
             0.4444444444444444,
             "#bd3786"
            ],
            [
             0.5555555555555556,
             "#d8576b"
            ],
            [
             0.6666666666666666,
             "#ed7953"
            ],
            [
             0.7777777777777778,
             "#fb9f3a"
            ],
            [
             0.8888888888888888,
             "#fdca26"
            ],
            [
             1,
             "#f0f921"
            ]
           ]
          },
          "colorway": [
           "#636efa",
           "#EF553B",
           "#00cc96",
           "#ab63fa",
           "#FFA15A",
           "#19d3f3",
           "#FF6692",
           "#B6E880",
           "#FF97FF",
           "#FECB52"
          ],
          "font": {
           "color": "#2a3f5f"
          },
          "geo": {
           "bgcolor": "white",
           "lakecolor": "white",
           "landcolor": "#E5ECF6",
           "showlakes": true,
           "showland": true,
           "subunitcolor": "white"
          },
          "hoverlabel": {
           "align": "left"
          },
          "hovermode": "closest",
          "mapbox": {
           "style": "light"
          },
          "paper_bgcolor": "white",
          "plot_bgcolor": "#E5ECF6",
          "polar": {
           "angularaxis": {
            "gridcolor": "white",
            "linecolor": "white",
            "ticks": ""
           },
           "bgcolor": "#E5ECF6",
           "radialaxis": {
            "gridcolor": "white",
            "linecolor": "white",
            "ticks": ""
           }
          },
          "scene": {
           "xaxis": {
            "backgroundcolor": "#E5ECF6",
            "gridcolor": "white",
            "gridwidth": 2,
            "linecolor": "white",
            "showbackground": true,
            "ticks": "",
            "zerolinecolor": "white"
           },
           "yaxis": {
            "backgroundcolor": "#E5ECF6",
            "gridcolor": "white",
            "gridwidth": 2,
            "linecolor": "white",
            "showbackground": true,
            "ticks": "",
            "zerolinecolor": "white"
           },
           "zaxis": {
            "backgroundcolor": "#E5ECF6",
            "gridcolor": "white",
            "gridwidth": 2,
            "linecolor": "white",
            "showbackground": true,
            "ticks": "",
            "zerolinecolor": "white"
           }
          },
          "shapedefaults": {
           "line": {
            "color": "#2a3f5f"
           }
          },
          "ternary": {
           "aaxis": {
            "gridcolor": "white",
            "linecolor": "white",
            "ticks": ""
           },
           "baxis": {
            "gridcolor": "white",
            "linecolor": "white",
            "ticks": ""
           },
           "bgcolor": "#E5ECF6",
           "caxis": {
            "gridcolor": "white",
            "linecolor": "white",
            "ticks": ""
           }
          },
          "title": {
           "x": 0.05
          },
          "xaxis": {
           "automargin": true,
           "gridcolor": "white",
           "linecolor": "white",
           "ticks": "",
           "title": {
            "standoff": 15
           },
           "zerolinecolor": "white",
           "zerolinewidth": 2
          },
          "yaxis": {
           "automargin": true,
           "gridcolor": "white",
           "linecolor": "white",
           "ticks": "",
           "title": {
            "standoff": 15
           },
           "zerolinecolor": "white",
           "zerolinewidth": 2
          }
         }
        },
        "xaxis": {
         "anchor": "y",
         "domain": [
          0,
          1
         ]
        },
        "yaxis": {
         "anchor": "x",
         "domain": [
          0,
          1
         ],
         "title": {
          "text": "Calificación final"
         }
        }
       }
      },
      "text/html": [
       "<div>                            <div id=\"b2993d1c-a33d-4f86-b92b-c21e50a8de3d\" class=\"plotly-graph-div\" style=\"height:525px; width:100%;\"></div>            <script type=\"text/javascript\">                require([\"plotly\"], function(Plotly) {                    window.PLOTLYENV=window.PLOTLYENV || {};                                    if (document.getElementById(\"b2993d1c-a33d-4f86-b92b-c21e50a8de3d\")) {                    Plotly.newPlot(                        \"b2993d1c-a33d-4f86-b92b-c21e50a8de3d\",                        [{\"alignmentgroup\":\"True\",\"hovertemplate\":\"Calificaci\\u00f3n final=%{y}<extra></extra>\",\"legendgroup\":\"\",\"marker\":{\"color\":\"#636efa\"},\"name\":\"\",\"notched\":false,\"offsetgroup\":\"\",\"orientation\":\"v\",\"showlegend\":false,\"x0\":\" \",\"xaxis\":\"x\",\"y\":[84.0,89.0,75.0,84.0,88.0,83.0,89.0,88.0,91.0,0.0,77.0,84.0,67.0,81.0,88.0,96.0,84.0,69.0,84.0,70.0,88.0,90.0,0.0,91.0,86.0,83.0,89.0,86.0,75.0,0.0,87.0,83.0,94.0,0.0,88.0,85.0,85.0,87.0,81.0,86.0,70.0,93.0,87.0,89.0,93.0,84.0,0.0,89.0,90.0,87.0,87.0,84.0,52.0,78.0],\"y0\":\" \",\"yaxis\":\"y\",\"type\":\"box\"}],                        {\"template\":{\"data\":{\"histogram2dcontour\":[{\"type\":\"histogram2dcontour\",\"colorbar\":{\"outlinewidth\":0,\"ticks\":\"\"},\"colorscale\":[[0.0,\"#0d0887\"],[0.1111111111111111,\"#46039f\"],[0.2222222222222222,\"#7201a8\"],[0.3333333333333333,\"#9c179e\"],[0.4444444444444444,\"#bd3786\"],[0.5555555555555556,\"#d8576b\"],[0.6666666666666666,\"#ed7953\"],[0.7777777777777778,\"#fb9f3a\"],[0.8888888888888888,\"#fdca26\"],[1.0,\"#f0f921\"]]}],\"choropleth\":[{\"type\":\"choropleth\",\"colorbar\":{\"outlinewidth\":0,\"ticks\":\"\"}}],\"histogram2d\":[{\"type\":\"histogram2d\",\"colorbar\":{\"outlinewidth\":0,\"ticks\":\"\"},\"colorscale\":[[0.0,\"#0d0887\"],[0.1111111111111111,\"#46039f\"],[0.2222222222222222,\"#7201a8\"],[0.3333333333333333,\"#9c179e\"],[0.4444444444444444,\"#bd3786\"],[0.5555555555555556,\"#d8576b\"],[0.6666666666666666,\"#ed7953\"],[0.7777777777777778,\"#fb9f3a\"],[0.8888888888888888,\"#fdca26\"],[1.0,\"#f0f921\"]]}],\"heatmap\":[{\"type\":\"heatmap\",\"colorbar\":{\"outlinewidth\":0,\"ticks\":\"\"},\"colorscale\":[[0.0,\"#0d0887\"],[0.1111111111111111,\"#46039f\"],[0.2222222222222222,\"#7201a8\"],[0.3333333333333333,\"#9c179e\"],[0.4444444444444444,\"#bd3786\"],[0.5555555555555556,\"#d8576b\"],[0.6666666666666666,\"#ed7953\"],[0.7777777777777778,\"#fb9f3a\"],[0.8888888888888888,\"#fdca26\"],[1.0,\"#f0f921\"]]}],\"heatmapgl\":[{\"type\":\"heatmapgl\",\"colorbar\":{\"outlinewidth\":0,\"ticks\":\"\"},\"colorscale\":[[0.0,\"#0d0887\"],[0.1111111111111111,\"#46039f\"],[0.2222222222222222,\"#7201a8\"],[0.3333333333333333,\"#9c179e\"],[0.4444444444444444,\"#bd3786\"],[0.5555555555555556,\"#d8576b\"],[0.6666666666666666,\"#ed7953\"],[0.7777777777777778,\"#fb9f3a\"],[0.8888888888888888,\"#fdca26\"],[1.0,\"#f0f921\"]]}],\"contourcarpet\":[{\"type\":\"contourcarpet\",\"colorbar\":{\"outlinewidth\":0,\"ticks\":\"\"}}],\"contour\":[{\"type\":\"contour\",\"colorbar\":{\"outlinewidth\":0,\"ticks\":\"\"},\"colorscale\":[[0.0,\"#0d0887\"],[0.1111111111111111,\"#46039f\"],[0.2222222222222222,\"#7201a8\"],[0.3333333333333333,\"#9c179e\"],[0.4444444444444444,\"#bd3786\"],[0.5555555555555556,\"#d8576b\"],[0.6666666666666666,\"#ed7953\"],[0.7777777777777778,\"#fb9f3a\"],[0.8888888888888888,\"#fdca26\"],[1.0,\"#f0f921\"]]}],\"surface\":[{\"type\":\"surface\",\"colorbar\":{\"outlinewidth\":0,\"ticks\":\"\"},\"colorscale\":[[0.0,\"#0d0887\"],[0.1111111111111111,\"#46039f\"],[0.2222222222222222,\"#7201a8\"],[0.3333333333333333,\"#9c179e\"],[0.4444444444444444,\"#bd3786\"],[0.5555555555555556,\"#d8576b\"],[0.6666666666666666,\"#ed7953\"],[0.7777777777777778,\"#fb9f3a\"],[0.8888888888888888,\"#fdca26\"],[1.0,\"#f0f921\"]]}],\"mesh3d\":[{\"type\":\"mesh3d\",\"colorbar\":{\"outlinewidth\":0,\"ticks\":\"\"}}],\"scatter\":[{\"fillpattern\":{\"fillmode\":\"overlay\",\"size\":10,\"solidity\":0.2},\"type\":\"scatter\"}],\"parcoords\":[{\"type\":\"parcoords\",\"line\":{\"colorbar\":{\"outlinewidth\":0,\"ticks\":\"\"}}}],\"scatterpolargl\":[{\"type\":\"scatterpolargl\",\"marker\":{\"colorbar\":{\"outlinewidth\":0,\"ticks\":\"\"}}}],\"bar\":[{\"error_x\":{\"color\":\"#2a3f5f\"},\"error_y\":{\"color\":\"#2a3f5f\"},\"marker\":{\"line\":{\"color\":\"#E5ECF6\",\"width\":0.5},\"pattern\":{\"fillmode\":\"overlay\",\"size\":10,\"solidity\":0.2}},\"type\":\"bar\"}],\"scattergeo\":[{\"type\":\"scattergeo\",\"marker\":{\"colorbar\":{\"outlinewidth\":0,\"ticks\":\"\"}}}],\"scatterpolar\":[{\"type\":\"scatterpolar\",\"marker\":{\"colorbar\":{\"outlinewidth\":0,\"ticks\":\"\"}}}],\"histogram\":[{\"marker\":{\"pattern\":{\"fillmode\":\"overlay\",\"size\":10,\"solidity\":0.2}},\"type\":\"histogram\"}],\"scattergl\":[{\"type\":\"scattergl\",\"marker\":{\"colorbar\":{\"outlinewidth\":0,\"ticks\":\"\"}}}],\"scatter3d\":[{\"type\":\"scatter3d\",\"line\":{\"colorbar\":{\"outlinewidth\":0,\"ticks\":\"\"}},\"marker\":{\"colorbar\":{\"outlinewidth\":0,\"ticks\":\"\"}}}],\"scattermapbox\":[{\"type\":\"scattermapbox\",\"marker\":{\"colorbar\":{\"outlinewidth\":0,\"ticks\":\"\"}}}],\"scatterternary\":[{\"type\":\"scatterternary\",\"marker\":{\"colorbar\":{\"outlinewidth\":0,\"ticks\":\"\"}}}],\"scattercarpet\":[{\"type\":\"scattercarpet\",\"marker\":{\"colorbar\":{\"outlinewidth\":0,\"ticks\":\"\"}}}],\"carpet\":[{\"aaxis\":{\"endlinecolor\":\"#2a3f5f\",\"gridcolor\":\"white\",\"linecolor\":\"white\",\"minorgridcolor\":\"white\",\"startlinecolor\":\"#2a3f5f\"},\"baxis\":{\"endlinecolor\":\"#2a3f5f\",\"gridcolor\":\"white\",\"linecolor\":\"white\",\"minorgridcolor\":\"white\",\"startlinecolor\":\"#2a3f5f\"},\"type\":\"carpet\"}],\"table\":[{\"cells\":{\"fill\":{\"color\":\"#EBF0F8\"},\"line\":{\"color\":\"white\"}},\"header\":{\"fill\":{\"color\":\"#C8D4E3\"},\"line\":{\"color\":\"white\"}},\"type\":\"table\"}],\"barpolar\":[{\"marker\":{\"line\":{\"color\":\"#E5ECF6\",\"width\":0.5},\"pattern\":{\"fillmode\":\"overlay\",\"size\":10,\"solidity\":0.2}},\"type\":\"barpolar\"}],\"pie\":[{\"automargin\":true,\"type\":\"pie\"}]},\"layout\":{\"autotypenumbers\":\"strict\",\"colorway\":[\"#636efa\",\"#EF553B\",\"#00cc96\",\"#ab63fa\",\"#FFA15A\",\"#19d3f3\",\"#FF6692\",\"#B6E880\",\"#FF97FF\",\"#FECB52\"],\"font\":{\"color\":\"#2a3f5f\"},\"hovermode\":\"closest\",\"hoverlabel\":{\"align\":\"left\"},\"paper_bgcolor\":\"white\",\"plot_bgcolor\":\"#E5ECF6\",\"polar\":{\"bgcolor\":\"#E5ECF6\",\"angularaxis\":{\"gridcolor\":\"white\",\"linecolor\":\"white\",\"ticks\":\"\"},\"radialaxis\":{\"gridcolor\":\"white\",\"linecolor\":\"white\",\"ticks\":\"\"}},\"ternary\":{\"bgcolor\":\"#E5ECF6\",\"aaxis\":{\"gridcolor\":\"white\",\"linecolor\":\"white\",\"ticks\":\"\"},\"baxis\":{\"gridcolor\":\"white\",\"linecolor\":\"white\",\"ticks\":\"\"},\"caxis\":{\"gridcolor\":\"white\",\"linecolor\":\"white\",\"ticks\":\"\"}},\"coloraxis\":{\"colorbar\":{\"outlinewidth\":0,\"ticks\":\"\"}},\"colorscale\":{\"sequential\":[[0.0,\"#0d0887\"],[0.1111111111111111,\"#46039f\"],[0.2222222222222222,\"#7201a8\"],[0.3333333333333333,\"#9c179e\"],[0.4444444444444444,\"#bd3786\"],[0.5555555555555556,\"#d8576b\"],[0.6666666666666666,\"#ed7953\"],[0.7777777777777778,\"#fb9f3a\"],[0.8888888888888888,\"#fdca26\"],[1.0,\"#f0f921\"]],\"sequentialminus\":[[0.0,\"#0d0887\"],[0.1111111111111111,\"#46039f\"],[0.2222222222222222,\"#7201a8\"],[0.3333333333333333,\"#9c179e\"],[0.4444444444444444,\"#bd3786\"],[0.5555555555555556,\"#d8576b\"],[0.6666666666666666,\"#ed7953\"],[0.7777777777777778,\"#fb9f3a\"],[0.8888888888888888,\"#fdca26\"],[1.0,\"#f0f921\"]],\"diverging\":[[0,\"#8e0152\"],[0.1,\"#c51b7d\"],[0.2,\"#de77ae\"],[0.3,\"#f1b6da\"],[0.4,\"#fde0ef\"],[0.5,\"#f7f7f7\"],[0.6,\"#e6f5d0\"],[0.7,\"#b8e186\"],[0.8,\"#7fbc41\"],[0.9,\"#4d9221\"],[1,\"#276419\"]]},\"xaxis\":{\"gridcolor\":\"white\",\"linecolor\":\"white\",\"ticks\":\"\",\"title\":{\"standoff\":15},\"zerolinecolor\":\"white\",\"automargin\":true,\"zerolinewidth\":2},\"yaxis\":{\"gridcolor\":\"white\",\"linecolor\":\"white\",\"ticks\":\"\",\"title\":{\"standoff\":15},\"zerolinecolor\":\"white\",\"automargin\":true,\"zerolinewidth\":2},\"scene\":{\"xaxis\":{\"backgroundcolor\":\"#E5ECF6\",\"gridcolor\":\"white\",\"linecolor\":\"white\",\"showbackground\":true,\"ticks\":\"\",\"zerolinecolor\":\"white\",\"gridwidth\":2},\"yaxis\":{\"backgroundcolor\":\"#E5ECF6\",\"gridcolor\":\"white\",\"linecolor\":\"white\",\"showbackground\":true,\"ticks\":\"\",\"zerolinecolor\":\"white\",\"gridwidth\":2},\"zaxis\":{\"backgroundcolor\":\"#E5ECF6\",\"gridcolor\":\"white\",\"linecolor\":\"white\",\"showbackground\":true,\"ticks\":\"\",\"zerolinecolor\":\"white\",\"gridwidth\":2}},\"shapedefaults\":{\"line\":{\"color\":\"#2a3f5f\"}},\"annotationdefaults\":{\"arrowcolor\":\"#2a3f5f\",\"arrowhead\":0,\"arrowwidth\":1},\"geo\":{\"bgcolor\":\"white\",\"landcolor\":\"#E5ECF6\",\"subunitcolor\":\"white\",\"showland\":true,\"showlakes\":true,\"lakecolor\":\"white\"},\"title\":{\"x\":0.05},\"mapbox\":{\"style\":\"light\"}}},\"xaxis\":{\"anchor\":\"y\",\"domain\":[0.0,1.0]},\"yaxis\":{\"anchor\":\"x\",\"domain\":[0.0,1.0],\"title\":{\"text\":\"Calificaci\\u00f3n final\"}},\"legend\":{\"tracegroupgap\":0},\"margin\":{\"t\":60},\"boxmode\":\"group\"},                        {\"responsive\": true}                    ).then(function(){\n",
       "                            \n",
       "var gd = document.getElementById('b2993d1c-a33d-4f86-b92b-c21e50a8de3d');\n",
       "var x = new MutationObserver(function (mutations, observer) {{\n",
       "        var display = window.getComputedStyle(gd).display;\n",
       "        if (!display || display === 'none') {{\n",
       "            console.log([gd, 'removed!']);\n",
       "            Plotly.purge(gd);\n",
       "            observer.disconnect();\n",
       "        }}\n",
       "}});\n",
       "\n",
       "// Listen for the removal of the full notebook cells\n",
       "var notebookContainer = gd.closest('#notebook-container');\n",
       "if (notebookContainer) {{\n",
       "    x.observe(notebookContainer, {childList: true});\n",
       "}}\n",
       "\n",
       "// Listen for the clearing of the current output cell\n",
       "var outputEl = gd.closest('.output');\n",
       "if (outputEl) {{\n",
       "    x.observe(outputEl, {childList: true});\n",
       "}}\n",
       "\n",
       "                        })                };                });            </script>        </div>"
      ]
     },
     "metadata": {},
     "output_type": "display_data"
    }
   ],
   "source": [
    "px.box(df,y=\"Calificación final\")"
   ]
  },
  {
   "cell_type": "code",
   "execution_count": 25,
   "id": "40ced306",
   "metadata": {},
   "outputs": [],
   "source": [
    "correlacion_target=df.corr(method=\"spearman\")\n",
    "correlacion_target=abs(correlacion_target)"
   ]
  },
  {
   "cell_type": "code",
   "execution_count": 26,
   "id": "d66c5071",
   "metadata": {},
   "outputs": [
    {
     "data": {
      "text/html": [
       "<div>\n",
       "<style scoped>\n",
       "    .dataframe tbody tr th:only-of-type {\n",
       "        vertical-align: middle;\n",
       "    }\n",
       "\n",
       "    .dataframe tbody tr th {\n",
       "        vertical-align: top;\n",
       "    }\n",
       "\n",
       "    .dataframe thead th {\n",
       "        text-align: right;\n",
       "    }\n",
       "</style>\n",
       "<table border=\"1\" class=\"dataframe\">\n",
       "  <thead>\n",
       "    <tr style=\"text-align: right;\">\n",
       "      <th></th>\n",
       "      <th>Examen</th>\n",
       "      <th>P1</th>\n",
       "      <th>P2</th>\n",
       "      <th>P3</th>\n",
       "      <th>P4</th>\n",
       "      <th>Presentacion Proyecto</th>\n",
       "      <th>Proyecto escrito y codigo</th>\n",
       "      <th>Calificación final</th>\n",
       "      <th>Paso</th>\n",
       "    </tr>\n",
       "  </thead>\n",
       "  <tbody>\n",
       "    <tr>\n",
       "      <th>Examen</th>\n",
       "      <td>1.000000</td>\n",
       "      <td>0.388030</td>\n",
       "      <td>0.158975</td>\n",
       "      <td>0.236837</td>\n",
       "      <td>0.348258</td>\n",
       "      <td>0.457308</td>\n",
       "      <td>0.462839</td>\n",
       "      <td>0.698861</td>\n",
       "      <td>0.590120</td>\n",
       "    </tr>\n",
       "    <tr>\n",
       "      <th>P1</th>\n",
       "      <td>0.388030</td>\n",
       "      <td>1.000000</td>\n",
       "      <td>0.277696</td>\n",
       "      <td>0.278936</td>\n",
       "      <td>0.208015</td>\n",
       "      <td>0.518162</td>\n",
       "      <td>0.432606</td>\n",
       "      <td>0.638883</td>\n",
       "      <td>0.603487</td>\n",
       "    </tr>\n",
       "    <tr>\n",
       "      <th>P2</th>\n",
       "      <td>0.158975</td>\n",
       "      <td>0.277696</td>\n",
       "      <td>1.000000</td>\n",
       "      <td>0.499710</td>\n",
       "      <td>0.353849</td>\n",
       "      <td>0.168012</td>\n",
       "      <td>0.050670</td>\n",
       "      <td>0.383574</td>\n",
       "      <td>0.140790</td>\n",
       "    </tr>\n",
       "    <tr>\n",
       "      <th>P3</th>\n",
       "      <td>0.236837</td>\n",
       "      <td>0.278936</td>\n",
       "      <td>0.499710</td>\n",
       "      <td>1.000000</td>\n",
       "      <td>0.235423</td>\n",
       "      <td>0.269904</td>\n",
       "      <td>0.186009</td>\n",
       "      <td>0.610037</td>\n",
       "      <td>0.287146</td>\n",
       "    </tr>\n",
       "    <tr>\n",
       "      <th>P4</th>\n",
       "      <td>0.348258</td>\n",
       "      <td>0.208015</td>\n",
       "      <td>0.353849</td>\n",
       "      <td>0.235423</td>\n",
       "      <td>1.000000</td>\n",
       "      <td>0.248335</td>\n",
       "      <td>0.389932</td>\n",
       "      <td>0.461670</td>\n",
       "      <td>0.526928</td>\n",
       "    </tr>\n",
       "    <tr>\n",
       "      <th>Presentacion Proyecto</th>\n",
       "      <td>0.457308</td>\n",
       "      <td>0.518162</td>\n",
       "      <td>0.168012</td>\n",
       "      <td>0.269904</td>\n",
       "      <td>0.248335</td>\n",
       "      <td>1.000000</td>\n",
       "      <td>0.492004</td>\n",
       "      <td>0.684891</td>\n",
       "      <td>0.643298</td>\n",
       "    </tr>\n",
       "    <tr>\n",
       "      <th>Proyecto escrito y codigo</th>\n",
       "      <td>0.462839</td>\n",
       "      <td>0.432606</td>\n",
       "      <td>0.050670</td>\n",
       "      <td>0.186009</td>\n",
       "      <td>0.389932</td>\n",
       "      <td>0.492004</td>\n",
       "      <td>1.000000</td>\n",
       "      <td>0.631660</td>\n",
       "      <td>0.676499</td>\n",
       "    </tr>\n",
       "    <tr>\n",
       "      <th>Calificación final</th>\n",
       "      <td>0.698861</td>\n",
       "      <td>0.638883</td>\n",
       "      <td>0.383574</td>\n",
       "      <td>0.610037</td>\n",
       "      <td>0.461670</td>\n",
       "      <td>0.684891</td>\n",
       "      <td>0.631660</td>\n",
       "      <td>1.000000</td>\n",
       "      <td>0.761358</td>\n",
       "    </tr>\n",
       "    <tr>\n",
       "      <th>Paso</th>\n",
       "      <td>0.590120</td>\n",
       "      <td>0.603487</td>\n",
       "      <td>0.140790</td>\n",
       "      <td>0.287146</td>\n",
       "      <td>0.526928</td>\n",
       "      <td>0.643298</td>\n",
       "      <td>0.676499</td>\n",
       "      <td>0.761358</td>\n",
       "      <td>1.000000</td>\n",
       "    </tr>\n",
       "  </tbody>\n",
       "</table>\n",
       "</div>"
      ],
      "text/plain": [
       "                             Examen        P1        P2        P3        P4  \\\n",
       "Examen                     1.000000  0.388030  0.158975  0.236837  0.348258   \n",
       "P1                         0.388030  1.000000  0.277696  0.278936  0.208015   \n",
       "P2                         0.158975  0.277696  1.000000  0.499710  0.353849   \n",
       "P3                         0.236837  0.278936  0.499710  1.000000  0.235423   \n",
       "P4                         0.348258  0.208015  0.353849  0.235423  1.000000   \n",
       "Presentacion Proyecto      0.457308  0.518162  0.168012  0.269904  0.248335   \n",
       "Proyecto escrito y codigo  0.462839  0.432606  0.050670  0.186009  0.389932   \n",
       "Calificación final         0.698861  0.638883  0.383574  0.610037  0.461670   \n",
       "Paso                       0.590120  0.603487  0.140790  0.287146  0.526928   \n",
       "\n",
       "                           Presentacion Proyecto  Proyecto escrito y codigo  \\\n",
       "Examen                                  0.457308                   0.462839   \n",
       "P1                                      0.518162                   0.432606   \n",
       "P2                                      0.168012                   0.050670   \n",
       "P3                                      0.269904                   0.186009   \n",
       "P4                                      0.248335                   0.389932   \n",
       "Presentacion Proyecto                   1.000000                   0.492004   \n",
       "Proyecto escrito y codigo               0.492004                   1.000000   \n",
       "Calificación final                      0.684891                   0.631660   \n",
       "Paso                                    0.643298                   0.676499   \n",
       "\n",
       "                           Calificación final      Paso  \n",
       "Examen                               0.698861  0.590120  \n",
       "P1                                   0.638883  0.603487  \n",
       "P2                                   0.383574  0.140790  \n",
       "P3                                   0.610037  0.287146  \n",
       "P4                                   0.461670  0.526928  \n",
       "Presentacion Proyecto                0.684891  0.643298  \n",
       "Proyecto escrito y codigo            0.631660  0.676499  \n",
       "Calificación final                   1.000000  0.761358  \n",
       "Paso                                 0.761358  1.000000  "
      ]
     },
     "execution_count": 26,
     "metadata": {},
     "output_type": "execute_result"
    }
   ],
   "source": [
    "correlacion_target"
   ]
  },
  {
   "cell_type": "code",
   "execution_count": 27,
   "id": "261beabc",
   "metadata": {},
   "outputs": [
    {
     "data": {
      "text/html": [
       "<style type=\"text/css\">\n",
       "#T_bd0a1_row0_col0 {\n",
       "  background-color: #023858;\n",
       "  color: #f1f1f1;\n",
       "}\n",
       "#T_bd0a1_row1_col0 {\n",
       "  background-color: #1077b4;\n",
       "  color: #f1f1f1;\n",
       "}\n",
       "#T_bd0a1_row2_col0 {\n",
       "  background-color: #3790c0;\n",
       "  color: #f1f1f1;\n",
       "}\n",
       "#T_bd0a1_row3_col0 {\n",
       "  background-color: #4a98c5;\n",
       "  color: #f1f1f1;\n",
       "}\n",
       "#T_bd0a1_row4_col0 {\n",
       "  background-color: #62a2cb;\n",
       "  color: #f1f1f1;\n",
       "}\n",
       "#T_bd0a1_row5_col0 {\n",
       "  background-color: #69a5cc;\n",
       "  color: #f1f1f1;\n",
       "}\n",
       "#T_bd0a1_row6_col0 {\n",
       "  background-color: #88b1d4;\n",
       "  color: #000000;\n",
       "}\n",
       "#T_bd0a1_row7_col0 {\n",
       "  background-color: #e2dfee;\n",
       "  color: #000000;\n",
       "}\n",
       "#T_bd0a1_row8_col0 {\n",
       "  background-color: #fff7fb;\n",
       "  color: #000000;\n",
       "}\n",
       "</style>\n",
       "<table id=\"T_bd0a1\">\n",
       "  <thead>\n",
       "    <tr>\n",
       "      <th class=\"blank level0\" >&nbsp;</th>\n",
       "      <th id=\"T_bd0a1_level0_col0\" class=\"col_heading level0 col0\" >Paso</th>\n",
       "    </tr>\n",
       "  </thead>\n",
       "  <tbody>\n",
       "    <tr>\n",
       "      <th id=\"T_bd0a1_level0_row0\" class=\"row_heading level0 row0\" >Paso</th>\n",
       "      <td id=\"T_bd0a1_row0_col0\" class=\"data row0 col0\" >1.000000</td>\n",
       "    </tr>\n",
       "    <tr>\n",
       "      <th id=\"T_bd0a1_level0_row1\" class=\"row_heading level0 row1\" >Calificación final</th>\n",
       "      <td id=\"T_bd0a1_row1_col0\" class=\"data row1 col0\" >0.761358</td>\n",
       "    </tr>\n",
       "    <tr>\n",
       "      <th id=\"T_bd0a1_level0_row2\" class=\"row_heading level0 row2\" >Proyecto escrito y codigo</th>\n",
       "      <td id=\"T_bd0a1_row2_col0\" class=\"data row2 col0\" >0.676499</td>\n",
       "    </tr>\n",
       "    <tr>\n",
       "      <th id=\"T_bd0a1_level0_row3\" class=\"row_heading level0 row3\" >Presentacion Proyecto</th>\n",
       "      <td id=\"T_bd0a1_row3_col0\" class=\"data row3 col0\" >0.643298</td>\n",
       "    </tr>\n",
       "    <tr>\n",
       "      <th id=\"T_bd0a1_level0_row4\" class=\"row_heading level0 row4\" >P1</th>\n",
       "      <td id=\"T_bd0a1_row4_col0\" class=\"data row4 col0\" >0.603487</td>\n",
       "    </tr>\n",
       "    <tr>\n",
       "      <th id=\"T_bd0a1_level0_row5\" class=\"row_heading level0 row5\" >Examen</th>\n",
       "      <td id=\"T_bd0a1_row5_col0\" class=\"data row5 col0\" >0.590120</td>\n",
       "    </tr>\n",
       "    <tr>\n",
       "      <th id=\"T_bd0a1_level0_row6\" class=\"row_heading level0 row6\" >P4</th>\n",
       "      <td id=\"T_bd0a1_row6_col0\" class=\"data row6 col0\" >0.526928</td>\n",
       "    </tr>\n",
       "    <tr>\n",
       "      <th id=\"T_bd0a1_level0_row7\" class=\"row_heading level0 row7\" >P3</th>\n",
       "      <td id=\"T_bd0a1_row7_col0\" class=\"data row7 col0\" >0.287146</td>\n",
       "    </tr>\n",
       "    <tr>\n",
       "      <th id=\"T_bd0a1_level0_row8\" class=\"row_heading level0 row8\" >P2</th>\n",
       "      <td id=\"T_bd0a1_row8_col0\" class=\"data row8 col0\" >0.140790</td>\n",
       "    </tr>\n",
       "  </tbody>\n",
       "</table>\n"
      ],
      "text/plain": [
       "<pandas.io.formats.style.Styler at 0x7ff6b2fa5d30>"
      ]
     },
     "execution_count": 27,
     "metadata": {},
     "output_type": "execute_result"
    }
   ],
   "source": [
    "correlacion_target[[\"Paso\"]].sort_values(by ='Paso',ascending = False).style.background_gradient()"
   ]
  },
  {
   "cell_type": "code",
   "execution_count": 29,
   "id": "77aed33e",
   "metadata": {},
   "outputs": [
    {
     "data": {
      "text/html": [
       "        <script type=\"text/javascript\">\n",
       "        window.PlotlyConfig = {MathJaxConfig: 'local'};\n",
       "        if (window.MathJax) {MathJax.Hub.Config({SVG: {font: \"STIX-Web\"}});}\n",
       "        if (typeof require !== 'undefined') {\n",
       "        require.undef(\"plotly\");\n",
       "        requirejs.config({\n",
       "            paths: {\n",
       "                'plotly': ['https://cdn.plot.ly/plotly-2.11.1.min']\n",
       "            }\n",
       "        });\n",
       "        require(['plotly'], function(Plotly) {\n",
       "            window._Plotly = Plotly;\n",
       "        });\n",
       "        }\n",
       "        </script>\n",
       "        "
      ]
     },
     "metadata": {},
     "output_type": "display_data"
    },
    {
     "data": {
      "application/vnd.plotly.v1+json": {
       "config": {
        "linkText": "Export to plot.ly",
        "plotlyServerURL": "https://plot.ly",
        "showLink": true
       },
       "data": [
        {
         "colorscale": [
          [
           0,
           "rgb(255,247,236)"
          ],
          [
           0.125,
           "rgb(254,232,200)"
          ],
          [
           0.25,
           "rgb(253,212,158)"
          ],
          [
           0.375,
           "rgb(253,187,132)"
          ],
          [
           0.5,
           "rgb(252,141,89)"
          ],
          [
           0.625,
           "rgb(239,101,72)"
          ],
          [
           0.75,
           "rgb(215,48,31)"
          ],
          [
           0.875,
           "rgb(179,0,0)"
          ],
          [
           1,
           "rgb(127,0,0)"
          ]
         ],
         "type": "heatmap",
         "x": [
          "Examen",
          "P1",
          "P2",
          "P3",
          "P4",
          "Presentacion Proyecto",
          "Proyecto escrito y codigo",
          "Calificación final",
          "Paso"
         ],
         "y": [
          "Examen",
          "P1",
          "P2",
          "P3",
          "P4",
          "Presentacion Proyecto",
          "Proyecto escrito y codigo",
          "Calificación final",
          "Paso"
         ],
         "z": [
          [
           1,
           0.38802954356810077,
           0.15897527481752105,
           0.23683692074789608,
           0.3482576752688131,
           0.45730754606427876,
           0.46283873309740925,
           0.6988612446064605,
           0.5901201682898756
          ],
          [
           0.38802954356810077,
           1,
           0.27769617905815797,
           0.27893580423371517,
           0.20801515174317795,
           0.5181624703215754,
           0.4326061274571291,
           0.6388830071649567,
           0.6034874091881374
          ],
          [
           0.15897527481752105,
           0.27769617905815797,
           1,
           0.4997101132733,
           0.35384931495093663,
           0.16801228890069914,
           0.05066955937493912,
           0.3835743165321681,
           0.14079043850289244
          ],
          [
           0.23683692074789608,
           0.27893580423371517,
           0.4997101132733,
           1,
           0.2354232081477918,
           0.2699040258005586,
           0.18600917453823376,
           0.6100372253177465,
           0.2871457176719512
          ],
          [
           0.3482576752688131,
           0.20801515174317795,
           0.35384931495093663,
           0.2354232081477918,
           1,
           0.24833466715725447,
           0.3899317403180345,
           0.46167036383015714,
           0.5269276572905064
          ],
          [
           0.45730754606427876,
           0.5181624703215754,
           0.16801228890069914,
           0.2699040258005586,
           0.24833466715725447,
           1,
           0.49200435000647746,
           0.6848906900277383,
           0.6432978585714703
          ],
          [
           0.46283873309740925,
           0.4326061274571291,
           0.05066955937493912,
           0.18600917453823376,
           0.3899317403180345,
           0.49200435000647746,
           1,
           0.631659928275771,
           0.6764988078838409
          ],
          [
           0.6988612446064605,
           0.6388830071649567,
           0.3835743165321681,
           0.6100372253177465,
           0.46167036383015714,
           0.6848906900277383,
           0.631659928275771,
           1,
           0.761357797257954
          ],
          [
           0.5901201682898756,
           0.6034874091881374,
           0.14079043850289244,
           0.2871457176719512,
           0.5269276572905064,
           0.6432978585714703,
           0.6764988078838409,
           0.761357797257954,
           1
          ]
         ],
         "zmax": 1,
         "zmin": 0.05066955937493912
        }
       ],
       "layout": {
        "legend": {
         "bgcolor": "#F5F6F9",
         "font": {
          "color": "#4D5663"
         }
        },
        "paper_bgcolor": "#F5F6F9",
        "plot_bgcolor": "#F5F6F9",
        "template": {
         "data": {
          "bar": [
           {
            "error_x": {
             "color": "#2a3f5f"
            },
            "error_y": {
             "color": "#2a3f5f"
            },
            "marker": {
             "line": {
              "color": "#E5ECF6",
              "width": 0.5
             },
             "pattern": {
              "fillmode": "overlay",
              "size": 10,
              "solidity": 0.2
             }
            },
            "type": "bar"
           }
          ],
          "barpolar": [
           {
            "marker": {
             "line": {
              "color": "#E5ECF6",
              "width": 0.5
             },
             "pattern": {
              "fillmode": "overlay",
              "size": 10,
              "solidity": 0.2
             }
            },
            "type": "barpolar"
           }
          ],
          "carpet": [
           {
            "aaxis": {
             "endlinecolor": "#2a3f5f",
             "gridcolor": "white",
             "linecolor": "white",
             "minorgridcolor": "white",
             "startlinecolor": "#2a3f5f"
            },
            "baxis": {
             "endlinecolor": "#2a3f5f",
             "gridcolor": "white",
             "linecolor": "white",
             "minorgridcolor": "white",
             "startlinecolor": "#2a3f5f"
            },
            "type": "carpet"
           }
          ],
          "choropleth": [
           {
            "colorbar": {
             "outlinewidth": 0,
             "ticks": ""
            },
            "type": "choropleth"
           }
          ],
          "contour": [
           {
            "colorbar": {
             "outlinewidth": 0,
             "ticks": ""
            },
            "colorscale": [
             [
              0,
              "#0d0887"
             ],
             [
              0.1111111111111111,
              "#46039f"
             ],
             [
              0.2222222222222222,
              "#7201a8"
             ],
             [
              0.3333333333333333,
              "#9c179e"
             ],
             [
              0.4444444444444444,
              "#bd3786"
             ],
             [
              0.5555555555555556,
              "#d8576b"
             ],
             [
              0.6666666666666666,
              "#ed7953"
             ],
             [
              0.7777777777777778,
              "#fb9f3a"
             ],
             [
              0.8888888888888888,
              "#fdca26"
             ],
             [
              1,
              "#f0f921"
             ]
            ],
            "type": "contour"
           }
          ],
          "contourcarpet": [
           {
            "colorbar": {
             "outlinewidth": 0,
             "ticks": ""
            },
            "type": "contourcarpet"
           }
          ],
          "heatmap": [
           {
            "colorbar": {
             "outlinewidth": 0,
             "ticks": ""
            },
            "colorscale": [
             [
              0,
              "#0d0887"
             ],
             [
              0.1111111111111111,
              "#46039f"
             ],
             [
              0.2222222222222222,
              "#7201a8"
             ],
             [
              0.3333333333333333,
              "#9c179e"
             ],
             [
              0.4444444444444444,
              "#bd3786"
             ],
             [
              0.5555555555555556,
              "#d8576b"
             ],
             [
              0.6666666666666666,
              "#ed7953"
             ],
             [
              0.7777777777777778,
              "#fb9f3a"
             ],
             [
              0.8888888888888888,
              "#fdca26"
             ],
             [
              1,
              "#f0f921"
             ]
            ],
            "type": "heatmap"
           }
          ],
          "heatmapgl": [
           {
            "colorbar": {
             "outlinewidth": 0,
             "ticks": ""
            },
            "colorscale": [
             [
              0,
              "#0d0887"
             ],
             [
              0.1111111111111111,
              "#46039f"
             ],
             [
              0.2222222222222222,
              "#7201a8"
             ],
             [
              0.3333333333333333,
              "#9c179e"
             ],
             [
              0.4444444444444444,
              "#bd3786"
             ],
             [
              0.5555555555555556,
              "#d8576b"
             ],
             [
              0.6666666666666666,
              "#ed7953"
             ],
             [
              0.7777777777777778,
              "#fb9f3a"
             ],
             [
              0.8888888888888888,
              "#fdca26"
             ],
             [
              1,
              "#f0f921"
             ]
            ],
            "type": "heatmapgl"
           }
          ],
          "histogram": [
           {
            "marker": {
             "pattern": {
              "fillmode": "overlay",
              "size": 10,
              "solidity": 0.2
             }
            },
            "type": "histogram"
           }
          ],
          "histogram2d": [
           {
            "colorbar": {
             "outlinewidth": 0,
             "ticks": ""
            },
            "colorscale": [
             [
              0,
              "#0d0887"
             ],
             [
              0.1111111111111111,
              "#46039f"
             ],
             [
              0.2222222222222222,
              "#7201a8"
             ],
             [
              0.3333333333333333,
              "#9c179e"
             ],
             [
              0.4444444444444444,
              "#bd3786"
             ],
             [
              0.5555555555555556,
              "#d8576b"
             ],
             [
              0.6666666666666666,
              "#ed7953"
             ],
             [
              0.7777777777777778,
              "#fb9f3a"
             ],
             [
              0.8888888888888888,
              "#fdca26"
             ],
             [
              1,
              "#f0f921"
             ]
            ],
            "type": "histogram2d"
           }
          ],
          "histogram2dcontour": [
           {
            "colorbar": {
             "outlinewidth": 0,
             "ticks": ""
            },
            "colorscale": [
             [
              0,
              "#0d0887"
             ],
             [
              0.1111111111111111,
              "#46039f"
             ],
             [
              0.2222222222222222,
              "#7201a8"
             ],
             [
              0.3333333333333333,
              "#9c179e"
             ],
             [
              0.4444444444444444,
              "#bd3786"
             ],
             [
              0.5555555555555556,
              "#d8576b"
             ],
             [
              0.6666666666666666,
              "#ed7953"
             ],
             [
              0.7777777777777778,
              "#fb9f3a"
             ],
             [
              0.8888888888888888,
              "#fdca26"
             ],
             [
              1,
              "#f0f921"
             ]
            ],
            "type": "histogram2dcontour"
           }
          ],
          "mesh3d": [
           {
            "colorbar": {
             "outlinewidth": 0,
             "ticks": ""
            },
            "type": "mesh3d"
           }
          ],
          "parcoords": [
           {
            "line": {
             "colorbar": {
              "outlinewidth": 0,
              "ticks": ""
             }
            },
            "type": "parcoords"
           }
          ],
          "pie": [
           {
            "automargin": true,
            "type": "pie"
           }
          ],
          "scatter": [
           {
            "fillpattern": {
             "fillmode": "overlay",
             "size": 10,
             "solidity": 0.2
            },
            "type": "scatter"
           }
          ],
          "scatter3d": [
           {
            "line": {
             "colorbar": {
              "outlinewidth": 0,
              "ticks": ""
             }
            },
            "marker": {
             "colorbar": {
              "outlinewidth": 0,
              "ticks": ""
             }
            },
            "type": "scatter3d"
           }
          ],
          "scattercarpet": [
           {
            "marker": {
             "colorbar": {
              "outlinewidth": 0,
              "ticks": ""
             }
            },
            "type": "scattercarpet"
           }
          ],
          "scattergeo": [
           {
            "marker": {
             "colorbar": {
              "outlinewidth": 0,
              "ticks": ""
             }
            },
            "type": "scattergeo"
           }
          ],
          "scattergl": [
           {
            "marker": {
             "colorbar": {
              "outlinewidth": 0,
              "ticks": ""
             }
            },
            "type": "scattergl"
           }
          ],
          "scattermapbox": [
           {
            "marker": {
             "colorbar": {
              "outlinewidth": 0,
              "ticks": ""
             }
            },
            "type": "scattermapbox"
           }
          ],
          "scatterpolar": [
           {
            "marker": {
             "colorbar": {
              "outlinewidth": 0,
              "ticks": ""
             }
            },
            "type": "scatterpolar"
           }
          ],
          "scatterpolargl": [
           {
            "marker": {
             "colorbar": {
              "outlinewidth": 0,
              "ticks": ""
             }
            },
            "type": "scatterpolargl"
           }
          ],
          "scatterternary": [
           {
            "marker": {
             "colorbar": {
              "outlinewidth": 0,
              "ticks": ""
             }
            },
            "type": "scatterternary"
           }
          ],
          "surface": [
           {
            "colorbar": {
             "outlinewidth": 0,
             "ticks": ""
            },
            "colorscale": [
             [
              0,
              "#0d0887"
             ],
             [
              0.1111111111111111,
              "#46039f"
             ],
             [
              0.2222222222222222,
              "#7201a8"
             ],
             [
              0.3333333333333333,
              "#9c179e"
             ],
             [
              0.4444444444444444,
              "#bd3786"
             ],
             [
              0.5555555555555556,
              "#d8576b"
             ],
             [
              0.6666666666666666,
              "#ed7953"
             ],
             [
              0.7777777777777778,
              "#fb9f3a"
             ],
             [
              0.8888888888888888,
              "#fdca26"
             ],
             [
              1,
              "#f0f921"
             ]
            ],
            "type": "surface"
           }
          ],
          "table": [
           {
            "cells": {
             "fill": {
              "color": "#EBF0F8"
             },
             "line": {
              "color": "white"
             }
            },
            "header": {
             "fill": {
              "color": "#C8D4E3"
             },
             "line": {
              "color": "white"
             }
            },
            "type": "table"
           }
          ]
         },
         "layout": {
          "annotationdefaults": {
           "arrowcolor": "#2a3f5f",
           "arrowhead": 0,
           "arrowwidth": 1
          },
          "autotypenumbers": "strict",
          "coloraxis": {
           "colorbar": {
            "outlinewidth": 0,
            "ticks": ""
           }
          },
          "colorscale": {
           "diverging": [
            [
             0,
             "#8e0152"
            ],
            [
             0.1,
             "#c51b7d"
            ],
            [
             0.2,
             "#de77ae"
            ],
            [
             0.3,
             "#f1b6da"
            ],
            [
             0.4,
             "#fde0ef"
            ],
            [
             0.5,
             "#f7f7f7"
            ],
            [
             0.6,
             "#e6f5d0"
            ],
            [
             0.7,
             "#b8e186"
            ],
            [
             0.8,
             "#7fbc41"
            ],
            [
             0.9,
             "#4d9221"
            ],
            [
             1,
             "#276419"
            ]
           ],
           "sequential": [
            [
             0,
             "#0d0887"
            ],
            [
             0.1111111111111111,
             "#46039f"
            ],
            [
             0.2222222222222222,
             "#7201a8"
            ],
            [
             0.3333333333333333,
             "#9c179e"
            ],
            [
             0.4444444444444444,
             "#bd3786"
            ],
            [
             0.5555555555555556,
             "#d8576b"
            ],
            [
             0.6666666666666666,
             "#ed7953"
            ],
            [
             0.7777777777777778,
             "#fb9f3a"
            ],
            [
             0.8888888888888888,
             "#fdca26"
            ],
            [
             1,
             "#f0f921"
            ]
           ],
           "sequentialminus": [
            [
             0,
             "#0d0887"
            ],
            [
             0.1111111111111111,
             "#46039f"
            ],
            [
             0.2222222222222222,
             "#7201a8"
            ],
            [
             0.3333333333333333,
             "#9c179e"
            ],
            [
             0.4444444444444444,
             "#bd3786"
            ],
            [
             0.5555555555555556,
             "#d8576b"
            ],
            [
             0.6666666666666666,
             "#ed7953"
            ],
            [
             0.7777777777777778,
             "#fb9f3a"
            ],
            [
             0.8888888888888888,
             "#fdca26"
            ],
            [
             1,
             "#f0f921"
            ]
           ]
          },
          "colorway": [
           "#636efa",
           "#EF553B",
           "#00cc96",
           "#ab63fa",
           "#FFA15A",
           "#19d3f3",
           "#FF6692",
           "#B6E880",
           "#FF97FF",
           "#FECB52"
          ],
          "font": {
           "color": "#2a3f5f"
          },
          "geo": {
           "bgcolor": "white",
           "lakecolor": "white",
           "landcolor": "#E5ECF6",
           "showlakes": true,
           "showland": true,
           "subunitcolor": "white"
          },
          "hoverlabel": {
           "align": "left"
          },
          "hovermode": "closest",
          "mapbox": {
           "style": "light"
          },
          "paper_bgcolor": "white",
          "plot_bgcolor": "#E5ECF6",
          "polar": {
           "angularaxis": {
            "gridcolor": "white",
            "linecolor": "white",
            "ticks": ""
           },
           "bgcolor": "#E5ECF6",
           "radialaxis": {
            "gridcolor": "white",
            "linecolor": "white",
            "ticks": ""
           }
          },
          "scene": {
           "xaxis": {
            "backgroundcolor": "#E5ECF6",
            "gridcolor": "white",
            "gridwidth": 2,
            "linecolor": "white",
            "showbackground": true,
            "ticks": "",
            "zerolinecolor": "white"
           },
           "yaxis": {
            "backgroundcolor": "#E5ECF6",
            "gridcolor": "white",
            "gridwidth": 2,
            "linecolor": "white",
            "showbackground": true,
            "ticks": "",
            "zerolinecolor": "white"
           },
           "zaxis": {
            "backgroundcolor": "#E5ECF6",
            "gridcolor": "white",
            "gridwidth": 2,
            "linecolor": "white",
            "showbackground": true,
            "ticks": "",
            "zerolinecolor": "white"
           }
          },
          "shapedefaults": {
           "line": {
            "color": "#2a3f5f"
           }
          },
          "ternary": {
           "aaxis": {
            "gridcolor": "white",
            "linecolor": "white",
            "ticks": ""
           },
           "baxis": {
            "gridcolor": "white",
            "linecolor": "white",
            "ticks": ""
           },
           "bgcolor": "#E5ECF6",
           "caxis": {
            "gridcolor": "white",
            "linecolor": "white",
            "ticks": ""
           }
          },
          "title": {
           "x": 0.05
          },
          "xaxis": {
           "automargin": true,
           "gridcolor": "white",
           "linecolor": "white",
           "ticks": "",
           "title": {
            "standoff": 15
           },
           "zerolinecolor": "white",
           "zerolinewidth": 2
          },
          "yaxis": {
           "automargin": true,
           "gridcolor": "white",
           "linecolor": "white",
           "ticks": "",
           "title": {
            "standoff": 15
           },
           "zerolinecolor": "white",
           "zerolinewidth": 2
          }
         }
        },
        "title": {
         "font": {
          "color": "#4D5663"
         },
         "text": "Matriz de Correlación"
        },
        "xaxis": {
         "gridcolor": "#E1E5ED",
         "showgrid": true,
         "tickfont": {
          "color": "#4D5663"
         },
         "title": {
          "font": {
           "color": "#4D5663"
          },
          "text": ""
         },
         "zerolinecolor": "#E1E5ED"
        },
        "yaxis": {
         "gridcolor": "#E1E5ED",
         "showgrid": true,
         "tickfont": {
          "color": "#4D5663"
         },
         "title": {
          "font": {
           "color": "#4D5663"
          },
          "text": ""
         },
         "zerolinecolor": "#E1E5ED"
        }
       }
      },
      "text/html": [
       "<div>                            <div id=\"399a3e6f-35df-459d-be79-b8b286b2c199\" class=\"plotly-graph-div\" style=\"height:525px; width:100%;\"></div>            <script type=\"text/javascript\">                require([\"plotly\"], function(Plotly) {                    window.PLOTLYENV=window.PLOTLYENV || {};\n",
       "                    window.PLOTLYENV.BASE_URL='https://plot.ly';                                    if (document.getElementById(\"399a3e6f-35df-459d-be79-b8b286b2c199\")) {                    Plotly.newPlot(                        \"399a3e6f-35df-459d-be79-b8b286b2c199\",                        [{\"colorscale\":[[0.0,\"rgb(255,247,236)\"],[0.125,\"rgb(254,232,200)\"],[0.25,\"rgb(253,212,158)\"],[0.375,\"rgb(253,187,132)\"],[0.5,\"rgb(252,141,89)\"],[0.625,\"rgb(239,101,72)\"],[0.75,\"rgb(215,48,31)\"],[0.875,\"rgb(179,0,0)\"],[1.0,\"rgb(127,0,0)\"]],\"x\":[\"Examen\",\"P1\",\"P2\",\"P3\",\"P4\",\"Presentacion Proyecto\",\"Proyecto escrito y codigo\",\"Calificaci\\u00f3n final\",\"Paso\"],\"y\":[\"Examen\",\"P1\",\"P2\",\"P3\",\"P4\",\"Presentacion Proyecto\",\"Proyecto escrito y codigo\",\"Calificaci\\u00f3n final\",\"Paso\"],\"z\":[[1.0,0.38802954356810077,0.15897527481752105,0.23683692074789608,0.3482576752688131,0.45730754606427876,0.46283873309740925,0.6988612446064605,0.5901201682898756],[0.38802954356810077,1.0,0.27769617905815797,0.27893580423371517,0.20801515174317795,0.5181624703215754,0.4326061274571291,0.6388830071649567,0.6034874091881374],[0.15897527481752105,0.27769617905815797,1.0,0.4997101132733,0.35384931495093663,0.16801228890069914,0.05066955937493912,0.3835743165321681,0.14079043850289244],[0.23683692074789608,0.27893580423371517,0.4997101132733,1.0,0.2354232081477918,0.2699040258005586,0.18600917453823376,0.6100372253177465,0.2871457176719512],[0.3482576752688131,0.20801515174317795,0.35384931495093663,0.2354232081477918,1.0,0.24833466715725447,0.3899317403180345,0.46167036383015714,0.5269276572905064],[0.45730754606427876,0.5181624703215754,0.16801228890069914,0.2699040258005586,0.24833466715725447,1.0,0.49200435000647746,0.6848906900277383,0.6432978585714703],[0.46283873309740925,0.4326061274571291,0.05066955937493912,0.18600917453823376,0.3899317403180345,0.49200435000647746,1.0,0.631659928275771,0.6764988078838409],[0.6988612446064605,0.6388830071649567,0.3835743165321681,0.6100372253177465,0.46167036383015714,0.6848906900277383,0.631659928275771,1.0,0.761357797257954],[0.5901201682898756,0.6034874091881374,0.14079043850289244,0.2871457176719512,0.5269276572905064,0.6432978585714703,0.6764988078838409,0.761357797257954,1.0]],\"zmax\":1.0,\"zmin\":0.05066955937493912,\"type\":\"heatmap\"}],                        {\"legend\":{\"bgcolor\":\"#F5F6F9\",\"font\":{\"color\":\"#4D5663\"}},\"paper_bgcolor\":\"#F5F6F9\",\"plot_bgcolor\":\"#F5F6F9\",\"template\":{\"data\":{\"barpolar\":[{\"marker\":{\"line\":{\"color\":\"#E5ECF6\",\"width\":0.5},\"pattern\":{\"fillmode\":\"overlay\",\"size\":10,\"solidity\":0.2}},\"type\":\"barpolar\"}],\"bar\":[{\"error_x\":{\"color\":\"#2a3f5f\"},\"error_y\":{\"color\":\"#2a3f5f\"},\"marker\":{\"line\":{\"color\":\"#E5ECF6\",\"width\":0.5},\"pattern\":{\"fillmode\":\"overlay\",\"size\":10,\"solidity\":0.2}},\"type\":\"bar\"}],\"carpet\":[{\"aaxis\":{\"endlinecolor\":\"#2a3f5f\",\"gridcolor\":\"white\",\"linecolor\":\"white\",\"minorgridcolor\":\"white\",\"startlinecolor\":\"#2a3f5f\"},\"baxis\":{\"endlinecolor\":\"#2a3f5f\",\"gridcolor\":\"white\",\"linecolor\":\"white\",\"minorgridcolor\":\"white\",\"startlinecolor\":\"#2a3f5f\"},\"type\":\"carpet\"}],\"choropleth\":[{\"colorbar\":{\"outlinewidth\":0,\"ticks\":\"\"},\"type\":\"choropleth\"}],\"contourcarpet\":[{\"colorbar\":{\"outlinewidth\":0,\"ticks\":\"\"},\"type\":\"contourcarpet\"}],\"contour\":[{\"colorbar\":{\"outlinewidth\":0,\"ticks\":\"\"},\"colorscale\":[[0.0,\"#0d0887\"],[0.1111111111111111,\"#46039f\"],[0.2222222222222222,\"#7201a8\"],[0.3333333333333333,\"#9c179e\"],[0.4444444444444444,\"#bd3786\"],[0.5555555555555556,\"#d8576b\"],[0.6666666666666666,\"#ed7953\"],[0.7777777777777778,\"#fb9f3a\"],[0.8888888888888888,\"#fdca26\"],[1.0,\"#f0f921\"]],\"type\":\"contour\"}],\"heatmapgl\":[{\"colorbar\":{\"outlinewidth\":0,\"ticks\":\"\"},\"colorscale\":[[0.0,\"#0d0887\"],[0.1111111111111111,\"#46039f\"],[0.2222222222222222,\"#7201a8\"],[0.3333333333333333,\"#9c179e\"],[0.4444444444444444,\"#bd3786\"],[0.5555555555555556,\"#d8576b\"],[0.6666666666666666,\"#ed7953\"],[0.7777777777777778,\"#fb9f3a\"],[0.8888888888888888,\"#fdca26\"],[1.0,\"#f0f921\"]],\"type\":\"heatmapgl\"}],\"heatmap\":[{\"colorbar\":{\"outlinewidth\":0,\"ticks\":\"\"},\"colorscale\":[[0.0,\"#0d0887\"],[0.1111111111111111,\"#46039f\"],[0.2222222222222222,\"#7201a8\"],[0.3333333333333333,\"#9c179e\"],[0.4444444444444444,\"#bd3786\"],[0.5555555555555556,\"#d8576b\"],[0.6666666666666666,\"#ed7953\"],[0.7777777777777778,\"#fb9f3a\"],[0.8888888888888888,\"#fdca26\"],[1.0,\"#f0f921\"]],\"type\":\"heatmap\"}],\"histogram2dcontour\":[{\"colorbar\":{\"outlinewidth\":0,\"ticks\":\"\"},\"colorscale\":[[0.0,\"#0d0887\"],[0.1111111111111111,\"#46039f\"],[0.2222222222222222,\"#7201a8\"],[0.3333333333333333,\"#9c179e\"],[0.4444444444444444,\"#bd3786\"],[0.5555555555555556,\"#d8576b\"],[0.6666666666666666,\"#ed7953\"],[0.7777777777777778,\"#fb9f3a\"],[0.8888888888888888,\"#fdca26\"],[1.0,\"#f0f921\"]],\"type\":\"histogram2dcontour\"}],\"histogram2d\":[{\"colorbar\":{\"outlinewidth\":0,\"ticks\":\"\"},\"colorscale\":[[0.0,\"#0d0887\"],[0.1111111111111111,\"#46039f\"],[0.2222222222222222,\"#7201a8\"],[0.3333333333333333,\"#9c179e\"],[0.4444444444444444,\"#bd3786\"],[0.5555555555555556,\"#d8576b\"],[0.6666666666666666,\"#ed7953\"],[0.7777777777777778,\"#fb9f3a\"],[0.8888888888888888,\"#fdca26\"],[1.0,\"#f0f921\"]],\"type\":\"histogram2d\"}],\"histogram\":[{\"marker\":{\"pattern\":{\"fillmode\":\"overlay\",\"size\":10,\"solidity\":0.2}},\"type\":\"histogram\"}],\"mesh3d\":[{\"colorbar\":{\"outlinewidth\":0,\"ticks\":\"\"},\"type\":\"mesh3d\"}],\"parcoords\":[{\"line\":{\"colorbar\":{\"outlinewidth\":0,\"ticks\":\"\"}},\"type\":\"parcoords\"}],\"pie\":[{\"automargin\":true,\"type\":\"pie\"}],\"scatter3d\":[{\"line\":{\"colorbar\":{\"outlinewidth\":0,\"ticks\":\"\"}},\"marker\":{\"colorbar\":{\"outlinewidth\":0,\"ticks\":\"\"}},\"type\":\"scatter3d\"}],\"scattercarpet\":[{\"marker\":{\"colorbar\":{\"outlinewidth\":0,\"ticks\":\"\"}},\"type\":\"scattercarpet\"}],\"scattergeo\":[{\"marker\":{\"colorbar\":{\"outlinewidth\":0,\"ticks\":\"\"}},\"type\":\"scattergeo\"}],\"scattergl\":[{\"marker\":{\"colorbar\":{\"outlinewidth\":0,\"ticks\":\"\"}},\"type\":\"scattergl\"}],\"scattermapbox\":[{\"marker\":{\"colorbar\":{\"outlinewidth\":0,\"ticks\":\"\"}},\"type\":\"scattermapbox\"}],\"scatterpolargl\":[{\"marker\":{\"colorbar\":{\"outlinewidth\":0,\"ticks\":\"\"}},\"type\":\"scatterpolargl\"}],\"scatterpolar\":[{\"marker\":{\"colorbar\":{\"outlinewidth\":0,\"ticks\":\"\"}},\"type\":\"scatterpolar\"}],\"scatter\":[{\"fillpattern\":{\"fillmode\":\"overlay\",\"size\":10,\"solidity\":0.2},\"type\":\"scatter\"}],\"scatterternary\":[{\"marker\":{\"colorbar\":{\"outlinewidth\":0,\"ticks\":\"\"}},\"type\":\"scatterternary\"}],\"surface\":[{\"colorbar\":{\"outlinewidth\":0,\"ticks\":\"\"},\"colorscale\":[[0.0,\"#0d0887\"],[0.1111111111111111,\"#46039f\"],[0.2222222222222222,\"#7201a8\"],[0.3333333333333333,\"#9c179e\"],[0.4444444444444444,\"#bd3786\"],[0.5555555555555556,\"#d8576b\"],[0.6666666666666666,\"#ed7953\"],[0.7777777777777778,\"#fb9f3a\"],[0.8888888888888888,\"#fdca26\"],[1.0,\"#f0f921\"]],\"type\":\"surface\"}],\"table\":[{\"cells\":{\"fill\":{\"color\":\"#EBF0F8\"},\"line\":{\"color\":\"white\"}},\"header\":{\"fill\":{\"color\":\"#C8D4E3\"},\"line\":{\"color\":\"white\"}},\"type\":\"table\"}]},\"layout\":{\"annotationdefaults\":{\"arrowcolor\":\"#2a3f5f\",\"arrowhead\":0,\"arrowwidth\":1},\"autotypenumbers\":\"strict\",\"coloraxis\":{\"colorbar\":{\"outlinewidth\":0,\"ticks\":\"\"}},\"colorscale\":{\"diverging\":[[0,\"#8e0152\"],[0.1,\"#c51b7d\"],[0.2,\"#de77ae\"],[0.3,\"#f1b6da\"],[0.4,\"#fde0ef\"],[0.5,\"#f7f7f7\"],[0.6,\"#e6f5d0\"],[0.7,\"#b8e186\"],[0.8,\"#7fbc41\"],[0.9,\"#4d9221\"],[1,\"#276419\"]],\"sequential\":[[0.0,\"#0d0887\"],[0.1111111111111111,\"#46039f\"],[0.2222222222222222,\"#7201a8\"],[0.3333333333333333,\"#9c179e\"],[0.4444444444444444,\"#bd3786\"],[0.5555555555555556,\"#d8576b\"],[0.6666666666666666,\"#ed7953\"],[0.7777777777777778,\"#fb9f3a\"],[0.8888888888888888,\"#fdca26\"],[1.0,\"#f0f921\"]],\"sequentialminus\":[[0.0,\"#0d0887\"],[0.1111111111111111,\"#46039f\"],[0.2222222222222222,\"#7201a8\"],[0.3333333333333333,\"#9c179e\"],[0.4444444444444444,\"#bd3786\"],[0.5555555555555556,\"#d8576b\"],[0.6666666666666666,\"#ed7953\"],[0.7777777777777778,\"#fb9f3a\"],[0.8888888888888888,\"#fdca26\"],[1.0,\"#f0f921\"]]},\"colorway\":[\"#636efa\",\"#EF553B\",\"#00cc96\",\"#ab63fa\",\"#FFA15A\",\"#19d3f3\",\"#FF6692\",\"#B6E880\",\"#FF97FF\",\"#FECB52\"],\"font\":{\"color\":\"#2a3f5f\"},\"geo\":{\"bgcolor\":\"white\",\"lakecolor\":\"white\",\"landcolor\":\"#E5ECF6\",\"showlakes\":true,\"showland\":true,\"subunitcolor\":\"white\"},\"hoverlabel\":{\"align\":\"left\"},\"hovermode\":\"closest\",\"mapbox\":{\"style\":\"light\"},\"paper_bgcolor\":\"white\",\"plot_bgcolor\":\"#E5ECF6\",\"polar\":{\"angularaxis\":{\"gridcolor\":\"white\",\"linecolor\":\"white\",\"ticks\":\"\"},\"bgcolor\":\"#E5ECF6\",\"radialaxis\":{\"gridcolor\":\"white\",\"linecolor\":\"white\",\"ticks\":\"\"}},\"scene\":{\"xaxis\":{\"backgroundcolor\":\"#E5ECF6\",\"gridcolor\":\"white\",\"gridwidth\":2,\"linecolor\":\"white\",\"showbackground\":true,\"ticks\":\"\",\"zerolinecolor\":\"white\"},\"yaxis\":{\"backgroundcolor\":\"#E5ECF6\",\"gridcolor\":\"white\",\"gridwidth\":2,\"linecolor\":\"white\",\"showbackground\":true,\"ticks\":\"\",\"zerolinecolor\":\"white\"},\"zaxis\":{\"backgroundcolor\":\"#E5ECF6\",\"gridcolor\":\"white\",\"gridwidth\":2,\"linecolor\":\"white\",\"showbackground\":true,\"ticks\":\"\",\"zerolinecolor\":\"white\"}},\"shapedefaults\":{\"line\":{\"color\":\"#2a3f5f\"}},\"ternary\":{\"aaxis\":{\"gridcolor\":\"white\",\"linecolor\":\"white\",\"ticks\":\"\"},\"baxis\":{\"gridcolor\":\"white\",\"linecolor\":\"white\",\"ticks\":\"\"},\"bgcolor\":\"#E5ECF6\",\"caxis\":{\"gridcolor\":\"white\",\"linecolor\":\"white\",\"ticks\":\"\"}},\"title\":{\"x\":0.05},\"xaxis\":{\"automargin\":true,\"gridcolor\":\"white\",\"linecolor\":\"white\",\"ticks\":\"\",\"title\":{\"standoff\":15},\"zerolinecolor\":\"white\",\"zerolinewidth\":2},\"yaxis\":{\"automargin\":true,\"gridcolor\":\"white\",\"linecolor\":\"white\",\"ticks\":\"\",\"title\":{\"standoff\":15},\"zerolinecolor\":\"white\",\"zerolinewidth\":2}}},\"title\":{\"font\":{\"color\":\"#4D5663\"},\"text\":\"Matriz de Correlaci\\u00f3n\"},\"xaxis\":{\"gridcolor\":\"#E1E5ED\",\"showgrid\":true,\"tickfont\":{\"color\":\"#4D5663\"},\"title\":{\"font\":{\"color\":\"#4D5663\"},\"text\":\"\"},\"zerolinecolor\":\"#E1E5ED\"},\"yaxis\":{\"gridcolor\":\"#E1E5ED\",\"showgrid\":true,\"tickfont\":{\"color\":\"#4D5663\"},\"title\":{\"font\":{\"color\":\"#4D5663\"},\"text\":\"\"},\"zerolinecolor\":\"#E1E5ED\"}},                        {\"showLink\": true, \"linkText\": \"Export to plot.ly\", \"plotlyServerURL\": \"https://plot.ly\", \"responsive\": true}                    ).then(function(){\n",
       "                            \n",
       "var gd = document.getElementById('399a3e6f-35df-459d-be79-b8b286b2c199');\n",
       "var x = new MutationObserver(function (mutations, observer) {{\n",
       "        var display = window.getComputedStyle(gd).display;\n",
       "        if (!display || display === 'none') {{\n",
       "            console.log([gd, 'removed!']);\n",
       "            Plotly.purge(gd);\n",
       "            observer.disconnect();\n",
       "        }}\n",
       "}});\n",
       "\n",
       "// Listen for the removal of the full notebook cells\n",
       "var notebookContainer = gd.closest('#notebook-container');\n",
       "if (notebookContainer) {{\n",
       "    x.observe(notebookContainer, {childList: true});\n",
       "}}\n",
       "\n",
       "// Listen for the clearing of the current output cell\n",
       "var outputEl = gd.closest('.output');\n",
       "if (outputEl) {{\n",
       "    x.observe(outputEl, {childList: true});\n",
       "}}\n",
       "\n",
       "                        })                };                });            </script>        </div>"
      ]
     },
     "metadata": {},
     "output_type": "display_data"
    }
   ],
   "source": [
    "import plotly\n",
    "import plotly.graph_objects as go\n",
    "import plotly.express as px\n",
    "from plotly.offline import plot,iplot\n",
    "import cufflinks as cf\n",
    "pd.options.plotting.backend = \"plotly\"\n",
    "cf.go_offline()\n",
    "df.corr(method=\"spearman\").iplot(kind=\"heatmap\",colorscale=\"orrd\",title=\"Matriz de Correlación\")"
   ]
  },
  {
   "cell_type": "code",
   "execution_count": 31,
   "id": "79ed4f0d",
   "metadata": {},
   "outputs": [
    {
     "data": {
      "text/plain": [
       "0    84.0\n",
       "Name: Calificación final, dtype: float64"
      ]
     },
     "execution_count": 31,
     "metadata": {},
     "output_type": "execute_result"
    }
   ],
   "source": [
    "df[\"Calificación final\"].mode()"
   ]
  },
  {
   "cell_type": "code",
   "execution_count": 32,
   "id": "aa620f1b",
   "metadata": {},
   "outputs": [
    {
     "data": {
      "text/plain": [
       "85.0"
      ]
     },
     "execution_count": 32,
     "metadata": {},
     "output_type": "execute_result"
    }
   ],
   "source": [
    "df[\"Calificación final\"].median()"
   ]
  },
  {
   "cell_type": "code",
   "execution_count": 33,
   "id": "83c47c3b",
   "metadata": {},
   "outputs": [
    {
     "data": {
      "text/plain": [
       "85.0"
      ]
     },
     "execution_count": 33,
     "metadata": {},
     "output_type": "execute_result"
    }
   ],
   "source": [
    "df[\"Calificación final\"].median()"
   ]
  },
  {
   "cell_type": "code",
   "execution_count": 34,
   "id": "977cdbf4",
   "metadata": {},
   "outputs": [
    {
     "data": {
      "text/plain": [
       "4.476117858982155"
      ]
     },
     "execution_count": 34,
     "metadata": {},
     "output_type": "execute_result"
    }
   ],
   "source": [
    "from scipy.stats import kurtosis\n",
    "kurtosis(df[\"Calificación final\"])"
   ]
  },
  {
   "cell_type": "code",
   "execution_count": 37,
   "id": "679f55ed",
   "metadata": {},
   "outputs": [
    {
     "data": {
      "text/plain": [
       "<AxesSubplot:xlabel='Calificación final', ylabel='Count'>"
      ]
     },
     "execution_count": 37,
     "metadata": {},
     "output_type": "execute_result"
    },
    {
     "data": {
      "image/png": "[encoded data removed]",
      "text/plain": [
       "<Figure size 432x288 with 1 Axes>"
      ]
     },
     "metadata": {
      "needs_background": "light"
     },
     "output_type": "display_data"
    }
   ],
   "source": [
    "sns.histplot(data=df, x=\"Calificación final\", kde=True)"
   ]
  },
  {
   "cell_type": "code",
   "execution_count": 52,
   "id": "bdeafcd6",
   "metadata": {},
   "outputs": [
    {
     "data": {
      "application/vnd.plotly.v1+json": {
       "config": {
        "plotlyServerURL": "https://plot.ly"
       },
       "data": [
        {
         "autobinx": false,
         "histnorm": "probability density",
         "legendgroup": "Calificaciones finales",
         "marker": {
          "color": "darkviolet"
         },
         "name": "Calificaciones finales",
         "opacity": 0.7,
         "type": "histogram",
         "x": [
          84,
          89,
          75,
          84,
          88,
          83,
          89,
          88,
          91,
          0,
          77,
          84,
          67,
          81,
          88,
          96,
          84,
          69,
          84,
          70,
          88,
          90,
          0,
          91,
          86,
          83,
          89,
          86,
          75,
          0,
          87,
          83,
          94,
          0,
          88,
          85,
          85,
          87,
          81,
          86,
          70,
          93,
          87,
          89,
          93,
          84,
          0,
          89,
          90,
          87,
          87,
          84,
          52,
          78
         ],
         "xaxis": "x",
         "xbins": {
          "end": 96,
          "size": 1,
          "start": 0
         },
         "yaxis": "y"
        },
        {
         "legendgroup": "Calificaciones finales",
         "marker": {
          "color": "darkviolet"
         },
         "mode": "lines",
         "name": "Calificaciones finales",
         "showlegend": false,
         "type": "scatter",
         "x": [
          0,
          0.192,
          0.384,
          0.576,
          0.768,
          0.96,
          1.152,
          1.344,
          1.536,
          1.728,
          1.92,
          2.112,
          2.304,
          2.496,
          2.688,
          2.88,
          3.072,
          3.264,
          3.456,
          3.648,
          3.84,
          4.032,
          4.224,
          4.416,
          4.608,
          4.8,
          4.992,
          5.184,
          5.376,
          5.568,
          5.76,
          5.952,
          6.144,
          6.336,
          6.528,
          6.72,
          6.912,
          7.104,
          7.296,
          7.488,
          7.68,
          7.872,
          8.064,
          8.256,
          8.448,
          8.64,
          8.832,
          9.024,
          9.216,
          9.408,
          9.6,
          9.792,
          9.984,
          10.176,
          10.368,
          10.56,
          10.752,
          10.944,
          11.136,
          11.328,
          11.52,
          11.712,
          11.904,
          12.096,
          12.288,
          12.48,
          12.672,
          12.864,
          13.056,
          13.248,
          13.44,
          13.632,
          13.824,
          14.016,
          14.208,
          14.4,
          14.592,
          14.784,
          14.976,
          15.168,
          15.36,
          15.552,
          15.744,
          15.936,
          16.128,
          16.32,
          16.512,
          16.704,
          16.896,
          17.088,
          17.28,
          17.472,
          17.664,
          17.856,
          18.048,
          18.24,
          18.432,
          18.624,
          18.816,
          19.008,
          19.2,
          19.392,
          19.584,
          19.776,
          19.968,
          20.16,
          20.352,
          20.544,
          20.736,
          20.928,
          21.12,
          21.312,
          21.504,
          21.696,
          21.888,
          22.08,
          22.272,
          22.464,
          22.656,
          22.848,
          23.04,
          23.232,
          23.424,
          23.616,
          23.808,
          24,
          24.192,
          24.384,
          24.576,
          24.768,
          24.96,
          25.152,
          25.344,
          25.536,
          25.728,
          25.92,
          26.112,
          26.304,
          26.496,
          26.688,
          26.88,
          27.072,
          27.264,
          27.456,
          27.648,
          27.84,
          28.032,
          28.224,
          28.416,
          28.608,
          28.8,
          28.992,
          29.184,
          29.376,
          29.568,
          29.76,
          29.952,
          30.144,
          30.336,
          30.528,
          30.72,
          30.912,
          31.104,
          31.296,
          31.488,
          31.68,
          31.872,
          32.064,
          32.256,
          32.448,
          32.64,
          32.832,
          33.024,
          33.216,
          33.408,
          33.6,
          33.792,
          33.984,
          34.176,
          34.368,
          34.56,
          34.752,
          34.944,
          35.136,
          35.328,
          35.52,
          35.712,
          35.904,
          36.096,
          36.288,
          36.48,
          36.672,
          36.864,
          37.056,
          37.248,
          37.44,
          37.632,
          37.824,
          38.016,
          38.208,
          38.4,
          38.592,
          38.784,
          38.976,
          39.168,
          39.36,
          39.552,
          39.744,
          39.936,
          40.128,
          40.32,
          40.512,
          40.704,
          40.896,
          41.088,
          41.28,
          41.472,
          41.664,
          41.856,
          42.048,
          42.24,
          42.432,
          42.624,
          42.816,
          43.008,
          43.2,
          43.392,
          43.584,
          43.776,
          43.968,
          44.16,
          44.352,
          44.544,
          44.736,
          44.928,
          45.12,
          45.312,
          45.504,
          45.696,
          45.888,
          46.08,
          46.272,
          46.464,
          46.656,
          46.848,
          47.04,
          47.232,
          47.424,
          47.616,
          47.808,
          48,
          48.192,
          48.384,
          48.576,
          48.768,
          48.96,
          49.152,
          49.344,
          49.536,
          49.728,
          49.92,
          50.112,
          50.304,
          50.496,
          50.688,
          50.88,
          51.072,
          51.264,
          51.456,
          51.648,
          51.84,
          52.032,
          52.224,
          52.416,
          52.608,
          52.8,
          52.992,
          53.184,
          53.376,
          53.568,
          53.76,
          53.952,
          54.144,
          54.336,
          54.528,
          54.72,
          54.912,
          55.104,
          55.296,
          55.488,
          55.68,
          55.872,
          56.064,
          56.256,
          56.448,
          56.64,
          56.832,
          57.024,
          57.216,
          57.408,
          57.6,
          57.792,
          57.984,
          58.176,
          58.368,
          58.56,
          58.752,
          58.944,
          59.136,
          59.328,
          59.52,
          59.712,
          59.904,
          60.096,
          60.288,
          60.48,
          60.672,
          60.864,
          61.056,
          61.248,
          61.44,
          61.632,
          61.824,
          62.016,
          62.208,
          62.4,
          62.592,
          62.784,
          62.976,
          63.168,
          63.36,
          63.552,
          63.744,
          63.936,
          64.128,
          64.32,
          64.512,
          64.704,
          64.896,
          65.088,
          65.28,
          65.472,
          65.664,
          65.856,
          66.048,
          66.24,
          66.432,
          66.624,
          66.816,
          67.008,
          67.2,
          67.392,
          67.584,
          67.776,
          67.968,
          68.16,
          68.352,
          68.544,
          68.736,
          68.928,
          69.12,
          69.312,
          69.504,
          69.696,
          69.888,
          70.08,
          70.272,
          70.464,
          70.656,
          70.848,
          71.04,
          71.232,
          71.424,
          71.616,
          71.808,
          72,
          72.192,
          72.384,
          72.576,
          72.768,
          72.96,
          73.152,
          73.344,
          73.536,
          73.728,
          73.92,
          74.112,
          74.304,
          74.496,
          74.688,
          74.88,
          75.072,
          75.264,
          75.456,
          75.648,
          75.84,
          76.032,
          76.224,
          76.416,
          76.608,
          76.8,
          76.992,
          77.184,
          77.376,
          77.568,
          77.76,
          77.952,
          78.144,
          78.336,
          78.528,
          78.72,
          78.912,
          79.104,
          79.296,
          79.488,
          79.68,
          79.872,
          80.064,
          80.256,
          80.448,
          80.64,
          80.832,
          81.024,
          81.216,
          81.408,
          81.6,
          81.792,
          81.984,
          82.176,
          82.368,
          82.56,
          82.752,
          82.944,
          83.136,
          83.328,
          83.52,
          83.712,
          83.904,
          84.096,
          84.288,
          84.48,
          84.672,
          84.864,
          85.056,
          85.248,
          85.44,
          85.632,
          85.824,
          86.016,
          86.208,
          86.4,
          86.592,
          86.784,
          86.976,
          87.168,
          87.36,
          87.552,
          87.744,
          87.936,
          88.128,
          88.32,
          88.512,
          88.704,
          88.896,
          89.088,
          89.28,
          89.472,
          89.664,
          89.856,
          90.048,
          90.24,
          90.432,
          90.624,
          90.816,
          91.008,
          91.2,
          91.392,
          91.584,
          91.776,
          91.968,
          92.16,
          92.352,
          92.544,
          92.736,
          92.928,
          93.12,
          93.312,
          93.504,
          93.696,
          93.888,
          94.08,
          94.272,
          94.464,
          94.656,
          94.848,
          95.04,
          95.232,
          95.424,
          95.616,
          95.808
         ],
         "xaxis": "x",
         "y": [
          0.003188322251922649,
          0.003187886564666985,
          0.0031865758508295007,
          0.0031843912021763546,
          0.003181334430385843,
          0.0031774080646159034,
          0.0031726153480920384,
          0.0031669602337222615,
          0.003160447378747723,
          0.003153082138439363,
          0.0031448705588529046,
          0.0031358193686561414,
          0.0031259359700443845,
          0.003115228428761502,
          0.0031037054632458085,
          0.003091376432921546,
          0.003078251325658375,
          0.003064340744422802,
          0.0030496558931469102,
          0.003034208561841137,
          0.003018011110979295,
          0.0030010764551851757,
          0.002983418046251335,
          0.002965049855521819,
          0.002945986355671583,
          0.0029262425019163517,
          0.002905833712687595,
          0.0028847758498080755,
          0.002863085198204163,
          0.002840778445191754,
          0.0028178726593732213,
          0.0027943852691832832,
          0.0027703340411220317,
          0.002745737057713756,
          0.0027206126952303024,
          0.0026949796012179328,
          0.0026688566718666385,
          0.0026422630292608413,
          0.002615217998550282,
          0.002587741085079667,
          0.0025598519515154274,
          0.0025315703950074204,
          0.0025029163244231407,
          0.002473909737691322,
          0.002444570699291255,
          0.0024149193179235236,
          0.002384975724397008,
          0.002354760049766283,
          0.002324292403752587,
          0.002293592853480644,
          0.002262681402562564,
          0.002231577970559049,
          0.0022003023728469663,
          0.0021688743009212067,
          0.0021373133031575594,
          0.002105638766062047,
          0.002073869896030906,
          0.002042025701644054,
          0.0020101249765135487,
          0.0019781862827071423,
          0.0019462279347656497,
          0.001914267984331394,
          0.0018823242054035855,
          0.0018504140802350036,
          0.0018185547858829184,
          0.0017867631814256807,
          0.0017550557958549964,
          0.0017234488166523569,
          0.001691958079056722,
          0.0016605990560290326,
          0.0016293868489177163,
          0.0015983361788279313,
          0.0015674613786958844,
          0.0015367763860681502,
          0.001506294736584638,
          0.0014760295581623957,
          0.0014459935658762946,
          0.0014161990575312395,
          0.001386657909919403,
          0.0013573815757547557,
          0.001328381081276021,
          0.0012996670245080852,
          0.0012712495741707872,
          0.0012431384692230649,
          0.001215343019029383,
          0.0011878721041345104,
          0.0011607341776317935,
          0.0011339372671092794,
          0.0011074889771572603,
          0.001081396492420092,
          0.0010556665811744781,
          0.0010303055994158043,
          0.0010053194954335381,
          0.0009807138148562136,
          0.0009564937061460866,
          0.0009326639265231163,
          0.0009092288482976313,
          0.0008861924655907132,
          0.000863558401421122,
          0.0008413299151373971,
          0.0008195099101736276,
          0.0007981009421073311,
          0.0007771052269978165,
          0.0007565246499834545,
          0.0007363607741163287,
          0.0007166148494128501,
          0.0006972878220990955,
          0.0006783803440297915,
          0.0006598927822601576,
          0.0006418252287500493,
          0.0006241775101802117,
          0.0006069491978607735,
          0.0005901396177125299,
          0.0005737478603019708,
          0.0005577727909114755,
          0.0005422130596265869,
          0.0005270671114227791,
          0.0005123331962346896,
          0.0004980093789913385,
          0.0004840935496014486,
          0.0004705834328735958,
          0.0004574765983565282,
          0.00044477047008565105,
          0.00043246233622231994,
          0.0004205493585732595,
          0.0004090285819781071,
          0.0003978969435537629,
          0.00038715128178493216,
          0.00037678834545094695,
          0.00036680480237965315,
          0.0003571972480198712,
          0.00034796221382463584,
          0.00033909617543812664,
          0.0003305955606799266,
          0.00032245675732091783,
          0.0003146761206458449,
          0.0003072499807982492,
          0.00030017464990416656,
          0.0002934464289716489,
          0.00028706161456383176,
          0.0002810165052439143,
          0.0002753074077910611,
          0.00026993064318685007,
          0.0002648825523724997,
          0.000260159501777699,
          0.0002557578886224326,
          0.00025167414599376034,
          0.0002479047477000303,
          0.00024444621290553917,
          0.00024129511054913784,
          0.00023844806355076696,
          0.00023590175281035892,
          0.00023365292100397536,
          0.00023169837618246787,
          0.0002300349951783337,
          0.00022865972682680968,
          0.00022756959500758943,
          0.00022676170151387197,
          0.00022623322875574525,
          0.00022598144230518493,
          0.00022600369329019596,
          0.0002262974206458529,
          0.00022686015323019622,
          0.00022768951181312315,
          0.00022878321094656128,
          0.00023013906072435214,
          0.00023175496844037182,
          0.00023362894015350677,
          0.00023575908216815915,
          0.00023814360243899977,
          0.0002407808119086962,
          0.0002436691257873432,
          0.0002468070647822906,
          0.00025019325628701386,
          0.0002538264355376032,
          0.00025770544674535246,
          0.00026182924421381886,
          0.00026619689344859084,
          0.0002708075722678489,
          0.00027566057192163754,
          0.0002807552982275716,
          0.00028609127273049935,
          0.0002916681338934179,
          0.00029748563832669614,
          0.0003035436620624064,
          0.00030984220188029217,
          0.00031638137669161623,
          0.00032316142898683,
          0.0003301827263526945,
          0.0003374457630641601,
          0.00034495116175596694,
          0.0003526996751785898,
          0.000360692188042788,
          0.0003689297189566499,
          0.0003774134224586515,
          0.00038614459114986104,
          0.00039512465792802793,
          0.00040435519832590237,
          0.000413837932955722,
          0.0004235747300613983,
          0.00043356760817952165,
          0.00044381873890989135,
          0.0004543304497958557,
          0.0004651052273143302,
          0.0004761457199749453,
          0.0004874547415273499,
          0.0004990352742752837,
          0.0005108904724956111,
          0.0005230236659600964,
          0.0005354383635572856,
          0.0005481382570114594,
          0.0005611272246952114,
          0.0005744093355318094,
          0.0005879888529831104,
          0.0006018702391184089,
          0.0006160581587592202,
          0.0006305574836946377,
          0.0006453732969615276,
          0.0006605108971834818,
          0.0006759758029621021,
          0.000691773757313856,
          0.0007079107321454139,
          0.0007243929327600744,
          0.0007412268023875719,
          0.0007584190267292773,
          0.0007759765385105188,
          0.0007939065220314807,
          0.0008122164177078853,
          0.0008309139265924194,
          0.000850007014867628,
          0.0008695039183007972,
          0.0008894131466511104,
          0.000909743488019204,
          0.0009305040131290296,
          0.0009517040795317999,
          0.0009733533357215907,
          0.0009954617251520732,
          0.0010180394901436762,
          0.0010410971756703799,
          0.0010646456330152205,
          0.0010886960232834846,
          0.0011132598207624887,
          0.0011383488161167425,
          0.001163975119407241,
          0.0011901511629235648,
          0.0012168897038174057,
          0.0012442038265260968,
          0.0012721069449747027,
          0.001300612804545164,
          0.0013297354838010158,
          0.0013594893959561274,
          0.0013898892900759648,
          0.0014209502519998136,
          0.001452687704972448,
          0.0014851174099737223,
          0.0015182554657345478,
          0.0015521183084277932,
          0.0015867227110225894,
          0.0016220857822906163,
          0.001658224965452918,
          0.0016951580364558537,
          0.001732903101864798,
          0.001771478596364285,
          0.0018109032798532573,
          0.0018511962341241804,
          0.0018923768591147965,
          0.0019344648687213447,
          0.0019774802861621216,
          0.0020214434388802914,
          0.002066374952974957,
          0.002112295747149481,
          0.0021592270261662234,
          0.0022071902737968055,
          0.0022562072452571736,
          0.0023062999591168115,
          0.0023574906886714773,
          0.0024098019527690434,
          0.0024632565060779842,
          0.002517877328788359,
          0.0025736876157350925,
          0.0026307107649336183,
          0.0026889703655180483,
          0.0027484901850722766,
          0.0028092941563445336,
          0.002871406363336187,
          0.0029348510267558185,
          0.0029996524888298084,
          0.003065835197461061,
          0.003133423689727662,
          0.0032024425747137274,
          0.0032729165156650452,
          0.0033448702114624307,
          0.0034183283774063336,
          0.0034933157253064697,
          0.003569856942871027,
          0.0036479766723903156,
          0.0037276994887104867,
          0.0038090498764935528,
          0.0038920522067605223,
          0.003976730712715389,
          0.00406310946484832,
          0.004151212345317333,
          0.004241063021608602,
          0.004332684919476466,
          0.004426101195165262,
          0.004521334706916037,
          0.004618407985762538,
          0.0047173432056217095,
          0.004818162152685522,
          0.004920886194121951,
          0.005025536246094442,
          0.005132132741110544,
          0.00524069559471183,
          0.005351244171518865,
          0.00546379725064637,
          0.005578372990505567,
          0.005694988893012301,
          0.005813661767221203,
          0.005934407692408126,
          0.006057241980624837,
          0.006182179138751822,
          0.006309232830077085,
          0.006438415835430809,
          0.006569740013907685,
          0.00670321626321091,
          0.006838854479653763,
          0.006976663517857096,
          0.0071166511501828955,
          0.007258824025946408,
          0.007403187630451579,
          0.007549746243896483,
          0.00769850290019797,
          0.007849459345786562,
          0.008002615998425168,
          0.00815797190610705,
          0.008315524706090836,
          0.00847527058413242,
          0.008637204233975458,
          0.00880131881716476,
          0.008967605923248079,
          0.00913605553043445,
          0.009306655966778585,
          0.009479393871963025,
          0.009654254159750854,
          0.009831219981184334,
          0.010010272688605206,
          0.010191391800574797,
          0.010374554967772788,
          0.010559737939954891,
          0.01074691453405055,
          0.010936056603483265,
          0.011127134008795716,
          0.01132011458966415,
          0.011514964138385089,
          0.011711646374919615,
          0.011910122923578634,
          0.012110353291434416,
          0.012312294848541766,
          0.012515902810052982,
          0.012721130220309278,
          0.012927927938991236,
          0.013136244629408905,
          0.013346026749012132,
          0.013557218542198829,
          0.013769762035498618,
          0.013983597035205972,
          0.014198661127536432,
          0.014414889681375371,
          0.01463221585368788,
          0.01485057059765427,
          0.015069882673593592,
          0.015290078662733405,
          0.015511082983881923,
          0.015732817913053143,
          0.015955203606093673,
          0.016178158124354115,
          0.01640159746344495,
          0.016625435585111245,
          0.016849584452256566,
          0.017073954067141423,
          0.017298452512776008,
          0.017522985997522562,
          0.01774745890291663,
          0.017971773834711158,
          0.01819583167714162,
          0.018419531650404924,
          0.018642771371337727,
          0.01886544691727549,
          0.019087452893065474,
          0.019308682501202514,
          0.01952902761504819,
          0.019748378855089448,
          0.019966625668184877,
          0.02018365640974114,
          0.020399358428755218,
          0.02061361815565237,
          0.020826321192841613,
          0.02103735240790662,
          0.021246596029340824,
          0.021453935744731475,
          0.021659254801289766,
          0.021862436108618818,
          0.022063362343604558,
          0.022261916057309858,
          0.022457979783745027,
          0.022651436150383623,
          0.02284216799028636,
          0.02303005845569093,
          0.023214991132920686,
          0.023396850158460502,
          0.02357552033604314,
          0.023750887254586062,
          0.0239228374068139,
          0.024091258308398675,
          0.024256038617446084,
          0.024417068254153747,
          0.024574238520463622,
          0.024727442219529657,
          0.024876573774818403,
          0.025021529348659546,
          0.025162206960061953,
          0.025298506601608886,
          0.02543033035524711,
          0.025557582506782726,
          0.025680169658897977,
          0.025798000842503135,
          0.02591098762623912,
          0.02601904422394716,
          0.02612208759992434,
          0.026220037571785353,
          0.026312816910753933,
          0.026400351439209758,
          0.02648257012532055,
          0.02655940517459226,
          0.02663079211817484,
          0.026696669897765146,
          0.026756980946953314,
          0.026811671268864825,
          0.026860690509954807,
          0.026903992029818094,
          0.026941532966884105,
          0.02697327429987225,
          0.026999180904890535,
          0.02701922160806647,
          0.02703336923360778,
          0.027041600647196823,
          0.02704389679463141,
          0.027040242735632002,
          0.02703062767274408,
          0.027015044975272445,
          0.026993492198192987,
          0.02696597109599638,
          0.02693248763142629,
          0.02689305197908471,
          0.0268476785238848,
          0.026796385854341843,
          0.0267391967507013,
          0.026676138167912367,
          0.026607241213464354,
          0.026532541120112933,
          0.026452077213531388,
          0.02636589287493187,
          0.026274035498710158,
          0.02617655644517627,
          0.026073510988442072,
          0.02596495825954524,
          0.025850961184897905,
          0.02573158642015565,
          0.02560690427961152,
          0.02547698866122612,
          0.025341916967413856,
          0.02520177002171156,
          0.025056631981462928,
          0.024906590246659307,
          0.024751735365083384,
          0.024592160933908053,
          0.024427963497909506,
          0.024259242444457808,
          0.024086099895454086,
          0.023908640596387663,
          0.023726971802690976,
          0.0235412031635741,
          0.023351446603523923,
          0.023157816201656526,
          0.022960428069113973,
          0.022759400224698488,
          0.022554852468940147,
          0.02234690625679429,
          0.022135684569167396,
          0.02192131178346934,
          0.02170391354339199,
          0.02148361662811225,
          0.0212605488211188,
          0.021034838778859238,
          0.020806615899404857,
          0.02057601019132661,
          0.020343152142975898,
          0.020108172592359305,
          0.0198712025977955,
          0.019632373309537793
         ],
         "yaxis": "y"
        },
        {
         "legendgroup": "Calificaciones finales",
         "marker": {
          "color": "darkviolet",
          "symbol": "line-ns-open"
         },
         "mode": "markers",
         "name": "Calificaciones finales",
         "showlegend": false,
         "type": "scatter",
         "x": [
          84,
          89,
          75,
          84,
          88,
          83,
          89,
          88,
          91,
          0,
          77,
          84,
          67,
          81,
          88,
          96,
          84,
          69,
          84,
          70,
          88,
          90,
          0,
          91,
          86,
          83,
          89,
          86,
          75,
          0,
          87,
          83,
          94,
          0,
          88,
          85,
          85,
          87,
          81,
          86,
          70,
          93,
          87,
          89,
          93,
          84,
          0,
          89,
          90,
          87,
          87,
          84,
          52,
          78
         ],
         "xaxis": "x",
         "y": [
          "Calificaciones finales",
          "Calificaciones finales",
          "Calificaciones finales",
          "Calificaciones finales",
          "Calificaciones finales",
          "Calificaciones finales",
          "Calificaciones finales",
          "Calificaciones finales",
          "Calificaciones finales",
          "Calificaciones finales",
          "Calificaciones finales",
          "Calificaciones finales",
          "Calificaciones finales",
          "Calificaciones finales",
          "Calificaciones finales",
          "Calificaciones finales",
          "Calificaciones finales",
          "Calificaciones finales",
          "Calificaciones finales",
          "Calificaciones finales",
          "Calificaciones finales",
          "Calificaciones finales",
          "Calificaciones finales",
          "Calificaciones finales",
          "Calificaciones finales",
          "Calificaciones finales",
          "Calificaciones finales",
          "Calificaciones finales",
          "Calificaciones finales",
          "Calificaciones finales",
          "Calificaciones finales",
          "Calificaciones finales",
          "Calificaciones finales",
          "Calificaciones finales",
          "Calificaciones finales",
          "Calificaciones finales",
          "Calificaciones finales",
          "Calificaciones finales",
          "Calificaciones finales",
          "Calificaciones finales",
          "Calificaciones finales",
          "Calificaciones finales",
          "Calificaciones finales",
          "Calificaciones finales",
          "Calificaciones finales",
          "Calificaciones finales",
          "Calificaciones finales",
          "Calificaciones finales",
          "Calificaciones finales",
          "Calificaciones finales",
          "Calificaciones finales",
          "Calificaciones finales",
          "Calificaciones finales",
          "Calificaciones finales"
         ],
         "yaxis": "y2"
        }
       ],
       "layout": {
        "barmode": "overlay",
        "hovermode": "closest",
        "legend": {
         "traceorder": "reversed"
        },
        "template": {
         "data": {
          "bar": [
           {
            "error_x": {
             "color": "#2a3f5f"
            },
            "error_y": {
             "color": "#2a3f5f"
            },
            "marker": {
             "line": {
              "color": "#E5ECF6",
              "width": 0.5
             },
             "pattern": {
              "fillmode": "overlay",
              "size": 10,
              "solidity": 0.2
             }
            },
            "type": "bar"
           }
          ],
          "barpolar": [
           {
            "marker": {
             "line": {
              "color": "#E5ECF6",
              "width": 0.5
             },
             "pattern": {
              "fillmode": "overlay",
              "size": 10,
              "solidity": 0.2
             }
            },
            "type": "barpolar"
           }
          ],
          "carpet": [
           {
            "aaxis": {
             "endlinecolor": "#2a3f5f",
             "gridcolor": "white",
             "linecolor": "white",
             "minorgridcolor": "white",
             "startlinecolor": "#2a3f5f"
            },
            "baxis": {
             "endlinecolor": "#2a3f5f",
             "gridcolor": "white",
             "linecolor": "white",
             "minorgridcolor": "white",
             "startlinecolor": "#2a3f5f"
            },
            "type": "carpet"
           }
          ],
          "choropleth": [
           {
            "colorbar": {
             "outlinewidth": 0,
             "ticks": ""
            },
            "type": "choropleth"
           }
          ],
          "contour": [
           {
            "colorbar": {
             "outlinewidth": 0,
             "ticks": ""
            },
            "colorscale": [
             [
              0,
              "#0d0887"
             ],
             [
              0.1111111111111111,
              "#46039f"
             ],
             [
              0.2222222222222222,
              "#7201a8"
             ],
             [
              0.3333333333333333,
              "#9c179e"
             ],
             [
              0.4444444444444444,
              "#bd3786"
             ],
             [
              0.5555555555555556,
              "#d8576b"
             ],
             [
              0.6666666666666666,
              "#ed7953"
             ],
             [
              0.7777777777777778,
              "#fb9f3a"
             ],
             [
              0.8888888888888888,
              "#fdca26"
             ],
             [
              1,
              "#f0f921"
             ]
            ],
            "type": "contour"
           }
          ],
          "contourcarpet": [
           {
            "colorbar": {
             "outlinewidth": 0,
             "ticks": ""
            },
            "type": "contourcarpet"
           }
          ],
          "heatmap": [
           {
            "colorbar": {
             "outlinewidth": 0,
             "ticks": ""
            },
            "colorscale": [
             [
              0,
              "#0d0887"
             ],
             [
              0.1111111111111111,
              "#46039f"
             ],
             [
              0.2222222222222222,
              "#7201a8"
             ],
             [
              0.3333333333333333,
              "#9c179e"
             ],
             [
              0.4444444444444444,
              "#bd3786"
             ],
             [
              0.5555555555555556,
              "#d8576b"
             ],
             [
              0.6666666666666666,
              "#ed7953"
             ],
             [
              0.7777777777777778,
              "#fb9f3a"
             ],
             [
              0.8888888888888888,
              "#fdca26"
             ],
             [
              1,
              "#f0f921"
             ]
            ],
            "type": "heatmap"
           }
          ],
          "heatmapgl": [
           {
            "colorbar": {
             "outlinewidth": 0,
             "ticks": ""
            },
            "colorscale": [
             [
              0,
              "#0d0887"
             ],
             [
              0.1111111111111111,
              "#46039f"
             ],
             [
              0.2222222222222222,
              "#7201a8"
             ],
             [
              0.3333333333333333,
              "#9c179e"
             ],
             [
              0.4444444444444444,
              "#bd3786"
             ],
             [
              0.5555555555555556,
              "#d8576b"
             ],
             [
              0.6666666666666666,
              "#ed7953"
             ],
             [
              0.7777777777777778,
              "#fb9f3a"
             ],
             [
              0.8888888888888888,
              "#fdca26"
             ],
             [
              1,
              "#f0f921"
             ]
            ],
            "type": "heatmapgl"
           }
          ],
          "histogram": [
           {
            "marker": {
             "pattern": {
              "fillmode": "overlay",
              "size": 10,
              "solidity": 0.2
             }
            },
            "type": "histogram"
           }
          ],
          "histogram2d": [
           {
            "colorbar": {
             "outlinewidth": 0,
             "ticks": ""
            },
            "colorscale": [
             [
              0,
              "#0d0887"
             ],
             [
              0.1111111111111111,
              "#46039f"
             ],
             [
              0.2222222222222222,
              "#7201a8"
             ],
             [
              0.3333333333333333,
              "#9c179e"
             ],
             [
              0.4444444444444444,
              "#bd3786"
             ],
             [
              0.5555555555555556,
              "#d8576b"
             ],
             [
              0.6666666666666666,
              "#ed7953"
             ],
             [
              0.7777777777777778,
              "#fb9f3a"
             ],
             [
              0.8888888888888888,
              "#fdca26"
             ],
             [
              1,
              "#f0f921"
             ]
            ],
            "type": "histogram2d"
           }
          ],
          "histogram2dcontour": [
           {
            "colorbar": {
             "outlinewidth": 0,
             "ticks": ""
            },
            "colorscale": [
             [
              0,
              "#0d0887"
             ],
             [
              0.1111111111111111,
              "#46039f"
             ],
             [
              0.2222222222222222,
              "#7201a8"
             ],
             [
              0.3333333333333333,
              "#9c179e"
             ],
             [
              0.4444444444444444,
              "#bd3786"
             ],
             [
              0.5555555555555556,
              "#d8576b"
             ],
             [
              0.6666666666666666,
              "#ed7953"
             ],
             [
              0.7777777777777778,
              "#fb9f3a"
             ],
             [
              0.8888888888888888,
              "#fdca26"
             ],
             [
              1,
              "#f0f921"
             ]
            ],
            "type": "histogram2dcontour"
           }
          ],
          "mesh3d": [
           {
            "colorbar": {
             "outlinewidth": 0,
             "ticks": ""
            },
            "type": "mesh3d"
           }
          ],
          "parcoords": [
           {
            "line": {
             "colorbar": {
              "outlinewidth": 0,
              "ticks": ""
             }
            },
            "type": "parcoords"
           }
          ],
          "pie": [
           {
            "automargin": true,
            "type": "pie"
           }
          ],
          "scatter": [
           {
            "fillpattern": {
             "fillmode": "overlay",
             "size": 10,
             "solidity": 0.2
            },
            "type": "scatter"
           }
          ],
          "scatter3d": [
           {
            "line": {
             "colorbar": {
              "outlinewidth": 0,
              "ticks": ""
             }
            },
            "marker": {
             "colorbar": {
              "outlinewidth": 0,
              "ticks": ""
             }
            },
            "type": "scatter3d"
           }
          ],
          "scattercarpet": [
           {
            "marker": {
             "colorbar": {
              "outlinewidth": 0,
              "ticks": ""
             }
            },
            "type": "scattercarpet"
           }
          ],
          "scattergeo": [
           {
            "marker": {
             "colorbar": {
              "outlinewidth": 0,
              "ticks": ""
             }
            },
            "type": "scattergeo"
           }
          ],
          "scattergl": [
           {
            "marker": {
             "colorbar": {
              "outlinewidth": 0,
              "ticks": ""
             }
            },
            "type": "scattergl"
           }
          ],
          "scattermapbox": [
           {
            "marker": {
             "colorbar": {
              "outlinewidth": 0,
              "ticks": ""
             }
            },
            "type": "scattermapbox"
           }
          ],
          "scatterpolar": [
           {
            "marker": {
             "colorbar": {
              "outlinewidth": 0,
              "ticks": ""
             }
            },
            "type": "scatterpolar"
           }
          ],
          "scatterpolargl": [
           {
            "marker": {
             "colorbar": {
              "outlinewidth": 0,
              "ticks": ""
             }
            },
            "type": "scatterpolargl"
           }
          ],
          "scatterternary": [
           {
            "marker": {
             "colorbar": {
              "outlinewidth": 0,
              "ticks": ""
             }
            },
            "type": "scatterternary"
           }
          ],
          "surface": [
           {
            "colorbar": {
             "outlinewidth": 0,
             "ticks": ""
            },
            "colorscale": [
             [
              0,
              "#0d0887"
             ],
             [
              0.1111111111111111,
              "#46039f"
             ],
             [
              0.2222222222222222,
              "#7201a8"
             ],
             [
              0.3333333333333333,
              "#9c179e"
             ],
             [
              0.4444444444444444,
              "#bd3786"
             ],
             [
              0.5555555555555556,
              "#d8576b"
             ],
             [
              0.6666666666666666,
              "#ed7953"
             ],
             [
              0.7777777777777778,
              "#fb9f3a"
             ],
             [
              0.8888888888888888,
              "#fdca26"
             ],
             [
              1,
              "#f0f921"
             ]
            ],
            "type": "surface"
           }
          ],
          "table": [
           {
            "cells": {
             "fill": {
              "color": "#EBF0F8"
             },
             "line": {
              "color": "white"
             }
            },
            "header": {
             "fill": {
              "color": "#C8D4E3"
             },
             "line": {
              "color": "white"
             }
            },
            "type": "table"
           }
          ]
         },
         "layout": {
          "annotationdefaults": {
           "arrowcolor": "#2a3f5f",
           "arrowhead": 0,
           "arrowwidth": 1
          },
          "autotypenumbers": "strict",
          "coloraxis": {
           "colorbar": {
            "outlinewidth": 0,
            "ticks": ""
           }
          },
          "colorscale": {
           "diverging": [
            [
             0,
             "#8e0152"
            ],
            [
             0.1,
             "#c51b7d"
            ],
            [
             0.2,
             "#de77ae"
            ],
            [
             0.3,
             "#f1b6da"
            ],
            [
             0.4,
             "#fde0ef"
            ],
            [
             0.5,
             "#f7f7f7"
            ],
            [
             0.6,
             "#e6f5d0"
            ],
            [
             0.7,
             "#b8e186"
            ],
            [
             0.8,
             "#7fbc41"
            ],
            [
             0.9,
             "#4d9221"
            ],
            [
             1,
             "#276419"
            ]
           ],
           "sequential": [
            [
             0,
             "#0d0887"
            ],
            [
             0.1111111111111111,
             "#46039f"
            ],
            [
             0.2222222222222222,
             "#7201a8"
            ],
            [
             0.3333333333333333,
             "#9c179e"
            ],
            [
             0.4444444444444444,
             "#bd3786"
            ],
            [
             0.5555555555555556,
             "#d8576b"
            ],
            [
             0.6666666666666666,
             "#ed7953"
            ],
            [
             0.7777777777777778,
             "#fb9f3a"
            ],
            [
             0.8888888888888888,
             "#fdca26"
            ],
            [
             1,
             "#f0f921"
            ]
           ],
           "sequentialminus": [
            [
             0,
             "#0d0887"
            ],
            [
             0.1111111111111111,
             "#46039f"
            ],
            [
             0.2222222222222222,
             "#7201a8"
            ],
            [
             0.3333333333333333,
             "#9c179e"
            ],
            [
             0.4444444444444444,
             "#bd3786"
            ],
            [
             0.5555555555555556,
             "#d8576b"
            ],
            [
             0.6666666666666666,
             "#ed7953"
            ],
            [
             0.7777777777777778,
             "#fb9f3a"
            ],
            [
             0.8888888888888888,
             "#fdca26"
            ],
            [
             1,
             "#f0f921"
            ]
           ]
          },
          "colorway": [
           "#636efa",
           "#EF553B",
           "#00cc96",
           "#ab63fa",
           "#FFA15A",
           "#19d3f3",
           "#FF6692",
           "#B6E880",
           "#FF97FF",
           "#FECB52"
          ],
          "font": {
           "color": "#2a3f5f"
          },
          "geo": {
           "bgcolor": "white",
           "lakecolor": "white",
           "landcolor": "#E5ECF6",
           "showlakes": true,
           "showland": true,
           "subunitcolor": "white"
          },
          "hoverlabel": {
           "align": "left"
          },
          "hovermode": "closest",
          "mapbox": {
           "style": "light"
          },
          "paper_bgcolor": "white",
          "plot_bgcolor": "#E5ECF6",
          "polar": {
           "angularaxis": {
            "gridcolor": "white",
            "linecolor": "white",
            "ticks": ""
           },
           "bgcolor": "#E5ECF6",
           "radialaxis": {
            "gridcolor": "white",
            "linecolor": "white",
            "ticks": ""
           }
          },
          "scene": {
           "xaxis": {
            "backgroundcolor": "#E5ECF6",
            "gridcolor": "white",
            "gridwidth": 2,
            "linecolor": "white",
            "showbackground": true,
            "ticks": "",
            "zerolinecolor": "white"
           },
           "yaxis": {
            "backgroundcolor": "#E5ECF6",
            "gridcolor": "white",
            "gridwidth": 2,
            "linecolor": "white",
            "showbackground": true,
            "ticks": "",
            "zerolinecolor": "white"
           },
           "zaxis": {
            "backgroundcolor": "#E5ECF6",
            "gridcolor": "white",
            "gridwidth": 2,
            "linecolor": "white",
            "showbackground": true,
            "ticks": "",
            "zerolinecolor": "white"
           }
          },
          "shapedefaults": {
           "line": {
            "color": "#2a3f5f"
           }
          },
          "ternary": {
           "aaxis": {
            "gridcolor": "white",
            "linecolor": "white",
            "ticks": ""
           },
           "baxis": {
            "gridcolor": "white",
            "linecolor": "white",
            "ticks": ""
           },
           "bgcolor": "#E5ECF6",
           "caxis": {
            "gridcolor": "white",
            "linecolor": "white",
            "ticks": ""
           }
          },
          "title": {
           "x": 0.05
          },
          "xaxis": {
           "automargin": true,
           "gridcolor": "white",
           "linecolor": "white",
           "ticks": "",
           "title": {
            "standoff": 15
           },
           "zerolinecolor": "white",
           "zerolinewidth": 2
          },
          "yaxis": {
           "automargin": true,
           "gridcolor": "white",
           "linecolor": "white",
           "ticks": "",
           "title": {
            "standoff": 15
           },
           "zerolinecolor": "white",
           "zerolinewidth": 2
          }
         }
        },
        "xaxis": {
         "anchor": "y2",
         "domain": [
          0,
          1
         ],
         "zeroline": false
        },
        "yaxis": {
         "anchor": "free",
         "domain": [
          0.35,
          1
         ],
         "position": 0
        },
        "yaxis2": {
         "anchor": "x",
         "domain": [
          0,
          0.25
         ],
         "dtick": 1,
         "showticklabels": false
        }
       }
      },
      "text/html": [
       "<div>                            <div id=\"0127336a-d73d-4b61-9758-f2af0454a440\" class=\"plotly-graph-div\" style=\"height:525px; width:100%;\"></div>            <script type=\"text/javascript\">                require([\"plotly\"], function(Plotly) {                    window.PLOTLYENV=window.PLOTLYENV || {};                                    if (document.getElementById(\"0127336a-d73d-4b61-9758-f2af0454a440\")) {                    Plotly.newPlot(                        \"0127336a-d73d-4b61-9758-f2af0454a440\",                        [{\"autobinx\":false,\"histnorm\":\"probability density\",\"legendgroup\":\"Calificaciones finales\",\"marker\":{\"color\":\"darkviolet\"},\"name\":\"Calificaciones finales\",\"opacity\":0.7,\"x\":[84.0,89.0,75.0,84.0,88.0,83.0,89.0,88.0,91.0,0.0,77.0,84.0,67.0,81.0,88.0,96.0,84.0,69.0,84.0,70.0,88.0,90.0,0.0,91.0,86.0,83.0,89.0,86.0,75.0,0.0,87.0,83.0,94.0,0.0,88.0,85.0,85.0,87.0,81.0,86.0,70.0,93.0,87.0,89.0,93.0,84.0,0.0,89.0,90.0,87.0,87.0,84.0,52.0,78.0],\"xaxis\":\"x\",\"xbins\":{\"end\":96.0,\"size\":1.0,\"start\":0.0},\"yaxis\":\"y\",\"type\":\"histogram\"},{\"legendgroup\":\"Calificaciones finales\",\"marker\":{\"color\":\"darkviolet\"},\"mode\":\"lines\",\"name\":\"Calificaciones finales\",\"showlegend\":false,\"x\":[0.0,0.192,0.384,0.576,0.768,0.96,1.152,1.344,1.536,1.728,1.92,2.112,2.304,2.496,2.688,2.88,3.072,3.264,3.456,3.648,3.84,4.032,4.224,4.416,4.608,4.8,4.992,5.184,5.376,5.568,5.76,5.952,6.144,6.336,6.528,6.72,6.912,7.104,7.296,7.488,7.68,7.872,8.064,8.256,8.448,8.64,8.832,9.024,9.216,9.408,9.6,9.792,9.984,10.176,10.368,10.56,10.752,10.944,11.136,11.328,11.52,11.712,11.904,12.096,12.288,12.48,12.672,12.864,13.056,13.248,13.44,13.632,13.824,14.016,14.208,14.4,14.592,14.784,14.976,15.168,15.36,15.552,15.744,15.936,16.128,16.32,16.512,16.704,16.896,17.088,17.28,17.472,17.664,17.856,18.048,18.24,18.432,18.624,18.816,19.008,19.2,19.392,19.584,19.776,19.968,20.16,20.352,20.544,20.736,20.928,21.12,21.312,21.504,21.696,21.888,22.08,22.272,22.464,22.656,22.848,23.04,23.232,23.424,23.616,23.808,24.0,24.192,24.384,24.576,24.768,24.96,25.152,25.344,25.536,25.728,25.92,26.112,26.304,26.496,26.688,26.88,27.072,27.264,27.456,27.648,27.84,28.032,28.224,28.416,28.608,28.8,28.992,29.184,29.376,29.568,29.76,29.952,30.144,30.336,30.528,30.72,30.912,31.104,31.296,31.488,31.68,31.872,32.064,32.256,32.448,32.64,32.832,33.024,33.216,33.408,33.6,33.792,33.984,34.176,34.368,34.56,34.752,34.944,35.136,35.328,35.52,35.712,35.904,36.096,36.288,36.48,36.672,36.864,37.056,37.248,37.44,37.632,37.824,38.016,38.208,38.4,38.592,38.784,38.976,39.168,39.36,39.552,39.744,39.936,40.128,40.32,40.512,40.704,40.896,41.088,41.28,41.472,41.664,41.856,42.048,42.24,42.432,42.624,42.816,43.008,43.2,43.392,43.584,43.776,43.968,44.16,44.352,44.544,44.736,44.928,45.12,45.312,45.504,45.696,45.888,46.08,46.272,46.464,46.656,46.848,47.04,47.232,47.424,47.616,47.808,48.0,48.192,48.384,48.576,48.768,48.96,49.152,49.344,49.536,49.728,49.92,50.112,50.304,50.496,50.688,50.88,51.072,51.264,51.456,51.648,51.84,52.032,52.224,52.416,52.608,52.8,52.992,53.184,53.376,53.568,53.76,53.952,54.144,54.336,54.528,54.72,54.912,55.104,55.296,55.488,55.68,55.872,56.064,56.256,56.448,56.64,56.832,57.024,57.216,57.408,57.6,57.792,57.984,58.176,58.368,58.56,58.752,58.944,59.136,59.328,59.52,59.712,59.904,60.096,60.288,60.48,60.672,60.864,61.056,61.248,61.44,61.632,61.824,62.016,62.208,62.4,62.592,62.784,62.976,63.168,63.36,63.552,63.744,63.936,64.128,64.32,64.512,64.704,64.896,65.088,65.28,65.472,65.664,65.856,66.048,66.24,66.432,66.624,66.816,67.008,67.2,67.392,67.584,67.776,67.968,68.16,68.352,68.544,68.736,68.928,69.12,69.312,69.504,69.696,69.888,70.08,70.272,70.464,70.656,70.848,71.04,71.232,71.424,71.616,71.808,72.0,72.192,72.384,72.576,72.768,72.96,73.152,73.344,73.536,73.728,73.92,74.112,74.304,74.496,74.688,74.88,75.072,75.264,75.456,75.648,75.84,76.032,76.224,76.416,76.608,76.8,76.992,77.184,77.376,77.568,77.76,77.952,78.144,78.336,78.528,78.72,78.912,79.104,79.296,79.488,79.68,79.872,80.064,80.256,80.448,80.64,80.832,81.024,81.216,81.408,81.6,81.792,81.984,82.176,82.368,82.56,82.752,82.944,83.136,83.328,83.52,83.712,83.904,84.096,84.288,84.48,84.672,84.864,85.056,85.248,85.44,85.632,85.824,86.016,86.208,86.4,86.592,86.784,86.976,87.168,87.36,87.552,87.744,87.936,88.128,88.32,88.512,88.704,88.896,89.088,89.28,89.472,89.664,89.856,90.048,90.24,90.432,90.624,90.816,91.008,91.2,91.392,91.584,91.776,91.968,92.16,92.352,92.544,92.736,92.928,93.12,93.312,93.504,93.696,93.888,94.08,94.272,94.464,94.656,94.848,95.04,95.232,95.424,95.616,95.808],\"xaxis\":\"x\",\"y\":[0.003188322251922649,0.003187886564666985,0.0031865758508295007,0.0031843912021763546,0.003181334430385843,0.0031774080646159034,0.0031726153480920384,0.0031669602337222615,0.003160447378747723,0.003153082138439363,0.0031448705588529046,0.0031358193686561414,0.0031259359700443845,0.003115228428761502,0.0031037054632458085,0.003091376432921546,0.003078251325658375,0.003064340744422802,0.0030496558931469102,0.003034208561841137,0.003018011110979295,0.0030010764551851757,0.002983418046251335,0.002965049855521819,0.002945986355671583,0.0029262425019163517,0.002905833712687595,0.0028847758498080755,0.002863085198204163,0.002840778445191754,0.0028178726593732213,0.0027943852691832832,0.0027703340411220317,0.002745737057713756,0.0027206126952303024,0.0026949796012179328,0.0026688566718666385,0.0026422630292608413,0.002615217998550282,0.002587741085079667,0.0025598519515154274,0.0025315703950074204,0.0025029163244231407,0.002473909737691322,0.002444570699291255,0.0024149193179235236,0.002384975724397008,0.002354760049766283,0.002324292403752587,0.002293592853480644,0.002262681402562564,0.002231577970559049,0.0022003023728469663,0.0021688743009212067,0.0021373133031575594,0.002105638766062047,0.002073869896030906,0.002042025701644054,0.0020101249765135487,0.0019781862827071423,0.0019462279347656497,0.001914267984331394,0.0018823242054035855,0.0018504140802350036,0.0018185547858829184,0.0017867631814256807,0.0017550557958549964,0.0017234488166523569,0.001691958079056722,0.0016605990560290326,0.0016293868489177163,0.0015983361788279313,0.0015674613786958844,0.0015367763860681502,0.001506294736584638,0.0014760295581623957,0.0014459935658762946,0.0014161990575312395,0.001386657909919403,0.0013573815757547557,0.001328381081276021,0.0012996670245080852,0.0012712495741707872,0.0012431384692230649,0.001215343019029383,0.0011878721041345104,0.0011607341776317935,0.0011339372671092794,0.0011074889771572603,0.001081396492420092,0.0010556665811744781,0.0010303055994158043,0.0010053194954335381,0.0009807138148562136,0.0009564937061460866,0.0009326639265231163,0.0009092288482976313,0.0008861924655907132,0.000863558401421122,0.0008413299151373971,0.0008195099101736276,0.0007981009421073311,0.0007771052269978165,0.0007565246499834545,0.0007363607741163287,0.0007166148494128501,0.0006972878220990955,0.0006783803440297915,0.0006598927822601576,0.0006418252287500493,0.0006241775101802117,0.0006069491978607735,0.0005901396177125299,0.0005737478603019708,0.0005577727909114755,0.0005422130596265869,0.0005270671114227791,0.0005123331962346896,0.0004980093789913385,0.0004840935496014486,0.0004705834328735958,0.0004574765983565282,0.00044477047008565105,0.00043246233622231994,0.0004205493585732595,0.0004090285819781071,0.0003978969435537629,0.00038715128178493216,0.00037678834545094695,0.00036680480237965315,0.0003571972480198712,0.00034796221382463584,0.00033909617543812664,0.0003305955606799266,0.00032245675732091783,0.0003146761206458449,0.0003072499807982492,0.00030017464990416656,0.0002934464289716489,0.00028706161456383176,0.0002810165052439143,0.0002753074077910611,0.00026993064318685007,0.0002648825523724997,0.000260159501777699,0.0002557578886224326,0.00025167414599376034,0.0002479047477000303,0.00024444621290553917,0.00024129511054913784,0.00023844806355076696,0.00023590175281035892,0.00023365292100397536,0.00023169837618246787,0.0002300349951783337,0.00022865972682680968,0.00022756959500758943,0.00022676170151387197,0.00022623322875574525,0.00022598144230518493,0.00022600369329019596,0.0002262974206458529,0.00022686015323019622,0.00022768951181312315,0.00022878321094656128,0.00023013906072435214,0.00023175496844037182,0.00023362894015350677,0.00023575908216815915,0.00023814360243899977,0.0002407808119086962,0.0002436691257873432,0.0002468070647822906,0.00025019325628701386,0.0002538264355376032,0.00025770544674535246,0.00026182924421381886,0.00026619689344859084,0.0002708075722678489,0.00027566057192163754,0.0002807552982275716,0.00028609127273049935,0.0002916681338934179,0.00029748563832669614,0.0003035436620624064,0.00030984220188029217,0.00031638137669161623,0.00032316142898683,0.0003301827263526945,0.0003374457630641601,0.00034495116175596694,0.0003526996751785898,0.000360692188042788,0.0003689297189566499,0.0003774134224586515,0.00038614459114986104,0.00039512465792802793,0.00040435519832590237,0.000413837932955722,0.0004235747300613983,0.00043356760817952165,0.00044381873890989135,0.0004543304497958557,0.0004651052273143302,0.0004761457199749453,0.0004874547415273499,0.0004990352742752837,0.0005108904724956111,0.0005230236659600964,0.0005354383635572856,0.0005481382570114594,0.0005611272246952114,0.0005744093355318094,0.0005879888529831104,0.0006018702391184089,0.0006160581587592202,0.0006305574836946377,0.0006453732969615276,0.0006605108971834818,0.0006759758029621021,0.000691773757313856,0.0007079107321454139,0.0007243929327600744,0.0007412268023875719,0.0007584190267292773,0.0007759765385105188,0.0007939065220314807,0.0008122164177078853,0.0008309139265924194,0.000850007014867628,0.0008695039183007972,0.0008894131466511104,0.000909743488019204,0.0009305040131290296,0.0009517040795317999,0.0009733533357215907,0.0009954617251520732,0.0010180394901436762,0.0010410971756703799,0.0010646456330152205,0.0010886960232834846,0.0011132598207624887,0.0011383488161167425,0.001163975119407241,0.0011901511629235648,0.0012168897038174057,0.0012442038265260968,0.0012721069449747027,0.001300612804545164,0.0013297354838010158,0.0013594893959561274,0.0013898892900759648,0.0014209502519998136,0.001452687704972448,0.0014851174099737223,0.0015182554657345478,0.0015521183084277932,0.0015867227110225894,0.0016220857822906163,0.001658224965452918,0.0016951580364558537,0.001732903101864798,0.001771478596364285,0.0018109032798532573,0.0018511962341241804,0.0018923768591147965,0.0019344648687213447,0.0019774802861621216,0.0020214434388802914,0.002066374952974957,0.002112295747149481,0.0021592270261662234,0.0022071902737968055,0.0022562072452571736,0.0023062999591168115,0.0023574906886714773,0.0024098019527690434,0.0024632565060779842,0.002517877328788359,0.0025736876157350925,0.0026307107649336183,0.0026889703655180483,0.0027484901850722766,0.0028092941563445336,0.002871406363336187,0.0029348510267558185,0.0029996524888298084,0.003065835197461061,0.003133423689727662,0.0032024425747137274,0.0032729165156650452,0.0033448702114624307,0.0034183283774063336,0.0034933157253064697,0.003569856942871027,0.0036479766723903156,0.0037276994887104867,0.0038090498764935528,0.0038920522067605223,0.003976730712715389,0.00406310946484832,0.004151212345317333,0.004241063021608602,0.004332684919476466,0.004426101195165262,0.004521334706916037,0.004618407985762538,0.0047173432056217095,0.004818162152685522,0.004920886194121951,0.005025536246094442,0.005132132741110544,0.00524069559471183,0.005351244171518865,0.00546379725064637,0.005578372990505567,0.005694988893012301,0.005813661767221203,0.005934407692408126,0.006057241980624837,0.006182179138751822,0.006309232830077085,0.006438415835430809,0.006569740013907685,0.00670321626321091,0.006838854479653763,0.006976663517857096,0.0071166511501828955,0.007258824025946408,0.007403187630451579,0.007549746243896483,0.00769850290019797,0.007849459345786562,0.008002615998425168,0.00815797190610705,0.008315524706090836,0.00847527058413242,0.008637204233975458,0.00880131881716476,0.008967605923248079,0.00913605553043445,0.009306655966778585,0.009479393871963025,0.009654254159750854,0.009831219981184334,0.010010272688605206,0.010191391800574797,0.010374554967772788,0.010559737939954891,0.01074691453405055,0.010936056603483265,0.011127134008795716,0.01132011458966415,0.011514964138385089,0.011711646374919615,0.011910122923578634,0.012110353291434416,0.012312294848541766,0.012515902810052982,0.012721130220309278,0.012927927938991236,0.013136244629408905,0.013346026749012132,0.013557218542198829,0.013769762035498618,0.013983597035205972,0.014198661127536432,0.014414889681375371,0.01463221585368788,0.01485057059765427,0.015069882673593592,0.015290078662733405,0.015511082983881923,0.015732817913053143,0.015955203606093673,0.016178158124354115,0.01640159746344495,0.016625435585111245,0.016849584452256566,0.017073954067141423,0.017298452512776008,0.017522985997522562,0.01774745890291663,0.017971773834711158,0.01819583167714162,0.018419531650404924,0.018642771371337727,0.01886544691727549,0.019087452893065474,0.019308682501202514,0.01952902761504819,0.019748378855089448,0.019966625668184877,0.02018365640974114,0.020399358428755218,0.02061361815565237,0.020826321192841613,0.02103735240790662,0.021246596029340824,0.021453935744731475,0.021659254801289766,0.021862436108618818,0.022063362343604558,0.022261916057309858,0.022457979783745027,0.022651436150383623,0.02284216799028636,0.02303005845569093,0.023214991132920686,0.023396850158460502,0.02357552033604314,0.023750887254586062,0.0239228374068139,0.024091258308398675,0.024256038617446084,0.024417068254153747,0.024574238520463622,0.024727442219529657,0.024876573774818403,0.025021529348659546,0.025162206960061953,0.025298506601608886,0.02543033035524711,0.025557582506782726,0.025680169658897977,0.025798000842503135,0.02591098762623912,0.02601904422394716,0.02612208759992434,0.026220037571785353,0.026312816910753933,0.026400351439209758,0.02648257012532055,0.02655940517459226,0.02663079211817484,0.026696669897765146,0.026756980946953314,0.026811671268864825,0.026860690509954807,0.026903992029818094,0.026941532966884105,0.02697327429987225,0.026999180904890535,0.02701922160806647,0.02703336923360778,0.027041600647196823,0.02704389679463141,0.027040242735632002,0.02703062767274408,0.027015044975272445,0.026993492198192987,0.02696597109599638,0.02693248763142629,0.02689305197908471,0.0268476785238848,0.026796385854341843,0.0267391967507013,0.026676138167912367,0.026607241213464354,0.026532541120112933,0.026452077213531388,0.02636589287493187,0.026274035498710158,0.02617655644517627,0.026073510988442072,0.02596495825954524,0.025850961184897905,0.02573158642015565,0.02560690427961152,0.02547698866122612,0.025341916967413856,0.02520177002171156,0.025056631981462928,0.024906590246659307,0.024751735365083384,0.024592160933908053,0.024427963497909506,0.024259242444457808,0.024086099895454086,0.023908640596387663,0.023726971802690976,0.0235412031635741,0.023351446603523923,0.023157816201656526,0.022960428069113973,0.022759400224698488,0.022554852468940147,0.02234690625679429,0.022135684569167396,0.02192131178346934,0.02170391354339199,0.02148361662811225,0.0212605488211188,0.021034838778859238,0.020806615899404857,0.02057601019132661,0.020343152142975898,0.020108172592359305,0.0198712025977955,0.019632373309537793],\"yaxis\":\"y\",\"type\":\"scatter\"},{\"legendgroup\":\"Calificaciones finales\",\"marker\":{\"color\":\"darkviolet\",\"symbol\":\"line-ns-open\"},\"mode\":\"markers\",\"name\":\"Calificaciones finales\",\"showlegend\":false,\"x\":[84.0,89.0,75.0,84.0,88.0,83.0,89.0,88.0,91.0,0.0,77.0,84.0,67.0,81.0,88.0,96.0,84.0,69.0,84.0,70.0,88.0,90.0,0.0,91.0,86.0,83.0,89.0,86.0,75.0,0.0,87.0,83.0,94.0,0.0,88.0,85.0,85.0,87.0,81.0,86.0,70.0,93.0,87.0,89.0,93.0,84.0,0.0,89.0,90.0,87.0,87.0,84.0,52.0,78.0],\"xaxis\":\"x\",\"y\":[\"Calificaciones finales\",\"Calificaciones finales\",\"Calificaciones finales\",\"Calificaciones finales\",\"Calificaciones finales\",\"Calificaciones finales\",\"Calificaciones finales\",\"Calificaciones finales\",\"Calificaciones finales\",\"Calificaciones finales\",\"Calificaciones finales\",\"Calificaciones finales\",\"Calificaciones finales\",\"Calificaciones finales\",\"Calificaciones finales\",\"Calificaciones finales\",\"Calificaciones finales\",\"Calificaciones finales\",\"Calificaciones finales\",\"Calificaciones finales\",\"Calificaciones finales\",\"Calificaciones finales\",\"Calificaciones finales\",\"Calificaciones finales\",\"Calificaciones finales\",\"Calificaciones finales\",\"Calificaciones finales\",\"Calificaciones finales\",\"Calificaciones finales\",\"Calificaciones finales\",\"Calificaciones finales\",\"Calificaciones finales\",\"Calificaciones finales\",\"Calificaciones finales\",\"Calificaciones finales\",\"Calificaciones finales\",\"Calificaciones finales\",\"Calificaciones finales\",\"Calificaciones finales\",\"Calificaciones finales\",\"Calificaciones finales\",\"Calificaciones finales\",\"Calificaciones finales\",\"Calificaciones finales\",\"Calificaciones finales\",\"Calificaciones finales\",\"Calificaciones finales\",\"Calificaciones finales\",\"Calificaciones finales\",\"Calificaciones finales\",\"Calificaciones finales\",\"Calificaciones finales\",\"Calificaciones finales\",\"Calificaciones finales\"],\"yaxis\":\"y2\",\"type\":\"scatter\"}],                        {\"barmode\":\"overlay\",\"hovermode\":\"closest\",\"legend\":{\"traceorder\":\"reversed\"},\"xaxis\":{\"anchor\":\"y2\",\"domain\":[0.0,1.0],\"zeroline\":false},\"yaxis\":{\"anchor\":\"free\",\"domain\":[0.35,1],\"position\":0.0},\"yaxis2\":{\"anchor\":\"x\",\"domain\":[0,0.25],\"dtick\":1,\"showticklabels\":false},\"template\":{\"data\":{\"histogram2dcontour\":[{\"type\":\"histogram2dcontour\",\"colorbar\":{\"outlinewidth\":0,\"ticks\":\"\"},\"colorscale\":[[0.0,\"#0d0887\"],[0.1111111111111111,\"#46039f\"],[0.2222222222222222,\"#7201a8\"],[0.3333333333333333,\"#9c179e\"],[0.4444444444444444,\"#bd3786\"],[0.5555555555555556,\"#d8576b\"],[0.6666666666666666,\"#ed7953\"],[0.7777777777777778,\"#fb9f3a\"],[0.8888888888888888,\"#fdca26\"],[1.0,\"#f0f921\"]]}],\"choropleth\":[{\"type\":\"choropleth\",\"colorbar\":{\"outlinewidth\":0,\"ticks\":\"\"}}],\"histogram2d\":[{\"type\":\"histogram2d\",\"colorbar\":{\"outlinewidth\":0,\"ticks\":\"\"},\"colorscale\":[[0.0,\"#0d0887\"],[0.1111111111111111,\"#46039f\"],[0.2222222222222222,\"#7201a8\"],[0.3333333333333333,\"#9c179e\"],[0.4444444444444444,\"#bd3786\"],[0.5555555555555556,\"#d8576b\"],[0.6666666666666666,\"#ed7953\"],[0.7777777777777778,\"#fb9f3a\"],[0.8888888888888888,\"#fdca26\"],[1.0,\"#f0f921\"]]}],\"heatmap\":[{\"type\":\"heatmap\",\"colorbar\":{\"outlinewidth\":0,\"ticks\":\"\"},\"colorscale\":[[0.0,\"#0d0887\"],[0.1111111111111111,\"#46039f\"],[0.2222222222222222,\"#7201a8\"],[0.3333333333333333,\"#9c179e\"],[0.4444444444444444,\"#bd3786\"],[0.5555555555555556,\"#d8576b\"],[0.6666666666666666,\"#ed7953\"],[0.7777777777777778,\"#fb9f3a\"],[0.8888888888888888,\"#fdca26\"],[1.0,\"#f0f921\"]]}],\"heatmapgl\":[{\"type\":\"heatmapgl\",\"colorbar\":{\"outlinewidth\":0,\"ticks\":\"\"},\"colorscale\":[[0.0,\"#0d0887\"],[0.1111111111111111,\"#46039f\"],[0.2222222222222222,\"#7201a8\"],[0.3333333333333333,\"#9c179e\"],[0.4444444444444444,\"#bd3786\"],[0.5555555555555556,\"#d8576b\"],[0.6666666666666666,\"#ed7953\"],[0.7777777777777778,\"#fb9f3a\"],[0.8888888888888888,\"#fdca26\"],[1.0,\"#f0f921\"]]}],\"contourcarpet\":[{\"type\":\"contourcarpet\",\"colorbar\":{\"outlinewidth\":0,\"ticks\":\"\"}}],\"contour\":[{\"type\":\"contour\",\"colorbar\":{\"outlinewidth\":0,\"ticks\":\"\"},\"colorscale\":[[0.0,\"#0d0887\"],[0.1111111111111111,\"#46039f\"],[0.2222222222222222,\"#7201a8\"],[0.3333333333333333,\"#9c179e\"],[0.4444444444444444,\"#bd3786\"],[0.5555555555555556,\"#d8576b\"],[0.6666666666666666,\"#ed7953\"],[0.7777777777777778,\"#fb9f3a\"],[0.8888888888888888,\"#fdca26\"],[1.0,\"#f0f921\"]]}],\"surface\":[{\"type\":\"surface\",\"colorbar\":{\"outlinewidth\":0,\"ticks\":\"\"},\"colorscale\":[[0.0,\"#0d0887\"],[0.1111111111111111,\"#46039f\"],[0.2222222222222222,\"#7201a8\"],[0.3333333333333333,\"#9c179e\"],[0.4444444444444444,\"#bd3786\"],[0.5555555555555556,\"#d8576b\"],[0.6666666666666666,\"#ed7953\"],[0.7777777777777778,\"#fb9f3a\"],[0.8888888888888888,\"#fdca26\"],[1.0,\"#f0f921\"]]}],\"mesh3d\":[{\"type\":\"mesh3d\",\"colorbar\":{\"outlinewidth\":0,\"ticks\":\"\"}}],\"scatter\":[{\"fillpattern\":{\"fillmode\":\"overlay\",\"size\":10,\"solidity\":0.2},\"type\":\"scatter\"}],\"parcoords\":[{\"type\":\"parcoords\",\"line\":{\"colorbar\":{\"outlinewidth\":0,\"ticks\":\"\"}}}],\"scatterpolargl\":[{\"type\":\"scatterpolargl\",\"marker\":{\"colorbar\":{\"outlinewidth\":0,\"ticks\":\"\"}}}],\"bar\":[{\"error_x\":{\"color\":\"#2a3f5f\"},\"error_y\":{\"color\":\"#2a3f5f\"},\"marker\":{\"line\":{\"color\":\"#E5ECF6\",\"width\":0.5},\"pattern\":{\"fillmode\":\"overlay\",\"size\":10,\"solidity\":0.2}},\"type\":\"bar\"}],\"scattergeo\":[{\"type\":\"scattergeo\",\"marker\":{\"colorbar\":{\"outlinewidth\":0,\"ticks\":\"\"}}}],\"scatterpolar\":[{\"type\":\"scatterpolar\",\"marker\":{\"colorbar\":{\"outlinewidth\":0,\"ticks\":\"\"}}}],\"histogram\":[{\"marker\":{\"pattern\":{\"fillmode\":\"overlay\",\"size\":10,\"solidity\":0.2}},\"type\":\"histogram\"}],\"scattergl\":[{\"type\":\"scattergl\",\"marker\":{\"colorbar\":{\"outlinewidth\":0,\"ticks\":\"\"}}}],\"scatter3d\":[{\"type\":\"scatter3d\",\"line\":{\"colorbar\":{\"outlinewidth\":0,\"ticks\":\"\"}},\"marker\":{\"colorbar\":{\"outlinewidth\":0,\"ticks\":\"\"}}}],\"scattermapbox\":[{\"type\":\"scattermapbox\",\"marker\":{\"colorbar\":{\"outlinewidth\":0,\"ticks\":\"\"}}}],\"scatterternary\":[{\"type\":\"scatterternary\",\"marker\":{\"colorbar\":{\"outlinewidth\":0,\"ticks\":\"\"}}}],\"scattercarpet\":[{\"type\":\"scattercarpet\",\"marker\":{\"colorbar\":{\"outlinewidth\":0,\"ticks\":\"\"}}}],\"carpet\":[{\"aaxis\":{\"endlinecolor\":\"#2a3f5f\",\"gridcolor\":\"white\",\"linecolor\":\"white\",\"minorgridcolor\":\"white\",\"startlinecolor\":\"#2a3f5f\"},\"baxis\":{\"endlinecolor\":\"#2a3f5f\",\"gridcolor\":\"white\",\"linecolor\":\"white\",\"minorgridcolor\":\"white\",\"startlinecolor\":\"#2a3f5f\"},\"type\":\"carpet\"}],\"table\":[{\"cells\":{\"fill\":{\"color\":\"#EBF0F8\"},\"line\":{\"color\":\"white\"}},\"header\":{\"fill\":{\"color\":\"#C8D4E3\"},\"line\":{\"color\":\"white\"}},\"type\":\"table\"}],\"barpolar\":[{\"marker\":{\"line\":{\"color\":\"#E5ECF6\",\"width\":0.5},\"pattern\":{\"fillmode\":\"overlay\",\"size\":10,\"solidity\":0.2}},\"type\":\"barpolar\"}],\"pie\":[{\"automargin\":true,\"type\":\"pie\"}]},\"layout\":{\"autotypenumbers\":\"strict\",\"colorway\":[\"#636efa\",\"#EF553B\",\"#00cc96\",\"#ab63fa\",\"#FFA15A\",\"#19d3f3\",\"#FF6692\",\"#B6E880\",\"#FF97FF\",\"#FECB52\"],\"font\":{\"color\":\"#2a3f5f\"},\"hovermode\":\"closest\",\"hoverlabel\":{\"align\":\"left\"},\"paper_bgcolor\":\"white\",\"plot_bgcolor\":\"#E5ECF6\",\"polar\":{\"bgcolor\":\"#E5ECF6\",\"angularaxis\":{\"gridcolor\":\"white\",\"linecolor\":\"white\",\"ticks\":\"\"},\"radialaxis\":{\"gridcolor\":\"white\",\"linecolor\":\"white\",\"ticks\":\"\"}},\"ternary\":{\"bgcolor\":\"#E5ECF6\",\"aaxis\":{\"gridcolor\":\"white\",\"linecolor\":\"white\",\"ticks\":\"\"},\"baxis\":{\"gridcolor\":\"white\",\"linecolor\":\"white\",\"ticks\":\"\"},\"caxis\":{\"gridcolor\":\"white\",\"linecolor\":\"white\",\"ticks\":\"\"}},\"coloraxis\":{\"colorbar\":{\"outlinewidth\":0,\"ticks\":\"\"}},\"colorscale\":{\"sequential\":[[0.0,\"#0d0887\"],[0.1111111111111111,\"#46039f\"],[0.2222222222222222,\"#7201a8\"],[0.3333333333333333,\"#9c179e\"],[0.4444444444444444,\"#bd3786\"],[0.5555555555555556,\"#d8576b\"],[0.6666666666666666,\"#ed7953\"],[0.7777777777777778,\"#fb9f3a\"],[0.8888888888888888,\"#fdca26\"],[1.0,\"#f0f921\"]],\"sequentialminus\":[[0.0,\"#0d0887\"],[0.1111111111111111,\"#46039f\"],[0.2222222222222222,\"#7201a8\"],[0.3333333333333333,\"#9c179e\"],[0.4444444444444444,\"#bd3786\"],[0.5555555555555556,\"#d8576b\"],[0.6666666666666666,\"#ed7953\"],[0.7777777777777778,\"#fb9f3a\"],[0.8888888888888888,\"#fdca26\"],[1.0,\"#f0f921\"]],\"diverging\":[[0,\"#8e0152\"],[0.1,\"#c51b7d\"],[0.2,\"#de77ae\"],[0.3,\"#f1b6da\"],[0.4,\"#fde0ef\"],[0.5,\"#f7f7f7\"],[0.6,\"#e6f5d0\"],[0.7,\"#b8e186\"],[0.8,\"#7fbc41\"],[0.9,\"#4d9221\"],[1,\"#276419\"]]},\"xaxis\":{\"gridcolor\":\"white\",\"linecolor\":\"white\",\"ticks\":\"\",\"title\":{\"standoff\":15},\"zerolinecolor\":\"white\",\"automargin\":true,\"zerolinewidth\":2},\"yaxis\":{\"gridcolor\":\"white\",\"linecolor\":\"white\",\"ticks\":\"\",\"title\":{\"standoff\":15},\"zerolinecolor\":\"white\",\"automargin\":true,\"zerolinewidth\":2},\"scene\":{\"xaxis\":{\"backgroundcolor\":\"#E5ECF6\",\"gridcolor\":\"white\",\"linecolor\":\"white\",\"showbackground\":true,\"ticks\":\"\",\"zerolinecolor\":\"white\",\"gridwidth\":2},\"yaxis\":{\"backgroundcolor\":\"#E5ECF6\",\"gridcolor\":\"white\",\"linecolor\":\"white\",\"showbackground\":true,\"ticks\":\"\",\"zerolinecolor\":\"white\",\"gridwidth\":2},\"zaxis\":{\"backgroundcolor\":\"#E5ECF6\",\"gridcolor\":\"white\",\"linecolor\":\"white\",\"showbackground\":true,\"ticks\":\"\",\"zerolinecolor\":\"white\",\"gridwidth\":2}},\"shapedefaults\":{\"line\":{\"color\":\"#2a3f5f\"}},\"annotationdefaults\":{\"arrowcolor\":\"#2a3f5f\",\"arrowhead\":0,\"arrowwidth\":1},\"geo\":{\"bgcolor\":\"white\",\"landcolor\":\"#E5ECF6\",\"subunitcolor\":\"white\",\"showland\":true,\"showlakes\":true,\"lakecolor\":\"white\"},\"title\":{\"x\":0.05},\"mapbox\":{\"style\":\"light\"}}}},                        {\"responsive\": true}                    ).then(function(){\n",
       "                            \n",
       "var gd = document.getElementById('0127336a-d73d-4b61-9758-f2af0454a440');\n",
       "var x = new MutationObserver(function (mutations, observer) {{\n",
       "        var display = window.getComputedStyle(gd).display;\n",
       "        if (!display || display === 'none') {{\n",
       "            console.log([gd, 'removed!']);\n",
       "            Plotly.purge(gd);\n",
       "            observer.disconnect();\n",
       "        }}\n",
       "}});\n",
       "\n",
       "// Listen for the removal of the full notebook cells\n",
       "var notebookContainer = gd.closest('#notebook-container');\n",
       "if (notebookContainer) {{\n",
       "    x.observe(notebookContainer, {childList: true});\n",
       "}}\n",
       "\n",
       "// Listen for the clearing of the current output cell\n",
       "var outputEl = gd.closest('.output');\n",
       "if (outputEl) {{\n",
       "    x.observe(outputEl, {childList: true});\n",
       "}}\n",
       "\n",
       "                        })                };                });            </script>        </div>"
      ]
     },
     "metadata": {},
     "output_type": "display_data"
    }
   ],
   "source": [
    "import plotly.figure_factory as ff\n",
    "import numpy as np\n",
    "\n",
    "hist_data = [df[\"Calificación final\"]]\n",
    "group_labels = ['Calificaciones finales'] # name of the dataset\n",
    "\n",
    "fig = ff.create_distplot(hist_data, group_labels,colors=[\"darkviolet\"])\n",
    "fig.show()"
   ]
  }
 ],
 "metadata": {
  "kernelspec": {
   "display_name": "Python 3 (ipykernel)",
   "language": "python",
   "name": "python3"
  },
  "language_info": {
   "codemirror_mode": {
    "name": "ipython",
    "version": 3
   },
   "file_extension": ".py",
   "mimetype": "text/x-python",
   "name": "python",
   "nbconvert_exporter": "python",
   "pygments_lexer": "ipython3",
   "version": "3.9.6"
  }
 },
 "nbformat": 4,
 "nbformat_minor": 5
}
