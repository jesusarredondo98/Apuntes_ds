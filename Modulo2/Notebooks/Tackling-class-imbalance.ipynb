{
 "cells": [
  {
   "cell_type": "markdown",
   "metadata": {},
   "source": [
    "## Loading Required libraries"
   ]
  },
  {
   "cell_type": "code",
   "execution_count": 31,
   "metadata": {
    "ExecuteTime": {
     "end_time": "2022-05-07T16:52:42.159942Z",
     "start_time": "2022-05-07T16:52:42.149917Z"
    },
    "_cell_guid": "b1076dfc-b9ad-4769-8c92-a6c4dae69d19",
    "_kg_hide-input": true,
    "_uuid": "8f2839f25d086af736a60e9eeb907d3b93b6e0e5",
    "execution": {
     "iopub.execute_input": "2021-01-23T08:50:19.853817Z",
     "iopub.status.busy": "2021-01-23T08:50:19.852816Z",
     "iopub.status.idle": "2021-01-23T08:50:20.597493Z",
     "shell.execute_reply": "2021-01-23T08:50:20.596492Z",
     "shell.execute_reply.started": "2021-01-23T08:50:19.853817Z"
    }
   },
   "outputs": [],
   "source": [
    "import pandas as pd\n",
    "import numpy as np\n",
    "import matplotlib.pyplot as plt\n",
    "import seaborn as sns\n",
    "from sklearn.preprocessing import LabelEncoder\n",
    "from sklearn.utils import resample\n",
    "from sklearn.metrics import roc_auc_score,precision_recall_curve,roc_curve,f1_score\n",
    "from sklearn.model_selection import train_test_split\n",
    "from sklearn.linear_model import LogisticRegression\n",
    "import matplotlib.patches as mpatches\n",
    "from sklearn.metrics import confusion_matrix"
   ]
  },
  {
   "cell_type": "markdown",
   "metadata": {},
   "source": [
    "## Loading Data"
   ]
  },
  {
   "cell_type": "code",
   "execution_count": 32,
   "metadata": {
    "ExecuteTime": {
     "end_time": "2022-05-07T16:52:45.082752Z",
     "start_time": "2022-05-07T16:52:44.378684Z"
    },
    "_cell_guid": "79c7e3d0-c299-4dcb-8224-4455121ee9b0",
    "_kg_hide-input": true,
    "_uuid": "d629ff2d2480ee46fbb7e2d37f6b5fab8052498a",
    "execution": {
     "iopub.execute_input": "2021-01-23T08:50:21.111961Z",
     "iopub.status.busy": "2021-01-23T08:50:21.110960Z",
     "iopub.status.idle": "2021-01-23T08:50:21.215055Z",
     "shell.execute_reply": "2021-01-23T08:50:21.215055Z",
     "shell.execute_reply.started": "2021-01-23T08:50:21.111961Z"
    }
   },
   "outputs": [],
   "source": [
    "train_transactions=pd.read_pickle('../data/transactions_sample.pkl')"
   ]
  },
  {
   "cell_type": "code",
   "execution_count": 33,
   "metadata": {
    "ExecuteTime": {
     "end_time": "2022-05-07T16:52:55.916418Z",
     "start_time": "2022-05-07T16:52:55.890405Z"
    },
    "execution": {
     "iopub.execute_input": "2021-01-23T08:50:22.045810Z",
     "iopub.status.busy": "2021-01-23T08:50:22.045810Z",
     "iopub.status.idle": "2021-01-23T08:50:22.069832Z",
     "shell.execute_reply": "2021-01-23T08:50:22.069832Z",
     "shell.execute_reply.started": "2021-01-23T08:50:22.045810Z"
    }
   },
   "outputs": [
    {
     "data": {
      "text/html": [
       "<div>\n",
       "<style scoped>\n",
       "    .dataframe tbody tr th:only-of-type {\n",
       "        vertical-align: middle;\n",
       "    }\n",
       "\n",
       "    .dataframe tbody tr th {\n",
       "        vertical-align: top;\n",
       "    }\n",
       "\n",
       "    .dataframe thead th {\n",
       "        text-align: right;\n",
       "    }\n",
       "</style>\n",
       "<table border=\"1\" class=\"dataframe\">\n",
       "  <thead>\n",
       "    <tr style=\"text-align: right;\">\n",
       "      <th></th>\n",
       "      <th>TransactionID</th>\n",
       "      <th>isFraud</th>\n",
       "      <th>TransactionDT</th>\n",
       "      <th>TransactionAmt</th>\n",
       "      <th>card1</th>\n",
       "      <th>card2</th>\n",
       "      <th>card3</th>\n",
       "      <th>card5</th>\n",
       "      <th>addr1</th>\n",
       "      <th>addr2</th>\n",
       "      <th>...</th>\n",
       "      <th>V330</th>\n",
       "      <th>V331</th>\n",
       "      <th>V332</th>\n",
       "      <th>V333</th>\n",
       "      <th>V334</th>\n",
       "      <th>V335</th>\n",
       "      <th>V336</th>\n",
       "      <th>V337</th>\n",
       "      <th>V338</th>\n",
       "      <th>V339</th>\n",
       "    </tr>\n",
       "  </thead>\n",
       "  <tbody>\n",
       "    <tr>\n",
       "      <th>519050</th>\n",
       "      <td>3506050</td>\n",
       "      <td>0</td>\n",
       "      <td>13626390</td>\n",
       "      <td>44.00</td>\n",
       "      <td>9992</td>\n",
       "      <td>455.0</td>\n",
       "      <td>150.0</td>\n",
       "      <td>126.0</td>\n",
       "      <td>143.0</td>\n",
       "      <td>87.0</td>\n",
       "      <td>...</td>\n",
       "      <td>NaN</td>\n",
       "      <td>NaN</td>\n",
       "      <td>NaN</td>\n",
       "      <td>NaN</td>\n",
       "      <td>NaN</td>\n",
       "      <td>NaN</td>\n",
       "      <td>NaN</td>\n",
       "      <td>NaN</td>\n",
       "      <td>NaN</td>\n",
       "      <td>NaN</td>\n",
       "    </tr>\n",
       "    <tr>\n",
       "      <th>101510</th>\n",
       "      <td>3088510</td>\n",
       "      <td>0</td>\n",
       "      <td>2048542</td>\n",
       "      <td>50.00</td>\n",
       "      <td>12883</td>\n",
       "      <td>404.0</td>\n",
       "      <td>150.0</td>\n",
       "      <td>226.0</td>\n",
       "      <td>387.0</td>\n",
       "      <td>87.0</td>\n",
       "      <td>...</td>\n",
       "      <td>0.0</td>\n",
       "      <td>0.0</td>\n",
       "      <td>0.0</td>\n",
       "      <td>0.0</td>\n",
       "      <td>0.0</td>\n",
       "      <td>0.0</td>\n",
       "      <td>0.0</td>\n",
       "      <td>0.0</td>\n",
       "      <td>0.0</td>\n",
       "      <td>0.0</td>\n",
       "    </tr>\n",
       "    <tr>\n",
       "      <th>86241</th>\n",
       "      <td>3073241</td>\n",
       "      <td>1</td>\n",
       "      <td>1816041</td>\n",
       "      <td>250.00</td>\n",
       "      <td>10486</td>\n",
       "      <td>514.0</td>\n",
       "      <td>150.0</td>\n",
       "      <td>219.0</td>\n",
       "      <td>325.0</td>\n",
       "      <td>87.0</td>\n",
       "      <td>...</td>\n",
       "      <td>0.0</td>\n",
       "      <td>0.0</td>\n",
       "      <td>0.0</td>\n",
       "      <td>0.0</td>\n",
       "      <td>0.0</td>\n",
       "      <td>0.0</td>\n",
       "      <td>0.0</td>\n",
       "      <td>0.0</td>\n",
       "      <td>0.0</td>\n",
       "      <td>0.0</td>\n",
       "    </tr>\n",
       "    <tr>\n",
       "      <th>74832</th>\n",
       "      <td>3061832</td>\n",
       "      <td>0</td>\n",
       "      <td>1641841</td>\n",
       "      <td>515.65</td>\n",
       "      <td>17188</td>\n",
       "      <td>321.0</td>\n",
       "      <td>150.0</td>\n",
       "      <td>226.0</td>\n",
       "      <td>299.0</td>\n",
       "      <td>87.0</td>\n",
       "      <td>...</td>\n",
       "      <td>NaN</td>\n",
       "      <td>NaN</td>\n",
       "      <td>NaN</td>\n",
       "      <td>NaN</td>\n",
       "      <td>NaN</td>\n",
       "      <td>NaN</td>\n",
       "      <td>NaN</td>\n",
       "      <td>NaN</td>\n",
       "      <td>NaN</td>\n",
       "      <td>NaN</td>\n",
       "    </tr>\n",
       "    <tr>\n",
       "      <th>112387</th>\n",
       "      <td>3099387</td>\n",
       "      <td>0</td>\n",
       "      <td>2184361</td>\n",
       "      <td>36.95</td>\n",
       "      <td>7005</td>\n",
       "      <td>111.0</td>\n",
       "      <td>150.0</td>\n",
       "      <td>226.0</td>\n",
       "      <td>310.0</td>\n",
       "      <td>87.0</td>\n",
       "      <td>...</td>\n",
       "      <td>NaN</td>\n",
       "      <td>NaN</td>\n",
       "      <td>NaN</td>\n",
       "      <td>NaN</td>\n",
       "      <td>NaN</td>\n",
       "      <td>NaN</td>\n",
       "      <td>NaN</td>\n",
       "      <td>NaN</td>\n",
       "      <td>NaN</td>\n",
       "      <td>NaN</td>\n",
       "    </tr>\n",
       "  </tbody>\n",
       "</table>\n",
       "<p>5 rows × 380 columns</p>\n",
       "</div>"
      ],
      "text/plain": [
       "        TransactionID  isFraud  TransactionDT  TransactionAmt  card1  card2  \\\n",
       "519050        3506050        0       13626390           44.00   9992  455.0   \n",
       "101510        3088510        0        2048542           50.00  12883  404.0   \n",
       "86241         3073241        1        1816041          250.00  10486  514.0   \n",
       "74832         3061832        0        1641841          515.65  17188  321.0   \n",
       "112387        3099387        0        2184361           36.95   7005  111.0   \n",
       "\n",
       "        card3  card5  addr1  addr2  ...  V330  V331  V332  V333  V334  V335  \\\n",
       "519050  150.0  126.0  143.0   87.0  ...   NaN   NaN   NaN   NaN   NaN   NaN   \n",
       "101510  150.0  226.0  387.0   87.0  ...   0.0   0.0   0.0   0.0   0.0   0.0   \n",
       "86241   150.0  219.0  325.0   87.0  ...   0.0   0.0   0.0   0.0   0.0   0.0   \n",
       "74832   150.0  226.0  299.0   87.0  ...   NaN   NaN   NaN   NaN   NaN   NaN   \n",
       "112387  150.0  226.0  310.0   87.0  ...   NaN   NaN   NaN   NaN   NaN   NaN   \n",
       "\n",
       "        V336  V337  V338  V339  \n",
       "519050   NaN   NaN   NaN   NaN  \n",
       "101510   0.0   0.0   0.0   0.0  \n",
       "86241    0.0   0.0   0.0   0.0  \n",
       "74832    NaN   NaN   NaN   NaN  \n",
       "112387   NaN   NaN   NaN   NaN  \n",
       "\n",
       "[5 rows x 380 columns]"
      ]
     },
     "execution_count": 33,
     "metadata": {},
     "output_type": "execute_result"
    }
   ],
   "source": [
    "train_transactions.head()"
   ]
  },
  {
   "cell_type": "code",
   "execution_count": 34,
   "metadata": {
    "ExecuteTime": {
     "end_time": "2022-05-07T16:53:00.806313Z",
     "start_time": "2022-05-07T16:53:00.771728Z"
    },
    "execution": {
     "iopub.execute_input": "2021-01-23T08:50:22.379113Z",
     "iopub.status.busy": "2021-01-23T08:50:22.378112Z",
     "iopub.status.idle": "2021-01-23T08:50:22.403135Z",
     "shell.execute_reply": "2021-01-23T08:50:22.402134Z",
     "shell.execute_reply.started": "2021-01-23T08:50:22.379113Z"
    }
   },
   "outputs": [
    {
     "name": "stdout",
     "output_type": "stream",
     "text": [
      "<class 'pandas.core.frame.DataFrame'>\n",
      "Int64Index: 59054 entries, 519050 to 255462\n",
      "Columns: 380 entries, TransactionID to V339\n",
      "dtypes: float64(376), int64(4)\n",
      "memory usage: 171.7 MB\n"
     ]
    }
   ],
   "source": [
    "train_transactions.info()"
   ]
  },
  {
   "cell_type": "markdown",
   "metadata": {},
   "source": [
    "<div align='left'><font size='4' color='#229954'>Target variable</font></div>\n"
   ]
  },
  {
   "cell_type": "code",
   "execution_count": 35,
   "metadata": {
    "ExecuteTime": {
     "end_time": "2022-05-07T16:53:12.017050Z",
     "start_time": "2022-05-07T16:53:12.000773Z"
    }
   },
   "outputs": [
    {
     "data": {
      "text/plain": [
       "0    0.964693\n",
       "1    0.035307\n",
       "Name: isFraud, dtype: float64"
      ]
     },
     "execution_count": 35,
     "metadata": {},
     "output_type": "execute_result"
    }
   ],
   "source": [
    "train_transactions['isFraud'].value_counts(1)"
   ]
  },
  {
   "cell_type": "code",
   "execution_count": 36,
   "metadata": {
    "ExecuteTime": {
     "end_time": "2022-05-07T16:53:27.688576Z",
     "start_time": "2022-05-07T16:53:27.499642Z"
    },
    "execution": {
     "iopub.execute_input": "2021-01-23T08:50:23.169832Z",
     "iopub.status.busy": "2021-01-23T08:50:23.169832Z",
     "iopub.status.idle": "2021-01-23T08:50:23.282935Z",
     "shell.execute_reply": "2021-01-23T08:50:23.282935Z",
     "shell.execute_reply.started": "2021-01-23T08:50:23.169832Z"
    }
   },
   "outputs": [
    {
     "name": "stderr",
     "output_type": "stream",
     "text": [
      "/home/jorge/Documents/Diplomado/ambientes/diplo_env/lib/python3.6/site-packages/seaborn/_decorators.py:43: FutureWarning: Pass the following variables as keyword args: x, y. From version 0.12, the only valid positional argument will be `data`, and passing other arguments without an explicit keyword will result in an error or misinterpretation.\n",
      "  FutureWarning\n"
     ]
    },
    {
     "data": {
      "text/plain": [
       "Text(0.5, 1.0, 'Target variable count')"
      ]
     },
     "execution_count": 36,
     "metadata": {},
     "output_type": "execute_result"
    },
    {
     "data": {
      "image/png": "[encoded data removed]",
      "text/plain": [
       "<Figure size 432x288 with 1 Axes>"
      ]
     },
     "metadata": {
      "needs_background": "light"
     },
     "output_type": "display_data"
    }
   ],
   "source": [
    "x=train_transactions['isFraud'].value_counts().values\n",
    "sns.barplot([0,1],x)\n",
    "plt.title('Target variable count')\n"
   ]
  },
  {
   "cell_type": "code",
   "execution_count": 37,
   "metadata": {
    "ExecuteTime": {
     "end_time": "2022-05-07T16:53:38.395907Z",
     "start_time": "2022-05-07T16:53:38.329621Z"
    },
    "execution": {
     "iopub.execute_input": "2021-01-23T08:50:23.921515Z",
     "iopub.status.busy": "2021-01-23T08:50:23.921515Z",
     "iopub.status.idle": "2021-01-23T08:50:23.992580Z",
     "shell.execute_reply": "2021-01-23T08:50:23.991579Z",
     "shell.execute_reply.started": "2021-01-23T08:50:23.921515Z"
    }
   },
   "outputs": [],
   "source": [
    "train_transactions.drop(columns  = [\"TransactionID\",\"TransactionDT\"],inplace=True)"
   ]
  },
  {
   "cell_type": "code",
   "execution_count": 38,
   "metadata": {
    "ExecuteTime": {
     "end_time": "2022-05-07T16:53:41.623271Z",
     "start_time": "2022-05-07T16:53:41.616095Z"
    },
    "execution": {
     "iopub.execute_input": "2021-01-23T08:50:24.157730Z",
     "iopub.status.busy": "2021-01-23T08:50:24.156729Z",
     "iopub.status.idle": "2021-01-23T08:50:24.165737Z",
     "shell.execute_reply": "2021-01-23T08:50:24.164736Z",
     "shell.execute_reply.started": "2021-01-23T08:50:24.157730Z"
    }
   },
   "outputs": [],
   "source": [
    "target = \"isFraud\""
   ]
  },
  {
   "cell_type": "code",
   "execution_count": 39,
   "metadata": {
    "ExecuteTime": {
     "end_time": "2022-05-07T16:54:07.249071Z",
     "start_time": "2022-05-07T16:54:06.323865Z"
    },
    "execution": {
     "iopub.execute_input": "2021-01-23T08:50:24.378931Z",
     "iopub.status.busy": "2021-01-23T08:50:24.377930Z",
     "iopub.status.idle": "2021-01-23T08:50:24.434982Z",
     "shell.execute_reply": "2021-01-23T08:50:24.433982Z",
     "shell.execute_reply.started": "2021-01-23T08:50:24.378931Z"
    }
   },
   "outputs": [],
   "source": [
    "X = train_transactions.drop(target,axis=1)\n",
    "y = train_transactions[target]"
   ]
  },
  {
   "cell_type": "code",
   "execution_count": 40,
   "metadata": {
    "ExecuteTime": {
     "end_time": "2022-05-07T16:54:15.005438Z",
     "start_time": "2022-05-07T16:54:14.849354Z"
    },
    "execution": {
     "iopub.execute_input": "2021-01-23T08:50:24.584118Z",
     "iopub.status.busy": "2021-01-23T08:50:24.584118Z",
     "iopub.status.idle": "2021-01-23T08:50:24.810324Z",
     "shell.execute_reply": "2021-01-23T08:50:24.809322Z",
     "shell.execute_reply.started": "2021-01-23T08:50:24.584118Z"
    }
   },
   "outputs": [],
   "source": [
    "X_train,X_test,y_train,y_test=train_test_split(X,y,test_size=.2,random_state=1)"
   ]
  },
  {
   "cell_type": "code",
   "execution_count": 41,
   "metadata": {
    "ExecuteTime": {
     "end_time": "2022-05-07T16:54:25.539410Z",
     "start_time": "2022-05-07T16:54:25.532395Z"
    },
    "execution": {
     "iopub.execute_input": "2021-01-23T08:50:24.858367Z",
     "iopub.status.busy": "2021-01-23T08:50:24.858367Z",
     "iopub.status.idle": "2021-01-23T08:50:24.904409Z",
     "shell.execute_reply": "2021-01-23T08:50:24.903408Z",
     "shell.execute_reply.started": "2021-01-23T08:50:24.858367Z"
    }
   },
   "outputs": [],
   "source": [
    "from sklearn.impute import SimpleImputer"
   ]
  },
  {
   "cell_type": "code",
   "execution_count": 42,
   "metadata": {
    "ExecuteTime": {
     "end_time": "2022-05-07T16:54:43.448024Z",
     "start_time": "2022-05-07T16:54:39.795468Z"
    },
    "execution": {
     "iopub.execute_input": "2021-01-23T08:50:25.007502Z",
     "iopub.status.busy": "2021-01-23T08:50:25.006501Z",
     "iopub.status.idle": "2021-01-23T08:50:25.615055Z",
     "shell.execute_reply": "2021-01-23T08:50:25.614054Z",
     "shell.execute_reply.started": "2021-01-23T08:50:25.006501Z"
    }
   },
   "outputs": [],
   "source": [
    "imputer = SimpleImputer()\n",
    "X_train = pd.DataFrame(imputer.fit_transform(X_train),columns = X_train.columns)"
   ]
  },
  {
   "cell_type": "code",
   "execution_count": 43,
   "metadata": {
    "ExecuteTime": {
     "end_time": "2022-05-07T16:54:44.647431Z",
     "start_time": "2022-05-07T16:54:44.502675Z"
    },
    "execution": {
     "iopub.execute_input": "2021-01-23T08:50:25.663099Z",
     "iopub.status.busy": "2021-01-23T08:50:25.663099Z",
     "iopub.status.idle": "2021-01-23T08:50:25.755182Z",
     "shell.execute_reply": "2021-01-23T08:50:25.755182Z",
     "shell.execute_reply.started": "2021-01-23T08:50:25.663099Z"
    }
   },
   "outputs": [],
   "source": [
    "X_test = pd.DataFrame(imputer.transform(X_test),columns = X_test.columns)"
   ]
  },
  {
   "cell_type": "markdown",
   "metadata": {},
   "source": [
    "\n",
    "## [Resampling](#5)<a id=\"5\"></a> <br>\n",
    "\n",
    "\n",
    "![](https://raw.githubusercontent.com/rafjaa/machine_learning_fecib/master/src/static/img/resampling.png)"
   ]
  },
  {
   "cell_type": "markdown",
   "metadata": {},
   "source": [
    "### Oversample minority class"
   ]
  },
  {
   "cell_type": "code",
   "execution_count": 14,
   "metadata": {
    "ExecuteTime": {
     "end_time": "2022-05-07T06:20:53.597006Z",
     "start_time": "2022-05-07T06:20:53.457590Z"
    },
    "execution": {
     "iopub.execute_input": "2021-01-23T08:50:26.037439Z",
     "iopub.status.busy": "2021-01-23T08:50:26.036438Z",
     "iopub.status.idle": "2021-01-23T08:50:26.151543Z",
     "shell.execute_reply": "2021-01-23T08:50:26.150542Z",
     "shell.execute_reply.started": "2021-01-23T08:50:26.037439Z"
    }
   },
   "outputs": [],
   "source": [
    "from imblearn.over_sampling import RandomOverSampler\n"
   ]
  },
  {
   "cell_type": "code",
   "execution_count": 15,
   "metadata": {
    "ExecuteTime": {
     "end_time": "2022-05-07T06:20:57.125646Z",
     "start_time": "2022-05-07T06:20:53.940565Z"
    },
    "execution": {
     "iopub.execute_input": "2021-01-23T08:50:26.299678Z",
     "iopub.status.busy": "2021-01-23T08:50:26.298676Z",
     "iopub.status.idle": "2021-01-23T08:50:26.972797Z",
     "shell.execute_reply": "2021-01-23T08:50:26.971796Z",
     "shell.execute_reply.started": "2021-01-23T08:50:26.299678Z"
    }
   },
   "outputs": [],
   "source": [
    "ran=RandomOverSampler()\n",
    "X_ran_over, y_ran_over= ran.fit_resample(X_train,y_train)"
   ]
  },
  {
   "cell_type": "code",
   "execution_count": 16,
   "metadata": {
    "ExecuteTime": {
     "end_time": "2022-05-07T06:20:59.503741Z",
     "start_time": "2022-05-07T06:20:59.381311Z"
    },
    "execution": {
     "iopub.execute_input": "2021-01-23T08:50:27.021842Z",
     "iopub.status.busy": "2021-01-23T08:50:27.021842Z",
     "iopub.status.idle": "2021-01-23T08:50:27.115927Z",
     "shell.execute_reply": "2021-01-23T08:50:27.114926Z",
     "shell.execute_reply.started": "2021-01-23T08:50:27.021842Z"
    }
   },
   "outputs": [
    {
     "name": "stderr",
     "output_type": "stream",
     "text": [
      "/home/jorge/Documents/Diplomado/ambientes/diplo_env/lib/python3.6/site-packages/seaborn/_decorators.py:43: FutureWarning: Pass the following variables as keyword args: x, y. From version 0.12, the only valid positional argument will be `data`, and passing other arguments without an explicit keyword will result in an error or misinterpretation.\n",
      "  FutureWarning\n"
     ]
    },
    {
     "data": {
      "text/plain": [
       "Text(0.5, 1.0, 'Target variable count')"
      ]
     },
     "execution_count": 16,
     "metadata": {},
     "output_type": "execute_result"
    },
    {
     "data": {
      "image/png": "[encoded data removed]",
      "text/plain": [
       "<Figure size 432x288 with 1 Axes>"
      ]
     },
     "metadata": {
      "needs_background": "light"
     },
     "output_type": "display_data"
    }
   ],
   "source": [
    "x=y_ran_over.value_counts().values\n",
    "sns.barplot([0,1],x)\n",
    "plt.title('Target variable count')"
   ]
  },
  {
   "cell_type": "markdown",
   "metadata": {},
   "source": [
    "###  Undersample majority class \n"
   ]
  },
  {
   "cell_type": "code",
   "execution_count": 17,
   "metadata": {
    "ExecuteTime": {
     "end_time": "2022-05-07T06:21:03.828373Z",
     "start_time": "2022-05-07T06:21:03.825692Z"
    },
    "execution": {
     "iopub.execute_input": "2021-01-23T08:50:27.116928Z",
     "iopub.status.busy": "2021-01-23T08:50:27.115927Z",
     "iopub.status.idle": "2021-01-23T08:50:27.131942Z",
     "shell.execute_reply": "2021-01-23T08:50:27.130941Z",
     "shell.execute_reply.started": "2021-01-23T08:50:27.116928Z"
    }
   },
   "outputs": [],
   "source": [
    "from imblearn.under_sampling import RandomUnderSampler\n"
   ]
  },
  {
   "cell_type": "code",
   "execution_count": 18,
   "metadata": {
    "ExecuteTime": {
     "end_time": "2022-05-07T06:21:05.148851Z",
     "start_time": "2022-05-07T06:21:05.044703Z"
    },
    "execution": {
     "iopub.execute_input": "2021-01-23T08:50:27.279075Z",
     "iopub.status.busy": "2021-01-23T08:50:27.279075Z",
     "iopub.status.idle": "2021-01-23T08:50:27.353143Z",
     "shell.execute_reply": "2021-01-23T08:50:27.352142Z",
     "shell.execute_reply.started": "2021-01-23T08:50:27.279075Z"
    }
   },
   "outputs": [],
   "source": [
    "ran=RandomUnderSampler()\n",
    "X_ran_under, y_ran_under= ran.fit_resample(X_train,y_train)"
   ]
  },
  {
   "cell_type": "code",
   "execution_count": 19,
   "metadata": {
    "ExecuteTime": {
     "end_time": "2022-05-07T06:21:05.835244Z",
     "start_time": "2022-05-07T06:21:05.700491Z"
    },
    "execution": {
     "iopub.execute_input": "2021-01-23T08:50:27.505281Z",
     "iopub.status.busy": "2021-01-23T08:50:27.505281Z",
     "iopub.status.idle": "2021-01-23T08:50:27.622388Z",
     "shell.execute_reply": "2021-01-23T08:50:27.621386Z",
     "shell.execute_reply.started": "2021-01-23T08:50:27.505281Z"
    }
   },
   "outputs": [
    {
     "name": "stderr",
     "output_type": "stream",
     "text": [
      "/home/jorge/Documents/Diplomado/ambientes/diplo_env/lib/python3.6/site-packages/seaborn/_decorators.py:43: FutureWarning: Pass the following variables as keyword args: x, y. From version 0.12, the only valid positional argument will be `data`, and passing other arguments without an explicit keyword will result in an error or misinterpretation.\n",
      "  FutureWarning\n"
     ]
    },
    {
     "data": {
      "text/plain": [
       "Text(0.5, 1.0, 'Target variable count')"
      ]
     },
     "execution_count": 19,
     "metadata": {},
     "output_type": "execute_result"
    },
    {
     "data": {
      "image/png": "[encoded data removed]",
      "text/plain": [
       "<Figure size 432x288 with 1 Axes>"
      ]
     },
     "metadata": {
      "needs_background": "light"
     },
     "output_type": "display_data"
    }
   ],
   "source": [
    "x=y_ran_under.value_counts().values\n",
    "sns.barplot([0,1],x)\n",
    "plt.title('Target variable count')"
   ]
  },
  {
   "cell_type": "markdown",
   "metadata": {},
   "source": [
    "### Over-sampling: SMOTE"
   ]
  },
  {
   "cell_type": "markdown",
   "metadata": {},
   "source": [
    "SMOTE (Synthetic Minority Oversampling TEchnique) consists of synthesizing elements for the minority class, based on those that already exist. It works randomly picingk a point from the minority class and computing the k-nearest neighbors for this point. The synthetic points are added between the chosen point and its neighbors.\n",
    "\n",
    "![](https://raw.githubusercontent.com/rafjaa/machine_learning_fecib/master/src/static/img/smote.png)"
   ]
  },
  {
   "cell_type": "code",
   "execution_count": 20,
   "metadata": {
    "ExecuteTime": {
     "end_time": "2022-05-07T06:21:11.688832Z",
     "start_time": "2022-05-07T06:21:11.683254Z"
    },
    "execution": {
     "iopub.execute_input": "2021-01-23T08:50:28.491686Z",
     "iopub.status.busy": "2021-01-23T08:50:28.491686Z",
     "iopub.status.idle": "2021-01-23T08:50:28.506700Z",
     "shell.execute_reply": "2021-01-23T08:50:28.506700Z",
     "shell.execute_reply.started": "2021-01-23T08:50:28.491686Z"
    }
   },
   "outputs": [],
   "source": [
    "from imblearn.over_sampling import SMOTE"
   ]
  },
  {
   "cell_type": "code",
   "execution_count": 21,
   "metadata": {
    "ExecuteTime": {
     "end_time": "2022-05-07T06:21:12.142979Z",
     "start_time": "2022-05-07T06:21:12.136731Z"
    },
    "execution": {
     "iopub.execute_input": "2021-01-23T08:50:28.775945Z",
     "iopub.status.busy": "2021-01-23T08:50:28.775945Z",
     "iopub.status.idle": "2021-01-23T08:50:28.791959Z",
     "shell.execute_reply": "2021-01-23T08:50:28.790958Z",
     "shell.execute_reply.started": "2021-01-23T08:50:28.775945Z"
    }
   },
   "outputs": [],
   "source": [
    "smote = SMOTE(sampling_strategy='minority')"
   ]
  },
  {
   "cell_type": "code",
   "execution_count": 22,
   "metadata": {
    "ExecuteTime": {
     "end_time": "2022-05-07T06:21:18.539754Z",
     "start_time": "2022-05-07T06:21:12.686745Z"
    },
    "execution": {
     "iopub.execute_input": "2021-01-23T08:50:29.030175Z",
     "iopub.status.busy": "2021-01-23T08:50:29.030175Z",
     "iopub.status.idle": "2021-01-23T08:50:29.928993Z",
     "shell.execute_reply": "2021-01-23T08:50:29.927991Z",
     "shell.execute_reply.started": "2021-01-23T08:50:29.030175Z"
    }
   },
   "outputs": [],
   "source": [
    "X_sm, y_sm = smote.fit_sample(X_train, y_train)"
   ]
  },
  {
   "cell_type": "code",
   "execution_count": 23,
   "metadata": {
    "ExecuteTime": {
     "end_time": "2022-05-07T06:22:16.381086Z",
     "start_time": "2022-05-07T06:22:16.257067Z"
    },
    "execution": {
     "iopub.execute_input": "2021-01-23T08:50:29.979039Z",
     "iopub.status.busy": "2021-01-23T08:50:29.978039Z",
     "iopub.status.idle": "2021-01-23T08:50:30.072123Z",
     "shell.execute_reply": "2021-01-23T08:50:30.071122Z",
     "shell.execute_reply.started": "2021-01-23T08:50:29.979039Z"
    }
   },
   "outputs": [
    {
     "name": "stderr",
     "output_type": "stream",
     "text": [
      "/home/jorge/Documents/Diplomado/ambientes/diplo_env/lib/python3.6/site-packages/seaborn/_decorators.py:43: FutureWarning: Pass the following variables as keyword args: x, y. From version 0.12, the only valid positional argument will be `data`, and passing other arguments without an explicit keyword will result in an error or misinterpretation.\n",
      "  FutureWarning\n"
     ]
    },
    {
     "data": {
      "text/plain": [
       "Text(0.5, 1.0, 'Target variable count')"
      ]
     },
     "execution_count": 23,
     "metadata": {},
     "output_type": "execute_result"
    },
    {
     "data": {
      "image/png": "[encoded data removed]",
      "text/plain": [
       "<Figure size 432x288 with 1 Axes>"
      ]
     },
     "metadata": {
      "needs_background": "light"
     },
     "output_type": "display_data"
    }
   ],
   "source": [
    "x=y_sm.value_counts().values\n",
    "sns.barplot([0,1],x)\n",
    "plt.title('Target variable count')"
   ]
  },
  {
   "cell_type": "code",
   "execution_count": 24,
   "metadata": {
    "ExecuteTime": {
     "end_time": "2022-05-07T06:22:21.431722Z",
     "start_time": "2022-05-07T06:22:21.426583Z"
    },
    "execution": {
     "iopub.execute_input": "2021-01-23T08:50:30.073124Z",
     "iopub.status.busy": "2021-01-23T08:50:30.073124Z",
     "iopub.status.idle": "2021-01-23T08:50:30.088138Z",
     "shell.execute_reply": "2021-01-23T08:50:30.087136Z",
     "shell.execute_reply.started": "2021-01-23T08:50:30.073124Z"
    }
   },
   "outputs": [],
   "source": [
    "from sklearn.decomposition import PCA\n",
    "from sklearn.preprocessing import StandardScaler\n"
   ]
  },
  {
   "cell_type": "code",
   "execution_count": 25,
   "metadata": {
    "ExecuteTime": {
     "end_time": "2022-05-07T06:22:28.681984Z",
     "start_time": "2022-05-07T06:22:24.003899Z"
    },
    "execution": {
     "iopub.execute_input": "2021-01-23T08:50:34.361022Z",
     "iopub.status.busy": "2021-01-23T08:50:34.360021Z",
     "iopub.status.idle": "2021-01-23T08:50:36.356943Z",
     "shell.execute_reply": "2021-01-23T08:50:36.356943Z",
     "shell.execute_reply.started": "2021-01-23T08:50:34.361022Z"
    }
   },
   "outputs": [
    {
     "data": {
      "text/plain": [
       "<AxesSubplot:xlabel='p0', ylabel='p1'>"
      ]
     },
     "execution_count": 25,
     "metadata": {},
     "output_type": "execute_result"
    },
    {
     "data": {
      "image/png": "[encoded data removed]",
      "text/plain": [
       "<Figure size 432x288 with 1 Axes>"
      ]
     },
     "metadata": {
      "needs_background": "light"
     },
     "output_type": "display_data"
    }
   ],
   "source": [
    "standar = StandardScaler()\n",
    "X_train_std = pd.DataFrame(standar.fit_transform(X_train),columns = X_train.columns)\n",
    "\n",
    "pca = PCA(2)\n",
    "X_train_pca =pd.DataFrame( pca.fit_transform(X_train_std),columns = [\"p0\",\"p1\"])\n",
    "\n",
    "sns.scatterplot(data = X_train_pca,x=\"p0\",y=\"p1\",hue=y_train.values)"
   ]
  },
  {
   "cell_type": "code",
   "execution_count": 44,
   "metadata": {
    "ExecuteTime": {
     "end_time": "2022-05-07T17:00:20.953805Z",
     "start_time": "2022-05-07T17:00:20.943595Z"
    },
    "execution": {
     "iopub.execute_input": "2021-01-23T09:03:19.021367Z",
     "iopub.status.busy": "2021-01-23T09:03:19.020365Z",
     "iopub.status.idle": "2021-01-23T09:03:19.030374Z",
     "shell.execute_reply": "2021-01-23T09:03:19.029373Z",
     "shell.execute_reply.started": "2021-01-23T09:03:19.021367Z"
    }
   },
   "outputs": [],
   "source": [
    "def evaluate_sampling(X_ran,y_ran,X_test,y_test):\n",
    "    model  = LogisticRegression(solver='liblinear')\n",
    "    model.fit(X_ran,y_ran)\n",
    "    print(roc_auc_score(y_test,model.predict_proba(X_test)[:,1]))\n",
    "    print(f1_score(y_test,model.predict(X_test)))    \n",
    "    print(confusion_matrix(y_test,model.predict(X_test)))    \n",
    "    "
   ]
  },
  {
   "cell_type": "code",
   "execution_count": 27,
   "metadata": {
    "ExecuteTime": {
     "end_time": "2022-05-07T06:22:51.221900Z",
     "start_time": "2022-05-07T06:22:32.956600Z"
    },
    "execution": {
     "iopub.execute_input": "2021-01-23T09:03:19.327645Z",
     "iopub.status.busy": "2021-01-23T09:03:19.327645Z",
     "iopub.status.idle": "2021-01-23T09:03:44.902617Z",
     "shell.execute_reply": "2021-01-23T09:03:44.901618Z",
     "shell.execute_reply.started": "2021-01-23T09:03:19.327645Z"
    }
   },
   "outputs": [
    {
     "name": "stdout",
     "output_type": "stream",
     "text": [
      "0.725560369123386\n",
      "0.0\n",
      "[[11401     4]\n",
      " [  406     0]]\n"
     ]
    },
    {
     "name": "stderr",
     "output_type": "stream",
     "text": [
      "/home/jorge/Documents/Diplomado/ambientes/diplo_env/lib/python3.6/site-packages/sklearn/svm/_base.py:977: ConvergenceWarning: Liblinear failed to converge, increase the number of iterations.\n",
      "  \"the number of iterations.\", ConvergenceWarning)\n"
     ]
    }
   ],
   "source": [
    "evaluate_sampling(X_train,y_train, X_test,y_test)"
   ]
  },
  {
   "cell_type": "code",
   "execution_count": 28,
   "metadata": {
    "ExecuteTime": {
     "end_time": "2022-05-07T06:24:28.526737Z",
     "start_time": "2022-05-07T06:23:37.782498Z"
    },
    "execution": {
     "iopub.execute_input": "2021-01-23T09:03:44.951660Z",
     "iopub.status.busy": "2021-01-23T09:03:44.950660Z",
     "iopub.status.idle": "2021-01-23T09:04:46.799219Z",
     "shell.execute_reply": "2021-01-23T09:04:46.799219Z",
     "shell.execute_reply.started": "2021-01-23T09:03:44.951660Z"
    }
   },
   "outputs": [
    {
     "name": "stdout",
     "output_type": "stream",
     "text": [
      "0.7663252656880679\n",
      "0.15586034912718205\n",
      "[[8853 2552]\n",
      " [ 156  250]]\n"
     ]
    },
    {
     "name": "stderr",
     "output_type": "stream",
     "text": [
      "/home/jorge/Documents/Diplomado/ambientes/diplo_env/lib/python3.6/site-packages/sklearn/svm/_base.py:977: ConvergenceWarning: Liblinear failed to converge, increase the number of iterations.\n",
      "  \"the number of iterations.\", ConvergenceWarning)\n"
     ]
    }
   ],
   "source": [
    "evaluate_sampling(X_ran_over,y_ran_over, X_test,y_test)"
   ]
  },
  {
   "cell_type": "code",
   "execution_count": 29,
   "metadata": {
    "ExecuteTime": {
     "end_time": "2022-05-07T06:24:35.734211Z",
     "start_time": "2022-05-07T06:24:33.131302Z"
    },
    "execution": {
     "iopub.execute_input": "2021-01-23T09:04:46.801221Z",
     "iopub.status.busy": "2021-01-23T09:04:46.801221Z",
     "iopub.status.idle": "2021-01-23T09:04:51.691910Z",
     "shell.execute_reply": "2021-01-23T09:04:51.691910Z",
     "shell.execute_reply.started": "2021-01-23T09:04:46.801221Z"
    }
   },
   "outputs": [
    {
     "name": "stdout",
     "output_type": "stream",
     "text": [
      "0.7805563414196952\n",
      "0.1913109756097561\n",
      "[[9438 1967]\n",
      " [ 155  251]]\n"
     ]
    },
    {
     "name": "stderr",
     "output_type": "stream",
     "text": [
      "/home/jorge/Documents/Diplomado/ambientes/diplo_env/lib/python3.6/site-packages/sklearn/svm/_base.py:977: ConvergenceWarning: Liblinear failed to converge, increase the number of iterations.\n",
      "  \"the number of iterations.\", ConvergenceWarning)\n"
     ]
    }
   ],
   "source": [
    "evaluate_sampling(X_ran_under,y_ran_under, X_test,y_test)"
   ]
  },
  {
   "cell_type": "code",
   "execution_count": 30,
   "metadata": {
    "ExecuteTime": {
     "end_time": "2022-05-07T06:25:36.928986Z",
     "start_time": "2022-05-07T06:24:45.532728Z"
    },
    "execution": {
     "iopub.execute_input": "2021-01-23T09:04:51.741956Z",
     "iopub.status.busy": "2021-01-23T09:04:51.741956Z",
     "iopub.status.idle": "2021-01-23T09:05:58.917112Z",
     "shell.execute_reply": "2021-01-23T09:05:58.917112Z",
     "shell.execute_reply.started": "2021-01-23T09:04:51.741956Z"
    }
   },
   "outputs": [
    {
     "name": "stdout",
     "output_type": "stream",
     "text": [
      "0.7621859093000003\n",
      "0.16061185468451245\n",
      "[[8925 2480]\n",
      " [ 154  252]]\n"
     ]
    },
    {
     "name": "stderr",
     "output_type": "stream",
     "text": [
      "/home/jorge/Documents/Diplomado/ambientes/diplo_env/lib/python3.6/site-packages/sklearn/svm/_base.py:977: ConvergenceWarning: Liblinear failed to converge, increase the number of iterations.\n",
      "  \"the number of iterations.\", ConvergenceWarning)\n"
     ]
    }
   ],
   "source": [
    "evaluate_sampling(X_sm,y_sm, X_test,y_test)"
   ]
  },
  {
   "cell_type": "code",
   "execution_count": null,
   "metadata": {},
   "outputs": [],
   "source": []
  }
 ],
 "metadata": {
  "kernelspec": {
   "display_name": "diplo_env",
   "language": "python",
   "name": "diplo_env"
  },
  "language_info": {
   "codemirror_mode": {
    "name": "ipython",
    "version": 3
   },
   "file_extension": ".py",
   "mimetype": "text/x-python",
   "name": "python",
   "nbconvert_exporter": "python",
   "pygments_lexer": "ipython3",
   "version": "3.6.13"
  },
  "varInspector": {
   "cols": {
    "lenName": 16,
    "lenType": 16,
    "lenVar": 40
   },
   "kernels_config": {
    "python": {
     "delete_cmd_postfix": "",
     "delete_cmd_prefix": "del ",
     "library": "var_list.py",
     "varRefreshCmd": "print(var_dic_list())"
    },
    "r": {
     "delete_cmd_postfix": ") ",
     "delete_cmd_prefix": "rm(",
     "library": "var_list.r",
     "varRefreshCmd": "cat(var_dic_list()) "
    }
   },
   "types_to_exclude": [
    "module",
    "function",
    "builtin_function_or_method",
    "instance",
    "_Feature"
   ],
   "window_display": false
  }
 },
 "nbformat": 4,
 "nbformat_minor": 4
}
