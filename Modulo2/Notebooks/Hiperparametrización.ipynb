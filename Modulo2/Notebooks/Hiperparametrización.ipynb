{
  "cells": [
    {
      "cell_type": "code",
      "execution_count": null,
      "metadata": {
        "ExecuteTime": {
          "end_time": "2022-04-28T03:53:07.013387Z",
          "start_time": "2022-04-28T03:53:05.950192Z"
        },
        "id": "4Ge2yMsXnVbG"
      },
      "outputs": [],
      "source": [
        "import numpy as np\n",
        "import pandas as pd\n",
        "from sklearn.datasets import load_boston\n",
        "pd.set_option(\"max_columns\", 500)"
      ]
    },
    {
      "cell_type": "code",
      "execution_count": null,
      "metadata": {
        "ExecuteTime": {
          "end_time": "2022-04-28T03:53:07.888325Z",
          "start_time": "2022-04-28T03:53:07.782661Z"
        },
        "id": "o0NzW530nVbQ"
      },
      "outputs": [],
      "source": [
        "from sklearn.linear_model import Ridge, Lasso, ElasticNet, BayesianRidge, Lars"
      ]
    },
    {
      "cell_type": "code",
      "execution_count": null,
      "metadata": {
        "ExecuteTime": {
          "end_time": "2022-04-28T03:53:08.374202Z",
          "start_time": "2022-04-28T03:53:08.352516Z"
        },
        "id": "FJlAb5_jnVbR"
      },
      "outputs": [],
      "source": [
        "boston = load_boston() "
      ]
    },
    {
      "cell_type": "code",
      "execution_count": null,
      "metadata": {
        "ExecuteTime": {
          "end_time": "2022-04-28T03:53:08.862944Z",
          "start_time": "2022-04-28T03:53:08.835994Z"
        },
        "scrolled": true,
        "id": "XR7-UE7hnVbR",
        "outputId": "f1312121-632b-4b01-d7a3-1aa510329b3b"
      },
      "outputs": [
        {
          "data": {
            "text/plain": [
              "{'data': array([[6.3200e-03, 1.8000e+01, 2.3100e+00, ..., 1.5300e+01, 3.9690e+02,\n",
              "         4.9800e+00],\n",
              "        [2.7310e-02, 0.0000e+00, 7.0700e+00, ..., 1.7800e+01, 3.9690e+02,\n",
              "         9.1400e+00],\n",
              "        [2.7290e-02, 0.0000e+00, 7.0700e+00, ..., 1.7800e+01, 3.9283e+02,\n",
              "         4.0300e+00],\n",
              "        ...,\n",
              "        [6.0760e-02, 0.0000e+00, 1.1930e+01, ..., 2.1000e+01, 3.9690e+02,\n",
              "         5.6400e+00],\n",
              "        [1.0959e-01, 0.0000e+00, 1.1930e+01, ..., 2.1000e+01, 3.9345e+02,\n",
              "         6.4800e+00],\n",
              "        [4.7410e-02, 0.0000e+00, 1.1930e+01, ..., 2.1000e+01, 3.9690e+02,\n",
              "         7.8800e+00]]),\n",
              " 'target': array([24. , 21.6, 34.7, 33.4, 36.2, 28.7, 22.9, 27.1, 16.5, 18.9, 15. ,\n",
              "        18.9, 21.7, 20.4, 18.2, 19.9, 23.1, 17.5, 20.2, 18.2, 13.6, 19.6,\n",
              "        15.2, 14.5, 15.6, 13.9, 16.6, 14.8, 18.4, 21. , 12.7, 14.5, 13.2,\n",
              "        13.1, 13.5, 18.9, 20. , 21. , 24.7, 30.8, 34.9, 26.6, 25.3, 24.7,\n",
              "        21.2, 19.3, 20. , 16.6, 14.4, 19.4, 19.7, 20.5, 25. , 23.4, 18.9,\n",
              "        35.4, 24.7, 31.6, 23.3, 19.6, 18.7, 16. , 22.2, 25. , 33. , 23.5,\n",
              "        19.4, 22. , 17.4, 20.9, 24.2, 21.7, 22.8, 23.4, 24.1, 21.4, 20. ,\n",
              "        20.8, 21.2, 20.3, 28. , 23.9, 24.8, 22.9, 23.9, 26.6, 22.5, 22.2,\n",
              "        23.6, 28.7, 22.6, 22. , 22.9, 25. , 20.6, 28.4, 21.4, 38.7, 43.8,\n",
              "        33.2, 27.5, 26.5, 18.6, 19.3, 20.1, 19.5, 19.5, 20.4, 19.8, 19.4,\n",
              "        21.7, 22.8, 18.8, 18.7, 18.5, 18.3, 21.2, 19.2, 20.4, 19.3, 22. ,\n",
              "        20.3, 20.5, 17.3, 18.8, 21.4, 15.7, 16.2, 18. , 14.3, 19.2, 19.6,\n",
              "        23. , 18.4, 15.6, 18.1, 17.4, 17.1, 13.3, 17.8, 14. , 14.4, 13.4,\n",
              "        15.6, 11.8, 13.8, 15.6, 14.6, 17.8, 15.4, 21.5, 19.6, 15.3, 19.4,\n",
              "        17. , 15.6, 13.1, 41.3, 24.3, 23.3, 27. , 50. , 50. , 50. , 22.7,\n",
              "        25. , 50. , 23.8, 23.8, 22.3, 17.4, 19.1, 23.1, 23.6, 22.6, 29.4,\n",
              "        23.2, 24.6, 29.9, 37.2, 39.8, 36.2, 37.9, 32.5, 26.4, 29.6, 50. ,\n",
              "        32. , 29.8, 34.9, 37. , 30.5, 36.4, 31.1, 29.1, 50. , 33.3, 30.3,\n",
              "        34.6, 34.9, 32.9, 24.1, 42.3, 48.5, 50. , 22.6, 24.4, 22.5, 24.4,\n",
              "        20. , 21.7, 19.3, 22.4, 28.1, 23.7, 25. , 23.3, 28.7, 21.5, 23. ,\n",
              "        26.7, 21.7, 27.5, 30.1, 44.8, 50. , 37.6, 31.6, 46.7, 31.5, 24.3,\n",
              "        31.7, 41.7, 48.3, 29. , 24. , 25.1, 31.5, 23.7, 23.3, 22. , 20.1,\n",
              "        22.2, 23.7, 17.6, 18.5, 24.3, 20.5, 24.5, 26.2, 24.4, 24.8, 29.6,\n",
              "        42.8, 21.9, 20.9, 44. , 50. , 36. , 30.1, 33.8, 43.1, 48.8, 31. ,\n",
              "        36.5, 22.8, 30.7, 50. , 43.5, 20.7, 21.1, 25.2, 24.4, 35.2, 32.4,\n",
              "        32. , 33.2, 33.1, 29.1, 35.1, 45.4, 35.4, 46. , 50. , 32.2, 22. ,\n",
              "        20.1, 23.2, 22.3, 24.8, 28.5, 37.3, 27.9, 23.9, 21.7, 28.6, 27.1,\n",
              "        20.3, 22.5, 29. , 24.8, 22. , 26.4, 33.1, 36.1, 28.4, 33.4, 28.2,\n",
              "        22.8, 20.3, 16.1, 22.1, 19.4, 21.6, 23.8, 16.2, 17.8, 19.8, 23.1,\n",
              "        21. , 23.8, 23.1, 20.4, 18.5, 25. , 24.6, 23. , 22.2, 19.3, 22.6,\n",
              "        19.8, 17.1, 19.4, 22.2, 20.7, 21.1, 19.5, 18.5, 20.6, 19. , 18.7,\n",
              "        32.7, 16.5, 23.9, 31.2, 17.5, 17.2, 23.1, 24.5, 26.6, 22.9, 24.1,\n",
              "        18.6, 30.1, 18.2, 20.6, 17.8, 21.7, 22.7, 22.6, 25. , 19.9, 20.8,\n",
              "        16.8, 21.9, 27.5, 21.9, 23.1, 50. , 50. , 50. , 50. , 50. , 13.8,\n",
              "        13.8, 15. , 13.9, 13.3, 13.1, 10.2, 10.4, 10.9, 11.3, 12.3,  8.8,\n",
              "         7.2, 10.5,  7.4, 10.2, 11.5, 15.1, 23.2,  9.7, 13.8, 12.7, 13.1,\n",
              "        12.5,  8.5,  5. ,  6.3,  5.6,  7.2, 12.1,  8.3,  8.5,  5. , 11.9,\n",
              "        27.9, 17.2, 27.5, 15. , 17.2, 17.9, 16.3,  7. ,  7.2,  7.5, 10.4,\n",
              "         8.8,  8.4, 16.7, 14.2, 20.8, 13.4, 11.7,  8.3, 10.2, 10.9, 11. ,\n",
              "         9.5, 14.5, 14.1, 16.1, 14.3, 11.7, 13.4,  9.6,  8.7,  8.4, 12.8,\n",
              "        10.5, 17.1, 18.4, 15.4, 10.8, 11.8, 14.9, 12.6, 14.1, 13. , 13.4,\n",
              "        15.2, 16.1, 17.8, 14.9, 14.1, 12.7, 13.5, 14.9, 20. , 16.4, 17.7,\n",
              "        19.5, 20.2, 21.4, 19.9, 19. , 19.1, 19.1, 20.1, 19.9, 19.6, 23.2,\n",
              "        29.8, 13.8, 13.3, 16.7, 12. , 14.6, 21.4, 23. , 23.7, 25. , 21.8,\n",
              "        20.6, 21.2, 19.1, 20.6, 15.2,  7. ,  8.1, 13.6, 20.1, 21.8, 24.5,\n",
              "        23.1, 19.7, 18.3, 21.2, 17.5, 16.8, 22.4, 20.6, 23.9, 22. , 11.9]),\n",
              " 'feature_names': array(['CRIM', 'ZN', 'INDUS', 'CHAS', 'NOX', 'RM', 'AGE', 'DIS', 'RAD',\n",
              "        'TAX', 'PTRATIO', 'B', 'LSTAT'], dtype='<U7'),\n",
              " 'DESCR': \".. _boston_dataset:\\n\\nBoston house prices dataset\\n---------------------------\\n\\n**Data Set Characteristics:**  \\n\\n    :Number of Instances: 506 \\n\\n    :Number of Attributes: 13 numeric/categorical predictive. Median Value (attribute 14) is usually the target.\\n\\n    :Attribute Information (in order):\\n        - CRIM     per capita crime rate by town\\n        - ZN       proportion of residential land zoned for lots over 25,000 sq.ft.\\n        - INDUS    proportion of non-retail business acres per town\\n        - CHAS     Charles River dummy variable (= 1 if tract bounds river; 0 otherwise)\\n        - NOX      nitric oxides concentration (parts per 10 million)\\n        - RM       average number of rooms per dwelling\\n        - AGE      proportion of owner-occupied units built prior to 1940\\n        - DIS      weighted distances to five Boston employment centres\\n        - RAD      index of accessibility to radial highways\\n        - TAX      full-value property-tax rate per $10,000\\n        - PTRATIO  pupil-teacher ratio by town\\n        - B        1000(Bk - 0.63)^2 where Bk is the proportion of blacks by town\\n        - LSTAT    % lower status of the population\\n        - MEDV     Median value of owner-occupied homes in $1000's\\n\\n    :Missing Attribute Values: None\\n\\n    :Creator: Harrison, D. and Rubinfeld, D.L.\\n\\nThis is a copy of UCI ML housing dataset.\\nhttps://archive.ics.uci.edu/ml/machine-learning-databases/housing/\\n\\n\\nThis dataset was taken from the StatLib library which is maintained at Carnegie Mellon University.\\n\\nThe Boston house-price data of Harrison, D. and Rubinfeld, D.L. 'Hedonic\\nprices and the demand for clean air', J. Environ. Economics & Management,\\nvol.5, 81-102, 1978.   Used in Belsley, Kuh & Welsch, 'Regression diagnostics\\n...', Wiley, 1980.   N.B. Various transformations are used in the table on\\npages 244-261 of the latter.\\n\\nThe Boston house-price data has been used in many machine learning papers that address regression\\nproblems.   \\n     \\n.. topic:: References\\n\\n   - Belsley, Kuh & Welsch, 'Regression diagnostics: Identifying Influential Data and Sources of Collinearity', Wiley, 1980. 244-261.\\n   - Quinlan,R. (1993). Combining Instance-Based and Model-Based Learning. In Proceedings on the Tenth International Conference of Machine Learning, 236-243, University of Massachusetts, Amherst. Morgan Kaufmann.\\n\",\n",
              " 'filename': '/home/jorge/Documents/Diplomado/ambientes/diplo_env/lib/python3.6/site-packages/sklearn/datasets/data/boston_house_prices.csv'}"
            ]
          },
          "execution_count": 4,
          "metadata": {},
          "output_type": "execute_result"
        }
      ],
      "source": [
        "boston"
      ]
    },
    {
      "cell_type": "code",
      "execution_count": null,
      "metadata": {
        "ExecuteTime": {
          "end_time": "2022-04-28T03:53:09.283976Z",
          "start_time": "2022-04-28T03:53:09.277223Z"
        },
        "id": "bcS7LKwGnVbT",
        "outputId": "24034621-1a6e-42a2-c7b8-1fa476c23a2e"
      },
      "outputs": [
        {
          "data": {
            "text/plain": [
              "dict_keys(['data', 'target', 'feature_names', 'DESCR', 'filename'])"
            ]
          },
          "execution_count": 5,
          "metadata": {},
          "output_type": "execute_result"
        }
      ],
      "source": [
        "boston.keys()"
      ]
    },
    {
      "cell_type": "code",
      "execution_count": null,
      "metadata": {
        "ExecuteTime": {
          "end_time": "2022-04-28T03:53:09.787211Z",
          "start_time": "2022-04-28T03:53:09.783171Z"
        },
        "id": "EE63S-UnnVbU",
        "outputId": "aee45c03-cdc1-4f70-a6f6-4f0f98cbec66"
      },
      "outputs": [
        {
          "name": "stdout",
          "output_type": "stream",
          "text": [
            ".. _boston_dataset:\n",
            "\n",
            "Boston house prices dataset\n",
            "---------------------------\n",
            "\n",
            "**Data Set Characteristics:**  \n",
            "\n",
            "    :Number of Instances: 506 \n",
            "\n",
            "    :Number of Attributes: 13 numeric/categorical predictive. Median Value (attribute 14) is usually the target.\n",
            "\n",
            "    :Attribute Information (in order):\n",
            "        - CRIM     per capita crime rate by town\n",
            "        - ZN       proportion of residential land zoned for lots over 25,000 sq.ft.\n",
            "        - INDUS    proportion of non-retail business acres per town\n",
            "        - CHAS     Charles River dummy variable (= 1 if tract bounds river; 0 otherwise)\n",
            "        - NOX      nitric oxides concentration (parts per 10 million)\n",
            "        - RM       average number of rooms per dwelling\n",
            "        - AGE      proportion of owner-occupied units built prior to 1940\n",
            "        - DIS      weighted distances to five Boston employment centres\n",
            "        - RAD      index of accessibility to radial highways\n",
            "        - TAX      full-value property-tax rate per $10,000\n",
            "        - PTRATIO  pupil-teacher ratio by town\n",
            "        - B        1000(Bk - 0.63)^2 where Bk is the proportion of blacks by town\n",
            "        - LSTAT    % lower status of the population\n",
            "        - MEDV     Median value of owner-occupied homes in $1000's\n",
            "\n",
            "    :Missing Attribute Values: None\n",
            "\n",
            "    :Creator: Harrison, D. and Rubinfeld, D.L.\n",
            "\n",
            "This is a copy of UCI ML housing dataset.\n",
            "https://archive.ics.uci.edu/ml/machine-learning-databases/housing/\n",
            "\n",
            "\n",
            "This dataset was taken from the StatLib library which is maintained at Carnegie Mellon University.\n",
            "\n",
            "The Boston house-price data of Harrison, D. and Rubinfeld, D.L. 'Hedonic\n",
            "prices and the demand for clean air', J. Environ. Economics & Management,\n",
            "vol.5, 81-102, 1978.   Used in Belsley, Kuh & Welsch, 'Regression diagnostics\n",
            "...', Wiley, 1980.   N.B. Various transformations are used in the table on\n",
            "pages 244-261 of the latter.\n",
            "\n",
            "The Boston house-price data has been used in many machine learning papers that address regression\n",
            "problems.   \n",
            "     \n",
            ".. topic:: References\n",
            "\n",
            "   - Belsley, Kuh & Welsch, 'Regression diagnostics: Identifying Influential Data and Sources of Collinearity', Wiley, 1980. 244-261.\n",
            "   - Quinlan,R. (1993). Combining Instance-Based and Model-Based Learning. In Proceedings on the Tenth International Conference of Machine Learning, 236-243, University of Massachusetts, Amherst. Morgan Kaufmann.\n",
            "\n"
          ]
        }
      ],
      "source": [
        "print(boston['DESCR'])"
      ]
    },
    {
      "cell_type": "code",
      "execution_count": null,
      "metadata": {
        "ExecuteTime": {
          "end_time": "2022-04-28T03:53:10.492002Z",
          "start_time": "2022-04-28T03:53:10.483402Z"
        },
        "id": "yeE3gQRznVbU"
      },
      "outputs": [],
      "source": [
        "df = pd.DataFrame(data = boston[\"data\"], columns=boston[\"feature_names\"])"
      ]
    },
    {
      "cell_type": "code",
      "execution_count": null,
      "metadata": {
        "ExecuteTime": {
          "end_time": "2022-04-28T03:53:11.031828Z",
          "start_time": "2022-04-28T03:53:11.021113Z"
        },
        "id": "FN-4r3rynVbV"
      },
      "outputs": [],
      "source": [
        "df[\"target\"] = boston[\"target\"]\n",
        "tgt = \"target\"\n"
      ]
    },
    {
      "cell_type": "code",
      "execution_count": null,
      "metadata": {
        "ExecuteTime": {
          "end_time": "2022-04-28T03:53:11.482043Z",
          "start_time": "2022-04-28T03:53:11.451925Z"
        },
        "id": "RYq8nCsrnVbW",
        "outputId": "13d57b1e-47a9-414f-9631-da0432e451e0"
      },
      "outputs": [
        {
          "data": {
            "text/html": [
              "<div>\n",
              "<style scoped>\n",
              "    .dataframe tbody tr th:only-of-type {\n",
              "        vertical-align: middle;\n",
              "    }\n",
              "\n",
              "    .dataframe tbody tr th {\n",
              "        vertical-align: top;\n",
              "    }\n",
              "\n",
              "    .dataframe thead th {\n",
              "        text-align: right;\n",
              "    }\n",
              "</style>\n",
              "<table border=\"1\" class=\"dataframe\">\n",
              "  <thead>\n",
              "    <tr style=\"text-align: right;\">\n",
              "      <th></th>\n",
              "      <th>CRIM</th>\n",
              "      <th>ZN</th>\n",
              "      <th>INDUS</th>\n",
              "      <th>CHAS</th>\n",
              "      <th>NOX</th>\n",
              "      <th>RM</th>\n",
              "      <th>AGE</th>\n",
              "      <th>DIS</th>\n",
              "      <th>RAD</th>\n",
              "      <th>TAX</th>\n",
              "      <th>PTRATIO</th>\n",
              "      <th>B</th>\n",
              "      <th>LSTAT</th>\n",
              "      <th>target</th>\n",
              "    </tr>\n",
              "  </thead>\n",
              "  <tbody>\n",
              "    <tr>\n",
              "      <th>0</th>\n",
              "      <td>0.00632</td>\n",
              "      <td>18.0</td>\n",
              "      <td>2.31</td>\n",
              "      <td>0.0</td>\n",
              "      <td>0.538</td>\n",
              "      <td>6.575</td>\n",
              "      <td>65.2</td>\n",
              "      <td>4.0900</td>\n",
              "      <td>1.0</td>\n",
              "      <td>296.0</td>\n",
              "      <td>15.3</td>\n",
              "      <td>396.90</td>\n",
              "      <td>4.98</td>\n",
              "      <td>24.0</td>\n",
              "    </tr>\n",
              "    <tr>\n",
              "      <th>1</th>\n",
              "      <td>0.02731</td>\n",
              "      <td>0.0</td>\n",
              "      <td>7.07</td>\n",
              "      <td>0.0</td>\n",
              "      <td>0.469</td>\n",
              "      <td>6.421</td>\n",
              "      <td>78.9</td>\n",
              "      <td>4.9671</td>\n",
              "      <td>2.0</td>\n",
              "      <td>242.0</td>\n",
              "      <td>17.8</td>\n",
              "      <td>396.90</td>\n",
              "      <td>9.14</td>\n",
              "      <td>21.6</td>\n",
              "    </tr>\n",
              "    <tr>\n",
              "      <th>2</th>\n",
              "      <td>0.02729</td>\n",
              "      <td>0.0</td>\n",
              "      <td>7.07</td>\n",
              "      <td>0.0</td>\n",
              "      <td>0.469</td>\n",
              "      <td>7.185</td>\n",
              "      <td>61.1</td>\n",
              "      <td>4.9671</td>\n",
              "      <td>2.0</td>\n",
              "      <td>242.0</td>\n",
              "      <td>17.8</td>\n",
              "      <td>392.83</td>\n",
              "      <td>4.03</td>\n",
              "      <td>34.7</td>\n",
              "    </tr>\n",
              "    <tr>\n",
              "      <th>3</th>\n",
              "      <td>0.03237</td>\n",
              "      <td>0.0</td>\n",
              "      <td>2.18</td>\n",
              "      <td>0.0</td>\n",
              "      <td>0.458</td>\n",
              "      <td>6.998</td>\n",
              "      <td>45.8</td>\n",
              "      <td>6.0622</td>\n",
              "      <td>3.0</td>\n",
              "      <td>222.0</td>\n",
              "      <td>18.7</td>\n",
              "      <td>394.63</td>\n",
              "      <td>2.94</td>\n",
              "      <td>33.4</td>\n",
              "    </tr>\n",
              "    <tr>\n",
              "      <th>4</th>\n",
              "      <td>0.06905</td>\n",
              "      <td>0.0</td>\n",
              "      <td>2.18</td>\n",
              "      <td>0.0</td>\n",
              "      <td>0.458</td>\n",
              "      <td>7.147</td>\n",
              "      <td>54.2</td>\n",
              "      <td>6.0622</td>\n",
              "      <td>3.0</td>\n",
              "      <td>222.0</td>\n",
              "      <td>18.7</td>\n",
              "      <td>396.90</td>\n",
              "      <td>5.33</td>\n",
              "      <td>36.2</td>\n",
              "    </tr>\n",
              "  </tbody>\n",
              "</table>\n",
              "</div>"
            ],
            "text/plain": [
              "      CRIM    ZN  INDUS  CHAS    NOX     RM   AGE     DIS  RAD    TAX  \\\n",
              "0  0.00632  18.0   2.31   0.0  0.538  6.575  65.2  4.0900  1.0  296.0   \n",
              "1  0.02731   0.0   7.07   0.0  0.469  6.421  78.9  4.9671  2.0  242.0   \n",
              "2  0.02729   0.0   7.07   0.0  0.469  7.185  61.1  4.9671  2.0  242.0   \n",
              "3  0.03237   0.0   2.18   0.0  0.458  6.998  45.8  6.0622  3.0  222.0   \n",
              "4  0.06905   0.0   2.18   0.0  0.458  7.147  54.2  6.0622  3.0  222.0   \n",
              "\n",
              "   PTRATIO       B  LSTAT  target  \n",
              "0     15.3  396.90   4.98    24.0  \n",
              "1     17.8  396.90   9.14    21.6  \n",
              "2     17.8  392.83   4.03    34.7  \n",
              "3     18.7  394.63   2.94    33.4  \n",
              "4     18.7  396.90   5.33    36.2  "
            ]
          },
          "execution_count": 9,
          "metadata": {},
          "output_type": "execute_result"
        }
      ],
      "source": [
        "df.head()"
      ]
    },
    {
      "cell_type": "code",
      "execution_count": null,
      "metadata": {
        "ExecuteTime": {
          "end_time": "2022-04-28T03:53:11.853129Z",
          "start_time": "2022-04-28T03:53:11.847827Z"
        },
        "id": "-_J0295ZnVbX"
      },
      "outputs": [],
      "source": [
        "ls_pred = [x for x in df.columns if x not in [tgt]]"
      ]
    },
    {
      "cell_type": "code",
      "execution_count": null,
      "metadata": {
        "ExecuteTime": {
          "end_time": "2022-04-28T03:53:12.380039Z",
          "start_time": "2022-04-28T03:53:12.365575Z"
        },
        "id": "Zxo9afIZnVbY"
      },
      "outputs": [],
      "source": [
        "X = df[ls_pred]\n",
        "y = df[tgt]"
      ]
    },
    {
      "cell_type": "code",
      "execution_count": null,
      "metadata": {
        "ExecuteTime": {
          "end_time": "2022-04-28T03:53:12.804126Z",
          "start_time": "2022-04-28T03:53:12.799947Z"
        },
        "id": "6japdJM6nVbY"
      },
      "outputs": [],
      "source": [
        "from sklearn.model_selection import train_test_split"
      ]
    },
    {
      "cell_type": "code",
      "execution_count": null,
      "metadata": {
        "ExecuteTime": {
          "end_time": "2022-04-28T03:53:13.229313Z",
          "start_time": "2022-04-28T03:53:13.220610Z"
        },
        "id": "5Db2O-yjnVbZ"
      },
      "outputs": [],
      "source": [
        "X_train, X_test, y_train, y_test = train_test_split(X, y, test_size=0.3)"
      ]
    },
    {
      "cell_type": "markdown",
      "metadata": {
        "id": "_ke-fx4MnVba"
      },
      "source": [
        "# Modelado"
      ]
    },
    {
      "cell_type": "markdown",
      "metadata": {
        "id": "D_IFG5gynVbc"
      },
      "source": [
        "## LASSO"
      ]
    },
    {
      "cell_type": "code",
      "execution_count": null,
      "metadata": {
        "ExecuteTime": {
          "end_time": "2022-04-28T03:53:41.741954Z",
          "start_time": "2022-04-28T03:53:41.736028Z"
        },
        "id": "7l0LY_NHnVbe"
      },
      "outputs": [],
      "source": [
        "from sklearn.model_selection import cross_val_score"
      ]
    },
    {
      "cell_type": "code",
      "execution_count": null,
      "metadata": {
        "ExecuteTime": {
          "end_time": "2022-04-28T03:53:42.225455Z",
          "start_time": "2022-04-28T03:53:42.219298Z"
        },
        "id": "u2t0VMqMnVbf"
      },
      "outputs": [],
      "source": [
        "model_lasso = Lasso()"
      ]
    },
    {
      "cell_type": "code",
      "execution_count": null,
      "metadata": {
        "ExecuteTime": {
          "end_time": "2022-04-28T03:53:42.799669Z",
          "start_time": "2022-04-28T03:53:42.789783Z"
        },
        "id": "CKl0DV5tnVbf",
        "outputId": "a236a15f-935b-4e26-b580-d556bc326fc9"
      },
      "outputs": [
        {
          "data": {
            "text/plain": [
              "{'alpha': 1.0,\n",
              " 'copy_X': True,\n",
              " 'fit_intercept': True,\n",
              " 'max_iter': 1000,\n",
              " 'normalize': False,\n",
              " 'positive': False,\n",
              " 'precompute': False,\n",
              " 'random_state': None,\n",
              " 'selection': 'cyclic',\n",
              " 'tol': 0.0001,\n",
              " 'warm_start': False}"
            ]
          },
          "execution_count": 22,
          "metadata": {},
          "output_type": "execute_result"
        }
      ],
      "source": [
        "model_lasso.get_params() #Vemos los parametros de nuestro modelo, alpha es el unico inherente"
      ]
    },
    {
      "cell_type": "code",
      "execution_count": null,
      "metadata": {
        "ExecuteTime": {
          "end_time": "2022-04-28T03:53:43.326229Z",
          "start_time": "2022-04-28T03:53:43.309489Z"
        },
        "id": "zYpCly4NnVbg",
        "outputId": "d9445052-801c-4eea-9924-267d9245a311"
      },
      "outputs": [
        {
          "data": {
            "text/plain": [
              "Lasso()"
            ]
          },
          "execution_count": 23,
          "metadata": {},
          "output_type": "execute_result"
        }
      ],
      "source": [
        "model_lasso.fit(X_train, y_train) #Ajustamos las betas"
      ]
    },
    {
      "cell_type": "code",
      "execution_count": null,
      "metadata": {
        "ExecuteTime": {
          "end_time": "2022-04-28T03:53:45.076916Z",
          "start_time": "2022-04-28T03:53:44.350911Z"
        },
        "id": "HoUv5dbYnVbg"
      },
      "outputs": [],
      "source": [
        "ls_medias = cross_val_score(estimator=model_lasso, X=X_train, y = y_train, cv = 4, n_jobs=-1, scoring=\"r2\")\n",
        "# Del conjunto de entrenamiento van cambiando las validaciones,\n",
        "# 5 es el fold predeterminado, aqui ponemos 4,\n",
        "# n_jobs use todos los bodes de la metrica\n",
        "# Scoring le pasamos una metricaa"
      ]
    },
    {
      "cell_type": "code",
      "execution_count": null,
      "metadata": {
        "ExecuteTime": {
          "end_time": "2022-04-28T03:53:47.032338Z",
          "start_time": "2022-04-28T03:53:47.019085Z"
        },
        "id": "Ix50n6z1nVbg",
        "outputId": "1627cd22-e0dd-4115-aa1e-cfc675446f29"
      },
      "outputs": [
        {
          "data": {
            "text/plain": [
              "array([0.75638904, 0.63649888, 0.65638793, 0.54174002])"
            ]
          },
          "execution_count": 25,
          "metadata": {},
          "output_type": "execute_result"
        }
      ],
      "source": [
        "ls_medias"
      ]
    },
    {
      "cell_type": "code",
      "execution_count": null,
      "metadata": {
        "ExecuteTime": {
          "end_time": "2022-04-28T03:53:48.929128Z",
          "start_time": "2022-04-28T03:53:48.918147Z"
        },
        "id": "A09fZM0KnVbh",
        "outputId": "b7da3bc0-9b71-4c3c-c66d-1a0db991da97"
      },
      "outputs": [
        {
          "data": {
            "text/plain": [
              "(0.6477539679636908, 0.076226237200234)"
            ]
          },
          "execution_count": 26,
          "metadata": {},
          "output_type": "execute_result"
        }
      ],
      "source": [
        "# Checamos la media y la desviacion estandar de los modelos\n",
        "np.mean(ls_medias), np.std(ls_medias) #Las metricas no son muy buenas"
      ]
    },
    {
      "cell_type": "code",
      "execution_count": null,
      "metadata": {
        "ExecuteTime": {
          "end_time": "2022-04-28T03:53:50.319302Z",
          "start_time": "2022-04-28T03:53:50.314252Z"
        },
        "id": "-9ulctAMnVbj"
      },
      "outputs": [],
      "source": [
        "\"\"\"\n",
        "En lo anterior no entra nada de hiperparametrizacion, por eso se hace lo siguiente,\n",
        "Alpha puede tomar entre 0 e infinito, tol casi no afecta.\n",
        "\"\"\"\n",
        "param_grid = {\n",
        "    \"alpha\": [x for x in range(1, 100)] + [y/10 for y in range(10)],\n",
        "    \"tol\": [0.00001, 0.0000001, 0.01], #Es para el metodo numerico de la minimización\n",
        "}"
      ]
    },
    {
      "cell_type": "code",
      "execution_count": null,
      "metadata": {
        "ExecuteTime": {
          "end_time": "2022-04-28T03:54:32.669682Z",
          "start_time": "2022-04-28T03:54:32.662447Z"
        },
        "id": "YiI5vYYdnVbm",
        "outputId": "c32813e9-0389-4d87-c65c-6893321f796c"
      },
      "outputs": [
        {
          "data": {
            "text/plain": [
              "327"
            ]
          },
          "execution_count": 30,
          "metadata": {},
          "output_type": "execute_result"
        }
      ],
      "source": [
        "np.prod(list(map(len, param_grid.values())))"
      ]
    },
    {
      "cell_type": "code",
      "execution_count": null,
      "metadata": {
        "ExecuteTime": {
          "end_time": "2022-04-28T03:54:33.429366Z",
          "start_time": "2022-04-28T03:54:33.422673Z"
        },
        "id": "OLiwM9ydnVbp"
      },
      "outputs": [],
      "source": [
        "from sklearn.model_selection import GridSearchCV, RandomizedSearchCV"
      ]
    },
    {
      "cell_type": "code",
      "execution_count": null,
      "metadata": {
        "ExecuteTime": {
          "end_time": "2022-04-28T03:54:42.906226Z",
          "start_time": "2022-04-28T03:54:40.790254Z"
        },
        "id": "wWRxSYeJnVbp",
        "outputId": "87098485-d20e-4b79-e0db-20fff51474bd"
      },
      "outputs": [
        {
          "name": "stdout",
          "output_type": "stream",
          "text": [
            "Fitting 4 folds for each of 327 candidates, totalling 1308 fits\n"
          ]
        },
        {
          "name": "stderr",
          "output_type": "stream",
          "text": [
            "[Parallel(n_jobs=-1)]: Using backend LokyBackend with 8 concurrent workers.\n",
            "[Parallel(n_jobs=-1)]: Done   2 tasks      | elapsed:    0.0s\n",
            "[Parallel(n_jobs=-1)]: Done 176 tasks      | elapsed:    0.5s\n"
          ]
        },
        {
          "name": "stdout",
          "output_type": "stream",
          "text": [
            "Best score: 0.6905579954060902\n"
          ]
        },
        {
          "name": "stderr",
          "output_type": "stream",
          "text": [
            "[Parallel(n_jobs=-1)]: Done 1308 out of 1308 | elapsed:    2.1s finished\n",
            "/home/jorge/Documents/Diplomado/ambientes/diplo_env/lib/python3.6/site-packages/sklearn/model_selection/_search.py:765: UserWarning: With alpha=0, this algorithm does not converge well. You are advised to use the LinearRegression estimator\n",
            "  self.best_estimator_.fit(X, y, **fit_params)\n",
            "/home/jorge/Documents/Diplomado/ambientes/diplo_env/lib/python3.6/site-packages/sklearn/linear_model/_coordinate_descent.py:531: UserWarning: Coordinate descent with no regularization may lead to unexpected results and is discouraged.\n",
            "  positive)\n",
            "/home/jorge/Documents/Diplomado/ambientes/diplo_env/lib/python3.6/site-packages/sklearn/linear_model/_coordinate_descent.py:531: ConvergenceWarning: Objective did not converge. You might want to increase the number of iterations. Duality gap: 4430.561133592299, tolerance: 0.323467842937853\n",
            "  positive)\n"
          ]
        }
      ],
      "source": [
        "\"\"\"Instanciamos el grind search, job -1 sirve para que funciones mejor,\n",
        "el paramgrid se pasa como diccionario\"\"\"\n",
        "clf = GridSearchCV(model_lasso, param_grid, cv=4, error_score=-1000, n_jobs=-1, scoring=\"r2\", verbose=5)\n",
        "clf.fit(X_train, y_train) #Conjunto de entrenamiento\n",
        "print(\"Best score: \" + str(clf.best_score_))"
      ]
    },
    {
      "cell_type": "code",
      "execution_count": null,
      "metadata": {
        "ExecuteTime": {
          "end_time": "2022-04-28T03:54:46.222432Z",
          "start_time": "2022-04-28T03:54:46.217684Z"
        },
        "id": "d_BsEdjdnVbp"
      },
      "outputs": [],
      "source": [
        "summary = pd.DataFrame(clf.cv_results_)"
      ]
    },
    {
      "cell_type": "code",
      "execution_count": null,
      "metadata": {
        "ExecuteTime": {
          "end_time": "2022-04-28T03:54:46.628099Z",
          "start_time": "2022-04-28T03:54:46.584715Z"
        },
        "scrolled": true,
        "id": "9Wcw0S4pnVbq",
        "outputId": "951ba792-2c0a-4a00-b303-e84ddbe7fddf"
      },
      "outputs": [
        {
          "data": {
            "text/html": [
              "<div>\n",
              "<style scoped>\n",
              "    .dataframe tbody tr th:only-of-type {\n",
              "        vertical-align: middle;\n",
              "    }\n",
              "\n",
              "    .dataframe tbody tr th {\n",
              "        vertical-align: top;\n",
              "    }\n",
              "\n",
              "    .dataframe thead th {\n",
              "        text-align: right;\n",
              "    }\n",
              "</style>\n",
              "<table border=\"1\" class=\"dataframe\">\n",
              "  <thead>\n",
              "    <tr style=\"text-align: right;\">\n",
              "      <th></th>\n",
              "      <th>mean_fit_time</th>\n",
              "      <th>std_fit_time</th>\n",
              "      <th>mean_score_time</th>\n",
              "      <th>std_score_time</th>\n",
              "      <th>param_alpha</th>\n",
              "      <th>param_tol</th>\n",
              "      <th>params</th>\n",
              "      <th>split0_test_score</th>\n",
              "      <th>split1_test_score</th>\n",
              "      <th>split2_test_score</th>\n",
              "      <th>split3_test_score</th>\n",
              "      <th>mean_test_score</th>\n",
              "      <th>std_test_score</th>\n",
              "      <th>rank_test_score</th>\n",
              "    </tr>\n",
              "  </thead>\n",
              "  <tbody>\n",
              "    <tr>\n",
              "      <th>0</th>\n",
              "      <td>0.004917</td>\n",
              "      <td>0.001072</td>\n",
              "      <td>0.005838</td>\n",
              "      <td>0.003087</td>\n",
              "      <td>1</td>\n",
              "      <td>1e-05</td>\n",
              "      <td>{'alpha': 1, 'tol': 1e-05}</td>\n",
              "      <td>0.756395</td>\n",
              "      <td>0.636484</td>\n",
              "      <td>0.656394</td>\n",
              "      <td>0.541754</td>\n",
              "      <td>0.647757</td>\n",
              "      <td>0.076224</td>\n",
              "      <td>32</td>\n",
              "    </tr>\n",
              "    <tr>\n",
              "      <th>1</th>\n",
              "      <td>0.014251</td>\n",
              "      <td>0.008268</td>\n",
              "      <td>0.011109</td>\n",
              "      <td>0.007577</td>\n",
              "      <td>1</td>\n",
              "      <td>1e-07</td>\n",
              "      <td>{'alpha': 1, 'tol': 1e-07}</td>\n",
              "      <td>0.756396</td>\n",
              "      <td>0.636483</td>\n",
              "      <td>0.656395</td>\n",
              "      <td>0.541755</td>\n",
              "      <td>0.647757</td>\n",
              "      <td>0.076224</td>\n",
              "      <td>31</td>\n",
              "    </tr>\n",
              "    <tr>\n",
              "      <th>2</th>\n",
              "      <td>0.016305</td>\n",
              "      <td>0.008432</td>\n",
              "      <td>0.009069</td>\n",
              "      <td>0.001983</td>\n",
              "      <td>1</td>\n",
              "      <td>0.01</td>\n",
              "      <td>{'alpha': 1, 'tol': 0.01}</td>\n",
              "      <td>0.756051</td>\n",
              "      <td>0.637415</td>\n",
              "      <td>0.655679</td>\n",
              "      <td>0.540549</td>\n",
              "      <td>0.647423</td>\n",
              "      <td>0.076470</td>\n",
              "      <td>33</td>\n",
              "    </tr>\n",
              "    <tr>\n",
              "      <th>3</th>\n",
              "      <td>0.005923</td>\n",
              "      <td>0.000760</td>\n",
              "      <td>0.003232</td>\n",
              "      <td>0.000349</td>\n",
              "      <td>2</td>\n",
              "      <td>1e-05</td>\n",
              "      <td>{'alpha': 2, 'tol': 1e-05}</td>\n",
              "      <td>0.719613</td>\n",
              "      <td>0.582177</td>\n",
              "      <td>0.590768</td>\n",
              "      <td>0.521225</td>\n",
              "      <td>0.603446</td>\n",
              "      <td>0.072229</td>\n",
              "      <td>35</td>\n",
              "    </tr>\n",
              "    <tr>\n",
              "      <th>4</th>\n",
              "      <td>0.004759</td>\n",
              "      <td>0.000879</td>\n",
              "      <td>0.003527</td>\n",
              "      <td>0.000676</td>\n",
              "      <td>2</td>\n",
              "      <td>1e-07</td>\n",
              "      <td>{'alpha': 2, 'tol': 1e-07}</td>\n",
              "      <td>0.719616</td>\n",
              "      <td>0.582178</td>\n",
              "      <td>0.590770</td>\n",
              "      <td>0.521228</td>\n",
              "      <td>0.603448</td>\n",
              "      <td>0.072229</td>\n",
              "      <td>34</td>\n",
              "    </tr>\n",
              "    <tr>\n",
              "      <th>...</th>\n",
              "      <td>...</td>\n",
              "      <td>...</td>\n",
              "      <td>...</td>\n",
              "      <td>...</td>\n",
              "      <td>...</td>\n",
              "      <td>...</td>\n",
              "      <td>...</td>\n",
              "      <td>...</td>\n",
              "      <td>...</td>\n",
              "      <td>...</td>\n",
              "      <td>...</td>\n",
              "      <td>...</td>\n",
              "      <td>...</td>\n",
              "      <td>...</td>\n",
              "    </tr>\n",
              "    <tr>\n",
              "      <th>322</th>\n",
              "      <td>0.004819</td>\n",
              "      <td>0.000472</td>\n",
              "      <td>0.003317</td>\n",
              "      <td>0.000179</td>\n",
              "      <td>0.8</td>\n",
              "      <td>1e-07</td>\n",
              "      <td>{'alpha': 0.8, 'tol': 1e-07}</td>\n",
              "      <td>0.771073</td>\n",
              "      <td>0.658422</td>\n",
              "      <td>0.672001</td>\n",
              "      <td>0.537922</td>\n",
              "      <td>0.659854</td>\n",
              "      <td>0.082744</td>\n",
              "      <td>25</td>\n",
              "    </tr>\n",
              "    <tr>\n",
              "      <th>323</th>\n",
              "      <td>0.004280</td>\n",
              "      <td>0.000818</td>\n",
              "      <td>0.003035</td>\n",
              "      <td>0.000281</td>\n",
              "      <td>0.8</td>\n",
              "      <td>0.01</td>\n",
              "      <td>{'alpha': 0.8, 'tol': 0.01}</td>\n",
              "      <td>0.770957</td>\n",
              "      <td>0.659189</td>\n",
              "      <td>0.671561</td>\n",
              "      <td>0.536757</td>\n",
              "      <td>0.659616</td>\n",
              "      <td>0.083117</td>\n",
              "      <td>27</td>\n",
              "    </tr>\n",
              "    <tr>\n",
              "      <th>324</th>\n",
              "      <td>0.004013</td>\n",
              "      <td>0.000503</td>\n",
              "      <td>0.003470</td>\n",
              "      <td>0.001482</td>\n",
              "      <td>0.9</td>\n",
              "      <td>1e-05</td>\n",
              "      <td>{'alpha': 0.9, 'tol': 1e-05}</td>\n",
              "      <td>0.764117</td>\n",
              "      <td>0.647999</td>\n",
              "      <td>0.664502</td>\n",
              "      <td>0.540162</td>\n",
              "      <td>0.654195</td>\n",
              "      <td>0.079421</td>\n",
              "      <td>29</td>\n",
              "    </tr>\n",
              "    <tr>\n",
              "      <th>325</th>\n",
              "      <td>0.005334</td>\n",
              "      <td>0.000625</td>\n",
              "      <td>0.003252</td>\n",
              "      <td>0.000090</td>\n",
              "      <td>0.9</td>\n",
              "      <td>1e-07</td>\n",
              "      <td>{'alpha': 0.9, 'tol': 1e-07}</td>\n",
              "      <td>0.764118</td>\n",
              "      <td>0.647997</td>\n",
              "      <td>0.664503</td>\n",
              "      <td>0.540164</td>\n",
              "      <td>0.654195</td>\n",
              "      <td>0.079421</td>\n",
              "      <td>28</td>\n",
              "    </tr>\n",
              "    <tr>\n",
              "      <th>326</th>\n",
              "      <td>0.003735</td>\n",
              "      <td>0.000772</td>\n",
              "      <td>0.002288</td>\n",
              "      <td>0.000610</td>\n",
              "      <td>0.9</td>\n",
              "      <td>0.01</td>\n",
              "      <td>{'alpha': 0.9, 'tol': 0.01}</td>\n",
              "      <td>0.763908</td>\n",
              "      <td>0.648904</td>\n",
              "      <td>0.663939</td>\n",
              "      <td>0.538979</td>\n",
              "      <td>0.653932</td>\n",
              "      <td>0.079741</td>\n",
              "      <td>30</td>\n",
              "    </tr>\n",
              "  </tbody>\n",
              "</table>\n",
              "<p>327 rows × 14 columns</p>\n",
              "</div>"
            ],
            "text/plain": [
              "     mean_fit_time  std_fit_time  mean_score_time  std_score_time param_alpha  \\\n",
              "0         0.004917      0.001072         0.005838        0.003087           1   \n",
              "1         0.014251      0.008268         0.011109        0.007577           1   \n",
              "2         0.016305      0.008432         0.009069        0.001983           1   \n",
              "3         0.005923      0.000760         0.003232        0.000349           2   \n",
              "4         0.004759      0.000879         0.003527        0.000676           2   \n",
              "..             ...           ...              ...             ...         ...   \n",
              "322       0.004819      0.000472         0.003317        0.000179         0.8   \n",
              "323       0.004280      0.000818         0.003035        0.000281         0.8   \n",
              "324       0.004013      0.000503         0.003470        0.001482         0.9   \n",
              "325       0.005334      0.000625         0.003252        0.000090         0.9   \n",
              "326       0.003735      0.000772         0.002288        0.000610         0.9   \n",
              "\n",
              "    param_tol                        params  split0_test_score  \\\n",
              "0       1e-05    {'alpha': 1, 'tol': 1e-05}           0.756395   \n",
              "1       1e-07    {'alpha': 1, 'tol': 1e-07}           0.756396   \n",
              "2        0.01     {'alpha': 1, 'tol': 0.01}           0.756051   \n",
              "3       1e-05    {'alpha': 2, 'tol': 1e-05}           0.719613   \n",
              "4       1e-07    {'alpha': 2, 'tol': 1e-07}           0.719616   \n",
              "..        ...                           ...                ...   \n",
              "322     1e-07  {'alpha': 0.8, 'tol': 1e-07}           0.771073   \n",
              "323      0.01   {'alpha': 0.8, 'tol': 0.01}           0.770957   \n",
              "324     1e-05  {'alpha': 0.9, 'tol': 1e-05}           0.764117   \n",
              "325     1e-07  {'alpha': 0.9, 'tol': 1e-07}           0.764118   \n",
              "326      0.01   {'alpha': 0.9, 'tol': 0.01}           0.763908   \n",
              "\n",
              "     split1_test_score  split2_test_score  split3_test_score  mean_test_score  \\\n",
              "0             0.636484           0.656394           0.541754         0.647757   \n",
              "1             0.636483           0.656395           0.541755         0.647757   \n",
              "2             0.637415           0.655679           0.540549         0.647423   \n",
              "3             0.582177           0.590768           0.521225         0.603446   \n",
              "4             0.582178           0.590770           0.521228         0.603448   \n",
              "..                 ...                ...                ...              ...   \n",
              "322           0.658422           0.672001           0.537922         0.659854   \n",
              "323           0.659189           0.671561           0.536757         0.659616   \n",
              "324           0.647999           0.664502           0.540162         0.654195   \n",
              "325           0.647997           0.664503           0.540164         0.654195   \n",
              "326           0.648904           0.663939           0.538979         0.653932   \n",
              "\n",
              "     std_test_score  rank_test_score  \n",
              "0          0.076224               32  \n",
              "1          0.076224               31  \n",
              "2          0.076470               33  \n",
              "3          0.072229               35  \n",
              "4          0.072229               34  \n",
              "..              ...              ...  \n",
              "322        0.082744               25  \n",
              "323        0.083117               27  \n",
              "324        0.079421               29  \n",
              "325        0.079421               28  \n",
              "326        0.079741               30  \n",
              "\n",
              "[327 rows x 14 columns]"
            ]
          },
          "execution_count": 34,
          "metadata": {},
          "output_type": "execute_result"
        }
      ],
      "source": [
        "summary #Resumen de lo efectuado"
      ]
    },
    {
      "cell_type": "code",
      "execution_count": null,
      "metadata": {
        "ExecuteTime": {
          "end_time": "2022-04-28T03:54:47.505220Z",
          "start_time": "2022-04-28T03:54:47.475337Z"
        },
        "scrolled": true,
        "id": "1qxe4NLInVbq",
        "outputId": "d56e6041-86fc-401c-a524-6d3519ff9fef"
      },
      "outputs": [
        {
          "data": {
            "text/html": [
              "<div>\n",
              "<style scoped>\n",
              "    .dataframe tbody tr th:only-of-type {\n",
              "        vertical-align: middle;\n",
              "    }\n",
              "\n",
              "    .dataframe tbody tr th {\n",
              "        vertical-align: top;\n",
              "    }\n",
              "\n",
              "    .dataframe thead th {\n",
              "        text-align: right;\n",
              "    }\n",
              "</style>\n",
              "<table border=\"1\" class=\"dataframe\">\n",
              "  <thead>\n",
              "    <tr style=\"text-align: right;\">\n",
              "      <th></th>\n",
              "      <th>mean_fit_time</th>\n",
              "      <th>std_fit_time</th>\n",
              "      <th>mean_score_time</th>\n",
              "      <th>std_score_time</th>\n",
              "      <th>param_alpha</th>\n",
              "      <th>param_tol</th>\n",
              "      <th>params</th>\n",
              "      <th>split0_test_score</th>\n",
              "      <th>split1_test_score</th>\n",
              "      <th>split2_test_score</th>\n",
              "      <th>split3_test_score</th>\n",
              "      <th>mean_test_score</th>\n",
              "      <th>std_test_score</th>\n",
              "      <th>rank_test_score</th>\n",
              "    </tr>\n",
              "  </thead>\n",
              "  <tbody>\n",
              "    <tr>\n",
              "      <th>298</th>\n",
              "      <td>0.010832</td>\n",
              "      <td>0.000720</td>\n",
              "      <td>0.003295</td>\n",
              "      <td>0.001094</td>\n",
              "      <td>0</td>\n",
              "      <td>1e-07</td>\n",
              "      <td>{'alpha': 0.0, 'tol': 1e-07}</td>\n",
              "      <td>0.790372</td>\n",
              "      <td>0.732019</td>\n",
              "      <td>0.723774</td>\n",
              "      <td>0.516068</td>\n",
              "      <td>0.690558</td>\n",
              "      <td>0.103961</td>\n",
              "      <td>1</td>\n",
              "    </tr>\n",
              "    <tr>\n",
              "      <th>299</th>\n",
              "      <td>0.007200</td>\n",
              "      <td>0.000838</td>\n",
              "      <td>0.002590</td>\n",
              "      <td>0.000504</td>\n",
              "      <td>0</td>\n",
              "      <td>0.01</td>\n",
              "      <td>{'alpha': 0.0, 'tol': 0.01}</td>\n",
              "      <td>0.790372</td>\n",
              "      <td>0.732019</td>\n",
              "      <td>0.723774</td>\n",
              "      <td>0.516068</td>\n",
              "      <td>0.690558</td>\n",
              "      <td>0.103961</td>\n",
              "      <td>1</td>\n",
              "    </tr>\n",
              "    <tr>\n",
              "      <th>297</th>\n",
              "      <td>0.012791</td>\n",
              "      <td>0.002846</td>\n",
              "      <td>0.003629</td>\n",
              "      <td>0.000106</td>\n",
              "      <td>0</td>\n",
              "      <td>1e-05</td>\n",
              "      <td>{'alpha': 0.0, 'tol': 1e-05}</td>\n",
              "      <td>0.790372</td>\n",
              "      <td>0.732019</td>\n",
              "      <td>0.723774</td>\n",
              "      <td>0.516068</td>\n",
              "      <td>0.690558</td>\n",
              "      <td>0.103961</td>\n",
              "      <td>1</td>\n",
              "    </tr>\n",
              "    <tr>\n",
              "      <th>301</th>\n",
              "      <td>0.005083</td>\n",
              "      <td>0.000169</td>\n",
              "      <td>0.003873</td>\n",
              "      <td>0.000484</td>\n",
              "      <td>0.1</td>\n",
              "      <td>1e-07</td>\n",
              "      <td>{'alpha': 0.1, 'tol': 1e-07}</td>\n",
              "      <td>0.797130</td>\n",
              "      <td>0.701918</td>\n",
              "      <td>0.705976</td>\n",
              "      <td>0.500226</td>\n",
              "      <td>0.676313</td>\n",
              "      <td>0.108557</td>\n",
              "      <td>4</td>\n",
              "    </tr>\n",
              "    <tr>\n",
              "      <th>300</th>\n",
              "      <td>0.004907</td>\n",
              "      <td>0.000173</td>\n",
              "      <td>0.003735</td>\n",
              "      <td>0.000457</td>\n",
              "      <td>0.1</td>\n",
              "      <td>1e-05</td>\n",
              "      <td>{'alpha': 0.1, 'tol': 1e-05}</td>\n",
              "      <td>0.797131</td>\n",
              "      <td>0.701918</td>\n",
              "      <td>0.705975</td>\n",
              "      <td>0.500225</td>\n",
              "      <td>0.676312</td>\n",
              "      <td>0.108558</td>\n",
              "      <td>5</td>\n",
              "    </tr>\n",
              "    <tr>\n",
              "      <th>...</th>\n",
              "      <td>...</td>\n",
              "      <td>...</td>\n",
              "      <td>...</td>\n",
              "      <td>...</td>\n",
              "      <td>...</td>\n",
              "      <td>...</td>\n",
              "      <td>...</td>\n",
              "      <td>...</td>\n",
              "      <td>...</td>\n",
              "      <td>...</td>\n",
              "      <td>...</td>\n",
              "      <td>...</td>\n",
              "      <td>...</td>\n",
              "      <td>...</td>\n",
              "    </tr>\n",
              "    <tr>\n",
              "      <th>292</th>\n",
              "      <td>0.008019</td>\n",
              "      <td>0.004570</td>\n",
              "      <td>0.003488</td>\n",
              "      <td>0.000208</td>\n",
              "      <td>98</td>\n",
              "      <td>1e-07</td>\n",
              "      <td>{'alpha': 98, 'tol': 1e-07}</td>\n",
              "      <td>0.332856</td>\n",
              "      <td>0.159811</td>\n",
              "      <td>0.239519</td>\n",
              "      <td>0.082399</td>\n",
              "      <td>0.203646</td>\n",
              "      <td>0.093011</td>\n",
              "      <td>323</td>\n",
              "    </tr>\n",
              "    <tr>\n",
              "      <th>291</th>\n",
              "      <td>0.005098</td>\n",
              "      <td>0.000376</td>\n",
              "      <td>0.003293</td>\n",
              "      <td>0.000319</td>\n",
              "      <td>98</td>\n",
              "      <td>1e-05</td>\n",
              "      <td>{'alpha': 98, 'tol': 1e-05}</td>\n",
              "      <td>0.332856</td>\n",
              "      <td>0.159810</td>\n",
              "      <td>0.239519</td>\n",
              "      <td>0.082399</td>\n",
              "      <td>0.203646</td>\n",
              "      <td>0.093012</td>\n",
              "      <td>324</td>\n",
              "    </tr>\n",
              "    <tr>\n",
              "      <th>296</th>\n",
              "      <td>0.005075</td>\n",
              "      <td>0.000528</td>\n",
              "      <td>0.003463</td>\n",
              "      <td>0.000091</td>\n",
              "      <td>99</td>\n",
              "      <td>0.01</td>\n",
              "      <td>{'alpha': 99, 'tol': 0.01}</td>\n",
              "      <td>0.331905</td>\n",
              "      <td>0.159583</td>\n",
              "      <td>0.239468</td>\n",
              "      <td>0.082243</td>\n",
              "      <td>0.203300</td>\n",
              "      <td>0.092754</td>\n",
              "      <td>325</td>\n",
              "    </tr>\n",
              "    <tr>\n",
              "      <th>295</th>\n",
              "      <td>0.004179</td>\n",
              "      <td>0.000708</td>\n",
              "      <td>0.003728</td>\n",
              "      <td>0.000500</td>\n",
              "      <td>99</td>\n",
              "      <td>1e-07</td>\n",
              "      <td>{'alpha': 99, 'tol': 1e-07}</td>\n",
              "      <td>0.331815</td>\n",
              "      <td>0.159656</td>\n",
              "      <td>0.239344</td>\n",
              "      <td>0.082348</td>\n",
              "      <td>0.203291</td>\n",
              "      <td>0.092668</td>\n",
              "      <td>326</td>\n",
              "    </tr>\n",
              "    <tr>\n",
              "      <th>294</th>\n",
              "      <td>0.004642</td>\n",
              "      <td>0.000109</td>\n",
              "      <td>0.004702</td>\n",
              "      <td>0.001452</td>\n",
              "      <td>99</td>\n",
              "      <td>1e-05</td>\n",
              "      <td>{'alpha': 99, 'tol': 1e-05}</td>\n",
              "      <td>0.331815</td>\n",
              "      <td>0.159656</td>\n",
              "      <td>0.239344</td>\n",
              "      <td>0.082348</td>\n",
              "      <td>0.203291</td>\n",
              "      <td>0.092668</td>\n",
              "      <td>327</td>\n",
              "    </tr>\n",
              "  </tbody>\n",
              "</table>\n",
              "<p>327 rows × 14 columns</p>\n",
              "</div>"
            ],
            "text/plain": [
              "     mean_fit_time  std_fit_time  mean_score_time  std_score_time param_alpha  \\\n",
              "298       0.010832      0.000720         0.003295        0.001094           0   \n",
              "299       0.007200      0.000838         0.002590        0.000504           0   \n",
              "297       0.012791      0.002846         0.003629        0.000106           0   \n",
              "301       0.005083      0.000169         0.003873        0.000484         0.1   \n",
              "300       0.004907      0.000173         0.003735        0.000457         0.1   \n",
              "..             ...           ...              ...             ...         ...   \n",
              "292       0.008019      0.004570         0.003488        0.000208          98   \n",
              "291       0.005098      0.000376         0.003293        0.000319          98   \n",
              "296       0.005075      0.000528         0.003463        0.000091          99   \n",
              "295       0.004179      0.000708         0.003728        0.000500          99   \n",
              "294       0.004642      0.000109         0.004702        0.001452          99   \n",
              "\n",
              "    param_tol                        params  split0_test_score  \\\n",
              "298     1e-07  {'alpha': 0.0, 'tol': 1e-07}           0.790372   \n",
              "299      0.01   {'alpha': 0.0, 'tol': 0.01}           0.790372   \n",
              "297     1e-05  {'alpha': 0.0, 'tol': 1e-05}           0.790372   \n",
              "301     1e-07  {'alpha': 0.1, 'tol': 1e-07}           0.797130   \n",
              "300     1e-05  {'alpha': 0.1, 'tol': 1e-05}           0.797131   \n",
              "..        ...                           ...                ...   \n",
              "292     1e-07   {'alpha': 98, 'tol': 1e-07}           0.332856   \n",
              "291     1e-05   {'alpha': 98, 'tol': 1e-05}           0.332856   \n",
              "296      0.01    {'alpha': 99, 'tol': 0.01}           0.331905   \n",
              "295     1e-07   {'alpha': 99, 'tol': 1e-07}           0.331815   \n",
              "294     1e-05   {'alpha': 99, 'tol': 1e-05}           0.331815   \n",
              "\n",
              "     split1_test_score  split2_test_score  split3_test_score  mean_test_score  \\\n",
              "298           0.732019           0.723774           0.516068         0.690558   \n",
              "299           0.732019           0.723774           0.516068         0.690558   \n",
              "297           0.732019           0.723774           0.516068         0.690558   \n",
              "301           0.701918           0.705976           0.500226         0.676313   \n",
              "300           0.701918           0.705975           0.500225         0.676312   \n",
              "..                 ...                ...                ...              ...   \n",
              "292           0.159811           0.239519           0.082399         0.203646   \n",
              "291           0.159810           0.239519           0.082399         0.203646   \n",
              "296           0.159583           0.239468           0.082243         0.203300   \n",
              "295           0.159656           0.239344           0.082348         0.203291   \n",
              "294           0.159656           0.239344           0.082348         0.203291   \n",
              "\n",
              "     std_test_score  rank_test_score  \n",
              "298        0.103961                1  \n",
              "299        0.103961                1  \n",
              "297        0.103961                1  \n",
              "301        0.108557                4  \n",
              "300        0.108558                5  \n",
              "..              ...              ...  \n",
              "292        0.093011              323  \n",
              "291        0.093012              324  \n",
              "296        0.092754              325  \n",
              "295        0.092668              326  \n",
              "294        0.092668              327  \n",
              "\n",
              "[327 rows x 14 columns]"
            ]
          },
          "execution_count": 35,
          "metadata": {},
          "output_type": "execute_result"
        }
      ],
      "source": [
        "summary.sort_values(by = \"rank_test_score\")"
      ]
    },
    {
      "cell_type": "code",
      "execution_count": null,
      "metadata": {
        "ExecuteTime": {
          "end_time": "2022-04-28T03:54:48.003192Z",
          "start_time": "2022-04-28T03:54:47.996289Z"
        },
        "id": "cBvCu7wDnVbr",
        "outputId": "23f1d334-af13-4b5e-a643-2fc7feb96ec6"
      },
      "outputs": [
        {
          "data": {
            "text/plain": [
              "Lasso(alpha=0.0, tol=1e-05)"
            ]
          },
          "execution_count": 36,
          "metadata": {},
          "output_type": "execute_result"
        }
      ],
      "source": [
        "clf.best_estimator_ #Llamamos los hiperparametros mas optimos despues del entrenamiento"
      ]
    },
    {
      "cell_type": "code",
      "execution_count": null,
      "metadata": {
        "ExecuteTime": {
          "end_time": "2022-04-28T03:54:48.831887Z",
          "start_time": "2022-04-28T03:54:48.829357Z"
        },
        "id": "Rgfp-M0cnVbs"
      },
      "outputs": [],
      "source": [
        "dc_scores={} #Creamos un diccionario"
      ]
    },
    {
      "cell_type": "code",
      "execution_count": null,
      "metadata": {
        "ExecuteTime": {
          "end_time": "2022-04-28T03:54:49.251837Z",
          "start_time": "2022-04-28T03:54:49.246657Z"
        },
        "id": "eJ6wHekCnVbs"
      },
      "outputs": [],
      "source": [
        "dc_scores[str(model_lasso).split(\"(\")[0]] = {\"model\": clf.best_estimator_, \"score\": clf.best_score_}"
      ]
    },
    {
      "cell_type": "code",
      "execution_count": null,
      "metadata": {
        "ExecuteTime": {
          "end_time": "2022-04-28T03:54:49.848774Z",
          "start_time": "2022-04-28T03:54:49.838571Z"
        },
        "id": "HcxFkTPJnVbt",
        "outputId": "1e0bfaff-a66b-4f59-a67a-2bf50d588346"
      },
      "outputs": [
        {
          "data": {
            "text/plain": [
              "{'Lasso': {'model': Lasso(alpha=0.0, tol=1e-05), 'score': 0.6905579954060902}}"
            ]
          },
          "execution_count": 39,
          "metadata": {},
          "output_type": "execute_result"
        }
      ],
      "source": [
        "dc_scores #Guardamos el modelo en un diccionario"
      ]
    },
    {
      "cell_type": "markdown",
      "metadata": {
        "id": "zUlVnhBrnVbt"
      },
      "source": [
        "## RIDGE"
      ]
    },
    {
      "cell_type": "code",
      "execution_count": null,
      "metadata": {
        "ExecuteTime": {
          "end_time": "2022-04-28T03:54:50.750424Z",
          "start_time": "2022-04-28T03:54:50.747833Z"
        },
        "id": "KFDVciunnVbu"
      },
      "outputs": [],
      "source": [
        "model_ridge = Ridge() #Ejecutamos el modelo siguiendo el ejemplo anterior"
      ]
    },
    {
      "cell_type": "code",
      "execution_count": null,
      "metadata": {
        "ExecuteTime": {
          "end_time": "2022-04-28T03:54:51.240943Z",
          "start_time": "2022-04-28T03:54:51.195979Z"
        },
        "id": "hR6JvrtJnVbv",
        "outputId": "0f566639-ca24-4804-e67d-c3a626af75c7"
      },
      "outputs": [
        {
          "data": {
            "text/plain": [
              "(0.6991615613008321, 0.1413308454486315)"
            ]
          },
          "execution_count": 41,
          "metadata": {},
          "output_type": "execute_result"
        }
      ],
      "source": [
        "model_ridge.fit(X_train, y_train)\n",
        "ls_medias_ridge = cross_val_score(estimator=model_ridge, X=X_test, y = y_test, cv = 4, n_jobs=-1, scoring=\"r2\")\n",
        "np.mean(ls_medias_ridge), np.std(ls_medias_ridge)"
      ]
    },
    {
      "cell_type": "code",
      "execution_count": null,
      "metadata": {
        "ExecuteTime": {
          "end_time": "2022-04-28T03:54:52.327200Z",
          "start_time": "2022-04-28T03:54:52.323185Z"
        },
        "id": "4FXXgOM2nVbx",
        "outputId": "e0f8dfc6-96b3-4cf1-8dd3-48913131de2f"
      },
      "outputs": [
        {
          "data": {
            "text/plain": [
              "{'alpha': 1.0,\n",
              " 'copy_X': True,\n",
              " 'fit_intercept': True,\n",
              " 'max_iter': None,\n",
              " 'normalize': False,\n",
              " 'random_state': None,\n",
              " 'solver': 'auto',\n",
              " 'tol': 0.001}"
            ]
          },
          "execution_count": 42,
          "metadata": {},
          "output_type": "execute_result"
        }
      ],
      "source": [
        "model_ridge.get_params()"
      ]
    },
    {
      "cell_type": "code",
      "execution_count": null,
      "metadata": {
        "ExecuteTime": {
          "end_time": "2022-04-28T03:54:53.128545Z",
          "start_time": "2022-04-28T03:54:53.122364Z"
        },
        "id": "9-s8yO_onVbx"
      },
      "outputs": [],
      "source": [
        "param_grid = {\n",
        "    \"alpha\": [x for x in range(1, 100)] + [y/10 for y in range(10)],\n",
        "    \"tol\": [0.00001, 0.0000001, 0.01],\n",
        "    \"solver\": ['auto', 'svd', 'cholesky', 'lsqr', 'sparse_cg', 'sag', 'saga'] #como hace la minimizacion\n",
        "}"
      ]
    },
    {
      "cell_type": "code",
      "execution_count": null,
      "metadata": {
        "ExecuteTime": {
          "end_time": "2022-04-28T03:54:53.792065Z",
          "start_time": "2022-04-28T03:54:53.776668Z"
        },
        "id": "Ab_4p5rNnVby",
        "outputId": "359ce183-400a-466b-99b4-2a24d965176b"
      },
      "outputs": [
        {
          "data": {
            "text/plain": [
              "2289"
            ]
          },
          "execution_count": 44,
          "metadata": {},
          "output_type": "execute_result"
        }
      ],
      "source": [
        "np.prod(list(map(len, param_grid.values()))) #Numero de combinaciones que tenemos"
      ]
    },
    {
      "cell_type": "code",
      "execution_count": null,
      "metadata": {
        "ExecuteTime": {
          "end_time": "2022-04-28T03:55:20.489087Z",
          "start_time": "2022-04-28T03:54:54.424000Z"
        },
        "id": "kfgnhRWvnVby",
        "outputId": "68510ace-dfd8-4230-9dd3-d0161de89372"
      },
      "outputs": [
        {
          "name": "stdout",
          "output_type": "stream",
          "text": [
            "Best score: 0.6905695599415889\n"
          ]
        }
      ],
      "source": [
        "#Error score es lo que manda en caso de error\n",
        "clf_ridge = GridSearchCV(model_ridge, param_grid, cv=4, error_score=-1000, n_jobs=-1, scoring=\"r2\")\n",
        "clf_ridge.fit(X_train, y_train)\n",
        "print(\"Best score: \" + str(clf_ridge.best_score_))"
      ]
    },
    {
      "cell_type": "code",
      "execution_count": null,
      "metadata": {
        "ExecuteTime": {
          "end_time": "2022-04-28T03:56:17.557403Z",
          "start_time": "2022-04-28T03:56:17.552258Z"
        },
        "id": "7oWpt7u5nVby"
      },
      "outputs": [],
      "source": [
        "summary_ridge = pd.DataFrame(clf_ridge.cv_results_)"
      ]
    },
    {
      "cell_type": "code",
      "execution_count": null,
      "metadata": {
        "ExecuteTime": {
          "end_time": "2022-04-28T03:56:18.089084Z",
          "start_time": "2022-04-28T03:56:18.065182Z"
        },
        "id": "zmb5b2jOnVby",
        "outputId": "321edaa3-566e-4f88-91fc-21a9b8b679c8"
      },
      "outputs": [
        {
          "data": {
            "text/html": [
              "<div>\n",
              "<style scoped>\n",
              "    .dataframe tbody tr th:only-of-type {\n",
              "        vertical-align: middle;\n",
              "    }\n",
              "\n",
              "    .dataframe tbody tr th {\n",
              "        vertical-align: top;\n",
              "    }\n",
              "\n",
              "    .dataframe thead th {\n",
              "        text-align: right;\n",
              "    }\n",
              "</style>\n",
              "<table border=\"1\" class=\"dataframe\">\n",
              "  <thead>\n",
              "    <tr style=\"text-align: right;\">\n",
              "      <th></th>\n",
              "      <th>mean_fit_time</th>\n",
              "      <th>std_fit_time</th>\n",
              "      <th>mean_score_time</th>\n",
              "      <th>std_score_time</th>\n",
              "      <th>param_alpha</th>\n",
              "      <th>param_solver</th>\n",
              "      <th>param_tol</th>\n",
              "      <th>params</th>\n",
              "      <th>split0_test_score</th>\n",
              "      <th>split1_test_score</th>\n",
              "      <th>split2_test_score</th>\n",
              "      <th>split3_test_score</th>\n",
              "      <th>mean_test_score</th>\n",
              "      <th>std_test_score</th>\n",
              "      <th>rank_test_score</th>\n",
              "    </tr>\n",
              "  </thead>\n",
              "  <tbody>\n",
              "    <tr>\n",
              "      <th>0</th>\n",
              "      <td>0.004990</td>\n",
              "      <td>0.001226</td>\n",
              "      <td>0.003865</td>\n",
              "      <td>0.000914</td>\n",
              "      <td>1</td>\n",
              "      <td>auto</td>\n",
              "      <td>1e-05</td>\n",
              "      <td>{'alpha': 1, 'solver': 'auto', 'tol': 1e-05}</td>\n",
              "      <td>0.800199</td>\n",
              "      <td>0.718311</td>\n",
              "      <td>0.720571</td>\n",
              "      <td>0.507737</td>\n",
              "      <td>0.686704</td>\n",
              "      <td>0.108462</td>\n",
              "      <td>134</td>\n",
              "    </tr>\n",
              "    <tr>\n",
              "      <th>1</th>\n",
              "      <td>0.015083</td>\n",
              "      <td>0.012170</td>\n",
              "      <td>0.010088</td>\n",
              "      <td>0.006076</td>\n",
              "      <td>1</td>\n",
              "      <td>auto</td>\n",
              "      <td>1e-07</td>\n",
              "      <td>{'alpha': 1, 'solver': 'auto', 'tol': 1e-07}</td>\n",
              "      <td>0.800199</td>\n",
              "      <td>0.718311</td>\n",
              "      <td>0.720571</td>\n",
              "      <td>0.507737</td>\n",
              "      <td>0.686704</td>\n",
              "      <td>0.108462</td>\n",
              "      <td>134</td>\n",
              "    </tr>\n",
              "    <tr>\n",
              "      <th>2</th>\n",
              "      <td>0.010544</td>\n",
              "      <td>0.003254</td>\n",
              "      <td>0.005554</td>\n",
              "      <td>0.002139</td>\n",
              "      <td>1</td>\n",
              "      <td>auto</td>\n",
              "      <td>0.01</td>\n",
              "      <td>{'alpha': 1, 'solver': 'auto', 'tol': 0.01}</td>\n",
              "      <td>0.800199</td>\n",
              "      <td>0.718311</td>\n",
              "      <td>0.720571</td>\n",
              "      <td>0.507737</td>\n",
              "      <td>0.686704</td>\n",
              "      <td>0.108462</td>\n",
              "      <td>134</td>\n",
              "    </tr>\n",
              "    <tr>\n",
              "      <th>3</th>\n",
              "      <td>0.007083</td>\n",
              "      <td>0.001968</td>\n",
              "      <td>0.004149</td>\n",
              "      <td>0.000761</td>\n",
              "      <td>1</td>\n",
              "      <td>svd</td>\n",
              "      <td>1e-05</td>\n",
              "      <td>{'alpha': 1, 'solver': 'svd', 'tol': 1e-05}</td>\n",
              "      <td>0.800199</td>\n",
              "      <td>0.718311</td>\n",
              "      <td>0.720571</td>\n",
              "      <td>0.507737</td>\n",
              "      <td>0.686704</td>\n",
              "      <td>0.108462</td>\n",
              "      <td>140</td>\n",
              "    </tr>\n",
              "    <tr>\n",
              "      <th>4</th>\n",
              "      <td>0.004525</td>\n",
              "      <td>0.001077</td>\n",
              "      <td>0.003126</td>\n",
              "      <td>0.000693</td>\n",
              "      <td>1</td>\n",
              "      <td>svd</td>\n",
              "      <td>1e-07</td>\n",
              "      <td>{'alpha': 1, 'solver': 'svd', 'tol': 1e-07}</td>\n",
              "      <td>0.800199</td>\n",
              "      <td>0.718311</td>\n",
              "      <td>0.720571</td>\n",
              "      <td>0.507737</td>\n",
              "      <td>0.686704</td>\n",
              "      <td>0.108462</td>\n",
              "      <td>140</td>\n",
              "    </tr>\n",
              "    <tr>\n",
              "      <th>...</th>\n",
              "      <td>...</td>\n",
              "      <td>...</td>\n",
              "      <td>...</td>\n",
              "      <td>...</td>\n",
              "      <td>...</td>\n",
              "      <td>...</td>\n",
              "      <td>...</td>\n",
              "      <td>...</td>\n",
              "      <td>...</td>\n",
              "      <td>...</td>\n",
              "      <td>...</td>\n",
              "      <td>...</td>\n",
              "      <td>...</td>\n",
              "      <td>...</td>\n",
              "      <td>...</td>\n",
              "    </tr>\n",
              "    <tr>\n",
              "      <th>2284</th>\n",
              "      <td>0.061781</td>\n",
              "      <td>0.004147</td>\n",
              "      <td>0.002935</td>\n",
              "      <td>0.000499</td>\n",
              "      <td>0.9</td>\n",
              "      <td>sag</td>\n",
              "      <td>1e-07</td>\n",
              "      <td>{'alpha': 0.9, 'solver': 'sag', 'tol': 1e-07}</td>\n",
              "      <td>0.764903</td>\n",
              "      <td>0.668560</td>\n",
              "      <td>0.686090</td>\n",
              "      <td>0.551724</td>\n",
              "      <td>0.667819</td>\n",
              "      <td>0.076220</td>\n",
              "      <td>1434</td>\n",
              "    </tr>\n",
              "    <tr>\n",
              "      <th>2285</th>\n",
              "      <td>0.006457</td>\n",
              "      <td>0.000102</td>\n",
              "      <td>0.003560</td>\n",
              "      <td>0.000758</td>\n",
              "      <td>0.9</td>\n",
              "      <td>sag</td>\n",
              "      <td>0.01</td>\n",
              "      <td>{'alpha': 0.9, 'solver': 'sag', 'tol': 0.01}</td>\n",
              "      <td>0.707734</td>\n",
              "      <td>0.558819</td>\n",
              "      <td>0.585543</td>\n",
              "      <td>0.479739</td>\n",
              "      <td>0.582959</td>\n",
              "      <td>0.081873</td>\n",
              "      <td>2018</td>\n",
              "    </tr>\n",
              "    <tr>\n",
              "      <th>2286</th>\n",
              "      <td>0.071699</td>\n",
              "      <td>0.007125</td>\n",
              "      <td>0.003150</td>\n",
              "      <td>0.000085</td>\n",
              "      <td>0.9</td>\n",
              "      <td>saga</td>\n",
              "      <td>1e-05</td>\n",
              "      <td>{'alpha': 0.9, 'solver': 'saga', 'tol': 1e-05}</td>\n",
              "      <td>0.754638</td>\n",
              "      <td>0.647865</td>\n",
              "      <td>0.671201</td>\n",
              "      <td>0.555516</td>\n",
              "      <td>0.657305</td>\n",
              "      <td>0.070917</td>\n",
              "      <td>1653</td>\n",
              "    </tr>\n",
              "    <tr>\n",
              "      <th>2287</th>\n",
              "      <td>0.075454</td>\n",
              "      <td>0.005515</td>\n",
              "      <td>0.003561</td>\n",
              "      <td>0.000531</td>\n",
              "      <td>0.9</td>\n",
              "      <td>saga</td>\n",
              "      <td>1e-07</td>\n",
              "      <td>{'alpha': 0.9, 'solver': 'saga', 'tol': 1e-07}</td>\n",
              "      <td>0.754622</td>\n",
              "      <td>0.647838</td>\n",
              "      <td>0.671169</td>\n",
              "      <td>0.555531</td>\n",
              "      <td>0.657290</td>\n",
              "      <td>0.070906</td>\n",
              "      <td>1657</td>\n",
              "    </tr>\n",
              "    <tr>\n",
              "      <th>2288</th>\n",
              "      <td>0.008012</td>\n",
              "      <td>0.000297</td>\n",
              "      <td>0.003281</td>\n",
              "      <td>0.000232</td>\n",
              "      <td>0.9</td>\n",
              "      <td>saga</td>\n",
              "      <td>0.01</td>\n",
              "      <td>{'alpha': 0.9, 'solver': 'saga', 'tol': 0.01}</td>\n",
              "      <td>0.688822</td>\n",
              "      <td>0.531936</td>\n",
              "      <td>0.566912</td>\n",
              "      <td>0.440057</td>\n",
              "      <td>0.556932</td>\n",
              "      <td>0.089133</td>\n",
              "      <td>2189</td>\n",
              "    </tr>\n",
              "  </tbody>\n",
              "</table>\n",
              "<p>2289 rows × 15 columns</p>\n",
              "</div>"
            ],
            "text/plain": [
              "      mean_fit_time  std_fit_time  mean_score_time  std_score_time  \\\n",
              "0          0.004990      0.001226         0.003865        0.000914   \n",
              "1          0.015083      0.012170         0.010088        0.006076   \n",
              "2          0.010544      0.003254         0.005554        0.002139   \n",
              "3          0.007083      0.001968         0.004149        0.000761   \n",
              "4          0.004525      0.001077         0.003126        0.000693   \n",
              "...             ...           ...              ...             ...   \n",
              "2284       0.061781      0.004147         0.002935        0.000499   \n",
              "2285       0.006457      0.000102         0.003560        0.000758   \n",
              "2286       0.071699      0.007125         0.003150        0.000085   \n",
              "2287       0.075454      0.005515         0.003561        0.000531   \n",
              "2288       0.008012      0.000297         0.003281        0.000232   \n",
              "\n",
              "     param_alpha param_solver param_tol  \\\n",
              "0              1         auto     1e-05   \n",
              "1              1         auto     1e-07   \n",
              "2              1         auto      0.01   \n",
              "3              1          svd     1e-05   \n",
              "4              1          svd     1e-07   \n",
              "...          ...          ...       ...   \n",
              "2284         0.9          sag     1e-07   \n",
              "2285         0.9          sag      0.01   \n",
              "2286         0.9         saga     1e-05   \n",
              "2287         0.9         saga     1e-07   \n",
              "2288         0.9         saga      0.01   \n",
              "\n",
              "                                              params  split0_test_score  \\\n",
              "0       {'alpha': 1, 'solver': 'auto', 'tol': 1e-05}           0.800199   \n",
              "1       {'alpha': 1, 'solver': 'auto', 'tol': 1e-07}           0.800199   \n",
              "2        {'alpha': 1, 'solver': 'auto', 'tol': 0.01}           0.800199   \n",
              "3        {'alpha': 1, 'solver': 'svd', 'tol': 1e-05}           0.800199   \n",
              "4        {'alpha': 1, 'solver': 'svd', 'tol': 1e-07}           0.800199   \n",
              "...                                              ...                ...   \n",
              "2284   {'alpha': 0.9, 'solver': 'sag', 'tol': 1e-07}           0.764903   \n",
              "2285    {'alpha': 0.9, 'solver': 'sag', 'tol': 0.01}           0.707734   \n",
              "2286  {'alpha': 0.9, 'solver': 'saga', 'tol': 1e-05}           0.754638   \n",
              "2287  {'alpha': 0.9, 'solver': 'saga', 'tol': 1e-07}           0.754622   \n",
              "2288   {'alpha': 0.9, 'solver': 'saga', 'tol': 0.01}           0.688822   \n",
              "\n",
              "      split1_test_score  split2_test_score  split3_test_score  \\\n",
              "0              0.718311           0.720571           0.507737   \n",
              "1              0.718311           0.720571           0.507737   \n",
              "2              0.718311           0.720571           0.507737   \n",
              "3              0.718311           0.720571           0.507737   \n",
              "4              0.718311           0.720571           0.507737   \n",
              "...                 ...                ...                ...   \n",
              "2284           0.668560           0.686090           0.551724   \n",
              "2285           0.558819           0.585543           0.479739   \n",
              "2286           0.647865           0.671201           0.555516   \n",
              "2287           0.647838           0.671169           0.555531   \n",
              "2288           0.531936           0.566912           0.440057   \n",
              "\n",
              "      mean_test_score  std_test_score  rank_test_score  \n",
              "0            0.686704        0.108462              134  \n",
              "1            0.686704        0.108462              134  \n",
              "2            0.686704        0.108462              134  \n",
              "3            0.686704        0.108462              140  \n",
              "4            0.686704        0.108462              140  \n",
              "...               ...             ...              ...  \n",
              "2284         0.667819        0.076220             1434  \n",
              "2285         0.582959        0.081873             2018  \n",
              "2286         0.657305        0.070917             1653  \n",
              "2287         0.657290        0.070906             1657  \n",
              "2288         0.556932        0.089133             2189  \n",
              "\n",
              "[2289 rows x 15 columns]"
            ]
          },
          "execution_count": 47,
          "metadata": {},
          "output_type": "execute_result"
        }
      ],
      "source": [
        "summary_ridge"
      ]
    },
    {
      "cell_type": "code",
      "execution_count": null,
      "metadata": {
        "ExecuteTime": {
          "end_time": "2022-04-28T03:56:18.661825Z",
          "start_time": "2022-04-28T03:56:18.628007Z"
        },
        "scrolled": false,
        "id": "zZ7ctU8EnVbz",
        "outputId": "57aae018-53b2-439d-f486-2c80e8563599"
      },
      "outputs": [
        {
          "data": {
            "text/html": [
              "<div>\n",
              "<style scoped>\n",
              "    .dataframe tbody tr th:only-of-type {\n",
              "        vertical-align: middle;\n",
              "    }\n",
              "\n",
              "    .dataframe tbody tr th {\n",
              "        vertical-align: top;\n",
              "    }\n",
              "\n",
              "    .dataframe thead th {\n",
              "        text-align: right;\n",
              "    }\n",
              "</style>\n",
              "<table border=\"1\" class=\"dataframe\">\n",
              "  <thead>\n",
              "    <tr style=\"text-align: right;\">\n",
              "      <th></th>\n",
              "      <th>mean_fit_time</th>\n",
              "      <th>std_fit_time</th>\n",
              "      <th>mean_score_time</th>\n",
              "      <th>std_score_time</th>\n",
              "      <th>param_alpha</th>\n",
              "      <th>param_solver</th>\n",
              "      <th>param_tol</th>\n",
              "      <th>params</th>\n",
              "      <th>split0_test_score</th>\n",
              "      <th>split1_test_score</th>\n",
              "      <th>split2_test_score</th>\n",
              "      <th>split3_test_score</th>\n",
              "      <th>mean_test_score</th>\n",
              "      <th>std_test_score</th>\n",
              "      <th>rank_test_score</th>\n",
              "    </tr>\n",
              "  </thead>\n",
              "  <tbody>\n",
              "    <tr>\n",
              "      <th>2088</th>\n",
              "      <td>0.007759</td>\n",
              "      <td>0.000307</td>\n",
              "      <td>0.003444</td>\n",
              "      <td>0.000115</td>\n",
              "      <td>0</td>\n",
              "      <td>lsqr</td>\n",
              "      <td>1e-05</td>\n",
              "      <td>{'alpha': 0.0, 'solver': 'lsqr', 'tol': 1e-05}</td>\n",
              "      <td>0.790398</td>\n",
              "      <td>0.732041</td>\n",
              "      <td>0.723774</td>\n",
              "      <td>0.516066</td>\n",
              "      <td>0.690570</td>\n",
              "      <td>0.103971</td>\n",
              "      <td>1</td>\n",
              "    </tr>\n",
              "    <tr>\n",
              "      <th>2079</th>\n",
              "      <td>0.004226</td>\n",
              "      <td>0.000255</td>\n",
              "      <td>0.003510</td>\n",
              "      <td>0.000461</td>\n",
              "      <td>0</td>\n",
              "      <td>auto</td>\n",
              "      <td>1e-05</td>\n",
              "      <td>{'alpha': 0.0, 'solver': 'auto', 'tol': 1e-05}</td>\n",
              "      <td>0.790372</td>\n",
              "      <td>0.732019</td>\n",
              "      <td>0.723774</td>\n",
              "      <td>0.516068</td>\n",
              "      <td>0.690558</td>\n",
              "      <td>0.103961</td>\n",
              "      <td>2</td>\n",
              "    </tr>\n",
              "    <tr>\n",
              "      <th>2086</th>\n",
              "      <td>0.004316</td>\n",
              "      <td>0.000099</td>\n",
              "      <td>0.003536</td>\n",
              "      <td>0.000522</td>\n",
              "      <td>0</td>\n",
              "      <td>cholesky</td>\n",
              "      <td>1e-07</td>\n",
              "      <td>{'alpha': 0.0, 'solver': 'cholesky', 'tol': 1e...</td>\n",
              "      <td>0.790372</td>\n",
              "      <td>0.732019</td>\n",
              "      <td>0.723774</td>\n",
              "      <td>0.516068</td>\n",
              "      <td>0.690558</td>\n",
              "      <td>0.103961</td>\n",
              "      <td>2</td>\n",
              "    </tr>\n",
              "    <tr>\n",
              "      <th>2087</th>\n",
              "      <td>0.004408</td>\n",
              "      <td>0.000060</td>\n",
              "      <td>0.003572</td>\n",
              "      <td>0.000514</td>\n",
              "      <td>0</td>\n",
              "      <td>cholesky</td>\n",
              "      <td>0.01</td>\n",
              "      <td>{'alpha': 0.0, 'solver': 'cholesky', 'tol': 0.01}</td>\n",
              "      <td>0.790372</td>\n",
              "      <td>0.732019</td>\n",
              "      <td>0.723774</td>\n",
              "      <td>0.516068</td>\n",
              "      <td>0.690558</td>\n",
              "      <td>0.103961</td>\n",
              "      <td>2</td>\n",
              "    </tr>\n",
              "    <tr>\n",
              "      <th>2085</th>\n",
              "      <td>0.004410</td>\n",
              "      <td>0.000157</td>\n",
              "      <td>0.003510</td>\n",
              "      <td>0.000491</td>\n",
              "      <td>0</td>\n",
              "      <td>cholesky</td>\n",
              "      <td>1e-05</td>\n",
              "      <td>{'alpha': 0.0, 'solver': 'cholesky', 'tol': 1e...</td>\n",
              "      <td>0.790372</td>\n",
              "      <td>0.732019</td>\n",
              "      <td>0.723774</td>\n",
              "      <td>0.516068</td>\n",
              "      <td>0.690558</td>\n",
              "      <td>0.103961</td>\n",
              "      <td>2</td>\n",
              "    </tr>\n",
              "    <tr>\n",
              "      <th>...</th>\n",
              "      <td>...</td>\n",
              "      <td>...</td>\n",
              "      <td>...</td>\n",
              "      <td>...</td>\n",
              "      <td>...</td>\n",
              "      <td>...</td>\n",
              "      <td>...</td>\n",
              "      <td>...</td>\n",
              "      <td>...</td>\n",
              "      <td>...</td>\n",
              "      <td>...</td>\n",
              "      <td>...</td>\n",
              "      <td>...</td>\n",
              "      <td>...</td>\n",
              "      <td>...</td>\n",
              "    </tr>\n",
              "    <tr>\n",
              "      <th>2078</th>\n",
              "      <td>0.008220</td>\n",
              "      <td>0.000901</td>\n",
              "      <td>0.003128</td>\n",
              "      <td>0.000106</td>\n",
              "      <td>99</td>\n",
              "      <td>saga</td>\n",
              "      <td>0.01</td>\n",
              "      <td>{'alpha': 99, 'solver': 'saga', 'tol': 0.01}</td>\n",
              "      <td>0.687499</td>\n",
              "      <td>0.530031</td>\n",
              "      <td>0.565342</td>\n",
              "      <td>0.438199</td>\n",
              "      <td>0.555268</td>\n",
              "      <td>0.089343</td>\n",
              "      <td>2285</td>\n",
              "    </tr>\n",
              "    <tr>\n",
              "      <th>1469</th>\n",
              "      <td>0.007891</td>\n",
              "      <td>0.000662</td>\n",
              "      <td>0.003494</td>\n",
              "      <td>0.000770</td>\n",
              "      <td>70</td>\n",
              "      <td>saga</td>\n",
              "      <td>0.01</td>\n",
              "      <td>{'alpha': 70, 'solver': 'saga', 'tol': 0.01}</td>\n",
              "      <td>0.688012</td>\n",
              "      <td>0.530822</td>\n",
              "      <td>0.564955</td>\n",
              "      <td>0.437273</td>\n",
              "      <td>0.555265</td>\n",
              "      <td>0.089771</td>\n",
              "      <td>2286</td>\n",
              "    </tr>\n",
              "    <tr>\n",
              "      <th>1994</th>\n",
              "      <td>0.007788</td>\n",
              "      <td>0.000239</td>\n",
              "      <td>0.003147</td>\n",
              "      <td>0.000073</td>\n",
              "      <td>95</td>\n",
              "      <td>saga</td>\n",
              "      <td>0.01</td>\n",
              "      <td>{'alpha': 95, 'solver': 'saga', 'tol': 0.01}</td>\n",
              "      <td>0.687762</td>\n",
              "      <td>0.529821</td>\n",
              "      <td>0.565996</td>\n",
              "      <td>0.437477</td>\n",
              "      <td>0.555264</td>\n",
              "      <td>0.089711</td>\n",
              "      <td>2287</td>\n",
              "    </tr>\n",
              "    <tr>\n",
              "      <th>1742</th>\n",
              "      <td>0.007869</td>\n",
              "      <td>0.000390</td>\n",
              "      <td>0.003256</td>\n",
              "      <td>0.000204</td>\n",
              "      <td>83</td>\n",
              "      <td>saga</td>\n",
              "      <td>0.01</td>\n",
              "      <td>{'alpha': 83, 'solver': 'saga', 'tol': 0.01}</td>\n",
              "      <td>0.686915</td>\n",
              "      <td>0.530064</td>\n",
              "      <td>0.565797</td>\n",
              "      <td>0.438198</td>\n",
              "      <td>0.555243</td>\n",
              "      <td>0.089138</td>\n",
              "      <td>2288</td>\n",
              "    </tr>\n",
              "    <tr>\n",
              "      <th>1931</th>\n",
              "      <td>0.009040</td>\n",
              "      <td>0.001247</td>\n",
              "      <td>0.003440</td>\n",
              "      <td>0.000542</td>\n",
              "      <td>92</td>\n",
              "      <td>saga</td>\n",
              "      <td>0.01</td>\n",
              "      <td>{'alpha': 92, 'solver': 'saga', 'tol': 0.01}</td>\n",
              "      <td>0.687677</td>\n",
              "      <td>0.530718</td>\n",
              "      <td>0.565215</td>\n",
              "      <td>0.436723</td>\n",
              "      <td>0.555083</td>\n",
              "      <td>0.089842</td>\n",
              "      <td>2289</td>\n",
              "    </tr>\n",
              "  </tbody>\n",
              "</table>\n",
              "<p>2289 rows × 15 columns</p>\n",
              "</div>"
            ],
            "text/plain": [
              "      mean_fit_time  std_fit_time  mean_score_time  std_score_time  \\\n",
              "2088       0.007759      0.000307         0.003444        0.000115   \n",
              "2079       0.004226      0.000255         0.003510        0.000461   \n",
              "2086       0.004316      0.000099         0.003536        0.000522   \n",
              "2087       0.004408      0.000060         0.003572        0.000514   \n",
              "2085       0.004410      0.000157         0.003510        0.000491   \n",
              "...             ...           ...              ...             ...   \n",
              "2078       0.008220      0.000901         0.003128        0.000106   \n",
              "1469       0.007891      0.000662         0.003494        0.000770   \n",
              "1994       0.007788      0.000239         0.003147        0.000073   \n",
              "1742       0.007869      0.000390         0.003256        0.000204   \n",
              "1931       0.009040      0.001247         0.003440        0.000542   \n",
              "\n",
              "     param_alpha param_solver param_tol  \\\n",
              "2088           0         lsqr     1e-05   \n",
              "2079           0         auto     1e-05   \n",
              "2086           0     cholesky     1e-07   \n",
              "2087           0     cholesky      0.01   \n",
              "2085           0     cholesky     1e-05   \n",
              "...          ...          ...       ...   \n",
              "2078          99         saga      0.01   \n",
              "1469          70         saga      0.01   \n",
              "1994          95         saga      0.01   \n",
              "1742          83         saga      0.01   \n",
              "1931          92         saga      0.01   \n",
              "\n",
              "                                                 params  split0_test_score  \\\n",
              "2088     {'alpha': 0.0, 'solver': 'lsqr', 'tol': 1e-05}           0.790398   \n",
              "2079     {'alpha': 0.0, 'solver': 'auto', 'tol': 1e-05}           0.790372   \n",
              "2086  {'alpha': 0.0, 'solver': 'cholesky', 'tol': 1e...           0.790372   \n",
              "2087  {'alpha': 0.0, 'solver': 'cholesky', 'tol': 0.01}           0.790372   \n",
              "2085  {'alpha': 0.0, 'solver': 'cholesky', 'tol': 1e...           0.790372   \n",
              "...                                                 ...                ...   \n",
              "2078       {'alpha': 99, 'solver': 'saga', 'tol': 0.01}           0.687499   \n",
              "1469       {'alpha': 70, 'solver': 'saga', 'tol': 0.01}           0.688012   \n",
              "1994       {'alpha': 95, 'solver': 'saga', 'tol': 0.01}           0.687762   \n",
              "1742       {'alpha': 83, 'solver': 'saga', 'tol': 0.01}           0.686915   \n",
              "1931       {'alpha': 92, 'solver': 'saga', 'tol': 0.01}           0.687677   \n",
              "\n",
              "      split1_test_score  split2_test_score  split3_test_score  \\\n",
              "2088           0.732041           0.723774           0.516066   \n",
              "2079           0.732019           0.723774           0.516068   \n",
              "2086           0.732019           0.723774           0.516068   \n",
              "2087           0.732019           0.723774           0.516068   \n",
              "2085           0.732019           0.723774           0.516068   \n",
              "...                 ...                ...                ...   \n",
              "2078           0.530031           0.565342           0.438199   \n",
              "1469           0.530822           0.564955           0.437273   \n",
              "1994           0.529821           0.565996           0.437477   \n",
              "1742           0.530064           0.565797           0.438198   \n",
              "1931           0.530718           0.565215           0.436723   \n",
              "\n",
              "      mean_test_score  std_test_score  rank_test_score  \n",
              "2088         0.690570        0.103971                1  \n",
              "2079         0.690558        0.103961                2  \n",
              "2086         0.690558        0.103961                2  \n",
              "2087         0.690558        0.103961                2  \n",
              "2085         0.690558        0.103961                2  \n",
              "...               ...             ...              ...  \n",
              "2078         0.555268        0.089343             2285  \n",
              "1469         0.555265        0.089771             2286  \n",
              "1994         0.555264        0.089711             2287  \n",
              "1742         0.555243        0.089138             2288  \n",
              "1931         0.555083        0.089842             2289  \n",
              "\n",
              "[2289 rows x 15 columns]"
            ]
          },
          "execution_count": 48,
          "metadata": {},
          "output_type": "execute_result"
        }
      ],
      "source": [
        "summary_ridge.sort_values(by = \"rank_test_score\")"
      ]
    },
    {
      "cell_type": "code",
      "execution_count": null,
      "metadata": {
        "ExecuteTime": {
          "end_time": "2022-04-28T03:56:19.206719Z",
          "start_time": "2022-04-28T03:56:19.199066Z"
        },
        "id": "maBD8kuvnVbz"
      },
      "outputs": [],
      "source": [
        "dc_scores[str(model_ridge).split(\"(\")[0]] = {\"model\": clf_ridge.best_estimator_, \"score\": clf_ridge.best_score_}"
      ]
    },
    {
      "cell_type": "code",
      "execution_count": null,
      "metadata": {
        "ExecuteTime": {
          "end_time": "2022-04-28T03:56:19.727671Z",
          "start_time": "2022-04-28T03:56:19.718422Z"
        },
        "id": "dkumRw3NnVb0",
        "outputId": "8dcce8c9-c57a-4183-cd7c-1ba70823a200"
      },
      "outputs": [
        {
          "data": {
            "text/plain": [
              "{'Lasso': {'model': Lasso(alpha=0.0, tol=1e-05), 'score': 0.6905579954060902},\n",
              " 'Ridge': {'model': Ridge(alpha=0.0, solver='lsqr', tol=1e-05),\n",
              "  'score': 0.6905695599415889}}"
            ]
          },
          "execution_count": 50,
          "metadata": {},
          "output_type": "execute_result"
        }
      ],
      "source": [
        "dc_scores #Guardamos el modelo\n"
      ]
    },
    {
      "cell_type": "markdown",
      "metadata": {
        "id": "Qgy9LYe7nVb0"
      },
      "source": [
        "## Elastic Net"
      ]
    },
    {
      "cell_type": "code",
      "execution_count": null,
      "metadata": {
        "ExecuteTime": {
          "end_time": "2022-04-28T03:56:20.799239Z",
          "start_time": "2022-04-28T03:56:20.740401Z"
        },
        "id": "W6AEKX_ZnVb0"
      },
      "outputs": [],
      "source": [
        "Ridge?"
      ]
    },
    {
      "cell_type": "code",
      "execution_count": null,
      "metadata": {
        "ExecuteTime": {
          "end_time": "2022-04-28T03:56:21.302226Z",
          "start_time": "2022-04-28T03:56:21.287155Z"
        },
        "id": "e_1YL0cfnVb0"
      },
      "outputs": [],
      "source": [
        "ElasticNet?"
      ]
    },
    {
      "cell_type": "code",
      "execution_count": null,
      "metadata": {
        "ExecuteTime": {
          "end_time": "2022-04-28T03:56:27.354173Z",
          "start_time": "2022-04-28T03:56:27.349830Z"
        },
        "id": "sYKNrAqnnVb1"
      },
      "outputs": [],
      "source": [
        "model_elastic = ElasticNet()"
      ]
    },
    {
      "cell_type": "code",
      "execution_count": null,
      "metadata": {
        "ExecuteTime": {
          "end_time": "2022-04-28T03:56:28.102332Z",
          "start_time": "2022-04-28T03:56:28.048861Z"
        },
        "id": "FxkSbYlYnVb1",
        "outputId": "c0574183-53fd-407d-cfe4-00649d0a7f20"
      },
      "outputs": [
        {
          "data": {
            "text/plain": [
              "(0.6485866350592309, 0.09048565053182542)"
            ]
          },
          "execution_count": 54,
          "metadata": {},
          "output_type": "execute_result"
        }
      ],
      "source": [
        "model_elastic.fit(X_train, y_train) #Entrenamos el modelo\n",
        "ls_medias_elastic = cross_val_score(estimator=model_elastic, X=X_test, y = y_test, cv = 4, n_jobs=-1, scoring=\"r2\")\n",
        "np.mean(ls_medias_elastic), np.std(ls_medias_elastic)"
      ]
    },
    {
      "cell_type": "code",
      "execution_count": null,
      "metadata": {
        "ExecuteTime": {
          "end_time": "2022-04-28T03:56:29.214918Z",
          "start_time": "2022-04-28T03:56:29.210512Z"
        },
        "id": "zUSLOWZEnVb1",
        "outputId": "c0ce9fdd-506d-4b73-f8ca-634d9838fc56"
      },
      "outputs": [
        {
          "data": {
            "text/plain": [
              "{'alpha': 1.0,\n",
              " 'copy_X': True,\n",
              " 'fit_intercept': True,\n",
              " 'l1_ratio': 0.5,\n",
              " 'max_iter': 1000,\n",
              " 'normalize': False,\n",
              " 'positive': False,\n",
              " 'precompute': False,\n",
              " 'random_state': None,\n",
              " 'selection': 'cyclic',\n",
              " 'tol': 0.0001,\n",
              " 'warm_start': False}"
            ]
          },
          "execution_count": 55,
          "metadata": {},
          "output_type": "execute_result"
        }
      ],
      "source": [
        "model_elastic.get_params()"
      ]
    },
    {
      "cell_type": "code",
      "execution_count": null,
      "metadata": {
        "ExecuteTime": {
          "end_time": "2022-04-28T03:56:29.751885Z",
          "start_time": "2022-04-28T03:56:29.742056Z"
        },
        "id": "_AIhyVDznVb1"
      },
      "outputs": [],
      "source": [
        "\"Ponemos los hiper-parametros que afectan al modelo\"\n",
        "param_grid = {\n",
        "    \"alpha\": [x for x in range(1, 100)] + [y/10 for y in range(10)],\n",
        "    \"l1_ratio\": [x/1000 for x in range(1, 100)] + [y/10 for y in range(10)],\n",
        "}"
      ]
    },
    {
      "cell_type": "code",
      "execution_count": null,
      "metadata": {
        "ExecuteTime": {
          "end_time": "2022-04-28T03:56:30.780391Z",
          "start_time": "2022-04-28T03:56:30.776051Z"
        },
        "id": "nCDz-dmxnVb2",
        "outputId": "17db46f4-bdb6-4ccb-93f0-88b6c423fb94"
      },
      "outputs": [
        {
          "data": {
            "text/plain": [
              "11881"
            ]
          },
          "execution_count": 57,
          "metadata": {},
          "output_type": "execute_result"
        }
      ],
      "source": [
        "np.prod(list(map(len, param_grid.values())))"
      ]
    },
    {
      "cell_type": "code",
      "execution_count": null,
      "metadata": {
        "ExecuteTime": {
          "end_time": "2022-04-28T03:57:43.365738Z",
          "start_time": "2022-04-28T03:56:35.054200Z"
        },
        "id": "fb3rqef3nVb2",
        "outputId": "b007e8c2-79e1-4209-b1d8-f1cc414fb765"
      },
      "outputs": [
        {
          "name": "stdout",
          "output_type": "stream",
          "text": [
            "Fitting 4 folds for each of 11881 candidates, totalling 47524 fits\n"
          ]
        },
        {
          "name": "stderr",
          "output_type": "stream",
          "text": [
            "[Parallel(n_jobs=-1)]: Using backend LokyBackend with 8 concurrent workers.\n",
            "[Parallel(n_jobs=-1)]: Done   2 tasks      | elapsed:    0.0s\n",
            "[Parallel(n_jobs=-1)]: Done 176 tasks      | elapsed:    0.5s\n",
            "[Parallel(n_jobs=-1)]: Done 1552 tasks      | elapsed:    2.7s\n",
            "[Parallel(n_jobs=-1)]: Done 3568 tasks      | elapsed:    5.3s\n",
            "[Parallel(n_jobs=-1)]: Done 6160 tasks      | elapsed:    9.0s\n",
            "[Parallel(n_jobs=-1)]: Done 9328 tasks      | elapsed:   13.3s\n",
            "[Parallel(n_jobs=-1)]: Done 13072 tasks      | elapsed:   18.6s\n",
            "[Parallel(n_jobs=-1)]: Done 17392 tasks      | elapsed:   24.5s\n",
            "[Parallel(n_jobs=-1)]: Done 22288 tasks      | elapsed:   31.9s\n",
            "[Parallel(n_jobs=-1)]: Done 27760 tasks      | elapsed:   39.8s\n",
            "[Parallel(n_jobs=-1)]: Done 33808 tasks      | elapsed:   48.5s\n",
            "[Parallel(n_jobs=-1)]: Done 40432 tasks      | elapsed:   57.8s\n",
            "[Parallel(n_jobs=-1)]: Done 47452 tasks      | elapsed:  1.1min\n",
            "[Parallel(n_jobs=-1)]: Done 47524 out of 47524 | elapsed:  1.1min finished\n"
          ]
        },
        {
          "name": "stdout",
          "output_type": "stream",
          "text": [
            "Best score: 0.6905579954060902\n"
          ]
        },
        {
          "name": "stderr",
          "output_type": "stream",
          "text": [
            "/home/jorge/Documents/Diplomado/ambientes/diplo_env/lib/python3.6/site-packages/sklearn/model_selection/_search.py:765: UserWarning: With alpha=0, this algorithm does not converge well. You are advised to use the LinearRegression estimator\n",
            "  self.best_estimator_.fit(X, y, **fit_params)\n",
            "/home/jorge/Documents/Diplomado/ambientes/diplo_env/lib/python3.6/site-packages/sklearn/linear_model/_coordinate_descent.py:531: UserWarning: Coordinate descent with no regularization may lead to unexpected results and is discouraged.\n",
            "  positive)\n",
            "/home/jorge/Documents/Diplomado/ambientes/diplo_env/lib/python3.6/site-packages/sklearn/linear_model/_coordinate_descent.py:531: ConvergenceWarning: Objective did not converge. You might want to increase the number of iterations. Duality gap: 4430.561133592299, tolerance: 3.2346784293785302\n",
            "  positive)\n"
          ]
        }
      ],
      "source": [
        "\"Se pierde un minuto en el proceso\"\n",
        "clf_elastic = GridSearchCV(model_elastic, param_grid, cv=4, error_score=-1000, n_jobs=-1, scoring=\"r2\", verbose=5,)\n",
        "clf_elastic.fit(X_train, y_train)\n",
        "print(\"Best score: \" + str(clf_elastic.best_score_))"
      ]
    },
    {
      "cell_type": "code",
      "execution_count": null,
      "metadata": {
        "ExecuteTime": {
          "end_time": "2022-04-28T03:57:48.658437Z",
          "start_time": "2022-04-28T03:57:48.650847Z"
        },
        "id": "U6gOYrIJnVb3"
      },
      "outputs": [],
      "source": [
        "summary_elastic = pd.DataFrame(clf_elastic.cv_results_)"
      ]
    },
    {
      "cell_type": "code",
      "execution_count": null,
      "metadata": {
        "ExecuteTime": {
          "end_time": "2022-04-28T03:57:49.451973Z",
          "start_time": "2022-04-28T03:57:49.420634Z"
        },
        "scrolled": true,
        "id": "3ZGk4ecdnVb3",
        "outputId": "68f2e478-bd41-4077-e487-affcd6ca0c7b"
      },
      "outputs": [
        {
          "data": {
            "text/html": [
              "<div>\n",
              "<style scoped>\n",
              "    .dataframe tbody tr th:only-of-type {\n",
              "        vertical-align: middle;\n",
              "    }\n",
              "\n",
              "    .dataframe tbody tr th {\n",
              "        vertical-align: top;\n",
              "    }\n",
              "\n",
              "    .dataframe thead th {\n",
              "        text-align: right;\n",
              "    }\n",
              "</style>\n",
              "<table border=\"1\" class=\"dataframe\">\n",
              "  <thead>\n",
              "    <tr style=\"text-align: right;\">\n",
              "      <th></th>\n",
              "      <th>mean_fit_time</th>\n",
              "      <th>std_fit_time</th>\n",
              "      <th>mean_score_time</th>\n",
              "      <th>std_score_time</th>\n",
              "      <th>param_alpha</th>\n",
              "      <th>param_l1_ratio</th>\n",
              "      <th>params</th>\n",
              "      <th>split0_test_score</th>\n",
              "      <th>split1_test_score</th>\n",
              "      <th>split2_test_score</th>\n",
              "      <th>split3_test_score</th>\n",
              "      <th>mean_test_score</th>\n",
              "      <th>std_test_score</th>\n",
              "      <th>rank_test_score</th>\n",
              "    </tr>\n",
              "  </thead>\n",
              "  <tbody>\n",
              "    <tr>\n",
              "      <th>10894</th>\n",
              "      <td>0.010770</td>\n",
              "      <td>0.000483</td>\n",
              "      <td>0.003632</td>\n",
              "      <td>0.000215</td>\n",
              "      <td>0</td>\n",
              "      <td>0.4</td>\n",
              "      <td>{'alpha': 0.0, 'l1_ratio': 0.4}</td>\n",
              "      <td>0.790372</td>\n",
              "      <td>0.732019</td>\n",
              "      <td>0.723774</td>\n",
              "      <td>0.516068</td>\n",
              "      <td>0.690558</td>\n",
              "      <td>0.103961</td>\n",
              "      <td>1</td>\n",
              "    </tr>\n",
              "    <tr>\n",
              "      <th>10870</th>\n",
              "      <td>0.012729</td>\n",
              "      <td>0.002505</td>\n",
              "      <td>0.003908</td>\n",
              "      <td>0.000506</td>\n",
              "      <td>0</td>\n",
              "      <td>0.08</td>\n",
              "      <td>{'alpha': 0.0, 'l1_ratio': 0.08}</td>\n",
              "      <td>0.790372</td>\n",
              "      <td>0.732019</td>\n",
              "      <td>0.723774</td>\n",
              "      <td>0.516068</td>\n",
              "      <td>0.690558</td>\n",
              "      <td>0.103961</td>\n",
              "      <td>1</td>\n",
              "    </tr>\n",
              "    <tr>\n",
              "      <th>10869</th>\n",
              "      <td>0.011286</td>\n",
              "      <td>0.001567</td>\n",
              "      <td>0.004425</td>\n",
              "      <td>0.000487</td>\n",
              "      <td>0</td>\n",
              "      <td>0.079</td>\n",
              "      <td>{'alpha': 0.0, 'l1_ratio': 0.079}</td>\n",
              "      <td>0.790372</td>\n",
              "      <td>0.732019</td>\n",
              "      <td>0.723774</td>\n",
              "      <td>0.516068</td>\n",
              "      <td>0.690558</td>\n",
              "      <td>0.103961</td>\n",
              "      <td>1</td>\n",
              "    </tr>\n",
              "    <tr>\n",
              "      <th>10868</th>\n",
              "      <td>0.010576</td>\n",
              "      <td>0.000513</td>\n",
              "      <td>0.003376</td>\n",
              "      <td>0.000035</td>\n",
              "      <td>0</td>\n",
              "      <td>0.078</td>\n",
              "      <td>{'alpha': 0.0, 'l1_ratio': 0.078}</td>\n",
              "      <td>0.790372</td>\n",
              "      <td>0.732019</td>\n",
              "      <td>0.723774</td>\n",
              "      <td>0.516068</td>\n",
              "      <td>0.690558</td>\n",
              "      <td>0.103961</td>\n",
              "      <td>1</td>\n",
              "    </tr>\n",
              "    <tr>\n",
              "      <th>10867</th>\n",
              "      <td>0.011062</td>\n",
              "      <td>0.000930</td>\n",
              "      <td>0.003220</td>\n",
              "      <td>0.000409</td>\n",
              "      <td>0</td>\n",
              "      <td>0.077</td>\n",
              "      <td>{'alpha': 0.0, 'l1_ratio': 0.077}</td>\n",
              "      <td>0.790372</td>\n",
              "      <td>0.732019</td>\n",
              "      <td>0.723774</td>\n",
              "      <td>0.516068</td>\n",
              "      <td>0.690558</td>\n",
              "      <td>0.103961</td>\n",
              "      <td>1</td>\n",
              "    </tr>\n",
              "    <tr>\n",
              "      <th>...</th>\n",
              "      <td>...</td>\n",
              "      <td>...</td>\n",
              "      <td>...</td>\n",
              "      <td>...</td>\n",
              "      <td>...</td>\n",
              "      <td>...</td>\n",
              "      <td>...</td>\n",
              "      <td>...</td>\n",
              "      <td>...</td>\n",
              "      <td>...</td>\n",
              "      <td>...</td>\n",
              "      <td>...</td>\n",
              "      <td>...</td>\n",
              "      <td>...</td>\n",
              "    </tr>\n",
              "    <tr>\n",
              "      <th>10354</th>\n",
              "      <td>0.006481</td>\n",
              "      <td>0.001622</td>\n",
              "      <td>0.004479</td>\n",
              "      <td>0.001229</td>\n",
              "      <td>95</td>\n",
              "      <td>0.9</td>\n",
              "      <td>{'alpha': 95, 'l1_ratio': 0.9}</td>\n",
              "      <td>0.345057</td>\n",
              "      <td>0.161603</td>\n",
              "      <td>0.241575</td>\n",
              "      <td>0.082909</td>\n",
              "      <td>0.207786</td>\n",
              "      <td>0.097098</td>\n",
              "      <td>11877</td>\n",
              "    </tr>\n",
              "    <tr>\n",
              "      <th>10463</th>\n",
              "      <td>0.004710</td>\n",
              "      <td>0.000129</td>\n",
              "      <td>0.003765</td>\n",
              "      <td>0.000598</td>\n",
              "      <td>96</td>\n",
              "      <td>0.9</td>\n",
              "      <td>{'alpha': 96, 'l1_ratio': 0.9}</td>\n",
              "      <td>0.344219</td>\n",
              "      <td>0.161485</td>\n",
              "      <td>0.241430</td>\n",
              "      <td>0.082886</td>\n",
              "      <td>0.207505</td>\n",
              "      <td>0.096811</td>\n",
              "      <td>11878</td>\n",
              "    </tr>\n",
              "    <tr>\n",
              "      <th>10572</th>\n",
              "      <td>0.005066</td>\n",
              "      <td>0.000388</td>\n",
              "      <td>0.003548</td>\n",
              "      <td>0.000181</td>\n",
              "      <td>97</td>\n",
              "      <td>0.9</td>\n",
              "      <td>{'alpha': 97, 'l1_ratio': 0.9}</td>\n",
              "      <td>0.343373</td>\n",
              "      <td>0.161364</td>\n",
              "      <td>0.241285</td>\n",
              "      <td>0.082862</td>\n",
              "      <td>0.207221</td>\n",
              "      <td>0.096522</td>\n",
              "      <td>11879</td>\n",
              "    </tr>\n",
              "    <tr>\n",
              "      <th>10681</th>\n",
              "      <td>0.004538</td>\n",
              "      <td>0.000966</td>\n",
              "      <td>0.003899</td>\n",
              "      <td>0.000344</td>\n",
              "      <td>98</td>\n",
              "      <td>0.9</td>\n",
              "      <td>{'alpha': 98, 'l1_ratio': 0.9}</td>\n",
              "      <td>0.342520</td>\n",
              "      <td>0.161243</td>\n",
              "      <td>0.241139</td>\n",
              "      <td>0.082836</td>\n",
              "      <td>0.206934</td>\n",
              "      <td>0.096231</td>\n",
              "      <td>11880</td>\n",
              "    </tr>\n",
              "    <tr>\n",
              "      <th>10790</th>\n",
              "      <td>0.004622</td>\n",
              "      <td>0.000118</td>\n",
              "      <td>0.003733</td>\n",
              "      <td>0.000632</td>\n",
              "      <td>99</td>\n",
              "      <td>0.9</td>\n",
              "      <td>{'alpha': 99, 'l1_ratio': 0.9}</td>\n",
              "      <td>0.341660</td>\n",
              "      <td>0.161119</td>\n",
              "      <td>0.240992</td>\n",
              "      <td>0.082809</td>\n",
              "      <td>0.206645</td>\n",
              "      <td>0.095939</td>\n",
              "      <td>11881</td>\n",
              "    </tr>\n",
              "  </tbody>\n",
              "</table>\n",
              "<p>11881 rows × 14 columns</p>\n",
              "</div>"
            ],
            "text/plain": [
              "       mean_fit_time  std_fit_time  mean_score_time  std_score_time  \\\n",
              "10894       0.010770      0.000483         0.003632        0.000215   \n",
              "10870       0.012729      0.002505         0.003908        0.000506   \n",
              "10869       0.011286      0.001567         0.004425        0.000487   \n",
              "10868       0.010576      0.000513         0.003376        0.000035   \n",
              "10867       0.011062      0.000930         0.003220        0.000409   \n",
              "...              ...           ...              ...             ...   \n",
              "10354       0.006481      0.001622         0.004479        0.001229   \n",
              "10463       0.004710      0.000129         0.003765        0.000598   \n",
              "10572       0.005066      0.000388         0.003548        0.000181   \n",
              "10681       0.004538      0.000966         0.003899        0.000344   \n",
              "10790       0.004622      0.000118         0.003733        0.000632   \n",
              "\n",
              "      param_alpha param_l1_ratio                             params  \\\n",
              "10894           0            0.4    {'alpha': 0.0, 'l1_ratio': 0.4}   \n",
              "10870           0           0.08   {'alpha': 0.0, 'l1_ratio': 0.08}   \n",
              "10869           0          0.079  {'alpha': 0.0, 'l1_ratio': 0.079}   \n",
              "10868           0          0.078  {'alpha': 0.0, 'l1_ratio': 0.078}   \n",
              "10867           0          0.077  {'alpha': 0.0, 'l1_ratio': 0.077}   \n",
              "...           ...            ...                                ...   \n",
              "10354          95            0.9     {'alpha': 95, 'l1_ratio': 0.9}   \n",
              "10463          96            0.9     {'alpha': 96, 'l1_ratio': 0.9}   \n",
              "10572          97            0.9     {'alpha': 97, 'l1_ratio': 0.9}   \n",
              "10681          98            0.9     {'alpha': 98, 'l1_ratio': 0.9}   \n",
              "10790          99            0.9     {'alpha': 99, 'l1_ratio': 0.9}   \n",
              "\n",
              "       split0_test_score  split1_test_score  split2_test_score  \\\n",
              "10894           0.790372           0.732019           0.723774   \n",
              "10870           0.790372           0.732019           0.723774   \n",
              "10869           0.790372           0.732019           0.723774   \n",
              "10868           0.790372           0.732019           0.723774   \n",
              "10867           0.790372           0.732019           0.723774   \n",
              "...                  ...                ...                ...   \n",
              "10354           0.345057           0.161603           0.241575   \n",
              "10463           0.344219           0.161485           0.241430   \n",
              "10572           0.343373           0.161364           0.241285   \n",
              "10681           0.342520           0.161243           0.241139   \n",
              "10790           0.341660           0.161119           0.240992   \n",
              "\n",
              "       split3_test_score  mean_test_score  std_test_score  rank_test_score  \n",
              "10894           0.516068         0.690558        0.103961                1  \n",
              "10870           0.516068         0.690558        0.103961                1  \n",
              "10869           0.516068         0.690558        0.103961                1  \n",
              "10868           0.516068         0.690558        0.103961                1  \n",
              "10867           0.516068         0.690558        0.103961                1  \n",
              "...                  ...              ...             ...              ...  \n",
              "10354           0.082909         0.207786        0.097098            11877  \n",
              "10463           0.082886         0.207505        0.096811            11878  \n",
              "10572           0.082862         0.207221        0.096522            11879  \n",
              "10681           0.082836         0.206934        0.096231            11880  \n",
              "10790           0.082809         0.206645        0.095939            11881  \n",
              "\n",
              "[11881 rows x 14 columns]"
            ]
          },
          "execution_count": 60,
          "metadata": {},
          "output_type": "execute_result"
        }
      ],
      "source": [
        "summary_elastic.sort_values(by = \"rank_test_score\")"
      ]
    },
    {
      "cell_type": "code",
      "execution_count": null,
      "metadata": {
        "ExecuteTime": {
          "end_time": "2022-04-28T03:57:50.329322Z",
          "start_time": "2022-04-28T03:57:50.324541Z"
        },
        "id": "Vu4HTorRnVb3"
      },
      "outputs": [],
      "source": [
        "dc_scores[str(model_elastic).split(\"(\")[0]] = {\"model\": clf_elastic.best_estimator_, \"score\": clf_elastic.best_score_}"
      ]
    },
    {
      "cell_type": "code",
      "execution_count": null,
      "metadata": {
        "ExecuteTime": {
          "end_time": "2022-04-28T03:57:51.311316Z",
          "start_time": "2022-04-28T03:57:51.306019Z"
        },
        "id": "Y1_nWMXNnVb4",
        "outputId": "76804240-b277-4328-dc06-5faef3406154"
      },
      "outputs": [
        {
          "data": {
            "text/plain": [
              "{'Lasso': {'model': Lasso(alpha=0.0, tol=1e-05), 'score': 0.6905579954060902},\n",
              " 'Ridge': {'model': Ridge(alpha=0.0, solver='lsqr', tol=1e-05),\n",
              "  'score': 0.6905695599415889},\n",
              " 'ElasticNet': {'model': ElasticNet(alpha=0.0, l1_ratio=0.001),\n",
              "  'score': 0.6905579954060902}}"
            ]
          },
          "execution_count": 62,
          "metadata": {},
          "output_type": "execute_result"
        }
      ],
      "source": [
        "dc_scores"
      ]
    },
    {
      "cell_type": "code",
      "execution_count": null,
      "metadata": {
        "ExecuteTime": {
          "end_time": "2022-04-28T03:58:04.670403Z",
          "start_time": "2022-04-28T03:57:51.867712Z"
        },
        "id": "QQIHe0hgnVb4",
        "outputId": "52637d0a-e619-4d11-b211-86760dd02917"
      },
      "outputs": [
        {
          "name": "stdout",
          "output_type": "stream",
          "text": [
            "Fitting 4 folds for each of 2000 candidates, totalling 8000 fits\n"
          ]
        },
        {
          "name": "stderr",
          "output_type": "stream",
          "text": [
            "[Parallel(n_jobs=-1)]: Using backend LokyBackend with 8 concurrent workers.\n",
            "[Parallel(n_jobs=-1)]: Done   2 tasks      | elapsed:    0.0s\n",
            "[Parallel(n_jobs=-1)]: Done 176 tasks      | elapsed:    0.5s\n",
            "[Parallel(n_jobs=-1)]: Done 2608 tasks      | elapsed:    4.1s\n",
            "[Parallel(n_jobs=-1)]: Done 6640 tasks      | elapsed:   10.7s\n"
          ]
        },
        {
          "name": "stdout",
          "output_type": "stream",
          "text": [
            "Best score: 0.6905579954060902\n"
          ]
        },
        {
          "name": "stderr",
          "output_type": "stream",
          "text": [
            "[Parallel(n_jobs=-1)]: Done 8000 out of 8000 | elapsed:   12.7s finished\n",
            "/home/jorge/Documents/Diplomado/ambientes/diplo_env/lib/python3.6/site-packages/sklearn/model_selection/_search.py:765: UserWarning: With alpha=0, this algorithm does not converge well. You are advised to use the LinearRegression estimator\n",
            "  self.best_estimator_.fit(X, y, **fit_params)\n",
            "/home/jorge/Documents/Diplomado/ambientes/diplo_env/lib/python3.6/site-packages/sklearn/linear_model/_coordinate_descent.py:531: UserWarning: Coordinate descent with no regularization may lead to unexpected results and is discouraged.\n",
            "  positive)\n",
            "/home/jorge/Documents/Diplomado/ambientes/diplo_env/lib/python3.6/site-packages/sklearn/linear_model/_coordinate_descent.py:531: ConvergenceWarning: Objective did not converge. You might want to increase the number of iterations. Duality gap: 4430.561133592299, tolerance: 3.2346784293785302\n",
            "  positive)\n"
          ]
        }
      ],
      "source": [
        "\"\"\"Una alternativa para ahorrarnos el minuto es usar la busqueda aleatoria, se pide que cheque 2000\"\"\"\n",
        "clf = RandomizedSearchCV(n_iter=2000, estimator=model_elastic, param_distributions=param_grid, cv=4, error_score=-1000, n_jobs=-1, scoring=\"r2\", verbose=5)\n",
        "clf.fit(X_train, y_train)\n",
        "print(\"Best score: \" + str(clf.best_score_))"
      ]
    },
    {
      "cell_type": "markdown",
      "metadata": {
        "id": "mei0_5ornVb4"
      },
      "source": [
        "## Guardar el Modelo"
      ]
    },
    {
      "cell_type": "code",
      "execution_count": null,
      "metadata": {
        "ExecuteTime": {
          "end_time": "2022-04-28T03:58:45.110094Z",
          "start_time": "2022-04-28T03:58:45.103307Z"
        },
        "id": "dQz3rKpCnVb5",
        "outputId": "4634da36-226a-4c8d-8be2-60c719a22791"
      },
      "outputs": [
        {
          "data": {
            "text/plain": [
              "{'Lasso': {'model': Lasso(alpha=0.0, tol=1e-05), 'score': 0.6905579954060902},\n",
              " 'Ridge': {'model': Ridge(alpha=0.0, solver='lsqr', tol=1e-05),\n",
              "  'score': 0.6905695599415889},\n",
              " 'ElasticNet': {'model': ElasticNet(alpha=0.0, l1_ratio=0.001),\n",
              "  'score': 0.6905579954060902}}"
            ]
          },
          "execution_count": 64,
          "metadata": {},
          "output_type": "execute_result"
        }
      ],
      "source": [
        "dc_scores"
      ]
    },
    {
      "cell_type": "code",
      "execution_count": null,
      "metadata": {
        "ExecuteTime": {
          "end_time": "2022-04-28T03:58:45.549851Z",
          "start_time": "2022-04-28T03:58:45.541742Z"
        },
        "id": "AlSFvogEnVb5",
        "outputId": "a10ce704-4deb-4659-c613-3d617307a651"
      },
      "outputs": [
        {
          "data": {
            "text/plain": [
              "Ridge(alpha=0.0, solver='lsqr', tol=1e-05)"
            ]
          },
          "execution_count": 65,
          "metadata": {},
          "output_type": "execute_result"
        }
      ],
      "source": [
        "dc_scores['Ridge']['model']"
      ]
    },
    {
      "cell_type": "code",
      "execution_count": null,
      "metadata": {
        "ExecuteTime": {
          "end_time": "2022-04-28T03:58:46.258415Z",
          "start_time": "2022-04-28T03:58:46.251959Z"
        },
        "id": "Df9KaYH4nVb5"
      },
      "outputs": [],
      "source": [
        "pd.to_pickle(dc_scores['Ridge']['model'],'model_ridge_housing.pkl')"
      ]
    },
    {
      "cell_type": "code",
      "execution_count": null,
      "metadata": {
        "ExecuteTime": {
          "end_time": "2022-04-28T03:58:47.532530Z",
          "start_time": "2022-04-28T03:58:47.529088Z"
        },
        "id": "t6zqmI7YnVb5"
      },
      "outputs": [],
      "source": [
        "modelo_ganador=pd.read_pickle('model_ridge_housing.pkl')"
      ]
    },
    {
      "cell_type": "code",
      "execution_count": null,
      "metadata": {
        "ExecuteTime": {
          "end_time": "2022-04-28T03:58:48.122089Z",
          "start_time": "2022-04-28T03:58:48.112005Z"
        },
        "id": "5gY8_kapnVb5",
        "outputId": "9eee8b4d-b6ec-48ef-fa51-8ce75cf76b95"
      },
      "outputs": [
        {
          "data": {
            "text/plain": [
              "array([17.26794245, 21.42931862, 27.63548064, 17.60598113, 23.47199174,\n",
              "       28.19383253, 30.06775536, 20.83912505, 17.34361465, 16.28313038,\n",
              "       29.97105796, 20.3757305 , 34.07418129, 19.14002142, 26.21500581,\n",
              "       17.66848944, 19.47497884, 18.64099998, 35.86629905, 16.78385405,\n",
              "       15.01523943, 23.05629091, 23.60596584, 21.12356678, 28.93183518,\n",
              "       18.99156797, 19.62852782, 18.84301487, 14.15557256, 12.94339483,\n",
              "       24.70187913, 35.80174817, 15.86329579, 19.49919595, -4.38231475,\n",
              "       15.72221357, 27.05764284, 14.67277569, 11.68598821, 13.24551226,\n",
              "       26.37224271, 32.29091023, 25.55851987, 38.04298299, 16.31682131,\n",
              "       17.19565863, 17.31250007, 21.49462628, 15.75278433, 28.00198539,\n",
              "        3.65464878, 26.0608372 , 21.49489922, 30.56370583, 18.2063335 ,\n",
              "       32.8045373 , 13.80240469, 18.40386021, 25.2425448 , 19.61258545,\n",
              "       15.38694926, 24.23526474, 40.00116896, 27.13248901, 23.55219621,\n",
              "       25.02298341, 21.44037355, 17.77342584, 19.78268282, 28.12486522,\n",
              "       29.78641207, 38.42983122, 31.33109265, 25.12514809, 21.54647504,\n",
              "       29.6168863 , 12.22112901, 40.75758931, 23.41125784, 22.70324972,\n",
              "       34.13670384, 25.83567647, 16.85409719, 18.17670399, 21.33093603,\n",
              "       33.43034374, 25.20826682, 12.65076729, 25.81982054, 23.99995854,\n",
              "       21.70894667, 32.43715462, 22.15002058, 25.41841435, 27.69872005,\n",
              "       20.58511575, 38.9721043 , 22.42182636, 23.39529932, 25.43203362,\n",
              "       20.26129369, 14.42556727, 29.46590873, 22.72990989, 18.5797097 ,\n",
              "       25.06681441, 25.44223478, 23.3350394 , 21.10412874, 12.46380296,\n",
              "       24.8649688 , 12.66954994,  8.8288844 , 30.11375305, 21.64770954,\n",
              "       16.90618281, 29.75830652, 22.84543283, 25.21700759, 24.64927466,\n",
              "       19.38119375, 12.5777027 , 31.76960019, 19.27294919, 25.29046273,\n",
              "       22.64188586, 11.14390866, 22.37681506,  1.02865377, 18.41938584,\n",
              "        8.0724604 , 33.23279688, 24.57374885, 16.12104197, 23.55431819,\n",
              "       13.62697967, 28.72544454, 28.93108946, 32.25308689, 24.60198963,\n",
              "       21.44108635,  7.99985419, 34.72445019, 27.25081102, 14.23462168,\n",
              "       22.65186751, 21.61613015, 26.26356428, 30.0885547 , 25.65152401,\n",
              "       15.59406022, 14.07736322])"
            ]
          },
          "execution_count": 68,
          "metadata": {},
          "output_type": "execute_result"
        }
      ],
      "source": [
        "modelo_ganador.predict(X_test)"
      ]
    },
    {
      "cell_type": "code",
      "execution_count": null,
      "metadata": {
        "id": "ORYfsCWunVb6"
      },
      "outputs": [],
      "source": [
        ""
      ]
    },
    {
      "cell_type": "code",
      "execution_count": null,
      "metadata": {
        "id": "IbcbG_8xnVb6"
      },
      "outputs": [],
      "source": [
        ""
      ]
    }
  ],
  "metadata": {
    "kernelspec": {
      "display_name": "diplo_env",
      "language": "python",
      "name": "diplo_env"
    },
    "language_info": {
      "codemirror_mode": {
        "name": "ipython",
        "version": 3
      },
      "file_extension": ".py",
      "mimetype": "text/x-python",
      "name": "python",
      "nbconvert_exporter": "python",
      "pygments_lexer": "ipython3",
      "version": "3.6.13"
    },
    "varInspector": {
      "cols": {
        "lenName": 16,
        "lenType": 16,
        "lenVar": 40
      },
      "kernels_config": {
        "python": {
          "delete_cmd_postfix": "",
          "delete_cmd_prefix": "del ",
          "library": "var_list.py",
          "varRefreshCmd": "print(var_dic_list())"
        },
        "r": {
          "delete_cmd_postfix": ") ",
          "delete_cmd_prefix": "rm(",
          "library": "var_list.r",
          "varRefreshCmd": "cat(var_dic_list()) "
        }
      },
      "types_to_exclude": [
        "module",
        "function",
        "builtin_function_or_method",
        "instance",
        "_Feature"
      ],
      "window_display": false
    },
    "colab": {
      "name": "Copia de Hiperparametrización.ipynb",
      "provenance": []
    }
  },
  "nbformat": 4,
  "nbformat_minor": 0
}