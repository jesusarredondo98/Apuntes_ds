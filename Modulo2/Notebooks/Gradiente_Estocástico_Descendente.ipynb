{
 "cells": [
  {
   "cell_type": "code",
   "execution_count": 68,
   "metadata": {
    "ExecuteTime": {
     "end_time": "2022-04-30T13:18:45.755572Z",
     "start_time": "2022-04-30T13:18:45.745985Z"
    },
    "id": "KRUQBBSJ7uXw"
   },
   "outputs": [],
   "source": [
    "import numpy as np\n",
    "import pandas as pd\n",
    "from sklearn.preprocessing import MinMaxScaler\n",
    "from sklearn.linear_model import SGDClassifier, SGDRegressor\n",
    "from sklearn.model_selection import cross_val_score, train_test_split, GridSearchCV, RandomizedSearchCV\n",
    "\n",
    "pd.set_option(\"max_columns\", 500)\n",
    "pd.set_option('display.float_format', lambda x: \"{:,.4f}\".format(x))"
   ]
  },
  {
   "cell_type": "code",
   "execution_count": 69,
   "metadata": {
    "ExecuteTime": {
     "end_time": "2022-04-30T13:18:51.457994Z",
     "start_time": "2022-04-30T13:18:51.437951Z"
    },
    "id": "4HNuUo62ZW_S"
   },
   "outputs": [],
   "source": [
    "df = pd.read_csv(\"../data/winequality-red.csv\", sep=\";\")"
   ]
  },
  {
   "cell_type": "code",
   "execution_count": 71,
   "metadata": {
    "ExecuteTime": {
     "end_time": "2022-04-30T13:19:18.151515Z",
     "start_time": "2022-04-30T13:19:18.128822Z"
    }
   },
   "outputs": [
    {
     "data": {
      "text/html": [
       "<div>\n",
       "<style scoped>\n",
       "    .dataframe tbody tr th:only-of-type {\n",
       "        vertical-align: middle;\n",
       "    }\n",
       "\n",
       "    .dataframe tbody tr th {\n",
       "        vertical-align: top;\n",
       "    }\n",
       "\n",
       "    .dataframe thead th {\n",
       "        text-align: right;\n",
       "    }\n",
       "</style>\n",
       "<table border=\"1\" class=\"dataframe\">\n",
       "  <thead>\n",
       "    <tr style=\"text-align: right;\">\n",
       "      <th></th>\n",
       "      <th>fixed acidity</th>\n",
       "      <th>volatile acidity</th>\n",
       "      <th>citric acid</th>\n",
       "      <th>residual sugar</th>\n",
       "      <th>chlorides</th>\n",
       "      <th>free sulfur dioxide</th>\n",
       "      <th>total sulfur dioxide</th>\n",
       "      <th>density</th>\n",
       "      <th>pH</th>\n",
       "      <th>sulphates</th>\n",
       "      <th>alcohol</th>\n",
       "      <th>quality</th>\n",
       "    </tr>\n",
       "  </thead>\n",
       "  <tbody>\n",
       "    <tr>\n",
       "      <th>0</th>\n",
       "      <td>7.4000</td>\n",
       "      <td>0.7000</td>\n",
       "      <td>0.0000</td>\n",
       "      <td>1.9000</td>\n",
       "      <td>0.0760</td>\n",
       "      <td>11.0000</td>\n",
       "      <td>34.0000</td>\n",
       "      <td>0.9978</td>\n",
       "      <td>3.5100</td>\n",
       "      <td>0.5600</td>\n",
       "      <td>9.4000</td>\n",
       "      <td>5</td>\n",
       "    </tr>\n",
       "    <tr>\n",
       "      <th>1</th>\n",
       "      <td>7.8000</td>\n",
       "      <td>0.8800</td>\n",
       "      <td>0.0000</td>\n",
       "      <td>2.6000</td>\n",
       "      <td>0.0980</td>\n",
       "      <td>25.0000</td>\n",
       "      <td>67.0000</td>\n",
       "      <td>0.9968</td>\n",
       "      <td>3.2000</td>\n",
       "      <td>0.6800</td>\n",
       "      <td>9.8000</td>\n",
       "      <td>5</td>\n",
       "    </tr>\n",
       "    <tr>\n",
       "      <th>2</th>\n",
       "      <td>7.8000</td>\n",
       "      <td>0.7600</td>\n",
       "      <td>0.0400</td>\n",
       "      <td>2.3000</td>\n",
       "      <td>0.0920</td>\n",
       "      <td>15.0000</td>\n",
       "      <td>54.0000</td>\n",
       "      <td>0.9970</td>\n",
       "      <td>3.2600</td>\n",
       "      <td>0.6500</td>\n",
       "      <td>9.8000</td>\n",
       "      <td>5</td>\n",
       "    </tr>\n",
       "    <tr>\n",
       "      <th>3</th>\n",
       "      <td>11.2000</td>\n",
       "      <td>0.2800</td>\n",
       "      <td>0.5600</td>\n",
       "      <td>1.9000</td>\n",
       "      <td>0.0750</td>\n",
       "      <td>17.0000</td>\n",
       "      <td>60.0000</td>\n",
       "      <td>0.9980</td>\n",
       "      <td>3.1600</td>\n",
       "      <td>0.5800</td>\n",
       "      <td>9.8000</td>\n",
       "      <td>6</td>\n",
       "    </tr>\n",
       "    <tr>\n",
       "      <th>4</th>\n",
       "      <td>7.4000</td>\n",
       "      <td>0.7000</td>\n",
       "      <td>0.0000</td>\n",
       "      <td>1.9000</td>\n",
       "      <td>0.0760</td>\n",
       "      <td>11.0000</td>\n",
       "      <td>34.0000</td>\n",
       "      <td>0.9978</td>\n",
       "      <td>3.5100</td>\n",
       "      <td>0.5600</td>\n",
       "      <td>9.4000</td>\n",
       "      <td>5</td>\n",
       "    </tr>\n",
       "  </tbody>\n",
       "</table>\n",
       "</div>"
      ],
      "text/plain": [
       "   fixed acidity  volatile acidity  citric acid  residual sugar  chlorides  \\\n",
       "0         7.4000            0.7000       0.0000          1.9000     0.0760   \n",
       "1         7.8000            0.8800       0.0000          2.6000     0.0980   \n",
       "2         7.8000            0.7600       0.0400          2.3000     0.0920   \n",
       "3        11.2000            0.2800       0.5600          1.9000     0.0750   \n",
       "4         7.4000            0.7000       0.0000          1.9000     0.0760   \n",
       "\n",
       "   free sulfur dioxide  total sulfur dioxide  density     pH  sulphates  \\\n",
       "0              11.0000               34.0000   0.9978 3.5100     0.5600   \n",
       "1              25.0000               67.0000   0.9968 3.2000     0.6800   \n",
       "2              15.0000               54.0000   0.9970 3.2600     0.6500   \n",
       "3              17.0000               60.0000   0.9980 3.1600     0.5800   \n",
       "4              11.0000               34.0000   0.9978 3.5100     0.5600   \n",
       "\n",
       "   alcohol  quality  \n",
       "0   9.4000        5  \n",
       "1   9.8000        5  \n",
       "2   9.8000        5  \n",
       "3   9.8000        6  \n",
       "4   9.4000        5  "
      ]
     },
     "execution_count": 71,
     "metadata": {},
     "output_type": "execute_result"
    }
   ],
   "source": [
    "df.head()"
   ]
  },
  {
   "cell_type": "code",
   "execution_count": 70,
   "metadata": {
    "ExecuteTime": {
     "end_time": "2022-04-30T13:18:58.948097Z",
     "start_time": "2022-04-30T13:18:58.871406Z"
    },
    "id": "ylO53GDYZW_T",
    "outputId": "4999ef9c-c935-4fde-d33e-de47ed5aa9c2"
   },
   "outputs": [
    {
     "data": {
      "text/html": [
       "<div>\n",
       "<style scoped>\n",
       "    .dataframe tbody tr th:only-of-type {\n",
       "        vertical-align: middle;\n",
       "    }\n",
       "\n",
       "    .dataframe tbody tr th {\n",
       "        vertical-align: top;\n",
       "    }\n",
       "\n",
       "    .dataframe thead th {\n",
       "        text-align: right;\n",
       "    }\n",
       "</style>\n",
       "<table border=\"1\" class=\"dataframe\">\n",
       "  <thead>\n",
       "    <tr style=\"text-align: right;\">\n",
       "      <th></th>\n",
       "      <th>fixed acidity</th>\n",
       "      <th>volatile acidity</th>\n",
       "      <th>citric acid</th>\n",
       "      <th>residual sugar</th>\n",
       "      <th>chlorides</th>\n",
       "      <th>free sulfur dioxide</th>\n",
       "      <th>total sulfur dioxide</th>\n",
       "      <th>density</th>\n",
       "      <th>pH</th>\n",
       "      <th>sulphates</th>\n",
       "      <th>alcohol</th>\n",
       "      <th>quality</th>\n",
       "    </tr>\n",
       "  </thead>\n",
       "  <tbody>\n",
       "    <tr>\n",
       "      <th>count</th>\n",
       "      <td>1,599.0000</td>\n",
       "      <td>1,599.0000</td>\n",
       "      <td>1,599.0000</td>\n",
       "      <td>1,599.0000</td>\n",
       "      <td>1,599.0000</td>\n",
       "      <td>1,599.0000</td>\n",
       "      <td>1,599.0000</td>\n",
       "      <td>1,599.0000</td>\n",
       "      <td>1,599.0000</td>\n",
       "      <td>1,599.0000</td>\n",
       "      <td>1,599.0000</td>\n",
       "      <td>1,599.0000</td>\n",
       "    </tr>\n",
       "    <tr>\n",
       "      <th>mean</th>\n",
       "      <td>8.3196</td>\n",
       "      <td>0.5278</td>\n",
       "      <td>0.2710</td>\n",
       "      <td>2.5388</td>\n",
       "      <td>0.0875</td>\n",
       "      <td>15.8749</td>\n",
       "      <td>46.4678</td>\n",
       "      <td>0.9967</td>\n",
       "      <td>3.3111</td>\n",
       "      <td>0.6581</td>\n",
       "      <td>10.4230</td>\n",
       "      <td>5.6360</td>\n",
       "    </tr>\n",
       "    <tr>\n",
       "      <th>std</th>\n",
       "      <td>1.7411</td>\n",
       "      <td>0.1791</td>\n",
       "      <td>0.1948</td>\n",
       "      <td>1.4099</td>\n",
       "      <td>0.0471</td>\n",
       "      <td>10.4602</td>\n",
       "      <td>32.8953</td>\n",
       "      <td>0.0019</td>\n",
       "      <td>0.1544</td>\n",
       "      <td>0.1695</td>\n",
       "      <td>1.0657</td>\n",
       "      <td>0.8076</td>\n",
       "    </tr>\n",
       "    <tr>\n",
       "      <th>min</th>\n",
       "      <td>4.6000</td>\n",
       "      <td>0.1200</td>\n",
       "      <td>0.0000</td>\n",
       "      <td>0.9000</td>\n",
       "      <td>0.0120</td>\n",
       "      <td>1.0000</td>\n",
       "      <td>6.0000</td>\n",
       "      <td>0.9901</td>\n",
       "      <td>2.7400</td>\n",
       "      <td>0.3300</td>\n",
       "      <td>8.4000</td>\n",
       "      <td>3.0000</td>\n",
       "    </tr>\n",
       "    <tr>\n",
       "      <th>25%</th>\n",
       "      <td>7.1000</td>\n",
       "      <td>0.3900</td>\n",
       "      <td>0.0900</td>\n",
       "      <td>1.9000</td>\n",
       "      <td>0.0700</td>\n",
       "      <td>7.0000</td>\n",
       "      <td>22.0000</td>\n",
       "      <td>0.9956</td>\n",
       "      <td>3.2100</td>\n",
       "      <td>0.5500</td>\n",
       "      <td>9.5000</td>\n",
       "      <td>5.0000</td>\n",
       "    </tr>\n",
       "    <tr>\n",
       "      <th>50%</th>\n",
       "      <td>7.9000</td>\n",
       "      <td>0.5200</td>\n",
       "      <td>0.2600</td>\n",
       "      <td>2.2000</td>\n",
       "      <td>0.0790</td>\n",
       "      <td>14.0000</td>\n",
       "      <td>38.0000</td>\n",
       "      <td>0.9968</td>\n",
       "      <td>3.3100</td>\n",
       "      <td>0.6200</td>\n",
       "      <td>10.2000</td>\n",
       "      <td>6.0000</td>\n",
       "    </tr>\n",
       "    <tr>\n",
       "      <th>75%</th>\n",
       "      <td>9.2000</td>\n",
       "      <td>0.6400</td>\n",
       "      <td>0.4200</td>\n",
       "      <td>2.6000</td>\n",
       "      <td>0.0900</td>\n",
       "      <td>21.0000</td>\n",
       "      <td>62.0000</td>\n",
       "      <td>0.9978</td>\n",
       "      <td>3.4000</td>\n",
       "      <td>0.7300</td>\n",
       "      <td>11.1000</td>\n",
       "      <td>6.0000</td>\n",
       "    </tr>\n",
       "    <tr>\n",
       "      <th>max</th>\n",
       "      <td>15.9000</td>\n",
       "      <td>1.5800</td>\n",
       "      <td>1.0000</td>\n",
       "      <td>15.5000</td>\n",
       "      <td>0.6110</td>\n",
       "      <td>72.0000</td>\n",
       "      <td>289.0000</td>\n",
       "      <td>1.0037</td>\n",
       "      <td>4.0100</td>\n",
       "      <td>2.0000</td>\n",
       "      <td>14.9000</td>\n",
       "      <td>8.0000</td>\n",
       "    </tr>\n",
       "  </tbody>\n",
       "</table>\n",
       "</div>"
      ],
      "text/plain": [
       "       fixed acidity  volatile acidity  citric acid  residual sugar  \\\n",
       "count     1,599.0000        1,599.0000   1,599.0000      1,599.0000   \n",
       "mean          8.3196            0.5278       0.2710          2.5388   \n",
       "std           1.7411            0.1791       0.1948          1.4099   \n",
       "min           4.6000            0.1200       0.0000          0.9000   \n",
       "25%           7.1000            0.3900       0.0900          1.9000   \n",
       "50%           7.9000            0.5200       0.2600          2.2000   \n",
       "75%           9.2000            0.6400       0.4200          2.6000   \n",
       "max          15.9000            1.5800       1.0000         15.5000   \n",
       "\n",
       "       chlorides  free sulfur dioxide  total sulfur dioxide    density  \\\n",
       "count 1,599.0000           1,599.0000            1,599.0000 1,599.0000   \n",
       "mean      0.0875              15.8749               46.4678     0.9967   \n",
       "std       0.0471              10.4602               32.8953     0.0019   \n",
       "min       0.0120               1.0000                6.0000     0.9901   \n",
       "25%       0.0700               7.0000               22.0000     0.9956   \n",
       "50%       0.0790              14.0000               38.0000     0.9968   \n",
       "75%       0.0900              21.0000               62.0000     0.9978   \n",
       "max       0.6110              72.0000              289.0000     1.0037   \n",
       "\n",
       "              pH  sulphates    alcohol    quality  \n",
       "count 1,599.0000 1,599.0000 1,599.0000 1,599.0000  \n",
       "mean      3.3111     0.6581    10.4230     5.6360  \n",
       "std       0.1544     0.1695     1.0657     0.8076  \n",
       "min       2.7400     0.3300     8.4000     3.0000  \n",
       "25%       3.2100     0.5500     9.5000     5.0000  \n",
       "50%       3.3100     0.6200    10.2000     6.0000  \n",
       "75%       3.4000     0.7300    11.1000     6.0000  \n",
       "max       4.0100     2.0000    14.9000     8.0000  "
      ]
     },
     "execution_count": 70,
     "metadata": {},
     "output_type": "execute_result"
    }
   ],
   "source": [
    "df.describe()"
   ]
  },
  {
   "cell_type": "code",
   "execution_count": 72,
   "metadata": {
    "ExecuteTime": {
     "end_time": "2022-04-30T13:20:57.150616Z",
     "start_time": "2022-04-30T13:20:57.132173Z"
    },
    "id": "NMSTHglTZW_U"
   },
   "outputs": [],
   "source": [
    "X = df[['fixed acidity', 'volatile acidity', 'citric acid', 'residual sugar', 'chlorides', 'free sulfur dioxide', \n",
    "        'total sulfur dioxide', 'density', 'pH', 'sulphates', 'alcohol',]]\n",
    "y = df[[\"quality\"]]"
   ]
  },
  {
   "cell_type": "markdown",
   "metadata": {
    "id": "QYy1fuigZW_V"
   },
   "source": [
    "### Escalamiento"
   ]
  },
  {
   "cell_type": "code",
   "execution_count": 73,
   "metadata": {
    "ExecuteTime": {
     "end_time": "2022-04-30T13:21:09.016727Z",
     "start_time": "2022-04-30T13:21:08.999840Z"
    },
    "id": "WVqEgdm9ZW_X"
   },
   "outputs": [],
   "source": [
    "X_train, X_test, y_train, y_test = train_test_split(X, y)"
   ]
  },
  {
   "cell_type": "code",
   "execution_count": 74,
   "metadata": {
    "ExecuteTime": {
     "end_time": "2022-04-30T13:22:01.937896Z",
     "start_time": "2022-04-30T13:22:01.916435Z"
    },
    "id": "lgzEBUtIZW_X"
   },
   "outputs": [],
   "source": [
    "mms_x = MinMaxScaler()\n",
    "mms_y = MinMaxScaler()\n",
    "Xs = mms_x.fit_transform(X_train)\n",
    "ys = mms_y.fit_transform(y_train)"
   ]
  },
  {
   "cell_type": "code",
   "execution_count": 75,
   "metadata": {
    "ExecuteTime": {
     "end_time": "2022-04-30T13:22:35.081909Z",
     "start_time": "2022-04-30T13:22:35.072480Z"
    },
    "id": "bHVR2Nv3ZW_Y",
    "outputId": "01866d62-8df2-4d42-f52e-0b20feb801fc"
   },
   "outputs": [
    {
     "data": {
      "text/html": [
       "<div>\n",
       "<style scoped>\n",
       "    .dataframe tbody tr th:only-of-type {\n",
       "        vertical-align: middle;\n",
       "    }\n",
       "\n",
       "    .dataframe tbody tr th {\n",
       "        vertical-align: top;\n",
       "    }\n",
       "\n",
       "    .dataframe thead th {\n",
       "        text-align: right;\n",
       "    }\n",
       "</style>\n",
       "<table border=\"1\" class=\"dataframe\">\n",
       "  <thead>\n",
       "    <tr style=\"text-align: right;\">\n",
       "      <th></th>\n",
       "      <th>0</th>\n",
       "    </tr>\n",
       "  </thead>\n",
       "  <tbody>\n",
       "    <tr>\n",
       "      <th>0</th>\n",
       "      <td>0.4000</td>\n",
       "    </tr>\n",
       "    <tr>\n",
       "      <th>1</th>\n",
       "      <td>0.8000</td>\n",
       "    </tr>\n",
       "    <tr>\n",
       "      <th>2</th>\n",
       "      <td>0.4000</td>\n",
       "    </tr>\n",
       "    <tr>\n",
       "      <th>3</th>\n",
       "      <td>1.0000</td>\n",
       "    </tr>\n",
       "    <tr>\n",
       "      <th>4</th>\n",
       "      <td>0.6000</td>\n",
       "    </tr>\n",
       "    <tr>\n",
       "      <th>...</th>\n",
       "      <td>...</td>\n",
       "    </tr>\n",
       "    <tr>\n",
       "      <th>1194</th>\n",
       "      <td>0.6000</td>\n",
       "    </tr>\n",
       "    <tr>\n",
       "      <th>1195</th>\n",
       "      <td>0.6000</td>\n",
       "    </tr>\n",
       "    <tr>\n",
       "      <th>1196</th>\n",
       "      <td>0.4000</td>\n",
       "    </tr>\n",
       "    <tr>\n",
       "      <th>1197</th>\n",
       "      <td>0.4000</td>\n",
       "    </tr>\n",
       "    <tr>\n",
       "      <th>1198</th>\n",
       "      <td>0.4000</td>\n",
       "    </tr>\n",
       "  </tbody>\n",
       "</table>\n",
       "<p>1199 rows × 1 columns</p>\n",
       "</div>"
      ],
      "text/plain": [
       "          0\n",
       "0    0.4000\n",
       "1    0.8000\n",
       "2    0.4000\n",
       "3    1.0000\n",
       "4    0.6000\n",
       "...     ...\n",
       "1194 0.6000\n",
       "1195 0.6000\n",
       "1196 0.4000\n",
       "1197 0.4000\n",
       "1198 0.4000\n",
       "\n",
       "[1199 rows x 1 columns]"
      ]
     },
     "execution_count": 75,
     "metadata": {},
     "output_type": "execute_result"
    }
   ],
   "source": [
    "pd.DataFrame(ys)"
   ]
  },
  {
   "cell_type": "markdown",
   "metadata": {
    "id": "KSJ4j8ix7uYN"
   },
   "source": [
    "## Modelado "
   ]
  },
  {
   "cell_type": "markdown",
   "metadata": {
    "id": "3uQVLQVmZW_Z"
   },
   "source": [
    "### Regresión"
   ]
  },
  {
   "cell_type": "markdown",
   "metadata": {
    "cell_style": "split",
    "id": "Y_2ezMbbZW_a"
   },
   "source": [
    "#### Sin escalamiento"
   ]
  },
  {
   "cell_type": "markdown",
   "metadata": {
    "cell_style": "split",
    "id": "2kiJFtnbZW_a"
   },
   "source": [
    "#### Con escalamiento"
   ]
  },
  {
   "cell_type": "code",
   "execution_count": 76,
   "metadata": {
    "ExecuteTime": {
     "end_time": "2022-04-30T13:31:30.862616Z",
     "start_time": "2022-04-30T13:31:28.799027Z"
    },
    "cell_style": "split",
    "id": "oCuQW7Y17uYW",
    "outputId": "88b07649-b511-48b6-a836-82bb1fa4d02a"
   },
   "outputs": [
    {
     "name": "stderr",
     "output_type": "stream",
     "text": [
      "/home/jorge/Documents/Diplomado/ambientes/diplo_env/lib/python3.6/site-packages/sklearn/utils/validation.py:72: DataConversionWarning: A column-vector y was passed when a 1d array was expected. Please change the shape of y to (n_samples, ), for example using ravel().\n",
      "  return f(**kwargs)\n"
     ]
    },
    {
     "data": {
      "text/plain": [
       "(-4.011768584200453e+24, 3.7407286121141147e+24)"
      ]
     },
     "execution_count": 76,
     "metadata": {},
     "output_type": "execute_result"
    }
   ],
   "source": [
    "sgdr = SGDRegressor()\n",
    "sgdr.fit(X_train, y_train)\n",
    "ls_medias = cross_val_score(estimator=sgdr, X=X_train, y=y_train, cv = 4, n_jobs=-1, scoring=\"r2\")\n",
    "np.mean(ls_medias), np.std(ls_medias)"
   ]
  },
  {
   "cell_type": "code",
   "execution_count": 77,
   "metadata": {
    "ExecuteTime": {
     "end_time": "2022-04-30T13:31:55.748984Z",
     "start_time": "2022-04-30T13:31:55.199674Z"
    },
    "cell_style": "split",
    "id": "z3kM-cH2ZW_b",
    "outputId": "b16b9acf-98a2-47d9-82d0-782744b148ce"
   },
   "outputs": [
    {
     "name": "stderr",
     "output_type": "stream",
     "text": [
      "/home/jorge/Documents/Diplomado/ambientes/diplo_env/lib/python3.6/site-packages/sklearn/utils/validation.py:72: DataConversionWarning: A column-vector y was passed when a 1d array was expected. Please change the shape of y to (n_samples, ), for example using ravel().\n",
      "  return f(**kwargs)\n"
     ]
    },
    {
     "data": {
      "text/plain": [
       "(0.13775902797547374, 0.012499295935014611)"
      ]
     },
     "execution_count": 77,
     "metadata": {},
     "output_type": "execute_result"
    }
   ],
   "source": [
    "sgdr = SGDRegressor()\n",
    "sgdr.fit(Xs, ys)\n",
    "ls_medias = cross_val_score(estimator=sgdr, X=Xs, y=ys, cv = 4, n_jobs=-1, scoring=\"r2\")\n",
    "np.mean(ls_medias), np.std(ls_medias)\n"
   ]
  },
  {
   "cell_type": "code",
   "execution_count": 80,
   "metadata": {
    "ExecuteTime": {
     "end_time": "2022-04-30T13:39:19.679316Z",
     "start_time": "2022-04-30T13:39:19.646853Z"
    },
    "id": "MJq0ezdbZW_d"
   },
   "outputs": [],
   "source": [
    "SGDRegressor?"
   ]
  },
  {
   "cell_type": "code",
   "execution_count": 81,
   "metadata": {
    "ExecuteTime": {
     "end_time": "2022-04-30T13:39:58.330732Z",
     "start_time": "2022-04-30T13:39:58.306168Z"
    },
    "id": "MmgigFAlZW_d"
   },
   "outputs": [],
   "source": [
    "param_grid = {\"loss\": [\"squared_loss\", \"huber\"],\n",
    "              \"penalty\": [\"l2\", \"l1\", \"elasticnet\"],\n",
    "              \"alpha\": [x/100 for x in range(100)],\n",
    "              \"eta0\": [.1,.001,.0001,.4],\n",
    "              \"learning_rate\": [\"constant\", \"invscaling\", \"adaptive\"],\n",
    "             }"
   ]
  },
  {
   "cell_type": "code",
   "execution_count": 82,
   "metadata": {
    "ExecuteTime": {
     "end_time": "2022-04-30T13:40:03.433854Z",
     "start_time": "2022-04-30T13:40:03.422062Z"
    },
    "id": "0sjfNTn4ZW_e"
   },
   "outputs": [],
   "source": [
    "n_hyper = np.prod(list(map(len, param_grid.values())))"
   ]
  },
  {
   "cell_type": "code",
   "execution_count": 83,
   "metadata": {
    "ExecuteTime": {
     "end_time": "2022-04-30T13:40:04.191051Z",
     "start_time": "2022-04-30T13:40:04.177789Z"
    },
    "id": "xtURrYnqZW_e",
    "outputId": "438c7e18-eb06-43a6-f9f6-8e4dcd07d84a"
   },
   "outputs": [
    {
     "data": {
      "text/plain": [
       "7200"
      ]
     },
     "execution_count": 83,
     "metadata": {},
     "output_type": "execute_result"
    }
   ],
   "source": [
    "n_hyper"
   ]
  },
  {
   "cell_type": "code",
   "execution_count": 43,
   "metadata": {
    "ExecuteTime": {
     "end_time": "2022-04-30T05:38:05.501105Z",
     "start_time": "2022-04-30T05:37:23.865441Z"
    },
    "id": "POi4S6D5ZW_h",
    "outputId": "99e812f3-4ff9-4831-ee87-7c4483cd340d"
   },
   "outputs": [
    {
     "name": "stdout",
     "output_type": "stream",
     "text": [
      "Fitting 5 folds for each of 7200 candidates, totalling 36000 fits\n"
     ]
    },
    {
     "name": "stderr",
     "output_type": "stream",
     "text": [
      "[Parallel(n_jobs=-1)]: Using backend LokyBackend with 8 concurrent workers.\n",
      "[Parallel(n_jobs=-1)]: Done   2 tasks      | elapsed:    1.2s\n",
      "[Parallel(n_jobs=-1)]: Done  72 tasks      | elapsed:    1.4s\n",
      "[Parallel(n_jobs=-1)]: Done 1864 tasks      | elapsed:    3.9s\n",
      "[Parallel(n_jobs=-1)]: Done 5896 tasks      | elapsed:    7.5s\n",
      "[Parallel(n_jobs=-1)]: Done 11080 tasks      | elapsed:   12.5s\n",
      "[Parallel(n_jobs=-1)]: Done 17416 tasks      | elapsed:   18.9s\n",
      "[Parallel(n_jobs=-1)]: Done 24904 tasks      | elapsed:   28.2s\n",
      "[Parallel(n_jobs=-1)]: Done 33544 tasks      | elapsed:   38.4s\n",
      "[Parallel(n_jobs=-1)]: Done 36000 out of 36000 | elapsed:   41.4s finished\n",
      "/home/jorge/Documents/Diplomado/ambientes/diplo_env/lib/python3.6/site-packages/sklearn/utils/validation.py:72: DataConversionWarning: A column-vector y was passed when a 1d array was expected. Please change the shape of y to (n_samples, ), for example using ravel().\n",
      "  return f(**kwargs)\n"
     ]
    },
    {
     "data": {
      "text/plain": [
       "0.3449310586697679"
      ]
     },
     "execution_count": 43,
     "metadata": {},
     "output_type": "execute_result"
    }
   ],
   "source": [
    "model = SGDRegressor(alpha=0.01)\n",
    "hyper = GridSearchCV(estimator=model, n_jobs=-1, scoring=\"r2\", param_grid=param_grid, error_score=-1000, verbose=5)\n",
    "hyper.fit(Xs, ys)\n",
    "hyper.best_score_"
   ]
  },
  {
   "cell_type": "code",
   "execution_count": 44,
   "metadata": {
    "ExecuteTime": {
     "end_time": "2022-04-30T05:38:36.910656Z",
     "start_time": "2022-04-30T05:38:36.901992Z"
    },
    "id": "aERs80WwZW_h",
    "outputId": "09f77334-d031-432c-a7c4-df32df02cbf3"
   },
   "outputs": [
    {
     "data": {
      "text/plain": [
       "SGDRegressor(alpha=0.0, eta0=0.1, learning_rate='adaptive')"
      ]
     },
     "execution_count": 44,
     "metadata": {},
     "output_type": "execute_result"
    }
   ],
   "source": [
    "hyper.best_estimator_"
   ]
  },
  {
   "cell_type": "code",
   "execution_count": 45,
   "metadata": {
    "ExecuteTime": {
     "end_time": "2022-04-30T05:38:39.099967Z",
     "start_time": "2022-04-30T05:38:39.089688Z"
    },
    "id": "tC9f_lqRZW_i",
    "outputId": "547b0240-7415-47fb-c3bf-f82e450335d2"
   },
   "outputs": [
    {
     "data": {
      "text/plain": [
       "array([[5.75716195]])"
      ]
     },
     "execution_count": 45,
     "metadata": {},
     "output_type": "execute_result"
    }
   ],
   "source": [
    "mms_y.inverse_transform([hyper.best_estimator_.intercept_])"
   ]
  },
  {
   "cell_type": "markdown",
   "metadata": {
    "id": "XveDrrs6ZW_k"
   },
   "source": [
    "#### Hyperparametrización"
   ]
  },
  {
   "cell_type": "markdown",
   "metadata": {
    "cell_style": "split",
    "id": "mYN6gInMZW_k"
   },
   "source": [
    "##### Sin escalamiento"
   ]
  },
  {
   "cell_type": "markdown",
   "metadata": {
    "cell_style": "split",
    "id": "2r5t73-vZW_k"
   },
   "source": [
    "##### Con escalamiento"
   ]
  },
  {
   "cell_type": "code",
   "execution_count": 46,
   "metadata": {
    "ExecuteTime": {
     "end_time": "2022-04-30T05:39:22.494927Z",
     "start_time": "2022-04-30T05:38:52.761290Z"
    },
    "cell_style": "split",
    "id": "JcvE_9j0ZW_l",
    "outputId": "d4344fe4-5173-42d8-accd-b52f8b41a54a"
   },
   "outputs": [
    {
     "name": "stdout",
     "output_type": "stream",
     "text": [
      "Fitting 5 folds for each of 1800 candidates, totalling 9000 fits\n"
     ]
    },
    {
     "name": "stderr",
     "output_type": "stream",
     "text": [
      "[Parallel(n_jobs=-1)]: Using backend LokyBackend with 8 concurrent workers.\n",
      "[Parallel(n_jobs=-1)]: Done  34 tasks      | elapsed:    0.7s\n",
      "[Parallel(n_jobs=-1)]: Done 1800 tasks      | elapsed:    6.9s\n",
      "[Parallel(n_jobs=-1)]: Done 5800 tasks      | elapsed:   20.7s\n"
     ]
    },
    {
     "name": "stdout",
     "output_type": "stream",
     "text": [
      "CPU times: user 10.8 s, sys: 116 ms, total: 10.9 s\n",
      "Wall time: 29.7 s\n"
     ]
    },
    {
     "name": "stderr",
     "output_type": "stream",
     "text": [
      "[Parallel(n_jobs=-1)]: Done 9000 out of 9000 | elapsed:   29.6s finished\n",
      "/home/jorge/Documents/Diplomado/ambientes/diplo_env/lib/python3.6/site-packages/sklearn/utils/validation.py:72: DataConversionWarning: A column-vector y was passed when a 1d array was expected. Please change the shape of y to (n_samples, ), for example using ravel().\n",
      "  return f(**kwargs)\n"
     ]
    },
    {
     "data": {
      "text/plain": [
       "0.2894364630721356"
      ]
     },
     "execution_count": 46,
     "metadata": {},
     "output_type": "execute_result"
    }
   ],
   "source": [
    "%%time\n",
    "model = SGDRegressor()\n",
    "hyper = RandomizedSearchCV(estimator=model, n_jobs=-1, scoring=\"r2\", param_distributions=param_grid, error_score=-1000, verbose=1, n_iter=int(n_hyper*.25), random_state=777)\n",
    "hyper.fit(X_train, y_train)\n",
    "hyper.best_score_"
   ]
  },
  {
   "cell_type": "code",
   "execution_count": 47,
   "metadata": {
    "ExecuteTime": {
     "end_time": "2022-04-30T05:39:42.779465Z",
     "start_time": "2022-04-30T05:39:29.869059Z"
    },
    "cell_style": "split",
    "id": "stD8RjqTZW_m",
    "outputId": "a3af1be2-5028-40cd-9083-adaadc3934b4"
   },
   "outputs": [
    {
     "name": "stdout",
     "output_type": "stream",
     "text": [
      "Fitting 5 folds for each of 1800 candidates, totalling 9000 fits\n"
     ]
    },
    {
     "name": "stderr",
     "output_type": "stream",
     "text": [
      "[Parallel(n_jobs=-1)]: Using backend LokyBackend with 8 concurrent workers.\n",
      "[Parallel(n_jobs=-1)]: Done  56 tasks      | elapsed:    0.3s\n",
      "[Parallel(n_jobs=-1)]: Done 3824 tasks      | elapsed:    6.1s\n"
     ]
    },
    {
     "name": "stdout",
     "output_type": "stream",
     "text": [
      "CPU times: user 9.38 s, sys: 120 ms, total: 9.5 s\n",
      "Wall time: 12.9 s\n"
     ]
    },
    {
     "name": "stderr",
     "output_type": "stream",
     "text": [
      "[Parallel(n_jobs=-1)]: Done 9000 out of 9000 | elapsed:   12.8s finished\n",
      "/home/jorge/Documents/Diplomado/ambientes/diplo_env/lib/python3.6/site-packages/sklearn/utils/validation.py:72: DataConversionWarning: A column-vector y was passed when a 1d array was expected. Please change the shape of y to (n_samples, ), for example using ravel().\n",
      "  return f(**kwargs)\n"
     ]
    },
    {
     "data": {
      "text/plain": [
       "0.34419307479820205"
      ]
     },
     "execution_count": 47,
     "metadata": {},
     "output_type": "execute_result"
    }
   ],
   "source": [
    "%%time\n",
    "model = SGDRegressor()\n",
    "hyper = RandomizedSearchCV(estimator=model, n_jobs=-1, scoring=\"r2\", param_distributions=param_grid, error_score=-1000, verbose=1, n_iter=int(n_hyper*.25), random_state=777)\n",
    "hyper.fit(Xs, ys)\n",
    "hyper.best_score_"
   ]
  },
  {
   "cell_type": "code",
   "execution_count": 48,
   "metadata": {
    "ExecuteTime": {
     "end_time": "2022-04-30T05:39:49.143277Z",
     "start_time": "2022-04-30T05:39:49.128157Z"
    },
    "id": "DmWmojlxZW_m",
    "outputId": "b8b29ee0-ca4c-4237-8ea1-65b454ef798a"
   },
   "outputs": [
    {
     "data": {
      "text/plain": [
       "Index(['fixed acidity', 'volatile acidity', 'citric acid', 'residual sugar',\n",
       "       'chlorides', 'free sulfur dioxide', 'total sulfur dioxide', 'density',\n",
       "       'pH', 'sulphates', 'alcohol'],\n",
       "      dtype='object')"
      ]
     },
     "execution_count": 48,
     "metadata": {},
     "output_type": "execute_result"
    }
   ],
   "source": [
    "X_train.columns"
   ]
  },
  {
   "cell_type": "code",
   "execution_count": 49,
   "metadata": {
    "ExecuteTime": {
     "end_time": "2022-04-30T05:39:53.786039Z",
     "start_time": "2022-04-30T05:39:53.778528Z"
    },
    "id": "jezRZzE6ZW_n",
    "outputId": "d6044948-2db5-4eb8-9c61-2698c55db7a4"
   },
   "outputs": [
    {
     "data": {
      "text/plain": [
       "array([ 0.05135016, -0.30108365, -0.02036286,  0.11180294, -0.26081174,\n",
       "        0.04968504, -0.21021519, -0.09266913, -0.06281409,  0.35214008,\n",
       "        0.31725174])"
      ]
     },
     "execution_count": 49,
     "metadata": {},
     "output_type": "execute_result"
    }
   ],
   "source": [
    "hyper.best_estimator_.coef_"
   ]
  },
  {
   "cell_type": "markdown",
   "metadata": {
    "id": "Dcft-H0x7uYt"
   },
   "source": [
    "### Clasificación "
   ]
  },
  {
   "cell_type": "code",
   "execution_count": 84,
   "metadata": {
    "ExecuteTime": {
     "end_time": "2022-04-30T13:46:20.486293Z",
     "start_time": "2022-04-30T13:46:20.482114Z"
    },
    "id": "G511acy0ZW_p"
   },
   "outputs": [],
   "source": [
    "y_train_c = (y_train >= y_train.mean())*1"
   ]
  },
  {
   "cell_type": "code",
   "execution_count": 85,
   "metadata": {
    "ExecuteTime": {
     "end_time": "2022-04-30T13:46:21.908817Z",
     "start_time": "2022-04-30T13:46:21.895428Z"
    }
   },
   "outputs": [],
   "source": [
    "y_test_c = (y_test >= y_train.mean())*1"
   ]
  },
  {
   "cell_type": "code",
   "execution_count": 86,
   "metadata": {
    "ExecuteTime": {
     "end_time": "2022-04-30T13:46:23.785562Z",
     "start_time": "2022-04-30T13:46:23.771129Z"
    }
   },
   "outputs": [
    {
     "data": {
      "text/html": [
       "<div>\n",
       "<style scoped>\n",
       "    .dataframe tbody tr th:only-of-type {\n",
       "        vertical-align: middle;\n",
       "    }\n",
       "\n",
       "    .dataframe tbody tr th {\n",
       "        vertical-align: top;\n",
       "    }\n",
       "\n",
       "    .dataframe thead th {\n",
       "        text-align: right;\n",
       "    }\n",
       "</style>\n",
       "<table border=\"1\" class=\"dataframe\">\n",
       "  <thead>\n",
       "    <tr style=\"text-align: right;\">\n",
       "      <th></th>\n",
       "      <th>quality</th>\n",
       "    </tr>\n",
       "  </thead>\n",
       "  <tbody>\n",
       "    <tr>\n",
       "      <th>977</th>\n",
       "      <td>0</td>\n",
       "    </tr>\n",
       "    <tr>\n",
       "      <th>243</th>\n",
       "      <td>1</td>\n",
       "    </tr>\n",
       "    <tr>\n",
       "      <th>688</th>\n",
       "      <td>0</td>\n",
       "    </tr>\n",
       "    <tr>\n",
       "      <th>1403</th>\n",
       "      <td>1</td>\n",
       "    </tr>\n",
       "    <tr>\n",
       "      <th>232</th>\n",
       "      <td>1</td>\n",
       "    </tr>\n",
       "    <tr>\n",
       "      <th>...</th>\n",
       "      <td>...</td>\n",
       "    </tr>\n",
       "    <tr>\n",
       "      <th>405</th>\n",
       "      <td>1</td>\n",
       "    </tr>\n",
       "    <tr>\n",
       "      <th>1158</th>\n",
       "      <td>1</td>\n",
       "    </tr>\n",
       "    <tr>\n",
       "      <th>456</th>\n",
       "      <td>0</td>\n",
       "    </tr>\n",
       "    <tr>\n",
       "      <th>864</th>\n",
       "      <td>0</td>\n",
       "    </tr>\n",
       "    <tr>\n",
       "      <th>969</th>\n",
       "      <td>0</td>\n",
       "    </tr>\n",
       "  </tbody>\n",
       "</table>\n",
       "<p>1199 rows × 1 columns</p>\n",
       "</div>"
      ],
      "text/plain": [
       "      quality\n",
       "977         0\n",
       "243         1\n",
       "688         0\n",
       "1403        1\n",
       "232         1\n",
       "...       ...\n",
       "405         1\n",
       "1158        1\n",
       "456         0\n",
       "864         0\n",
       "969         0\n",
       "\n",
       "[1199 rows x 1 columns]"
      ]
     },
     "execution_count": 86,
     "metadata": {},
     "output_type": "execute_result"
    }
   ],
   "source": [
    "y_train_c"
   ]
  },
  {
   "cell_type": "code",
   "execution_count": 87,
   "metadata": {
    "ExecuteTime": {
     "end_time": "2022-04-30T13:47:28.633884Z",
     "start_time": "2022-04-30T13:47:27.174888Z"
    },
    "id": "n1_5W_Sw7uYy",
    "outputId": "a6d2f7ce-d8f6-4382-f0a4-d0ed814debb6"
   },
   "outputs": [
    {
     "name": "stderr",
     "output_type": "stream",
     "text": [
      "/home/jorge/Documents/Diplomado/ambientes/diplo_env/lib/python3.6/site-packages/sklearn/utils/validation.py:72: DataConversionWarning: A column-vector y was passed when a 1d array was expected. Please change the shape of y to (n_samples, ), for example using ravel().\n",
      "  return f(**kwargs)\n"
     ]
    },
    {
     "data": {
      "text/plain": [
       "(0.6761036269329587, 0.09805636039853506)"
      ]
     },
     "execution_count": 87,
     "metadata": {},
     "output_type": "execute_result"
    }
   ],
   "source": [
    "sgdc = SGDClassifier()\n",
    "sgdc.fit(X_train, y_train_c)\n",
    "ls_medias = cross_val_score(estimator=sgdc, X=X_train, y = y_train_c, cv = 4, n_jobs=-1, scoring=\"roc_auc\")\n",
    "np.mean(ls_medias), np.std(ls_medias)"
   ]
  },
  {
   "cell_type": "code",
   "execution_count": 53,
   "metadata": {
    "ExecuteTime": {
     "end_time": "2022-04-30T05:40:09.399808Z",
     "start_time": "2022-04-30T05:40:09.379695Z"
    },
    "id": "OUtRYPlH7uZD"
   },
   "outputs": [],
   "source": [
    "SGDClassifier?"
   ]
  },
  {
   "cell_type": "code",
   "execution_count": 88,
   "metadata": {
    "ExecuteTime": {
     "end_time": "2022-04-30T13:49:37.626310Z",
     "start_time": "2022-04-30T13:49:37.617430Z"
    },
    "id": "MfpLPza3ZW_r"
   },
   "outputs": [],
   "source": [
    "param_grid = {\"loss\": [\"hinge\", \"log\", \"modified_huber\", \"squared_hinge\", \"perceptron\"],\n",
    "              \"penalty\": [\"l2\", \"l1\", \"elasticnet\"],\n",
    "              \"alpha\": [x/100+0.01 for x in range(100)],\n",
    "              \"l1_ratio\": [x/10 for x in range(10)],\n",
    "              \"learning_rate\": [\"constant\", \"optimal\", \"invscaling\", \"adaptive\"],\n",
    "              \"eta0\": [0.001,.01,.5,.00001]\n",
    "             }"
   ]
  },
  {
   "cell_type": "code",
   "execution_count": 89,
   "metadata": {
    "ExecuteTime": {
     "end_time": "2022-04-30T13:49:47.570105Z",
     "start_time": "2022-04-30T13:49:47.555009Z"
    },
    "id": "quIHI5hpZW_r"
   },
   "outputs": [],
   "source": [
    "n_hyper = np.prod(list(map(len, param_grid.values())))"
   ]
  },
  {
   "cell_type": "code",
   "execution_count": 90,
   "metadata": {
    "ExecuteTime": {
     "end_time": "2022-04-30T13:49:48.492889Z",
     "start_time": "2022-04-30T13:49:48.485661Z"
    },
    "id": "1WZlaFl6ZW_r",
    "outputId": "a02c50b8-1919-4f25-9d7e-6e1d3a04166f"
   },
   "outputs": [
    {
     "data": {
      "text/plain": [
       "240000"
      ]
     },
     "execution_count": 90,
     "metadata": {},
     "output_type": "execute_result"
    }
   ],
   "source": [
    "n_hyper"
   ]
  },
  {
   "cell_type": "markdown",
   "metadata": {
    "id": "88rpjFBsZW_s"
   },
   "source": [
    "#### Hyperparametrización"
   ]
  },
  {
   "cell_type": "markdown",
   "metadata": {
    "cell_style": "split",
    "id": "nCMZ_jJpZW_s"
   },
   "source": [
    "##### Sin escalamiento"
   ]
  },
  {
   "cell_type": "markdown",
   "metadata": {
    "cell_style": "split",
    "id": "XccY0obWZW_t"
   },
   "source": [
    "##### Con escalamiento"
   ]
  },
  {
   "cell_type": "code",
   "execution_count": 57,
   "metadata": {
    "ExecuteTime": {
     "end_time": "2022-04-30T05:48:54.462742Z",
     "start_time": "2022-04-30T05:41:21.730068Z"
    },
    "cell_style": "split",
    "id": "ea9OEnmHZW_t",
    "outputId": "d6766dd2-0635-4c0c-b8f3-1daaf56cb05e"
   },
   "outputs": [
    {
     "name": "stdout",
     "output_type": "stream",
     "text": [
      "Fitting 4 folds for each of 24000 candidates, totalling 96000 fits\n"
     ]
    },
    {
     "name": "stderr",
     "output_type": "stream",
     "text": [
      "[Parallel(n_jobs=-1)]: Using backend LokyBackend with 8 concurrent workers.\n",
      "[Parallel(n_jobs=-1)]: Done  52 tasks      | elapsed:    0.4s\n",
      "[Parallel(n_jobs=-1)]: Done 1104 tasks      | elapsed:    6.0s\n",
      "[Parallel(n_jobs=-1)]: Done 3104 tasks      | elapsed:   12.4s\n",
      "[Parallel(n_jobs=-1)]: Done 5904 tasks      | elapsed:   21.6s\n",
      "[Parallel(n_jobs=-1)]: Done 9504 tasks      | elapsed:   34.9s\n",
      "[Parallel(n_jobs=-1)]: Done 13904 tasks      | elapsed:   54.7s\n",
      "[Parallel(n_jobs=-1)]: Done 19104 tasks      | elapsed:  1.3min\n",
      "[Parallel(n_jobs=-1)]: Done 25104 tasks      | elapsed:  1.7min\n",
      "[Parallel(n_jobs=-1)]: Done 31904 tasks      | elapsed:  2.1min\n",
      "[Parallel(n_jobs=-1)]: Done 39504 tasks      | elapsed:  2.8min\n",
      "[Parallel(n_jobs=-1)]: Done 47904 tasks      | elapsed:  3.6min\n",
      "[Parallel(n_jobs=-1)]: Done 57104 tasks      | elapsed:  4.4min\n",
      "[Parallel(n_jobs=-1)]: Done 67104 tasks      | elapsed:  5.2min\n",
      "[Parallel(n_jobs=-1)]: Done 77904 tasks      | elapsed:  6.0min\n",
      "[Parallel(n_jobs=-1)]: Done 89504 tasks      | elapsed:  6.8min\n",
      "[Parallel(n_jobs=-1)]: Done 95985 out of 96000 | elapsed:  7.5min remaining:    0.1s\n",
      "[Parallel(n_jobs=-1)]: Done 96000 out of 96000 | elapsed:  7.5min finished\n"
     ]
    },
    {
     "name": "stdout",
     "output_type": "stream",
     "text": [
      "CPU times: user 3min 3s, sys: 2.45 s, total: 3min 5s\n",
      "Wall time: 7min 32s\n"
     ]
    },
    {
     "name": "stderr",
     "output_type": "stream",
     "text": [
      "/home/jorge/Documents/Diplomado/ambientes/diplo_env/lib/python3.6/site-packages/sklearn/utils/validation.py:72: DataConversionWarning: A column-vector y was passed when a 1d array was expected. Please change the shape of y to (n_samples, ), for example using ravel().\n",
      "  return f(**kwargs)\n"
     ]
    },
    {
     "data": {
      "text/plain": [
       "0.8005960736069531"
      ]
     },
     "execution_count": 57,
     "metadata": {},
     "output_type": "execute_result"
    }
   ],
   "source": [
    "%%time\n",
    "model = SGDClassifier()\n",
    "hyper = RandomizedSearchCV(estimator=model, n_jobs=-1, scoring=\"roc_auc\", param_distributions=param_grid, error_score=-1000, verbose=1, n_iter=int(n_hyper*.1), random_state=777, cv = 4)\n",
    "hyper.fit(X_train, y_train_c)\n",
    "hyper.best_score_"
   ]
  },
  {
   "cell_type": "code",
   "execution_count": 58,
   "metadata": {
    "ExecuteTime": {
     "end_time": "2022-04-30T05:52:21.545763Z",
     "start_time": "2022-04-30T05:49:10.331166Z"
    },
    "cell_style": "split",
    "id": "OW7WA-gUZW_u",
    "outputId": "0fda34bc-3369-4f44-d4ea-d5e1408943a0",
    "scrolled": false
   },
   "outputs": [
    {
     "name": "stdout",
     "output_type": "stream",
     "text": [
      "Fitting 4 folds for each of 24000 candidates, totalling 96000 fits\n"
     ]
    },
    {
     "name": "stderr",
     "output_type": "stream",
     "text": [
      "[Parallel(n_jobs=-1)]: Using backend LokyBackend with 8 concurrent workers.\n",
      "[Parallel(n_jobs=-1)]: Done  56 tasks      | elapsed:    0.4s\n",
      "[Parallel(n_jobs=-1)]: Done 2160 tasks      | elapsed:    5.0s\n",
      "[Parallel(n_jobs=-1)]: Done 6160 tasks      | elapsed:   12.1s\n",
      "[Parallel(n_jobs=-1)]: Done 11760 tasks      | elapsed:   19.9s\n",
      "[Parallel(n_jobs=-1)]: Done 18960 tasks      | elapsed:   32.4s\n",
      "[Parallel(n_jobs=-1)]: Done 27760 tasks      | elapsed:   48.8s\n",
      "[Parallel(n_jobs=-1)]: Done 38160 tasks      | elapsed:  1.1min\n",
      "[Parallel(n_jobs=-1)]: Done 50160 tasks      | elapsed:  1.6min\n",
      "[Parallel(n_jobs=-1)]: Done 63760 tasks      | elapsed:  2.1min\n",
      "[Parallel(n_jobs=-1)]: Done 78960 tasks      | elapsed:  2.6min\n",
      "[Parallel(n_jobs=-1)]: Done 95760 tasks      | elapsed:  3.2min\n",
      "[Parallel(n_jobs=-1)]: Done 96000 out of 96000 | elapsed:  3.2min finished\n"
     ]
    },
    {
     "name": "stdout",
     "output_type": "stream",
     "text": [
      "CPU times: user 2min 14s, sys: 1.7 s, total: 2min 15s\n",
      "Wall time: 3min 11s\n"
     ]
    },
    {
     "data": {
      "text/plain": [
       "0.8134435673510881"
      ]
     },
     "execution_count": 58,
     "metadata": {},
     "output_type": "execute_result"
    }
   ],
   "source": [
    "%%time\n",
    "model = SGDClassifier()\n",
    "hyper = RandomizedSearchCV(estimator=model, n_jobs=-1, scoring=\"roc_auc\", param_distributions=param_grid, error_score=-1000, verbose=1, n_iter=int(n_hyper*.1), random_state=777, cv=4)\n",
    "hyper.fit(Xs, y_train_c.values.ravel())\n",
    "hyper.best_score_"
   ]
  },
  {
   "cell_type": "code",
   "execution_count": 59,
   "metadata": {
    "ExecuteTime": {
     "end_time": "2022-04-30T05:52:43.694461Z",
     "start_time": "2022-04-30T05:52:43.684300Z"
    },
    "id": "2kGN-Ta5ZW_u",
    "outputId": "8b153bde-1767-4e74-d6ad-61a20bfe07af"
   },
   "outputs": [
    {
     "data": {
      "text/plain": [
       "array([[ 0.00093973, -0.00164159, -0.00064508,  0.00065021, -0.00129728,\n",
       "         0.00048913, -0.00397147, -0.00045614,  0.00046105,  0.00511071,\n",
       "         0.00502576]])"
      ]
     },
     "execution_count": 59,
     "metadata": {},
     "output_type": "execute_result"
    }
   ],
   "source": [
    "hyper.best_estimator_.coef_"
   ]
  },
  {
   "cell_type": "code",
   "execution_count": 60,
   "metadata": {
    "ExecuteTime": {
     "end_time": "2022-04-30T05:53:09.091232Z",
     "start_time": "2022-04-30T05:53:09.084282Z"
    },
    "id": "gRvXmJQBZW_v"
   },
   "outputs": [],
   "source": [
    "model_best=hyper.best_estimator_"
   ]
  },
  {
   "cell_type": "code",
   "execution_count": 61,
   "metadata": {
    "ExecuteTime": {
     "end_time": "2022-04-30T05:54:04.291264Z",
     "start_time": "2022-04-30T05:54:04.280692Z"
    }
   },
   "outputs": [],
   "source": [
    "from sklearn.metrics import classification_report"
   ]
  },
  {
   "cell_type": "code",
   "execution_count": 63,
   "metadata": {
    "ExecuteTime": {
     "end_time": "2022-04-30T05:54:59.033055Z",
     "start_time": "2022-04-30T05:54:59.004755Z"
    }
   },
   "outputs": [
    {
     "name": "stdout",
     "output_type": "stream",
     "text": [
      "              precision    recall  f1-score   support\n",
      "\n",
      "           0       0.49      0.87      0.63       557\n",
      "           1       0.66      0.22      0.33       642\n",
      "\n",
      "    accuracy                           0.52      1199\n",
      "   macro avg       0.57      0.54      0.48      1199\n",
      "weighted avg       0.58      0.52      0.47      1199\n",
      "\n"
     ]
    }
   ],
   "source": [
    "print(classification_report(y_train_c, model_best.predict(X_train)))"
   ]
  },
  {
   "cell_type": "code",
   "execution_count": 67,
   "metadata": {
    "ExecuteTime": {
     "end_time": "2022-04-30T05:56:08.201700Z",
     "start_time": "2022-04-30T05:56:08.173029Z"
    }
   },
   "outputs": [
    {
     "name": "stdout",
     "output_type": "stream",
     "text": [
      "              precision    recall  f1-score   support\n",
      "\n",
      "           0       0.48      0.85      0.61       187\n",
      "           1       0.58      0.18      0.28       213\n",
      "\n",
      "    accuracy                           0.49       400\n",
      "   macro avg       0.53      0.52      0.45       400\n",
      "weighted avg       0.53      0.49      0.43       400\n",
      "\n"
     ]
    }
   ],
   "source": [
    "print(classification_report(y_test_c, model_best.predict(X_test)))"
   ]
  },
  {
   "cell_type": "code",
   "execution_count": null,
   "metadata": {},
   "outputs": [],
   "source": []
  }
 ],
 "metadata": {
  "colab": {
   "name": "Gradiente Estocástico Descendente.ipynb",
   "provenance": []
  },
  "kernelspec": {
   "display_name": "diplo_env",
   "language": "python",
   "name": "diplo_env"
  },
  "language_info": {
   "codemirror_mode": {
    "name": "ipython",
    "version": 3
   },
   "file_extension": ".py",
   "mimetype": "text/x-python",
   "name": "python",
   "nbconvert_exporter": "python",
   "pygments_lexer": "ipython3",
   "version": "3.6.13"
  },
  "notify_time": "5",
  "varInspector": {
   "cols": {
    "lenName": 16,
    "lenType": 16,
    "lenVar": 40
   },
   "kernels_config": {
    "python": {
     "delete_cmd_postfix": "",
     "delete_cmd_prefix": "del ",
     "library": "var_list.py",
     "varRefreshCmd": "print(var_dic_list())"
    },
    "r": {
     "delete_cmd_postfix": ") ",
     "delete_cmd_prefix": "rm(",
     "library": "var_list.r",
     "varRefreshCmd": "cat(var_dic_list()) "
    }
   },
   "types_to_exclude": [
    "module",
    "function",
    "builtin_function_or_method",
    "instance",
    "_Feature"
   ],
   "window_display": false
  }
 },
 "nbformat": 4,
 "nbformat_minor": 1
}
