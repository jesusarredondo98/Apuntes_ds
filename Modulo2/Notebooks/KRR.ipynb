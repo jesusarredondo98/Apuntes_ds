{
 "cells": [
  {
   "cell_type": "code",
   "execution_count": 2,
   "metadata": {
    "ExecuteTime": {
     "end_time": "2022-05-06T00:45:00.170564Z",
     "start_time": "2022-05-06T00:44:59.413568Z"
    },
    "id": "UAg9eRZ7ZU8Y"
   },
   "outputs": [],
   "source": [
    "from sklearn.model_selection import cross_val_score, train_test_split, RandomizedSearchCV, GridSearchCV\n",
    "from sklearn.preprocessing import MinMaxScaler\n",
    "from sklearn.kernel_ridge import KernelRidge\n",
    "from sklearn.datasets import load_boston\n",
    "from sklearn.linear_model import Ridge\n",
    "from sklearn.metrics import r2_score\n",
    "import pandas as pd\n",
    "import numpy as np\n",
    "\n",
    "pd.set_option(\"display.max_columns\", 100)"
   ]
  },
  {
   "cell_type": "markdown",
   "metadata": {
    "id": "HuNNkKB6ZU8Z"
   },
   "source": [
    "## Carga de datos"
   ]
  },
  {
   "cell_type": "code",
   "execution_count": 2,
   "metadata": {
    "ExecuteTime": {
     "end_time": "2021-08-12T19:20:12.848302Z",
     "start_time": "2021-08-12T19:20:12.826920Z"
    },
    "id": "Q-PD7uMtZU8a"
   },
   "outputs": [],
   "source": [
    "boston = load_boston()\n",
    "df = pd.DataFrame(data = boston[\"data\"], columns=boston[\"feature_names\"])\n",
    "df[\"target\"] = boston[\"target\"]\n",
    "tgt = \"target\"\n",
    "ls_features = [x for x in df.columns if x not in [tgt]]"
   ]
  },
  {
   "cell_type": "markdown",
   "metadata": {
    "id": "sXRFiRXkZU8a"
   },
   "source": [
    "## Preparación de datos"
   ]
  },
  {
   "cell_type": "code",
   "execution_count": 3,
   "metadata": {
    "ExecuteTime": {
     "end_time": "2021-08-12T19:20:13.592567Z",
     "start_time": "2021-08-12T19:20:13.582698Z"
    },
    "id": "QL_huEXAZU8b"
   },
   "outputs": [],
   "source": [
    "X = df[ls_features]\n",
    "y = df[[tgt]]"
   ]
  },
  {
   "cell_type": "code",
   "execution_count": 4,
   "metadata": {
    "ExecuteTime": {
     "end_time": "2021-08-12T19:20:13.914127Z",
     "start_time": "2021-08-12T19:20:13.908841Z"
    },
    "id": "3hMJV89wZU8b"
   },
   "outputs": [],
   "source": [
    "X_train, X_test, y_train, y_test = train_test_split(X, y, train_size = 0.7)"
   ]
  },
  {
   "cell_type": "code",
   "execution_count": 5,
   "metadata": {
    "ExecuteTime": {
     "end_time": "2021-08-12T19:20:14.309795Z",
     "start_time": "2021-08-12T19:20:14.299282Z"
    },
    "id": "UPT6IF4xZU8c"
   },
   "outputs": [],
   "source": [
    "mm_x = MinMaxScaler()\n",
    "mm_y = MinMaxScaler()"
   ]
  },
  {
   "cell_type": "code",
   "execution_count": 6,
   "metadata": {
    "ExecuteTime": {
     "end_time": "2021-08-12T19:20:14.753642Z",
     "start_time": "2021-08-12T19:20:14.715929Z"
    },
    "id": "CJ7s0eFNZU8c"
   },
   "outputs": [],
   "source": [
    "Xs = mm_x.fit_transform(X_train) \n",
    "ys = mm_y.fit_transform(y_train)"
   ]
  },
  {
   "cell_type": "markdown",
   "metadata": {
    "id": "7iXhai-jZU8c"
   },
   "source": [
    "## Modelado"
   ]
  },
  {
   "cell_type": "markdown",
   "metadata": {
    "cell_style": "center",
    "id": "7_xQcZH6ZU8d"
   },
   "source": [
    "### Ridge Regression"
   ]
  },
  {
   "cell_type": "code",
   "execution_count": 7,
   "metadata": {
    "ExecuteTime": {
     "end_time": "2021-08-12T19:20:15.893583Z",
     "start_time": "2021-08-12T19:20:15.882436Z"
    },
    "cell_style": "center",
    "id": "6F5Ht3QRZU8d"
   },
   "outputs": [],
   "source": [
    "param_grid = {\n",
    "    \"alpha\": [x/1000 for x in range(1000)] + [x for x in range(100)],\n",
    "    \"solver\": ['auto', 'svd', 'cholesky', 'lsqr', 'sparse_cg', 'sag', 'saga']\n",
    "}"
   ]
  },
  {
   "cell_type": "code",
   "execution_count": 8,
   "metadata": {
    "ExecuteTime": {
     "end_time": "2021-08-12T19:20:40.111115Z",
     "start_time": "2021-08-12T19:20:21.625298Z"
    },
    "cell_style": "center",
    "id": "2l05HzroZU8d",
    "outputId": "312d2092-154e-483c-ad30-c8f9d204efd6"
   },
   "outputs": [
    {
     "name": "stdout",
     "output_type": "stream",
     "text": [
      "Fitting 4 folds for each of 7700 candidates, totalling 30800 fits\n"
     ]
    },
    {
     "name": "stderr",
     "output_type": "stream",
     "text": [
      "[Parallel(n_jobs=-1)]: Using backend LokyBackend with 8 concurrent workers.\n",
      "[Parallel(n_jobs=-1)]: Done   2 tasks      | elapsed:    1.3s\n",
      "[Parallel(n_jobs=-1)]: Done  75 tasks      | elapsed:    1.6s\n",
      "[Parallel(n_jobs=-1)]: Done 2696 tasks      | elapsed:    3.4s\n",
      "[Parallel(n_jobs=-1)]: Done 10760 tasks      | elapsed:    7.8s\n",
      "[Parallel(n_jobs=-1)]: Done 21128 tasks      | elapsed:   13.6s\n"
     ]
    },
    {
     "name": "stdout",
     "output_type": "stream",
     "text": [
      "Best score: 0.68302823719473\n",
      "Best estimator: Ridge(alpha=0.573, solver='sag')\n"
     ]
    },
    {
     "name": "stderr",
     "output_type": "stream",
     "text": [
      "[Parallel(n_jobs=-1)]: Done 30713 tasks      | elapsed:   18.3s\n",
      "[Parallel(n_jobs=-1)]: Done 30800 out of 30800 | elapsed:   18.4s finished\n"
     ]
    }
   ],
   "source": [
    "model = Ridge()\n",
    "model.fit(Xs, ys)\n",
    "clf = GridSearchCV(model, param_grid, cv=4, error_score=-1000, n_jobs=-1, scoring=\"r2\", verbose=5)\n",
    "clf.fit(Xs, ys)\n",
    "print(\"Best score: \" + str(clf.best_score_))\n",
    "print(\"Best estimator: \" + str(clf.best_estimator_))"
   ]
  },
  {
   "cell_type": "markdown",
   "metadata": {
    "cell_style": "center",
    "id": "wBYKv38XZU8f"
   },
   "source": [
    "### Kernel Ridge Regression"
   ]
  },
  {
   "cell_type": "code",
   "execution_count": 9,
   "metadata": {
    "ExecuteTime": {
     "end_time": "2021-08-12T19:20:47.150937Z",
     "start_time": "2021-08-12T19:20:47.136230Z"
    },
    "id": "J3-MMxPCZU8f"
   },
   "outputs": [],
   "source": [
    "param_grid = {\"alpha\": [x/100 for x in range(100)],\n",
    "              \"kernel\": ['linear', 'poly', 'rbf', 'sigmoid', \"chi2\", \"laplacian\", \"exponential\"], \n",
    "              \"degree\": [1, 2, 3],\n",
    "              \"gamma\": [x/10 for x in range(10)]}"
   ]
  },
  {
   "cell_type": "code",
   "execution_count": 10,
   "metadata": {
    "ExecuteTime": {
     "end_time": "2021-08-12T19:20:48.029099Z",
     "start_time": "2021-08-12T19:20:48.020237Z"
    },
    "id": "ZKgz_a4PZU8f"
   },
   "outputs": [],
   "source": [
    "n_hyper = np.product([x for x in map(len, param_grid.values())])"
   ]
  },
  {
   "cell_type": "code",
   "execution_count": 11,
   "metadata": {
    "ExecuteTime": {
     "end_time": "2021-08-12T19:20:48.474101Z",
     "start_time": "2021-08-12T19:20:48.438610Z"
    }
   },
   "outputs": [
    {
     "data": {
      "text/plain": [
       "21000"
      ]
     },
     "execution_count": 11,
     "metadata": {},
     "output_type": "execute_result"
    }
   ],
   "source": [
    "n_hyper"
   ]
  },
  {
   "cell_type": "code",
   "execution_count": 3,
   "metadata": {
    "ExecuteTime": {
     "end_time": "2022-05-06T00:45:08.967655Z",
     "start_time": "2022-05-06T00:45:08.959503Z"
    },
    "id": "3NVpigurZU8f",
    "outputId": "bb6ffe40-0d68-4b75-d33d-a9e518255582"
   },
   "outputs": [],
   "source": [
    "model = KernelRidge()"
   ]
  },
  {
   "cell_type": "code",
   "execution_count": 13,
   "metadata": {
    "ExecuteTime": {
     "end_time": "2021-08-12T19:20:49.294057Z",
     "start_time": "2021-08-12T19:20:49.216700Z"
    },
    "id": "3NVpigurZU8f",
    "outputId": "bb6ffe40-0d68-4b75-d33d-a9e518255582"
   },
   "outputs": [
    {
     "data": {
      "text/plain": [
       "KernelRidge()"
      ]
     },
     "execution_count": 13,
     "metadata": {},
     "output_type": "execute_result"
    }
   ],
   "source": [
    "model.fit(Xs, ys)"
   ]
  },
  {
   "cell_type": "code",
   "execution_count": 14,
   "metadata": {
    "ExecuteTime": {
     "end_time": "2021-08-12T19:21:32.197238Z",
     "start_time": "2021-08-12T19:20:49.570758Z"
    },
    "id": "3NVpigurZU8f",
    "outputId": "bb6ffe40-0d68-4b75-d33d-a9e518255582"
   },
   "outputs": [
    {
     "name": "stdout",
     "output_type": "stream",
     "text": [
      "Fitting 4 folds for each of 5250 candidates, totalling 21000 fits\n"
     ]
    },
    {
     "name": "stderr",
     "output_type": "stream",
     "text": [
      "[Parallel(n_jobs=-1)]: Using backend LokyBackend with 8 concurrent workers.\n",
      "[Parallel(n_jobs=-1)]: Done   2 tasks      | elapsed:    0.0s\n",
      "[Parallel(n_jobs=-1)]: Done 176 tasks      | elapsed:    0.5s\n",
      "[Parallel(n_jobs=-1)]: Done 1552 tasks      | elapsed:    2.6s\n",
      "[Parallel(n_jobs=-1)]: Done 3568 tasks      | elapsed:    5.8s\n",
      "[Parallel(n_jobs=-1)]: Done 6160 tasks      | elapsed:   11.2s\n",
      "[Parallel(n_jobs=-1)]: Done 9328 tasks      | elapsed:   20.2s\n",
      "[Parallel(n_jobs=-1)]: Done 13072 tasks      | elapsed:   29.1s\n",
      "[Parallel(n_jobs=-1)]: Done 17392 tasks      | elapsed:   36.4s\n"
     ]
    },
    {
     "name": "stdout",
     "output_type": "stream",
     "text": [
      "Best score: 0.8683511346010809\n"
     ]
    },
    {
     "name": "stderr",
     "output_type": "stream",
     "text": [
      "[Parallel(n_jobs=-1)]: Done 21000 out of 21000 | elapsed:   42.3s finished\n"
     ]
    }
   ],
   "source": [
    "clf = RandomizedSearchCV(model, param_grid, cv=4, error_score=-1000, n_jobs=-1, scoring=\"r2\", verbose=5, n_iter=n_hyper*.25)\n",
    "clf.fit(Xs, ys)\n",
    "print(\"Best score: \" + str(clf.best_score_))"
   ]
  },
  {
   "cell_type": "code",
   "execution_count": null,
   "metadata": {
    "ExecuteTime": {
     "end_time": "2021-08-12T19:21:32.305062Z",
     "start_time": "2021-08-12T19:20:49.997Z"
    },
    "id": "k1azJ1lVZU8g",
    "outputId": "6cf2c905-441a-49cc-b81f-4e96106ae9c2"
   },
   "outputs": [],
   "source": [
    "clf.best_score_"
   ]
  },
  {
   "cell_type": "code",
   "execution_count": null,
   "metadata": {
    "ExecuteTime": {
     "end_time": "2021-08-12T19:21:32.308315Z",
     "start_time": "2021-08-12T19:20:50.425Z"
    },
    "id": "cMjtmPoOZU8g",
    "outputId": "1e9c9055-fa94-4197-abd7-817485fe5187"
   },
   "outputs": [],
   "source": [
    "clf.best_estimator_"
   ]
  },
  {
   "cell_type": "markdown",
   "metadata": {
    "id": "vP9cPYp8ZU8h"
   },
   "source": [
    "### Pruebas del modelo ganador"
   ]
  },
  {
   "cell_type": "code",
   "execution_count": 15,
   "metadata": {
    "ExecuteTime": {
     "end_time": "2021-08-12T20:05:03.930992Z",
     "start_time": "2021-08-12T20:05:03.883058Z"
    },
    "id": "rDwChplPZU8h",
    "outputId": "5f66b8ba-2be3-45cd-aad5-e0075c75a801"
   },
   "outputs": [
    {
     "data": {
      "text/html": [
       "<div>\n",
       "<style scoped>\n",
       "    .dataframe tbody tr th:only-of-type {\n",
       "        vertical-align: middle;\n",
       "    }\n",
       "\n",
       "    .dataframe tbody tr th {\n",
       "        vertical-align: top;\n",
       "    }\n",
       "\n",
       "    .dataframe thead th {\n",
       "        text-align: right;\n",
       "    }\n",
       "</style>\n",
       "<table border=\"1\" class=\"dataframe\">\n",
       "  <thead>\n",
       "    <tr style=\"text-align: right;\">\n",
       "      <th></th>\n",
       "      <th>target</th>\n",
       "    </tr>\n",
       "  </thead>\n",
       "  <tbody>\n",
       "    <tr>\n",
       "      <th>447</th>\n",
       "      <td>12.6</td>\n",
       "    </tr>\n",
       "    <tr>\n",
       "      <th>122</th>\n",
       "      <td>20.5</td>\n",
       "    </tr>\n",
       "    <tr>\n",
       "      <th>176</th>\n",
       "      <td>23.2</td>\n",
       "    </tr>\n",
       "    <tr>\n",
       "      <th>290</th>\n",
       "      <td>28.5</td>\n",
       "    </tr>\n",
       "    <tr>\n",
       "      <th>49</th>\n",
       "      <td>19.4</td>\n",
       "    </tr>\n",
       "    <tr>\n",
       "      <th>...</th>\n",
       "      <td>...</td>\n",
       "    </tr>\n",
       "    <tr>\n",
       "      <th>28</th>\n",
       "      <td>18.4</td>\n",
       "    </tr>\n",
       "    <tr>\n",
       "      <th>259</th>\n",
       "      <td>30.1</td>\n",
       "    </tr>\n",
       "    <tr>\n",
       "      <th>380</th>\n",
       "      <td>10.4</td>\n",
       "    </tr>\n",
       "    <tr>\n",
       "      <th>90</th>\n",
       "      <td>22.6</td>\n",
       "    </tr>\n",
       "    <tr>\n",
       "      <th>144</th>\n",
       "      <td>11.8</td>\n",
       "    </tr>\n",
       "  </tbody>\n",
       "</table>\n",
       "<p>152 rows × 1 columns</p>\n",
       "</div>"
      ],
      "text/plain": [
       "     target\n",
       "447    12.6\n",
       "122    20.5\n",
       "176    23.2\n",
       "290    28.5\n",
       "49     19.4\n",
       "..      ...\n",
       "28     18.4\n",
       "259    30.1\n",
       "380    10.4\n",
       "90     22.6\n",
       "144    11.8\n",
       "\n",
       "[152 rows x 1 columns]"
      ]
     },
     "execution_count": 15,
     "metadata": {},
     "output_type": "execute_result"
    }
   ],
   "source": [
    "y_test\n"
   ]
  },
  {
   "cell_type": "code",
   "execution_count": 16,
   "metadata": {
    "ExecuteTime": {
     "end_time": "2021-08-12T20:05:04.534093Z",
     "start_time": "2021-08-12T20:05:04.502819Z"
    }
   },
   "outputs": [
    {
     "data": {
      "text/html": [
       "<div>\n",
       "<style scoped>\n",
       "    .dataframe tbody tr th:only-of-type {\n",
       "        vertical-align: middle;\n",
       "    }\n",
       "\n",
       "    .dataframe tbody tr th {\n",
       "        vertical-align: top;\n",
       "    }\n",
       "\n",
       "    .dataframe thead th {\n",
       "        text-align: right;\n",
       "    }\n",
       "</style>\n",
       "<table border=\"1\" class=\"dataframe\">\n",
       "  <thead>\n",
       "    <tr style=\"text-align: right;\">\n",
       "      <th></th>\n",
       "      <th>CRIM</th>\n",
       "      <th>ZN</th>\n",
       "      <th>INDUS</th>\n",
       "      <th>CHAS</th>\n",
       "      <th>NOX</th>\n",
       "      <th>RM</th>\n",
       "      <th>AGE</th>\n",
       "      <th>DIS</th>\n",
       "      <th>RAD</th>\n",
       "      <th>TAX</th>\n",
       "      <th>PTRATIO</th>\n",
       "      <th>B</th>\n",
       "      <th>LSTAT</th>\n",
       "    </tr>\n",
       "  </thead>\n",
       "  <tbody>\n",
       "    <tr>\n",
       "      <th>447</th>\n",
       "      <td>9.92485</td>\n",
       "      <td>0.0</td>\n",
       "      <td>18.10</td>\n",
       "      <td>0.0</td>\n",
       "      <td>0.740</td>\n",
       "      <td>6.251</td>\n",
       "      <td>96.6</td>\n",
       "      <td>2.1980</td>\n",
       "      <td>24.0</td>\n",
       "      <td>666.0</td>\n",
       "      <td>20.2</td>\n",
       "      <td>388.52</td>\n",
       "      <td>16.44</td>\n",
       "    </tr>\n",
       "    <tr>\n",
       "      <th>122</th>\n",
       "      <td>0.09299</td>\n",
       "      <td>0.0</td>\n",
       "      <td>25.65</td>\n",
       "      <td>0.0</td>\n",
       "      <td>0.581</td>\n",
       "      <td>5.961</td>\n",
       "      <td>92.9</td>\n",
       "      <td>2.0869</td>\n",
       "      <td>2.0</td>\n",
       "      <td>188.0</td>\n",
       "      <td>19.1</td>\n",
       "      <td>378.09</td>\n",
       "      <td>17.93</td>\n",
       "    </tr>\n",
       "    <tr>\n",
       "      <th>176</th>\n",
       "      <td>0.07022</td>\n",
       "      <td>0.0</td>\n",
       "      <td>4.05</td>\n",
       "      <td>0.0</td>\n",
       "      <td>0.510</td>\n",
       "      <td>6.020</td>\n",
       "      <td>47.2</td>\n",
       "      <td>3.5549</td>\n",
       "      <td>5.0</td>\n",
       "      <td>296.0</td>\n",
       "      <td>16.6</td>\n",
       "      <td>393.23</td>\n",
       "      <td>10.11</td>\n",
       "    </tr>\n",
       "    <tr>\n",
       "      <th>290</th>\n",
       "      <td>0.03502</td>\n",
       "      <td>80.0</td>\n",
       "      <td>4.95</td>\n",
       "      <td>0.0</td>\n",
       "      <td>0.411</td>\n",
       "      <td>6.861</td>\n",
       "      <td>27.9</td>\n",
       "      <td>5.1167</td>\n",
       "      <td>4.0</td>\n",
       "      <td>245.0</td>\n",
       "      <td>19.2</td>\n",
       "      <td>396.90</td>\n",
       "      <td>3.33</td>\n",
       "    </tr>\n",
       "    <tr>\n",
       "      <th>49</th>\n",
       "      <td>0.21977</td>\n",
       "      <td>0.0</td>\n",
       "      <td>6.91</td>\n",
       "      <td>0.0</td>\n",
       "      <td>0.448</td>\n",
       "      <td>5.602</td>\n",
       "      <td>62.0</td>\n",
       "      <td>6.0877</td>\n",
       "      <td>3.0</td>\n",
       "      <td>233.0</td>\n",
       "      <td>17.9</td>\n",
       "      <td>396.90</td>\n",
       "      <td>16.20</td>\n",
       "    </tr>\n",
       "    <tr>\n",
       "      <th>...</th>\n",
       "      <td>...</td>\n",
       "      <td>...</td>\n",
       "      <td>...</td>\n",
       "      <td>...</td>\n",
       "      <td>...</td>\n",
       "      <td>...</td>\n",
       "      <td>...</td>\n",
       "      <td>...</td>\n",
       "      <td>...</td>\n",
       "      <td>...</td>\n",
       "      <td>...</td>\n",
       "      <td>...</td>\n",
       "      <td>...</td>\n",
       "    </tr>\n",
       "    <tr>\n",
       "      <th>28</th>\n",
       "      <td>0.77299</td>\n",
       "      <td>0.0</td>\n",
       "      <td>8.14</td>\n",
       "      <td>0.0</td>\n",
       "      <td>0.538</td>\n",
       "      <td>6.495</td>\n",
       "      <td>94.4</td>\n",
       "      <td>4.4547</td>\n",
       "      <td>4.0</td>\n",
       "      <td>307.0</td>\n",
       "      <td>21.0</td>\n",
       "      <td>387.94</td>\n",
       "      <td>12.80</td>\n",
       "    </tr>\n",
       "    <tr>\n",
       "      <th>259</th>\n",
       "      <td>0.65665</td>\n",
       "      <td>20.0</td>\n",
       "      <td>3.97</td>\n",
       "      <td>0.0</td>\n",
       "      <td>0.647</td>\n",
       "      <td>6.842</td>\n",
       "      <td>100.0</td>\n",
       "      <td>2.0107</td>\n",
       "      <td>5.0</td>\n",
       "      <td>264.0</td>\n",
       "      <td>13.0</td>\n",
       "      <td>391.93</td>\n",
       "      <td>6.90</td>\n",
       "    </tr>\n",
       "    <tr>\n",
       "      <th>380</th>\n",
       "      <td>88.97620</td>\n",
       "      <td>0.0</td>\n",
       "      <td>18.10</td>\n",
       "      <td>0.0</td>\n",
       "      <td>0.671</td>\n",
       "      <td>6.968</td>\n",
       "      <td>91.9</td>\n",
       "      <td>1.4165</td>\n",
       "      <td>24.0</td>\n",
       "      <td>666.0</td>\n",
       "      <td>20.2</td>\n",
       "      <td>396.90</td>\n",
       "      <td>17.21</td>\n",
       "    </tr>\n",
       "    <tr>\n",
       "      <th>90</th>\n",
       "      <td>0.04684</td>\n",
       "      <td>0.0</td>\n",
       "      <td>3.41</td>\n",
       "      <td>0.0</td>\n",
       "      <td>0.489</td>\n",
       "      <td>6.417</td>\n",
       "      <td>66.1</td>\n",
       "      <td>3.0923</td>\n",
       "      <td>2.0</td>\n",
       "      <td>270.0</td>\n",
       "      <td>17.8</td>\n",
       "      <td>392.18</td>\n",
       "      <td>8.81</td>\n",
       "    </tr>\n",
       "    <tr>\n",
       "      <th>144</th>\n",
       "      <td>2.77974</td>\n",
       "      <td>0.0</td>\n",
       "      <td>19.58</td>\n",
       "      <td>0.0</td>\n",
       "      <td>0.871</td>\n",
       "      <td>4.903</td>\n",
       "      <td>97.8</td>\n",
       "      <td>1.3459</td>\n",
       "      <td>5.0</td>\n",
       "      <td>403.0</td>\n",
       "      <td>14.7</td>\n",
       "      <td>396.90</td>\n",
       "      <td>29.29</td>\n",
       "    </tr>\n",
       "  </tbody>\n",
       "</table>\n",
       "<p>152 rows × 13 columns</p>\n",
       "</div>"
      ],
      "text/plain": [
       "         CRIM    ZN  INDUS  CHAS    NOX     RM    AGE     DIS   RAD    TAX  \\\n",
       "447   9.92485   0.0  18.10   0.0  0.740  6.251   96.6  2.1980  24.0  666.0   \n",
       "122   0.09299   0.0  25.65   0.0  0.581  5.961   92.9  2.0869   2.0  188.0   \n",
       "176   0.07022   0.0   4.05   0.0  0.510  6.020   47.2  3.5549   5.0  296.0   \n",
       "290   0.03502  80.0   4.95   0.0  0.411  6.861   27.9  5.1167   4.0  245.0   \n",
       "49    0.21977   0.0   6.91   0.0  0.448  5.602   62.0  6.0877   3.0  233.0   \n",
       "..        ...   ...    ...   ...    ...    ...    ...     ...   ...    ...   \n",
       "28    0.77299   0.0   8.14   0.0  0.538  6.495   94.4  4.4547   4.0  307.0   \n",
       "259   0.65665  20.0   3.97   0.0  0.647  6.842  100.0  2.0107   5.0  264.0   \n",
       "380  88.97620   0.0  18.10   0.0  0.671  6.968   91.9  1.4165  24.0  666.0   \n",
       "90    0.04684   0.0   3.41   0.0  0.489  6.417   66.1  3.0923   2.0  270.0   \n",
       "144   2.77974   0.0  19.58   0.0  0.871  4.903   97.8  1.3459   5.0  403.0   \n",
       "\n",
       "     PTRATIO       B  LSTAT  \n",
       "447     20.2  388.52  16.44  \n",
       "122     19.1  378.09  17.93  \n",
       "176     16.6  393.23  10.11  \n",
       "290     19.2  396.90   3.33  \n",
       "49      17.9  396.90  16.20  \n",
       "..       ...     ...    ...  \n",
       "28      21.0  387.94  12.80  \n",
       "259     13.0  391.93   6.90  \n",
       "380     20.2  396.90  17.21  \n",
       "90      17.8  392.18   8.81  \n",
       "144     14.7  396.90  29.29  \n",
       "\n",
       "[152 rows x 13 columns]"
      ]
     },
     "execution_count": 16,
     "metadata": {},
     "output_type": "execute_result"
    }
   ],
   "source": [
    "X_test"
   ]
  },
  {
   "cell_type": "code",
   "execution_count": 17,
   "metadata": {
    "ExecuteTime": {
     "end_time": "2021-08-12T20:05:05.020065Z",
     "start_time": "2021-08-12T20:05:05.007490Z"
    }
   },
   "outputs": [
    {
     "data": {
      "text/plain": [
       "MinMaxScaler()"
      ]
     },
     "execution_count": 17,
     "metadata": {},
     "output_type": "execute_result"
    }
   ],
   "source": [
    "mm_x"
   ]
  },
  {
   "cell_type": "code",
   "execution_count": 18,
   "metadata": {
    "ExecuteTime": {
     "end_time": "2021-08-12T20:05:05.517036Z",
     "start_time": "2021-08-12T20:05:05.502020Z"
    }
   },
   "outputs": [],
   "source": [
    "X_test_sc=mm_x.transform(X_test)"
   ]
  },
  {
   "cell_type": "code",
   "execution_count": 19,
   "metadata": {
    "ExecuteTime": {
     "end_time": "2021-08-12T20:05:05.982808Z",
     "start_time": "2021-08-12T20:05:05.967143Z"
    }
   },
   "outputs": [
    {
     "data": {
      "text/plain": [
       "array([[1.34895002e-01, 0.00000000e+00, 6.42962963e-01, ...,\n",
       "        8.08510638e-01, 9.78869333e-01, 4.05905077e-01],\n",
       "       [1.17873816e-03, 0.00000000e+00, 9.22592593e-01, ...,\n",
       "        6.91489362e-01, 9.52569469e-01, 4.47019868e-01],\n",
       "       [8.69059286e-04, 0.00000000e+00, 1.22592593e-01, ...,\n",
       "        4.25531915e-01, 9.90745877e-01, 2.31236203e-01],\n",
       "       ...,\n",
       "       [1.21001722e+00, 0.00000000e+00, 6.42962963e-01, ...,\n",
       "        8.08510638e-01, 1.00000000e+00, 4.27152318e-01],\n",
       "       [5.51084230e-04, 0.00000000e+00, 9.88888889e-02, ...,\n",
       "        5.53191489e-01, 9.88098240e-01, 1.95364238e-01],\n",
       "       [3.77193491e-02, 0.00000000e+00, 6.97777778e-01, ...,\n",
       "        2.23404255e-01, 1.00000000e+00, 7.60485651e-01]])"
      ]
     },
     "execution_count": 19,
     "metadata": {},
     "output_type": "execute_result"
    }
   ],
   "source": [
    "X_test_sc"
   ]
  },
  {
   "cell_type": "code",
   "execution_count": 20,
   "metadata": {
    "ExecuteTime": {
     "end_time": "2021-08-12T20:05:06.434910Z",
     "start_time": "2021-08-12T20:05:06.427684Z"
    }
   },
   "outputs": [],
   "source": [
    "kernel_model=clf.best_estimator_"
   ]
  },
  {
   "cell_type": "code",
   "execution_count": 21,
   "metadata": {
    "ExecuteTime": {
     "end_time": "2021-08-12T20:05:07.007719Z",
     "start_time": "2021-08-12T20:05:07.001433Z"
    }
   },
   "outputs": [],
   "source": [
    "X_test_sc=pd.DataFrame(X_test_sc)"
   ]
  },
  {
   "cell_type": "code",
   "execution_count": 22,
   "metadata": {
    "ExecuteTime": {
     "end_time": "2021-08-12T20:05:07.696346Z",
     "start_time": "2021-08-12T20:05:07.672282Z"
    }
   },
   "outputs": [
    {
     "data": {
      "text/plain": [
       "0     152\n",
       "1     152\n",
       "2     151\n",
       "3     152\n",
       "4     152\n",
       "5     152\n",
       "6     152\n",
       "7     152\n",
       "8     152\n",
       "9     152\n",
       "10    152\n",
       "11    152\n",
       "12    152\n",
       "dtype: int64"
      ]
     },
     "execution_count": 22,
     "metadata": {},
     "output_type": "execute_result"
    }
   ],
   "source": [
    "X_test_sc[(X_test_sc<0)].isnull().sum()"
   ]
  },
  {
   "cell_type": "code",
   "execution_count": 23,
   "metadata": {
    "ExecuteTime": {
     "end_time": "2021-08-12T20:05:08.935982Z",
     "start_time": "2021-08-12T20:05:08.919656Z"
    }
   },
   "outputs": [
    {
     "data": {
      "text/plain": [
       "CRIM         3.67367\n",
       "ZN           0.00000\n",
       "INDUS       18.10000\n",
       "CHAS         0.00000\n",
       "NOX          0.58300\n",
       "RM           6.31200\n",
       "AGE         51.90000\n",
       "DIS          3.99170\n",
       "RAD         24.00000\n",
       "TAX        666.00000\n",
       "PTRATIO     20.20000\n",
       "B          388.62000\n",
       "LSTAT       10.58000\n",
       "Name: 485, dtype: float64"
      ]
     },
     "execution_count": 23,
     "metadata": {},
     "output_type": "execute_result"
    }
   ],
   "source": [
    "X_test.iloc[114]"
   ]
  },
  {
   "cell_type": "code",
   "execution_count": 24,
   "metadata": {
    "ExecuteTime": {
     "end_time": "2021-08-12T20:05:09.645365Z",
     "start_time": "2021-08-12T20:05:09.586461Z"
    }
   },
   "outputs": [
    {
     "data": {
      "text/html": [
       "<div>\n",
       "<style scoped>\n",
       "    .dataframe tbody tr th:only-of-type {\n",
       "        vertical-align: middle;\n",
       "    }\n",
       "\n",
       "    .dataframe tbody tr th {\n",
       "        vertical-align: top;\n",
       "    }\n",
       "\n",
       "    .dataframe thead th {\n",
       "        text-align: right;\n",
       "    }\n",
       "</style>\n",
       "<table border=\"1\" class=\"dataframe\">\n",
       "  <thead>\n",
       "    <tr style=\"text-align: right;\">\n",
       "      <th></th>\n",
       "      <th>0</th>\n",
       "      <th>1</th>\n",
       "      <th>2</th>\n",
       "      <th>3</th>\n",
       "      <th>4</th>\n",
       "      <th>5</th>\n",
       "      <th>6</th>\n",
       "      <th>7</th>\n",
       "      <th>8</th>\n",
       "      <th>9</th>\n",
       "      <th>10</th>\n",
       "      <th>11</th>\n",
       "      <th>12</th>\n",
       "    </tr>\n",
       "  </thead>\n",
       "  <tbody>\n",
       "    <tr>\n",
       "      <th>129</th>\n",
       "      <td>0.000102</td>\n",
       "      <td>0.8</td>\n",
       "      <td>-0.01037</td>\n",
       "      <td>0.0</td>\n",
       "      <td>0.076132</td>\n",
       "      <td>0.826595</td>\n",
       "      <td>0.299691</td>\n",
       "      <td>0.410916</td>\n",
       "      <td>0.130435</td>\n",
       "      <td>0.129771</td>\n",
       "      <td>0.191489</td>\n",
       "      <td>0.993267</td>\n",
       "      <td>0.034216</td>\n",
       "    </tr>\n",
       "  </tbody>\n",
       "</table>\n",
       "</div>"
      ],
      "text/plain": [
       "            0    1        2    3         4         5         6         7  \\\n",
       "129  0.000102  0.8 -0.01037  0.0  0.076132  0.826595  0.299691  0.410916   \n",
       "\n",
       "            8         9        10        11        12  \n",
       "129  0.130435  0.129771  0.191489  0.993267  0.034216  "
      ]
     },
     "execution_count": 24,
     "metadata": {},
     "output_type": "execute_result"
    }
   ],
   "source": [
    "X_test_sc[X_test_sc[2]<0]"
   ]
  },
  {
   "cell_type": "code",
   "execution_count": 25,
   "metadata": {
    "ExecuteTime": {
     "end_time": "2021-08-12T20:05:10.931487Z",
     "start_time": "2021-08-12T20:05:10.917709Z"
    }
   },
   "outputs": [
    {
     "data": {
      "text/plain": [
       "array([ 73.5341, 100.    ,  27.74  ,   1.    ,   0.871 ,   8.78  ,\n",
       "       100.    ,  12.1265,  24.    , 711.    ,  22.    , 396.9   ,\n",
       "        37.97  ])"
      ]
     },
     "execution_count": 25,
     "metadata": {},
     "output_type": "execute_result"
    }
   ],
   "source": [
    "mm_x.data_max_"
   ]
  },
  {
   "cell_type": "code",
   "execution_count": 75,
   "metadata": {
    "ExecuteTime": {
     "end_time": "2021-05-22T12:58:49.523971Z",
     "start_time": "2021-05-22T12:58:49.507448Z"
    }
   },
   "outputs": [
    {
     "data": {
      "text/plain": [
       "array([6.3200e-03, 0.0000e+00, 7.4000e-01, 0.0000e+00, 3.8500e-01,\n",
       "       3.5610e+00, 2.9000e+00, 1.1296e+00, 1.0000e+00, 1.8700e+02,\n",
       "       1.2600e+01, 3.2000e-01, 1.7300e+00])"
      ]
     },
     "execution_count": 75,
     "metadata": {},
     "output_type": "execute_result"
    }
   ],
   "source": [
    "mm_x.data_min_"
   ]
  },
  {
   "cell_type": "code",
   "execution_count": 77,
   "metadata": {
    "ExecuteTime": {
     "end_time": "2021-05-22T12:59:24.711655Z",
     "start_time": "2021-05-22T12:59:24.697276Z"
    }
   },
   "outputs": [
    {
     "data": {
      "text/plain": [
       "CRIM         0.01381\n",
       "ZN          80.00000\n",
       "INDUS        0.46000\n",
       "CHAS         0.00000\n",
       "NOX          0.42200\n",
       "RM           7.87500\n",
       "AGE         32.00000\n",
       "DIS          5.64840\n",
       "RAD          4.00000\n",
       "TAX        255.00000\n",
       "PTRATIO     14.40000\n",
       "B          394.23000\n",
       "LSTAT        2.97000\n",
       "Name: 195, dtype: float64"
      ]
     },
     "execution_count": 77,
     "metadata": {},
     "output_type": "execute_result"
    }
   ],
   "source": [
    "X_test.iloc[114,:]"
   ]
  },
  {
   "cell_type": "code",
   "execution_count": 63,
   "metadata": {
    "ExecuteTime": {
     "end_time": "2021-05-21T04:56:04.344895Z",
     "start_time": "2021-05-21T04:56:04.336798Z"
    }
   },
   "outputs": [
    {
     "data": {
      "text/plain": [
       "-0.01037037037037037"
      ]
     },
     "execution_count": 63,
     "metadata": {},
     "output_type": "execute_result"
    }
   ],
   "source": [
    "(0.46000-7.4000e-01)/(27.74-7.4000e-01)"
   ]
  },
  {
   "cell_type": "code",
   "execution_count": 65,
   "metadata": {
    "ExecuteTime": {
     "end_time": "2021-05-21T05:01:08.638854Z",
     "start_time": "2021-05-21T05:01:08.609544Z"
    }
   },
   "outputs": [
    {
     "data": {
      "text/html": [
       "<div>\n",
       "<style scoped>\n",
       "    .dataframe tbody tr th:only-of-type {\n",
       "        vertical-align: middle;\n",
       "    }\n",
       "\n",
       "    .dataframe tbody tr th {\n",
       "        vertical-align: top;\n",
       "    }\n",
       "\n",
       "    .dataframe thead th {\n",
       "        text-align: right;\n",
       "    }\n",
       "</style>\n",
       "<table border=\"1\" class=\"dataframe\">\n",
       "  <thead>\n",
       "    <tr style=\"text-align: right;\">\n",
       "      <th></th>\n",
       "      <th>0</th>\n",
       "      <th>1</th>\n",
       "      <th>2</th>\n",
       "      <th>3</th>\n",
       "      <th>4</th>\n",
       "      <th>5</th>\n",
       "      <th>6</th>\n",
       "      <th>7</th>\n",
       "      <th>8</th>\n",
       "      <th>9</th>\n",
       "      <th>10</th>\n",
       "      <th>11</th>\n",
       "      <th>12</th>\n",
       "    </tr>\n",
       "  </thead>\n",
       "  <tbody>\n",
       "    <tr>\n",
       "      <th>114</th>\n",
       "      <td>0.000084</td>\n",
       "      <td>0.842105</td>\n",
       "      <td>-0.01037</td>\n",
       "      <td>0.0</td>\n",
       "      <td>0.076132</td>\n",
       "      <td>0.826595</td>\n",
       "      <td>0.299691</td>\n",
       "      <td>0.410916</td>\n",
       "      <td>0.130435</td>\n",
       "      <td>0.129771</td>\n",
       "      <td>0.191489</td>\n",
       "      <td>0.993267</td>\n",
       "      <td>0.034216</td>\n",
       "    </tr>\n",
       "  </tbody>\n",
       "</table>\n",
       "</div>"
      ],
      "text/plain": [
       "            0         1        2    3         4         5         6         7  \\\n",
       "114  0.000084  0.842105 -0.01037  0.0  0.076132  0.826595  0.299691  0.410916   \n",
       "\n",
       "            8         9        10        11        12  \n",
       "114  0.130435  0.129771  0.191489  0.993267  0.034216  "
      ]
     },
     "execution_count": 65,
     "metadata": {},
     "output_type": "execute_result"
    }
   ],
   "source": [
    "X_test_sc[X_test_sc[2]<0]"
   ]
  },
  {
   "cell_type": "code",
   "execution_count": 67,
   "metadata": {
    "ExecuteTime": {
     "end_time": "2021-05-21T05:07:49.538620Z",
     "start_time": "2021-05-21T05:07:49.514787Z"
    }
   },
   "outputs": [],
   "source": [
    "X_test_sc_new=X_test_sc.applymap(lambda x: 0  if  x<0 else x)"
   ]
  },
  {
   "cell_type": "code",
   "execution_count": 68,
   "metadata": {
    "ExecuteTime": {
     "end_time": "2021-05-21T05:07:58.367938Z",
     "start_time": "2021-05-21T05:07:58.338183Z"
    },
    "scrolled": true
   },
   "outputs": [
    {
     "data": {
      "text/plain": [
       "array([[ 0.23277031],\n",
       "       [ 0.46000865],\n",
       "       [ 0.53440272],\n",
       "       [ 0.34426779],\n",
       "       [ 0.35745767],\n",
       "       [ 0.32977949],\n",
       "       [ 0.47007187],\n",
       "       [ 0.2602691 ],\n",
       "       [ 0.03132582],\n",
       "       [ 0.40997879],\n",
       "       [ 0.35713275],\n",
       "       [ 0.42206537],\n",
       "       [ 0.61597457],\n",
       "       [ 0.85979423],\n",
       "       [ 0.24637931],\n",
       "       [ 0.38468355],\n",
       "       [ 0.35317902],\n",
       "       [ 0.4243818 ],\n",
       "       [ 0.21825358],\n",
       "       [ 0.26498912],\n",
       "       [ 0.33022241],\n",
       "       [ 0.47146644],\n",
       "       [ 0.07645978],\n",
       "       [ 0.16067001],\n",
       "       [ 0.25218106],\n",
       "       [ 0.64056293],\n",
       "       [ 0.30634328],\n",
       "       [ 0.78575021],\n",
       "       [ 0.44736699],\n",
       "       [ 0.07333458],\n",
       "       [ 0.30516175],\n",
       "       [ 0.35843343],\n",
       "       [ 0.63396949],\n",
       "       [ 0.93512627],\n",
       "       [ 0.58635774],\n",
       "       [ 0.33443799],\n",
       "       [ 0.64435179],\n",
       "       [ 0.3469881 ],\n",
       "       [ 0.27354879],\n",
       "       [ 0.1403382 ],\n",
       "       [ 0.3896295 ],\n",
       "       [ 0.46387396],\n",
       "       [ 0.57797312],\n",
       "       [ 0.39964002],\n",
       "       [ 0.26520848],\n",
       "       [ 0.14358421],\n",
       "       [ 0.27658413],\n",
       "       [ 0.32513155],\n",
       "       [ 0.37701367],\n",
       "       [ 0.30602959],\n",
       "       [ 0.35698441],\n",
       "       [ 0.40660806],\n",
       "       [ 0.71647494],\n",
       "       [ 0.50409392],\n",
       "       [ 0.328624  ],\n",
       "       [ 0.4121426 ],\n",
       "       [ 0.4034769 ],\n",
       "       [ 0.27959533],\n",
       "       [ 0.48179963],\n",
       "       [ 0.43083772],\n",
       "       [ 0.32142131],\n",
       "       [ 0.54332322],\n",
       "       [ 0.53867973],\n",
       "       [ 0.64645894],\n",
       "       [ 0.36294879],\n",
       "       [ 0.22170075],\n",
       "       [ 0.25434352],\n",
       "       [ 0.18841486],\n",
       "       [ 0.24796522],\n",
       "       [ 0.278217  ],\n",
       "       [ 0.3317117 ],\n",
       "       [ 0.57438321],\n",
       "       [ 0.21462855],\n",
       "       [ 0.21651131],\n",
       "       [ 0.15624402],\n",
       "       [ 0.33410811],\n",
       "       [ 0.84672001],\n",
       "       [ 0.3007031 ],\n",
       "       [ 0.26439233],\n",
       "       [ 0.37436709],\n",
       "       [-0.00765058],\n",
       "       [ 0.24522148],\n",
       "       [ 0.24747326],\n",
       "       [ 0.58159441],\n",
       "       [ 0.38233023],\n",
       "       [ 0.84550041],\n",
       "       [ 0.30334273],\n",
       "       [ 0.02485665],\n",
       "       [ 0.2566036 ],\n",
       "       [ 0.22180695],\n",
       "       [ 0.77416326],\n",
       "       [ 0.32157786],\n",
       "       [ 0.20581731],\n",
       "       [ 0.39233552],\n",
       "       [ 0.36038783],\n",
       "       [ 0.26250269],\n",
       "       [ 0.64441192],\n",
       "       [ 0.22736153],\n",
       "       [ 0.46111961],\n",
       "       [ 0.27048121],\n",
       "       [ 0.40297137],\n",
       "       [ 0.70205892],\n",
       "       [ 0.39954239],\n",
       "       [ 0.16923427],\n",
       "       [ 0.35132594],\n",
       "       [ 0.24390681],\n",
       "       [ 0.82214928],\n",
       "       [ 0.36978442],\n",
       "       [ 0.54605708],\n",
       "       [ 0.93804365],\n",
       "       [ 0.05363637],\n",
       "       [ 0.33776527],\n",
       "       [ 0.56489455],\n",
       "       [ 0.112922  ],\n",
       "       [ 0.93524668],\n",
       "       [ 0.23965087],\n",
       "       [ 0.55711269],\n",
       "       [ 0.16398348],\n",
       "       [ 0.53491516],\n",
       "       [ 0.53185297],\n",
       "       [ 0.15420813],\n",
       "       [ 0.14835062],\n",
       "       [ 0.95942897],\n",
       "       [ 0.3325538 ],\n",
       "       [ 0.12908504],\n",
       "       [ 0.27615959],\n",
       "       [ 0.53519662],\n",
       "       [ 0.27863173],\n",
       "       [ 0.52523649],\n",
       "       [ 0.57310637],\n",
       "       [ 0.25760203],\n",
       "       [ 0.04228954],\n",
       "       [ 0.40099121],\n",
       "       [ 0.34110178],\n",
       "       [ 0.20697917],\n",
       "       [ 0.35528335],\n",
       "       [ 0.57248969],\n",
       "       [ 0.28072692],\n",
       "       [ 0.29404332],\n",
       "       [ 0.18833616],\n",
       "       [ 0.40940334],\n",
       "       [ 0.44278011],\n",
       "       [ 0.20680277],\n",
       "       [ 0.29902363],\n",
       "       [ 0.04243021],\n",
       "       [ 0.38688922],\n",
       "       [ 0.33460675],\n",
       "       [ 0.33025014],\n",
       "       [ 0.20393671],\n",
       "       [ 0.18744031],\n",
       "       [ 0.51510813],\n",
       "       [ 0.30064111]])"
      ]
     },
     "execution_count": 68,
     "metadata": {},
     "output_type": "execute_result"
    }
   ],
   "source": [
    "kernel_model.predict(X_test_sc_new)"
   ]
  },
  {
   "cell_type": "code",
   "execution_count": 69,
   "metadata": {
    "ExecuteTime": {
     "end_time": "2021-05-21T05:08:18.980119Z",
     "start_time": "2021-05-21T05:08:18.934086Z"
    }
   },
   "outputs": [
    {
     "data": {
      "text/plain": [
       "array([[15.93500191],\n",
       "       [26.02438393],\n",
       "       [29.3274808 ],\n",
       "       [20.88548997],\n",
       "       [21.47112044],\n",
       "       [20.24220935],\n",
       "       [26.47119089],\n",
       "       [17.15594814],\n",
       "       [ 6.99086624],\n",
       "       [23.8030581 ],\n",
       "       [21.45669423],\n",
       "       [24.33970258],\n",
       "       [32.94927089],\n",
       "       [43.77486383],\n",
       "       [16.53924142],\n",
       "       [22.67994951],\n",
       "       [21.28114867],\n",
       "       [24.44255192],\n",
       "       [15.29045889],\n",
       "       [17.36551674],\n",
       "       [20.26187505],\n",
       "       [26.53310997],\n",
       "       [ 8.99481431],\n",
       "       [12.73374863],\n",
       "       [16.79683911],\n",
       "       [34.04099395],\n",
       "       [19.20164168],\n",
       "       [40.48730923],\n",
       "       [25.46309435],\n",
       "       [ 8.8560554 ],\n",
       "       [19.14918165],\n",
       "       [21.51444439],\n",
       "       [33.74824544],\n",
       "       [47.11960652],\n",
       "       [31.63428368],\n",
       "       [20.44904673],\n",
       "       [34.20921932],\n",
       "       [21.00627182],\n",
       "       [17.74556636],\n",
       "       [11.83101608],\n",
       "       [22.89955002],\n",
       "       [26.19600402],\n",
       "       [31.2620066 ],\n",
       "       [23.34401684],\n",
       "       [17.37525638],\n",
       "       [11.97513899],\n",
       "       [17.88033555],\n",
       "       [20.03584101],\n",
       "       [22.33940686],\n",
       "       [19.18771401],\n",
       "       [21.45010776],\n",
       "       [23.65339784],\n",
       "       [37.41148736],\n",
       "       [27.98177013],\n",
       "       [20.19090553],\n",
       "       [23.89913129],\n",
       "       [23.51437417],\n",
       "       [18.01403276],\n",
       "       [26.99190336],\n",
       "       [24.72919491],\n",
       "       [19.87110597],\n",
       "       [29.72355092],\n",
       "       [29.51738006],\n",
       "       [34.30277673],\n",
       "       [21.71492649],\n",
       "       [15.44351345],\n",
       "       [16.89285211],\n",
       "       [13.96561977],\n",
       "       [16.60965596],\n",
       "       [17.9528346 ],\n",
       "       [20.32799947],\n",
       "       [31.10261443],\n",
       "       [15.12950744],\n",
       "       [15.21310212],\n",
       "       [12.53723427],\n",
       "       [20.4343999 ],\n",
       "       [43.19436845],\n",
       "       [18.95121772],\n",
       "       [17.33901929],\n",
       "       [22.22189889],\n",
       "       [ 5.26031441],\n",
       "       [16.48783388],\n",
       "       [16.58781263],\n",
       "       [31.42279199],\n",
       "       [22.57546213],\n",
       "       [43.14021807],\n",
       "       [19.06841719],\n",
       "       [ 6.70363518],\n",
       "       [16.99319988],\n",
       "       [15.44822876],\n",
       "       [39.9728486 ],\n",
       "       [19.87805693],\n",
       "       [14.7382886 ],\n",
       "       [23.01969716],\n",
       "       [21.60121985],\n",
       "       [17.25511928],\n",
       "       [34.21188918],\n",
       "       [15.69485215],\n",
       "       [26.07371085],\n",
       "       [17.60936572],\n",
       "       [23.49192889],\n",
       "       [36.77141583],\n",
       "       [23.33968212],\n",
       "       [13.11400178],\n",
       "       [21.19887162],\n",
       "       [16.42946232],\n",
       "       [42.10342803],\n",
       "       [22.01842836],\n",
       "       [29.84493423],\n",
       "       [47.24913791],\n",
       "       [ 7.98145484],\n",
       "       [20.59677798],\n",
       "       [30.68131822],\n",
       "       [10.61373696],\n",
       "       [47.12495248],\n",
       "       [16.24049876],\n",
       "       [30.33580335],\n",
       "       [12.8808664 ],\n",
       "       [29.35023289],\n",
       "       [29.21427172],\n",
       "       [12.44684116],\n",
       "       [12.18676764],\n",
       "       [48.19864624],\n",
       "       [20.36538883],\n",
       "       [11.33137592],\n",
       "       [17.86148569],\n",
       "       [29.36273008],\n",
       "       [17.97124864],\n",
       "       [28.9205    ],\n",
       "       [31.04592282],\n",
       "       [17.03753026],\n",
       "       [ 7.47765545],\n",
       "       [23.40400978],\n",
       "       [20.74491882],\n",
       "       [14.78987529],\n",
       "       [21.37458092],\n",
       "       [31.01854229],\n",
       "       [18.06427523],\n",
       "       [18.65552347],\n",
       "       [13.96212536],\n",
       "       [23.7775082 ],\n",
       "       [25.25943683],\n",
       "       [14.78204301],\n",
       "       [18.87664897],\n",
       "       [ 7.48390119],\n",
       "       [22.77788152],\n",
       "       [20.4565399 ],\n",
       "       [20.26310602],\n",
       "       [14.6547899 ],\n",
       "       [13.9223498 ],\n",
       "       [28.47080111],\n",
       "       [18.94846532]])"
      ]
     },
     "execution_count": 69,
     "metadata": {},
     "output_type": "execute_result"
    }
   ],
   "source": [
    "mm_y.inverse_transform(kernel_model.predict(X_test_sc_new))"
   ]
  },
  {
   "cell_type": "code",
   "execution_count": 70,
   "metadata": {
    "ExecuteTime": {
     "end_time": "2021-05-21T05:08:24.251640Z",
     "start_time": "2021-05-21T05:08:24.225275Z"
    },
    "id": "1njpmtxWZU8h",
    "outputId": "a7cebc7e-8e0c-4f9b-fccc-81edebc1b4c4"
   },
   "outputs": [
    {
     "data": {
      "text/plain": [
       "0.9056857618329777"
      ]
     },
     "execution_count": 70,
     "metadata": {},
     "output_type": "execute_result"
    }
   ],
   "source": [
    "r2_score(y_pred=mm_y.inverse_transform(kernel_model.predict(X_test_sc_new)), y_true=y_test)"
   ]
  },
  {
   "cell_type": "code",
   "execution_count": 72,
   "metadata": {
    "ExecuteTime": {
     "end_time": "2021-05-21T05:08:45.070970Z",
     "start_time": "2021-05-21T05:08:45.040391Z"
    },
    "id": "CxuzuI2sZU8i"
   },
   "outputs": [
    {
     "data": {
      "text/plain": [
       "0.9722787061278378"
      ]
     },
     "execution_count": 72,
     "metadata": {},
     "output_type": "execute_result"
    }
   ],
   "source": [
    "clf.best_estimator_.score((mm_x.transform(X_train)), mm_y.transform(y_train))"
   ]
  },
  {
   "cell_type": "code",
   "execution_count": null,
   "metadata": {},
   "outputs": [],
   "source": []
  }
 ],
 "metadata": {
  "colab": {
   "name": "Kernel Ridge Regression.ipynb",
   "provenance": []
  },
  "kernelspec": {
   "display_name": "diplo_env",
   "language": "python",
   "name": "diplo_env"
  },
  "language_info": {
   "codemirror_mode": {
    "name": "ipython",
    "version": 3
   },
   "file_extension": ".py",
   "mimetype": "text/x-python",
   "name": "python",
   "nbconvert_exporter": "python",
   "pygments_lexer": "ipython3",
   "version": "3.6.13"
  },
  "notify_time": "10",
  "varInspector": {
   "cols": {
    "lenName": 16,
    "lenType": 16,
    "lenVar": 40
   },
   "kernels_config": {
    "python": {
     "delete_cmd_postfix": "",
     "delete_cmd_prefix": "del ",
     "library": "var_list.py",
     "varRefreshCmd": "print(var_dic_list())"
    },
    "r": {
     "delete_cmd_postfix": ") ",
     "delete_cmd_prefix": "rm(",
     "library": "var_list.r",
     "varRefreshCmd": "cat(var_dic_list()) "
    }
   },
   "types_to_exclude": [
    "module",
    "function",
    "builtin_function_or_method",
    "instance",
    "_Feature"
   ],
   "window_display": false
  }
 },
 "nbformat": 4,
 "nbformat_minor": 1
}
