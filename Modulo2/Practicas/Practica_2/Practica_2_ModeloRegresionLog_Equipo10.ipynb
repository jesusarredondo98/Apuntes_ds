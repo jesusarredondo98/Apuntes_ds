{
 "cells": [
  {
   "cell_type": "code",
   "execution_count": 1,
   "id": "4727ac86",
   "metadata": {},
   "outputs": [],
   "source": [
    "import numpy as np\n",
    "import pandas as pd\n",
    "import cufflinks as cf\n",
    "from sklearn.impute import SimpleImputer\n",
    "from sklearn.model_selection import cross_val_score, train_test_split, GridSearchCV, RandomizedSearchCV\n",
    "from sklearn.linear_model import LogisticRegression, LinearRegression, Ridge, Lasso, ElasticNet, BayesianRidge, Lars\n",
    "from sklearn.feature_selection import SelectKBest, f_classif, f_regression\n",
    "from sklearn.metrics import accuracy_score, roc_auc_score, mean_absolute_error, r2_score, confusion_matrix, classification_report, roc_curve\n",
    "from scipy.stats import kurtosis, skew\n",
    "import matplotlib.pyplot as plt\n",
    "import matplotlib.pyplot as plot\n",
    "from sklearn.preprocessing import MinMaxScaler\n",
    "\n",
    "pd.set_option(\"display.max_columns\", 50)\n",
    "import os\n",
    "import matplotlib.pyplot as plt\n",
    "data_path = os.getcwd() + '/DATA/'"
   ]
  },
  {
   "cell_type": "code",
   "execution_count": 2,
   "id": "ee4d6bf2",
   "metadata": {},
   "outputs": [
    {
     "data": {
      "text/html": [
       "<div>\n",
       "<style scoped>\n",
       "    .dataframe tbody tr th:only-of-type {\n",
       "        vertical-align: middle;\n",
       "    }\n",
       "\n",
       "    .dataframe tbody tr th {\n",
       "        vertical-align: top;\n",
       "    }\n",
       "\n",
       "    .dataframe thead th {\n",
       "        text-align: right;\n",
       "    }\n",
       "</style>\n",
       "<table border=\"1\" class=\"dataframe\">\n",
       "  <thead>\n",
       "    <tr style=\"text-align: right;\">\n",
       "      <th></th>\n",
       "      <th>hotel</th>\n",
       "      <th>is_canceled</th>\n",
       "      <th>lead_time</th>\n",
       "      <th>arrival_date_year</th>\n",
       "      <th>arrival_date_month</th>\n",
       "      <th>arrival_date_week_number</th>\n",
       "      <th>arrival_date_day_of_month</th>\n",
       "      <th>stays_in_weekend_nights</th>\n",
       "      <th>stays_in_week_nights</th>\n",
       "      <th>adults</th>\n",
       "      <th>children</th>\n",
       "      <th>babies</th>\n",
       "      <th>meal</th>\n",
       "      <th>country</th>\n",
       "      <th>market_segment</th>\n",
       "      <th>distribution_channel</th>\n",
       "      <th>is_repeated_guest</th>\n",
       "      <th>previous_cancellations</th>\n",
       "      <th>previous_bookings_not_canceled</th>\n",
       "      <th>reserved_room_type</th>\n",
       "      <th>assigned_room_type</th>\n",
       "      <th>booking_changes</th>\n",
       "      <th>deposit_type</th>\n",
       "      <th>agent</th>\n",
       "      <th>company</th>\n",
       "      <th>days_in_waiting_list</th>\n",
       "      <th>customer_type</th>\n",
       "      <th>adr</th>\n",
       "      <th>required_car_parking_spaces</th>\n",
       "      <th>total_of_special_requests</th>\n",
       "      <th>reservation_status</th>\n",
       "      <th>reservation_status_date</th>\n",
       "      <th>name</th>\n",
       "      <th>email</th>\n",
       "      <th>phone-number</th>\n",
       "      <th>credit_card</th>\n",
       "    </tr>\n",
       "  </thead>\n",
       "  <tbody>\n",
       "    <tr>\n",
       "      <th>0</th>\n",
       "      <td>Resort Hotel</td>\n",
       "      <td>0</td>\n",
       "      <td>342</td>\n",
       "      <td>2015</td>\n",
       "      <td>July</td>\n",
       "      <td>27</td>\n",
       "      <td>1</td>\n",
       "      <td>0</td>\n",
       "      <td>0</td>\n",
       "      <td>2</td>\n",
       "      <td>0.0</td>\n",
       "      <td>0</td>\n",
       "      <td>BB</td>\n",
       "      <td>PRT</td>\n",
       "      <td>Direct</td>\n",
       "      <td>Direct</td>\n",
       "      <td>0</td>\n",
       "      <td>0</td>\n",
       "      <td>0</td>\n",
       "      <td>C</td>\n",
       "      <td>C</td>\n",
       "      <td>3</td>\n",
       "      <td>No Deposit</td>\n",
       "      <td>NaN</td>\n",
       "      <td>NaN</td>\n",
       "      <td>0</td>\n",
       "      <td>Transient</td>\n",
       "      <td>0.00</td>\n",
       "      <td>0</td>\n",
       "      <td>0</td>\n",
       "      <td>Check-Out</td>\n",
       "      <td>2015-07-01</td>\n",
       "      <td>Ernest Barnes</td>\n",
       "      <td>Ernest.Barnes31@outlook.com</td>\n",
       "      <td>669-792-1661</td>\n",
       "      <td>************4322</td>\n",
       "    </tr>\n",
       "    <tr>\n",
       "      <th>1</th>\n",
       "      <td>Resort Hotel</td>\n",
       "      <td>0</td>\n",
       "      <td>737</td>\n",
       "      <td>2015</td>\n",
       "      <td>July</td>\n",
       "      <td>27</td>\n",
       "      <td>1</td>\n",
       "      <td>0</td>\n",
       "      <td>0</td>\n",
       "      <td>2</td>\n",
       "      <td>0.0</td>\n",
       "      <td>0</td>\n",
       "      <td>BB</td>\n",
       "      <td>PRT</td>\n",
       "      <td>Direct</td>\n",
       "      <td>Direct</td>\n",
       "      <td>0</td>\n",
       "      <td>0</td>\n",
       "      <td>0</td>\n",
       "      <td>C</td>\n",
       "      <td>C</td>\n",
       "      <td>4</td>\n",
       "      <td>No Deposit</td>\n",
       "      <td>NaN</td>\n",
       "      <td>NaN</td>\n",
       "      <td>0</td>\n",
       "      <td>Transient</td>\n",
       "      <td>0.00</td>\n",
       "      <td>0</td>\n",
       "      <td>0</td>\n",
       "      <td>Check-Out</td>\n",
       "      <td>2015-07-01</td>\n",
       "      <td>Andrea Baker</td>\n",
       "      <td>Andrea_Baker94@aol.com</td>\n",
       "      <td>858-637-6955</td>\n",
       "      <td>************9157</td>\n",
       "    </tr>\n",
       "    <tr>\n",
       "      <th>2</th>\n",
       "      <td>Resort Hotel</td>\n",
       "      <td>0</td>\n",
       "      <td>7</td>\n",
       "      <td>2015</td>\n",
       "      <td>July</td>\n",
       "      <td>27</td>\n",
       "      <td>1</td>\n",
       "      <td>0</td>\n",
       "      <td>1</td>\n",
       "      <td>1</td>\n",
       "      <td>0.0</td>\n",
       "      <td>0</td>\n",
       "      <td>BB</td>\n",
       "      <td>GBR</td>\n",
       "      <td>Direct</td>\n",
       "      <td>Direct</td>\n",
       "      <td>0</td>\n",
       "      <td>0</td>\n",
       "      <td>0</td>\n",
       "      <td>A</td>\n",
       "      <td>C</td>\n",
       "      <td>0</td>\n",
       "      <td>No Deposit</td>\n",
       "      <td>NaN</td>\n",
       "      <td>NaN</td>\n",
       "      <td>0</td>\n",
       "      <td>Transient</td>\n",
       "      <td>75.00</td>\n",
       "      <td>0</td>\n",
       "      <td>0</td>\n",
       "      <td>Check-Out</td>\n",
       "      <td>2015-07-02</td>\n",
       "      <td>Rebecca Parker</td>\n",
       "      <td>Rebecca_Parker@comcast.net</td>\n",
       "      <td>652-885-2745</td>\n",
       "      <td>************3734</td>\n",
       "    </tr>\n",
       "    <tr>\n",
       "      <th>3</th>\n",
       "      <td>Resort Hotel</td>\n",
       "      <td>0</td>\n",
       "      <td>13</td>\n",
       "      <td>2015</td>\n",
       "      <td>July</td>\n",
       "      <td>27</td>\n",
       "      <td>1</td>\n",
       "      <td>0</td>\n",
       "      <td>1</td>\n",
       "      <td>1</td>\n",
       "      <td>0.0</td>\n",
       "      <td>0</td>\n",
       "      <td>BB</td>\n",
       "      <td>GBR</td>\n",
       "      <td>Corporate</td>\n",
       "      <td>Corporate</td>\n",
       "      <td>0</td>\n",
       "      <td>0</td>\n",
       "      <td>0</td>\n",
       "      <td>A</td>\n",
       "      <td>A</td>\n",
       "      <td>0</td>\n",
       "      <td>No Deposit</td>\n",
       "      <td>304.0</td>\n",
       "      <td>NaN</td>\n",
       "      <td>0</td>\n",
       "      <td>Transient</td>\n",
       "      <td>75.00</td>\n",
       "      <td>0</td>\n",
       "      <td>0</td>\n",
       "      <td>Check-Out</td>\n",
       "      <td>2015-07-02</td>\n",
       "      <td>Laura Murray</td>\n",
       "      <td>Laura_M@gmail.com</td>\n",
       "      <td>364-656-8427</td>\n",
       "      <td>************5677</td>\n",
       "    </tr>\n",
       "    <tr>\n",
       "      <th>4</th>\n",
       "      <td>Resort Hotel</td>\n",
       "      <td>0</td>\n",
       "      <td>14</td>\n",
       "      <td>2015</td>\n",
       "      <td>July</td>\n",
       "      <td>27</td>\n",
       "      <td>1</td>\n",
       "      <td>0</td>\n",
       "      <td>2</td>\n",
       "      <td>2</td>\n",
       "      <td>0.0</td>\n",
       "      <td>0</td>\n",
       "      <td>BB</td>\n",
       "      <td>GBR</td>\n",
       "      <td>Online TA</td>\n",
       "      <td>TA/TO</td>\n",
       "      <td>0</td>\n",
       "      <td>0</td>\n",
       "      <td>0</td>\n",
       "      <td>A</td>\n",
       "      <td>A</td>\n",
       "      <td>0</td>\n",
       "      <td>No Deposit</td>\n",
       "      <td>240.0</td>\n",
       "      <td>NaN</td>\n",
       "      <td>0</td>\n",
       "      <td>Transient</td>\n",
       "      <td>98.00</td>\n",
       "      <td>0</td>\n",
       "      <td>1</td>\n",
       "      <td>Check-Out</td>\n",
       "      <td>2015-07-03</td>\n",
       "      <td>Linda Hines</td>\n",
       "      <td>LHines@verizon.com</td>\n",
       "      <td>713-226-5883</td>\n",
       "      <td>************5498</td>\n",
       "    </tr>\n",
       "    <tr>\n",
       "      <th>...</th>\n",
       "      <td>...</td>\n",
       "      <td>...</td>\n",
       "      <td>...</td>\n",
       "      <td>...</td>\n",
       "      <td>...</td>\n",
       "      <td>...</td>\n",
       "      <td>...</td>\n",
       "      <td>...</td>\n",
       "      <td>...</td>\n",
       "      <td>...</td>\n",
       "      <td>...</td>\n",
       "      <td>...</td>\n",
       "      <td>...</td>\n",
       "      <td>...</td>\n",
       "      <td>...</td>\n",
       "      <td>...</td>\n",
       "      <td>...</td>\n",
       "      <td>...</td>\n",
       "      <td>...</td>\n",
       "      <td>...</td>\n",
       "      <td>...</td>\n",
       "      <td>...</td>\n",
       "      <td>...</td>\n",
       "      <td>...</td>\n",
       "      <td>...</td>\n",
       "      <td>...</td>\n",
       "      <td>...</td>\n",
       "      <td>...</td>\n",
       "      <td>...</td>\n",
       "      <td>...</td>\n",
       "      <td>...</td>\n",
       "      <td>...</td>\n",
       "      <td>...</td>\n",
       "      <td>...</td>\n",
       "      <td>...</td>\n",
       "      <td>...</td>\n",
       "    </tr>\n",
       "    <tr>\n",
       "      <th>119385</th>\n",
       "      <td>City Hotel</td>\n",
       "      <td>0</td>\n",
       "      <td>23</td>\n",
       "      <td>2017</td>\n",
       "      <td>August</td>\n",
       "      <td>35</td>\n",
       "      <td>30</td>\n",
       "      <td>2</td>\n",
       "      <td>5</td>\n",
       "      <td>2</td>\n",
       "      <td>0.0</td>\n",
       "      <td>0</td>\n",
       "      <td>BB</td>\n",
       "      <td>BEL</td>\n",
       "      <td>Offline TA/TO</td>\n",
       "      <td>TA/TO</td>\n",
       "      <td>0</td>\n",
       "      <td>0</td>\n",
       "      <td>0</td>\n",
       "      <td>A</td>\n",
       "      <td>A</td>\n",
       "      <td>0</td>\n",
       "      <td>No Deposit</td>\n",
       "      <td>394.0</td>\n",
       "      <td>NaN</td>\n",
       "      <td>0</td>\n",
       "      <td>Transient</td>\n",
       "      <td>96.14</td>\n",
       "      <td>0</td>\n",
       "      <td>0</td>\n",
       "      <td>Check-Out</td>\n",
       "      <td>2017-09-06</td>\n",
       "      <td>Claudia Johnson</td>\n",
       "      <td>Claudia.J@yahoo.com</td>\n",
       "      <td>403-092-5582</td>\n",
       "      <td>************8647</td>\n",
       "    </tr>\n",
       "    <tr>\n",
       "      <th>119386</th>\n",
       "      <td>City Hotel</td>\n",
       "      <td>0</td>\n",
       "      <td>102</td>\n",
       "      <td>2017</td>\n",
       "      <td>August</td>\n",
       "      <td>35</td>\n",
       "      <td>31</td>\n",
       "      <td>2</td>\n",
       "      <td>5</td>\n",
       "      <td>3</td>\n",
       "      <td>0.0</td>\n",
       "      <td>0</td>\n",
       "      <td>BB</td>\n",
       "      <td>FRA</td>\n",
       "      <td>Online TA</td>\n",
       "      <td>TA/TO</td>\n",
       "      <td>0</td>\n",
       "      <td>0</td>\n",
       "      <td>0</td>\n",
       "      <td>E</td>\n",
       "      <td>E</td>\n",
       "      <td>0</td>\n",
       "      <td>No Deposit</td>\n",
       "      <td>9.0</td>\n",
       "      <td>NaN</td>\n",
       "      <td>0</td>\n",
       "      <td>Transient</td>\n",
       "      <td>225.43</td>\n",
       "      <td>0</td>\n",
       "      <td>2</td>\n",
       "      <td>Check-Out</td>\n",
       "      <td>2017-09-07</td>\n",
       "      <td>Wesley Aguilar</td>\n",
       "      <td>WAguilar@xfinity.com</td>\n",
       "      <td>238-763-0612</td>\n",
       "      <td>************4333</td>\n",
       "    </tr>\n",
       "    <tr>\n",
       "      <th>119387</th>\n",
       "      <td>City Hotel</td>\n",
       "      <td>0</td>\n",
       "      <td>34</td>\n",
       "      <td>2017</td>\n",
       "      <td>August</td>\n",
       "      <td>35</td>\n",
       "      <td>31</td>\n",
       "      <td>2</td>\n",
       "      <td>5</td>\n",
       "      <td>2</td>\n",
       "      <td>0.0</td>\n",
       "      <td>0</td>\n",
       "      <td>BB</td>\n",
       "      <td>DEU</td>\n",
       "      <td>Online TA</td>\n",
       "      <td>TA/TO</td>\n",
       "      <td>0</td>\n",
       "      <td>0</td>\n",
       "      <td>0</td>\n",
       "      <td>D</td>\n",
       "      <td>D</td>\n",
       "      <td>0</td>\n",
       "      <td>No Deposit</td>\n",
       "      <td>9.0</td>\n",
       "      <td>NaN</td>\n",
       "      <td>0</td>\n",
       "      <td>Transient</td>\n",
       "      <td>157.71</td>\n",
       "      <td>0</td>\n",
       "      <td>4</td>\n",
       "      <td>Check-Out</td>\n",
       "      <td>2017-09-07</td>\n",
       "      <td>Mary Morales</td>\n",
       "      <td>Mary_Morales@hotmail.com</td>\n",
       "      <td>395-518-4100</td>\n",
       "      <td>************1821</td>\n",
       "    </tr>\n",
       "    <tr>\n",
       "      <th>119388</th>\n",
       "      <td>City Hotel</td>\n",
       "      <td>0</td>\n",
       "      <td>109</td>\n",
       "      <td>2017</td>\n",
       "      <td>August</td>\n",
       "      <td>35</td>\n",
       "      <td>31</td>\n",
       "      <td>2</td>\n",
       "      <td>5</td>\n",
       "      <td>2</td>\n",
       "      <td>0.0</td>\n",
       "      <td>0</td>\n",
       "      <td>BB</td>\n",
       "      <td>GBR</td>\n",
       "      <td>Online TA</td>\n",
       "      <td>TA/TO</td>\n",
       "      <td>0</td>\n",
       "      <td>0</td>\n",
       "      <td>0</td>\n",
       "      <td>A</td>\n",
       "      <td>A</td>\n",
       "      <td>0</td>\n",
       "      <td>No Deposit</td>\n",
       "      <td>89.0</td>\n",
       "      <td>NaN</td>\n",
       "      <td>0</td>\n",
       "      <td>Transient</td>\n",
       "      <td>104.40</td>\n",
       "      <td>0</td>\n",
       "      <td>0</td>\n",
       "      <td>Check-Out</td>\n",
       "      <td>2017-09-07</td>\n",
       "      <td>Caroline Conley MD</td>\n",
       "      <td>MD_Caroline@comcast.net</td>\n",
       "      <td>531-528-1017</td>\n",
       "      <td>************7860</td>\n",
       "    </tr>\n",
       "    <tr>\n",
       "      <th>119389</th>\n",
       "      <td>City Hotel</td>\n",
       "      <td>0</td>\n",
       "      <td>205</td>\n",
       "      <td>2017</td>\n",
       "      <td>August</td>\n",
       "      <td>35</td>\n",
       "      <td>29</td>\n",
       "      <td>2</td>\n",
       "      <td>7</td>\n",
       "      <td>2</td>\n",
       "      <td>0.0</td>\n",
       "      <td>0</td>\n",
       "      <td>HB</td>\n",
       "      <td>DEU</td>\n",
       "      <td>Online TA</td>\n",
       "      <td>TA/TO</td>\n",
       "      <td>0</td>\n",
       "      <td>0</td>\n",
       "      <td>0</td>\n",
       "      <td>A</td>\n",
       "      <td>A</td>\n",
       "      <td>0</td>\n",
       "      <td>No Deposit</td>\n",
       "      <td>9.0</td>\n",
       "      <td>NaN</td>\n",
       "      <td>0</td>\n",
       "      <td>Transient</td>\n",
       "      <td>151.20</td>\n",
       "      <td>0</td>\n",
       "      <td>2</td>\n",
       "      <td>Check-Out</td>\n",
       "      <td>2017-09-07</td>\n",
       "      <td>Ariana Michael</td>\n",
       "      <td>Ariana_M@xfinity.com</td>\n",
       "      <td>422-804-6403</td>\n",
       "      <td>************4482</td>\n",
       "    </tr>\n",
       "  </tbody>\n",
       "</table>\n",
       "<p>119390 rows × 36 columns</p>\n",
       "</div>"
      ],
      "text/plain": [
       "               hotel  is_canceled  lead_time  arrival_date_year  \\\n",
       "0       Resort Hotel            0        342               2015   \n",
       "1       Resort Hotel            0        737               2015   \n",
       "2       Resort Hotel            0          7               2015   \n",
       "3       Resort Hotel            0         13               2015   \n",
       "4       Resort Hotel            0         14               2015   \n",
       "...              ...          ...        ...                ...   \n",
       "119385    City Hotel            0         23               2017   \n",
       "119386    City Hotel            0        102               2017   \n",
       "119387    City Hotel            0         34               2017   \n",
       "119388    City Hotel            0        109               2017   \n",
       "119389    City Hotel            0        205               2017   \n",
       "\n",
       "       arrival_date_month  arrival_date_week_number  \\\n",
       "0                    July                        27   \n",
       "1                    July                        27   \n",
       "2                    July                        27   \n",
       "3                    July                        27   \n",
       "4                    July                        27   \n",
       "...                   ...                       ...   \n",
       "119385             August                        35   \n",
       "119386             August                        35   \n",
       "119387             August                        35   \n",
       "119388             August                        35   \n",
       "119389             August                        35   \n",
       "\n",
       "        arrival_date_day_of_month  stays_in_weekend_nights  \\\n",
       "0                               1                        0   \n",
       "1                               1                        0   \n",
       "2                               1                        0   \n",
       "3                               1                        0   \n",
       "4                               1                        0   \n",
       "...                           ...                      ...   \n",
       "119385                         30                        2   \n",
       "119386                         31                        2   \n",
       "119387                         31                        2   \n",
       "119388                         31                        2   \n",
       "119389                         29                        2   \n",
       "\n",
       "        stays_in_week_nights  adults  children  babies meal country  \\\n",
       "0                          0       2       0.0       0   BB     PRT   \n",
       "1                          0       2       0.0       0   BB     PRT   \n",
       "2                          1       1       0.0       0   BB     GBR   \n",
       "3                          1       1       0.0       0   BB     GBR   \n",
       "4                          2       2       0.0       0   BB     GBR   \n",
       "...                      ...     ...       ...     ...  ...     ...   \n",
       "119385                     5       2       0.0       0   BB     BEL   \n",
       "119386                     5       3       0.0       0   BB     FRA   \n",
       "119387                     5       2       0.0       0   BB     DEU   \n",
       "119388                     5       2       0.0       0   BB     GBR   \n",
       "119389                     7       2       0.0       0   HB     DEU   \n",
       "\n",
       "       market_segment distribution_channel  is_repeated_guest  \\\n",
       "0              Direct               Direct                  0   \n",
       "1              Direct               Direct                  0   \n",
       "2              Direct               Direct                  0   \n",
       "3           Corporate            Corporate                  0   \n",
       "4           Online TA                TA/TO                  0   \n",
       "...               ...                  ...                ...   \n",
       "119385  Offline TA/TO                TA/TO                  0   \n",
       "119386      Online TA                TA/TO                  0   \n",
       "119387      Online TA                TA/TO                  0   \n",
       "119388      Online TA                TA/TO                  0   \n",
       "119389      Online TA                TA/TO                  0   \n",
       "\n",
       "        previous_cancellations  previous_bookings_not_canceled  \\\n",
       "0                            0                               0   \n",
       "1                            0                               0   \n",
       "2                            0                               0   \n",
       "3                            0                               0   \n",
       "4                            0                               0   \n",
       "...                        ...                             ...   \n",
       "119385                       0                               0   \n",
       "119386                       0                               0   \n",
       "119387                       0                               0   \n",
       "119388                       0                               0   \n",
       "119389                       0                               0   \n",
       "\n",
       "       reserved_room_type assigned_room_type  booking_changes deposit_type  \\\n",
       "0                       C                  C                3   No Deposit   \n",
       "1                       C                  C                4   No Deposit   \n",
       "2                       A                  C                0   No Deposit   \n",
       "3                       A                  A                0   No Deposit   \n",
       "4                       A                  A                0   No Deposit   \n",
       "...                   ...                ...              ...          ...   \n",
       "119385                  A                  A                0   No Deposit   \n",
       "119386                  E                  E                0   No Deposit   \n",
       "119387                  D                  D                0   No Deposit   \n",
       "119388                  A                  A                0   No Deposit   \n",
       "119389                  A                  A                0   No Deposit   \n",
       "\n",
       "        agent  company  days_in_waiting_list customer_type     adr  \\\n",
       "0         NaN      NaN                     0     Transient    0.00   \n",
       "1         NaN      NaN                     0     Transient    0.00   \n",
       "2         NaN      NaN                     0     Transient   75.00   \n",
       "3       304.0      NaN                     0     Transient   75.00   \n",
       "4       240.0      NaN                     0     Transient   98.00   \n",
       "...       ...      ...                   ...           ...     ...   \n",
       "119385  394.0      NaN                     0     Transient   96.14   \n",
       "119386    9.0      NaN                     0     Transient  225.43   \n",
       "119387    9.0      NaN                     0     Transient  157.71   \n",
       "119388   89.0      NaN                     0     Transient  104.40   \n",
       "119389    9.0      NaN                     0     Transient  151.20   \n",
       "\n",
       "        required_car_parking_spaces  total_of_special_requests  \\\n",
       "0                                 0                          0   \n",
       "1                                 0                          0   \n",
       "2                                 0                          0   \n",
       "3                                 0                          0   \n",
       "4                                 0                          1   \n",
       "...                             ...                        ...   \n",
       "119385                            0                          0   \n",
       "119386                            0                          2   \n",
       "119387                            0                          4   \n",
       "119388                            0                          0   \n",
       "119389                            0                          2   \n",
       "\n",
       "       reservation_status reservation_status_date                name  \\\n",
       "0               Check-Out              2015-07-01       Ernest Barnes   \n",
       "1               Check-Out              2015-07-01        Andrea Baker   \n",
       "2               Check-Out              2015-07-02      Rebecca Parker   \n",
       "3               Check-Out              2015-07-02        Laura Murray   \n",
       "4               Check-Out              2015-07-03         Linda Hines   \n",
       "...                   ...                     ...                 ...   \n",
       "119385          Check-Out              2017-09-06     Claudia Johnson   \n",
       "119386          Check-Out              2017-09-07      Wesley Aguilar   \n",
       "119387          Check-Out              2017-09-07        Mary Morales   \n",
       "119388          Check-Out              2017-09-07  Caroline Conley MD   \n",
       "119389          Check-Out              2017-09-07      Ariana Michael   \n",
       "\n",
       "                              email  phone-number       credit_card  \n",
       "0       Ernest.Barnes31@outlook.com  669-792-1661  ************4322  \n",
       "1            Andrea_Baker94@aol.com  858-637-6955  ************9157  \n",
       "2        Rebecca_Parker@comcast.net  652-885-2745  ************3734  \n",
       "3                 Laura_M@gmail.com  364-656-8427  ************5677  \n",
       "4                LHines@verizon.com  713-226-5883  ************5498  \n",
       "...                             ...           ...               ...  \n",
       "119385          Claudia.J@yahoo.com  403-092-5582  ************8647  \n",
       "119386         WAguilar@xfinity.com  238-763-0612  ************4333  \n",
       "119387     Mary_Morales@hotmail.com  395-518-4100  ************1821  \n",
       "119388      MD_Caroline@comcast.net  531-528-1017  ************7860  \n",
       "119389         Ariana_M@xfinity.com  422-804-6403  ************4482  \n",
       "\n",
       "[119390 rows x 36 columns]"
      ]
     },
     "execution_count": 2,
     "metadata": {},
     "output_type": "execute_result"
    }
   ],
   "source": [
    "# Carga y visualización de datos originales\n",
    "df_original = pd.read_csv(data_path + 'hotel_booking.csv')\n",
    "df = df_original.copy()\n",
    "df"
   ]
  },
  {
   "cell_type": "code",
   "execution_count": 3,
   "id": "18877b8d",
   "metadata": {
    "scrolled": true
   },
   "outputs": [
    {
     "data": {
      "text/plain": [
       "{'hotel': 'Los conjuntos de datos contienen la información de reserva de dos hoteles. Uno de los hoteles es un hotel resort y el otro es un hotel urbano.',\n",
       " 'is_canceled': 'Valor que indica si la reserva fue cancelada (1) o no (0).',\n",
       " 'lead_time': 'Número de días transcurridos entre la fecha de entrada de la reserva en el PMS y la fecha de llegada.',\n",
       " 'arrival_date_year': 'Año de la fecha de llegada',\n",
       " 'arrival_date_month': 'Mes de la fecha de llegada con 12 categorías: \"enero\" a \"diciembre\"',\n",
       " 'arrival_date_week_number': 'Número de semana de la fecha de llegada',\n",
       " 'arrival_date_day_of_month': 'Día del mes de la fecha de llegada',\n",
       " 'stays_in_weekend_nights': 'Número de noches de fin de semana (sábado o domingo) que el huésped se hospedó o reservó para alojarse en el hotel',\n",
       " 'stays_in_week_nights': 'Número de noches de la semana (de lunes a viernes) que el huésped se hospedó o reservó para alojarse en el hotel BO y BL / Calculado contando el número de noches de la semana',\n",
       " 'adults': 'Número de Adultos',\n",
       " 'children': 'Numero de niños',\n",
       " 'babies': 'Numero de bebes',\n",
       " 'meal': 'BB (Alojamiento y Desayuno) El desayuno está incluido.\\nHB (media pensión)  El desayuno y la cena están incluidos. En algunos casos, puede optar por recibir el almuerzo en lugar del desayuno; el hotel lo confirmará a su llegada.\\nFB (pensión completa) Incluye desayuno, almuerzo y cena.\\nSC (autoservicio) No se incluyen comidas; sin embargo, su alojamiento contará con instalaciones de catering para que pueda cocinar comidas ligeras.\\nAI (Todo Incluido)\\nRO (solo alojamiento) No se incluyen comidas.\\r\\n',\n",
       " 'country': 'País de origen',\n",
       " 'market_segment': 'Designación de segmento de mercado. En las categorías, el término \"TA\" significa \"Agentes de viajes\" y \"TO\" significa \"Operadores turísticos\". ',\n",
       " 'distribution_channel': 'Canal de distribución de reservas. El término \"TA\" significa \"Agentes de viajes\" y \"TO\" significa \"Operadores turísticos\"',\n",
       " 'is_repeated_guest': 'Valor que indica si el nombre de la reserva fue de un huésped repetido (1) o no (0)',\n",
       " 'previous_cancellations': 'Número de reservas anteriores que fueron canceladas por el cliente antes de la reserva actual',\n",
       " 'previous_bookings_not_canceled': 'Número de reservas anteriores no canceladas por el cliente antes de la reserva actual',\n",
       " 'reserved_room_type': 'Código del tipo de habitación reservado. El código se presenta en lugar de la designación por razones de anonimato ',\n",
       " 'assigned_room_type': 'Código del tipo de habitación asignada a la reserva. A veces, el tipo de habitación asignada difiere del tipo de habitación reservada debido a razones de operación del hotel (por ejemplo, overbooking) o por solicitud del cliente. El código se presenta en lugar de la designación por razones de anonimato ',\n",
       " 'booking_changes': 'Número de cambios / modificaciones realizadas a la reserva desde el momento en que se ingresó la reserva en el PMS hasta el momento del check-in o la cancelación ',\n",
       " 'deposit_type': 'Sin depósito: no se realizó ningún depósito; Sin reembolso: se hizo un depósito por el valor del costo total de la estadía; Reembolsable: se realizó un depósito con un valor inferior al costo total de la estadía. ',\n",
       " 'agent': 'DNI de la agencia de viajes que realizó la reserva ',\n",
       " 'company': 'DNI de la empresa / entidad que realizó la reserva o responsable del pago de la reserva. La identificación se presenta en lugar de la designación por razones de anonimato ',\n",
       " 'days_in_waiting_list': 'Número de días que la reserva estuvo en lista de espera antes de que fuera confirmada al cliente ',\n",
       " 'customer_type': 'Grupo: cuando la reserva está asociada a un grupo; Transitorio: cuando la reserva no es parte de un grupo o contrato, y no está asociada a otra reserva transitoria; Parte transitoria: cuando la reserva es transitoria, pero está asociada al menos a otra reserva transitoria ',\n",
       " 'adr': 'Tarifa diaria promedio (calculada dividiendo la suma de todas las transacciones de alojamiento por el número total de noches de estadía) ',\n",
       " 'required_car_parking_spaces': 'Número de plazas de aparcamiento requeridas por el cliente ',\n",
       " 'total_of_special_requests': 'Número de solicitudes especiales realizadas por el cliente (por ejemplo, dos camas individuales o piso alto)',\n",
       " 'reservation_status': 'Check-Out: el cliente se registró pero ya se fue; No-Show: el cliente no se registró e informó al hotel el motivo ',\n",
       " 'reservation_status_date': 'Fecha en la que se estableció el último estado. Esta variable se puede utilizar junto con ReservationStatus para comprender cuándo se canceló la reserva o cuándo se registró el cliente en el hotel. ',\n",
       " 'name': 'Nombre del huésped',\n",
       " 'email': 'email',\n",
       " 'phone-number': 'numero de telefono',\n",
       " 'credit_card': 'numero de tarjeta de credito'}"
      ]
     },
     "execution_count": 3,
     "metadata": {},
     "output_type": "execute_result"
    }
   ],
   "source": [
    "# visualización de la definición de variables\n",
    "\n",
    "dict_df = pd.read_csv(data_path + 'diccionario_datos P2 hotel booking - features.csv')\n",
    "dict_df = dict_df.drop(['description'], axis=1)\n",
    "dict_df = dict(zip(dict_df['feature'], dict_df['Descripción']))\n",
    "dict_df"
   ]
  },
  {
   "cell_type": "markdown",
   "id": "34e9224d",
   "metadata": {},
   "source": [
    "# Análisis exploratorio, ingeniería de variables y preprocesamiento"
   ]
  },
  {
   "cell_type": "code",
   "execution_count": 4,
   "id": "e436ba9f",
   "metadata": {},
   "outputs": [],
   "source": [
    "# Se eliminan variables insignificantes\n",
    "\n",
    "df = df.drop(['credit_card', 'phone-number', 'name', 'email'], axis=1)"
   ]
  },
  {
   "cell_type": "code",
   "execution_count": 5,
   "id": "fa06de40",
   "metadata": {},
   "outputs": [],
   "source": [
    "# Se eliminan los duplicados\n",
    "\n",
    "df = df.drop_duplicates()"
   ]
  },
  {
   "cell_type": "code",
   "execution_count": 6,
   "id": "3e142560",
   "metadata": {},
   "outputs": [
    {
     "name": "stdout",
     "output_type": "stream",
     "text": [
      "<class 'pandas.core.frame.DataFrame'>\n",
      "Int64Index: 87396 entries, 0 to 119389\n",
      "Data columns (total 32 columns):\n",
      " #   Column                          Non-Null Count  Dtype  \n",
      "---  ------                          --------------  -----  \n",
      " 0   hotel                           87396 non-null  object \n",
      " 1   is_canceled                     87396 non-null  int64  \n",
      " 2   lead_time                       87396 non-null  int64  \n",
      " 3   arrival_date_year               87396 non-null  int64  \n",
      " 4   arrival_date_month              87396 non-null  object \n",
      " 5   arrival_date_week_number        87396 non-null  int64  \n",
      " 6   arrival_date_day_of_month       87396 non-null  int64  \n",
      " 7   stays_in_weekend_nights         87396 non-null  int64  \n",
      " 8   stays_in_week_nights            87396 non-null  int64  \n",
      " 9   adults                          87396 non-null  int64  \n",
      " 10  children                        87392 non-null  float64\n",
      " 11  babies                          87396 non-null  int64  \n",
      " 12  meal                            87396 non-null  object \n",
      " 13  country                         86944 non-null  object \n",
      " 14  market_segment                  87396 non-null  object \n",
      " 15  distribution_channel            87396 non-null  object \n",
      " 16  is_repeated_guest               87396 non-null  int64  \n",
      " 17  previous_cancellations          87396 non-null  int64  \n",
      " 18  previous_bookings_not_canceled  87396 non-null  int64  \n",
      " 19  reserved_room_type              87396 non-null  object \n",
      " 20  assigned_room_type              87396 non-null  object \n",
      " 21  booking_changes                 87396 non-null  int64  \n",
      " 22  deposit_type                    87396 non-null  object \n",
      " 23  agent                           75203 non-null  float64\n",
      " 24  company                         5259 non-null   float64\n",
      " 25  days_in_waiting_list            87396 non-null  int64  \n",
      " 26  customer_type                   87396 non-null  object \n",
      " 27  adr                             87396 non-null  float64\n",
      " 28  required_car_parking_spaces     87396 non-null  int64  \n",
      " 29  total_of_special_requests       87396 non-null  int64  \n",
      " 30  reservation_status              87396 non-null  object \n",
      " 31  reservation_status_date         87396 non-null  object \n",
      "dtypes: float64(4), int64(16), object(12)\n",
      "memory usage: 22.0+ MB\n"
     ]
    }
   ],
   "source": [
    "df.info()"
   ]
  },
  {
   "cell_type": "code",
   "execution_count": 7,
   "id": "f74818a7",
   "metadata": {},
   "outputs": [
    {
     "data": {
      "text/html": [
       "<div>\n",
       "<style scoped>\n",
       "    .dataframe tbody tr th:only-of-type {\n",
       "        vertical-align: middle;\n",
       "    }\n",
       "\n",
       "    .dataframe tbody tr th {\n",
       "        vertical-align: top;\n",
       "    }\n",
       "\n",
       "    .dataframe thead th {\n",
       "        text-align: right;\n",
       "    }\n",
       "</style>\n",
       "<table border=\"1\" class=\"dataframe\">\n",
       "  <thead>\n",
       "    <tr style=\"text-align: right;\">\n",
       "      <th></th>\n",
       "      <th>is_canceled</th>\n",
       "      <th>lead_time</th>\n",
       "      <th>arrival_date_year</th>\n",
       "      <th>arrival_date_week_number</th>\n",
       "      <th>arrival_date_day_of_month</th>\n",
       "      <th>stays_in_weekend_nights</th>\n",
       "      <th>stays_in_week_nights</th>\n",
       "      <th>adults</th>\n",
       "      <th>children</th>\n",
       "      <th>babies</th>\n",
       "      <th>is_repeated_guest</th>\n",
       "      <th>previous_cancellations</th>\n",
       "      <th>previous_bookings_not_canceled</th>\n",
       "      <th>booking_changes</th>\n",
       "      <th>agent</th>\n",
       "      <th>company</th>\n",
       "      <th>days_in_waiting_list</th>\n",
       "      <th>adr</th>\n",
       "      <th>required_car_parking_spaces</th>\n",
       "      <th>total_of_special_requests</th>\n",
       "    </tr>\n",
       "  </thead>\n",
       "  <tbody>\n",
       "    <tr>\n",
       "      <th>count</th>\n",
       "      <td>87396.000000</td>\n",
       "      <td>87396.000000</td>\n",
       "      <td>87396.000000</td>\n",
       "      <td>87396.000000</td>\n",
       "      <td>87396.000000</td>\n",
       "      <td>87396.000000</td>\n",
       "      <td>87396.000000</td>\n",
       "      <td>87396.000000</td>\n",
       "      <td>87392.000000</td>\n",
       "      <td>87396.000000</td>\n",
       "      <td>87396.000000</td>\n",
       "      <td>87396.000000</td>\n",
       "      <td>87396.000000</td>\n",
       "      <td>87396.000000</td>\n",
       "      <td>75203.000000</td>\n",
       "      <td>5259.000000</td>\n",
       "      <td>87396.000000</td>\n",
       "      <td>87396.000000</td>\n",
       "      <td>87396.000000</td>\n",
       "      <td>87396.000000</td>\n",
       "    </tr>\n",
       "    <tr>\n",
       "      <th>mean</th>\n",
       "      <td>0.274898</td>\n",
       "      <td>79.891368</td>\n",
       "      <td>2016.210296</td>\n",
       "      <td>26.838334</td>\n",
       "      <td>15.815541</td>\n",
       "      <td>1.005263</td>\n",
       "      <td>2.625395</td>\n",
       "      <td>1.875795</td>\n",
       "      <td>0.138640</td>\n",
       "      <td>0.010824</td>\n",
       "      <td>0.039075</td>\n",
       "      <td>0.030413</td>\n",
       "      <td>0.183990</td>\n",
       "      <td>0.271603</td>\n",
       "      <td>94.138306</td>\n",
       "      <td>183.081384</td>\n",
       "      <td>0.749565</td>\n",
       "      <td>106.337246</td>\n",
       "      <td>0.084226</td>\n",
       "      <td>0.698567</td>\n",
       "    </tr>\n",
       "    <tr>\n",
       "      <th>std</th>\n",
       "      <td>0.446466</td>\n",
       "      <td>86.052325</td>\n",
       "      <td>0.686102</td>\n",
       "      <td>13.674572</td>\n",
       "      <td>8.835146</td>\n",
       "      <td>1.031921</td>\n",
       "      <td>2.053584</td>\n",
       "      <td>0.626500</td>\n",
       "      <td>0.455881</td>\n",
       "      <td>0.113597</td>\n",
       "      <td>0.193775</td>\n",
       "      <td>0.369145</td>\n",
       "      <td>1.731894</td>\n",
       "      <td>0.727245</td>\n",
       "      <td>113.188172</td>\n",
       "      <td>130.557608</td>\n",
       "      <td>10.015731</td>\n",
       "      <td>55.013953</td>\n",
       "      <td>0.281533</td>\n",
       "      <td>0.831946</td>\n",
       "    </tr>\n",
       "    <tr>\n",
       "      <th>min</th>\n",
       "      <td>0.000000</td>\n",
       "      <td>0.000000</td>\n",
       "      <td>2015.000000</td>\n",
       "      <td>1.000000</td>\n",
       "      <td>1.000000</td>\n",
       "      <td>0.000000</td>\n",
       "      <td>0.000000</td>\n",
       "      <td>0.000000</td>\n",
       "      <td>0.000000</td>\n",
       "      <td>0.000000</td>\n",
       "      <td>0.000000</td>\n",
       "      <td>0.000000</td>\n",
       "      <td>0.000000</td>\n",
       "      <td>0.000000</td>\n",
       "      <td>1.000000</td>\n",
       "      <td>6.000000</td>\n",
       "      <td>0.000000</td>\n",
       "      <td>-6.380000</td>\n",
       "      <td>0.000000</td>\n",
       "      <td>0.000000</td>\n",
       "    </tr>\n",
       "    <tr>\n",
       "      <th>25%</th>\n",
       "      <td>0.000000</td>\n",
       "      <td>11.000000</td>\n",
       "      <td>2016.000000</td>\n",
       "      <td>16.000000</td>\n",
       "      <td>8.000000</td>\n",
       "      <td>0.000000</td>\n",
       "      <td>1.000000</td>\n",
       "      <td>2.000000</td>\n",
       "      <td>0.000000</td>\n",
       "      <td>0.000000</td>\n",
       "      <td>0.000000</td>\n",
       "      <td>0.000000</td>\n",
       "      <td>0.000000</td>\n",
       "      <td>0.000000</td>\n",
       "      <td>9.000000</td>\n",
       "      <td>47.000000</td>\n",
       "      <td>0.000000</td>\n",
       "      <td>72.000000</td>\n",
       "      <td>0.000000</td>\n",
       "      <td>0.000000</td>\n",
       "    </tr>\n",
       "    <tr>\n",
       "      <th>50%</th>\n",
       "      <td>0.000000</td>\n",
       "      <td>49.000000</td>\n",
       "      <td>2016.000000</td>\n",
       "      <td>27.000000</td>\n",
       "      <td>16.000000</td>\n",
       "      <td>1.000000</td>\n",
       "      <td>2.000000</td>\n",
       "      <td>2.000000</td>\n",
       "      <td>0.000000</td>\n",
       "      <td>0.000000</td>\n",
       "      <td>0.000000</td>\n",
       "      <td>0.000000</td>\n",
       "      <td>0.000000</td>\n",
       "      <td>0.000000</td>\n",
       "      <td>14.000000</td>\n",
       "      <td>169.000000</td>\n",
       "      <td>0.000000</td>\n",
       "      <td>98.100000</td>\n",
       "      <td>0.000000</td>\n",
       "      <td>0.000000</td>\n",
       "    </tr>\n",
       "    <tr>\n",
       "      <th>75%</th>\n",
       "      <td>1.000000</td>\n",
       "      <td>125.000000</td>\n",
       "      <td>2017.000000</td>\n",
       "      <td>37.000000</td>\n",
       "      <td>23.000000</td>\n",
       "      <td>2.000000</td>\n",
       "      <td>4.000000</td>\n",
       "      <td>2.000000</td>\n",
       "      <td>0.000000</td>\n",
       "      <td>0.000000</td>\n",
       "      <td>0.000000</td>\n",
       "      <td>0.000000</td>\n",
       "      <td>0.000000</td>\n",
       "      <td>0.000000</td>\n",
       "      <td>240.000000</td>\n",
       "      <td>263.000000</td>\n",
       "      <td>0.000000</td>\n",
       "      <td>134.000000</td>\n",
       "      <td>0.000000</td>\n",
       "      <td>1.000000</td>\n",
       "    </tr>\n",
       "    <tr>\n",
       "      <th>max</th>\n",
       "      <td>1.000000</td>\n",
       "      <td>737.000000</td>\n",
       "      <td>2017.000000</td>\n",
       "      <td>53.000000</td>\n",
       "      <td>31.000000</td>\n",
       "      <td>19.000000</td>\n",
       "      <td>50.000000</td>\n",
       "      <td>55.000000</td>\n",
       "      <td>10.000000</td>\n",
       "      <td>10.000000</td>\n",
       "      <td>1.000000</td>\n",
       "      <td>26.000000</td>\n",
       "      <td>72.000000</td>\n",
       "      <td>21.000000</td>\n",
       "      <td>535.000000</td>\n",
       "      <td>543.000000</td>\n",
       "      <td>391.000000</td>\n",
       "      <td>5400.000000</td>\n",
       "      <td>8.000000</td>\n",
       "      <td>5.000000</td>\n",
       "    </tr>\n",
       "  </tbody>\n",
       "</table>\n",
       "</div>"
      ],
      "text/plain": [
       "        is_canceled     lead_time  arrival_date_year  \\\n",
       "count  87396.000000  87396.000000       87396.000000   \n",
       "mean       0.274898     79.891368        2016.210296   \n",
       "std        0.446466     86.052325           0.686102   \n",
       "min        0.000000      0.000000        2015.000000   \n",
       "25%        0.000000     11.000000        2016.000000   \n",
       "50%        0.000000     49.000000        2016.000000   \n",
       "75%        1.000000    125.000000        2017.000000   \n",
       "max        1.000000    737.000000        2017.000000   \n",
       "\n",
       "       arrival_date_week_number  arrival_date_day_of_month  \\\n",
       "count              87396.000000               87396.000000   \n",
       "mean                  26.838334                  15.815541   \n",
       "std                   13.674572                   8.835146   \n",
       "min                    1.000000                   1.000000   \n",
       "25%                   16.000000                   8.000000   \n",
       "50%                   27.000000                  16.000000   \n",
       "75%                   37.000000                  23.000000   \n",
       "max                   53.000000                  31.000000   \n",
       "\n",
       "       stays_in_weekend_nights  stays_in_week_nights        adults  \\\n",
       "count             87396.000000          87396.000000  87396.000000   \n",
       "mean                  1.005263              2.625395      1.875795   \n",
       "std                   1.031921              2.053584      0.626500   \n",
       "min                   0.000000              0.000000      0.000000   \n",
       "25%                   0.000000              1.000000      2.000000   \n",
       "50%                   1.000000              2.000000      2.000000   \n",
       "75%                   2.000000              4.000000      2.000000   \n",
       "max                  19.000000             50.000000     55.000000   \n",
       "\n",
       "           children        babies  is_repeated_guest  previous_cancellations  \\\n",
       "count  87392.000000  87396.000000       87396.000000            87396.000000   \n",
       "mean       0.138640      0.010824           0.039075                0.030413   \n",
       "std        0.455881      0.113597           0.193775                0.369145   \n",
       "min        0.000000      0.000000           0.000000                0.000000   \n",
       "25%        0.000000      0.000000           0.000000                0.000000   \n",
       "50%        0.000000      0.000000           0.000000                0.000000   \n",
       "75%        0.000000      0.000000           0.000000                0.000000   \n",
       "max       10.000000     10.000000           1.000000               26.000000   \n",
       "\n",
       "       previous_bookings_not_canceled  booking_changes         agent  \\\n",
       "count                    87396.000000     87396.000000  75203.000000   \n",
       "mean                         0.183990         0.271603     94.138306   \n",
       "std                          1.731894         0.727245    113.188172   \n",
       "min                          0.000000         0.000000      1.000000   \n",
       "25%                          0.000000         0.000000      9.000000   \n",
       "50%                          0.000000         0.000000     14.000000   \n",
       "75%                          0.000000         0.000000    240.000000   \n",
       "max                         72.000000        21.000000    535.000000   \n",
       "\n",
       "           company  days_in_waiting_list           adr  \\\n",
       "count  5259.000000          87396.000000  87396.000000   \n",
       "mean    183.081384              0.749565    106.337246   \n",
       "std     130.557608             10.015731     55.013953   \n",
       "min       6.000000              0.000000     -6.380000   \n",
       "25%      47.000000              0.000000     72.000000   \n",
       "50%     169.000000              0.000000     98.100000   \n",
       "75%     263.000000              0.000000    134.000000   \n",
       "max     543.000000            391.000000   5400.000000   \n",
       "\n",
       "       required_car_parking_spaces  total_of_special_requests  \n",
       "count                 87396.000000               87396.000000  \n",
       "mean                      0.084226                   0.698567  \n",
       "std                       0.281533                   0.831946  \n",
       "min                       0.000000                   0.000000  \n",
       "25%                       0.000000                   0.000000  \n",
       "50%                       0.000000                   0.000000  \n",
       "75%                       0.000000                   1.000000  \n",
       "max                       8.000000                   5.000000  "
      ]
     },
     "execution_count": 7,
     "metadata": {},
     "output_type": "execute_result"
    }
   ],
   "source": [
    "df.describe()"
   ]
  },
  {
   "cell_type": "code",
   "execution_count": 8,
   "id": "86bc2a0e",
   "metadata": {
    "scrolled": false
   },
   "outputs": [
    {
     "data": {
      "text/plain": [
       "hotel                             0.000000\n",
       "is_canceled                       0.000000\n",
       "lead_time                         0.000000\n",
       "arrival_date_year                 0.000000\n",
       "arrival_date_month                0.000000\n",
       "arrival_date_week_number          0.000000\n",
       "arrival_date_day_of_month         0.000000\n",
       "stays_in_weekend_nights           0.000000\n",
       "stays_in_week_nights              0.000000\n",
       "adults                            0.000000\n",
       "children                          0.000046\n",
       "babies                            0.000000\n",
       "meal                              0.000000\n",
       "country                           0.005172\n",
       "market_segment                    0.000000\n",
       "distribution_channel              0.000000\n",
       "is_repeated_guest                 0.000000\n",
       "previous_cancellations            0.000000\n",
       "previous_bookings_not_canceled    0.000000\n",
       "reserved_room_type                0.000000\n",
       "assigned_room_type                0.000000\n",
       "booking_changes                   0.000000\n",
       "deposit_type                      0.000000\n",
       "agent                             0.139514\n",
       "company                           0.939826\n",
       "days_in_waiting_list              0.000000\n",
       "customer_type                     0.000000\n",
       "adr                               0.000000\n",
       "required_car_parking_spaces       0.000000\n",
       "total_of_special_requests         0.000000\n",
       "reservation_status                0.000000\n",
       "reservation_status_date           0.000000\n",
       "dtype: float64"
      ]
     },
     "execution_count": 8,
     "metadata": {},
     "output_type": "execute_result"
    }
   ],
   "source": [
    "df.isnull().sum() / len(df)"
   ]
  },
  {
   "cell_type": "markdown",
   "id": "73d3a78f",
   "metadata": {},
   "source": [
    "# CHILDREN"
   ]
  },
  {
   "cell_type": "code",
   "execution_count": 9,
   "id": "6a099c15",
   "metadata": {
    "scrolled": true
   },
   "outputs": [
    {
     "data": {
      "text/plain": [
       "0.0     0.904252\n",
       "1.0     0.053721\n",
       "2.0     0.041112\n",
       "3.0     0.000858\n",
       "10.0    0.000011\n",
       "Name: children, dtype: float64"
      ]
     },
     "execution_count": 9,
     "metadata": {},
     "output_type": "execute_result"
    }
   ],
   "source": [
    "df['children'].value_counts()/len(df['children'])"
   ]
  },
  {
   "cell_type": "code",
   "execution_count": 10,
   "id": "123d3cc6",
   "metadata": {
    "scrolled": true
   },
   "outputs": [
    {
     "data": {
      "text/plain": [
       "0.0    79028\n",
       "1.0     8368\n",
       "Name: children, dtype: int64"
      ]
     },
     "execution_count": 10,
     "metadata": {},
     "output_type": "execute_result"
    }
   ],
   "source": [
    "# Se eliminan datos atìpicos y se recategoriza en dicotómica\n",
    "\n",
    "df['children'] = df['children'].loc[df['children'] < 4]\n",
    "df['children'] = df['children'].map(lambda x: 1 if x != 0 else x)\n",
    "df['children'].value_counts()"
   ]
  },
  {
   "cell_type": "markdown",
   "id": "4447ff0b",
   "metadata": {},
   "source": [
    "# BABIES"
   ]
  },
  {
   "cell_type": "code",
   "execution_count": 11,
   "id": "57ee5d9c",
   "metadata": {},
   "outputs": [
    {
     "data": {
      "text/plain": [
       "0     86482\n",
       "1       897\n",
       "2        15\n",
       "10        1\n",
       "9         1\n",
       "Name: babies, dtype: int64"
      ]
     },
     "execution_count": 11,
     "metadata": {},
     "output_type": "execute_result"
    }
   ],
   "source": [
    "df['babies'].value_counts()"
   ]
  },
  {
   "cell_type": "code",
   "execution_count": 12,
   "id": "f188b8d6",
   "metadata": {},
   "outputs": [
    {
     "data": {
      "text/plain": [
       "0.0    86482\n",
       "1.0      914\n",
       "Name: babies, dtype: int64"
      ]
     },
     "execution_count": 12,
     "metadata": {},
     "output_type": "execute_result"
    }
   ],
   "source": [
    "# Se eliminan datos atìpicos y se recategoriza en dicotómica\n",
    "\n",
    "df['babies'] = df['babies'].loc[df['babies'] < 3]\n",
    "df['babies'] = df['babies'].map(lambda x: 1 if x != 0 else x)\n",
    "df['babies'].value_counts()"
   ]
  },
  {
   "cell_type": "markdown",
   "id": "5ee89982",
   "metadata": {},
   "source": [
    "# COUNTRY"
   ]
  },
  {
   "cell_type": "code",
   "execution_count": 13,
   "id": "c6f25cfb",
   "metadata": {},
   "outputs": [
    {
     "data": {
      "text/plain": [
       "PRT    27453\n",
       "GBR    10433\n",
       "FRA     8837\n",
       "ESP     7252\n",
       "DEU     5387\n",
       "       ...  \n",
       "MMR        1\n",
       "BFA        1\n",
       "CYM        1\n",
       "MLI        1\n",
       "KHM        1\n",
       "Name: country, Length: 177, dtype: int64"
      ]
     },
     "execution_count": 13,
     "metadata": {},
     "output_type": "execute_result"
    }
   ],
   "source": [
    "df['country'].value_counts()"
   ]
  },
  {
   "cell_type": "code",
   "execution_count": 14,
   "id": "f52eebcd",
   "metadata": {},
   "outputs": [
    {
     "data": {
      "text/plain": [
       "CN    1093\n",
       "Name: country, dtype: int64"
      ]
     },
     "execution_count": 14,
     "metadata": {},
     "output_type": "execute_result"
    }
   ],
   "source": [
    "# Se encuentra el dato atìpico CN = CHN\n",
    "\n",
    "df_aux = df.copy()\n",
    "df_aux['countrytype'] = df_aux['country'].map(lambda x: len(str(x)))\n",
    "df_aux['country'].loc[df_aux['countrytype'] == 2].value_counts()"
   ]
  },
  {
   "cell_type": "code",
   "execution_count": 15,
   "id": "8684cd76",
   "metadata": {},
   "outputs": [],
   "source": [
    "df['country'] = df['country'].map(lambda x: 'CHN' if x == 'CN' else x)"
   ]
  },
  {
   "cell_type": "code",
   "execution_count": 16,
   "id": "ac7cb851",
   "metadata": {},
   "outputs": [
    {
     "data": {
      "text/plain": [
       "Portugal - Southern Europe                                                27453\n",
       "United Kingdom of Great Britain and Northern Ireland - Northern Europe    10433\n",
       "France - Western Europe                                                    8837\n",
       "Spain - Southern Europe                                                    7252\n",
       "Germany - Western Europe                                                   5387\n",
       "                                                                          ...  \n",
       "Myanmar - South-eastern Asia                                                  1\n",
       "San Marino - Southern Europe                                                  1\n",
       "Burkina Faso - Western Africa                                                 1\n",
       "Cayman Islands - Caribbean                                                    1\n",
       "Cambodia - South-eastern Asia                                                 1\n",
       "Length: 174, dtype: int64"
      ]
     },
     "execution_count": 16,
     "metadata": {},
     "output_type": "execute_result"
    }
   ],
   "source": [
    "# Se utiliza un diccionario alterno para encontrar el nombre y la región del país de la reservación\n",
    "\n",
    "country_data = pd.read_csv(data_path + 'hotel country.csv')\n",
    "region = dict(zip(country_data['country'], country_data['region']))\n",
    "country_name = dict(zip(country_data['country'], country_data['country name']))\n",
    "df['country_name'] = df['country'].map(country_name)\n",
    "df['country_region'] = df['country'].map(region)\n",
    "(df['country_name'] + ' - ' + df['country_region']).value_counts()"
   ]
  },
  {
   "cell_type": "code",
   "execution_count": 17,
   "id": "37eb0748",
   "metadata": {},
   "outputs": [
    {
     "data": {
      "text/plain": [
       "0.005698201290676919"
      ]
     },
     "execution_count": 17,
     "metadata": {},
     "output_type": "execute_result"
    }
   ],
   "source": [
    "# Se renombran las categorías a fin de mantener los países con mayor recurrencia \n",
    "\n",
    "\n",
    "country = dict(zip(country_data['country name'], country_data['region']))\n",
    "country.update({'Portugal': 'Portugal', 'United Kingdom of Great Britain and Northern Ireland': 'United Kingdom of Great Britain and Northern Ireland',\n",
    "               'France': 'France', 'Spain': 'Spain', 'Germany': 'Germany'})\n",
    "df['country_name'] = df['country_name'].map(country)\n",
    "df['country_name'].isnull().sum() / len(df['country_name'])\n",
    "\n",
    "#Se comparan los valores nulos del mapeo y de la variable original, no hay ningun dato distinto"
   ]
  },
  {
   "cell_type": "code",
   "execution_count": 18,
   "id": "64e80a8f",
   "metadata": {
    "scrolled": true
   },
   "outputs": [
    {
     "data": {
      "text/plain": [
       "Portugal                                                27453\n",
       "United Kingdom of Great Britain and Northern Ireland    10433\n",
       "France                                                   8837\n",
       "Spain                                                    7252\n",
       "Rest of Western Europe                                   6778\n",
       "Rest of Northern Europe                                  5418\n",
       "Germany                                                  5387\n",
       "Rest of Southern Europe                                  3449\n",
       "South America                                            2447\n",
       "Eastern Europe                                           2324\n",
       "Eastern Asia                                             2244\n",
       "Northern America                                         1875\n",
       "Western Asia                                              912\n",
       "Australia and New Zealand                                 441\n",
       "Northern Africa                                           391\n",
       "Middle Africa                                             363\n",
       "Southern Asia                                             265\n",
       "South-eastern Asia                                        167\n",
       "Central America                                           107\n",
       "Eastern Africa                                             99\n",
       "Western Africa                                             92\n",
       "Southern Africa                                            80\n",
       "Caribbean                                                  50\n",
       "Central Asia                                               25\n",
       "Micronesia                                                  3\n",
       "Melanesia                                                   2\n",
       "Polynesia                                                   2\n",
       "Antarctica                                                  2\n",
       "Name: country_region, dtype: int64"
      ]
     },
     "execution_count": 18,
     "metadata": {},
     "output_type": "execute_result"
    }
   ],
   "source": [
    "# Se mantienen las regiones donde se encuentran dichos países con mayor recurrencia como resto de \"region\"\n",
    "\n",
    "df['country_region'] = (df['country_name'].map(lambda x: 'Rest of Southern Europe' if x == 'Southern Europe' else x)\n",
    "                 .map(lambda x: 'Rest of Northern Europe' if x == 'Northern Europe' else x)\n",
    "                 .map(lambda x: 'Rest of Western Europe' if x == 'Western Europe' else x)\n",
    "                 .map(lambda x: 'Rest of Southern Europe' if x == 'Southern Europe' else x))\n",
    "df['country_region'].value_counts()"
   ]
  },
  {
   "cell_type": "code",
   "execution_count": 19,
   "id": "021902b2",
   "metadata": {
    "scrolled": true
   },
   "outputs": [
    {
     "data": {
      "text/plain": [
       "Portugal                                                27453\n",
       "United Kingdom of Great Britain and Northern Ireland    10433\n",
       "France                                                   8837\n",
       "Spain                                                    7252\n",
       "Rest of Western Europe                                   6778\n",
       "Rest of Northern Europe                                  5418\n",
       "Germany                                                  5387\n",
       "Rest of Southern Europe                                  3449\n",
       "South America                                            2447\n",
       "Eastern Europe                                           2324\n",
       "Eastern Asia                                             2244\n",
       "Other region                                             2146\n",
       "Northern America                                         1875\n",
       "Western Asia                                              912\n",
       "Australia and New Zealand                                 441\n",
       "Name: country_region, dtype: int64"
      ]
     },
     "execution_count": 19,
     "metadata": {},
     "output_type": "execute_result"
    }
   ],
   "source": [
    "# Se muestran las regiones de tamaño más pequeño que la muestra/200 como \"otra región\"\n",
    "\n",
    "df = df.drop(['country', 'country_name'], axis=1)\n",
    "country_region = pd.DataFrame(df['country_region'].value_counts()).reset_index()\n",
    "country_region = (country_region.loc[country_region['country_region'] > len(df)/200])['index'].to_list()\n",
    "(df['country_region'].map(lambda x: 'Other region' if x not in country_region else x)).value_counts()"
   ]
  },
  {
   "cell_type": "code",
   "execution_count": 20,
   "id": "34eb3d81",
   "metadata": {
    "scrolled": true
   },
   "outputs": [
    {
     "data": {
      "text/plain": [
       "Portugal                                                27453\n",
       "United Kingdom of Great Britain and Northern Ireland    10433\n",
       "France                                                   8837\n",
       "Spain                                                    7252\n",
       "Rest of Western Europe                                   6778\n",
       "Rest of Northern Europe                                  5418\n",
       "Germany                                                  5387\n",
       "Rest of Southern Europe                                  3449\n",
       "South America                                            2447\n",
       "Eastern Europe                                           2324\n",
       "Eastern Asia                                             2244\n",
       "Northern America                                         1875\n",
       "Africa                                                   1025\n",
       "Western Asia                                              912\n",
       "Rest of Asia, Oceania & Zealand                           905\n",
       "Central America & Caribbean                               157\n",
       "Antarctica                                                  2\n",
       "Name: country_region, dtype: int64"
      ]
     },
     "execution_count": 20,
     "metadata": {},
     "output_type": "execute_result"
    }
   ],
   "source": [
    "# Se crea una nueva caterogría para el resto del continente asiático, Oceanía y Zelandia, y otra para el resto de América\n",
    "\n",
    "df['country_region'] = (df['country_region'].map(lambda x: 'Rest of Asia, Oceania & Zealand' if (x == 'Southern Asia' or x == 'South-eastern Asia' or x == 'Central Asia' or x == 'Australia and New Zealand' or x == 'Micronesia' or x == 'Melanesia' or x == 'Polynesia') else x)\n",
    "                        .map(lambda x: 'Africa' if (x == 'Northern Africa' or x == 'Middle Africa' or x == 'Eastern Africa' or x == 'Western Africa' or x == 'Southern Africa') else x)\n",
    "                        .map(lambda x: 'Central America & Caribbean' if (x == 'Central America' or x == 'Caribbean') else x))       \n",
    "df['country_region'].value_counts()\n",
    "\n"
   ]
  },
  {
   "cell_type": "code",
   "execution_count": 21,
   "id": "4d2c2e30",
   "metadata": {},
   "outputs": [
    {
     "data": {
      "text/plain": [
       "Portugal                                                27453\n",
       "United Kingdom of Great Britain and Northern Ireland    10433\n",
       "France                                                   8837\n",
       "Spain                                                    7252\n",
       "Rest of Western Europe                                   6778\n",
       "Rest of Northern Europe                                  5418\n",
       "Germany                                                  5387\n",
       "Rest of Southern Europe                                  3449\n",
       "South America                                            2447\n",
       "Eastern Europe                                           2324\n",
       "Eastern Asia                                             2244\n",
       "Northern America                                         1875\n",
       "Africa                                                   1025\n",
       "Western Asia                                              912\n",
       "Rest of Asia, Oceania & Zealand                           905\n",
       "Name: country_region, dtype: int64"
      ]
     },
     "execution_count": 21,
     "metadata": {},
     "output_type": "execute_result"
    }
   ],
   "source": [
    "# Se eliminan los datos atìpicos (Antàrtida y América Central y Caribe)\n",
    "df = df.loc[(df['country_region'] != 'Antarctica') & (df['country_region'] != 'Central America & Caribbean')]\n",
    "df['country_region'].value_counts()\n",
    "\n",
    "# 16 regiones finales"
   ]
  },
  {
   "cell_type": "markdown",
   "id": "ee4cb037",
   "metadata": {},
   "source": [
    "# Agent"
   ]
  },
  {
   "cell_type": "code",
   "execution_count": 22,
   "id": "0ca4edcf",
   "metadata": {
    "scrolled": true
   },
   "outputs": [
    {
     "data": {
      "text/plain": [
       "9.0            28686\n",
       "Other Agent    14531\n",
       "240.0          13020\n",
       "No Agent       12173\n",
       "14.0            3342\n",
       "7.0             3291\n",
       "250.0           2779\n",
       "241.0           1638\n",
       "28.0            1501\n",
       "8.0             1379\n",
       "1.0             1232\n",
       "6.0             1115\n",
       "40.0             985\n",
       "314.0            844\n",
       "242.0            721\n",
       "Name: agent, dtype: int64"
      ]
     },
     "execution_count": 22,
     "metadata": {},
     "output_type": "execute_result"
    }
   ],
   "source": [
    "# Se recategorizan las agencias a las que tengan más recurrencia que el tamaño de la muestra / 125\n",
    "# Se envían las restantes a la categoría \"otra agencia\"\n",
    "\n",
    "df['agent'] = df['agent'].fillna('No Agent')\n",
    "agent = pd.DataFrame(df['agent'].value_counts()).reset_index()\n",
    "agent = (agent.loc[agent['agent'] > len(df)/125])['index'].to_list()\n",
    "df['agent'] = df['agent'].map(lambda x: 'Other Agent' if x not in agent else x)\n",
    "df['agent'].value_counts()\n",
    "\n",
    "# Categorías totales: 15"
   ]
  },
  {
   "cell_type": "markdown",
   "id": "d0674edc",
   "metadata": {},
   "source": [
    "# Company"
   ]
  },
  {
   "cell_type": "code",
   "execution_count": 23,
   "id": "0025d0a2",
   "metadata": {},
   "outputs": [
    {
     "data": {
      "text/plain": [
       "0    81991\n",
       "1     5246\n",
       "Name: company, dtype: int64"
      ]
     },
     "execution_count": 23,
     "metadata": {},
     "output_type": "execute_result"
    }
   ],
   "source": [
    "# Se imputan los datos atípicos como \"sin compañía\" de la variable Company.\n",
    "\n",
    "df['company'] = df['company'].fillna(0)\n",
    "df['company'] = df['company'].map(lambda x: 1 if x != 0.0 else x).astype(int)\n",
    "df['company'].value_counts()\n",
    "# Ahora es una variable dicotómica"
   ]
  },
  {
   "cell_type": "markdown",
   "id": "9028e76b",
   "metadata": {},
   "source": [
    "# Adults"
   ]
  },
  {
   "cell_type": "code",
   "execution_count": 24,
   "id": "fe9b1dbe",
   "metadata": {},
   "outputs": [
    {
     "data": {
      "text/plain": [
       "2     64393\n",
       "1     16461\n",
       "3      5923\n",
       "0       384\n",
       "4        60\n",
       "26        5\n",
       "27        2\n",
       "20        2\n",
       "5         2\n",
       "40        1\n",
       "50        1\n",
       "55        1\n",
       "6         1\n",
       "10        1\n",
       "Name: adults, dtype: int64"
      ]
     },
     "execution_count": 24,
     "metadata": {},
     "output_type": "execute_result"
    }
   ],
   "source": [
    "df['adults'].value_counts()"
   ]
  },
  {
   "cell_type": "code",
   "execution_count": 25,
   "id": "3515cf84",
   "metadata": {},
   "outputs": [
    {
     "data": {
      "text/plain": [
       "2    64393\n",
       "1    16461\n",
       "3     5983\n",
       "0      384\n",
       "Name: adults, dtype: int64"
      ]
     },
     "execution_count": 25,
     "metadata": {},
     "output_type": "execute_result"
    }
   ],
   "source": [
    "df = df.loc[(df['adults'] < 5) & (df['adults'] >= 0)]\n",
    "df['adults'] = df['adults'].map(lambda x: 3 if x == 4 else x)\n",
    "df['adults'].value_counts()\n",
    "\n",
    "# Se eliminan los datos atípicos para grupos extremadamente grandes de adultos por habitación\n",
    "# Se asignan los pocos datos de 3 adultos a la categoría de 3 adultos"
   ]
  },
  {
   "cell_type": "markdown",
   "id": "d77fde7d",
   "metadata": {},
   "source": [
    "# Days_in_waiting_list"
   ]
  },
  {
   "cell_type": "code",
   "execution_count": 26,
   "id": "8453d51a",
   "metadata": {
    "scrolled": true
   },
   "outputs": [
    {
     "data": {
      "image/png": "[encoded data removed]",
      "text/plain": [
       "<Figure size 432x288 with 1 Axes>"
      ]
     },
     "metadata": {
      "needs_background": "light"
     },
     "output_type": "display_data"
    }
   ],
   "source": [
    "# Se grafica el comportamiento de los días en lista bajo al condición: En lista de espera\n",
    "aux = df['days_in_waiting_list'].loc[df['days_in_waiting_list'] > 0].value_counts()\n",
    "plot.hist(x=aux, bins=100)\n",
    "plot.show()\n",
    "\n",
    "# Se observan datos dispersos y no los suficientes por lo que"
   ]
  },
  {
   "cell_type": "code",
   "execution_count": 27,
   "id": "b585bf9d",
   "metadata": {},
   "outputs": [
    {
     "data": {
      "text/plain": [
       "0    86363\n",
       "1      858\n",
       "Name: days_in_waiting_list, dtype: int64"
      ]
     },
     "execution_count": 27,
     "metadata": {},
     "output_type": "execute_result"
    }
   ],
   "source": [
    "# Se recategoriza como variable dicotómica\n",
    "\n",
    "df['days_in_waiting_list'] = df['days_in_waiting_list'].map(lambda x: 1 if x>0 else x)\n",
    "df['days_in_waiting_list'].value_counts()"
   ]
  },
  {
   "cell_type": "markdown",
   "id": "a488ca94",
   "metadata": {},
   "source": [
    "# Previous_cancellations"
   ]
  },
  {
   "cell_type": "code",
   "execution_count": 28,
   "id": "acad174c",
   "metadata": {},
   "outputs": [
    {
     "data": {
      "text/plain": [
       "0     85536\n",
       "1      1407\n",
       "2       112\n",
       "3        61\n",
       "4        30\n",
       "11       27\n",
       "5        19\n",
       "6        17\n",
       "13        4\n",
       "25        2\n",
       "24        2\n",
       "26        1\n",
       "14        1\n",
       "19        1\n",
       "21        1\n",
       "Name: previous_cancellations, dtype: int64"
      ]
     },
     "execution_count": 28,
     "metadata": {},
     "output_type": "execute_result"
    }
   ],
   "source": [
    "#Se ve el comportamiento de la variable\n",
    "df['previous_cancellations'].value_counts()"
   ]
  },
  {
   "cell_type": "markdown",
   "id": "8f1aca50",
   "metadata": {},
   "source": [
    "# Previous booking not canceled"
   ]
  },
  {
   "cell_type": "code",
   "execution_count": 29,
   "id": "c93335d7",
   "metadata": {
    "scrolled": false
   },
   "outputs": [
    {
     "data": {
      "text/plain": [
       "0     83682\n",
       "1      1481\n",
       "2       579\n",
       "3       330\n",
       "4       227\n",
       "      ...  \n",
       "47        1\n",
       "49        1\n",
       "50        1\n",
       "51        1\n",
       "72        1\n",
       "Name: previous_bookings_not_canceled, Length: 73, dtype: int64"
      ]
     },
     "execution_count": 29,
     "metadata": {},
     "output_type": "execute_result"
    }
   ],
   "source": [
    "#Se ve el comportamiento de la variable\n",
    "\n",
    "df['previous_bookings_not_canceled'].value_counts()"
   ]
  },
  {
   "cell_type": "markdown",
   "id": "38573457",
   "metadata": {},
   "source": [
    "# Canceling Difference"
   ]
  },
  {
   "cell_type": "code",
   "execution_count": 30,
   "id": "3e8efb64",
   "metadata": {},
   "outputs": [],
   "source": [
    "#Se crea una nueva variable continua: Radio de cancelación, derivado de la resta de las agendas previamente no canceladas\n",
    "# menos las agendas previamente canceladas.\n",
    "# Se intuye que la moda será 0 (los que son nuevos clientes), y se encuentra una gran cantidad de 1 y -1 (scoring dicotómico)"
   ]
  },
  {
   "cell_type": "code",
   "execution_count": 31,
   "id": "15a74ff4",
   "metadata": {
    "scrolled": false
   },
   "outputs": [
    {
     "data": {
      "image/png": "[encoded data removed]",
      "text/plain": [
       "<Figure size 432x288 with 1 Axes>"
      ]
     },
     "metadata": {
      "needs_background": "light"
     },
     "output_type": "display_data"
    }
   ],
   "source": [
    "df['canceling_ratio'] = - df['previous_cancellations'] + df['previous_bookings_not_canceled']\n",
    "plot.hist(x=df['canceling_ratio'].loc[(df['canceling_ratio'] != 0) & (df['canceling_ratio'] != -1)], bins=100)\n",
    "plot.show()"
   ]
  },
  {
   "cell_type": "code",
   "execution_count": 32,
   "id": "0ff59730",
   "metadata": {
    "scrolled": true
   },
   "outputs": [
    {
     "data": {
      "text/plain": [
       "0               82689\n",
       "mayor que 1      1980\n",
       "1                1458\n",
       "-1               1035\n",
       "menor que -1       59\n",
       "Name: canceling_ratio, dtype: int64"
      ]
     },
     "execution_count": 32,
     "metadata": {},
     "output_type": "execute_result"
    }
   ],
   "source": [
    "# Se recategorizan las variables (los que tengan un scoring de màs de una cancelación vs agendas no canceladas:\n",
    "# menor que -1; y visceversa)\n",
    "df['canceling_ratio'] = df['canceling_ratio'].map(lambda x: 'menor que -1' if x<-1 else 'mayor que 1' if x>1 else x)\n",
    "df['canceling_ratio'].value_counts()"
   ]
  },
  {
   "cell_type": "code",
   "execution_count": 33,
   "id": "bc61c919",
   "metadata": {},
   "outputs": [],
   "source": [
    "# Se eliminan las variables que dejaron de ser útiles sobre las cancelaciones\n",
    "df = df.drop(['previous_bookings_not_canceled', 'previous_cancellations'], axis=1)\n"
   ]
  },
  {
   "cell_type": "markdown",
   "id": "2bc9e217",
   "metadata": {},
   "source": [
    "# Car_parking"
   ]
  },
  {
   "cell_type": "code",
   "execution_count": 34,
   "id": "961c08f6",
   "metadata": {},
   "outputs": [
    {
     "data": {
      "text/plain": [
       "0    79911\n",
       "1     7277\n",
       "2       28\n",
       "3        3\n",
       "8        2\n",
       "Name: required_car_parking_spaces, dtype: int64"
      ]
     },
     "execution_count": 34,
     "metadata": {},
     "output_type": "execute_result"
    }
   ],
   "source": [
    "df['required_car_parking_spaces'].value_counts()"
   ]
  },
  {
   "cell_type": "code",
   "execution_count": 35,
   "id": "0bc87cd1",
   "metadata": {
    "scrolled": true
   },
   "outputs": [
    {
     "data": {
      "text/plain": [
       "0    79911\n",
       "1     7277\n",
       "2       28\n",
       "Name: required_car_parking_spaces, dtype: int64"
      ]
     },
     "execution_count": 35,
     "metadata": {},
     "output_type": "execute_result"
    }
   ],
   "source": [
    "# Se eliminan datos atípicos y se recategoriza\n",
    "df = df.loc[(df['required_car_parking_spaces'] < 3)]\n",
    "df['required_car_parking_spaces'].value_counts()"
   ]
  },
  {
   "cell_type": "markdown",
   "id": "76aaa5b6",
   "metadata": {},
   "source": [
    "# Special Requests"
   ]
  },
  {
   "cell_type": "code",
   "execution_count": 36,
   "id": "0333acb4",
   "metadata": {},
   "outputs": [
    {
     "data": {
      "text/plain": [
       "0    43789\n",
       "1    28969\n",
       "2    11789\n",
       "3     2313\n",
       "4      320\n",
       "5       36\n",
       "Name: total_of_special_requests, dtype: int64"
      ]
     },
     "execution_count": 36,
     "metadata": {},
     "output_type": "execute_result"
    }
   ],
   "source": [
    "df['total_of_special_requests'].value_counts()"
   ]
  },
  {
   "cell_type": "code",
   "execution_count": 37,
   "id": "918e4c3f",
   "metadata": {
    "scrolled": true
   },
   "outputs": [
    {
     "data": {
      "text/plain": [
       "0            43789\n",
       "1            28969\n",
       "2            11789\n",
       "3 or more     2669\n",
       "Name: total_of_special_requests, dtype: int64"
      ]
     },
     "execution_count": 37,
     "metadata": {},
     "output_type": "execute_result"
    }
   ],
   "source": [
    "# Se recategorizan a 3 o más los requerimientos especiales por aprte del usuario para 3, 4 y 5\n",
    "df['total_of_special_requests'] = df['total_of_special_requests'].map(lambda x: '3 or more' if x > 2 else x)\n",
    "df['total_of_special_requests'].value_counts()"
   ]
  },
  {
   "cell_type": "code",
   "execution_count": 38,
   "id": "576b76df",
   "metadata": {},
   "outputs": [
    {
     "data": {
      "text/plain": [
       "hotel                          0.00000\n",
       "is_canceled                    0.00000\n",
       "lead_time                      0.00000\n",
       "arrival_date_year              0.00000\n",
       "arrival_date_month             0.00000\n",
       "arrival_date_week_number       0.00000\n",
       "arrival_date_day_of_month      0.00000\n",
       "stays_in_weekend_nights        0.00000\n",
       "stays_in_week_nights           0.00000\n",
       "adults                         0.00000\n",
       "children                       0.00000\n",
       "babies                         0.00000\n",
       "meal                           0.00000\n",
       "market_segment                 0.00000\n",
       "distribution_channel           0.00000\n",
       "is_repeated_guest              0.00000\n",
       "reserved_room_type             0.00000\n",
       "assigned_room_type             0.00000\n",
       "booking_changes                0.00000\n",
       "deposit_type                   0.00000\n",
       "agent                          0.00000\n",
       "company                        0.00000\n",
       "days_in_waiting_list           0.00000\n",
       "customer_type                  0.00000\n",
       "adr                            0.00000\n",
       "required_car_parking_spaces    0.00000\n",
       "total_of_special_requests      0.00000\n",
       "reservation_status             0.00000\n",
       "reservation_status_date        0.00000\n",
       "country_region                 0.00571\n",
       "canceling_ratio                0.00000\n",
       "dtype: float64"
      ]
     },
     "execution_count": 38,
     "metadata": {},
     "output_type": "execute_result"
    }
   ],
   "source": [
    "# Se revisan los nulos a imputar\n",
    "df.isnull().sum() / len(df)"
   ]
  },
  {
   "cell_type": "markdown",
   "id": "e75d0e87",
   "metadata": {},
   "source": [
    "# Market Segment"
   ]
  },
  {
   "cell_type": "code",
   "execution_count": 39,
   "id": "57f3fe00",
   "metadata": {},
   "outputs": [
    {
     "data": {
      "text/plain": [
       "Online TA        51507\n",
       "Offline TA/TO    13870\n",
       "Direct           11774\n",
       "Groups            4932\n",
       "Corporate         4202\n",
       "Complementary      702\n",
       "Aviation           227\n",
       "Undefined            2\n",
       "Name: market_segment, dtype: int64"
      ]
     },
     "execution_count": 39,
     "metadata": {},
     "output_type": "execute_result"
    }
   ],
   "source": [
    "df['market_segment'].value_counts()"
   ]
  },
  {
   "cell_type": "code",
   "execution_count": 40,
   "id": "6f125710",
   "metadata": {},
   "outputs": [
    {
     "data": {
      "text/plain": [
       "Online TA        51507\n",
       "Offline TA/TO    13870\n",
       "Direct           11774\n",
       "Groups            4932\n",
       "Corporate         4202\n",
       "Complementary      702\n",
       "Aviation           227\n",
       "Name: market_segment, dtype: int64"
      ]
     },
     "execution_count": 40,
     "metadata": {},
     "output_type": "execute_result"
    }
   ],
   "source": [
    "# Se eliminan los datos atípicos \n",
    "df = df.loc[df['market_segment'] != 'Undefined']\n",
    "df['market_segment'].value_counts()"
   ]
  },
  {
   "cell_type": "markdown",
   "id": "c3d382c4",
   "metadata": {},
   "source": [
    "# Booking Changes"
   ]
  },
  {
   "cell_type": "code",
   "execution_count": 41,
   "id": "e34e84a1",
   "metadata": {},
   "outputs": [
    {
     "data": {
      "text/plain": [
       "0     71353\n",
       "1     10871\n",
       "2      3501\n",
       "3       872\n",
       "4       356\n",
       "5       116\n",
       "6        59\n",
       "7        31\n",
       "8        17\n",
       "9         8\n",
       "10        6\n",
       "13        5\n",
       "14        5\n",
       "15        3\n",
       "16        2\n",
       "17        2\n",
       "12        2\n",
       "11        2\n",
       "20        1\n",
       "21        1\n",
       "18        1\n",
       "Name: booking_changes, dtype: int64"
      ]
     },
     "execution_count": 41,
     "metadata": {},
     "output_type": "execute_result"
    }
   ],
   "source": [
    "df['booking_changes'].value_counts()"
   ]
  },
  {
   "cell_type": "code",
   "execution_count": 42,
   "id": "eb29f2f3",
   "metadata": {},
   "outputs": [
    {
     "data": {
      "text/plain": [
       "0            71353\n",
       "1            10871\n",
       "2             3501\n",
       "3              872\n",
       "4 or more      607\n",
       "Name: booking_changes, dtype: int64"
      ]
     },
     "execution_count": 42,
     "metadata": {},
     "output_type": "execute_result"
    }
   ],
   "source": [
    "# Se eliminan los datos atípicos y se recategorizan desde 4 cambios de agenda a infinito\n",
    "df = df.loc[df['booking_changes'] < 15]\n",
    "df['booking_changes'] = df['booking_changes'].map(lambda x:'4 or more' if x>3 else x)\n",
    "df['booking_changes'].value_counts()"
   ]
  },
  {
   "cell_type": "markdown",
   "id": "0195ffb7",
   "metadata": {},
   "source": [
    "# arrival date month"
   ]
  },
  {
   "cell_type": "code",
   "execution_count": 43,
   "id": "6f6c8b84",
   "metadata": {},
   "outputs": [
    {
     "data": {
      "text/plain": [
       "August       11239\n",
       "July         10042\n",
       "May           8324\n",
       "April         7897\n",
       "June          7749\n",
       "March         7497\n",
       "October       6912\n",
       "September     6671\n",
       "February      6092\n",
       "December      5118\n",
       "November      4984\n",
       "January       4679\n",
       "Name: arrival_date_month, dtype: int64"
      ]
     },
     "execution_count": 43,
     "metadata": {},
     "output_type": "execute_result"
    }
   ],
   "source": [
    "\n",
    "df['arrival_date_month'].value_counts()"
   ]
  },
  {
   "cell_type": "code",
   "execution_count": 44,
   "id": "0bd07057",
   "metadata": {},
   "outputs": [],
   "source": [
    "# Se mapea a fin de tener los meses en nùmero y no en palabra\n",
    "month = {\n",
    "    'August': 8,\n",
    "    'July': 7,\n",
    "    'May': 5,\n",
    "    'October': 10,\n",
    "    'April': 4,\n",
    "    'June': 6,\n",
    "    'September': 9,\n",
    "    'March': 3,\n",
    "    'February': 2,\n",
    "    'November': 11,\n",
    "    'December': 12,\n",
    "    'January': 1\n",
    "}\n",
    "df['arrival_date_month'] = df['arrival_date_month'].map(month)\n"
   ]
  },
  {
   "cell_type": "markdown",
   "id": "1f326ed8",
   "metadata": {},
   "source": [
    "# Reservation status date"
   ]
  },
  {
   "cell_type": "code",
   "execution_count": 45,
   "id": "4b703f70",
   "metadata": {},
   "outputs": [
    {
     "data": {
      "text/plain": [
       "0         2015-07-01\n",
       "1         2015-07-01\n",
       "2         2015-07-02\n",
       "3         2015-07-02\n",
       "4         2015-07-03\n",
       "             ...    \n",
       "119385    2017-09-06\n",
       "119386    2017-09-07\n",
       "119387    2017-09-07\n",
       "119388    2017-09-07\n",
       "119389    2017-09-07\n",
       "Name: reservation_status_date, Length: 87204, dtype: object"
      ]
     },
     "execution_count": 45,
     "metadata": {},
     "output_type": "execute_result"
    }
   ],
   "source": [
    "df['reservation_status_date']"
   ]
  },
  {
   "cell_type": "code",
   "execution_count": 46,
   "id": "3593c026",
   "metadata": {},
   "outputs": [],
   "source": [
    "# Se divide la fecha de estado de reservación en sus 3 respectivos conjuntos.\n",
    "\n",
    "df['reservation_status_year'] = df['reservation_status_date'].map(lambda x: x.split('-',2)[0])\n",
    "df['reservation_status_month'] = df['reservation_status_date'].map(lambda x: x.split('-',2)[1]).astype(int)\n",
    "df['reservation_status_day'] = df['reservation_status_date'].map(lambda x: x.split('-',2)[2]).astype(int)"
   ]
  },
  {
   "cell_type": "code",
   "execution_count": 47,
   "id": "20194828",
   "metadata": {},
   "outputs": [],
   "source": [
    "df = df.drop('reservation_status_date', axis=1)"
   ]
  },
  {
   "cell_type": "markdown",
   "id": "9f444c10",
   "metadata": {},
   "source": [
    "# reserved room type"
   ]
  },
  {
   "cell_type": "code",
   "execution_count": 48,
   "id": "9c38e61c",
   "metadata": {
    "scrolled": true
   },
   "outputs": [
    {
     "data": {
      "text/plain": [
       "A    56416\n",
       "D    17366\n",
       "E     6035\n",
       "F     2821\n",
       "G     2048\n",
       "B      995\n",
       "C      915\n",
       "H      596\n",
       "L        6\n",
       "P        6\n",
       "Name: reserved_room_type, dtype: int64"
      ]
     },
     "execution_count": 48,
     "metadata": {},
     "output_type": "execute_result"
    }
   ],
   "source": [
    "df['reserved_room_type'].value_counts()"
   ]
  },
  {
   "cell_type": "code",
   "execution_count": 49,
   "id": "e4c54ebf",
   "metadata": {},
   "outputs": [
    {
     "data": {
      "text/plain": [
       "A    56416\n",
       "D    17366\n",
       "E     6035\n",
       "F     2821\n",
       "G     2048\n",
       "B      995\n",
       "C      915\n",
       "H      596\n",
       "Name: reserved_room_type, dtype: int64"
      ]
     },
     "execution_count": 49,
     "metadata": {},
     "output_type": "execute_result"
    }
   ],
   "source": [
    "# Se eliminan datos atípicos\n",
    "df = df.loc[(df['reserved_room_type'] != 'L') & (df['reserved_room_type'] != 'P')]\n",
    "df['reserved_room_type'].value_counts()"
   ]
  },
  {
   "cell_type": "markdown",
   "id": "b0ff7941",
   "metadata": {},
   "source": [
    "# Assigned room type"
   ]
  },
  {
   "cell_type": "code",
   "execution_count": 50,
   "id": "a9b88517",
   "metadata": {
    "scrolled": true
   },
   "outputs": [
    {
     "data": {
      "text/plain": [
       "A    46193\n",
       "D    22394\n",
       "E     7178\n",
       "F     3623\n",
       "G     2494\n",
       "C     2163\n",
       "B     1813\n",
       "H      705\n",
       "I      355\n",
       "K      274\n",
       "Name: assigned_room_type, dtype: int64"
      ]
     },
     "execution_count": 50,
     "metadata": {},
     "output_type": "execute_result"
    }
   ],
   "source": [
    "df['assigned_room_type'].value_counts()"
   ]
  },
  {
   "cell_type": "markdown",
   "id": "23b94564",
   "metadata": {},
   "source": [
    "# Distribution Channel"
   ]
  },
  {
   "cell_type": "code",
   "execution_count": 51,
   "id": "3a56f65d",
   "metadata": {},
   "outputs": [
    {
     "data": {
      "text/plain": [
       "TA/TO        68990\n",
       "Direct       12952\n",
       "Corporate     5066\n",
       "GDS            181\n",
       "Undefined        3\n",
       "Name: distribution_channel, dtype: int64"
      ]
     },
     "execution_count": 51,
     "metadata": {},
     "output_type": "execute_result"
    }
   ],
   "source": [
    "df['distribution_channel'].value_counts()"
   ]
  },
  {
   "cell_type": "code",
   "execution_count": 52,
   "id": "d47e7531",
   "metadata": {},
   "outputs": [
    {
     "data": {
      "text/plain": [
       "TA/TO        68990\n",
       "Direct       12952\n",
       "Corporate     5066\n",
       "GDS            181\n",
       "Name: distribution_channel, dtype: int64"
      ]
     },
     "execution_count": 52,
     "metadata": {},
     "output_type": "execute_result"
    }
   ],
   "source": [
    "# Se eliminan datos atípicos\n",
    "\n",
    "df = df.loc[df['distribution_channel'] != 'Undefined']\n",
    "df['distribution_channel'].value_counts()"
   ]
  },
  {
   "cell_type": "markdown",
   "id": "ea8fc4d3",
   "metadata": {},
   "source": [
    "# Stays in week nights"
   ]
  },
  {
   "cell_type": "code",
   "execution_count": 53,
   "id": "286ff264",
   "metadata": {},
   "outputs": [
    {
     "data": {
      "text/plain": [
       "1     22132\n",
       "2     20703\n",
       "3     16226\n",
       "5      9640\n",
       "4      7862\n",
       "0      6145\n",
       "6      1379\n",
       "10      970\n",
       "7       965\n",
       "8       613\n",
       "9       218\n",
       "15       68\n",
       "11       49\n",
       "12       40\n",
       "20       40\n",
       "13       27\n",
       "14       25\n",
       "19       21\n",
       "21       15\n",
       "16       13\n",
       "22        7\n",
       "25        6\n",
       "18        6\n",
       "30        5\n",
       "17        4\n",
       "24        2\n",
       "40        2\n",
       "42        1\n",
       "50        1\n",
       "32        1\n",
       "26        1\n",
       "34        1\n",
       "41        1\n",
       "Name: stays_in_week_nights, dtype: int64"
      ]
     },
     "execution_count": 53,
     "metadata": {},
     "output_type": "execute_result"
    }
   ],
   "source": [
    "df['stays_in_week_nights'].value_counts()"
   ]
  },
  {
   "cell_type": "code",
   "execution_count": 54,
   "id": "06600294",
   "metadata": {
    "scrolled": true
   },
   "outputs": [
    {
     "data": {
      "text/plain": [
       "1             22132\n",
       "2             20703\n",
       "3             16226\n",
       "5              9640\n",
       "4              7862\n",
       "0              6145\n",
       "6              1379\n",
       "10              970\n",
       "7               965\n",
       "8               613\n",
       "11 or more      336\n",
       "9               218\n",
       "Name: stays_in_week_nights, dtype: int64"
      ]
     },
     "execution_count": 54,
     "metadata": {},
     "output_type": "execute_result"
    }
   ],
   "source": [
    "# Se recategoriza desde 11 o màs noches\n",
    "df['stays_in_week_nights'] = df['stays_in_week_nights'].map(lambda x: '11 or more' if x>10 else x)\n",
    "df['stays_in_week_nights'].value_counts()"
   ]
  },
  {
   "cell_type": "markdown",
   "id": "7bf8094e",
   "metadata": {},
   "source": [
    "# stays in weekend nights"
   ]
  },
  {
   "cell_type": "code",
   "execution_count": 55,
   "id": "2cf32146",
   "metadata": {},
   "outputs": [
    {
     "data": {
      "text/plain": [
       "0     35060\n",
       "2     26362\n",
       "1     22600\n",
       "4      1732\n",
       "3      1148\n",
       "6       113\n",
       "5        70\n",
       "8        60\n",
       "7        15\n",
       "9         9\n",
       "10        7\n",
       "12        5\n",
       "16        3\n",
       "13        2\n",
       "18        1\n",
       "19        1\n",
       "14        1\n",
       "Name: stays_in_weekend_nights, dtype: int64"
      ]
     },
     "execution_count": 55,
     "metadata": {},
     "output_type": "execute_result"
    }
   ],
   "source": [
    "df['stays_in_weekend_nights'].value_counts()"
   ]
  },
  {
   "cell_type": "code",
   "execution_count": 56,
   "id": "54da87e7",
   "metadata": {},
   "outputs": [
    {
     "data": {
      "text/plain": [
       "0            35060\n",
       "2            26362\n",
       "1            22600\n",
       "4             1732\n",
       "3             1148\n",
       "5 or more      287\n",
       "Name: stays_in_weekend_nights, dtype: int64"
      ]
     },
     "execution_count": 56,
     "metadata": {},
     "output_type": "execute_result"
    }
   ],
   "source": [
    "# Se recategoriza desde 5 o más noches de fin de semana\n",
    "df['stays_in_weekend_nights'] = df['stays_in_weekend_nights'].map(lambda x: '5 or more' if x>4 else x)\n",
    "df['stays_in_weekend_nights'].value_counts()"
   ]
  },
  {
   "cell_type": "markdown",
   "id": "66ae7bd8",
   "metadata": {},
   "source": [
    "# lead time"
   ]
  },
  {
   "cell_type": "code",
   "execution_count": 57,
   "id": "3e675196",
   "metadata": {
    "scrolled": false
   },
   "outputs": [
    {
     "data": {
      "image/png": "[encoded data removed]",
      "text/plain": [
       "<Figure size 432x288 with 1 Axes>"
      ]
     },
     "metadata": {
      "needs_background": "light"
     },
     "output_type": "display_data"
    }
   ],
   "source": [
    "# Se grafica el comportamiento de la variable\n",
    "df['lead_time'].value_counts()\n",
    "plot.hist(x=df['lead_time'], bins=100)\n",
    "plot.show()"
   ]
  },
  {
   "cell_type": "code",
   "execution_count": 58,
   "id": "5f168fb2",
   "metadata": {},
   "outputs": [],
   "source": [
    "# Se define la función para IQR\n",
    "def iqr_(df, column, alpha = 1.5):\n",
    "    \n",
    "    q1 = df[column].quantile(.25)\n",
    "    q3 = df[column].quantile(.75)\n",
    "    iqr = q3 - q1\n",
    "    ub = q3 + (alpha*iqr)\n",
    "    lb = q1 - (alpha*iqr)\n",
    "    \n",
    "    aux = df.loc[(df[column]<=ub) & (df[column]>=lb)].copy()\n",
    "    \n",
    "    return(aux)"
   ]
  },
  {
   "cell_type": "code",
   "execution_count": 59,
   "id": "5121d65e",
   "metadata": {
    "scrolled": true
   },
   "outputs": [
    {
     "data": {
      "image/png": "[encoded data removed]",
      "text/plain": [
       "<Figure size 432x288 with 1 Axes>"
      ]
     },
     "metadata": {
      "needs_background": "light"
     },
     "output_type": "display_data"
    }
   ],
   "source": [
    "# Se filtra la vairbale continua pues se notaron datos atípicos en la cola de la distribución, a través del IQR\n",
    "\n",
    "df = iqr_(df,'lead_time')\n",
    "plot.hist(x=df['lead_time'], bins=100)\n",
    "plot.show()"
   ]
  },
  {
   "cell_type": "markdown",
   "id": "ebf8f957",
   "metadata": {},
   "source": [
    "# adr"
   ]
  },
  {
   "cell_type": "code",
   "execution_count": 60,
   "id": "c7f31d27",
   "metadata": {},
   "outputs": [
    {
     "data": {
      "image/png": "[encoded data removed]",
      "text/plain": [
       "<Figure size 432x288 with 1 Axes>"
      ]
     },
     "metadata": {
      "needs_background": "light"
     },
     "output_type": "display_data"
    }
   ],
   "source": [
    "# Se explora el comportamiento de la diostribución de adr\n",
    "plot.hist(x=df['adr'], bins=100)\n",
    "plot.show()"
   ]
  },
  {
   "cell_type": "code",
   "execution_count": 61,
   "id": "c0118276",
   "metadata": {},
   "outputs": [
    {
     "data": {
      "image/png": "[encoded data removed]",
      "text/plain": [
       "<Figure size 432x288 with 1 Axes>"
      ]
     },
     "metadata": {
      "needs_background": "light"
     },
     "output_type": "display_data"
    }
   ],
   "source": [
    "# y se le aplica IQR\n",
    "df['adr'] = df['adr'].loc[df['adr']>=0]\n",
    "df = iqr_(df,'adr')\n",
    "plot.hist(x=df['adr'], bins=100)\n",
    "plot.show()\n",
    "\n",
    "# La distribucón ya causa más sentido, así mismo se eliminaron datos negativos"
   ]
  },
  {
   "cell_type": "code",
   "execution_count": 62,
   "id": "b50272f2",
   "metadata": {},
   "outputs": [],
   "source": [
    "# Se instancian las variables discretas\n",
    "\n",
    "disc = ['hotel', 'is_canceled', 'arrival_date_year', 'adults', 'children', \n",
    "        'babies', 'meal', 'country_region', 'market_segment','distribution_channel', 'is_repeated_guest',\n",
    "        'reserved_room_type', 'assigned_room_type', 'booking_changes', 'deposit_type', 'agent', 'company',\n",
    "        'customer_type', 'required_car_parking_spaces', 'total_of_special_requests', 'reservation_status',\n",
    "       'reservation_status_year', 'stays_in_week_nights', 'stays_in_weekend_nights', 'arrival_date_month',\n",
    "       'canceling_ratio', 'days_in_waiting_list']"
   ]
  },
  {
   "cell_type": "code",
   "execution_count": 63,
   "id": "1d796dc9",
   "metadata": {},
   "outputs": [
    {
     "data": {
      "text/html": [
       "<div>\n",
       "<style scoped>\n",
       "    .dataframe tbody tr th:only-of-type {\n",
       "        vertical-align: middle;\n",
       "    }\n",
       "\n",
       "    .dataframe tbody tr th {\n",
       "        vertical-align: top;\n",
       "    }\n",
       "\n",
       "    .dataframe thead th {\n",
       "        text-align: right;\n",
       "    }\n",
       "</style>\n",
       "<table border=\"1\" class=\"dataframe\">\n",
       "  <thead>\n",
       "    <tr style=\"text-align: right;\">\n",
       "      <th></th>\n",
       "      <th>index</th>\n",
       "      <th>hotel</th>\n",
       "    </tr>\n",
       "  </thead>\n",
       "  <tbody>\n",
       "    <tr>\n",
       "      <th>0</th>\n",
       "      <td>City Hotel</td>\n",
       "      <td>0.622795</td>\n",
       "    </tr>\n",
       "    <tr>\n",
       "      <th>1</th>\n",
       "      <td>Resort Hotel</td>\n",
       "      <td>0.377205</td>\n",
       "    </tr>\n",
       "  </tbody>\n",
       "</table>\n",
       "</div>"
      ],
      "text/plain": [
       "          index     hotel\n",
       "0    City Hotel  0.622795\n",
       "1  Resort Hotel  0.377205"
      ]
     },
     "metadata": {},
     "output_type": "display_data"
    },
    {
     "data": {
      "text/html": [
       "<div>\n",
       "<style scoped>\n",
       "    .dataframe tbody tr th:only-of-type {\n",
       "        vertical-align: middle;\n",
       "    }\n",
       "\n",
       "    .dataframe tbody tr th {\n",
       "        vertical-align: top;\n",
       "    }\n",
       "\n",
       "    .dataframe thead th {\n",
       "        text-align: right;\n",
       "    }\n",
       "</style>\n",
       "<table border=\"1\" class=\"dataframe\">\n",
       "  <thead>\n",
       "    <tr style=\"text-align: right;\">\n",
       "      <th></th>\n",
       "      <th>index</th>\n",
       "      <th>is_canceled</th>\n",
       "    </tr>\n",
       "  </thead>\n",
       "  <tbody>\n",
       "    <tr>\n",
       "      <th>0</th>\n",
       "      <td>0</td>\n",
       "      <td>0.733372</td>\n",
       "    </tr>\n",
       "    <tr>\n",
       "      <th>1</th>\n",
       "      <td>1</td>\n",
       "      <td>0.266628</td>\n",
       "    </tr>\n",
       "  </tbody>\n",
       "</table>\n",
       "</div>"
      ],
      "text/plain": [
       "   index  is_canceled\n",
       "0      0     0.733372\n",
       "1      1     0.266628"
      ]
     },
     "metadata": {},
     "output_type": "display_data"
    },
    {
     "data": {
      "text/html": [
       "<div>\n",
       "<style scoped>\n",
       "    .dataframe tbody tr th:only-of-type {\n",
       "        vertical-align: middle;\n",
       "    }\n",
       "\n",
       "    .dataframe tbody tr th {\n",
       "        vertical-align: top;\n",
       "    }\n",
       "\n",
       "    .dataframe thead th {\n",
       "        text-align: right;\n",
       "    }\n",
       "</style>\n",
       "<table border=\"1\" class=\"dataframe\">\n",
       "  <thead>\n",
       "    <tr style=\"text-align: right;\">\n",
       "      <th></th>\n",
       "      <th>index</th>\n",
       "      <th>arrival_date_year</th>\n",
       "    </tr>\n",
       "  </thead>\n",
       "  <tbody>\n",
       "    <tr>\n",
       "      <th>0</th>\n",
       "      <td>2016</td>\n",
       "      <td>0.492488</td>\n",
       "    </tr>\n",
       "    <tr>\n",
       "      <th>1</th>\n",
       "      <td>2017</td>\n",
       "      <td>0.350104</td>\n",
       "    </tr>\n",
       "    <tr>\n",
       "      <th>2</th>\n",
       "      <td>2015</td>\n",
       "      <td>0.157408</td>\n",
       "    </tr>\n",
       "  </tbody>\n",
       "</table>\n",
       "</div>"
      ],
      "text/plain": [
       "   index  arrival_date_year\n",
       "0   2016           0.492488\n",
       "1   2017           0.350104\n",
       "2   2015           0.157408"
      ]
     },
     "metadata": {},
     "output_type": "display_data"
    },
    {
     "data": {
      "text/html": [
       "<div>\n",
       "<style scoped>\n",
       "    .dataframe tbody tr th:only-of-type {\n",
       "        vertical-align: middle;\n",
       "    }\n",
       "\n",
       "    .dataframe tbody tr th {\n",
       "        vertical-align: top;\n",
       "    }\n",
       "\n",
       "    .dataframe thead th {\n",
       "        text-align: right;\n",
       "    }\n",
       "</style>\n",
       "<table border=\"1\" class=\"dataframe\">\n",
       "  <thead>\n",
       "    <tr style=\"text-align: right;\">\n",
       "      <th></th>\n",
       "      <th>index</th>\n",
       "      <th>adults</th>\n",
       "    </tr>\n",
       "  </thead>\n",
       "  <tbody>\n",
       "    <tr>\n",
       "      <th>0</th>\n",
       "      <td>2</td>\n",
       "      <td>0.736489</td>\n",
       "    </tr>\n",
       "    <tr>\n",
       "      <th>1</th>\n",
       "      <td>1</td>\n",
       "      <td>0.193968</td>\n",
       "    </tr>\n",
       "    <tr>\n",
       "      <th>2</th>\n",
       "      <td>3</td>\n",
       "      <td>0.065141</td>\n",
       "    </tr>\n",
       "    <tr>\n",
       "      <th>3</th>\n",
       "      <td>0</td>\n",
       "      <td>0.004402</td>\n",
       "    </tr>\n",
       "  </tbody>\n",
       "</table>\n",
       "</div>"
      ],
      "text/plain": [
       "   index    adults\n",
       "0      2  0.736489\n",
       "1      1  0.193968\n",
       "2      3  0.065141\n",
       "3      0  0.004402"
      ]
     },
     "metadata": {},
     "output_type": "display_data"
    },
    {
     "data": {
      "text/html": [
       "<div>\n",
       "<style scoped>\n",
       "    .dataframe tbody tr th:only-of-type {\n",
       "        vertical-align: middle;\n",
       "    }\n",
       "\n",
       "    .dataframe tbody tr th {\n",
       "        vertical-align: top;\n",
       "    }\n",
       "\n",
       "    .dataframe thead th {\n",
       "        text-align: right;\n",
       "    }\n",
       "</style>\n",
       "<table border=\"1\" class=\"dataframe\">\n",
       "  <thead>\n",
       "    <tr style=\"text-align: right;\">\n",
       "      <th></th>\n",
       "      <th>index</th>\n",
       "      <th>children</th>\n",
       "    </tr>\n",
       "  </thead>\n",
       "  <tbody>\n",
       "    <tr>\n",
       "      <th>0</th>\n",
       "      <td>0.0</td>\n",
       "      <td>0.915554</td>\n",
       "    </tr>\n",
       "    <tr>\n",
       "      <th>1</th>\n",
       "      <td>1.0</td>\n",
       "      <td>0.084446</td>\n",
       "    </tr>\n",
       "  </tbody>\n",
       "</table>\n",
       "</div>"
      ],
      "text/plain": [
       "   index  children\n",
       "0    0.0  0.915554\n",
       "1    1.0  0.084446"
      ]
     },
     "metadata": {},
     "output_type": "display_data"
    },
    {
     "data": {
      "text/html": [
       "<div>\n",
       "<style scoped>\n",
       "    .dataframe tbody tr th:only-of-type {\n",
       "        vertical-align: middle;\n",
       "    }\n",
       "\n",
       "    .dataframe tbody tr th {\n",
       "        vertical-align: top;\n",
       "    }\n",
       "\n",
       "    .dataframe thead th {\n",
       "        text-align: right;\n",
       "    }\n",
       "</style>\n",
       "<table border=\"1\" class=\"dataframe\">\n",
       "  <thead>\n",
       "    <tr style=\"text-align: right;\">\n",
       "      <th></th>\n",
       "      <th>index</th>\n",
       "      <th>babies</th>\n",
       "    </tr>\n",
       "  </thead>\n",
       "  <tbody>\n",
       "    <tr>\n",
       "      <th>0</th>\n",
       "      <td>0.0</td>\n",
       "      <td>0.989838</td>\n",
       "    </tr>\n",
       "    <tr>\n",
       "      <th>1</th>\n",
       "      <td>1.0</td>\n",
       "      <td>0.010162</td>\n",
       "    </tr>\n",
       "  </tbody>\n",
       "</table>\n",
       "</div>"
      ],
      "text/plain": [
       "   index    babies\n",
       "0    0.0  0.989838\n",
       "1    1.0  0.010162"
      ]
     },
     "metadata": {},
     "output_type": "display_data"
    },
    {
     "data": {
      "text/html": [
       "<div>\n",
       "<style scoped>\n",
       "    .dataframe tbody tr th:only-of-type {\n",
       "        vertical-align: middle;\n",
       "    }\n",
       "\n",
       "    .dataframe tbody tr th {\n",
       "        vertical-align: top;\n",
       "    }\n",
       "\n",
       "    .dataframe thead th {\n",
       "        text-align: right;\n",
       "    }\n",
       "</style>\n",
       "<table border=\"1\" class=\"dataframe\">\n",
       "  <thead>\n",
       "    <tr style=\"text-align: right;\">\n",
       "      <th></th>\n",
       "      <th>index</th>\n",
       "      <th>meal</th>\n",
       "    </tr>\n",
       "  </thead>\n",
       "  <tbody>\n",
       "    <tr>\n",
       "      <th>0</th>\n",
       "      <td>BB</td>\n",
       "      <td>0.783647</td>\n",
       "    </tr>\n",
       "    <tr>\n",
       "      <th>1</th>\n",
       "      <td>SC</td>\n",
       "      <td>0.113136</td>\n",
       "    </tr>\n",
       "    <tr>\n",
       "      <th>2</th>\n",
       "      <td>HB</td>\n",
       "      <td>0.094220</td>\n",
       "    </tr>\n",
       "    <tr>\n",
       "      <th>3</th>\n",
       "      <td>Undefined</td>\n",
       "      <td>0.005481</td>\n",
       "    </tr>\n",
       "    <tr>\n",
       "      <th>4</th>\n",
       "      <td>FB</td>\n",
       "      <td>0.003517</td>\n",
       "    </tr>\n",
       "  </tbody>\n",
       "</table>\n",
       "</div>"
      ],
      "text/plain": [
       "       index      meal\n",
       "0         BB  0.783647\n",
       "1         SC  0.113136\n",
       "2         HB  0.094220\n",
       "3  Undefined  0.005481\n",
       "4         FB  0.003517"
      ]
     },
     "metadata": {},
     "output_type": "display_data"
    },
    {
     "data": {
      "text/html": [
       "<div>\n",
       "<style scoped>\n",
       "    .dataframe tbody tr th:only-of-type {\n",
       "        vertical-align: middle;\n",
       "    }\n",
       "\n",
       "    .dataframe tbody tr th {\n",
       "        vertical-align: top;\n",
       "    }\n",
       "\n",
       "    .dataframe thead th {\n",
       "        text-align: right;\n",
       "    }\n",
       "</style>\n",
       "<table border=\"1\" class=\"dataframe\">\n",
       "  <thead>\n",
       "    <tr style=\"text-align: right;\">\n",
       "      <th></th>\n",
       "      <th>index</th>\n",
       "      <th>country_region</th>\n",
       "    </tr>\n",
       "  </thead>\n",
       "  <tbody>\n",
       "    <tr>\n",
       "      <th>0</th>\n",
       "      <td>Portugal</td>\n",
       "      <td>0.315137</td>\n",
       "    </tr>\n",
       "    <tr>\n",
       "      <th>1</th>\n",
       "      <td>United Kingdom of Great Britain and Northern I...</td>\n",
       "      <td>0.116984</td>\n",
       "    </tr>\n",
       "    <tr>\n",
       "      <th>2</th>\n",
       "      <td>France</td>\n",
       "      <td>0.104456</td>\n",
       "    </tr>\n",
       "    <tr>\n",
       "      <th>3</th>\n",
       "      <td>Spain</td>\n",
       "      <td>0.082499</td>\n",
       "    </tr>\n",
       "    <tr>\n",
       "      <th>4</th>\n",
       "      <td>Rest of Western Europe</td>\n",
       "      <td>0.079547</td>\n",
       "    </tr>\n",
       "    <tr>\n",
       "      <th>5</th>\n",
       "      <td>Germany</td>\n",
       "      <td>0.062749</td>\n",
       "    </tr>\n",
       "    <tr>\n",
       "      <th>6</th>\n",
       "      <td>Rest of Northern Europe</td>\n",
       "      <td>0.062335</td>\n",
       "    </tr>\n",
       "    <tr>\n",
       "      <th>7</th>\n",
       "      <td>Rest of Southern Europe</td>\n",
       "      <td>0.040633</td>\n",
       "    </tr>\n",
       "    <tr>\n",
       "      <th>8</th>\n",
       "      <td>South America</td>\n",
       "      <td>0.028728</td>\n",
       "    </tr>\n",
       "    <tr>\n",
       "      <th>9</th>\n",
       "      <td>Eastern Europe</td>\n",
       "      <td>0.026947</td>\n",
       "    </tr>\n",
       "    <tr>\n",
       "      <th>10</th>\n",
       "      <td>Eastern Asia</td>\n",
       "      <td>0.026324</td>\n",
       "    </tr>\n",
       "    <tr>\n",
       "      <th>11</th>\n",
       "      <td>Northern America</td>\n",
       "      <td>0.021396</td>\n",
       "    </tr>\n",
       "    <tr>\n",
       "      <th>12</th>\n",
       "      <td>Africa</td>\n",
       "      <td>0.011589</td>\n",
       "    </tr>\n",
       "    <tr>\n",
       "      <th>13</th>\n",
       "      <td>Western Asia</td>\n",
       "      <td>0.010588</td>\n",
       "    </tr>\n",
       "    <tr>\n",
       "      <th>14</th>\n",
       "      <td>Rest of Asia, Oceania &amp; Zealand</td>\n",
       "      <td>0.010088</td>\n",
       "    </tr>\n",
       "  </tbody>\n",
       "</table>\n",
       "</div>"
      ],
      "text/plain": [
       "                                                index  country_region\n",
       "0                                            Portugal        0.315137\n",
       "1   United Kingdom of Great Britain and Northern I...        0.116984\n",
       "2                                              France        0.104456\n",
       "3                                               Spain        0.082499\n",
       "4                              Rest of Western Europe        0.079547\n",
       "5                                             Germany        0.062749\n",
       "6                             Rest of Northern Europe        0.062335\n",
       "7                             Rest of Southern Europe        0.040633\n",
       "8                                       South America        0.028728\n",
       "9                                      Eastern Europe        0.026947\n",
       "10                                       Eastern Asia        0.026324\n",
       "11                                   Northern America        0.021396\n",
       "12                                             Africa        0.011589\n",
       "13                                       Western Asia        0.010588\n",
       "14                    Rest of Asia, Oceania & Zealand        0.010088"
      ]
     },
     "metadata": {},
     "output_type": "display_data"
    },
    {
     "data": {
      "text/html": [
       "<div>\n",
       "<style scoped>\n",
       "    .dataframe tbody tr th:only-of-type {\n",
       "        vertical-align: middle;\n",
       "    }\n",
       "\n",
       "    .dataframe tbody tr th {\n",
       "        vertical-align: top;\n",
       "    }\n",
       "\n",
       "    .dataframe thead th {\n",
       "        text-align: right;\n",
       "    }\n",
       "</style>\n",
       "<table border=\"1\" class=\"dataframe\">\n",
       "  <thead>\n",
       "    <tr style=\"text-align: right;\">\n",
       "      <th></th>\n",
       "      <th>index</th>\n",
       "      <th>market_segment</th>\n",
       "    </tr>\n",
       "  </thead>\n",
       "  <tbody>\n",
       "    <tr>\n",
       "      <th>0</th>\n",
       "      <td>Online TA</td>\n",
       "      <td>0.593340</td>\n",
       "    </tr>\n",
       "    <tr>\n",
       "      <th>1</th>\n",
       "      <td>Offline TA/TO</td>\n",
       "      <td>0.159397</td>\n",
       "    </tr>\n",
       "    <tr>\n",
       "      <th>2</th>\n",
       "      <td>Direct</td>\n",
       "      <td>0.134236</td>\n",
       "    </tr>\n",
       "    <tr>\n",
       "      <th>3</th>\n",
       "      <td>Groups</td>\n",
       "      <td>0.051039</td>\n",
       "    </tr>\n",
       "    <tr>\n",
       "      <th>4</th>\n",
       "      <td>Corporate</td>\n",
       "      <td>0.050784</td>\n",
       "    </tr>\n",
       "    <tr>\n",
       "      <th>5</th>\n",
       "      <td>Complementary</td>\n",
       "      <td>0.008452</td>\n",
       "    </tr>\n",
       "    <tr>\n",
       "      <th>6</th>\n",
       "      <td>Aviation</td>\n",
       "      <td>0.002753</td>\n",
       "    </tr>\n",
       "  </tbody>\n",
       "</table>\n",
       "</div>"
      ],
      "text/plain": [
       "           index  market_segment\n",
       "0      Online TA        0.593340\n",
       "1  Offline TA/TO        0.159397\n",
       "2         Direct        0.134236\n",
       "3         Groups        0.051039\n",
       "4      Corporate        0.050784\n",
       "5  Complementary        0.008452\n",
       "6       Aviation        0.002753"
      ]
     },
     "metadata": {},
     "output_type": "display_data"
    },
    {
     "data": {
      "text/html": [
       "<div>\n",
       "<style scoped>\n",
       "    .dataframe tbody tr th:only-of-type {\n",
       "        vertical-align: middle;\n",
       "    }\n",
       "\n",
       "    .dataframe tbody tr th {\n",
       "        vertical-align: top;\n",
       "    }\n",
       "\n",
       "    .dataframe thead th {\n",
       "        text-align: right;\n",
       "    }\n",
       "</style>\n",
       "<table border=\"1\" class=\"dataframe\">\n",
       "  <thead>\n",
       "    <tr style=\"text-align: right;\">\n",
       "      <th></th>\n",
       "      <th>index</th>\n",
       "      <th>distribution_channel</th>\n",
       "    </tr>\n",
       "  </thead>\n",
       "  <tbody>\n",
       "    <tr>\n",
       "      <th>0</th>\n",
       "      <td>TA/TO</td>\n",
       "      <td>0.790450</td>\n",
       "    </tr>\n",
       "    <tr>\n",
       "      <th>1</th>\n",
       "      <td>Direct</td>\n",
       "      <td>0.147429</td>\n",
       "    </tr>\n",
       "    <tr>\n",
       "      <th>2</th>\n",
       "      <td>Corporate</td>\n",
       "      <td>0.059927</td>\n",
       "    </tr>\n",
       "    <tr>\n",
       "      <th>3</th>\n",
       "      <td>GDS</td>\n",
       "      <td>0.002195</td>\n",
       "    </tr>\n",
       "  </tbody>\n",
       "</table>\n",
       "</div>"
      ],
      "text/plain": [
       "       index  distribution_channel\n",
       "0      TA/TO              0.790450\n",
       "1     Direct              0.147429\n",
       "2  Corporate              0.059927\n",
       "3        GDS              0.002195"
      ]
     },
     "metadata": {},
     "output_type": "display_data"
    },
    {
     "data": {
      "text/html": [
       "<div>\n",
       "<style scoped>\n",
       "    .dataframe tbody tr th:only-of-type {\n",
       "        vertical-align: middle;\n",
       "    }\n",
       "\n",
       "    .dataframe tbody tr th {\n",
       "        vertical-align: top;\n",
       "    }\n",
       "\n",
       "    .dataframe thead th {\n",
       "        text-align: right;\n",
       "    }\n",
       "</style>\n",
       "<table border=\"1\" class=\"dataframe\">\n",
       "  <thead>\n",
       "    <tr style=\"text-align: right;\">\n",
       "      <th></th>\n",
       "      <th>index</th>\n",
       "      <th>is_repeated_guest</th>\n",
       "    </tr>\n",
       "  </thead>\n",
       "  <tbody>\n",
       "    <tr>\n",
       "      <th>0</th>\n",
       "      <td>0</td>\n",
       "      <td>0.959402</td>\n",
       "    </tr>\n",
       "    <tr>\n",
       "      <th>1</th>\n",
       "      <td>1</td>\n",
       "      <td>0.040598</td>\n",
       "    </tr>\n",
       "  </tbody>\n",
       "</table>\n",
       "</div>"
      ],
      "text/plain": [
       "   index  is_repeated_guest\n",
       "0      0           0.959402\n",
       "1      1           0.040598"
      ]
     },
     "metadata": {},
     "output_type": "display_data"
    },
    {
     "data": {
      "text/html": [
       "<div>\n",
       "<style scoped>\n",
       "    .dataframe tbody tr th:only-of-type {\n",
       "        vertical-align: middle;\n",
       "    }\n",
       "\n",
       "    .dataframe tbody tr th {\n",
       "        vertical-align: top;\n",
       "    }\n",
       "\n",
       "    .dataframe thead th {\n",
       "        text-align: right;\n",
       "    }\n",
       "</style>\n",
       "<table border=\"1\" class=\"dataframe\">\n",
       "  <thead>\n",
       "    <tr style=\"text-align: right;\">\n",
       "      <th></th>\n",
       "      <th>index</th>\n",
       "      <th>reserved_room_type</th>\n",
       "    </tr>\n",
       "  </thead>\n",
       "  <tbody>\n",
       "    <tr>\n",
       "      <th>0</th>\n",
       "      <td>A</td>\n",
       "      <td>0.659646</td>\n",
       "    </tr>\n",
       "    <tr>\n",
       "      <th>1</th>\n",
       "      <td>D</td>\n",
       "      <td>0.202469</td>\n",
       "    </tr>\n",
       "    <tr>\n",
       "      <th>2</th>\n",
       "      <td>E</td>\n",
       "      <td>0.066899</td>\n",
       "    </tr>\n",
       "    <tr>\n",
       "      <th>3</th>\n",
       "      <td>F</td>\n",
       "      <td>0.028375</td>\n",
       "    </tr>\n",
       "    <tr>\n",
       "      <th>4</th>\n",
       "      <td>G</td>\n",
       "      <td>0.017316</td>\n",
       "    </tr>\n",
       "    <tr>\n",
       "      <th>5</th>\n",
       "      <td>B</td>\n",
       "      <td>0.011386</td>\n",
       "    </tr>\n",
       "    <tr>\n",
       "      <th>6</th>\n",
       "      <td>C</td>\n",
       "      <td>0.008925</td>\n",
       "    </tr>\n",
       "    <tr>\n",
       "      <th>7</th>\n",
       "      <td>H</td>\n",
       "      <td>0.004984</td>\n",
       "    </tr>\n",
       "  </tbody>\n",
       "</table>\n",
       "</div>"
      ],
      "text/plain": [
       "  index  reserved_room_type\n",
       "0     A            0.659646\n",
       "1     D            0.202469\n",
       "2     E            0.066899\n",
       "3     F            0.028375\n",
       "4     G            0.017316\n",
       "5     B            0.011386\n",
       "6     C            0.008925\n",
       "7     H            0.004984"
      ]
     },
     "metadata": {},
     "output_type": "display_data"
    },
    {
     "data": {
      "text/html": [
       "<div>\n",
       "<style scoped>\n",
       "    .dataframe tbody tr th:only-of-type {\n",
       "        vertical-align: middle;\n",
       "    }\n",
       "\n",
       "    .dataframe tbody tr th {\n",
       "        vertical-align: top;\n",
       "    }\n",
       "\n",
       "    .dataframe thead th {\n",
       "        text-align: right;\n",
       "    }\n",
       "</style>\n",
       "<table border=\"1\" class=\"dataframe\">\n",
       "  <thead>\n",
       "    <tr style=\"text-align: right;\">\n",
       "      <th></th>\n",
       "      <th>index</th>\n",
       "      <th>assigned_room_type</th>\n",
       "    </tr>\n",
       "  </thead>\n",
       "  <tbody>\n",
       "    <tr>\n",
       "      <th>0</th>\n",
       "      <td>A</td>\n",
       "      <td>0.538628</td>\n",
       "    </tr>\n",
       "    <tr>\n",
       "      <th>1</th>\n",
       "      <td>D</td>\n",
       "      <td>0.262808</td>\n",
       "    </tr>\n",
       "    <tr>\n",
       "      <th>2</th>\n",
       "      <td>E</td>\n",
       "      <td>0.080505</td>\n",
       "    </tr>\n",
       "    <tr>\n",
       "      <th>3</th>\n",
       "      <td>F</td>\n",
       "      <td>0.037882</td>\n",
       "    </tr>\n",
       "    <tr>\n",
       "      <th>4</th>\n",
       "      <td>C</td>\n",
       "      <td>0.023306</td>\n",
       "    </tr>\n",
       "    <tr>\n",
       "      <th>5</th>\n",
       "      <td>G</td>\n",
       "      <td>0.022360</td>\n",
       "    </tr>\n",
       "    <tr>\n",
       "      <th>6</th>\n",
       "      <td>B</td>\n",
       "      <td>0.020930</td>\n",
       "    </tr>\n",
       "    <tr>\n",
       "      <th>7</th>\n",
       "      <td>H</td>\n",
       "      <td>0.006221</td>\n",
       "    </tr>\n",
       "    <tr>\n",
       "      <th>8</th>\n",
       "      <td>I</td>\n",
       "      <td>0.004099</td>\n",
       "    </tr>\n",
       "    <tr>\n",
       "      <th>9</th>\n",
       "      <td>K</td>\n",
       "      <td>0.003262</td>\n",
       "    </tr>\n",
       "  </tbody>\n",
       "</table>\n",
       "</div>"
      ],
      "text/plain": [
       "  index  assigned_room_type\n",
       "0     A            0.538628\n",
       "1     D            0.262808\n",
       "2     E            0.080505\n",
       "3     F            0.037882\n",
       "4     C            0.023306\n",
       "5     G            0.022360\n",
       "6     B            0.020930\n",
       "7     H            0.006221\n",
       "8     I            0.004099\n",
       "9     K            0.003262"
      ]
     },
     "metadata": {},
     "output_type": "display_data"
    },
    {
     "data": {
      "text/html": [
       "<div>\n",
       "<style scoped>\n",
       "    .dataframe tbody tr th:only-of-type {\n",
       "        vertical-align: middle;\n",
       "    }\n",
       "\n",
       "    .dataframe tbody tr th {\n",
       "        vertical-align: top;\n",
       "    }\n",
       "\n",
       "    .dataframe thead th {\n",
       "        text-align: right;\n",
       "    }\n",
       "</style>\n",
       "<table border=\"1\" class=\"dataframe\">\n",
       "  <thead>\n",
       "    <tr style=\"text-align: right;\">\n",
       "      <th></th>\n",
       "      <th>index</th>\n",
       "      <th>booking_changes</th>\n",
       "    </tr>\n",
       "  </thead>\n",
       "  <tbody>\n",
       "    <tr>\n",
       "      <th>0</th>\n",
       "      <td>0</td>\n",
       "      <td>0.823481</td>\n",
       "    </tr>\n",
       "    <tr>\n",
       "      <th>1</th>\n",
       "      <td>1</td>\n",
       "      <td>0.121188</td>\n",
       "    </tr>\n",
       "    <tr>\n",
       "      <th>2</th>\n",
       "      <td>2</td>\n",
       "      <td>0.039107</td>\n",
       "    </tr>\n",
       "    <tr>\n",
       "      <th>3</th>\n",
       "      <td>3</td>\n",
       "      <td>0.009458</td>\n",
       "    </tr>\n",
       "    <tr>\n",
       "      <th>4</th>\n",
       "      <td>4 or more</td>\n",
       "      <td>0.006766</td>\n",
       "    </tr>\n",
       "  </tbody>\n",
       "</table>\n",
       "</div>"
      ],
      "text/plain": [
       "       index  booking_changes\n",
       "0          0         0.823481\n",
       "1          1         0.121188\n",
       "2          2         0.039107\n",
       "3          3         0.009458\n",
       "4  4 or more         0.006766"
      ]
     },
     "metadata": {},
     "output_type": "display_data"
    },
    {
     "data": {
      "text/html": [
       "<div>\n",
       "<style scoped>\n",
       "    .dataframe tbody tr th:only-of-type {\n",
       "        vertical-align: middle;\n",
       "    }\n",
       "\n",
       "    .dataframe tbody tr th {\n",
       "        vertical-align: top;\n",
       "    }\n",
       "\n",
       "    .dataframe thead th {\n",
       "        text-align: right;\n",
       "    }\n",
       "</style>\n",
       "<table border=\"1\" class=\"dataframe\">\n",
       "  <thead>\n",
       "    <tr style=\"text-align: right;\">\n",
       "      <th></th>\n",
       "      <th>index</th>\n",
       "      <th>deposit_type</th>\n",
       "    </tr>\n",
       "  </thead>\n",
       "  <tbody>\n",
       "    <tr>\n",
       "      <th>0</th>\n",
       "      <td>No Deposit</td>\n",
       "      <td>0.989644</td>\n",
       "    </tr>\n",
       "    <tr>\n",
       "      <th>1</th>\n",
       "      <td>Non Refund</td>\n",
       "      <td>0.009192</td>\n",
       "    </tr>\n",
       "    <tr>\n",
       "      <th>2</th>\n",
       "      <td>Refundable</td>\n",
       "      <td>0.001164</td>\n",
       "    </tr>\n",
       "  </tbody>\n",
       "</table>\n",
       "</div>"
      ],
      "text/plain": [
       "        index  deposit_type\n",
       "0  No Deposit      0.989644\n",
       "1  Non Refund      0.009192\n",
       "2  Refundable      0.001164"
      ]
     },
     "metadata": {},
     "output_type": "display_data"
    },
    {
     "data": {
      "text/html": [
       "<div>\n",
       "<style scoped>\n",
       "    .dataframe tbody tr th:only-of-type {\n",
       "        vertical-align: middle;\n",
       "    }\n",
       "\n",
       "    .dataframe tbody tr th {\n",
       "        vertical-align: top;\n",
       "    }\n",
       "\n",
       "    .dataframe thead th {\n",
       "        text-align: right;\n",
       "    }\n",
       "</style>\n",
       "<table border=\"1\" class=\"dataframe\">\n",
       "  <thead>\n",
       "    <tr style=\"text-align: right;\">\n",
       "      <th></th>\n",
       "      <th>index</th>\n",
       "      <th>agent</th>\n",
       "    </tr>\n",
       "  </thead>\n",
       "  <tbody>\n",
       "    <tr>\n",
       "      <th>0</th>\n",
       "      <td>9.0</td>\n",
       "      <td>0.337759</td>\n",
       "    </tr>\n",
       "    <tr>\n",
       "      <th>1</th>\n",
       "      <td>Other Agent</td>\n",
       "      <td>0.166733</td>\n",
       "    </tr>\n",
       "    <tr>\n",
       "      <th>2</th>\n",
       "      <td>No Agent</td>\n",
       "      <td>0.142033</td>\n",
       "    </tr>\n",
       "    <tr>\n",
       "      <th>3</th>\n",
       "      <td>240.0</td>\n",
       "      <td>0.141390</td>\n",
       "    </tr>\n",
       "    <tr>\n",
       "      <th>4</th>\n",
       "      <td>7.0</td>\n",
       "      <td>0.039276</td>\n",
       "    </tr>\n",
       "    <tr>\n",
       "      <th>5</th>\n",
       "      <td>14.0</td>\n",
       "      <td>0.038427</td>\n",
       "    </tr>\n",
       "    <tr>\n",
       "      <th>6</th>\n",
       "      <td>250.0</td>\n",
       "      <td>0.029830</td>\n",
       "    </tr>\n",
       "    <tr>\n",
       "      <th>7</th>\n",
       "      <td>241.0</td>\n",
       "      <td>0.019062</td>\n",
       "    </tr>\n",
       "    <tr>\n",
       "      <th>8</th>\n",
       "      <td>28.0</td>\n",
       "      <td>0.018116</td>\n",
       "    </tr>\n",
       "    <tr>\n",
       "      <th>9</th>\n",
       "      <td>8.0</td>\n",
       "      <td>0.015630</td>\n",
       "    </tr>\n",
       "    <tr>\n",
       "      <th>10</th>\n",
       "      <td>1.0</td>\n",
       "      <td>0.012284</td>\n",
       "    </tr>\n",
       "    <tr>\n",
       "      <th>11</th>\n",
       "      <td>6.0</td>\n",
       "      <td>0.011908</td>\n",
       "    </tr>\n",
       "    <tr>\n",
       "      <th>12</th>\n",
       "      <td>40.0</td>\n",
       "      <td>0.010162</td>\n",
       "    </tr>\n",
       "    <tr>\n",
       "      <th>13</th>\n",
       "      <td>314.0</td>\n",
       "      <td>0.009822</td>\n",
       "    </tr>\n",
       "    <tr>\n",
       "      <th>14</th>\n",
       "      <td>242.0</td>\n",
       "      <td>0.007567</td>\n",
       "    </tr>\n",
       "  </tbody>\n",
       "</table>\n",
       "</div>"
      ],
      "text/plain": [
       "          index     agent\n",
       "0           9.0  0.337759\n",
       "1   Other Agent  0.166733\n",
       "2      No Agent  0.142033\n",
       "3         240.0  0.141390\n",
       "4           7.0  0.039276\n",
       "5          14.0  0.038427\n",
       "6         250.0  0.029830\n",
       "7         241.0  0.019062\n",
       "8          28.0  0.018116\n",
       "9           8.0  0.015630\n",
       "10          1.0  0.012284\n",
       "11          6.0  0.011908\n",
       "12         40.0  0.010162\n",
       "13        314.0  0.009822\n",
       "14        242.0  0.007567"
      ]
     },
     "metadata": {},
     "output_type": "display_data"
    },
    {
     "data": {
      "text/html": [
       "<div>\n",
       "<style scoped>\n",
       "    .dataframe tbody tr th:only-of-type {\n",
       "        vertical-align: middle;\n",
       "    }\n",
       "\n",
       "    .dataframe tbody tr th {\n",
       "        vertical-align: top;\n",
       "    }\n",
       "\n",
       "    .dataframe thead th {\n",
       "        text-align: right;\n",
       "    }\n",
       "</style>\n",
       "<table border=\"1\" class=\"dataframe\">\n",
       "  <thead>\n",
       "    <tr style=\"text-align: right;\">\n",
       "      <th></th>\n",
       "      <th>index</th>\n",
       "      <th>company</th>\n",
       "    </tr>\n",
       "  </thead>\n",
       "  <tbody>\n",
       "    <tr>\n",
       "      <th>0</th>\n",
       "      <td>0</td>\n",
       "      <td>0.938145</td>\n",
       "    </tr>\n",
       "    <tr>\n",
       "      <th>1</th>\n",
       "      <td>1</td>\n",
       "      <td>0.061855</td>\n",
       "    </tr>\n",
       "  </tbody>\n",
       "</table>\n",
       "</div>"
      ],
      "text/plain": [
       "   index   company\n",
       "0      0  0.938145\n",
       "1      1  0.061855"
      ]
     },
     "metadata": {},
     "output_type": "display_data"
    },
    {
     "data": {
      "text/html": [
       "<div>\n",
       "<style scoped>\n",
       "    .dataframe tbody tr th:only-of-type {\n",
       "        vertical-align: middle;\n",
       "    }\n",
       "\n",
       "    .dataframe tbody tr th {\n",
       "        vertical-align: top;\n",
       "    }\n",
       "\n",
       "    .dataframe thead th {\n",
       "        text-align: right;\n",
       "    }\n",
       "</style>\n",
       "<table border=\"1\" class=\"dataframe\">\n",
       "  <thead>\n",
       "    <tr style=\"text-align: right;\">\n",
       "      <th></th>\n",
       "      <th>index</th>\n",
       "      <th>customer_type</th>\n",
       "    </tr>\n",
       "  </thead>\n",
       "  <tbody>\n",
       "    <tr>\n",
       "      <th>0</th>\n",
       "      <td>Transient</td>\n",
       "      <td>0.829083</td>\n",
       "    </tr>\n",
       "    <tr>\n",
       "      <th>1</th>\n",
       "      <td>Transient-Party</td>\n",
       "      <td>0.129434</td>\n",
       "    </tr>\n",
       "    <tr>\n",
       "      <th>2</th>\n",
       "      <td>Contract</td>\n",
       "      <td>0.035384</td>\n",
       "    </tr>\n",
       "    <tr>\n",
       "      <th>3</th>\n",
       "      <td>Group</td>\n",
       "      <td>0.006099</td>\n",
       "    </tr>\n",
       "  </tbody>\n",
       "</table>\n",
       "</div>"
      ],
      "text/plain": [
       "             index  customer_type\n",
       "0        Transient       0.829083\n",
       "1  Transient-Party       0.129434\n",
       "2         Contract       0.035384\n",
       "3            Group       0.006099"
      ]
     },
     "metadata": {},
     "output_type": "display_data"
    },
    {
     "data": {
      "text/html": [
       "<div>\n",
       "<style scoped>\n",
       "    .dataframe tbody tr th:only-of-type {\n",
       "        vertical-align: middle;\n",
       "    }\n",
       "\n",
       "    .dataframe tbody tr th {\n",
       "        vertical-align: top;\n",
       "    }\n",
       "\n",
       "    .dataframe thead th {\n",
       "        text-align: right;\n",
       "    }\n",
       "</style>\n",
       "<table border=\"1\" class=\"dataframe\">\n",
       "  <thead>\n",
       "    <tr style=\"text-align: right;\">\n",
       "      <th></th>\n",
       "      <th>index</th>\n",
       "      <th>required_car_parking_spaces</th>\n",
       "    </tr>\n",
       "  </thead>\n",
       "  <tbody>\n",
       "    <tr>\n",
       "      <th>0</th>\n",
       "      <td>0</td>\n",
       "      <td>0.917106</td>\n",
       "    </tr>\n",
       "    <tr>\n",
       "      <th>1</th>\n",
       "      <td>1</td>\n",
       "      <td>0.082603</td>\n",
       "    </tr>\n",
       "    <tr>\n",
       "      <th>2</th>\n",
       "      <td>2</td>\n",
       "      <td>0.000291</td>\n",
       "    </tr>\n",
       "  </tbody>\n",
       "</table>\n",
       "</div>"
      ],
      "text/plain": [
       "   index  required_car_parking_spaces\n",
       "0      0                     0.917106\n",
       "1      1                     0.082603\n",
       "2      2                     0.000291"
      ]
     },
     "metadata": {},
     "output_type": "display_data"
    },
    {
     "data": {
      "text/html": [
       "<div>\n",
       "<style scoped>\n",
       "    .dataframe tbody tr th:only-of-type {\n",
       "        vertical-align: middle;\n",
       "    }\n",
       "\n",
       "    .dataframe tbody tr th {\n",
       "        vertical-align: top;\n",
       "    }\n",
       "\n",
       "    .dataframe thead th {\n",
       "        text-align: right;\n",
       "    }\n",
       "</style>\n",
       "<table border=\"1\" class=\"dataframe\">\n",
       "  <thead>\n",
       "    <tr style=\"text-align: right;\">\n",
       "      <th></th>\n",
       "      <th>index</th>\n",
       "      <th>total_of_special_requests</th>\n",
       "    </tr>\n",
       "  </thead>\n",
       "  <tbody>\n",
       "    <tr>\n",
       "      <th>0</th>\n",
       "      <td>0</td>\n",
       "      <td>0.502019</td>\n",
       "    </tr>\n",
       "    <tr>\n",
       "      <th>1</th>\n",
       "      <td>1</td>\n",
       "      <td>0.334206</td>\n",
       "    </tr>\n",
       "    <tr>\n",
       "      <th>2</th>\n",
       "      <td>2</td>\n",
       "      <td>0.134260</td>\n",
       "    </tr>\n",
       "    <tr>\n",
       "      <th>3</th>\n",
       "      <td>3 or more</td>\n",
       "      <td>0.029515</td>\n",
       "    </tr>\n",
       "  </tbody>\n",
       "</table>\n",
       "</div>"
      ],
      "text/plain": [
       "       index  total_of_special_requests\n",
       "0          0                   0.502019\n",
       "1          1                   0.334206\n",
       "2          2                   0.134260\n",
       "3  3 or more                   0.029515"
      ]
     },
     "metadata": {},
     "output_type": "display_data"
    },
    {
     "data": {
      "text/html": [
       "<div>\n",
       "<style scoped>\n",
       "    .dataframe tbody tr th:only-of-type {\n",
       "        vertical-align: middle;\n",
       "    }\n",
       "\n",
       "    .dataframe tbody tr th {\n",
       "        vertical-align: top;\n",
       "    }\n",
       "\n",
       "    .dataframe thead th {\n",
       "        text-align: right;\n",
       "    }\n",
       "</style>\n",
       "<table border=\"1\" class=\"dataframe\">\n",
       "  <thead>\n",
       "    <tr style=\"text-align: right;\">\n",
       "      <th></th>\n",
       "      <th>index</th>\n",
       "      <th>reservation_status</th>\n",
       "    </tr>\n",
       "  </thead>\n",
       "  <tbody>\n",
       "    <tr>\n",
       "      <th>0</th>\n",
       "      <td>Check-Out</td>\n",
       "      <td>0.733372</td>\n",
       "    </tr>\n",
       "    <tr>\n",
       "      <th>1</th>\n",
       "      <td>Canceled</td>\n",
       "      <td>0.254647</td>\n",
       "    </tr>\n",
       "    <tr>\n",
       "      <th>2</th>\n",
       "      <td>No-Show</td>\n",
       "      <td>0.011981</td>\n",
       "    </tr>\n",
       "  </tbody>\n",
       "</table>\n",
       "</div>"
      ],
      "text/plain": [
       "       index  reservation_status\n",
       "0  Check-Out            0.733372\n",
       "1   Canceled            0.254647\n",
       "2    No-Show            0.011981"
      ]
     },
     "metadata": {},
     "output_type": "display_data"
    },
    {
     "data": {
      "text/html": [
       "<div>\n",
       "<style scoped>\n",
       "    .dataframe tbody tr th:only-of-type {\n",
       "        vertical-align: middle;\n",
       "    }\n",
       "\n",
       "    .dataframe tbody tr th {\n",
       "        vertical-align: top;\n",
       "    }\n",
       "\n",
       "    .dataframe thead th {\n",
       "        text-align: right;\n",
       "    }\n",
       "</style>\n",
       "<table border=\"1\" class=\"dataframe\">\n",
       "  <thead>\n",
       "    <tr style=\"text-align: right;\">\n",
       "      <th></th>\n",
       "      <th>index</th>\n",
       "      <th>reservation_status_year</th>\n",
       "    </tr>\n",
       "  </thead>\n",
       "  <tbody>\n",
       "    <tr>\n",
       "      <th>0</th>\n",
       "      <td>2016</td>\n",
       "      <td>0.508664</td>\n",
       "    </tr>\n",
       "    <tr>\n",
       "      <th>1</th>\n",
       "      <td>2017</td>\n",
       "      <td>0.332800</td>\n",
       "    </tr>\n",
       "    <tr>\n",
       "      <th>2</th>\n",
       "      <td>2015</td>\n",
       "      <td>0.158463</td>\n",
       "    </tr>\n",
       "    <tr>\n",
       "      <th>3</th>\n",
       "      <td>2014</td>\n",
       "      <td>0.000073</td>\n",
       "    </tr>\n",
       "  </tbody>\n",
       "</table>\n",
       "</div>"
      ],
      "text/plain": [
       "  index  reservation_status_year\n",
       "0  2016                 0.508664\n",
       "1  2017                 0.332800\n",
       "2  2015                 0.158463\n",
       "3  2014                 0.000073"
      ]
     },
     "metadata": {},
     "output_type": "display_data"
    },
    {
     "data": {
      "text/html": [
       "<div>\n",
       "<style scoped>\n",
       "    .dataframe tbody tr th:only-of-type {\n",
       "        vertical-align: middle;\n",
       "    }\n",
       "\n",
       "    .dataframe tbody tr th {\n",
       "        vertical-align: top;\n",
       "    }\n",
       "\n",
       "    .dataframe thead th {\n",
       "        text-align: right;\n",
       "    }\n",
       "</style>\n",
       "<table border=\"1\" class=\"dataframe\">\n",
       "  <thead>\n",
       "    <tr style=\"text-align: right;\">\n",
       "      <th></th>\n",
       "      <th>index</th>\n",
       "      <th>stays_in_week_nights</th>\n",
       "    </tr>\n",
       "  </thead>\n",
       "  <tbody>\n",
       "    <tr>\n",
       "      <th>0</th>\n",
       "      <td>1</td>\n",
       "      <td>0.258794</td>\n",
       "    </tr>\n",
       "    <tr>\n",
       "      <th>1</th>\n",
       "      <td>2</td>\n",
       "      <td>0.239587</td>\n",
       "    </tr>\n",
       "    <tr>\n",
       "      <th>2</th>\n",
       "      <td>3</td>\n",
       "      <td>0.185808</td>\n",
       "    </tr>\n",
       "    <tr>\n",
       "      <th>3</th>\n",
       "      <td>5</td>\n",
       "      <td>0.106212</td>\n",
       "    </tr>\n",
       "    <tr>\n",
       "      <th>4</th>\n",
       "      <td>4</td>\n",
       "      <td>0.088350</td>\n",
       "    </tr>\n",
       "    <tr>\n",
       "      <th>5</th>\n",
       "      <td>0</td>\n",
       "      <td>0.072744</td>\n",
       "    </tr>\n",
       "    <tr>\n",
       "      <th>6</th>\n",
       "      <td>6</td>\n",
       "      <td>0.015109</td>\n",
       "    </tr>\n",
       "    <tr>\n",
       "      <th>7</th>\n",
       "      <td>7</td>\n",
       "      <td>0.010416</td>\n",
       "    </tr>\n",
       "    <tr>\n",
       "      <th>8</th>\n",
       "      <td>10</td>\n",
       "      <td>0.010089</td>\n",
       "    </tr>\n",
       "    <tr>\n",
       "      <th>9</th>\n",
       "      <td>8</td>\n",
       "      <td>0.006560</td>\n",
       "    </tr>\n",
       "    <tr>\n",
       "      <th>10</th>\n",
       "      <td>11 or more</td>\n",
       "      <td>0.003905</td>\n",
       "    </tr>\n",
       "    <tr>\n",
       "      <th>11</th>\n",
       "      <td>9</td>\n",
       "      <td>0.002425</td>\n",
       "    </tr>\n",
       "  </tbody>\n",
       "</table>\n",
       "</div>"
      ],
      "text/plain": [
       "         index  stays_in_week_nights\n",
       "0            1              0.258794\n",
       "1            2              0.239587\n",
       "2            3              0.185808\n",
       "3            5              0.106212\n",
       "4            4              0.088350\n",
       "5            0              0.072744\n",
       "6            6              0.015109\n",
       "7            7              0.010416\n",
       "8           10              0.010089\n",
       "9            8              0.006560\n",
       "10  11 or more              0.003905\n",
       "11           9              0.002425"
      ]
     },
     "metadata": {},
     "output_type": "display_data"
    },
    {
     "data": {
      "text/html": [
       "<div>\n",
       "<style scoped>\n",
       "    .dataframe tbody tr th:only-of-type {\n",
       "        vertical-align: middle;\n",
       "    }\n",
       "\n",
       "    .dataframe tbody tr th {\n",
       "        vertical-align: top;\n",
       "    }\n",
       "\n",
       "    .dataframe thead th {\n",
       "        text-align: right;\n",
       "    }\n",
       "</style>\n",
       "<table border=\"1\" class=\"dataframe\">\n",
       "  <thead>\n",
       "    <tr style=\"text-align: right;\">\n",
       "      <th></th>\n",
       "      <th>index</th>\n",
       "      <th>stays_in_weekend_nights</th>\n",
       "    </tr>\n",
       "  </thead>\n",
       "  <tbody>\n",
       "    <tr>\n",
       "      <th>0</th>\n",
       "      <td>0</td>\n",
       "      <td>0.405302</td>\n",
       "    </tr>\n",
       "    <tr>\n",
       "      <th>1</th>\n",
       "      <td>2</td>\n",
       "      <td>0.298641</td>\n",
       "    </tr>\n",
       "    <tr>\n",
       "      <th>2</th>\n",
       "      <td>1</td>\n",
       "      <td>0.262299</td>\n",
       "    </tr>\n",
       "    <tr>\n",
       "      <th>3</th>\n",
       "      <td>4</td>\n",
       "      <td>0.018177</td>\n",
       "    </tr>\n",
       "    <tr>\n",
       "      <th>4</th>\n",
       "      <td>3</td>\n",
       "      <td>0.012223</td>\n",
       "    </tr>\n",
       "    <tr>\n",
       "      <th>5</th>\n",
       "      <td>5 or more</td>\n",
       "      <td>0.003359</td>\n",
       "    </tr>\n",
       "  </tbody>\n",
       "</table>\n",
       "</div>"
      ],
      "text/plain": [
       "       index  stays_in_weekend_nights\n",
       "0          0                 0.405302\n",
       "1          2                 0.298641\n",
       "2          1                 0.262299\n",
       "3          4                 0.018177\n",
       "4          3                 0.012223\n",
       "5  5 or more                 0.003359"
      ]
     },
     "metadata": {},
     "output_type": "display_data"
    },
    {
     "data": {
      "text/html": [
       "<div>\n",
       "<style scoped>\n",
       "    .dataframe tbody tr th:only-of-type {\n",
       "        vertical-align: middle;\n",
       "    }\n",
       "\n",
       "    .dataframe tbody tr th {\n",
       "        vertical-align: top;\n",
       "    }\n",
       "\n",
       "    .dataframe thead th {\n",
       "        text-align: right;\n",
       "    }\n",
       "</style>\n",
       "<table border=\"1\" class=\"dataframe\">\n",
       "  <thead>\n",
       "    <tr style=\"text-align: right;\">\n",
       "      <th></th>\n",
       "      <th>index</th>\n",
       "      <th>arrival_date_month</th>\n",
       "    </tr>\n",
       "  </thead>\n",
       "  <tbody>\n",
       "    <tr>\n",
       "      <th>0</th>\n",
       "      <td>8</td>\n",
       "      <td>0.116034</td>\n",
       "    </tr>\n",
       "    <tr>\n",
       "      <th>1</th>\n",
       "      <td>7</td>\n",
       "      <td>0.110626</td>\n",
       "    </tr>\n",
       "    <tr>\n",
       "      <th>2</th>\n",
       "      <td>5</td>\n",
       "      <td>0.095675</td>\n",
       "    </tr>\n",
       "    <tr>\n",
       "      <th>3</th>\n",
       "      <td>4</td>\n",
       "      <td>0.094098</td>\n",
       "    </tr>\n",
       "    <tr>\n",
       "      <th>4</th>\n",
       "      <td>3</td>\n",
       "      <td>0.089903</td>\n",
       "    </tr>\n",
       "    <tr>\n",
       "      <th>5</th>\n",
       "      <td>6</td>\n",
       "      <td>0.087987</td>\n",
       "    </tr>\n",
       "    <tr>\n",
       "      <th>6</th>\n",
       "      <td>10</td>\n",
       "      <td>0.079935</td>\n",
       "    </tr>\n",
       "    <tr>\n",
       "      <th>7</th>\n",
       "      <td>9</td>\n",
       "      <td>0.075776</td>\n",
       "    </tr>\n",
       "    <tr>\n",
       "      <th>8</th>\n",
       "      <td>2</td>\n",
       "      <td>0.073314</td>\n",
       "    </tr>\n",
       "    <tr>\n",
       "      <th>9</th>\n",
       "      <td>12</td>\n",
       "      <td>0.060521</td>\n",
       "    </tr>\n",
       "    <tr>\n",
       "      <th>10</th>\n",
       "      <td>11</td>\n",
       "      <td>0.059830</td>\n",
       "    </tr>\n",
       "    <tr>\n",
       "      <th>11</th>\n",
       "      <td>1</td>\n",
       "      <td>0.056301</td>\n",
       "    </tr>\n",
       "  </tbody>\n",
       "</table>\n",
       "</div>"
      ],
      "text/plain": [
       "    index  arrival_date_month\n",
       "0       8            0.116034\n",
       "1       7            0.110626\n",
       "2       5            0.095675\n",
       "3       4            0.094098\n",
       "4       3            0.089903\n",
       "5       6            0.087987\n",
       "6      10            0.079935\n",
       "7       9            0.075776\n",
       "8       2            0.073314\n",
       "9      12            0.060521\n",
       "10     11            0.059830\n",
       "11      1            0.056301"
      ]
     },
     "metadata": {},
     "output_type": "display_data"
    },
    {
     "data": {
      "text/html": [
       "<div>\n",
       "<style scoped>\n",
       "    .dataframe tbody tr th:only-of-type {\n",
       "        vertical-align: middle;\n",
       "    }\n",
       "\n",
       "    .dataframe tbody tr th {\n",
       "        vertical-align: top;\n",
       "    }\n",
       "\n",
       "    .dataframe thead th {\n",
       "        text-align: right;\n",
       "    }\n",
       "</style>\n",
       "<table border=\"1\" class=\"dataframe\">\n",
       "  <thead>\n",
       "    <tr style=\"text-align: right;\">\n",
       "      <th></th>\n",
       "      <th>index</th>\n",
       "      <th>canceling_ratio</th>\n",
       "    </tr>\n",
       "  </thead>\n",
       "  <tbody>\n",
       "    <tr>\n",
       "      <th>0</th>\n",
       "      <td>0</td>\n",
       "      <td>0.947288</td>\n",
       "    </tr>\n",
       "    <tr>\n",
       "      <th>1</th>\n",
       "      <td>mayor que 1</td>\n",
       "      <td>0.023779</td>\n",
       "    </tr>\n",
       "    <tr>\n",
       "      <th>2</th>\n",
       "      <td>1</td>\n",
       "      <td>0.017110</td>\n",
       "    </tr>\n",
       "    <tr>\n",
       "      <th>3</th>\n",
       "      <td>-1</td>\n",
       "      <td>0.011120</td>\n",
       "    </tr>\n",
       "    <tr>\n",
       "      <th>4</th>\n",
       "      <td>menor que -1</td>\n",
       "      <td>0.000703</td>\n",
       "    </tr>\n",
       "  </tbody>\n",
       "</table>\n",
       "</div>"
      ],
      "text/plain": [
       "          index  canceling_ratio\n",
       "0             0         0.947288\n",
       "1   mayor que 1         0.023779\n",
       "2             1         0.017110\n",
       "3            -1         0.011120\n",
       "4  menor que -1         0.000703"
      ]
     },
     "metadata": {},
     "output_type": "display_data"
    },
    {
     "data": {
      "text/html": [
       "<div>\n",
       "<style scoped>\n",
       "    .dataframe tbody tr th:only-of-type {\n",
       "        vertical-align: middle;\n",
       "    }\n",
       "\n",
       "    .dataframe tbody tr th {\n",
       "        vertical-align: top;\n",
       "    }\n",
       "\n",
       "    .dataframe thead th {\n",
       "        text-align: right;\n",
       "    }\n",
       "</style>\n",
       "<table border=\"1\" class=\"dataframe\">\n",
       "  <thead>\n",
       "    <tr style=\"text-align: right;\">\n",
       "      <th></th>\n",
       "      <th>index</th>\n",
       "      <th>days_in_waiting_list</th>\n",
       "    </tr>\n",
       "  </thead>\n",
       "  <tbody>\n",
       "    <tr>\n",
       "      <th>0</th>\n",
       "      <td>0</td>\n",
       "      <td>0.991063</td>\n",
       "    </tr>\n",
       "    <tr>\n",
       "      <th>1</th>\n",
       "      <td>1</td>\n",
       "      <td>0.008937</td>\n",
       "    </tr>\n",
       "  </tbody>\n",
       "</table>\n",
       "</div>"
      ],
      "text/plain": [
       "   index  days_in_waiting_list\n",
       "0      0              0.991063\n",
       "1      1              0.008937"
      ]
     },
     "metadata": {},
     "output_type": "display_data"
    }
   ],
   "source": [
    "# Y se revisan sus categorías\n",
    "for col in disc:\n",
    "    display(df[col].value_counts(True).reset_index())"
   ]
  },
  {
   "cell_type": "code",
   "execution_count": 64,
   "id": "3d52e1f4",
   "metadata": {},
   "outputs": [],
   "source": [
    "# Se isntancian las variables continuas\n",
    "cont = [x for x in (set(df.columns) - set(disc))]"
   ]
  },
  {
   "cell_type": "code",
   "execution_count": 65,
   "id": "f4b97530",
   "metadata": {},
   "outputs": [
    {
     "data": {
      "text/plain": [
       "['lead_time',\n",
       " 'reservation_status_day',\n",
       " 'reservation_status_month',\n",
       " 'arrival_date_day_of_month',\n",
       " 'arrival_date_week_number',\n",
       " 'adr']"
      ]
     },
     "execution_count": 65,
     "metadata": {},
     "output_type": "execute_result"
    }
   ],
   "source": [
    "cont"
   ]
  },
  {
   "cell_type": "markdown",
   "id": "1a568fc9",
   "metadata": {},
   "source": [
    "# Imputación de valores Country_Region"
   ]
  },
  {
   "cell_type": "code",
   "execution_count": 66,
   "id": "dbf287bc",
   "metadata": {},
   "outputs": [
    {
     "name": "stdout",
     "output_type": "stream",
     "text": [
      "<class 'pandas.core.frame.DataFrame'>\n",
      "Int64Index: 82467 entries, 2 to 119389\n",
      "Data columns (total 33 columns):\n",
      " #   Column                       Non-Null Count  Dtype  \n",
      "---  ------                       --------------  -----  \n",
      " 0   hotel                        82467 non-null  object \n",
      " 1   is_canceled                  82467 non-null  int64  \n",
      " 2   lead_time                    82467 non-null  int64  \n",
      " 3   arrival_date_year            82467 non-null  int64  \n",
      " 4   arrival_date_month           82467 non-null  int64  \n",
      " 5   arrival_date_week_number     82467 non-null  int64  \n",
      " 6   arrival_date_day_of_month    82467 non-null  int64  \n",
      " 7   stays_in_weekend_nights      82467 non-null  object \n",
      " 8   stays_in_week_nights         82467 non-null  object \n",
      " 9   adults                       82467 non-null  int64  \n",
      " 10  children                     82467 non-null  float64\n",
      " 11  babies                       82467 non-null  float64\n",
      " 12  meal                         82467 non-null  object \n",
      " 13  market_segment               82467 non-null  object \n",
      " 14  distribution_channel         82467 non-null  object \n",
      " 15  is_repeated_guest            82467 non-null  int64  \n",
      " 16  reserved_room_type           82467 non-null  object \n",
      " 17  assigned_room_type           82467 non-null  object \n",
      " 18  booking_changes              82467 non-null  object \n",
      " 19  deposit_type                 82467 non-null  object \n",
      " 20  agent                        82467 non-null  object \n",
      " 21  company                      82467 non-null  int64  \n",
      " 22  days_in_waiting_list         82467 non-null  int64  \n",
      " 23  customer_type                82467 non-null  object \n",
      " 24  adr                          82467 non-null  float64\n",
      " 25  required_car_parking_spaces  82467 non-null  int64  \n",
      " 26  total_of_special_requests    82467 non-null  object \n",
      " 27  reservation_status           82467 non-null  object \n",
      " 28  country_region               81977 non-null  object \n",
      " 29  canceling_ratio              82467 non-null  object \n",
      " 30  reservation_status_year      82467 non-null  object \n",
      " 31  reservation_status_month     82467 non-null  int64  \n",
      " 32  reservation_status_day       82467 non-null  int64  \n",
      "dtypes: float64(3), int64(13), object(17)\n",
      "memory usage: 21.4+ MB\n"
     ]
    }
   ],
   "source": [
    "df.info()"
   ]
  },
  {
   "cell_type": "code",
   "execution_count": 67,
   "id": "0e3dafa4",
   "metadata": {
    "scrolled": true
   },
   "outputs": [
    {
     "data": {
      "text/plain": [
       "Index(['lead_time', 'reservation_status_day', 'arrival_date_week_number',\n",
       "       'reservation_status_month', 'country_region',\n",
       "       'arrival_date_day_of_month', 'adr', 'babies', 'arrival_date_month',\n",
       "       'required_car_parking_spaces', 'adults', 'children',\n",
       "       'days_in_waiting_list', 'company', 'is_canceled', 'is_repeated_guest',\n",
       "       'arrival_date_year', 'distribution_channel_Direct',\n",
       "       'distribution_channel_GDS', 'distribution_channel_TA/TO',\n",
       "       'reservation_status_Check-Out', 'reservation_status_No-Show',\n",
       "       'reservation_status_year_2015', 'reservation_status_year_2016',\n",
       "       'reservation_status_year_2017', 'stays_in_week_nights_1',\n",
       "       'stays_in_week_nights_2', 'stays_in_week_nights_3',\n",
       "       'stays_in_week_nights_4', 'stays_in_week_nights_5',\n",
       "       'stays_in_week_nights_6', 'stays_in_week_nights_7',\n",
       "       'stays_in_week_nights_8', 'stays_in_week_nights_9',\n",
       "       'stays_in_week_nights_10', 'stays_in_week_nights_11 or more',\n",
       "       'canceling_ratio_0', 'canceling_ratio_1', 'canceling_ratio_mayor que 1',\n",
       "       'canceling_ratio_menor que -1', 'assigned_room_type_B',\n",
       "       'assigned_room_type_C', 'assigned_room_type_D', 'assigned_room_type_E',\n",
       "       'assigned_room_type_F', 'assigned_room_type_G', 'assigned_room_type_H',\n",
       "       'assigned_room_type_I', 'assigned_room_type_K', 'agent_6.0',\n",
       "       'agent_7.0', 'agent_8.0', 'agent_9.0', 'agent_14.0', 'agent_28.0',\n",
       "       'agent_40.0', 'agent_240.0', 'agent_241.0', 'agent_242.0',\n",
       "       'agent_250.0', 'agent_314.0', 'agent_No Agent', 'agent_Other Agent',\n",
       "       'stays_in_weekend_nights_1', 'stays_in_weekend_nights_2',\n",
       "       'stays_in_weekend_nights_3', 'stays_in_weekend_nights_4',\n",
       "       'stays_in_weekend_nights_5 or more', 'total_of_special_requests_1',\n",
       "       'total_of_special_requests_2', 'total_of_special_requests_3 or more',\n",
       "       'booking_changes_1', 'booking_changes_2', 'booking_changes_3',\n",
       "       'booking_changes_4 or more', 'hotel_Resort Hotel',\n",
       "       'deposit_type_Non Refund', 'deposit_type_Refundable',\n",
       "       'customer_type_Group', 'customer_type_Transient',\n",
       "       'customer_type_Transient-Party', 'meal_FB', 'meal_HB', 'meal_SC',\n",
       "       'meal_Undefined', 'reserved_room_type_B', 'reserved_room_type_C',\n",
       "       'reserved_room_type_D', 'reserved_room_type_E', 'reserved_room_type_F',\n",
       "       'reserved_room_type_G', 'reserved_room_type_H',\n",
       "       'market_segment_Complementary', 'market_segment_Corporate',\n",
       "       'market_segment_Direct', 'market_segment_Groups',\n",
       "       'market_segment_Offline TA/TO', 'market_segment_Online TA'],\n",
       "      dtype='object')"
      ]
     },
     "execution_count": 67,
     "metadata": {},
     "output_type": "execute_result"
    }
   ],
   "source": [
    "# Se propone hacer imputación por medio de regresión logística a los datos nuños, por temas de tiempo\n",
    "# se omite la división de imputación por test y entrenamiento pero se entiende el error cometido\n",
    "target = 'country_region'\n",
    "X0 = df.drop(columns=list(set(disc) - {target}))[list(set(cont).union({target}))].join(pd.get_dummies(df[list(set(disc) - {target})], drop_first = True))\n",
    "X0.columns"
   ]
  },
  {
   "cell_type": "code",
   "execution_count": 68,
   "id": "64bb8c60",
   "metadata": {
    "scrolled": true
   },
   "outputs": [
    {
     "data": {
      "text/plain": [
       "['lead_time',\n",
       " 'reservation_status_day',\n",
       " 'arrival_date_week_number',\n",
       " 'reservation_status_month',\n",
       " 'country_region',\n",
       " 'arrival_date_day_of_month',\n",
       " 'adr',\n",
       " 'babies',\n",
       " 'arrival_date_month',\n",
       " 'required_car_parking_spaces',\n",
       " 'adults',\n",
       " 'children',\n",
       " 'days_in_waiting_list',\n",
       " 'company',\n",
       " 'is_canceled',\n",
       " 'is_repeated_guest',\n",
       " 'arrival_date_year',\n",
       " 'distribution_channel_Direct',\n",
       " 'distribution_channel_GDS',\n",
       " 'distribution_channel_TA/TO',\n",
       " 'reservation_status_Check-Out',\n",
       " 'reservation_status_No-Show',\n",
       " 'reservation_status_year_2015',\n",
       " 'reservation_status_year_2016',\n",
       " 'reservation_status_year_2017',\n",
       " 'stays_in_week_nights_1',\n",
       " 'stays_in_week_nights_2',\n",
       " 'stays_in_week_nights_3',\n",
       " 'stays_in_week_nights_4',\n",
       " 'stays_in_week_nights_5',\n",
       " 'stays_in_week_nights_6',\n",
       " 'stays_in_week_nights_7',\n",
       " 'stays_in_week_nights_8',\n",
       " 'stays_in_week_nights_9',\n",
       " 'stays_in_week_nights_10',\n",
       " 'stays_in_week_nights_11 or more',\n",
       " 'canceling_ratio_0',\n",
       " 'canceling_ratio_1',\n",
       " 'canceling_ratio_mayor que 1',\n",
       " 'canceling_ratio_menor que -1',\n",
       " 'assigned_room_type_B',\n",
       " 'assigned_room_type_C',\n",
       " 'assigned_room_type_D',\n",
       " 'assigned_room_type_E',\n",
       " 'assigned_room_type_F',\n",
       " 'assigned_room_type_G',\n",
       " 'assigned_room_type_H',\n",
       " 'assigned_room_type_I',\n",
       " 'assigned_room_type_K',\n",
       " 'agent_6.0',\n",
       " 'agent_7.0',\n",
       " 'agent_8.0',\n",
       " 'agent_9.0',\n",
       " 'agent_14.0',\n",
       " 'agent_28.0',\n",
       " 'agent_40.0',\n",
       " 'agent_240.0',\n",
       " 'agent_241.0',\n",
       " 'agent_242.0',\n",
       " 'agent_250.0',\n",
       " 'agent_314.0',\n",
       " 'agent_No Agent',\n",
       " 'agent_Other Agent',\n",
       " 'stays_in_weekend_nights_1',\n",
       " 'stays_in_weekend_nights_2',\n",
       " 'stays_in_weekend_nights_3',\n",
       " 'stays_in_weekend_nights_4',\n",
       " 'stays_in_weekend_nights_5 or more',\n",
       " 'total_of_special_requests_1',\n",
       " 'total_of_special_requests_2',\n",
       " 'total_of_special_requests_3 or more',\n",
       " 'booking_changes_1',\n",
       " 'booking_changes_2',\n",
       " 'booking_changes_3',\n",
       " 'booking_changes_4 or more',\n",
       " 'hotel_Resort Hotel',\n",
       " 'deposit_type_Non Refund',\n",
       " 'deposit_type_Refundable',\n",
       " 'customer_type_Group',\n",
       " 'customer_type_Transient',\n",
       " 'customer_type_Transient-Party',\n",
       " 'meal_FB',\n",
       " 'meal_HB',\n",
       " 'meal_SC',\n",
       " 'meal_Undefined',\n",
       " 'reserved_room_type_B',\n",
       " 'reserved_room_type_C',\n",
       " 'reserved_room_type_D',\n",
       " 'reserved_room_type_E',\n",
       " 'reserved_room_type_F',\n",
       " 'reserved_room_type_G',\n",
       " 'reserved_room_type_H',\n",
       " 'market_segment_Complementary',\n",
       " 'market_segment_Corporate',\n",
       " 'market_segment_Direct',\n",
       " 'market_segment_Groups',\n",
       " 'market_segment_Offline TA/TO',\n",
       " 'market_segment_Online TA']"
      ]
     },
     "execution_count": 68,
     "metadata": {},
     "output_type": "execute_result"
    }
   ],
   "source": [
    "X0.columns.to_list()"
   ]
  },
  {
   "cell_type": "code",
   "execution_count": 69,
   "id": "4d87be0c",
   "metadata": {},
   "outputs": [],
   "source": [
    "# Se eliminan variables continuas de las variables predictoras\n",
    "\n",
    "target = 'country_region'\n",
    "y = df['country_region']\n",
    "X = X0.drop(columns = cont)\n",
    "X_train = X.loc[X['country_region'].isnull() == False].drop('country_region', axis = 1)\n",
    "X_test = X.loc[X['country_region'].isnull() == True].drop('country_region', axis = 1)\n",
    "y_train = X['country_region'].loc[X['country_region'].isnull() == False]\n",
    "pred = X['country_region'].loc[X['country_region'].isnull() == True]"
   ]
  },
  {
   "cell_type": "code",
   "execution_count": 117,
   "id": "43dfc768",
   "metadata": {},
   "outputs": [],
   "source": [
    "# Se crea la regresión\n",
    "logistic=LogisticRegression(solver='liblinear',penalty='l1')\n",
    "logistic.fit(X_train,y_train)\n",
    "y_test = logistic.predict(X_test)"
   ]
  },
  {
   "cell_type": "code",
   "execution_count": 71,
   "id": "7021210a",
   "metadata": {},
   "outputs": [
    {
     "data": {
      "text/plain": [
       "Portugal                                                449\n",
       "France                                                   21\n",
       "United Kingdom of Great Britain and Northern Ireland     12\n",
       "Spain                                                     4\n",
       "Rest of Northern Europe                                   2\n",
       "Germany                                                   1\n",
       "Rest of Western Europe                                    1\n",
       "dtype: int64"
      ]
     },
     "execution_count": 71,
     "metadata": {},
     "output_type": "execute_result"
    }
   ],
   "source": [
    "pd.DataFrame(y_test).value_counts()"
   ]
  },
  {
   "cell_type": "code",
   "execution_count": 72,
   "id": "5b216896",
   "metadata": {
    "scrolled": true
   },
   "outputs": [
    {
     "data": {
      "text/plain": [
       "array([0.0084305 , 0.00737662, 0.00288605, 0.00903365, 0.00755512,\n",
       "       0.02881773, 0.00698419, 0.00060737, 0.00133687, 0.01731509,\n",
       "       0.02017127, 0.00140432, 0.00515955, 0.00578061, 0.01410065,\n",
       "       0.0073949 , 0.00617674, 0.00495809, 0.00339321, 0.01242647,\n",
       "       0.00529233, 0.00344121, 0.00118295, 0.01442738, 0.00205864,\n",
       "       0.00520401, 0.00205832, 0.0171753 , 0.00317749, 0.00337532,\n",
       "       0.00305925, 0.0066146 , 0.00525044, 0.00888072, 0.03214865,\n",
       "       0.00211009, 0.00102575, 0.00115236, 0.00122797, 0.01760506,\n",
       "       0.00837687, 0.00579407, 0.00309054, 0.00254541, 0.00377927,\n",
       "       0.00351308, 0.00216452, 0.00199675, 0.00320565, 0.01975992,\n",
       "       0.00369701, 0.0080136 , 0.0019449 , 0.00097566, 0.00093648,\n",
       "       0.00112593, 0.00123635, 0.0159594 , 0.04009784, 0.00509677,\n",
       "       0.00130472, 0.00926368, 0.00154946, 0.00076571, 0.00212146,\n",
       "       0.00265319, 0.00200534, 0.00570504, 0.01930803, 0.00597893,\n",
       "       0.00750382, 0.00364291, 0.00168314, 0.01498512, 0.01183815,\n",
       "       0.00480717, 0.00768504, 0.07503491, 0.00083033, 0.00078693,\n",
       "       0.00605049, 0.00169158, 0.00240936, 0.00201557, 0.00511499,\n",
       "       0.00079764, 0.00072396, 0.00060795, 0.00074049, 0.00087116,\n",
       "       0.00090159, 0.00071545, 0.00103791, 0.00123145, 0.00111969,\n",
       "       0.00102361, 0.00098549, 0.0012284 , 0.0009624 , 0.00412462,\n",
       "       0.01126085, 0.00624965, 0.00354527, 0.00259607, 0.00203019,\n",
       "       0.0017122 , 0.00304939, 0.00631252, 0.00300729, 0.01862631,\n",
       "       0.00191099, 0.00580452, 0.00112905, 0.00260648, 0.00193947,\n",
       "       0.00069094, 0.02061056, 0.00803541, 0.0017685 , 0.01097948,\n",
       "       0.04340754, 0.00812718, 0.04632901, 0.01036594, 0.03384964,\n",
       "       0.01571848, 0.01003564, 0.00813421, 0.026991  , 0.01496587,\n",
       "       0.04129829, 0.0157535 , 0.0093453 , 0.00537949, 0.0052958 ,\n",
       "       0.00239426, 0.00926099, 0.02151667, 0.01573248, 0.01568503,\n",
       "       0.00691325, 0.00378051, 0.00389398, 0.00590546, 0.00411744,\n",
       "       0.00360746, 0.01970591, 0.06977402, 0.00413853, 0.02811672,\n",
       "       0.00653104, 0.0103457 , 0.065235  , 0.00366593, 0.00103379,\n",
       "       0.0036837 , 0.00381459, 0.00181933, 0.00748048, 0.0169538 ,\n",
       "       0.01265112, 0.02543557, 0.02993313, 0.01919908, 0.04830099,\n",
       "       0.00475213, 0.03862756, 0.00655309, 0.00314091, 0.00228114,\n",
       "       0.00159911, 0.00771957, 0.00391082, 0.00164694, 0.00187298,\n",
       "       0.00182727, 0.00129464, 0.00132925, 0.0039009 , 0.00374946,\n",
       "       0.0207614 , 0.00315532, 0.00153395, 0.00314699, 0.00402041,\n",
       "       0.00580452, 0.01631282, 0.00791113, 0.00664618, 0.01407487,\n",
       "       0.0067703 , 0.00319579, 0.00338513, 0.0064777 , 0.00079561,\n",
       "       0.00070547, 0.02743332, 0.01010258, 0.01276941, 0.0259741 ,\n",
       "       0.02208487, 0.01650766, 0.00531248, 0.00086299, 0.00094046,\n",
       "       0.00116653, 0.01908397, 0.01206776, 0.00807898, 0.00139713,\n",
       "       0.00117671, 0.01192487, 0.00082374, 0.00147371, 0.00078409,\n",
       "       0.0254971 , 0.00082093, 0.00079388, 0.00086611, 0.01882586,\n",
       "       0.01193445, 0.00450037, 0.00566836, 0.00102575, 0.00502687,\n",
       "       0.00194181, 0.02338088, 0.00056306, 0.00088829, 0.00108791,\n",
       "       0.00104259, 0.00110106, 0.00134559, 0.00116054, 0.00136063,\n",
       "       0.00159911, 0.00828742, 0.00639487, 0.04846488, 0.00799926,\n",
       "       0.00378819, 0.01623718, 0.06137563, 0.02674784, 0.0170917 ,\n",
       "       0.00813369, 0.00388844, 0.007677  , 0.0252227 , 0.02682748,\n",
       "       0.00975215, 0.02079435, 0.00334595, 0.02153945, 0.01042948,\n",
       "       0.02199524, 0.00617674, 0.00216617, 0.01992576, 0.00915552,\n",
       "       0.0103129 , 0.01348725, 0.01988908, 0.01462305, 0.0030426 ,\n",
       "       0.00410084, 0.04225904, 0.0472199 , 0.05006245, 0.00708986,\n",
       "       0.00355137, 0.03028508, 0.00921029, 0.00667435, 0.00874653,\n",
       "       0.01831496, 0.00165715, 0.00343109, 0.0039957 , 0.0017467 ,\n",
       "       0.00983968, 0.00491622, 0.00201821, 0.00238741, 0.07319928,\n",
       "       0.01890715, 0.01157014, 0.0212024 , 0.00978364, 0.02855712,\n",
       "       0.00841058, 0.00346287, 0.0206633 , 0.00216539, 0.00485083,\n",
       "       0.02340557, 0.01529407, 0.00528631, 0.00359523, 0.00351394,\n",
       "       0.00212949, 0.00170674, 0.02002721, 0.01792455, 0.0173908 ,\n",
       "       0.00550084, 0.00234316, 0.00267658, 0.0172138 , 0.01794474,\n",
       "       0.01876425, 0.02765129, 0.0247881 , 0.0032929 , 0.05977753,\n",
       "       0.01792455, 0.00601096, 0.00334404, 0.0032187 , 0.0329225 ,\n",
       "       0.00410357, 0.01036371, 0.02693167, 0.01800441, 0.00445779,\n",
       "       0.00103791, 0.00140443, 0.00099998, 0.00084499, 0.00290244,\n",
       "       0.00107954, 0.0012957 , 0.0014357 , 0.00147793, 0.00137173,\n",
       "       0.0022306 , 0.00643232, 0.04096475, 0.01101883, 0.03332833,\n",
       "       0.00386239, 0.00163901, 0.00094173, 0.00099063, 0.01387394,\n",
       "       0.00671972, 0.05641694, 0.00572381, 0.00225703, 0.00299763,\n",
       "       0.00342649, 0.03095331, 0.02356536, 0.01015075, 0.00241781,\n",
       "       0.00285665, 0.00290942, 0.0264179 , 0.01565782, 0.01242783,\n",
       "       0.00524188, 0.00290596, 0.00117938, 0.00137603, 0.00689128,\n",
       "       0.03373611, 0.02044043, 0.00450634, 0.00263336, 0.00901271,\n",
       "       0.00081788, 0.02351179, 0.00572124, 0.00318132, 0.00161214,\n",
       "       0.03674885, 0.00728691, 0.07305572, 0.01111779, 0.00907961,\n",
       "       0.01157297, 0.01089499, 0.03218427, 0.0129515 , 0.00180006,\n",
       "       0.01502436, 0.0052958 , 0.0032486 , 0.0472002 , 0.04780661,\n",
       "       0.06846275, 0.00206732, 0.02657671, 0.01009709, 0.00514456,\n",
       "       0.00212546, 0.05753337, 0.01354394, 0.03084248, 0.00344391,\n",
       "       0.0058913 , 0.0098229 , 0.00808733, 0.00773845, 0.04877236,\n",
       "       0.02087475, 0.0253685 , 0.05194504, 0.00805322, 0.00091222,\n",
       "       0.00964659, 0.00462717, 0.00622059, 0.0222145 , 0.00507582,\n",
       "       0.03500831, 0.0332741 , 0.03500831, 0.01309595, 0.02510616,\n",
       "       0.00295659, 0.00137603, 0.00873968, 0.02607839, 0.01001357,\n",
       "       0.00254062, 0.02324007, 0.00195064, 0.00125917, 0.00274566,\n",
       "       0.00274566, 0.00483208, 0.01473563, 0.00959149, 0.00675235,\n",
       "       0.01916739, 0.00653327, 0.02042582, 0.0067663 , 0.00916983,\n",
       "       0.00802525, 0.05492519, 0.05386076, 0.04855097, 0.04943567,\n",
       "       0.05047256, 0.06632996, 0.01744636, 0.00381749, 0.05081701,\n",
       "       0.02399536, 0.0338544 , 0.04628409, 0.06304424, 0.06225636,\n",
       "       0.03563919, 0.03623054, 0.05273431, 0.04250649, 0.04134498,\n",
       "       0.03853663, 0.06255238, 0.06702008, 0.05821718, 0.02790112,\n",
       "       0.02822606, 0.01846207, 0.00138621, 0.01616339, 0.02255087,\n",
       "       0.01479098, 0.04119064, 0.03237233, 0.04607885, 0.03796636,\n",
       "       0.03741033, 0.04689641, 0.02717452, 0.00451017, 0.02879572,\n",
       "       0.01570069, 0.02220837, 0.01739653, 0.03205129, 0.02766531,\n",
       "       0.00496128, 0.01531475, 0.06940518, 0.04765112, 0.04827264])"
      ]
     },
     "execution_count": 72,
     "metadata": {},
     "output_type": "execute_result"
    }
   ],
   "source": [
    "logistic.predict_proba(X_test)\n",
    "logistic.predict_proba(X_test)[:,1]"
   ]
  },
  {
   "cell_type": "code",
   "execution_count": 73,
   "id": "6da46bd0",
   "metadata": {},
   "outputs": [],
   "source": [
    "# Se imputan las predicciones en el dataset\n",
    "\n",
    "pred_dict = dict(zip(pred.index, y_test))\n",
    "df['country_region'] = df['country_region'].fillna(value = pred_dict)"
   ]
  },
  {
   "cell_type": "code",
   "execution_count": 74,
   "id": "3b40df27",
   "metadata": {
    "scrolled": true
   },
   "outputs": [
    {
     "data": {
      "text/plain": [
       "hotel                          0.0\n",
       "is_canceled                    0.0\n",
       "lead_time                      0.0\n",
       "arrival_date_year              0.0\n",
       "arrival_date_month             0.0\n",
       "arrival_date_week_number       0.0\n",
       "arrival_date_day_of_month      0.0\n",
       "stays_in_weekend_nights        0.0\n",
       "stays_in_week_nights           0.0\n",
       "adults                         0.0\n",
       "children                       0.0\n",
       "babies                         0.0\n",
       "meal                           0.0\n",
       "market_segment                 0.0\n",
       "distribution_channel           0.0\n",
       "is_repeated_guest              0.0\n",
       "reserved_room_type             0.0\n",
       "assigned_room_type             0.0\n",
       "booking_changes                0.0\n",
       "deposit_type                   0.0\n",
       "agent                          0.0\n",
       "company                        0.0\n",
       "days_in_waiting_list           0.0\n",
       "customer_type                  0.0\n",
       "adr                            0.0\n",
       "required_car_parking_spaces    0.0\n",
       "total_of_special_requests      0.0\n",
       "reservation_status             0.0\n",
       "country_region                 0.0\n",
       "canceling_ratio                0.0\n",
       "reservation_status_year        0.0\n",
       "reservation_status_month       0.0\n",
       "reservation_status_day         0.0\n",
       "dtype: float64"
      ]
     },
     "execution_count": 74,
     "metadata": {},
     "output_type": "execute_result"
    }
   ],
   "source": [
    "# Se revisan los datos nulos y se tienen 0 en todo el dataset\n",
    "df.isnull().sum() / len(df)"
   ]
  },
  {
   "cell_type": "markdown",
   "id": "e3ff91ce",
   "metadata": {},
   "source": [
    "# Woe IV para disminuir dimensiones"
   ]
  },
  {
   "cell_type": "code",
   "execution_count": 75,
   "id": "b811fc22",
   "metadata": {},
   "outputs": [
    {
     "data": {
      "text/plain": [
       "['hotel',\n",
       " 'is_canceled',\n",
       " 'arrival_date_year',\n",
       " 'adults',\n",
       " 'children',\n",
       " 'babies',\n",
       " 'meal',\n",
       " 'country_region',\n",
       " 'market_segment',\n",
       " 'distribution_channel',\n",
       " 'is_repeated_guest',\n",
       " 'reserved_room_type',\n",
       " 'assigned_room_type',\n",
       " 'booking_changes',\n",
       " 'deposit_type',\n",
       " 'agent',\n",
       " 'company',\n",
       " 'customer_type',\n",
       " 'required_car_parking_spaces',\n",
       " 'total_of_special_requests',\n",
       " 'reservation_status',\n",
       " 'reservation_status_year',\n",
       " 'stays_in_week_nights',\n",
       " 'stays_in_weekend_nights',\n",
       " 'arrival_date_month',\n",
       " 'canceling_ratio',\n",
       " 'days_in_waiting_list']"
      ]
     },
     "execution_count": 75,
     "metadata": {},
     "output_type": "execute_result"
    }
   ],
   "source": [
    "# ya que el modelo que se desea crear es muy básico, se debenm escoger las columnas con demasiado cuidado\n",
    "disc"
   ]
  },
  {
   "cell_type": "code",
   "execution_count": 76,
   "id": "01022621",
   "metadata": {},
   "outputs": [
    {
     "data": {
      "text/plain": [
       "Index(['is_canceled', 'arrival_date_year', 'adults', 'children', 'babies',\n",
       "       'is_repeated_guest', 'company', 'required_car_parking_spaces',\n",
       "       'arrival_date_month', 'days_in_waiting_list',\n",
       "       ...\n",
       "       'stays_in_weekend_nights_1', 'stays_in_weekend_nights_2',\n",
       "       'stays_in_weekend_nights_3', 'stays_in_weekend_nights_4',\n",
       "       'stays_in_weekend_nights_5 or more', 'canceling_ratio_-1',\n",
       "       'canceling_ratio_0', 'canceling_ratio_1', 'canceling_ratio_mayor que 1',\n",
       "       'canceling_ratio_menor que -1'],\n",
       "      dtype='object', length=122)"
      ]
     },
     "execution_count": 76,
     "metadata": {},
     "output_type": "execute_result"
    }
   ],
   "source": [
    "# definimos las variables discretas ya categorizadas con dummies\n",
    "woe = df.drop(columns=disc)[cont].join(pd.get_dummies(df[disc]))\n",
    "woe = woe.drop(columns = cont)\n",
    "woe.columns"
   ]
  },
  {
   "cell_type": "code",
   "execution_count": 77,
   "id": "394b93a3",
   "metadata": {},
   "outputs": [],
   "source": [
    "# Se define la variable que nos permite intepretar el woe a aprtir del IV\n",
    "\n",
    "def iv_woe(data, target, bins=20, show_woe=False):\n",
    "    \n",
    "    #Empty Dataframe\n",
    "    newDF,woeDF = pd.DataFrame(), pd.DataFrame()\n",
    "    \n",
    "    #Extract Column Names\n",
    "    cols = data.columns\n",
    "    \n",
    "    #Run WOE and IV on all the independent variables\n",
    "    for ivars in cols[~cols.isin([target])]:\n",
    "        if (data[ivars].dtype.kind in 'bifc') and (len(np.unique(data[ivars]))>10):\n",
    "            binned_x = pd.qcut(data[ivars], bins,  duplicates='drop')\n",
    "            d0 = pd.DataFrame({'x': binned_x, 'y': data[target]})\n",
    "        else:\n",
    "            d0 = pd.DataFrame({'x': data[ivars], 'y': data[target]})\n",
    "        d = d0.groupby(\"x\", as_index=False).agg({\"y\": [\"count\", \"sum\"]})\n",
    "        d.columns = ['Cutoff', 'N', 'Events']\n",
    "        d['% of Events'] = np.maximum(d['Events'], 0.5) / d['Events'].sum()\n",
    "        d['Non-Events'] = d['N'] - d['Events']\n",
    "        d['% of Non-Events'] = np.maximum(d['Non-Events'], 0.5) / d['Non-Events'].sum()\n",
    "        d['WoE'] = np.log(d['% of Events']/d['% of Non-Events'])\n",
    "        d['IV'] = d['WoE'] * (d['% of Events'] - d['% of Non-Events'])\n",
    "        d.insert(loc=0, column='Variable', value=ivars)\n",
    "        print(\"Information value of \" + ivars + \" is \" + str(round(d['IV'].sum(),6)))\n",
    "        temp =pd.DataFrame({\"Variable\" : [ivars], \"IV\" : [d['IV'].sum()]}, columns = [\"Variable\", \"IV\"])\n",
    "        newDF=pd.concat([newDF,temp], axis=0)\n",
    "        woeDF=pd.concat([woeDF,d], axis=0)\n",
    "\n",
    "        #Show WOE Table\n",
    "        if show_woe == True:\n",
    "            print(d)\n",
    "    return newDF, woeDF"
   ]
  },
  {
   "cell_type": "code",
   "execution_count": 78,
   "id": "cc2ac573",
   "metadata": {
    "scrolled": true
   },
   "outputs": [
    {
     "name": "stdout",
     "output_type": "stream",
     "text": [
      "Information value of arrival_date_year is 0.036744\n",
      "Information value of adults is 0.046923\n",
      "Information value of children is 0.011566\n",
      "Information value of babies is 0.002018\n",
      "Information value of is_repeated_guest is 0.061902\n",
      "Information value of company is 0.056062\n",
      "Information value of required_car_parking_spaces is 0.972701\n",
      "Information value of arrival_date_month is 0.031761\n",
      "Information value of days_in_waiting_list is 0.001466\n",
      "Information value of hotel_City Hotel is 0.03277\n",
      "Information value of hotel_Resort Hotel is 0.03277\n",
      "Information value of meal_BB is 0.008946\n",
      "Information value of meal_FB is 1e-06\n",
      "Information value of meal_HB is 0.000392\n",
      "Information value of meal_SC is 0.021685\n",
      "Information value of meal_Undefined is 0.002156\n",
      "Information value of country_region_Africa is 0.007164\n",
      "Information value of country_region_Eastern Asia is 0.001878\n",
      "Information value of country_region_Eastern Europe is 2e-06\n",
      "Information value of country_region_France is 0.018278\n",
      "Information value of country_region_Germany is 0.010482\n",
      "Information value of country_region_Northern America is 0.000492\n",
      "Information value of country_region_Portugal is 0.058817\n",
      "Information value of country_region_Rest of Asia, Oceania & Zealand is 2.8e-05\n",
      "Information value of country_region_Rest of Northern Europe is 0.005605\n",
      "Information value of country_region_Rest of Southern Europe is 0.004779\n",
      "Information value of country_region_Rest of Western Europe is 0.009525\n",
      "Information value of country_region_South America is 0.00361\n",
      "Information value of country_region_Spain is 0.000766\n",
      "Information value of country_region_United Kingdom of Great Britain and Northern Ireland is 0.023591\n",
      "Information value of country_region_Western Asia is 0.003895\n",
      "Information value of market_segment_Aviation is 0.000372\n",
      "Information value of market_segment_Complementary is 0.005914\n",
      "Information value of market_segment_Corporate is 0.038488\n",
      "Information value of market_segment_Direct is 0.076591\n",
      "Information value of market_segment_Groups is 0.000497\n",
      "Information value of market_segment_Offline TA/TO is 0.092235\n",
      "Information value of market_segment_Online TA is 0.255657\n",
      "Information value of distribution_channel_Corporate is 0.039685\n",
      "Information value of distribution_channel_Direct is 0.081624\n",
      "Information value of distribution_channel_GDS is 0.000291\n",
      "Information value of distribution_channel_TA/TO is 0.131397\n",
      "Information value of reserved_room_type_A is 0.008554\n",
      "Information value of reserved_room_type_B is 0.00044\n",
      "Information value of reserved_room_type_C is 0.000345\n",
      "Information value of reserved_room_type_D is 0.006281\n",
      "Information value of reserved_room_type_E is 6.7e-05\n",
      "Information value of reserved_room_type_F is 0.000254\n",
      "Information value of reserved_room_type_G is 0.001181\n",
      "Information value of reserved_room_type_H is 0.00121\n",
      "Information value of assigned_room_type_A is 0.033486\n",
      "Information value of assigned_room_type_B is 0.002039\n",
      "Information value of assigned_room_type_C is 0.007718\n",
      "Information value of assigned_room_type_D is 0.007604\n",
      "Information value of assigned_room_type_E is 0.004451\n",
      "Information value of assigned_room_type_F is 0.001649\n",
      "Information value of assigned_room_type_G is 8.4e-05\n",
      "Information value of assigned_room_type_H is 0.000244\n",
      "Information value of assigned_room_type_I is 0.01685\n",
      "Information value of assigned_room_type_K is 0.007615\n",
      "Information value of booking_changes_0 is 0.090307\n",
      "Information value of booking_changes_1 is 0.079819\n",
      "Information value of booking_changes_2 is 0.006078\n",
      "Information value of booking_changes_3 is 0.004008\n",
      "Information value of booking_changes_4 or more is 0.00129\n",
      "Information value of deposit_type_No Deposit is 0.085869\n",
      "Information value of deposit_type_Non Refund is 0.112398\n",
      "Information value of deposit_type_Refundable is 4.5e-05\n",
      "Information value of agent_1.0 is 4e-05\n",
      "Information value of agent_6.0 is 0.005113\n",
      "Information value of agent_7.0 is 0.02519\n",
      "Information value of agent_8.0 is 3e-06\n",
      "Information value of agent_9.0 is 0.217031\n",
      "Information value of agent_14.0 is 0.010694\n",
      "Information value of agent_28.0 is 0.035286\n",
      "Information value of agent_40.0 is 0.015003\n",
      "Information value of agent_240.0 is 0.034902\n",
      "Information value of agent_241.0 is 0.014774\n",
      "Information value of agent_242.0 is 0.00058\n",
      "Information value of agent_250.0 is 0.009269\n",
      "Information value of agent_314.0 is 0.004637\n",
      "Information value of agent_No Agent is 0.106459\n",
      "Information value of agent_Other Agent is 0.043298\n",
      "Information value of customer_type_Contract is 0.013498\n",
      "Information value of customer_type_Group is 0.010662\n",
      "Information value of customer_type_Transient is 0.091245\n",
      "Information value of customer_type_Transient-Party is 0.065254\n",
      "Information value of total_of_special_requests_0 is 0.07748\n",
      "Information value of total_of_special_requests_1 is 0.031497\n",
      "Information value of total_of_special_requests_2 is 0.015135\n",
      "Information value of total_of_special_requests_3 or more is 0.009993\n",
      "Information value of reservation_status_Canceled is 14.096487\n",
      "Information value of reservation_status_Check-Out is 22.394258\n",
      "Information value of reservation_status_No-Show is 0.388452\n",
      "Information value of reservation_status_year_2014 is 0.000925\n",
      "Information value of reservation_status_year_2015 is 0.010123\n",
      "Information value of reservation_status_year_2016 is 0.009587\n",
      "Information value of reservation_status_year_2017 is 0.000802\n",
      "Information value of stays_in_week_nights_0 is 0.01575\n",
      "Information value of stays_in_week_nights_1 is 0.026367\n",
      "Information value of stays_in_week_nights_2 is 0.001244\n",
      "Information value of stays_in_week_nights_3 is 0.00439\n",
      "Information value of stays_in_week_nights_4 is 0.006778\n",
      "Information value of stays_in_week_nights_5 is 0.003753\n",
      "Information value of stays_in_week_nights_6 is 0.003015\n",
      "Information value of stays_in_week_nights_7 is 0.000131\n",
      "Information value of stays_in_week_nights_8 is 0.000344\n",
      "Information value of stays_in_week_nights_9 is 0.0008\n",
      "Information value of stays_in_week_nights_10 is 3e-05\n",
      "Information value of stays_in_week_nights_11 or more is 0.005891\n",
      "Information value of stays_in_weekend_nights_0 is 0.014092\n",
      "Information value of stays_in_weekend_nights_1 is 5.7e-05\n",
      "Information value of stays_in_weekend_nights_2 is 0.00949\n",
      "Information value of stays_in_weekend_nights_3 is 0.000918\n",
      "Information value of stays_in_weekend_nights_4 is 0.000233\n",
      "Information value of stays_in_weekend_nights_5 or more is 0.004256\n",
      "Information value of canceling_ratio_-1 is 0.183902\n",
      "Information value of canceling_ratio_0 is 0.000875\n",
      "Information value of canceling_ratio_1 is 0.05102\n",
      "Information value of canceling_ratio_mayor que 1 is 0.057765\n",
      "Information value of canceling_ratio_menor que -1 is 0.001917\n"
     ]
    }
   ],
   "source": [
    "# Se aplica la función\n",
    "is_canceled_woe = iv_woe(woe, 'is_canceled', bins=15, show_woe=False)"
   ]
  },
  {
   "cell_type": "code",
   "execution_count": 81,
   "id": "6f48e9fa",
   "metadata": {},
   "outputs": [],
   "source": [
    "# Se seleccionan las variables de mayor relevancia (en general las que la suma de sus IV categorizadas arroje màs de 0.1)\n",
    "# Se eliminan variables sobrepredictivas (por ejemplo el status de la reservación: Cancelada)\n",
    "disc_woe = ['is_canceled', 'market_segment', 'distribution_channel',\n",
    "         'deposit_type', 'agent',\n",
    "       'customer_type', 'total_of_special_requests',\n",
    "       'canceling_ratio', 'country_region', 'assigned_room_type']\n",
    "cont_woe = ['reservation_status_month',\n",
    " 'arrival_date_week_number',\n",
    " 'lead_time',\n",
    " 'adr']\n",
    "df_is_canceled = df[disc_woe + cont_woe]"
   ]
  },
  {
   "cell_type": "code",
   "execution_count": 115,
   "id": "b0945df7",
   "metadata": {},
   "outputs": [
    {
     "data": {
      "text/plain": [
       "(82467, 14)"
      ]
     },
     "execution_count": 115,
     "metadata": {},
     "output_type": "execute_result"
    },
    {
     "name": "stdout",
     "output_type": "stream",
     "text": [
      "[CV 2/3] END ..alpha=624, solver=sag, tol=1e-07;, score=0.819 total time=   1.0s\n",
      "[CV 2/3] END ..alpha=727, solver=sag, tol=1e-05;, score=0.818 total time=   0.6s\n",
      "[CV 2/3] END ..alpha=285, solver=sag, tol=1e-07;, score=0.821 total time=   1.5s\n",
      "[CV 1/3] END .alpha=824, solver=saga, tol=1e-07;, score=0.819 total time=   2.0s\n",
      "[CV 2/3] END ..alpha=839, solver=svd, tol=1e-07;, score=0.818 total time=   0.5s\n",
      "[CV 1/3] END .alpha=437, solver=lsqr, tol=1e-05;, score=0.822 total time=   0.2s\n",
      "[CV 2/3] END .alpha=437, solver=lsqr, tol=1e-05;, score=0.820 total time=   0.2s\n",
      "[CV 3/3] END .alpha=437, solver=lsqr, tol=1e-05;, score=0.813 total time=   0.2s\n",
      "[CV 3/3] END ...alpha=925, solver=svd, tol=0.01;, score=0.810 total time=   0.7s\n",
      "[CV 1/3] END alpha=568, solver=sparse_cg, tol=0.01;, score=0.821 total time=   0.1s\n",
      "[CV 2/3] END alpha=568, solver=sparse_cg, tol=0.01;, score=0.819 total time=   0.1s\n",
      "[CV 3/3] END alpha=568, solver=sparse_cg, tol=0.01;, score=0.811 total time=   0.1s\n",
      "[CV 1/3] END ..alpha=689, solver=auto, tol=0.01;, score=0.820 total time=   0.1s\n",
      "[CV 2/3] END ..alpha=689, solver=auto, tol=0.01;, score=0.819 total time=   0.1s\n",
      "[CV 3/3] END ..alpha=689, solver=auto, tol=0.01;, score=0.811 total time=   0.1s\n",
      "[CV 1/3] END ...alpha=695, solver=svd, tol=0.01;, score=0.820 total time=   0.4s\n",
      "[CV 2/3] END ...alpha=695, solver=svd, tol=0.01;, score=0.819 total time=   0.4s\n",
      "[CV 3/3] END ...alpha=695, solver=svd, tol=0.01;, score=0.811 total time=   0.5s\n",
      "[CV 1/3] END alpha=686, solver=cholesky, tol=1e-05;, score=0.820 total time=   0.1s\n",
      "[CV 2/3] END alpha=686, solver=cholesky, tol=1e-05;, score=0.819 total time=   0.1s\n",
      "[CV 3/3] END alpha=686, solver=cholesky, tol=1e-05;, score=0.811 total time=   0.1s\n",
      "[CV 1/3] END .alpha=636, solver=auto, tol=1e-07;, score=0.820 total time=   0.1s\n",
      "[CV 2/3] END .alpha=636, solver=auto, tol=1e-07;, score=0.819 total time=   0.1s\n",
      "[CV 3/3] END .alpha=636, solver=auto, tol=1e-07;, score=0.811 total time=   0.1s\n",
      "[CV 3/3] END .alpha=275, solver=lsqr, tol=1e-07;, score=0.814 total time=   0.3s\n",
      "[CV 1/3] END ..alpha=38, solver=saga, tol=1e-05;, score=0.827 total time=   1.3s\n",
      "[CV 2/3] END ..alpha=195, solver=saga, tol=0.01;, score=0.822 total time=   0.5s\n",
      "[CV 2/3] END .alpha=882, solver=auto, tol=1e-05;, score=0.817 total time=   0.1s\n",
      "[CV 1/3] END ..alpha=355, solver=auto, tol=0.01;, score=0.823 total time=   0.1s\n",
      "[CV 1/3] END ..alpha=142, solver=saga, tol=0.01;, score=0.825 total time=   0.6s\n",
      "[CV 2/3] END ..alpha=569, solver=lsqr, tol=0.01;, score=0.817 total time=   0.1s\n",
      "[CV 2/3] END ..alpha=669, solver=auto, tol=0.01;, score=0.819 total time=   0.1s\n",
      "[CV 2/3] END .alpha=500, solver=lsqr, tol=1e-07;, score=0.820 total time=   0.3s\n",
      "[CV 2/3] END ...alpha=756, solver=svd, tol=0.01;, score=0.818 total time=   0.7s\n",
      "[CV 3/3] END .alpha=753, solver=saga, tol=1e-05;, score=0.811 total time=   1.4s\n",
      "[CV 1/3] END .alpha=211, solver=lsqr, tol=1e-07;, score=0.824 total time=   0.3s\n",
      "[CV 2/3] END .alpha=211, solver=lsqr, tol=1e-07;, score=0.822 total time=   0.2s\n",
      "[CV 3/3] END .alpha=211, solver=lsqr, tol=1e-07;, score=0.815 total time=   0.2s\n",
      "[CV 1/3] END ..alpha=56, solver=saga, tol=1e-07;, score=0.826 total time=   1.9s\n",
      "[CV 2/3] END .alpha=793, solver=saga, tol=1e-05;, score=0.818 total time=   1.3s\n",
      "[CV 3/3] END ..alpha=707, solver=sag, tol=1e-07;, score=0.811 total time=   1.1s\n",
      "[CV 1/3] END ..alpha=182, solver=lsqr, tol=0.01;, score=0.821 total time=   0.1s\n",
      "[CV 2/3] END ..alpha=182, solver=lsqr, tol=0.01;, score=0.819 total time=   0.1s\n",
      "[CV 3/3] END ..alpha=182, solver=lsqr, tol=0.01;, score=0.812 total time=   0.1s\n",
      "[CV 3/3] END .alpha=645, solver=auto, tol=1e-05;, score=0.811 total time=   0.1s\n",
      "[CV 1/3] END alpha=653, solver=cholesky, tol=1e-05;, score=0.820 total time=   0.1s\n",
      "[CV 3/3] END alpha=653, solver=cholesky, tol=1e-05;, score=0.811 total time=   0.1s\n",
      "[CV 2/3] END alpha=752, solver=cholesky, tol=1e-05;, score=0.818 total time=   0.1s\n",
      "[CV 1/3] END ...alpha=174, solver=sag, tol=0.01;, score=0.824 total time=   0.4s\n",
      "[CV 3/3] END .alpha=466, solver=lsqr, tol=1e-07;, score=0.812 total time=   0.2s\n",
      "[CV 1/3] END ..alpha=840, solver=sag, tol=1e-07;, score=0.819 total time=   0.9s\n",
      "[CV 2/3] END ..alpha=840, solver=sag, tol=1e-07;, score=0.818 total time=   1.2s\n",
      "[CV 2/3] END alpha=649, solver=sparse_cg, tol=1e-07;, score=0.819 total time=   0.3s\n",
      "[CV 3/3] END ...alpha=0.3, solver=svd, tol=0.01;, score=0.819 total time=   0.8s\n",
      "[CV 1/3] END .alpha=587, solver=lsqr, tol=1e-07;, score=0.821 total time=   0.3s\n",
      "[CV 2/3] END .alpha=319, solver=saga, tol=1e-07;, score=0.821 total time=   1.9s\n",
      "[CV 3/3] END ..alpha=624, solver=sag, tol=1e-07;, score=0.811 total time=   1.2s\n",
      "[CV 1/3] END ..alpha=285, solver=sag, tol=1e-07;, score=0.823 total time=   1.3s\n",
      "[CV 2/3] END .alpha=649, solver=saga, tol=1e-07;, score=0.819 total time=   1.8s\n",
      "[CV 3/3] END .alpha=824, solver=saga, tol=1e-07;, score=0.810 total time=   2.2s\n",
      "[CV 2/3] END .alpha=298, solver=saga, tol=1e-07;, score=0.821 total time=   2.4s\n",
      "[CV 1/3] END ..alpha=910, solver=sag, tol=1e-05;, score=0.819 total time=   0.7s\n",
      "[CV 2/3] END ..alpha=38, solver=saga, tol=1e-05;, score=0.824 total time=   1.4s\n",
      "[CV 1/3] END .alpha=882, solver=auto, tol=1e-05;, score=0.819 total time=   0.1s\n",
      "[CV 3/3] END .alpha=882, solver=auto, tol=1e-05;, score=0.810 total time=   0.1s\n",
      "[CV 3/3] END ..alpha=355, solver=auto, tol=0.01;, score=0.813 total time=   0.1s\n",
      "[CV 3/3] END ..alpha=142, solver=saga, tol=0.01;, score=0.816 total time=   0.6s\n",
      "[CV 3/3] END ..alpha=569, solver=lsqr, tol=0.01;, score=0.809 total time=   0.1s\n",
      "[CV 1/3] END ...alpha=756, solver=svd, tol=0.01;, score=0.820 total time=   0.8s\n",
      "[CV 2/3] END .alpha=753, solver=saga, tol=1e-05;, score=0.818 total time=   1.6s\n",
      "[CV 3/3] END .alpha=128, solver=saga, tol=1e-07;, score=0.816 total time=   1.8s\n",
      "[CV 1/3] END ..alpha=323, solver=lsqr, tol=0.01;, score=0.821 total time=   0.1s\n",
      "[CV 2/3] END ..alpha=323, solver=lsqr, tol=0.01;, score=0.819 total time=   0.1s\n",
      "[CV 3/3] END ..alpha=323, solver=lsqr, tol=0.01;, score=0.812 total time=   0.1s\n",
      "[CV 1/3] END .alpha=907, solver=auto, tol=1e-05;, score=0.819 total time=   0.1s\n",
      "[CV 2/3] END .alpha=907, solver=auto, tol=1e-05;, score=0.817 total time=   0.1s\n",
      "[CV 3/3] END .alpha=907, solver=auto, tol=1e-05;, score=0.810 total time=   0.1s\n",
      "[CV 1/3] END .alpha=793, solver=saga, tol=1e-05;, score=0.819 total time=   1.2s\n",
      "[CV 2/3] END ..alpha=707, solver=sag, tol=1e-07;, score=0.818 total time=   0.9s\n",
      "[CV 3/3] END alpha=671, solver=sparse_cg, tol=1e-05;, score=0.811 total time=   0.2s\n",
      "[CV 3/3] END .alpha=497, solver=saga, tol=1e-07;, score=0.812 total time=   1.7s\n",
      "[CV 2/3] END ...alpha=98, solver=sag, tol=1e-07;, score=0.823 total time=   1.1s\n",
      "[CV 3/3] END ..alpha=949, solver=sag, tol=1e-05;, score=0.809 total time=   0.9s\n",
      "[CV 2/3] END ..alpha=321, solver=sag, tol=1e-07;, score=0.821 total time=   1.1s\n",
      "[CV 2/3] END ....alpha=79, solver=svd, tol=0.01;, score=0.823 total time=   0.8s\n",
      "[CV 3/3] END alpha=838, solver=cholesky, tol=1e-07;, score=0.810 total time=   0.1s\n",
      "[CV 3/3] END alpha=432, solver=sparse_cg, tol=1e-07;, score=0.813 total time=   0.4s\n",
      "[CV 1/3] END .alpha=981, solver=auto, tol=1e-07;, score=0.818 total time=   0.1s\n",
      "[CV 2/3] END .alpha=981, solver=auto, tol=1e-07;, score=0.817 total time=   0.2s\n",
      "[CV 3/3] END .alpha=981, solver=auto, tol=1e-07;, score=0.809 total time=   0.2s\n",
      "[CV 2/3] END .alpha=848, solver=auto, tol=1e-05;, score=0.818 total time=   0.1s\n",
      "[CV 2/3] END alpha=442, solver=cholesky, tol=1e-07;, score=0.820 total time=   0.1s\n",
      "[CV 1/3] END ...alpha=628, solver=sag, tol=0.01;, score=0.820 total time=   0.4s\n",
      "[CV 3/3] END .alpha=828, solver=lsqr, tol=1e-05;, score=0.810 total time=   0.2s\n",
      "[CV 1/3] END ...alpha=30, solver=lsqr, tol=0.01;, score=0.821 total time=   0.2s\n",
      "[CV 3/3] END ..alpha=106, solver=lsqr, tol=0.01;, score=0.812 total time=   0.1s\n",
      "[CV 1/3] END .alpha=535, solver=lsqr, tol=1e-07;, score=0.821 total time=   0.3s\n",
      "[CV 3/3] END ..alpha=98, solver=auto, tol=1e-05;, score=0.817 total time=   0.1s\n",
      "[CV 3/3] END .alpha=822, solver=lsqr, tol=1e-05;, score=0.810 total time=   0.2s\n",
      "[CV 3/3] END ...alpha=802, solver=svd, tol=0.01;, score=0.810 total time=   0.7s\n",
      "[CV 1/3] END ..alpha=80, solver=lsqr, tol=1e-07;, score=0.826 total time=   0.2s\n",
      "[CV 2/3] END ..alpha=80, solver=lsqr, tol=1e-07;, score=0.823 total time=   0.2s\n",
      "[CV 3/3] END ..alpha=80, solver=lsqr, tol=1e-07;, score=0.817 total time=   0.3s\n",
      "[CV 1/3] END ...alpha=984, solver=sag, tol=0.01;, score=0.818 total time=   0.3s\n",
      "[CV 1/3] END alpha=232, solver=sparse_cg, tol=0.01;, score=0.823 total time=   0.1s\n",
      "[CV 1/3] END ..alpha=397, solver=sag, tol=1e-07;, score=0.822 total time=   1.2s\n",
      "[CV 2/3] END ..alpha=645, solver=svd, tol=1e-05;, score=0.819 total time=   0.7s\n",
      "[CV 2/3] END ...alpha=7, solver=saga, tol=1e-05;, score=0.824 total time=   1.7s\n",
      "[CV 1/3] END .alpha=466, solver=lsqr, tol=1e-07;, score=0.822 total time=   0.2s\n",
      "[CV 2/3] END .alpha=466, solver=lsqr, tol=1e-07;, score=0.820 total time=   0.2s\n",
      "[CV 1/3] END .alpha=402, solver=saga, tol=1e-05;, score=0.822 total time=   1.2s\n",
      "[CV 3/3] END ..alpha=840, solver=sag, tol=1e-07;, score=0.810 total time=   1.2s\n",
      "[CV 1/3] END ...alpha=0.3, solver=svd, tol=0.01;, score=0.827 total time=   0.8s\n",
      "[CV 1/3] END .alpha=979, solver=auto, tol=1e-05;, score=0.818 total time=   0.1s\n",
      "[CV 1/3] END .alpha=602, solver=auto, tol=1e-05;, score=0.821 total time=   0.1s\n",
      "[CV 2/3] END .alpha=587, solver=lsqr, tol=1e-07;, score=0.819 total time=   0.3s\n",
      "[CV 3/3] END .alpha=319, solver=saga, tol=1e-07;, score=0.814 total time=   2.1s\n",
      "[CV 1/3] END ...alpha=963, solver=sag, tol=0.01;, score=0.818 total time=   0.3s\n",
      "[CV 2/3] END ...alpha=963, solver=sag, tol=0.01;, score=0.817 total time=   0.2s\n",
      "[CV 3/3] END ...alpha=963, solver=sag, tol=0.01;, score=0.809 total time=   0.3s\n",
      "[CV 3/3] END ..alpha=727, solver=sag, tol=1e-05;, score=0.811 total time=   0.7s\n",
      "[CV 1/3] END alpha=6, solver=cholesky, tol=0.01;, score=0.827 total time=   0.1s\n",
      "[CV 2/3] END alpha=6, solver=cholesky, tol=0.01;, score=0.824 total time=   0.1s\n",
      "[CV 3/3] END alpha=6, solver=cholesky, tol=0.01;, score=0.819 total time=   0.1s\n",
      "[CV 1/3] END .alpha=649, solver=saga, tol=1e-07;, score=0.820 total time=   2.0s\n",
      "[CV 2/3] END .alpha=824, solver=saga, tol=1e-07;, score=0.818 total time=   2.1s\n",
      "[CV 2/3] END ...alpha=925, solver=svd, tol=0.01;, score=0.817 total time=   0.7s\n",
      "[CV 3/3] END .alpha=298, solver=saga, tol=1e-07;, score=0.814 total time=   2.1s\n",
      "[CV 1/3] END .alpha=275, solver=lsqr, tol=1e-07;, score=0.823 total time=   0.3s\n",
      "[CV 2/3] END ..alpha=910, solver=sag, tol=1e-05;, score=0.817 total time=   0.7s\n",
      "[CV 3/3] END ..alpha=38, solver=saga, tol=1e-05;, score=0.818 total time=   1.4s\n",
      "[CV 2/3] END ..alpha=355, solver=auto, tol=0.01;, score=0.821 total time=   0.1s\n",
      "[CV 2/3] END ..alpha=142, solver=saga, tol=0.01;, score=0.822 total time=   0.5s\n",
      "[CV 3/3] END .alpha=934, solver=lsqr, tol=1e-05;, score=0.810 total time=   0.2s\n",
      "[CV 3/3] END ..alpha=669, solver=auto, tol=0.01;, score=0.811 total time=   0.1s\n",
      "[CV 3/3] END .alpha=500, solver=lsqr, tol=1e-07;, score=0.812 total time=   0.4s\n",
      "[CV 1/3] END .alpha=753, solver=saga, tol=1e-05;, score=0.820 total time=   1.4s\n",
      "[CV 3/3] END alpha=658, solver=sparse_cg, tol=1e-07;, score=0.811 total time=   0.2s\n",
      "[CV 1/3] END .alpha=128, solver=saga, tol=1e-07;, score=0.825 total time=   1.8s\n",
      "[CV 2/3] END ..alpha=56, solver=saga, tol=1e-07;, score=0.823 total time=   1.7s\n",
      "[CV 3/3] END .alpha=793, solver=saga, tol=1e-05;, score=0.810 total time=   1.2s\n",
      "[CV 1/3] END .alpha=497, solver=saga, tol=1e-07;, score=0.821 total time=   1.8s\n",
      "[CV 1/3] END .alpha=849, solver=auto, tol=1e-07;, score=0.819 total time=   0.2s\n",
      "[CV 2/3] END .alpha=849, solver=auto, tol=1e-07;, score=0.818 total time=   0.1s\n",
      "[CV 3/3] END .alpha=849, solver=auto, tol=1e-07;, score=0.810 total time=   0.1s\n",
      "[CV 2/3] END .alpha=979, solver=auto, tol=1e-05;, score=0.817 total time=   0.1s\n",
      "[CV 2/3] END .alpha=602, solver=auto, tol=1e-05;, score=0.819 total time=   0.1s\n",
      "[CV 3/3] END .alpha=587, solver=lsqr, tol=1e-07;, score=0.812 total time=   0.2s\n",
      "[CV 1/3] END .alpha=611, solver=auto, tol=1e-07;, score=0.821 total time=   0.1s\n",
      "[CV 2/3] END .alpha=611, solver=auto, tol=1e-07;, score=0.819 total time=   0.1s\n",
      "[CV 3/3] END .alpha=611, solver=auto, tol=1e-07;, score=0.811 total time=   0.1s\n",
      "[CV 1/3] END .alpha=922, solver=auto, tol=1e-07;, score=0.819 total time=   0.1s\n",
      "[CV 2/3] END .alpha=922, solver=auto, tol=1e-07;, score=0.817 total time=   0.1s\n",
      "[CV 3/3] END .alpha=922, solver=auto, tol=1e-07;, score=0.810 total time=   0.1s\n",
      "[CV 1/3] END ..alpha=308, solver=svd, tol=1e-07;, score=0.823 total time=   0.4s\n",
      "[CV 2/3] END ..alpha=308, solver=svd, tol=1e-07;, score=0.821 total time=   0.4s\n",
      "[CV 3/3] END ..alpha=308, solver=svd, tol=1e-07;, score=0.814 total time=   0.4s\n",
      "[CV 1/3] END ..alpha=624, solver=sag, tol=1e-07;, score=0.820 total time=   1.0s\n",
      "[CV 1/3] END ..alpha=727, solver=sag, tol=1e-05;, score=0.820 total time=   0.7s\n",
      "[CV 3/3] END ..alpha=285, solver=sag, tol=1e-07;, score=0.814 total time=   1.2s\n",
      "[CV 3/3] END .alpha=649, solver=saga, tol=1e-07;, score=0.811 total time=   1.8s\n",
      "[CV 1/3] END alpha=321, solver=sparse_cg, tol=0.01;, score=0.822 total time=   0.1s\n",
      "[CV 2/3] END alpha=321, solver=sparse_cg, tol=0.01;, score=0.820 total time=   0.1s\n",
      "[CV 3/3] END alpha=321, solver=sparse_cg, tol=0.01;, score=0.813 total time=   0.1s\n",
      "[CV 1/3] END ..alpha=839, solver=svd, tol=1e-07;, score=0.819 total time=   0.5s\n",
      "[CV 3/3] END ..alpha=839, solver=svd, tol=1e-07;, score=0.810 total time=   0.5s\n",
      "[CV 1/3] END ...alpha=925, solver=svd, tol=0.01;, score=0.819 total time=   0.6s\n",
      "[CV 1/3] END .alpha=298, solver=saga, tol=1e-07;, score=0.823 total time=   2.4s\n",
      "[CV 2/3] END .alpha=275, solver=lsqr, tol=1e-07;, score=0.821 total time=   0.3s\n",
      "[CV 3/3] END ..alpha=910, solver=sag, tol=1e-05;, score=0.810 total time=   0.7s\n",
      "[CV 1/3] END ..alpha=756, solver=auto, tol=0.01;, score=0.820 total time=   0.1s\n",
      "[CV 2/3] END ..alpha=756, solver=auto, tol=0.01;, score=0.818 total time=   0.1s\n",
      "[CV 3/3] END ..alpha=756, solver=auto, tol=0.01;, score=0.811 total time=   0.1s\n",
      "[CV 1/3] END alpha=344, solver=cholesky, tol=1e-07;, score=0.823 total time=   0.1s\n",
      "[CV 2/3] END alpha=344, solver=cholesky, tol=1e-07;, score=0.821 total time=   0.1s\n",
      "[CV 3/3] END alpha=344, solver=cholesky, tol=1e-07;, score=0.813 total time=   0.1s\n",
      "[CV 1/3] END ..alpha=195, solver=saga, tol=0.01;, score=0.824 total time=   0.6s\n",
      "[CV 3/3] END ..alpha=195, solver=saga, tol=0.01;, score=0.815 total time=   0.6s\n",
      "[CV 1/3] END .alpha=934, solver=lsqr, tol=1e-05;, score=0.819 total time=   0.1s\n",
      "[CV 2/3] END .alpha=934, solver=lsqr, tol=1e-05;, score=0.817 total time=   0.1s\n",
      "[CV 1/3] END ..alpha=569, solver=lsqr, tol=0.01;, score=0.819 total time=   0.1s\n",
      "[CV 1/3] END ..alpha=669, solver=auto, tol=0.01;, score=0.820 total time=   0.1s\n",
      "[CV 1/3] END .alpha=500, solver=lsqr, tol=1e-07;, score=0.821 total time=   0.3s\n",
      "[CV 3/3] END ...alpha=756, solver=svd, tol=0.01;, score=0.811 total time=   0.7s\n",
      "[CV 1/3] END alpha=843, solver=sparse_cg, tol=1e-05;, score=0.819 total time=   0.1s\n",
      "[CV 2/3] END alpha=843, solver=sparse_cg, tol=1e-05;, score=0.818 total time=   0.1s\n",
      "[CV 3/3] END alpha=843, solver=sparse_cg, tol=1e-05;, score=0.810 total time=   0.1s\n",
      "[CV 1/3] END .alpha=444, solver=auto, tol=1e-07;, score=0.822 total time=   0.1s\n",
      "[CV 2/3] END .alpha=444, solver=auto, tol=1e-07;, score=0.820 total time=   0.1s\n",
      "[CV 3/3] END .alpha=444, solver=auto, tol=1e-07;, score=0.813 total time=   0.1s\n",
      "[CV 1/3] END ..alpha=530, solver=lsqr, tol=0.01;, score=0.819 total time=   0.1s\n",
      "[CV 2/3] END ..alpha=530, solver=lsqr, tol=0.01;, score=0.817 total time=   0.1s\n",
      "[CV 3/3] END ..alpha=530, solver=lsqr, tol=0.01;, score=0.809 total time=   0.1s\n",
      "[CV 1/3] END alpha=658, solver=sparse_cg, tol=1e-07;, score=0.820 total time=   0.2s\n",
      "[CV 2/3] END alpha=658, solver=sparse_cg, tol=1e-07;, score=0.819 total time=   0.2s\n",
      "[CV 2/3] END .alpha=128, solver=saga, tol=1e-07;, score=0.823 total time=   1.8s\n",
      "[CV 3/3] END ..alpha=56, solver=saga, tol=1e-07;, score=0.818 total time=   1.7s\n",
      "[CV 1/3] END ..alpha=707, solver=sag, tol=1e-07;, score=0.820 total time=   0.9s\n",
      "[CV 1/3] END alpha=671, solver=sparse_cg, tol=1e-05;, score=0.820 total time=   0.1s\n",
      "[CV 2/3] END alpha=671, solver=sparse_cg, tol=1e-05;, score=0.819 total time=   0.2s\n",
      "[CV 2/3] END .alpha=497, solver=saga, tol=1e-07;, score=0.820 total time=   1.8s\n"
     ]
    }
   ],
   "source": [
    "df_is_canceled.shape"
   ]
  },
  {
   "cell_type": "markdown",
   "id": "d17c1ffe",
   "metadata": {},
   "source": [
    "# MODELADO "
   ]
  },
  {
   "cell_type": "code",
   "execution_count": 86,
   "id": "3a1af891",
   "metadata": {},
   "outputs": [],
   "source": [
    "#Se Crean las dummies de las variables seleccionadas con la disminución de dimensiones\n",
    "\n",
    "tgt = \"is_canceled\"\n",
    "from sklearn.model_selection import train_test_split\n",
    "df_is_canceled_dummied = df_is_canceled.drop(columns=disc_woe)[cont_woe].join(pd.get_dummies(df_is_canceled[disc_woe], drop_first = True))\n",
    "\n",
    "X = df_is_canceled_dummied.drop(columns = tgt)\n",
    "y = df_is_canceled_dummied[tgt]\n",
    "X_train, X_test, y_train, y_test = train_test_split(X, y, test_size=0.2)\n",
    "\n",
    "# Y se crea una muestra test del 30% de la muestra completa"
   ]
  },
  {
   "cell_type": "code",
   "execution_count": 87,
   "id": "e7ab175c",
   "metadata": {},
   "outputs": [
    {
     "data": {
      "text/plain": [
       "0    48415\n",
       "1    17558\n",
       "Name: is_canceled, dtype: int64"
      ]
     },
     "execution_count": 87,
     "metadata": {},
     "output_type": "execute_result"
    }
   ],
   "source": [
    "# Se revisa la proporción de la variable a imputar\n",
    "y_train.value_counts()"
   ]
  },
  {
   "cell_type": "code",
   "execution_count": 88,
   "id": "9094e5e6",
   "metadata": {},
   "outputs": [
    {
     "data": {
      "text/plain": [
       "Index(['reservation_status_month', 'arrival_date_week_number', 'lead_time',\n",
       "       'adr', 'market_segment_Complementary', 'market_segment_Corporate',\n",
       "       'market_segment_Direct', 'market_segment_Groups',\n",
       "       'market_segment_Offline TA/TO', 'market_segment_Online TA',\n",
       "       'distribution_channel_Direct', 'distribution_channel_GDS',\n",
       "       'distribution_channel_TA/TO', 'deposit_type_Non Refund',\n",
       "       'deposit_type_Refundable', 'agent_6.0', 'agent_7.0', 'agent_8.0',\n",
       "       'agent_9.0', 'agent_14.0', 'agent_28.0', 'agent_40.0', 'agent_240.0',\n",
       "       'agent_241.0', 'agent_242.0', 'agent_250.0', 'agent_314.0',\n",
       "       'agent_No Agent', 'agent_Other Agent', 'customer_type_Group',\n",
       "       'customer_type_Transient', 'customer_type_Transient-Party',\n",
       "       'total_of_special_requests_1', 'total_of_special_requests_2',\n",
       "       'total_of_special_requests_3 or more', 'canceling_ratio_0',\n",
       "       'canceling_ratio_1', 'canceling_ratio_mayor que 1',\n",
       "       'canceling_ratio_menor que -1', 'country_region_Eastern Asia',\n",
       "       'country_region_Eastern Europe', 'country_region_France',\n",
       "       'country_region_Germany', 'country_region_Northern America',\n",
       "       'country_region_Portugal',\n",
       "       'country_region_Rest of Asia, Oceania & Zealand',\n",
       "       'country_region_Rest of Northern Europe',\n",
       "       'country_region_Rest of Southern Europe',\n",
       "       'country_region_Rest of Western Europe', 'country_region_South America',\n",
       "       'country_region_Spain',\n",
       "       'country_region_United Kingdom of Great Britain and Northern Ireland',\n",
       "       'country_region_Western Asia', 'assigned_room_type_B',\n",
       "       'assigned_room_type_C', 'assigned_room_type_D', 'assigned_room_type_E',\n",
       "       'assigned_room_type_F', 'assigned_room_type_G', 'assigned_room_type_H',\n",
       "       'assigned_room_type_I', 'assigned_room_type_K'],\n",
       "      dtype='object')"
      ]
     },
     "execution_count": 88,
     "metadata": {},
     "output_type": "execute_result"
    }
   ],
   "source": [
    "X_train.columns"
   ]
  },
  {
   "cell_type": "markdown",
   "id": "66d57d38",
   "metadata": {},
   "source": [
    "# parámetros"
   ]
  },
  {
   "cell_type": "code",
   "execution_count": 89,
   "id": "c27a9d07",
   "metadata": {},
   "outputs": [],
   "source": [
    "# para mayor velocidad se reparametrizan las variables predictoras\n",
    "mms_x = MinMaxScaler()\n",
    "mms_y = MinMaxScaler()\n",
    "Xs = mms_x.fit_transform(X_train)"
   ]
  },
  {
   "cell_type": "code",
   "execution_count": 203,
   "id": "e8b589b2",
   "metadata": {},
   "outputs": [
    {
     "name": "stderr",
     "output_type": "stream",
     "text": [
      "/home/saintyx/Documentos/DIPLOMADO/MOD1/lib/python3.8/site-packages/sklearn/linear_model/_logistic.py:814: ConvergenceWarning:\n",
      "\n",
      "lbfgs failed to converge (status=1):\n",
      "STOP: TOTAL NO. of ITERATIONS REACHED LIMIT.\n",
      "\n",
      "Increase the number of iterations (max_iter) or scale the data as shown in:\n",
      "    https://scikit-learn.org/stable/modules/preprocessing.html\n",
      "Please also refer to the documentation for alternative solver options:\n",
      "    https://scikit-learn.org/stable/modules/linear_model.html#logistic-regression\n",
      "\n"
     ]
    },
    {
     "data": {
      "text/plain": [
       "LogisticRegression()"
      ]
     },
     "execution_count": 203,
     "metadata": {},
     "output_type": "execute_result"
    }
   ],
   "source": [
    "#Se hace la regresión logística\n",
    "logistic=LogisticRegression()\n",
    "logistic.fit(X_train,y_train)"
   ]
  },
  {
   "cell_type": "code",
   "execution_count": 194,
   "id": "42ce911c",
   "metadata": {},
   "outputs": [
    {
     "data": {
      "text/plain": [
       "2927"
      ]
     },
     "execution_count": 194,
     "metadata": {},
     "output_type": "execute_result"
    }
   ],
   "source": [
    "logistic.predict(mms_x.fit_transform(X_test)).sum()"
   ]
  },
  {
   "cell_type": "code",
   "execution_count": 205,
   "id": "433eeeb5",
   "metadata": {},
   "outputs": [
    {
     "data": {
      "text/plain": [
       "array([0.07913283, 0.4816008 , 0.28259937, ..., 0.02238369, 0.2300293 ,\n",
       "       0.41005581])"
      ]
     },
     "execution_count": 205,
     "metadata": {},
     "output_type": "execute_result"
    }
   ],
   "source": [
    "logistic.predict_proba(X_test)\n",
    "logistic.predict_proba(X_test)[:,1]"
   ]
  },
  {
   "cell_type": "code",
   "execution_count": 206,
   "id": "b99b435b",
   "metadata": {},
   "outputs": [],
   "source": [
    "# Se califica la regresión con Rocc y Acc\n",
    "def metricas(model,Xv,yv): #Mide efectividad de un Modelo Predictivo\n",
    "    print( \" Roc Validate: %.3f\" %roc_auc_score(y_score=model.predict_proba(Xv)[:,1],y_true=yv))\n",
    "    print( \" Acc Validate: %.3f\" %accuracy_score(y_pred=model.predict(Xv),y_true=yv))\n",
    "    print( \" Matrix Conf Validate: \", \"\\n\",confusion_matrix(y_pred=model.predict(Xv),y_true=yv))"
   ]
  },
  {
   "cell_type": "code",
   "execution_count": 209,
   "id": "a5ff9324",
   "metadata": {},
   "outputs": [
    {
     "name": "stdout",
     "output_type": "stream",
     "text": [
      " Roc Validate: 0.810\n",
      " Acc Validate: 0.786\n",
      " Matrix Conf Validate:  \n",
      " [[43897  4518]\n",
      " [ 9569  7989]]\n"
     ]
    }
   ],
   "source": [
    "metricas(logistic,X_train,y_train)"
   ]
  },
  {
   "cell_type": "code",
   "execution_count": 210,
   "id": "49641f5a",
   "metadata": {},
   "outputs": [
    {
     "name": "stdout",
     "output_type": "stream",
     "text": [
      " Roc Validate: 0.981\n",
      " Acc Validate: 0.956\n",
      " Matrix Conf Validate:  \n",
      " [[13073   495]\n",
      " [  238  2688]]\n"
     ]
    },
    {
     "name": "stderr",
     "output_type": "stream",
     "text": [
      "/home/saintyx/Documentos/DIPLOMADO/MOD1/lib/python3.8/site-packages/sklearn/linear_model/_logistic.py:814: ConvergenceWarning: lbfgs failed to converge (status=1):\n",
      "STOP: TOTAL NO. of ITERATIONS REACHED LIMIT.\n",
      "\n",
      "Increase the number of iterations (max_iter) or scale the data as shown in:\n",
      "    https://scikit-learn.org/stable/modules/preprocessing.html\n",
      "Please also refer to the documentation for alternative solver options:\n",
      "    https://scikit-learn.org/stable/modules/linear_model.html#logistic-regression\n",
      "  n_iter_i = _check_optimize_result(\n",
      "/home/saintyx/Documentos/DIPLOMADO/MOD1/lib/python3.8/site-packages/sklearn/linear_model/_logistic.py:814: ConvergenceWarning: lbfgs failed to converge (status=1):\n",
      "STOP: TOTAL NO. of ITERATIONS REACHED LIMIT.\n",
      "\n",
      "Increase the number of iterations (max_iter) or scale the data as shown in:\n",
      "    https://scikit-learn.org/stable/modules/preprocessing.html\n",
      "Please also refer to the documentation for alternative solver options:\n",
      "    https://scikit-learn.org/stable/modules/linear_model.html#logistic-regression\n",
      "  n_iter_i = _check_optimize_result(\n",
      "/home/saintyx/Documentos/DIPLOMADO/MOD1/lib/python3.8/site-packages/sklearn/linear_model/_logistic.py:814: ConvergenceWarning: lbfgs failed to converge (status=1):\n",
      "STOP: TOTAL NO. of ITERATIONS REACHED LIMIT.\n",
      "\n",
      "Increase the number of iterations (max_iter) or scale the data as shown in:\n",
      "    https://scikit-learn.org/stable/modules/preprocessing.html\n",
      "Please also refer to the documentation for alternative solver options:\n",
      "    https://scikit-learn.org/stable/modules/linear_model.html#logistic-regression\n",
      "  n_iter_i = _check_optimize_result(\n",
      "/home/saintyx/Documentos/DIPLOMADO/MOD1/lib/python3.8/site-packages/sklearn/linear_model/_logistic.py:814: ConvergenceWarning: lbfgs failed to converge (status=1):\n",
      "STOP: TOTAL NO. of ITERATIONS REACHED LIMIT.\n",
      "\n",
      "Increase the number of iterations (max_iter) or scale the data as shown in:\n",
      "    https://scikit-learn.org/stable/modules/preprocessing.html\n",
      "Please also refer to the documentation for alternative solver options:\n",
      "    https://scikit-learn.org/stable/modules/linear_model.html#logistic-regression\n",
      "  n_iter_i = _check_optimize_result(\n",
      "/home/saintyx/Documentos/DIPLOMADO/MOD1/lib/python3.8/site-packages/sklearn/linear_model/_logistic.py:814: ConvergenceWarning: lbfgs failed to converge (status=1):\n",
      "STOP: TOTAL NO. of ITERATIONS REACHED LIMIT.\n",
      "\n",
      "Increase the number of iterations (max_iter) or scale the data as shown in:\n",
      "    https://scikit-learn.org/stable/modules/preprocessing.html\n",
      "Please also refer to the documentation for alternative solver options:\n",
      "    https://scikit-learn.org/stable/modules/linear_model.html#logistic-regression\n",
      "  n_iter_i = _check_optimize_result(\n",
      "/home/saintyx/Documentos/DIPLOMADO/MOD1/lib/python3.8/site-packages/sklearn/linear_model/_logistic.py:814: ConvergenceWarning: lbfgs failed to converge (status=1):\n",
      "STOP: TOTAL NO. of ITERATIONS REACHED LIMIT.\n",
      "\n",
      "Increase the number of iterations (max_iter) or scale the data as shown in:\n",
      "    https://scikit-learn.org/stable/modules/preprocessing.html\n",
      "Please also refer to the documentation for alternative solver options:\n",
      "    https://scikit-learn.org/stable/modules/linear_model.html#logistic-regression\n",
      "  n_iter_i = _check_optimize_result(\n",
      "/home/saintyx/Documentos/DIPLOMADO/MOD1/lib/python3.8/site-packages/sklearn/linear_model/_logistic.py:814: ConvergenceWarning: lbfgs failed to converge (status=1):\n",
      "STOP: TOTAL NO. of ITERATIONS REACHED LIMIT.\n",
      "\n",
      "Increase the number of iterations (max_iter) or scale the data as shown in:\n",
      "    https://scikit-learn.org/stable/modules/preprocessing.html\n",
      "Please also refer to the documentation for alternative solver options:\n",
      "    https://scikit-learn.org/stable/modules/linear_model.html#logistic-regression\n",
      "  n_iter_i = _check_optimize_result(\n",
      "/home/saintyx/Documentos/DIPLOMADO/MOD1/lib/python3.8/site-packages/sklearn/linear_model/_logistic.py:814: ConvergenceWarning: lbfgs failed to converge (status=1):\n",
      "STOP: TOTAL NO. of ITERATIONS REACHED LIMIT.\n",
      "\n",
      "Increase the number of iterations (max_iter) or scale the data as shown in:\n",
      "    https://scikit-learn.org/stable/modules/preprocessing.html\n",
      "Please also refer to the documentation for alternative solver options:\n",
      "    https://scikit-learn.org/stable/modules/linear_model.html#logistic-regression\n",
      "  n_iter_i = _check_optimize_result(\n",
      "/home/saintyx/Documentos/DIPLOMADO/MOD1/lib/python3.8/site-packages/sklearn/linear_model/_logistic.py:814: ConvergenceWarning: lbfgs failed to converge (status=1):\n",
      "STOP: TOTAL NO. of ITERATIONS REACHED LIMIT.\n",
      "\n",
      "Increase the number of iterations (max_iter) or scale the data as shown in:\n",
      "    https://scikit-learn.org/stable/modules/preprocessing.html\n",
      "Please also refer to the documentation for alternative solver options:\n",
      "    https://scikit-learn.org/stable/modules/linear_model.html#logistic-regression\n",
      "  n_iter_i = _check_optimize_result(\n",
      "/home/saintyx/Documentos/DIPLOMADO/MOD1/lib/python3.8/site-packages/sklearn/linear_model/_logistic.py:814: ConvergenceWarning: lbfgs failed to converge (status=1):\n",
      "STOP: TOTAL NO. of ITERATIONS REACHED LIMIT.\n",
      "\n",
      "Increase the number of iterations (max_iter) or scale the data as shown in:\n",
      "    https://scikit-learn.org/stable/modules/preprocessing.html\n",
      "Please also refer to the documentation for alternative solver options:\n",
      "    https://scikit-learn.org/stable/modules/linear_model.html#logistic-regression\n",
      "  n_iter_i = _check_optimize_result(\n",
      "/home/saintyx/Documentos/DIPLOMADO/MOD1/lib/python3.8/site-packages/sklearn/linear_model/_logistic.py:814: ConvergenceWarning: lbfgs failed to converge (status=1):\n",
      "STOP: TOTAL NO. of ITERATIONS REACHED LIMIT.\n",
      "\n",
      "Increase the number of iterations (max_iter) or scale the data as shown in:\n",
      "    https://scikit-learn.org/stable/modules/preprocessing.html\n",
      "Please also refer to the documentation for alternative solver options:\n",
      "    https://scikit-learn.org/stable/modules/linear_model.html#logistic-regression\n",
      "  n_iter_i = _check_optimize_result(\n",
      "/home/saintyx/Documentos/DIPLOMADO/MOD1/lib/python3.8/site-packages/sklearn/linear_model/_logistic.py:814: ConvergenceWarning: lbfgs failed to converge (status=1):\n",
      "STOP: TOTAL NO. of ITERATIONS REACHED LIMIT.\n",
      "\n",
      "Increase the number of iterations (max_iter) or scale the data as shown in:\n",
      "    https://scikit-learn.org/stable/modules/preprocessing.html\n",
      "Please also refer to the documentation for alternative solver options:\n",
      "    https://scikit-learn.org/stable/modules/linear_model.html#logistic-regression\n",
      "  n_iter_i = _check_optimize_result(\n"
     ]
    }
   ],
   "source": [
    "metricas(logistic,X_test,y_test)"
   ]
  },
  {
   "cell_type": "code",
   "execution_count": null,
   "id": "ecd90318",
   "metadata": {},
   "outputs": [],
   "source": []
  },
  {
   "cell_type": "code",
   "execution_count": null,
   "id": "0a97a630",
   "metadata": {},
   "outputs": [],
   "source": []
  }
 ],
 "metadata": {
  "kernelspec": {
   "display_name": "Python 3 (ipykernel)",
   "language": "python",
   "name": "python3"
  },
  "language_info": {
   "codemirror_mode": {
    "name": "ipython",
    "version": 3
   },
   "file_extension": ".py",
   "mimetype": "text/x-python",
   "name": "python",
   "nbconvert_exporter": "python",
   "pygments_lexer": "ipython3",
   "version": "3.9.6"
  }
 },
 "nbformat": 4,
 "nbformat_minor": 5
}
