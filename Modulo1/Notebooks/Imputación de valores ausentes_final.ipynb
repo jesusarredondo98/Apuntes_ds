{
 "cells": [
  {
   "cell_type": "markdown",
   "id": "4ba431cf",
   "metadata": {},
   "source": [
    "# Carga de librerías y definición de variables de ambiente"
   ]
  },
  {
   "cell_type": "code",
   "execution_count": 1,
   "id": "1752661f",
   "metadata": {},
   "outputs": [
    {
     "data": {
      "text/html": [
       "        <script type=\"text/javascript\">\n",
       "        window.PlotlyConfig = {MathJaxConfig: 'local'};\n",
       "        if (window.MathJax) {MathJax.Hub.Config({SVG: {font: \"STIX-Web\"}});}\n",
       "        if (typeof require !== 'undefined') {\n",
       "        require.undef(\"plotly\");\n",
       "        requirejs.config({\n",
       "            paths: {\n",
       "                'plotly': ['https://cdn.plot.ly/plotly-2.9.0.min']\n",
       "            }\n",
       "        });\n",
       "        require(['plotly'], function(Plotly) {\n",
       "            window._Plotly = Plotly;\n",
       "        });\n",
       "        }\n",
       "        </script>\n",
       "        "
      ]
     },
     "metadata": {},
     "output_type": "display_data"
    },
    {
     "name": "stdout",
     "output_type": "stream",
     "text": [
      "['aug_train.csv']\n",
      "['unclean cclass.csv', 'unclean focus.csv']\n"
     ]
    }
   ],
   "source": [
    "import rho_data_eng as eng\n",
    "import pandas as pd\n",
    "import numpy as np\n",
    "import os\n",
    "\n",
    "\n",
    "pd.set_option('display.max_columns', 500)\n",
    "\n",
    "ds_path = os.getcwd()[:-len('notebooks')] + 'Data/Data Science/'\n",
    "cars_path = os.getcwd()[:-len('notebooks')] + 'Data/Used Cars/'\n",
    "\n",
    "\n",
    "ds_files = [x for x in os.listdir(ds_path) if 'train' in x]\n",
    "cars_files = [x for x in os.listdir(cars_path) if 'unclean' in x]\n",
    "\n",
    "print(ds_files)\n",
    "print(cars_files)"
   ]
  },
  {
   "cell_type": "markdown",
   "id": "c4499236",
   "metadata": {},
   "source": [
    "# Carga de Datos\n",
    "\n",
    "Cargaremos los de CClass y Ciencia de Datos, y realizaremos el procesamiento para algunas variables."
   ]
  },
  {
   "cell_type": "code",
   "execution_count": 2,
   "id": "9718d130",
   "metadata": {},
   "outputs": [],
   "source": [
    "cclass = pd.read_csv(cars_path + cars_files[0])\n",
    "ds = pd.read_csv(ds_path + ds_files[0])"
   ]
  },
  {
   "cell_type": "markdown",
   "id": "707f6861",
   "metadata": {},
   "source": [
    "## Revisión de Missings:"
   ]
  },
  {
   "cell_type": "code",
   "execution_count": 3,
   "id": "ceb38861",
   "metadata": {},
   "outputs": [
    {
     "name": "stdout",
     "output_type": "stream",
     "text": [
      "Your selected dataframe has 11 columns and 4006 Rows.\n",
      "There are 11 columns that have missing values.\n"
     ]
    },
    {
     "data": {
      "text/html": [
       "<div>\n",
       "<style scoped>\n",
       "    .dataframe tbody tr th:only-of-type {\n",
       "        vertical-align: middle;\n",
       "    }\n",
       "\n",
       "    .dataframe tbody tr th {\n",
       "        vertical-align: top;\n",
       "    }\n",
       "\n",
       "    .dataframe thead th {\n",
       "        text-align: right;\n",
       "    }\n",
       "</style>\n",
       "<table border=\"1\" class=\"dataframe\">\n",
       "  <thead>\n",
       "    <tr style=\"text-align: right;\">\n",
       "      <th></th>\n",
       "      <th>Zero Values</th>\n",
       "      <th>Missing Values</th>\n",
       "      <th>% of Total Values</th>\n",
       "      <th>Total Zero Missing Values</th>\n",
       "      <th>% Total Zero Missing Values</th>\n",
       "      <th>Data Type</th>\n",
       "    </tr>\n",
       "  </thead>\n",
       "  <tbody>\n",
       "    <tr>\n",
       "      <th>fuel type</th>\n",
       "      <td>0</td>\n",
       "      <td>2677</td>\n",
       "      <td>66.8</td>\n",
       "      <td>2677</td>\n",
       "      <td>66.8</td>\n",
       "      <td>object</td>\n",
       "    </tr>\n",
       "    <tr>\n",
       "      <th>mileage</th>\n",
       "      <td>0</td>\n",
       "      <td>198</td>\n",
       "      <td>4.9</td>\n",
       "      <td>198</td>\n",
       "      <td>4.9</td>\n",
       "      <td>object</td>\n",
       "    </tr>\n",
       "    <tr>\n",
       "      <th>fuel type2</th>\n",
       "      <td>0</td>\n",
       "      <td>198</td>\n",
       "      <td>4.9</td>\n",
       "      <td>198</td>\n",
       "      <td>4.9</td>\n",
       "      <td>object</td>\n",
       "    </tr>\n",
       "    <tr>\n",
       "      <th>engine size2</th>\n",
       "      <td>0</td>\n",
       "      <td>198</td>\n",
       "      <td>4.9</td>\n",
       "      <td>198</td>\n",
       "      <td>4.9</td>\n",
       "      <td>object</td>\n",
       "    </tr>\n",
       "    <tr>\n",
       "      <th>engine size</th>\n",
       "      <td>0</td>\n",
       "      <td>164</td>\n",
       "      <td>4.1</td>\n",
       "      <td>164</td>\n",
       "      <td>4.1</td>\n",
       "      <td>object</td>\n",
       "    </tr>\n",
       "    <tr>\n",
       "      <th>mileage2</th>\n",
       "      <td>0</td>\n",
       "      <td>116</td>\n",
       "      <td>2.9</td>\n",
       "      <td>116</td>\n",
       "      <td>2.9</td>\n",
       "      <td>object</td>\n",
       "    </tr>\n",
       "    <tr>\n",
       "      <th>year</th>\n",
       "      <td>0</td>\n",
       "      <td>102</td>\n",
       "      <td>2.5</td>\n",
       "      <td>102</td>\n",
       "      <td>2.5</td>\n",
       "      <td>float64</td>\n",
       "    </tr>\n",
       "    <tr>\n",
       "      <th>model</th>\n",
       "      <td>0</td>\n",
       "      <td>99</td>\n",
       "      <td>2.5</td>\n",
       "      <td>99</td>\n",
       "      <td>2.5</td>\n",
       "      <td>object</td>\n",
       "    </tr>\n",
       "    <tr>\n",
       "      <th>price</th>\n",
       "      <td>0</td>\n",
       "      <td>99</td>\n",
       "      <td>2.5</td>\n",
       "      <td>99</td>\n",
       "      <td>2.5</td>\n",
       "      <td>object</td>\n",
       "    </tr>\n",
       "    <tr>\n",
       "      <th>transmission</th>\n",
       "      <td>0</td>\n",
       "      <td>99</td>\n",
       "      <td>2.5</td>\n",
       "      <td>99</td>\n",
       "      <td>2.5</td>\n",
       "      <td>object</td>\n",
       "    </tr>\n",
       "    <tr>\n",
       "      <th>reference</th>\n",
       "      <td>0</td>\n",
       "      <td>99</td>\n",
       "      <td>2.5</td>\n",
       "      <td>99</td>\n",
       "      <td>2.5</td>\n",
       "      <td>object</td>\n",
       "    </tr>\n",
       "  </tbody>\n",
       "</table>\n",
       "</div>"
      ],
      "text/plain": [
       "              Zero Values  Missing Values  % of Total Values  \\\n",
       "fuel type               0            2677               66.8   \n",
       "mileage                 0             198                4.9   \n",
       "fuel type2              0             198                4.9   \n",
       "engine size2            0             198                4.9   \n",
       "engine size             0             164                4.1   \n",
       "mileage2                0             116                2.9   \n",
       "year                    0             102                2.5   \n",
       "model                   0              99                2.5   \n",
       "price                   0              99                2.5   \n",
       "transmission            0              99                2.5   \n",
       "reference               0              99                2.5   \n",
       "\n",
       "              Total Zero Missing Values  % Total Zero Missing Values Data Type  \n",
       "fuel type                          2677                         66.8    object  \n",
       "mileage                             198                          4.9    object  \n",
       "fuel type2                          198                          4.9    object  \n",
       "engine size2                        198                          4.9    object  \n",
       "engine size                         164                          4.1    object  \n",
       "mileage2                            116                          2.9    object  \n",
       "year                                102                          2.5   float64  \n",
       "model                                99                          2.5    object  \n",
       "price                                99                          2.5    object  \n",
       "transmission                         99                          2.5    object  \n",
       "reference                            99                          2.5    object  "
      ]
     },
     "execution_count": 3,
     "metadata": {},
     "output_type": "execute_result"
    }
   ],
   "source": [
    "eng.missing_zero_values_table(cclass)"
   ]
  },
  {
   "cell_type": "code",
   "execution_count": 4,
   "id": "d7c6db3e",
   "metadata": {},
   "outputs": [
    {
     "name": "stdout",
     "output_type": "stream",
     "text": [
      "Your selected dataframe has 14 columns and 19158 Rows.\n",
      "There are 8 columns that have missing values.\n"
     ]
    },
    {
     "data": {
      "text/html": [
       "<div>\n",
       "<style scoped>\n",
       "    .dataframe tbody tr th:only-of-type {\n",
       "        vertical-align: middle;\n",
       "    }\n",
       "\n",
       "    .dataframe tbody tr th {\n",
       "        vertical-align: top;\n",
       "    }\n",
       "\n",
       "    .dataframe thead th {\n",
       "        text-align: right;\n",
       "    }\n",
       "</style>\n",
       "<table border=\"1\" class=\"dataframe\">\n",
       "  <thead>\n",
       "    <tr style=\"text-align: right;\">\n",
       "      <th></th>\n",
       "      <th>Zero Values</th>\n",
       "      <th>Missing Values</th>\n",
       "      <th>% of Total Values</th>\n",
       "      <th>Total Zero Missing Values</th>\n",
       "      <th>% Total Zero Missing Values</th>\n",
       "      <th>Data Type</th>\n",
       "    </tr>\n",
       "  </thead>\n",
       "  <tbody>\n",
       "    <tr>\n",
       "      <th>company_type</th>\n",
       "      <td>0</td>\n",
       "      <td>6140</td>\n",
       "      <td>32.0</td>\n",
       "      <td>6140</td>\n",
       "      <td>32.0</td>\n",
       "      <td>object</td>\n",
       "    </tr>\n",
       "    <tr>\n",
       "      <th>company_size</th>\n",
       "      <td>0</td>\n",
       "      <td>5938</td>\n",
       "      <td>31.0</td>\n",
       "      <td>5938</td>\n",
       "      <td>31.0</td>\n",
       "      <td>object</td>\n",
       "    </tr>\n",
       "    <tr>\n",
       "      <th>gender</th>\n",
       "      <td>0</td>\n",
       "      <td>4508</td>\n",
       "      <td>23.5</td>\n",
       "      <td>4508</td>\n",
       "      <td>23.5</td>\n",
       "      <td>object</td>\n",
       "    </tr>\n",
       "    <tr>\n",
       "      <th>major_discipline</th>\n",
       "      <td>0</td>\n",
       "      <td>2813</td>\n",
       "      <td>14.7</td>\n",
       "      <td>2813</td>\n",
       "      <td>14.7</td>\n",
       "      <td>object</td>\n",
       "    </tr>\n",
       "    <tr>\n",
       "      <th>education_level</th>\n",
       "      <td>0</td>\n",
       "      <td>460</td>\n",
       "      <td>2.4</td>\n",
       "      <td>460</td>\n",
       "      <td>2.4</td>\n",
       "      <td>object</td>\n",
       "    </tr>\n",
       "    <tr>\n",
       "      <th>last_new_job</th>\n",
       "      <td>0</td>\n",
       "      <td>423</td>\n",
       "      <td>2.2</td>\n",
       "      <td>423</td>\n",
       "      <td>2.2</td>\n",
       "      <td>object</td>\n",
       "    </tr>\n",
       "    <tr>\n",
       "      <th>enrolled_university</th>\n",
       "      <td>0</td>\n",
       "      <td>386</td>\n",
       "      <td>2.0</td>\n",
       "      <td>386</td>\n",
       "      <td>2.0</td>\n",
       "      <td>object</td>\n",
       "    </tr>\n",
       "    <tr>\n",
       "      <th>experience</th>\n",
       "      <td>0</td>\n",
       "      <td>65</td>\n",
       "      <td>0.3</td>\n",
       "      <td>65</td>\n",
       "      <td>0.3</td>\n",
       "      <td>object</td>\n",
       "    </tr>\n",
       "  </tbody>\n",
       "</table>\n",
       "</div>"
      ],
      "text/plain": [
       "                     Zero Values  Missing Values  % of Total Values  \\\n",
       "company_type                   0            6140               32.0   \n",
       "company_size                   0            5938               31.0   \n",
       "gender                         0            4508               23.5   \n",
       "major_discipline               0            2813               14.7   \n",
       "education_level                0             460                2.4   \n",
       "last_new_job                   0             423                2.2   \n",
       "enrolled_university            0             386                2.0   \n",
       "experience                     0              65                0.3   \n",
       "\n",
       "                     Total Zero Missing Values  % Total Zero Missing Values  \\\n",
       "company_type                              6140                         32.0   \n",
       "company_size                              5938                         31.0   \n",
       "gender                                    4508                         23.5   \n",
       "major_discipline                          2813                         14.7   \n",
       "education_level                            460                          2.4   \n",
       "last_new_job                               423                          2.2   \n",
       "enrolled_university                        386                          2.0   \n",
       "experience                                  65                          0.3   \n",
       "\n",
       "                    Data Type  \n",
       "company_type           object  \n",
       "company_size           object  \n",
       "gender                 object  \n",
       "major_discipline       object  \n",
       "education_level        object  \n",
       "last_new_job           object  \n",
       "enrolled_university    object  \n",
       "experience             object  "
      ]
     },
     "execution_count": 4,
     "metadata": {},
     "output_type": "execute_result"
    }
   ],
   "source": [
    "eng.missing_zero_values_table(ds)"
   ]
  },
  {
   "cell_type": "markdown",
   "id": "b420e9ba",
   "metadata": {},
   "source": [
    "## Tratamiento de valores ausentes:\n",
    "\n",
    "* 1. Omisión\n",
    "* 2. Imputación\n",
    "    * Utilizando Media/Mediana\n",
    "    * Utilizando Moda/Valor constante\n",
    "    * KNN\n",
    "    * Regresión Estocástica\n",
    "* 3. KS y Chi-square\n",
    "\n",
    "## 1. Omisión\n",
    "\n",
    "La Omisión la realizaremos para aquellas columnas que tengan únicamente un porcentaje menor al 5% de datos reportados como ausentes. \n",
    "\n",
    "* Por ejemplo: \n",
    "    * Data Science education_level\n",
    "    * enrolled_university\n",
    "    * experience"
   ]
  },
  {
   "cell_type": "code",
   "execution_count": 5,
   "id": "e7277f57",
   "metadata": {},
   "outputs": [
    {
     "name": "stdout",
     "output_type": "stream",
     "text": [
      "Your selected dataframe has 14 columns and 18360 Rows.\n",
      "There are 5 columns that have missing values.\n"
     ]
    },
    {
     "data": {
      "text/html": [
       "<div>\n",
       "<style scoped>\n",
       "    .dataframe tbody tr th:only-of-type {\n",
       "        vertical-align: middle;\n",
       "    }\n",
       "\n",
       "    .dataframe tbody tr th {\n",
       "        vertical-align: top;\n",
       "    }\n",
       "\n",
       "    .dataframe thead th {\n",
       "        text-align: right;\n",
       "    }\n",
       "</style>\n",
       "<table border=\"1\" class=\"dataframe\">\n",
       "  <thead>\n",
       "    <tr style=\"text-align: right;\">\n",
       "      <th></th>\n",
       "      <th>Zero Values</th>\n",
       "      <th>Missing Values</th>\n",
       "      <th>% of Total Values</th>\n",
       "      <th>Total Zero Missing Values</th>\n",
       "      <th>% Total Zero Missing Values</th>\n",
       "      <th>Data Type</th>\n",
       "    </tr>\n",
       "  </thead>\n",
       "  <tbody>\n",
       "    <tr>\n",
       "      <th>company_type</th>\n",
       "      <td>0</td>\n",
       "      <td>5659</td>\n",
       "      <td>30.8</td>\n",
       "      <td>5659</td>\n",
       "      <td>30.8</td>\n",
       "      <td>object</td>\n",
       "    </tr>\n",
       "    <tr>\n",
       "      <th>company_size</th>\n",
       "      <td>0</td>\n",
       "      <td>5470</td>\n",
       "      <td>29.8</td>\n",
       "      <td>5470</td>\n",
       "      <td>29.8</td>\n",
       "      <td>object</td>\n",
       "    </tr>\n",
       "    <tr>\n",
       "      <th>gender</th>\n",
       "      <td>0</td>\n",
       "      <td>4148</td>\n",
       "      <td>22.6</td>\n",
       "      <td>4148</td>\n",
       "      <td>22.6</td>\n",
       "      <td>object</td>\n",
       "    </tr>\n",
       "    <tr>\n",
       "      <th>major_discipline</th>\n",
       "      <td>0</td>\n",
       "      <td>2290</td>\n",
       "      <td>12.5</td>\n",
       "      <td>2290</td>\n",
       "      <td>12.5</td>\n",
       "      <td>object</td>\n",
       "    </tr>\n",
       "    <tr>\n",
       "      <th>last_new_job</th>\n",
       "      <td>0</td>\n",
       "      <td>346</td>\n",
       "      <td>1.9</td>\n",
       "      <td>346</td>\n",
       "      <td>1.9</td>\n",
       "      <td>object</td>\n",
       "    </tr>\n",
       "  </tbody>\n",
       "</table>\n",
       "</div>"
      ],
      "text/plain": [
       "                  Zero Values  Missing Values  % of Total Values  \\\n",
       "company_type                0            5659               30.8   \n",
       "company_size                0            5470               29.8   \n",
       "gender                      0            4148               22.6   \n",
       "major_discipline            0            2290               12.5   \n",
       "last_new_job                0             346                1.9   \n",
       "\n",
       "                  Total Zero Missing Values  % Total Zero Missing Values  \\\n",
       "company_type                           5659                         30.8   \n",
       "company_size                           5470                         29.8   \n",
       "gender                                 4148                         22.6   \n",
       "major_discipline                       2290                         12.5   \n",
       "last_new_job                            346                          1.9   \n",
       "\n",
       "                 Data Type  \n",
       "company_type        object  \n",
       "company_size        object  \n",
       "gender              object  \n",
       "major_discipline    object  \n",
       "last_new_job        object  "
      ]
     },
     "execution_count": 5,
     "metadata": {},
     "output_type": "execute_result"
    }
   ],
   "source": [
    "aux = (ds.loc[(ds['education_level'].isna() == False) &\n",
    "              (ds['enrolled_university'].isna() == False) &\n",
    "              (ds['experience'].isna() == False)\n",
    "             ].copy())\n",
    "\n",
    "eng.missing_zero_values_table(aux)"
   ]
  },
  {
   "cell_type": "code",
   "execution_count": 6,
   "id": "0eee9642",
   "metadata": {},
   "outputs": [
    {
     "name": "stdout",
     "output_type": "stream",
     "text": [
      "Información perdida = 4.165361728781713\n"
     ]
    }
   ],
   "source": [
    "# Omisión\n",
    "lost_info = 100*(1 - len(aux)/len(ds))\n",
    "\n",
    "print(f'Información perdida = {lost_info}')"
   ]
  },
  {
   "cell_type": "code",
   "execution_count": 7,
   "id": "606ef084",
   "metadata": {},
   "outputs": [
    {
     "data": {
      "text/plain": [
       "798"
      ]
     },
     "execution_count": 7,
     "metadata": {},
     "output_type": "execute_result"
    }
   ],
   "source": [
    "len(ds) - len(aux)"
   ]
  },
  {
   "cell_type": "markdown",
   "id": "d6657c22",
   "metadata": {},
   "source": [
    "Realmente podemos apreciar que en efecto, no perdimos gran cantidad de información. \n",
    "\n",
    "## 2. Imputación\n",
    "\n",
    "### Utilizando Media/Mediana\n",
    "\n",
    "La imputación a través de la media/mediana, la haremos para valores continuos, en este caso, utilizaremos scikit-learn, y las variables serán las siguientes:\n",
    "\n",
    "* mileage\n",
    "* engine size2\n",
    "\n",
    "Del dataset de cclass"
   ]
  },
  {
   "cell_type": "code",
   "execution_count": 8,
   "id": "5bd00a9d",
   "metadata": {},
   "outputs": [],
   "source": [
    "# Librerías\n",
    "\n",
    "from sklearn.impute import SimpleImputer"
   ]
  },
  {
   "cell_type": "code",
   "execution_count": 9,
   "id": "ee95f8a6",
   "metadata": {},
   "outputs": [
    {
     "data": {
      "text/html": [
       "<div>\n",
       "<style scoped>\n",
       "    .dataframe tbody tr th:only-of-type {\n",
       "        vertical-align: middle;\n",
       "    }\n",
       "\n",
       "    .dataframe tbody tr th {\n",
       "        vertical-align: top;\n",
       "    }\n",
       "\n",
       "    .dataframe thead th {\n",
       "        text-align: right;\n",
       "    }\n",
       "</style>\n",
       "<table border=\"1\" class=\"dataframe\">\n",
       "  <thead>\n",
       "    <tr style=\"text-align: right;\">\n",
       "      <th></th>\n",
       "      <th>model</th>\n",
       "      <th>year</th>\n",
       "      <th>price</th>\n",
       "      <th>transmission</th>\n",
       "      <th>mileage</th>\n",
       "      <th>fuel type</th>\n",
       "      <th>engine size</th>\n",
       "      <th>mileage2</th>\n",
       "      <th>fuel type2</th>\n",
       "      <th>engine size2</th>\n",
       "      <th>reference</th>\n",
       "    </tr>\n",
       "  </thead>\n",
       "  <tbody>\n",
       "    <tr>\n",
       "      <th>0</th>\n",
       "      <td>C Class</td>\n",
       "      <td>2020.0</td>\n",
       "      <td>£30,495</td>\n",
       "      <td>Automatic</td>\n",
       "      <td>NaN</td>\n",
       "      <td>Diesel</td>\n",
       "      <td>2</td>\n",
       "      <td>1,200</td>\n",
       "      <td>NaN</td>\n",
       "      <td>NaN</td>\n",
       "      <td>/ad/25017331</td>\n",
       "    </tr>\n",
       "    <tr>\n",
       "      <th>1</th>\n",
       "      <td>C Class</td>\n",
       "      <td>2020.0</td>\n",
       "      <td>£29,989</td>\n",
       "      <td>Automatic</td>\n",
       "      <td>NaN</td>\n",
       "      <td>Petrol</td>\n",
       "      <td>1.5</td>\n",
       "      <td>1,000</td>\n",
       "      <td>NaN</td>\n",
       "      <td>NaN</td>\n",
       "      <td>/ad/25043746</td>\n",
       "    </tr>\n",
       "    <tr>\n",
       "      <th>2</th>\n",
       "      <td>C Class</td>\n",
       "      <td>2020.0</td>\n",
       "      <td>£37,899</td>\n",
       "      <td>Automatic</td>\n",
       "      <td>NaN</td>\n",
       "      <td>Diesel</td>\n",
       "      <td>2</td>\n",
       "      <td>500</td>\n",
       "      <td>NaN</td>\n",
       "      <td>NaN</td>\n",
       "      <td>/ad/25142894</td>\n",
       "    </tr>\n",
       "    <tr>\n",
       "      <th>3</th>\n",
       "      <td>C Class</td>\n",
       "      <td>2019.0</td>\n",
       "      <td>£30,399</td>\n",
       "      <td>Automatic</td>\n",
       "      <td>NaN</td>\n",
       "      <td>Diesel</td>\n",
       "      <td>2</td>\n",
       "      <td>5,000</td>\n",
       "      <td>NaN</td>\n",
       "      <td>NaN</td>\n",
       "      <td>/ad/24942816</td>\n",
       "    </tr>\n",
       "    <tr>\n",
       "      <th>4</th>\n",
       "      <td>C Class</td>\n",
       "      <td>2019.0</td>\n",
       "      <td>£29,899</td>\n",
       "      <td>Automatic</td>\n",
       "      <td>NaN</td>\n",
       "      <td>Diesel</td>\n",
       "      <td>2</td>\n",
       "      <td>4,500</td>\n",
       "      <td>NaN</td>\n",
       "      <td>NaN</td>\n",
       "      <td>/ad/24913660</td>\n",
       "    </tr>\n",
       "    <tr>\n",
       "      <th>5</th>\n",
       "      <td>C Class</td>\n",
       "      <td>2020.0</td>\n",
       "      <td>£30,999</td>\n",
       "      <td>Automatic</td>\n",
       "      <td>NaN</td>\n",
       "      <td>Diesel</td>\n",
       "      <td>2</td>\n",
       "      <td>1,000</td>\n",
       "      <td>NaN</td>\n",
       "      <td>NaN</td>\n",
       "      <td>/ad/25059312</td>\n",
       "    </tr>\n",
       "    <tr>\n",
       "      <th>6</th>\n",
       "      <td>C Class</td>\n",
       "      <td>2020.0</td>\n",
       "      <td>£35,999</td>\n",
       "      <td>Automatic</td>\n",
       "      <td>NaN</td>\n",
       "      <td>Diesel</td>\n",
       "      <td>2</td>\n",
       "      <td>500</td>\n",
       "      <td>NaN</td>\n",
       "      <td>NaN</td>\n",
       "      <td>/ad/25418851</td>\n",
       "    </tr>\n",
       "  </tbody>\n",
       "</table>\n",
       "</div>"
      ],
      "text/plain": [
       "      model    year     price transmission mileage fuel type engine size  \\\n",
       "0   C Class  2020.0   £30,495    Automatic     NaN    Diesel           2   \n",
       "1   C Class  2020.0   £29,989    Automatic     NaN    Petrol         1.5   \n",
       "2   C Class  2020.0   £37,899    Automatic     NaN    Diesel           2   \n",
       "3   C Class  2019.0   £30,399    Automatic     NaN    Diesel           2   \n",
       "4   C Class  2019.0   £29,899    Automatic     NaN    Diesel           2   \n",
       "5   C Class  2020.0   £30,999    Automatic     NaN    Diesel           2   \n",
       "6   C Class  2020.0   £35,999    Automatic     NaN    Diesel           2   \n",
       "\n",
       "  mileage2 fuel type2 engine size2     reference  \n",
       "0    1,200        NaN          NaN  /ad/25017331  \n",
       "1    1,000        NaN          NaN  /ad/25043746  \n",
       "2      500        NaN          NaN  /ad/25142894  \n",
       "3    5,000        NaN          NaN  /ad/24942816  \n",
       "4    4,500        NaN          NaN  /ad/24913660  \n",
       "5    1,000        NaN          NaN  /ad/25059312  \n",
       "6      500        NaN          NaN  /ad/25418851  "
      ]
     },
     "execution_count": 9,
     "metadata": {},
     "output_type": "execute_result"
    }
   ],
   "source": [
    "cclass.head(7)"
   ]
  },
  {
   "cell_type": "code",
   "execution_count": 10,
   "id": "0837a44b",
   "metadata": {},
   "outputs": [],
   "source": [
    "SimpleImputer?"
   ]
  },
  {
   "cell_type": "code",
   "execution_count": 11,
   "id": "2f76249e",
   "metadata": {},
   "outputs": [
    {
     "data": {
      "text/plain": [
       "2300.0"
      ]
     },
     "execution_count": 11,
     "metadata": {},
     "output_type": "execute_result"
    }
   ],
   "source": [
    "float(' 2,3 00 '.replace(',', '').replace(' ', ''))"
   ]
  },
  {
   "cell_type": "code",
   "execution_count": 12,
   "id": "f44a6564",
   "metadata": {},
   "outputs": [
    {
     "data": {
      "text/html": [
       "<div>\n",
       "<style scoped>\n",
       "    .dataframe tbody tr th:only-of-type {\n",
       "        vertical-align: middle;\n",
       "    }\n",
       "\n",
       "    .dataframe tbody tr th {\n",
       "        vertical-align: top;\n",
       "    }\n",
       "\n",
       "    .dataframe thead th {\n",
       "        text-align: right;\n",
       "    }\n",
       "</style>\n",
       "<table border=\"1\" class=\"dataframe\">\n",
       "  <thead>\n",
       "    <tr style=\"text-align: right;\">\n",
       "      <th></th>\n",
       "      <th>mileage</th>\n",
       "      <th>engine size2</th>\n",
       "      <th>mileage_imp_mean</th>\n",
       "      <th>engine size2_imp_median</th>\n",
       "    </tr>\n",
       "  </thead>\n",
       "  <tbody>\n",
       "    <tr>\n",
       "      <th>0</th>\n",
       "      <td>NaN</td>\n",
       "      <td>NaN</td>\n",
       "      <td>22126.070434</td>\n",
       "      <td>2.0</td>\n",
       "    </tr>\n",
       "  </tbody>\n",
       "</table>\n",
       "</div>"
      ],
      "text/plain": [
       "  mileage engine size2  mileage_imp_mean  engine size2_imp_median\n",
       "0     NaN          NaN      22126.070434                      2.0"
      ]
     },
     "execution_count": 12,
     "metadata": {},
     "output_type": "execute_result"
    }
   ],
   "source": [
    "#Columns\n",
    "cols = ['mileage', 'engine size2']\n",
    "\n",
    "# Instanciamos la clase:\n",
    "impmean = SimpleImputer(missing_values=np.nan, strategy='mean')\n",
    "impmedian = SimpleImputer(missing_values=np.nan, strategy='median')\n",
    "\n",
    "def clean(x):\n",
    "    \n",
    "    if type(x) == str:\n",
    "        if x =='Unknown': x = np.nan\n",
    "        else: x = float(x.replace(',', '').replace(' ', ''))\n",
    "    else: x = float(x)\n",
    "    \n",
    "    return(x)\n",
    "\n",
    "aux = cclass[cols].copy()\n",
    "aux[cols[0] + '_imp_mean'] = impmean.fit_transform(np.array(aux[cols[0]].map(lambda x:clean(x))).reshape(-1,1))\n",
    "aux[cols[1] + '_imp_median'] = impmedian.fit_transform(np.array(aux[cols[1]].map(lambda x:clean(x))).reshape(-1,1))\n",
    "aux.head(1)"
   ]
  },
  {
   "cell_type": "markdown",
   "id": "4cdc3cb2",
   "metadata": {},
   "source": [
    "### Utilizando Moda/Valor fijo\n",
    "\n",
    "La imputación a través de la Moda/Valor Fijo, la haremos para valores discretos, en este caso, utilizaremos scikit-learn, y las variables serán las siguientes:\n",
    "\n",
    "* gender\n",
    "* major_discipline\n",
    "\n",
    "Del dataset de ds"
   ]
  },
  {
   "cell_type": "code",
   "execution_count": 13,
   "id": "73084136",
   "metadata": {},
   "outputs": [
    {
     "data": {
      "text/html": [
       "<div>\n",
       "<style scoped>\n",
       "    .dataframe tbody tr th:only-of-type {\n",
       "        vertical-align: middle;\n",
       "    }\n",
       "\n",
       "    .dataframe tbody tr th {\n",
       "        vertical-align: top;\n",
       "    }\n",
       "\n",
       "    .dataframe thead th {\n",
       "        text-align: right;\n",
       "    }\n",
       "</style>\n",
       "<table border=\"1\" class=\"dataframe\">\n",
       "  <thead>\n",
       "    <tr style=\"text-align: right;\">\n",
       "      <th></th>\n",
       "      <th>gender</th>\n",
       "      <th>major_discipline</th>\n",
       "      <th>gender_imp_mode</th>\n",
       "      <th>major_discipline_imp_fixed_value</th>\n",
       "    </tr>\n",
       "  </thead>\n",
       "  <tbody>\n",
       "    <tr>\n",
       "      <th>0</th>\n",
       "      <td>Male</td>\n",
       "      <td>STEM</td>\n",
       "      <td>Male</td>\n",
       "      <td>STEM</td>\n",
       "    </tr>\n",
       "  </tbody>\n",
       "</table>\n",
       "</div>"
      ],
      "text/plain": [
       "  gender major_discipline gender_imp_mode major_discipline_imp_fixed_value\n",
       "0   Male             STEM            Male                             STEM"
      ]
     },
     "execution_count": 13,
     "metadata": {},
     "output_type": "execute_result"
    }
   ],
   "source": [
    "# Columnas\n",
    "cols = ['gender', 'major_discipline']\n",
    "\n",
    "modeimputer = SimpleImputer(missing_values='nan', strategy='most_frequent')\n",
    "fxvalimputer = SimpleImputer(missing_values='nan', strategy='constant', fill_value = 'Other')\n",
    "\n",
    "aux1 = ds[cols].copy()\n",
    "aux1[cols[0] + '_imp_mode'] = fxvalimputer.fit_transform(np.array(aux1[cols[0]].astype(str)).reshape(-1,1))\n",
    "aux1[cols[1] + '_imp_fixed_value'] = modeimputer.fit_transform(np.array(aux1[cols[1]].astype(str)).reshape(-1,1))\n",
    "aux1.head(1)"
   ]
  },
  {
   "cell_type": "code",
   "execution_count": 14,
   "id": "cc53ecf3",
   "metadata": {},
   "outputs": [
    {
     "data": {
      "text/plain": [
       "19158"
      ]
     },
     "execution_count": 14,
     "metadata": {},
     "output_type": "execute_result"
    }
   ],
   "source": [
    "len(aux1)"
   ]
  },
  {
   "cell_type": "code",
   "execution_count": 15,
   "id": "f5cc95a8",
   "metadata": {},
   "outputs": [
    {
     "data": {
      "text/plain": [
       "'Male'"
      ]
     },
     "execution_count": 15,
     "metadata": {},
     "output_type": "execute_result"
    }
   ],
   "source": [
    "np.array(aux1[cols[0]].astype(str))[0]"
   ]
  },
  {
   "cell_type": "code",
   "execution_count": 16,
   "id": "266cfed4",
   "metadata": {},
   "outputs": [
    {
     "data": {
      "text/plain": [
       "array(['Male'], dtype=object)"
      ]
     },
     "execution_count": 16,
     "metadata": {},
     "output_type": "execute_result"
    }
   ],
   "source": [
    "np.array(aux1[cols[0]].astype(str)).reshape(-1,1)[0]"
   ]
  },
  {
   "cell_type": "code",
   "execution_count": 17,
   "id": "7f338f9a",
   "metadata": {},
   "outputs": [
    {
     "data": {
      "text/plain": [
       "Male      13221\n",
       "Other      4699\n",
       "Female     1238\n",
       "Name: gender_imp_mode, dtype: int64"
      ]
     },
     "execution_count": 17,
     "metadata": {},
     "output_type": "execute_result"
    }
   ],
   "source": [
    "aux1['gender_imp_mode'].value_counts(dropna=False)"
   ]
  },
  {
   "cell_type": "code",
   "execution_count": 18,
   "id": "10fc27b0",
   "metadata": {},
   "outputs": [
    {
     "data": {
      "text/plain": [
       "Male      13221\n",
       "NaN        4508\n",
       "Female     1238\n",
       "Other       191\n",
       "Name: gender, dtype: int64"
      ]
     },
     "execution_count": 18,
     "metadata": {},
     "output_type": "execute_result"
    }
   ],
   "source": [
    "aux1['gender'].value_counts(dropna=False)"
   ]
  },
  {
   "cell_type": "code",
   "execution_count": 19,
   "id": "c1184ff4",
   "metadata": {},
   "outputs": [
    {
     "data": {
      "text/plain": [
       "STEM               14492\n",
       "NaN                 2813\n",
       "Humanities           669\n",
       "Other                381\n",
       "Business Degree      327\n",
       "Arts                 253\n",
       "No Major             223\n",
       "Name: major_discipline, dtype: int64"
      ]
     },
     "execution_count": 19,
     "metadata": {},
     "output_type": "execute_result"
    }
   ],
   "source": [
    "aux1['major_discipline'].value_counts(dropna=False)"
   ]
  },
  {
   "cell_type": "code",
   "execution_count": 20,
   "id": "cd9371ee",
   "metadata": {},
   "outputs": [
    {
     "data": {
      "text/plain": [
       "STEM               17305\n",
       "Humanities           669\n",
       "Other                381\n",
       "Business Degree      327\n",
       "Arts                 253\n",
       "No Major             223\n",
       "Name: major_discipline_imp_fixed_value, dtype: int64"
      ]
     },
     "execution_count": 20,
     "metadata": {},
     "output_type": "execute_result"
    }
   ],
   "source": [
    "aux1['major_discipline_imp_fixed_value'].value_counts(dropna=False)"
   ]
  },
  {
   "cell_type": "markdown",
   "id": "b3933ec9",
   "metadata": {},
   "source": [
    "### KNN\n",
    "\n",
    "Imputaremos valores continuos, volveremos a utilizar las siguiente variable:\n",
    "\n",
    "* year\n",
    "\n",
    "Del dataset de cclass"
   ]
  },
  {
   "cell_type": "code",
   "execution_count": 21,
   "id": "3d7db3bc",
   "metadata": {},
   "outputs": [],
   "source": [
    "from sklearn.impute import KNNImputer"
   ]
  },
  {
   "cell_type": "code",
   "execution_count": 22,
   "id": "40a01a3b",
   "metadata": {},
   "outputs": [],
   "source": [
    "KNNImputer?"
   ]
  },
  {
   "cell_type": "code",
   "execution_count": 23,
   "id": "b017d6dd",
   "metadata": {},
   "outputs": [
    {
     "data": {
      "text/plain": [
       "Index(['model', 'year', 'price', 'transmission', 'mileage', 'fuel type',\n",
       "       'engine size', 'mileage2', 'fuel type2', 'engine size2', 'reference'],\n",
       "      dtype='object')"
      ]
     },
     "execution_count": 23,
     "metadata": {},
     "output_type": "execute_result"
    }
   ],
   "source": [
    "cclass.columns"
   ]
  },
  {
   "cell_type": "code",
   "execution_count": 24,
   "id": "a8be00b8",
   "metadata": {},
   "outputs": [
    {
     "data": {
      "text/html": [
       "<div>\n",
       "<style scoped>\n",
       "    .dataframe tbody tr th:only-of-type {\n",
       "        vertical-align: middle;\n",
       "    }\n",
       "\n",
       "    .dataframe tbody tr th {\n",
       "        vertical-align: top;\n",
       "    }\n",
       "\n",
       "    .dataframe thead th {\n",
       "        text-align: right;\n",
       "    }\n",
       "</style>\n",
       "<table border=\"1\" class=\"dataframe\">\n",
       "  <thead>\n",
       "    <tr style=\"text-align: right;\">\n",
       "      <th></th>\n",
       "      <th>mileage</th>\n",
       "      <th>engine size2</th>\n",
       "      <th>year</th>\n",
       "    </tr>\n",
       "  </thead>\n",
       "  <tbody>\n",
       "    <tr>\n",
       "      <th>0</th>\n",
       "      <td>NaN</td>\n",
       "      <td>NaN</td>\n",
       "      <td>2020.0</td>\n",
       "    </tr>\n",
       "    <tr>\n",
       "      <th>1</th>\n",
       "      <td>NaN</td>\n",
       "      <td>NaN</td>\n",
       "      <td>2020.0</td>\n",
       "    </tr>\n",
       "    <tr>\n",
       "      <th>2</th>\n",
       "      <td>NaN</td>\n",
       "      <td>NaN</td>\n",
       "      <td>2020.0</td>\n",
       "    </tr>\n",
       "    <tr>\n",
       "      <th>3</th>\n",
       "      <td>NaN</td>\n",
       "      <td>NaN</td>\n",
       "      <td>2019.0</td>\n",
       "    </tr>\n",
       "    <tr>\n",
       "      <th>4</th>\n",
       "      <td>NaN</td>\n",
       "      <td>NaN</td>\n",
       "      <td>2019.0</td>\n",
       "    </tr>\n",
       "    <tr>\n",
       "      <th>...</th>\n",
       "      <td>...</td>\n",
       "      <td>...</td>\n",
       "      <td>...</td>\n",
       "    </tr>\n",
       "    <tr>\n",
       "      <th>4001</th>\n",
       "      <td>31357.0</td>\n",
       "      <td>1.598</td>\n",
       "      <td>2017.0</td>\n",
       "    </tr>\n",
       "    <tr>\n",
       "      <th>4002</th>\n",
       "      <td>28248.0</td>\n",
       "      <td>2.143</td>\n",
       "      <td>2018.0</td>\n",
       "    </tr>\n",
       "    <tr>\n",
       "      <th>4003</th>\n",
       "      <td>48055.0</td>\n",
       "      <td>2.143</td>\n",
       "      <td>2014.0</td>\n",
       "    </tr>\n",
       "    <tr>\n",
       "      <th>4004</th>\n",
       "      <td>49865.0</td>\n",
       "      <td>2.143</td>\n",
       "      <td>2014.0</td>\n",
       "    </tr>\n",
       "    <tr>\n",
       "      <th>4005</th>\n",
       "      <td>55445.0</td>\n",
       "      <td>2.143</td>\n",
       "      <td>2014.0</td>\n",
       "    </tr>\n",
       "  </tbody>\n",
       "</table>\n",
       "<p>4006 rows × 3 columns</p>\n",
       "</div>"
      ],
      "text/plain": [
       "      mileage  engine size2    year\n",
       "0         NaN           NaN  2020.0\n",
       "1         NaN           NaN  2020.0\n",
       "2         NaN           NaN  2020.0\n",
       "3         NaN           NaN  2019.0\n",
       "4         NaN           NaN  2019.0\n",
       "...       ...           ...     ...\n",
       "4001  31357.0         1.598  2017.0\n",
       "4002  28248.0         2.143  2018.0\n",
       "4003  48055.0         2.143  2014.0\n",
       "4004  49865.0         2.143  2014.0\n",
       "4005  55445.0         2.143  2014.0\n",
       "\n",
       "[4006 rows x 3 columns]"
      ]
     },
     "execution_count": 24,
     "metadata": {},
     "output_type": "execute_result"
    }
   ],
   "source": [
    "# Columnas\n",
    "cols = ['mileage', 'engine size2', 'year']\n",
    "aux2 = cclass[cols].copy()\n",
    "aux2['mileage'] = aux2['mileage'].apply(lambda x:clean(x))\n",
    "aux2['engine size2'] = aux2['engine size2'].apply(lambda x:clean(x))\n",
    "aux2"
   ]
  },
  {
   "cell_type": "code",
   "execution_count": 25,
   "id": "6607bb3c",
   "metadata": {},
   "outputs": [
    {
     "name": "stdout",
     "output_type": "stream",
     "text": [
      "Object `kimp.fit_transform` not found.\n"
     ]
    }
   ],
   "source": [
    "kimp.fit_transform?"
   ]
  },
  {
   "cell_type": "code",
   "execution_count": 26,
   "id": "4a06ff24",
   "metadata": {},
   "outputs": [
    {
     "data": {
      "text/html": [
       "<div>\n",
       "<style scoped>\n",
       "    .dataframe tbody tr th:only-of-type {\n",
       "        vertical-align: middle;\n",
       "    }\n",
       "\n",
       "    .dataframe tbody tr th {\n",
       "        vertical-align: top;\n",
       "    }\n",
       "\n",
       "    .dataframe thead th {\n",
       "        text-align: right;\n",
       "    }\n",
       "</style>\n",
       "<table border=\"1\" class=\"dataframe\">\n",
       "  <thead>\n",
       "    <tr style=\"text-align: right;\">\n",
       "      <th></th>\n",
       "      <th>mileage_imp</th>\n",
       "      <th>engine size2_imp</th>\n",
       "      <th>year_imp</th>\n",
       "      <th>mileage_ind</th>\n",
       "      <th>engine size2_ind</th>\n",
       "      <th>year_ind</th>\n",
       "    </tr>\n",
       "  </thead>\n",
       "  <tbody>\n",
       "    <tr>\n",
       "      <th>0</th>\n",
       "      <td>1748.857143</td>\n",
       "      <td>2.071429</td>\n",
       "      <td>2020.0</td>\n",
       "      <td>1.0</td>\n",
       "      <td>1.0</td>\n",
       "      <td>0.0</td>\n",
       "    </tr>\n",
       "    <tr>\n",
       "      <th>1</th>\n",
       "      <td>1748.857143</td>\n",
       "      <td>2.071429</td>\n",
       "      <td>2020.0</td>\n",
       "      <td>1.0</td>\n",
       "      <td>1.0</td>\n",
       "      <td>0.0</td>\n",
       "    </tr>\n",
       "    <tr>\n",
       "      <th>2</th>\n",
       "      <td>1748.857143</td>\n",
       "      <td>2.071429</td>\n",
       "      <td>2020.0</td>\n",
       "      <td>1.0</td>\n",
       "      <td>1.0</td>\n",
       "      <td>0.0</td>\n",
       "    </tr>\n",
       "    <tr>\n",
       "      <th>3</th>\n",
       "      <td>7034.714286</td>\n",
       "      <td>2.000000</td>\n",
       "      <td>2019.0</td>\n",
       "      <td>1.0</td>\n",
       "      <td>1.0</td>\n",
       "      <td>0.0</td>\n",
       "    </tr>\n",
       "    <tr>\n",
       "      <th>4</th>\n",
       "      <td>7034.714286</td>\n",
       "      <td>2.000000</td>\n",
       "      <td>2019.0</td>\n",
       "      <td>1.0</td>\n",
       "      <td>1.0</td>\n",
       "      <td>0.0</td>\n",
       "    </tr>\n",
       "    <tr>\n",
       "      <th>...</th>\n",
       "      <td>...</td>\n",
       "      <td>...</td>\n",
       "      <td>...</td>\n",
       "      <td>...</td>\n",
       "      <td>...</td>\n",
       "      <td>...</td>\n",
       "    </tr>\n",
       "    <tr>\n",
       "      <th>4001</th>\n",
       "      <td>31357.000000</td>\n",
       "      <td>1.598000</td>\n",
       "      <td>2017.0</td>\n",
       "      <td>0.0</td>\n",
       "      <td>0.0</td>\n",
       "      <td>0.0</td>\n",
       "    </tr>\n",
       "    <tr>\n",
       "      <th>4002</th>\n",
       "      <td>28248.000000</td>\n",
       "      <td>2.143000</td>\n",
       "      <td>2018.0</td>\n",
       "      <td>0.0</td>\n",
       "      <td>0.0</td>\n",
       "      <td>0.0</td>\n",
       "    </tr>\n",
       "    <tr>\n",
       "      <th>4003</th>\n",
       "      <td>48055.000000</td>\n",
       "      <td>2.143000</td>\n",
       "      <td>2014.0</td>\n",
       "      <td>0.0</td>\n",
       "      <td>0.0</td>\n",
       "      <td>0.0</td>\n",
       "    </tr>\n",
       "    <tr>\n",
       "      <th>4004</th>\n",
       "      <td>49865.000000</td>\n",
       "      <td>2.143000</td>\n",
       "      <td>2014.0</td>\n",
       "      <td>0.0</td>\n",
       "      <td>0.0</td>\n",
       "      <td>0.0</td>\n",
       "    </tr>\n",
       "    <tr>\n",
       "      <th>4005</th>\n",
       "      <td>55445.000000</td>\n",
       "      <td>2.143000</td>\n",
       "      <td>2014.0</td>\n",
       "      <td>0.0</td>\n",
       "      <td>0.0</td>\n",
       "      <td>0.0</td>\n",
       "    </tr>\n",
       "  </tbody>\n",
       "</table>\n",
       "<p>4006 rows × 6 columns</p>\n",
       "</div>"
      ],
      "text/plain": [
       "       mileage_imp  engine size2_imp  year_imp  mileage_ind  engine size2_ind  \\\n",
       "0      1748.857143          2.071429    2020.0          1.0               1.0   \n",
       "1      1748.857143          2.071429    2020.0          1.0               1.0   \n",
       "2      1748.857143          2.071429    2020.0          1.0               1.0   \n",
       "3      7034.714286          2.000000    2019.0          1.0               1.0   \n",
       "4      7034.714286          2.000000    2019.0          1.0               1.0   \n",
       "...            ...               ...       ...          ...               ...   \n",
       "4001  31357.000000          1.598000    2017.0          0.0               0.0   \n",
       "4002  28248.000000          2.143000    2018.0          0.0               0.0   \n",
       "4003  48055.000000          2.143000    2014.0          0.0               0.0   \n",
       "4004  49865.000000          2.143000    2014.0          0.0               0.0   \n",
       "4005  55445.000000          2.143000    2014.0          0.0               0.0   \n",
       "\n",
       "      year_ind  \n",
       "0          0.0  \n",
       "1          0.0  \n",
       "2          0.0  \n",
       "3          0.0  \n",
       "4          0.0  \n",
       "...        ...  \n",
       "4001       0.0  \n",
       "4002       0.0  \n",
       "4003       0.0  \n",
       "4004       0.0  \n",
       "4005       0.0  \n",
       "\n",
       "[4006 rows x 6 columns]"
      ]
     },
     "execution_count": 26,
     "metadata": {},
     "output_type": "execute_result"
    }
   ],
   "source": [
    "kimp = KNNImputer(n_neighbors=7, add_indicator=True)\n",
    "columns = [c +'_imp' for c in aux2.columns] + [c +'_ind' for c in aux2.columns]\n",
    "pd.DataFrame(kimp.fit_transform(np.array(aux2)), columns = columns)"
   ]
  },
  {
   "cell_type": "markdown",
   "id": "42cd4e51",
   "metadata": {},
   "source": [
    "### Regresión estocástica\n",
    "\n",
    "Imputaremos valores continuos, volveremos a utilizar las siguiente variable:\n",
    "\n",
    "* mileage\n",
    "\n",
    "Del dataset de cclass"
   ]
  },
  {
   "cell_type": "code",
   "execution_count": 27,
   "id": "2a968750",
   "metadata": {},
   "outputs": [
    {
     "data": {
      "text/html": [
       "<div>\n",
       "<style scoped>\n",
       "    .dataframe tbody tr th:only-of-type {\n",
       "        vertical-align: middle;\n",
       "    }\n",
       "\n",
       "    .dataframe tbody tr th {\n",
       "        vertical-align: top;\n",
       "    }\n",
       "\n",
       "    .dataframe thead th {\n",
       "        text-align: right;\n",
       "    }\n",
       "</style>\n",
       "<table border=\"1\" class=\"dataframe\">\n",
       "  <thead>\n",
       "    <tr style=\"text-align: right;\">\n",
       "      <th></th>\n",
       "      <th>model</th>\n",
       "      <th>year</th>\n",
       "      <th>price</th>\n",
       "      <th>transmission</th>\n",
       "      <th>mileage</th>\n",
       "      <th>fuel type</th>\n",
       "      <th>engine size</th>\n",
       "      <th>mileage2</th>\n",
       "      <th>fuel type2</th>\n",
       "      <th>engine size2</th>\n",
       "      <th>reference</th>\n",
       "    </tr>\n",
       "  </thead>\n",
       "  <tbody>\n",
       "    <tr>\n",
       "      <th>0</th>\n",
       "      <td>C Class</td>\n",
       "      <td>2020.0</td>\n",
       "      <td>£30,495</td>\n",
       "      <td>Automatic</td>\n",
       "      <td>NaN</td>\n",
       "      <td>Diesel</td>\n",
       "      <td>2</td>\n",
       "      <td>1,200</td>\n",
       "      <td>NaN</td>\n",
       "      <td>NaN</td>\n",
       "      <td>/ad/25017331</td>\n",
       "    </tr>\n",
       "    <tr>\n",
       "      <th>1</th>\n",
       "      <td>C Class</td>\n",
       "      <td>2020.0</td>\n",
       "      <td>£29,989</td>\n",
       "      <td>Automatic</td>\n",
       "      <td>NaN</td>\n",
       "      <td>Petrol</td>\n",
       "      <td>1.5</td>\n",
       "      <td>1,000</td>\n",
       "      <td>NaN</td>\n",
       "      <td>NaN</td>\n",
       "      <td>/ad/25043746</td>\n",
       "    </tr>\n",
       "    <tr>\n",
       "      <th>2</th>\n",
       "      <td>C Class</td>\n",
       "      <td>2020.0</td>\n",
       "      <td>£37,899</td>\n",
       "      <td>Automatic</td>\n",
       "      <td>NaN</td>\n",
       "      <td>Diesel</td>\n",
       "      <td>2</td>\n",
       "      <td>500</td>\n",
       "      <td>NaN</td>\n",
       "      <td>NaN</td>\n",
       "      <td>/ad/25142894</td>\n",
       "    </tr>\n",
       "  </tbody>\n",
       "</table>\n",
       "</div>"
      ],
      "text/plain": [
       "      model    year     price transmission mileage fuel type engine size  \\\n",
       "0   C Class  2020.0   £30,495    Automatic     NaN    Diesel           2   \n",
       "1   C Class  2020.0   £29,989    Automatic     NaN    Petrol         1.5   \n",
       "2   C Class  2020.0   £37,899    Automatic     NaN    Diesel           2   \n",
       "\n",
       "  mileage2 fuel type2 engine size2     reference  \n",
       "0    1,200        NaN          NaN  /ad/25017331  \n",
       "1    1,000        NaN          NaN  /ad/25043746  \n",
       "2      500        NaN          NaN  /ad/25142894  "
      ]
     },
     "execution_count": 27,
     "metadata": {},
     "output_type": "execute_result"
    }
   ],
   "source": [
    "cclass.head(3)"
   ]
  },
  {
   "cell_type": "code",
   "execution_count": 28,
   "id": "8ccd7f91",
   "metadata": {},
   "outputs": [
    {
     "data": {
      "text/html": [
       "<div>\n",
       "<style scoped>\n",
       "    .dataframe tbody tr th:only-of-type {\n",
       "        vertical-align: middle;\n",
       "    }\n",
       "\n",
       "    .dataframe tbody tr th {\n",
       "        vertical-align: top;\n",
       "    }\n",
       "\n",
       "    .dataframe thead th {\n",
       "        text-align: right;\n",
       "    }\n",
       "</style>\n",
       "<table border=\"1\" class=\"dataframe\">\n",
       "  <thead>\n",
       "    <tr style=\"text-align: right;\">\n",
       "      <th></th>\n",
       "      <th>year</th>\n",
       "      <th>price</th>\n",
       "      <th>mileage</th>\n",
       "    </tr>\n",
       "  </thead>\n",
       "  <tbody>\n",
       "    <tr>\n",
       "      <th>0</th>\n",
       "      <td>2020.0</td>\n",
       "      <td>£30,495</td>\n",
       "      <td>NaN</td>\n",
       "    </tr>\n",
       "    <tr>\n",
       "      <th>1</th>\n",
       "      <td>2020.0</td>\n",
       "      <td>£29,989</td>\n",
       "      <td>NaN</td>\n",
       "    </tr>\n",
       "    <tr>\n",
       "      <th>2</th>\n",
       "      <td>2020.0</td>\n",
       "      <td>£37,899</td>\n",
       "      <td>NaN</td>\n",
       "    </tr>\n",
       "    <tr>\n",
       "      <th>3</th>\n",
       "      <td>2019.0</td>\n",
       "      <td>£30,399</td>\n",
       "      <td>NaN</td>\n",
       "    </tr>\n",
       "    <tr>\n",
       "      <th>4</th>\n",
       "      <td>2019.0</td>\n",
       "      <td>£29,899</td>\n",
       "      <td>NaN</td>\n",
       "    </tr>\n",
       "    <tr>\n",
       "      <th>...</th>\n",
       "      <td>...</td>\n",
       "      <td>...</td>\n",
       "      <td>...</td>\n",
       "    </tr>\n",
       "    <tr>\n",
       "      <th>4001</th>\n",
       "      <td>2017.0</td>\n",
       "      <td>£14,700</td>\n",
       "      <td>31357.0</td>\n",
       "    </tr>\n",
       "    <tr>\n",
       "      <th>4002</th>\n",
       "      <td>2018.0</td>\n",
       "      <td>£18,500</td>\n",
       "      <td>28248.0</td>\n",
       "    </tr>\n",
       "    <tr>\n",
       "      <th>4003</th>\n",
       "      <td>2014.0</td>\n",
       "      <td>£11,900</td>\n",
       "      <td>48055.0</td>\n",
       "    </tr>\n",
       "    <tr>\n",
       "      <th>4004</th>\n",
       "      <td>2014.0</td>\n",
       "      <td>£11,300</td>\n",
       "      <td>49865.0</td>\n",
       "    </tr>\n",
       "    <tr>\n",
       "      <th>4005</th>\n",
       "      <td>2014.0</td>\n",
       "      <td>£14,800</td>\n",
       "      <td>55445.0</td>\n",
       "    </tr>\n",
       "  </tbody>\n",
       "</table>\n",
       "<p>4006 rows × 3 columns</p>\n",
       "</div>"
      ],
      "text/plain": [
       "        year     price  mileage\n",
       "0     2020.0   £30,495      NaN\n",
       "1     2020.0   £29,989      NaN\n",
       "2     2020.0   £37,899      NaN\n",
       "3     2019.0   £30,399      NaN\n",
       "4     2019.0   £29,899      NaN\n",
       "...      ...       ...      ...\n",
       "4001  2017.0   £14,700  31357.0\n",
       "4002  2018.0   £18,500  28248.0\n",
       "4003  2014.0   £11,900  48055.0\n",
       "4004  2014.0   £11,300  49865.0\n",
       "4005  2014.0   £14,800  55445.0\n",
       "\n",
       "[4006 rows x 3 columns]"
      ]
     },
     "execution_count": 28,
     "metadata": {},
     "output_type": "execute_result"
    }
   ],
   "source": [
    "aux3 = cclass[['year', 'price', 'mileage']].copy() #creación del df\n",
    "pred = ['year', 'price'] #Definición de variables predictoras\n",
    "tar = 'mileage' #Definición de variable objetivo\n",
    "aux3['mileage'] = aux3['mileage'].map(lambda x:clean(x)) #Limpieza\n",
    "aux3"
   ]
  },
  {
   "cell_type": "code",
   "execution_count": 29,
   "id": "6ba7ae11",
   "metadata": {},
   "outputs": [
    {
     "name": "stdout",
     "output_type": "stream",
     "text": [
      "Your selected dataframe has 3 columns and 4006 Rows.\n",
      "There are 3 columns that have missing values.\n"
     ]
    },
    {
     "data": {
      "text/html": [
       "<div>\n",
       "<style scoped>\n",
       "    .dataframe tbody tr th:only-of-type {\n",
       "        vertical-align: middle;\n",
       "    }\n",
       "\n",
       "    .dataframe tbody tr th {\n",
       "        vertical-align: top;\n",
       "    }\n",
       "\n",
       "    .dataframe thead th {\n",
       "        text-align: right;\n",
       "    }\n",
       "</style>\n",
       "<table border=\"1\" class=\"dataframe\">\n",
       "  <thead>\n",
       "    <tr style=\"text-align: right;\">\n",
       "      <th></th>\n",
       "      <th>Zero Values</th>\n",
       "      <th>Missing Values</th>\n",
       "      <th>% of Total Values</th>\n",
       "      <th>Total Zero Missing Values</th>\n",
       "      <th>% Total Zero Missing Values</th>\n",
       "      <th>Data Type</th>\n",
       "    </tr>\n",
       "  </thead>\n",
       "  <tbody>\n",
       "    <tr>\n",
       "      <th>mileage</th>\n",
       "      <td>0</td>\n",
       "      <td>201</td>\n",
       "      <td>5.0</td>\n",
       "      <td>201</td>\n",
       "      <td>5.0</td>\n",
       "      <td>float64</td>\n",
       "    </tr>\n",
       "    <tr>\n",
       "      <th>year</th>\n",
       "      <td>0</td>\n",
       "      <td>102</td>\n",
       "      <td>2.5</td>\n",
       "      <td>102</td>\n",
       "      <td>2.5</td>\n",
       "      <td>float64</td>\n",
       "    </tr>\n",
       "    <tr>\n",
       "      <th>price</th>\n",
       "      <td>0</td>\n",
       "      <td>99</td>\n",
       "      <td>2.5</td>\n",
       "      <td>99</td>\n",
       "      <td>2.5</td>\n",
       "      <td>object</td>\n",
       "    </tr>\n",
       "  </tbody>\n",
       "</table>\n",
       "</div>"
      ],
      "text/plain": [
       "         Zero Values  Missing Values  % of Total Values  \\\n",
       "mileage            0             201                5.0   \n",
       "year               0             102                2.5   \n",
       "price              0              99                2.5   \n",
       "\n",
       "         Total Zero Missing Values  % Total Zero Missing Values Data Type  \n",
       "mileage                        201                          5.0   float64  \n",
       "year                           102                          2.5   float64  \n",
       "price                           99                          2.5    object  "
      ]
     },
     "execution_count": 29,
     "metadata": {},
     "output_type": "execute_result"
    }
   ],
   "source": [
    "# Revisión de Missings en las variables predictoras \n",
    "\n",
    "#para fines de esta situación omitiremos esos missings.\n",
    "\n",
    "eng.missing_zero_values_table(aux3.sort_values(by = 'year'))"
   ]
  },
  {
   "cell_type": "code",
   "execution_count": 30,
   "id": "91567e6a",
   "metadata": {},
   "outputs": [
    {
     "data": {
      "text/plain": [
       "'Aj11300'"
      ]
     },
     "execution_count": 30,
     "metadata": {},
     "output_type": "execute_result"
    }
   ],
   "source": [
    "import re\n",
    "re.sub(\"[^A-Za-z0-9]\", \"\", 'Aj£11,300')"
   ]
  },
  {
   "cell_type": "code",
   "execution_count": 31,
   "id": "be330784",
   "metadata": {},
   "outputs": [
    {
     "data": {
      "text/plain": [
       "'11300'"
      ]
     },
     "execution_count": 31,
     "metadata": {},
     "output_type": "execute_result"
    }
   ],
   "source": [
    "''.join(list(filter(str.isdigit, '£Hol#&a11,300')))"
   ]
  },
  {
   "cell_type": "code",
   "execution_count": 32,
   "id": "59b4dd9a",
   "metadata": {},
   "outputs": [
    {
     "data": {
      "text/plain": [
       "'11300'"
      ]
     },
     "execution_count": 32,
     "metadata": {},
     "output_type": "execute_result"
    }
   ],
   "source": [
    "numeric_filter = filter(str.isdigit, '£11,300')\n",
    "numeric_string = \"\".join(numeric_filter)\n",
    "numeric_string"
   ]
  },
  {
   "cell_type": "code",
   "execution_count": 33,
   "id": "6fde8e7f",
   "metadata": {},
   "outputs": [],
   "source": [
    "def clean(x):\n",
    "    \n",
    "    if type(x) == str:\n",
    "        if x =='Unknown': x = np.nan\n",
    "        else: x = float(x.replace(',', '').replace(' ', ''))\n",
    "    else: x = float(x)\n",
    "    \n",
    "    return(x)\n",
    "\n",
    "def clean2(x):\n",
    "    import re\n",
    "    \n",
    "    \n",
    "    if type(x) == str:\n",
    "        x = re.sub(\"[^0-9]\", \"\", x)\n",
    "        return(x)\n",
    "    else:\n",
    "        return(x)"
   ]
  },
  {
   "cell_type": "code",
   "execution_count": 34,
   "id": "dee37df1",
   "metadata": {},
   "outputs": [],
   "source": [
    "aux3['price'] = aux3['price'].apply(lambda x:clean2(x))\n",
    "aux3['mileage'] = aux3['mileage'].apply(lambda x:clean(x))"
   ]
  },
  {
   "cell_type": "code",
   "execution_count": 35,
   "id": "fc84a3c8",
   "metadata": {},
   "outputs": [],
   "source": [
    "aux3.reset_index(drop = True, inplace = True)"
   ]
  },
  {
   "cell_type": "code",
   "execution_count": 36,
   "id": "582288be",
   "metadata": {},
   "outputs": [],
   "source": [
    "# Vamos a utilizar KNN para imputar los valores de las variables predictoras.\n",
    "\n",
    "ki = KNNImputer(add_indicator=True)\n",
    "columns = [c +'_imp' for c in aux3.columns] + [c +'_ind' for c in aux3.columns]\n",
    "aux3_imp = pd.DataFrame(ki.fit_transform(np.array(aux3)), columns = columns)\n",
    "aux3 = aux3.merge(aux3_imp, how = 'inner', left_index = True, right_index = True)"
   ]
  },
  {
   "cell_type": "code",
   "execution_count": 37,
   "id": "25dd2409",
   "metadata": {},
   "outputs": [
    {
     "data": {
      "text/html": [
       "<div>\n",
       "<style scoped>\n",
       "    .dataframe tbody tr th:only-of-type {\n",
       "        vertical-align: middle;\n",
       "    }\n",
       "\n",
       "    .dataframe tbody tr th {\n",
       "        vertical-align: top;\n",
       "    }\n",
       "\n",
       "    .dataframe thead th {\n",
       "        text-align: right;\n",
       "    }\n",
       "</style>\n",
       "<table border=\"1\" class=\"dataframe\">\n",
       "  <thead>\n",
       "    <tr style=\"text-align: right;\">\n",
       "      <th></th>\n",
       "      <th>year</th>\n",
       "      <th>price</th>\n",
       "      <th>mileage</th>\n",
       "      <th>year_imp</th>\n",
       "      <th>price_imp</th>\n",
       "      <th>mileage_imp</th>\n",
       "      <th>year_ind</th>\n",
       "      <th>price_ind</th>\n",
       "      <th>mileage_ind</th>\n",
       "    </tr>\n",
       "  </thead>\n",
       "  <tbody>\n",
       "    <tr>\n",
       "      <th>0</th>\n",
       "      <td>2020.0</td>\n",
       "      <td>30495</td>\n",
       "      <td>NaN</td>\n",
       "      <td>2020.0</td>\n",
       "      <td>30495.0</td>\n",
       "      <td>7585.0</td>\n",
       "      <td>0.0</td>\n",
       "      <td>0.0</td>\n",
       "      <td>1.0</td>\n",
       "    </tr>\n",
       "    <tr>\n",
       "      <th>1</th>\n",
       "      <td>2020.0</td>\n",
       "      <td>29989</td>\n",
       "      <td>NaN</td>\n",
       "      <td>2020.0</td>\n",
       "      <td>29989.0</td>\n",
       "      <td>5970.6</td>\n",
       "      <td>0.0</td>\n",
       "      <td>0.0</td>\n",
       "      <td>1.0</td>\n",
       "    </tr>\n",
       "    <tr>\n",
       "      <th>2</th>\n",
       "      <td>2020.0</td>\n",
       "      <td>37899</td>\n",
       "      <td>NaN</td>\n",
       "      <td>2020.0</td>\n",
       "      <td>37899.0</td>\n",
       "      <td>8219.2</td>\n",
       "      <td>0.0</td>\n",
       "      <td>0.0</td>\n",
       "      <td>1.0</td>\n",
       "    </tr>\n",
       "    <tr>\n",
       "      <th>3</th>\n",
       "      <td>2019.0</td>\n",
       "      <td>30399</td>\n",
       "      <td>NaN</td>\n",
       "      <td>2019.0</td>\n",
       "      <td>30399.0</td>\n",
       "      <td>6758.2</td>\n",
       "      <td>0.0</td>\n",
       "      <td>0.0</td>\n",
       "      <td>1.0</td>\n",
       "    </tr>\n",
       "    <tr>\n",
       "      <th>4</th>\n",
       "      <td>2019.0</td>\n",
       "      <td>29899</td>\n",
       "      <td>NaN</td>\n",
       "      <td>2019.0</td>\n",
       "      <td>29899.0</td>\n",
       "      <td>7028.6</td>\n",
       "      <td>0.0</td>\n",
       "      <td>0.0</td>\n",
       "      <td>1.0</td>\n",
       "    </tr>\n",
       "    <tr>\n",
       "      <th>...</th>\n",
       "      <td>...</td>\n",
       "      <td>...</td>\n",
       "      <td>...</td>\n",
       "      <td>...</td>\n",
       "      <td>...</td>\n",
       "      <td>...</td>\n",
       "      <td>...</td>\n",
       "      <td>...</td>\n",
       "      <td>...</td>\n",
       "    </tr>\n",
       "    <tr>\n",
       "      <th>4001</th>\n",
       "      <td>2017.0</td>\n",
       "      <td>14700</td>\n",
       "      <td>31357.0</td>\n",
       "      <td>2017.0</td>\n",
       "      <td>14700.0</td>\n",
       "      <td>31357.0</td>\n",
       "      <td>0.0</td>\n",
       "      <td>0.0</td>\n",
       "      <td>0.0</td>\n",
       "    </tr>\n",
       "    <tr>\n",
       "      <th>4002</th>\n",
       "      <td>2018.0</td>\n",
       "      <td>18500</td>\n",
       "      <td>28248.0</td>\n",
       "      <td>2018.0</td>\n",
       "      <td>18500.0</td>\n",
       "      <td>28248.0</td>\n",
       "      <td>0.0</td>\n",
       "      <td>0.0</td>\n",
       "      <td>0.0</td>\n",
       "    </tr>\n",
       "    <tr>\n",
       "      <th>4003</th>\n",
       "      <td>2014.0</td>\n",
       "      <td>11900</td>\n",
       "      <td>48055.0</td>\n",
       "      <td>2014.0</td>\n",
       "      <td>11900.0</td>\n",
       "      <td>48055.0</td>\n",
       "      <td>0.0</td>\n",
       "      <td>0.0</td>\n",
       "      <td>0.0</td>\n",
       "    </tr>\n",
       "    <tr>\n",
       "      <th>4004</th>\n",
       "      <td>2014.0</td>\n",
       "      <td>11300</td>\n",
       "      <td>49865.0</td>\n",
       "      <td>2014.0</td>\n",
       "      <td>11300.0</td>\n",
       "      <td>49865.0</td>\n",
       "      <td>0.0</td>\n",
       "      <td>0.0</td>\n",
       "      <td>0.0</td>\n",
       "    </tr>\n",
       "    <tr>\n",
       "      <th>4005</th>\n",
       "      <td>2014.0</td>\n",
       "      <td>14800</td>\n",
       "      <td>55445.0</td>\n",
       "      <td>2014.0</td>\n",
       "      <td>14800.0</td>\n",
       "      <td>55445.0</td>\n",
       "      <td>0.0</td>\n",
       "      <td>0.0</td>\n",
       "      <td>0.0</td>\n",
       "    </tr>\n",
       "  </tbody>\n",
       "</table>\n",
       "<p>4006 rows × 9 columns</p>\n",
       "</div>"
      ],
      "text/plain": [
       "        year  price  mileage  year_imp  price_imp  mileage_imp  year_ind  \\\n",
       "0     2020.0  30495      NaN    2020.0    30495.0       7585.0       0.0   \n",
       "1     2020.0  29989      NaN    2020.0    29989.0       5970.6       0.0   \n",
       "2     2020.0  37899      NaN    2020.0    37899.0       8219.2       0.0   \n",
       "3     2019.0  30399      NaN    2019.0    30399.0       6758.2       0.0   \n",
       "4     2019.0  29899      NaN    2019.0    29899.0       7028.6       0.0   \n",
       "...      ...    ...      ...       ...        ...          ...       ...   \n",
       "4001  2017.0  14700  31357.0    2017.0    14700.0      31357.0       0.0   \n",
       "4002  2018.0  18500  28248.0    2018.0    18500.0      28248.0       0.0   \n",
       "4003  2014.0  11900  48055.0    2014.0    11900.0      48055.0       0.0   \n",
       "4004  2014.0  11300  49865.0    2014.0    11300.0      49865.0       0.0   \n",
       "4005  2014.0  14800  55445.0    2014.0    14800.0      55445.0       0.0   \n",
       "\n",
       "      price_ind  mileage_ind  \n",
       "0           0.0          1.0  \n",
       "1           0.0          1.0  \n",
       "2           0.0          1.0  \n",
       "3           0.0          1.0  \n",
       "4           0.0          1.0  \n",
       "...         ...          ...  \n",
       "4001        0.0          0.0  \n",
       "4002        0.0          0.0  \n",
       "4003        0.0          0.0  \n",
       "4004        0.0          0.0  \n",
       "4005        0.0          0.0  \n",
       "\n",
       "[4006 rows x 9 columns]"
      ]
     },
     "execution_count": 37,
     "metadata": {},
     "output_type": "execute_result"
    }
   ],
   "source": [
    "aux3"
   ]
  },
  {
   "cell_type": "code",
   "execution_count": 38,
   "id": "ee222f48",
   "metadata": {},
   "outputs": [],
   "source": [
    "train = aux3[['year_imp', 'price_imp', 'year_ind', 'price_ind', 'mileage']].loc[aux3['mileage'].isna() == False].copy()\n",
    "prediction = aux3[['year_imp', 'price_imp', 'year_ind', 'price_ind', 'mileage']].loc[aux3['mileage'].isna() == True].copy()"
   ]
  },
  {
   "cell_type": "code",
   "execution_count": 39,
   "id": "fdf5b6a1",
   "metadata": {},
   "outputs": [],
   "source": [
    "from sklearn.linear_model import LinearRegression"
   ]
  },
  {
   "cell_type": "code",
   "execution_count": 40,
   "id": "9f8daac8",
   "metadata": {},
   "outputs": [],
   "source": [
    "train.reset_index(drop = True, inplace = True)"
   ]
  },
  {
   "cell_type": "code",
   "execution_count": 41,
   "id": "30797f1b",
   "metadata": {},
   "outputs": [],
   "source": [
    "prediction.reset_index(drop = True, inplace = True)"
   ]
  },
  {
   "cell_type": "code",
   "execution_count": 42,
   "id": "7c9f9081",
   "metadata": {},
   "outputs": [
    {
     "data": {
      "text/plain": [
       "LinearRegression()"
      ]
     },
     "execution_count": 42,
     "metadata": {},
     "output_type": "execute_result"
    }
   ],
   "source": [
    "# Regresión Lineal\n",
    "pred = ['year_imp', 'price_imp', 'year_ind', 'price_ind']\n",
    "X = train[pred]\n",
    "y = train[tar]\n",
    "lr = LinearRegression()\n",
    "lr.fit(X, y)"
   ]
  },
  {
   "cell_type": "code",
   "execution_count": 43,
   "id": "77562529",
   "metadata": {},
   "outputs": [
    {
     "data": {
      "text/plain": [
       "array([[  1304.84424719],\n",
       "       [  1665.21252852],\n",
       "       [ -3968.21258082],\n",
       "       [  7466.34313789],\n",
       "       [  7822.43827755],\n",
       "       [   945.90034642],\n",
       "       [ -2615.05105013],\n",
       "       [  2060.10672765],\n",
       "       [  8469.81924144],\n",
       "       [  8469.81924144],\n",
       "       [ 21264.42797906],\n",
       "       [ 21264.42797906],\n",
       "       [ 21264.42797906],\n",
       "       [ 21264.42797906],\n",
       "       [ 21264.42797906],\n",
       "       [ 21264.42797906],\n",
       "       [ 21264.42797906],\n",
       "       [ 21264.42797906],\n",
       "       [ 21264.42797906],\n",
       "       [ 21264.42797906],\n",
       "       [ 21264.42797906],\n",
       "       [ 21264.42797906],\n",
       "       [ 21264.42797906],\n",
       "       [ 21264.42797906],\n",
       "       [ 21264.42797906],\n",
       "       [ 21264.42797906],\n",
       "       [ 21264.42797906],\n",
       "       [ 21264.42797906],\n",
       "       [ 21264.42797906],\n",
       "       [ 21264.42797906],\n",
       "       [ 21264.42797906],\n",
       "       [ 21264.42797906],\n",
       "       [ 21264.42797906],\n",
       "       [ 21264.42797906],\n",
       "       [ 21264.42797906],\n",
       "       [ 21264.42797906],\n",
       "       [ 21264.42797906],\n",
       "       [ 21264.42797906],\n",
       "       [ 21264.42797906],\n",
       "       [ 21264.42797906],\n",
       "       [ 21264.42797906],\n",
       "       [ 37424.93739996],\n",
       "       [ 32439.6054448 ],\n",
       "       [ 44230.25630317],\n",
       "       [ 25349.41042987],\n",
       "       [ 25088.03659737],\n",
       "       [ 44942.44658247],\n",
       "       [ 37424.93739996],\n",
       "       [ 44942.44658247],\n",
       "       [ 21264.42797906],\n",
       "       [ 21264.42797906],\n",
       "       [ 21264.42797906],\n",
       "       [ 21264.42797906],\n",
       "       [ 21264.42797906],\n",
       "       [ 21264.42797906],\n",
       "       [ 21264.42797906],\n",
       "       [ 21264.42797906],\n",
       "       [ 21264.42797906],\n",
       "       [ 21264.42797906],\n",
       "       [ 21264.42797906],\n",
       "       [ 21264.42797906],\n",
       "       [ 21264.42797906],\n",
       "       [ 21264.42797906],\n",
       "       [ 21264.42797906],\n",
       "       [ 21264.42797906],\n",
       "       [ 21264.42797906],\n",
       "       [ 21264.42797906],\n",
       "       [ 21264.42797906],\n",
       "       [ 21264.42797906],\n",
       "       [ 21264.42797906],\n",
       "       [ 21264.42797906],\n",
       "       [ 21264.42797906],\n",
       "       [ 21264.42797906],\n",
       "       [ 21264.42797906],\n",
       "       [ 21264.42797906],\n",
       "       [ 21264.42797906],\n",
       "       [ 21264.42797906],\n",
       "       [ 21264.42797906],\n",
       "       [ 21264.42797906],\n",
       "       [ 21264.42797906],\n",
       "       [ 21264.42797906],\n",
       "       [ 21264.42797906],\n",
       "       [ 21264.42797906],\n",
       "       [ 21264.42797906],\n",
       "       [ 21264.42797906],\n",
       "       [ 21264.42797906],\n",
       "       [ 21264.42797906],\n",
       "       [ 21264.42797906],\n",
       "       [ 21264.42797906],\n",
       "       [ 21264.42797906],\n",
       "       [ 21264.42797906],\n",
       "       [ 21264.42797906],\n",
       "       [ 21264.42797906],\n",
       "       [ 21264.42797906],\n",
       "       [ 21264.42797906],\n",
       "       [ 21264.42797906],\n",
       "       [ 21264.42797906],\n",
       "       [ 21264.42797906],\n",
       "       [ -1243.77459956],\n",
       "       [ 37424.93739996],\n",
       "       [ 44942.44658247],\n",
       "       [ 25088.03659737],\n",
       "       [ 21264.42797906],\n",
       "       [ 21264.42797906],\n",
       "       [ 21264.42797906],\n",
       "       [ 29552.75745836],\n",
       "       [ 41381.49518592],\n",
       "       [  5628.18002699],\n",
       "       [ 24224.14978856],\n",
       "       [ 14886.65365802],\n",
       "       [ 18120.33831048],\n",
       "       [ 37710.90498819],\n",
       "       [ 21264.42797906],\n",
       "       [ 70774.95115062],\n",
       "       [ 48906.12627123],\n",
       "       [ 44942.44658247],\n",
       "       [ 44942.44658247],\n",
       "       [ 21264.42797906],\n",
       "       [ 21264.42797906],\n",
       "       [ 21264.42797906],\n",
       "       [  9279.23880462],\n",
       "       [ 18199.36080999],\n",
       "       [ 21264.42797906],\n",
       "       [ 21264.42797906],\n",
       "       [ 36285.43295307],\n",
       "       [ 26346.47682091],\n",
       "       [ 34718.61433859],\n",
       "       [ 40882.96199041],\n",
       "       [ 42310.90350042],\n",
       "       [ 21264.42797906],\n",
       "       [ 21264.42797906],\n",
       "       [ 21264.42797906],\n",
       "       [ 21264.42797906],\n",
       "       [ 26488.91487677],\n",
       "       [ 34576.17628273],\n",
       "       [ 34611.78579669],\n",
       "       [ 59279.51847377],\n",
       "       [ 38639.22182619],\n",
       "       [ 21264.42797906],\n",
       "       [ 21264.42797906],\n",
       "       [ 26360.72062649],\n",
       "       [ 39248.48529939],\n",
       "       [ 78973.31424015],\n",
       "       [ 21264.42797906],\n",
       "       [ 21264.42797906],\n",
       "       [ 36374.45673798],\n",
       "       [ 21264.42797906],\n",
       "       [ 44942.44658247],\n",
       "       [ 21264.42797906],\n",
       "       [ 27902.92371054],\n",
       "       [ 37424.93739996],\n",
       "       [ 25088.03659737],\n",
       "       [ 44942.44658247],\n",
       "       [ 37424.93739996],\n",
       "       [ 25088.03659737],\n",
       "       [ 44942.44658247],\n",
       "       [  7865.13907281],\n",
       "       [  3562.82821699],\n",
       "       [-11859.99306585],\n",
       "       [ 44942.44658247],\n",
       "       [ 25088.03659737],\n",
       "       [ 37424.93739996],\n",
       "       [ 44942.44658247],\n",
       "       [ 25088.03659737],\n",
       "       [ 71814.74895841],\n",
       "       [113750.89809494],\n",
       "       [ 97647.59431096],\n",
       "       [112643.10142622],\n",
       "       [125327.89186952],\n",
       "       [ 37424.93739996],\n",
       "       [ 37424.93739996],\n",
       "       [ 44942.44658247],\n",
       "       [ 25088.03659737],\n",
       "       [   247.24168241],\n",
       "       [ 44942.44658247],\n",
       "       [ 22789.08637575],\n",
       "       [ 37424.93739996],\n",
       "       [ 37424.93739996],\n",
       "       [ 44942.44658247],\n",
       "       [ 25088.03659737],\n",
       "       [ 37424.93739996],\n",
       "       [ 44942.44658247],\n",
       "       [ 25088.03659737],\n",
       "       [  9965.41882799],\n",
       "       [ 24708.43917849],\n",
       "       [ -5428.91484369],\n",
       "       [ 37424.93739996],\n",
       "       [ 63225.39340554],\n",
       "       [ -7522.75426486],\n",
       "       [ -3249.612589  ],\n",
       "       [  1315.52710138],\n",
       "       [ -3249.612589  ],\n",
       "       [ 37424.93739996],\n",
       "       [ 44942.44658247],\n",
       "       [  7835.96989285],\n",
       "       [  1671.62224103],\n",
       "       [ -1533.23401586],\n",
       "       [ 37424.93739996],\n",
       "       [ 44942.44658247],\n",
       "       [ 25088.03659737],\n",
       "       [   304.21690476]])"
      ]
     },
     "execution_count": 43,
     "metadata": {},
     "output_type": "execute_result"
    }
   ],
   "source": [
    "lr.predict(prediction[pred]).reshape(-1,1)"
   ]
  },
  {
   "cell_type": "code",
   "execution_count": 44,
   "id": "e2382f19",
   "metadata": {},
   "outputs": [],
   "source": [
    "prediction['linear regression'] = lr.predict(prediction[pred])"
   ]
  },
  {
   "cell_type": "code",
   "execution_count": 45,
   "id": "3d278ddc",
   "metadata": {},
   "outputs": [
    {
     "data": {
      "text/plain": [
       "count       201.000000\n",
       "mean      26193.924292\n",
       "std       18575.979258\n",
       "min      -11859.993066\n",
       "0%       -11859.993066\n",
       "10%        7822.438278\n",
       "20%       21264.427979\n",
       "30%       21264.427979\n",
       "40%       21264.427979\n",
       "50%       21264.427979\n",
       "60%       21264.427979\n",
       "70%       25088.036597\n",
       "80%       37424.937400\n",
       "90%       44942.446582\n",
       "max      125327.891870\n",
       "Name: linear regression, dtype: float64"
      ]
     },
     "execution_count": 45,
     "metadata": {},
     "output_type": "execute_result"
    }
   ],
   "source": [
    "prediction['linear regression'].describe(percentiles = [i/10 for i in range(10)])"
   ]
  },
  {
   "cell_type": "code",
   "execution_count": 46,
   "id": "d0978317",
   "metadata": {},
   "outputs": [],
   "source": [
    "def isnegative(x, val):\n",
    "    if x < 0:\n",
    "        return(val)\n",
    "    else:\n",
    "        return(x)"
   ]
  },
  {
   "cell_type": "code",
   "execution_count": 47,
   "id": "aad1e7cf",
   "metadata": {},
   "outputs": [],
   "source": [
    "n = prediction['linear regression'].loc[prediction['linear regression']>=0].min()"
   ]
  },
  {
   "cell_type": "code",
   "execution_count": 48,
   "id": "d96c8dd9",
   "metadata": {},
   "outputs": [],
   "source": [
    "prediction['linear_regression_abs'] = prediction['linear regression'].map(lambda x:abs(x))\n",
    "prediction['linear_regression_val'] = prediction['linear regression'].map(lambda x:isnegative(x, n))\n",
    "aux_prediction_oms = prediction.loc[prediction['linear regression']>=0].copy()"
   ]
  },
  {
   "cell_type": "code",
   "execution_count": 49,
   "id": "bae4d337",
   "metadata": {},
   "outputs": [
    {
     "data": {
      "text/html": [
       "<div>\n",
       "<style scoped>\n",
       "    .dataframe tbody tr th:only-of-type {\n",
       "        vertical-align: middle;\n",
       "    }\n",
       "\n",
       "    .dataframe tbody tr th {\n",
       "        vertical-align: top;\n",
       "    }\n",
       "\n",
       "    .dataframe thead th {\n",
       "        text-align: right;\n",
       "    }\n",
       "</style>\n",
       "<table border=\"1\" class=\"dataframe\">\n",
       "  <thead>\n",
       "    <tr style=\"text-align: right;\">\n",
       "      <th></th>\n",
       "      <th>year_imp</th>\n",
       "      <th>price_imp</th>\n",
       "      <th>year_ind</th>\n",
       "      <th>price_ind</th>\n",
       "      <th>mileage</th>\n",
       "      <th>linear regression</th>\n",
       "      <th>linear_regression_abs</th>\n",
       "      <th>linear_regression_val</th>\n",
       "    </tr>\n",
       "  </thead>\n",
       "  <tbody>\n",
       "    <tr>\n",
       "      <th>0</th>\n",
       "      <td>2020.0</td>\n",
       "      <td>30495.0</td>\n",
       "      <td>0.0</td>\n",
       "      <td>0.0</td>\n",
       "      <td>NaN</td>\n",
       "      <td>1304.844247</td>\n",
       "      <td>1304.844247</td>\n",
       "      <td>1304.844247</td>\n",
       "    </tr>\n",
       "    <tr>\n",
       "      <th>1</th>\n",
       "      <td>2020.0</td>\n",
       "      <td>29989.0</td>\n",
       "      <td>0.0</td>\n",
       "      <td>0.0</td>\n",
       "      <td>NaN</td>\n",
       "      <td>1665.212529</td>\n",
       "      <td>1665.212529</td>\n",
       "      <td>1665.212529</td>\n",
       "    </tr>\n",
       "    <tr>\n",
       "      <th>2</th>\n",
       "      <td>2020.0</td>\n",
       "      <td>37899.0</td>\n",
       "      <td>0.0</td>\n",
       "      <td>0.0</td>\n",
       "      <td>NaN</td>\n",
       "      <td>-3968.212581</td>\n",
       "      <td>3968.212581</td>\n",
       "      <td>247.241682</td>\n",
       "    </tr>\n",
       "    <tr>\n",
       "      <th>3</th>\n",
       "      <td>2019.0</td>\n",
       "      <td>30399.0</td>\n",
       "      <td>0.0</td>\n",
       "      <td>0.0</td>\n",
       "      <td>NaN</td>\n",
       "      <td>7466.343138</td>\n",
       "      <td>7466.343138</td>\n",
       "      <td>7466.343138</td>\n",
       "    </tr>\n",
       "    <tr>\n",
       "      <th>4</th>\n",
       "      <td>2019.0</td>\n",
       "      <td>29899.0</td>\n",
       "      <td>0.0</td>\n",
       "      <td>0.0</td>\n",
       "      <td>NaN</td>\n",
       "      <td>7822.438278</td>\n",
       "      <td>7822.438278</td>\n",
       "      <td>7822.438278</td>\n",
       "    </tr>\n",
       "    <tr>\n",
       "      <th>...</th>\n",
       "      <td>...</td>\n",
       "      <td>...</td>\n",
       "      <td>...</td>\n",
       "      <td>...</td>\n",
       "      <td>...</td>\n",
       "      <td>...</td>\n",
       "      <td>...</td>\n",
       "      <td>...</td>\n",
       "    </tr>\n",
       "    <tr>\n",
       "      <th>196</th>\n",
       "      <td>2020.0</td>\n",
       "      <td>34480.0</td>\n",
       "      <td>0.0</td>\n",
       "      <td>0.0</td>\n",
       "      <td>NaN</td>\n",
       "      <td>-1533.234016</td>\n",
       "      <td>1533.234016</td>\n",
       "      <td>247.241682</td>\n",
       "    </tr>\n",
       "    <tr>\n",
       "      <th>197</th>\n",
       "      <td>2016.0</td>\n",
       "      <td>14000.0</td>\n",
       "      <td>0.0</td>\n",
       "      <td>0.0</td>\n",
       "      <td>NaN</td>\n",
       "      <td>37424.937400</td>\n",
       "      <td>37424.937400</td>\n",
       "      <td>37424.937400</td>\n",
       "    </tr>\n",
       "    <tr>\n",
       "      <th>198</th>\n",
       "      <td>2015.0</td>\n",
       "      <td>12000.0</td>\n",
       "      <td>0.0</td>\n",
       "      <td>0.0</td>\n",
       "      <td>NaN</td>\n",
       "      <td>44942.446582</td>\n",
       "      <td>44942.446582</td>\n",
       "      <td>44942.446582</td>\n",
       "    </tr>\n",
       "    <tr>\n",
       "      <th>199</th>\n",
       "      <td>2017.0</td>\n",
       "      <td>22767.0</td>\n",
       "      <td>0.0</td>\n",
       "      <td>0.0</td>\n",
       "      <td>NaN</td>\n",
       "      <td>25088.036597</td>\n",
       "      <td>25088.036597</td>\n",
       "      <td>25088.036597</td>\n",
       "    </tr>\n",
       "    <tr>\n",
       "      <th>200</th>\n",
       "      <td>2020.0</td>\n",
       "      <td>31900.0</td>\n",
       "      <td>0.0</td>\n",
       "      <td>0.0</td>\n",
       "      <td>NaN</td>\n",
       "      <td>304.216905</td>\n",
       "      <td>304.216905</td>\n",
       "      <td>304.216905</td>\n",
       "    </tr>\n",
       "  </tbody>\n",
       "</table>\n",
       "<p>201 rows × 8 columns</p>\n",
       "</div>"
      ],
      "text/plain": [
       "     year_imp  price_imp  year_ind  price_ind  mileage  linear regression  \\\n",
       "0      2020.0    30495.0       0.0        0.0      NaN        1304.844247   \n",
       "1      2020.0    29989.0       0.0        0.0      NaN        1665.212529   \n",
       "2      2020.0    37899.0       0.0        0.0      NaN       -3968.212581   \n",
       "3      2019.0    30399.0       0.0        0.0      NaN        7466.343138   \n",
       "4      2019.0    29899.0       0.0        0.0      NaN        7822.438278   \n",
       "..        ...        ...       ...        ...      ...                ...   \n",
       "196    2020.0    34480.0       0.0        0.0      NaN       -1533.234016   \n",
       "197    2016.0    14000.0       0.0        0.0      NaN       37424.937400   \n",
       "198    2015.0    12000.0       0.0        0.0      NaN       44942.446582   \n",
       "199    2017.0    22767.0       0.0        0.0      NaN       25088.036597   \n",
       "200    2020.0    31900.0       0.0        0.0      NaN         304.216905   \n",
       "\n",
       "     linear_regression_abs  linear_regression_val  \n",
       "0              1304.844247            1304.844247  \n",
       "1              1665.212529            1665.212529  \n",
       "2              3968.212581             247.241682  \n",
       "3              7466.343138            7466.343138  \n",
       "4              7822.438278            7822.438278  \n",
       "..                     ...                    ...  \n",
       "196            1533.234016             247.241682  \n",
       "197           37424.937400           37424.937400  \n",
       "198           44942.446582           44942.446582  \n",
       "199           25088.036597           25088.036597  \n",
       "200             304.216905             304.216905  \n",
       "\n",
       "[201 rows x 8 columns]"
      ]
     },
     "execution_count": 49,
     "metadata": {},
     "output_type": "execute_result"
    }
   ],
   "source": [
    "prediction"
   ]
  },
  {
   "cell_type": "markdown",
   "id": "a982174d",
   "metadata": {},
   "source": [
    "### Regresión estocástica\n",
    "\n",
    "Para esto debemos calcular la varianza, entonces utilizaremos la predicción sobre el conjunto de entrenamiento y con base a eso, generaremos la distribución normal de los errores. "
   ]
  },
  {
   "cell_type": "code",
   "execution_count": 55,
   "id": "97f76faa",
   "metadata": {},
   "outputs": [
    {
     "data": {
      "text/plain": [
       "array([-13656.64534027,  21413.65519791,  48569.75033756, ...,\n",
       "        -3051.7942343 ,  -1669.10840188,   6403.5575757 ])"
      ]
     },
     "execution_count": 55,
     "metadata": {},
     "output_type": "execute_result"
    }
   ],
   "source": [
    "y.values - lr.predict(X)"
   ]
  },
  {
   "cell_type": "code",
   "execution_count": 56,
   "id": "7d91134e",
   "metadata": {},
   "outputs": [],
   "source": [
    "import matplotlib.pyplot as plt"
   ]
  },
  {
   "cell_type": "code",
   "execution_count": 57,
   "id": "c083a2b3",
   "metadata": {},
   "outputs": [
    {
     "data": {
      "text/plain": [
       "(array([   2,    1,    0,   21,  782, 2632,  288,   55,   16,    8]),\n",
       " array([-117834.6775772 ,  -95781.04702212,  -73727.41646705,\n",
       "         -51673.78591197,  -29620.15535689,   -7566.52480182,\n",
       "          14487.10575326,   36540.73630834,   58594.36686341,\n",
       "          80647.99741849,  102701.62797357]))"
      ]
     },
     "execution_count": 57,
     "metadata": {},
     "output_type": "execute_result"
    }
   ],
   "source": [
    "np.histogram(y.values - lr.predict(X))"
   ]
  },
  {
   "cell_type": "code",
   "execution_count": 59,
   "id": "271f81c8",
   "metadata": {},
   "outputs": [
    {
     "data": {
      "text/plain": [
       "(array([2.000e+00, 1.000e+00, 0.000e+00, 2.100e+01, 7.820e+02, 2.632e+03,\n",
       "        2.880e+02, 5.500e+01, 1.600e+01, 8.000e+00]),\n",
       " array([-117834.6775772 ,  -95781.04702212,  -73727.41646705,\n",
       "         -51673.78591197,  -29620.15535689,   -7566.52480182,\n",
       "          14487.10575326,   36540.73630834,   58594.36686341,\n",
       "          80647.99741849,  102701.62797357]),\n",
       " <BarContainer object of 10 artists>)"
      ]
     },
     "execution_count": 59,
     "metadata": {},
     "output_type": "execute_result"
    },
    {
     "data": {
      "image/png": "[encoded data removed]",
      "text/plain": [
       "<Figure size 432x288 with 1 Axes>"
      ]
     },
     "metadata": {
      "needs_background": "light"
     },
     "output_type": "display_data"
    }
   ],
   "source": [
    "plt.hist(y.values - lr.predict(X), bins = 10)"
   ]
  },
  {
   "cell_type": "code",
   "execution_count": 67,
   "id": "8afe2516",
   "metadata": {},
   "outputs": [
    {
     "name": "stdout",
     "output_type": "stream",
     "text": [
      "-1.7192141298552224e-09\n"
     ]
    },
    {
     "data": {
      "text/html": [
       "<div>\n",
       "<style scoped>\n",
       "    .dataframe tbody tr th:only-of-type {\n",
       "        vertical-align: middle;\n",
       "    }\n",
       "\n",
       "    .dataframe tbody tr th {\n",
       "        vertical-align: top;\n",
       "    }\n",
       "\n",
       "    .dataframe thead th {\n",
       "        text-align: right;\n",
       "    }\n",
       "</style>\n",
       "<table border=\"1\" class=\"dataframe\">\n",
       "  <thead>\n",
       "    <tr style=\"text-align: right;\">\n",
       "      <th></th>\n",
       "      <th>year_imp</th>\n",
       "      <th>price_imp</th>\n",
       "      <th>year_ind</th>\n",
       "      <th>price_ind</th>\n",
       "      <th>mileage</th>\n",
       "      <th>linear regression</th>\n",
       "      <th>linear_regression_abs</th>\n",
       "      <th>linear_regression_val</th>\n",
       "      <th>Stochastic_regression</th>\n",
       "      <th>Stochastic_regression_val</th>\n",
       "      <th>Stochastic_regression_abs</th>\n",
       "    </tr>\n",
       "  </thead>\n",
       "  <tbody>\n",
       "    <tr>\n",
       "      <th>0</th>\n",
       "      <td>2020.0</td>\n",
       "      <td>30495.0</td>\n",
       "      <td>0.0</td>\n",
       "      <td>0.0</td>\n",
       "      <td>NaN</td>\n",
       "      <td>1304.844247</td>\n",
       "      <td>1304.844247</td>\n",
       "      <td>1304.844247</td>\n",
       "      <td>23964.994273</td>\n",
       "      <td>23964.994273</td>\n",
       "      <td>23964.994273</td>\n",
       "    </tr>\n",
       "    <tr>\n",
       "      <th>1</th>\n",
       "      <td>2020.0</td>\n",
       "      <td>29989.0</td>\n",
       "      <td>0.0</td>\n",
       "      <td>0.0</td>\n",
       "      <td>NaN</td>\n",
       "      <td>1665.212529</td>\n",
       "      <td>1665.212529</td>\n",
       "      <td>1665.212529</td>\n",
       "      <td>-18282.132655</td>\n",
       "      <td>-18282.132655</td>\n",
       "      <td>-18282.132655</td>\n",
       "    </tr>\n",
       "    <tr>\n",
       "      <th>2</th>\n",
       "      <td>2020.0</td>\n",
       "      <td>37899.0</td>\n",
       "      <td>0.0</td>\n",
       "      <td>0.0</td>\n",
       "      <td>NaN</td>\n",
       "      <td>-3968.212581</td>\n",
       "      <td>3968.212581</td>\n",
       "      <td>247.241682</td>\n",
       "      <td>-12746.260236</td>\n",
       "      <td>-8530.805972</td>\n",
       "      <td>-4809.835074</td>\n",
       "    </tr>\n",
       "    <tr>\n",
       "      <th>3</th>\n",
       "      <td>2019.0</td>\n",
       "      <td>30399.0</td>\n",
       "      <td>0.0</td>\n",
       "      <td>0.0</td>\n",
       "      <td>NaN</td>\n",
       "      <td>7466.343138</td>\n",
       "      <td>7466.343138</td>\n",
       "      <td>7466.343138</td>\n",
       "      <td>33514.360815</td>\n",
       "      <td>33514.360815</td>\n",
       "      <td>33514.360815</td>\n",
       "    </tr>\n",
       "    <tr>\n",
       "      <th>4</th>\n",
       "      <td>2019.0</td>\n",
       "      <td>29899.0</td>\n",
       "      <td>0.0</td>\n",
       "      <td>0.0</td>\n",
       "      <td>NaN</td>\n",
       "      <td>7822.438278</td>\n",
       "      <td>7822.438278</td>\n",
       "      <td>7822.438278</td>\n",
       "      <td>-6008.860758</td>\n",
       "      <td>-6008.860758</td>\n",
       "      <td>-6008.860758</td>\n",
       "    </tr>\n",
       "    <tr>\n",
       "      <th>...</th>\n",
       "      <td>...</td>\n",
       "      <td>...</td>\n",
       "      <td>...</td>\n",
       "      <td>...</td>\n",
       "      <td>...</td>\n",
       "      <td>...</td>\n",
       "      <td>...</td>\n",
       "      <td>...</td>\n",
       "      <td>...</td>\n",
       "      <td>...</td>\n",
       "      <td>...</td>\n",
       "    </tr>\n",
       "    <tr>\n",
       "      <th>196</th>\n",
       "      <td>2020.0</td>\n",
       "      <td>34480.0</td>\n",
       "      <td>0.0</td>\n",
       "      <td>0.0</td>\n",
       "      <td>NaN</td>\n",
       "      <td>-1533.234016</td>\n",
       "      <td>1533.234016</td>\n",
       "      <td>247.241682</td>\n",
       "      <td>-9984.830626</td>\n",
       "      <td>-8204.354927</td>\n",
       "      <td>-6918.362594</td>\n",
       "    </tr>\n",
       "    <tr>\n",
       "      <th>197</th>\n",
       "      <td>2016.0</td>\n",
       "      <td>14000.0</td>\n",
       "      <td>0.0</td>\n",
       "      <td>0.0</td>\n",
       "      <td>NaN</td>\n",
       "      <td>37424.937400</td>\n",
       "      <td>37424.937400</td>\n",
       "      <td>37424.937400</td>\n",
       "      <td>31384.803534</td>\n",
       "      <td>31384.803534</td>\n",
       "      <td>31384.803534</td>\n",
       "    </tr>\n",
       "    <tr>\n",
       "      <th>198</th>\n",
       "      <td>2015.0</td>\n",
       "      <td>12000.0</td>\n",
       "      <td>0.0</td>\n",
       "      <td>0.0</td>\n",
       "      <td>NaN</td>\n",
       "      <td>44942.446582</td>\n",
       "      <td>44942.446582</td>\n",
       "      <td>44942.446582</td>\n",
       "      <td>40992.095743</td>\n",
       "      <td>40992.095743</td>\n",
       "      <td>40992.095743</td>\n",
       "    </tr>\n",
       "    <tr>\n",
       "      <th>199</th>\n",
       "      <td>2017.0</td>\n",
       "      <td>22767.0</td>\n",
       "      <td>0.0</td>\n",
       "      <td>0.0</td>\n",
       "      <td>NaN</td>\n",
       "      <td>25088.036597</td>\n",
       "      <td>25088.036597</td>\n",
       "      <td>25088.036597</td>\n",
       "      <td>28639.218937</td>\n",
       "      <td>28639.218937</td>\n",
       "      <td>28639.218937</td>\n",
       "    </tr>\n",
       "    <tr>\n",
       "      <th>200</th>\n",
       "      <td>2020.0</td>\n",
       "      <td>31900.0</td>\n",
       "      <td>0.0</td>\n",
       "      <td>0.0</td>\n",
       "      <td>NaN</td>\n",
       "      <td>304.216905</td>\n",
       "      <td>304.216905</td>\n",
       "      <td>304.216905</td>\n",
       "      <td>16700.900288</td>\n",
       "      <td>16700.900288</td>\n",
       "      <td>16700.900288</td>\n",
       "    </tr>\n",
       "  </tbody>\n",
       "</table>\n",
       "<p>201 rows × 11 columns</p>\n",
       "</div>"
      ],
      "text/plain": [
       "     year_imp  price_imp  year_ind  price_ind  mileage  linear regression  \\\n",
       "0      2020.0    30495.0       0.0        0.0      NaN        1304.844247   \n",
       "1      2020.0    29989.0       0.0        0.0      NaN        1665.212529   \n",
       "2      2020.0    37899.0       0.0        0.0      NaN       -3968.212581   \n",
       "3      2019.0    30399.0       0.0        0.0      NaN        7466.343138   \n",
       "4      2019.0    29899.0       0.0        0.0      NaN        7822.438278   \n",
       "..        ...        ...       ...        ...      ...                ...   \n",
       "196    2020.0    34480.0       0.0        0.0      NaN       -1533.234016   \n",
       "197    2016.0    14000.0       0.0        0.0      NaN       37424.937400   \n",
       "198    2015.0    12000.0       0.0        0.0      NaN       44942.446582   \n",
       "199    2017.0    22767.0       0.0        0.0      NaN       25088.036597   \n",
       "200    2020.0    31900.0       0.0        0.0      NaN         304.216905   \n",
       "\n",
       "     linear_regression_abs  linear_regression_val  Stochastic_regression  \\\n",
       "0              1304.844247            1304.844247           23964.994273   \n",
       "1              1665.212529            1665.212529          -18282.132655   \n",
       "2              3968.212581             247.241682          -12746.260236   \n",
       "3              7466.343138            7466.343138           33514.360815   \n",
       "4              7822.438278            7822.438278           -6008.860758   \n",
       "..                     ...                    ...                    ...   \n",
       "196            1533.234016             247.241682           -9984.830626   \n",
       "197           37424.937400           37424.937400           31384.803534   \n",
       "198           44942.446582           44942.446582           40992.095743   \n",
       "199           25088.036597           25088.036597           28639.218937   \n",
       "200             304.216905             304.216905           16700.900288   \n",
       "\n",
       "     Stochastic_regression_val  Stochastic_regression_abs  \n",
       "0                 23964.994273               23964.994273  \n",
       "1                -18282.132655              -18282.132655  \n",
       "2                 -8530.805972               -4809.835074  \n",
       "3                 33514.360815               33514.360815  \n",
       "4                 -6008.860758               -6008.860758  \n",
       "..                         ...                        ...  \n",
       "196               -8204.354927               -6918.362594  \n",
       "197               31384.803534               31384.803534  \n",
       "198               40992.095743               40992.095743  \n",
       "199               28639.218937               28639.218937  \n",
       "200               16700.900288               16700.900288  \n",
       "\n",
       "[201 rows x 11 columns]"
      ]
     },
     "execution_count": 67,
     "metadata": {},
     "output_type": "execute_result"
    }
   ],
   "source": [
    "# Cálculo de los residuales\n",
    "residuals = y.values - lr.predict(X)\n",
    "\n",
    "# Cálculo de la varianza\n",
    "variance = residuals.var()\n",
    "\n",
    "# Cálculo de la media\n",
    "mean = residuals.mean()\n",
    "print(mean)\n",
    "\n",
    "# Generación de los errores. \n",
    "rnoise = np.random.normal(mean, np.sqrt(variance), len(prediction))\n",
    "\n",
    "# Regresión estocástica.\n",
    "prediction['Stochastic_regression'] = (prediction['linear regression']\n",
    "                                      + rnoise)\n",
    "prediction['Stochastic_regression_val'] = (prediction['linear_regression_val']\n",
    "                                      + rnoise)\n",
    "prediction['Stochastic_regression_abs'] = (prediction['linear_regression_abs']\n",
    "                                      + rnoise)\n",
    "prediction"
   ]
  },
  {
   "cell_type": "code",
   "execution_count": 69,
   "id": "0200744a",
   "metadata": {},
   "outputs": [
    {
     "data": {
      "text/html": [
       "<div>\n",
       "<style scoped>\n",
       "    .dataframe tbody tr th:only-of-type {\n",
       "        vertical-align: middle;\n",
       "    }\n",
       "\n",
       "    .dataframe tbody tr th {\n",
       "        vertical-align: top;\n",
       "    }\n",
       "\n",
       "    .dataframe thead th {\n",
       "        text-align: right;\n",
       "    }\n",
       "</style>\n",
       "<table border=\"1\" class=\"dataframe\">\n",
       "  <thead>\n",
       "    <tr style=\"text-align: right;\">\n",
       "      <th></th>\n",
       "      <th>year_imp</th>\n",
       "      <th>price_imp</th>\n",
       "      <th>year_ind</th>\n",
       "      <th>price_ind</th>\n",
       "      <th>mileage</th>\n",
       "      <th>linear regression</th>\n",
       "      <th>linear_regression_abs</th>\n",
       "      <th>linear_regression_val</th>\n",
       "      <th>Stochastic regression</th>\n",
       "    </tr>\n",
       "  </thead>\n",
       "  <tbody>\n",
       "    <tr>\n",
       "      <th>0</th>\n",
       "      <td>2020.0</td>\n",
       "      <td>30495.0</td>\n",
       "      <td>0.0</td>\n",
       "      <td>0.0</td>\n",
       "      <td>NaN</td>\n",
       "      <td>1304.844247</td>\n",
       "      <td>1304.844247</td>\n",
       "      <td>1304.844247</td>\n",
       "      <td>-8918.776118</td>\n",
       "    </tr>\n",
       "    <tr>\n",
       "      <th>1</th>\n",
       "      <td>2020.0</td>\n",
       "      <td>29989.0</td>\n",
       "      <td>0.0</td>\n",
       "      <td>0.0</td>\n",
       "      <td>NaN</td>\n",
       "      <td>1665.212529</td>\n",
       "      <td>1665.212529</td>\n",
       "      <td>1665.212529</td>\n",
       "      <td>-3623.899730</td>\n",
       "    </tr>\n",
       "    <tr>\n",
       "      <th>3</th>\n",
       "      <td>2019.0</td>\n",
       "      <td>30399.0</td>\n",
       "      <td>0.0</td>\n",
       "      <td>0.0</td>\n",
       "      <td>NaN</td>\n",
       "      <td>7466.343138</td>\n",
       "      <td>7466.343138</td>\n",
       "      <td>7466.343138</td>\n",
       "      <td>-2669.388464</td>\n",
       "    </tr>\n",
       "    <tr>\n",
       "      <th>4</th>\n",
       "      <td>2019.0</td>\n",
       "      <td>29899.0</td>\n",
       "      <td>0.0</td>\n",
       "      <td>0.0</td>\n",
       "      <td>NaN</td>\n",
       "      <td>7822.438278</td>\n",
       "      <td>7822.438278</td>\n",
       "      <td>7822.438278</td>\n",
       "      <td>4554.240940</td>\n",
       "    </tr>\n",
       "    <tr>\n",
       "      <th>5</th>\n",
       "      <td>2020.0</td>\n",
       "      <td>30999.0</td>\n",
       "      <td>0.0</td>\n",
       "      <td>0.0</td>\n",
       "      <td>NaN</td>\n",
       "      <td>945.900346</td>\n",
       "      <td>945.900346</td>\n",
       "      <td>945.900346</td>\n",
       "      <td>-70.716109</td>\n",
       "    </tr>\n",
       "    <tr>\n",
       "      <th>...</th>\n",
       "      <td>...</td>\n",
       "      <td>...</td>\n",
       "      <td>...</td>\n",
       "      <td>...</td>\n",
       "      <td>...</td>\n",
       "      <td>...</td>\n",
       "      <td>...</td>\n",
       "      <td>...</td>\n",
       "      <td>...</td>\n",
       "    </tr>\n",
       "    <tr>\n",
       "      <th>195</th>\n",
       "      <td>2020.0</td>\n",
       "      <td>29980.0</td>\n",
       "      <td>0.0</td>\n",
       "      <td>0.0</td>\n",
       "      <td>NaN</td>\n",
       "      <td>1671.622241</td>\n",
       "      <td>1671.622241</td>\n",
       "      <td>1671.622241</td>\n",
       "      <td>-18302.806120</td>\n",
       "    </tr>\n",
       "    <tr>\n",
       "      <th>197</th>\n",
       "      <td>2016.0</td>\n",
       "      <td>14000.0</td>\n",
       "      <td>0.0</td>\n",
       "      <td>0.0</td>\n",
       "      <td>NaN</td>\n",
       "      <td>37424.937400</td>\n",
       "      <td>37424.937400</td>\n",
       "      <td>37424.937400</td>\n",
       "      <td>47658.593996</td>\n",
       "    </tr>\n",
       "    <tr>\n",
       "      <th>198</th>\n",
       "      <td>2015.0</td>\n",
       "      <td>12000.0</td>\n",
       "      <td>0.0</td>\n",
       "      <td>0.0</td>\n",
       "      <td>NaN</td>\n",
       "      <td>44942.446582</td>\n",
       "      <td>44942.446582</td>\n",
       "      <td>44942.446582</td>\n",
       "      <td>53128.615056</td>\n",
       "    </tr>\n",
       "    <tr>\n",
       "      <th>199</th>\n",
       "      <td>2017.0</td>\n",
       "      <td>22767.0</td>\n",
       "      <td>0.0</td>\n",
       "      <td>0.0</td>\n",
       "      <td>NaN</td>\n",
       "      <td>25088.036597</td>\n",
       "      <td>25088.036597</td>\n",
       "      <td>25088.036597</td>\n",
       "      <td>25225.443987</td>\n",
       "    </tr>\n",
       "    <tr>\n",
       "      <th>200</th>\n",
       "      <td>2020.0</td>\n",
       "      <td>31900.0</td>\n",
       "      <td>0.0</td>\n",
       "      <td>0.0</td>\n",
       "      <td>NaN</td>\n",
       "      <td>304.216905</td>\n",
       "      <td>304.216905</td>\n",
       "      <td>304.216905</td>\n",
       "      <td>-4860.267922</td>\n",
       "    </tr>\n",
       "  </tbody>\n",
       "</table>\n",
       "<p>192 rows × 9 columns</p>\n",
       "</div>"
      ],
      "text/plain": [
       "     year_imp  price_imp  year_ind  price_ind  mileage  linear regression  \\\n",
       "0      2020.0    30495.0       0.0        0.0      NaN        1304.844247   \n",
       "1      2020.0    29989.0       0.0        0.0      NaN        1665.212529   \n",
       "3      2019.0    30399.0       0.0        0.0      NaN        7466.343138   \n",
       "4      2019.0    29899.0       0.0        0.0      NaN        7822.438278   \n",
       "5      2020.0    30999.0       0.0        0.0      NaN         945.900346   \n",
       "..        ...        ...       ...        ...      ...                ...   \n",
       "195    2020.0    29980.0       0.0        0.0      NaN        1671.622241   \n",
       "197    2016.0    14000.0       0.0        0.0      NaN       37424.937400   \n",
       "198    2015.0    12000.0       0.0        0.0      NaN       44942.446582   \n",
       "199    2017.0    22767.0       0.0        0.0      NaN       25088.036597   \n",
       "200    2020.0    31900.0       0.0        0.0      NaN         304.216905   \n",
       "\n",
       "     linear_regression_abs  linear_regression_val  Stochastic regression  \n",
       "0              1304.844247            1304.844247           -8918.776118  \n",
       "1              1665.212529            1665.212529           -3623.899730  \n",
       "3              7466.343138            7466.343138           -2669.388464  \n",
       "4              7822.438278            7822.438278            4554.240940  \n",
       "5               945.900346             945.900346             -70.716109  \n",
       "..                     ...                    ...                    ...  \n",
       "195            1671.622241            1671.622241          -18302.806120  \n",
       "197           37424.937400           37424.937400           47658.593996  \n",
       "198           44942.446582           44942.446582           53128.615056  \n",
       "199           25088.036597           25088.036597           25225.443987  \n",
       "200             304.216905             304.216905           -4860.267922  \n",
       "\n",
       "[192 rows x 9 columns]"
      ]
     },
     "execution_count": 69,
     "metadata": {},
     "output_type": "execute_result"
    }
   ],
   "source": [
    "rnoise_oms = np.random.normal(mean, np.sqrt(variance), len(aux_prediction_oms))\n",
    "\n",
    "aux_prediction_oms['Stochastic regression'] = (aux_prediction_oms['linear regression']\n",
    "                                              + rnoise_oms)\n",
    "aux_prediction_oms"
   ]
  },
  {
   "cell_type": "code",
   "execution_count": 71,
   "id": "e29fda00",
   "metadata": {},
   "outputs": [
    {
     "data": {
      "text/plain": [
       "(16, 9)"
      ]
     },
     "execution_count": 71,
     "metadata": {},
     "output_type": "execute_result"
    }
   ],
   "source": [
    "aux_prediction_oms.loc[aux_prediction_oms['Stochastic regression']<0].shape"
   ]
  },
  {
   "cell_type": "code",
   "execution_count": 74,
   "id": "282478c2",
   "metadata": {
    "scrolled": false
   },
   "outputs": [
    {
     "data": {
      "application/vnd.plotly.v1+json": {
       "config": {
        "plotlyServerURL": "https://plot.ly"
       },
       "data": [
        {
         "mode": "markers",
         "name": "Linear",
         "type": "scatter",
         "x": [
          1795,
          2495,
          6994,
          8490,
          8980,
          9495,
          9950,
          11995,
          12000,
          12000,
          12000,
          12000,
          12000,
          12000,
          12000,
          12000,
          12000,
          12000,
          12000,
          12000,
          12000,
          12000,
          12000,
          12000,
          12295,
          13000,
          14000,
          14000,
          14000,
          14000,
          14000,
          14000,
          14000,
          14000,
          14000,
          14000,
          14000,
          14000,
          14000,
          14000,
          14990,
          14995,
          15475,
          15490,
          15600,
          15695,
          16498,
          17000,
          17700,
          17800,
          17950,
          18000,
          18995,
          19298,
          19980,
          19995,
          20800,
          20980,
          21000,
          21000,
          22400,
          22767,
          22767,
          22767,
          22767,
          22767,
          22767,
          22767,
          22767,
          22767,
          22767,
          23300,
          23686.112106475557,
          23686.112106475557,
          23686.112106475557,
          23686.112106475557,
          23686.112106475557,
          23686.112106475557,
          23686.112106475557,
          23686.112106475557,
          23686.112106475557,
          23686.112106475557,
          23686.112106475557,
          23686.112106475557,
          23686.112106475557,
          23686.112106475557,
          23686.112106475557,
          23686.112106475557,
          23686.112106475557,
          23686.112106475557,
          23686.112106475557,
          23686.112106475557,
          23686.112106475557,
          23686.112106475557,
          23686.112106475557,
          23686.112106475557,
          23686.112106475557,
          23686.112106475557,
          23686.112106475557,
          23686.112106475557,
          23686.112106475557,
          23686.112106475557,
          23686.112106475557,
          23686.112106475557,
          23686.112106475557,
          23686.112106475557,
          23686.112106475557,
          23686.112106475557,
          23686.112106475557,
          23686.112106475557,
          23686.112106475557,
          23686.112106475557,
          23686.112106475557,
          23686.112106475557,
          23686.112106475557,
          23686.112106475557,
          23686.112106475557,
          23686.112106475557,
          23686.112106475557,
          23686.112106475557,
          23686.112106475557,
          23686.112106475557,
          23686.112106475557,
          23686.112106475557,
          23686.112106475557,
          23686.112106475557,
          23686.112106475557,
          23686.112106475557,
          23686.112106475557,
          23686.112106475557,
          23686.112106475557,
          23686.112106475557,
          23686.112106475557,
          23686.112106475557,
          23686.112106475557,
          23686.112106475557,
          23686.112106475557,
          23686.112106475557,
          23686.112106475557,
          23686.112106475557,
          23686.112106475557,
          23686.112106475557,
          23686.112106475557,
          23686.112106475557,
          23686.112106475557,
          23686.112106475557,
          23686.112106475557,
          23686.112106475557,
          23686.112106475557,
          23686.112106475557,
          23686.112106475557,
          23686.112106475557,
          23686.112106475557,
          23686.112106475557,
          23686.112106475557,
          23686.112106475557,
          23686.112106475557,
          23686.112106475557,
          23686.112106475557,
          23686.112106475557,
          23686.112106475557,
          23686.112106475557,
          23686.112106475557,
          23686.112106475557,
          23686.112106475557,
          23686.112106475557,
          23686.112106475557,
          23686.112106475557,
          23686.112106475557,
          23686.112106475557,
          23686.112106475557,
          23980,
          23995,
          25995,
          26890,
          28990,
          28990,
          29880,
          29899,
          29980,
          29989,
          30399,
          30480,
          30495,
          30999,
          31900,
          31980,
          32980,
          34480,
          35880,
          35999,
          36890,
          36890,
          37899,
          37990,
          39950,
          40995,
          42890,
          46950,
          48980,
          59740
         ],
         "y": [
          125327.8918695189,
          112643.10142621957,
          78973.31424015202,
          71814.74895841442,
          59279.51847377233,
          113750.89809494093,
          70774.95115062222,
          63225.39340554178,
          44942.446582473814,
          44942.446582473814,
          44942.446582473814,
          44942.446582473814,
          44942.446582473814,
          44942.446582473814,
          44942.446582473814,
          44942.446582473814,
          44942.446582473814,
          44942.446582473814,
          44942.446582473814,
          44942.446582473814,
          44942.446582473814,
          44942.446582473814,
          44942.446582473814,
          44942.446582473814,
          38639.221826188266,
          44230.25630316511,
          37424.93739996478,
          37424.93739996478,
          37424.93739996478,
          37424.93739996478,
          37424.93739996478,
          37424.93739996478,
          37424.93739996478,
          37424.93739996478,
          37424.93739996478,
          37424.93739996478,
          37424.93739996478,
          37424.93739996478,
          37424.93739996478,
          37424.93739996478,
          48906.12627122924,
          97647.59431095608,
          36374.45673798397,
          37710.90498819202,
          36285.43295306899,
          42310.9035004247,
          29552.757458359003,
          41381.495185924694,
          40882.9619904086,
          34718.61433858797,
          34611.78579669073,
          34576.17628272623,
          27902.9237105418,
          9279.23880461976,
          14886.653658021241,
          39248.48529939167,
          26488.914876768366,
          26360.720626492053,
          32439.605444796383,
          26346.476820906624,
          25349.410429872572,
          25088.036597365513,
          25088.036597365513,
          25088.036597365513,
          25088.036597365513,
          25088.036597365513,
          25088.036597365513,
          25088.036597365513,
          25088.036597365513,
          25088.036597365513,
          25088.036597365513,
          24708.439178492874,
          21264.427979055792,
          21264.427979055792,
          21264.427979055792,
          21264.427979055792,
          21264.427979055792,
          21264.427979055792,
          21264.427979055792,
          21264.427979055792,
          21264.427979055792,
          21264.427979055792,
          21264.427979055792,
          21264.427979055792,
          21264.427979055792,
          21264.427979055792,
          21264.427979055792,
          21264.427979055792,
          21264.427979055792,
          21264.427979055792,
          21264.427979055792,
          21264.427979055792,
          21264.427979055792,
          21264.427979055792,
          21264.427979055792,
          21264.427979055792,
          21264.427979055792,
          21264.427979055792,
          21264.427979055792,
          21264.427979055792,
          21264.427979055792,
          21264.427979055792,
          21264.427979055792,
          21264.427979055792,
          21264.427979055792,
          21264.427979055792,
          21264.427979055792,
          21264.427979055792,
          21264.427979055792,
          21264.427979055792,
          21264.427979055792,
          21264.427979055792,
          21264.427979055792,
          21264.427979055792,
          21264.427979055792,
          21264.427979055792,
          21264.427979055792,
          21264.427979055792,
          21264.427979055792,
          21264.427979055792,
          21264.427979055792,
          21264.427979055792,
          21264.427979055792,
          21264.427979055792,
          21264.427979055792,
          21264.427979055792,
          21264.427979055792,
          21264.427979055792,
          21264.427979055792,
          21264.427979055792,
          21264.427979055792,
          21264.427979055792,
          21264.427979055792,
          21264.427979055792,
          21264.427979055792,
          21264.427979055792,
          21264.427979055792,
          21264.427979055792,
          21264.427979055792,
          21264.427979055792,
          21264.427979055792,
          21264.427979055792,
          21264.427979055792,
          21264.427979055792,
          21264.427979055792,
          21264.427979055792,
          21264.427979055792,
          21264.427979055792,
          21264.427979055792,
          21264.427979055792,
          21264.427979055792,
          21264.427979055792,
          21264.427979055792,
          21264.427979055792,
          21264.427979055792,
          21264.427979055792,
          21264.427979055792,
          21264.427979055792,
          21264.427979055792,
          21264.427979055792,
          21264.427979055792,
          21264.427979055792,
          21264.427979055792,
          21264.427979055792,
          21264.427979055792,
          21264.427979055792,
          21264.427979055792,
          21264.427979055792,
          21264.427979055792,
          21264.427979055792,
          21264.427979055792,
          24224.14978856221,
          18120.33831048198,
          22789.086375754327,
          9965.41882799007,
          8469.819241439924,
          8469.819241439924,
          7835.969892853871,
          7822.438277546316,
          1671.6222410332412,
          1665.2125285193324,
          7466.343137891963,
          1315.5271013770252,
          1304.844247188419,
          945.9003464151174,
          304.2169047575444,
          247.24168241210282,
          5628.1800269931555,
          -1533.2340158615261,
          3562.8282169941813,
          -2615.051050134003,
          -3249.6125889979303,
          -3249.6125889979303,
          -3968.212580822408,
          2060.106727650389,
          -5428.914843685925,
          18199.36080999486,
          -7522.75426485762,
          7865.139072814956,
          -11859.993065854535,
          -1243.7745995577425
         ]
        },
        {
         "mode": "markers",
         "name": "Stochastic",
         "type": "scatter",
         "x": [
          1795,
          2495,
          6994,
          8490,
          8980,
          9495,
          9950,
          11995,
          12000,
          12000,
          12000,
          12000,
          12000,
          12000,
          12000,
          12000,
          12000,
          12000,
          12000,
          12000,
          12000,
          12000,
          12000,
          12000,
          12295,
          13000,
          14000,
          14000,
          14000,
          14000,
          14000,
          14000,
          14000,
          14000,
          14000,
          14000,
          14000,
          14000,
          14000,
          14000,
          14990,
          14995,
          15475,
          15490,
          15600,
          15695,
          16498,
          17000,
          17700,
          17800,
          17950,
          18000,
          18995,
          19298,
          19980,
          19995,
          20800,
          20980,
          21000,
          21000,
          22400,
          22767,
          22767,
          22767,
          22767,
          22767,
          22767,
          22767,
          22767,
          22767,
          22767,
          23300,
          23686.112106475557,
          23686.112106475557,
          23686.112106475557,
          23686.112106475557,
          23686.112106475557,
          23686.112106475557,
          23686.112106475557,
          23686.112106475557,
          23686.112106475557,
          23686.112106475557,
          23686.112106475557,
          23686.112106475557,
          23686.112106475557,
          23686.112106475557,
          23686.112106475557,
          23686.112106475557,
          23686.112106475557,
          23686.112106475557,
          23686.112106475557,
          23686.112106475557,
          23686.112106475557,
          23686.112106475557,
          23686.112106475557,
          23686.112106475557,
          23686.112106475557,
          23686.112106475557,
          23686.112106475557,
          23686.112106475557,
          23686.112106475557,
          23686.112106475557,
          23686.112106475557,
          23686.112106475557,
          23686.112106475557,
          23686.112106475557,
          23686.112106475557,
          23686.112106475557,
          23686.112106475557,
          23686.112106475557,
          23686.112106475557,
          23686.112106475557,
          23686.112106475557,
          23686.112106475557,
          23686.112106475557,
          23686.112106475557,
          23686.112106475557,
          23686.112106475557,
          23686.112106475557,
          23686.112106475557,
          23686.112106475557,
          23686.112106475557,
          23686.112106475557,
          23686.112106475557,
          23686.112106475557,
          23686.112106475557,
          23686.112106475557,
          23686.112106475557,
          23686.112106475557,
          23686.112106475557,
          23686.112106475557,
          23686.112106475557,
          23686.112106475557,
          23686.112106475557,
          23686.112106475557,
          23686.112106475557,
          23686.112106475557,
          23686.112106475557,
          23686.112106475557,
          23686.112106475557,
          23686.112106475557,
          23686.112106475557,
          23686.112106475557,
          23686.112106475557,
          23686.112106475557,
          23686.112106475557,
          23686.112106475557,
          23686.112106475557,
          23686.112106475557,
          23686.112106475557,
          23686.112106475557,
          23686.112106475557,
          23686.112106475557,
          23686.112106475557,
          23686.112106475557,
          23686.112106475557,
          23686.112106475557,
          23686.112106475557,
          23686.112106475557,
          23686.112106475557,
          23686.112106475557,
          23686.112106475557,
          23686.112106475557,
          23686.112106475557,
          23686.112106475557,
          23686.112106475557,
          23686.112106475557,
          23686.112106475557,
          23686.112106475557,
          23686.112106475557,
          23686.112106475557,
          23980,
          23995,
          25995,
          26890,
          28990,
          28990,
          29880,
          29899,
          29980,
          29989,
          30399,
          30480,
          30495,
          30999,
          31900,
          31980,
          32980,
          34480,
          35880,
          35999,
          36890,
          36890,
          37899,
          37990,
          39950,
          40995,
          42890,
          46950,
          48980,
          59740
         ],
         "y": [
          106273.5438032975,
          99154.85821554798,
          87205.1182259734,
          54275.62164796748,
          64716.5156994923,
          115777.90670174392,
          90761.86936828532,
          69852.09277689847,
          34996.83729028881,
          41078.801047933164,
          61108.33027142427,
          40992.09574322525,
          20706.727139237173,
          29139.64788146255,
          49469.82156995916,
          41643.26143664537,
          37004.03559047104,
          44802.34719036693,
          42030.43558216306,
          39820.0329205553,
          34012.206267268,
          43782.50602318391,
          61635.395615936635,
          24187.48546868501,
          55396.26740408795,
          54113.098073567126,
          59078.85132801891,
          35353.09352856144,
          23300.65348863959,
          31384.80353355262,
          25291.697269289212,
          15156.789515364002,
          41386.18418192749,
          46655.683367975165,
          22599.235918354767,
          30190.984712782483,
          32312.995520207067,
          25303.6506362519,
          38715.317366139294,
          11820.404802717108,
          46322.56258177201,
          117346.3053710805,
          41063.97534583357,
          56665.34518004697,
          47446.560916659306,
          63288.53643108388,
          26759.404643262507,
          54728.25910968903,
          75775.65733805209,
          32886.32312578617,
          19971.397094758533,
          35678.95292131667,
          36564.72475262636,
          7436.723215719142,
          14633.82880780582,
          37070.00323812783,
          18738.169485559738,
          15834.646248384139,
          23071.63425078549,
          11352.083231346935,
          44947.739927742834,
          21312.97074080209,
          20974.103746222212,
          28639.218936885714,
          22267.456849014186,
          25186.460769309473,
          18924.843630961786,
          32221.746184855518,
          21175.819615295262,
          6822.765778476947,
          29390.654110215906,
          57094.16286962015,
          20628.666651452055,
          9642.178608968881,
          -5777.202093550353,
          32643.030977564224,
          14165.604259656673,
          13331.009550077453,
          40224.778595069394,
          31465.20122527172,
          28941.63601677488,
          27100.112801946972,
          18019.303264212762,
          39648.28902901054,
          20697.405035206375,
          2364.703936622951,
          2827.714341194209,
          10339.120081059571,
          10753.42281842287,
          33724.70519026602,
          13392.182998755085,
          27669.75369855361,
          30792.001034163324,
          20929.167728497872,
          21603.873442973545,
          29401.49923638593,
          14475.282174604874,
          36628.769343095955,
          24655.327436679676,
          23676.889708843955,
          34702.43219073293,
          32779.043891757596,
          19578.232802986382,
          45095.24841676954,
          35352.24268605038,
          4560.337350284248,
          29212.60573234884,
          34178.52166138857,
          36064.6251322786,
          20722.38746938349,
          29537.55514660274,
          3944.799573999666,
          808.9455991215109,
          23473.101478573597,
          3102.823849459968,
          1688.30813208385,
          28743.290784052086,
          31560.632889155422,
          25347.10452316216,
          42761.89969967219,
          29718.22484745376,
          3867.9152376233724,
          24418.525065939863,
          12614.460662386733,
          19302.88610692663,
          361.16855830839995,
          20216.281339979687,
          20690.627987539312,
          12196.39763890703,
          34318.047098756484,
          8189.860196103578,
          24780.957468228713,
          30670.62046662538,
          19077.16486187613,
          32933.98263429278,
          34442.84623607694,
          -1850.5318007428214,
          24627.197509899503,
          14177.809577069062,
          6086.993362537005,
          24411.35869603161,
          32749.696885252328,
          14834.91708907003,
          25527.03593488167,
          16904.3787274049,
          29612.839636196986,
          20871.544893000282,
          33768.479112075736,
          21298.65169727891,
          6387.198832820097,
          32639.431842498772,
          6546.665412823726,
          24388.862175721682,
          41802.05135813463,
          29910.030533712714,
          3704.1576530270686,
          25371.24229710595,
          22722.48268611669,
          21762.899635270023,
          16557.968251153983,
          43348.85433497859,
          18296.831516854312,
          40059.37883137588,
          -6831.6206449474885,
          7424.590759260433,
          36267.17265026909,
          31467.35928083302,
          22201.034856166178,
          27623.816456650522,
          28971.313671557797,
          1886.0276886639367,
          11943.936741930938,
          42516.60756595335,
          2893.4114953265125,
          23110.16254382249,
          -4285.304286768627,
          -1540.6541580431112,
          10886.15257567872,
          -6008.8607581114065,
          -4400.564161151263,
          -18282.132655080743,
          33514.36081532268,
          -23406.45375122716,
          23964.994272645403,
          12959.44348181751,
          16700.900288311022,
          -20921.68104462305,
          7019.5700403562605,
          -9984.830625772618,
          870.7060827219548,
          -15196.393566455889,
          -4122.898126447534,
          -21697.656516624258,
          -12746.260235617443,
          27302.096429984493,
          1028.1707337596608,
          -3718.9432407755958,
          -38547.788761207266,
          2696.64231291995,
          1793.9608296364295,
          27991.078558817648
         ]
        }
       ],
       "layout": {
        "template": {
         "data": {
          "bar": [
           {
            "error_x": {
             "color": "#2a3f5f"
            },
            "error_y": {
             "color": "#2a3f5f"
            },
            "marker": {
             "line": {
              "color": "#E5ECF6",
              "width": 0.5
             },
             "pattern": {
              "fillmode": "overlay",
              "size": 10,
              "solidity": 0.2
             }
            },
            "type": "bar"
           }
          ],
          "barpolar": [
           {
            "marker": {
             "line": {
              "color": "#E5ECF6",
              "width": 0.5
             },
             "pattern": {
              "fillmode": "overlay",
              "size": 10,
              "solidity": 0.2
             }
            },
            "type": "barpolar"
           }
          ],
          "carpet": [
           {
            "aaxis": {
             "endlinecolor": "#2a3f5f",
             "gridcolor": "white",
             "linecolor": "white",
             "minorgridcolor": "white",
             "startlinecolor": "#2a3f5f"
            },
            "baxis": {
             "endlinecolor": "#2a3f5f",
             "gridcolor": "white",
             "linecolor": "white",
             "minorgridcolor": "white",
             "startlinecolor": "#2a3f5f"
            },
            "type": "carpet"
           }
          ],
          "choropleth": [
           {
            "colorbar": {
             "outlinewidth": 0,
             "ticks": ""
            },
            "type": "choropleth"
           }
          ],
          "contour": [
           {
            "colorbar": {
             "outlinewidth": 0,
             "ticks": ""
            },
            "colorscale": [
             [
              0,
              "#0d0887"
             ],
             [
              0.1111111111111111,
              "#46039f"
             ],
             [
              0.2222222222222222,
              "#7201a8"
             ],
             [
              0.3333333333333333,
              "#9c179e"
             ],
             [
              0.4444444444444444,
              "#bd3786"
             ],
             [
              0.5555555555555556,
              "#d8576b"
             ],
             [
              0.6666666666666666,
              "#ed7953"
             ],
             [
              0.7777777777777778,
              "#fb9f3a"
             ],
             [
              0.8888888888888888,
              "#fdca26"
             ],
             [
              1,
              "#f0f921"
             ]
            ],
            "type": "contour"
           }
          ],
          "contourcarpet": [
           {
            "colorbar": {
             "outlinewidth": 0,
             "ticks": ""
            },
            "type": "contourcarpet"
           }
          ],
          "heatmap": [
           {
            "colorbar": {
             "outlinewidth": 0,
             "ticks": ""
            },
            "colorscale": [
             [
              0,
              "#0d0887"
             ],
             [
              0.1111111111111111,
              "#46039f"
             ],
             [
              0.2222222222222222,
              "#7201a8"
             ],
             [
              0.3333333333333333,
              "#9c179e"
             ],
             [
              0.4444444444444444,
              "#bd3786"
             ],
             [
              0.5555555555555556,
              "#d8576b"
             ],
             [
              0.6666666666666666,
              "#ed7953"
             ],
             [
              0.7777777777777778,
              "#fb9f3a"
             ],
             [
              0.8888888888888888,
              "#fdca26"
             ],
             [
              1,
              "#f0f921"
             ]
            ],
            "type": "heatmap"
           }
          ],
          "heatmapgl": [
           {
            "colorbar": {
             "outlinewidth": 0,
             "ticks": ""
            },
            "colorscale": [
             [
              0,
              "#0d0887"
             ],
             [
              0.1111111111111111,
              "#46039f"
             ],
             [
              0.2222222222222222,
              "#7201a8"
             ],
             [
              0.3333333333333333,
              "#9c179e"
             ],
             [
              0.4444444444444444,
              "#bd3786"
             ],
             [
              0.5555555555555556,
              "#d8576b"
             ],
             [
              0.6666666666666666,
              "#ed7953"
             ],
             [
              0.7777777777777778,
              "#fb9f3a"
             ],
             [
              0.8888888888888888,
              "#fdca26"
             ],
             [
              1,
              "#f0f921"
             ]
            ],
            "type": "heatmapgl"
           }
          ],
          "histogram": [
           {
            "marker": {
             "pattern": {
              "fillmode": "overlay",
              "size": 10,
              "solidity": 0.2
             }
            },
            "type": "histogram"
           }
          ],
          "histogram2d": [
           {
            "colorbar": {
             "outlinewidth": 0,
             "ticks": ""
            },
            "colorscale": [
             [
              0,
              "#0d0887"
             ],
             [
              0.1111111111111111,
              "#46039f"
             ],
             [
              0.2222222222222222,
              "#7201a8"
             ],
             [
              0.3333333333333333,
              "#9c179e"
             ],
             [
              0.4444444444444444,
              "#bd3786"
             ],
             [
              0.5555555555555556,
              "#d8576b"
             ],
             [
              0.6666666666666666,
              "#ed7953"
             ],
             [
              0.7777777777777778,
              "#fb9f3a"
             ],
             [
              0.8888888888888888,
              "#fdca26"
             ],
             [
              1,
              "#f0f921"
             ]
            ],
            "type": "histogram2d"
           }
          ],
          "histogram2dcontour": [
           {
            "colorbar": {
             "outlinewidth": 0,
             "ticks": ""
            },
            "colorscale": [
             [
              0,
              "#0d0887"
             ],
             [
              0.1111111111111111,
              "#46039f"
             ],
             [
              0.2222222222222222,
              "#7201a8"
             ],
             [
              0.3333333333333333,
              "#9c179e"
             ],
             [
              0.4444444444444444,
              "#bd3786"
             ],
             [
              0.5555555555555556,
              "#d8576b"
             ],
             [
              0.6666666666666666,
              "#ed7953"
             ],
             [
              0.7777777777777778,
              "#fb9f3a"
             ],
             [
              0.8888888888888888,
              "#fdca26"
             ],
             [
              1,
              "#f0f921"
             ]
            ],
            "type": "histogram2dcontour"
           }
          ],
          "mesh3d": [
           {
            "colorbar": {
             "outlinewidth": 0,
             "ticks": ""
            },
            "type": "mesh3d"
           }
          ],
          "parcoords": [
           {
            "line": {
             "colorbar": {
              "outlinewidth": 0,
              "ticks": ""
             }
            },
            "type": "parcoords"
           }
          ],
          "pie": [
           {
            "automargin": true,
            "type": "pie"
           }
          ],
          "scatter": [
           {
            "marker": {
             "colorbar": {
              "outlinewidth": 0,
              "ticks": ""
             }
            },
            "type": "scatter"
           }
          ],
          "scatter3d": [
           {
            "line": {
             "colorbar": {
              "outlinewidth": 0,
              "ticks": ""
             }
            },
            "marker": {
             "colorbar": {
              "outlinewidth": 0,
              "ticks": ""
             }
            },
            "type": "scatter3d"
           }
          ],
          "scattercarpet": [
           {
            "marker": {
             "colorbar": {
              "outlinewidth": 0,
              "ticks": ""
             }
            },
            "type": "scattercarpet"
           }
          ],
          "scattergeo": [
           {
            "marker": {
             "colorbar": {
              "outlinewidth": 0,
              "ticks": ""
             }
            },
            "type": "scattergeo"
           }
          ],
          "scattergl": [
           {
            "marker": {
             "colorbar": {
              "outlinewidth": 0,
              "ticks": ""
             }
            },
            "type": "scattergl"
           }
          ],
          "scattermapbox": [
           {
            "marker": {
             "colorbar": {
              "outlinewidth": 0,
              "ticks": ""
             }
            },
            "type": "scattermapbox"
           }
          ],
          "scatterpolar": [
           {
            "marker": {
             "colorbar": {
              "outlinewidth": 0,
              "ticks": ""
             }
            },
            "type": "scatterpolar"
           }
          ],
          "scatterpolargl": [
           {
            "marker": {
             "colorbar": {
              "outlinewidth": 0,
              "ticks": ""
             }
            },
            "type": "scatterpolargl"
           }
          ],
          "scatterternary": [
           {
            "marker": {
             "colorbar": {
              "outlinewidth": 0,
              "ticks": ""
             }
            },
            "type": "scatterternary"
           }
          ],
          "surface": [
           {
            "colorbar": {
             "outlinewidth": 0,
             "ticks": ""
            },
            "colorscale": [
             [
              0,
              "#0d0887"
             ],
             [
              0.1111111111111111,
              "#46039f"
             ],
             [
              0.2222222222222222,
              "#7201a8"
             ],
             [
              0.3333333333333333,
              "#9c179e"
             ],
             [
              0.4444444444444444,
              "#bd3786"
             ],
             [
              0.5555555555555556,
              "#d8576b"
             ],
             [
              0.6666666666666666,
              "#ed7953"
             ],
             [
              0.7777777777777778,
              "#fb9f3a"
             ],
             [
              0.8888888888888888,
              "#fdca26"
             ],
             [
              1,
              "#f0f921"
             ]
            ],
            "type": "surface"
           }
          ],
          "table": [
           {
            "cells": {
             "fill": {
              "color": "#EBF0F8"
             },
             "line": {
              "color": "white"
             }
            },
            "header": {
             "fill": {
              "color": "#C8D4E3"
             },
             "line": {
              "color": "white"
             }
            },
            "type": "table"
           }
          ]
         },
         "layout": {
          "annotationdefaults": {
           "arrowcolor": "#2a3f5f",
           "arrowhead": 0,
           "arrowwidth": 1
          },
          "autotypenumbers": "strict",
          "coloraxis": {
           "colorbar": {
            "outlinewidth": 0,
            "ticks": ""
           }
          },
          "colorscale": {
           "diverging": [
            [
             0,
             "#8e0152"
            ],
            [
             0.1,
             "#c51b7d"
            ],
            [
             0.2,
             "#de77ae"
            ],
            [
             0.3,
             "#f1b6da"
            ],
            [
             0.4,
             "#fde0ef"
            ],
            [
             0.5,
             "#f7f7f7"
            ],
            [
             0.6,
             "#e6f5d0"
            ],
            [
             0.7,
             "#b8e186"
            ],
            [
             0.8,
             "#7fbc41"
            ],
            [
             0.9,
             "#4d9221"
            ],
            [
             1,
             "#276419"
            ]
           ],
           "sequential": [
            [
             0,
             "#0d0887"
            ],
            [
             0.1111111111111111,
             "#46039f"
            ],
            [
             0.2222222222222222,
             "#7201a8"
            ],
            [
             0.3333333333333333,
             "#9c179e"
            ],
            [
             0.4444444444444444,
             "#bd3786"
            ],
            [
             0.5555555555555556,
             "#d8576b"
            ],
            [
             0.6666666666666666,
             "#ed7953"
            ],
            [
             0.7777777777777778,
             "#fb9f3a"
            ],
            [
             0.8888888888888888,
             "#fdca26"
            ],
            [
             1,
             "#f0f921"
            ]
           ],
           "sequentialminus": [
            [
             0,
             "#0d0887"
            ],
            [
             0.1111111111111111,
             "#46039f"
            ],
            [
             0.2222222222222222,
             "#7201a8"
            ],
            [
             0.3333333333333333,
             "#9c179e"
            ],
            [
             0.4444444444444444,
             "#bd3786"
            ],
            [
             0.5555555555555556,
             "#d8576b"
            ],
            [
             0.6666666666666666,
             "#ed7953"
            ],
            [
             0.7777777777777778,
             "#fb9f3a"
            ],
            [
             0.8888888888888888,
             "#fdca26"
            ],
            [
             1,
             "#f0f921"
            ]
           ]
          },
          "colorway": [
           "#636efa",
           "#EF553B",
           "#00cc96",
           "#ab63fa",
           "#FFA15A",
           "#19d3f3",
           "#FF6692",
           "#B6E880",
           "#FF97FF",
           "#FECB52"
          ],
          "font": {
           "color": "#2a3f5f"
          },
          "geo": {
           "bgcolor": "white",
           "lakecolor": "white",
           "landcolor": "#E5ECF6",
           "showlakes": true,
           "showland": true,
           "subunitcolor": "white"
          },
          "hoverlabel": {
           "align": "left"
          },
          "hovermode": "closest",
          "mapbox": {
           "style": "light"
          },
          "paper_bgcolor": "white",
          "plot_bgcolor": "#E5ECF6",
          "polar": {
           "angularaxis": {
            "gridcolor": "white",
            "linecolor": "white",
            "ticks": ""
           },
           "bgcolor": "#E5ECF6",
           "radialaxis": {
            "gridcolor": "white",
            "linecolor": "white",
            "ticks": ""
           }
          },
          "scene": {
           "xaxis": {
            "backgroundcolor": "#E5ECF6",
            "gridcolor": "white",
            "gridwidth": 2,
            "linecolor": "white",
            "showbackground": true,
            "ticks": "",
            "zerolinecolor": "white"
           },
           "yaxis": {
            "backgroundcolor": "#E5ECF6",
            "gridcolor": "white",
            "gridwidth": 2,
            "linecolor": "white",
            "showbackground": true,
            "ticks": "",
            "zerolinecolor": "white"
           },
           "zaxis": {
            "backgroundcolor": "#E5ECF6",
            "gridcolor": "white",
            "gridwidth": 2,
            "linecolor": "white",
            "showbackground": true,
            "ticks": "",
            "zerolinecolor": "white"
           }
          },
          "shapedefaults": {
           "line": {
            "color": "#2a3f5f"
           }
          },
          "ternary": {
           "aaxis": {
            "gridcolor": "white",
            "linecolor": "white",
            "ticks": ""
           },
           "baxis": {
            "gridcolor": "white",
            "linecolor": "white",
            "ticks": ""
           },
           "bgcolor": "#E5ECF6",
           "caxis": {
            "gridcolor": "white",
            "linecolor": "white",
            "ticks": ""
           }
          },
          "title": {
           "x": 0.05
          },
          "xaxis": {
           "automargin": true,
           "gridcolor": "white",
           "linecolor": "white",
           "ticks": "",
           "title": {
            "standoff": 15
           },
           "zerolinecolor": "white",
           "zerolinewidth": 2
          },
          "yaxis": {
           "automargin": true,
           "gridcolor": "white",
           "linecolor": "white",
           "ticks": "",
           "title": {
            "standoff": 15
           },
           "zerolinecolor": "white",
           "zerolinewidth": 2
          }
         }
        }
       }
      },
      "text/html": [
       "<div>                            <div id=\"58995153-9b80-4f70-a4d8-dbdeaf88f0fe\" class=\"plotly-graph-div\" style=\"height:525px; width:100%;\"></div>            <script type=\"text/javascript\">                require([\"plotly\"], function(Plotly) {                    window.PLOTLYENV=window.PLOTLYENV || {};                                    if (document.getElementById(\"58995153-9b80-4f70-a4d8-dbdeaf88f0fe\")) {                    Plotly.newPlot(                        \"58995153-9b80-4f70-a4d8-dbdeaf88f0fe\",                        [{\"mode\":\"markers\",\"name\":\"Linear\",\"x\":[1795.0,2495.0,6994.0,8490.0,8980.0,9495.0,9950.0,11995.0,12000.0,12000.0,12000.0,12000.0,12000.0,12000.0,12000.0,12000.0,12000.0,12000.0,12000.0,12000.0,12000.0,12000.0,12000.0,12000.0,12295.0,13000.0,14000.0,14000.0,14000.0,14000.0,14000.0,14000.0,14000.0,14000.0,14000.0,14000.0,14000.0,14000.0,14000.0,14000.0,14990.0,14995.0,15475.0,15490.0,15600.0,15695.0,16498.0,17000.0,17700.0,17800.0,17950.0,18000.0,18995.0,19298.0,19980.0,19995.0,20800.0,20980.0,21000.0,21000.0,22400.0,22767.0,22767.0,22767.0,22767.0,22767.0,22767.0,22767.0,22767.0,22767.0,22767.0,23300.0,23686.112106475557,23686.112106475557,23686.112106475557,23686.112106475557,23686.112106475557,23686.112106475557,23686.112106475557,23686.112106475557,23686.112106475557,23686.112106475557,23686.112106475557,23686.112106475557,23686.112106475557,23686.112106475557,23686.112106475557,23686.112106475557,23686.112106475557,23686.112106475557,23686.112106475557,23686.112106475557,23686.112106475557,23686.112106475557,23686.112106475557,23686.112106475557,23686.112106475557,23686.112106475557,23686.112106475557,23686.112106475557,23686.112106475557,23686.112106475557,23686.112106475557,23686.112106475557,23686.112106475557,23686.112106475557,23686.112106475557,23686.112106475557,23686.112106475557,23686.112106475557,23686.112106475557,23686.112106475557,23686.112106475557,23686.112106475557,23686.112106475557,23686.112106475557,23686.112106475557,23686.112106475557,23686.112106475557,23686.112106475557,23686.112106475557,23686.112106475557,23686.112106475557,23686.112106475557,23686.112106475557,23686.112106475557,23686.112106475557,23686.112106475557,23686.112106475557,23686.112106475557,23686.112106475557,23686.112106475557,23686.112106475557,23686.112106475557,23686.112106475557,23686.112106475557,23686.112106475557,23686.112106475557,23686.112106475557,23686.112106475557,23686.112106475557,23686.112106475557,23686.112106475557,23686.112106475557,23686.112106475557,23686.112106475557,23686.112106475557,23686.112106475557,23686.112106475557,23686.112106475557,23686.112106475557,23686.112106475557,23686.112106475557,23686.112106475557,23686.112106475557,23686.112106475557,23686.112106475557,23686.112106475557,23686.112106475557,23686.112106475557,23686.112106475557,23686.112106475557,23686.112106475557,23686.112106475557,23686.112106475557,23686.112106475557,23686.112106475557,23686.112106475557,23686.112106475557,23686.112106475557,23686.112106475557,23980.0,23995.0,25995.0,26890.0,28990.0,28990.0,29880.0,29899.0,29980.0,29989.0,30399.0,30480.0,30495.0,30999.0,31900.0,31980.0,32980.0,34480.0,35880.0,35999.0,36890.0,36890.0,37899.0,37990.0,39950.0,40995.0,42890.0,46950.0,48980.0,59740.0],\"y\":[125327.8918695189,112643.10142621957,78973.31424015202,71814.74895841442,59279.51847377233,113750.89809494093,70774.95115062222,63225.39340554178,44942.446582473814,44942.446582473814,44942.446582473814,44942.446582473814,44942.446582473814,44942.446582473814,44942.446582473814,44942.446582473814,44942.446582473814,44942.446582473814,44942.446582473814,44942.446582473814,44942.446582473814,44942.446582473814,44942.446582473814,44942.446582473814,38639.221826188266,44230.25630316511,37424.93739996478,37424.93739996478,37424.93739996478,37424.93739996478,37424.93739996478,37424.93739996478,37424.93739996478,37424.93739996478,37424.93739996478,37424.93739996478,37424.93739996478,37424.93739996478,37424.93739996478,37424.93739996478,48906.12627122924,97647.59431095608,36374.45673798397,37710.90498819202,36285.43295306899,42310.9035004247,29552.757458359003,41381.495185924694,40882.9619904086,34718.61433858797,34611.78579669073,34576.17628272623,27902.9237105418,9279.23880461976,14886.653658021241,39248.48529939167,26488.914876768366,26360.720626492053,32439.605444796383,26346.476820906624,25349.410429872572,25088.036597365513,25088.036597365513,25088.036597365513,25088.036597365513,25088.036597365513,25088.036597365513,25088.036597365513,25088.036597365513,25088.036597365513,25088.036597365513,24708.439178492874,21264.427979055792,21264.427979055792,21264.427979055792,21264.427979055792,21264.427979055792,21264.427979055792,21264.427979055792,21264.427979055792,21264.427979055792,21264.427979055792,21264.427979055792,21264.427979055792,21264.427979055792,21264.427979055792,21264.427979055792,21264.427979055792,21264.427979055792,21264.427979055792,21264.427979055792,21264.427979055792,21264.427979055792,21264.427979055792,21264.427979055792,21264.427979055792,21264.427979055792,21264.427979055792,21264.427979055792,21264.427979055792,21264.427979055792,21264.427979055792,21264.427979055792,21264.427979055792,21264.427979055792,21264.427979055792,21264.427979055792,21264.427979055792,21264.427979055792,21264.427979055792,21264.427979055792,21264.427979055792,21264.427979055792,21264.427979055792,21264.427979055792,21264.427979055792,21264.427979055792,21264.427979055792,21264.427979055792,21264.427979055792,21264.427979055792,21264.427979055792,21264.427979055792,21264.427979055792,21264.427979055792,21264.427979055792,21264.427979055792,21264.427979055792,21264.427979055792,21264.427979055792,21264.427979055792,21264.427979055792,21264.427979055792,21264.427979055792,21264.427979055792,21264.427979055792,21264.427979055792,21264.427979055792,21264.427979055792,21264.427979055792,21264.427979055792,21264.427979055792,21264.427979055792,21264.427979055792,21264.427979055792,21264.427979055792,21264.427979055792,21264.427979055792,21264.427979055792,21264.427979055792,21264.427979055792,21264.427979055792,21264.427979055792,21264.427979055792,21264.427979055792,21264.427979055792,21264.427979055792,21264.427979055792,21264.427979055792,21264.427979055792,21264.427979055792,21264.427979055792,21264.427979055792,21264.427979055792,21264.427979055792,21264.427979055792,21264.427979055792,21264.427979055792,21264.427979055792,21264.427979055792,21264.427979055792,24224.14978856221,18120.33831048198,22789.086375754327,9965.41882799007,8469.819241439924,8469.819241439924,7835.969892853871,7822.438277546316,1671.6222410332412,1665.2125285193324,7466.343137891963,1315.5271013770252,1304.844247188419,945.9003464151174,304.2169047575444,247.24168241210282,5628.1800269931555,-1533.2340158615261,3562.8282169941813,-2615.051050134003,-3249.6125889979303,-3249.6125889979303,-3968.212580822408,2060.106727650389,-5428.914843685925,18199.36080999486,-7522.75426485762,7865.139072814956,-11859.993065854535,-1243.7745995577425],\"type\":\"scatter\"},{\"mode\":\"markers\",\"name\":\"Stochastic\",\"x\":[1795.0,2495.0,6994.0,8490.0,8980.0,9495.0,9950.0,11995.0,12000.0,12000.0,12000.0,12000.0,12000.0,12000.0,12000.0,12000.0,12000.0,12000.0,12000.0,12000.0,12000.0,12000.0,12000.0,12000.0,12295.0,13000.0,14000.0,14000.0,14000.0,14000.0,14000.0,14000.0,14000.0,14000.0,14000.0,14000.0,14000.0,14000.0,14000.0,14000.0,14990.0,14995.0,15475.0,15490.0,15600.0,15695.0,16498.0,17000.0,17700.0,17800.0,17950.0,18000.0,18995.0,19298.0,19980.0,19995.0,20800.0,20980.0,21000.0,21000.0,22400.0,22767.0,22767.0,22767.0,22767.0,22767.0,22767.0,22767.0,22767.0,22767.0,22767.0,23300.0,23686.112106475557,23686.112106475557,23686.112106475557,23686.112106475557,23686.112106475557,23686.112106475557,23686.112106475557,23686.112106475557,23686.112106475557,23686.112106475557,23686.112106475557,23686.112106475557,23686.112106475557,23686.112106475557,23686.112106475557,23686.112106475557,23686.112106475557,23686.112106475557,23686.112106475557,23686.112106475557,23686.112106475557,23686.112106475557,23686.112106475557,23686.112106475557,23686.112106475557,23686.112106475557,23686.112106475557,23686.112106475557,23686.112106475557,23686.112106475557,23686.112106475557,23686.112106475557,23686.112106475557,23686.112106475557,23686.112106475557,23686.112106475557,23686.112106475557,23686.112106475557,23686.112106475557,23686.112106475557,23686.112106475557,23686.112106475557,23686.112106475557,23686.112106475557,23686.112106475557,23686.112106475557,23686.112106475557,23686.112106475557,23686.112106475557,23686.112106475557,23686.112106475557,23686.112106475557,23686.112106475557,23686.112106475557,23686.112106475557,23686.112106475557,23686.112106475557,23686.112106475557,23686.112106475557,23686.112106475557,23686.112106475557,23686.112106475557,23686.112106475557,23686.112106475557,23686.112106475557,23686.112106475557,23686.112106475557,23686.112106475557,23686.112106475557,23686.112106475557,23686.112106475557,23686.112106475557,23686.112106475557,23686.112106475557,23686.112106475557,23686.112106475557,23686.112106475557,23686.112106475557,23686.112106475557,23686.112106475557,23686.112106475557,23686.112106475557,23686.112106475557,23686.112106475557,23686.112106475557,23686.112106475557,23686.112106475557,23686.112106475557,23686.112106475557,23686.112106475557,23686.112106475557,23686.112106475557,23686.112106475557,23686.112106475557,23686.112106475557,23686.112106475557,23686.112106475557,23686.112106475557,23686.112106475557,23980.0,23995.0,25995.0,26890.0,28990.0,28990.0,29880.0,29899.0,29980.0,29989.0,30399.0,30480.0,30495.0,30999.0,31900.0,31980.0,32980.0,34480.0,35880.0,35999.0,36890.0,36890.0,37899.0,37990.0,39950.0,40995.0,42890.0,46950.0,48980.0,59740.0],\"y\":[106273.5438032975,99154.85821554798,87205.1182259734,54275.62164796748,64716.5156994923,115777.90670174392,90761.86936828532,69852.09277689847,34996.83729028881,41078.801047933164,61108.33027142427,40992.09574322525,20706.727139237173,29139.64788146255,49469.82156995916,41643.26143664537,37004.03559047104,44802.34719036693,42030.43558216306,39820.0329205553,34012.206267268,43782.50602318391,61635.395615936635,24187.48546868501,55396.26740408795,54113.098073567126,59078.85132801891,35353.09352856144,23300.65348863959,31384.80353355262,25291.697269289212,15156.789515364002,41386.18418192749,46655.683367975165,22599.235918354767,30190.984712782483,32312.995520207067,25303.6506362519,38715.317366139294,11820.404802717108,46322.56258177201,117346.3053710805,41063.97534583357,56665.34518004697,47446.560916659306,63288.53643108388,26759.404643262507,54728.25910968903,75775.65733805209,32886.32312578617,19971.397094758533,35678.95292131667,36564.72475262636,7436.723215719142,14633.82880780582,37070.00323812783,18738.169485559738,15834.646248384139,23071.63425078549,11352.083231346935,44947.739927742834,21312.97074080209,20974.103746222212,28639.218936885714,22267.456849014186,25186.460769309473,18924.843630961786,32221.746184855518,21175.819615295262,6822.765778476947,29390.654110215906,57094.16286962015,20628.666651452055,9642.178608968881,-5777.202093550353,32643.030977564224,14165.604259656673,13331.009550077453,40224.778595069394,31465.20122527172,28941.63601677488,27100.112801946972,18019.303264212762,39648.28902901054,20697.405035206375,2364.703936622951,2827.714341194209,10339.120081059571,10753.42281842287,33724.70519026602,13392.182998755085,27669.75369855361,30792.001034163324,20929.167728497872,21603.873442973545,29401.49923638593,14475.282174604874,36628.769343095955,24655.327436679676,23676.889708843955,34702.43219073293,32779.043891757596,19578.232802986382,45095.24841676954,35352.24268605038,4560.337350284248,29212.60573234884,34178.52166138857,36064.6251322786,20722.38746938349,29537.55514660274,3944.799573999666,808.9455991215109,23473.101478573597,3102.823849459968,1688.30813208385,28743.290784052086,31560.632889155422,25347.10452316216,42761.89969967219,29718.22484745376,3867.9152376233724,24418.525065939863,12614.460662386733,19302.88610692663,361.16855830839995,20216.281339979687,20690.627987539312,12196.39763890703,34318.047098756484,8189.860196103578,24780.957468228713,30670.62046662538,19077.16486187613,32933.98263429278,34442.84623607694,-1850.5318007428214,24627.197509899503,14177.809577069062,6086.993362537005,24411.35869603161,32749.696885252328,14834.91708907003,25527.03593488167,16904.3787274049,29612.839636196986,20871.544893000282,33768.479112075736,21298.65169727891,6387.198832820097,32639.431842498772,6546.665412823726,24388.862175721682,41802.05135813463,29910.030533712714,3704.1576530270686,25371.24229710595,22722.48268611669,21762.899635270023,16557.968251153983,43348.85433497859,18296.831516854312,40059.37883137588,-6831.6206449474885,7424.590759260433,36267.17265026909,31467.35928083302,22201.034856166178,27623.816456650522,28971.313671557797,1886.0276886639367,11943.936741930938,42516.60756595335,2893.4114953265125,23110.16254382249,-4285.304286768627,-1540.6541580431112,10886.15257567872,-6008.8607581114065,-4400.564161151263,-18282.132655080743,33514.36081532268,-23406.45375122716,23964.994272645403,12959.44348181751,16700.900288311022,-20921.68104462305,7019.5700403562605,-9984.830625772618,870.7060827219548,-15196.393566455889,-4122.898126447534,-21697.656516624258,-12746.260235617443,27302.096429984493,1028.1707337596608,-3718.9432407755958,-38547.788761207266,2696.64231291995,1793.9608296364295,27991.078558817648],\"type\":\"scatter\"}],                        {\"template\":{\"data\":{\"bar\":[{\"error_x\":{\"color\":\"#2a3f5f\"},\"error_y\":{\"color\":\"#2a3f5f\"},\"marker\":{\"line\":{\"color\":\"#E5ECF6\",\"width\":0.5},\"pattern\":{\"fillmode\":\"overlay\",\"size\":10,\"solidity\":0.2}},\"type\":\"bar\"}],\"barpolar\":[{\"marker\":{\"line\":{\"color\":\"#E5ECF6\",\"width\":0.5},\"pattern\":{\"fillmode\":\"overlay\",\"size\":10,\"solidity\":0.2}},\"type\":\"barpolar\"}],\"carpet\":[{\"aaxis\":{\"endlinecolor\":\"#2a3f5f\",\"gridcolor\":\"white\",\"linecolor\":\"white\",\"minorgridcolor\":\"white\",\"startlinecolor\":\"#2a3f5f\"},\"baxis\":{\"endlinecolor\":\"#2a3f5f\",\"gridcolor\":\"white\",\"linecolor\":\"white\",\"minorgridcolor\":\"white\",\"startlinecolor\":\"#2a3f5f\"},\"type\":\"carpet\"}],\"choropleth\":[{\"colorbar\":{\"outlinewidth\":0,\"ticks\":\"\"},\"type\":\"choropleth\"}],\"contour\":[{\"colorbar\":{\"outlinewidth\":0,\"ticks\":\"\"},\"colorscale\":[[0.0,\"#0d0887\"],[0.1111111111111111,\"#46039f\"],[0.2222222222222222,\"#7201a8\"],[0.3333333333333333,\"#9c179e\"],[0.4444444444444444,\"#bd3786\"],[0.5555555555555556,\"#d8576b\"],[0.6666666666666666,\"#ed7953\"],[0.7777777777777778,\"#fb9f3a\"],[0.8888888888888888,\"#fdca26\"],[1.0,\"#f0f921\"]],\"type\":\"contour\"}],\"contourcarpet\":[{\"colorbar\":{\"outlinewidth\":0,\"ticks\":\"\"},\"type\":\"contourcarpet\"}],\"heatmap\":[{\"colorbar\":{\"outlinewidth\":0,\"ticks\":\"\"},\"colorscale\":[[0.0,\"#0d0887\"],[0.1111111111111111,\"#46039f\"],[0.2222222222222222,\"#7201a8\"],[0.3333333333333333,\"#9c179e\"],[0.4444444444444444,\"#bd3786\"],[0.5555555555555556,\"#d8576b\"],[0.6666666666666666,\"#ed7953\"],[0.7777777777777778,\"#fb9f3a\"],[0.8888888888888888,\"#fdca26\"],[1.0,\"#f0f921\"]],\"type\":\"heatmap\"}],\"heatmapgl\":[{\"colorbar\":{\"outlinewidth\":0,\"ticks\":\"\"},\"colorscale\":[[0.0,\"#0d0887\"],[0.1111111111111111,\"#46039f\"],[0.2222222222222222,\"#7201a8\"],[0.3333333333333333,\"#9c179e\"],[0.4444444444444444,\"#bd3786\"],[0.5555555555555556,\"#d8576b\"],[0.6666666666666666,\"#ed7953\"],[0.7777777777777778,\"#fb9f3a\"],[0.8888888888888888,\"#fdca26\"],[1.0,\"#f0f921\"]],\"type\":\"heatmapgl\"}],\"histogram\":[{\"marker\":{\"pattern\":{\"fillmode\":\"overlay\",\"size\":10,\"solidity\":0.2}},\"type\":\"histogram\"}],\"histogram2d\":[{\"colorbar\":{\"outlinewidth\":0,\"ticks\":\"\"},\"colorscale\":[[0.0,\"#0d0887\"],[0.1111111111111111,\"#46039f\"],[0.2222222222222222,\"#7201a8\"],[0.3333333333333333,\"#9c179e\"],[0.4444444444444444,\"#bd3786\"],[0.5555555555555556,\"#d8576b\"],[0.6666666666666666,\"#ed7953\"],[0.7777777777777778,\"#fb9f3a\"],[0.8888888888888888,\"#fdca26\"],[1.0,\"#f0f921\"]],\"type\":\"histogram2d\"}],\"histogram2dcontour\":[{\"colorbar\":{\"outlinewidth\":0,\"ticks\":\"\"},\"colorscale\":[[0.0,\"#0d0887\"],[0.1111111111111111,\"#46039f\"],[0.2222222222222222,\"#7201a8\"],[0.3333333333333333,\"#9c179e\"],[0.4444444444444444,\"#bd3786\"],[0.5555555555555556,\"#d8576b\"],[0.6666666666666666,\"#ed7953\"],[0.7777777777777778,\"#fb9f3a\"],[0.8888888888888888,\"#fdca26\"],[1.0,\"#f0f921\"]],\"type\":\"histogram2dcontour\"}],\"mesh3d\":[{\"colorbar\":{\"outlinewidth\":0,\"ticks\":\"\"},\"type\":\"mesh3d\"}],\"parcoords\":[{\"line\":{\"colorbar\":{\"outlinewidth\":0,\"ticks\":\"\"}},\"type\":\"parcoords\"}],\"pie\":[{\"automargin\":true,\"type\":\"pie\"}],\"scatter\":[{\"marker\":{\"colorbar\":{\"outlinewidth\":0,\"ticks\":\"\"}},\"type\":\"scatter\"}],\"scatter3d\":[{\"line\":{\"colorbar\":{\"outlinewidth\":0,\"ticks\":\"\"}},\"marker\":{\"colorbar\":{\"outlinewidth\":0,\"ticks\":\"\"}},\"type\":\"scatter3d\"}],\"scattercarpet\":[{\"marker\":{\"colorbar\":{\"outlinewidth\":0,\"ticks\":\"\"}},\"type\":\"scattercarpet\"}],\"scattergeo\":[{\"marker\":{\"colorbar\":{\"outlinewidth\":0,\"ticks\":\"\"}},\"type\":\"scattergeo\"}],\"scattergl\":[{\"marker\":{\"colorbar\":{\"outlinewidth\":0,\"ticks\":\"\"}},\"type\":\"scattergl\"}],\"scattermapbox\":[{\"marker\":{\"colorbar\":{\"outlinewidth\":0,\"ticks\":\"\"}},\"type\":\"scattermapbox\"}],\"scatterpolar\":[{\"marker\":{\"colorbar\":{\"outlinewidth\":0,\"ticks\":\"\"}},\"type\":\"scatterpolar\"}],\"scatterpolargl\":[{\"marker\":{\"colorbar\":{\"outlinewidth\":0,\"ticks\":\"\"}},\"type\":\"scatterpolargl\"}],\"scatterternary\":[{\"marker\":{\"colorbar\":{\"outlinewidth\":0,\"ticks\":\"\"}},\"type\":\"scatterternary\"}],\"surface\":[{\"colorbar\":{\"outlinewidth\":0,\"ticks\":\"\"},\"colorscale\":[[0.0,\"#0d0887\"],[0.1111111111111111,\"#46039f\"],[0.2222222222222222,\"#7201a8\"],[0.3333333333333333,\"#9c179e\"],[0.4444444444444444,\"#bd3786\"],[0.5555555555555556,\"#d8576b\"],[0.6666666666666666,\"#ed7953\"],[0.7777777777777778,\"#fb9f3a\"],[0.8888888888888888,\"#fdca26\"],[1.0,\"#f0f921\"]],\"type\":\"surface\"}],\"table\":[{\"cells\":{\"fill\":{\"color\":\"#EBF0F8\"},\"line\":{\"color\":\"white\"}},\"header\":{\"fill\":{\"color\":\"#C8D4E3\"},\"line\":{\"color\":\"white\"}},\"type\":\"table\"}]},\"layout\":{\"annotationdefaults\":{\"arrowcolor\":\"#2a3f5f\",\"arrowhead\":0,\"arrowwidth\":1},\"autotypenumbers\":\"strict\",\"coloraxis\":{\"colorbar\":{\"outlinewidth\":0,\"ticks\":\"\"}},\"colorscale\":{\"diverging\":[[0,\"#8e0152\"],[0.1,\"#c51b7d\"],[0.2,\"#de77ae\"],[0.3,\"#f1b6da\"],[0.4,\"#fde0ef\"],[0.5,\"#f7f7f7\"],[0.6,\"#e6f5d0\"],[0.7,\"#b8e186\"],[0.8,\"#7fbc41\"],[0.9,\"#4d9221\"],[1,\"#276419\"]],\"sequential\":[[0.0,\"#0d0887\"],[0.1111111111111111,\"#46039f\"],[0.2222222222222222,\"#7201a8\"],[0.3333333333333333,\"#9c179e\"],[0.4444444444444444,\"#bd3786\"],[0.5555555555555556,\"#d8576b\"],[0.6666666666666666,\"#ed7953\"],[0.7777777777777778,\"#fb9f3a\"],[0.8888888888888888,\"#fdca26\"],[1.0,\"#f0f921\"]],\"sequentialminus\":[[0.0,\"#0d0887\"],[0.1111111111111111,\"#46039f\"],[0.2222222222222222,\"#7201a8\"],[0.3333333333333333,\"#9c179e\"],[0.4444444444444444,\"#bd3786\"],[0.5555555555555556,\"#d8576b\"],[0.6666666666666666,\"#ed7953\"],[0.7777777777777778,\"#fb9f3a\"],[0.8888888888888888,\"#fdca26\"],[1.0,\"#f0f921\"]]},\"colorway\":[\"#636efa\",\"#EF553B\",\"#00cc96\",\"#ab63fa\",\"#FFA15A\",\"#19d3f3\",\"#FF6692\",\"#B6E880\",\"#FF97FF\",\"#FECB52\"],\"font\":{\"color\":\"#2a3f5f\"},\"geo\":{\"bgcolor\":\"white\",\"lakecolor\":\"white\",\"landcolor\":\"#E5ECF6\",\"showlakes\":true,\"showland\":true,\"subunitcolor\":\"white\"},\"hoverlabel\":{\"align\":\"left\"},\"hovermode\":\"closest\",\"mapbox\":{\"style\":\"light\"},\"paper_bgcolor\":\"white\",\"plot_bgcolor\":\"#E5ECF6\",\"polar\":{\"angularaxis\":{\"gridcolor\":\"white\",\"linecolor\":\"white\",\"ticks\":\"\"},\"bgcolor\":\"#E5ECF6\",\"radialaxis\":{\"gridcolor\":\"white\",\"linecolor\":\"white\",\"ticks\":\"\"}},\"scene\":{\"xaxis\":{\"backgroundcolor\":\"#E5ECF6\",\"gridcolor\":\"white\",\"gridwidth\":2,\"linecolor\":\"white\",\"showbackground\":true,\"ticks\":\"\",\"zerolinecolor\":\"white\"},\"yaxis\":{\"backgroundcolor\":\"#E5ECF6\",\"gridcolor\":\"white\",\"gridwidth\":2,\"linecolor\":\"white\",\"showbackground\":true,\"ticks\":\"\",\"zerolinecolor\":\"white\"},\"zaxis\":{\"backgroundcolor\":\"#E5ECF6\",\"gridcolor\":\"white\",\"gridwidth\":2,\"linecolor\":\"white\",\"showbackground\":true,\"ticks\":\"\",\"zerolinecolor\":\"white\"}},\"shapedefaults\":{\"line\":{\"color\":\"#2a3f5f\"}},\"ternary\":{\"aaxis\":{\"gridcolor\":\"white\",\"linecolor\":\"white\",\"ticks\":\"\"},\"baxis\":{\"gridcolor\":\"white\",\"linecolor\":\"white\",\"ticks\":\"\"},\"bgcolor\":\"#E5ECF6\",\"caxis\":{\"gridcolor\":\"white\",\"linecolor\":\"white\",\"ticks\":\"\"}},\"title\":{\"x\":0.05},\"xaxis\":{\"automargin\":true,\"gridcolor\":\"white\",\"linecolor\":\"white\",\"ticks\":\"\",\"title\":{\"standoff\":15},\"zerolinecolor\":\"white\",\"zerolinewidth\":2},\"yaxis\":{\"automargin\":true,\"gridcolor\":\"white\",\"linecolor\":\"white\",\"ticks\":\"\",\"title\":{\"standoff\":15},\"zerolinecolor\":\"white\",\"zerolinewidth\":2}}}},                        {\"responsive\": true}                    ).then(function(){\n",
       "                            \n",
       "var gd = document.getElementById('58995153-9b80-4f70-a4d8-dbdeaf88f0fe');\n",
       "var x = new MutationObserver(function (mutations, observer) {{\n",
       "        var display = window.getComputedStyle(gd).display;\n",
       "        if (!display || display === 'none') {{\n",
       "            console.log([gd, 'removed!']);\n",
       "            Plotly.purge(gd);\n",
       "            observer.disconnect();\n",
       "        }}\n",
       "}});\n",
       "\n",
       "// Listen for the removal of the full notebook cells\n",
       "var notebookContainer = gd.closest('#notebook-container');\n",
       "if (notebookContainer) {{\n",
       "    x.observe(notebookContainer, {childList: true});\n",
       "}}\n",
       "\n",
       "// Listen for the clearing of the current output cell\n",
       "var outputEl = gd.closest('.output');\n",
       "if (outputEl) {{\n",
       "    x.observe(outputEl, {childList: true});\n",
       "}}\n",
       "\n",
       "                        })                };                });            </script>        </div>"
      ]
     },
     "metadata": {},
     "output_type": "display_data"
    }
   ],
   "source": [
    "import plotly.graph_objects as go\n",
    "\n",
    "prediction = prediction.sort_values(by = 'price_imp')\n",
    "\n",
    "random_x = prediction['price_imp']\n",
    "#random_y0 = prediction['mileage']\n",
    "random_y1 = prediction['linear regression']\n",
    "random_y2 = prediction['Stochastic_regression']\n",
    "\n",
    "# Creamos los trazos\n",
    "fig = go.Figure()\n",
    "fig.add_trace(go.Scatter(x=random_x, y=random_y1,\n",
    "                    mode='markers',\n",
    "                    name='Linear'))\n",
    "fig.add_trace(go.Scatter(x=random_x, y=random_y2,\n",
    "                    mode='markers',\n",
    "                    name='Stochastic'))\n",
    "\n",
    "fig.show()"
   ]
  },
  {
   "cell_type": "code",
   "execution_count": 75,
   "id": "a5d0b492",
   "metadata": {},
   "outputs": [],
   "source": [
    "def plot(df, x, y_values, sample = False, sample_size = .8, tipo = 'lines'):\n",
    "    \n",
    "    import plotly.graph_objects as go\n",
    "\n",
    "    if sample:\n",
    "        df = df.sample(frac = sample_size)\n",
    "        \n",
    "    df = df.sort_values(by = x)\n",
    "    \n",
    "    vals = dict()\n",
    "    random_x = df[x]\n",
    "    \n",
    "    \n",
    "\n",
    "    # Creamos los trazos\n",
    "    fig = go.Figure()\n",
    "    \n",
    "    \n",
    "    for y in y_values:\n",
    "        \n",
    "        fig.add_trace(go.Scatter(x=random_x, y=df[y],\n",
    "                            mode=tipo,\n",
    "                            name=y))\n",
    "\n",
    "    return(fig.show())"
   ]
  },
  {
   "cell_type": "code",
   "execution_count": 78,
   "id": "f4784f84",
   "metadata": {
    "scrolled": true
   },
   "outputs": [
    {
     "data": {
      "application/vnd.plotly.v1+json": {
       "config": {
        "plotlyServerURL": "https://plot.ly"
       },
       "data": [
        {
         "mode": "markers",
         "name": "linear regression",
         "type": "scatter",
         "x": [
          9495,
          12000,
          12000,
          12000,
          12295,
          13000,
          14000,
          14000,
          14000,
          14000,
          14995,
          15600,
          17000,
          18995,
          22767,
          22767,
          22767,
          23686.112106475557,
          23686.112106475557,
          23686.112106475557,
          23686.112106475557,
          23686.112106475557,
          23686.112106475557,
          23686.112106475557,
          23686.112106475557,
          23686.112106475557,
          23686.112106475557,
          23686.112106475557,
          23686.112106475557,
          23686.112106475557,
          23686.112106475557,
          23686.112106475557,
          23686.112106475557,
          23686.112106475557,
          23686.112106475557,
          23686.112106475557,
          23686.112106475557,
          30999,
          35999,
          46950
         ],
         "y": [
          113750.89809494093,
          44942.446582473814,
          44942.446582473814,
          44942.446582473814,
          38639.221826188266,
          44230.25630316511,
          37424.93739996478,
          37424.93739996478,
          37424.93739996478,
          37424.93739996478,
          97647.59431095608,
          36285.43295306899,
          41381.495185924694,
          27902.9237105418,
          25088.036597365513,
          25088.036597365513,
          25088.036597365513,
          21264.427979055792,
          21264.427979055792,
          21264.427979055792,
          21264.427979055792,
          21264.427979055792,
          21264.427979055792,
          21264.427979055792,
          21264.427979055792,
          21264.427979055792,
          21264.427979055792,
          21264.427979055792,
          21264.427979055792,
          21264.427979055792,
          21264.427979055792,
          21264.427979055792,
          21264.427979055792,
          21264.427979055792,
          21264.427979055792,
          21264.427979055792,
          21264.427979055792,
          945.9003464151174,
          -2615.051050134003,
          7865.139072814956
         ]
        },
        {
         "mode": "markers",
         "name": "Stochastic_regression",
         "type": "scatter",
         "x": [
          9495,
          12000,
          12000,
          12000,
          12295,
          13000,
          14000,
          14000,
          14000,
          14000,
          14995,
          15600,
          17000,
          18995,
          22767,
          22767,
          22767,
          23686.112106475557,
          23686.112106475557,
          23686.112106475557,
          23686.112106475557,
          23686.112106475557,
          23686.112106475557,
          23686.112106475557,
          23686.112106475557,
          23686.112106475557,
          23686.112106475557,
          23686.112106475557,
          23686.112106475557,
          23686.112106475557,
          23686.112106475557,
          23686.112106475557,
          23686.112106475557,
          23686.112106475557,
          23686.112106475557,
          23686.112106475557,
          23686.112106475557,
          30999,
          35999,
          46950
         ],
         "y": [
          115777.90670174392,
          49469.82156995916,
          34996.83729028881,
          41643.26143664537,
          55396.26740408795,
          54113.098073567126,
          32312.995520207067,
          22599.235918354767,
          11820.404802717108,
          35353.09352856144,
          117346.3053710805,
          47446.560916659306,
          54728.25910968903,
          36564.72475262636,
          28639.218936885714,
          18924.843630961786,
          21312.97074080209,
          27623.816456650522,
          25371.24229710595,
          29537.55514660274,
          28743.290784052086,
          24627.197509899503,
          23473.101478573597,
          16904.3787274049,
          19302.88610692663,
          32639.431842498772,
          10339.120081059571,
          24780.957468228713,
          21603.873442973545,
          20722.38746938349,
          35352.24268605038,
          24418.525065939863,
          29910.030533712714,
          14475.282174604874,
          27669.75369855361,
          20628.666651452055,
          34702.43219073293,
          12959.44348181751,
          -15196.393566455889,
          2696.64231291995
         ]
        }
       ],
       "layout": {
        "template": {
         "data": {
          "bar": [
           {
            "error_x": {
             "color": "#2a3f5f"
            },
            "error_y": {
             "color": "#2a3f5f"
            },
            "marker": {
             "line": {
              "color": "#E5ECF6",
              "width": 0.5
             },
             "pattern": {
              "fillmode": "overlay",
              "size": 10,
              "solidity": 0.2
             }
            },
            "type": "bar"
           }
          ],
          "barpolar": [
           {
            "marker": {
             "line": {
              "color": "#E5ECF6",
              "width": 0.5
             },
             "pattern": {
              "fillmode": "overlay",
              "size": 10,
              "solidity": 0.2
             }
            },
            "type": "barpolar"
           }
          ],
          "carpet": [
           {
            "aaxis": {
             "endlinecolor": "#2a3f5f",
             "gridcolor": "white",
             "linecolor": "white",
             "minorgridcolor": "white",
             "startlinecolor": "#2a3f5f"
            },
            "baxis": {
             "endlinecolor": "#2a3f5f",
             "gridcolor": "white",
             "linecolor": "white",
             "minorgridcolor": "white",
             "startlinecolor": "#2a3f5f"
            },
            "type": "carpet"
           }
          ],
          "choropleth": [
           {
            "colorbar": {
             "outlinewidth": 0,
             "ticks": ""
            },
            "type": "choropleth"
           }
          ],
          "contour": [
           {
            "colorbar": {
             "outlinewidth": 0,
             "ticks": ""
            },
            "colorscale": [
             [
              0,
              "#0d0887"
             ],
             [
              0.1111111111111111,
              "#46039f"
             ],
             [
              0.2222222222222222,
              "#7201a8"
             ],
             [
              0.3333333333333333,
              "#9c179e"
             ],
             [
              0.4444444444444444,
              "#bd3786"
             ],
             [
              0.5555555555555556,
              "#d8576b"
             ],
             [
              0.6666666666666666,
              "#ed7953"
             ],
             [
              0.7777777777777778,
              "#fb9f3a"
             ],
             [
              0.8888888888888888,
              "#fdca26"
             ],
             [
              1,
              "#f0f921"
             ]
            ],
            "type": "contour"
           }
          ],
          "contourcarpet": [
           {
            "colorbar": {
             "outlinewidth": 0,
             "ticks": ""
            },
            "type": "contourcarpet"
           }
          ],
          "heatmap": [
           {
            "colorbar": {
             "outlinewidth": 0,
             "ticks": ""
            },
            "colorscale": [
             [
              0,
              "#0d0887"
             ],
             [
              0.1111111111111111,
              "#46039f"
             ],
             [
              0.2222222222222222,
              "#7201a8"
             ],
             [
              0.3333333333333333,
              "#9c179e"
             ],
             [
              0.4444444444444444,
              "#bd3786"
             ],
             [
              0.5555555555555556,
              "#d8576b"
             ],
             [
              0.6666666666666666,
              "#ed7953"
             ],
             [
              0.7777777777777778,
              "#fb9f3a"
             ],
             [
              0.8888888888888888,
              "#fdca26"
             ],
             [
              1,
              "#f0f921"
             ]
            ],
            "type": "heatmap"
           }
          ],
          "heatmapgl": [
           {
            "colorbar": {
             "outlinewidth": 0,
             "ticks": ""
            },
            "colorscale": [
             [
              0,
              "#0d0887"
             ],
             [
              0.1111111111111111,
              "#46039f"
             ],
             [
              0.2222222222222222,
              "#7201a8"
             ],
             [
              0.3333333333333333,
              "#9c179e"
             ],
             [
              0.4444444444444444,
              "#bd3786"
             ],
             [
              0.5555555555555556,
              "#d8576b"
             ],
             [
              0.6666666666666666,
              "#ed7953"
             ],
             [
              0.7777777777777778,
              "#fb9f3a"
             ],
             [
              0.8888888888888888,
              "#fdca26"
             ],
             [
              1,
              "#f0f921"
             ]
            ],
            "type": "heatmapgl"
           }
          ],
          "histogram": [
           {
            "marker": {
             "pattern": {
              "fillmode": "overlay",
              "size": 10,
              "solidity": 0.2
             }
            },
            "type": "histogram"
           }
          ],
          "histogram2d": [
           {
            "colorbar": {
             "outlinewidth": 0,
             "ticks": ""
            },
            "colorscale": [
             [
              0,
              "#0d0887"
             ],
             [
              0.1111111111111111,
              "#46039f"
             ],
             [
              0.2222222222222222,
              "#7201a8"
             ],
             [
              0.3333333333333333,
              "#9c179e"
             ],
             [
              0.4444444444444444,
              "#bd3786"
             ],
             [
              0.5555555555555556,
              "#d8576b"
             ],
             [
              0.6666666666666666,
              "#ed7953"
             ],
             [
              0.7777777777777778,
              "#fb9f3a"
             ],
             [
              0.8888888888888888,
              "#fdca26"
             ],
             [
              1,
              "#f0f921"
             ]
            ],
            "type": "histogram2d"
           }
          ],
          "histogram2dcontour": [
           {
            "colorbar": {
             "outlinewidth": 0,
             "ticks": ""
            },
            "colorscale": [
             [
              0,
              "#0d0887"
             ],
             [
              0.1111111111111111,
              "#46039f"
             ],
             [
              0.2222222222222222,
              "#7201a8"
             ],
             [
              0.3333333333333333,
              "#9c179e"
             ],
             [
              0.4444444444444444,
              "#bd3786"
             ],
             [
              0.5555555555555556,
              "#d8576b"
             ],
             [
              0.6666666666666666,
              "#ed7953"
             ],
             [
              0.7777777777777778,
              "#fb9f3a"
             ],
             [
              0.8888888888888888,
              "#fdca26"
             ],
             [
              1,
              "#f0f921"
             ]
            ],
            "type": "histogram2dcontour"
           }
          ],
          "mesh3d": [
           {
            "colorbar": {
             "outlinewidth": 0,
             "ticks": ""
            },
            "type": "mesh3d"
           }
          ],
          "parcoords": [
           {
            "line": {
             "colorbar": {
              "outlinewidth": 0,
              "ticks": ""
             }
            },
            "type": "parcoords"
           }
          ],
          "pie": [
           {
            "automargin": true,
            "type": "pie"
           }
          ],
          "scatter": [
           {
            "marker": {
             "colorbar": {
              "outlinewidth": 0,
              "ticks": ""
             }
            },
            "type": "scatter"
           }
          ],
          "scatter3d": [
           {
            "line": {
             "colorbar": {
              "outlinewidth": 0,
              "ticks": ""
             }
            },
            "marker": {
             "colorbar": {
              "outlinewidth": 0,
              "ticks": ""
             }
            },
            "type": "scatter3d"
           }
          ],
          "scattercarpet": [
           {
            "marker": {
             "colorbar": {
              "outlinewidth": 0,
              "ticks": ""
             }
            },
            "type": "scattercarpet"
           }
          ],
          "scattergeo": [
           {
            "marker": {
             "colorbar": {
              "outlinewidth": 0,
              "ticks": ""
             }
            },
            "type": "scattergeo"
           }
          ],
          "scattergl": [
           {
            "marker": {
             "colorbar": {
              "outlinewidth": 0,
              "ticks": ""
             }
            },
            "type": "scattergl"
           }
          ],
          "scattermapbox": [
           {
            "marker": {
             "colorbar": {
              "outlinewidth": 0,
              "ticks": ""
             }
            },
            "type": "scattermapbox"
           }
          ],
          "scatterpolar": [
           {
            "marker": {
             "colorbar": {
              "outlinewidth": 0,
              "ticks": ""
             }
            },
            "type": "scatterpolar"
           }
          ],
          "scatterpolargl": [
           {
            "marker": {
             "colorbar": {
              "outlinewidth": 0,
              "ticks": ""
             }
            },
            "type": "scatterpolargl"
           }
          ],
          "scatterternary": [
           {
            "marker": {
             "colorbar": {
              "outlinewidth": 0,
              "ticks": ""
             }
            },
            "type": "scatterternary"
           }
          ],
          "surface": [
           {
            "colorbar": {
             "outlinewidth": 0,
             "ticks": ""
            },
            "colorscale": [
             [
              0,
              "#0d0887"
             ],
             [
              0.1111111111111111,
              "#46039f"
             ],
             [
              0.2222222222222222,
              "#7201a8"
             ],
             [
              0.3333333333333333,
              "#9c179e"
             ],
             [
              0.4444444444444444,
              "#bd3786"
             ],
             [
              0.5555555555555556,
              "#d8576b"
             ],
             [
              0.6666666666666666,
              "#ed7953"
             ],
             [
              0.7777777777777778,
              "#fb9f3a"
             ],
             [
              0.8888888888888888,
              "#fdca26"
             ],
             [
              1,
              "#f0f921"
             ]
            ],
            "type": "surface"
           }
          ],
          "table": [
           {
            "cells": {
             "fill": {
              "color": "#EBF0F8"
             },
             "line": {
              "color": "white"
             }
            },
            "header": {
             "fill": {
              "color": "#C8D4E3"
             },
             "line": {
              "color": "white"
             }
            },
            "type": "table"
           }
          ]
         },
         "layout": {
          "annotationdefaults": {
           "arrowcolor": "#2a3f5f",
           "arrowhead": 0,
           "arrowwidth": 1
          },
          "autotypenumbers": "strict",
          "coloraxis": {
           "colorbar": {
            "outlinewidth": 0,
            "ticks": ""
           }
          },
          "colorscale": {
           "diverging": [
            [
             0,
             "#8e0152"
            ],
            [
             0.1,
             "#c51b7d"
            ],
            [
             0.2,
             "#de77ae"
            ],
            [
             0.3,
             "#f1b6da"
            ],
            [
             0.4,
             "#fde0ef"
            ],
            [
             0.5,
             "#f7f7f7"
            ],
            [
             0.6,
             "#e6f5d0"
            ],
            [
             0.7,
             "#b8e186"
            ],
            [
             0.8,
             "#7fbc41"
            ],
            [
             0.9,
             "#4d9221"
            ],
            [
             1,
             "#276419"
            ]
           ],
           "sequential": [
            [
             0,
             "#0d0887"
            ],
            [
             0.1111111111111111,
             "#46039f"
            ],
            [
             0.2222222222222222,
             "#7201a8"
            ],
            [
             0.3333333333333333,
             "#9c179e"
            ],
            [
             0.4444444444444444,
             "#bd3786"
            ],
            [
             0.5555555555555556,
             "#d8576b"
            ],
            [
             0.6666666666666666,
             "#ed7953"
            ],
            [
             0.7777777777777778,
             "#fb9f3a"
            ],
            [
             0.8888888888888888,
             "#fdca26"
            ],
            [
             1,
             "#f0f921"
            ]
           ],
           "sequentialminus": [
            [
             0,
             "#0d0887"
            ],
            [
             0.1111111111111111,
             "#46039f"
            ],
            [
             0.2222222222222222,
             "#7201a8"
            ],
            [
             0.3333333333333333,
             "#9c179e"
            ],
            [
             0.4444444444444444,
             "#bd3786"
            ],
            [
             0.5555555555555556,
             "#d8576b"
            ],
            [
             0.6666666666666666,
             "#ed7953"
            ],
            [
             0.7777777777777778,
             "#fb9f3a"
            ],
            [
             0.8888888888888888,
             "#fdca26"
            ],
            [
             1,
             "#f0f921"
            ]
           ]
          },
          "colorway": [
           "#636efa",
           "#EF553B",
           "#00cc96",
           "#ab63fa",
           "#FFA15A",
           "#19d3f3",
           "#FF6692",
           "#B6E880",
           "#FF97FF",
           "#FECB52"
          ],
          "font": {
           "color": "#2a3f5f"
          },
          "geo": {
           "bgcolor": "white",
           "lakecolor": "white",
           "landcolor": "#E5ECF6",
           "showlakes": true,
           "showland": true,
           "subunitcolor": "white"
          },
          "hoverlabel": {
           "align": "left"
          },
          "hovermode": "closest",
          "mapbox": {
           "style": "light"
          },
          "paper_bgcolor": "white",
          "plot_bgcolor": "#E5ECF6",
          "polar": {
           "angularaxis": {
            "gridcolor": "white",
            "linecolor": "white",
            "ticks": ""
           },
           "bgcolor": "#E5ECF6",
           "radialaxis": {
            "gridcolor": "white",
            "linecolor": "white",
            "ticks": ""
           }
          },
          "scene": {
           "xaxis": {
            "backgroundcolor": "#E5ECF6",
            "gridcolor": "white",
            "gridwidth": 2,
            "linecolor": "white",
            "showbackground": true,
            "ticks": "",
            "zerolinecolor": "white"
           },
           "yaxis": {
            "backgroundcolor": "#E5ECF6",
            "gridcolor": "white",
            "gridwidth": 2,
            "linecolor": "white",
            "showbackground": true,
            "ticks": "",
            "zerolinecolor": "white"
           },
           "zaxis": {
            "backgroundcolor": "#E5ECF6",
            "gridcolor": "white",
            "gridwidth": 2,
            "linecolor": "white",
            "showbackground": true,
            "ticks": "",
            "zerolinecolor": "white"
           }
          },
          "shapedefaults": {
           "line": {
            "color": "#2a3f5f"
           }
          },
          "ternary": {
           "aaxis": {
            "gridcolor": "white",
            "linecolor": "white",
            "ticks": ""
           },
           "baxis": {
            "gridcolor": "white",
            "linecolor": "white",
            "ticks": ""
           },
           "bgcolor": "#E5ECF6",
           "caxis": {
            "gridcolor": "white",
            "linecolor": "white",
            "ticks": ""
           }
          },
          "title": {
           "x": 0.05
          },
          "xaxis": {
           "automargin": true,
           "gridcolor": "white",
           "linecolor": "white",
           "ticks": "",
           "title": {
            "standoff": 15
           },
           "zerolinecolor": "white",
           "zerolinewidth": 2
          },
          "yaxis": {
           "automargin": true,
           "gridcolor": "white",
           "linecolor": "white",
           "ticks": "",
           "title": {
            "standoff": 15
           },
           "zerolinecolor": "white",
           "zerolinewidth": 2
          }
         }
        }
       }
      },
      "text/html": [
       "<div>                            <div id=\"25d1e063-17e9-4c1c-aa67-0e49cb035f6d\" class=\"plotly-graph-div\" style=\"height:525px; width:100%;\"></div>            <script type=\"text/javascript\">                require([\"plotly\"], function(Plotly) {                    window.PLOTLYENV=window.PLOTLYENV || {};                                    if (document.getElementById(\"25d1e063-17e9-4c1c-aa67-0e49cb035f6d\")) {                    Plotly.newPlot(                        \"25d1e063-17e9-4c1c-aa67-0e49cb035f6d\",                        [{\"mode\":\"markers\",\"name\":\"linear regression\",\"x\":[9495.0,12000.0,12000.0,12000.0,12295.0,13000.0,14000.0,14000.0,14000.0,14000.0,14995.0,15600.0,17000.0,18995.0,22767.0,22767.0,22767.0,23686.112106475557,23686.112106475557,23686.112106475557,23686.112106475557,23686.112106475557,23686.112106475557,23686.112106475557,23686.112106475557,23686.112106475557,23686.112106475557,23686.112106475557,23686.112106475557,23686.112106475557,23686.112106475557,23686.112106475557,23686.112106475557,23686.112106475557,23686.112106475557,23686.112106475557,23686.112106475557,30999.0,35999.0,46950.0],\"y\":[113750.89809494093,44942.446582473814,44942.446582473814,44942.446582473814,38639.221826188266,44230.25630316511,37424.93739996478,37424.93739996478,37424.93739996478,37424.93739996478,97647.59431095608,36285.43295306899,41381.495185924694,27902.9237105418,25088.036597365513,25088.036597365513,25088.036597365513,21264.427979055792,21264.427979055792,21264.427979055792,21264.427979055792,21264.427979055792,21264.427979055792,21264.427979055792,21264.427979055792,21264.427979055792,21264.427979055792,21264.427979055792,21264.427979055792,21264.427979055792,21264.427979055792,21264.427979055792,21264.427979055792,21264.427979055792,21264.427979055792,21264.427979055792,21264.427979055792,945.9003464151174,-2615.051050134003,7865.139072814956],\"type\":\"scatter\"},{\"mode\":\"markers\",\"name\":\"Stochastic_regression\",\"x\":[9495.0,12000.0,12000.0,12000.0,12295.0,13000.0,14000.0,14000.0,14000.0,14000.0,14995.0,15600.0,17000.0,18995.0,22767.0,22767.0,22767.0,23686.112106475557,23686.112106475557,23686.112106475557,23686.112106475557,23686.112106475557,23686.112106475557,23686.112106475557,23686.112106475557,23686.112106475557,23686.112106475557,23686.112106475557,23686.112106475557,23686.112106475557,23686.112106475557,23686.112106475557,23686.112106475557,23686.112106475557,23686.112106475557,23686.112106475557,23686.112106475557,30999.0,35999.0,46950.0],\"y\":[115777.90670174392,49469.82156995916,34996.83729028881,41643.26143664537,55396.26740408795,54113.098073567126,32312.995520207067,22599.235918354767,11820.404802717108,35353.09352856144,117346.3053710805,47446.560916659306,54728.25910968903,36564.72475262636,28639.218936885714,18924.843630961786,21312.97074080209,27623.816456650522,25371.24229710595,29537.55514660274,28743.290784052086,24627.197509899503,23473.101478573597,16904.3787274049,19302.88610692663,32639.431842498772,10339.120081059571,24780.957468228713,21603.873442973545,20722.38746938349,35352.24268605038,24418.525065939863,29910.030533712714,14475.282174604874,27669.75369855361,20628.666651452055,34702.43219073293,12959.44348181751,-15196.393566455889,2696.64231291995],\"type\":\"scatter\"}],                        {\"template\":{\"data\":{\"bar\":[{\"error_x\":{\"color\":\"#2a3f5f\"},\"error_y\":{\"color\":\"#2a3f5f\"},\"marker\":{\"line\":{\"color\":\"#E5ECF6\",\"width\":0.5},\"pattern\":{\"fillmode\":\"overlay\",\"size\":10,\"solidity\":0.2}},\"type\":\"bar\"}],\"barpolar\":[{\"marker\":{\"line\":{\"color\":\"#E5ECF6\",\"width\":0.5},\"pattern\":{\"fillmode\":\"overlay\",\"size\":10,\"solidity\":0.2}},\"type\":\"barpolar\"}],\"carpet\":[{\"aaxis\":{\"endlinecolor\":\"#2a3f5f\",\"gridcolor\":\"white\",\"linecolor\":\"white\",\"minorgridcolor\":\"white\",\"startlinecolor\":\"#2a3f5f\"},\"baxis\":{\"endlinecolor\":\"#2a3f5f\",\"gridcolor\":\"white\",\"linecolor\":\"white\",\"minorgridcolor\":\"white\",\"startlinecolor\":\"#2a3f5f\"},\"type\":\"carpet\"}],\"choropleth\":[{\"colorbar\":{\"outlinewidth\":0,\"ticks\":\"\"},\"type\":\"choropleth\"}],\"contour\":[{\"colorbar\":{\"outlinewidth\":0,\"ticks\":\"\"},\"colorscale\":[[0.0,\"#0d0887\"],[0.1111111111111111,\"#46039f\"],[0.2222222222222222,\"#7201a8\"],[0.3333333333333333,\"#9c179e\"],[0.4444444444444444,\"#bd3786\"],[0.5555555555555556,\"#d8576b\"],[0.6666666666666666,\"#ed7953\"],[0.7777777777777778,\"#fb9f3a\"],[0.8888888888888888,\"#fdca26\"],[1.0,\"#f0f921\"]],\"type\":\"contour\"}],\"contourcarpet\":[{\"colorbar\":{\"outlinewidth\":0,\"ticks\":\"\"},\"type\":\"contourcarpet\"}],\"heatmap\":[{\"colorbar\":{\"outlinewidth\":0,\"ticks\":\"\"},\"colorscale\":[[0.0,\"#0d0887\"],[0.1111111111111111,\"#46039f\"],[0.2222222222222222,\"#7201a8\"],[0.3333333333333333,\"#9c179e\"],[0.4444444444444444,\"#bd3786\"],[0.5555555555555556,\"#d8576b\"],[0.6666666666666666,\"#ed7953\"],[0.7777777777777778,\"#fb9f3a\"],[0.8888888888888888,\"#fdca26\"],[1.0,\"#f0f921\"]],\"type\":\"heatmap\"}],\"heatmapgl\":[{\"colorbar\":{\"outlinewidth\":0,\"ticks\":\"\"},\"colorscale\":[[0.0,\"#0d0887\"],[0.1111111111111111,\"#46039f\"],[0.2222222222222222,\"#7201a8\"],[0.3333333333333333,\"#9c179e\"],[0.4444444444444444,\"#bd3786\"],[0.5555555555555556,\"#d8576b\"],[0.6666666666666666,\"#ed7953\"],[0.7777777777777778,\"#fb9f3a\"],[0.8888888888888888,\"#fdca26\"],[1.0,\"#f0f921\"]],\"type\":\"heatmapgl\"}],\"histogram\":[{\"marker\":{\"pattern\":{\"fillmode\":\"overlay\",\"size\":10,\"solidity\":0.2}},\"type\":\"histogram\"}],\"histogram2d\":[{\"colorbar\":{\"outlinewidth\":0,\"ticks\":\"\"},\"colorscale\":[[0.0,\"#0d0887\"],[0.1111111111111111,\"#46039f\"],[0.2222222222222222,\"#7201a8\"],[0.3333333333333333,\"#9c179e\"],[0.4444444444444444,\"#bd3786\"],[0.5555555555555556,\"#d8576b\"],[0.6666666666666666,\"#ed7953\"],[0.7777777777777778,\"#fb9f3a\"],[0.8888888888888888,\"#fdca26\"],[1.0,\"#f0f921\"]],\"type\":\"histogram2d\"}],\"histogram2dcontour\":[{\"colorbar\":{\"outlinewidth\":0,\"ticks\":\"\"},\"colorscale\":[[0.0,\"#0d0887\"],[0.1111111111111111,\"#46039f\"],[0.2222222222222222,\"#7201a8\"],[0.3333333333333333,\"#9c179e\"],[0.4444444444444444,\"#bd3786\"],[0.5555555555555556,\"#d8576b\"],[0.6666666666666666,\"#ed7953\"],[0.7777777777777778,\"#fb9f3a\"],[0.8888888888888888,\"#fdca26\"],[1.0,\"#f0f921\"]],\"type\":\"histogram2dcontour\"}],\"mesh3d\":[{\"colorbar\":{\"outlinewidth\":0,\"ticks\":\"\"},\"type\":\"mesh3d\"}],\"parcoords\":[{\"line\":{\"colorbar\":{\"outlinewidth\":0,\"ticks\":\"\"}},\"type\":\"parcoords\"}],\"pie\":[{\"automargin\":true,\"type\":\"pie\"}],\"scatter\":[{\"marker\":{\"colorbar\":{\"outlinewidth\":0,\"ticks\":\"\"}},\"type\":\"scatter\"}],\"scatter3d\":[{\"line\":{\"colorbar\":{\"outlinewidth\":0,\"ticks\":\"\"}},\"marker\":{\"colorbar\":{\"outlinewidth\":0,\"ticks\":\"\"}},\"type\":\"scatter3d\"}],\"scattercarpet\":[{\"marker\":{\"colorbar\":{\"outlinewidth\":0,\"ticks\":\"\"}},\"type\":\"scattercarpet\"}],\"scattergeo\":[{\"marker\":{\"colorbar\":{\"outlinewidth\":0,\"ticks\":\"\"}},\"type\":\"scattergeo\"}],\"scattergl\":[{\"marker\":{\"colorbar\":{\"outlinewidth\":0,\"ticks\":\"\"}},\"type\":\"scattergl\"}],\"scattermapbox\":[{\"marker\":{\"colorbar\":{\"outlinewidth\":0,\"ticks\":\"\"}},\"type\":\"scattermapbox\"}],\"scatterpolar\":[{\"marker\":{\"colorbar\":{\"outlinewidth\":0,\"ticks\":\"\"}},\"type\":\"scatterpolar\"}],\"scatterpolargl\":[{\"marker\":{\"colorbar\":{\"outlinewidth\":0,\"ticks\":\"\"}},\"type\":\"scatterpolargl\"}],\"scatterternary\":[{\"marker\":{\"colorbar\":{\"outlinewidth\":0,\"ticks\":\"\"}},\"type\":\"scatterternary\"}],\"surface\":[{\"colorbar\":{\"outlinewidth\":0,\"ticks\":\"\"},\"colorscale\":[[0.0,\"#0d0887\"],[0.1111111111111111,\"#46039f\"],[0.2222222222222222,\"#7201a8\"],[0.3333333333333333,\"#9c179e\"],[0.4444444444444444,\"#bd3786\"],[0.5555555555555556,\"#d8576b\"],[0.6666666666666666,\"#ed7953\"],[0.7777777777777778,\"#fb9f3a\"],[0.8888888888888888,\"#fdca26\"],[1.0,\"#f0f921\"]],\"type\":\"surface\"}],\"table\":[{\"cells\":{\"fill\":{\"color\":\"#EBF0F8\"},\"line\":{\"color\":\"white\"}},\"header\":{\"fill\":{\"color\":\"#C8D4E3\"},\"line\":{\"color\":\"white\"}},\"type\":\"table\"}]},\"layout\":{\"annotationdefaults\":{\"arrowcolor\":\"#2a3f5f\",\"arrowhead\":0,\"arrowwidth\":1},\"autotypenumbers\":\"strict\",\"coloraxis\":{\"colorbar\":{\"outlinewidth\":0,\"ticks\":\"\"}},\"colorscale\":{\"diverging\":[[0,\"#8e0152\"],[0.1,\"#c51b7d\"],[0.2,\"#de77ae\"],[0.3,\"#f1b6da\"],[0.4,\"#fde0ef\"],[0.5,\"#f7f7f7\"],[0.6,\"#e6f5d0\"],[0.7,\"#b8e186\"],[0.8,\"#7fbc41\"],[0.9,\"#4d9221\"],[1,\"#276419\"]],\"sequential\":[[0.0,\"#0d0887\"],[0.1111111111111111,\"#46039f\"],[0.2222222222222222,\"#7201a8\"],[0.3333333333333333,\"#9c179e\"],[0.4444444444444444,\"#bd3786\"],[0.5555555555555556,\"#d8576b\"],[0.6666666666666666,\"#ed7953\"],[0.7777777777777778,\"#fb9f3a\"],[0.8888888888888888,\"#fdca26\"],[1.0,\"#f0f921\"]],\"sequentialminus\":[[0.0,\"#0d0887\"],[0.1111111111111111,\"#46039f\"],[0.2222222222222222,\"#7201a8\"],[0.3333333333333333,\"#9c179e\"],[0.4444444444444444,\"#bd3786\"],[0.5555555555555556,\"#d8576b\"],[0.6666666666666666,\"#ed7953\"],[0.7777777777777778,\"#fb9f3a\"],[0.8888888888888888,\"#fdca26\"],[1.0,\"#f0f921\"]]},\"colorway\":[\"#636efa\",\"#EF553B\",\"#00cc96\",\"#ab63fa\",\"#FFA15A\",\"#19d3f3\",\"#FF6692\",\"#B6E880\",\"#FF97FF\",\"#FECB52\"],\"font\":{\"color\":\"#2a3f5f\"},\"geo\":{\"bgcolor\":\"white\",\"lakecolor\":\"white\",\"landcolor\":\"#E5ECF6\",\"showlakes\":true,\"showland\":true,\"subunitcolor\":\"white\"},\"hoverlabel\":{\"align\":\"left\"},\"hovermode\":\"closest\",\"mapbox\":{\"style\":\"light\"},\"paper_bgcolor\":\"white\",\"plot_bgcolor\":\"#E5ECF6\",\"polar\":{\"angularaxis\":{\"gridcolor\":\"white\",\"linecolor\":\"white\",\"ticks\":\"\"},\"bgcolor\":\"#E5ECF6\",\"radialaxis\":{\"gridcolor\":\"white\",\"linecolor\":\"white\",\"ticks\":\"\"}},\"scene\":{\"xaxis\":{\"backgroundcolor\":\"#E5ECF6\",\"gridcolor\":\"white\",\"gridwidth\":2,\"linecolor\":\"white\",\"showbackground\":true,\"ticks\":\"\",\"zerolinecolor\":\"white\"},\"yaxis\":{\"backgroundcolor\":\"#E5ECF6\",\"gridcolor\":\"white\",\"gridwidth\":2,\"linecolor\":\"white\",\"showbackground\":true,\"ticks\":\"\",\"zerolinecolor\":\"white\"},\"zaxis\":{\"backgroundcolor\":\"#E5ECF6\",\"gridcolor\":\"white\",\"gridwidth\":2,\"linecolor\":\"white\",\"showbackground\":true,\"ticks\":\"\",\"zerolinecolor\":\"white\"}},\"shapedefaults\":{\"line\":{\"color\":\"#2a3f5f\"}},\"ternary\":{\"aaxis\":{\"gridcolor\":\"white\",\"linecolor\":\"white\",\"ticks\":\"\"},\"baxis\":{\"gridcolor\":\"white\",\"linecolor\":\"white\",\"ticks\":\"\"},\"bgcolor\":\"#E5ECF6\",\"caxis\":{\"gridcolor\":\"white\",\"linecolor\":\"white\",\"ticks\":\"\"}},\"title\":{\"x\":0.05},\"xaxis\":{\"automargin\":true,\"gridcolor\":\"white\",\"linecolor\":\"white\",\"ticks\":\"\",\"title\":{\"standoff\":15},\"zerolinecolor\":\"white\",\"zerolinewidth\":2},\"yaxis\":{\"automargin\":true,\"gridcolor\":\"white\",\"linecolor\":\"white\",\"ticks\":\"\",\"title\":{\"standoff\":15},\"zerolinecolor\":\"white\",\"zerolinewidth\":2}}}},                        {\"responsive\": true}                    ).then(function(){\n",
       "                            \n",
       "var gd = document.getElementById('25d1e063-17e9-4c1c-aa67-0e49cb035f6d');\n",
       "var x = new MutationObserver(function (mutations, observer) {{\n",
       "        var display = window.getComputedStyle(gd).display;\n",
       "        if (!display || display === 'none') {{\n",
       "            console.log([gd, 'removed!']);\n",
       "            Plotly.purge(gd);\n",
       "            observer.disconnect();\n",
       "        }}\n",
       "}});\n",
       "\n",
       "// Listen for the removal of the full notebook cells\n",
       "var notebookContainer = gd.closest('#notebook-container');\n",
       "if (notebookContainer) {{\n",
       "    x.observe(notebookContainer, {childList: true});\n",
       "}}\n",
       "\n",
       "// Listen for the clearing of the current output cell\n",
       "var outputEl = gd.closest('.output');\n",
       "if (outputEl) {{\n",
       "    x.observe(outputEl, {childList: true});\n",
       "}}\n",
       "\n",
       "                        })                };                });            </script>        </div>"
      ]
     },
     "metadata": {},
     "output_type": "display_data"
    }
   ],
   "source": [
    "plot(prediction, 'price_imp', ['linear regression', 'Stochastic_regression'], sample = True, sample_size = .2, tipo = 'markers')"
   ]
  },
  {
   "cell_type": "code",
   "execution_count": 79,
   "id": "e67b8bb0",
   "metadata": {
    "scrolled": true
   },
   "outputs": [
    {
     "data": {
      "application/vnd.plotly.v1+json": {
       "config": {
        "plotlyServerURL": "https://plot.ly"
       },
       "data": [
        {
         "mode": "lines",
         "name": "linear regression",
         "type": "scatter",
         "x": [
          2495,
          8980,
          9950,
          12000,
          12000,
          12000,
          14000,
          15490,
          18000,
          19980,
          22767,
          22767,
          23686.112106475557,
          23686.112106475557,
          23686.112106475557,
          23686.112106475557,
          23686.112106475557,
          23686.112106475557,
          23686.112106475557,
          23686.112106475557,
          23686.112106475557,
          23686.112106475557,
          23686.112106475557,
          23686.112106475557,
          23686.112106475557,
          23686.112106475557,
          23686.112106475557,
          23686.112106475557,
          23686.112106475557,
          23686.112106475557,
          23995,
          28990,
          28990,
          29880,
          29899,
          31900,
          35999,
          39950,
          46950,
          59740
         ],
         "y": [
          112643.10142621957,
          59279.51847377233,
          70774.95115062222,
          44942.446582473814,
          44942.446582473814,
          44942.446582473814,
          37424.93739996478,
          37710.90498819202,
          34576.17628272623,
          14886.653658021241,
          25088.036597365513,
          25088.036597365513,
          21264.427979055792,
          21264.427979055792,
          21264.427979055792,
          21264.427979055792,
          21264.427979055792,
          21264.427979055792,
          21264.427979055792,
          21264.427979055792,
          21264.427979055792,
          21264.427979055792,
          21264.427979055792,
          21264.427979055792,
          21264.427979055792,
          21264.427979055792,
          21264.427979055792,
          21264.427979055792,
          21264.427979055792,
          21264.427979055792,
          18120.33831048198,
          8469.819241439924,
          8469.819241439924,
          7835.969892853871,
          7822.438277546316,
          304.2169047575444,
          -2615.051050134003,
          -5428.914843685925,
          7865.139072814956,
          -1243.7745995577425
         ]
        },
        {
         "mode": "lines",
         "name": "Stochastic_regression",
         "type": "scatter",
         "x": [
          2495,
          8980,
          9950,
          12000,
          12000,
          12000,
          14000,
          15490,
          18000,
          19980,
          22767,
          22767,
          23686.112106475557,
          23686.112106475557,
          23686.112106475557,
          23686.112106475557,
          23686.112106475557,
          23686.112106475557,
          23686.112106475557,
          23686.112106475557,
          23686.112106475557,
          23686.112106475557,
          23686.112106475557,
          23686.112106475557,
          23686.112106475557,
          23686.112106475557,
          23686.112106475557,
          23686.112106475557,
          23686.112106475557,
          23686.112106475557,
          23995,
          28990,
          28990,
          29880,
          29899,
          31900,
          35999,
          39950,
          46950,
          59740
         ],
         "y": [
          99154.85821554798,
          64716.5156994923,
          90761.86936828532,
          34012.206267268,
          40992.09574322525,
          20706.727139237173,
          30190.984712782483,
          56665.34518004697,
          35678.95292131667,
          14633.82880780582,
          25186.460769309473,
          18924.843630961786,
          18296.831516854312,
          25347.10452316216,
          12196.39763890703,
          20690.627987539312,
          20697.405035206375,
          7424.590759260433,
          34702.43219073293,
          -1850.5318007428214,
          29537.55514660274,
          6387.198832820097,
          9642.178608968881,
          32639.431842498772,
          6546.665412823726,
          8189.860196103578,
          32933.98263429278,
          -6831.6206449474885,
          24411.35869603161,
          29910.030533712714,
          42516.60756595335,
          -4285.304286768627,
          -1540.6541580431112,
          10886.15257567872,
          -6008.8607581114065,
          16700.900288311022,
          -15196.393566455889,
          1028.1707337596608,
          2696.64231291995,
          27991.078558817648
         ]
        }
       ],
       "layout": {
        "template": {
         "data": {
          "bar": [
           {
            "error_x": {
             "color": "#2a3f5f"
            },
            "error_y": {
             "color": "#2a3f5f"
            },
            "marker": {
             "line": {
              "color": "#E5ECF6",
              "width": 0.5
             },
             "pattern": {
              "fillmode": "overlay",
              "size": 10,
              "solidity": 0.2
             }
            },
            "type": "bar"
           }
          ],
          "barpolar": [
           {
            "marker": {
             "line": {
              "color": "#E5ECF6",
              "width": 0.5
             },
             "pattern": {
              "fillmode": "overlay",
              "size": 10,
              "solidity": 0.2
             }
            },
            "type": "barpolar"
           }
          ],
          "carpet": [
           {
            "aaxis": {
             "endlinecolor": "#2a3f5f",
             "gridcolor": "white",
             "linecolor": "white",
             "minorgridcolor": "white",
             "startlinecolor": "#2a3f5f"
            },
            "baxis": {
             "endlinecolor": "#2a3f5f",
             "gridcolor": "white",
             "linecolor": "white",
             "minorgridcolor": "white",
             "startlinecolor": "#2a3f5f"
            },
            "type": "carpet"
           }
          ],
          "choropleth": [
           {
            "colorbar": {
             "outlinewidth": 0,
             "ticks": ""
            },
            "type": "choropleth"
           }
          ],
          "contour": [
           {
            "colorbar": {
             "outlinewidth": 0,
             "ticks": ""
            },
            "colorscale": [
             [
              0,
              "#0d0887"
             ],
             [
              0.1111111111111111,
              "#46039f"
             ],
             [
              0.2222222222222222,
              "#7201a8"
             ],
             [
              0.3333333333333333,
              "#9c179e"
             ],
             [
              0.4444444444444444,
              "#bd3786"
             ],
             [
              0.5555555555555556,
              "#d8576b"
             ],
             [
              0.6666666666666666,
              "#ed7953"
             ],
             [
              0.7777777777777778,
              "#fb9f3a"
             ],
             [
              0.8888888888888888,
              "#fdca26"
             ],
             [
              1,
              "#f0f921"
             ]
            ],
            "type": "contour"
           }
          ],
          "contourcarpet": [
           {
            "colorbar": {
             "outlinewidth": 0,
             "ticks": ""
            },
            "type": "contourcarpet"
           }
          ],
          "heatmap": [
           {
            "colorbar": {
             "outlinewidth": 0,
             "ticks": ""
            },
            "colorscale": [
             [
              0,
              "#0d0887"
             ],
             [
              0.1111111111111111,
              "#46039f"
             ],
             [
              0.2222222222222222,
              "#7201a8"
             ],
             [
              0.3333333333333333,
              "#9c179e"
             ],
             [
              0.4444444444444444,
              "#bd3786"
             ],
             [
              0.5555555555555556,
              "#d8576b"
             ],
             [
              0.6666666666666666,
              "#ed7953"
             ],
             [
              0.7777777777777778,
              "#fb9f3a"
             ],
             [
              0.8888888888888888,
              "#fdca26"
             ],
             [
              1,
              "#f0f921"
             ]
            ],
            "type": "heatmap"
           }
          ],
          "heatmapgl": [
           {
            "colorbar": {
             "outlinewidth": 0,
             "ticks": ""
            },
            "colorscale": [
             [
              0,
              "#0d0887"
             ],
             [
              0.1111111111111111,
              "#46039f"
             ],
             [
              0.2222222222222222,
              "#7201a8"
             ],
             [
              0.3333333333333333,
              "#9c179e"
             ],
             [
              0.4444444444444444,
              "#bd3786"
             ],
             [
              0.5555555555555556,
              "#d8576b"
             ],
             [
              0.6666666666666666,
              "#ed7953"
             ],
             [
              0.7777777777777778,
              "#fb9f3a"
             ],
             [
              0.8888888888888888,
              "#fdca26"
             ],
             [
              1,
              "#f0f921"
             ]
            ],
            "type": "heatmapgl"
           }
          ],
          "histogram": [
           {
            "marker": {
             "pattern": {
              "fillmode": "overlay",
              "size": 10,
              "solidity": 0.2
             }
            },
            "type": "histogram"
           }
          ],
          "histogram2d": [
           {
            "colorbar": {
             "outlinewidth": 0,
             "ticks": ""
            },
            "colorscale": [
             [
              0,
              "#0d0887"
             ],
             [
              0.1111111111111111,
              "#46039f"
             ],
             [
              0.2222222222222222,
              "#7201a8"
             ],
             [
              0.3333333333333333,
              "#9c179e"
             ],
             [
              0.4444444444444444,
              "#bd3786"
             ],
             [
              0.5555555555555556,
              "#d8576b"
             ],
             [
              0.6666666666666666,
              "#ed7953"
             ],
             [
              0.7777777777777778,
              "#fb9f3a"
             ],
             [
              0.8888888888888888,
              "#fdca26"
             ],
             [
              1,
              "#f0f921"
             ]
            ],
            "type": "histogram2d"
           }
          ],
          "histogram2dcontour": [
           {
            "colorbar": {
             "outlinewidth": 0,
             "ticks": ""
            },
            "colorscale": [
             [
              0,
              "#0d0887"
             ],
             [
              0.1111111111111111,
              "#46039f"
             ],
             [
              0.2222222222222222,
              "#7201a8"
             ],
             [
              0.3333333333333333,
              "#9c179e"
             ],
             [
              0.4444444444444444,
              "#bd3786"
             ],
             [
              0.5555555555555556,
              "#d8576b"
             ],
             [
              0.6666666666666666,
              "#ed7953"
             ],
             [
              0.7777777777777778,
              "#fb9f3a"
             ],
             [
              0.8888888888888888,
              "#fdca26"
             ],
             [
              1,
              "#f0f921"
             ]
            ],
            "type": "histogram2dcontour"
           }
          ],
          "mesh3d": [
           {
            "colorbar": {
             "outlinewidth": 0,
             "ticks": ""
            },
            "type": "mesh3d"
           }
          ],
          "parcoords": [
           {
            "line": {
             "colorbar": {
              "outlinewidth": 0,
              "ticks": ""
             }
            },
            "type": "parcoords"
           }
          ],
          "pie": [
           {
            "automargin": true,
            "type": "pie"
           }
          ],
          "scatter": [
           {
            "marker": {
             "colorbar": {
              "outlinewidth": 0,
              "ticks": ""
             }
            },
            "type": "scatter"
           }
          ],
          "scatter3d": [
           {
            "line": {
             "colorbar": {
              "outlinewidth": 0,
              "ticks": ""
             }
            },
            "marker": {
             "colorbar": {
              "outlinewidth": 0,
              "ticks": ""
             }
            },
            "type": "scatter3d"
           }
          ],
          "scattercarpet": [
           {
            "marker": {
             "colorbar": {
              "outlinewidth": 0,
              "ticks": ""
             }
            },
            "type": "scattercarpet"
           }
          ],
          "scattergeo": [
           {
            "marker": {
             "colorbar": {
              "outlinewidth": 0,
              "ticks": ""
             }
            },
            "type": "scattergeo"
           }
          ],
          "scattergl": [
           {
            "marker": {
             "colorbar": {
              "outlinewidth": 0,
              "ticks": ""
             }
            },
            "type": "scattergl"
           }
          ],
          "scattermapbox": [
           {
            "marker": {
             "colorbar": {
              "outlinewidth": 0,
              "ticks": ""
             }
            },
            "type": "scattermapbox"
           }
          ],
          "scatterpolar": [
           {
            "marker": {
             "colorbar": {
              "outlinewidth": 0,
              "ticks": ""
             }
            },
            "type": "scatterpolar"
           }
          ],
          "scatterpolargl": [
           {
            "marker": {
             "colorbar": {
              "outlinewidth": 0,
              "ticks": ""
             }
            },
            "type": "scatterpolargl"
           }
          ],
          "scatterternary": [
           {
            "marker": {
             "colorbar": {
              "outlinewidth": 0,
              "ticks": ""
             }
            },
            "type": "scatterternary"
           }
          ],
          "surface": [
           {
            "colorbar": {
             "outlinewidth": 0,
             "ticks": ""
            },
            "colorscale": [
             [
              0,
              "#0d0887"
             ],
             [
              0.1111111111111111,
              "#46039f"
             ],
             [
              0.2222222222222222,
              "#7201a8"
             ],
             [
              0.3333333333333333,
              "#9c179e"
             ],
             [
              0.4444444444444444,
              "#bd3786"
             ],
             [
              0.5555555555555556,
              "#d8576b"
             ],
             [
              0.6666666666666666,
              "#ed7953"
             ],
             [
              0.7777777777777778,
              "#fb9f3a"
             ],
             [
              0.8888888888888888,
              "#fdca26"
             ],
             [
              1,
              "#f0f921"
             ]
            ],
            "type": "surface"
           }
          ],
          "table": [
           {
            "cells": {
             "fill": {
              "color": "#EBF0F8"
             },
             "line": {
              "color": "white"
             }
            },
            "header": {
             "fill": {
              "color": "#C8D4E3"
             },
             "line": {
              "color": "white"
             }
            },
            "type": "table"
           }
          ]
         },
         "layout": {
          "annotationdefaults": {
           "arrowcolor": "#2a3f5f",
           "arrowhead": 0,
           "arrowwidth": 1
          },
          "autotypenumbers": "strict",
          "coloraxis": {
           "colorbar": {
            "outlinewidth": 0,
            "ticks": ""
           }
          },
          "colorscale": {
           "diverging": [
            [
             0,
             "#8e0152"
            ],
            [
             0.1,
             "#c51b7d"
            ],
            [
             0.2,
             "#de77ae"
            ],
            [
             0.3,
             "#f1b6da"
            ],
            [
             0.4,
             "#fde0ef"
            ],
            [
             0.5,
             "#f7f7f7"
            ],
            [
             0.6,
             "#e6f5d0"
            ],
            [
             0.7,
             "#b8e186"
            ],
            [
             0.8,
             "#7fbc41"
            ],
            [
             0.9,
             "#4d9221"
            ],
            [
             1,
             "#276419"
            ]
           ],
           "sequential": [
            [
             0,
             "#0d0887"
            ],
            [
             0.1111111111111111,
             "#46039f"
            ],
            [
             0.2222222222222222,
             "#7201a8"
            ],
            [
             0.3333333333333333,
             "#9c179e"
            ],
            [
             0.4444444444444444,
             "#bd3786"
            ],
            [
             0.5555555555555556,
             "#d8576b"
            ],
            [
             0.6666666666666666,
             "#ed7953"
            ],
            [
             0.7777777777777778,
             "#fb9f3a"
            ],
            [
             0.8888888888888888,
             "#fdca26"
            ],
            [
             1,
             "#f0f921"
            ]
           ],
           "sequentialminus": [
            [
             0,
             "#0d0887"
            ],
            [
             0.1111111111111111,
             "#46039f"
            ],
            [
             0.2222222222222222,
             "#7201a8"
            ],
            [
             0.3333333333333333,
             "#9c179e"
            ],
            [
             0.4444444444444444,
             "#bd3786"
            ],
            [
             0.5555555555555556,
             "#d8576b"
            ],
            [
             0.6666666666666666,
             "#ed7953"
            ],
            [
             0.7777777777777778,
             "#fb9f3a"
            ],
            [
             0.8888888888888888,
             "#fdca26"
            ],
            [
             1,
             "#f0f921"
            ]
           ]
          },
          "colorway": [
           "#636efa",
           "#EF553B",
           "#00cc96",
           "#ab63fa",
           "#FFA15A",
           "#19d3f3",
           "#FF6692",
           "#B6E880",
           "#FF97FF",
           "#FECB52"
          ],
          "font": {
           "color": "#2a3f5f"
          },
          "geo": {
           "bgcolor": "white",
           "lakecolor": "white",
           "landcolor": "#E5ECF6",
           "showlakes": true,
           "showland": true,
           "subunitcolor": "white"
          },
          "hoverlabel": {
           "align": "left"
          },
          "hovermode": "closest",
          "mapbox": {
           "style": "light"
          },
          "paper_bgcolor": "white",
          "plot_bgcolor": "#E5ECF6",
          "polar": {
           "angularaxis": {
            "gridcolor": "white",
            "linecolor": "white",
            "ticks": ""
           },
           "bgcolor": "#E5ECF6",
           "radialaxis": {
            "gridcolor": "white",
            "linecolor": "white",
            "ticks": ""
           }
          },
          "scene": {
           "xaxis": {
            "backgroundcolor": "#E5ECF6",
            "gridcolor": "white",
            "gridwidth": 2,
            "linecolor": "white",
            "showbackground": true,
            "ticks": "",
            "zerolinecolor": "white"
           },
           "yaxis": {
            "backgroundcolor": "#E5ECF6",
            "gridcolor": "white",
            "gridwidth": 2,
            "linecolor": "white",
            "showbackground": true,
            "ticks": "",
            "zerolinecolor": "white"
           },
           "zaxis": {
            "backgroundcolor": "#E5ECF6",
            "gridcolor": "white",
            "gridwidth": 2,
            "linecolor": "white",
            "showbackground": true,
            "ticks": "",
            "zerolinecolor": "white"
           }
          },
          "shapedefaults": {
           "line": {
            "color": "#2a3f5f"
           }
          },
          "ternary": {
           "aaxis": {
            "gridcolor": "white",
            "linecolor": "white",
            "ticks": ""
           },
           "baxis": {
            "gridcolor": "white",
            "linecolor": "white",
            "ticks": ""
           },
           "bgcolor": "#E5ECF6",
           "caxis": {
            "gridcolor": "white",
            "linecolor": "white",
            "ticks": ""
           }
          },
          "title": {
           "x": 0.05
          },
          "xaxis": {
           "automargin": true,
           "gridcolor": "white",
           "linecolor": "white",
           "ticks": "",
           "title": {
            "standoff": 15
           },
           "zerolinecolor": "white",
           "zerolinewidth": 2
          },
          "yaxis": {
           "automargin": true,
           "gridcolor": "white",
           "linecolor": "white",
           "ticks": "",
           "title": {
            "standoff": 15
           },
           "zerolinecolor": "white",
           "zerolinewidth": 2
          }
         }
        }
       }
      },
      "text/html": [
       "<div>                            <div id=\"6b9b1136-eabf-462f-af64-f5645687303b\" class=\"plotly-graph-div\" style=\"height:525px; width:100%;\"></div>            <script type=\"text/javascript\">                require([\"plotly\"], function(Plotly) {                    window.PLOTLYENV=window.PLOTLYENV || {};                                    if (document.getElementById(\"6b9b1136-eabf-462f-af64-f5645687303b\")) {                    Plotly.newPlot(                        \"6b9b1136-eabf-462f-af64-f5645687303b\",                        [{\"mode\":\"lines\",\"name\":\"linear regression\",\"x\":[2495.0,8980.0,9950.0,12000.0,12000.0,12000.0,14000.0,15490.0,18000.0,19980.0,22767.0,22767.0,23686.112106475557,23686.112106475557,23686.112106475557,23686.112106475557,23686.112106475557,23686.112106475557,23686.112106475557,23686.112106475557,23686.112106475557,23686.112106475557,23686.112106475557,23686.112106475557,23686.112106475557,23686.112106475557,23686.112106475557,23686.112106475557,23686.112106475557,23686.112106475557,23995.0,28990.0,28990.0,29880.0,29899.0,31900.0,35999.0,39950.0,46950.0,59740.0],\"y\":[112643.10142621957,59279.51847377233,70774.95115062222,44942.446582473814,44942.446582473814,44942.446582473814,37424.93739996478,37710.90498819202,34576.17628272623,14886.653658021241,25088.036597365513,25088.036597365513,21264.427979055792,21264.427979055792,21264.427979055792,21264.427979055792,21264.427979055792,21264.427979055792,21264.427979055792,21264.427979055792,21264.427979055792,21264.427979055792,21264.427979055792,21264.427979055792,21264.427979055792,21264.427979055792,21264.427979055792,21264.427979055792,21264.427979055792,21264.427979055792,18120.33831048198,8469.819241439924,8469.819241439924,7835.969892853871,7822.438277546316,304.2169047575444,-2615.051050134003,-5428.914843685925,7865.139072814956,-1243.7745995577425],\"type\":\"scatter\"},{\"mode\":\"lines\",\"name\":\"Stochastic_regression\",\"x\":[2495.0,8980.0,9950.0,12000.0,12000.0,12000.0,14000.0,15490.0,18000.0,19980.0,22767.0,22767.0,23686.112106475557,23686.112106475557,23686.112106475557,23686.112106475557,23686.112106475557,23686.112106475557,23686.112106475557,23686.112106475557,23686.112106475557,23686.112106475557,23686.112106475557,23686.112106475557,23686.112106475557,23686.112106475557,23686.112106475557,23686.112106475557,23686.112106475557,23686.112106475557,23995.0,28990.0,28990.0,29880.0,29899.0,31900.0,35999.0,39950.0,46950.0,59740.0],\"y\":[99154.85821554798,64716.5156994923,90761.86936828532,34012.206267268,40992.09574322525,20706.727139237173,30190.984712782483,56665.34518004697,35678.95292131667,14633.82880780582,25186.460769309473,18924.843630961786,18296.831516854312,25347.10452316216,12196.39763890703,20690.627987539312,20697.405035206375,7424.590759260433,34702.43219073293,-1850.5318007428214,29537.55514660274,6387.198832820097,9642.178608968881,32639.431842498772,6546.665412823726,8189.860196103578,32933.98263429278,-6831.6206449474885,24411.35869603161,29910.030533712714,42516.60756595335,-4285.304286768627,-1540.6541580431112,10886.15257567872,-6008.8607581114065,16700.900288311022,-15196.393566455889,1028.1707337596608,2696.64231291995,27991.078558817648],\"type\":\"scatter\"}],                        {\"template\":{\"data\":{\"bar\":[{\"error_x\":{\"color\":\"#2a3f5f\"},\"error_y\":{\"color\":\"#2a3f5f\"},\"marker\":{\"line\":{\"color\":\"#E5ECF6\",\"width\":0.5},\"pattern\":{\"fillmode\":\"overlay\",\"size\":10,\"solidity\":0.2}},\"type\":\"bar\"}],\"barpolar\":[{\"marker\":{\"line\":{\"color\":\"#E5ECF6\",\"width\":0.5},\"pattern\":{\"fillmode\":\"overlay\",\"size\":10,\"solidity\":0.2}},\"type\":\"barpolar\"}],\"carpet\":[{\"aaxis\":{\"endlinecolor\":\"#2a3f5f\",\"gridcolor\":\"white\",\"linecolor\":\"white\",\"minorgridcolor\":\"white\",\"startlinecolor\":\"#2a3f5f\"},\"baxis\":{\"endlinecolor\":\"#2a3f5f\",\"gridcolor\":\"white\",\"linecolor\":\"white\",\"minorgridcolor\":\"white\",\"startlinecolor\":\"#2a3f5f\"},\"type\":\"carpet\"}],\"choropleth\":[{\"colorbar\":{\"outlinewidth\":0,\"ticks\":\"\"},\"type\":\"choropleth\"}],\"contour\":[{\"colorbar\":{\"outlinewidth\":0,\"ticks\":\"\"},\"colorscale\":[[0.0,\"#0d0887\"],[0.1111111111111111,\"#46039f\"],[0.2222222222222222,\"#7201a8\"],[0.3333333333333333,\"#9c179e\"],[0.4444444444444444,\"#bd3786\"],[0.5555555555555556,\"#d8576b\"],[0.6666666666666666,\"#ed7953\"],[0.7777777777777778,\"#fb9f3a\"],[0.8888888888888888,\"#fdca26\"],[1.0,\"#f0f921\"]],\"type\":\"contour\"}],\"contourcarpet\":[{\"colorbar\":{\"outlinewidth\":0,\"ticks\":\"\"},\"type\":\"contourcarpet\"}],\"heatmap\":[{\"colorbar\":{\"outlinewidth\":0,\"ticks\":\"\"},\"colorscale\":[[0.0,\"#0d0887\"],[0.1111111111111111,\"#46039f\"],[0.2222222222222222,\"#7201a8\"],[0.3333333333333333,\"#9c179e\"],[0.4444444444444444,\"#bd3786\"],[0.5555555555555556,\"#d8576b\"],[0.6666666666666666,\"#ed7953\"],[0.7777777777777778,\"#fb9f3a\"],[0.8888888888888888,\"#fdca26\"],[1.0,\"#f0f921\"]],\"type\":\"heatmap\"}],\"heatmapgl\":[{\"colorbar\":{\"outlinewidth\":0,\"ticks\":\"\"},\"colorscale\":[[0.0,\"#0d0887\"],[0.1111111111111111,\"#46039f\"],[0.2222222222222222,\"#7201a8\"],[0.3333333333333333,\"#9c179e\"],[0.4444444444444444,\"#bd3786\"],[0.5555555555555556,\"#d8576b\"],[0.6666666666666666,\"#ed7953\"],[0.7777777777777778,\"#fb9f3a\"],[0.8888888888888888,\"#fdca26\"],[1.0,\"#f0f921\"]],\"type\":\"heatmapgl\"}],\"histogram\":[{\"marker\":{\"pattern\":{\"fillmode\":\"overlay\",\"size\":10,\"solidity\":0.2}},\"type\":\"histogram\"}],\"histogram2d\":[{\"colorbar\":{\"outlinewidth\":0,\"ticks\":\"\"},\"colorscale\":[[0.0,\"#0d0887\"],[0.1111111111111111,\"#46039f\"],[0.2222222222222222,\"#7201a8\"],[0.3333333333333333,\"#9c179e\"],[0.4444444444444444,\"#bd3786\"],[0.5555555555555556,\"#d8576b\"],[0.6666666666666666,\"#ed7953\"],[0.7777777777777778,\"#fb9f3a\"],[0.8888888888888888,\"#fdca26\"],[1.0,\"#f0f921\"]],\"type\":\"histogram2d\"}],\"histogram2dcontour\":[{\"colorbar\":{\"outlinewidth\":0,\"ticks\":\"\"},\"colorscale\":[[0.0,\"#0d0887\"],[0.1111111111111111,\"#46039f\"],[0.2222222222222222,\"#7201a8\"],[0.3333333333333333,\"#9c179e\"],[0.4444444444444444,\"#bd3786\"],[0.5555555555555556,\"#d8576b\"],[0.6666666666666666,\"#ed7953\"],[0.7777777777777778,\"#fb9f3a\"],[0.8888888888888888,\"#fdca26\"],[1.0,\"#f0f921\"]],\"type\":\"histogram2dcontour\"}],\"mesh3d\":[{\"colorbar\":{\"outlinewidth\":0,\"ticks\":\"\"},\"type\":\"mesh3d\"}],\"parcoords\":[{\"line\":{\"colorbar\":{\"outlinewidth\":0,\"ticks\":\"\"}},\"type\":\"parcoords\"}],\"pie\":[{\"automargin\":true,\"type\":\"pie\"}],\"scatter\":[{\"marker\":{\"colorbar\":{\"outlinewidth\":0,\"ticks\":\"\"}},\"type\":\"scatter\"}],\"scatter3d\":[{\"line\":{\"colorbar\":{\"outlinewidth\":0,\"ticks\":\"\"}},\"marker\":{\"colorbar\":{\"outlinewidth\":0,\"ticks\":\"\"}},\"type\":\"scatter3d\"}],\"scattercarpet\":[{\"marker\":{\"colorbar\":{\"outlinewidth\":0,\"ticks\":\"\"}},\"type\":\"scattercarpet\"}],\"scattergeo\":[{\"marker\":{\"colorbar\":{\"outlinewidth\":0,\"ticks\":\"\"}},\"type\":\"scattergeo\"}],\"scattergl\":[{\"marker\":{\"colorbar\":{\"outlinewidth\":0,\"ticks\":\"\"}},\"type\":\"scattergl\"}],\"scattermapbox\":[{\"marker\":{\"colorbar\":{\"outlinewidth\":0,\"ticks\":\"\"}},\"type\":\"scattermapbox\"}],\"scatterpolar\":[{\"marker\":{\"colorbar\":{\"outlinewidth\":0,\"ticks\":\"\"}},\"type\":\"scatterpolar\"}],\"scatterpolargl\":[{\"marker\":{\"colorbar\":{\"outlinewidth\":0,\"ticks\":\"\"}},\"type\":\"scatterpolargl\"}],\"scatterternary\":[{\"marker\":{\"colorbar\":{\"outlinewidth\":0,\"ticks\":\"\"}},\"type\":\"scatterternary\"}],\"surface\":[{\"colorbar\":{\"outlinewidth\":0,\"ticks\":\"\"},\"colorscale\":[[0.0,\"#0d0887\"],[0.1111111111111111,\"#46039f\"],[0.2222222222222222,\"#7201a8\"],[0.3333333333333333,\"#9c179e\"],[0.4444444444444444,\"#bd3786\"],[0.5555555555555556,\"#d8576b\"],[0.6666666666666666,\"#ed7953\"],[0.7777777777777778,\"#fb9f3a\"],[0.8888888888888888,\"#fdca26\"],[1.0,\"#f0f921\"]],\"type\":\"surface\"}],\"table\":[{\"cells\":{\"fill\":{\"color\":\"#EBF0F8\"},\"line\":{\"color\":\"white\"}},\"header\":{\"fill\":{\"color\":\"#C8D4E3\"},\"line\":{\"color\":\"white\"}},\"type\":\"table\"}]},\"layout\":{\"annotationdefaults\":{\"arrowcolor\":\"#2a3f5f\",\"arrowhead\":0,\"arrowwidth\":1},\"autotypenumbers\":\"strict\",\"coloraxis\":{\"colorbar\":{\"outlinewidth\":0,\"ticks\":\"\"}},\"colorscale\":{\"diverging\":[[0,\"#8e0152\"],[0.1,\"#c51b7d\"],[0.2,\"#de77ae\"],[0.3,\"#f1b6da\"],[0.4,\"#fde0ef\"],[0.5,\"#f7f7f7\"],[0.6,\"#e6f5d0\"],[0.7,\"#b8e186\"],[0.8,\"#7fbc41\"],[0.9,\"#4d9221\"],[1,\"#276419\"]],\"sequential\":[[0.0,\"#0d0887\"],[0.1111111111111111,\"#46039f\"],[0.2222222222222222,\"#7201a8\"],[0.3333333333333333,\"#9c179e\"],[0.4444444444444444,\"#bd3786\"],[0.5555555555555556,\"#d8576b\"],[0.6666666666666666,\"#ed7953\"],[0.7777777777777778,\"#fb9f3a\"],[0.8888888888888888,\"#fdca26\"],[1.0,\"#f0f921\"]],\"sequentialminus\":[[0.0,\"#0d0887\"],[0.1111111111111111,\"#46039f\"],[0.2222222222222222,\"#7201a8\"],[0.3333333333333333,\"#9c179e\"],[0.4444444444444444,\"#bd3786\"],[0.5555555555555556,\"#d8576b\"],[0.6666666666666666,\"#ed7953\"],[0.7777777777777778,\"#fb9f3a\"],[0.8888888888888888,\"#fdca26\"],[1.0,\"#f0f921\"]]},\"colorway\":[\"#636efa\",\"#EF553B\",\"#00cc96\",\"#ab63fa\",\"#FFA15A\",\"#19d3f3\",\"#FF6692\",\"#B6E880\",\"#FF97FF\",\"#FECB52\"],\"font\":{\"color\":\"#2a3f5f\"},\"geo\":{\"bgcolor\":\"white\",\"lakecolor\":\"white\",\"landcolor\":\"#E5ECF6\",\"showlakes\":true,\"showland\":true,\"subunitcolor\":\"white\"},\"hoverlabel\":{\"align\":\"left\"},\"hovermode\":\"closest\",\"mapbox\":{\"style\":\"light\"},\"paper_bgcolor\":\"white\",\"plot_bgcolor\":\"#E5ECF6\",\"polar\":{\"angularaxis\":{\"gridcolor\":\"white\",\"linecolor\":\"white\",\"ticks\":\"\"},\"bgcolor\":\"#E5ECF6\",\"radialaxis\":{\"gridcolor\":\"white\",\"linecolor\":\"white\",\"ticks\":\"\"}},\"scene\":{\"xaxis\":{\"backgroundcolor\":\"#E5ECF6\",\"gridcolor\":\"white\",\"gridwidth\":2,\"linecolor\":\"white\",\"showbackground\":true,\"ticks\":\"\",\"zerolinecolor\":\"white\"},\"yaxis\":{\"backgroundcolor\":\"#E5ECF6\",\"gridcolor\":\"white\",\"gridwidth\":2,\"linecolor\":\"white\",\"showbackground\":true,\"ticks\":\"\",\"zerolinecolor\":\"white\"},\"zaxis\":{\"backgroundcolor\":\"#E5ECF6\",\"gridcolor\":\"white\",\"gridwidth\":2,\"linecolor\":\"white\",\"showbackground\":true,\"ticks\":\"\",\"zerolinecolor\":\"white\"}},\"shapedefaults\":{\"line\":{\"color\":\"#2a3f5f\"}},\"ternary\":{\"aaxis\":{\"gridcolor\":\"white\",\"linecolor\":\"white\",\"ticks\":\"\"},\"baxis\":{\"gridcolor\":\"white\",\"linecolor\":\"white\",\"ticks\":\"\"},\"bgcolor\":\"#E5ECF6\",\"caxis\":{\"gridcolor\":\"white\",\"linecolor\":\"white\",\"ticks\":\"\"}},\"title\":{\"x\":0.05},\"xaxis\":{\"automargin\":true,\"gridcolor\":\"white\",\"linecolor\":\"white\",\"ticks\":\"\",\"title\":{\"standoff\":15},\"zerolinecolor\":\"white\",\"zerolinewidth\":2},\"yaxis\":{\"automargin\":true,\"gridcolor\":\"white\",\"linecolor\":\"white\",\"ticks\":\"\",\"title\":{\"standoff\":15},\"zerolinecolor\":\"white\",\"zerolinewidth\":2}}}},                        {\"responsive\": true}                    ).then(function(){\n",
       "                            \n",
       "var gd = document.getElementById('6b9b1136-eabf-462f-af64-f5645687303b');\n",
       "var x = new MutationObserver(function (mutations, observer) {{\n",
       "        var display = window.getComputedStyle(gd).display;\n",
       "        if (!display || display === 'none') {{\n",
       "            console.log([gd, 'removed!']);\n",
       "            Plotly.purge(gd);\n",
       "            observer.disconnect();\n",
       "        }}\n",
       "}});\n",
       "\n",
       "// Listen for the removal of the full notebook cells\n",
       "var notebookContainer = gd.closest('#notebook-container');\n",
       "if (notebookContainer) {{\n",
       "    x.observe(notebookContainer, {childList: true});\n",
       "}}\n",
       "\n",
       "// Listen for the clearing of the current output cell\n",
       "var outputEl = gd.closest('.output');\n",
       "if (outputEl) {{\n",
       "    x.observe(outputEl, {childList: true});\n",
       "}}\n",
       "\n",
       "                        })                };                });            </script>        </div>"
      ]
     },
     "metadata": {},
     "output_type": "display_data"
    }
   ],
   "source": [
    "plot(prediction, 'price_imp', ['linear regression', 'Stochastic_regression'], sample = True, sample_size = .2)"
   ]
  },
  {
   "cell_type": "markdown",
   "id": "ddf6e372",
   "metadata": {},
   "source": [
    "## KS y Chi-square"
   ]
  },
  {
   "cell_type": "code",
   "execution_count": 97,
   "id": "c9ed2a4b",
   "metadata": {},
   "outputs": [],
   "source": [
    "from scipy.stats import ks_2samp, chisquare"
   ]
  },
  {
   "cell_type": "code",
   "execution_count": 99,
   "id": "6699b753",
   "metadata": {},
   "outputs": [],
   "source": [
    "ks_2samp?"
   ]
  },
  {
   "cell_type": "code",
   "execution_count": 100,
   "id": "1f60ae2e",
   "metadata": {},
   "outputs": [
    {
     "data": {
      "text/html": [
       "<div>\n",
       "<style scoped>\n",
       "    .dataframe tbody tr th:only-of-type {\n",
       "        vertical-align: middle;\n",
       "    }\n",
       "\n",
       "    .dataframe tbody tr th {\n",
       "        vertical-align: top;\n",
       "    }\n",
       "\n",
       "    .dataframe thead th {\n",
       "        text-align: right;\n",
       "    }\n",
       "</style>\n",
       "<table border=\"1\" class=\"dataframe\">\n",
       "  <thead>\n",
       "    <tr style=\"text-align: right;\">\n",
       "      <th></th>\n",
       "      <th>year</th>\n",
       "      <th>price</th>\n",
       "      <th>mileage</th>\n",
       "      <th>year_imp</th>\n",
       "      <th>price_imp</th>\n",
       "      <th>mileage_imp</th>\n",
       "      <th>year_ind</th>\n",
       "      <th>price_ind</th>\n",
       "      <th>mileage_ind</th>\n",
       "    </tr>\n",
       "  </thead>\n",
       "  <tbody>\n",
       "    <tr>\n",
       "      <th>0</th>\n",
       "      <td>2020.0</td>\n",
       "      <td>30495</td>\n",
       "      <td>NaN</td>\n",
       "      <td>2020.0</td>\n",
       "      <td>30495.0</td>\n",
       "      <td>7585.0</td>\n",
       "      <td>0.0</td>\n",
       "      <td>0.0</td>\n",
       "      <td>1.0</td>\n",
       "    </tr>\n",
       "    <tr>\n",
       "      <th>1</th>\n",
       "      <td>2020.0</td>\n",
       "      <td>29989</td>\n",
       "      <td>NaN</td>\n",
       "      <td>2020.0</td>\n",
       "      <td>29989.0</td>\n",
       "      <td>5970.6</td>\n",
       "      <td>0.0</td>\n",
       "      <td>0.0</td>\n",
       "      <td>1.0</td>\n",
       "    </tr>\n",
       "    <tr>\n",
       "      <th>2</th>\n",
       "      <td>2020.0</td>\n",
       "      <td>37899</td>\n",
       "      <td>NaN</td>\n",
       "      <td>2020.0</td>\n",
       "      <td>37899.0</td>\n",
       "      <td>8219.2</td>\n",
       "      <td>0.0</td>\n",
       "      <td>0.0</td>\n",
       "      <td>1.0</td>\n",
       "    </tr>\n",
       "    <tr>\n",
       "      <th>3</th>\n",
       "      <td>2019.0</td>\n",
       "      <td>30399</td>\n",
       "      <td>NaN</td>\n",
       "      <td>2019.0</td>\n",
       "      <td>30399.0</td>\n",
       "      <td>6758.2</td>\n",
       "      <td>0.0</td>\n",
       "      <td>0.0</td>\n",
       "      <td>1.0</td>\n",
       "    </tr>\n",
       "    <tr>\n",
       "      <th>4</th>\n",
       "      <td>2019.0</td>\n",
       "      <td>29899</td>\n",
       "      <td>NaN</td>\n",
       "      <td>2019.0</td>\n",
       "      <td>29899.0</td>\n",
       "      <td>7028.6</td>\n",
       "      <td>0.0</td>\n",
       "      <td>0.0</td>\n",
       "      <td>1.0</td>\n",
       "    </tr>\n",
       "    <tr>\n",
       "      <th>...</th>\n",
       "      <td>...</td>\n",
       "      <td>...</td>\n",
       "      <td>...</td>\n",
       "      <td>...</td>\n",
       "      <td>...</td>\n",
       "      <td>...</td>\n",
       "      <td>...</td>\n",
       "      <td>...</td>\n",
       "      <td>...</td>\n",
       "    </tr>\n",
       "    <tr>\n",
       "      <th>4001</th>\n",
       "      <td>2017.0</td>\n",
       "      <td>14700</td>\n",
       "      <td>31357.0</td>\n",
       "      <td>2017.0</td>\n",
       "      <td>14700.0</td>\n",
       "      <td>31357.0</td>\n",
       "      <td>0.0</td>\n",
       "      <td>0.0</td>\n",
       "      <td>0.0</td>\n",
       "    </tr>\n",
       "    <tr>\n",
       "      <th>4002</th>\n",
       "      <td>2018.0</td>\n",
       "      <td>18500</td>\n",
       "      <td>28248.0</td>\n",
       "      <td>2018.0</td>\n",
       "      <td>18500.0</td>\n",
       "      <td>28248.0</td>\n",
       "      <td>0.0</td>\n",
       "      <td>0.0</td>\n",
       "      <td>0.0</td>\n",
       "    </tr>\n",
       "    <tr>\n",
       "      <th>4003</th>\n",
       "      <td>2014.0</td>\n",
       "      <td>11900</td>\n",
       "      <td>48055.0</td>\n",
       "      <td>2014.0</td>\n",
       "      <td>11900.0</td>\n",
       "      <td>48055.0</td>\n",
       "      <td>0.0</td>\n",
       "      <td>0.0</td>\n",
       "      <td>0.0</td>\n",
       "    </tr>\n",
       "    <tr>\n",
       "      <th>4004</th>\n",
       "      <td>2014.0</td>\n",
       "      <td>11300</td>\n",
       "      <td>49865.0</td>\n",
       "      <td>2014.0</td>\n",
       "      <td>11300.0</td>\n",
       "      <td>49865.0</td>\n",
       "      <td>0.0</td>\n",
       "      <td>0.0</td>\n",
       "      <td>0.0</td>\n",
       "    </tr>\n",
       "    <tr>\n",
       "      <th>4005</th>\n",
       "      <td>2014.0</td>\n",
       "      <td>14800</td>\n",
       "      <td>55445.0</td>\n",
       "      <td>2014.0</td>\n",
       "      <td>14800.0</td>\n",
       "      <td>55445.0</td>\n",
       "      <td>0.0</td>\n",
       "      <td>0.0</td>\n",
       "      <td>0.0</td>\n",
       "    </tr>\n",
       "  </tbody>\n",
       "</table>\n",
       "<p>4006 rows × 9 columns</p>\n",
       "</div>"
      ],
      "text/plain": [
       "        year  price  mileage  year_imp  price_imp  mileage_imp  year_ind  \\\n",
       "0     2020.0  30495      NaN    2020.0    30495.0       7585.0       0.0   \n",
       "1     2020.0  29989      NaN    2020.0    29989.0       5970.6       0.0   \n",
       "2     2020.0  37899      NaN    2020.0    37899.0       8219.2       0.0   \n",
       "3     2019.0  30399      NaN    2019.0    30399.0       6758.2       0.0   \n",
       "4     2019.0  29899      NaN    2019.0    29899.0       7028.6       0.0   \n",
       "...      ...    ...      ...       ...        ...          ...       ...   \n",
       "4001  2017.0  14700  31357.0    2017.0    14700.0      31357.0       0.0   \n",
       "4002  2018.0  18500  28248.0    2018.0    18500.0      28248.0       0.0   \n",
       "4003  2014.0  11900  48055.0    2014.0    11900.0      48055.0       0.0   \n",
       "4004  2014.0  11300  49865.0    2014.0    11300.0      49865.0       0.0   \n",
       "4005  2014.0  14800  55445.0    2014.0    14800.0      55445.0       0.0   \n",
       "\n",
       "      price_ind  mileage_ind  \n",
       "0           0.0          1.0  \n",
       "1           0.0          1.0  \n",
       "2           0.0          1.0  \n",
       "3           0.0          1.0  \n",
       "4           0.0          1.0  \n",
       "...         ...          ...  \n",
       "4001        0.0          0.0  \n",
       "4002        0.0          0.0  \n",
       "4003        0.0          0.0  \n",
       "4004        0.0          0.0  \n",
       "4005        0.0          0.0  \n",
       "\n",
       "[4006 rows x 9 columns]"
      ]
     },
     "execution_count": 100,
     "metadata": {},
     "output_type": "execute_result"
    }
   ],
   "source": [
    "aux3"
   ]
  },
  {
   "cell_type": "code",
   "execution_count": 102,
   "id": "a5bdf738",
   "metadata": {},
   "outputs": [],
   "source": [
    "rsp1 = aux3['price_imp']\n",
    "rsm1 = aux3['mileage_imp']\n",
    "rsp2 = aux3['price_imp'].loc[aux3['price'].isna() == False]\n",
    "rsm2 = aux3['mileage_imp'].loc[aux3['mileage'].isna() == False]"
   ]
  },
  {
   "cell_type": "code",
   "execution_count": 103,
   "id": "fdb5cafa",
   "metadata": {},
   "outputs": [
    {
     "data": {
      "text/plain": [
       "0"
      ]
     },
     "execution_count": 103,
     "metadata": {},
     "output_type": "execute_result"
    }
   ],
   "source": [
    "import random as rn\n",
    "rn.randint(0,5)"
   ]
  },
  {
   "cell_type": "code",
   "execution_count": 106,
   "id": "01dd4dad",
   "metadata": {},
   "outputs": [
    {
     "data": {
      "text/plain": [
       "KstestResult(statistic=0.96, pvalue=9.812536491204155e-26)"
      ]
     },
     "execution_count": 106,
     "metadata": {},
     "output_type": "execute_result"
    }
   ],
   "source": [
    "ks_2samp([i for i in range(50)], [i+rn.randint(0,5) for i in range(-50, 0)]) # Distribuciones distintas"
   ]
  },
  {
   "cell_type": "code",
   "execution_count": 107,
   "id": "e9ae070e",
   "metadata": {},
   "outputs": [
    {
     "data": {
      "text/plain": [
       "KstestResult(statistic=0.0, pvalue=1.0)"
      ]
     },
     "execution_count": 107,
     "metadata": {},
     "output_type": "execute_result"
    }
   ],
   "source": [
    "ks_2samp([i for i in range(50)], [i for i in range(50)]) # Distribuciones iguales"
   ]
  },
  {
   "cell_type": "code",
   "execution_count": 108,
   "id": "9bc4bed4",
   "metadata": {},
   "outputs": [
    {
     "data": {
      "text/plain": [
       "KstestResult(statistic=0.013049085189722455, pvalue=0.882796852588368)"
      ]
     },
     "execution_count": 108,
     "metadata": {},
     "output_type": "execute_result"
    }
   ],
   "source": [
    "# KS\n",
    "ks_2samp(rsp1, rsp2)"
   ]
  },
  {
   "cell_type": "code",
   "execution_count": 109,
   "id": "72e512d2",
   "metadata": {},
   "outputs": [
    {
     "data": {
      "text/plain": [
       "KstestResult(statistic=0.021390647274817078, pvalue=0.3273621400824941)"
      ]
     },
     "execution_count": 109,
     "metadata": {},
     "output_type": "execute_result"
    }
   ],
   "source": [
    "ks_2samp(rsm1, rsm2)"
   ]
  },
  {
   "cell_type": "markdown",
   "id": "83198ef1",
   "metadata": {},
   "source": [
    "La prueba nos muestra el pvalue, si nosotros asginaramos un nivel de significancia $\\alpha$ = .05, entonces requeriríamos que el pvalue fuese menor a ese .05. En este caso no se cumple, por lo que no podemos rechazar la hipótesis nula de que ambos provienen de una misma muestra aleatoria.\n",
    "\n",
    "Por ende, dado que el pvalue nos reporta que no es menor que nuestro alpha, podemos no rechazar la hipótesis nula. "
   ]
  },
  {
   "cell_type": "code",
   "execution_count": 110,
   "id": "bf6ad187",
   "metadata": {},
   "outputs": [],
   "source": [
    "val = prediction.copy()\n",
    "val['Stochastic regression'] = val['Stochastic_regression']"
   ]
  },
  {
   "cell_type": "code",
   "execution_count": 111,
   "id": "b3fc48d2",
   "metadata": {},
   "outputs": [
    {
     "data": {
      "text/plain": [
       "KstestResult(statistic=0.2537313432835821, pvalue=4.301751530917112e-06)"
      ]
     },
     "execution_count": 111,
     "metadata": {},
     "output_type": "execute_result"
    }
   ],
   "source": [
    "# KS\n",
    "\n",
    "ks_2samp(val['linear regression'], val['Stochastic regression'])"
   ]
  },
  {
   "cell_type": "code",
   "execution_count": 112,
   "id": "791dcbcc",
   "metadata": {},
   "outputs": [
    {
     "data": {
      "text/plain": [
       "Index(['year_imp', 'price_imp', 'year_ind', 'price_ind', 'mileage',\n",
       "       'linear regression', 'linear_regression_abs', 'linear_regression_val',\n",
       "       'Stochastic_regression', 'Stochastic_regression_val',\n",
       "       'Stochastic_regression_abs', 'Stochastic regression'],\n",
       "      dtype='object')"
      ]
     },
     "execution_count": 112,
     "metadata": {},
     "output_type": "execute_result"
    }
   ],
   "source": [
    "val.columns"
   ]
  },
  {
   "cell_type": "code",
   "execution_count": 113,
   "id": "9438598c",
   "metadata": {},
   "outputs": [
    {
     "data": {
      "text/plain": [
       "KstestResult(statistic=0.04477611940298507, pvalue=0.9881281871806125)"
      ]
     },
     "execution_count": 113,
     "metadata": {},
     "output_type": "execute_result"
    }
   ],
   "source": [
    "ks_2samp(val['linear regression'], val['linear_regression_val'])"
   ]
  },
  {
   "cell_type": "code",
   "execution_count": 114,
   "id": "c3e69e56",
   "metadata": {},
   "outputs": [
    {
     "data": {
      "text/plain": [
       "KstestResult(statistic=0.04477611940298507, pvalue=0.9881281871806125)"
      ]
     },
     "execution_count": 114,
     "metadata": {},
     "output_type": "execute_result"
    }
   ],
   "source": [
    "ks_2samp(val['linear regression'], val['linear_regression_abs'])"
   ]
  },
  {
   "cell_type": "code",
   "execution_count": 115,
   "id": "e6f49c18",
   "metadata": {},
   "outputs": [
    {
     "data": {
      "text/plain": [
       "KstestResult(statistic=0.04477611940298507, pvalue=0.9881281871806125)"
      ]
     },
     "execution_count": 115,
     "metadata": {},
     "output_type": "execute_result"
    }
   ],
   "source": [
    "ks_2samp(val['linear_regression_val'], val['linear_regression_abs'])"
   ]
  },
  {
   "cell_type": "markdown",
   "id": "e4cf2725",
   "metadata": {},
   "source": [
    "# Chi"
   ]
  },
  {
   "cell_type": "code",
   "execution_count": 116,
   "id": "237e53cf",
   "metadata": {},
   "outputs": [],
   "source": [
    "chisquare?"
   ]
  },
  {
   "cell_type": "code",
   "execution_count": 117,
   "id": "e807e244",
   "metadata": {},
   "outputs": [
    {
     "data": {
      "text/html": [
       "<div>\n",
       "<style scoped>\n",
       "    .dataframe tbody tr th:only-of-type {\n",
       "        vertical-align: middle;\n",
       "    }\n",
       "\n",
       "    .dataframe tbody tr th {\n",
       "        vertical-align: top;\n",
       "    }\n",
       "\n",
       "    .dataframe thead th {\n",
       "        text-align: right;\n",
       "    }\n",
       "</style>\n",
       "<table border=\"1\" class=\"dataframe\">\n",
       "  <thead>\n",
       "    <tr style=\"text-align: right;\">\n",
       "      <th></th>\n",
       "      <th>gender</th>\n",
       "      <th>major_discipline</th>\n",
       "      <th>gender_imp_mode</th>\n",
       "      <th>major_discipline_imp_fixed_value</th>\n",
       "    </tr>\n",
       "  </thead>\n",
       "  <tbody>\n",
       "    <tr>\n",
       "      <th>0</th>\n",
       "      <td>Male</td>\n",
       "      <td>STEM</td>\n",
       "      <td>Male</td>\n",
       "      <td>STEM</td>\n",
       "    </tr>\n",
       "    <tr>\n",
       "      <th>1</th>\n",
       "      <td>Male</td>\n",
       "      <td>STEM</td>\n",
       "      <td>Male</td>\n",
       "      <td>STEM</td>\n",
       "    </tr>\n",
       "    <tr>\n",
       "      <th>2</th>\n",
       "      <td>NaN</td>\n",
       "      <td>STEM</td>\n",
       "      <td>Other</td>\n",
       "      <td>STEM</td>\n",
       "    </tr>\n",
       "    <tr>\n",
       "      <th>3</th>\n",
       "      <td>NaN</td>\n",
       "      <td>Business Degree</td>\n",
       "      <td>Other</td>\n",
       "      <td>Business Degree</td>\n",
       "    </tr>\n",
       "    <tr>\n",
       "      <th>4</th>\n",
       "      <td>Male</td>\n",
       "      <td>STEM</td>\n",
       "      <td>Male</td>\n",
       "      <td>STEM</td>\n",
       "    </tr>\n",
       "    <tr>\n",
       "      <th>...</th>\n",
       "      <td>...</td>\n",
       "      <td>...</td>\n",
       "      <td>...</td>\n",
       "      <td>...</td>\n",
       "    </tr>\n",
       "    <tr>\n",
       "      <th>19153</th>\n",
       "      <td>Male</td>\n",
       "      <td>Humanities</td>\n",
       "      <td>Male</td>\n",
       "      <td>Humanities</td>\n",
       "    </tr>\n",
       "    <tr>\n",
       "      <th>19154</th>\n",
       "      <td>Male</td>\n",
       "      <td>STEM</td>\n",
       "      <td>Male</td>\n",
       "      <td>STEM</td>\n",
       "    </tr>\n",
       "    <tr>\n",
       "      <th>19155</th>\n",
       "      <td>Male</td>\n",
       "      <td>STEM</td>\n",
       "      <td>Male</td>\n",
       "      <td>STEM</td>\n",
       "    </tr>\n",
       "    <tr>\n",
       "      <th>19156</th>\n",
       "      <td>Male</td>\n",
       "      <td>NaN</td>\n",
       "      <td>Male</td>\n",
       "      <td>STEM</td>\n",
       "    </tr>\n",
       "    <tr>\n",
       "      <th>19157</th>\n",
       "      <td>NaN</td>\n",
       "      <td>NaN</td>\n",
       "      <td>Other</td>\n",
       "      <td>STEM</td>\n",
       "    </tr>\n",
       "  </tbody>\n",
       "</table>\n",
       "<p>19158 rows × 4 columns</p>\n",
       "</div>"
      ],
      "text/plain": [
       "      gender major_discipline gender_imp_mode major_discipline_imp_fixed_value\n",
       "0       Male             STEM            Male                             STEM\n",
       "1       Male             STEM            Male                             STEM\n",
       "2        NaN             STEM           Other                             STEM\n",
       "3        NaN  Business Degree           Other                  Business Degree\n",
       "4       Male             STEM            Male                             STEM\n",
       "...      ...              ...             ...                              ...\n",
       "19153   Male       Humanities            Male                       Humanities\n",
       "19154   Male             STEM            Male                             STEM\n",
       "19155   Male             STEM            Male                             STEM\n",
       "19156   Male              NaN            Male                             STEM\n",
       "19157    NaN              NaN           Other                             STEM\n",
       "\n",
       "[19158 rows x 4 columns]"
      ]
     },
     "execution_count": 117,
     "metadata": {},
     "output_type": "execute_result"
    }
   ],
   "source": [
    "aux1"
   ]
  },
  {
   "cell_type": "code",
   "execution_count": 122,
   "id": "7f5bf048",
   "metadata": {},
   "outputs": [
    {
     "data": {
      "text/plain": [
       "Power_divergenceResult(statistic=4.191527958736933, pvalue=0.12297625643366397)"
      ]
     },
     "execution_count": 122,
     "metadata": {},
     "output_type": "execute_result"
    }
   ],
   "source": [
    "# Chi\n",
    "\n",
    "chisquare(f_obs = aux1['gender_imp_mode'].value_counts(True).sort_index().values,\n",
    "          f_exp = aux1['gender'].value_counts(True).sort_index().values)"
   ]
  },
  {
   "cell_type": "code",
   "execution_count": 123,
   "id": "62d7fe49",
   "metadata": {},
   "outputs": [
    {
     "data": {
      "text/plain": [
       "Male      0.690103\n",
       "NaN       0.235306\n",
       "Female    0.064621\n",
       "Other     0.009970\n",
       "Name: gender, dtype: float64"
      ]
     },
     "execution_count": 123,
     "metadata": {},
     "output_type": "execute_result"
    }
   ],
   "source": [
    "aux1['gender'].value_counts(1, dropna = False)"
   ]
  },
  {
   "cell_type": "code",
   "execution_count": 124,
   "id": "e3ae9f56",
   "metadata": {},
   "outputs": [
    {
     "data": {
      "text/plain": [
       "Male      0.690103\n",
       "Other     0.245276\n",
       "Female    0.064621\n",
       "Name: gender_imp_mode, dtype: float64"
      ]
     },
     "execution_count": 124,
     "metadata": {},
     "output_type": "execute_result"
    }
   ],
   "source": [
    "aux1['gender_imp_mode'].value_counts(1, dropna = False)"
   ]
  },
  {
   "cell_type": "markdown",
   "id": "19c5f105",
   "metadata": {},
   "source": [
    "La prueba nos muestra el pvalue, si nosotros asginaramos un nivel de significancia $\\alpha$ = .05, entonces requeriríamos que el pvalue fuese menor a ese .05. En este caso no se cumple, por lo que no podemos rechazar la hipótesis nula de que ambos provienen de una misma muestra aleatoria."
   ]
  },
  {
   "cell_type": "code",
   "execution_count": 125,
   "id": "599b675b",
   "metadata": {},
   "outputs": [
    {
     "data": {
      "text/html": [
       "<div>\n",
       "<style scoped>\n",
       "    .dataframe tbody tr th:only-of-type {\n",
       "        vertical-align: middle;\n",
       "    }\n",
       "\n",
       "    .dataframe tbody tr th {\n",
       "        vertical-align: top;\n",
       "    }\n",
       "\n",
       "    .dataframe thead th {\n",
       "        text-align: right;\n",
       "    }\n",
       "</style>\n",
       "<table border=\"1\" class=\"dataframe\">\n",
       "  <thead>\n",
       "    <tr style=\"text-align: right;\">\n",
       "      <th></th>\n",
       "      <th>gender_imp_mode</th>\n",
       "      <th>prueba</th>\n",
       "    </tr>\n",
       "  </thead>\n",
       "  <tbody>\n",
       "    <tr>\n",
       "      <th>Male</th>\n",
       "      <td>0.690103</td>\n",
       "      <td>0.05</td>\n",
       "    </tr>\n",
       "    <tr>\n",
       "      <th>Other</th>\n",
       "      <td>0.245276</td>\n",
       "      <td>0.90</td>\n",
       "    </tr>\n",
       "    <tr>\n",
       "      <th>Female</th>\n",
       "      <td>0.064621</td>\n",
       "      <td>0.05</td>\n",
       "    </tr>\n",
       "  </tbody>\n",
       "</table>\n",
       "</div>"
      ],
      "text/plain": [
       "        gender_imp_mode  prueba\n",
       "Male           0.690103    0.05\n",
       "Other          0.245276    0.90\n",
       "Female         0.064621    0.05"
      ]
     },
     "execution_count": 125,
     "metadata": {},
     "output_type": "execute_result"
    }
   ],
   "source": [
    "aux4 = pd.DataFrame(aux1['gender_imp_mode'].value_counts(True))\n",
    "aux4['prueba'] = [.05, .90, .05]\n",
    "aux4"
   ]
  },
  {
   "cell_type": "code",
   "execution_count": 126,
   "id": "e798dea5",
   "metadata": {},
   "outputs": [
    {
     "data": {
      "text/plain": [
       "Power_divergenceResult(statistic=8.675213809859189, pvalue=0.013067763214084926)"
      ]
     },
     "execution_count": 126,
     "metadata": {},
     "output_type": "execute_result"
    }
   ],
   "source": [
    "chisquare(f_obs = aux4['gender_imp_mode'].values,\n",
    "          f_exp = aux4['prueba'].values) # Distribuciones distintas"
   ]
  },
  {
   "cell_type": "markdown",
   "id": "c316ae93",
   "metadata": {},
   "source": [
    "Hay métodos que lo parametrizan:\n",
    "* output = 1 - p-value\n",
    "* output = p-value"
   ]
  },
  {
   "cell_type": "code",
   "execution_count": null,
   "id": "ca347b7e",
   "metadata": {},
   "outputs": [],
   "source": []
  }
 ],
 "metadata": {
  "kernelspec": {
   "display_name": "Python 3 (ipykernel)",
   "language": "python",
   "name": "python3"
  },
  "language_info": {
   "codemirror_mode": {
    "name": "ipython",
    "version": 3
   },
   "file_extension": ".py",
   "mimetype": "text/x-python",
   "name": "python",
   "nbconvert_exporter": "python",
   "pygments_lexer": "ipython3",
   "version": "3.9.6"
  }
 },
 "nbformat": 4,
 "nbformat_minor": 5
}
