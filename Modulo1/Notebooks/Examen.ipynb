{
 "cells": [
  {
   "cell_type": "code",
   "execution_count": 1,
   "id": "68ebda0b",
   "metadata": {},
   "outputs": [
    {
     "data": {
      "text/plain": [
       "['ecommerce_Arredondo_GInda_JesusAntonio.csv',\n",
       " '.DS_Store',\n",
       " 'Equipo3.csv',\n",
       " 'archive',\n",
       " 'Beijing_Oviedo_Quezada_Rolando.csv',\n",
       " 'fframe_alumno.csv',\n",
       " 'Beijing_winter_Olympic_Games',\n",
       " 'data_cleaned_2021.csv',\n",
       " 'Business Sales Transaction.csv']"
      ]
     },
     "execution_count": 1,
     "metadata": {},
     "output_type": "execute_result"
    }
   ],
   "source": [
    "import pandas as pd\n",
    "import os\n",
    "\n",
    "pd.set_option('display.max_columns', 500)\n",
    "\n",
    "data_path = os.getcwd()[:-len('notebooks')] + 'Data/'\n",
    "os.listdir(data_path)"
   ]
  },
  {
   "cell_type": "code",
   "execution_count": 2,
   "id": "4a490190",
   "metadata": {},
   "outputs": [
    {
     "data": {
      "text/plain": [
       "['chicago_taxi_trips_2016_08.csv',\n",
       " 'chicago_taxi_trips_2016_09.csv',\n",
       " 'column_remapping.json',\n",
       " 'data_concat.csv',\n",
       " 'chicago_taxi_trips_2016_01.csv',\n",
       " 'chicago_taxi_trips_2016_02.csv',\n",
       " 'data_dictionary.csv',\n",
       " 'chicago_taxi_trips_2016_03.csv',\n",
       " 'chicago_taxi_trips_2016_07.csv',\n",
       " 'chicago_taxi_trips_2016_06.csv',\n",
       " 'chicago_taxi_trips_2016_12.csv',\n",
       " 'chicago_taxi_trips_2016_04.csv',\n",
       " 'chicago_taxi_trips_2016_10.csv',\n",
       " 'chicago_taxi_trips_2016_11.csv',\n",
       " 'chicago_taxi_trips_2016_05.csv']"
      ]
     },
     "execution_count": 2,
     "metadata": {},
     "output_type": "execute_result"
    }
   ],
   "source": [
    "db_archive_path = data_path + 'archive/'\n",
    "os.listdir(db_archive_path)"
   ]
  },
  {
   "cell_type": "code",
   "execution_count": 3,
   "id": "8c11b2a9",
   "metadata": {},
   "outputs": [],
   "source": [
    "csv = os.listdir(db_archive_path)\n",
    "csv.remove('column_remapping.json')\n",
    "csv.remove('data_dictionary.csv')\n",
    "csv.remove('data_concat.csv')\n",
    "csv.sort()"
   ]
  },
  {
   "cell_type": "code",
   "execution_count": 4,
   "id": "314755a1",
   "metadata": {},
   "outputs": [
    {
     "data": {
      "text/plain": [
       "['chicago_taxi_trips_2016_01.csv',\n",
       " 'chicago_taxi_trips_2016_02.csv',\n",
       " 'chicago_taxi_trips_2016_03.csv',\n",
       " 'chicago_taxi_trips_2016_04.csv',\n",
       " 'chicago_taxi_trips_2016_05.csv',\n",
       " 'chicago_taxi_trips_2016_06.csv',\n",
       " 'chicago_taxi_trips_2016_07.csv',\n",
       " 'chicago_taxi_trips_2016_08.csv',\n",
       " 'chicago_taxi_trips_2016_09.csv',\n",
       " 'chicago_taxi_trips_2016_10.csv',\n",
       " 'chicago_taxi_trips_2016_11.csv',\n",
       " 'chicago_taxi_trips_2016_12.csv']"
      ]
     },
     "execution_count": 4,
     "metadata": {},
     "output_type": "execute_result"
    }
   ],
   "source": [
    "csv"
   ]
  },
  {
   "cell_type": "code",
   "execution_count": 5,
   "id": "37f63d5a",
   "metadata": {},
   "outputs": [
    {
     "name": "stdout",
     "output_type": "stream",
     "text": [
      "chicago_taxi_trips_2016_02.csv\n",
      "[ True  True  True  True  True  True  True  True  True  True  True  True\n",
      "  True  True  True  True  True  True  True  True]\n",
      "1705805\n",
      "1751192\n",
      "3456997\n",
      "chicago_taxi_trips_2016_03.csv\n",
      "[ True  True  True  True  True  True  True  True  True  True  True  True\n",
      "  True  True  True  True  True  True  True  True]\n",
      "3456997\n",
      "1975108\n",
      "5432105\n",
      "chicago_taxi_trips_2016_04.csv\n",
      "[ True  True  True  True  True  True  True  True  True  True  True  True\n",
      "  True  True  True  True  True  True  True  True]\n",
      "5432105\n",
      "1952152\n",
      "7384257\n",
      "chicago_taxi_trips_2016_05.csv\n",
      "[ True  True  True  True  True  True  True  True  True  True  True  True\n",
      "  True  True  True  True  True  True  True  True]\n",
      "7384257\n",
      "1943584\n",
      "9327841\n",
      "chicago_taxi_trips_2016_06.csv\n",
      "[ True  True  True  True  True  True  True  True  True  True  True  True\n",
      "  True  True  True  True  True  True  True  True]\n",
      "9327841\n",
      "1934479\n",
      "11262320\n",
      "chicago_taxi_trips_2016_07.csv\n",
      "[ True  True  True  True  True  True  True  True  True  True  True  True\n",
      "  True  True  True  True  True  True  True  True]\n",
      "11262320\n",
      "1745387\n",
      "13007707\n",
      "chicago_taxi_trips_2016_08.csv\n",
      "[ True  True  True  True  True  True  True  True  True  True  True  True\n",
      "  True  True  True  True  True  True  True  True]\n",
      "13007707\n",
      "1523947\n",
      "14531654\n",
      "chicago_taxi_trips_2016_09.csv\n",
      "[ True  True  True  True  True  True  True  True  True  True  True  True\n",
      "  True  True  True  True  True  True  True  True]\n",
      "14531654\n",
      "1294020\n",
      "15825674\n",
      "chicago_taxi_trips_2016_10.csv\n",
      "[ True  True  True  True  True  True  True  True  True  True  True  True\n",
      "  True  True  True  True  True  True  True  True]\n",
      "15825674\n",
      "1499771\n",
      "17325445\n",
      "chicago_taxi_trips_2016_11.csv\n",
      "[ True  True  True  True  True  True  True  True  True  True  True  True\n",
      "  True  True  True  True  True  True  True  True]\n",
      "17325445\n",
      "1295000\n",
      "18620445\n",
      "chicago_taxi_trips_2016_12.csv\n",
      "[ True  True  True  True  True  True  True  True  True  True  True  True\n",
      "  True  True  True  True  True  True  True  True]\n",
      "18620445\n",
      "1245712\n",
      "19866157\n"
     ]
    }
   ],
   "source": [
    "\"\"\"Comprobacion de que tengan las mismas columas\"\"\"\n",
    "data_1 = pd.read_csv(db_archive_path+csv[0])\n",
    "tamanio = len(data_1)\n",
    "for i in range(1,len(csv),1):\n",
    "    data_i = pd.read_csv(db_archive_path+csv[i])\n",
    "    print(csv[i])\n",
    "    print(data_1.columns==data_i.columns)\n",
    "    print(tamanio)\n",
    "    print(len(data_i))\n",
    "    print(tamanio+len(data_i))\n",
    "    tamanio += len(data_i)"
   ]
  },
  {
   "cell_type": "code",
   "execution_count": 6,
   "id": "d8102d7e",
   "metadata": {},
   "outputs": [
    {
     "data": {
      "text/plain": [
       "19866157"
      ]
     },
     "execution_count": 6,
     "metadata": {},
     "output_type": "execute_result"
    }
   ],
   "source": [
    "data_1.head(3)\n",
    "tamanio"
   ]
  },
  {
   "cell_type": "code",
   "execution_count": 7,
   "id": "ddcf3677",
   "metadata": {},
   "outputs": [
    {
     "name": "stdout",
     "output_type": "stream",
     "text": [
      "Leyendo archivo: chicago_taxi_trips_2016_01.csv\n",
      "Tamaño: 1705805\n",
      "\n",
      "Leyendo archivo: chicago_taxi_trips_2016_02.csv\n",
      "Tamaño: 1751192\n",
      "\n",
      "Leyendo archivo: chicago_taxi_trips_2016_03.csv\n",
      "Tamaño: 1975108\n",
      "\n",
      "Leyendo archivo: chicago_taxi_trips_2016_04.csv\n",
      "Tamaño: 1952152\n",
      "\n",
      "Leyendo archivo: chicago_taxi_trips_2016_05.csv\n",
      "Tamaño: 1943584\n",
      "\n",
      "Leyendo archivo: chicago_taxi_trips_2016_06.csv\n",
      "Tamaño: 1934479\n",
      "\n",
      "Leyendo archivo: chicago_taxi_trips_2016_07.csv\n",
      "Tamaño: 1745387\n",
      "\n",
      "Leyendo archivo: chicago_taxi_trips_2016_08.csv\n",
      "Tamaño: 1523947\n",
      "\n",
      "Leyendo archivo: chicago_taxi_trips_2016_09.csv\n",
      "Tamaño: 1294020\n",
      "\n",
      "Leyendo archivo: chicago_taxi_trips_2016_10.csv\n",
      "Tamaño: 1499771\n",
      "\n",
      "Leyendo archivo: chicago_taxi_trips_2016_11.csv\n",
      "Tamaño: 1295000\n",
      "\n",
      "Leyendo archivo: chicago_taxi_trips_2016_12.csv\n",
      "Tamaño: 1245712\n",
      "\n"
     ]
    },
    {
     "data": {
      "text/plain": [
       "(19866157, 20)"
      ]
     },
     "execution_count": 7,
     "metadata": {},
     "output_type": "execute_result"
    }
   ],
   "source": [
    "def list_files(path):\n",
    "    content = os.listdir(path)\n",
    "    files = []\n",
    "    dirs = []\n",
    "    for item in content:\n",
    "        if os.path.isfile(os.path.join(path, item)):\n",
    "            files.append(item)\n",
    "        else:\n",
    "            dirs.append(item)\n",
    "    return files, dirs\n",
    "\n",
    "\n",
    "source = db_archive_path\n",
    "results = db_archive_path\n",
    "\n",
    "#files, _ = list_files(source)\n",
    "df = pd.DataFrame()\n",
    "\n",
    "for file in csv:\n",
    "    if file.endswith(\".csv\"):\n",
    "        print(\"Leyendo archivo: {}\".format(file))\n",
    "        data = pd.read_csv(os.path.join(source, file), encoding = 'utf-8')\n",
    "        print(\"Tamaño: {}\\n\".format(len(data)))\n",
    "        #if i != 0:\n",
    "            #data = data.iloc[list(range(1, len(data))),:]\n",
    "            #print(\"Long despues: {}\".format(len(data)))\n",
    "        df = pd.concat([df, data], sort = False)\n",
    "\n",
    "#df.to_csv(db_archive_path + \"data_concat.csv\", encoding = 'utf-8', index = False, sep = \",\")\n",
    "#print(\"Tamaño del archivo final: {}\".format(len(df)))\n",
    "\n",
    "df.shape"
   ]
  },
  {
   "cell_type": "code",
   "execution_count": 8,
   "id": "d595c97c",
   "metadata": {},
   "outputs": [
    {
     "data": {
      "text/plain": [
       "True"
      ]
     },
     "execution_count": 8,
     "metadata": {},
     "output_type": "execute_result"
    }
   ],
   "source": [
    "tamanio == df.shape[0]"
   ]
  },
  {
   "cell_type": "code",
   "execution_count": null,
   "id": "6be81855",
   "metadata": {},
   "outputs": [],
   "source": []
  }
 ],
 "metadata": {
  "kernelspec": {
   "display_name": "Python 3 (ipykernel)",
   "language": "python",
   "name": "python3"
  },
  "language_info": {
   "codemirror_mode": {
    "name": "ipython",
    "version": 3
   },
   "file_extension": ".py",
   "mimetype": "text/x-python",
   "name": "python",
   "nbconvert_exporter": "python",
   "pygments_lexer": "ipython3",
   "version": "3.9.6"
  }
 },
 "nbformat": 4,
 "nbformat_minor": 5
}
