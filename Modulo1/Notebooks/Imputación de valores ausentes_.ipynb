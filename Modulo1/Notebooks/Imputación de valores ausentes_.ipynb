{
 "cells": [
  {
   "cell_type": "markdown",
   "id": "4ba431cf",
   "metadata": {},
   "source": [
    "# Carga de librerías y definición de variables de ambiente"
   ]
  },
  {
   "cell_type": "code",
   "execution_count": 1,
   "id": "1752661f",
   "metadata": {},
   "outputs": [
    {
     "data": {
      "text/html": [
       "        <script type=\"text/javascript\">\n",
       "        window.PlotlyConfig = {MathJaxConfig: 'local'};\n",
       "        if (window.MathJax) {MathJax.Hub.Config({SVG: {font: \"STIX-Web\"}});}\n",
       "        if (typeof require !== 'undefined') {\n",
       "        require.undef(\"plotly\");\n",
       "        requirejs.config({\n",
       "            paths: {\n",
       "                'plotly': ['https://cdn.plot.ly/plotly-2.9.0.min']\n",
       "            }\n",
       "        });\n",
       "        require(['plotly'], function(Plotly) {\n",
       "            window._Plotly = Plotly;\n",
       "        });\n",
       "        }\n",
       "        </script>\n",
       "        "
      ]
     },
     "metadata": {},
     "output_type": "display_data"
    },
    {
     "name": "stdout",
     "output_type": "stream",
     "text": [
      "['aug_train.csv']\n",
      "['unclean cclass.csv', 'unclean focus.csv']\n"
     ]
    }
   ],
   "source": [
    "#import rho_data_eng as eng\n",
    "import pandas as pd\n",
    "import numpy as np\n",
    "import os\n",
    "\n",
    "\n",
    "pd.set_option('display.max_columns', 500)\n",
    "\n",
    "ds_path = os.getcwd()[:-len('notebooks')] + 'Data/Data Science/'\n",
    "cars_path = os.getcwd()[:-len('notebooks')] + 'Data/Used Cars/'\n",
    "\n",
    "\n",
    "ds_files = [x for x in os.listdir(ds_path) if 'train' in x]\n",
    "cars_files = [x for x in os.listdir(cars_path) if 'unclean' in x]\n",
    "\n",
    "print(ds_files)\n",
    "print(cars_files)"
   ]
  },
  {
   "cell_type": "code",
   "execution_count": null,
   "id": "0e19d9e3",
   "metadata": {},
   "outputs": [],
   "source": [
    "def missing_zero_values_table(df):\n",
    "\n",
    "        zero_val = (df == 0.00).astype(int).sum(axis=0)\n",
    "\n",
    "        mis_val = df.isnull().sum()\n",
    "\n",
    "        mis_val_percent = 100 * df.isnull().sum() / len(df)\n",
    "\n",
    "        mz_table = pd.concat([zero_val, mis_val, mis_val_percent], axis=1)\n",
    "\n",
    "        mz_table = mz_table.rename(\n",
    "\n",
    "        columns = {0 : 'Zero Values', 1 : 'Missing Values', 2 : '% of Total Values'})\n",
    "\n",
    "        mz_table['Total Zero Missing Values'] = mz_table['Zero Values'] + mz_table['Missing Values']\n",
    "\n",
    "        mz_table['% Total Zero Missing Values'] = 100 * mz_table['Total Zero Missing Values'] / len(df)\n",
    "\n",
    "        mz_table['Data Type'] = df.dtypes\n",
    "\n",
    "        mz_table = mz_table[\n",
    "\n",
    "            mz_table.iloc[:,1] != 0].sort_values(\n",
    "\n",
    "        '% of Total Values', ascending=False).round(1)\n",
    "\n",
    "        print (\"Your selected dataframe has \" + str(df.shape[1]) + \" columns and \" + str(df.shape[0]) + \" Rows.\\n\"      \n",
    "\n",
    "            \"There are \" + str(mz_table.shape[0]) +\n",
    "\n",
    "              \" columns that have missing values.\")\n",
    "\n",
    "        return mz_table"
   ]
  },
  {
   "cell_type": "markdown",
   "id": "c4499236",
   "metadata": {},
   "source": [
    "# Carga de Datos\n",
    "\n",
    "Cargaremos los de CClass y Ciencia de Datos, y realizaremos el procesamiento para algunas variables."
   ]
  },
  {
   "cell_type": "code",
   "execution_count": 2,
   "id": "9718d130",
   "metadata": {},
   "outputs": [],
   "source": [
    "cclass = pd.read_csv(cars_path + cars_files[0])\n",
    "ds = pd.read_csv(ds_path + ds_files[0])"
   ]
  },
  {
   "cell_type": "markdown",
   "id": "707f6861",
   "metadata": {},
   "source": [
    "## Revisión de Missings:"
   ]
  },
  {
   "cell_type": "code",
   "execution_count": 3,
   "id": "ceb38861",
   "metadata": {},
   "outputs": [
    {
     "name": "stdout",
     "output_type": "stream",
     "text": [
      "Your selected dataframe has 11 columns and 4006 Rows.\n",
      "There are 11 columns that have missing values.\n"
     ]
    },
    {
     "data": {
      "text/html": [
       "<div>\n",
       "<style scoped>\n",
       "    .dataframe tbody tr th:only-of-type {\n",
       "        vertical-align: middle;\n",
       "    }\n",
       "\n",
       "    .dataframe tbody tr th {\n",
       "        vertical-align: top;\n",
       "    }\n",
       "\n",
       "    .dataframe thead th {\n",
       "        text-align: right;\n",
       "    }\n",
       "</style>\n",
       "<table border=\"1\" class=\"dataframe\">\n",
       "  <thead>\n",
       "    <tr style=\"text-align: right;\">\n",
       "      <th></th>\n",
       "      <th>Zero Values</th>\n",
       "      <th>Missing Values</th>\n",
       "      <th>% of Total Values</th>\n",
       "      <th>Total Zero Missing Values</th>\n",
       "      <th>% Total Zero Missing Values</th>\n",
       "      <th>Data Type</th>\n",
       "    </tr>\n",
       "  </thead>\n",
       "  <tbody>\n",
       "    <tr>\n",
       "      <th>fuel type</th>\n",
       "      <td>0</td>\n",
       "      <td>2677</td>\n",
       "      <td>66.8</td>\n",
       "      <td>2677</td>\n",
       "      <td>66.8</td>\n",
       "      <td>object</td>\n",
       "    </tr>\n",
       "    <tr>\n",
       "      <th>mileage</th>\n",
       "      <td>0</td>\n",
       "      <td>198</td>\n",
       "      <td>4.9</td>\n",
       "      <td>198</td>\n",
       "      <td>4.9</td>\n",
       "      <td>object</td>\n",
       "    </tr>\n",
       "    <tr>\n",
       "      <th>fuel type2</th>\n",
       "      <td>0</td>\n",
       "      <td>198</td>\n",
       "      <td>4.9</td>\n",
       "      <td>198</td>\n",
       "      <td>4.9</td>\n",
       "      <td>object</td>\n",
       "    </tr>\n",
       "    <tr>\n",
       "      <th>engine size2</th>\n",
       "      <td>0</td>\n",
       "      <td>198</td>\n",
       "      <td>4.9</td>\n",
       "      <td>198</td>\n",
       "      <td>4.9</td>\n",
       "      <td>object</td>\n",
       "    </tr>\n",
       "    <tr>\n",
       "      <th>engine size</th>\n",
       "      <td>0</td>\n",
       "      <td>164</td>\n",
       "      <td>4.1</td>\n",
       "      <td>164</td>\n",
       "      <td>4.1</td>\n",
       "      <td>object</td>\n",
       "    </tr>\n",
       "    <tr>\n",
       "      <th>mileage2</th>\n",
       "      <td>0</td>\n",
       "      <td>116</td>\n",
       "      <td>2.9</td>\n",
       "      <td>116</td>\n",
       "      <td>2.9</td>\n",
       "      <td>object</td>\n",
       "    </tr>\n",
       "    <tr>\n",
       "      <th>year</th>\n",
       "      <td>0</td>\n",
       "      <td>102</td>\n",
       "      <td>2.5</td>\n",
       "      <td>102</td>\n",
       "      <td>2.5</td>\n",
       "      <td>float64</td>\n",
       "    </tr>\n",
       "    <tr>\n",
       "      <th>model</th>\n",
       "      <td>0</td>\n",
       "      <td>99</td>\n",
       "      <td>2.5</td>\n",
       "      <td>99</td>\n",
       "      <td>2.5</td>\n",
       "      <td>object</td>\n",
       "    </tr>\n",
       "    <tr>\n",
       "      <th>price</th>\n",
       "      <td>0</td>\n",
       "      <td>99</td>\n",
       "      <td>2.5</td>\n",
       "      <td>99</td>\n",
       "      <td>2.5</td>\n",
       "      <td>object</td>\n",
       "    </tr>\n",
       "    <tr>\n",
       "      <th>transmission</th>\n",
       "      <td>0</td>\n",
       "      <td>99</td>\n",
       "      <td>2.5</td>\n",
       "      <td>99</td>\n",
       "      <td>2.5</td>\n",
       "      <td>object</td>\n",
       "    </tr>\n",
       "    <tr>\n",
       "      <th>reference</th>\n",
       "      <td>0</td>\n",
       "      <td>99</td>\n",
       "      <td>2.5</td>\n",
       "      <td>99</td>\n",
       "      <td>2.5</td>\n",
       "      <td>object</td>\n",
       "    </tr>\n",
       "  </tbody>\n",
       "</table>\n",
       "</div>"
      ],
      "text/plain": [
       "              Zero Values  Missing Values  % of Total Values  \\\n",
       "fuel type               0            2677               66.8   \n",
       "mileage                 0             198                4.9   \n",
       "fuel type2              0             198                4.9   \n",
       "engine size2            0             198                4.9   \n",
       "engine size             0             164                4.1   \n",
       "mileage2                0             116                2.9   \n",
       "year                    0             102                2.5   \n",
       "model                   0              99                2.5   \n",
       "price                   0              99                2.5   \n",
       "transmission            0              99                2.5   \n",
       "reference               0              99                2.5   \n",
       "\n",
       "              Total Zero Missing Values  % Total Zero Missing Values Data Type  \n",
       "fuel type                          2677                         66.8    object  \n",
       "mileage                             198                          4.9    object  \n",
       "fuel type2                          198                          4.9    object  \n",
       "engine size2                        198                          4.9    object  \n",
       "engine size                         164                          4.1    object  \n",
       "mileage2                            116                          2.9    object  \n",
       "year                                102                          2.5   float64  \n",
       "model                                99                          2.5    object  \n",
       "price                                99                          2.5    object  \n",
       "transmission                         99                          2.5    object  \n",
       "reference                            99                          2.5    object  "
      ]
     },
     "execution_count": 3,
     "metadata": {},
     "output_type": "execute_result"
    }
   ],
   "source": [
    "eng.missing_zero_values_table(cclass)\n",
    "\"\"\"Vemos que la columna fuel type no es representativa, igual la fecha \n",
    "esta en float lo que habla de un cambio en variables que se\n",
    "tendrá que hacer\"\"\"\"\"\""
   ]
  },
  {
   "cell_type": "code",
   "execution_count": 4,
   "id": "d7c6db3e",
   "metadata": {},
   "outputs": [
    {
     "name": "stdout",
     "output_type": "stream",
     "text": [
      "Your selected dataframe has 14 columns and 19158 Rows.\n",
      "There are 8 columns that have missing values.\n"
     ]
    },
    {
     "data": {
      "text/html": [
       "<div>\n",
       "<style scoped>\n",
       "    .dataframe tbody tr th:only-of-type {\n",
       "        vertical-align: middle;\n",
       "    }\n",
       "\n",
       "    .dataframe tbody tr th {\n",
       "        vertical-align: top;\n",
       "    }\n",
       "\n",
       "    .dataframe thead th {\n",
       "        text-align: right;\n",
       "    }\n",
       "</style>\n",
       "<table border=\"1\" class=\"dataframe\">\n",
       "  <thead>\n",
       "    <tr style=\"text-align: right;\">\n",
       "      <th></th>\n",
       "      <th>Zero Values</th>\n",
       "      <th>Missing Values</th>\n",
       "      <th>% of Total Values</th>\n",
       "      <th>Total Zero Missing Values</th>\n",
       "      <th>% Total Zero Missing Values</th>\n",
       "      <th>Data Type</th>\n",
       "    </tr>\n",
       "  </thead>\n",
       "  <tbody>\n",
       "    <tr>\n",
       "      <th>company_type</th>\n",
       "      <td>0</td>\n",
       "      <td>6140</td>\n",
       "      <td>32.0</td>\n",
       "      <td>6140</td>\n",
       "      <td>32.0</td>\n",
       "      <td>object</td>\n",
       "    </tr>\n",
       "    <tr>\n",
       "      <th>company_size</th>\n",
       "      <td>0</td>\n",
       "      <td>5938</td>\n",
       "      <td>31.0</td>\n",
       "      <td>5938</td>\n",
       "      <td>31.0</td>\n",
       "      <td>object</td>\n",
       "    </tr>\n",
       "    <tr>\n",
       "      <th>gender</th>\n",
       "      <td>0</td>\n",
       "      <td>4508</td>\n",
       "      <td>23.5</td>\n",
       "      <td>4508</td>\n",
       "      <td>23.5</td>\n",
       "      <td>object</td>\n",
       "    </tr>\n",
       "    <tr>\n",
       "      <th>major_discipline</th>\n",
       "      <td>0</td>\n",
       "      <td>2813</td>\n",
       "      <td>14.7</td>\n",
       "      <td>2813</td>\n",
       "      <td>14.7</td>\n",
       "      <td>object</td>\n",
       "    </tr>\n",
       "    <tr>\n",
       "      <th>education_level</th>\n",
       "      <td>0</td>\n",
       "      <td>460</td>\n",
       "      <td>2.4</td>\n",
       "      <td>460</td>\n",
       "      <td>2.4</td>\n",
       "      <td>object</td>\n",
       "    </tr>\n",
       "    <tr>\n",
       "      <th>last_new_job</th>\n",
       "      <td>0</td>\n",
       "      <td>423</td>\n",
       "      <td>2.2</td>\n",
       "      <td>423</td>\n",
       "      <td>2.2</td>\n",
       "      <td>object</td>\n",
       "    </tr>\n",
       "    <tr>\n",
       "      <th>enrolled_university</th>\n",
       "      <td>0</td>\n",
       "      <td>386</td>\n",
       "      <td>2.0</td>\n",
       "      <td>386</td>\n",
       "      <td>2.0</td>\n",
       "      <td>object</td>\n",
       "    </tr>\n",
       "    <tr>\n",
       "      <th>experience</th>\n",
       "      <td>0</td>\n",
       "      <td>65</td>\n",
       "      <td>0.3</td>\n",
       "      <td>65</td>\n",
       "      <td>0.3</td>\n",
       "      <td>object</td>\n",
       "    </tr>\n",
       "  </tbody>\n",
       "</table>\n",
       "</div>"
      ],
      "text/plain": [
       "                     Zero Values  Missing Values  % of Total Values  \\\n",
       "company_type                   0            6140               32.0   \n",
       "company_size                   0            5938               31.0   \n",
       "gender                         0            4508               23.5   \n",
       "major_discipline               0            2813               14.7   \n",
       "education_level                0             460                2.4   \n",
       "last_new_job                   0             423                2.2   \n",
       "enrolled_university            0             386                2.0   \n",
       "experience                     0              65                0.3   \n",
       "\n",
       "                     Total Zero Missing Values  % Total Zero Missing Values  \\\n",
       "company_type                              6140                         32.0   \n",
       "company_size                              5938                         31.0   \n",
       "gender                                    4508                         23.5   \n",
       "major_discipline                          2813                         14.7   \n",
       "education_level                            460                          2.4   \n",
       "last_new_job                               423                          2.2   \n",
       "enrolled_university                        386                          2.0   \n",
       "experience                                  65                          0.3   \n",
       "\n",
       "                    Data Type  \n",
       "company_type           object  \n",
       "company_size           object  \n",
       "gender                 object  \n",
       "major_discipline       object  \n",
       "education_level        object  \n",
       "last_new_job           object  \n",
       "enrolled_university    object  \n",
       "experience             object  "
      ]
     },
     "execution_count": 4,
     "metadata": {},
     "output_type": "execute_result"
    }
   ],
   "source": [
    "eng.missing_zero_values_table(ds)"
   ]
  },
  {
   "cell_type": "markdown",
   "id": "b420e9ba",
   "metadata": {},
   "source": [
    "## Tratamiento de valores ausentes:\n",
    "\n",
    "* 1. Omisión\n",
    "* 2. Imputación\n",
    "    * Utilizando Media/Mediana\n",
    "    * Utilizando Moda/Valor constante\n",
    "    * KNN\n",
    "    * Regresión Estocástica\n",
    "* 3. KS y Chi-square\n",
    "\n",
    "## 1. Omisión\n",
    "\n",
    "La Omisión la realizaremos para aquellas columnas que tengan únicamente un porcentaje menor al 5% de datos reportados como ausentes. \n",
    "\n",
    "* Por ejemplo: \n",
    "    * Data Science education_level\n",
    "    * enrolled_university\n",
    "    * experience"
   ]
  },
  {
   "cell_type": "code",
   "execution_count": 5,
   "id": "0eee9642",
   "metadata": {},
   "outputs": [
    {
     "name": "stdout",
     "output_type": "stream",
     "text": [
      "Información perdida = 0.010439503079651136\n"
     ]
    }
   ],
   "source": [
    "# Omisión\n",
    "\n",
    "\"\"\"Definimos primero nuestras variables, despues filtramos en ds\n",
    "de las variables agarramos los que no sean nulos. Se usa un & dado que\n",
    "buscamos los dos que no sean nulos.\n",
    "Con lost_info vamos a calcular el porcentaje de informacion perdida \n",
    "resultante de la reduccion\n",
    "Para ver los renglones perdidos es con len(ds)-len(oms)\"\"\"\n",
    "\n",
    "vars_ = ['education_level', 'enrolled_university', 'experience']\n",
    "\n",
    "\n",
    "omds = ds.loc[(ds[vars_[0]].isna() == False) \n",
    "              & (ds[vars_[1]].isna() == False) \n",
    "              & (ds[vars_[2]].isna() == False)].copy()\n",
    "lost_info = 100*(1 - len(omds)/len(ds))\n",
    "\n",
    "print(f'Información perdida = {lost_info}')"
   ]
  },
  {
   "cell_type": "code",
   "execution_count": 6,
   "id": "6f3e402a",
   "metadata": {},
   "outputs": [
    {
     "name": "stdout",
     "output_type": "stream",
     "text": [
      "Información perdida = 0.010439503079651136\n"
     ]
    }
   ],
   "source": [
    "# Omisión\n",
    "\n",
    "vars_ = ['education_level', 'enrolled_university', 'experience']\n",
    "\n",
    "\n",
    "omds = ds.loc[(ds[vars_[0]].isnull() == False) | (ds[vars_[1]].isnull() == False) | (ds[vars_[2]].isnull() == False)].copy()\n",
    "lost_info = 100*(1 - len(omds)/len(ds))\n",
    "\n",
    "print(f'Información perdida = {lost_info}')"
   ]
  },
  {
   "cell_type": "code",
   "execution_count": 7,
   "id": "dcfbfa48",
   "metadata": {},
   "outputs": [
    {
     "name": "stdout",
     "output_type": "stream",
     "text": [
      "Información perdida = 0.010439503079651136\n"
     ]
    }
   ],
   "source": [
    "# Omisión\n",
    "\n",
    "vars_ = ['education_level', 'enrolled_university', 'experience']\n",
    "\n",
    "\n",
    "omds = ds.loc[(ds[vars_[0]].astype(str) != 'nan') \n",
    "              & (ds[vars_[1]].astype(str) != 'nan') \n",
    "              & (ds[vars_[2]].astype(str) != 'nan')].copy()\n",
    "lost_info = 100*(1 - len(omds)/len(ds))\n",
    "\n",
    "print(f'Información perdida = {lost_info}')"
   ]
  },
  {
   "cell_type": "markdown",
   "id": "d6657c22",
   "metadata": {},
   "source": [
    "Realmente podemos apreciar que en efecto, no perdimos gran cantidad de información. \n",
    "\n",
    "## 2. Imputación\n",
    "\n",
    "### Utilizando Media/Mediana\n",
    "\n",
    "La imputación a través de la media/mediana, la haremos para valores continuos, en este caso, utilizaremos scikit-learn, y las variables serán las siguientes:\n",
    "\n",
    "* mileage\n",
    "* engine size2\n",
    "\n",
    "Del dataset de cclass"
   ]
  },
  {
   "cell_type": "code",
   "execution_count": 8,
   "id": "5bd00a9d",
   "metadata": {},
   "outputs": [],
   "source": [
    "# Librerías\n",
    "\"\"\"Imopramos el simple imputer\"\"\"\n",
    "from sklearn.impute import SimpleImputer"
   ]
  },
  {
   "cell_type": "code",
   "execution_count": 9,
   "id": "ee95f8a6",
   "metadata": {},
   "outputs": [
    {
     "data": {
      "text/html": [
       "<div>\n",
       "<style scoped>\n",
       "    .dataframe tbody tr th:only-of-type {\n",
       "        vertical-align: middle;\n",
       "    }\n",
       "\n",
       "    .dataframe tbody tr th {\n",
       "        vertical-align: top;\n",
       "    }\n",
       "\n",
       "    .dataframe thead th {\n",
       "        text-align: right;\n",
       "    }\n",
       "</style>\n",
       "<table border=\"1\" class=\"dataframe\">\n",
       "  <thead>\n",
       "    <tr style=\"text-align: right;\">\n",
       "      <th></th>\n",
       "      <th>model</th>\n",
       "      <th>year</th>\n",
       "      <th>price</th>\n",
       "      <th>transmission</th>\n",
       "      <th>mileage</th>\n",
       "      <th>fuel type</th>\n",
       "      <th>engine size</th>\n",
       "      <th>mileage2</th>\n",
       "      <th>fuel type2</th>\n",
       "      <th>engine size2</th>\n",
       "      <th>reference</th>\n",
       "    </tr>\n",
       "  </thead>\n",
       "  <tbody>\n",
       "    <tr>\n",
       "      <th>0</th>\n",
       "      <td>C Class</td>\n",
       "      <td>2020.0</td>\n",
       "      <td>£30,495</td>\n",
       "      <td>Automatic</td>\n",
       "      <td>NaN</td>\n",
       "      <td>Diesel</td>\n",
       "      <td>2</td>\n",
       "      <td>1,200</td>\n",
       "      <td>NaN</td>\n",
       "      <td>NaN</td>\n",
       "      <td>/ad/25017331</td>\n",
       "    </tr>\n",
       "    <tr>\n",
       "      <th>1</th>\n",
       "      <td>C Class</td>\n",
       "      <td>2020.0</td>\n",
       "      <td>£29,989</td>\n",
       "      <td>Automatic</td>\n",
       "      <td>NaN</td>\n",
       "      <td>Petrol</td>\n",
       "      <td>1.5</td>\n",
       "      <td>1,000</td>\n",
       "      <td>NaN</td>\n",
       "      <td>NaN</td>\n",
       "      <td>/ad/25043746</td>\n",
       "    </tr>\n",
       "    <tr>\n",
       "      <th>2</th>\n",
       "      <td>C Class</td>\n",
       "      <td>2020.0</td>\n",
       "      <td>£37,899</td>\n",
       "      <td>Automatic</td>\n",
       "      <td>NaN</td>\n",
       "      <td>Diesel</td>\n",
       "      <td>2</td>\n",
       "      <td>500</td>\n",
       "      <td>NaN</td>\n",
       "      <td>NaN</td>\n",
       "      <td>/ad/25142894</td>\n",
       "    </tr>\n",
       "    <tr>\n",
       "      <th>3</th>\n",
       "      <td>C Class</td>\n",
       "      <td>2019.0</td>\n",
       "      <td>£30,399</td>\n",
       "      <td>Automatic</td>\n",
       "      <td>NaN</td>\n",
       "      <td>Diesel</td>\n",
       "      <td>2</td>\n",
       "      <td>5,000</td>\n",
       "      <td>NaN</td>\n",
       "      <td>NaN</td>\n",
       "      <td>/ad/24942816</td>\n",
       "    </tr>\n",
       "    <tr>\n",
       "      <th>4</th>\n",
       "      <td>C Class</td>\n",
       "      <td>2019.0</td>\n",
       "      <td>£29,899</td>\n",
       "      <td>Automatic</td>\n",
       "      <td>NaN</td>\n",
       "      <td>Diesel</td>\n",
       "      <td>2</td>\n",
       "      <td>4,500</td>\n",
       "      <td>NaN</td>\n",
       "      <td>NaN</td>\n",
       "      <td>/ad/24913660</td>\n",
       "    </tr>\n",
       "    <tr>\n",
       "      <th>...</th>\n",
       "      <td>...</td>\n",
       "      <td>...</td>\n",
       "      <td>...</td>\n",
       "      <td>...</td>\n",
       "      <td>...</td>\n",
       "      <td>...</td>\n",
       "      <td>...</td>\n",
       "      <td>...</td>\n",
       "      <td>...</td>\n",
       "      <td>...</td>\n",
       "      <td>...</td>\n",
       "    </tr>\n",
       "    <tr>\n",
       "      <th>4001</th>\n",
       "      <td>C Class</td>\n",
       "      <td>2017.0</td>\n",
       "      <td>£14,700</td>\n",
       "      <td>Manual</td>\n",
       "      <td>31,357</td>\n",
       "      <td>25</td>\n",
       "      <td>£150</td>\n",
       "      <td>70.6</td>\n",
       "      <td>Diesel</td>\n",
       "      <td>1.598</td>\n",
       "      <td>/ad/25451436</td>\n",
       "    </tr>\n",
       "    <tr>\n",
       "      <th>4002</th>\n",
       "      <td>C Class</td>\n",
       "      <td>2018.0</td>\n",
       "      <td>£18,500</td>\n",
       "      <td>Automatic</td>\n",
       "      <td>28,248</td>\n",
       "      <td>31</td>\n",
       "      <td>£150</td>\n",
       "      <td>64.2</td>\n",
       "      <td>Diesel</td>\n",
       "      <td>2.143</td>\n",
       "      <td>/ad/25451481</td>\n",
       "    </tr>\n",
       "    <tr>\n",
       "      <th>4003</th>\n",
       "      <td>C Class</td>\n",
       "      <td>2014.0</td>\n",
       "      <td>£11,900</td>\n",
       "      <td>Manual</td>\n",
       "      <td>48,055</td>\n",
       "      <td>31</td>\n",
       "      <td>£20</td>\n",
       "      <td>65.7</td>\n",
       "      <td>Diesel</td>\n",
       "      <td>2.143</td>\n",
       "      <td>/ad/25057204</td>\n",
       "    </tr>\n",
       "    <tr>\n",
       "      <th>4004</th>\n",
       "      <td>C Class</td>\n",
       "      <td>2014.0</td>\n",
       "      <td>£11,300</td>\n",
       "      <td>Automatic</td>\n",
       "      <td>49,865</td>\n",
       "      <td>46</td>\n",
       "      <td>£145</td>\n",
       "      <td>56.5</td>\n",
       "      <td>Diesel</td>\n",
       "      <td>2.143</td>\n",
       "      <td>/ad/25144481</td>\n",
       "    </tr>\n",
       "    <tr>\n",
       "      <th>4005</th>\n",
       "      <td>C Class</td>\n",
       "      <td>2014.0</td>\n",
       "      <td>£14,800</td>\n",
       "      <td>Automatic</td>\n",
       "      <td>55,445</td>\n",
       "      <td>37</td>\n",
       "      <td>£30</td>\n",
       "      <td>64.2</td>\n",
       "      <td>Diesel</td>\n",
       "      <td>2.143</td>\n",
       "      <td>/ad/25154247</td>\n",
       "    </tr>\n",
       "  </tbody>\n",
       "</table>\n",
       "<p>4006 rows × 11 columns</p>\n",
       "</div>"
      ],
      "text/plain": [
       "         model    year     price transmission mileage fuel type engine size  \\\n",
       "0      C Class  2020.0   £30,495    Automatic     NaN    Diesel           2   \n",
       "1      C Class  2020.0   £29,989    Automatic     NaN    Petrol         1.5   \n",
       "2      C Class  2020.0   £37,899    Automatic     NaN    Diesel           2   \n",
       "3      C Class  2019.0   £30,399    Automatic     NaN    Diesel           2   \n",
       "4      C Class  2019.0   £29,899    Automatic     NaN    Diesel           2   \n",
       "...        ...     ...       ...          ...     ...       ...         ...   \n",
       "4001   C Class  2017.0   £14,700       Manual  31,357        25        £150   \n",
       "4002   C Class  2018.0   £18,500    Automatic  28,248        31        £150   \n",
       "4003   C Class  2014.0   £11,900       Manual  48,055        31         £20   \n",
       "4004   C Class  2014.0   £11,300    Automatic  49,865        46        £145   \n",
       "4005   C Class  2014.0   £14,800    Automatic  55,445        37         £30   \n",
       "\n",
       "     mileage2 fuel type2 engine size2     reference  \n",
       "0       1,200        NaN          NaN  /ad/25017331  \n",
       "1       1,000        NaN          NaN  /ad/25043746  \n",
       "2         500        NaN          NaN  /ad/25142894  \n",
       "3       5,000        NaN          NaN  /ad/24942816  \n",
       "4       4,500        NaN          NaN  /ad/24913660  \n",
       "...       ...        ...          ...           ...  \n",
       "4001     70.6     Diesel        1.598  /ad/25451436  \n",
       "4002     64.2     Diesel        2.143  /ad/25451481  \n",
       "4003     65.7     Diesel        2.143  /ad/25057204  \n",
       "4004     56.5     Diesel        2.143  /ad/25144481  \n",
       "4005     64.2     Diesel        2.143  /ad/25154247  \n",
       "\n",
       "[4006 rows x 11 columns]"
      ]
     },
     "execution_count": 9,
     "metadata": {},
     "output_type": "execute_result"
    }
   ],
   "source": [
    "cclass"
   ]
  },
  {
   "cell_type": "code",
   "execution_count": 10,
   "id": "f44a6564",
   "metadata": {},
   "outputs": [
    {
     "data": {
      "text/html": [
       "<div>\n",
       "<style scoped>\n",
       "    .dataframe tbody tr th:only-of-type {\n",
       "        vertical-align: middle;\n",
       "    }\n",
       "\n",
       "    .dataframe tbody tr th {\n",
       "        vertical-align: top;\n",
       "    }\n",
       "\n",
       "    .dataframe thead th {\n",
       "        text-align: right;\n",
       "    }\n",
       "</style>\n",
       "<table border=\"1\" class=\"dataframe\">\n",
       "  <thead>\n",
       "    <tr style=\"text-align: right;\">\n",
       "      <th></th>\n",
       "      <th>mileage</th>\n",
       "      <th>engine size2</th>\n",
       "      <th>mileage_imp_mean</th>\n",
       "      <th>engine size2_imp_median</th>\n",
       "    </tr>\n",
       "  </thead>\n",
       "  <tbody>\n",
       "    <tr>\n",
       "      <th>0</th>\n",
       "      <td>NaN</td>\n",
       "      <td>NaN</td>\n",
       "      <td>22126.070434</td>\n",
       "      <td>2.000</td>\n",
       "    </tr>\n",
       "    <tr>\n",
       "      <th>1</th>\n",
       "      <td>NaN</td>\n",
       "      <td>NaN</td>\n",
       "      <td>22126.070434</td>\n",
       "      <td>2.000</td>\n",
       "    </tr>\n",
       "    <tr>\n",
       "      <th>2</th>\n",
       "      <td>NaN</td>\n",
       "      <td>NaN</td>\n",
       "      <td>22126.070434</td>\n",
       "      <td>2.000</td>\n",
       "    </tr>\n",
       "    <tr>\n",
       "      <th>3</th>\n",
       "      <td>NaN</td>\n",
       "      <td>NaN</td>\n",
       "      <td>22126.070434</td>\n",
       "      <td>2.000</td>\n",
       "    </tr>\n",
       "    <tr>\n",
       "      <th>4</th>\n",
       "      <td>NaN</td>\n",
       "      <td>NaN</td>\n",
       "      <td>22126.070434</td>\n",
       "      <td>2.000</td>\n",
       "    </tr>\n",
       "    <tr>\n",
       "      <th>...</th>\n",
       "      <td>...</td>\n",
       "      <td>...</td>\n",
       "      <td>...</td>\n",
       "      <td>...</td>\n",
       "    </tr>\n",
       "    <tr>\n",
       "      <th>4001</th>\n",
       "      <td>31,357</td>\n",
       "      <td>1.598</td>\n",
       "      <td>31357.000000</td>\n",
       "      <td>1.598</td>\n",
       "    </tr>\n",
       "    <tr>\n",
       "      <th>4002</th>\n",
       "      <td>28,248</td>\n",
       "      <td>2.143</td>\n",
       "      <td>28248.000000</td>\n",
       "      <td>2.143</td>\n",
       "    </tr>\n",
       "    <tr>\n",
       "      <th>4003</th>\n",
       "      <td>48,055</td>\n",
       "      <td>2.143</td>\n",
       "      <td>48055.000000</td>\n",
       "      <td>2.143</td>\n",
       "    </tr>\n",
       "    <tr>\n",
       "      <th>4004</th>\n",
       "      <td>49,865</td>\n",
       "      <td>2.143</td>\n",
       "      <td>49865.000000</td>\n",
       "      <td>2.143</td>\n",
       "    </tr>\n",
       "    <tr>\n",
       "      <th>4005</th>\n",
       "      <td>55,445</td>\n",
       "      <td>2.143</td>\n",
       "      <td>55445.000000</td>\n",
       "      <td>2.143</td>\n",
       "    </tr>\n",
       "  </tbody>\n",
       "</table>\n",
       "<p>4006 rows × 4 columns</p>\n",
       "</div>"
      ],
      "text/plain": [
       "     mileage engine size2  mileage_imp_mean  engine size2_imp_median\n",
       "0        NaN          NaN      22126.070434                    2.000\n",
       "1        NaN          NaN      22126.070434                    2.000\n",
       "2        NaN          NaN      22126.070434                    2.000\n",
       "3        NaN          NaN      22126.070434                    2.000\n",
       "4        NaN          NaN      22126.070434                    2.000\n",
       "...      ...          ...               ...                      ...\n",
       "4001  31,357        1.598      31357.000000                    1.598\n",
       "4002  28,248        2.143      28248.000000                    2.143\n",
       "4003  48,055        2.143      48055.000000                    2.143\n",
       "4004  49,865        2.143      49865.000000                    2.143\n",
       "4005  55,445        2.143      55445.000000                    2.143\n",
       "\n",
       "[4006 rows x 4 columns]"
      ]
     },
     "execution_count": 10,
     "metadata": {},
     "output_type": "execute_result"
    }
   ],
   "source": [
    "\"\"\"SimpleImputer pide el tipo de nulos \n",
    "La funcion clean funciona para transporfmar los datos,\n",
    "reshape sirve para cambiar la forma de la lista de valores\"\"\"\n",
    "\n",
    "#Columns\n",
    "cols = ['mileage', 'engine size2']\n",
    "\n",
    "# Instanciamos la clase:\n",
    "impmean = SimpleImputer(missing_values=np.nan, strategy='mean')\n",
    "impmedian = SimpleImputer(missing_values=np.nan, strategy='median')\n",
    "\n",
    "def clean(x):\n",
    "    \n",
    "    if type(x) == str:\n",
    "        if x =='Unknown': x = np.nan\n",
    "        else: x = float(x.replace(',', '').replace(' ', ''))\n",
    "    else: x = float(x)\n",
    "    \n",
    "    return(x)\n",
    "\n",
    "aux = cclass[cols].copy()\n",
    "aux[cols[0] + '_imp_mean'] = impmean.fit_transform(np.array(aux[cols[0]].map(lambda x:clean(x))).reshape(-1,1))\n",
    "aux[cols[1] + '_imp_median'] = impmedian.fit_transform(np.array(aux[cols[1]].map(lambda x:clean(x))).reshape(-1,1))\n",
    "aux"
   ]
  },
  {
   "cell_type": "markdown",
   "id": "4cdc3cb2",
   "metadata": {},
   "source": [
    "### Utilizando Moda/Valor fijo\n",
    "\n",
    "La imputación a través de la Moda/Valor Fijo, la haremos para valores discretos, en este caso, utilizaremos scikit-learn, y las variables serán las siguientes:\n",
    "\n",
    "* gender\n",
    "* major_discipline\n",
    "\n",
    "Del dataset de ds"
   ]
  },
  {
   "cell_type": "code",
   "execution_count": 11,
   "id": "73084136",
   "metadata": {},
   "outputs": [
    {
     "data": {
      "text/html": [
       "<div>\n",
       "<style scoped>\n",
       "    .dataframe tbody tr th:only-of-type {\n",
       "        vertical-align: middle;\n",
       "    }\n",
       "\n",
       "    .dataframe tbody tr th {\n",
       "        vertical-align: top;\n",
       "    }\n",
       "\n",
       "    .dataframe thead th {\n",
       "        text-align: right;\n",
       "    }\n",
       "</style>\n",
       "<table border=\"1\" class=\"dataframe\">\n",
       "  <thead>\n",
       "    <tr style=\"text-align: right;\">\n",
       "      <th></th>\n",
       "      <th>gender</th>\n",
       "      <th>major_discipline</th>\n",
       "      <th>gender_imp_mode</th>\n",
       "      <th>major_discipline_imp_fixed_value</th>\n",
       "    </tr>\n",
       "  </thead>\n",
       "  <tbody>\n",
       "    <tr>\n",
       "      <th>0</th>\n",
       "      <td>Male</td>\n",
       "      <td>STEM</td>\n",
       "      <td>Male</td>\n",
       "      <td>STEM</td>\n",
       "    </tr>\n",
       "    <tr>\n",
       "      <th>1</th>\n",
       "      <td>Male</td>\n",
       "      <td>STEM</td>\n",
       "      <td>Male</td>\n",
       "      <td>STEM</td>\n",
       "    </tr>\n",
       "    <tr>\n",
       "      <th>2</th>\n",
       "      <td>NaN</td>\n",
       "      <td>STEM</td>\n",
       "      <td>Other</td>\n",
       "      <td>STEM</td>\n",
       "    </tr>\n",
       "    <tr>\n",
       "      <th>3</th>\n",
       "      <td>NaN</td>\n",
       "      <td>Business Degree</td>\n",
       "      <td>Other</td>\n",
       "      <td>Business Degree</td>\n",
       "    </tr>\n",
       "    <tr>\n",
       "      <th>4</th>\n",
       "      <td>Male</td>\n",
       "      <td>STEM</td>\n",
       "      <td>Male</td>\n",
       "      <td>STEM</td>\n",
       "    </tr>\n",
       "    <tr>\n",
       "      <th>...</th>\n",
       "      <td>...</td>\n",
       "      <td>...</td>\n",
       "      <td>...</td>\n",
       "      <td>...</td>\n",
       "    </tr>\n",
       "    <tr>\n",
       "      <th>19153</th>\n",
       "      <td>Male</td>\n",
       "      <td>Humanities</td>\n",
       "      <td>Male</td>\n",
       "      <td>Humanities</td>\n",
       "    </tr>\n",
       "    <tr>\n",
       "      <th>19154</th>\n",
       "      <td>Male</td>\n",
       "      <td>STEM</td>\n",
       "      <td>Male</td>\n",
       "      <td>STEM</td>\n",
       "    </tr>\n",
       "    <tr>\n",
       "      <th>19155</th>\n",
       "      <td>Male</td>\n",
       "      <td>STEM</td>\n",
       "      <td>Male</td>\n",
       "      <td>STEM</td>\n",
       "    </tr>\n",
       "    <tr>\n",
       "      <th>19156</th>\n",
       "      <td>Male</td>\n",
       "      <td>NaN</td>\n",
       "      <td>Male</td>\n",
       "      <td>STEM</td>\n",
       "    </tr>\n",
       "    <tr>\n",
       "      <th>19157</th>\n",
       "      <td>NaN</td>\n",
       "      <td>NaN</td>\n",
       "      <td>Other</td>\n",
       "      <td>STEM</td>\n",
       "    </tr>\n",
       "  </tbody>\n",
       "</table>\n",
       "<p>19158 rows × 4 columns</p>\n",
       "</div>"
      ],
      "text/plain": [
       "      gender major_discipline gender_imp_mode major_discipline_imp_fixed_value\n",
       "0       Male             STEM            Male                             STEM\n",
       "1       Male             STEM            Male                             STEM\n",
       "2        NaN             STEM           Other                             STEM\n",
       "3        NaN  Business Degree           Other                  Business Degree\n",
       "4       Male             STEM            Male                             STEM\n",
       "...      ...              ...             ...                              ...\n",
       "19153   Male       Humanities            Male                       Humanities\n",
       "19154   Male             STEM            Male                             STEM\n",
       "19155   Male             STEM            Male                             STEM\n",
       "19156   Male              NaN            Male                             STEM\n",
       "19157    NaN              NaN           Other                             STEM\n",
       "\n",
       "[19158 rows x 4 columns]"
      ]
     },
     "execution_count": 11,
     "metadata": {},
     "output_type": "execute_result"
    }
   ],
   "source": [
    "# Columnas\n",
    "\"\"\"astype es mas rapido que map\n",
    "re shape sirve que un arreglo numpy que es un vector, lo transforma\n",
    "en una matriz, es util para sscikitlearn\"\"\"\n",
    "cols = ['gender', 'major_discipline']\n",
    "\n",
    "modeimputer = SimpleImputer(missing_values='nan', strategy='most_frequent')\n",
    "fxvalimputer = SimpleImputer(missing_values='nan', strategy='constant', fill_value = 'Other')\n",
    "\n",
    "aux1 = ds[cols].copy()\n",
    "aux1[cols[0] + '_imp_mode'] = fxvalimputer.fit_transform(np.array(aux1[cols[0]].map(lambda x:str(x))).reshape(-1,1))\n",
    "aux1[cols[1] + '_imp_fixed_value'] = modeimputer.fit_transform(np.array(aux1[cols[1]].map(lambda x:str(x))).reshape(-1,1))\n",
    "aux1"
   ]
  },
  {
   "cell_type": "code",
   "execution_count": 12,
   "id": "3aef3fa4",
   "metadata": {},
   "outputs": [
    {
     "data": {
      "text/html": [
       "<div>\n",
       "<style scoped>\n",
       "    .dataframe tbody tr th:only-of-type {\n",
       "        vertical-align: middle;\n",
       "    }\n",
       "\n",
       "    .dataframe tbody tr th {\n",
       "        vertical-align: top;\n",
       "    }\n",
       "\n",
       "    .dataframe thead th {\n",
       "        text-align: right;\n",
       "    }\n",
       "</style>\n",
       "<table border=\"1\" class=\"dataframe\">\n",
       "  <thead>\n",
       "    <tr style=\"text-align: right;\">\n",
       "      <th></th>\n",
       "      <th>gender</th>\n",
       "      <th>major_discipline</th>\n",
       "      <th>gender_imp_mode</th>\n",
       "      <th>major_discipline_imp_fixed_value</th>\n",
       "    </tr>\n",
       "  </thead>\n",
       "  <tbody>\n",
       "    <tr>\n",
       "      <th>6</th>\n",
       "      <td>Male</td>\n",
       "      <td>NaN</td>\n",
       "      <td>Male</td>\n",
       "      <td>STEM</td>\n",
       "    </tr>\n",
       "    <tr>\n",
       "      <th>10</th>\n",
       "      <td>NaN</td>\n",
       "      <td>NaN</td>\n",
       "      <td>Other</td>\n",
       "      <td>STEM</td>\n",
       "    </tr>\n",
       "    <tr>\n",
       "      <th>13</th>\n",
       "      <td>Male</td>\n",
       "      <td>NaN</td>\n",
       "      <td>Male</td>\n",
       "      <td>STEM</td>\n",
       "    </tr>\n",
       "    <tr>\n",
       "      <th>14</th>\n",
       "      <td>NaN</td>\n",
       "      <td>NaN</td>\n",
       "      <td>Other</td>\n",
       "      <td>STEM</td>\n",
       "    </tr>\n",
       "    <tr>\n",
       "      <th>25</th>\n",
       "      <td>NaN</td>\n",
       "      <td>NaN</td>\n",
       "      <td>Other</td>\n",
       "      <td>STEM</td>\n",
       "    </tr>\n",
       "    <tr>\n",
       "      <th>...</th>\n",
       "      <td>...</td>\n",
       "      <td>...</td>\n",
       "      <td>...</td>\n",
       "      <td>...</td>\n",
       "    </tr>\n",
       "    <tr>\n",
       "      <th>19140</th>\n",
       "      <td>NaN</td>\n",
       "      <td>NaN</td>\n",
       "      <td>Other</td>\n",
       "      <td>STEM</td>\n",
       "    </tr>\n",
       "    <tr>\n",
       "      <th>19142</th>\n",
       "      <td>Male</td>\n",
       "      <td>NaN</td>\n",
       "      <td>Male</td>\n",
       "      <td>STEM</td>\n",
       "    </tr>\n",
       "    <tr>\n",
       "      <th>19151</th>\n",
       "      <td>Male</td>\n",
       "      <td>NaN</td>\n",
       "      <td>Male</td>\n",
       "      <td>STEM</td>\n",
       "    </tr>\n",
       "    <tr>\n",
       "      <th>19156</th>\n",
       "      <td>Male</td>\n",
       "      <td>NaN</td>\n",
       "      <td>Male</td>\n",
       "      <td>STEM</td>\n",
       "    </tr>\n",
       "    <tr>\n",
       "      <th>19157</th>\n",
       "      <td>NaN</td>\n",
       "      <td>NaN</td>\n",
       "      <td>Other</td>\n",
       "      <td>STEM</td>\n",
       "    </tr>\n",
       "  </tbody>\n",
       "</table>\n",
       "<p>2813 rows × 4 columns</p>\n",
       "</div>"
      ],
      "text/plain": [
       "      gender major_discipline gender_imp_mode major_discipline_imp_fixed_value\n",
       "6       Male              NaN            Male                             STEM\n",
       "10       NaN              NaN           Other                             STEM\n",
       "13      Male              NaN            Male                             STEM\n",
       "14       NaN              NaN           Other                             STEM\n",
       "25       NaN              NaN           Other                             STEM\n",
       "...      ...              ...             ...                              ...\n",
       "19140    NaN              NaN           Other                             STEM\n",
       "19142   Male              NaN            Male                             STEM\n",
       "19151   Male              NaN            Male                             STEM\n",
       "19156   Male              NaN            Male                             STEM\n",
       "19157    NaN              NaN           Other                             STEM\n",
       "\n",
       "[2813 rows x 4 columns]"
      ]
     },
     "execution_count": 12,
     "metadata": {},
     "output_type": "execute_result"
    }
   ],
   "source": [
    "aux1.loc[aux1['major_discipline'].isna() == True]"
   ]
  },
  {
   "cell_type": "code",
   "execution_count": 13,
   "id": "be3b7e39",
   "metadata": {},
   "outputs": [
    {
     "data": {
      "text/html": [
       "<div>\n",
       "<style scoped>\n",
       "    .dataframe tbody tr th:only-of-type {\n",
       "        vertical-align: middle;\n",
       "    }\n",
       "\n",
       "    .dataframe tbody tr th {\n",
       "        vertical-align: top;\n",
       "    }\n",
       "\n",
       "    .dataframe thead th {\n",
       "        text-align: right;\n",
       "    }\n",
       "</style>\n",
       "<table border=\"1\" class=\"dataframe\">\n",
       "  <thead>\n",
       "    <tr style=\"text-align: right;\">\n",
       "      <th></th>\n",
       "      <th>gender</th>\n",
       "      <th>major_discipline</th>\n",
       "      <th>gender_imp_mode</th>\n",
       "      <th>major_discipline_imp_fixed_value</th>\n",
       "    </tr>\n",
       "  </thead>\n",
       "  <tbody>\n",
       "    <tr>\n",
       "      <th>6</th>\n",
       "      <td>Male</td>\n",
       "      <td>NaN</td>\n",
       "      <td>Male</td>\n",
       "      <td>STEM</td>\n",
       "    </tr>\n",
       "    <tr>\n",
       "      <th>10</th>\n",
       "      <td>NaN</td>\n",
       "      <td>NaN</td>\n",
       "      <td>Other</td>\n",
       "      <td>STEM</td>\n",
       "    </tr>\n",
       "    <tr>\n",
       "      <th>13</th>\n",
       "      <td>Male</td>\n",
       "      <td>NaN</td>\n",
       "      <td>Male</td>\n",
       "      <td>STEM</td>\n",
       "    </tr>\n",
       "    <tr>\n",
       "      <th>14</th>\n",
       "      <td>NaN</td>\n",
       "      <td>NaN</td>\n",
       "      <td>Other</td>\n",
       "      <td>STEM</td>\n",
       "    </tr>\n",
       "    <tr>\n",
       "      <th>25</th>\n",
       "      <td>NaN</td>\n",
       "      <td>NaN</td>\n",
       "      <td>Other</td>\n",
       "      <td>STEM</td>\n",
       "    </tr>\n",
       "    <tr>\n",
       "      <th>...</th>\n",
       "      <td>...</td>\n",
       "      <td>...</td>\n",
       "      <td>...</td>\n",
       "      <td>...</td>\n",
       "    </tr>\n",
       "    <tr>\n",
       "      <th>19140</th>\n",
       "      <td>NaN</td>\n",
       "      <td>NaN</td>\n",
       "      <td>Other</td>\n",
       "      <td>STEM</td>\n",
       "    </tr>\n",
       "    <tr>\n",
       "      <th>19142</th>\n",
       "      <td>Male</td>\n",
       "      <td>NaN</td>\n",
       "      <td>Male</td>\n",
       "      <td>STEM</td>\n",
       "    </tr>\n",
       "    <tr>\n",
       "      <th>19151</th>\n",
       "      <td>Male</td>\n",
       "      <td>NaN</td>\n",
       "      <td>Male</td>\n",
       "      <td>STEM</td>\n",
       "    </tr>\n",
       "    <tr>\n",
       "      <th>19156</th>\n",
       "      <td>Male</td>\n",
       "      <td>NaN</td>\n",
       "      <td>Male</td>\n",
       "      <td>STEM</td>\n",
       "    </tr>\n",
       "    <tr>\n",
       "      <th>19157</th>\n",
       "      <td>NaN</td>\n",
       "      <td>NaN</td>\n",
       "      <td>Other</td>\n",
       "      <td>STEM</td>\n",
       "    </tr>\n",
       "  </tbody>\n",
       "</table>\n",
       "<p>2813 rows × 4 columns</p>\n",
       "</div>"
      ],
      "text/plain": [
       "      gender major_discipline gender_imp_mode major_discipline_imp_fixed_value\n",
       "6       Male              NaN            Male                             STEM\n",
       "10       NaN              NaN           Other                             STEM\n",
       "13      Male              NaN            Male                             STEM\n",
       "14       NaN              NaN           Other                             STEM\n",
       "25       NaN              NaN           Other                             STEM\n",
       "...      ...              ...             ...                              ...\n",
       "19140    NaN              NaN           Other                             STEM\n",
       "19142   Male              NaN            Male                             STEM\n",
       "19151   Male              NaN            Male                             STEM\n",
       "19156   Male              NaN            Male                             STEM\n",
       "19157    NaN              NaN           Other                             STEM\n",
       "\n",
       "[2813 rows x 4 columns]"
      ]
     },
     "execution_count": 13,
     "metadata": {},
     "output_type": "execute_result"
    }
   ],
   "source": [
    "aux1.loc[aux1['major_discipline'].astype(str) == 'nan']"
   ]
  },
  {
   "cell_type": "code",
   "execution_count": 14,
   "id": "7f338f9a",
   "metadata": {},
   "outputs": [
    {
     "data": {
      "text/plain": [
       "Male      13221\n",
       "Other      4699\n",
       "Female     1238\n",
       "Name: gender_imp_mode, dtype: int64"
      ]
     },
     "execution_count": 14,
     "metadata": {},
     "output_type": "execute_result"
    }
   ],
   "source": [
    "aux1['gender_imp_mode'].value_counts()"
   ]
  },
  {
   "cell_type": "code",
   "execution_count": 15,
   "id": "10fc27b0",
   "metadata": {},
   "outputs": [
    {
     "data": {
      "text/plain": [
       "Male      13221\n",
       "Female     1238\n",
       "Other       191\n",
       "Name: gender, dtype: int64"
      ]
     },
     "execution_count": 15,
     "metadata": {},
     "output_type": "execute_result"
    }
   ],
   "source": [
    "aux1['gender'].value_counts()"
   ]
  },
  {
   "cell_type": "markdown",
   "id": "b3933ec9",
   "metadata": {},
   "source": [
    "### KNN\n",
    "\n",
    "Imputaremos valores continuos, volveremos a utilizar las siguiente variable:\n",
    "\n",
    "* year\n",
    "\n",
    "Del dataset de cclass"
   ]
  },
  {
   "cell_type": "code",
   "execution_count": 16,
   "id": "3d7db3bc",
   "metadata": {},
   "outputs": [],
   "source": [
    "\"\"\"Son valores continuas, por eso usamos año\"\"\"\n",
    "from sklearn.impute import KNNImputer"
   ]
  },
  {
   "cell_type": "code",
   "execution_count": 17,
   "id": "40a01a3b",
   "metadata": {},
   "outputs": [],
   "source": [
    "KNNImputer?"
   ]
  },
  {
   "cell_type": "code",
   "execution_count": 18,
   "id": "b017d6dd",
   "metadata": {},
   "outputs": [
    {
     "data": {
      "text/plain": [
       "Index(['model', 'year', 'price', 'transmission', 'mileage', 'fuel type',\n",
       "       'engine size', 'mileage2', 'fuel type2', 'engine size2', 'reference'],\n",
       "      dtype='object')"
      ]
     },
     "execution_count": 18,
     "metadata": {},
     "output_type": "execute_result"
    }
   ],
   "source": [
    "cclass.columns"
   ]
  },
  {
   "cell_type": "code",
   "execution_count": 19,
   "id": "a8be00b8",
   "metadata": {},
   "outputs": [
    {
     "data": {
      "text/html": [
       "<div>\n",
       "<style scoped>\n",
       "    .dataframe tbody tr th:only-of-type {\n",
       "        vertical-align: middle;\n",
       "    }\n",
       "\n",
       "    .dataframe tbody tr th {\n",
       "        vertical-align: top;\n",
       "    }\n",
       "\n",
       "    .dataframe thead th {\n",
       "        text-align: right;\n",
       "    }\n",
       "</style>\n",
       "<table border=\"1\" class=\"dataframe\">\n",
       "  <thead>\n",
       "    <tr style=\"text-align: right;\">\n",
       "      <th></th>\n",
       "      <th>mileage</th>\n",
       "      <th>engine size2</th>\n",
       "      <th>year</th>\n",
       "    </tr>\n",
       "  </thead>\n",
       "  <tbody>\n",
       "    <tr>\n",
       "      <th>0</th>\n",
       "      <td>NaN</td>\n",
       "      <td>NaN</td>\n",
       "      <td>2020.0</td>\n",
       "    </tr>\n",
       "    <tr>\n",
       "      <th>1</th>\n",
       "      <td>NaN</td>\n",
       "      <td>NaN</td>\n",
       "      <td>2020.0</td>\n",
       "    </tr>\n",
       "    <tr>\n",
       "      <th>2</th>\n",
       "      <td>NaN</td>\n",
       "      <td>NaN</td>\n",
       "      <td>2020.0</td>\n",
       "    </tr>\n",
       "    <tr>\n",
       "      <th>3</th>\n",
       "      <td>NaN</td>\n",
       "      <td>NaN</td>\n",
       "      <td>2019.0</td>\n",
       "    </tr>\n",
       "    <tr>\n",
       "      <th>4</th>\n",
       "      <td>NaN</td>\n",
       "      <td>NaN</td>\n",
       "      <td>2019.0</td>\n",
       "    </tr>\n",
       "    <tr>\n",
       "      <th>...</th>\n",
       "      <td>...</td>\n",
       "      <td>...</td>\n",
       "      <td>...</td>\n",
       "    </tr>\n",
       "    <tr>\n",
       "      <th>4001</th>\n",
       "      <td>31357.0</td>\n",
       "      <td>1.598</td>\n",
       "      <td>2017.0</td>\n",
       "    </tr>\n",
       "    <tr>\n",
       "      <th>4002</th>\n",
       "      <td>28248.0</td>\n",
       "      <td>2.143</td>\n",
       "      <td>2018.0</td>\n",
       "    </tr>\n",
       "    <tr>\n",
       "      <th>4003</th>\n",
       "      <td>48055.0</td>\n",
       "      <td>2.143</td>\n",
       "      <td>2014.0</td>\n",
       "    </tr>\n",
       "    <tr>\n",
       "      <th>4004</th>\n",
       "      <td>49865.0</td>\n",
       "      <td>2.143</td>\n",
       "      <td>2014.0</td>\n",
       "    </tr>\n",
       "    <tr>\n",
       "      <th>4005</th>\n",
       "      <td>55445.0</td>\n",
       "      <td>2.143</td>\n",
       "      <td>2014.0</td>\n",
       "    </tr>\n",
       "  </tbody>\n",
       "</table>\n",
       "<p>4006 rows × 3 columns</p>\n",
       "</div>"
      ],
      "text/plain": [
       "      mileage  engine size2    year\n",
       "0         NaN           NaN  2020.0\n",
       "1         NaN           NaN  2020.0\n",
       "2         NaN           NaN  2020.0\n",
       "3         NaN           NaN  2019.0\n",
       "4         NaN           NaN  2019.0\n",
       "...       ...           ...     ...\n",
       "4001  31357.0         1.598  2017.0\n",
       "4002  28248.0         2.143  2018.0\n",
       "4003  48055.0         2.143  2014.0\n",
       "4004  49865.0         2.143  2014.0\n",
       "4005  55445.0         2.143  2014.0\n",
       "\n",
       "[4006 rows x 3 columns]"
      ]
     },
     "execution_count": 19,
     "metadata": {},
     "output_type": "execute_result"
    }
   ],
   "source": [
    "# Columnas\n",
    "\"\"\"Agarramos las variables continuas, clean mapea bien los numeros\"\"\"\n",
    "cols = ['mileage', 'engine size2', 'year']\n",
    "aux2 = cclass[cols].copy()\n",
    "aux2['mileage'] = aux2['mileage'].apply(lambda x:clean(x))\n",
    "aux2['engine size2'] = aux2['engine size2'].apply(lambda x:clean(x))\n",
    "aux2"
   ]
  },
  {
   "cell_type": "code",
   "execution_count": 20,
   "id": "4a06ff24",
   "metadata": {},
   "outputs": [
    {
     "data": {
      "text/html": [
       "<div>\n",
       "<style scoped>\n",
       "    .dataframe tbody tr th:only-of-type {\n",
       "        vertical-align: middle;\n",
       "    }\n",
       "\n",
       "    .dataframe tbody tr th {\n",
       "        vertical-align: top;\n",
       "    }\n",
       "\n",
       "    .dataframe thead th {\n",
       "        text-align: right;\n",
       "    }\n",
       "</style>\n",
       "<table border=\"1\" class=\"dataframe\">\n",
       "  <thead>\n",
       "    <tr style=\"text-align: right;\">\n",
       "      <th></th>\n",
       "      <th>mileage_imp</th>\n",
       "      <th>engine size2_imp</th>\n",
       "      <th>year_imp</th>\n",
       "      <th>mileage_ind</th>\n",
       "      <th>engine size2_ind</th>\n",
       "      <th>year_ind</th>\n",
       "    </tr>\n",
       "  </thead>\n",
       "  <tbody>\n",
       "    <tr>\n",
       "      <th>0</th>\n",
       "      <td>1245.2</td>\n",
       "      <td>2.100</td>\n",
       "      <td>2020.0</td>\n",
       "      <td>1.0</td>\n",
       "      <td>1.0</td>\n",
       "      <td>0.0</td>\n",
       "    </tr>\n",
       "    <tr>\n",
       "      <th>1</th>\n",
       "      <td>1245.2</td>\n",
       "      <td>2.100</td>\n",
       "      <td>2020.0</td>\n",
       "      <td>1.0</td>\n",
       "      <td>1.0</td>\n",
       "      <td>0.0</td>\n",
       "    </tr>\n",
       "    <tr>\n",
       "      <th>2</th>\n",
       "      <td>1245.2</td>\n",
       "      <td>2.100</td>\n",
       "      <td>2020.0</td>\n",
       "      <td>1.0</td>\n",
       "      <td>1.0</td>\n",
       "      <td>0.0</td>\n",
       "    </tr>\n",
       "    <tr>\n",
       "      <th>3</th>\n",
       "      <td>6513.8</td>\n",
       "      <td>1.700</td>\n",
       "      <td>2019.0</td>\n",
       "      <td>1.0</td>\n",
       "      <td>1.0</td>\n",
       "      <td>0.0</td>\n",
       "    </tr>\n",
       "    <tr>\n",
       "      <th>4</th>\n",
       "      <td>6513.8</td>\n",
       "      <td>1.700</td>\n",
       "      <td>2019.0</td>\n",
       "      <td>1.0</td>\n",
       "      <td>1.0</td>\n",
       "      <td>0.0</td>\n",
       "    </tr>\n",
       "    <tr>\n",
       "      <th>...</th>\n",
       "      <td>...</td>\n",
       "      <td>...</td>\n",
       "      <td>...</td>\n",
       "      <td>...</td>\n",
       "      <td>...</td>\n",
       "      <td>...</td>\n",
       "    </tr>\n",
       "    <tr>\n",
       "      <th>4001</th>\n",
       "      <td>31357.0</td>\n",
       "      <td>1.598</td>\n",
       "      <td>2017.0</td>\n",
       "      <td>0.0</td>\n",
       "      <td>0.0</td>\n",
       "      <td>0.0</td>\n",
       "    </tr>\n",
       "    <tr>\n",
       "      <th>4002</th>\n",
       "      <td>28248.0</td>\n",
       "      <td>2.143</td>\n",
       "      <td>2018.0</td>\n",
       "      <td>0.0</td>\n",
       "      <td>0.0</td>\n",
       "      <td>0.0</td>\n",
       "    </tr>\n",
       "    <tr>\n",
       "      <th>4003</th>\n",
       "      <td>48055.0</td>\n",
       "      <td>2.143</td>\n",
       "      <td>2014.0</td>\n",
       "      <td>0.0</td>\n",
       "      <td>0.0</td>\n",
       "      <td>0.0</td>\n",
       "    </tr>\n",
       "    <tr>\n",
       "      <th>4004</th>\n",
       "      <td>49865.0</td>\n",
       "      <td>2.143</td>\n",
       "      <td>2014.0</td>\n",
       "      <td>0.0</td>\n",
       "      <td>0.0</td>\n",
       "      <td>0.0</td>\n",
       "    </tr>\n",
       "    <tr>\n",
       "      <th>4005</th>\n",
       "      <td>55445.0</td>\n",
       "      <td>2.143</td>\n",
       "      <td>2014.0</td>\n",
       "      <td>0.0</td>\n",
       "      <td>0.0</td>\n",
       "      <td>0.0</td>\n",
       "    </tr>\n",
       "  </tbody>\n",
       "</table>\n",
       "<p>4006 rows × 6 columns</p>\n",
       "</div>"
      ],
      "text/plain": [
       "      mileage_imp  engine size2_imp  year_imp  mileage_ind  engine size2_ind  \\\n",
       "0          1245.2             2.100    2020.0          1.0               1.0   \n",
       "1          1245.2             2.100    2020.0          1.0               1.0   \n",
       "2          1245.2             2.100    2020.0          1.0               1.0   \n",
       "3          6513.8             1.700    2019.0          1.0               1.0   \n",
       "4          6513.8             1.700    2019.0          1.0               1.0   \n",
       "...           ...               ...       ...          ...               ...   \n",
       "4001      31357.0             1.598    2017.0          0.0               0.0   \n",
       "4002      28248.0             2.143    2018.0          0.0               0.0   \n",
       "4003      48055.0             2.143    2014.0          0.0               0.0   \n",
       "4004      49865.0             2.143    2014.0          0.0               0.0   \n",
       "4005      55445.0             2.143    2014.0          0.0               0.0   \n",
       "\n",
       "      year_ind  \n",
       "0          0.0  \n",
       "1          0.0  \n",
       "2          0.0  \n",
       "3          0.0  \n",
       "4          0.0  \n",
       "...        ...  \n",
       "4001       0.0  \n",
       "4002       0.0  \n",
       "4003       0.0  \n",
       "4004       0.0  \n",
       "4005       0.0  \n",
       "\n",
       "[4006 rows x 6 columns]"
      ]
     },
     "execution_count": 20,
     "metadata": {},
     "output_type": "execute_result"
    }
   ],
   "source": [
    "\"\"\"Creamos una lista de columnas, ind es indicador.\n",
    "El arreglo se convierte en df para mejor entendimiento,\n",
    "el numero de vecinos dependeeá por lo cual no es tan usado\"\"\"\n",
    "kimp = KNNImputer(add_indicator=True)\n",
    "columns = [c +'_imp' for c in aux2.columns] + [c +'_ind' for c in aux2.columns]\n",
    "pd.DataFrame(kimp.fit_transform(np.array(aux2)), columns = columns)"
   ]
  },
  {
   "cell_type": "markdown",
   "id": "42cd4e51",
   "metadata": {},
   "source": [
    "### Regresión estocástica\n",
    "\n",
    "Imputaremos valores continuos, volveremos a utilizar las siguiente variable:\n",
    "\n",
    "* mileage\n",
    "\n",
    "Del dataset de cclass"
   ]
  },
  {
   "cell_type": "code",
   "execution_count": 21,
   "id": "2a968750",
   "metadata": {},
   "outputs": [
    {
     "data": {
      "text/html": [
       "<div>\n",
       "<style scoped>\n",
       "    .dataframe tbody tr th:only-of-type {\n",
       "        vertical-align: middle;\n",
       "    }\n",
       "\n",
       "    .dataframe tbody tr th {\n",
       "        vertical-align: top;\n",
       "    }\n",
       "\n",
       "    .dataframe thead th {\n",
       "        text-align: right;\n",
       "    }\n",
       "</style>\n",
       "<table border=\"1\" class=\"dataframe\">\n",
       "  <thead>\n",
       "    <tr style=\"text-align: right;\">\n",
       "      <th></th>\n",
       "      <th>model</th>\n",
       "      <th>year</th>\n",
       "      <th>price</th>\n",
       "      <th>transmission</th>\n",
       "      <th>mileage</th>\n",
       "      <th>fuel type</th>\n",
       "      <th>engine size</th>\n",
       "      <th>mileage2</th>\n",
       "      <th>fuel type2</th>\n",
       "      <th>engine size2</th>\n",
       "      <th>reference</th>\n",
       "    </tr>\n",
       "  </thead>\n",
       "  <tbody>\n",
       "    <tr>\n",
       "      <th>0</th>\n",
       "      <td>C Class</td>\n",
       "      <td>2020.0</td>\n",
       "      <td>£30,495</td>\n",
       "      <td>Automatic</td>\n",
       "      <td>NaN</td>\n",
       "      <td>Diesel</td>\n",
       "      <td>2</td>\n",
       "      <td>1,200</td>\n",
       "      <td>NaN</td>\n",
       "      <td>NaN</td>\n",
       "      <td>/ad/25017331</td>\n",
       "    </tr>\n",
       "    <tr>\n",
       "      <th>1</th>\n",
       "      <td>C Class</td>\n",
       "      <td>2020.0</td>\n",
       "      <td>£29,989</td>\n",
       "      <td>Automatic</td>\n",
       "      <td>NaN</td>\n",
       "      <td>Petrol</td>\n",
       "      <td>1.5</td>\n",
       "      <td>1,000</td>\n",
       "      <td>NaN</td>\n",
       "      <td>NaN</td>\n",
       "      <td>/ad/25043746</td>\n",
       "    </tr>\n",
       "    <tr>\n",
       "      <th>2</th>\n",
       "      <td>C Class</td>\n",
       "      <td>2020.0</td>\n",
       "      <td>£37,899</td>\n",
       "      <td>Automatic</td>\n",
       "      <td>NaN</td>\n",
       "      <td>Diesel</td>\n",
       "      <td>2</td>\n",
       "      <td>500</td>\n",
       "      <td>NaN</td>\n",
       "      <td>NaN</td>\n",
       "      <td>/ad/25142894</td>\n",
       "    </tr>\n",
       "  </tbody>\n",
       "</table>\n",
       "</div>"
      ],
      "text/plain": [
       "      model    year     price transmission mileage fuel type engine size  \\\n",
       "0   C Class  2020.0   £30,495    Automatic     NaN    Diesel           2   \n",
       "1   C Class  2020.0   £29,989    Automatic     NaN    Petrol         1.5   \n",
       "2   C Class  2020.0   £37,899    Automatic     NaN    Diesel           2   \n",
       "\n",
       "  mileage2 fuel type2 engine size2     reference  \n",
       "0    1,200        NaN          NaN  /ad/25017331  \n",
       "1    1,000        NaN          NaN  /ad/25043746  \n",
       "2      500        NaN          NaN  /ad/25142894  "
      ]
     },
     "execution_count": 21,
     "metadata": {},
     "output_type": "execute_result"
    }
   ],
   "source": [
    "cclass.head(3)"
   ]
  },
  {
   "cell_type": "code",
   "execution_count": 22,
   "id": "8ccd7f91",
   "metadata": {},
   "outputs": [
    {
     "data": {
      "text/html": [
       "<div>\n",
       "<style scoped>\n",
       "    .dataframe tbody tr th:only-of-type {\n",
       "        vertical-align: middle;\n",
       "    }\n",
       "\n",
       "    .dataframe tbody tr th {\n",
       "        vertical-align: top;\n",
       "    }\n",
       "\n",
       "    .dataframe thead th {\n",
       "        text-align: right;\n",
       "    }\n",
       "</style>\n",
       "<table border=\"1\" class=\"dataframe\">\n",
       "  <thead>\n",
       "    <tr style=\"text-align: right;\">\n",
       "      <th></th>\n",
       "      <th>year</th>\n",
       "      <th>price</th>\n",
       "      <th>mileage</th>\n",
       "    </tr>\n",
       "  </thead>\n",
       "  <tbody>\n",
       "    <tr>\n",
       "      <th>0</th>\n",
       "      <td>2020.0</td>\n",
       "      <td>£30,495</td>\n",
       "      <td>NaN</td>\n",
       "    </tr>\n",
       "    <tr>\n",
       "      <th>1</th>\n",
       "      <td>2020.0</td>\n",
       "      <td>£29,989</td>\n",
       "      <td>NaN</td>\n",
       "    </tr>\n",
       "    <tr>\n",
       "      <th>2</th>\n",
       "      <td>2020.0</td>\n",
       "      <td>£37,899</td>\n",
       "      <td>NaN</td>\n",
       "    </tr>\n",
       "    <tr>\n",
       "      <th>3</th>\n",
       "      <td>2019.0</td>\n",
       "      <td>£30,399</td>\n",
       "      <td>NaN</td>\n",
       "    </tr>\n",
       "    <tr>\n",
       "      <th>4</th>\n",
       "      <td>2019.0</td>\n",
       "      <td>£29,899</td>\n",
       "      <td>NaN</td>\n",
       "    </tr>\n",
       "    <tr>\n",
       "      <th>...</th>\n",
       "      <td>...</td>\n",
       "      <td>...</td>\n",
       "      <td>...</td>\n",
       "    </tr>\n",
       "    <tr>\n",
       "      <th>4001</th>\n",
       "      <td>2017.0</td>\n",
       "      <td>£14,700</td>\n",
       "      <td>31357.0</td>\n",
       "    </tr>\n",
       "    <tr>\n",
       "      <th>4002</th>\n",
       "      <td>2018.0</td>\n",
       "      <td>£18,500</td>\n",
       "      <td>28248.0</td>\n",
       "    </tr>\n",
       "    <tr>\n",
       "      <th>4003</th>\n",
       "      <td>2014.0</td>\n",
       "      <td>£11,900</td>\n",
       "      <td>48055.0</td>\n",
       "    </tr>\n",
       "    <tr>\n",
       "      <th>4004</th>\n",
       "      <td>2014.0</td>\n",
       "      <td>£11,300</td>\n",
       "      <td>49865.0</td>\n",
       "    </tr>\n",
       "    <tr>\n",
       "      <th>4005</th>\n",
       "      <td>2014.0</td>\n",
       "      <td>£14,800</td>\n",
       "      <td>55445.0</td>\n",
       "    </tr>\n",
       "  </tbody>\n",
       "</table>\n",
       "<p>4006 rows × 3 columns</p>\n",
       "</div>"
      ],
      "text/plain": [
       "        year     price  mileage\n",
       "0     2020.0   £30,495      NaN\n",
       "1     2020.0   £29,989      NaN\n",
       "2     2020.0   £37,899      NaN\n",
       "3     2019.0   £30,399      NaN\n",
       "4     2019.0   £29,899      NaN\n",
       "...      ...       ...      ...\n",
       "4001  2017.0   £14,700  31357.0\n",
       "4002  2018.0   £18,500  28248.0\n",
       "4003  2014.0   £11,900  48055.0\n",
       "4004  2014.0   £11,300  49865.0\n",
       "4005  2014.0   £14,800  55445.0\n",
       "\n",
       "[4006 rows x 3 columns]"
      ]
     },
     "execution_count": 22,
     "metadata": {},
     "output_type": "execute_result"
    }
   ],
   "source": [
    "\"\"\"Subdataframa, definimos las variables predictoras y la objetivo\"\"\"\n",
    "aux3 = cclass[['year', 'price', 'mileage']].copy()\n",
    "pred = ['year', 'price']\n",
    "tar = 'mileage'\n",
    "aux3['mileage'] = aux3['mileage'].map(lambda x:clean(x))\n",
    "aux3"
   ]
  },
  {
   "cell_type": "code",
   "execution_count": 23,
   "id": "6ba7ae11",
   "metadata": {},
   "outputs": [
    {
     "name": "stdout",
     "output_type": "stream",
     "text": [
      "Your selected dataframe has 3 columns and 4006 Rows.\n",
      "There are 3 columns that have missing values.\n"
     ]
    },
    {
     "data": {
      "text/html": [
       "<div>\n",
       "<style scoped>\n",
       "    .dataframe tbody tr th:only-of-type {\n",
       "        vertical-align: middle;\n",
       "    }\n",
       "\n",
       "    .dataframe tbody tr th {\n",
       "        vertical-align: top;\n",
       "    }\n",
       "\n",
       "    .dataframe thead th {\n",
       "        text-align: right;\n",
       "    }\n",
       "</style>\n",
       "<table border=\"1\" class=\"dataframe\">\n",
       "  <thead>\n",
       "    <tr style=\"text-align: right;\">\n",
       "      <th></th>\n",
       "      <th>Zero Values</th>\n",
       "      <th>Missing Values</th>\n",
       "      <th>% of Total Values</th>\n",
       "      <th>Total Zero Missing Values</th>\n",
       "      <th>% Total Zero Missing Values</th>\n",
       "      <th>Data Type</th>\n",
       "    </tr>\n",
       "  </thead>\n",
       "  <tbody>\n",
       "    <tr>\n",
       "      <th>mileage</th>\n",
       "      <td>0</td>\n",
       "      <td>201</td>\n",
       "      <td>5.0</td>\n",
       "      <td>201</td>\n",
       "      <td>5.0</td>\n",
       "      <td>float64</td>\n",
       "    </tr>\n",
       "    <tr>\n",
       "      <th>year</th>\n",
       "      <td>0</td>\n",
       "      <td>102</td>\n",
       "      <td>2.5</td>\n",
       "      <td>102</td>\n",
       "      <td>2.5</td>\n",
       "      <td>float64</td>\n",
       "    </tr>\n",
       "    <tr>\n",
       "      <th>price</th>\n",
       "      <td>0</td>\n",
       "      <td>99</td>\n",
       "      <td>2.5</td>\n",
       "      <td>99</td>\n",
       "      <td>2.5</td>\n",
       "      <td>object</td>\n",
       "    </tr>\n",
       "  </tbody>\n",
       "</table>\n",
       "</div>"
      ],
      "text/plain": [
       "         Zero Values  Missing Values  % of Total Values  \\\n",
       "mileage            0             201                5.0   \n",
       "year               0             102                2.5   \n",
       "price              0              99                2.5   \n",
       "\n",
       "         Total Zero Missing Values  % Total Zero Missing Values Data Type  \n",
       "mileage                        201                          5.0   float64  \n",
       "year                           102                          2.5   float64  \n",
       "price                           99                          2.5    object  "
      ]
     },
     "execution_count": 23,
     "metadata": {},
     "output_type": "execute_result"
    }
   ],
   "source": [
    "# Revisión de Missings en las variables predictoras \n",
    "\n",
    "#para fines de esta situación omitiremos esos missings.\n",
    "\n",
    "eng.missing_zero_values_table(aux3.sort_values(by = 'year'))"
   ]
  },
  {
   "cell_type": "code",
   "execution_count": 24,
   "id": "91567e6a",
   "metadata": {},
   "outputs": [
    {
     "data": {
      "text/plain": [
       "'11300'"
      ]
     },
     "execution_count": 24,
     "metadata": {},
     "output_type": "execute_result"
    }
   ],
   "source": [
    "\"\"\"Importmaos regular expresions, con el importamos solo los numeros.\n",
    "Cuando son varios casos se usa, si no con replace o strip\"\"\"\n",
    "import re\n",
    "re.sub(\"[^0-9]\", \"\", '£11,300')"
   ]
  },
  {
   "cell_type": "code",
   "execution_count": 25,
   "id": "59b4dd9a",
   "metadata": {},
   "outputs": [
    {
     "data": {
      "text/plain": [
       "'11300'"
      ]
     },
     "execution_count": 25,
     "metadata": {},
     "output_type": "execute_result"
    }
   ],
   "source": [
    "\"\"\"Se llega a lo mismo pero en mas pasos, con el filtro ve que sean\n",
    "digitos y los separa en listas, ya depues se pegan con un join\"\"\"\n",
    "numeric_filter = filter(str.isdigit, '£11,300')\n",
    "numeric_string = \"\".join(numeric_filter)\n",
    "numeric_string"
   ]
  },
  {
   "cell_type": "code",
   "execution_count": 26,
   "id": "6fde8e7f",
   "metadata": {},
   "outputs": [],
   "source": [
    "def clean(x):\n",
    "    \n",
    "    if type(x) == str:\n",
    "        if x =='Unknown': x = np.nan\n",
    "        else: x = float(x.replace(',', '').replace(' ', ''))\n",
    "    else: x = float(x)\n",
    "    \n",
    "    return(x)\n",
    "\n",
    "def clean2(x):\n",
    "    import re\n",
    "    \n",
    "    \n",
    "    if type(x) == str:\n",
    "        x = re.sub(\"[^0-9]\", \"\", x)\n",
    "        return(x)\n",
    "    else:\n",
    "        return(x)"
   ]
  },
  {
   "cell_type": "code",
   "execution_count": 27,
   "id": "dee37df1",
   "metadata": {},
   "outputs": [],
   "source": [
    "aux3['price'] = aux3['price'].apply(lambda x:clean2(x))\n",
    "aux3['mileage'] = aux3['mileage'].apply(lambda x:clean(x))"
   ]
  },
  {
   "cell_type": "code",
   "execution_count": 28,
   "id": "fc84a3c8",
   "metadata": {},
   "outputs": [],
   "source": [
    "aux3.reset_index(drop = True, inplace = True)"
   ]
  },
  {
   "cell_type": "code",
   "execution_count": 29,
   "id": "582288be",
   "metadata": {},
   "outputs": [],
   "source": [
    "# Vamos a utilizar KNN para imputar los valores de las variables predictoras.\n",
    "\n",
    "ki = KNNImputer(add_indicator=True)\n",
    "columns = [c +'_imp' for c in aux3.columns] + [c +'_ind' for c in aux3.columns]\n",
    "aux3_imp = pd.DataFrame(ki.fit_transform(np.array(aux3)), columns = columns)\n",
    "aux3 = aux3.merge(aux3_imp, how = 'inner', left_index = True, right_index = True)"
   ]
  },
  {
   "cell_type": "code",
   "execution_count": 30,
   "id": "25dd2409",
   "metadata": {},
   "outputs": [
    {
     "data": {
      "text/html": [
       "<div>\n",
       "<style scoped>\n",
       "    .dataframe tbody tr th:only-of-type {\n",
       "        vertical-align: middle;\n",
       "    }\n",
       "\n",
       "    .dataframe tbody tr th {\n",
       "        vertical-align: top;\n",
       "    }\n",
       "\n",
       "    .dataframe thead th {\n",
       "        text-align: right;\n",
       "    }\n",
       "</style>\n",
       "<table border=\"1\" class=\"dataframe\">\n",
       "  <thead>\n",
       "    <tr style=\"text-align: right;\">\n",
       "      <th></th>\n",
       "      <th>year</th>\n",
       "      <th>price</th>\n",
       "      <th>mileage</th>\n",
       "      <th>year_imp</th>\n",
       "      <th>price_imp</th>\n",
       "      <th>mileage_imp</th>\n",
       "      <th>year_ind</th>\n",
       "      <th>price_ind</th>\n",
       "      <th>mileage_ind</th>\n",
       "    </tr>\n",
       "  </thead>\n",
       "  <tbody>\n",
       "    <tr>\n",
       "      <th>0</th>\n",
       "      <td>2020.0</td>\n",
       "      <td>30495</td>\n",
       "      <td>NaN</td>\n",
       "      <td>2020.0</td>\n",
       "      <td>30495.0</td>\n",
       "      <td>7585.0</td>\n",
       "      <td>0.0</td>\n",
       "      <td>0.0</td>\n",
       "      <td>1.0</td>\n",
       "    </tr>\n",
       "    <tr>\n",
       "      <th>1</th>\n",
       "      <td>2020.0</td>\n",
       "      <td>29989</td>\n",
       "      <td>NaN</td>\n",
       "      <td>2020.0</td>\n",
       "      <td>29989.0</td>\n",
       "      <td>5970.6</td>\n",
       "      <td>0.0</td>\n",
       "      <td>0.0</td>\n",
       "      <td>1.0</td>\n",
       "    </tr>\n",
       "    <tr>\n",
       "      <th>2</th>\n",
       "      <td>2020.0</td>\n",
       "      <td>37899</td>\n",
       "      <td>NaN</td>\n",
       "      <td>2020.0</td>\n",
       "      <td>37899.0</td>\n",
       "      <td>8219.2</td>\n",
       "      <td>0.0</td>\n",
       "      <td>0.0</td>\n",
       "      <td>1.0</td>\n",
       "    </tr>\n",
       "    <tr>\n",
       "      <th>3</th>\n",
       "      <td>2019.0</td>\n",
       "      <td>30399</td>\n",
       "      <td>NaN</td>\n",
       "      <td>2019.0</td>\n",
       "      <td>30399.0</td>\n",
       "      <td>6758.2</td>\n",
       "      <td>0.0</td>\n",
       "      <td>0.0</td>\n",
       "      <td>1.0</td>\n",
       "    </tr>\n",
       "    <tr>\n",
       "      <th>4</th>\n",
       "      <td>2019.0</td>\n",
       "      <td>29899</td>\n",
       "      <td>NaN</td>\n",
       "      <td>2019.0</td>\n",
       "      <td>29899.0</td>\n",
       "      <td>7028.6</td>\n",
       "      <td>0.0</td>\n",
       "      <td>0.0</td>\n",
       "      <td>1.0</td>\n",
       "    </tr>\n",
       "    <tr>\n",
       "      <th>...</th>\n",
       "      <td>...</td>\n",
       "      <td>...</td>\n",
       "      <td>...</td>\n",
       "      <td>...</td>\n",
       "      <td>...</td>\n",
       "      <td>...</td>\n",
       "      <td>...</td>\n",
       "      <td>...</td>\n",
       "      <td>...</td>\n",
       "    </tr>\n",
       "    <tr>\n",
       "      <th>4001</th>\n",
       "      <td>2017.0</td>\n",
       "      <td>14700</td>\n",
       "      <td>31357.0</td>\n",
       "      <td>2017.0</td>\n",
       "      <td>14700.0</td>\n",
       "      <td>31357.0</td>\n",
       "      <td>0.0</td>\n",
       "      <td>0.0</td>\n",
       "      <td>0.0</td>\n",
       "    </tr>\n",
       "    <tr>\n",
       "      <th>4002</th>\n",
       "      <td>2018.0</td>\n",
       "      <td>18500</td>\n",
       "      <td>28248.0</td>\n",
       "      <td>2018.0</td>\n",
       "      <td>18500.0</td>\n",
       "      <td>28248.0</td>\n",
       "      <td>0.0</td>\n",
       "      <td>0.0</td>\n",
       "      <td>0.0</td>\n",
       "    </tr>\n",
       "    <tr>\n",
       "      <th>4003</th>\n",
       "      <td>2014.0</td>\n",
       "      <td>11900</td>\n",
       "      <td>48055.0</td>\n",
       "      <td>2014.0</td>\n",
       "      <td>11900.0</td>\n",
       "      <td>48055.0</td>\n",
       "      <td>0.0</td>\n",
       "      <td>0.0</td>\n",
       "      <td>0.0</td>\n",
       "    </tr>\n",
       "    <tr>\n",
       "      <th>4004</th>\n",
       "      <td>2014.0</td>\n",
       "      <td>11300</td>\n",
       "      <td>49865.0</td>\n",
       "      <td>2014.0</td>\n",
       "      <td>11300.0</td>\n",
       "      <td>49865.0</td>\n",
       "      <td>0.0</td>\n",
       "      <td>0.0</td>\n",
       "      <td>0.0</td>\n",
       "    </tr>\n",
       "    <tr>\n",
       "      <th>4005</th>\n",
       "      <td>2014.0</td>\n",
       "      <td>14800</td>\n",
       "      <td>55445.0</td>\n",
       "      <td>2014.0</td>\n",
       "      <td>14800.0</td>\n",
       "      <td>55445.0</td>\n",
       "      <td>0.0</td>\n",
       "      <td>0.0</td>\n",
       "      <td>0.0</td>\n",
       "    </tr>\n",
       "  </tbody>\n",
       "</table>\n",
       "<p>4006 rows × 9 columns</p>\n",
       "</div>"
      ],
      "text/plain": [
       "        year  price  mileage  year_imp  price_imp  mileage_imp  year_ind  \\\n",
       "0     2020.0  30495      NaN    2020.0    30495.0       7585.0       0.0   \n",
       "1     2020.0  29989      NaN    2020.0    29989.0       5970.6       0.0   \n",
       "2     2020.0  37899      NaN    2020.0    37899.0       8219.2       0.0   \n",
       "3     2019.0  30399      NaN    2019.0    30399.0       6758.2       0.0   \n",
       "4     2019.0  29899      NaN    2019.0    29899.0       7028.6       0.0   \n",
       "...      ...    ...      ...       ...        ...          ...       ...   \n",
       "4001  2017.0  14700  31357.0    2017.0    14700.0      31357.0       0.0   \n",
       "4002  2018.0  18500  28248.0    2018.0    18500.0      28248.0       0.0   \n",
       "4003  2014.0  11900  48055.0    2014.0    11900.0      48055.0       0.0   \n",
       "4004  2014.0  11300  49865.0    2014.0    11300.0      49865.0       0.0   \n",
       "4005  2014.0  14800  55445.0    2014.0    14800.0      55445.0       0.0   \n",
       "\n",
       "      price_ind  mileage_ind  \n",
       "0           0.0          1.0  \n",
       "1           0.0          1.0  \n",
       "2           0.0          1.0  \n",
       "3           0.0          1.0  \n",
       "4           0.0          1.0  \n",
       "...         ...          ...  \n",
       "4001        0.0          0.0  \n",
       "4002        0.0          0.0  \n",
       "4003        0.0          0.0  \n",
       "4004        0.0          0.0  \n",
       "4005        0.0          0.0  \n",
       "\n",
       "[4006 rows x 9 columns]"
      ]
     },
     "execution_count": 30,
     "metadata": {},
     "output_type": "execute_result"
    }
   ],
   "source": [
    "aux3"
   ]
  },
  {
   "cell_type": "code",
   "execution_count": 31,
   "id": "ee222f48",
   "metadata": {},
   "outputs": [],
   "source": [
    "train = aux3[['year_imp', 'price_imp', 'year_ind', 'price_ind', 'mileage']].loc[aux3['mileage'].isna() == False].copy()\n",
    "val = aux3[['year_imp', 'price_imp', 'year_ind', 'price_ind', 'mileage']].loc[aux3['mileage'].isna() == True].copy()"
   ]
  },
  {
   "cell_type": "code",
   "execution_count": 32,
   "id": "fdf5b6a1",
   "metadata": {},
   "outputs": [],
   "source": [
    "from sklearn.linear_model import LinearRegression"
   ]
  },
  {
   "cell_type": "code",
   "execution_count": 33,
   "id": "9f8daac8",
   "metadata": {},
   "outputs": [],
   "source": [
    "train.reset_index(drop = True, inplace = True)"
   ]
  },
  {
   "cell_type": "code",
   "execution_count": 34,
   "id": "30797f1b",
   "metadata": {},
   "outputs": [],
   "source": [
    "val.reset_index(drop = True, inplace = True)"
   ]
  },
  {
   "cell_type": "code",
   "execution_count": 35,
   "id": "7c9f9081",
   "metadata": {},
   "outputs": [
    {
     "data": {
      "text/plain": [
       "LinearRegression()"
      ]
     },
     "execution_count": 35,
     "metadata": {},
     "output_type": "execute_result"
    }
   ],
   "source": [
    "# Regresión Lineal\n",
    "pred = ['year_imp', 'price_imp', 'year_ind', 'price_ind'] #Variables explicativas\n",
    "X = train[pred]\n",
    "y = train[tar]\n",
    "lr = LinearRegression()\n",
    "lr.fit(X, y)"
   ]
  },
  {
   "cell_type": "code",
   "execution_count": 36,
   "id": "77562529",
   "metadata": {},
   "outputs": [
    {
     "data": {
      "text/plain": [
       "array([  1304.84424719,   1665.21252852,  -3968.21258082,   7466.34313789,\n",
       "         7822.43827755,    945.90034642,  -2615.05105013,   2060.10672765,\n",
       "         8469.81924144,   8469.81924144,  21264.42797906,  21264.42797906,\n",
       "        21264.42797906,  21264.42797906,  21264.42797906,  21264.42797906,\n",
       "        21264.42797906,  21264.42797906,  21264.42797906,  21264.42797906,\n",
       "        21264.42797906,  21264.42797906,  21264.42797906,  21264.42797906,\n",
       "        21264.42797906,  21264.42797906,  21264.42797906,  21264.42797906,\n",
       "        21264.42797906,  21264.42797906,  21264.42797906,  21264.42797906,\n",
       "        21264.42797906,  21264.42797906,  21264.42797906,  21264.42797906,\n",
       "        21264.42797906,  21264.42797906,  21264.42797906,  21264.42797906,\n",
       "        21264.42797906,  37424.93739996,  32439.6054448 ,  44230.25630317,\n",
       "        25349.41042987,  25088.03659737,  44942.44658247,  37424.93739996,\n",
       "        44942.44658247,  21264.42797906,  21264.42797906,  21264.42797906,\n",
       "        21264.42797906,  21264.42797906,  21264.42797906,  21264.42797906,\n",
       "        21264.42797906,  21264.42797906,  21264.42797906,  21264.42797906,\n",
       "        21264.42797906,  21264.42797906,  21264.42797906,  21264.42797906,\n",
       "        21264.42797906,  21264.42797906,  21264.42797906,  21264.42797906,\n",
       "        21264.42797906,  21264.42797906,  21264.42797906,  21264.42797906,\n",
       "        21264.42797906,  21264.42797906,  21264.42797906,  21264.42797906,\n",
       "        21264.42797906,  21264.42797906,  21264.42797906,  21264.42797906,\n",
       "        21264.42797906,  21264.42797906,  21264.42797906,  21264.42797906,\n",
       "        21264.42797906,  21264.42797906,  21264.42797906,  21264.42797906,\n",
       "        21264.42797906,  21264.42797906,  21264.42797906,  21264.42797906,\n",
       "        21264.42797906,  21264.42797906,  21264.42797906,  21264.42797906,\n",
       "        21264.42797906,  21264.42797906,  -1243.77459956,  37424.93739996,\n",
       "        44942.44658247,  25088.03659737,  21264.42797906,  21264.42797906,\n",
       "        21264.42797906,  29552.75745836,  41381.49518592,   5628.18002699,\n",
       "        24224.14978856,  14886.65365802,  18120.33831048,  37710.90498819,\n",
       "        21264.42797906,  70774.95115062,  48906.12627123,  44942.44658247,\n",
       "        44942.44658247,  21264.42797906,  21264.42797906,  21264.42797906,\n",
       "         9279.23880462,  18199.36080999,  21264.42797906,  21264.42797906,\n",
       "        36285.43295307,  26346.47682091,  34718.61433859,  40882.96199041,\n",
       "        42310.90350042,  21264.42797906,  21264.42797906,  21264.42797906,\n",
       "        21264.42797906,  26488.91487677,  34576.17628273,  34611.78579669,\n",
       "        59279.51847377,  38639.22182619,  21264.42797906,  21264.42797906,\n",
       "        26360.72062649,  39248.48529939,  78973.31424015,  21264.42797906,\n",
       "        21264.42797906,  36374.45673798,  21264.42797906,  44942.44658247,\n",
       "        21264.42797906,  27902.92371054,  37424.93739996,  25088.03659737,\n",
       "        44942.44658247,  37424.93739996,  25088.03659737,  44942.44658247,\n",
       "         7865.13907281,   3562.82821699, -11859.99306585,  44942.44658247,\n",
       "        25088.03659737,  37424.93739996,  44942.44658247,  25088.03659737,\n",
       "        71814.74895841, 113750.89809494,  97647.59431096, 112643.10142622,\n",
       "       125327.89186952,  37424.93739996,  37424.93739996,  44942.44658247,\n",
       "        25088.03659737,    247.24168241,  44942.44658247,  22789.08637575,\n",
       "        37424.93739996,  37424.93739996,  44942.44658247,  25088.03659737,\n",
       "        37424.93739996,  44942.44658247,  25088.03659737,   9965.41882799,\n",
       "        24708.43917849,  -5428.91484369,  37424.93739996,  63225.39340554,\n",
       "        -7522.75426486,  -3249.612589  ,   1315.52710138,  -3249.612589  ,\n",
       "        37424.93739996,  44942.44658247,   7835.96989285,   1671.62224103,\n",
       "        -1533.23401586,  37424.93739996,  44942.44658247,  25088.03659737,\n",
       "          304.21690476])"
      ]
     },
     "execution_count": 36,
     "metadata": {},
     "output_type": "execute_result"
    }
   ],
   "source": [
    "lr.predict(val[pred]) #Las millas no son negativas"
   ]
  },
  {
   "cell_type": "code",
   "execution_count": 37,
   "id": "e2382f19",
   "metadata": {},
   "outputs": [],
   "source": [
    "val['linear regression'] = lr.predict(val[pred])"
   ]
  },
  {
   "cell_type": "code",
   "execution_count": 38,
   "id": "3d278ddc",
   "metadata": {},
   "outputs": [
    {
     "data": {
      "text/plain": [
       "count       201.000000\n",
       "mean      26193.924292\n",
       "std       18575.979258\n",
       "min      -11859.993066\n",
       "0%       -11859.993066\n",
       "10%        7822.438278\n",
       "20%       21264.427979\n",
       "30%       21264.427979\n",
       "40%       21264.427979\n",
       "50%       21264.427979\n",
       "60%       21264.427979\n",
       "70%       25088.036597\n",
       "80%       37424.937400\n",
       "90%       44942.446582\n",
       "max      125327.891870\n",
       "Name: linear regression, dtype: float64"
      ]
     },
     "execution_count": 38,
     "metadata": {},
     "output_type": "execute_result"
    }
   ],
   "source": [
    "\"\"\"Se le va a ajustar una normal\"\"\"\n",
    "val['linear regression'].describe(percentiles = [i/10 for i in range(10)])"
   ]
  },
  {
   "cell_type": "code",
   "execution_count": 39,
   "id": "d0978317",
   "metadata": {},
   "outputs": [],
   "source": [
    "def isnegative(x, val):\n",
    "    if x < 0:\n",
    "        return(val)\n",
    "    else:\n",
    "        return(x)"
   ]
  },
  {
   "cell_type": "code",
   "execution_count": 40,
   "id": "16151da6",
   "metadata": {},
   "outputs": [],
   "source": [
    "#Encontramos el valor minimo por el cual vamos a remplazar, esto se hace dado que no\n",
    "#tiene sentido un km negativo o en cero porque es improbable.\n",
    "\"\"\"Igual es posible aproximar con KNN y luego omitir esos registros\"\"\"\n",
    "min_m = val['linear regression'].loc[val['linear regression'] >= 0].min()"
   ]
  },
  {
   "cell_type": "code",
   "execution_count": 41,
   "id": "30d3f427",
   "metadata": {},
   "outputs": [
    {
     "data": {
      "text/html": [
       "<div>\n",
       "<style scoped>\n",
       "    .dataframe tbody tr th:only-of-type {\n",
       "        vertical-align: middle;\n",
       "    }\n",
       "\n",
       "    .dataframe tbody tr th {\n",
       "        vertical-align: top;\n",
       "    }\n",
       "\n",
       "    .dataframe thead th {\n",
       "        text-align: right;\n",
       "    }\n",
       "</style>\n",
       "<table border=\"1\" class=\"dataframe\">\n",
       "  <thead>\n",
       "    <tr style=\"text-align: right;\">\n",
       "      <th></th>\n",
       "      <th>year_imp</th>\n",
       "      <th>price_imp</th>\n",
       "      <th>year_ind</th>\n",
       "      <th>price_ind</th>\n",
       "      <th>mileage</th>\n",
       "      <th>linear regression</th>\n",
       "      <th>linear regression abs</th>\n",
       "      <th>linear regression min</th>\n",
       "    </tr>\n",
       "  </thead>\n",
       "  <tbody>\n",
       "    <tr>\n",
       "      <th>0</th>\n",
       "      <td>2020.0</td>\n",
       "      <td>30495.0</td>\n",
       "      <td>0.0</td>\n",
       "      <td>0.0</td>\n",
       "      <td>NaN</td>\n",
       "      <td>1304.844247</td>\n",
       "      <td>1304.844247</td>\n",
       "      <td>1304.844247</td>\n",
       "    </tr>\n",
       "    <tr>\n",
       "      <th>1</th>\n",
       "      <td>2020.0</td>\n",
       "      <td>29989.0</td>\n",
       "      <td>0.0</td>\n",
       "      <td>0.0</td>\n",
       "      <td>NaN</td>\n",
       "      <td>1665.212529</td>\n",
       "      <td>1665.212529</td>\n",
       "      <td>1665.212529</td>\n",
       "    </tr>\n",
       "    <tr>\n",
       "      <th>2</th>\n",
       "      <td>2020.0</td>\n",
       "      <td>37899.0</td>\n",
       "      <td>0.0</td>\n",
       "      <td>0.0</td>\n",
       "      <td>NaN</td>\n",
       "      <td>-3968.212581</td>\n",
       "      <td>3968.212581</td>\n",
       "      <td>247.241682</td>\n",
       "    </tr>\n",
       "    <tr>\n",
       "      <th>3</th>\n",
       "      <td>2019.0</td>\n",
       "      <td>30399.0</td>\n",
       "      <td>0.0</td>\n",
       "      <td>0.0</td>\n",
       "      <td>NaN</td>\n",
       "      <td>7466.343138</td>\n",
       "      <td>7466.343138</td>\n",
       "      <td>7466.343138</td>\n",
       "    </tr>\n",
       "    <tr>\n",
       "      <th>4</th>\n",
       "      <td>2019.0</td>\n",
       "      <td>29899.0</td>\n",
       "      <td>0.0</td>\n",
       "      <td>0.0</td>\n",
       "      <td>NaN</td>\n",
       "      <td>7822.438278</td>\n",
       "      <td>7822.438278</td>\n",
       "      <td>7822.438278</td>\n",
       "    </tr>\n",
       "    <tr>\n",
       "      <th>...</th>\n",
       "      <td>...</td>\n",
       "      <td>...</td>\n",
       "      <td>...</td>\n",
       "      <td>...</td>\n",
       "      <td>...</td>\n",
       "      <td>...</td>\n",
       "      <td>...</td>\n",
       "      <td>...</td>\n",
       "    </tr>\n",
       "    <tr>\n",
       "      <th>196</th>\n",
       "      <td>2020.0</td>\n",
       "      <td>34480.0</td>\n",
       "      <td>0.0</td>\n",
       "      <td>0.0</td>\n",
       "      <td>NaN</td>\n",
       "      <td>-1533.234016</td>\n",
       "      <td>1533.234016</td>\n",
       "      <td>247.241682</td>\n",
       "    </tr>\n",
       "    <tr>\n",
       "      <th>197</th>\n",
       "      <td>2016.0</td>\n",
       "      <td>14000.0</td>\n",
       "      <td>0.0</td>\n",
       "      <td>0.0</td>\n",
       "      <td>NaN</td>\n",
       "      <td>37424.937400</td>\n",
       "      <td>37424.937400</td>\n",
       "      <td>37424.937400</td>\n",
       "    </tr>\n",
       "    <tr>\n",
       "      <th>198</th>\n",
       "      <td>2015.0</td>\n",
       "      <td>12000.0</td>\n",
       "      <td>0.0</td>\n",
       "      <td>0.0</td>\n",
       "      <td>NaN</td>\n",
       "      <td>44942.446582</td>\n",
       "      <td>44942.446582</td>\n",
       "      <td>44942.446582</td>\n",
       "    </tr>\n",
       "    <tr>\n",
       "      <th>199</th>\n",
       "      <td>2017.0</td>\n",
       "      <td>22767.0</td>\n",
       "      <td>0.0</td>\n",
       "      <td>0.0</td>\n",
       "      <td>NaN</td>\n",
       "      <td>25088.036597</td>\n",
       "      <td>25088.036597</td>\n",
       "      <td>25088.036597</td>\n",
       "    </tr>\n",
       "    <tr>\n",
       "      <th>200</th>\n",
       "      <td>2020.0</td>\n",
       "      <td>31900.0</td>\n",
       "      <td>0.0</td>\n",
       "      <td>0.0</td>\n",
       "      <td>NaN</td>\n",
       "      <td>304.216905</td>\n",
       "      <td>304.216905</td>\n",
       "      <td>304.216905</td>\n",
       "    </tr>\n",
       "  </tbody>\n",
       "</table>\n",
       "<p>201 rows × 8 columns</p>\n",
       "</div>"
      ],
      "text/plain": [
       "     year_imp  price_imp  year_ind  price_ind  mileage  linear regression  \\\n",
       "0      2020.0    30495.0       0.0        0.0      NaN        1304.844247   \n",
       "1      2020.0    29989.0       0.0        0.0      NaN        1665.212529   \n",
       "2      2020.0    37899.0       0.0        0.0      NaN       -3968.212581   \n",
       "3      2019.0    30399.0       0.0        0.0      NaN        7466.343138   \n",
       "4      2019.0    29899.0       0.0        0.0      NaN        7822.438278   \n",
       "..        ...        ...       ...        ...      ...                ...   \n",
       "196    2020.0    34480.0       0.0        0.0      NaN       -1533.234016   \n",
       "197    2016.0    14000.0       0.0        0.0      NaN       37424.937400   \n",
       "198    2015.0    12000.0       0.0        0.0      NaN       44942.446582   \n",
       "199    2017.0    22767.0       0.0        0.0      NaN       25088.036597   \n",
       "200    2020.0    31900.0       0.0        0.0      NaN         304.216905   \n",
       "\n",
       "     linear regression abs  linear regression min  \n",
       "0              1304.844247            1304.844247  \n",
       "1              1665.212529            1665.212529  \n",
       "2              3968.212581             247.241682  \n",
       "3              7466.343138            7466.343138  \n",
       "4              7822.438278            7822.438278  \n",
       "..                     ...                    ...  \n",
       "196            1533.234016             247.241682  \n",
       "197           37424.937400           37424.937400  \n",
       "198           44942.446582           44942.446582  \n",
       "199           25088.036597           25088.036597  \n",
       "200             304.216905             304.216905  \n",
       "\n",
       "[201 rows x 8 columns]"
      ]
     },
     "execution_count": 41,
     "metadata": {},
     "output_type": "execute_result"
    }
   ],
   "source": [
    "val['linear regression abs'] = val['linear regression'].map(lambda x:abs(x))\n",
    "val['linear regression min'] = val['linear regression'].map(lambda x:isnegative(x,min_m))\n",
    "val"
   ]
  },
  {
   "cell_type": "markdown",
   "id": "a982174d",
   "metadata": {},
   "source": [
    "### Regresión estocástica\n",
    "\n",
    "Para esto debemos calcular la varianza, entonces utilizaremos la predicción sobre el conjunto de entrenamiento y con base a eso, generaremos la distribución normal de los errores. "
   ]
  },
  {
   "cell_type": "code",
   "execution_count": 42,
   "id": "97f76faa",
   "metadata": {},
   "outputs": [
    {
     "data": {
      "text/plain": [
       "array([-13656.64534027,  21413.65519791,  48569.75033756, ...,\n",
       "        -3051.7942343 ,  -1669.10840188,   6403.5575757 ])"
      ]
     },
     "execution_count": 42,
     "metadata": {},
     "output_type": "execute_result"
    }
   ],
   "source": [
    "y.values - lr.predict(X)  #Vemos el historial"
   ]
  },
  {
   "cell_type": "code",
   "execution_count": 43,
   "id": "7d91134e",
   "metadata": {},
   "outputs": [],
   "source": [
    "import matplotlib.pyplot as plt"
   ]
  },
  {
   "cell_type": "code",
   "execution_count": 44,
   "id": "c083a2b3",
   "metadata": {},
   "outputs": [
    {
     "data": {
      "text/plain": [
       "(array([   2,    1,    0,   21,  782, 2632,  288,   55,   16,    8]),\n",
       " array([-117834.6775772 ,  -95781.04702212,  -73727.41646705,\n",
       "         -51673.78591197,  -29620.15535689,   -7566.52480182,\n",
       "          14487.10575326,   36540.73630834,   58594.36686341,\n",
       "          80647.99741849,  102701.62797357]))"
      ]
     },
     "execution_count": 44,
     "metadata": {},
     "output_type": "execute_result"
    }
   ],
   "source": [
    "np.histogram(y.values - lr.predict(X))"
   ]
  },
  {
   "cell_type": "code",
   "execution_count": 45,
   "id": "271f81c8",
   "metadata": {},
   "outputs": [
    {
     "data": {
      "text/plain": [
       "(array([3.000e+00, 2.100e+01, 3.414e+03, 3.430e+02, 2.400e+01]),\n",
       " array([-117834.6775772 ,  -73727.41646705,  -29620.15535689,\n",
       "          14487.10575326,   58594.36686341,  102701.62797357]),\n",
       " <BarContainer object of 5 artists>)"
      ]
     },
     "execution_count": 45,
     "metadata": {},
     "output_type": "execute_result"
    },
    {
     "data": {
      "image/png": "[encoded data removed]",
      "text/plain": [
       "<Figure size 432x288 with 1 Axes>"
      ]
     },
     "metadata": {
      "needs_background": "light"
     },
     "output_type": "display_data"
    }
   ],
   "source": [
    "plt.hist(y.values - lr.predict(X), bins = 5)"
   ]
  },
  {
   "cell_type": "code",
   "execution_count": 46,
   "id": "8afe2516",
   "metadata": {},
   "outputs": [],
   "source": [
    "\"\"\"Usamos la desv estandar en lugar de la varianza porque\n",
    "la varianza los errores grandes los eleva mucho y los da en otras unidades.\n",
    "ppor lo que la desv estandar hace que se regrese a la escala anterior\"\"\"\n",
    "\n",
    "\n",
    "# Cálculo de los residuales\n",
    "residuals = y.values - lr.predict(X)\n",
    "\n",
    "# Cálculo de la varianza\n",
    "variance = residuals.var()\n",
    "\n",
    "# Generamos los errores #Se dearrolla con la media de los residuales, o \n",
    "#si es cercano a 0 ponemos cero\n",
    "rnoise = np.random.normal(0, np.sqrt(variance), len(val))\n",
    "\n",
    "# Regresión estocástica, ruido provoca valores negativos, por lo que\n",
    "#se repite el proceso anterior\n",
    "val['Stochastic regression'] = val['linear regression'] + rnoise\n",
    "\n",
    "m = train['mileage'].mean()"
   ]
  },
  {
   "cell_type": "code",
   "execution_count": 47,
   "id": "e181f9ed",
   "metadata": {},
   "outputs": [],
   "source": [
    "def no_neg(x, m):\n",
    "    \n",
    "    if x<0:\n",
    "        return(m)\n",
    "    else:\n",
    "        return(x)"
   ]
  },
  {
   "cell_type": "code",
   "execution_count": 48,
   "id": "6bbac12c",
   "metadata": {},
   "outputs": [
    {
     "data": {
      "text/html": [
       "<div>\n",
       "<style scoped>\n",
       "    .dataframe tbody tr th:only-of-type {\n",
       "        vertical-align: middle;\n",
       "    }\n",
       "\n",
       "    .dataframe tbody tr th {\n",
       "        vertical-align: top;\n",
       "    }\n",
       "\n",
       "    .dataframe thead th {\n",
       "        text-align: right;\n",
       "    }\n",
       "</style>\n",
       "<table border=\"1\" class=\"dataframe\">\n",
       "  <thead>\n",
       "    <tr style=\"text-align: right;\">\n",
       "      <th></th>\n",
       "      <th>year_imp</th>\n",
       "      <th>price_imp</th>\n",
       "      <th>year_ind</th>\n",
       "      <th>price_ind</th>\n",
       "      <th>mileage</th>\n",
       "      <th>linear regression</th>\n",
       "      <th>linear regression abs</th>\n",
       "      <th>linear regression min</th>\n",
       "      <th>Stochastic regression</th>\n",
       "    </tr>\n",
       "  </thead>\n",
       "  <tbody>\n",
       "    <tr>\n",
       "      <th>168</th>\n",
       "      <td>2003.0</td>\n",
       "      <td>1795.0</td>\n",
       "      <td>0.0</td>\n",
       "      <td>0.0</td>\n",
       "      <td>NaN</td>\n",
       "      <td>125327.891870</td>\n",
       "      <td>125327.891870</td>\n",
       "      <td>125327.891870</td>\n",
       "      <td>123315.281495</td>\n",
       "    </tr>\n",
       "    <tr>\n",
       "      <th>167</th>\n",
       "      <td>2005.0</td>\n",
       "      <td>2495.0</td>\n",
       "      <td>0.0</td>\n",
       "      <td>0.0</td>\n",
       "      <td>NaN</td>\n",
       "      <td>112643.101426</td>\n",
       "      <td>112643.101426</td>\n",
       "      <td>112643.101426</td>\n",
       "      <td>99614.147235</td>\n",
       "    </tr>\n",
       "    <tr>\n",
       "      <th>142</th>\n",
       "      <td>2010.0</td>\n",
       "      <td>6994.0</td>\n",
       "      <td>0.0</td>\n",
       "      <td>0.0</td>\n",
       "      <td>NaN</td>\n",
       "      <td>78973.314240</td>\n",
       "      <td>78973.314240</td>\n",
       "      <td>78973.314240</td>\n",
       "      <td>74363.574641</td>\n",
       "    </tr>\n",
       "    <tr>\n",
       "      <th>164</th>\n",
       "      <td>2011.0</td>\n",
       "      <td>8490.0</td>\n",
       "      <td>0.0</td>\n",
       "      <td>0.0</td>\n",
       "      <td>NaN</td>\n",
       "      <td>71814.748958</td>\n",
       "      <td>71814.748958</td>\n",
       "      <td>71814.748958</td>\n",
       "      <td>76517.287042</td>\n",
       "    </tr>\n",
       "    <tr>\n",
       "      <th>136</th>\n",
       "      <td>2013.0</td>\n",
       "      <td>8980.0</td>\n",
       "      <td>0.0</td>\n",
       "      <td>0.0</td>\n",
       "      <td>NaN</td>\n",
       "      <td>59279.518474</td>\n",
       "      <td>59279.518474</td>\n",
       "      <td>59279.518474</td>\n",
       "      <td>23157.226274</td>\n",
       "    </tr>\n",
       "    <tr>\n",
       "      <th>...</th>\n",
       "      <td>...</td>\n",
       "      <td>...</td>\n",
       "      <td>...</td>\n",
       "      <td>...</td>\n",
       "      <td>...</td>\n",
       "      <td>...</td>\n",
       "      <td>...</td>\n",
       "      <td>...</td>\n",
       "      <td>...</td>\n",
       "    </tr>\n",
       "    <tr>\n",
       "      <th>121</th>\n",
       "      <td>2016.0</td>\n",
       "      <td>40995.0</td>\n",
       "      <td>0.0</td>\n",
       "      <td>0.0</td>\n",
       "      <td>NaN</td>\n",
       "      <td>18199.360810</td>\n",
       "      <td>18199.360810</td>\n",
       "      <td>18199.360810</td>\n",
       "      <td>25132.116678</td>\n",
       "    </tr>\n",
       "    <tr>\n",
       "      <th>188</th>\n",
       "      <td>2020.0</td>\n",
       "      <td>42890.0</td>\n",
       "      <td>0.0</td>\n",
       "      <td>0.0</td>\n",
       "      <td>NaN</td>\n",
       "      <td>-7522.754265</td>\n",
       "      <td>7522.754265</td>\n",
       "      <td>247.241682</td>\n",
       "      <td>-28320.242140</td>\n",
       "    </tr>\n",
       "    <tr>\n",
       "      <th>156</th>\n",
       "      <td>2017.0</td>\n",
       "      <td>46950.0</td>\n",
       "      <td>0.0</td>\n",
       "      <td>0.0</td>\n",
       "      <td>NaN</td>\n",
       "      <td>7865.139073</td>\n",
       "      <td>7865.139073</td>\n",
       "      <td>7865.139073</td>\n",
       "      <td>6715.802077</td>\n",
       "    </tr>\n",
       "    <tr>\n",
       "      <th>158</th>\n",
       "      <td>2020.0</td>\n",
       "      <td>48980.0</td>\n",
       "      <td>0.0</td>\n",
       "      <td>0.0</td>\n",
       "      <td>NaN</td>\n",
       "      <td>-11859.993066</td>\n",
       "      <td>11859.993066</td>\n",
       "      <td>247.241682</td>\n",
       "      <td>-25726.238763</td>\n",
       "    </tr>\n",
       "    <tr>\n",
       "      <th>98</th>\n",
       "      <td>2017.0</td>\n",
       "      <td>59740.0</td>\n",
       "      <td>0.0</td>\n",
       "      <td>0.0</td>\n",
       "      <td>NaN</td>\n",
       "      <td>-1243.774600</td>\n",
       "      <td>1243.774600</td>\n",
       "      <td>247.241682</td>\n",
       "      <td>-5658.558823</td>\n",
       "    </tr>\n",
       "  </tbody>\n",
       "</table>\n",
       "<p>201 rows × 9 columns</p>\n",
       "</div>"
      ],
      "text/plain": [
       "     year_imp  price_imp  year_ind  price_ind  mileage  linear regression  \\\n",
       "168    2003.0     1795.0       0.0        0.0      NaN      125327.891870   \n",
       "167    2005.0     2495.0       0.0        0.0      NaN      112643.101426   \n",
       "142    2010.0     6994.0       0.0        0.0      NaN       78973.314240   \n",
       "164    2011.0     8490.0       0.0        0.0      NaN       71814.748958   \n",
       "136    2013.0     8980.0       0.0        0.0      NaN       59279.518474   \n",
       "..        ...        ...       ...        ...      ...                ...   \n",
       "121    2016.0    40995.0       0.0        0.0      NaN       18199.360810   \n",
       "188    2020.0    42890.0       0.0        0.0      NaN       -7522.754265   \n",
       "156    2017.0    46950.0       0.0        0.0      NaN        7865.139073   \n",
       "158    2020.0    48980.0       0.0        0.0      NaN      -11859.993066   \n",
       "98     2017.0    59740.0       0.0        0.0      NaN       -1243.774600   \n",
       "\n",
       "     linear regression abs  linear regression min  Stochastic regression  \n",
       "168          125327.891870          125327.891870          123315.281495  \n",
       "167          112643.101426          112643.101426           99614.147235  \n",
       "142           78973.314240           78973.314240           74363.574641  \n",
       "164           71814.748958           71814.748958           76517.287042  \n",
       "136           59279.518474           59279.518474           23157.226274  \n",
       "..                     ...                    ...                    ...  \n",
       "121           18199.360810           18199.360810           25132.116678  \n",
       "188            7522.754265             247.241682          -28320.242140  \n",
       "156            7865.139073            7865.139073            6715.802077  \n",
       "158           11859.993066             247.241682          -25726.238763  \n",
       "98             1243.774600             247.241682           -5658.558823  \n",
       "\n",
       "[201 rows x 9 columns]"
      ]
     },
     "execution_count": 48,
     "metadata": {},
     "output_type": "execute_result"
    }
   ],
   "source": [
    "val.sort_values(by = 'price_imp')"
   ]
  },
  {
   "cell_type": "code",
   "execution_count": 49,
   "id": "282478c2",
   "metadata": {
    "scrolled": false
   },
   "outputs": [
    {
     "data": {
      "application/vnd.plotly.v1+json": {
       "config": {
        "plotlyServerURL": "https://plot.ly"
       },
       "data": [
        {
         "mode": "markers",
         "name": "Linear",
         "type": "scatter",
         "x": [
          1795,
          2495,
          6994,
          8490,
          8980,
          9495,
          9950,
          11995,
          12000,
          12000,
          12000,
          12000,
          12000,
          12000,
          12000,
          12000,
          12000,
          12000,
          12000,
          12000,
          12000,
          12000,
          12000,
          12000,
          12295,
          13000,
          14000,
          14000,
          14000,
          14000,
          14000,
          14000,
          14000,
          14000,
          14000,
          14000,
          14000,
          14000,
          14000,
          14000,
          14990,
          14995,
          15475,
          15490,
          15600,
          15695,
          16498,
          17000,
          17700,
          17800,
          17950,
          18000,
          18995,
          19298,
          19980,
          19995,
          20800,
          20980,
          21000,
          21000,
          22400,
          22767,
          22767,
          22767,
          22767,
          22767,
          22767,
          22767,
          22767,
          22767,
          22767,
          23300,
          23686.112106475557,
          23686.112106475557,
          23686.112106475557,
          23686.112106475557,
          23686.112106475557,
          23686.112106475557,
          23686.112106475557,
          23686.112106475557,
          23686.112106475557,
          23686.112106475557,
          23686.112106475557,
          23686.112106475557,
          23686.112106475557,
          23686.112106475557,
          23686.112106475557,
          23686.112106475557,
          23686.112106475557,
          23686.112106475557,
          23686.112106475557,
          23686.112106475557,
          23686.112106475557,
          23686.112106475557,
          23686.112106475557,
          23686.112106475557,
          23686.112106475557,
          23686.112106475557,
          23686.112106475557,
          23686.112106475557,
          23686.112106475557,
          23686.112106475557,
          23686.112106475557,
          23686.112106475557,
          23686.112106475557,
          23686.112106475557,
          23686.112106475557,
          23686.112106475557,
          23686.112106475557,
          23686.112106475557,
          23686.112106475557,
          23686.112106475557,
          23686.112106475557,
          23686.112106475557,
          23686.112106475557,
          23686.112106475557,
          23686.112106475557,
          23686.112106475557,
          23686.112106475557,
          23686.112106475557,
          23686.112106475557,
          23686.112106475557,
          23686.112106475557,
          23686.112106475557,
          23686.112106475557,
          23686.112106475557,
          23686.112106475557,
          23686.112106475557,
          23686.112106475557,
          23686.112106475557,
          23686.112106475557,
          23686.112106475557,
          23686.112106475557,
          23686.112106475557,
          23686.112106475557,
          23686.112106475557,
          23686.112106475557,
          23686.112106475557,
          23686.112106475557,
          23686.112106475557,
          23686.112106475557,
          23686.112106475557,
          23686.112106475557,
          23686.112106475557,
          23686.112106475557,
          23686.112106475557,
          23686.112106475557,
          23686.112106475557,
          23686.112106475557,
          23686.112106475557,
          23686.112106475557,
          23686.112106475557,
          23686.112106475557,
          23686.112106475557,
          23686.112106475557,
          23686.112106475557,
          23686.112106475557,
          23686.112106475557,
          23686.112106475557,
          23686.112106475557,
          23686.112106475557,
          23686.112106475557,
          23686.112106475557,
          23686.112106475557,
          23686.112106475557,
          23686.112106475557,
          23686.112106475557,
          23686.112106475557,
          23686.112106475557,
          23686.112106475557,
          23686.112106475557,
          23980,
          23995,
          25995,
          26890,
          28990,
          28990,
          29880,
          29899,
          29980,
          29989,
          30399,
          30480,
          30495,
          30999,
          31900,
          31980,
          32980,
          34480,
          35880,
          35999,
          36890,
          36890,
          37899,
          37990,
          39950,
          40995,
          42890,
          46950,
          48980,
          59740
         ],
         "y": [
          125327.8918695189,
          112643.10142621957,
          78973.31424015202,
          71814.74895841442,
          59279.51847377233,
          113750.89809494093,
          70774.95115062222,
          63225.39340554178,
          44942.446582473814,
          44942.446582473814,
          44942.446582473814,
          44942.446582473814,
          44942.446582473814,
          44942.446582473814,
          44942.446582473814,
          44942.446582473814,
          44942.446582473814,
          44942.446582473814,
          44942.446582473814,
          44942.446582473814,
          44942.446582473814,
          44942.446582473814,
          44942.446582473814,
          44942.446582473814,
          38639.221826188266,
          44230.25630316511,
          37424.93739996478,
          37424.93739996478,
          37424.93739996478,
          37424.93739996478,
          37424.93739996478,
          37424.93739996478,
          37424.93739996478,
          37424.93739996478,
          37424.93739996478,
          37424.93739996478,
          37424.93739996478,
          37424.93739996478,
          37424.93739996478,
          37424.93739996478,
          48906.12627122924,
          97647.59431095608,
          36374.45673798397,
          37710.90498819202,
          36285.43295306899,
          42310.9035004247,
          29552.757458359003,
          41381.495185924694,
          40882.9619904086,
          34718.61433858797,
          34611.78579669073,
          34576.17628272623,
          27902.9237105418,
          9279.23880461976,
          14886.653658021241,
          39248.48529939167,
          26488.914876768366,
          26360.720626492053,
          32439.605444796383,
          26346.476820906624,
          25349.410429872572,
          25088.036597365513,
          25088.036597365513,
          25088.036597365513,
          25088.036597365513,
          25088.036597365513,
          25088.036597365513,
          25088.036597365513,
          25088.036597365513,
          25088.036597365513,
          25088.036597365513,
          24708.439178492874,
          21264.427979055792,
          21264.427979055792,
          21264.427979055792,
          21264.427979055792,
          21264.427979055792,
          21264.427979055792,
          21264.427979055792,
          21264.427979055792,
          21264.427979055792,
          21264.427979055792,
          21264.427979055792,
          21264.427979055792,
          21264.427979055792,
          21264.427979055792,
          21264.427979055792,
          21264.427979055792,
          21264.427979055792,
          21264.427979055792,
          21264.427979055792,
          21264.427979055792,
          21264.427979055792,
          21264.427979055792,
          21264.427979055792,
          21264.427979055792,
          21264.427979055792,
          21264.427979055792,
          21264.427979055792,
          21264.427979055792,
          21264.427979055792,
          21264.427979055792,
          21264.427979055792,
          21264.427979055792,
          21264.427979055792,
          21264.427979055792,
          21264.427979055792,
          21264.427979055792,
          21264.427979055792,
          21264.427979055792,
          21264.427979055792,
          21264.427979055792,
          21264.427979055792,
          21264.427979055792,
          21264.427979055792,
          21264.427979055792,
          21264.427979055792,
          21264.427979055792,
          21264.427979055792,
          21264.427979055792,
          21264.427979055792,
          21264.427979055792,
          21264.427979055792,
          21264.427979055792,
          21264.427979055792,
          21264.427979055792,
          21264.427979055792,
          21264.427979055792,
          21264.427979055792,
          21264.427979055792,
          21264.427979055792,
          21264.427979055792,
          21264.427979055792,
          21264.427979055792,
          21264.427979055792,
          21264.427979055792,
          21264.427979055792,
          21264.427979055792,
          21264.427979055792,
          21264.427979055792,
          21264.427979055792,
          21264.427979055792,
          21264.427979055792,
          21264.427979055792,
          21264.427979055792,
          21264.427979055792,
          21264.427979055792,
          21264.427979055792,
          21264.427979055792,
          21264.427979055792,
          21264.427979055792,
          21264.427979055792,
          21264.427979055792,
          21264.427979055792,
          21264.427979055792,
          21264.427979055792,
          21264.427979055792,
          21264.427979055792,
          21264.427979055792,
          21264.427979055792,
          21264.427979055792,
          21264.427979055792,
          21264.427979055792,
          21264.427979055792,
          21264.427979055792,
          21264.427979055792,
          21264.427979055792,
          21264.427979055792,
          21264.427979055792,
          21264.427979055792,
          21264.427979055792,
          24224.14978856221,
          18120.33831048198,
          22789.086375754327,
          9965.41882799007,
          8469.819241439924,
          8469.819241439924,
          7835.969892853871,
          7822.438277546316,
          1671.6222410332412,
          1665.2125285193324,
          7466.343137891963,
          1315.5271013770252,
          1304.844247188419,
          945.9003464151174,
          304.2169047575444,
          247.24168241210282,
          5628.1800269931555,
          -1533.2340158615261,
          3562.8282169941813,
          -2615.051050134003,
          -3249.6125889979303,
          -3249.6125889979303,
          -3968.212580822408,
          2060.106727650389,
          -5428.914843685925,
          18199.36080999486,
          -7522.75426485762,
          7865.139072814956,
          -11859.993065854535,
          -1243.7745995577425
         ]
        },
        {
         "mode": "markers",
         "name": "Stochastic",
         "type": "scatter",
         "x": [
          1795,
          2495,
          6994,
          8490,
          8980,
          9495,
          9950,
          11995,
          12000,
          12000,
          12000,
          12000,
          12000,
          12000,
          12000,
          12000,
          12000,
          12000,
          12000,
          12000,
          12000,
          12000,
          12000,
          12000,
          12295,
          13000,
          14000,
          14000,
          14000,
          14000,
          14000,
          14000,
          14000,
          14000,
          14000,
          14000,
          14000,
          14000,
          14000,
          14000,
          14990,
          14995,
          15475,
          15490,
          15600,
          15695,
          16498,
          17000,
          17700,
          17800,
          17950,
          18000,
          18995,
          19298,
          19980,
          19995,
          20800,
          20980,
          21000,
          21000,
          22400,
          22767,
          22767,
          22767,
          22767,
          22767,
          22767,
          22767,
          22767,
          22767,
          22767,
          23300,
          23686.112106475557,
          23686.112106475557,
          23686.112106475557,
          23686.112106475557,
          23686.112106475557,
          23686.112106475557,
          23686.112106475557,
          23686.112106475557,
          23686.112106475557,
          23686.112106475557,
          23686.112106475557,
          23686.112106475557,
          23686.112106475557,
          23686.112106475557,
          23686.112106475557,
          23686.112106475557,
          23686.112106475557,
          23686.112106475557,
          23686.112106475557,
          23686.112106475557,
          23686.112106475557,
          23686.112106475557,
          23686.112106475557,
          23686.112106475557,
          23686.112106475557,
          23686.112106475557,
          23686.112106475557,
          23686.112106475557,
          23686.112106475557,
          23686.112106475557,
          23686.112106475557,
          23686.112106475557,
          23686.112106475557,
          23686.112106475557,
          23686.112106475557,
          23686.112106475557,
          23686.112106475557,
          23686.112106475557,
          23686.112106475557,
          23686.112106475557,
          23686.112106475557,
          23686.112106475557,
          23686.112106475557,
          23686.112106475557,
          23686.112106475557,
          23686.112106475557,
          23686.112106475557,
          23686.112106475557,
          23686.112106475557,
          23686.112106475557,
          23686.112106475557,
          23686.112106475557,
          23686.112106475557,
          23686.112106475557,
          23686.112106475557,
          23686.112106475557,
          23686.112106475557,
          23686.112106475557,
          23686.112106475557,
          23686.112106475557,
          23686.112106475557,
          23686.112106475557,
          23686.112106475557,
          23686.112106475557,
          23686.112106475557,
          23686.112106475557,
          23686.112106475557,
          23686.112106475557,
          23686.112106475557,
          23686.112106475557,
          23686.112106475557,
          23686.112106475557,
          23686.112106475557,
          23686.112106475557,
          23686.112106475557,
          23686.112106475557,
          23686.112106475557,
          23686.112106475557,
          23686.112106475557,
          23686.112106475557,
          23686.112106475557,
          23686.112106475557,
          23686.112106475557,
          23686.112106475557,
          23686.112106475557,
          23686.112106475557,
          23686.112106475557,
          23686.112106475557,
          23686.112106475557,
          23686.112106475557,
          23686.112106475557,
          23686.112106475557,
          23686.112106475557,
          23686.112106475557,
          23686.112106475557,
          23686.112106475557,
          23686.112106475557,
          23686.112106475557,
          23686.112106475557,
          23980,
          23995,
          25995,
          26890,
          28990,
          28990,
          29880,
          29899,
          29980,
          29989,
          30399,
          30480,
          30495,
          30999,
          31900,
          31980,
          32980,
          34480,
          35880,
          35999,
          36890,
          36890,
          37899,
          37990,
          39950,
          40995,
          42890,
          46950,
          48980,
          59740
         ],
         "y": [
          123315.28149476342,
          99614.1472349108,
          74363.57464093379,
          76517.28704189307,
          23157.226273934844,
          118811.48938638114,
          81634.65644964013,
          52921.69093477991,
          50505.26045070155,
          17094.093142651443,
          28337.300348762717,
          38829.52055846721,
          37251.47283421028,
          53955.54721783087,
          33443.8111552269,
          40311.003392549785,
          20539.92804159659,
          35966.750272773876,
          17908.658848115498,
          59687.20401505867,
          43662.74752818115,
          58970.637176447795,
          45521.754676023025,
          52783.28350873709,
          46140.478816488976,
          45895.27980717111,
          45163.683834457006,
          50307.72453705111,
          5701.995314519514,
          35852.87690047226,
          44766.3076632518,
          48884.636595925316,
          38915.64585958436,
          14985.051933886607,
          30522.151734998846,
          41964.67326240654,
          29538.951159171032,
          44521.84988499849,
          66596.79954966927,
          25014.08262167051,
          46136.92583639458,
          93679.11223012622,
          20084.061277876368,
          20603.594141019912,
          26783.9371095967,
          28399.88672547508,
          26673.746501543206,
          35936.61792196804,
          62152.73769882623,
          23467.728822617482,
          47028.886548878385,
          6458.329959589722,
          48825.65928350146,
          5047.620037656994,
          34201.81526733516,
          28167.900991039995,
          33161.89307897762,
          35921.36135496611,
          36617.56036374021,
          43109.745330733815,
          21172.765876367004,
          11593.433682633431,
          51244.099563786905,
          36865.4175683227,
          52427.48388119304,
          23404.023492204873,
          13046.475920920055,
          34340.51586648819,
          37786.43494642502,
          16362.26555392818,
          14183.17512012567,
          40408.175491295406,
          27547.87021244716,
          40778.806997313026,
          10888.570580268331,
          38004.25107357127,
          5773.7617774593,
          20279.37126186507,
          16048.554924831285,
          40288.08560427725,
          6208.755119180698,
          6611.099865663213,
          -887.5338446198839,
          50318.82902389445,
          -15881.776908772074,
          27003.96077742914,
          -12209.743704945802,
          35889.58173249347,
          12183.501970277004,
          25847.558908660285,
          15843.494613128902,
          29475.386942325196,
          31234.85146578461,
          39246.02628583157,
          12904.536876280594,
          33316.08045994914,
          9330.381282346041,
          21642.604728624585,
          -3866.452934804369,
          28358.947452296354,
          12705.874627121604,
          1450.8077624369835,
          31935.47952629192,
          2773.266311832089,
          38817.496157141664,
          11058.665714942741,
          29417.058959493417,
          15508.321614091878,
          25564.104106295323,
          28036.127787896196,
          21612.877354062075,
          36596.22616154705,
          30697.664109286055,
          2538.6358090630893,
          38855.92095292475,
          -3793.117409960607,
          28380.492642842873,
          26696.094653701803,
          -7130.0250001423665,
          17074.44888171051,
          16765.75320125428,
          22196.15740771695,
          23390.014538263636,
          2755.233922933694,
          29199.02944775018,
          30895.668993981366,
          39208.74903192472,
          34451.276358077965,
          21827.107570484863,
          22259.891927280838,
          35154.59353735195,
          36402.10509983092,
          28249.746364187158,
          4177.372244477225,
          33780.55192691549,
          12881.719310518,
          23214.514405634953,
          10461.63525517827,
          26974.375770261526,
          3868.4910093636026,
          7634.965769617736,
          9687.492203023525,
          27943.392734709538,
          21817.215218983492,
          35100.18684484451,
          38201.28022289419,
          20484.132488908384,
          5559.9855182061365,
          -4937.9264814682065,
          26198.63706282521,
          20439.540094405384,
          27362.025128848054,
          12261.236820578088,
          32629.413166132985,
          194.9101663346628,
          35784.193217273554,
          32210.190977291895,
          19101.25615999725,
          32247.61253127639,
          13185.10085530364,
          22367.561343609712,
          35367.72731179857,
          19663.742974161487,
          5552.990933721798,
          12452.356252254018,
          21302.51483751636,
          13481.631447418258,
          5208.44047320521,
          28180.162481458403,
          20385.92205408306,
          27747.483956831667,
          32900.963018048016,
          8892.847524245437,
          37381.5142489165,
          18552.772249784743,
          9965.608602978491,
          20885.0810324182,
          -874.5197889149094,
          -6644.099124742699,
          -10581.636772402533,
          8340.539493347693,
          30728.077290059333,
          14159.734428407404,
          -8270.210259583917,
          -15283.837324900553,
          2182.959735858747,
          3421.2008899919756,
          20116.27942186638,
          -8274.33429243905,
          4870.892695082495,
          449.0171718984793,
          -16684.07264708831,
          -21578.998074875955,
          -12177.783183220075,
          -4167.884867335061,
          -419.8907639793724,
          25132.116678412356,
          -28320.24214037306,
          6715.8020771117235,
          -25726.238763183865,
          -5658.558822597118
         ]
        }
       ],
       "layout": {
        "template": {
         "data": {
          "bar": [
           {
            "error_x": {
             "color": "#2a3f5f"
            },
            "error_y": {
             "color": "#2a3f5f"
            },
            "marker": {
             "line": {
              "color": "#E5ECF6",
              "width": 0.5
             },
             "pattern": {
              "fillmode": "overlay",
              "size": 10,
              "solidity": 0.2
             }
            },
            "type": "bar"
           }
          ],
          "barpolar": [
           {
            "marker": {
             "line": {
              "color": "#E5ECF6",
              "width": 0.5
             },
             "pattern": {
              "fillmode": "overlay",
              "size": 10,
              "solidity": 0.2
             }
            },
            "type": "barpolar"
           }
          ],
          "carpet": [
           {
            "aaxis": {
             "endlinecolor": "#2a3f5f",
             "gridcolor": "white",
             "linecolor": "white",
             "minorgridcolor": "white",
             "startlinecolor": "#2a3f5f"
            },
            "baxis": {
             "endlinecolor": "#2a3f5f",
             "gridcolor": "white",
             "linecolor": "white",
             "minorgridcolor": "white",
             "startlinecolor": "#2a3f5f"
            },
            "type": "carpet"
           }
          ],
          "choropleth": [
           {
            "colorbar": {
             "outlinewidth": 0,
             "ticks": ""
            },
            "type": "choropleth"
           }
          ],
          "contour": [
           {
            "colorbar": {
             "outlinewidth": 0,
             "ticks": ""
            },
            "colorscale": [
             [
              0,
              "#0d0887"
             ],
             [
              0.1111111111111111,
              "#46039f"
             ],
             [
              0.2222222222222222,
              "#7201a8"
             ],
             [
              0.3333333333333333,
              "#9c179e"
             ],
             [
              0.4444444444444444,
              "#bd3786"
             ],
             [
              0.5555555555555556,
              "#d8576b"
             ],
             [
              0.6666666666666666,
              "#ed7953"
             ],
             [
              0.7777777777777778,
              "#fb9f3a"
             ],
             [
              0.8888888888888888,
              "#fdca26"
             ],
             [
              1,
              "#f0f921"
             ]
            ],
            "type": "contour"
           }
          ],
          "contourcarpet": [
           {
            "colorbar": {
             "outlinewidth": 0,
             "ticks": ""
            },
            "type": "contourcarpet"
           }
          ],
          "heatmap": [
           {
            "colorbar": {
             "outlinewidth": 0,
             "ticks": ""
            },
            "colorscale": [
             [
              0,
              "#0d0887"
             ],
             [
              0.1111111111111111,
              "#46039f"
             ],
             [
              0.2222222222222222,
              "#7201a8"
             ],
             [
              0.3333333333333333,
              "#9c179e"
             ],
             [
              0.4444444444444444,
              "#bd3786"
             ],
             [
              0.5555555555555556,
              "#d8576b"
             ],
             [
              0.6666666666666666,
              "#ed7953"
             ],
             [
              0.7777777777777778,
              "#fb9f3a"
             ],
             [
              0.8888888888888888,
              "#fdca26"
             ],
             [
              1,
              "#f0f921"
             ]
            ],
            "type": "heatmap"
           }
          ],
          "heatmapgl": [
           {
            "colorbar": {
             "outlinewidth": 0,
             "ticks": ""
            },
            "colorscale": [
             [
              0,
              "#0d0887"
             ],
             [
              0.1111111111111111,
              "#46039f"
             ],
             [
              0.2222222222222222,
              "#7201a8"
             ],
             [
              0.3333333333333333,
              "#9c179e"
             ],
             [
              0.4444444444444444,
              "#bd3786"
             ],
             [
              0.5555555555555556,
              "#d8576b"
             ],
             [
              0.6666666666666666,
              "#ed7953"
             ],
             [
              0.7777777777777778,
              "#fb9f3a"
             ],
             [
              0.8888888888888888,
              "#fdca26"
             ],
             [
              1,
              "#f0f921"
             ]
            ],
            "type": "heatmapgl"
           }
          ],
          "histogram": [
           {
            "marker": {
             "pattern": {
              "fillmode": "overlay",
              "size": 10,
              "solidity": 0.2
             }
            },
            "type": "histogram"
           }
          ],
          "histogram2d": [
           {
            "colorbar": {
             "outlinewidth": 0,
             "ticks": ""
            },
            "colorscale": [
             [
              0,
              "#0d0887"
             ],
             [
              0.1111111111111111,
              "#46039f"
             ],
             [
              0.2222222222222222,
              "#7201a8"
             ],
             [
              0.3333333333333333,
              "#9c179e"
             ],
             [
              0.4444444444444444,
              "#bd3786"
             ],
             [
              0.5555555555555556,
              "#d8576b"
             ],
             [
              0.6666666666666666,
              "#ed7953"
             ],
             [
              0.7777777777777778,
              "#fb9f3a"
             ],
             [
              0.8888888888888888,
              "#fdca26"
             ],
             [
              1,
              "#f0f921"
             ]
            ],
            "type": "histogram2d"
           }
          ],
          "histogram2dcontour": [
           {
            "colorbar": {
             "outlinewidth": 0,
             "ticks": ""
            },
            "colorscale": [
             [
              0,
              "#0d0887"
             ],
             [
              0.1111111111111111,
              "#46039f"
             ],
             [
              0.2222222222222222,
              "#7201a8"
             ],
             [
              0.3333333333333333,
              "#9c179e"
             ],
             [
              0.4444444444444444,
              "#bd3786"
             ],
             [
              0.5555555555555556,
              "#d8576b"
             ],
             [
              0.6666666666666666,
              "#ed7953"
             ],
             [
              0.7777777777777778,
              "#fb9f3a"
             ],
             [
              0.8888888888888888,
              "#fdca26"
             ],
             [
              1,
              "#f0f921"
             ]
            ],
            "type": "histogram2dcontour"
           }
          ],
          "mesh3d": [
           {
            "colorbar": {
             "outlinewidth": 0,
             "ticks": ""
            },
            "type": "mesh3d"
           }
          ],
          "parcoords": [
           {
            "line": {
             "colorbar": {
              "outlinewidth": 0,
              "ticks": ""
             }
            },
            "type": "parcoords"
           }
          ],
          "pie": [
           {
            "automargin": true,
            "type": "pie"
           }
          ],
          "scatter": [
           {
            "marker": {
             "colorbar": {
              "outlinewidth": 0,
              "ticks": ""
             }
            },
            "type": "scatter"
           }
          ],
          "scatter3d": [
           {
            "line": {
             "colorbar": {
              "outlinewidth": 0,
              "ticks": ""
             }
            },
            "marker": {
             "colorbar": {
              "outlinewidth": 0,
              "ticks": ""
             }
            },
            "type": "scatter3d"
           }
          ],
          "scattercarpet": [
           {
            "marker": {
             "colorbar": {
              "outlinewidth": 0,
              "ticks": ""
             }
            },
            "type": "scattercarpet"
           }
          ],
          "scattergeo": [
           {
            "marker": {
             "colorbar": {
              "outlinewidth": 0,
              "ticks": ""
             }
            },
            "type": "scattergeo"
           }
          ],
          "scattergl": [
           {
            "marker": {
             "colorbar": {
              "outlinewidth": 0,
              "ticks": ""
             }
            },
            "type": "scattergl"
           }
          ],
          "scattermapbox": [
           {
            "marker": {
             "colorbar": {
              "outlinewidth": 0,
              "ticks": ""
             }
            },
            "type": "scattermapbox"
           }
          ],
          "scatterpolar": [
           {
            "marker": {
             "colorbar": {
              "outlinewidth": 0,
              "ticks": ""
             }
            },
            "type": "scatterpolar"
           }
          ],
          "scatterpolargl": [
           {
            "marker": {
             "colorbar": {
              "outlinewidth": 0,
              "ticks": ""
             }
            },
            "type": "scatterpolargl"
           }
          ],
          "scatterternary": [
           {
            "marker": {
             "colorbar": {
              "outlinewidth": 0,
              "ticks": ""
             }
            },
            "type": "scatterternary"
           }
          ],
          "surface": [
           {
            "colorbar": {
             "outlinewidth": 0,
             "ticks": ""
            },
            "colorscale": [
             [
              0,
              "#0d0887"
             ],
             [
              0.1111111111111111,
              "#46039f"
             ],
             [
              0.2222222222222222,
              "#7201a8"
             ],
             [
              0.3333333333333333,
              "#9c179e"
             ],
             [
              0.4444444444444444,
              "#bd3786"
             ],
             [
              0.5555555555555556,
              "#d8576b"
             ],
             [
              0.6666666666666666,
              "#ed7953"
             ],
             [
              0.7777777777777778,
              "#fb9f3a"
             ],
             [
              0.8888888888888888,
              "#fdca26"
             ],
             [
              1,
              "#f0f921"
             ]
            ],
            "type": "surface"
           }
          ],
          "table": [
           {
            "cells": {
             "fill": {
              "color": "#EBF0F8"
             },
             "line": {
              "color": "white"
             }
            },
            "header": {
             "fill": {
              "color": "#C8D4E3"
             },
             "line": {
              "color": "white"
             }
            },
            "type": "table"
           }
          ]
         },
         "layout": {
          "annotationdefaults": {
           "arrowcolor": "#2a3f5f",
           "arrowhead": 0,
           "arrowwidth": 1
          },
          "autotypenumbers": "strict",
          "coloraxis": {
           "colorbar": {
            "outlinewidth": 0,
            "ticks": ""
           }
          },
          "colorscale": {
           "diverging": [
            [
             0,
             "#8e0152"
            ],
            [
             0.1,
             "#c51b7d"
            ],
            [
             0.2,
             "#de77ae"
            ],
            [
             0.3,
             "#f1b6da"
            ],
            [
             0.4,
             "#fde0ef"
            ],
            [
             0.5,
             "#f7f7f7"
            ],
            [
             0.6,
             "#e6f5d0"
            ],
            [
             0.7,
             "#b8e186"
            ],
            [
             0.8,
             "#7fbc41"
            ],
            [
             0.9,
             "#4d9221"
            ],
            [
             1,
             "#276419"
            ]
           ],
           "sequential": [
            [
             0,
             "#0d0887"
            ],
            [
             0.1111111111111111,
             "#46039f"
            ],
            [
             0.2222222222222222,
             "#7201a8"
            ],
            [
             0.3333333333333333,
             "#9c179e"
            ],
            [
             0.4444444444444444,
             "#bd3786"
            ],
            [
             0.5555555555555556,
             "#d8576b"
            ],
            [
             0.6666666666666666,
             "#ed7953"
            ],
            [
             0.7777777777777778,
             "#fb9f3a"
            ],
            [
             0.8888888888888888,
             "#fdca26"
            ],
            [
             1,
             "#f0f921"
            ]
           ],
           "sequentialminus": [
            [
             0,
             "#0d0887"
            ],
            [
             0.1111111111111111,
             "#46039f"
            ],
            [
             0.2222222222222222,
             "#7201a8"
            ],
            [
             0.3333333333333333,
             "#9c179e"
            ],
            [
             0.4444444444444444,
             "#bd3786"
            ],
            [
             0.5555555555555556,
             "#d8576b"
            ],
            [
             0.6666666666666666,
             "#ed7953"
            ],
            [
             0.7777777777777778,
             "#fb9f3a"
            ],
            [
             0.8888888888888888,
             "#fdca26"
            ],
            [
             1,
             "#f0f921"
            ]
           ]
          },
          "colorway": [
           "#636efa",
           "#EF553B",
           "#00cc96",
           "#ab63fa",
           "#FFA15A",
           "#19d3f3",
           "#FF6692",
           "#B6E880",
           "#FF97FF",
           "#FECB52"
          ],
          "font": {
           "color": "#2a3f5f"
          },
          "geo": {
           "bgcolor": "white",
           "lakecolor": "white",
           "landcolor": "#E5ECF6",
           "showlakes": true,
           "showland": true,
           "subunitcolor": "white"
          },
          "hoverlabel": {
           "align": "left"
          },
          "hovermode": "closest",
          "mapbox": {
           "style": "light"
          },
          "paper_bgcolor": "white",
          "plot_bgcolor": "#E5ECF6",
          "polar": {
           "angularaxis": {
            "gridcolor": "white",
            "linecolor": "white",
            "ticks": ""
           },
           "bgcolor": "#E5ECF6",
           "radialaxis": {
            "gridcolor": "white",
            "linecolor": "white",
            "ticks": ""
           }
          },
          "scene": {
           "xaxis": {
            "backgroundcolor": "#E5ECF6",
            "gridcolor": "white",
            "gridwidth": 2,
            "linecolor": "white",
            "showbackground": true,
            "ticks": "",
            "zerolinecolor": "white"
           },
           "yaxis": {
            "backgroundcolor": "#E5ECF6",
            "gridcolor": "white",
            "gridwidth": 2,
            "linecolor": "white",
            "showbackground": true,
            "ticks": "",
            "zerolinecolor": "white"
           },
           "zaxis": {
            "backgroundcolor": "#E5ECF6",
            "gridcolor": "white",
            "gridwidth": 2,
            "linecolor": "white",
            "showbackground": true,
            "ticks": "",
            "zerolinecolor": "white"
           }
          },
          "shapedefaults": {
           "line": {
            "color": "#2a3f5f"
           }
          },
          "ternary": {
           "aaxis": {
            "gridcolor": "white",
            "linecolor": "white",
            "ticks": ""
           },
           "baxis": {
            "gridcolor": "white",
            "linecolor": "white",
            "ticks": ""
           },
           "bgcolor": "#E5ECF6",
           "caxis": {
            "gridcolor": "white",
            "linecolor": "white",
            "ticks": ""
           }
          },
          "title": {
           "x": 0.05
          },
          "xaxis": {
           "automargin": true,
           "gridcolor": "white",
           "linecolor": "white",
           "ticks": "",
           "title": {
            "standoff": 15
           },
           "zerolinecolor": "white",
           "zerolinewidth": 2
          },
          "yaxis": {
           "automargin": true,
           "gridcolor": "white",
           "linecolor": "white",
           "ticks": "",
           "title": {
            "standoff": 15
           },
           "zerolinecolor": "white",
           "zerolinewidth": 2
          }
         }
        }
       }
      },
      "text/html": [
       "<div>                            <div id=\"ee9e5285-29dd-43eb-b9b4-967b7ce86cec\" class=\"plotly-graph-div\" style=\"height:525px; width:100%;\"></div>            <script type=\"text/javascript\">                require([\"plotly\"], function(Plotly) {                    window.PLOTLYENV=window.PLOTLYENV || {};                                    if (document.getElementById(\"ee9e5285-29dd-43eb-b9b4-967b7ce86cec\")) {                    Plotly.newPlot(                        \"ee9e5285-29dd-43eb-b9b4-967b7ce86cec\",                        [{\"mode\":\"markers\",\"name\":\"Linear\",\"x\":[1795.0,2495.0,6994.0,8490.0,8980.0,9495.0,9950.0,11995.0,12000.0,12000.0,12000.0,12000.0,12000.0,12000.0,12000.0,12000.0,12000.0,12000.0,12000.0,12000.0,12000.0,12000.0,12000.0,12000.0,12295.0,13000.0,14000.0,14000.0,14000.0,14000.0,14000.0,14000.0,14000.0,14000.0,14000.0,14000.0,14000.0,14000.0,14000.0,14000.0,14990.0,14995.0,15475.0,15490.0,15600.0,15695.0,16498.0,17000.0,17700.0,17800.0,17950.0,18000.0,18995.0,19298.0,19980.0,19995.0,20800.0,20980.0,21000.0,21000.0,22400.0,22767.0,22767.0,22767.0,22767.0,22767.0,22767.0,22767.0,22767.0,22767.0,22767.0,23300.0,23686.112106475557,23686.112106475557,23686.112106475557,23686.112106475557,23686.112106475557,23686.112106475557,23686.112106475557,23686.112106475557,23686.112106475557,23686.112106475557,23686.112106475557,23686.112106475557,23686.112106475557,23686.112106475557,23686.112106475557,23686.112106475557,23686.112106475557,23686.112106475557,23686.112106475557,23686.112106475557,23686.112106475557,23686.112106475557,23686.112106475557,23686.112106475557,23686.112106475557,23686.112106475557,23686.112106475557,23686.112106475557,23686.112106475557,23686.112106475557,23686.112106475557,23686.112106475557,23686.112106475557,23686.112106475557,23686.112106475557,23686.112106475557,23686.112106475557,23686.112106475557,23686.112106475557,23686.112106475557,23686.112106475557,23686.112106475557,23686.112106475557,23686.112106475557,23686.112106475557,23686.112106475557,23686.112106475557,23686.112106475557,23686.112106475557,23686.112106475557,23686.112106475557,23686.112106475557,23686.112106475557,23686.112106475557,23686.112106475557,23686.112106475557,23686.112106475557,23686.112106475557,23686.112106475557,23686.112106475557,23686.112106475557,23686.112106475557,23686.112106475557,23686.112106475557,23686.112106475557,23686.112106475557,23686.112106475557,23686.112106475557,23686.112106475557,23686.112106475557,23686.112106475557,23686.112106475557,23686.112106475557,23686.112106475557,23686.112106475557,23686.112106475557,23686.112106475557,23686.112106475557,23686.112106475557,23686.112106475557,23686.112106475557,23686.112106475557,23686.112106475557,23686.112106475557,23686.112106475557,23686.112106475557,23686.112106475557,23686.112106475557,23686.112106475557,23686.112106475557,23686.112106475557,23686.112106475557,23686.112106475557,23686.112106475557,23686.112106475557,23686.112106475557,23686.112106475557,23686.112106475557,23686.112106475557,23980.0,23995.0,25995.0,26890.0,28990.0,28990.0,29880.0,29899.0,29980.0,29989.0,30399.0,30480.0,30495.0,30999.0,31900.0,31980.0,32980.0,34480.0,35880.0,35999.0,36890.0,36890.0,37899.0,37990.0,39950.0,40995.0,42890.0,46950.0,48980.0,59740.0],\"y\":[125327.8918695189,112643.10142621957,78973.31424015202,71814.74895841442,59279.51847377233,113750.89809494093,70774.95115062222,63225.39340554178,44942.446582473814,44942.446582473814,44942.446582473814,44942.446582473814,44942.446582473814,44942.446582473814,44942.446582473814,44942.446582473814,44942.446582473814,44942.446582473814,44942.446582473814,44942.446582473814,44942.446582473814,44942.446582473814,44942.446582473814,44942.446582473814,38639.221826188266,44230.25630316511,37424.93739996478,37424.93739996478,37424.93739996478,37424.93739996478,37424.93739996478,37424.93739996478,37424.93739996478,37424.93739996478,37424.93739996478,37424.93739996478,37424.93739996478,37424.93739996478,37424.93739996478,37424.93739996478,48906.12627122924,97647.59431095608,36374.45673798397,37710.90498819202,36285.43295306899,42310.9035004247,29552.757458359003,41381.495185924694,40882.9619904086,34718.61433858797,34611.78579669073,34576.17628272623,27902.9237105418,9279.23880461976,14886.653658021241,39248.48529939167,26488.914876768366,26360.720626492053,32439.605444796383,26346.476820906624,25349.410429872572,25088.036597365513,25088.036597365513,25088.036597365513,25088.036597365513,25088.036597365513,25088.036597365513,25088.036597365513,25088.036597365513,25088.036597365513,25088.036597365513,24708.439178492874,21264.427979055792,21264.427979055792,21264.427979055792,21264.427979055792,21264.427979055792,21264.427979055792,21264.427979055792,21264.427979055792,21264.427979055792,21264.427979055792,21264.427979055792,21264.427979055792,21264.427979055792,21264.427979055792,21264.427979055792,21264.427979055792,21264.427979055792,21264.427979055792,21264.427979055792,21264.427979055792,21264.427979055792,21264.427979055792,21264.427979055792,21264.427979055792,21264.427979055792,21264.427979055792,21264.427979055792,21264.427979055792,21264.427979055792,21264.427979055792,21264.427979055792,21264.427979055792,21264.427979055792,21264.427979055792,21264.427979055792,21264.427979055792,21264.427979055792,21264.427979055792,21264.427979055792,21264.427979055792,21264.427979055792,21264.427979055792,21264.427979055792,21264.427979055792,21264.427979055792,21264.427979055792,21264.427979055792,21264.427979055792,21264.427979055792,21264.427979055792,21264.427979055792,21264.427979055792,21264.427979055792,21264.427979055792,21264.427979055792,21264.427979055792,21264.427979055792,21264.427979055792,21264.427979055792,21264.427979055792,21264.427979055792,21264.427979055792,21264.427979055792,21264.427979055792,21264.427979055792,21264.427979055792,21264.427979055792,21264.427979055792,21264.427979055792,21264.427979055792,21264.427979055792,21264.427979055792,21264.427979055792,21264.427979055792,21264.427979055792,21264.427979055792,21264.427979055792,21264.427979055792,21264.427979055792,21264.427979055792,21264.427979055792,21264.427979055792,21264.427979055792,21264.427979055792,21264.427979055792,21264.427979055792,21264.427979055792,21264.427979055792,21264.427979055792,21264.427979055792,21264.427979055792,21264.427979055792,21264.427979055792,21264.427979055792,21264.427979055792,21264.427979055792,21264.427979055792,21264.427979055792,21264.427979055792,24224.14978856221,18120.33831048198,22789.086375754327,9965.41882799007,8469.819241439924,8469.819241439924,7835.969892853871,7822.438277546316,1671.6222410332412,1665.2125285193324,7466.343137891963,1315.5271013770252,1304.844247188419,945.9003464151174,304.2169047575444,247.24168241210282,5628.1800269931555,-1533.2340158615261,3562.8282169941813,-2615.051050134003,-3249.6125889979303,-3249.6125889979303,-3968.212580822408,2060.106727650389,-5428.914843685925,18199.36080999486,-7522.75426485762,7865.139072814956,-11859.993065854535,-1243.7745995577425],\"type\":\"scatter\"},{\"mode\":\"markers\",\"name\":\"Stochastic\",\"x\":[1795.0,2495.0,6994.0,8490.0,8980.0,9495.0,9950.0,11995.0,12000.0,12000.0,12000.0,12000.0,12000.0,12000.0,12000.0,12000.0,12000.0,12000.0,12000.0,12000.0,12000.0,12000.0,12000.0,12000.0,12295.0,13000.0,14000.0,14000.0,14000.0,14000.0,14000.0,14000.0,14000.0,14000.0,14000.0,14000.0,14000.0,14000.0,14000.0,14000.0,14990.0,14995.0,15475.0,15490.0,15600.0,15695.0,16498.0,17000.0,17700.0,17800.0,17950.0,18000.0,18995.0,19298.0,19980.0,19995.0,20800.0,20980.0,21000.0,21000.0,22400.0,22767.0,22767.0,22767.0,22767.0,22767.0,22767.0,22767.0,22767.0,22767.0,22767.0,23300.0,23686.112106475557,23686.112106475557,23686.112106475557,23686.112106475557,23686.112106475557,23686.112106475557,23686.112106475557,23686.112106475557,23686.112106475557,23686.112106475557,23686.112106475557,23686.112106475557,23686.112106475557,23686.112106475557,23686.112106475557,23686.112106475557,23686.112106475557,23686.112106475557,23686.112106475557,23686.112106475557,23686.112106475557,23686.112106475557,23686.112106475557,23686.112106475557,23686.112106475557,23686.112106475557,23686.112106475557,23686.112106475557,23686.112106475557,23686.112106475557,23686.112106475557,23686.112106475557,23686.112106475557,23686.112106475557,23686.112106475557,23686.112106475557,23686.112106475557,23686.112106475557,23686.112106475557,23686.112106475557,23686.112106475557,23686.112106475557,23686.112106475557,23686.112106475557,23686.112106475557,23686.112106475557,23686.112106475557,23686.112106475557,23686.112106475557,23686.112106475557,23686.112106475557,23686.112106475557,23686.112106475557,23686.112106475557,23686.112106475557,23686.112106475557,23686.112106475557,23686.112106475557,23686.112106475557,23686.112106475557,23686.112106475557,23686.112106475557,23686.112106475557,23686.112106475557,23686.112106475557,23686.112106475557,23686.112106475557,23686.112106475557,23686.112106475557,23686.112106475557,23686.112106475557,23686.112106475557,23686.112106475557,23686.112106475557,23686.112106475557,23686.112106475557,23686.112106475557,23686.112106475557,23686.112106475557,23686.112106475557,23686.112106475557,23686.112106475557,23686.112106475557,23686.112106475557,23686.112106475557,23686.112106475557,23686.112106475557,23686.112106475557,23686.112106475557,23686.112106475557,23686.112106475557,23686.112106475557,23686.112106475557,23686.112106475557,23686.112106475557,23686.112106475557,23686.112106475557,23686.112106475557,23686.112106475557,23980.0,23995.0,25995.0,26890.0,28990.0,28990.0,29880.0,29899.0,29980.0,29989.0,30399.0,30480.0,30495.0,30999.0,31900.0,31980.0,32980.0,34480.0,35880.0,35999.0,36890.0,36890.0,37899.0,37990.0,39950.0,40995.0,42890.0,46950.0,48980.0,59740.0],\"y\":[123315.28149476342,99614.1472349108,74363.57464093379,76517.28704189307,23157.226273934844,118811.48938638114,81634.65644964013,52921.69093477991,50505.26045070155,17094.093142651443,28337.300348762717,38829.52055846721,37251.47283421028,53955.54721783087,33443.8111552269,40311.003392549785,20539.92804159659,35966.750272773876,17908.658848115498,59687.20401505867,43662.74752818115,58970.637176447795,45521.754676023025,52783.28350873709,46140.478816488976,45895.27980717111,45163.683834457006,50307.72453705111,5701.995314519514,35852.87690047226,44766.3076632518,48884.636595925316,38915.64585958436,14985.051933886607,30522.151734998846,41964.67326240654,29538.951159171032,44521.84988499849,66596.79954966927,25014.08262167051,46136.92583639458,93679.11223012622,20084.061277876368,20603.594141019912,26783.9371095967,28399.88672547508,26673.746501543206,35936.61792196804,62152.73769882623,23467.728822617482,47028.886548878385,6458.329959589722,48825.65928350146,5047.620037656994,34201.81526733516,28167.900991039995,33161.89307897762,35921.36135496611,36617.56036374021,43109.745330733815,21172.765876367004,11593.433682633431,51244.099563786905,36865.4175683227,52427.48388119304,23404.023492204873,13046.475920920055,34340.51586648819,37786.43494642502,16362.26555392818,14183.17512012567,40408.175491295406,27547.87021244716,40778.806997313026,10888.570580268331,38004.25107357127,5773.7617774593,20279.37126186507,16048.554924831285,40288.08560427725,6208.755119180698,6611.099865663213,-887.5338446198839,50318.82902389445,-15881.776908772074,27003.96077742914,-12209.743704945802,35889.58173249347,12183.501970277004,25847.558908660285,15843.494613128902,29475.386942325196,31234.85146578461,39246.02628583157,12904.536876280594,33316.08045994914,9330.381282346041,21642.604728624585,-3866.452934804369,28358.947452296354,12705.874627121604,1450.8077624369835,31935.47952629192,2773.266311832089,38817.496157141664,11058.665714942741,29417.058959493417,15508.321614091878,25564.104106295323,28036.127787896196,21612.877354062075,36596.22616154705,30697.664109286055,2538.6358090630893,38855.92095292475,-3793.117409960607,28380.492642842873,26696.094653701803,-7130.0250001423665,17074.44888171051,16765.75320125428,22196.15740771695,23390.014538263636,2755.233922933694,29199.02944775018,30895.668993981366,39208.74903192472,34451.276358077965,21827.107570484863,22259.891927280838,35154.59353735195,36402.10509983092,28249.746364187158,4177.372244477225,33780.55192691549,12881.719310518,23214.514405634953,10461.63525517827,26974.375770261526,3868.4910093636026,7634.965769617736,9687.492203023525,27943.392734709538,21817.215218983492,35100.18684484451,38201.28022289419,20484.132488908384,5559.9855182061365,-4937.9264814682065,26198.63706282521,20439.540094405384,27362.025128848054,12261.236820578088,32629.413166132985,194.9101663346628,35784.193217273554,32210.190977291895,19101.25615999725,32247.61253127639,13185.10085530364,22367.561343609712,35367.72731179857,19663.742974161487,5552.990933721798,12452.356252254018,21302.51483751636,13481.631447418258,5208.44047320521,28180.162481458403,20385.92205408306,27747.483956831667,32900.963018048016,8892.847524245437,37381.5142489165,18552.772249784743,9965.608602978491,20885.0810324182,-874.5197889149094,-6644.099124742699,-10581.636772402533,8340.539493347693,30728.077290059333,14159.734428407404,-8270.210259583917,-15283.837324900553,2182.959735858747,3421.2008899919756,20116.27942186638,-8274.33429243905,4870.892695082495,449.0171718984793,-16684.07264708831,-21578.998074875955,-12177.783183220075,-4167.884867335061,-419.8907639793724,25132.116678412356,-28320.24214037306,6715.8020771117235,-25726.238763183865,-5658.558822597118],\"type\":\"scatter\"}],                        {\"template\":{\"data\":{\"bar\":[{\"error_x\":{\"color\":\"#2a3f5f\"},\"error_y\":{\"color\":\"#2a3f5f\"},\"marker\":{\"line\":{\"color\":\"#E5ECF6\",\"width\":0.5},\"pattern\":{\"fillmode\":\"overlay\",\"size\":10,\"solidity\":0.2}},\"type\":\"bar\"}],\"barpolar\":[{\"marker\":{\"line\":{\"color\":\"#E5ECF6\",\"width\":0.5},\"pattern\":{\"fillmode\":\"overlay\",\"size\":10,\"solidity\":0.2}},\"type\":\"barpolar\"}],\"carpet\":[{\"aaxis\":{\"endlinecolor\":\"#2a3f5f\",\"gridcolor\":\"white\",\"linecolor\":\"white\",\"minorgridcolor\":\"white\",\"startlinecolor\":\"#2a3f5f\"},\"baxis\":{\"endlinecolor\":\"#2a3f5f\",\"gridcolor\":\"white\",\"linecolor\":\"white\",\"minorgridcolor\":\"white\",\"startlinecolor\":\"#2a3f5f\"},\"type\":\"carpet\"}],\"choropleth\":[{\"colorbar\":{\"outlinewidth\":0,\"ticks\":\"\"},\"type\":\"choropleth\"}],\"contour\":[{\"colorbar\":{\"outlinewidth\":0,\"ticks\":\"\"},\"colorscale\":[[0.0,\"#0d0887\"],[0.1111111111111111,\"#46039f\"],[0.2222222222222222,\"#7201a8\"],[0.3333333333333333,\"#9c179e\"],[0.4444444444444444,\"#bd3786\"],[0.5555555555555556,\"#d8576b\"],[0.6666666666666666,\"#ed7953\"],[0.7777777777777778,\"#fb9f3a\"],[0.8888888888888888,\"#fdca26\"],[1.0,\"#f0f921\"]],\"type\":\"contour\"}],\"contourcarpet\":[{\"colorbar\":{\"outlinewidth\":0,\"ticks\":\"\"},\"type\":\"contourcarpet\"}],\"heatmap\":[{\"colorbar\":{\"outlinewidth\":0,\"ticks\":\"\"},\"colorscale\":[[0.0,\"#0d0887\"],[0.1111111111111111,\"#46039f\"],[0.2222222222222222,\"#7201a8\"],[0.3333333333333333,\"#9c179e\"],[0.4444444444444444,\"#bd3786\"],[0.5555555555555556,\"#d8576b\"],[0.6666666666666666,\"#ed7953\"],[0.7777777777777778,\"#fb9f3a\"],[0.8888888888888888,\"#fdca26\"],[1.0,\"#f0f921\"]],\"type\":\"heatmap\"}],\"heatmapgl\":[{\"colorbar\":{\"outlinewidth\":0,\"ticks\":\"\"},\"colorscale\":[[0.0,\"#0d0887\"],[0.1111111111111111,\"#46039f\"],[0.2222222222222222,\"#7201a8\"],[0.3333333333333333,\"#9c179e\"],[0.4444444444444444,\"#bd3786\"],[0.5555555555555556,\"#d8576b\"],[0.6666666666666666,\"#ed7953\"],[0.7777777777777778,\"#fb9f3a\"],[0.8888888888888888,\"#fdca26\"],[1.0,\"#f0f921\"]],\"type\":\"heatmapgl\"}],\"histogram\":[{\"marker\":{\"pattern\":{\"fillmode\":\"overlay\",\"size\":10,\"solidity\":0.2}},\"type\":\"histogram\"}],\"histogram2d\":[{\"colorbar\":{\"outlinewidth\":0,\"ticks\":\"\"},\"colorscale\":[[0.0,\"#0d0887\"],[0.1111111111111111,\"#46039f\"],[0.2222222222222222,\"#7201a8\"],[0.3333333333333333,\"#9c179e\"],[0.4444444444444444,\"#bd3786\"],[0.5555555555555556,\"#d8576b\"],[0.6666666666666666,\"#ed7953\"],[0.7777777777777778,\"#fb9f3a\"],[0.8888888888888888,\"#fdca26\"],[1.0,\"#f0f921\"]],\"type\":\"histogram2d\"}],\"histogram2dcontour\":[{\"colorbar\":{\"outlinewidth\":0,\"ticks\":\"\"},\"colorscale\":[[0.0,\"#0d0887\"],[0.1111111111111111,\"#46039f\"],[0.2222222222222222,\"#7201a8\"],[0.3333333333333333,\"#9c179e\"],[0.4444444444444444,\"#bd3786\"],[0.5555555555555556,\"#d8576b\"],[0.6666666666666666,\"#ed7953\"],[0.7777777777777778,\"#fb9f3a\"],[0.8888888888888888,\"#fdca26\"],[1.0,\"#f0f921\"]],\"type\":\"histogram2dcontour\"}],\"mesh3d\":[{\"colorbar\":{\"outlinewidth\":0,\"ticks\":\"\"},\"type\":\"mesh3d\"}],\"parcoords\":[{\"line\":{\"colorbar\":{\"outlinewidth\":0,\"ticks\":\"\"}},\"type\":\"parcoords\"}],\"pie\":[{\"automargin\":true,\"type\":\"pie\"}],\"scatter\":[{\"marker\":{\"colorbar\":{\"outlinewidth\":0,\"ticks\":\"\"}},\"type\":\"scatter\"}],\"scatter3d\":[{\"line\":{\"colorbar\":{\"outlinewidth\":0,\"ticks\":\"\"}},\"marker\":{\"colorbar\":{\"outlinewidth\":0,\"ticks\":\"\"}},\"type\":\"scatter3d\"}],\"scattercarpet\":[{\"marker\":{\"colorbar\":{\"outlinewidth\":0,\"ticks\":\"\"}},\"type\":\"scattercarpet\"}],\"scattergeo\":[{\"marker\":{\"colorbar\":{\"outlinewidth\":0,\"ticks\":\"\"}},\"type\":\"scattergeo\"}],\"scattergl\":[{\"marker\":{\"colorbar\":{\"outlinewidth\":0,\"ticks\":\"\"}},\"type\":\"scattergl\"}],\"scattermapbox\":[{\"marker\":{\"colorbar\":{\"outlinewidth\":0,\"ticks\":\"\"}},\"type\":\"scattermapbox\"}],\"scatterpolar\":[{\"marker\":{\"colorbar\":{\"outlinewidth\":0,\"ticks\":\"\"}},\"type\":\"scatterpolar\"}],\"scatterpolargl\":[{\"marker\":{\"colorbar\":{\"outlinewidth\":0,\"ticks\":\"\"}},\"type\":\"scatterpolargl\"}],\"scatterternary\":[{\"marker\":{\"colorbar\":{\"outlinewidth\":0,\"ticks\":\"\"}},\"type\":\"scatterternary\"}],\"surface\":[{\"colorbar\":{\"outlinewidth\":0,\"ticks\":\"\"},\"colorscale\":[[0.0,\"#0d0887\"],[0.1111111111111111,\"#46039f\"],[0.2222222222222222,\"#7201a8\"],[0.3333333333333333,\"#9c179e\"],[0.4444444444444444,\"#bd3786\"],[0.5555555555555556,\"#d8576b\"],[0.6666666666666666,\"#ed7953\"],[0.7777777777777778,\"#fb9f3a\"],[0.8888888888888888,\"#fdca26\"],[1.0,\"#f0f921\"]],\"type\":\"surface\"}],\"table\":[{\"cells\":{\"fill\":{\"color\":\"#EBF0F8\"},\"line\":{\"color\":\"white\"}},\"header\":{\"fill\":{\"color\":\"#C8D4E3\"},\"line\":{\"color\":\"white\"}},\"type\":\"table\"}]},\"layout\":{\"annotationdefaults\":{\"arrowcolor\":\"#2a3f5f\",\"arrowhead\":0,\"arrowwidth\":1},\"autotypenumbers\":\"strict\",\"coloraxis\":{\"colorbar\":{\"outlinewidth\":0,\"ticks\":\"\"}},\"colorscale\":{\"diverging\":[[0,\"#8e0152\"],[0.1,\"#c51b7d\"],[0.2,\"#de77ae\"],[0.3,\"#f1b6da\"],[0.4,\"#fde0ef\"],[0.5,\"#f7f7f7\"],[0.6,\"#e6f5d0\"],[0.7,\"#b8e186\"],[0.8,\"#7fbc41\"],[0.9,\"#4d9221\"],[1,\"#276419\"]],\"sequential\":[[0.0,\"#0d0887\"],[0.1111111111111111,\"#46039f\"],[0.2222222222222222,\"#7201a8\"],[0.3333333333333333,\"#9c179e\"],[0.4444444444444444,\"#bd3786\"],[0.5555555555555556,\"#d8576b\"],[0.6666666666666666,\"#ed7953\"],[0.7777777777777778,\"#fb9f3a\"],[0.8888888888888888,\"#fdca26\"],[1.0,\"#f0f921\"]],\"sequentialminus\":[[0.0,\"#0d0887\"],[0.1111111111111111,\"#46039f\"],[0.2222222222222222,\"#7201a8\"],[0.3333333333333333,\"#9c179e\"],[0.4444444444444444,\"#bd3786\"],[0.5555555555555556,\"#d8576b\"],[0.6666666666666666,\"#ed7953\"],[0.7777777777777778,\"#fb9f3a\"],[0.8888888888888888,\"#fdca26\"],[1.0,\"#f0f921\"]]},\"colorway\":[\"#636efa\",\"#EF553B\",\"#00cc96\",\"#ab63fa\",\"#FFA15A\",\"#19d3f3\",\"#FF6692\",\"#B6E880\",\"#FF97FF\",\"#FECB52\"],\"font\":{\"color\":\"#2a3f5f\"},\"geo\":{\"bgcolor\":\"white\",\"lakecolor\":\"white\",\"landcolor\":\"#E5ECF6\",\"showlakes\":true,\"showland\":true,\"subunitcolor\":\"white\"},\"hoverlabel\":{\"align\":\"left\"},\"hovermode\":\"closest\",\"mapbox\":{\"style\":\"light\"},\"paper_bgcolor\":\"white\",\"plot_bgcolor\":\"#E5ECF6\",\"polar\":{\"angularaxis\":{\"gridcolor\":\"white\",\"linecolor\":\"white\",\"ticks\":\"\"},\"bgcolor\":\"#E5ECF6\",\"radialaxis\":{\"gridcolor\":\"white\",\"linecolor\":\"white\",\"ticks\":\"\"}},\"scene\":{\"xaxis\":{\"backgroundcolor\":\"#E5ECF6\",\"gridcolor\":\"white\",\"gridwidth\":2,\"linecolor\":\"white\",\"showbackground\":true,\"ticks\":\"\",\"zerolinecolor\":\"white\"},\"yaxis\":{\"backgroundcolor\":\"#E5ECF6\",\"gridcolor\":\"white\",\"gridwidth\":2,\"linecolor\":\"white\",\"showbackground\":true,\"ticks\":\"\",\"zerolinecolor\":\"white\"},\"zaxis\":{\"backgroundcolor\":\"#E5ECF6\",\"gridcolor\":\"white\",\"gridwidth\":2,\"linecolor\":\"white\",\"showbackground\":true,\"ticks\":\"\",\"zerolinecolor\":\"white\"}},\"shapedefaults\":{\"line\":{\"color\":\"#2a3f5f\"}},\"ternary\":{\"aaxis\":{\"gridcolor\":\"white\",\"linecolor\":\"white\",\"ticks\":\"\"},\"baxis\":{\"gridcolor\":\"white\",\"linecolor\":\"white\",\"ticks\":\"\"},\"bgcolor\":\"#E5ECF6\",\"caxis\":{\"gridcolor\":\"white\",\"linecolor\":\"white\",\"ticks\":\"\"}},\"title\":{\"x\":0.05},\"xaxis\":{\"automargin\":true,\"gridcolor\":\"white\",\"linecolor\":\"white\",\"ticks\":\"\",\"title\":{\"standoff\":15},\"zerolinecolor\":\"white\",\"zerolinewidth\":2},\"yaxis\":{\"automargin\":true,\"gridcolor\":\"white\",\"linecolor\":\"white\",\"ticks\":\"\",\"title\":{\"standoff\":15},\"zerolinecolor\":\"white\",\"zerolinewidth\":2}}}},                        {\"responsive\": true}                    ).then(function(){\n",
       "                            \n",
       "var gd = document.getElementById('ee9e5285-29dd-43eb-b9b4-967b7ce86cec');\n",
       "var x = new MutationObserver(function (mutations, observer) {{\n",
       "        var display = window.getComputedStyle(gd).display;\n",
       "        if (!display || display === 'none') {{\n",
       "            console.log([gd, 'removed!']);\n",
       "            Plotly.purge(gd);\n",
       "            observer.disconnect();\n",
       "        }}\n",
       "}});\n",
       "\n",
       "// Listen for the removal of the full notebook cells\n",
       "var notebookContainer = gd.closest('#notebook-container');\n",
       "if (notebookContainer) {{\n",
       "    x.observe(notebookContainer, {childList: true});\n",
       "}}\n",
       "\n",
       "// Listen for the clearing of the current output cell\n",
       "var outputEl = gd.closest('.output');\n",
       "if (outputEl) {{\n",
       "    x.observe(outputEl, {childList: true});\n",
       "}}\n",
       "\n",
       "                        })                };                });            </script>        </div>"
      ]
     },
     "metadata": {},
     "output_type": "display_data"
    }
   ],
   "source": [
    "import plotly.graph_objects as go\n",
    "\n",
    "val = val.sort_values(by = 'price_imp')\n",
    "\n",
    "random_x = val['price_imp']\n",
    "#random_y0 = val['mileage']\n",
    "random_y1 = val['linear regression']\n",
    "random_y2 = val['Stochastic regression']\n",
    "\n",
    "# Creamos los trazos\n",
    "fig = go.Figure()\n",
    "fig.add_trace(go.Scatter(x=random_x, y=random_y1,\n",
    "                    mode='markers',\n",
    "                    name='Linear'))\n",
    "fig.add_trace(go.Scatter(x=random_x, y=random_y2,\n",
    "                    mode='markers',\n",
    "                    name='Stochastic'))\n",
    "\n",
    "fig.show()"
   ]
  },
  {
   "cell_type": "code",
   "execution_count": 50,
   "id": "a5d0b492",
   "metadata": {},
   "outputs": [],
   "source": [
    "def plot(df, x, y_values, sample = False, sample_size = .8, tipo = 'lines'):\n",
    "    \n",
    "    import plotly.graph_objects as go\n",
    "\n",
    "    if sample:\n",
    "        df = df.sample(frac = sample_size)\n",
    "        \n",
    "    df = df.sort_values(by = x)\n",
    "    \n",
    "    vals = dict()\n",
    "    random_x = df[x]\n",
    "    \n",
    "    \n",
    "\n",
    "    # Creamos los trazos\n",
    "    fig = go.Figure()\n",
    "    \n",
    "    \n",
    "    for y in y_values:\n",
    "        \n",
    "        fig.add_trace(go.Scatter(x=random_x, y=df[y],\n",
    "                            mode=tipo,\n",
    "                            name=y))\n",
    "\n",
    "    return(fig.show())"
   ]
  },
  {
   "cell_type": "code",
   "execution_count": 51,
   "id": "f4784f84",
   "metadata": {
    "scrolled": true
   },
   "outputs": [
    {
     "data": {
      "application/vnd.plotly.v1+json": {
       "config": {
        "plotlyServerURL": "https://plot.ly"
       },
       "data": [
        {
         "mode": "markers",
         "name": "linear regression",
         "type": "scatter",
         "x": [
          8490,
          12000,
          12000,
          12000,
          12000,
          12295,
          13000,
          14000,
          14000,
          14000,
          14000,
          17700,
          17800,
          21000,
          22400,
          22767,
          22767,
          22767,
          22767,
          23686.112106475557,
          23686.112106475557,
          23686.112106475557,
          23686.112106475557,
          23686.112106475557,
          23686.112106475557,
          23686.112106475557,
          23686.112106475557,
          23686.112106475557,
          23686.112106475557,
          23686.112106475557,
          23686.112106475557,
          23686.112106475557,
          23686.112106475557,
          23686.112106475557,
          23686.112106475557,
          29880,
          29899,
          30495,
          30999,
          34480
         ],
         "y": [
          71814.74895841442,
          44942.446582473814,
          44942.446582473814,
          44942.446582473814,
          44942.446582473814,
          38639.221826188266,
          44230.25630316511,
          37424.93739996478,
          37424.93739996478,
          37424.93739996478,
          37424.93739996478,
          40882.9619904086,
          34718.61433858797,
          32439.605444796383,
          25349.410429872572,
          25088.036597365513,
          25088.036597365513,
          25088.036597365513,
          25088.036597365513,
          21264.427979055792,
          21264.427979055792,
          21264.427979055792,
          21264.427979055792,
          21264.427979055792,
          21264.427979055792,
          21264.427979055792,
          21264.427979055792,
          21264.427979055792,
          21264.427979055792,
          21264.427979055792,
          21264.427979055792,
          21264.427979055792,
          21264.427979055792,
          21264.427979055792,
          21264.427979055792,
          7835.969892853871,
          7822.438277546316,
          1304.844247188419,
          945.9003464151174,
          -1533.2340158615261
         ]
        },
        {
         "mode": "markers",
         "name": "Stochastic regression",
         "type": "scatter",
         "x": [
          8490,
          12000,
          12000,
          12000,
          12000,
          12295,
          13000,
          14000,
          14000,
          14000,
          14000,
          17700,
          17800,
          21000,
          22400,
          22767,
          22767,
          22767,
          22767,
          23686.112106475557,
          23686.112106475557,
          23686.112106475557,
          23686.112106475557,
          23686.112106475557,
          23686.112106475557,
          23686.112106475557,
          23686.112106475557,
          23686.112106475557,
          23686.112106475557,
          23686.112106475557,
          23686.112106475557,
          23686.112106475557,
          23686.112106475557,
          23686.112106475557,
          23686.112106475557,
          29880,
          29899,
          30495,
          30999,
          34480
         ],
         "y": [
          76517.28704189307,
          43662.74752818115,
          52783.28350873709,
          37251.47283421028,
          45521.754676023025,
          46140.478816488976,
          45895.27980717111,
          5701.995314519514,
          14985.051933886607,
          29538.951159171032,
          41964.67326240654,
          62152.73769882623,
          23467.728822617482,
          36617.56036374021,
          21172.765876367004,
          37786.43494642502,
          52427.48388119304,
          16362.26555392818,
          14183.17512012567,
          3868.4910093636026,
          12261.236820578088,
          12183.501970277004,
          9687.492203023525,
          27943.392734709538,
          35784.193217273554,
          32247.61253127639,
          36402.10509983092,
          28180.162481458403,
          5559.9855182061365,
          12881.719310518,
          21302.51483751636,
          35367.72731179857,
          5773.7617774593,
          2538.6358090630893,
          35154.59353735195,
          -874.5197889149094,
          -6644.099124742699,
          -8270.210259583917,
          -15283.837324900553,
          -8274.33429243905
         ]
        }
       ],
       "layout": {
        "template": {
         "data": {
          "bar": [
           {
            "error_x": {
             "color": "#2a3f5f"
            },
            "error_y": {
             "color": "#2a3f5f"
            },
            "marker": {
             "line": {
              "color": "#E5ECF6",
              "width": 0.5
             },
             "pattern": {
              "fillmode": "overlay",
              "size": 10,
              "solidity": 0.2
             }
            },
            "type": "bar"
           }
          ],
          "barpolar": [
           {
            "marker": {
             "line": {
              "color": "#E5ECF6",
              "width": 0.5
             },
             "pattern": {
              "fillmode": "overlay",
              "size": 10,
              "solidity": 0.2
             }
            },
            "type": "barpolar"
           }
          ],
          "carpet": [
           {
            "aaxis": {
             "endlinecolor": "#2a3f5f",
             "gridcolor": "white",
             "linecolor": "white",
             "minorgridcolor": "white",
             "startlinecolor": "#2a3f5f"
            },
            "baxis": {
             "endlinecolor": "#2a3f5f",
             "gridcolor": "white",
             "linecolor": "white",
             "minorgridcolor": "white",
             "startlinecolor": "#2a3f5f"
            },
            "type": "carpet"
           }
          ],
          "choropleth": [
           {
            "colorbar": {
             "outlinewidth": 0,
             "ticks": ""
            },
            "type": "choropleth"
           }
          ],
          "contour": [
           {
            "colorbar": {
             "outlinewidth": 0,
             "ticks": ""
            },
            "colorscale": [
             [
              0,
              "#0d0887"
             ],
             [
              0.1111111111111111,
              "#46039f"
             ],
             [
              0.2222222222222222,
              "#7201a8"
             ],
             [
              0.3333333333333333,
              "#9c179e"
             ],
             [
              0.4444444444444444,
              "#bd3786"
             ],
             [
              0.5555555555555556,
              "#d8576b"
             ],
             [
              0.6666666666666666,
              "#ed7953"
             ],
             [
              0.7777777777777778,
              "#fb9f3a"
             ],
             [
              0.8888888888888888,
              "#fdca26"
             ],
             [
              1,
              "#f0f921"
             ]
            ],
            "type": "contour"
           }
          ],
          "contourcarpet": [
           {
            "colorbar": {
             "outlinewidth": 0,
             "ticks": ""
            },
            "type": "contourcarpet"
           }
          ],
          "heatmap": [
           {
            "colorbar": {
             "outlinewidth": 0,
             "ticks": ""
            },
            "colorscale": [
             [
              0,
              "#0d0887"
             ],
             [
              0.1111111111111111,
              "#46039f"
             ],
             [
              0.2222222222222222,
              "#7201a8"
             ],
             [
              0.3333333333333333,
              "#9c179e"
             ],
             [
              0.4444444444444444,
              "#bd3786"
             ],
             [
              0.5555555555555556,
              "#d8576b"
             ],
             [
              0.6666666666666666,
              "#ed7953"
             ],
             [
              0.7777777777777778,
              "#fb9f3a"
             ],
             [
              0.8888888888888888,
              "#fdca26"
             ],
             [
              1,
              "#f0f921"
             ]
            ],
            "type": "heatmap"
           }
          ],
          "heatmapgl": [
           {
            "colorbar": {
             "outlinewidth": 0,
             "ticks": ""
            },
            "colorscale": [
             [
              0,
              "#0d0887"
             ],
             [
              0.1111111111111111,
              "#46039f"
             ],
             [
              0.2222222222222222,
              "#7201a8"
             ],
             [
              0.3333333333333333,
              "#9c179e"
             ],
             [
              0.4444444444444444,
              "#bd3786"
             ],
             [
              0.5555555555555556,
              "#d8576b"
             ],
             [
              0.6666666666666666,
              "#ed7953"
             ],
             [
              0.7777777777777778,
              "#fb9f3a"
             ],
             [
              0.8888888888888888,
              "#fdca26"
             ],
             [
              1,
              "#f0f921"
             ]
            ],
            "type": "heatmapgl"
           }
          ],
          "histogram": [
           {
            "marker": {
             "pattern": {
              "fillmode": "overlay",
              "size": 10,
              "solidity": 0.2
             }
            },
            "type": "histogram"
           }
          ],
          "histogram2d": [
           {
            "colorbar": {
             "outlinewidth": 0,
             "ticks": ""
            },
            "colorscale": [
             [
              0,
              "#0d0887"
             ],
             [
              0.1111111111111111,
              "#46039f"
             ],
             [
              0.2222222222222222,
              "#7201a8"
             ],
             [
              0.3333333333333333,
              "#9c179e"
             ],
             [
              0.4444444444444444,
              "#bd3786"
             ],
             [
              0.5555555555555556,
              "#d8576b"
             ],
             [
              0.6666666666666666,
              "#ed7953"
             ],
             [
              0.7777777777777778,
              "#fb9f3a"
             ],
             [
              0.8888888888888888,
              "#fdca26"
             ],
             [
              1,
              "#f0f921"
             ]
            ],
            "type": "histogram2d"
           }
          ],
          "histogram2dcontour": [
           {
            "colorbar": {
             "outlinewidth": 0,
             "ticks": ""
            },
            "colorscale": [
             [
              0,
              "#0d0887"
             ],
             [
              0.1111111111111111,
              "#46039f"
             ],
             [
              0.2222222222222222,
              "#7201a8"
             ],
             [
              0.3333333333333333,
              "#9c179e"
             ],
             [
              0.4444444444444444,
              "#bd3786"
             ],
             [
              0.5555555555555556,
              "#d8576b"
             ],
             [
              0.6666666666666666,
              "#ed7953"
             ],
             [
              0.7777777777777778,
              "#fb9f3a"
             ],
             [
              0.8888888888888888,
              "#fdca26"
             ],
             [
              1,
              "#f0f921"
             ]
            ],
            "type": "histogram2dcontour"
           }
          ],
          "mesh3d": [
           {
            "colorbar": {
             "outlinewidth": 0,
             "ticks": ""
            },
            "type": "mesh3d"
           }
          ],
          "parcoords": [
           {
            "line": {
             "colorbar": {
              "outlinewidth": 0,
              "ticks": ""
             }
            },
            "type": "parcoords"
           }
          ],
          "pie": [
           {
            "automargin": true,
            "type": "pie"
           }
          ],
          "scatter": [
           {
            "marker": {
             "colorbar": {
              "outlinewidth": 0,
              "ticks": ""
             }
            },
            "type": "scatter"
           }
          ],
          "scatter3d": [
           {
            "line": {
             "colorbar": {
              "outlinewidth": 0,
              "ticks": ""
             }
            },
            "marker": {
             "colorbar": {
              "outlinewidth": 0,
              "ticks": ""
             }
            },
            "type": "scatter3d"
           }
          ],
          "scattercarpet": [
           {
            "marker": {
             "colorbar": {
              "outlinewidth": 0,
              "ticks": ""
             }
            },
            "type": "scattercarpet"
           }
          ],
          "scattergeo": [
           {
            "marker": {
             "colorbar": {
              "outlinewidth": 0,
              "ticks": ""
             }
            },
            "type": "scattergeo"
           }
          ],
          "scattergl": [
           {
            "marker": {
             "colorbar": {
              "outlinewidth": 0,
              "ticks": ""
             }
            },
            "type": "scattergl"
           }
          ],
          "scattermapbox": [
           {
            "marker": {
             "colorbar": {
              "outlinewidth": 0,
              "ticks": ""
             }
            },
            "type": "scattermapbox"
           }
          ],
          "scatterpolar": [
           {
            "marker": {
             "colorbar": {
              "outlinewidth": 0,
              "ticks": ""
             }
            },
            "type": "scatterpolar"
           }
          ],
          "scatterpolargl": [
           {
            "marker": {
             "colorbar": {
              "outlinewidth": 0,
              "ticks": ""
             }
            },
            "type": "scatterpolargl"
           }
          ],
          "scatterternary": [
           {
            "marker": {
             "colorbar": {
              "outlinewidth": 0,
              "ticks": ""
             }
            },
            "type": "scatterternary"
           }
          ],
          "surface": [
           {
            "colorbar": {
             "outlinewidth": 0,
             "ticks": ""
            },
            "colorscale": [
             [
              0,
              "#0d0887"
             ],
             [
              0.1111111111111111,
              "#46039f"
             ],
             [
              0.2222222222222222,
              "#7201a8"
             ],
             [
              0.3333333333333333,
              "#9c179e"
             ],
             [
              0.4444444444444444,
              "#bd3786"
             ],
             [
              0.5555555555555556,
              "#d8576b"
             ],
             [
              0.6666666666666666,
              "#ed7953"
             ],
             [
              0.7777777777777778,
              "#fb9f3a"
             ],
             [
              0.8888888888888888,
              "#fdca26"
             ],
             [
              1,
              "#f0f921"
             ]
            ],
            "type": "surface"
           }
          ],
          "table": [
           {
            "cells": {
             "fill": {
              "color": "#EBF0F8"
             },
             "line": {
              "color": "white"
             }
            },
            "header": {
             "fill": {
              "color": "#C8D4E3"
             },
             "line": {
              "color": "white"
             }
            },
            "type": "table"
           }
          ]
         },
         "layout": {
          "annotationdefaults": {
           "arrowcolor": "#2a3f5f",
           "arrowhead": 0,
           "arrowwidth": 1
          },
          "autotypenumbers": "strict",
          "coloraxis": {
           "colorbar": {
            "outlinewidth": 0,
            "ticks": ""
           }
          },
          "colorscale": {
           "diverging": [
            [
             0,
             "#8e0152"
            ],
            [
             0.1,
             "#c51b7d"
            ],
            [
             0.2,
             "#de77ae"
            ],
            [
             0.3,
             "#f1b6da"
            ],
            [
             0.4,
             "#fde0ef"
            ],
            [
             0.5,
             "#f7f7f7"
            ],
            [
             0.6,
             "#e6f5d0"
            ],
            [
             0.7,
             "#b8e186"
            ],
            [
             0.8,
             "#7fbc41"
            ],
            [
             0.9,
             "#4d9221"
            ],
            [
             1,
             "#276419"
            ]
           ],
           "sequential": [
            [
             0,
             "#0d0887"
            ],
            [
             0.1111111111111111,
             "#46039f"
            ],
            [
             0.2222222222222222,
             "#7201a8"
            ],
            [
             0.3333333333333333,
             "#9c179e"
            ],
            [
             0.4444444444444444,
             "#bd3786"
            ],
            [
             0.5555555555555556,
             "#d8576b"
            ],
            [
             0.6666666666666666,
             "#ed7953"
            ],
            [
             0.7777777777777778,
             "#fb9f3a"
            ],
            [
             0.8888888888888888,
             "#fdca26"
            ],
            [
             1,
             "#f0f921"
            ]
           ],
           "sequentialminus": [
            [
             0,
             "#0d0887"
            ],
            [
             0.1111111111111111,
             "#46039f"
            ],
            [
             0.2222222222222222,
             "#7201a8"
            ],
            [
             0.3333333333333333,
             "#9c179e"
            ],
            [
             0.4444444444444444,
             "#bd3786"
            ],
            [
             0.5555555555555556,
             "#d8576b"
            ],
            [
             0.6666666666666666,
             "#ed7953"
            ],
            [
             0.7777777777777778,
             "#fb9f3a"
            ],
            [
             0.8888888888888888,
             "#fdca26"
            ],
            [
             1,
             "#f0f921"
            ]
           ]
          },
          "colorway": [
           "#636efa",
           "#EF553B",
           "#00cc96",
           "#ab63fa",
           "#FFA15A",
           "#19d3f3",
           "#FF6692",
           "#B6E880",
           "#FF97FF",
           "#FECB52"
          ],
          "font": {
           "color": "#2a3f5f"
          },
          "geo": {
           "bgcolor": "white",
           "lakecolor": "white",
           "landcolor": "#E5ECF6",
           "showlakes": true,
           "showland": true,
           "subunitcolor": "white"
          },
          "hoverlabel": {
           "align": "left"
          },
          "hovermode": "closest",
          "mapbox": {
           "style": "light"
          },
          "paper_bgcolor": "white",
          "plot_bgcolor": "#E5ECF6",
          "polar": {
           "angularaxis": {
            "gridcolor": "white",
            "linecolor": "white",
            "ticks": ""
           },
           "bgcolor": "#E5ECF6",
           "radialaxis": {
            "gridcolor": "white",
            "linecolor": "white",
            "ticks": ""
           }
          },
          "scene": {
           "xaxis": {
            "backgroundcolor": "#E5ECF6",
            "gridcolor": "white",
            "gridwidth": 2,
            "linecolor": "white",
            "showbackground": true,
            "ticks": "",
            "zerolinecolor": "white"
           },
           "yaxis": {
            "backgroundcolor": "#E5ECF6",
            "gridcolor": "white",
            "gridwidth": 2,
            "linecolor": "white",
            "showbackground": true,
            "ticks": "",
            "zerolinecolor": "white"
           },
           "zaxis": {
            "backgroundcolor": "#E5ECF6",
            "gridcolor": "white",
            "gridwidth": 2,
            "linecolor": "white",
            "showbackground": true,
            "ticks": "",
            "zerolinecolor": "white"
           }
          },
          "shapedefaults": {
           "line": {
            "color": "#2a3f5f"
           }
          },
          "ternary": {
           "aaxis": {
            "gridcolor": "white",
            "linecolor": "white",
            "ticks": ""
           },
           "baxis": {
            "gridcolor": "white",
            "linecolor": "white",
            "ticks": ""
           },
           "bgcolor": "#E5ECF6",
           "caxis": {
            "gridcolor": "white",
            "linecolor": "white",
            "ticks": ""
           }
          },
          "title": {
           "x": 0.05
          },
          "xaxis": {
           "automargin": true,
           "gridcolor": "white",
           "linecolor": "white",
           "ticks": "",
           "title": {
            "standoff": 15
           },
           "zerolinecolor": "white",
           "zerolinewidth": 2
          },
          "yaxis": {
           "automargin": true,
           "gridcolor": "white",
           "linecolor": "white",
           "ticks": "",
           "title": {
            "standoff": 15
           },
           "zerolinecolor": "white",
           "zerolinewidth": 2
          }
         }
        }
       }
      },
      "text/html": [
       "<div>                            <div id=\"0e312378-98d5-4f61-a44c-e734a9ea8354\" class=\"plotly-graph-div\" style=\"height:525px; width:100%;\"></div>            <script type=\"text/javascript\">                require([\"plotly\"], function(Plotly) {                    window.PLOTLYENV=window.PLOTLYENV || {};                                    if (document.getElementById(\"0e312378-98d5-4f61-a44c-e734a9ea8354\")) {                    Plotly.newPlot(                        \"0e312378-98d5-4f61-a44c-e734a9ea8354\",                        [{\"mode\":\"markers\",\"name\":\"linear regression\",\"x\":[8490.0,12000.0,12000.0,12000.0,12000.0,12295.0,13000.0,14000.0,14000.0,14000.0,14000.0,17700.0,17800.0,21000.0,22400.0,22767.0,22767.0,22767.0,22767.0,23686.112106475557,23686.112106475557,23686.112106475557,23686.112106475557,23686.112106475557,23686.112106475557,23686.112106475557,23686.112106475557,23686.112106475557,23686.112106475557,23686.112106475557,23686.112106475557,23686.112106475557,23686.112106475557,23686.112106475557,23686.112106475557,29880.0,29899.0,30495.0,30999.0,34480.0],\"y\":[71814.74895841442,44942.446582473814,44942.446582473814,44942.446582473814,44942.446582473814,38639.221826188266,44230.25630316511,37424.93739996478,37424.93739996478,37424.93739996478,37424.93739996478,40882.9619904086,34718.61433858797,32439.605444796383,25349.410429872572,25088.036597365513,25088.036597365513,25088.036597365513,25088.036597365513,21264.427979055792,21264.427979055792,21264.427979055792,21264.427979055792,21264.427979055792,21264.427979055792,21264.427979055792,21264.427979055792,21264.427979055792,21264.427979055792,21264.427979055792,21264.427979055792,21264.427979055792,21264.427979055792,21264.427979055792,21264.427979055792,7835.969892853871,7822.438277546316,1304.844247188419,945.9003464151174,-1533.2340158615261],\"type\":\"scatter\"},{\"mode\":\"markers\",\"name\":\"Stochastic regression\",\"x\":[8490.0,12000.0,12000.0,12000.0,12000.0,12295.0,13000.0,14000.0,14000.0,14000.0,14000.0,17700.0,17800.0,21000.0,22400.0,22767.0,22767.0,22767.0,22767.0,23686.112106475557,23686.112106475557,23686.112106475557,23686.112106475557,23686.112106475557,23686.112106475557,23686.112106475557,23686.112106475557,23686.112106475557,23686.112106475557,23686.112106475557,23686.112106475557,23686.112106475557,23686.112106475557,23686.112106475557,23686.112106475557,29880.0,29899.0,30495.0,30999.0,34480.0],\"y\":[76517.28704189307,43662.74752818115,52783.28350873709,37251.47283421028,45521.754676023025,46140.478816488976,45895.27980717111,5701.995314519514,14985.051933886607,29538.951159171032,41964.67326240654,62152.73769882623,23467.728822617482,36617.56036374021,21172.765876367004,37786.43494642502,52427.48388119304,16362.26555392818,14183.17512012567,3868.4910093636026,12261.236820578088,12183.501970277004,9687.492203023525,27943.392734709538,35784.193217273554,32247.61253127639,36402.10509983092,28180.162481458403,5559.9855182061365,12881.719310518,21302.51483751636,35367.72731179857,5773.7617774593,2538.6358090630893,35154.59353735195,-874.5197889149094,-6644.099124742699,-8270.210259583917,-15283.837324900553,-8274.33429243905],\"type\":\"scatter\"}],                        {\"template\":{\"data\":{\"bar\":[{\"error_x\":{\"color\":\"#2a3f5f\"},\"error_y\":{\"color\":\"#2a3f5f\"},\"marker\":{\"line\":{\"color\":\"#E5ECF6\",\"width\":0.5},\"pattern\":{\"fillmode\":\"overlay\",\"size\":10,\"solidity\":0.2}},\"type\":\"bar\"}],\"barpolar\":[{\"marker\":{\"line\":{\"color\":\"#E5ECF6\",\"width\":0.5},\"pattern\":{\"fillmode\":\"overlay\",\"size\":10,\"solidity\":0.2}},\"type\":\"barpolar\"}],\"carpet\":[{\"aaxis\":{\"endlinecolor\":\"#2a3f5f\",\"gridcolor\":\"white\",\"linecolor\":\"white\",\"minorgridcolor\":\"white\",\"startlinecolor\":\"#2a3f5f\"},\"baxis\":{\"endlinecolor\":\"#2a3f5f\",\"gridcolor\":\"white\",\"linecolor\":\"white\",\"minorgridcolor\":\"white\",\"startlinecolor\":\"#2a3f5f\"},\"type\":\"carpet\"}],\"choropleth\":[{\"colorbar\":{\"outlinewidth\":0,\"ticks\":\"\"},\"type\":\"choropleth\"}],\"contour\":[{\"colorbar\":{\"outlinewidth\":0,\"ticks\":\"\"},\"colorscale\":[[0.0,\"#0d0887\"],[0.1111111111111111,\"#46039f\"],[0.2222222222222222,\"#7201a8\"],[0.3333333333333333,\"#9c179e\"],[0.4444444444444444,\"#bd3786\"],[0.5555555555555556,\"#d8576b\"],[0.6666666666666666,\"#ed7953\"],[0.7777777777777778,\"#fb9f3a\"],[0.8888888888888888,\"#fdca26\"],[1.0,\"#f0f921\"]],\"type\":\"contour\"}],\"contourcarpet\":[{\"colorbar\":{\"outlinewidth\":0,\"ticks\":\"\"},\"type\":\"contourcarpet\"}],\"heatmap\":[{\"colorbar\":{\"outlinewidth\":0,\"ticks\":\"\"},\"colorscale\":[[0.0,\"#0d0887\"],[0.1111111111111111,\"#46039f\"],[0.2222222222222222,\"#7201a8\"],[0.3333333333333333,\"#9c179e\"],[0.4444444444444444,\"#bd3786\"],[0.5555555555555556,\"#d8576b\"],[0.6666666666666666,\"#ed7953\"],[0.7777777777777778,\"#fb9f3a\"],[0.8888888888888888,\"#fdca26\"],[1.0,\"#f0f921\"]],\"type\":\"heatmap\"}],\"heatmapgl\":[{\"colorbar\":{\"outlinewidth\":0,\"ticks\":\"\"},\"colorscale\":[[0.0,\"#0d0887\"],[0.1111111111111111,\"#46039f\"],[0.2222222222222222,\"#7201a8\"],[0.3333333333333333,\"#9c179e\"],[0.4444444444444444,\"#bd3786\"],[0.5555555555555556,\"#d8576b\"],[0.6666666666666666,\"#ed7953\"],[0.7777777777777778,\"#fb9f3a\"],[0.8888888888888888,\"#fdca26\"],[1.0,\"#f0f921\"]],\"type\":\"heatmapgl\"}],\"histogram\":[{\"marker\":{\"pattern\":{\"fillmode\":\"overlay\",\"size\":10,\"solidity\":0.2}},\"type\":\"histogram\"}],\"histogram2d\":[{\"colorbar\":{\"outlinewidth\":0,\"ticks\":\"\"},\"colorscale\":[[0.0,\"#0d0887\"],[0.1111111111111111,\"#46039f\"],[0.2222222222222222,\"#7201a8\"],[0.3333333333333333,\"#9c179e\"],[0.4444444444444444,\"#bd3786\"],[0.5555555555555556,\"#d8576b\"],[0.6666666666666666,\"#ed7953\"],[0.7777777777777778,\"#fb9f3a\"],[0.8888888888888888,\"#fdca26\"],[1.0,\"#f0f921\"]],\"type\":\"histogram2d\"}],\"histogram2dcontour\":[{\"colorbar\":{\"outlinewidth\":0,\"ticks\":\"\"},\"colorscale\":[[0.0,\"#0d0887\"],[0.1111111111111111,\"#46039f\"],[0.2222222222222222,\"#7201a8\"],[0.3333333333333333,\"#9c179e\"],[0.4444444444444444,\"#bd3786\"],[0.5555555555555556,\"#d8576b\"],[0.6666666666666666,\"#ed7953\"],[0.7777777777777778,\"#fb9f3a\"],[0.8888888888888888,\"#fdca26\"],[1.0,\"#f0f921\"]],\"type\":\"histogram2dcontour\"}],\"mesh3d\":[{\"colorbar\":{\"outlinewidth\":0,\"ticks\":\"\"},\"type\":\"mesh3d\"}],\"parcoords\":[{\"line\":{\"colorbar\":{\"outlinewidth\":0,\"ticks\":\"\"}},\"type\":\"parcoords\"}],\"pie\":[{\"automargin\":true,\"type\":\"pie\"}],\"scatter\":[{\"marker\":{\"colorbar\":{\"outlinewidth\":0,\"ticks\":\"\"}},\"type\":\"scatter\"}],\"scatter3d\":[{\"line\":{\"colorbar\":{\"outlinewidth\":0,\"ticks\":\"\"}},\"marker\":{\"colorbar\":{\"outlinewidth\":0,\"ticks\":\"\"}},\"type\":\"scatter3d\"}],\"scattercarpet\":[{\"marker\":{\"colorbar\":{\"outlinewidth\":0,\"ticks\":\"\"}},\"type\":\"scattercarpet\"}],\"scattergeo\":[{\"marker\":{\"colorbar\":{\"outlinewidth\":0,\"ticks\":\"\"}},\"type\":\"scattergeo\"}],\"scattergl\":[{\"marker\":{\"colorbar\":{\"outlinewidth\":0,\"ticks\":\"\"}},\"type\":\"scattergl\"}],\"scattermapbox\":[{\"marker\":{\"colorbar\":{\"outlinewidth\":0,\"ticks\":\"\"}},\"type\":\"scattermapbox\"}],\"scatterpolar\":[{\"marker\":{\"colorbar\":{\"outlinewidth\":0,\"ticks\":\"\"}},\"type\":\"scatterpolar\"}],\"scatterpolargl\":[{\"marker\":{\"colorbar\":{\"outlinewidth\":0,\"ticks\":\"\"}},\"type\":\"scatterpolargl\"}],\"scatterternary\":[{\"marker\":{\"colorbar\":{\"outlinewidth\":0,\"ticks\":\"\"}},\"type\":\"scatterternary\"}],\"surface\":[{\"colorbar\":{\"outlinewidth\":0,\"ticks\":\"\"},\"colorscale\":[[0.0,\"#0d0887\"],[0.1111111111111111,\"#46039f\"],[0.2222222222222222,\"#7201a8\"],[0.3333333333333333,\"#9c179e\"],[0.4444444444444444,\"#bd3786\"],[0.5555555555555556,\"#d8576b\"],[0.6666666666666666,\"#ed7953\"],[0.7777777777777778,\"#fb9f3a\"],[0.8888888888888888,\"#fdca26\"],[1.0,\"#f0f921\"]],\"type\":\"surface\"}],\"table\":[{\"cells\":{\"fill\":{\"color\":\"#EBF0F8\"},\"line\":{\"color\":\"white\"}},\"header\":{\"fill\":{\"color\":\"#C8D4E3\"},\"line\":{\"color\":\"white\"}},\"type\":\"table\"}]},\"layout\":{\"annotationdefaults\":{\"arrowcolor\":\"#2a3f5f\",\"arrowhead\":0,\"arrowwidth\":1},\"autotypenumbers\":\"strict\",\"coloraxis\":{\"colorbar\":{\"outlinewidth\":0,\"ticks\":\"\"}},\"colorscale\":{\"diverging\":[[0,\"#8e0152\"],[0.1,\"#c51b7d\"],[0.2,\"#de77ae\"],[0.3,\"#f1b6da\"],[0.4,\"#fde0ef\"],[0.5,\"#f7f7f7\"],[0.6,\"#e6f5d0\"],[0.7,\"#b8e186\"],[0.8,\"#7fbc41\"],[0.9,\"#4d9221\"],[1,\"#276419\"]],\"sequential\":[[0.0,\"#0d0887\"],[0.1111111111111111,\"#46039f\"],[0.2222222222222222,\"#7201a8\"],[0.3333333333333333,\"#9c179e\"],[0.4444444444444444,\"#bd3786\"],[0.5555555555555556,\"#d8576b\"],[0.6666666666666666,\"#ed7953\"],[0.7777777777777778,\"#fb9f3a\"],[0.8888888888888888,\"#fdca26\"],[1.0,\"#f0f921\"]],\"sequentialminus\":[[0.0,\"#0d0887\"],[0.1111111111111111,\"#46039f\"],[0.2222222222222222,\"#7201a8\"],[0.3333333333333333,\"#9c179e\"],[0.4444444444444444,\"#bd3786\"],[0.5555555555555556,\"#d8576b\"],[0.6666666666666666,\"#ed7953\"],[0.7777777777777778,\"#fb9f3a\"],[0.8888888888888888,\"#fdca26\"],[1.0,\"#f0f921\"]]},\"colorway\":[\"#636efa\",\"#EF553B\",\"#00cc96\",\"#ab63fa\",\"#FFA15A\",\"#19d3f3\",\"#FF6692\",\"#B6E880\",\"#FF97FF\",\"#FECB52\"],\"font\":{\"color\":\"#2a3f5f\"},\"geo\":{\"bgcolor\":\"white\",\"lakecolor\":\"white\",\"landcolor\":\"#E5ECF6\",\"showlakes\":true,\"showland\":true,\"subunitcolor\":\"white\"},\"hoverlabel\":{\"align\":\"left\"},\"hovermode\":\"closest\",\"mapbox\":{\"style\":\"light\"},\"paper_bgcolor\":\"white\",\"plot_bgcolor\":\"#E5ECF6\",\"polar\":{\"angularaxis\":{\"gridcolor\":\"white\",\"linecolor\":\"white\",\"ticks\":\"\"},\"bgcolor\":\"#E5ECF6\",\"radialaxis\":{\"gridcolor\":\"white\",\"linecolor\":\"white\",\"ticks\":\"\"}},\"scene\":{\"xaxis\":{\"backgroundcolor\":\"#E5ECF6\",\"gridcolor\":\"white\",\"gridwidth\":2,\"linecolor\":\"white\",\"showbackground\":true,\"ticks\":\"\",\"zerolinecolor\":\"white\"},\"yaxis\":{\"backgroundcolor\":\"#E5ECF6\",\"gridcolor\":\"white\",\"gridwidth\":2,\"linecolor\":\"white\",\"showbackground\":true,\"ticks\":\"\",\"zerolinecolor\":\"white\"},\"zaxis\":{\"backgroundcolor\":\"#E5ECF6\",\"gridcolor\":\"white\",\"gridwidth\":2,\"linecolor\":\"white\",\"showbackground\":true,\"ticks\":\"\",\"zerolinecolor\":\"white\"}},\"shapedefaults\":{\"line\":{\"color\":\"#2a3f5f\"}},\"ternary\":{\"aaxis\":{\"gridcolor\":\"white\",\"linecolor\":\"white\",\"ticks\":\"\"},\"baxis\":{\"gridcolor\":\"white\",\"linecolor\":\"white\",\"ticks\":\"\"},\"bgcolor\":\"#E5ECF6\",\"caxis\":{\"gridcolor\":\"white\",\"linecolor\":\"white\",\"ticks\":\"\"}},\"title\":{\"x\":0.05},\"xaxis\":{\"automargin\":true,\"gridcolor\":\"white\",\"linecolor\":\"white\",\"ticks\":\"\",\"title\":{\"standoff\":15},\"zerolinecolor\":\"white\",\"zerolinewidth\":2},\"yaxis\":{\"automargin\":true,\"gridcolor\":\"white\",\"linecolor\":\"white\",\"ticks\":\"\",\"title\":{\"standoff\":15},\"zerolinecolor\":\"white\",\"zerolinewidth\":2}}}},                        {\"responsive\": true}                    ).then(function(){\n",
       "                            \n",
       "var gd = document.getElementById('0e312378-98d5-4f61-a44c-e734a9ea8354');\n",
       "var x = new MutationObserver(function (mutations, observer) {{\n",
       "        var display = window.getComputedStyle(gd).display;\n",
       "        if (!display || display === 'none') {{\n",
       "            console.log([gd, 'removed!']);\n",
       "            Plotly.purge(gd);\n",
       "            observer.disconnect();\n",
       "        }}\n",
       "}});\n",
       "\n",
       "// Listen for the removal of the full notebook cells\n",
       "var notebookContainer = gd.closest('#notebook-container');\n",
       "if (notebookContainer) {{\n",
       "    x.observe(notebookContainer, {childList: true});\n",
       "}}\n",
       "\n",
       "// Listen for the clearing of the current output cell\n",
       "var outputEl = gd.closest('.output');\n",
       "if (outputEl) {{\n",
       "    x.observe(outputEl, {childList: true});\n",
       "}}\n",
       "\n",
       "                        })                };                });            </script>        </div>"
      ]
     },
     "metadata": {},
     "output_type": "display_data"
    }
   ],
   "source": [
    "plot(val, 'price_imp', ['linear regression', 'Stochastic regression'], sample = True, sample_size = .2, tipo = 'markers')"
   ]
  },
  {
   "cell_type": "code",
   "execution_count": 52,
   "id": "e67b8bb0",
   "metadata": {
    "scrolled": true
   },
   "outputs": [
    {
     "data": {
      "application/vnd.plotly.v1+json": {
       "config": {
        "plotlyServerURL": "https://plot.ly"
       },
       "data": [
        {
         "mode": "lines",
         "name": "linear regression",
         "type": "scatter",
         "x": [
          11995,
          12000,
          12000,
          12000,
          12295,
          14000,
          14000,
          14000,
          14990,
          14995,
          15600,
          15695,
          17950,
          19298,
          20800,
          20980,
          22767,
          22767,
          23300,
          23686.112106475557,
          23686.112106475557,
          23686.112106475557,
          23686.112106475557,
          23686.112106475557,
          23686.112106475557,
          23686.112106475557,
          23686.112106475557,
          23686.112106475557,
          23686.112106475557,
          23686.112106475557,
          23686.112106475557,
          23686.112106475557,
          23686.112106475557,
          23686.112106475557,
          23980,
          25995,
          29880,
          30399,
          32980,
          39950
         ],
         "y": [
          63225.39340554178,
          44942.446582473814,
          44942.446582473814,
          44942.446582473814,
          38639.221826188266,
          37424.93739996478,
          37424.93739996478,
          37424.93739996478,
          48906.12627122924,
          97647.59431095608,
          36285.43295306899,
          42310.9035004247,
          34611.78579669073,
          9279.23880461976,
          26488.914876768366,
          26360.720626492053,
          25088.036597365513,
          25088.036597365513,
          24708.439178492874,
          21264.427979055792,
          21264.427979055792,
          21264.427979055792,
          21264.427979055792,
          21264.427979055792,
          21264.427979055792,
          21264.427979055792,
          21264.427979055792,
          21264.427979055792,
          21264.427979055792,
          21264.427979055792,
          21264.427979055792,
          21264.427979055792,
          21264.427979055792,
          21264.427979055792,
          24224.14978856221,
          22789.086375754327,
          7835.969892853871,
          7466.343137891963,
          5628.1800269931555,
          -5428.914843685925
         ]
        },
        {
         "mode": "lines",
         "name": "Stochastic regression",
         "type": "scatter",
         "x": [
          11995,
          12000,
          12000,
          12000,
          12295,
          14000,
          14000,
          14000,
          14990,
          14995,
          15600,
          15695,
          17950,
          19298,
          20800,
          20980,
          22767,
          22767,
          23300,
          23686.112106475557,
          23686.112106475557,
          23686.112106475557,
          23686.112106475557,
          23686.112106475557,
          23686.112106475557,
          23686.112106475557,
          23686.112106475557,
          23686.112106475557,
          23686.112106475557,
          23686.112106475557,
          23686.112106475557,
          23686.112106475557,
          23686.112106475557,
          23686.112106475557,
          23980,
          25995,
          29880,
          30399,
          32980,
          39950
         ],
         "y": [
          52921.69093477991,
          43662.74752818115,
          17908.658848115498,
          59687.20401505867,
          46140.478816488976,
          41964.67326240654,
          38915.64585958436,
          29538.951159171032,
          46136.92583639458,
          93679.11223012622,
          26783.9371095967,
          28399.88672547508,
          47028.886548878385,
          5047.620037656994,
          33161.89307897762,
          35921.36135496611,
          37786.43494642502,
          14183.17512012567,
          40408.175491295406,
          38855.92095292475,
          26974.375770261526,
          33316.08045994914,
          20439.540094405384,
          13481.631447418258,
          16765.75320125428,
          -3866.452934804369,
          28358.947452296354,
          5559.9855182061365,
          27362.025128848054,
          27943.392734709538,
          17074.44888171051,
          5208.44047320521,
          28036.127787896196,
          40288.08560427725,
          32900.963018048016,
          37381.5142489165,
          -874.5197889149094,
          30728.077290059333,
          20116.27942186638,
          -419.8907639793724
         ]
        }
       ],
       "layout": {
        "template": {
         "data": {
          "bar": [
           {
            "error_x": {
             "color": "#2a3f5f"
            },
            "error_y": {
             "color": "#2a3f5f"
            },
            "marker": {
             "line": {
              "color": "#E5ECF6",
              "width": 0.5
             },
             "pattern": {
              "fillmode": "overlay",
              "size": 10,
              "solidity": 0.2
             }
            },
            "type": "bar"
           }
          ],
          "barpolar": [
           {
            "marker": {
             "line": {
              "color": "#E5ECF6",
              "width": 0.5
             },
             "pattern": {
              "fillmode": "overlay",
              "size": 10,
              "solidity": 0.2
             }
            },
            "type": "barpolar"
           }
          ],
          "carpet": [
           {
            "aaxis": {
             "endlinecolor": "#2a3f5f",
             "gridcolor": "white",
             "linecolor": "white",
             "minorgridcolor": "white",
             "startlinecolor": "#2a3f5f"
            },
            "baxis": {
             "endlinecolor": "#2a3f5f",
             "gridcolor": "white",
             "linecolor": "white",
             "minorgridcolor": "white",
             "startlinecolor": "#2a3f5f"
            },
            "type": "carpet"
           }
          ],
          "choropleth": [
           {
            "colorbar": {
             "outlinewidth": 0,
             "ticks": ""
            },
            "type": "choropleth"
           }
          ],
          "contour": [
           {
            "colorbar": {
             "outlinewidth": 0,
             "ticks": ""
            },
            "colorscale": [
             [
              0,
              "#0d0887"
             ],
             [
              0.1111111111111111,
              "#46039f"
             ],
             [
              0.2222222222222222,
              "#7201a8"
             ],
             [
              0.3333333333333333,
              "#9c179e"
             ],
             [
              0.4444444444444444,
              "#bd3786"
             ],
             [
              0.5555555555555556,
              "#d8576b"
             ],
             [
              0.6666666666666666,
              "#ed7953"
             ],
             [
              0.7777777777777778,
              "#fb9f3a"
             ],
             [
              0.8888888888888888,
              "#fdca26"
             ],
             [
              1,
              "#f0f921"
             ]
            ],
            "type": "contour"
           }
          ],
          "contourcarpet": [
           {
            "colorbar": {
             "outlinewidth": 0,
             "ticks": ""
            },
            "type": "contourcarpet"
           }
          ],
          "heatmap": [
           {
            "colorbar": {
             "outlinewidth": 0,
             "ticks": ""
            },
            "colorscale": [
             [
              0,
              "#0d0887"
             ],
             [
              0.1111111111111111,
              "#46039f"
             ],
             [
              0.2222222222222222,
              "#7201a8"
             ],
             [
              0.3333333333333333,
              "#9c179e"
             ],
             [
              0.4444444444444444,
              "#bd3786"
             ],
             [
              0.5555555555555556,
              "#d8576b"
             ],
             [
              0.6666666666666666,
              "#ed7953"
             ],
             [
              0.7777777777777778,
              "#fb9f3a"
             ],
             [
              0.8888888888888888,
              "#fdca26"
             ],
             [
              1,
              "#f0f921"
             ]
            ],
            "type": "heatmap"
           }
          ],
          "heatmapgl": [
           {
            "colorbar": {
             "outlinewidth": 0,
             "ticks": ""
            },
            "colorscale": [
             [
              0,
              "#0d0887"
             ],
             [
              0.1111111111111111,
              "#46039f"
             ],
             [
              0.2222222222222222,
              "#7201a8"
             ],
             [
              0.3333333333333333,
              "#9c179e"
             ],
             [
              0.4444444444444444,
              "#bd3786"
             ],
             [
              0.5555555555555556,
              "#d8576b"
             ],
             [
              0.6666666666666666,
              "#ed7953"
             ],
             [
              0.7777777777777778,
              "#fb9f3a"
             ],
             [
              0.8888888888888888,
              "#fdca26"
             ],
             [
              1,
              "#f0f921"
             ]
            ],
            "type": "heatmapgl"
           }
          ],
          "histogram": [
           {
            "marker": {
             "pattern": {
              "fillmode": "overlay",
              "size": 10,
              "solidity": 0.2
             }
            },
            "type": "histogram"
           }
          ],
          "histogram2d": [
           {
            "colorbar": {
             "outlinewidth": 0,
             "ticks": ""
            },
            "colorscale": [
             [
              0,
              "#0d0887"
             ],
             [
              0.1111111111111111,
              "#46039f"
             ],
             [
              0.2222222222222222,
              "#7201a8"
             ],
             [
              0.3333333333333333,
              "#9c179e"
             ],
             [
              0.4444444444444444,
              "#bd3786"
             ],
             [
              0.5555555555555556,
              "#d8576b"
             ],
             [
              0.6666666666666666,
              "#ed7953"
             ],
             [
              0.7777777777777778,
              "#fb9f3a"
             ],
             [
              0.8888888888888888,
              "#fdca26"
             ],
             [
              1,
              "#f0f921"
             ]
            ],
            "type": "histogram2d"
           }
          ],
          "histogram2dcontour": [
           {
            "colorbar": {
             "outlinewidth": 0,
             "ticks": ""
            },
            "colorscale": [
             [
              0,
              "#0d0887"
             ],
             [
              0.1111111111111111,
              "#46039f"
             ],
             [
              0.2222222222222222,
              "#7201a8"
             ],
             [
              0.3333333333333333,
              "#9c179e"
             ],
             [
              0.4444444444444444,
              "#bd3786"
             ],
             [
              0.5555555555555556,
              "#d8576b"
             ],
             [
              0.6666666666666666,
              "#ed7953"
             ],
             [
              0.7777777777777778,
              "#fb9f3a"
             ],
             [
              0.8888888888888888,
              "#fdca26"
             ],
             [
              1,
              "#f0f921"
             ]
            ],
            "type": "histogram2dcontour"
           }
          ],
          "mesh3d": [
           {
            "colorbar": {
             "outlinewidth": 0,
             "ticks": ""
            },
            "type": "mesh3d"
           }
          ],
          "parcoords": [
           {
            "line": {
             "colorbar": {
              "outlinewidth": 0,
              "ticks": ""
             }
            },
            "type": "parcoords"
           }
          ],
          "pie": [
           {
            "automargin": true,
            "type": "pie"
           }
          ],
          "scatter": [
           {
            "marker": {
             "colorbar": {
              "outlinewidth": 0,
              "ticks": ""
             }
            },
            "type": "scatter"
           }
          ],
          "scatter3d": [
           {
            "line": {
             "colorbar": {
              "outlinewidth": 0,
              "ticks": ""
             }
            },
            "marker": {
             "colorbar": {
              "outlinewidth": 0,
              "ticks": ""
             }
            },
            "type": "scatter3d"
           }
          ],
          "scattercarpet": [
           {
            "marker": {
             "colorbar": {
              "outlinewidth": 0,
              "ticks": ""
             }
            },
            "type": "scattercarpet"
           }
          ],
          "scattergeo": [
           {
            "marker": {
             "colorbar": {
              "outlinewidth": 0,
              "ticks": ""
             }
            },
            "type": "scattergeo"
           }
          ],
          "scattergl": [
           {
            "marker": {
             "colorbar": {
              "outlinewidth": 0,
              "ticks": ""
             }
            },
            "type": "scattergl"
           }
          ],
          "scattermapbox": [
           {
            "marker": {
             "colorbar": {
              "outlinewidth": 0,
              "ticks": ""
             }
            },
            "type": "scattermapbox"
           }
          ],
          "scatterpolar": [
           {
            "marker": {
             "colorbar": {
              "outlinewidth": 0,
              "ticks": ""
             }
            },
            "type": "scatterpolar"
           }
          ],
          "scatterpolargl": [
           {
            "marker": {
             "colorbar": {
              "outlinewidth": 0,
              "ticks": ""
             }
            },
            "type": "scatterpolargl"
           }
          ],
          "scatterternary": [
           {
            "marker": {
             "colorbar": {
              "outlinewidth": 0,
              "ticks": ""
             }
            },
            "type": "scatterternary"
           }
          ],
          "surface": [
           {
            "colorbar": {
             "outlinewidth": 0,
             "ticks": ""
            },
            "colorscale": [
             [
              0,
              "#0d0887"
             ],
             [
              0.1111111111111111,
              "#46039f"
             ],
             [
              0.2222222222222222,
              "#7201a8"
             ],
             [
              0.3333333333333333,
              "#9c179e"
             ],
             [
              0.4444444444444444,
              "#bd3786"
             ],
             [
              0.5555555555555556,
              "#d8576b"
             ],
             [
              0.6666666666666666,
              "#ed7953"
             ],
             [
              0.7777777777777778,
              "#fb9f3a"
             ],
             [
              0.8888888888888888,
              "#fdca26"
             ],
             [
              1,
              "#f0f921"
             ]
            ],
            "type": "surface"
           }
          ],
          "table": [
           {
            "cells": {
             "fill": {
              "color": "#EBF0F8"
             },
             "line": {
              "color": "white"
             }
            },
            "header": {
             "fill": {
              "color": "#C8D4E3"
             },
             "line": {
              "color": "white"
             }
            },
            "type": "table"
           }
          ]
         },
         "layout": {
          "annotationdefaults": {
           "arrowcolor": "#2a3f5f",
           "arrowhead": 0,
           "arrowwidth": 1
          },
          "autotypenumbers": "strict",
          "coloraxis": {
           "colorbar": {
            "outlinewidth": 0,
            "ticks": ""
           }
          },
          "colorscale": {
           "diverging": [
            [
             0,
             "#8e0152"
            ],
            [
             0.1,
             "#c51b7d"
            ],
            [
             0.2,
             "#de77ae"
            ],
            [
             0.3,
             "#f1b6da"
            ],
            [
             0.4,
             "#fde0ef"
            ],
            [
             0.5,
             "#f7f7f7"
            ],
            [
             0.6,
             "#e6f5d0"
            ],
            [
             0.7,
             "#b8e186"
            ],
            [
             0.8,
             "#7fbc41"
            ],
            [
             0.9,
             "#4d9221"
            ],
            [
             1,
             "#276419"
            ]
           ],
           "sequential": [
            [
             0,
             "#0d0887"
            ],
            [
             0.1111111111111111,
             "#46039f"
            ],
            [
             0.2222222222222222,
             "#7201a8"
            ],
            [
             0.3333333333333333,
             "#9c179e"
            ],
            [
             0.4444444444444444,
             "#bd3786"
            ],
            [
             0.5555555555555556,
             "#d8576b"
            ],
            [
             0.6666666666666666,
             "#ed7953"
            ],
            [
             0.7777777777777778,
             "#fb9f3a"
            ],
            [
             0.8888888888888888,
             "#fdca26"
            ],
            [
             1,
             "#f0f921"
            ]
           ],
           "sequentialminus": [
            [
             0,
             "#0d0887"
            ],
            [
             0.1111111111111111,
             "#46039f"
            ],
            [
             0.2222222222222222,
             "#7201a8"
            ],
            [
             0.3333333333333333,
             "#9c179e"
            ],
            [
             0.4444444444444444,
             "#bd3786"
            ],
            [
             0.5555555555555556,
             "#d8576b"
            ],
            [
             0.6666666666666666,
             "#ed7953"
            ],
            [
             0.7777777777777778,
             "#fb9f3a"
            ],
            [
             0.8888888888888888,
             "#fdca26"
            ],
            [
             1,
             "#f0f921"
            ]
           ]
          },
          "colorway": [
           "#636efa",
           "#EF553B",
           "#00cc96",
           "#ab63fa",
           "#FFA15A",
           "#19d3f3",
           "#FF6692",
           "#B6E880",
           "#FF97FF",
           "#FECB52"
          ],
          "font": {
           "color": "#2a3f5f"
          },
          "geo": {
           "bgcolor": "white",
           "lakecolor": "white",
           "landcolor": "#E5ECF6",
           "showlakes": true,
           "showland": true,
           "subunitcolor": "white"
          },
          "hoverlabel": {
           "align": "left"
          },
          "hovermode": "closest",
          "mapbox": {
           "style": "light"
          },
          "paper_bgcolor": "white",
          "plot_bgcolor": "#E5ECF6",
          "polar": {
           "angularaxis": {
            "gridcolor": "white",
            "linecolor": "white",
            "ticks": ""
           },
           "bgcolor": "#E5ECF6",
           "radialaxis": {
            "gridcolor": "white",
            "linecolor": "white",
            "ticks": ""
           }
          },
          "scene": {
           "xaxis": {
            "backgroundcolor": "#E5ECF6",
            "gridcolor": "white",
            "gridwidth": 2,
            "linecolor": "white",
            "showbackground": true,
            "ticks": "",
            "zerolinecolor": "white"
           },
           "yaxis": {
            "backgroundcolor": "#E5ECF6",
            "gridcolor": "white",
            "gridwidth": 2,
            "linecolor": "white",
            "showbackground": true,
            "ticks": "",
            "zerolinecolor": "white"
           },
           "zaxis": {
            "backgroundcolor": "#E5ECF6",
            "gridcolor": "white",
            "gridwidth": 2,
            "linecolor": "white",
            "showbackground": true,
            "ticks": "",
            "zerolinecolor": "white"
           }
          },
          "shapedefaults": {
           "line": {
            "color": "#2a3f5f"
           }
          },
          "ternary": {
           "aaxis": {
            "gridcolor": "white",
            "linecolor": "white",
            "ticks": ""
           },
           "baxis": {
            "gridcolor": "white",
            "linecolor": "white",
            "ticks": ""
           },
           "bgcolor": "#E5ECF6",
           "caxis": {
            "gridcolor": "white",
            "linecolor": "white",
            "ticks": ""
           }
          },
          "title": {
           "x": 0.05
          },
          "xaxis": {
           "automargin": true,
           "gridcolor": "white",
           "linecolor": "white",
           "ticks": "",
           "title": {
            "standoff": 15
           },
           "zerolinecolor": "white",
           "zerolinewidth": 2
          },
          "yaxis": {
           "automargin": true,
           "gridcolor": "white",
           "linecolor": "white",
           "ticks": "",
           "title": {
            "standoff": 15
           },
           "zerolinecolor": "white",
           "zerolinewidth": 2
          }
         }
        }
       }
      },
      "text/html": [
       "<div>                            <div id=\"3c29a659-5d3d-482c-8d71-8ce8877d0d95\" class=\"plotly-graph-div\" style=\"height:525px; width:100%;\"></div>            <script type=\"text/javascript\">                require([\"plotly\"], function(Plotly) {                    window.PLOTLYENV=window.PLOTLYENV || {};                                    if (document.getElementById(\"3c29a659-5d3d-482c-8d71-8ce8877d0d95\")) {                    Plotly.newPlot(                        \"3c29a659-5d3d-482c-8d71-8ce8877d0d95\",                        [{\"mode\":\"lines\",\"name\":\"linear regression\",\"x\":[11995.0,12000.0,12000.0,12000.0,12295.0,14000.0,14000.0,14000.0,14990.0,14995.0,15600.0,15695.0,17950.0,19298.0,20800.0,20980.0,22767.0,22767.0,23300.0,23686.112106475557,23686.112106475557,23686.112106475557,23686.112106475557,23686.112106475557,23686.112106475557,23686.112106475557,23686.112106475557,23686.112106475557,23686.112106475557,23686.112106475557,23686.112106475557,23686.112106475557,23686.112106475557,23686.112106475557,23980.0,25995.0,29880.0,30399.0,32980.0,39950.0],\"y\":[63225.39340554178,44942.446582473814,44942.446582473814,44942.446582473814,38639.221826188266,37424.93739996478,37424.93739996478,37424.93739996478,48906.12627122924,97647.59431095608,36285.43295306899,42310.9035004247,34611.78579669073,9279.23880461976,26488.914876768366,26360.720626492053,25088.036597365513,25088.036597365513,24708.439178492874,21264.427979055792,21264.427979055792,21264.427979055792,21264.427979055792,21264.427979055792,21264.427979055792,21264.427979055792,21264.427979055792,21264.427979055792,21264.427979055792,21264.427979055792,21264.427979055792,21264.427979055792,21264.427979055792,21264.427979055792,24224.14978856221,22789.086375754327,7835.969892853871,7466.343137891963,5628.1800269931555,-5428.914843685925],\"type\":\"scatter\"},{\"mode\":\"lines\",\"name\":\"Stochastic regression\",\"x\":[11995.0,12000.0,12000.0,12000.0,12295.0,14000.0,14000.0,14000.0,14990.0,14995.0,15600.0,15695.0,17950.0,19298.0,20800.0,20980.0,22767.0,22767.0,23300.0,23686.112106475557,23686.112106475557,23686.112106475557,23686.112106475557,23686.112106475557,23686.112106475557,23686.112106475557,23686.112106475557,23686.112106475557,23686.112106475557,23686.112106475557,23686.112106475557,23686.112106475557,23686.112106475557,23686.112106475557,23980.0,25995.0,29880.0,30399.0,32980.0,39950.0],\"y\":[52921.69093477991,43662.74752818115,17908.658848115498,59687.20401505867,46140.478816488976,41964.67326240654,38915.64585958436,29538.951159171032,46136.92583639458,93679.11223012622,26783.9371095967,28399.88672547508,47028.886548878385,5047.620037656994,33161.89307897762,35921.36135496611,37786.43494642502,14183.17512012567,40408.175491295406,38855.92095292475,26974.375770261526,33316.08045994914,20439.540094405384,13481.631447418258,16765.75320125428,-3866.452934804369,28358.947452296354,5559.9855182061365,27362.025128848054,27943.392734709538,17074.44888171051,5208.44047320521,28036.127787896196,40288.08560427725,32900.963018048016,37381.5142489165,-874.5197889149094,30728.077290059333,20116.27942186638,-419.8907639793724],\"type\":\"scatter\"}],                        {\"template\":{\"data\":{\"bar\":[{\"error_x\":{\"color\":\"#2a3f5f\"},\"error_y\":{\"color\":\"#2a3f5f\"},\"marker\":{\"line\":{\"color\":\"#E5ECF6\",\"width\":0.5},\"pattern\":{\"fillmode\":\"overlay\",\"size\":10,\"solidity\":0.2}},\"type\":\"bar\"}],\"barpolar\":[{\"marker\":{\"line\":{\"color\":\"#E5ECF6\",\"width\":0.5},\"pattern\":{\"fillmode\":\"overlay\",\"size\":10,\"solidity\":0.2}},\"type\":\"barpolar\"}],\"carpet\":[{\"aaxis\":{\"endlinecolor\":\"#2a3f5f\",\"gridcolor\":\"white\",\"linecolor\":\"white\",\"minorgridcolor\":\"white\",\"startlinecolor\":\"#2a3f5f\"},\"baxis\":{\"endlinecolor\":\"#2a3f5f\",\"gridcolor\":\"white\",\"linecolor\":\"white\",\"minorgridcolor\":\"white\",\"startlinecolor\":\"#2a3f5f\"},\"type\":\"carpet\"}],\"choropleth\":[{\"colorbar\":{\"outlinewidth\":0,\"ticks\":\"\"},\"type\":\"choropleth\"}],\"contour\":[{\"colorbar\":{\"outlinewidth\":0,\"ticks\":\"\"},\"colorscale\":[[0.0,\"#0d0887\"],[0.1111111111111111,\"#46039f\"],[0.2222222222222222,\"#7201a8\"],[0.3333333333333333,\"#9c179e\"],[0.4444444444444444,\"#bd3786\"],[0.5555555555555556,\"#d8576b\"],[0.6666666666666666,\"#ed7953\"],[0.7777777777777778,\"#fb9f3a\"],[0.8888888888888888,\"#fdca26\"],[1.0,\"#f0f921\"]],\"type\":\"contour\"}],\"contourcarpet\":[{\"colorbar\":{\"outlinewidth\":0,\"ticks\":\"\"},\"type\":\"contourcarpet\"}],\"heatmap\":[{\"colorbar\":{\"outlinewidth\":0,\"ticks\":\"\"},\"colorscale\":[[0.0,\"#0d0887\"],[0.1111111111111111,\"#46039f\"],[0.2222222222222222,\"#7201a8\"],[0.3333333333333333,\"#9c179e\"],[0.4444444444444444,\"#bd3786\"],[0.5555555555555556,\"#d8576b\"],[0.6666666666666666,\"#ed7953\"],[0.7777777777777778,\"#fb9f3a\"],[0.8888888888888888,\"#fdca26\"],[1.0,\"#f0f921\"]],\"type\":\"heatmap\"}],\"heatmapgl\":[{\"colorbar\":{\"outlinewidth\":0,\"ticks\":\"\"},\"colorscale\":[[0.0,\"#0d0887\"],[0.1111111111111111,\"#46039f\"],[0.2222222222222222,\"#7201a8\"],[0.3333333333333333,\"#9c179e\"],[0.4444444444444444,\"#bd3786\"],[0.5555555555555556,\"#d8576b\"],[0.6666666666666666,\"#ed7953\"],[0.7777777777777778,\"#fb9f3a\"],[0.8888888888888888,\"#fdca26\"],[1.0,\"#f0f921\"]],\"type\":\"heatmapgl\"}],\"histogram\":[{\"marker\":{\"pattern\":{\"fillmode\":\"overlay\",\"size\":10,\"solidity\":0.2}},\"type\":\"histogram\"}],\"histogram2d\":[{\"colorbar\":{\"outlinewidth\":0,\"ticks\":\"\"},\"colorscale\":[[0.0,\"#0d0887\"],[0.1111111111111111,\"#46039f\"],[0.2222222222222222,\"#7201a8\"],[0.3333333333333333,\"#9c179e\"],[0.4444444444444444,\"#bd3786\"],[0.5555555555555556,\"#d8576b\"],[0.6666666666666666,\"#ed7953\"],[0.7777777777777778,\"#fb9f3a\"],[0.8888888888888888,\"#fdca26\"],[1.0,\"#f0f921\"]],\"type\":\"histogram2d\"}],\"histogram2dcontour\":[{\"colorbar\":{\"outlinewidth\":0,\"ticks\":\"\"},\"colorscale\":[[0.0,\"#0d0887\"],[0.1111111111111111,\"#46039f\"],[0.2222222222222222,\"#7201a8\"],[0.3333333333333333,\"#9c179e\"],[0.4444444444444444,\"#bd3786\"],[0.5555555555555556,\"#d8576b\"],[0.6666666666666666,\"#ed7953\"],[0.7777777777777778,\"#fb9f3a\"],[0.8888888888888888,\"#fdca26\"],[1.0,\"#f0f921\"]],\"type\":\"histogram2dcontour\"}],\"mesh3d\":[{\"colorbar\":{\"outlinewidth\":0,\"ticks\":\"\"},\"type\":\"mesh3d\"}],\"parcoords\":[{\"line\":{\"colorbar\":{\"outlinewidth\":0,\"ticks\":\"\"}},\"type\":\"parcoords\"}],\"pie\":[{\"automargin\":true,\"type\":\"pie\"}],\"scatter\":[{\"marker\":{\"colorbar\":{\"outlinewidth\":0,\"ticks\":\"\"}},\"type\":\"scatter\"}],\"scatter3d\":[{\"line\":{\"colorbar\":{\"outlinewidth\":0,\"ticks\":\"\"}},\"marker\":{\"colorbar\":{\"outlinewidth\":0,\"ticks\":\"\"}},\"type\":\"scatter3d\"}],\"scattercarpet\":[{\"marker\":{\"colorbar\":{\"outlinewidth\":0,\"ticks\":\"\"}},\"type\":\"scattercarpet\"}],\"scattergeo\":[{\"marker\":{\"colorbar\":{\"outlinewidth\":0,\"ticks\":\"\"}},\"type\":\"scattergeo\"}],\"scattergl\":[{\"marker\":{\"colorbar\":{\"outlinewidth\":0,\"ticks\":\"\"}},\"type\":\"scattergl\"}],\"scattermapbox\":[{\"marker\":{\"colorbar\":{\"outlinewidth\":0,\"ticks\":\"\"}},\"type\":\"scattermapbox\"}],\"scatterpolar\":[{\"marker\":{\"colorbar\":{\"outlinewidth\":0,\"ticks\":\"\"}},\"type\":\"scatterpolar\"}],\"scatterpolargl\":[{\"marker\":{\"colorbar\":{\"outlinewidth\":0,\"ticks\":\"\"}},\"type\":\"scatterpolargl\"}],\"scatterternary\":[{\"marker\":{\"colorbar\":{\"outlinewidth\":0,\"ticks\":\"\"}},\"type\":\"scatterternary\"}],\"surface\":[{\"colorbar\":{\"outlinewidth\":0,\"ticks\":\"\"},\"colorscale\":[[0.0,\"#0d0887\"],[0.1111111111111111,\"#46039f\"],[0.2222222222222222,\"#7201a8\"],[0.3333333333333333,\"#9c179e\"],[0.4444444444444444,\"#bd3786\"],[0.5555555555555556,\"#d8576b\"],[0.6666666666666666,\"#ed7953\"],[0.7777777777777778,\"#fb9f3a\"],[0.8888888888888888,\"#fdca26\"],[1.0,\"#f0f921\"]],\"type\":\"surface\"}],\"table\":[{\"cells\":{\"fill\":{\"color\":\"#EBF0F8\"},\"line\":{\"color\":\"white\"}},\"header\":{\"fill\":{\"color\":\"#C8D4E3\"},\"line\":{\"color\":\"white\"}},\"type\":\"table\"}]},\"layout\":{\"annotationdefaults\":{\"arrowcolor\":\"#2a3f5f\",\"arrowhead\":0,\"arrowwidth\":1},\"autotypenumbers\":\"strict\",\"coloraxis\":{\"colorbar\":{\"outlinewidth\":0,\"ticks\":\"\"}},\"colorscale\":{\"diverging\":[[0,\"#8e0152\"],[0.1,\"#c51b7d\"],[0.2,\"#de77ae\"],[0.3,\"#f1b6da\"],[0.4,\"#fde0ef\"],[0.5,\"#f7f7f7\"],[0.6,\"#e6f5d0\"],[0.7,\"#b8e186\"],[0.8,\"#7fbc41\"],[0.9,\"#4d9221\"],[1,\"#276419\"]],\"sequential\":[[0.0,\"#0d0887\"],[0.1111111111111111,\"#46039f\"],[0.2222222222222222,\"#7201a8\"],[0.3333333333333333,\"#9c179e\"],[0.4444444444444444,\"#bd3786\"],[0.5555555555555556,\"#d8576b\"],[0.6666666666666666,\"#ed7953\"],[0.7777777777777778,\"#fb9f3a\"],[0.8888888888888888,\"#fdca26\"],[1.0,\"#f0f921\"]],\"sequentialminus\":[[0.0,\"#0d0887\"],[0.1111111111111111,\"#46039f\"],[0.2222222222222222,\"#7201a8\"],[0.3333333333333333,\"#9c179e\"],[0.4444444444444444,\"#bd3786\"],[0.5555555555555556,\"#d8576b\"],[0.6666666666666666,\"#ed7953\"],[0.7777777777777778,\"#fb9f3a\"],[0.8888888888888888,\"#fdca26\"],[1.0,\"#f0f921\"]]},\"colorway\":[\"#636efa\",\"#EF553B\",\"#00cc96\",\"#ab63fa\",\"#FFA15A\",\"#19d3f3\",\"#FF6692\",\"#B6E880\",\"#FF97FF\",\"#FECB52\"],\"font\":{\"color\":\"#2a3f5f\"},\"geo\":{\"bgcolor\":\"white\",\"lakecolor\":\"white\",\"landcolor\":\"#E5ECF6\",\"showlakes\":true,\"showland\":true,\"subunitcolor\":\"white\"},\"hoverlabel\":{\"align\":\"left\"},\"hovermode\":\"closest\",\"mapbox\":{\"style\":\"light\"},\"paper_bgcolor\":\"white\",\"plot_bgcolor\":\"#E5ECF6\",\"polar\":{\"angularaxis\":{\"gridcolor\":\"white\",\"linecolor\":\"white\",\"ticks\":\"\"},\"bgcolor\":\"#E5ECF6\",\"radialaxis\":{\"gridcolor\":\"white\",\"linecolor\":\"white\",\"ticks\":\"\"}},\"scene\":{\"xaxis\":{\"backgroundcolor\":\"#E5ECF6\",\"gridcolor\":\"white\",\"gridwidth\":2,\"linecolor\":\"white\",\"showbackground\":true,\"ticks\":\"\",\"zerolinecolor\":\"white\"},\"yaxis\":{\"backgroundcolor\":\"#E5ECF6\",\"gridcolor\":\"white\",\"gridwidth\":2,\"linecolor\":\"white\",\"showbackground\":true,\"ticks\":\"\",\"zerolinecolor\":\"white\"},\"zaxis\":{\"backgroundcolor\":\"#E5ECF6\",\"gridcolor\":\"white\",\"gridwidth\":2,\"linecolor\":\"white\",\"showbackground\":true,\"ticks\":\"\",\"zerolinecolor\":\"white\"}},\"shapedefaults\":{\"line\":{\"color\":\"#2a3f5f\"}},\"ternary\":{\"aaxis\":{\"gridcolor\":\"white\",\"linecolor\":\"white\",\"ticks\":\"\"},\"baxis\":{\"gridcolor\":\"white\",\"linecolor\":\"white\",\"ticks\":\"\"},\"bgcolor\":\"#E5ECF6\",\"caxis\":{\"gridcolor\":\"white\",\"linecolor\":\"white\",\"ticks\":\"\"}},\"title\":{\"x\":0.05},\"xaxis\":{\"automargin\":true,\"gridcolor\":\"white\",\"linecolor\":\"white\",\"ticks\":\"\",\"title\":{\"standoff\":15},\"zerolinecolor\":\"white\",\"zerolinewidth\":2},\"yaxis\":{\"automargin\":true,\"gridcolor\":\"white\",\"linecolor\":\"white\",\"ticks\":\"\",\"title\":{\"standoff\":15},\"zerolinecolor\":\"white\",\"zerolinewidth\":2}}}},                        {\"responsive\": true}                    ).then(function(){\n",
       "                            \n",
       "var gd = document.getElementById('3c29a659-5d3d-482c-8d71-8ce8877d0d95');\n",
       "var x = new MutationObserver(function (mutations, observer) {{\n",
       "        var display = window.getComputedStyle(gd).display;\n",
       "        if (!display || display === 'none') {{\n",
       "            console.log([gd, 'removed!']);\n",
       "            Plotly.purge(gd);\n",
       "            observer.disconnect();\n",
       "        }}\n",
       "}});\n",
       "\n",
       "// Listen for the removal of the full notebook cells\n",
       "var notebookContainer = gd.closest('#notebook-container');\n",
       "if (notebookContainer) {{\n",
       "    x.observe(notebookContainer, {childList: true});\n",
       "}}\n",
       "\n",
       "// Listen for the clearing of the current output cell\n",
       "var outputEl = gd.closest('.output');\n",
       "if (outputEl) {{\n",
       "    x.observe(outputEl, {childList: true});\n",
       "}}\n",
       "\n",
       "                        })                };                });            </script>        </div>"
      ]
     },
     "metadata": {},
     "output_type": "display_data"
    }
   ],
   "source": [
    "plot(val, 'price_imp', ['linear regression', 'Stochastic regression'], sample = True, sample_size = .2)"
   ]
  },
  {
   "cell_type": "markdown",
   "id": "ddf6e372",
   "metadata": {},
   "source": [
    "## KS y Chi-square"
   ]
  },
  {
   "cell_type": "code",
   "execution_count": 53,
   "id": "c9ed2a4b",
   "metadata": {},
   "outputs": [],
   "source": [
    "from scipy.stats import ks_2samp, chisquare #Importamos KS y Chisquare"
   ]
  },
  {
   "cell_type": "code",
   "execution_count": 54,
   "id": "6699b753",
   "metadata": {},
   "outputs": [],
   "source": [
    "ks_2samp?"
   ]
  },
  {
   "cell_type": "code",
   "execution_count": 55,
   "id": "1f60ae2e",
   "metadata": {},
   "outputs": [
    {
     "data": {
      "text/html": [
       "<div>\n",
       "<style scoped>\n",
       "    .dataframe tbody tr th:only-of-type {\n",
       "        vertical-align: middle;\n",
       "    }\n",
       "\n",
       "    .dataframe tbody tr th {\n",
       "        vertical-align: top;\n",
       "    }\n",
       "\n",
       "    .dataframe thead th {\n",
       "        text-align: right;\n",
       "    }\n",
       "</style>\n",
       "<table border=\"1\" class=\"dataframe\">\n",
       "  <thead>\n",
       "    <tr style=\"text-align: right;\">\n",
       "      <th></th>\n",
       "      <th>year</th>\n",
       "      <th>price</th>\n",
       "      <th>mileage</th>\n",
       "      <th>year_imp</th>\n",
       "      <th>price_imp</th>\n",
       "      <th>mileage_imp</th>\n",
       "      <th>year_ind</th>\n",
       "      <th>price_ind</th>\n",
       "      <th>mileage_ind</th>\n",
       "    </tr>\n",
       "  </thead>\n",
       "  <tbody>\n",
       "    <tr>\n",
       "      <th>0</th>\n",
       "      <td>2020.0</td>\n",
       "      <td>30495</td>\n",
       "      <td>NaN</td>\n",
       "      <td>2020.0</td>\n",
       "      <td>30495.0</td>\n",
       "      <td>7585.0</td>\n",
       "      <td>0.0</td>\n",
       "      <td>0.0</td>\n",
       "      <td>1.0</td>\n",
       "    </tr>\n",
       "    <tr>\n",
       "      <th>1</th>\n",
       "      <td>2020.0</td>\n",
       "      <td>29989</td>\n",
       "      <td>NaN</td>\n",
       "      <td>2020.0</td>\n",
       "      <td>29989.0</td>\n",
       "      <td>5970.6</td>\n",
       "      <td>0.0</td>\n",
       "      <td>0.0</td>\n",
       "      <td>1.0</td>\n",
       "    </tr>\n",
       "    <tr>\n",
       "      <th>2</th>\n",
       "      <td>2020.0</td>\n",
       "      <td>37899</td>\n",
       "      <td>NaN</td>\n",
       "      <td>2020.0</td>\n",
       "      <td>37899.0</td>\n",
       "      <td>8219.2</td>\n",
       "      <td>0.0</td>\n",
       "      <td>0.0</td>\n",
       "      <td>1.0</td>\n",
       "    </tr>\n",
       "    <tr>\n",
       "      <th>3</th>\n",
       "      <td>2019.0</td>\n",
       "      <td>30399</td>\n",
       "      <td>NaN</td>\n",
       "      <td>2019.0</td>\n",
       "      <td>30399.0</td>\n",
       "      <td>6758.2</td>\n",
       "      <td>0.0</td>\n",
       "      <td>0.0</td>\n",
       "      <td>1.0</td>\n",
       "    </tr>\n",
       "    <tr>\n",
       "      <th>4</th>\n",
       "      <td>2019.0</td>\n",
       "      <td>29899</td>\n",
       "      <td>NaN</td>\n",
       "      <td>2019.0</td>\n",
       "      <td>29899.0</td>\n",
       "      <td>7028.6</td>\n",
       "      <td>0.0</td>\n",
       "      <td>0.0</td>\n",
       "      <td>1.0</td>\n",
       "    </tr>\n",
       "    <tr>\n",
       "      <th>...</th>\n",
       "      <td>...</td>\n",
       "      <td>...</td>\n",
       "      <td>...</td>\n",
       "      <td>...</td>\n",
       "      <td>...</td>\n",
       "      <td>...</td>\n",
       "      <td>...</td>\n",
       "      <td>...</td>\n",
       "      <td>...</td>\n",
       "    </tr>\n",
       "    <tr>\n",
       "      <th>4001</th>\n",
       "      <td>2017.0</td>\n",
       "      <td>14700</td>\n",
       "      <td>31357.0</td>\n",
       "      <td>2017.0</td>\n",
       "      <td>14700.0</td>\n",
       "      <td>31357.0</td>\n",
       "      <td>0.0</td>\n",
       "      <td>0.0</td>\n",
       "      <td>0.0</td>\n",
       "    </tr>\n",
       "    <tr>\n",
       "      <th>4002</th>\n",
       "      <td>2018.0</td>\n",
       "      <td>18500</td>\n",
       "      <td>28248.0</td>\n",
       "      <td>2018.0</td>\n",
       "      <td>18500.0</td>\n",
       "      <td>28248.0</td>\n",
       "      <td>0.0</td>\n",
       "      <td>0.0</td>\n",
       "      <td>0.0</td>\n",
       "    </tr>\n",
       "    <tr>\n",
       "      <th>4003</th>\n",
       "      <td>2014.0</td>\n",
       "      <td>11900</td>\n",
       "      <td>48055.0</td>\n",
       "      <td>2014.0</td>\n",
       "      <td>11900.0</td>\n",
       "      <td>48055.0</td>\n",
       "      <td>0.0</td>\n",
       "      <td>0.0</td>\n",
       "      <td>0.0</td>\n",
       "    </tr>\n",
       "    <tr>\n",
       "      <th>4004</th>\n",
       "      <td>2014.0</td>\n",
       "      <td>11300</td>\n",
       "      <td>49865.0</td>\n",
       "      <td>2014.0</td>\n",
       "      <td>11300.0</td>\n",
       "      <td>49865.0</td>\n",
       "      <td>0.0</td>\n",
       "      <td>0.0</td>\n",
       "      <td>0.0</td>\n",
       "    </tr>\n",
       "    <tr>\n",
       "      <th>4005</th>\n",
       "      <td>2014.0</td>\n",
       "      <td>14800</td>\n",
       "      <td>55445.0</td>\n",
       "      <td>2014.0</td>\n",
       "      <td>14800.0</td>\n",
       "      <td>55445.0</td>\n",
       "      <td>0.0</td>\n",
       "      <td>0.0</td>\n",
       "      <td>0.0</td>\n",
       "    </tr>\n",
       "  </tbody>\n",
       "</table>\n",
       "<p>4006 rows × 9 columns</p>\n",
       "</div>"
      ],
      "text/plain": [
       "        year  price  mileage  year_imp  price_imp  mileage_imp  year_ind  \\\n",
       "0     2020.0  30495      NaN    2020.0    30495.0       7585.0       0.0   \n",
       "1     2020.0  29989      NaN    2020.0    29989.0       5970.6       0.0   \n",
       "2     2020.0  37899      NaN    2020.0    37899.0       8219.2       0.0   \n",
       "3     2019.0  30399      NaN    2019.0    30399.0       6758.2       0.0   \n",
       "4     2019.0  29899      NaN    2019.0    29899.0       7028.6       0.0   \n",
       "...      ...    ...      ...       ...        ...          ...       ...   \n",
       "4001  2017.0  14700  31357.0    2017.0    14700.0      31357.0       0.0   \n",
       "4002  2018.0  18500  28248.0    2018.0    18500.0      28248.0       0.0   \n",
       "4003  2014.0  11900  48055.0    2014.0    11900.0      48055.0       0.0   \n",
       "4004  2014.0  11300  49865.0    2014.0    11300.0      49865.0       0.0   \n",
       "4005  2014.0  14800  55445.0    2014.0    14800.0      55445.0       0.0   \n",
       "\n",
       "      price_ind  mileage_ind  \n",
       "0           0.0          1.0  \n",
       "1           0.0          1.0  \n",
       "2           0.0          1.0  \n",
       "3           0.0          1.0  \n",
       "4           0.0          1.0  \n",
       "...         ...          ...  \n",
       "4001        0.0          0.0  \n",
       "4002        0.0          0.0  \n",
       "4003        0.0          0.0  \n",
       "4004        0.0          0.0  \n",
       "4005        0.0          0.0  \n",
       "\n",
       "[4006 rows x 9 columns]"
      ]
     },
     "execution_count": 55,
     "metadata": {},
     "output_type": "execute_result"
    }
   ],
   "source": [
    "aux3 #Usamos el de KNN"
   ]
  },
  {
   "cell_type": "code",
   "execution_count": 56,
   "id": "a5bdf738",
   "metadata": {},
   "outputs": [],
   "source": [
    "rsp1 = aux3['price_imp']\n",
    "rsm1 = aux3['mileage_imp']\n",
    "rsp2 = aux3['price_imp'].loc[aux3['price'].isna() == False]\n",
    "rsm2 = aux3['mileage_imp'].loc[aux3['mileage'].isna() == False]"
   ]
  },
  {
   "cell_type": "code",
   "execution_count": 57,
   "id": "fdb5cafa",
   "metadata": {},
   "outputs": [
    {
     "data": {
      "text/plain": [
       "0"
      ]
     },
     "execution_count": 57,
     "metadata": {},
     "output_type": "execute_result"
    }
   ],
   "source": [
    "import random as rn\n",
    "rn.randint(0,5)"
   ]
  },
  {
   "cell_type": "code",
   "execution_count": 58,
   "id": "01dd4dad",
   "metadata": {},
   "outputs": [
    {
     "data": {
      "text/plain": [
       "KstestResult(statistic=0.96, pvalue=9.812536491204155e-26)"
      ]
     },
     "execution_count": 58,
     "metadata": {},
     "output_type": "execute_result"
    }
   ],
   "source": [
    "ks_2samp([i for i in range(50)], [i+rn.randint(0,5) for i in range(-50, 0)]) # Distribuciones distintas"
   ]
  },
  {
   "cell_type": "code",
   "execution_count": 59,
   "id": "e9ae070e",
   "metadata": {},
   "outputs": [
    {
     "data": {
      "text/plain": [
       "KstestResult(statistic=0.0, pvalue=1.0)"
      ]
     },
     "execution_count": 59,
     "metadata": {},
     "output_type": "execute_result"
    }
   ],
   "source": [
    "ks_2samp([i for i in range(50)], [i for i in range(50)]) # Distribuciones iguales"
   ]
  },
  {
   "cell_type": "code",
   "execution_count": 60,
   "id": "9bc4bed4",
   "metadata": {},
   "outputs": [
    {
     "data": {
      "text/plain": [
       "KstestResult(statistic=0.013049085189722455, pvalue=0.882796852588368)"
      ]
     },
     "execution_count": 60,
     "metadata": {},
     "output_type": "execute_result"
    }
   ],
   "source": [
    "# KS\n",
    "ks_2samp(rsp1, rsp2)"
   ]
  },
  {
   "cell_type": "code",
   "execution_count": 61,
   "id": "72e512d2",
   "metadata": {},
   "outputs": [
    {
     "data": {
      "text/plain": [
       "KstestResult(statistic=0.021390647274817078, pvalue=0.3273621400824941)"
      ]
     },
     "execution_count": 61,
     "metadata": {},
     "output_type": "execute_result"
    }
   ],
   "source": [
    "ks_2samp(rsm1, rsm2)"
   ]
  },
  {
   "cell_type": "markdown",
   "id": "83198ef1",
   "metadata": {},
   "source": [
    "La prueba nos muestra el pvalue, si nosotros asginaramos un nivel de significancia $\\alpha$ = .05, entonces requeriríamos que el pvalue fuese menor a ese .05. En este caso no se cumple, por lo que no podemos rechazar la hiótesis nula de que ambos provienen de una misma muestra aleatoria.\n",
    "\n",
    "Por ende, dado que el pvalue nos reporta que no es menor que nuestro alpha, podemos no rechazar la hipótesis nula. "
   ]
  },
  {
   "cell_type": "code",
   "execution_count": 62,
   "id": "b3fc48d2",
   "metadata": {},
   "outputs": [
    {
     "data": {
      "text/plain": [
       "KstestResult(statistic=0.2736318407960199, pvalue=4.986174989865231e-07)"
      ]
     },
     "execution_count": 62,
     "metadata": {},
     "output_type": "execute_result"
    }
   ],
   "source": [
    "# KS\n",
    "\n",
    "ks_2samp(val['linear regression'], val['Stochastic regression'])"
   ]
  },
  {
   "cell_type": "code",
   "execution_count": 63,
   "id": "fcd06e16",
   "metadata": {},
   "outputs": [
    {
     "data": {
      "text/plain": [
       "Index(['year_imp', 'price_imp', 'year_ind', 'price_ind', 'mileage',\n",
       "       'linear regression', 'linear regression abs', 'linear regression min',\n",
       "       'Stochastic regression'],\n",
       "      dtype='object')"
      ]
     },
     "execution_count": 63,
     "metadata": {},
     "output_type": "execute_result"
    }
   ],
   "source": [
    "val.columns"
   ]
  },
  {
   "cell_type": "code",
   "execution_count": 64,
   "id": "9438598c",
   "metadata": {},
   "outputs": [
    {
     "data": {
      "text/plain": [
       "KstestResult(statistic=0.04477611940298507, pvalue=0.9881281871806125)"
      ]
     },
     "execution_count": 64,
     "metadata": {},
     "output_type": "execute_result"
    }
   ],
   "source": [
    "ks_2samp(val['linear regression'], val['linear regression min'])"
   ]
  },
  {
   "cell_type": "code",
   "execution_count": 65,
   "id": "c3e69e56",
   "metadata": {},
   "outputs": [
    {
     "data": {
      "text/plain": [
       "KstestResult(statistic=0.04477611940298507, pvalue=0.9881281871806125)"
      ]
     },
     "execution_count": 65,
     "metadata": {},
     "output_type": "execute_result"
    }
   ],
   "source": [
    "ks_2samp(val['linear regression'], val['linear regression abs'])"
   ]
  },
  {
   "cell_type": "code",
   "execution_count": 66,
   "id": "e6f49c18",
   "metadata": {},
   "outputs": [
    {
     "data": {
      "text/plain": [
       "KstestResult(statistic=0.04477611940298507, pvalue=0.9881281871806125)"
      ]
     },
     "execution_count": 66,
     "metadata": {},
     "output_type": "execute_result"
    }
   ],
   "source": [
    "ks_2samp(val['linear regression min'], val['linear regression abs'])"
   ]
  },
  {
   "cell_type": "markdown",
   "id": "e4cf2725",
   "metadata": {},
   "source": [
    "# Chi"
   ]
  },
  {
   "cell_type": "code",
   "execution_count": 67,
   "id": "237e53cf",
   "metadata": {},
   "outputs": [],
   "source": [
    "chisquare?"
   ]
  },
  {
   "cell_type": "code",
   "execution_count": 68,
   "id": "e807e244",
   "metadata": {},
   "outputs": [
    {
     "data": {
      "text/html": [
       "<div>\n",
       "<style scoped>\n",
       "    .dataframe tbody tr th:only-of-type {\n",
       "        vertical-align: middle;\n",
       "    }\n",
       "\n",
       "    .dataframe tbody tr th {\n",
       "        vertical-align: top;\n",
       "    }\n",
       "\n",
       "    .dataframe thead th {\n",
       "        text-align: right;\n",
       "    }\n",
       "</style>\n",
       "<table border=\"1\" class=\"dataframe\">\n",
       "  <thead>\n",
       "    <tr style=\"text-align: right;\">\n",
       "      <th></th>\n",
       "      <th>gender</th>\n",
       "      <th>major_discipline</th>\n",
       "      <th>gender_imp_mode</th>\n",
       "      <th>major_discipline_imp_fixed_value</th>\n",
       "    </tr>\n",
       "  </thead>\n",
       "  <tbody>\n",
       "    <tr>\n",
       "      <th>0</th>\n",
       "      <td>Male</td>\n",
       "      <td>STEM</td>\n",
       "      <td>Male</td>\n",
       "      <td>STEM</td>\n",
       "    </tr>\n",
       "    <tr>\n",
       "      <th>1</th>\n",
       "      <td>Male</td>\n",
       "      <td>STEM</td>\n",
       "      <td>Male</td>\n",
       "      <td>STEM</td>\n",
       "    </tr>\n",
       "    <tr>\n",
       "      <th>2</th>\n",
       "      <td>NaN</td>\n",
       "      <td>STEM</td>\n",
       "      <td>Other</td>\n",
       "      <td>STEM</td>\n",
       "    </tr>\n",
       "    <tr>\n",
       "      <th>3</th>\n",
       "      <td>NaN</td>\n",
       "      <td>Business Degree</td>\n",
       "      <td>Other</td>\n",
       "      <td>Business Degree</td>\n",
       "    </tr>\n",
       "    <tr>\n",
       "      <th>4</th>\n",
       "      <td>Male</td>\n",
       "      <td>STEM</td>\n",
       "      <td>Male</td>\n",
       "      <td>STEM</td>\n",
       "    </tr>\n",
       "    <tr>\n",
       "      <th>...</th>\n",
       "      <td>...</td>\n",
       "      <td>...</td>\n",
       "      <td>...</td>\n",
       "      <td>...</td>\n",
       "    </tr>\n",
       "    <tr>\n",
       "      <th>19153</th>\n",
       "      <td>Male</td>\n",
       "      <td>Humanities</td>\n",
       "      <td>Male</td>\n",
       "      <td>Humanities</td>\n",
       "    </tr>\n",
       "    <tr>\n",
       "      <th>19154</th>\n",
       "      <td>Male</td>\n",
       "      <td>STEM</td>\n",
       "      <td>Male</td>\n",
       "      <td>STEM</td>\n",
       "    </tr>\n",
       "    <tr>\n",
       "      <th>19155</th>\n",
       "      <td>Male</td>\n",
       "      <td>STEM</td>\n",
       "      <td>Male</td>\n",
       "      <td>STEM</td>\n",
       "    </tr>\n",
       "    <tr>\n",
       "      <th>19156</th>\n",
       "      <td>Male</td>\n",
       "      <td>NaN</td>\n",
       "      <td>Male</td>\n",
       "      <td>STEM</td>\n",
       "    </tr>\n",
       "    <tr>\n",
       "      <th>19157</th>\n",
       "      <td>NaN</td>\n",
       "      <td>NaN</td>\n",
       "      <td>Other</td>\n",
       "      <td>STEM</td>\n",
       "    </tr>\n",
       "  </tbody>\n",
       "</table>\n",
       "<p>19158 rows × 4 columns</p>\n",
       "</div>"
      ],
      "text/plain": [
       "      gender major_discipline gender_imp_mode major_discipline_imp_fixed_value\n",
       "0       Male             STEM            Male                             STEM\n",
       "1       Male             STEM            Male                             STEM\n",
       "2        NaN             STEM           Other                             STEM\n",
       "3        NaN  Business Degree           Other                  Business Degree\n",
       "4       Male             STEM            Male                             STEM\n",
       "...      ...              ...             ...                              ...\n",
       "19153   Male       Humanities            Male                       Humanities\n",
       "19154   Male             STEM            Male                             STEM\n",
       "19155   Male             STEM            Male                             STEM\n",
       "19156   Male              NaN            Male                             STEM\n",
       "19157    NaN              NaN           Other                             STEM\n",
       "\n",
       "[19158 rows x 4 columns]"
      ]
     },
     "execution_count": 68,
     "metadata": {},
     "output_type": "execute_result"
    }
   ],
   "source": [
    "aux1"
   ]
  },
  {
   "cell_type": "code",
   "execution_count": 69,
   "id": "7f5bf048",
   "metadata": {},
   "outputs": [
    {
     "data": {
      "text/plain": [
       "Power_divergenceResult(statistic=4.191527958736933, pvalue=0.12297625643366397)"
      ]
     },
     "execution_count": 69,
     "metadata": {},
     "output_type": "execute_result"
    }
   ],
   "source": [
    "# Chi\n",
    "\n",
    "chisquare(f_obs = aux1['gender_imp_mode'].value_counts(True).sort_index().values,\n",
    "          f_exp = aux1['gender'].value_counts(True).sort_index().values)"
   ]
  },
  {
   "cell_type": "code",
   "execution_count": 70,
   "id": "62d7fe49",
   "metadata": {},
   "outputs": [
    {
     "data": {
      "text/plain": [
       "Male      0.690103\n",
       "NaN       0.235306\n",
       "Female    0.064621\n",
       "Other     0.009970\n",
       "Name: gender, dtype: float64"
      ]
     },
     "execution_count": 70,
     "metadata": {},
     "output_type": "execute_result"
    }
   ],
   "source": [
    "aux1['gender'].value_counts(1, dropna = False)"
   ]
  },
  {
   "cell_type": "code",
   "execution_count": 71,
   "id": "e3ae9f56",
   "metadata": {},
   "outputs": [
    {
     "data": {
      "text/plain": [
       "Male      0.690103\n",
       "Other     0.245276\n",
       "Female    0.064621\n",
       "Name: gender_imp_mode, dtype: float64"
      ]
     },
     "execution_count": 71,
     "metadata": {},
     "output_type": "execute_result"
    }
   ],
   "source": [
    "aux1['gender_imp_mode'].value_counts(1, dropna = False)"
   ]
  },
  {
   "cell_type": "markdown",
   "id": "19c5f105",
   "metadata": {},
   "source": [
    "La prueba nos muestra el pvalue, si nosotros asginaramos un nivel de significancia $\\alpha$ = .05, entonces requeriríamos que el pvalue fuese menor a ese .05. En este caso no se cumple, por lo que no podemos rechazar la hiótesis nula de que ambos provienen de una misma muestra aleatoria."
   ]
  },
  {
   "cell_type": "code",
   "execution_count": 72,
   "id": "599b675b",
   "metadata": {},
   "outputs": [
    {
     "data": {
      "text/html": [
       "<div>\n",
       "<style scoped>\n",
       "    .dataframe tbody tr th:only-of-type {\n",
       "        vertical-align: middle;\n",
       "    }\n",
       "\n",
       "    .dataframe tbody tr th {\n",
       "        vertical-align: top;\n",
       "    }\n",
       "\n",
       "    .dataframe thead th {\n",
       "        text-align: right;\n",
       "    }\n",
       "</style>\n",
       "<table border=\"1\" class=\"dataframe\">\n",
       "  <thead>\n",
       "    <tr style=\"text-align: right;\">\n",
       "      <th></th>\n",
       "      <th>gender_imp_mode</th>\n",
       "      <th>prueba</th>\n",
       "    </tr>\n",
       "  </thead>\n",
       "  <tbody>\n",
       "    <tr>\n",
       "      <th>Male</th>\n",
       "      <td>0.690103</td>\n",
       "      <td>0.05</td>\n",
       "    </tr>\n",
       "    <tr>\n",
       "      <th>Other</th>\n",
       "      <td>0.245276</td>\n",
       "      <td>0.90</td>\n",
       "    </tr>\n",
       "    <tr>\n",
       "      <th>Female</th>\n",
       "      <td>0.064621</td>\n",
       "      <td>0.05</td>\n",
       "    </tr>\n",
       "  </tbody>\n",
       "</table>\n",
       "</div>"
      ],
      "text/plain": [
       "        gender_imp_mode  prueba\n",
       "Male           0.690103    0.05\n",
       "Other          0.245276    0.90\n",
       "Female         0.064621    0.05"
      ]
     },
     "execution_count": 72,
     "metadata": {},
     "output_type": "execute_result"
    }
   ],
   "source": [
    "aux4 = pd.DataFrame(aux1['gender_imp_mode'].value_counts(True))\n",
    "aux4['prueba'] = [.05, .90, .05]\n",
    "aux4"
   ]
  },
  {
   "cell_type": "code",
   "execution_count": 73,
   "id": "e798dea5",
   "metadata": {},
   "outputs": [
    {
     "data": {
      "text/plain": [
       "Power_divergenceResult(statistic=8.675213809859189, pvalue=0.013067763214084926)"
      ]
     },
     "execution_count": 73,
     "metadata": {},
     "output_type": "execute_result"
    }
   ],
   "source": [
    "chisquare(f_obs = aux4['gender_imp_mode'].values,\n",
    "          f_exp = aux4['prueba'].values) # Distribuciones distintas"
   ]
  }
 ],
 "metadata": {
  "kernelspec": {
   "display_name": "Python 3 (ipykernel)",
   "language": "python",
   "name": "python3"
  },
  "language_info": {
   "codemirror_mode": {
    "name": "ipython",
    "version": 3
   },
   "file_extension": ".py",
   "mimetype": "text/x-python",
   "name": "python",
   "nbconvert_exporter": "python",
   "pygments_lexer": "ipython3",
   "version": "3.9.6"
  }
 },
 "nbformat": 4,
 "nbformat_minor": 5
}
