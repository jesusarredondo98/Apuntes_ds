{
 "cells": [
  {
   "cell_type": "code",
   "execution_count": 1,
   "id": "ac7be706",
   "metadata": {},
   "outputs": [],
   "source": [
    "import pandas as pd\n",
    "import os\n",
    "\n",
    "pd.set_option('display.max_columns', 500)\n",
    "\n",
    "data_path = os.getcwd()[:-len('notebooks')] + 'Data/'\n",
    "db_credit_card_fraud_detection_small = data_path + 'Credit_card_fraud_detection_small/'\n",
    "db_beijing_path = data_path + 'Beijing_winter_Olympic_Games/'\n",
    "transactional_data = data_path + 'Transactional_data/'"
   ]
  },
  {
   "cell_type": "code",
   "execution_count": 2,
   "id": "613a61a2",
   "metadata": {},
   "outputs": [
    {
     "data": {
      "text/plain": [
       "['.DS_Store',\n",
       " 'goat of tennis.csv',\n",
       " 'Highest Holywood Grossing Movies.csv',\n",
       " 'trains vs planes.csv',\n",
       " 'Loan_Default.csv',\n",
       " 'New York Citibike Trips.csv',\n",
       " 'Business Sales Transaction.csv']"
      ]
     },
     "execution_count": 2,
     "metadata": {},
     "output_type": "execute_result"
    }
   ],
   "source": [
    "os.listdir(transactional_data)"
   ]
  },
  {
   "cell_type": "markdown",
   "id": "e60e8c42",
   "metadata": {},
   "source": [
    "# Beijing"
   ]
  },
  {
   "cell_type": "code",
   "execution_count": 3,
   "id": "c992c942",
   "metadata": {},
   "outputs": [
    {
     "data": {
      "text/plain": [
       "['hockey_results.csv',\n",
       " 'curling_results.csv',\n",
       " 'athletes.csv',\n",
       " 'technical_officials.csv',\n",
       " 'medals_total.csv',\n",
       " 'coaches.csv',\n",
       " 'entries_discipline.csv',\n",
       " 'hockey_players_stats.csv',\n",
       " 'medals.csv',\n",
       " 'events.csv']"
      ]
     },
     "execution_count": 3,
     "metadata": {},
     "output_type": "execute_result"
    }
   ],
   "source": [
    "os.listdir(db_beijing_path)"
   ]
  },
  {
   "cell_type": "markdown",
   "id": "d8f9f616",
   "metadata": {},
   "source": [
    "# Ejercicio Práctica sábado:\n",
    "\n",
    "Como comité olímpico, nos solicitan analizar la relación que existe entre el número de participantes enviados por cada país y el número de medallas obtenidos en los tres niveles. \n",
    "\n",
    "Nos interesa analizar este proceso a nivel país, y nos gustaría poder revisar la cantidad de atletas enviados por cada país (cantidad total, cantidad de mujeres y cantidad de hombres), total de medallas obtenidas, total de medallas de oro, total de medallas de plata y total de medallas de bronce (segmentados por hombres y mujeres). Además de esto, nos interesa contar la cantidad de coaches que envió cada país, de igual forma, divido por mujeres y hombres. Y por último agregar las columnas para los referies, la intención es analizar si la cantidad de personas enviadas por cada país está relacionada con la cantidad de medallas traidas por cada país. "
   ]
  },
  {
   "cell_type": "code",
   "execution_count": 4,
   "id": "0c079983",
   "metadata": {},
   "outputs": [],
   "source": [
    "athletes = pd.read_csv(db_beijing_path + 'athletes.csv')\n",
    "officials = pd.read_csv(db_beijing_path + 'technical_officials.csv')\n",
    "coaches = pd.read_csv(db_beijing_path + 'coaches.csv')\n",
    "medals = pd.read_csv(db_beijing_path + 'medals.csv')"
   ]
  },
  {
   "cell_type": "code",
   "execution_count": 5,
   "id": "2ad0fee9",
   "metadata": {},
   "outputs": [
    {
     "data": {
      "text/plain": [
       "67                     Albania\n",
       "77              American Samoa\n",
       "72                     Andorra\n",
       "61                   Argentina\n",
       "81                     Armenia\n",
       "                ...           \n",
       "33                      Turkey\n",
       "37                     Ukraine\n",
       "38    United States of America\n",
       "30                  Uzbekistan\n",
       "15          Virgin Islands, US\n",
       "Length: 92, dtype: object"
      ]
     },
     "execution_count": 5,
     "metadata": {},
     "output_type": "execute_result"
    }
   ],
   "source": [
    "# Creamos la lista de todos los países\n",
    "countries = list(set(list(athletes['country'].unique()) \n",
    "                     + list(officials['country'].unique())\n",
    "                     + list(coaches['country'].unique())))\n",
    "countries = pd.Series(countries).sort_values()\n",
    "countries"
   ]
  },
  {
   "cell_type": "code",
   "execution_count": 6,
   "id": "af40f566",
   "metadata": {},
   "outputs": [
    {
     "data": {
      "text/plain": [
       "array(['Male', 'Female', 'F', 'M'], dtype=object)"
      ]
     },
     "execution_count": 6,
     "metadata": {},
     "output_type": "execute_result"
    }
   ],
   "source": [
    "# Revisamos que la variable tenga valores únicos\n",
    "athletes['gender'].unique()"
   ]
  },
  {
   "cell_type": "code",
   "execution_count": 7,
   "id": "567993bf",
   "metadata": {},
   "outputs": [
    {
     "data": {
      "text/plain": [
       "array(['Male', 'Female'], dtype=object)"
      ]
     },
     "execution_count": 7,
     "metadata": {},
     "output_type": "execute_result"
    }
   ],
   "source": [
    "# Normalizamos la variable\n",
    "aux_athletes_dict = {\n",
    "    'Male' : 'Male',\n",
    "    'Female': 'Female',\n",
    "    'F': 'Female',\n",
    "    'M': 'Male'\n",
    "}\n",
    "athletes['gender'] = athletes['gender'].map(aux_athletes_dict)\n",
    "athletes['gender'].unique()"
   ]
  },
  {
   "cell_type": "code",
   "execution_count": 8,
   "id": "dc271056",
   "metadata": {},
   "outputs": [
    {
     "data": {
      "text/plain": [
       "array(['Female', 'Male'], dtype=object)"
      ]
     },
     "execution_count": 8,
     "metadata": {},
     "output_type": "execute_result"
    }
   ],
   "source": [
    "# Revisamos que la variable tenga valores únicos\n",
    "officials['gender'].unique()"
   ]
  },
  {
   "cell_type": "code",
   "execution_count": 9,
   "id": "e46547b0",
   "metadata": {},
   "outputs": [
    {
     "data": {
      "text/plain": [
       "array(['Male', 'Female'], dtype=object)"
      ]
     },
     "execution_count": 9,
     "metadata": {},
     "output_type": "execute_result"
    }
   ],
   "source": [
    "# Revisamos que la variable tenga valores únicos\n",
    "coaches['gender'].unique()"
   ]
  },
  {
   "cell_type": "code",
   "execution_count": 10,
   "id": "227d5d1e",
   "metadata": {},
   "outputs": [
    {
     "data": {
      "text/plain": [
       "array(['X', 'W', 'M', 'O'], dtype=object)"
      ]
     },
     "execution_count": 10,
     "metadata": {},
     "output_type": "execute_result"
    }
   ],
   "source": [
    "# Revisamos que la variable tenga valores únicos\n",
    "medals['athlete_sex'].unique()"
   ]
  },
  {
   "cell_type": "markdown",
   "id": "50dd9a5b",
   "metadata": {},
   "source": [
    "Para esta situación en particular, tendremos que idear una alternativa, para poder obtener el sexo del atleta. Para esto utilizaremos diccionarios, los cuales crearemos a partir del dataframe de atletas."
   ]
  },
  {
   "cell_type": "code",
   "execution_count": 11,
   "id": "6695a4af",
   "metadata": {},
   "outputs": [],
   "source": [
    "medals_ = medals.copy()"
   ]
  },
  {
   "cell_type": "code",
   "execution_count": 12,
   "id": "b8bbcb30",
   "metadata": {},
   "outputs": [
    {
     "data": {
      "text/plain": [
       "array(['Female', 'Male'], dtype=object)"
      ]
     },
     "execution_count": 12,
     "metadata": {},
     "output_type": "execute_result"
    }
   ],
   "source": [
    "dictionaries = dict()\n",
    "vars_ = ['name', 'gender', 'country'] # Variables de interés\n",
    "vars_f = ['name', 'gender'] # Llave y valor para el diccionario\n",
    "f_var = 'country' # Variable de filtrado\n",
    "for c in countries:\n",
    "    dictionaries.update(dict(athletes[vars_].loc[athletes[f_var] == c][vars_f].values))\n",
    "\n",
    "medals_['gender'] = medals_['athlete_name'].map(dictionaries)\n",
    "medals_['gender'].unique()"
   ]
  },
  {
   "cell_type": "code",
   "execution_count": 13,
   "id": "d75b3e9a",
   "metadata": {},
   "outputs": [],
   "source": [
    "# 1. Athletes\n",
    "aux_athletes = (athletes[['country', 'gender', 'name']]\n",
    "                .drop_duplicates()\n",
    "                .pivot_table(index = 'country', columns = 'gender', aggfunc = 'count', fill_value = 0, \n",
    "                             values = 'name'))\n",
    "aux_athletes.columns = [c.lower() + '_athletes' for c in aux_athletes.columns]\n",
    "# 2. Officials\n",
    "aux_officials = (officials[['country', 'gender', 'name']]\n",
    "                 .drop_duplicates()\n",
    "                 .pivot_table(index = 'country', columns = 'gender', aggfunc = 'count', fill_value = 0,\n",
    "                            values = 'name'))\n",
    "aux_officials.columns = [c.lower() + '_officials' for c in aux_officials.columns]\n",
    "# 3. Coaches\n",
    "aux_coaches = (coaches[['country', 'gender', 'name']]\n",
    "               .drop_duplicates()\n",
    "               .pivot_table(index = 'country', columns = 'gender', aggfunc = 'count', fill_value = 0,\n",
    "                            values = 'name'))\n",
    "aux_coaches.columns = [c.lower() + '_coaches' for c in aux_coaches.columns]\n",
    "# 4. Medals\n",
    "aux_medals = (medals_[['country', 'gender', 'athlete_name']]\n",
    "                .pivot_table(index = 'country', columns = 'gender', aggfunc = 'count', fill_value = 0,\n",
    "                            values = 'athlete_name'))\n",
    "aux_medals.columns = [c.lower() + '_total_medals' for c in aux_medals.columns]\n",
    "# 5. Female Medals\n",
    "aux_female_medals = (medals_[['country', 'gender', 'medal_type']].loc[medals_['gender'] == 'Female']\n",
    "                     .pivot_table(index = 'country', columns = 'medal_type', aggfunc = 'count',\n",
    "                                  values = 'gender', fill_value = 0))\n",
    "aux_female_medals.columns = [f'female_{c.lower()}_medals' for c in aux_female_medals.columns]\n",
    "# 6. Male Medals\n",
    "aux_male_medals = (medals_[['country', 'gender', 'medal_type']].loc[medals_['gender'] == 'Male']\n",
    "                     .pivot_table(index = 'country', columns = 'medal_type', aggfunc = 'count',\n",
    "                                  values = 'gender', fill_value = 0))\n",
    "aux_male_medals.columns = [f'male_{c.lower()}_medals' for c in aux_male_medals.columns]"
   ]
  },
  {
   "cell_type": "code",
   "execution_count": 14,
   "id": "19b82388",
   "metadata": {},
   "outputs": [],
   "source": [
    "aux_total_athletes = pd.DataFrame(athletes[['country', 'name']].drop_duplicates().groupby('country').count()['name'])\n",
    "aux_total_athletes.columns = ['athletes']"
   ]
  },
  {
   "cell_type": "code",
   "execution_count": 15,
   "id": "13103ce0",
   "metadata": {},
   "outputs": [],
   "source": [
    "df = pd.DataFrame(index = countries)\n",
    "df['country'] = df.index\n",
    "df.reset_index(inplace = True, drop = True)\n",
    "\n",
    "df = (df.merge(aux_athletes, how = 'left', left_on = 'country', right_on = 'country', suffixes=('', '_athletes'))\n",
    "      .merge(aux_officials, how = 'left', left_on = 'country', right_on = 'country', suffixes=('', '_officials'))\n",
    "      .merge(aux_coaches, how = 'left', left_on = 'country', right_on = 'country', suffixes=('', '_coaches'))\n",
    "      .merge(aux_medals, how = 'left', left_on = 'country', right_on = 'country', suffixes=('', '_medals'))\n",
    "      .merge(aux_female_medals, how = 'left', left_on = 'country', right_index = True, suffixes=('', '_medals'))\n",
    "      .merge(aux_male_medals, how = 'left', left_on = 'country', right_index = True, suffixes=('', '_medals'))\n",
    "      .merge(aux_total_athletes, how = 'left', left_on = 'country', right_index = True, suffixes = ('', '_tathletes'))\n",
    "      .fillna(0))"
   ]
  },
  {
   "cell_type": "code",
   "execution_count": 16,
   "id": "5e832980",
   "metadata": {},
   "outputs": [],
   "source": [
    "columns = ['Cantidad total de atletas: athletes',\n",
    "'Cantidad total de atletas hombres enviada: male_athletes',\n",
    "'Cantidad total de atletas mujeres enviada: female_athletes',\n",
    "'Cantidad total de coaches hombres enviada: male_coaches',\n",
    "'Cantidad total de coaches mujeres enviada: female_coaches',\n",
    "'Cantidad total de oficiales hombres enviada: male_officials',\n",
    "'Cantidad total de oficiales mujeres enviada: female_officials',\n",
    "'Cantidad total de medallas obtenidas por hombres: male_total_medals',\n",
    "'Cantidad total de medallas obtenidas por mujeres: female_total_medals',\n",
    "'Cantidad total de medallas de oro obtenidas por hombres: male_gold_medals',\n",
    "'Cantidad total de medallas de oro obtenidas por mujeres: female_gold_medals',\n",
    "'Cantidad total de medallas de plata obtenidas por hombres: male_silver_medals',\n",
    "'Cantidad total de medallas de plata obtenidas por mujeres: female_silver_medals',\n",
    "'Cantidad total de medallas de bronce obtenidas por hombres: male_bronze_medals',\n",
    "'Cantidad total de medallas de bronce obtenidas por mujeres: female_bronze_medals']\n",
    "\n",
    "columns = ['country'] + [c.split(':')[1].strip() for c in columns]"
   ]
  },
  {
   "cell_type": "code",
   "execution_count": 17,
   "id": "3283fd56",
   "metadata": {},
   "outputs": [
    {
     "data": {
      "text/html": [
       "<div>\n",
       "<style scoped>\n",
       "    .dataframe tbody tr th:only-of-type {\n",
       "        vertical-align: middle;\n",
       "    }\n",
       "\n",
       "    .dataframe tbody tr th {\n",
       "        vertical-align: top;\n",
       "    }\n",
       "\n",
       "    .dataframe thead th {\n",
       "        text-align: right;\n",
       "    }\n",
       "</style>\n",
       "<table border=\"1\" class=\"dataframe\">\n",
       "  <thead>\n",
       "    <tr style=\"text-align: right;\">\n",
       "      <th></th>\n",
       "      <th>country</th>\n",
       "      <th>athletes</th>\n",
       "      <th>male_athletes</th>\n",
       "      <th>female_athletes</th>\n",
       "      <th>male_coaches</th>\n",
       "      <th>female_coaches</th>\n",
       "      <th>male_officials</th>\n",
       "      <th>female_officials</th>\n",
       "      <th>male_total_medals</th>\n",
       "      <th>female_total_medals</th>\n",
       "      <th>male_gold_medals</th>\n",
       "      <th>female_gold_medals</th>\n",
       "      <th>male_silver_medals</th>\n",
       "      <th>female_silver_medals</th>\n",
       "      <th>male_bronze_medals</th>\n",
       "      <th>female_bronze_medals</th>\n",
       "    </tr>\n",
       "  </thead>\n",
       "  <tbody>\n",
       "    <tr>\n",
       "      <th>0</th>\n",
       "      <td>Albania</td>\n",
       "      <td>1.0</td>\n",
       "      <td>1.0</td>\n",
       "      <td>0.0</td>\n",
       "      <td>0.0</td>\n",
       "      <td>0.0</td>\n",
       "      <td>0.0</td>\n",
       "      <td>0.0</td>\n",
       "      <td>0.0</td>\n",
       "      <td>0.0</td>\n",
       "      <td>0.0</td>\n",
       "      <td>0.0</td>\n",
       "      <td>0.0</td>\n",
       "      <td>0.0</td>\n",
       "      <td>0.0</td>\n",
       "      <td>0.0</td>\n",
       "    </tr>\n",
       "    <tr>\n",
       "      <th>1</th>\n",
       "      <td>American Samoa</td>\n",
       "      <td>1.0</td>\n",
       "      <td>1.0</td>\n",
       "      <td>0.0</td>\n",
       "      <td>0.0</td>\n",
       "      <td>0.0</td>\n",
       "      <td>0.0</td>\n",
       "      <td>0.0</td>\n",
       "      <td>0.0</td>\n",
       "      <td>0.0</td>\n",
       "      <td>0.0</td>\n",
       "      <td>0.0</td>\n",
       "      <td>0.0</td>\n",
       "      <td>0.0</td>\n",
       "      <td>0.0</td>\n",
       "      <td>0.0</td>\n",
       "    </tr>\n",
       "    <tr>\n",
       "      <th>2</th>\n",
       "      <td>Andorra</td>\n",
       "      <td>5.0</td>\n",
       "      <td>2.0</td>\n",
       "      <td>3.0</td>\n",
       "      <td>0.0</td>\n",
       "      <td>0.0</td>\n",
       "      <td>0.0</td>\n",
       "      <td>0.0</td>\n",
       "      <td>0.0</td>\n",
       "      <td>0.0</td>\n",
       "      <td>0.0</td>\n",
       "      <td>0.0</td>\n",
       "      <td>0.0</td>\n",
       "      <td>0.0</td>\n",
       "      <td>0.0</td>\n",
       "      <td>0.0</td>\n",
       "    </tr>\n",
       "    <tr>\n",
       "      <th>3</th>\n",
       "      <td>Argentina</td>\n",
       "      <td>6.0</td>\n",
       "      <td>2.0</td>\n",
       "      <td>4.0</td>\n",
       "      <td>0.0</td>\n",
       "      <td>0.0</td>\n",
       "      <td>0.0</td>\n",
       "      <td>0.0</td>\n",
       "      <td>0.0</td>\n",
       "      <td>0.0</td>\n",
       "      <td>0.0</td>\n",
       "      <td>0.0</td>\n",
       "      <td>0.0</td>\n",
       "      <td>0.0</td>\n",
       "      <td>0.0</td>\n",
       "      <td>0.0</td>\n",
       "    </tr>\n",
       "    <tr>\n",
       "      <th>4</th>\n",
       "      <td>Armenia</td>\n",
       "      <td>6.0</td>\n",
       "      <td>3.0</td>\n",
       "      <td>3.0</td>\n",
       "      <td>0.0</td>\n",
       "      <td>0.0</td>\n",
       "      <td>0.0</td>\n",
       "      <td>0.0</td>\n",
       "      <td>0.0</td>\n",
       "      <td>0.0</td>\n",
       "      <td>0.0</td>\n",
       "      <td>0.0</td>\n",
       "      <td>0.0</td>\n",
       "      <td>0.0</td>\n",
       "      <td>0.0</td>\n",
       "      <td>0.0</td>\n",
       "    </tr>\n",
       "    <tr>\n",
       "      <th>...</th>\n",
       "      <td>...</td>\n",
       "      <td>...</td>\n",
       "      <td>...</td>\n",
       "      <td>...</td>\n",
       "      <td>...</td>\n",
       "      <td>...</td>\n",
       "      <td>...</td>\n",
       "      <td>...</td>\n",
       "      <td>...</td>\n",
       "      <td>...</td>\n",
       "      <td>...</td>\n",
       "      <td>...</td>\n",
       "      <td>...</td>\n",
       "      <td>...</td>\n",
       "      <td>...</td>\n",
       "      <td>...</td>\n",
       "    </tr>\n",
       "    <tr>\n",
       "      <th>87</th>\n",
       "      <td>Turkey</td>\n",
       "      <td>7.0</td>\n",
       "      <td>4.0</td>\n",
       "      <td>3.0</td>\n",
       "      <td>0.0</td>\n",
       "      <td>0.0</td>\n",
       "      <td>0.0</td>\n",
       "      <td>0.0</td>\n",
       "      <td>0.0</td>\n",
       "      <td>0.0</td>\n",
       "      <td>0.0</td>\n",
       "      <td>0.0</td>\n",
       "      <td>0.0</td>\n",
       "      <td>0.0</td>\n",
       "      <td>0.0</td>\n",
       "      <td>0.0</td>\n",
       "    </tr>\n",
       "    <tr>\n",
       "      <th>88</th>\n",
       "      <td>Ukraine</td>\n",
       "      <td>46.0</td>\n",
       "      <td>24.0</td>\n",
       "      <td>22.0</td>\n",
       "      <td>0.0</td>\n",
       "      <td>0.0</td>\n",
       "      <td>1.0</td>\n",
       "      <td>1.0</td>\n",
       "      <td>1.0</td>\n",
       "      <td>0.0</td>\n",
       "      <td>0.0</td>\n",
       "      <td>0.0</td>\n",
       "      <td>1.0</td>\n",
       "      <td>0.0</td>\n",
       "      <td>0.0</td>\n",
       "      <td>0.0</td>\n",
       "    </tr>\n",
       "    <tr>\n",
       "      <th>89</th>\n",
       "      <td>United States of America</td>\n",
       "      <td>225.0</td>\n",
       "      <td>117.0</td>\n",
       "      <td>108.0</td>\n",
       "      <td>3.0</td>\n",
       "      <td>1.0</td>\n",
       "      <td>0.0</td>\n",
       "      <td>3.0</td>\n",
       "      <td>20.0</td>\n",
       "      <td>43.0</td>\n",
       "      <td>5.0</td>\n",
       "      <td>6.0</td>\n",
       "      <td>9.0</td>\n",
       "      <td>31.0</td>\n",
       "      <td>6.0</td>\n",
       "      <td>6.0</td>\n",
       "    </tr>\n",
       "    <tr>\n",
       "      <th>90</th>\n",
       "      <td>Uzbekistan</td>\n",
       "      <td>1.0</td>\n",
       "      <td>1.0</td>\n",
       "      <td>0.0</td>\n",
       "      <td>0.0</td>\n",
       "      <td>0.0</td>\n",
       "      <td>0.0</td>\n",
       "      <td>0.0</td>\n",
       "      <td>0.0</td>\n",
       "      <td>0.0</td>\n",
       "      <td>0.0</td>\n",
       "      <td>0.0</td>\n",
       "      <td>0.0</td>\n",
       "      <td>0.0</td>\n",
       "      <td>0.0</td>\n",
       "      <td>0.0</td>\n",
       "    </tr>\n",
       "    <tr>\n",
       "      <th>91</th>\n",
       "      <td>Virgin Islands, US</td>\n",
       "      <td>1.0</td>\n",
       "      <td>0.0</td>\n",
       "      <td>1.0</td>\n",
       "      <td>0.0</td>\n",
       "      <td>0.0</td>\n",
       "      <td>0.0</td>\n",
       "      <td>0.0</td>\n",
       "      <td>0.0</td>\n",
       "      <td>0.0</td>\n",
       "      <td>0.0</td>\n",
       "      <td>0.0</td>\n",
       "      <td>0.0</td>\n",
       "      <td>0.0</td>\n",
       "      <td>0.0</td>\n",
       "      <td>0.0</td>\n",
       "    </tr>\n",
       "  </tbody>\n",
       "</table>\n",
       "<p>92 rows × 16 columns</p>\n",
       "</div>"
      ],
      "text/plain": [
       "                     country  athletes  male_athletes  female_athletes  \\\n",
       "0                    Albania       1.0            1.0              0.0   \n",
       "1             American Samoa       1.0            1.0              0.0   \n",
       "2                    Andorra       5.0            2.0              3.0   \n",
       "3                  Argentina       6.0            2.0              4.0   \n",
       "4                    Armenia       6.0            3.0              3.0   \n",
       "..                       ...       ...            ...              ...   \n",
       "87                    Turkey       7.0            4.0              3.0   \n",
       "88                   Ukraine      46.0           24.0             22.0   \n",
       "89  United States of America     225.0          117.0            108.0   \n",
       "90                Uzbekistan       1.0            1.0              0.0   \n",
       "91        Virgin Islands, US       1.0            0.0              1.0   \n",
       "\n",
       "    male_coaches  female_coaches  male_officials  female_officials  \\\n",
       "0            0.0             0.0             0.0               0.0   \n",
       "1            0.0             0.0             0.0               0.0   \n",
       "2            0.0             0.0             0.0               0.0   \n",
       "3            0.0             0.0             0.0               0.0   \n",
       "4            0.0             0.0             0.0               0.0   \n",
       "..           ...             ...             ...               ...   \n",
       "87           0.0             0.0             0.0               0.0   \n",
       "88           0.0             0.0             1.0               1.0   \n",
       "89           3.0             1.0             0.0               3.0   \n",
       "90           0.0             0.0             0.0               0.0   \n",
       "91           0.0             0.0             0.0               0.0   \n",
       "\n",
       "    male_total_medals  female_total_medals  male_gold_medals  \\\n",
       "0                 0.0                  0.0               0.0   \n",
       "1                 0.0                  0.0               0.0   \n",
       "2                 0.0                  0.0               0.0   \n",
       "3                 0.0                  0.0               0.0   \n",
       "4                 0.0                  0.0               0.0   \n",
       "..                ...                  ...               ...   \n",
       "87                0.0                  0.0               0.0   \n",
       "88                1.0                  0.0               0.0   \n",
       "89               20.0                 43.0               5.0   \n",
       "90                0.0                  0.0               0.0   \n",
       "91                0.0                  0.0               0.0   \n",
       "\n",
       "    female_gold_medals  male_silver_medals  female_silver_medals  \\\n",
       "0                  0.0                 0.0                   0.0   \n",
       "1                  0.0                 0.0                   0.0   \n",
       "2                  0.0                 0.0                   0.0   \n",
       "3                  0.0                 0.0                   0.0   \n",
       "4                  0.0                 0.0                   0.0   \n",
       "..                 ...                 ...                   ...   \n",
       "87                 0.0                 0.0                   0.0   \n",
       "88                 0.0                 1.0                   0.0   \n",
       "89                 6.0                 9.0                  31.0   \n",
       "90                 0.0                 0.0                   0.0   \n",
       "91                 0.0                 0.0                   0.0   \n",
       "\n",
       "    male_bronze_medals  female_bronze_medals  \n",
       "0                  0.0                   0.0  \n",
       "1                  0.0                   0.0  \n",
       "2                  0.0                   0.0  \n",
       "3                  0.0                   0.0  \n",
       "4                  0.0                   0.0  \n",
       "..                 ...                   ...  \n",
       "87                 0.0                   0.0  \n",
       "88                 0.0                   0.0  \n",
       "89                 6.0                   6.0  \n",
       "90                 0.0                   0.0  \n",
       "91                 0.0                   0.0  \n",
       "\n",
       "[92 rows x 16 columns]"
      ]
     },
     "execution_count": 17,
     "metadata": {},
     "output_type": "execute_result"
    }
   ],
   "source": [
    "df[columns]"
   ]
  },
  {
   "cell_type": "markdown",
   "id": "dfb7de99",
   "metadata": {},
   "source": [
    "df[columns].to_clipboard()"
   ]
  },
  {
   "cell_type": "markdown",
   "id": "ac22e099",
   "metadata": {},
   "source": [
    "df[columns].to_csv('Beijing_Oviedo_Quezada_Rolando.csv', index = False)"
   ]
  },
  {
   "cell_type": "code",
   "execution_count": null,
   "id": "4912b203",
   "metadata": {},
   "outputs": [],
   "source": []
  }
 ],
 "metadata": {
  "kernelspec": {
   "display_name": "Python 3 (ipykernel)",
   "language": "python",
   "name": "python3"
  },
  "language_info": {
   "codemirror_mode": {
    "name": "ipython",
    "version": 3
   },
   "file_extension": ".py",
   "mimetype": "text/x-python",
   "name": "python",
   "nbconvert_exporter": "python",
   "pygments_lexer": "ipython3",
   "version": "3.9.6"
  }
 },
 "nbformat": 4,
 "nbformat_minor": 5
}
