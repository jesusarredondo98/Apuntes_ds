{
 "cells": [
  {
   "cell_type": "code",
   "execution_count": 1,
   "metadata": {
    "id": "JjwWPUslv5tE"
   },
   "outputs": [],
   "source": [
    "import numpy as np"
   ]
  },
  {
   "cell_type": "markdown",
   "metadata": {
    "id": "-nTgXYiWXBLm"
   },
   "source": [
    "## Broadcasting"
   ]
  },
  {
   "cell_type": "markdown",
   "metadata": {
    "id": "p9d27gdcW-Js"
   },
   "source": [
    "Los arreglos de numpy se diferencian de las listas normales de Python debido a su capacidad para hacer broadcasting. Con las listas, solo puede operar con objetos del mismo tamaño y forma. Es decir, si se quisiera reemplazar los primeros 5 elementos de una lista con un nuevo valor, tendría que iterar sobre los 5 elementos de la lista. Con los arreglos de numpy, puede \"transmitir\" un solo valor a través de un conjunto más grande de valores."
   ]
  },
  {
   "cell_type": "code",
   "execution_count": 2,
   "metadata": {
    "colab": {
     "base_uri": "https://localhost:8080/"
    },
    "id": "fkgp6Ig8v5tF",
    "outputId": "8122a46b-6275-456e-8f66-b14e1d693b34"
   },
   "outputs": [
    {
     "data": {
      "text/plain": [
       "array([0, 1, 2, 3, 4, 5, 6, 7, 8, 9])"
      ]
     },
     "execution_count": 2,
     "metadata": {},
     "output_type": "execute_result"
    }
   ],
   "source": [
    "arr = np.arange(0,10) #Creamos un vector de 10 entradas\n",
    "arr"
   ]
  },
  {
   "cell_type": "code",
   "execution_count": 3,
   "metadata": {
    "colab": {
     "base_uri": "https://localhost:8080/"
    },
    "id": "9DZT8XgFv5tN",
    "outputId": "914cb9b9-bdef-4d8b-97bb-5fa7c0dbdf63"
   },
   "outputs": [
    {
     "data": {
      "text/plain": [
       "array([  0,   1,   8,  27,  64, 125, 216, 343, 512, 729])"
      ]
     },
     "execution_count": 3,
     "metadata": {},
     "output_type": "execute_result"
    }
   ],
   "source": [
    "arr ** 3 #Cada entrada se elava al cuadrada"
   ]
  },
  {
   "cell_type": "code",
   "execution_count": 4,
   "metadata": {
    "colab": {
     "base_uri": "https://localhost:8080/"
    },
    "id": "ylHN-mYKv5tH",
    "outputId": "f1833c8c-36cc-482c-ccf5-bc184155ce55"
   },
   "outputs": [
    {
     "data": {
      "text/plain": [
       "array([ 0,  2,  4,  6,  8, 10, 12, 14, 16, 18])"
      ]
     },
     "execution_count": 4,
     "metadata": {},
     "output_type": "execute_result"
    }
   ],
   "source": [
    "arr + arr #Se aplica una suma por entradda del vector con sigo mismo"
   ]
  },
  {
   "cell_type": "code",
   "execution_count": 5,
   "metadata": {
    "colab": {
     "base_uri": "https://localhost:8080/"
    },
    "id": "SyjU6uKsv5tI",
    "outputId": "a1e75978-ae30-405a-e5a5-998861ee6a78"
   },
   "outputs": [
    {
     "data": {
      "text/plain": [
       "array([ 0,  1,  4,  9, 16, 25, 36, 49, 64, 81])"
      ]
     },
     "execution_count": 5,
     "metadata": {},
     "output_type": "execute_result"
    }
   ],
   "source": [
    "arr * arr #Se multiplica cada entrada por su entrada correspondiente del otro vector"
   ]
  },
  {
   "cell_type": "code",
   "execution_count": 6,
   "metadata": {
    "colab": {
     "base_uri": "https://localhost:8080/"
    },
    "id": "s6M9GbCVv5tI",
    "outputId": "d3bab5ea-1c61-454c-a74b-3886c6b7c1e8"
   },
   "outputs": [
    {
     "data": {
      "text/plain": [
       "array([0, 0, 0, 0, 0, 0, 0, 0, 0, 0])"
      ]
     },
     "execution_count": 6,
     "metadata": {},
     "output_type": "execute_result"
    }
   ],
   "source": [
    "arr - arr #Se resta cada entrada con la correspondiente del mismo tamaño de vector"
   ]
  },
  {
   "cell_type": "markdown",
   "metadata": {
    "id": "EzKLflQWv5tJ"
   },
   "source": [
    "La siguiente celda generará un *Warning* sobre la división por cero, ¡pero no un arrojará *Error*! Simplemente llena la posición con *nan*."
   ]
  },
  {
   "cell_type": "code",
   "execution_count": 7,
   "metadata": {
    "colab": {
     "base_uri": "https://localhost:8080/"
    },
    "id": "XspmkjpPv5tL",
    "outputId": "d25fa103-cc46-4a8d-94d9-1f32f1b97a97"
   },
   "outputs": [
    {
     "name": "stderr",
     "output_type": "stream",
     "text": [
      "/var/folders/m5/cfc15px573ld6bgr5zly12_m0000gn/T/ipykernel_1210/1412164230.py:1: RuntimeWarning: invalid value encountered in true_divide\n",
      "  arr / arr #Se divide cada entrada por la correspondiente al otro vector, en donde se divide con un cero abajo se\n"
     ]
    },
    {
     "data": {
      "text/plain": [
       "array([nan,  1.,  1.,  1.,  1.,  1.,  1.,  1.,  1.,  1.])"
      ]
     },
     "execution_count": 7,
     "metadata": {},
     "output_type": "execute_result"
    }
   ],
   "source": [
    "arr / arr #Se divide cada entrada por la correspondiente al otro vector, en donde se divide con un cero abajo se\n",
    "#guarda como nulo, por el calculo indeterminado"
   ]
  },
  {
   "cell_type": "code",
   "execution_count": 8,
   "metadata": {
    "colab": {
     "base_uri": "https://localhost:8080/"
    },
    "id": "XspNjTotv5tM",
    "outputId": "db1eadf4-df14-480e-8d7b-3b7048c84f16"
   },
   "outputs": [
    {
     "name": "stderr",
     "output_type": "stream",
     "text": [
      "/var/folders/m5/cfc15px573ld6bgr5zly12_m0000gn/T/ipykernel_1210/1394770140.py:1: RuntimeWarning: divide by zero encountered in true_divide\n",
      "  1 / arr #Se crea un nuevo vector con la misma dimension que la inicial, pero aca las entradas son dadas por la div\n"
     ]
    },
    {
     "data": {
      "text/plain": [
       "array([       inf, 1.        , 0.5       , 0.33333333, 0.25      ,\n",
       "       0.2       , 0.16666667, 0.14285714, 0.125     , 0.11111111])"
      ]
     },
     "execution_count": 8,
     "metadata": {},
     "output_type": "execute_result"
    }
   ],
   "source": [
    "1 / arr #Se crea un nuevo vector con la misma dimension que la inicial, pero aca las entradas son dadas por la div \n",
    "#de 1 entre cada entrada"
   ]
  },
  {
   "cell_type": "markdown",
   "metadata": {
    "id": "qsH7HBIzv5tO"
   },
   "source": [
    "#### Funciones Universales"
   ]
  },
  {
   "cell_type": "code",
   "execution_count": 9,
   "metadata": {
    "colab": {
     "base_uri": "https://localhost:8080/"
    },
    "id": "6TbkiNz8v5tO",
    "outputId": "5eb264f9-854e-4b2d-9026-7d93bb50b8bd"
   },
   "outputs": [
    {
     "data": {
      "text/plain": [
       "array([0, 1, 2, 3, 4, 5, 6, 7, 8, 9])"
      ]
     },
     "execution_count": 9,
     "metadata": {},
     "output_type": "execute_result"
    }
   ],
   "source": [
    "arr"
   ]
  },
  {
   "cell_type": "code",
   "execution_count": 10,
   "metadata": {
    "colab": {
     "base_uri": "https://localhost:8080/"
    },
    "id": "ByxbSUR1v5tP",
    "outputId": "c272c12c-433a-4d7a-cd39-12464cf51fac"
   },
   "outputs": [
    {
     "data": {
      "text/plain": [
       "array([0.        , 1.        , 1.41421356, 1.73205081, 2.        ,\n",
       "       2.23606798, 2.44948974, 2.64575131, 2.82842712, 3.        ])"
      ]
     },
     "execution_count": 10,
     "metadata": {},
     "output_type": "execute_result"
    }
   ],
   "source": [
    "np.sqrt(arr) #Se saca la raiz cuadada de cada entrada del vector"
   ]
  },
  {
   "cell_type": "code",
   "execution_count": 11,
   "metadata": {
    "colab": {
     "base_uri": "https://localhost:8080/"
    },
    "id": "ZVk-3B7av5tP",
    "outputId": "6b7bb10e-c084-49de-c5a3-926552b1ba0f"
   },
   "outputs": [
    {
     "data": {
      "text/plain": [
       "array([1.00000000e+00, 2.71828183e+00, 7.38905610e+00, 2.00855369e+01,\n",
       "       5.45981500e+01, 1.48413159e+02, 4.03428793e+02, 1.09663316e+03,\n",
       "       2.98095799e+03, 8.10308393e+03])"
      ]
     },
     "execution_count": 11,
     "metadata": {},
     "output_type": "execute_result"
    }
   ],
   "source": [
    "np.exp(arr) #Para cada entrada del vector se calcula la exponencial"
   ]
  },
  {
   "cell_type": "code",
   "execution_count": 12,
   "metadata": {
    "colab": {
     "base_uri": "https://localhost:8080/"
    },
    "id": "KSiV0Y5zv5tQ",
    "outputId": "659a7d89-23cc-495f-97ee-9ce8a90e0380"
   },
   "outputs": [
    {
     "data": {
      "text/plain": [
       "array([ 0.        ,  0.84147098,  0.90929743,  0.14112001, -0.7568025 ,\n",
       "       -0.95892427, -0.2794155 ,  0.6569866 ,  0.98935825,  0.41211849])"
      ]
     },
     "execution_count": 12,
     "metadata": {},
     "output_type": "execute_result"
    }
   ],
   "source": [
    "np.sin(arr) #Se calcula el seno de la entrada del vector"
   ]
  },
  {
   "cell_type": "code",
   "execution_count": 13,
   "metadata": {
    "colab": {
     "base_uri": "https://localhost:8080/"
    },
    "id": "k8vNrpb5v5tQ",
    "outputId": "6c3a4adc-f3bd-45a6-b5ab-abf0db00298c"
   },
   "outputs": [
    {
     "name": "stderr",
     "output_type": "stream",
     "text": [
      "/var/folders/m5/cfc15px573ld6bgr5zly12_m0000gn/T/ipykernel_1210/2256441823.py:1: RuntimeWarning: divide by zero encountered in log\n",
      "  np.log(arr) #Se saca el log de cada entrada, para el cero el resultado es -inf por el comportamiento de la funcion\n"
     ]
    },
    {
     "data": {
      "text/plain": [
       "array([      -inf, 0.        , 0.69314718, 1.09861229, 1.38629436,\n",
       "       1.60943791, 1.79175947, 1.94591015, 2.07944154, 2.19722458])"
      ]
     },
     "execution_count": 13,
     "metadata": {},
     "output_type": "execute_result"
    }
   ],
   "source": [
    "np.log(arr) #Se saca el log de cada entrada, para el cero el resultado es -inf por el comportamiento de la funcion"
   ]
  },
  {
   "cell_type": "markdown",
   "metadata": {
    "id": "0ULnVkiNv5tR"
   },
   "source": [
    "#### Funciones Estadísticas"
   ]
  },
  {
   "cell_type": "code",
   "execution_count": 14,
   "metadata": {
    "colab": {
     "base_uri": "https://localhost:8080/"
    },
    "id": "zn9RulVrv5tR",
    "outputId": "c43bff0c-d093-4d1c-912c-4efe25b5a8fc"
   },
   "outputs": [
    {
     "data": {
      "text/plain": [
       "array([0, 1, 2, 3, 4, 5, 6, 7, 8, 9])"
      ]
     },
     "execution_count": 14,
     "metadata": {},
     "output_type": "execute_result"
    }
   ],
   "source": [
    "arr = np.arange(0,10)\n",
    "arr"
   ]
  },
  {
   "cell_type": "code",
   "execution_count": 15,
   "metadata": {
    "colab": {
     "base_uri": "https://localhost:8080/"
    },
    "id": "pGl97nQqv5tR",
    "outputId": "4a970902-c995-47f0-c352-4490dde38f4f"
   },
   "outputs": [
    {
     "data": {
      "text/plain": [
       "4.5"
      ]
     },
     "execution_count": 15,
     "metadata": {},
     "output_type": "execute_result"
    }
   ],
   "source": [
    "arr.mean() #Calculamos la media como con pandas"
   ]
  },
  {
   "cell_type": "code",
   "execution_count": 16,
   "metadata": {
    "colab": {
     "base_uri": "https://localhost:8080/"
    },
    "id": "qLoKhHdjv5tS",
    "outputId": "a67fe8ce-7fa7-45b5-a472-7326b1b32733"
   },
   "outputs": [
    {
     "data": {
      "text/plain": [
       "9"
      ]
     },
     "execution_count": 16,
     "metadata": {},
     "output_type": "execute_result"
    }
   ],
   "source": [
    "arr.max() #Maximo del vector"
   ]
  },
  {
   "cell_type": "code",
   "execution_count": 17,
   "metadata": {
    "colab": {
     "base_uri": "https://localhost:8080/"
    },
    "id": "2fX3SQ1fv5tS",
    "outputId": "676c48ae-3aa8-432d-a531-c3f6bef2d80a"
   },
   "outputs": [
    {
     "data": {
      "text/plain": [
       "0"
      ]
     },
     "execution_count": 17,
     "metadata": {},
     "output_type": "execute_result"
    }
   ],
   "source": [
    "arr.min() #Minimo del vector"
   ]
  },
  {
   "cell_type": "code",
   "execution_count": 18,
   "metadata": {
    "colab": {
     "base_uri": "https://localhost:8080/"
    },
    "id": "KopvQ5A0v5tS",
    "outputId": "3c3628ff-8f6d-47ea-f761-816258c6511e"
   },
   "outputs": [
    {
     "data": {
      "text/plain": [
       "8.25"
      ]
     },
     "execution_count": 18,
     "metadata": {},
     "output_type": "execute_result"
    }
   ],
   "source": [
    "arr.var() #Varianza del vector"
   ]
  },
  {
   "cell_type": "code",
   "execution_count": 19,
   "metadata": {
    "colab": {
     "base_uri": "https://localhost:8080/"
    },
    "id": "sNQb77oYv5tT",
    "outputId": "3c745777-b16b-4a4d-dab0-f3900eb8604d"
   },
   "outputs": [
    {
     "data": {
      "text/plain": [
       "2.8722813232690143"
      ]
     },
     "execution_count": 19,
     "metadata": {},
     "output_type": "execute_result"
    }
   ],
   "source": [
    "arr.std() #Desv estandar del vector"
   ]
  },
  {
   "cell_type": "markdown",
   "metadata": {
    "id": "LJZbbqViCI3h"
   },
   "source": [
    "### Vectorización"
   ]
  },
  {
   "cell_type": "markdown",
   "metadata": {
    "id": "CTqGbS2lGzDh"
   },
   "source": [
    "La vectorización es un método para lograr el paralelismo dentro de un solo núcleo de procesador.\n",
    "\n",
    "Para expresarlo en términos sencillos, una sola instrucción se realiza sobre cada elemento individual de una matriz en un solo núcleo de CPU de manera paralela. La operación vectorizada puede reemplazar los bucles *for* tradicionales , ejecutarse más rápido, trabajar en diferentes tamaños de dimensión de matriz. Es una solución matricial que reemplaza explícitamente el bucle *for*."
   ]
  },
  {
   "cell_type": "code",
   "execution_count": 20,
   "metadata": {
    "id": "HadnO2jyCLWr"
   },
   "outputs": [],
   "source": [
    "import time\n",
    "import numpy as np"
   ]
  },
  {
   "cell_type": "code",
   "execution_count": 21,
   "metadata": {
    "id": "0wRCtopXGNT8"
   },
   "outputs": [],
   "source": [
    "size = 10000"
   ]
  },
  {
   "cell_type": "code",
   "execution_count": 22,
   "metadata": {
    "id": "ofRSIRctMaqG"
   },
   "outputs": [],
   "source": [
    "np.random.seed(0)\n",
    "vec_1 = np.random.random(size)\n",
    "vec_2 = np.random.random(size)"
   ]
  },
  {
   "cell_type": "code",
   "execution_count": 23,
   "metadata": {},
   "outputs": [
    {
     "data": {
      "text/plain": [
       "array([0.5488135 , 0.71518937, 0.60276338, ..., 0.75842952, 0.02378743,\n",
       "       0.81357508])"
      ]
     },
     "execution_count": 23,
     "metadata": {},
     "output_type": "execute_result"
    }
   ],
   "source": [
    "vec_1"
   ]
  },
  {
   "cell_type": "code",
   "execution_count": 24,
   "metadata": {
    "colab": {
     "base_uri": "https://localhost:8080/"
    },
    "id": "uHFgh22hGRoF",
    "outputId": "f086791a-ac53-45dd-a777-6be8b04b2afb"
   },
   "outputs": [
    {
     "name": "stdout",
     "output_type": "stream",
     "text": [
      "Tiempo de Python 67.84473899999999\n"
     ]
    }
   ],
   "source": [
    "# SIN Vectorización\n",
    "\n",
    "tic = time.process_time()\n",
    "\n",
    "python_product = np.zeros((size, size)) #Matriz cacaron de ceros\n",
    "\n",
    "#Mediante un for se busca crear el producto punto de los dos vectores\n",
    "for i in range(size):\n",
    "    for j in range(size):\n",
    "        python_product[i][j] = vec_1[i] * vec_2[j]\n",
    "\n",
    "phyton_time = time.process_time() - tic\n",
    "print('Tiempo de Python', phyton_time)"
   ]
  },
  {
   "cell_type": "code",
   "execution_count": 25,
   "metadata": {
    "colab": {
     "base_uri": "https://localhost:8080/"
    },
    "id": "H3EdnsMdGWRZ",
    "outputId": "c9880b28-2818-462a-a7a7-061443195e12"
   },
   "outputs": [
    {
     "name": "stdout",
     "output_type": "stream",
     "text": [
      "Tiempo de Numpy 0.5920159999999868\n"
     ]
    }
   ],
   "source": [
    "# CON Vectorización\n",
    "\n",
    "tic = time.process_time()\n",
    "numpy_product = np.outer(vec_1, vec_2) #esta funcion realiza el producto punto en menor tiempo\n",
    "\n",
    "numpy_time = time.process_time() - tic\n",
    "print('Tiempo de Numpy', numpy_time)"
   ]
  },
  {
   "cell_type": "code",
   "execution_count": 29,
   "metadata": {},
   "outputs": [
    {
     "data": {
      "text/plain": [
       "array([[0.41065957, 0.09889768, 0.21350116, ..., 0.24502095, 0.19764235,\n",
       "        0.34349504],\n",
       "       [0.5351533 , 0.12887906, 0.27822522, ..., 0.31930041, 0.25755872,\n",
       "        0.44762747],\n",
       "       [0.45102853, 0.10861959, 0.2344889 , ..., 0.26910718, 0.21707113,\n",
       "        0.37726155],\n",
       "       ...,\n",
       "       [0.56750853, 0.13667105, 0.29504664, ..., 0.33860523, 0.27313066,\n",
       "        0.47469091],\n",
       "       [0.01779937, 0.00428656, 0.00925386, ..., 0.01062003, 0.00856649,\n",
       "        0.01488823],\n",
       "       [0.60877218, 0.14660843, 0.31649954, ..., 0.36322528, 0.29299004,\n",
       "        0.50920578]])"
      ]
     },
     "execution_count": 29,
     "metadata": {},
     "output_type": "execute_result"
    }
   ],
   "source": [
    "numpy_product #Se crea una matriz de i renglones por j columnas, la cual en este caso es cuadrada"
   ]
  },
  {
   "cell_type": "code",
   "execution_count": 26,
   "metadata": {
    "colab": {
     "base_uri": "https://localhost:8080/"
    },
    "id": "6pS-lJEKJNKO",
    "outputId": "78d21a82-07fd-4811-ff1b-6fb82ef8d81b"
   },
   "outputs": [
    {
     "data": {
      "text/plain": [
       "0"
      ]
     },
     "execution_count": 26,
     "metadata": {},
     "output_type": "execute_result"
    }
   ],
   "source": [
    "np.sum(python_product != numpy_product) #Se comprueba que las matrices tengan el mismo tamaño"
   ]
  },
  {
   "cell_type": "code",
   "execution_count": 27,
   "metadata": {
    "colab": {
     "base_uri": "https://localhost:8080/"
    },
    "id": "MXOvEavuGY31",
    "outputId": "3860171b-a3d3-4040-d7b9-f43e326278ad"
   },
   "outputs": [
    {
     "name": "stdout",
     "output_type": "stream",
     "text": [
      "Mejora con Numpy 114.59950237831664\n"
     ]
    }
   ],
   "source": [
    "print('Mejora con Numpy', phyton_time / numpy_time)"
   ]
  },
  {
   "cell_type": "code",
   "execution_count": null,
   "metadata": {
    "id": "2ho-vMblIj73"
   },
   "outputs": [],
   "source": []
  }
 ],
 "metadata": {
  "colab": {
   "collapsed_sections": [],
   "name": "4.1.1 Vectorización.ipynb",
   "provenance": []
  },
  "gpuClass": "standard",
  "kernelspec": {
   "display_name": "Python 3 (ipykernel)",
   "language": "python",
   "name": "python3"
  },
  "language_info": {
   "codemirror_mode": {
    "name": "ipython",
    "version": 3
   },
   "file_extension": ".py",
   "mimetype": "text/x-python",
   "name": "python",
   "nbconvert_exporter": "python",
   "pygments_lexer": "ipython3",
   "version": "3.9.6"
  }
 },
 "nbformat": 4,
 "nbformat_minor": 1
}
