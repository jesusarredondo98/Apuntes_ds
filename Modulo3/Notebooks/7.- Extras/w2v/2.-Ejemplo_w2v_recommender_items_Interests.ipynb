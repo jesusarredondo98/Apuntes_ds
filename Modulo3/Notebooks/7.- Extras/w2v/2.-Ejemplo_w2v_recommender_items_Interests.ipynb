{
 "cells": [
  {
   "cell_type": "code",
   "execution_count": null,
   "metadata": {
    "ExecuteTime": {
     "end_time": "2022-07-07T22:01:32.869995Z",
     "start_time": "2022-07-07T22:01:31.771174Z"
    },
    "id": "6WLf2aiwfQPA"
   },
   "outputs": [],
   "source": [
    "import pandas as pd\n",
    "import numpy as np\n",
    "import random\n",
    "\n",
    "from gensim.models import Word2Vec \n",
    "import matplotlib.pyplot as plt\n",
    "%matplotlib inline\n",
    "\n",
    "import warnings;"
   ]
  },
  {
   "cell_type": "code",
   "execution_count": null,
   "metadata": {
    "ExecuteTime": {
     "end_time": "2022-07-07T22:01:35.951336Z",
     "start_time": "2022-07-07T22:01:35.945548Z"
    },
    "id": "DnDoqyCvfQPE"
   },
   "outputs": [],
   "source": [
    "intereses=pd.read_pickle('../data/Sports_&_Recreation_Venue_example_list.pd')\n",
    "#Cosas que le pueden interesar una persona\n"
   ]
  },
  {
   "cell_type": "code",
   "execution_count": null,
   "metadata": {
    "ExecuteTime": {
     "end_time": "2022-07-07T22:01:36.853136Z",
     "start_time": "2022-07-07T22:01:36.847916Z"
    },
    "id": "4o8_J_KafQPF",
    "outputId": "4e6a5a1e-55a6-47cf-c0ed-d5ab72a911c3"
   },
   "outputs": [
    {
     "data": {
      "text/plain": [
       "dict_keys(['Baseball Field', 'Driving Range', 'Gun Range', 'Batting Cage', 'Tennis Court', 'ATV Recreation Park', 'Rodeo', 'Soccer Field', 'Ski Resort', 'Bowling Alley'])"
      ]
     },
     "execution_count": 3,
     "metadata": {},
     "output_type": "execute_result"
    }
   ],
   "source": [
    "intereses.keys()"
   ]
  },
  {
   "cell_type": "code",
   "execution_count": null,
   "metadata": {
    "ExecuteTime": {
     "end_time": "2022-07-07T22:01:37.677286Z",
     "start_time": "2022-07-07T22:01:37.674454Z"
    },
    "id": "FXXVJ9yvfQPH"
   },
   "outputs": [],
   "source": [
    "ls_interest=list(intereses.values())"
   ]
  },
  {
   "cell_type": "code",
   "execution_count": null,
   "metadata": {
    "ExecuteTime": {
     "end_time": "2022-07-07T22:01:38.273669Z",
     "start_time": "2022-07-07T22:01:38.263732Z"
    },
    "id": "iOoZvGRMfQPH",
    "outputId": "a04f8882-2901-4726-ac89-690a9cfef209"
   },
   "outputs": [
    {
     "data": {
      "text/plain": [
       "[['Manager (baseball)',\n",
       "  'Baseball field',\n",
       "  'Albany Great Danes',\n",
       "  'Jakarta',\n",
       "  'Medan',\n",
       "  'Bandung',\n",
       "  'Surabaya',\n",
       "  'Kaká',\n",
       "  'Yogyakarta',\n",
       "  'Makassar',\n",
       "  'Bogor',\n",
       "  'Ronaldinho',\n",
       "  'Diego Maradona',\n",
       "  'Bekasi',\n",
       "  'Malang',\n",
       "  'Palembang',\n",
       "  'Semarang',\n",
       "  'David Beckham',\n",
       "  'Tangerang',\n",
       "  'Depok',\n",
       "  'Kupang',\n",
       "  'Zlatan Ibrahimović',\n",
       "  'Pekanbaru',\n",
       "  'NFL Network',\n",
       "  'Zinedine Zidane',\n",
       "  'ESPN2',\n",
       "  'Run (baseball)',\n",
       "  'Denpasar'],\n",
       " ['Driving range',\n",
       "  'Adidas',\n",
       "  'Reebok',\n",
       "  'PGA Tour',\n",
       "  'ASICS',\n",
       "  'Puma SE',\n",
       "  'Golf course',\n",
       "  'Fila (company)',\n",
       "  'Ball',\n",
       "  'NBA TV',\n",
       "  'Golf club',\n",
       "  'Lotto Sport Italia',\n",
       "  'Masters Tournament',\n",
       "  'NFL Network',\n",
       "  'ESPN2',\n",
       "  'Golf ball',\n",
       "  'Tiger Woods',\n",
       "  'Golf Digest',\n",
       "  'Kappa (company)',\n",
       "  'PGA Championship',\n",
       "  'Mizuno Corporation',\n",
       "  'Titleist',\n",
       "  'Golf Magazine',\n",
       "  'Golf cart',\n",
       "  'Callaway Golf Company',\n",
       "  'PGA European Tour'],\n",
       " ['Shooting range',\n",
       "  'Volleyball',\n",
       "  'Tennis',\n",
       "  'Running',\n",
       "  'Camping',\n",
       "  'Hunting',\n",
       "  'Cycling',\n",
       "  'Risk (game)',\n",
       "  'Field hockey',\n",
       "  'Horseback riding',\n",
       "  'Triathlons',\n",
       "  'Mountain biking',\n",
       "  'Gymnastics',\n",
       "  'Badminton',\n",
       "  'Archery',\n",
       "  'Angling',\n",
       "  'Table tennis',\n",
       "  'Recreational fishing',\n",
       "  'Fishing line',\n",
       "  'Diving',\n",
       "  'Shooting sport',\n",
       "  'National Rifle Association',\n",
       "  'Second Amendment to the United States Constitution',\n",
       "  'Water polo',\n",
       "  'Trolling (fishing)',\n",
       "  'Fishing lure'],\n",
       " ['Batting cage',\n",
       "  'Basketball',\n",
       "  'Baseball',\n",
       "  'Volleyball',\n",
       "  'Tennis',\n",
       "  'Golf',\n",
       "  'Major League Baseball',\n",
       "  'Ice hockey',\n",
       "  'Field hockey',\n",
       "  'Coach (sport)',\n",
       "  'ESPN',\n",
       "  'PGA Tour',\n",
       "  'Table tennis',\n",
       "  'Save (baseball)',\n",
       "  'Major League Baseball All-Star Game',\n",
       "  'Fox Sports (United States)',\n",
       "  'Little League Baseball',\n",
       "  'Fox Sports',\n",
       "  'NBA TV',\n",
       "  'NBA All-Star Game',\n",
       "  'Softball',\n",
       "  'National Collegiate Athletic Association',\n",
       "  'NFL Network',\n",
       "  'Fox Sports (Brazil)',\n",
       "  'Water polo',\n",
       "  'ESPN2'],\n",
       " ['Tennis court',\n",
       "  'Cristiano Ronaldo',\n",
       "  'Dubai',\n",
       "  'Lionel Messi',\n",
       "  'Money back guarantee',\n",
       "  'Ankara',\n",
       "  'Baghdad',\n",
       "  'Private school',\n",
       "  'Neymar',\n",
       "  'Beirut',\n",
       "  'Riyadh',\n",
       "  'Damascus',\n",
       "  'Jeddah',\n",
       "  'Abu Dhabi',\n",
       "  'Amman',\n",
       "  'Kaká',\n",
       "  'Day school',\n",
       "  'Tehran',\n",
       "  'Doha',\n",
       "  'Kurdistan',\n",
       "  'Ronaldinho',\n",
       "  'Diego Maradona',\n",
       "  'Single-sex education',\n",
       "  'Boarding school',\n",
       "  'Erbil',\n",
       "  'David Beckham'],\n",
       " ['Muddy Bottoms ATV & Recreation Park',\n",
       "  'Motorcycles',\n",
       "  'Toyota',\n",
       "  'Nissan',\n",
       "  'Honda',\n",
       "  'Ford Motor Company',\n",
       "  'Scooters',\n",
       "  'Suzuki',\n",
       "  'Mazda',\n",
       "  'Mitsubishi Motors',\n",
       "  'Off-roading',\n",
       "  'Yamaha Motor Company',\n",
       "  'Grand Prix motorcycle racing',\n",
       "  'KTM',\n",
       "  'Enduro',\n",
       "  'Types of motorcycles',\n",
       "  'Subaru',\n",
       "  'All-terrain vehicle',\n",
       "  'Off-road vehicle',\n",
       "  'Sport bike',\n",
       "  'Aprilia',\n",
       "  'Ducati',\n",
       "  'Jeep Wrangler',\n",
       "  'Vespa',\n",
       "  'Custom motorcycle',\n",
       "  'Kawasaki Heavy Industries'],\n",
       " ['National Finals Rodeo',\n",
       "  'Professional Rodeo Cowboys Association',\n",
       "  'Houston Livestock Show and Rodeo',\n",
       "  'Blue Rodeo',\n",
       "  \"Women's Professional Rodeo Association\",\n",
       "  'National High School Rodeo Association',\n",
       "  'Rodeo News',\n",
       "  'Horses',\n",
       "  'Skiing',\n",
       "  'Cattle',\n",
       "  'Snowboarding',\n",
       "  'Horseback riding',\n",
       "  'Triathlons',\n",
       "  'Gymnastics',\n",
       "  'Goat',\n",
       "  'Sheep',\n",
       "  'Ski',\n",
       "  'Badminton',\n",
       "  'Midwestern United States',\n",
       "  'Cowboy',\n",
       "  'Horse racing',\n",
       "  'Ranch',\n",
       "  'Western United States',\n",
       "  'Table tennis',\n",
       "  'Thoroughbred',\n",
       "  'Fencing',\n",
       "  'Winter sport',\n",
       "  'Professional Bull Riders',\n",
       "  'Alpine skiing',\n",
       "  'Jockey',\n",
       "  'Dressage',\n",
       "  'Snowboard'],\n",
       " ['American Eagles',\n",
       "  'Albany Great Danes',\n",
       "  'LeBron James',\n",
       "  'Bulldog',\n",
       "  'German Shepherd',\n",
       "  'Kobe Bryant',\n",
       "  'American Pit Bull Terrier',\n",
       "  'Michael Jordan',\n",
       "  'Labrador Retriever',\n",
       "  'Rottweiler',\n",
       "  'Golden Retriever',\n",
       "  'Dachshund',\n",
       "  'French Bulldog',\n",
       "  'Shih Tzu',\n",
       "  'Beagle',\n",
       "  'Poodle',\n",
       "  'Carmelo Anthony',\n",
       "  'Boxer (dog)',\n",
       "  'Columbia University',\n",
       "  'Harvard Business School',\n",
       "  'Staffordshire Bull Terrier',\n",
       "  'Chris Bosh',\n",
       "  'Chihuahua (dog)',\n",
       "  \"Shaquille O'Neal\",\n",
       "  'James Harden',\n",
       "  'Kevin Durant',\n",
       "  'Molosser'],\n",
       " ['Ski resort',\n",
       "  'La Molina (ski resort)',\n",
       "  'Lake Louise Ski Resort',\n",
       "  'Blue Mountain (ski resort)',\n",
       "  'Steamboat Ski Resort',\n",
       "  'Perisher Ski Resort',\n",
       "  'Breckenridge Ski Resort',\n",
       "  'Vail Ski Resort',\n",
       "  'Basketball',\n",
       "  'Baseball',\n",
       "  'Volleyball',\n",
       "  'Tennis',\n",
       "  'Running',\n",
       "  'Golf',\n",
       "  'Cycling',\n",
       "  'Ice hockey',\n",
       "  'Resort',\n",
       "  'Skiing',\n",
       "  'Surfing',\n",
       "  'Field hockey',\n",
       "  'Snowboarding',\n",
       "  'Horseback riding',\n",
       "  'Triathlons',\n",
       "  'Mountain biking',\n",
       "  'Gymnastics',\n",
       "  'Road bicycle racing',\n",
       "  'Ski',\n",
       "  'Badminton',\n",
       "  'Cycle sport',\n",
       "  'Table tennis',\n",
       "  'Seaside resort',\n",
       "  'Track cycling',\n",
       "  'Winter sport'],\n",
       " ['Codename: Kids Next Door',\n",
       "  'Online',\n",
       "  'Website',\n",
       "  'Popular music',\n",
       "  'Printing',\n",
       "  'Viral video',\n",
       "  'Graphic design',\n",
       "  'World Wide Web',\n",
       "  'Promotion (marketing)',\n",
       "  'Viral marketing',\n",
       "  'Drawing',\n",
       "  'Online advertising',\n",
       "  'Digital marketing',\n",
       "  'Multimedia',\n",
       "  'Social media marketing',\n",
       "  'Illustration',\n",
       "  'Web design',\n",
       "  'Marketing communications',\n",
       "  'Search engine optimization',\n",
       "  'Web search engine',\n",
       "  'AdWords',\n",
       "  'Hypertext Transfer Protocol',\n",
       "  'Web server',\n",
       "  'Street dance',\n",
       "  'Web hosting',\n",
       "  'WordPress']]"
      ]
     },
     "execution_count": 5,
     "metadata": {},
     "output_type": "execute_result"
    }
   ],
   "source": [
    "ls_interest"
   ]
  },
  {
   "cell_type": "code",
   "execution_count": null,
   "metadata": {
    "ExecuteTime": {
     "end_time": "2022-07-07T22:01:38.713527Z",
     "start_time": "2022-07-07T22:01:38.701344Z"
    },
    "id": "EUIGi4H1fQPI"
   },
   "outputs": [],
   "source": [
    "model = Word2Vec(window = 10, sg = 1, hs = 0,\n",
    "                 negative = 7,\n",
    "                 alpha=0.03, min_alpha=0.0007,\n",
    "                 seed = 14,min_count=1)"
   ]
  },
  {
   "cell_type": "code",
   "execution_count": null,
   "metadata": {
    "ExecuteTime": {
     "end_time": "2022-07-07T22:01:39.222156Z",
     "start_time": "2022-07-07T22:01:39.196470Z"
    },
    "id": "pQYGHYKGfQPJ"
   },
   "outputs": [],
   "source": [
    "model.build_vocab(ls_interest, progress_per=200)"
   ]
  },
  {
   "cell_type": "code",
   "execution_count": null,
   "metadata": {
    "ExecuteTime": {
     "end_time": "2022-07-07T22:01:39.628199Z",
     "start_time": "2022-07-07T22:01:39.618404Z"
    },
    "id": "ch9FV3Z-fQPK",
    "outputId": "7be90106-d7af-4425-fc85-a2dd9d8079fa"
   },
   "outputs": [
    {
     "data": {
      "text/plain": [
       "236"
      ]
     },
     "execution_count": 8,
     "metadata": {},
     "output_type": "execute_result"
    }
   ],
   "source": [
    "len(set(sum(ls_interest,[])))"
   ]
  },
  {
   "cell_type": "code",
   "execution_count": null,
   "metadata": {
    "ExecuteTime": {
     "end_time": "2022-07-07T22:01:40.363878Z",
     "start_time": "2022-07-07T22:01:40.064651Z"
    },
    "id": "Uidvm0TAfQPL",
    "outputId": "2d8bec40-1e90-4e3c-c1d7-9f668f96856d"
   },
   "outputs": [
    {
     "data": {
      "text/plain": [
       "(19694, 27600)"
      ]
     },
     "execution_count": 9,
     "metadata": {},
     "output_type": "execute_result"
    }
   ],
   "source": [
    "model.train(ls_interest, total_examples = model.corpus_count, \n",
    "            epochs=100, report_delay=1)"
   ]
  },
  {
   "cell_type": "code",
   "execution_count": null,
   "metadata": {
    "ExecuteTime": {
     "end_time": "2022-07-07T22:01:40.962471Z",
     "start_time": "2022-07-07T22:01:40.955387Z"
    },
    "id": "kff6bSRwfQPM",
    "outputId": "8ba2f154-f017-43c4-8a4a-d5f6864ff6f3"
   },
   "outputs": [
    {
     "name": "stdout",
     "output_type": "stream",
     "text": [
      "Word2Vec(vocab=236, vector_size=100, alpha=0.03)\n"
     ]
    }
   ],
   "source": [
    "print(model)"
   ]
  },
  {
   "cell_type": "code",
   "execution_count": null,
   "metadata": {
    "ExecuteTime": {
     "end_time": "2022-07-07T22:01:41.542285Z",
     "start_time": "2022-07-07T22:01:41.531430Z"
    },
    "id": "nHJnDXL1fQPN",
    "outputId": "ad051799-8bc8-4c17-bed9-2403cb695c9b"
   },
   "outputs": [
    {
     "data": {
      "text/plain": [
       "10"
      ]
     },
     "execution_count": 11,
     "metadata": {},
     "output_type": "execute_result"
    }
   ],
   "source": [
    "model.corpus_count"
   ]
  },
  {
   "cell_type": "code",
   "execution_count": null,
   "metadata": {
    "ExecuteTime": {
     "end_time": "2022-07-07T22:01:42.095705Z",
     "start_time": "2022-07-07T22:01:42.072526Z"
    },
    "id": "0vXEfpwofQPN",
    "outputId": "d2176719-b02d-4eb5-ad64-dfcfd826f0d0"
   },
   "outputs": [
    {
     "data": {
      "text/plain": [
       "['Table tennis',\n",
       " 'Tennis',\n",
       " 'NFL Network',\n",
       " 'ESPN2',\n",
       " 'Field hockey',\n",
       " 'Horseback riding',\n",
       " 'Triathlons',\n",
       " 'Gymnastics',\n",
       " 'Badminton',\n",
       " 'Volleyball',\n",
       " 'Skiing',\n",
       " 'PGA Tour',\n",
       " 'Baseball',\n",
       " 'Basketball',\n",
       " 'Snowboarding',\n",
       " 'Ski',\n",
       " 'Golf',\n",
       " 'Ice hockey',\n",
       " 'Water polo',\n",
       " 'Running',\n",
       " 'NBA TV',\n",
       " 'Ronaldinho',\n",
       " 'Winter sport',\n",
       " 'Albany Great Danes',\n",
       " 'Cycling',\n",
       " 'Mountain biking',\n",
       " 'Kaká',\n",
       " 'David Beckham',\n",
       " 'Diego Maradona',\n",
       " 'Major League Baseball',\n",
       " 'Fishing line',\n",
       " 'Coach (sport)',\n",
       " 'Fishing lure',\n",
       " 'Diving',\n",
       " 'Trolling (fishing)',\n",
       " 'Shooting sport',\n",
       " 'National Rifle Association',\n",
       " 'Second Amendment to the United States Constitution',\n",
       " 'Batting cage',\n",
       " 'WordPress',\n",
       " 'ESPN',\n",
       " 'Save (baseball)',\n",
       " 'Kurdistan',\n",
       " 'Doha',\n",
       " 'Tehran',\n",
       " 'Day school',\n",
       " 'Amman',\n",
       " 'Abu Dhabi',\n",
       " 'Jeddah',\n",
       " 'Damascus',\n",
       " 'Riyadh',\n",
       " 'Beirut',\n",
       " 'Neymar',\n",
       " 'Private school',\n",
       " 'Baghdad',\n",
       " 'Ankara',\n",
       " 'Money back guarantee',\n",
       " 'Lionel Messi',\n",
       " 'Dubai',\n",
       " 'Cristiano Ronaldo',\n",
       " 'Tennis court',\n",
       " 'Fox Sports (Brazil)',\n",
       " 'National Collegiate Athletic Association',\n",
       " 'Softball',\n",
       " 'NBA All-Star Game',\n",
       " 'Fox Sports',\n",
       " 'Little League Baseball',\n",
       " 'Recreational fishing',\n",
       " 'Major League Baseball All-Star Game',\n",
       " 'Fox Sports (United States)',\n",
       " 'Risk (game)',\n",
       " 'Angling',\n",
       " 'Reebok',\n",
       " 'Driving range',\n",
       " 'Denpasar',\n",
       " 'Run (baseball)',\n",
       " 'Zinedine Zidane',\n",
       " 'Pekanbaru',\n",
       " 'Zlatan Ibrahimović',\n",
       " 'Kupang',\n",
       " 'Depok',\n",
       " 'Tangerang',\n",
       " 'Semarang',\n",
       " 'Palembang',\n",
       " 'Malang',\n",
       " 'Bekasi',\n",
       " 'Bogor',\n",
       " 'Makassar',\n",
       " 'Yogyakarta',\n",
       " 'Surabaya',\n",
       " 'Bandung',\n",
       " 'Medan',\n",
       " 'Jakarta',\n",
       " 'Baseball field',\n",
       " 'Adidas',\n",
       " 'ASICS',\n",
       " 'Archery',\n",
       " 'Puma SE',\n",
       " 'Boarding school',\n",
       " 'Hunting',\n",
       " 'Camping',\n",
       " 'Shooting range',\n",
       " 'PGA European Tour',\n",
       " 'Callaway Golf Company',\n",
       " 'Golf cart',\n",
       " 'Golf Magazine',\n",
       " 'Titleist',\n",
       " 'Mizuno Corporation',\n",
       " 'PGA Championship',\n",
       " 'Kappa (company)',\n",
       " 'Golf Digest',\n",
       " 'Tiger Woods',\n",
       " 'Golf ball',\n",
       " 'Masters Tournament',\n",
       " 'Lotto Sport Italia',\n",
       " 'Golf club',\n",
       " 'Ball',\n",
       " 'Fila (company)',\n",
       " 'Golf course',\n",
       " 'Single-sex education',\n",
       " 'Muddy Bottoms ATV & Recreation Park',\n",
       " 'Erbil',\n",
       " 'Road bicycle racing',\n",
       " 'Resort',\n",
       " 'Vail Ski Resort',\n",
       " 'Breckenridge Ski Resort',\n",
       " 'Perisher Ski Resort',\n",
       " 'Steamboat Ski Resort',\n",
       " 'Blue Mountain (ski resort)',\n",
       " 'Lake Louise Ski Resort',\n",
       " 'La Molina (ski resort)',\n",
       " 'Ski resort',\n",
       " 'Molosser',\n",
       " 'Kevin Durant',\n",
       " 'James Harden',\n",
       " \"Shaquille O'Neal\",\n",
       " 'Chihuahua (dog)',\n",
       " 'Chris Bosh',\n",
       " 'Staffordshire Bull Terrier',\n",
       " 'Harvard Business School',\n",
       " 'Columbia University',\n",
       " 'Boxer (dog)',\n",
       " 'Carmelo Anthony',\n",
       " 'Poodle',\n",
       " 'Beagle',\n",
       " 'Shih Tzu',\n",
       " 'French Bulldog',\n",
       " 'Dachshund',\n",
       " 'Surfing',\n",
       " 'Cycle sport',\n",
       " 'Rottweiler',\n",
       " 'Seaside resort',\n",
       " 'Street dance',\n",
       " 'Web server',\n",
       " 'Hypertext Transfer Protocol',\n",
       " 'AdWords',\n",
       " 'Web search engine',\n",
       " 'Search engine optimization',\n",
       " 'Marketing communications',\n",
       " 'Web design',\n",
       " 'Illustration',\n",
       " 'Social media marketing',\n",
       " 'Multimedia',\n",
       " 'Digital marketing',\n",
       " 'Online advertising',\n",
       " 'Drawing',\n",
       " 'Viral marketing',\n",
       " 'Promotion (marketing)',\n",
       " 'World Wide Web',\n",
       " 'Graphic design',\n",
       " 'Viral video',\n",
       " 'Printing',\n",
       " 'Popular music',\n",
       " 'Website',\n",
       " 'Online',\n",
       " 'Codename: Kids Next Door',\n",
       " 'Track cycling',\n",
       " 'Golden Retriever',\n",
       " 'Labrador Retriever',\n",
       " 'Web hosting',\n",
       " 'Professional Rodeo Cowboys Association',\n",
       " 'Kawasaki Heavy Industries',\n",
       " 'Custom motorcycle',\n",
       " 'Vespa',\n",
       " 'Jeep Wrangler',\n",
       " 'Ducati',\n",
       " 'Aprilia',\n",
       " 'Sport bike',\n",
       " 'Off-road vehicle',\n",
       " 'All-terrain vehicle',\n",
       " 'Subaru',\n",
       " 'Types of motorcycles',\n",
       " 'Enduro',\n",
       " 'KTM',\n",
       " 'Grand Prix motorcycle racing',\n",
       " 'Yamaha Motor Company',\n",
       " 'Off-roading',\n",
       " 'Mitsubishi Motors',\n",
       " 'Mazda',\n",
       " 'Suzuki',\n",
       " 'Scooters',\n",
       " 'Ford Motor Company',\n",
       " 'Honda',\n",
       " 'Nissan',\n",
       " 'Toyota',\n",
       " 'Motorcycles',\n",
       " 'National Finals Rodeo',\n",
       " 'Houston Livestock Show and Rodeo',\n",
       " 'Michael Jordan',\n",
       " 'Blue Rodeo',\n",
       " 'American Pit Bull Terrier',\n",
       " 'Kobe Bryant',\n",
       " 'German Shepherd',\n",
       " 'Bulldog',\n",
       " 'LeBron James',\n",
       " 'American Eagles',\n",
       " 'Snowboard',\n",
       " 'Dressage',\n",
       " 'Jockey',\n",
       " 'Alpine skiing',\n",
       " 'Professional Bull Riders',\n",
       " 'Fencing',\n",
       " 'Thoroughbred',\n",
       " 'Western United States',\n",
       " 'Ranch',\n",
       " 'Horse racing',\n",
       " 'Cowboy',\n",
       " 'Midwestern United States',\n",
       " 'Sheep',\n",
       " 'Goat',\n",
       " 'Cattle',\n",
       " 'Horses',\n",
       " 'Rodeo News',\n",
       " 'National High School Rodeo Association',\n",
       " \"Women's Professional Rodeo Association\",\n",
       " 'Manager (baseball)']"
      ]
     },
     "execution_count": 12,
     "metadata": {},
     "output_type": "execute_result"
    }
   ],
   "source": [
    "model.wv.index_to_key"
   ]
  },
  {
   "cell_type": "code",
   "execution_count": null,
   "metadata": {
    "ExecuteTime": {
     "end_time": "2022-07-07T22:01:42.611273Z",
     "start_time": "2022-07-07T22:01:42.601920Z"
    },
    "id": "LTWUY-mBfQPN",
    "outputId": "5415cf66-ceb4-4be4-bdf8-d427e53796c1"
   },
   "outputs": [
    {
     "data": {
      "text/plain": [
       "236"
      ]
     },
     "execution_count": 13,
     "metadata": {},
     "output_type": "execute_result"
    }
   ],
   "source": [
    "len(model.wv)"
   ]
  },
  {
   "cell_type": "code",
   "execution_count": null,
   "metadata": {
    "ExecuteTime": {
     "end_time": "2022-07-07T22:01:43.242864Z",
     "start_time": "2022-07-07T22:01:43.235075Z"
    },
    "id": "4xgfUEUefQPO",
    "outputId": "58d4bdcc-3e84-41b1-c9f5-7963ff0ade79"
   },
   "outputs": [
    {
     "data": {
      "text/plain": [
       "array([-0.16383828,  0.33485475, -0.0768666 ,  0.0214282 , -0.3835827 ,\n",
       "       -0.01252683,  0.30664593,  0.3114262 , -0.16243094,  0.18991537,\n",
       "       -0.35542342,  0.13599896,  0.28133467,  0.17503227, -0.4872666 ,\n",
       "       -0.12848102,  0.8140706 ,  0.05092692, -0.2543388 , -0.1209098 ,\n",
       "        0.0953037 ,  0.40390444,  0.05100074, -0.3985363 , -0.08086444,\n",
       "        0.02289792, -0.20612994, -0.08822703,  0.8175566 , -0.05902966,\n",
       "       -0.08965391, -0.2649241 ,  0.1205062 , -0.06523831,  0.09224368,\n",
       "        0.39439583,  0.09024956, -0.25631914,  0.408143  , -0.04028845,\n",
       "        0.02960904, -0.18200159,  0.16415407,  0.03103375,  0.283091  ,\n",
       "       -0.2912493 , -0.10547978, -0.26915064, -0.07817754,  0.23685001,\n",
       "        0.11318713, -0.50546557, -0.23846082, -0.16376281, -0.02988438,\n",
       "        0.25719324,  0.0199502 , -0.019679  , -0.02746231,  0.03417795,\n",
       "        0.00749189,  0.35109168,  0.338811  ,  0.22173993, -0.13914159,\n",
       "       -0.30506265, -0.02232952,  0.326554  , -0.29298034,  0.32924366,\n",
       "       -0.37526828,  0.2908687 ,  0.100779  ,  0.15544122, -0.23460157,\n",
       "       -0.16122203, -0.00573152, -0.14887609,  0.43321124,  0.2518701 ,\n",
       "       -0.37114644,  0.05453499,  0.49222642, -0.2084328 ,  0.23272184,\n",
       "       -0.07946168,  0.15533255, -0.39081267,  0.20562902,  0.06769025,\n",
       "        0.1553774 , -0.3408946 , -0.3216231 ,  0.30923507,  0.30652118,\n",
       "        0.18542904,  0.26893216,  0.23115328,  0.05934425,  0.17708305],\n",
       "      dtype=float32)"
      ]
     },
     "execution_count": 14,
     "metadata": {},
     "output_type": "execute_result"
    }
   ],
   "source": [
    "model.wv[0]"
   ]
  },
  {
   "cell_type": "markdown",
   "metadata": {
    "id": "OywNAkgZfQPP"
   },
   "source": [
    "## Recomendaciones"
   ]
  },
  {
   "cell_type": "code",
   "execution_count": null,
   "metadata": {
    "ExecuteTime": {
     "end_time": "2022-07-07T22:04:57.814416Z",
     "start_time": "2022-07-07T22:04:57.804146Z"
    },
    "id": "SKvKHDVafQPR"
   },
   "outputs": [],
   "source": [
    "\n",
    "def similar_products(v, n=5 ):\n",
    "    \n",
    "    ms = model.wv.similar_by_vector(v, topn= n+1)[1:]\n",
    "\n",
    "        \n",
    "    return ms"
   ]
  },
  {
   "cell_type": "code",
   "execution_count": null,
   "metadata": {
    "ExecuteTime": {
     "end_time": "2022-07-07T22:04:58.371714Z",
     "start_time": "2022-07-07T22:04:58.359393Z"
    },
    "id": "ZbK4kIGXfQPS",
    "outputId": "a9b144d5-ef66-4f33-f80c-59cfb098ecb5"
   },
   "outputs": [
    {
     "data": {
      "text/plain": [
       "[('Table tennis', 1.0),\n",
       " ('Field hockey', 0.9022367000579834),\n",
       " ('Badminton', 0.8901557326316833),\n",
       " ('Seaside resort', 0.8890295624732971),\n",
       " ('Track cycling', 0.8833248615264893),\n",
       " ('Winter sport', 0.8756754994392395)]"
      ]
     },
     "execution_count": 32,
     "metadata": {},
     "output_type": "execute_result"
    }
   ],
   "source": [
    "model.wv.similar_by_vector(model.wv[0], topn= 6)"
   ]
  },
  {
   "cell_type": "code",
   "execution_count": null,
   "metadata": {
    "ExecuteTime": {
     "end_time": "2022-07-07T22:04:59.120873Z",
     "start_time": "2022-07-07T22:04:59.106300Z"
    },
    "id": "-_LEOkYYfQPT",
    "outputId": "eda8026f-5b83-48c0-c67c-8899e39daa22"
   },
   "outputs": [
    {
     "data": {
      "text/plain": [
       "array([-0.2858913 ,  0.28191155, -0.0825799 ,  0.2927654 , -0.14565939,\n",
       "        0.10555788,  0.20329341,  0.09772618, -0.16472597,  0.02694489,\n",
       "       -0.3733594 ,  0.21176429,  0.4556758 ,  0.3604877 , -0.44423404,\n",
       "       -0.19332397,  0.8016236 , -0.07253461, -0.42789942, -0.02106675,\n",
       "        0.31819955,  0.30063206, -0.01199467, -0.26039484,  0.07202122,\n",
       "        0.05780465, -0.3116915 , -0.33169308,  0.8390646 , -0.04971239,\n",
       "       -0.18922092, -0.11738729,  0.05819803,  0.21128577,  0.08180983,\n",
       "        0.27169323,  0.104331  , -0.4135683 ,  0.16511975, -0.18754132,\n",
       "        0.02343168, -0.19953103,  0.31207648,  0.16884467, -0.01343446,\n",
       "       -0.27776033, -0.08311575, -0.44933182,  0.05937051,  0.34331188,\n",
       "       -0.15108334, -0.4538974 , -0.00895014, -0.09313505,  0.06363833,\n",
       "        0.36040732, -0.13808265,  0.04438431,  0.05209542, -0.0171865 ,\n",
       "       -0.07361864,  0.30194333,  0.18749347,  0.10927419, -0.2265575 ,\n",
       "       -0.2351402 , -0.23429121,  0.328341  , -0.39687362,  0.31705847,\n",
       "       -0.27143106,  0.17702544,  0.1738398 , -0.0493972 , -0.24873222,\n",
       "        0.0807147 ,  0.28621727, -0.32853523,  0.5869867 ,  0.26009962,\n",
       "       -0.44480735, -0.21926148,  0.5199675 , -0.34887958,  0.18276794,\n",
       "        0.09482385,  0.03517917, -0.33063054,  0.43284175, -0.06248692,\n",
       "        0.16782476, -0.23395935, -0.36150625,  0.11978249, -0.03491131,\n",
       "        0.2800285 ,  0.26963657, -0.03075409,  0.16310254,  0.38525394],\n",
       "      dtype=float32)"
      ]
     },
     "execution_count": 33,
     "metadata": {},
     "output_type": "execute_result"
    }
   ],
   "source": [
    "model.wv['Mountain biking']"
   ]
  },
  {
   "cell_type": "code",
   "execution_count": null,
   "metadata": {
    "ExecuteTime": {
     "end_time": "2022-07-07T22:04:59.620659Z",
     "start_time": "2022-07-07T22:04:59.616314Z"
    },
    "id": "6PtISHv8fQPU",
    "outputId": "01f2032f-c3f3-4eca-e9ac-3b7e2c09093b"
   },
   "outputs": [
    {
     "data": {
      "text/plain": [
       "[('Shooting range', 0.9846796989440918),\n",
       " ('Camping', 0.9827902913093567),\n",
       " ('Cycling', 0.9788119792938232),\n",
       " ('Hunting', 0.970434844493866),\n",
       " ('Triathlons', 0.9625453352928162),\n",
       " ('Seaside resort', 0.962403416633606)]"
      ]
     },
     "execution_count": 34,
     "metadata": {},
     "output_type": "execute_result"
    }
   ],
   "source": [
    "similar_products(model.wv['Mountain biking'],n=6)\n"
   ]
  },
  {
   "cell_type": "code",
   "execution_count": null,
   "metadata": {
    "ExecuteTime": {
     "end_time": "2022-07-07T22:05:03.085238Z",
     "start_time": "2022-07-07T22:05:03.075474Z"
    },
    "id": "vgMoD-ajfQPU",
    "outputId": "b9eea9c9-06ce-4d7c-c88c-780393b2e895"
   },
   "outputs": [
    {
     "data": {
      "text/plain": [
       "[('Money back guarantee', 0.9990519881248474),\n",
       " ('Dubai', 0.9989790916442871),\n",
       " ('Ankara', 0.998889684677124),\n",
       " ('Lionel Messi', 0.9988749623298645),\n",
       " ('Tennis court', 0.998310923576355)]"
      ]
     },
     "execution_count": 35,
     "metadata": {},
     "output_type": "execute_result"
    }
   ],
   "source": [
    "similar_products(model.wv['Cristiano Ronaldo'])"
   ]
  },
  {
   "cell_type": "code",
   "execution_count": null,
   "metadata": {
    "ExecuteTime": {
     "end_time": "2022-07-07T22:05:19.489169Z",
     "start_time": "2022-07-07T22:05:19.482392Z"
    },
    "id": "iyNelnzbfQPV",
    "outputId": "ae33683b-c21b-4e3b-f4ff-bf72a6d0b7aa"
   },
   "outputs": [
    {
     "data": {
      "text/plain": [
       "[('Golf Digest', 0.9986423850059509),\n",
       " ('Golf ball', 0.9985303282737732),\n",
       " ('Kappa (company)', 0.9982497692108154),\n",
       " ('PGA Championship', 0.9967760443687439),\n",
       " ('Mizuno Corporation', 0.9934937953948975),\n",
       " ('Masters Tournament', 0.993247926235199),\n",
       " ('Titleist', 0.9928542971611023),\n",
       " ('Lotto Sport Italia', 0.9923437237739563),\n",
       " ('Golf Magazine', 0.9921835660934448),\n",
       " ('Golf cart', 0.991234302520752),\n",
       " ('PGA European Tour', 0.9906580448150635),\n",
       " ('Callaway Golf Company', 0.9891200661659241),\n",
       " ('Golf club', 0.9873959422111511),\n",
       " ('Ball', 0.9842779636383057),\n",
       " ('Fila (company)', 0.9819826483726501)]"
      ]
     },
     "execution_count": 36,
     "metadata": {},
     "output_type": "execute_result"
    }
   ],
   "source": [
    "similar_products(model.wv['Tiger Woods'],n=15)"
   ]
  },
  {
   "cell_type": "code",
   "execution_count": null,
   "metadata": {
    "ExecuteTime": {
     "end_time": "2022-07-07T22:05:26.351047Z",
     "start_time": "2022-07-07T22:05:26.346860Z"
    },
    "id": "ZMHatdZsfQPV"
   },
   "outputs": [],
   "source": [
    "def aggregate_vectors(products):\n",
    "    product_vec = []\n",
    "    for i in products:\n",
    "        try:\n",
    "            product_vec.append(model.wv[i])\n",
    "        except KeyError:\n",
    "            continue\n",
    "        \n",
    "    return np.mean(product_vec, axis=0)"
   ]
  },
  {
   "cell_type": "code",
   "execution_count": null,
   "metadata": {
    "ExecuteTime": {
     "end_time": "2022-07-07T22:05:27.706650Z",
     "start_time": "2022-07-07T22:05:27.700327Z"
    },
    "id": "Bh2wecjJfQPW",
    "outputId": "c26363d8-223a-454f-929f-2658c7b925ef"
   },
   "outputs": [
    {
     "data": {
      "text/plain": [
       "[('Titleist', 0.8700833916664124),\n",
       " ('Callaway Golf Company', 0.8671025037765503),\n",
       " ('PGA European Tour', 0.8660483956336975),\n",
       " ('Tiger Woods', 0.864921510219574),\n",
       " ('Golf Magazine', 0.8641132116317749),\n",
       " ('Golf Digest', 0.8624721169471741),\n",
       " ('PGA Championship', 0.8616859912872314),\n",
       " ('Kappa (company)', 0.8616728782653809),\n",
       " ('Mizuno Corporation', 0.8608222007751465),\n",
       " ('Golf ball', 0.8583935499191284)]"
      ]
     },
     "execution_count": 38,
     "metadata": {},
     "output_type": "execute_result"
    }
   ],
   "source": [
    "similar_products(aggregate_vectors(['Tiger Woods','Cristiano Ronaldo']),n=10)"
   ]
  },
  {
   "cell_type": "code",
   "execution_count": null,
   "metadata": {
    "id": "44wdbmy-fQPW"
   },
   "outputs": [],
   "source": []
  }
 ],
 "metadata": {
  "colab": {
   "name": "Ejemplo w2v recommender items-Interests.ipynb",
   "provenance": []
  },
  "kernelspec": {
   "display_name": "Python 3 (ipykernel)",
   "language": "python",
   "name": "python3"
  },
  "language_info": {
   "codemirror_mode": {
    "name": "ipython",
    "version": 3
   },
   "file_extension": ".py",
   "mimetype": "text/x-python",
   "name": "python",
   "nbconvert_exporter": "python",
   "pygments_lexer": "ipython3",
   "version": "3.9.6"
  },
  "varInspector": {
   "cols": {
    "lenName": 16,
    "lenType": 16,
    "lenVar": 40
   },
   "kernels_config": {
    "python": {
     "delete_cmd_postfix": "",
     "delete_cmd_prefix": "del ",
     "library": "var_list.py",
     "varRefreshCmd": "print(var_dic_list())"
    },
    "r": {
     "delete_cmd_postfix": ") ",
     "delete_cmd_prefix": "rm(",
     "library": "var_list.r",
     "varRefreshCmd": "cat(var_dic_list()) "
    }
   },
   "types_to_exclude": [
    "module",
    "function",
    "builtin_function_or_method",
    "instance",
    "_Feature"
   ],
   "window_display": false
  }
 },
 "nbformat": 4,
 "nbformat_minor": 1
}
