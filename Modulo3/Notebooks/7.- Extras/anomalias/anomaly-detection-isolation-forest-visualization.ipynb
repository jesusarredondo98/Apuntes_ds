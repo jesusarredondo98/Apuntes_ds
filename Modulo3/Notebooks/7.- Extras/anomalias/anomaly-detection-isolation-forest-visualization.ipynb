{
 "cells": [
  {
   "cell_type": "code",
   "execution_count": 1,
   "metadata": {
    "ExecuteTime": {
     "end_time": "2022-07-23T02:40:09.064702Z",
     "start_time": "2022-07-23T02:40:07.934742Z"
    },
    "_cell_guid": "b1076dfc-b9ad-4769-8c92-a6c4dae69d19",
    "_uuid": "8f2839f25d086af736a60e9eeb907d3b93b6e0e5"
   },
   "outputs": [],
   "source": [
    "import numpy as np \n",
    "import pandas as pd\n",
    "from sklearn.ensemble import IsolationForest"
   ]
  },
  {
   "cell_type": "code",
   "execution_count": 2,
   "metadata": {
    "ExecuteTime": {
     "end_time": "2022-07-23T02:40:10.122311Z",
     "start_time": "2022-07-23T02:40:09.740240Z"
    }
   },
   "outputs": [],
   "source": [
    "df = pd.read_csv(\"../data/TimeSeries.csv\")"
   ]
  },
  {
   "cell_type": "code",
   "execution_count": 3,
   "metadata": {
    "ExecuteTime": {
     "end_time": "2022-07-23T02:40:10.318026Z",
     "start_time": "2022-07-23T02:40:10.267560Z"
    },
    "_cell_guid": "79c7e3d0-c299-4dcb-8224-4455121ee9b0",
    "_uuid": "d629ff2d2480ee46fbb7e2d37f6b5fab8052498a"
   },
   "outputs": [
    {
     "data": {
      "text/html": [
       "<div>\n",
       "<style scoped>\n",
       "    .dataframe tbody tr th:only-of-type {\n",
       "        vertical-align: middle;\n",
       "    }\n",
       "\n",
       "    .dataframe tbody tr th {\n",
       "        vertical-align: top;\n",
       "    }\n",
       "\n",
       "    .dataframe thead th {\n",
       "        text-align: right;\n",
       "    }\n",
       "</style>\n",
       "<table border=\"1\" class=\"dataframe\">\n",
       "  <thead>\n",
       "    <tr style=\"text-align: right;\">\n",
       "      <th></th>\n",
       "      <th>v1</th>\n",
       "      <th>v2</th>\n",
       "      <th>v3</th>\n",
       "      <th>v4</th>\n",
       "      <th>v5</th>\n",
       "      <th>v6</th>\n",
       "      <th>v7</th>\n",
       "      <th>v8</th>\n",
       "      <th>v9</th>\n",
       "      <th>v10</th>\n",
       "      <th>v11</th>\n",
       "    </tr>\n",
       "  </thead>\n",
       "  <tbody>\n",
       "    <tr>\n",
       "      <th>0</th>\n",
       "      <td>-2.00</td>\n",
       "      <td>1.51</td>\n",
       "      <td>10.14</td>\n",
       "      <td>0.0</td>\n",
       "      <td>0.0</td>\n",
       "      <td>0.0</td>\n",
       "      <td>-15.78</td>\n",
       "      <td>-22.31</td>\n",
       "      <td>-11.70</td>\n",
       "      <td>-13.57</td>\n",
       "      <td>92.95</td>\n",
       "    </tr>\n",
       "    <tr>\n",
       "      <th>1</th>\n",
       "      <td>-2.00</td>\n",
       "      <td>1.51</td>\n",
       "      <td>10.13</td>\n",
       "      <td>0.0</td>\n",
       "      <td>0.0</td>\n",
       "      <td>0.0</td>\n",
       "      <td>-16.86</td>\n",
       "      <td>-23.38</td>\n",
       "      <td>-10.31</td>\n",
       "      <td>-13.57</td>\n",
       "      <td>92.95</td>\n",
       "    </tr>\n",
       "    <tr>\n",
       "      <th>2</th>\n",
       "      <td>-2.00</td>\n",
       "      <td>1.51</td>\n",
       "      <td>10.13</td>\n",
       "      <td>0.0</td>\n",
       "      <td>0.0</td>\n",
       "      <td>0.0</td>\n",
       "      <td>-16.86</td>\n",
       "      <td>-23.38</td>\n",
       "      <td>-10.31</td>\n",
       "      <td>-13.57</td>\n",
       "      <td>92.95</td>\n",
       "    </tr>\n",
       "    <tr>\n",
       "      <th>3</th>\n",
       "      <td>-1.99</td>\n",
       "      <td>1.51</td>\n",
       "      <td>10.17</td>\n",
       "      <td>0.0</td>\n",
       "      <td>0.0</td>\n",
       "      <td>0.0</td>\n",
       "      <td>-16.86</td>\n",
       "      <td>-23.38</td>\n",
       "      <td>-10.31</td>\n",
       "      <td>-13.57</td>\n",
       "      <td>92.95</td>\n",
       "    </tr>\n",
       "    <tr>\n",
       "      <th>4</th>\n",
       "      <td>-1.99</td>\n",
       "      <td>1.51</td>\n",
       "      <td>10.17</td>\n",
       "      <td>0.0</td>\n",
       "      <td>0.0</td>\n",
       "      <td>0.0</td>\n",
       "      <td>-16.86</td>\n",
       "      <td>-23.38</td>\n",
       "      <td>-10.31</td>\n",
       "      <td>-13.57</td>\n",
       "      <td>92.95</td>\n",
       "    </tr>\n",
       "  </tbody>\n",
       "</table>\n",
       "</div>"
      ],
      "text/plain": [
       "     v1    v2     v3   v4   v5   v6     v7     v8     v9    v10    v11\n",
       "0 -2.00  1.51  10.14  0.0  0.0  0.0 -15.78 -22.31 -11.70 -13.57  92.95\n",
       "1 -2.00  1.51  10.13  0.0  0.0  0.0 -16.86 -23.38 -10.31 -13.57  92.95\n",
       "2 -2.00  1.51  10.13  0.0  0.0  0.0 -16.86 -23.38 -10.31 -13.57  92.95\n",
       "3 -1.99  1.51  10.17  0.0  0.0  0.0 -16.86 -23.38 -10.31 -13.57  92.95\n",
       "4 -1.99  1.51  10.17  0.0  0.0  0.0 -16.86 -23.38 -10.31 -13.57  92.95"
      ]
     },
     "execution_count": 3,
     "metadata": {},
     "output_type": "execute_result"
    }
   ],
   "source": [
    "df.head()"
   ]
  },
  {
   "cell_type": "code",
   "execution_count": 4,
   "metadata": {
    "ExecuteTime": {
     "end_time": "2022-07-23T02:40:13.298169Z",
     "start_time": "2022-07-23T02:40:13.282357Z"
    },
    "_uuid": "620e67011ddf65a88aaceab917827ded2c76e0b4"
   },
   "outputs": [
    {
     "data": {
      "text/plain": [
       "Index(['v1', 'v2', 'v3', 'v4', 'v5', 'v6', 'v7', 'v8', 'v9', 'v10', 'v11'], dtype='object')"
      ]
     },
     "execution_count": 4,
     "metadata": {},
     "output_type": "execute_result"
    }
   ],
   "source": [
    "df.columns\n"
   ]
  },
  {
   "cell_type": "code",
   "execution_count": 5,
   "metadata": {
    "ExecuteTime": {
     "end_time": "2022-07-23T02:40:29.633299Z",
     "start_time": "2022-07-23T02:40:15.378110Z"
    },
    "_uuid": "af28129481c815b90882206acd70fee463288eb4"
   },
   "outputs": [
    {
     "data": {
      "text/plain": [
       "IsolationForest(contamination=0.01)"
      ]
     },
     "execution_count": 5,
     "metadata": {},
     "output_type": "execute_result"
    }
   ],
   "source": [
    "\n",
    "clf=IsolationForest(contamination=.01) #Soporte a outliers\n",
    "clf.fit(df) #Deteccion de outliers multivariada"
   ]
  },
  {
   "cell_type": "code",
   "execution_count": 6,
   "metadata": {
    "ExecuteTime": {
     "end_time": "2022-07-23T02:40:47.698618Z",
     "start_time": "2022-07-23T02:40:36.881035Z"
    },
    "_uuid": "7fdde8de612dfa7293bd69787e48563e200f54ea"
   },
   "outputs": [],
   "source": [
    "pred = clf.predict(df) #Hacemos una prediccion, lo que hace es identificar\n",
    "#los puntos aislados en los arboles"
   ]
  },
  {
   "cell_type": "code",
   "execution_count": 7,
   "metadata": {
    "ExecuteTime": {
     "end_time": "2022-07-23T02:41:17.602258Z",
     "start_time": "2022-07-23T02:41:17.590295Z"
    },
    "_uuid": "7fdde8de612dfa7293bd69787e48563e200f54ea"
   },
   "outputs": [],
   "source": [
    "df['anomaly']=pred"
   ]
  },
  {
   "cell_type": "code",
   "execution_count": 8,
   "metadata": {
    "ExecuteTime": {
     "end_time": "2022-07-23T02:41:19.564431Z",
     "start_time": "2022-07-23T02:41:19.546981Z"
    }
   },
   "outputs": [
    {
     "data": {
      "text/plain": [
       " 1    504535\n",
       "-1      5097\n",
       "Name: anomaly, dtype: int64"
      ]
     },
     "execution_count": 8,
     "metadata": {},
     "output_type": "execute_result"
    }
   ],
   "source": [
    "df['anomaly'].value_counts() #regresa dos valores"
   ]
  },
  {
   "cell_type": "code",
   "execution_count": 9,
   "metadata": {
    "ExecuteTime": {
     "end_time": "2022-07-23T02:41:27.106368Z",
     "start_time": "2022-07-23T02:41:27.073507Z"
    }
   },
   "outputs": [
    {
     "data": {
      "text/plain": [
       " 1    0.989999\n",
       "-1    0.010001\n",
       "Name: anomaly, dtype: float64"
      ]
     },
     "execution_count": 9,
     "metadata": {},
     "output_type": "execute_result"
    }
   ],
   "source": [
    "df['anomaly'].value_counts(1) #solo detecta lo pedido en contamination"
   ]
  },
  {
   "cell_type": "code",
   "execution_count": 10,
   "metadata": {
    "ExecuteTime": {
     "end_time": "2022-07-23T02:41:30.868691Z",
     "start_time": "2022-07-23T02:41:30.859830Z"
    }
   },
   "outputs": [],
   "source": [
    "to_model_columns = ['v1', 'v2', 'v3', 'v4', 'v5', 'v6', 'v7', 'v8', 'v9', 'v10', 'v11']\n"
   ]
  },
  {
   "cell_type": "code",
   "execution_count": 12,
   "metadata": {
    "ExecuteTime": {
     "end_time": "2022-07-23T02:41:49.633952Z",
     "start_time": "2022-07-23T02:41:49.622989Z"
    },
    "_uuid": "e964febf84c5e71d2f03b7e62a6519d91e16b399"
   },
   "outputs": [],
   "source": [
    "import matplotlib.pyplot as plt\n",
    "from sklearn.decomposition import PCA\n",
    "from sklearn.preprocessing import StandardScaler\n",
    "from mpl_toolkits.mplot3d import Axes3D"
   ]
  },
  {
   "cell_type": "code",
   "execution_count": 13,
   "metadata": {
    "ExecuteTime": {
     "end_time": "2022-07-23T02:42:02.824448Z",
     "start_time": "2022-07-23T02:42:01.111881Z"
    },
    "_uuid": "e964febf84c5e71d2f03b7e62a6519d91e16b399"
   },
   "outputs": [],
   "source": [
    "pca = PCA(n_components=3) \n",
    "scaler = StandardScaler()\n",
    "X = scaler.fit_transform(df[to_model_columns])\n",
    "X_reduce = pd.DataFrame(pca.fit_transform(X),columns = [\"p0\",\"p1\",\"p2\"],index =df.index)"
   ]
  },
  {
   "cell_type": "code",
   "execution_count": 14,
   "metadata": {
    "ExecuteTime": {
     "end_time": "2022-07-23T02:42:08.788495Z",
     "start_time": "2022-07-23T02:42:08.749267Z"
    }
   },
   "outputs": [],
   "source": [
    "X_reduce_inliers = X_reduce[df[\"anomaly\"]==1]"
   ]
  },
  {
   "cell_type": "code",
   "execution_count": 15,
   "metadata": {
    "ExecuteTime": {
     "end_time": "2022-07-23T02:42:31.113512Z",
     "start_time": "2022-07-23T02:42:21.994818Z"
    },
    "_uuid": "e964febf84c5e71d2f03b7e62a6519d91e16b399"
   },
   "outputs": [
    {
     "data": {
      "image/png": "[encoded data removed]",
      "text/plain": [
       "<Figure size 432x288 with 1 Axes>"
      ]
     },
     "metadata": {
      "needs_background": "light"
     },
     "output_type": "display_data"
    }
   ],
   "source": [
    "fig = plt.figure()\n",
    "ax = fig.add_subplot(111, projection='3d')\n",
    "ax.set_zlabel(\"x_composite_3\")\n",
    "\n",
    "\n",
    "ax.scatter(X_reduce_inliers[\"p0\"], X_reduce_inliers[\"p1\"], zs=X_reduce_inliers[\"p2\"], s=4, lw=1, label=\"inliers\",c=\"green\")\n",
    "\n",
    "\n",
    "ax.scatter(X_reduce.loc[df[\"anomaly\"]==-1,\"p0\"],X_reduce.loc[df[\"anomaly\"]==-1,\"p1\"], X_reduce.loc[df[\"anomaly\"]==-1,\"p2\"],\n",
    "           lw=2, s=60, marker=\"x\", c=\"red\", label=\"outliers\")\n",
    "ax.legend()\n",
    "plt.show()"
   ]
  },
  {
   "cell_type": "code",
   "execution_count": 17,
   "metadata": {
    "ExecuteTime": {
     "end_time": "2022-07-23T02:44:59.319408Z",
     "start_time": "2022-07-23T02:44:59.303764Z"
    }
   },
   "outputs": [],
   "source": [
    "df[\"anomaly\"] = df[\"anomaly\"]==-1"
   ]
  },
  {
   "cell_type": "code",
   "execution_count": 18,
   "metadata": {
    "ExecuteTime": {
     "end_time": "2022-07-23T02:45:02.547980Z",
     "start_time": "2022-07-23T02:44:59.736022Z"
    },
    "_uuid": "fc3ac4f1aa5279dabb441c7b2ce6b2a9a30caa89"
   },
   "outputs": [
    {
     "data": {
      "image/png": "[encoded data removed]",
      "text/plain": [
       "<Figure size 864x504 with 1 Axes>"
      ]
     },
     "metadata": {
      "needs_background": "light"
     },
     "output_type": "display_data"
    }
   ],
   "source": [
    "from sklearn.decomposition import PCA\n",
    "pca = PCA(2)\n",
    "pca.fit(df[to_model_columns])\n",
    "\n",
    "\n",
    "res=pd.DataFrame(pca.transform(df[to_model_columns]))\n",
    "\n",
    "Z = np.array(res)\n",
    "figsize=(12, 7)\n",
    "plt.figure(figsize=figsize)\n",
    "plt.title(\"IsolationForest\")\n",
    "\n",
    "\n",
    "b1 = plt.scatter(res[~df[\"anomaly\"] ][0], res[~df[\"anomaly\"]][1], c='blue',\n",
    "                 s=40,label=\"normal points\")\n",
    "\n",
    "b1 = plt.scatter(res.loc[df[\"anomaly\"] ,0], res.loc[df[\"anomaly\"] ,1], c='red',\n",
    "                 s=40,  edgecolor=\"red\",label=\"predicted outliers\")\n",
    "plt.legend(loc=\"upper right\")\n",
    "plt.show()\n"
   ]
  },
  {
   "cell_type": "code",
   "execution_count": 19,
   "metadata": {
    "ExecuteTime": {
     "end_time": "2022-07-23T02:45:08.342296Z",
     "start_time": "2022-07-23T02:45:08.315139Z"
    },
    "_uuid": "3b837be3ab593764c6db8f73a8407a85843106b9"
   },
   "outputs": [
    {
     "data": {
      "text/plain": [
       "969       51.918655\n",
       "970       51.758253\n",
       "971       51.621986\n",
       "972       51.452168\n",
       "973       51.199813\n",
       "            ...    \n",
       "509053   -13.286069\n",
       "509378   -13.030255\n",
       "509379   -13.043584\n",
       "509499   -18.112251\n",
       "509500   -18.101769\n",
       "Name: 0, Length: 5097, dtype: float64"
      ]
     },
     "execution_count": 19,
     "metadata": {},
     "output_type": "execute_result"
    }
   ],
   "source": [
    "res.loc[df[\"anomaly\"] ,0]"
   ]
  },
  {
   "cell_type": "code",
   "execution_count": 21,
   "metadata": {
    "ExecuteTime": {
     "end_time": "2022-07-23T02:45:47.582175Z",
     "start_time": "2022-07-23T02:45:47.573387Z"
    }
   },
   "outputs": [
    {
     "data": {
      "text/html": [
       "<div>\n",
       "<style scoped>\n",
       "    .dataframe tbody tr th:only-of-type {\n",
       "        vertical-align: middle;\n",
       "    }\n",
       "\n",
       "    .dataframe tbody tr th {\n",
       "        vertical-align: top;\n",
       "    }\n",
       "\n",
       "    .dataframe thead th {\n",
       "        text-align: right;\n",
       "    }\n",
       "</style>\n",
       "<table border=\"1\" class=\"dataframe\">\n",
       "  <thead>\n",
       "    <tr style=\"text-align: right;\">\n",
       "      <th></th>\n",
       "      <th>0</th>\n",
       "      <th>1</th>\n",
       "    </tr>\n",
       "  </thead>\n",
       "  <tbody>\n",
       "    <tr>\n",
       "      <th>0</th>\n",
       "      <td>51.436023</td>\n",
       "      <td>-30.240808</td>\n",
       "    </tr>\n",
       "    <tr>\n",
       "      <th>1</th>\n",
       "      <td>51.321603</td>\n",
       "      <td>-32.040415</td>\n",
       "    </tr>\n",
       "    <tr>\n",
       "      <th>2</th>\n",
       "      <td>51.321603</td>\n",
       "      <td>-32.040415</td>\n",
       "    </tr>\n",
       "    <tr>\n",
       "      <th>3</th>\n",
       "      <td>51.322062</td>\n",
       "      <td>-32.037977</td>\n",
       "    </tr>\n",
       "    <tr>\n",
       "      <th>4</th>\n",
       "      <td>51.322062</td>\n",
       "      <td>-32.037977</td>\n",
       "    </tr>\n",
       "    <tr>\n",
       "      <th>...</th>\n",
       "      <td>...</td>\n",
       "      <td>...</td>\n",
       "    </tr>\n",
       "    <tr>\n",
       "      <th>509627</th>\n",
       "      <td>-15.807282</td>\n",
       "      <td>-62.399882</td>\n",
       "    </tr>\n",
       "    <tr>\n",
       "      <th>509628</th>\n",
       "      <td>-15.809301</td>\n",
       "      <td>-62.408581</td>\n",
       "    </tr>\n",
       "    <tr>\n",
       "      <th>509629</th>\n",
       "      <td>-15.810354</td>\n",
       "      <td>-62.411738</td>\n",
       "    </tr>\n",
       "    <tr>\n",
       "      <th>509630</th>\n",
       "      <td>-15.812103</td>\n",
       "      <td>-62.417946</td>\n",
       "    </tr>\n",
       "    <tr>\n",
       "      <th>509631</th>\n",
       "      <td>-15.813156</td>\n",
       "      <td>-62.421103</td>\n",
       "    </tr>\n",
       "  </tbody>\n",
       "</table>\n",
       "<p>509632 rows × 2 columns</p>\n",
       "</div>"
      ],
      "text/plain": [
       "                0          1\n",
       "0       51.436023 -30.240808\n",
       "1       51.321603 -32.040415\n",
       "2       51.321603 -32.040415\n",
       "3       51.322062 -32.037977\n",
       "4       51.322062 -32.037977\n",
       "...           ...        ...\n",
       "509627 -15.807282 -62.399882\n",
       "509628 -15.809301 -62.408581\n",
       "509629 -15.810354 -62.411738\n",
       "509630 -15.812103 -62.417946\n",
       "509631 -15.813156 -62.421103\n",
       "\n",
       "[509632 rows x 2 columns]"
      ]
     },
     "execution_count": 21,
     "metadata": {},
     "output_type": "execute_result"
    }
   ],
   "source": [
    "res #pca"
   ]
  },
  {
   "cell_type": "code",
   "execution_count": 20,
   "metadata": {
    "ExecuteTime": {
     "end_time": "2022-07-23T02:45:13.569069Z",
     "start_time": "2022-07-23T02:45:13.523341Z"
    }
   },
   "outputs": [
    {
     "data": {
      "text/html": [
       "<div>\n",
       "<style scoped>\n",
       "    .dataframe tbody tr th:only-of-type {\n",
       "        vertical-align: middle;\n",
       "    }\n",
       "\n",
       "    .dataframe tbody tr th {\n",
       "        vertical-align: top;\n",
       "    }\n",
       "\n",
       "    .dataframe thead th {\n",
       "        text-align: right;\n",
       "    }\n",
       "</style>\n",
       "<table border=\"1\" class=\"dataframe\">\n",
       "  <thead>\n",
       "    <tr style=\"text-align: right;\">\n",
       "      <th></th>\n",
       "      <th>v1</th>\n",
       "      <th>v2</th>\n",
       "      <th>v3</th>\n",
       "      <th>v4</th>\n",
       "      <th>v5</th>\n",
       "      <th>v6</th>\n",
       "      <th>v7</th>\n",
       "      <th>v8</th>\n",
       "      <th>v9</th>\n",
       "      <th>v10</th>\n",
       "      <th>v11</th>\n",
       "      <th>anomaly</th>\n",
       "    </tr>\n",
       "  </thead>\n",
       "  <tbody>\n",
       "    <tr>\n",
       "      <th>0</th>\n",
       "      <td>-2.00</td>\n",
       "      <td>1.51</td>\n",
       "      <td>10.14</td>\n",
       "      <td>0.0</td>\n",
       "      <td>0.0</td>\n",
       "      <td>0.0</td>\n",
       "      <td>-15.78</td>\n",
       "      <td>-22.31</td>\n",
       "      <td>-11.70</td>\n",
       "      <td>-13.57</td>\n",
       "      <td>92.95</td>\n",
       "      <td>False</td>\n",
       "    </tr>\n",
       "    <tr>\n",
       "      <th>1</th>\n",
       "      <td>-2.00</td>\n",
       "      <td>1.51</td>\n",
       "      <td>10.13</td>\n",
       "      <td>0.0</td>\n",
       "      <td>0.0</td>\n",
       "      <td>0.0</td>\n",
       "      <td>-16.86</td>\n",
       "      <td>-23.38</td>\n",
       "      <td>-10.31</td>\n",
       "      <td>-13.57</td>\n",
       "      <td>92.95</td>\n",
       "      <td>False</td>\n",
       "    </tr>\n",
       "    <tr>\n",
       "      <th>2</th>\n",
       "      <td>-2.00</td>\n",
       "      <td>1.51</td>\n",
       "      <td>10.13</td>\n",
       "      <td>0.0</td>\n",
       "      <td>0.0</td>\n",
       "      <td>0.0</td>\n",
       "      <td>-16.86</td>\n",
       "      <td>-23.38</td>\n",
       "      <td>-10.31</td>\n",
       "      <td>-13.57</td>\n",
       "      <td>92.95</td>\n",
       "      <td>False</td>\n",
       "    </tr>\n",
       "    <tr>\n",
       "      <th>3</th>\n",
       "      <td>-1.99</td>\n",
       "      <td>1.51</td>\n",
       "      <td>10.17</td>\n",
       "      <td>0.0</td>\n",
       "      <td>0.0</td>\n",
       "      <td>0.0</td>\n",
       "      <td>-16.86</td>\n",
       "      <td>-23.38</td>\n",
       "      <td>-10.31</td>\n",
       "      <td>-13.57</td>\n",
       "      <td>92.95</td>\n",
       "      <td>False</td>\n",
       "    </tr>\n",
       "    <tr>\n",
       "      <th>4</th>\n",
       "      <td>-1.99</td>\n",
       "      <td>1.51</td>\n",
       "      <td>10.17</td>\n",
       "      <td>0.0</td>\n",
       "      <td>0.0</td>\n",
       "      <td>0.0</td>\n",
       "      <td>-16.86</td>\n",
       "      <td>-23.38</td>\n",
       "      <td>-10.31</td>\n",
       "      <td>-13.57</td>\n",
       "      <td>92.95</td>\n",
       "      <td>False</td>\n",
       "    </tr>\n",
       "    <tr>\n",
       "      <th>...</th>\n",
       "      <td>...</td>\n",
       "      <td>...</td>\n",
       "      <td>...</td>\n",
       "      <td>...</td>\n",
       "      <td>...</td>\n",
       "      <td>...</td>\n",
       "      <td>...</td>\n",
       "      <td>...</td>\n",
       "      <td>...</td>\n",
       "      <td>...</td>\n",
       "      <td>...</td>\n",
       "      <td>...</td>\n",
       "    </tr>\n",
       "    <tr>\n",
       "      <th>509627</th>\n",
       "      <td>-8.27</td>\n",
       "      <td>-11.98</td>\n",
       "      <td>-9.35</td>\n",
       "      <td>0.0</td>\n",
       "      <td>0.0</td>\n",
       "      <td>0.0</td>\n",
       "      <td>30.00</td>\n",
       "      <td>8.24</td>\n",
       "      <td>13.90</td>\n",
       "      <td>-7.06</td>\n",
       "      <td>-32.33</td>\n",
       "      <td>False</td>\n",
       "    </tr>\n",
       "    <tr>\n",
       "      <th>509628</th>\n",
       "      <td>-8.27</td>\n",
       "      <td>-12.00</td>\n",
       "      <td>-9.41</td>\n",
       "      <td>0.0</td>\n",
       "      <td>0.0</td>\n",
       "      <td>0.0</td>\n",
       "      <td>30.00</td>\n",
       "      <td>8.24</td>\n",
       "      <td>13.90</td>\n",
       "      <td>-7.07</td>\n",
       "      <td>-32.34</td>\n",
       "      <td>False</td>\n",
       "    </tr>\n",
       "    <tr>\n",
       "      <th>509629</th>\n",
       "      <td>-8.25</td>\n",
       "      <td>-11.98</td>\n",
       "      <td>-9.40</td>\n",
       "      <td>0.0</td>\n",
       "      <td>0.0</td>\n",
       "      <td>0.0</td>\n",
       "      <td>30.00</td>\n",
       "      <td>8.24</td>\n",
       "      <td>13.90</td>\n",
       "      <td>-7.08</td>\n",
       "      <td>-32.35</td>\n",
       "      <td>False</td>\n",
       "    </tr>\n",
       "    <tr>\n",
       "      <th>509630</th>\n",
       "      <td>-8.27</td>\n",
       "      <td>-12.00</td>\n",
       "      <td>-9.41</td>\n",
       "      <td>0.0</td>\n",
       "      <td>0.0</td>\n",
       "      <td>0.0</td>\n",
       "      <td>30.00</td>\n",
       "      <td>8.24</td>\n",
       "      <td>13.90</td>\n",
       "      <td>-7.09</td>\n",
       "      <td>-32.36</td>\n",
       "      <td>False</td>\n",
       "    </tr>\n",
       "    <tr>\n",
       "      <th>509631</th>\n",
       "      <td>-8.25</td>\n",
       "      <td>-11.98</td>\n",
       "      <td>-9.40</td>\n",
       "      <td>0.0</td>\n",
       "      <td>0.0</td>\n",
       "      <td>0.0</td>\n",
       "      <td>30.00</td>\n",
       "      <td>8.24</td>\n",
       "      <td>13.90</td>\n",
       "      <td>-7.10</td>\n",
       "      <td>-32.37</td>\n",
       "      <td>False</td>\n",
       "    </tr>\n",
       "  </tbody>\n",
       "</table>\n",
       "<p>509632 rows × 12 columns</p>\n",
       "</div>"
      ],
      "text/plain": [
       "          v1     v2     v3   v4   v5   v6     v7     v8     v9    v10    v11  \\\n",
       "0      -2.00   1.51  10.14  0.0  0.0  0.0 -15.78 -22.31 -11.70 -13.57  92.95   \n",
       "1      -2.00   1.51  10.13  0.0  0.0  0.0 -16.86 -23.38 -10.31 -13.57  92.95   \n",
       "2      -2.00   1.51  10.13  0.0  0.0  0.0 -16.86 -23.38 -10.31 -13.57  92.95   \n",
       "3      -1.99   1.51  10.17  0.0  0.0  0.0 -16.86 -23.38 -10.31 -13.57  92.95   \n",
       "4      -1.99   1.51  10.17  0.0  0.0  0.0 -16.86 -23.38 -10.31 -13.57  92.95   \n",
       "...      ...    ...    ...  ...  ...  ...    ...    ...    ...    ...    ...   \n",
       "509627 -8.27 -11.98  -9.35  0.0  0.0  0.0  30.00   8.24  13.90  -7.06 -32.33   \n",
       "509628 -8.27 -12.00  -9.41  0.0  0.0  0.0  30.00   8.24  13.90  -7.07 -32.34   \n",
       "509629 -8.25 -11.98  -9.40  0.0  0.0  0.0  30.00   8.24  13.90  -7.08 -32.35   \n",
       "509630 -8.27 -12.00  -9.41  0.0  0.0  0.0  30.00   8.24  13.90  -7.09 -32.36   \n",
       "509631 -8.25 -11.98  -9.40  0.0  0.0  0.0  30.00   8.24  13.90  -7.10 -32.37   \n",
       "\n",
       "        anomaly  \n",
       "0         False  \n",
       "1         False  \n",
       "2         False  \n",
       "3         False  \n",
       "4         False  \n",
       "...         ...  \n",
       "509627    False  \n",
       "509628    False  \n",
       "509629    False  \n",
       "509630    False  \n",
       "509631    False  \n",
       "\n",
       "[509632 rows x 12 columns]"
      ]
     },
     "execution_count": 20,
     "metadata": {},
     "output_type": "execute_result"
    }
   ],
   "source": [
    "df"
   ]
  },
  {
   "cell_type": "code",
   "execution_count": null,
   "metadata": {},
   "outputs": [],
   "source": []
  }
 ],
 "metadata": {
  "kernelspec": {
   "display_name": "Python 3 (ipykernel)",
   "language": "python",
   "name": "python3"
  },
  "language_info": {
   "codemirror_mode": {
    "name": "ipython",
    "version": 3
   },
   "file_extension": ".py",
   "mimetype": "text/x-python",
   "name": "python",
   "nbconvert_exporter": "python",
   "pygments_lexer": "ipython3",
   "version": "3.9.6"
  },
  "varInspector": {
   "cols": {
    "lenName": 16,
    "lenType": 16,
    "lenVar": 40
   },
   "kernels_config": {
    "python": {
     "delete_cmd_postfix": "",
     "delete_cmd_prefix": "del ",
     "library": "var_list.py",
     "varRefreshCmd": "print(var_dic_list())"
    },
    "r": {
     "delete_cmd_postfix": ") ",
     "delete_cmd_prefix": "rm(",
     "library": "var_list.r",
     "varRefreshCmd": "cat(var_dic_list()) "
    }
   },
   "types_to_exclude": [
    "module",
    "function",
    "builtin_function_or_method",
    "instance",
    "_Feature"
   ],
   "window_display": false
  }
 },
 "nbformat": 4,
 "nbformat_minor": 1
}
