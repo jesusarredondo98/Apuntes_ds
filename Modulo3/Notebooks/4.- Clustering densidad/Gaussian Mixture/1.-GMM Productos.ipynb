{
 "cells": [
  {
   "cell_type": "code",
   "execution_count": 1,
   "metadata": {
    "ExecuteTime": {
     "end_time": "2022-06-30T22:15:01.920010Z",
     "start_time": "2022-06-30T22:15:00.947563Z"
    }
   },
   "outputs": [],
   "source": [
    "import pandas as pd\n",
    "import numpy as np\n",
    "from sklearn.mixture import GaussianMixture\n",
    "from sklearn.metrics import silhouette_score\n",
    "import matplotlib.pyplot as plt"
   ]
  },
  {
   "cell_type": "code",
   "execution_count": 2,
   "metadata": {
    "ExecuteTime": {
     "end_time": "2022-06-30T22:15:21.714761Z",
     "start_time": "2022-06-30T22:15:21.631920Z"
    }
   },
   "outputs": [],
   "source": [
    "data=pd.read_csv('../data/Custom_Products.csv')"
   ]
  },
  {
   "cell_type": "code",
   "execution_count": 3,
   "metadata": {
    "ExecuteTime": {
     "end_time": "2022-06-30T22:15:22.714169Z",
     "start_time": "2022-06-30T22:15:22.705457Z"
    },
    "scrolled": true
   },
   "outputs": [
    {
     "data": {
      "text/plain": [
       "(69024, 10)"
      ]
     },
     "execution_count": 3,
     "metadata": {},
     "output_type": "execute_result"
    }
   ],
   "source": [
    "data.shape"
   ]
  },
  {
   "cell_type": "code",
   "execution_count": 5,
   "metadata": {
    "ExecuteTime": {
     "end_time": "2022-06-30T22:16:00.663409Z",
     "start_time": "2022-06-30T22:16:00.648572Z"
    }
   },
   "outputs": [
    {
     "data": {
      "text/html": [
       "<div>\n",
       "<style scoped>\n",
       "    .dataframe tbody tr th:only-of-type {\n",
       "        vertical-align: middle;\n",
       "    }\n",
       "\n",
       "    .dataframe tbody tr th {\n",
       "        vertical-align: top;\n",
       "    }\n",
       "\n",
       "    .dataframe thead th {\n",
       "        text-align: right;\n",
       "    }\n",
       "</style>\n",
       "<table border=\"1\" class=\"dataframe\">\n",
       "  <thead>\n",
       "    <tr style=\"text-align: right;\">\n",
       "      <th></th>\n",
       "      <th>Height(cm)</th>\n",
       "      <th>Width(cm)</th>\n",
       "      <th>size(g)</th>\n",
       "      <th>Price</th>\n",
       "      <th>Customs tax</th>\n",
       "      <th>Shiping</th>\n",
       "      <th>Taxes (Without Custom)</th>\n",
       "      <th>Avg Arrival Time(days)</th>\n",
       "      <th>Country of origin</th>\n",
       "      <th>Destination</th>\n",
       "    </tr>\n",
       "  </thead>\n",
       "  <tbody>\n",
       "    <tr>\n",
       "      <th>0</th>\n",
       "      <td>13.0</td>\n",
       "      <td>23.0</td>\n",
       "      <td>722.0</td>\n",
       "      <td>407.2073</td>\n",
       "      <td>32.66</td>\n",
       "      <td>17.0</td>\n",
       "      <td>9.5965</td>\n",
       "      <td>5.0</td>\n",
       "      <td>UK</td>\n",
       "      <td>Canada</td>\n",
       "    </tr>\n",
       "    <tr>\n",
       "      <th>1</th>\n",
       "      <td>15.0</td>\n",
       "      <td>20.0</td>\n",
       "      <td>721.0</td>\n",
       "      <td>486.5470</td>\n",
       "      <td>39.41</td>\n",
       "      <td>16.0</td>\n",
       "      <td>10.6818</td>\n",
       "      <td>6.0</td>\n",
       "      <td>Arabia Saudi</td>\n",
       "      <td>US</td>\n",
       "    </tr>\n",
       "    <tr>\n",
       "      <th>2</th>\n",
       "      <td>14.0</td>\n",
       "      <td>20.0</td>\n",
       "      <td>791.0</td>\n",
       "      <td>401.2436</td>\n",
       "      <td>29.69</td>\n",
       "      <td>17.0</td>\n",
       "      <td>10.9438</td>\n",
       "      <td>8.0</td>\n",
       "      <td>China</td>\n",
       "      <td>Mexico</td>\n",
       "    </tr>\n",
       "    <tr>\n",
       "      <th>3</th>\n",
       "      <td>16.0</td>\n",
       "      <td>20.0</td>\n",
       "      <td>711.0</td>\n",
       "      <td>451.0550</td>\n",
       "      <td>46.55</td>\n",
       "      <td>18.0</td>\n",
       "      <td>6.8813</td>\n",
       "      <td>6.0</td>\n",
       "      <td>China</td>\n",
       "      <td>Canada</td>\n",
       "    </tr>\n",
       "    <tr>\n",
       "      <th>4</th>\n",
       "      <td>15.0</td>\n",
       "      <td>21.0</td>\n",
       "      <td>785.0</td>\n",
       "      <td>422.6088</td>\n",
       "      <td>39.52</td>\n",
       "      <td>16.0</td>\n",
       "      <td>9.7593</td>\n",
       "      <td>8.0</td>\n",
       "      <td>EU</td>\n",
       "      <td>US</td>\n",
       "    </tr>\n",
       "  </tbody>\n",
       "</table>\n",
       "</div>"
      ],
      "text/plain": [
       "   Height(cm)  Width(cm)  size(g)     Price  Customs tax  Shiping  \\\n",
       "0        13.0       23.0    722.0  407.2073        32.66     17.0   \n",
       "1        15.0       20.0    721.0  486.5470        39.41     16.0   \n",
       "2        14.0       20.0    791.0  401.2436        29.69     17.0   \n",
       "3        16.0       20.0    711.0  451.0550        46.55     18.0   \n",
       "4        15.0       21.0    785.0  422.6088        39.52     16.0   \n",
       "\n",
       "   Taxes (Without Custom)  Avg Arrival Time(days) Country of origin  \\\n",
       "0                  9.5965                     5.0                UK   \n",
       "1                 10.6818                     6.0      Arabia Saudi   \n",
       "2                 10.9438                     8.0             China   \n",
       "3                  6.8813                     6.0             China   \n",
       "4                  9.7593                     8.0                EU   \n",
       "\n",
       "  Destination  \n",
       "0      Canada  \n",
       "1          US  \n",
       "2      Mexico  \n",
       "3      Canada  \n",
       "4          US  "
      ]
     },
     "execution_count": 5,
     "metadata": {},
     "output_type": "execute_result"
    }
   ],
   "source": [
    "data.head() #Base de datos de productos"
   ]
  },
  {
   "cell_type": "code",
   "execution_count": 6,
   "metadata": {
    "ExecuteTime": {
     "end_time": "2022-06-30T22:16:17.985194Z",
     "start_time": "2022-06-30T22:16:17.899567Z"
    }
   },
   "outputs": [
    {
     "data": {
      "text/html": [
       "<div>\n",
       "<style scoped>\n",
       "    .dataframe tbody tr th:only-of-type {\n",
       "        vertical-align: middle;\n",
       "    }\n",
       "\n",
       "    .dataframe tbody tr th {\n",
       "        vertical-align: top;\n",
       "    }\n",
       "\n",
       "    .dataframe thead th {\n",
       "        text-align: right;\n",
       "    }\n",
       "</style>\n",
       "<table border=\"1\" class=\"dataframe\">\n",
       "  <thead>\n",
       "    <tr style=\"text-align: right;\">\n",
       "      <th></th>\n",
       "      <th>Height(cm)</th>\n",
       "      <th>Width(cm)</th>\n",
       "      <th>size(g)</th>\n",
       "      <th>Price</th>\n",
       "      <th>Customs tax</th>\n",
       "      <th>Shiping</th>\n",
       "      <th>Taxes (Without Custom)</th>\n",
       "      <th>Avg Arrival Time(days)</th>\n",
       "    </tr>\n",
       "  </thead>\n",
       "  <tbody>\n",
       "    <tr>\n",
       "      <th>count</th>\n",
       "      <td>69024.000000</td>\n",
       "      <td>69024.000000</td>\n",
       "      <td>69024.000000</td>\n",
       "      <td>69024.000000</td>\n",
       "      <td>69024.000000</td>\n",
       "      <td>69024.000000</td>\n",
       "      <td>69024.000000</td>\n",
       "      <td>69024.000000</td>\n",
       "    </tr>\n",
       "    <tr>\n",
       "      <th>mean</th>\n",
       "      <td>17.573337</td>\n",
       "      <td>20.473227</td>\n",
       "      <td>637.299881</td>\n",
       "      <td>424.568648</td>\n",
       "      <td>44.376721</td>\n",
       "      <td>13.946511</td>\n",
       "      <td>13.915838</td>\n",
       "      <td>7.589780</td>\n",
       "    </tr>\n",
       "    <tr>\n",
       "      <th>std</th>\n",
       "      <td>4.165513</td>\n",
       "      <td>5.246875</td>\n",
       "      <td>137.476026</td>\n",
       "      <td>179.615255</td>\n",
       "      <td>28.278442</td>\n",
       "      <td>4.054821</td>\n",
       "      <td>5.413485</td>\n",
       "      <td>2.944708</td>\n",
       "    </tr>\n",
       "    <tr>\n",
       "      <th>min</th>\n",
       "      <td>5.000000</td>\n",
       "      <td>5.000000</td>\n",
       "      <td>145.000000</td>\n",
       "      <td>0.000000</td>\n",
       "      <td>0.000000</td>\n",
       "      <td>0.000000</td>\n",
       "      <td>0.000000</td>\n",
       "      <td>1.000000</td>\n",
       "    </tr>\n",
       "    <tr>\n",
       "      <th>25%</th>\n",
       "      <td>15.000000</td>\n",
       "      <td>20.000000</td>\n",
       "      <td>582.000000</td>\n",
       "      <td>290.834475</td>\n",
       "      <td>24.030000</td>\n",
       "      <td>11.000000</td>\n",
       "      <td>9.396675</td>\n",
       "      <td>5.000000</td>\n",
       "    </tr>\n",
       "    <tr>\n",
       "      <th>50%</th>\n",
       "      <td>17.000000</td>\n",
       "      <td>22.000000</td>\n",
       "      <td>655.000000</td>\n",
       "      <td>400.187600</td>\n",
       "      <td>35.290000</td>\n",
       "      <td>15.000000</td>\n",
       "      <td>12.818950</td>\n",
       "      <td>7.000000</td>\n",
       "    </tr>\n",
       "    <tr>\n",
       "      <th>75%</th>\n",
       "      <td>20.000000</td>\n",
       "      <td>24.000000</td>\n",
       "      <td>730.000000</td>\n",
       "      <td>523.748725</td>\n",
       "      <td>52.340000</td>\n",
       "      <td>17.000000</td>\n",
       "      <td>18.791850</td>\n",
       "      <td>10.000000</td>\n",
       "    </tr>\n",
       "    <tr>\n",
       "      <th>max</th>\n",
       "      <td>30.000000</td>\n",
       "      <td>30.000000</td>\n",
       "      <td>999.000000</td>\n",
       "      <td>965.371100</td>\n",
       "      <td>146.030000</td>\n",
       "      <td>25.000000</td>\n",
       "      <td>30.000000</td>\n",
       "      <td>15.000000</td>\n",
       "    </tr>\n",
       "  </tbody>\n",
       "</table>\n",
       "</div>"
      ],
      "text/plain": [
       "         Height(cm)     Width(cm)       size(g)         Price   Customs tax  \\\n",
       "count  69024.000000  69024.000000  69024.000000  69024.000000  69024.000000   \n",
       "mean      17.573337     20.473227    637.299881    424.568648     44.376721   \n",
       "std        4.165513      5.246875    137.476026    179.615255     28.278442   \n",
       "min        5.000000      5.000000    145.000000      0.000000      0.000000   \n",
       "25%       15.000000     20.000000    582.000000    290.834475     24.030000   \n",
       "50%       17.000000     22.000000    655.000000    400.187600     35.290000   \n",
       "75%       20.000000     24.000000    730.000000    523.748725     52.340000   \n",
       "max       30.000000     30.000000    999.000000    965.371100    146.030000   \n",
       "\n",
       "            Shiping  Taxes (Without Custom)  Avg Arrival Time(days)  \n",
       "count  69024.000000            69024.000000            69024.000000  \n",
       "mean      13.946511               13.915838                7.589780  \n",
       "std        4.054821                5.413485                2.944708  \n",
       "min        0.000000                0.000000                1.000000  \n",
       "25%       11.000000                9.396675                5.000000  \n",
       "50%       15.000000               12.818950                7.000000  \n",
       "75%       17.000000               18.791850               10.000000  \n",
       "max       25.000000               30.000000               15.000000  "
      ]
     },
     "execution_count": 6,
     "metadata": {},
     "output_type": "execute_result"
    }
   ],
   "source": [
    "data.describe()"
   ]
  },
  {
   "cell_type": "code",
   "execution_count": 7,
   "metadata": {
    "ExecuteTime": {
     "end_time": "2022-06-30T22:16:20.303065Z",
     "start_time": "2022-06-30T22:16:20.292595Z"
    }
   },
   "outputs": [
    {
     "data": {
      "text/plain": [
       "Height(cm)                0\n",
       "Width(cm)                 0\n",
       "size(g)                   0\n",
       "Price                     0\n",
       "Customs tax               0\n",
       "Shiping                   0\n",
       "Taxes (Without Custom)    0\n",
       "Avg Arrival Time(days)    0\n",
       "Country of origin         0\n",
       "Destination               0\n",
       "dtype: int64"
      ]
     },
     "execution_count": 7,
     "metadata": {},
     "output_type": "execute_result"
    }
   ],
   "source": [
    "data.isnull().sum() #Vemos si hay nulos"
   ]
  },
  {
   "cell_type": "code",
   "execution_count": 8,
   "metadata": {
    "ExecuteTime": {
     "end_time": "2022-06-30T22:16:25.498656Z",
     "start_time": "2022-06-30T22:16:25.491261Z"
    }
   },
   "outputs": [],
   "source": [
    "X=data[['Height(cm)', 'Width(cm)', 'size(g)', 'Price', 'Customs tax', 'Shiping',\n",
    "       'Taxes (Without Custom)', 'Avg Arrival Time(days)']].copy()\n",
    "#Como queremos crear grupos lo haremos por productos"
   ]
  },
  {
   "cell_type": "code",
   "execution_count": 9,
   "metadata": {
    "ExecuteTime": {
     "end_time": "2022-06-30T22:16:26.660219Z",
     "start_time": "2022-06-30T22:16:26.646956Z"
    }
   },
   "outputs": [
    {
     "data": {
      "text/html": [
       "<div>\n",
       "<style scoped>\n",
       "    .dataframe tbody tr th:only-of-type {\n",
       "        vertical-align: middle;\n",
       "    }\n",
       "\n",
       "    .dataframe tbody tr th {\n",
       "        vertical-align: top;\n",
       "    }\n",
       "\n",
       "    .dataframe thead th {\n",
       "        text-align: right;\n",
       "    }\n",
       "</style>\n",
       "<table border=\"1\" class=\"dataframe\">\n",
       "  <thead>\n",
       "    <tr style=\"text-align: right;\">\n",
       "      <th></th>\n",
       "      <th>Height(cm)</th>\n",
       "      <th>Width(cm)</th>\n",
       "      <th>size(g)</th>\n",
       "      <th>Price</th>\n",
       "      <th>Customs tax</th>\n",
       "      <th>Shiping</th>\n",
       "      <th>Taxes (Without Custom)</th>\n",
       "      <th>Avg Arrival Time(days)</th>\n",
       "    </tr>\n",
       "  </thead>\n",
       "  <tbody>\n",
       "    <tr>\n",
       "      <th>0</th>\n",
       "      <td>13.0</td>\n",
       "      <td>23.0</td>\n",
       "      <td>722.0</td>\n",
       "      <td>407.2073</td>\n",
       "      <td>32.66</td>\n",
       "      <td>17.0</td>\n",
       "      <td>9.5965</td>\n",
       "      <td>5.0</td>\n",
       "    </tr>\n",
       "    <tr>\n",
       "      <th>1</th>\n",
       "      <td>15.0</td>\n",
       "      <td>20.0</td>\n",
       "      <td>721.0</td>\n",
       "      <td>486.5470</td>\n",
       "      <td>39.41</td>\n",
       "      <td>16.0</td>\n",
       "      <td>10.6818</td>\n",
       "      <td>6.0</td>\n",
       "    </tr>\n",
       "    <tr>\n",
       "      <th>2</th>\n",
       "      <td>14.0</td>\n",
       "      <td>20.0</td>\n",
       "      <td>791.0</td>\n",
       "      <td>401.2436</td>\n",
       "      <td>29.69</td>\n",
       "      <td>17.0</td>\n",
       "      <td>10.9438</td>\n",
       "      <td>8.0</td>\n",
       "    </tr>\n",
       "    <tr>\n",
       "      <th>3</th>\n",
       "      <td>16.0</td>\n",
       "      <td>20.0</td>\n",
       "      <td>711.0</td>\n",
       "      <td>451.0550</td>\n",
       "      <td>46.55</td>\n",
       "      <td>18.0</td>\n",
       "      <td>6.8813</td>\n",
       "      <td>6.0</td>\n",
       "    </tr>\n",
       "    <tr>\n",
       "      <th>4</th>\n",
       "      <td>15.0</td>\n",
       "      <td>21.0</td>\n",
       "      <td>785.0</td>\n",
       "      <td>422.6088</td>\n",
       "      <td>39.52</td>\n",
       "      <td>16.0</td>\n",
       "      <td>9.7593</td>\n",
       "      <td>8.0</td>\n",
       "    </tr>\n",
       "    <tr>\n",
       "      <th>...</th>\n",
       "      <td>...</td>\n",
       "      <td>...</td>\n",
       "      <td>...</td>\n",
       "      <td>...</td>\n",
       "      <td>...</td>\n",
       "      <td>...</td>\n",
       "      <td>...</td>\n",
       "      <td>...</td>\n",
       "    </tr>\n",
       "    <tr>\n",
       "      <th>69019</th>\n",
       "      <td>10.0</td>\n",
       "      <td>22.0</td>\n",
       "      <td>463.0</td>\n",
       "      <td>679.9889</td>\n",
       "      <td>95.04</td>\n",
       "      <td>9.0</td>\n",
       "      <td>16.2398</td>\n",
       "      <td>6.0</td>\n",
       "    </tr>\n",
       "    <tr>\n",
       "      <th>69020</th>\n",
       "      <td>12.0</td>\n",
       "      <td>23.0</td>\n",
       "      <td>385.0</td>\n",
       "      <td>650.3484</td>\n",
       "      <td>119.55</td>\n",
       "      <td>9.0</td>\n",
       "      <td>17.8843</td>\n",
       "      <td>3.0</td>\n",
       "    </tr>\n",
       "    <tr>\n",
       "      <th>69021</th>\n",
       "      <td>12.0</td>\n",
       "      <td>25.0</td>\n",
       "      <td>377.0</td>\n",
       "      <td>583.3247</td>\n",
       "      <td>61.27</td>\n",
       "      <td>7.0</td>\n",
       "      <td>15.6244</td>\n",
       "      <td>5.0</td>\n",
       "    </tr>\n",
       "    <tr>\n",
       "      <th>69022</th>\n",
       "      <td>8.0</td>\n",
       "      <td>23.0</td>\n",
       "      <td>294.0</td>\n",
       "      <td>642.4097</td>\n",
       "      <td>100.19</td>\n",
       "      <td>9.0</td>\n",
       "      <td>13.0386</td>\n",
       "      <td>4.0</td>\n",
       "    </tr>\n",
       "    <tr>\n",
       "      <th>69023</th>\n",
       "      <td>13.0</td>\n",
       "      <td>25.0</td>\n",
       "      <td>382.0</td>\n",
       "      <td>571.7437</td>\n",
       "      <td>89.22</td>\n",
       "      <td>11.0</td>\n",
       "      <td>15.1009</td>\n",
       "      <td>5.0</td>\n",
       "    </tr>\n",
       "  </tbody>\n",
       "</table>\n",
       "<p>69024 rows × 8 columns</p>\n",
       "</div>"
      ],
      "text/plain": [
       "       Height(cm)  Width(cm)  size(g)     Price  Customs tax  Shiping  \\\n",
       "0            13.0       23.0    722.0  407.2073        32.66     17.0   \n",
       "1            15.0       20.0    721.0  486.5470        39.41     16.0   \n",
       "2            14.0       20.0    791.0  401.2436        29.69     17.0   \n",
       "3            16.0       20.0    711.0  451.0550        46.55     18.0   \n",
       "4            15.0       21.0    785.0  422.6088        39.52     16.0   \n",
       "...           ...        ...      ...       ...          ...      ...   \n",
       "69019        10.0       22.0    463.0  679.9889        95.04      9.0   \n",
       "69020        12.0       23.0    385.0  650.3484       119.55      9.0   \n",
       "69021        12.0       25.0    377.0  583.3247        61.27      7.0   \n",
       "69022         8.0       23.0    294.0  642.4097       100.19      9.0   \n",
       "69023        13.0       25.0    382.0  571.7437        89.22     11.0   \n",
       "\n",
       "       Taxes (Without Custom)  Avg Arrival Time(days)  \n",
       "0                      9.5965                     5.0  \n",
       "1                     10.6818                     6.0  \n",
       "2                     10.9438                     8.0  \n",
       "3                      6.8813                     6.0  \n",
       "4                      9.7593                     8.0  \n",
       "...                       ...                     ...  \n",
       "69019                 16.2398                     6.0  \n",
       "69020                 17.8843                     3.0  \n",
       "69021                 15.6244                     5.0  \n",
       "69022                 13.0386                     4.0  \n",
       "69023                 15.1009                     5.0  \n",
       "\n",
       "[69024 rows x 8 columns]"
      ]
     },
     "execution_count": 9,
     "metadata": {},
     "output_type": "execute_result"
    }
   ],
   "source": [
    "X"
   ]
  },
  {
   "cell_type": "code",
   "execution_count": 10,
   "metadata": {
    "ExecuteTime": {
     "end_time": "2022-06-30T22:16:30.001145Z",
     "start_time": "2022-06-30T22:16:29.998947Z"
    }
   },
   "outputs": [],
   "source": [
    "from sklearn.preprocessing import MinMaxScaler #Siempre hay que escalar los datos"
   ]
  },
  {
   "cell_type": "code",
   "execution_count": 11,
   "metadata": {
    "ExecuteTime": {
     "end_time": "2022-06-30T22:16:31.772847Z",
     "start_time": "2022-06-30T22:16:31.761856Z"
    }
   },
   "outputs": [],
   "source": [
    "sc = MinMaxScaler()\n",
    "\n",
    "Xs = pd.DataFrame(index = X.index, data = sc.fit_transform(X), columns=X.columns)"
   ]
  },
  {
   "cell_type": "code",
   "execution_count": 12,
   "metadata": {
    "ExecuteTime": {
     "end_time": "2022-06-30T22:16:33.056222Z",
     "start_time": "2022-06-30T22:16:33.044062Z"
    }
   },
   "outputs": [
    {
     "data": {
      "text/html": [
       "<div>\n",
       "<style scoped>\n",
       "    .dataframe tbody tr th:only-of-type {\n",
       "        vertical-align: middle;\n",
       "    }\n",
       "\n",
       "    .dataframe tbody tr th {\n",
       "        vertical-align: top;\n",
       "    }\n",
       "\n",
       "    .dataframe thead th {\n",
       "        text-align: right;\n",
       "    }\n",
       "</style>\n",
       "<table border=\"1\" class=\"dataframe\">\n",
       "  <thead>\n",
       "    <tr style=\"text-align: right;\">\n",
       "      <th></th>\n",
       "      <th>Height(cm)</th>\n",
       "      <th>Width(cm)</th>\n",
       "      <th>size(g)</th>\n",
       "      <th>Price</th>\n",
       "      <th>Customs tax</th>\n",
       "      <th>Shiping</th>\n",
       "      <th>Taxes (Without Custom)</th>\n",
       "      <th>Avg Arrival Time(days)</th>\n",
       "    </tr>\n",
       "  </thead>\n",
       "  <tbody>\n",
       "    <tr>\n",
       "      <th>0</th>\n",
       "      <td>0.32</td>\n",
       "      <td>0.72</td>\n",
       "      <td>0.675644</td>\n",
       "      <td>0.421814</td>\n",
       "      <td>0.223653</td>\n",
       "      <td>0.68</td>\n",
       "      <td>0.319883</td>\n",
       "      <td>0.285714</td>\n",
       "    </tr>\n",
       "    <tr>\n",
       "      <th>1</th>\n",
       "      <td>0.40</td>\n",
       "      <td>0.60</td>\n",
       "      <td>0.674473</td>\n",
       "      <td>0.504000</td>\n",
       "      <td>0.269876</td>\n",
       "      <td>0.64</td>\n",
       "      <td>0.356060</td>\n",
       "      <td>0.357143</td>\n",
       "    </tr>\n",
       "    <tr>\n",
       "      <th>2</th>\n",
       "      <td>0.36</td>\n",
       "      <td>0.60</td>\n",
       "      <td>0.756440</td>\n",
       "      <td>0.415637</td>\n",
       "      <td>0.203314</td>\n",
       "      <td>0.68</td>\n",
       "      <td>0.364793</td>\n",
       "      <td>0.500000</td>\n",
       "    </tr>\n",
       "    <tr>\n",
       "      <th>3</th>\n",
       "      <td>0.44</td>\n",
       "      <td>0.60</td>\n",
       "      <td>0.662763</td>\n",
       "      <td>0.467235</td>\n",
       "      <td>0.318770</td>\n",
       "      <td>0.72</td>\n",
       "      <td>0.229377</td>\n",
       "      <td>0.357143</td>\n",
       "    </tr>\n",
       "    <tr>\n",
       "      <th>4</th>\n",
       "      <td>0.40</td>\n",
       "      <td>0.64</td>\n",
       "      <td>0.749415</td>\n",
       "      <td>0.437768</td>\n",
       "      <td>0.270629</td>\n",
       "      <td>0.64</td>\n",
       "      <td>0.325310</td>\n",
       "      <td>0.500000</td>\n",
       "    </tr>\n",
       "    <tr>\n",
       "      <th>...</th>\n",
       "      <td>...</td>\n",
       "      <td>...</td>\n",
       "      <td>...</td>\n",
       "      <td>...</td>\n",
       "      <td>...</td>\n",
       "      <td>...</td>\n",
       "      <td>...</td>\n",
       "      <td>...</td>\n",
       "    </tr>\n",
       "    <tr>\n",
       "      <th>69019</th>\n",
       "      <td>0.20</td>\n",
       "      <td>0.68</td>\n",
       "      <td>0.372365</td>\n",
       "      <td>0.704381</td>\n",
       "      <td>0.650825</td>\n",
       "      <td>0.36</td>\n",
       "      <td>0.541327</td>\n",
       "      <td>0.357143</td>\n",
       "    </tr>\n",
       "    <tr>\n",
       "      <th>69020</th>\n",
       "      <td>0.28</td>\n",
       "      <td>0.72</td>\n",
       "      <td>0.281030</td>\n",
       "      <td>0.673677</td>\n",
       "      <td>0.818667</td>\n",
       "      <td>0.36</td>\n",
       "      <td>0.596143</td>\n",
       "      <td>0.142857</td>\n",
       "    </tr>\n",
       "    <tr>\n",
       "      <th>69021</th>\n",
       "      <td>0.28</td>\n",
       "      <td>0.80</td>\n",
       "      <td>0.271663</td>\n",
       "      <td>0.604249</td>\n",
       "      <td>0.419571</td>\n",
       "      <td>0.28</td>\n",
       "      <td>0.520813</td>\n",
       "      <td>0.285714</td>\n",
       "    </tr>\n",
       "    <tr>\n",
       "      <th>69022</th>\n",
       "      <td>0.12</td>\n",
       "      <td>0.72</td>\n",
       "      <td>0.174473</td>\n",
       "      <td>0.665454</td>\n",
       "      <td>0.686092</td>\n",
       "      <td>0.36</td>\n",
       "      <td>0.434620</td>\n",
       "      <td>0.214286</td>\n",
       "    </tr>\n",
       "    <tr>\n",
       "      <th>69023</th>\n",
       "      <td>0.32</td>\n",
       "      <td>0.80</td>\n",
       "      <td>0.277518</td>\n",
       "      <td>0.592253</td>\n",
       "      <td>0.610970</td>\n",
       "      <td>0.44</td>\n",
       "      <td>0.503363</td>\n",
       "      <td>0.285714</td>\n",
       "    </tr>\n",
       "  </tbody>\n",
       "</table>\n",
       "<p>69024 rows × 8 columns</p>\n",
       "</div>"
      ],
      "text/plain": [
       "       Height(cm)  Width(cm)   size(g)     Price  Customs tax  Shiping  \\\n",
       "0            0.32       0.72  0.675644  0.421814     0.223653     0.68   \n",
       "1            0.40       0.60  0.674473  0.504000     0.269876     0.64   \n",
       "2            0.36       0.60  0.756440  0.415637     0.203314     0.68   \n",
       "3            0.44       0.60  0.662763  0.467235     0.318770     0.72   \n",
       "4            0.40       0.64  0.749415  0.437768     0.270629     0.64   \n",
       "...           ...        ...       ...       ...          ...      ...   \n",
       "69019        0.20       0.68  0.372365  0.704381     0.650825     0.36   \n",
       "69020        0.28       0.72  0.281030  0.673677     0.818667     0.36   \n",
       "69021        0.28       0.80  0.271663  0.604249     0.419571     0.28   \n",
       "69022        0.12       0.72  0.174473  0.665454     0.686092     0.36   \n",
       "69023        0.32       0.80  0.277518  0.592253     0.610970     0.44   \n",
       "\n",
       "       Taxes (Without Custom)  Avg Arrival Time(days)  \n",
       "0                    0.319883                0.285714  \n",
       "1                    0.356060                0.357143  \n",
       "2                    0.364793                0.500000  \n",
       "3                    0.229377                0.357143  \n",
       "4                    0.325310                0.500000  \n",
       "...                       ...                     ...  \n",
       "69019                0.541327                0.357143  \n",
       "69020                0.596143                0.142857  \n",
       "69021                0.520813                0.285714  \n",
       "69022                0.434620                0.214286  \n",
       "69023                0.503363                0.285714  \n",
       "\n",
       "[69024 rows x 8 columns]"
      ]
     },
     "execution_count": 12,
     "metadata": {},
     "output_type": "execute_result"
    }
   ],
   "source": [
    "Xs"
   ]
  },
  {
   "cell_type": "code",
   "execution_count": 13,
   "metadata": {
    "ExecuteTime": {
     "end_time": "2022-06-30T22:29:10.615433Z",
     "start_time": "2022-06-30T22:16:38.552499Z"
    }
   },
   "outputs": [
    {
     "name": "stdout",
     "output_type": "stream",
     "text": [
      "2\n",
      "3\n",
      "4\n",
      "5\n",
      "6\n",
      "7\n",
      "8\n",
      "9\n"
     ]
    },
    {
     "data": {
      "text/plain": [
       "[<matplotlib.lines.Line2D at 0x7fe8e8b5c9b0>]"
      ]
     },
     "execution_count": 13,
     "metadata": {},
     "output_type": "execute_result"
    },
    {
     "data": {
      "image/png": "[encoded data removed]",
      "text/plain": [
       "<Figure size 432x288 with 1 Axes>"
      ]
     },
     "metadata": {
      "needs_background": "light"
     },
     "output_type": "display_data"
    }
   ],
   "source": [
    "l = []\n",
    "for k in range(2,10):\n",
    "    print(k)\n",
    "    \n",
    "    km = GaussianMixture(n_components=k,covariance_type='spherical')\n",
    "    \n",
    "    km.fit(Xs)\n",
    "    l.append((k,silhouette_score(Xs,km.predict(Xs))))\n",
    "silueta = pd.DataFrame(l,columns=['k','silueta'])\n",
    "\n",
    "plt.plot(silueta['k'],silueta['silueta'],marker='o') #es tardado, iteramos el numero grupos y vemmos su silueta\n",
    "#covarianxe_type es para evitar problemas de covarianza"
   ]
  },
  {
   "cell_type": "code",
   "execution_count": 14,
   "metadata": {
    "ExecuteTime": {
     "end_time": "2022-06-30T22:37:42.833445Z",
     "start_time": "2022-06-30T22:37:42.667091Z"
    }
   },
   "outputs": [
    {
     "data": {
      "text/plain": [
       "[<matplotlib.lines.Line2D at 0x7fe8e897f278>]"
      ]
     },
     "execution_count": 14,
     "metadata": {},
     "output_type": "execute_result"
    },
    {
     "data": {
      "image/png": "[encoded data removed]",
      "text/plain": [
       "<Figure size 432x288 with 1 Axes>"
      ]
     },
     "metadata": {
      "needs_background": "light"
     },
     "output_type": "display_data"
    }
   ],
   "source": [
    "plt.plot(silueta['k'],silueta['silueta'],marker='o') #buscamos una silueta cercana a uno"
   ]
  },
  {
   "cell_type": "code",
   "execution_count": 15,
   "metadata": {
    "ExecuteTime": {
     "end_time": "2022-06-30T22:37:46.163613Z",
     "start_time": "2022-06-30T22:37:46.048016Z"
    }
   },
   "outputs": [
    {
     "data": {
      "text/plain": [
       "-1203388.5810822751"
      ]
     },
     "execution_count": 15,
     "metadata": {},
     "output_type": "execute_result"
    }
   ],
   "source": [
    "km.bic(Xs)"
   ]
  },
  {
   "cell_type": "code",
   "execution_count": 16,
   "metadata": {
    "ExecuteTime": {
     "end_time": "2022-06-30T22:37:47.360784Z",
     "start_time": "2022-06-30T22:37:47.291564Z"
    }
   },
   "outputs": [
    {
     "data": {
      "text/plain": [
       "-1204202.237732153"
      ]
     },
     "execution_count": 16,
     "metadata": {},
     "output_type": "execute_result"
    }
   ],
   "source": [
    "km.aic(Xs)"
   ]
  },
  {
   "cell_type": "code",
   "execution_count": 17,
   "metadata": {
    "ExecuteTime": {
     "end_time": "2022-06-30T22:38:03.385027Z",
     "start_time": "2022-06-30T22:37:53.604959Z"
    }
   },
   "outputs": [],
   "source": [
    "l_bic = []\n",
    "l_aic=[]\n",
    "for k in range(2,10):\n",
    "    km = GaussianMixture(n_components=k)\n",
    "    km.fit(Xs.sample(frac=.1))\n",
    "    l_bic.append((k,km.bic(Xs)))\n",
    "    l_aic.append((k,km.aic(Xs)))\n",
    "aic = pd.DataFrame(l_aic,columns=['k','aic'])\n",
    "bic = pd.DataFrame(l_bic,columns=['k','bic'])"
   ]
  },
  {
   "cell_type": "code",
   "execution_count": 18,
   "metadata": {
    "ExecuteTime": {
     "end_time": "2022-06-30T22:38:08.194920Z",
     "start_time": "2022-06-30T22:38:08.031641Z"
    }
   },
   "outputs": [
    {
     "data": {
      "text/plain": [
       "[<matplotlib.lines.Line2D at 0x7fe8e88f7198>]"
      ]
     },
     "execution_count": 18,
     "metadata": {},
     "output_type": "execute_result"
    },
    {
     "data": {
      "image/png": "[encoded data removed]",
      "text/plain": [
       "<Figure size 432x288 with 1 Axes>"
      ]
     },
     "metadata": {
      "needs_background": "light"
     },
     "output_type": "display_data"
    }
   ],
   "source": [
    "plt.plot(aic['k'],aic['aic'],marker='o') #deben de ser lo mas pequeño posibles"
   ]
  },
  {
   "cell_type": "code",
   "execution_count": 19,
   "metadata": {
    "ExecuteTime": {
     "end_time": "2022-06-30T22:38:11.699022Z",
     "start_time": "2022-06-30T22:38:11.549940Z"
    }
   },
   "outputs": [
    {
     "data": {
      "text/plain": [
       "[<matplotlib.lines.Line2D at 0x7fe8e88dd160>]"
      ]
     },
     "execution_count": 19,
     "metadata": {},
     "output_type": "execute_result"
    },
    {
     "data": {
      "image/png": "[encoded data removed]",
      "text/plain": [
       "<Figure size 432x288 with 1 Axes>"
      ]
     },
     "metadata": {
      "needs_background": "light"
     },
     "output_type": "display_data"
    }
   ],
   "source": [
    "plt.plot(bic['k'],bic['bic'],marker='o')"
   ]
  },
  {
   "cell_type": "code",
   "execution_count": 20,
   "metadata": {
    "ExecuteTime": {
     "end_time": "2022-06-30T22:38:15.270167Z",
     "start_time": "2022-06-30T22:38:15.267842Z"
    }
   },
   "outputs": [],
   "source": [
    "gmm=GaussianMixture(n_components=5) #como la sileuta esta alta en 5 y es la mejor en bic y aic se toma\n",
    "#en init_max podemos poner k-means++"
   ]
  },
  {
   "cell_type": "code",
   "execution_count": 21,
   "metadata": {
    "ExecuteTime": {
     "end_time": "2022-06-30T22:38:17.236279Z",
     "start_time": "2022-06-30T22:38:16.131422Z"
    }
   },
   "outputs": [
    {
     "data": {
      "text/plain": [
       "GaussianMixture(n_components=5)"
      ]
     },
     "execution_count": 21,
     "metadata": {},
     "output_type": "execute_result"
    }
   ],
   "source": [
    "gmm.fit(Xs)"
   ]
  },
  {
   "cell_type": "code",
   "execution_count": 22,
   "metadata": {
    "ExecuteTime": {
     "end_time": "2022-06-30T22:38:25.028339Z",
     "start_time": "2022-06-30T22:38:25.024557Z"
    }
   },
   "outputs": [
    {
     "data": {
      "text/plain": [
       "5"
      ]
     },
     "execution_count": 22,
     "metadata": {},
     "output_type": "execute_result"
    }
   ],
   "source": [
    "len(gmm.means_) #5 medias"
   ]
  },
  {
   "cell_type": "code",
   "execution_count": 23,
   "metadata": {
    "ExecuteTime": {
     "end_time": "2022-06-30T22:38:29.402769Z",
     "start_time": "2022-06-30T22:38:29.398487Z"
    }
   },
   "outputs": [
    {
     "data": {
      "text/plain": [
       "array([[0.75354628, 0.24130216, 0.5874292 , 0.38877414, 0.12245399,\n",
       "        0.51519641, 0.65911511, 0.24716499],\n",
       "       [0.41456599, 0.65246289, 0.73321019, 0.44236288, 0.26333817,\n",
       "        0.67268026, 0.29141015, 0.40272863],\n",
       "       [0.2575681 , 0.75223193, 0.24345723, 0.66291792, 0.66422827,\n",
       "        0.36870008, 0.53923544, 0.29483181],\n",
       "       [0.50296939, 0.75439533, 0.58782441, 0.23457183, 0.21188555,\n",
       "        0.67469695, 0.35758596, 0.76434024],\n",
       "       [0.5175717 , 0.78082639, 0.49845176, 0.773782  , 0.57412592,\n",
       "        0.279752  , 0.69687916, 0.55631287]])"
      ]
     },
     "execution_count": 23,
     "metadata": {},
     "output_type": "execute_result"
    }
   ],
   "source": [
    "gmm.means_"
   ]
  },
  {
   "cell_type": "code",
   "execution_count": 24,
   "metadata": {
    "ExecuteTime": {
     "end_time": "2022-06-30T22:38:32.582253Z",
     "start_time": "2022-06-30T22:38:32.578023Z"
    }
   },
   "outputs": [
    {
     "data": {
      "text/plain": [
       "5"
      ]
     },
     "execution_count": 24,
     "metadata": {},
     "output_type": "execute_result"
    }
   ],
   "source": [
    "len(gmm.covariances_) #5 mmatrices de covarianzas"
   ]
  },
  {
   "cell_type": "code",
   "execution_count": 25,
   "metadata": {
    "ExecuteTime": {
     "end_time": "2022-06-30T22:38:34.012814Z",
     "start_time": "2022-06-30T22:38:34.004038Z"
    }
   },
   "outputs": [
    {
     "data": {
      "text/plain": [
       "array([[[ 4.79436381e-03,  7.86007235e-06, -3.55199953e-05,\n",
       "          5.79224298e-05,  8.21084913e-06,  3.77226559e-05,\n",
       "         -2.79565512e-05,  3.82096215e-05],\n",
       "        [ 7.86007235e-06,  3.29336446e-03, -1.95557274e-05,\n",
       "         -1.68113666e-05,  1.33105238e-05,  7.99489051e-06,\n",
       "         -4.81323370e-05, -8.32032565e-05],\n",
       "        [-3.55199953e-05, -1.95557274e-05,  4.57435164e-03,\n",
       "         -2.95059248e-05, -1.70199560e-05, -3.87712836e-05,\n",
       "          1.72159428e-05,  4.85280884e-05],\n",
       "        [ 5.79224298e-05, -1.68113666e-05, -2.95059248e-05,\n",
       "          4.02192578e-03,  1.24038492e-03,  2.21379221e-05,\n",
       "          2.64692308e-05, -3.81131707e-05],\n",
       "        [ 8.21084913e-06,  1.33105238e-05, -1.70199560e-05,\n",
       "          1.24038492e-03,  1.34168465e-03, -9.66681734e-06,\n",
       "          1.10605152e-05, -2.69645843e-05],\n",
       "        [ 3.77226559e-05,  7.99489051e-06, -3.87712836e-05,\n",
       "          2.21379221e-05, -9.66681734e-06,  5.35131143e-03,\n",
       "          1.00869564e-05, -1.81814004e-05],\n",
       "        [-2.79565512e-05, -4.81323370e-05,  1.72159428e-05,\n",
       "          2.64692308e-05,  1.10605152e-05,  1.00869564e-05,\n",
       "          6.00216749e-03,  4.01394734e-05],\n",
       "        [ 3.82096215e-05, -8.32032565e-05,  4.85280884e-05,\n",
       "         -3.81131707e-05, -2.69645843e-05, -1.81814004e-05,\n",
       "          4.01394734e-05,  4.51680231e-03]],\n",
       "\n",
       "       [[ 4.75195567e-03, -6.08898973e-05,  5.28871811e-05,\n",
       "          9.05756673e-06,  3.04550209e-05,  1.53013809e-05,\n",
       "          4.74708025e-05,  7.69328213e-06],\n",
       "        [-6.08898973e-05,  3.28471083e-03,  3.85313918e-05,\n",
       "         -2.74898223e-05, -2.98749336e-05, -8.44163033e-08,\n",
       "         -4.47240527e-06,  5.00157918e-05],\n",
       "        [ 5.28871811e-05,  3.85313918e-05,  4.60001459e-03,\n",
       "         -2.46662594e-06, -1.34913694e-06,  3.87092532e-05,\n",
       "         -2.74374286e-06,  1.45067856e-06],\n",
       "        [ 9.05756673e-06, -2.74898223e-05, -2.46662594e-06,\n",
       "          3.99219925e-03,  2.39702621e-03, -1.15259334e-05,\n",
       "          2.70079222e-05, -2.83428832e-05],\n",
       "        [ 3.04550209e-05, -2.98749336e-05, -1.34913694e-06,\n",
       "          2.39702621e-03,  2.67166817e-03, -3.43973893e-06,\n",
       "          3.03072228e-05, -8.97038930e-06],\n",
       "        [ 1.53013809e-05, -8.44163033e-08,  3.87092532e-05,\n",
       "         -1.15259334e-05, -3.43973893e-06,  5.38883735e-03,\n",
       "          1.54816380e-05,  3.64670923e-05],\n",
       "        [ 4.74708025e-05, -4.47240527e-06, -2.74374286e-06,\n",
       "          2.70079222e-05,  3.03072228e-05,  1.54816380e-05,\n",
       "          6.18440585e-03,  1.67359151e-05],\n",
       "        [ 7.69328213e-06,  5.00157918e-05,  1.45067856e-06,\n",
       "         -2.83428832e-05, -8.97038930e-06,  3.64670923e-05,\n",
       "          1.67359151e-05,  4.53522983e-03]],\n",
       "\n",
       "       [[ 4.76256296e-03,  1.48605343e-05, -1.88409044e-05,\n",
       "         -7.70964811e-05, -5.19144093e-05, -7.32999366e-05,\n",
       "         -2.20687764e-05,  5.00642047e-05],\n",
       "        [ 1.48605343e-05,  3.21942919e-03, -7.90451511e-05,\n",
       "          1.72955726e-05, -2.71843577e-06, -1.17762322e-04,\n",
       "         -8.29557935e-05,  4.99948934e-05],\n",
       "        [-1.88409044e-05, -7.90451511e-05,  4.51267487e-03,\n",
       "          2.67659163e-05,  7.61576696e-05,  8.89518769e-05,\n",
       "          8.77503410e-05,  2.52127176e-06],\n",
       "        [-7.70964811e-05,  1.72955726e-05,  2.67659163e-05,\n",
       "          4.06090357e-03,  4.08265452e-03,  2.62951903e-05,\n",
       "         -4.03382962e-05,  4.79376308e-05],\n",
       "        [-5.19144093e-05, -2.71843577e-06,  7.61576696e-05,\n",
       "          4.08265452e-03,  6.86155272e-03,  5.59553138e-05,\n",
       "         -5.97983281e-05,  7.05508526e-05],\n",
       "        [-7.32999366e-05, -1.17762322e-04,  8.89518769e-05,\n",
       "          2.62951903e-05,  5.59553138e-05,  5.48514306e-03,\n",
       "         -9.00674684e-06, -8.59200711e-05],\n",
       "        [-2.20687764e-05, -8.29557935e-05,  8.77503410e-05,\n",
       "         -4.03382962e-05, -5.97983281e-05, -9.00674684e-06,\n",
       "          6.27505797e-03, -4.79111975e-05],\n",
       "        [ 5.00642047e-05,  4.99948934e-05,  2.52127176e-06,\n",
       "          4.79376308e-05,  7.05508526e-05, -8.59200711e-05,\n",
       "         -4.79111975e-05,  4.59051675e-03]],\n",
       "\n",
       "       [[ 4.71112101e-03,  3.03155811e-05, -3.99181173e-05,\n",
       "          2.32810712e-06, -1.15576185e-05, -1.10186891e-05,\n",
       "         -1.24835143e-06,  2.35199185e-05],\n",
       "        [ 3.03155811e-05,  3.24957519e-03,  1.33073998e-05,\n",
       "          9.06411015e-06, -6.34952080e-06,  4.05761506e-05,\n",
       "         -4.25299464e-05,  1.55565718e-05],\n",
       "        [-3.99181173e-05,  1.33073998e-05,  4.67497279e-03,\n",
       "          2.34140497e-05,  1.31953616e-05,  3.92662582e-05,\n",
       "         -1.06591863e-07, -8.47943134e-05],\n",
       "        [ 2.32810712e-06,  9.06411015e-06,  2.34140497e-05,\n",
       "          4.04412875e-03,  3.65767931e-03,  7.05734190e-05,\n",
       "          2.04451900e-05, -6.87523228e-06],\n",
       "        [-1.15576185e-05, -6.34952080e-06,  1.31953616e-05,\n",
       "          3.65767931e-03,  3.68044733e-03,  5.19789586e-05,\n",
       "          2.64241316e-05, -3.32412279e-06],\n",
       "        [-1.10186891e-05,  4.05761506e-05,  3.92662582e-05,\n",
       "          7.05734190e-05,  5.19789586e-05,  5.36333002e-03,\n",
       "         -8.90382100e-06,  7.86284203e-06],\n",
       "        [-1.24835143e-06, -4.25299464e-05, -1.06591863e-07,\n",
       "          2.04451900e-05,  2.64241316e-05, -8.90382100e-06,\n",
       "          6.15707596e-03, -1.20242992e-05],\n",
       "        [ 2.35199185e-05,  1.55565718e-05, -8.47943134e-05,\n",
       "         -6.87523228e-06, -3.32412279e-06,  7.86284203e-06,\n",
       "         -1.20242992e-05,  4.52298372e-03]],\n",
       "\n",
       "       [[ 4.78203776e-03,  5.41319508e-06,  6.64779691e-05,\n",
       "         -4.51096418e-05, -5.58851791e-05, -4.83274037e-05,\n",
       "          3.22299068e-06,  3.18821441e-05],\n",
       "        [ 5.41319508e-06,  3.21583904e-03,  2.29876835e-05,\n",
       "         -4.96117048e-05, -4.94438916e-05,  3.34178645e-05,\n",
       "          2.20102245e-05, -1.96749480e-05],\n",
       "        [ 6.64779691e-05,  2.29876835e-05,  4.66992091e-03,\n",
       "         -1.06031578e-05,  2.85064671e-05,  3.49780164e-05,\n",
       "         -4.07730657e-05,  7.74546616e-05],\n",
       "        [-4.51096418e-05, -4.96117048e-05, -1.06031578e-05,\n",
       "          4.04927782e-03,  2.94421865e-03, -1.20751304e-05,\n",
       "         -2.46755397e-05,  9.80090245e-05],\n",
       "        [-5.58851791e-05, -4.94438916e-05,  2.85064671e-05,\n",
       "          2.94421865e-03,  5.96679410e-03, -1.05047159e-04,\n",
       "          2.91436036e-05,  4.20825160e-05],\n",
       "        [-4.83274037e-05,  3.34178645e-05,  3.49780164e-05,\n",
       "         -1.20751304e-05, -1.05047159e-04,  5.36624914e-03,\n",
       "          1.78527083e-05,  4.48860871e-05],\n",
       "        [ 3.22299068e-06,  2.20102245e-05, -4.07730657e-05,\n",
       "         -2.46755397e-05,  2.91436036e-05,  1.78527083e-05,\n",
       "          6.22931884e-03, -2.22124502e-05],\n",
       "        [ 3.18821441e-05, -1.96749480e-05,  7.74546616e-05,\n",
       "          9.80090245e-05,  4.20825160e-05,  4.48860871e-05,\n",
       "         -2.22124502e-05,  4.52245717e-03]]])"
      ]
     },
     "execution_count": 25,
     "metadata": {},
     "output_type": "execute_result"
    }
   ],
   "source": [
    "gmm.covariances_"
   ]
  },
  {
   "cell_type": "code",
   "execution_count": 26,
   "metadata": {
    "ExecuteTime": {
     "end_time": "2022-06-30T22:38:37.622880Z",
     "start_time": "2022-06-30T22:38:37.563491Z"
    }
   },
   "outputs": [],
   "source": [
    "data['cl'] = gmm.predict(Xs) #Hacemos la prediccion a la prob mas grande"
   ]
  },
  {
   "cell_type": "code",
   "execution_count": 27,
   "metadata": {
    "ExecuteTime": {
     "end_time": "2022-06-30T22:39:11.722043Z",
     "start_time": "2022-06-30T22:39:11.707728Z"
    }
   },
   "outputs": [
    {
     "data": {
      "text/plain": [
       "1    0.282699\n",
       "3    0.268197\n",
       "0    0.213172\n",
       "2    0.122711\n",
       "4    0.113221\n",
       "Name: cl, dtype: float64"
      ]
     },
     "execution_count": 27,
     "metadata": {},
     "output_type": "execute_result"
    }
   ],
   "source": [
    "data['cl'].value_counts(1) #Frecuencias de los grupos"
   ]
  },
  {
   "cell_type": "code",
   "execution_count": 28,
   "metadata": {
    "ExecuteTime": {
     "end_time": "2022-06-30T22:39:14.994186Z",
     "start_time": "2022-06-30T22:39:14.991763Z"
    }
   },
   "outputs": [],
   "source": [
    "\"\"\"Tecnicas de proyeccion\"\"\"\n",
    "from sklearn.decomposition import PCA\n",
    "from sklearn.manifold import MDS,TSNE"
   ]
  },
  {
   "cell_type": "code",
   "execution_count": 29,
   "metadata": {
    "ExecuteTime": {
     "end_time": "2022-06-30T22:39:21.798881Z",
     "start_time": "2022-06-30T22:39:21.523277Z"
    }
   },
   "outputs": [
    {
     "data": {
      "text/plain": [
       "array([0.40878221, 0.76044946])"
      ]
     },
     "execution_count": 29,
     "metadata": {},
     "output_type": "execute_result"
    }
   ],
   "source": [
    "n_components = 2\n",
    "pca = PCA(n_components=n_components)\n",
    "Xp = pd.DataFrame(pca.fit_transform(Xs),columns=[f\"p_{i}\" for i in  range(1,n_components+1)])\n",
    "pca.explained_variance_ratio_.cumsum()"
   ]
  },
  {
   "cell_type": "code",
   "execution_count": 30,
   "metadata": {
    "ExecuteTime": {
     "end_time": "2022-06-30T22:39:24.539173Z",
     "start_time": "2022-06-30T22:39:24.528776Z"
    }
   },
   "outputs": [
    {
     "data": {
      "text/html": [
       "<div>\n",
       "<style scoped>\n",
       "    .dataframe tbody tr th:only-of-type {\n",
       "        vertical-align: middle;\n",
       "    }\n",
       "\n",
       "    .dataframe tbody tr th {\n",
       "        vertical-align: top;\n",
       "    }\n",
       "\n",
       "    .dataframe thead th {\n",
       "        text-align: right;\n",
       "    }\n",
       "</style>\n",
       "<table border=\"1\" class=\"dataframe\">\n",
       "  <thead>\n",
       "    <tr style=\"text-align: right;\">\n",
       "      <th></th>\n",
       "      <th>p_1</th>\n",
       "      <th>p_2</th>\n",
       "    </tr>\n",
       "  </thead>\n",
       "  <tbody>\n",
       "    <tr>\n",
       "      <th>0</th>\n",
       "      <td>-0.079271</td>\n",
       "      <td>-0.102892</td>\n",
       "    </tr>\n",
       "    <tr>\n",
       "      <th>1</th>\n",
       "      <td>-0.041288</td>\n",
       "      <td>-0.015613</td>\n",
       "    </tr>\n",
       "    <tr>\n",
       "      <th>2</th>\n",
       "      <td>-0.180080</td>\n",
       "      <td>-0.102543</td>\n",
       "    </tr>\n",
       "    <tr>\n",
       "      <th>3</th>\n",
       "      <td>-0.101212</td>\n",
       "      <td>-0.075188</td>\n",
       "    </tr>\n",
       "    <tr>\n",
       "      <th>4</th>\n",
       "      <td>-0.124942</td>\n",
       "      <td>-0.131175</td>\n",
       "    </tr>\n",
       "    <tr>\n",
       "      <th>...</th>\n",
       "      <td>...</td>\n",
       "      <td>...</td>\n",
       "    </tr>\n",
       "    <tr>\n",
       "      <th>69019</th>\n",
       "      <td>0.585839</td>\n",
       "      <td>-0.066768</td>\n",
       "    </tr>\n",
       "    <tr>\n",
       "      <th>69020</th>\n",
       "      <td>0.735426</td>\n",
       "      <td>0.037699</td>\n",
       "    </tr>\n",
       "    <tr>\n",
       "      <th>69021</th>\n",
       "      <td>0.490326</td>\n",
       "      <td>-0.035520</td>\n",
       "    </tr>\n",
       "    <tr>\n",
       "      <th>69022</th>\n",
       "      <td>0.676972</td>\n",
       "      <td>-0.097213</td>\n",
       "    </tr>\n",
       "    <tr>\n",
       "      <th>69023</th>\n",
       "      <td>0.510364</td>\n",
       "      <td>-0.089217</td>\n",
       "    </tr>\n",
       "  </tbody>\n",
       "</table>\n",
       "<p>69024 rows × 2 columns</p>\n",
       "</div>"
      ],
      "text/plain": [
       "            p_1       p_2\n",
       "0     -0.079271 -0.102892\n",
       "1     -0.041288 -0.015613\n",
       "2     -0.180080 -0.102543\n",
       "3     -0.101212 -0.075188\n",
       "4     -0.124942 -0.131175\n",
       "...         ...       ...\n",
       "69019  0.585839 -0.066768\n",
       "69020  0.735426  0.037699\n",
       "69021  0.490326 -0.035520\n",
       "69022  0.676972 -0.097213\n",
       "69023  0.510364 -0.089217\n",
       "\n",
       "[69024 rows x 2 columns]"
      ]
     },
     "execution_count": 30,
     "metadata": {},
     "output_type": "execute_result"
    }
   ],
   "source": [
    "Xp"
   ]
  },
  {
   "cell_type": "code",
   "execution_count": 31,
   "metadata": {
    "ExecuteTime": {
     "end_time": "2022-06-30T22:39:27.743125Z",
     "start_time": "2022-06-30T22:39:27.679377Z"
    }
   },
   "outputs": [],
   "source": [
    "pred_y= gmm.predict(Xs) #Agregamos la columna del cluster"
   ]
  },
  {
   "cell_type": "code",
   "execution_count": 32,
   "metadata": {
    "ExecuteTime": {
     "end_time": "2022-06-30T22:39:30.929373Z",
     "start_time": "2022-06-30T22:39:30.814584Z"
    }
   },
   "outputs": [],
   "source": [
    "import seaborn as sns"
   ]
  },
  {
   "cell_type": "code",
   "execution_count": 33,
   "metadata": {
    "ExecuteTime": {
     "end_time": "2022-06-30T22:39:31.852049Z",
     "start_time": "2022-06-30T22:39:31.849190Z"
    }
   },
   "outputs": [],
   "source": [
    "current_palette = sns.color_palette()"
   ]
  },
  {
   "cell_type": "code",
   "execution_count": 34,
   "metadata": {
    "ExecuteTime": {
     "end_time": "2022-06-30T22:39:42.430166Z",
     "start_time": "2022-06-30T22:39:40.041984Z"
    }
   },
   "outputs": [
    {
     "name": "stderr",
     "output_type": "stream",
     "text": [
      "/home/jorge/Documents/Diplomado/ambientes/diplo_env/lib/python3.6/site-packages/seaborn/_decorators.py:43: FutureWarning: Pass the following variables as keyword args: x, y. From version 0.12, the only valid positional argument will be `data`, and passing other arguments without an explicit keyword will result in an error or misinterpretation.\n",
      "  FutureWarning\n"
     ]
    },
    {
     "data": {
      "image/png": "[encoded data removed]",
      "text/plain": [
       "<Figure size 1440x360 with 1 Axes>"
      ]
     },
     "metadata": {
      "needs_background": "light"
     },
     "output_type": "display_data"
    }
   ],
   "source": [
    "plt.subplots(figsize=(20,5))\n",
    "sns.scatterplot(Xp[\"p_1\"], Xp[\"p_2\"],hue=pred_y,palette=current_palette[:5])\n",
    "sns.despine()\n",
    "plt.show() #Graficamos los grupos, se ve bien"
   ]
  },
  {
   "cell_type": "code",
   "execution_count": 35,
   "metadata": {
    "ExecuteTime": {
     "end_time": "2022-06-30T22:39:52.270683Z",
     "start_time": "2022-06-30T22:39:52.142253Z"
    }
   },
   "outputs": [
    {
     "data": {
      "text/html": [
       "<style  type=\"text/css\" >\n",
       "#T_8e61a3a6_f8c5_11ec_b7a2_fc017c098dcdrow0_col0,#T_8e61a3a6_f8c5_11ec_b7a2_fc017c098dcdrow1_col2,#T_8e61a3a6_f8c5_11ec_b7a2_fc017c098dcdrow2_col4,#T_8e61a3a6_f8c5_11ec_b7a2_fc017c098dcdrow3_col5,#T_8e61a3a6_f8c5_11ec_b7a2_fc017c098dcdrow3_col7,#T_8e61a3a6_f8c5_11ec_b7a2_fc017c098dcdrow4_col1,#T_8e61a3a6_f8c5_11ec_b7a2_fc017c098dcdrow4_col3,#T_8e61a3a6_f8c5_11ec_b7a2_fc017c098dcdrow4_col6{\n",
       "            background-color:  #08306b;\n",
       "            color:  #f1f1f1;\n",
       "        }#T_8e61a3a6_f8c5_11ec_b7a2_fc017c098dcdrow0_col1,#T_8e61a3a6_f8c5_11ec_b7a2_fc017c098dcdrow0_col4,#T_8e61a3a6_f8c5_11ec_b7a2_fc017c098dcdrow0_col7,#T_8e61a3a6_f8c5_11ec_b7a2_fc017c098dcdrow1_col6,#T_8e61a3a6_f8c5_11ec_b7a2_fc017c098dcdrow2_col0,#T_8e61a3a6_f8c5_11ec_b7a2_fc017c098dcdrow2_col2,#T_8e61a3a6_f8c5_11ec_b7a2_fc017c098dcdrow3_col3,#T_8e61a3a6_f8c5_11ec_b7a2_fc017c098dcdrow4_col5{\n",
       "            background-color:  #f7fbff;\n",
       "            color:  #000000;\n",
       "        }#T_8e61a3a6_f8c5_11ec_b7a2_fc017c098dcdrow0_col2{\n",
       "            background-color:  #2e7ebc;\n",
       "            color:  #000000;\n",
       "        }#T_8e61a3a6_f8c5_11ec_b7a2_fc017c098dcdrow0_col3{\n",
       "            background-color:  #bad6eb;\n",
       "            color:  #000000;\n",
       "        }#T_8e61a3a6_f8c5_11ec_b7a2_fc017c098dcdrow0_col5{\n",
       "            background-color:  #4b98ca;\n",
       "            color:  #000000;\n",
       "        }#T_8e61a3a6_f8c5_11ec_b7a2_fc017c098dcdrow0_col6{\n",
       "            background-color:  #08488e;\n",
       "            color:  #f1f1f1;\n",
       "        }#T_8e61a3a6_f8c5_11ec_b7a2_fc017c098dcdrow1_col0{\n",
       "            background-color:  #b0d2e7;\n",
       "            color:  #000000;\n",
       "        }#T_8e61a3a6_f8c5_11ec_b7a2_fc017c098dcdrow1_col1{\n",
       "            background-color:  #1e6db2;\n",
       "            color:  #f1f1f1;\n",
       "        }#T_8e61a3a6_f8c5_11ec_b7a2_fc017c098dcdrow1_col3{\n",
       "            background-color:  #9ac8e0;\n",
       "            color:  #000000;\n",
       "        }#T_8e61a3a6_f8c5_11ec_b7a2_fc017c098dcdrow1_col4{\n",
       "            background-color:  #c3daee;\n",
       "            color:  #000000;\n",
       "        }#T_8e61a3a6_f8c5_11ec_b7a2_fc017c098dcdrow1_col5{\n",
       "            background-color:  #08316d;\n",
       "            color:  #f1f1f1;\n",
       "        }#T_8e61a3a6_f8c5_11ec_b7a2_fc017c098dcdrow1_col7{\n",
       "            background-color:  #b5d4e9;\n",
       "            color:  #000000;\n",
       "        }#T_8e61a3a6_f8c5_11ec_b7a2_fc017c098dcdrow2_col1{\n",
       "            background-color:  #083d7f;\n",
       "            color:  #f1f1f1;\n",
       "        }#T_8e61a3a6_f8c5_11ec_b7a2_fc017c098dcdrow2_col3{\n",
       "            background-color:  #1865ac;\n",
       "            color:  #f1f1f1;\n",
       "        }#T_8e61a3a6_f8c5_11ec_b7a2_fc017c098dcdrow2_col5{\n",
       "            background-color:  #cbdef1;\n",
       "            color:  #000000;\n",
       "        }#T_8e61a3a6_f8c5_11ec_b7a2_fc017c098dcdrow2_col6{\n",
       "            background-color:  #4695c8;\n",
       "            color:  #000000;\n",
       "        }#T_8e61a3a6_f8c5_11ec_b7a2_fc017c098dcdrow2_col7{\n",
       "            background-color:  #e5eff9;\n",
       "            color:  #000000;\n",
       "        }#T_8e61a3a6_f8c5_11ec_b7a2_fc017c098dcdrow3_col0{\n",
       "            background-color:  #6dafd7;\n",
       "            color:  #000000;\n",
       "        }#T_8e61a3a6_f8c5_11ec_b7a2_fc017c098dcdrow3_col1{\n",
       "            background-color:  #083c7d;\n",
       "            color:  #f1f1f1;\n",
       "        }#T_8e61a3a6_f8c5_11ec_b7a2_fc017c098dcdrow3_col2{\n",
       "            background-color:  #2d7dbb;\n",
       "            color:  #000000;\n",
       "        }#T_8e61a3a6_f8c5_11ec_b7a2_fc017c098dcdrow3_col4{\n",
       "            background-color:  #d6e6f4;\n",
       "            color:  #000000;\n",
       "        }#T_8e61a3a6_f8c5_11ec_b7a2_fc017c098dcdrow3_col6{\n",
       "            background-color:  #d7e6f5;\n",
       "            color:  #000000;\n",
       "        }#T_8e61a3a6_f8c5_11ec_b7a2_fc017c098dcdrow4_col0{\n",
       "            background-color:  #63a8d3;\n",
       "            color:  #000000;\n",
       "        }#T_8e61a3a6_f8c5_11ec_b7a2_fc017c098dcdrow4_col2{\n",
       "            background-color:  #64a9d3;\n",
       "            color:  #000000;\n",
       "        }#T_8e61a3a6_f8c5_11ec_b7a2_fc017c098dcdrow4_col4{\n",
       "            background-color:  #105ba4;\n",
       "            color:  #f1f1f1;\n",
       "        }#T_8e61a3a6_f8c5_11ec_b7a2_fc017c098dcdrow4_col7{\n",
       "            background-color:  #4a98c9;\n",
       "            color:  #000000;\n",
       "        }</style><table id=\"T_8e61a3a6_f8c5_11ec_b7a2_fc017c098dcd\" ><thead>    <tr>        <th class=\"blank level0\" ></th>        <th class=\"col_heading level0 col0\" >Height(cm)</th>        <th class=\"col_heading level0 col1\" >Width(cm)</th>        <th class=\"col_heading level0 col2\" >size(g)</th>        <th class=\"col_heading level0 col3\" >Price</th>        <th class=\"col_heading level0 col4\" >Customs tax</th>        <th class=\"col_heading level0 col5\" >Shiping</th>        <th class=\"col_heading level0 col6\" >Taxes (Without Custom)</th>        <th class=\"col_heading level0 col7\" >Avg Arrival Time(days)</th>    </tr>    <tr>        <th class=\"index_name level0\" >cl</th>        <th class=\"blank\" ></th>        <th class=\"blank\" ></th>        <th class=\"blank\" ></th>        <th class=\"blank\" ></th>        <th class=\"blank\" ></th>        <th class=\"blank\" ></th>        <th class=\"blank\" ></th>        <th class=\"blank\" ></th>    </tr></thead><tbody>\n",
       "                <tr>\n",
       "                        <th id=\"T_8e61a3a6_f8c5_11ec_b7a2_fc017c098dcdlevel0_row0\" class=\"row_heading level0 row0\" >0</th>\n",
       "                        <td id=\"T_8e61a3a6_f8c5_11ec_b7a2_fc017c098dcdrow0_col0\" class=\"data row0 col0\" >23.838657</td>\n",
       "                        <td id=\"T_8e61a3a6_f8c5_11ec_b7a2_fc017c098dcdrow0_col1\" class=\"data row0 col1\" >11.032554</td>\n",
       "                        <td id=\"T_8e61a3a6_f8c5_11ec_b7a2_fc017c098dcdrow0_col2\" class=\"data row0 col2\" >646.664537</td>\n",
       "                        <td id=\"T_8e61a3a6_f8c5_11ec_b7a2_fc017c098dcdrow0_col3\" class=\"data row0 col3\" >375.311324</td>\n",
       "                        <td id=\"T_8e61a3a6_f8c5_11ec_b7a2_fc017c098dcdrow0_col4\" class=\"data row0 col4\" >17.881956</td>\n",
       "                        <td id=\"T_8e61a3a6_f8c5_11ec_b7a2_fc017c098dcdrow0_col5\" class=\"data row0 col5\" >12.879910</td>\n",
       "                        <td id=\"T_8e61a3a6_f8c5_11ec_b7a2_fc017c098dcdrow0_col6\" class=\"data row0 col6\" >19.773453</td>\n",
       "                        <td id=\"T_8e61a3a6_f8c5_11ec_b7a2_fc017c098dcdrow0_col7\" class=\"data row0 col7\" >4.460310</td>\n",
       "            </tr>\n",
       "            <tr>\n",
       "                        <th id=\"T_8e61a3a6_f8c5_11ec_b7a2_fc017c098dcdlevel0_row1\" class=\"row_heading level0 row1\" >1</th>\n",
       "                        <td id=\"T_8e61a3a6_f8c5_11ec_b7a2_fc017c098dcdrow1_col0\" class=\"data row1 col0\" >15.364116</td>\n",
       "                        <td id=\"T_8e61a3a6_f8c5_11ec_b7a2_fc017c098dcdrow1_col1\" class=\"data row1 col1\" >21.311587</td>\n",
       "                        <td id=\"T_8e61a3a6_f8c5_11ec_b7a2_fc017c098dcdrow1_col2\" class=\"data row1 col2\" >771.159535</td>\n",
       "                        <td id=\"T_8e61a3a6_f8c5_11ec_b7a2_fc017c098dcdrow1_col3\" class=\"data row1 col3\" >427.043935</td>\n",
       "                        <td id=\"T_8e61a3a6_f8c5_11ec_b7a2_fc017c098dcdrow1_col4\" class=\"data row1 col4\" >38.455249</td>\n",
       "                        <td id=\"T_8e61a3a6_f8c5_11ec_b7a2_fc017c098dcdrow1_col5\" class=\"data row1 col5\" >16.816994</td>\n",
       "                        <td id=\"T_8e61a3a6_f8c5_11ec_b7a2_fc017c098dcdrow1_col6\" class=\"data row1 col6\" >8.742069</td>\n",
       "                        <td id=\"T_8e61a3a6_f8c5_11ec_b7a2_fc017c098dcdrow1_col7\" class=\"data row1 col7\" >6.638190</td>\n",
       "            </tr>\n",
       "            <tr>\n",
       "                        <th id=\"T_8e61a3a6_f8c5_11ec_b7a2_fc017c098dcdlevel0_row2\" class=\"row_heading level0 row2\" >2</th>\n",
       "                        <td id=\"T_8e61a3a6_f8c5_11ec_b7a2_fc017c098dcdrow2_col0\" class=\"data row2 col0\" >11.439079</td>\n",
       "                        <td id=\"T_8e61a3a6_f8c5_11ec_b7a2_fc017c098dcdrow2_col1\" class=\"data row2 col1\" >23.805785</td>\n",
       "                        <td id=\"T_8e61a3a6_f8c5_11ec_b7a2_fc017c098dcdrow2_col2\" class=\"data row2 col2\" >352.910744</td>\n",
       "                        <td id=\"T_8e61a3a6_f8c5_11ec_b7a2_fc017c098dcdrow2_col3\" class=\"data row2 col3\" >639.961709</td>\n",
       "                        <td id=\"T_8e61a3a6_f8c5_11ec_b7a2_fc017c098dcdrow2_col4\" class=\"data row2 col4\" >96.997282</td>\n",
       "                        <td id=\"T_8e61a3a6_f8c5_11ec_b7a2_fc017c098dcdrow2_col5\" class=\"data row2 col5\" >9.217473</td>\n",
       "                        <td id=\"T_8e61a3a6_f8c5_11ec_b7a2_fc017c098dcdrow2_col6\" class=\"data row2 col6\" >16.177085</td>\n",
       "                        <td id=\"T_8e61a3a6_f8c5_11ec_b7a2_fc017c098dcdrow2_col7\" class=\"data row2 col7\" >5.127627</td>\n",
       "            </tr>\n",
       "            <tr>\n",
       "                        <th id=\"T_8e61a3a6_f8c5_11ec_b7a2_fc017c098dcdlevel0_row3\" class=\"row_heading level0 row3\" >3</th>\n",
       "                        <td id=\"T_8e61a3a6_f8c5_11ec_b7a2_fc017c098dcdrow3_col0\" class=\"data row3 col0\" >17.574276</td>\n",
       "                        <td id=\"T_8e61a3a6_f8c5_11ec_b7a2_fc017c098dcdrow3_col1\" class=\"data row3 col1\" >23.859875</td>\n",
       "                        <td id=\"T_8e61a3a6_f8c5_11ec_b7a2_fc017c098dcdrow3_col2\" class=\"data row3 col2\" >647.003781</td>\n",
       "                        <td id=\"T_8e61a3a6_f8c5_11ec_b7a2_fc017c098dcdrow3_col3\" class=\"data row3 col3\" >226.448749</td>\n",
       "                        <td id=\"T_8e61a3a6_f8c5_11ec_b7a2_fc017c098dcdrow3_col4\" class=\"data row3 col4\" >30.941652</td>\n",
       "                        <td id=\"T_8e61a3a6_f8c5_11ec_b7a2_fc017c098dcdrow3_col5\" class=\"data row3 col5\" >16.867437</td>\n",
       "                        <td id=\"T_8e61a3a6_f8c5_11ec_b7a2_fc017c098dcdrow3_col6\" class=\"data row3 col6\" >10.727832</td>\n",
       "                        <td id=\"T_8e61a3a6_f8c5_11ec_b7a2_fc017c098dcdrow3_col7\" class=\"data row3 col7\" >11.700789</td>\n",
       "            </tr>\n",
       "            <tr>\n",
       "                        <th id=\"T_8e61a3a6_f8c5_11ec_b7a2_fc017c098dcdlevel0_row4\" class=\"row_heading level0 row4\" >4</th>\n",
       "                        <td id=\"T_8e61a3a6_f8c5_11ec_b7a2_fc017c098dcdrow4_col0\" class=\"data row4 col0\" >17.939347</td>\n",
       "                        <td id=\"T_8e61a3a6_f8c5_11ec_b7a2_fc017c098dcdrow4_col1\" class=\"data row4 col1\" >24.520665</td>\n",
       "                        <td id=\"T_8e61a3a6_f8c5_11ec_b7a2_fc017c098dcdrow4_col2\" class=\"data row4 col2\" >570.677031</td>\n",
       "                        <td id=\"T_8e61a3a6_f8c5_11ec_b7a2_fc017c098dcdrow4_col3\" class=\"data row4 col3\" >746.985580</td>\n",
       "                        <td id=\"T_8e61a3a6_f8c5_11ec_b7a2_fc017c098dcdrow4_col4\" class=\"data row4 col4\" >83.839736</td>\n",
       "                        <td id=\"T_8e61a3a6_f8c5_11ec_b7a2_fc017c098dcdrow4_col5\" class=\"data row4 col5\" >6.993858</td>\n",
       "                        <td id=\"T_8e61a3a6_f8c5_11ec_b7a2_fc017c098dcdrow4_col6\" class=\"data row4 col6\" >20.906294</td>\n",
       "                        <td id=\"T_8e61a3a6_f8c5_11ec_b7a2_fc017c098dcdrow4_col7\" class=\"data row4 col7\" >8.788356</td>\n",
       "            </tr>\n",
       "    </tbody></table>"
      ],
      "text/plain": [
       "<pandas.io.formats.style.Styler at 0x7fe8e06d7390>"
      ]
     },
     "execution_count": 35,
     "metadata": {},
     "output_type": "execute_result"
    }
   ],
   "source": [
    "data.groupby(['cl']).mean().style.background_gradient(cmap='Blues')"
   ]
  },
  {
   "cell_type": "markdown",
   "metadata": {},
   "source": [
    "0---> más impuestos, peso alto, mas pequeños\n",
    "\n",
    "1---> más pesados, costo de envío mas alto\n",
    "\n",
    "2---> más altos, impuestos de aduana más bajos, llegan mas rápido (no son envios internacionales)\n",
    "\n",
    "3---> Costo de envio mas alto, tardan mas en llegar, son los más baratos\n",
    "\n",
    "4---> más caros, más anchos, mas impuestos en general"
   ]
  },
  {
   "cell_type": "code",
   "execution_count": 36,
   "metadata": {
    "ExecuteTime": {
     "end_time": "2022-06-30T22:40:03.326935Z",
     "start_time": "2022-06-30T22:40:03.302261Z"
    },
    "scrolled": true
   },
   "outputs": [
    {
     "data": {
      "text/html": [
       "<div>\n",
       "<style scoped>\n",
       "    .dataframe tbody tr th:only-of-type {\n",
       "        vertical-align: middle;\n",
       "    }\n",
       "\n",
       "    .dataframe tbody tr th {\n",
       "        vertical-align: top;\n",
       "    }\n",
       "\n",
       "    .dataframe thead th {\n",
       "        text-align: right;\n",
       "    }\n",
       "</style>\n",
       "<table border=\"1\" class=\"dataframe\">\n",
       "  <thead>\n",
       "    <tr style=\"text-align: right;\">\n",
       "      <th></th>\n",
       "      <th>Height(cm)</th>\n",
       "      <th>Width(cm)</th>\n",
       "      <th>size(g)</th>\n",
       "      <th>Price</th>\n",
       "      <th>Customs tax</th>\n",
       "      <th>Shiping</th>\n",
       "      <th>Taxes (Without Custom)</th>\n",
       "      <th>Avg Arrival Time(days)</th>\n",
       "      <th>Country of origin</th>\n",
       "      <th>Destination</th>\n",
       "      <th>cl</th>\n",
       "    </tr>\n",
       "  </thead>\n",
       "  <tbody>\n",
       "    <tr>\n",
       "      <th>0</th>\n",
       "      <td>13.0</td>\n",
       "      <td>23.0</td>\n",
       "      <td>722.0</td>\n",
       "      <td>407.2073</td>\n",
       "      <td>32.66</td>\n",
       "      <td>17.0</td>\n",
       "      <td>9.5965</td>\n",
       "      <td>5.0</td>\n",
       "      <td>UK</td>\n",
       "      <td>Canada</td>\n",
       "      <td>1</td>\n",
       "    </tr>\n",
       "    <tr>\n",
       "      <th>1</th>\n",
       "      <td>15.0</td>\n",
       "      <td>20.0</td>\n",
       "      <td>721.0</td>\n",
       "      <td>486.5470</td>\n",
       "      <td>39.41</td>\n",
       "      <td>16.0</td>\n",
       "      <td>10.6818</td>\n",
       "      <td>6.0</td>\n",
       "      <td>Arabia Saudi</td>\n",
       "      <td>US</td>\n",
       "      <td>1</td>\n",
       "    </tr>\n",
       "    <tr>\n",
       "      <th>2</th>\n",
       "      <td>14.0</td>\n",
       "      <td>20.0</td>\n",
       "      <td>791.0</td>\n",
       "      <td>401.2436</td>\n",
       "      <td>29.69</td>\n",
       "      <td>17.0</td>\n",
       "      <td>10.9438</td>\n",
       "      <td>8.0</td>\n",
       "      <td>China</td>\n",
       "      <td>Mexico</td>\n",
       "      <td>1</td>\n",
       "    </tr>\n",
       "    <tr>\n",
       "      <th>3</th>\n",
       "      <td>16.0</td>\n",
       "      <td>20.0</td>\n",
       "      <td>711.0</td>\n",
       "      <td>451.0550</td>\n",
       "      <td>46.55</td>\n",
       "      <td>18.0</td>\n",
       "      <td>6.8813</td>\n",
       "      <td>6.0</td>\n",
       "      <td>China</td>\n",
       "      <td>Canada</td>\n",
       "      <td>1</td>\n",
       "    </tr>\n",
       "    <tr>\n",
       "      <th>4</th>\n",
       "      <td>15.0</td>\n",
       "      <td>21.0</td>\n",
       "      <td>785.0</td>\n",
       "      <td>422.6088</td>\n",
       "      <td>39.52</td>\n",
       "      <td>16.0</td>\n",
       "      <td>9.7593</td>\n",
       "      <td>8.0</td>\n",
       "      <td>EU</td>\n",
       "      <td>US</td>\n",
       "      <td>1</td>\n",
       "    </tr>\n",
       "    <tr>\n",
       "      <th>...</th>\n",
       "      <td>...</td>\n",
       "      <td>...</td>\n",
       "      <td>...</td>\n",
       "      <td>...</td>\n",
       "      <td>...</td>\n",
       "      <td>...</td>\n",
       "      <td>...</td>\n",
       "      <td>...</td>\n",
       "      <td>...</td>\n",
       "      <td>...</td>\n",
       "      <td>...</td>\n",
       "    </tr>\n",
       "    <tr>\n",
       "      <th>69019</th>\n",
       "      <td>10.0</td>\n",
       "      <td>22.0</td>\n",
       "      <td>463.0</td>\n",
       "      <td>679.9889</td>\n",
       "      <td>95.04</td>\n",
       "      <td>9.0</td>\n",
       "      <td>16.2398</td>\n",
       "      <td>6.0</td>\n",
       "      <td>China</td>\n",
       "      <td>US</td>\n",
       "      <td>2</td>\n",
       "    </tr>\n",
       "    <tr>\n",
       "      <th>69020</th>\n",
       "      <td>12.0</td>\n",
       "      <td>23.0</td>\n",
       "      <td>385.0</td>\n",
       "      <td>650.3484</td>\n",
       "      <td>119.55</td>\n",
       "      <td>9.0</td>\n",
       "      <td>17.8843</td>\n",
       "      <td>3.0</td>\n",
       "      <td>China</td>\n",
       "      <td>US</td>\n",
       "      <td>2</td>\n",
       "    </tr>\n",
       "    <tr>\n",
       "      <th>69021</th>\n",
       "      <td>12.0</td>\n",
       "      <td>25.0</td>\n",
       "      <td>377.0</td>\n",
       "      <td>583.3247</td>\n",
       "      <td>61.27</td>\n",
       "      <td>7.0</td>\n",
       "      <td>15.6244</td>\n",
       "      <td>5.0</td>\n",
       "      <td>India</td>\n",
       "      <td>Canada</td>\n",
       "      <td>2</td>\n",
       "    </tr>\n",
       "    <tr>\n",
       "      <th>69022</th>\n",
       "      <td>8.0</td>\n",
       "      <td>23.0</td>\n",
       "      <td>294.0</td>\n",
       "      <td>642.4097</td>\n",
       "      <td>100.19</td>\n",
       "      <td>9.0</td>\n",
       "      <td>13.0386</td>\n",
       "      <td>4.0</td>\n",
       "      <td>China</td>\n",
       "      <td>Canada</td>\n",
       "      <td>2</td>\n",
       "    </tr>\n",
       "    <tr>\n",
       "      <th>69023</th>\n",
       "      <td>13.0</td>\n",
       "      <td>25.0</td>\n",
       "      <td>382.0</td>\n",
       "      <td>571.7437</td>\n",
       "      <td>89.22</td>\n",
       "      <td>11.0</td>\n",
       "      <td>15.1009</td>\n",
       "      <td>5.0</td>\n",
       "      <td>EU</td>\n",
       "      <td>US</td>\n",
       "      <td>2</td>\n",
       "    </tr>\n",
       "  </tbody>\n",
       "</table>\n",
       "<p>69024 rows × 11 columns</p>\n",
       "</div>"
      ],
      "text/plain": [
       "       Height(cm)  Width(cm)  size(g)     Price  Customs tax  Shiping  \\\n",
       "0            13.0       23.0    722.0  407.2073        32.66     17.0   \n",
       "1            15.0       20.0    721.0  486.5470        39.41     16.0   \n",
       "2            14.0       20.0    791.0  401.2436        29.69     17.0   \n",
       "3            16.0       20.0    711.0  451.0550        46.55     18.0   \n",
       "4            15.0       21.0    785.0  422.6088        39.52     16.0   \n",
       "...           ...        ...      ...       ...          ...      ...   \n",
       "69019        10.0       22.0    463.0  679.9889        95.04      9.0   \n",
       "69020        12.0       23.0    385.0  650.3484       119.55      9.0   \n",
       "69021        12.0       25.0    377.0  583.3247        61.27      7.0   \n",
       "69022         8.0       23.0    294.0  642.4097       100.19      9.0   \n",
       "69023        13.0       25.0    382.0  571.7437        89.22     11.0   \n",
       "\n",
       "       Taxes (Without Custom)  Avg Arrival Time(days) Country of origin  \\\n",
       "0                      9.5965                     5.0                UK   \n",
       "1                     10.6818                     6.0      Arabia Saudi   \n",
       "2                     10.9438                     8.0             China   \n",
       "3                      6.8813                     6.0             China   \n",
       "4                      9.7593                     8.0                EU   \n",
       "...                       ...                     ...               ...   \n",
       "69019                 16.2398                     6.0             China   \n",
       "69020                 17.8843                     3.0             China   \n",
       "69021                 15.6244                     5.0             India   \n",
       "69022                 13.0386                     4.0             China   \n",
       "69023                 15.1009                     5.0                EU   \n",
       "\n",
       "      Destination  cl  \n",
       "0          Canada   1  \n",
       "1              US   1  \n",
       "2          Mexico   1  \n",
       "3          Canada   1  \n",
       "4              US   1  \n",
       "...           ...  ..  \n",
       "69019          US   2  \n",
       "69020          US   2  \n",
       "69021      Canada   2  \n",
       "69022      Canada   2  \n",
       "69023          US   2  \n",
       "\n",
       "[69024 rows x 11 columns]"
      ]
     },
     "execution_count": 36,
     "metadata": {},
     "output_type": "execute_result"
    }
   ],
   "source": [
    "data\n"
   ]
  },
  {
   "cell_type": "code",
   "execution_count": null,
   "metadata": {},
   "outputs": [],
   "source": [
    "len(gmm.predict_proba(Xs)[0])#Tenemos un vector de 5 probabilidades"
   ]
  },
  {
   "cell_type": "code",
   "execution_count": null,
   "metadata": {},
   "outputs": [],
   "source": [
    "data[data['cl']==2] #No son pedidos locales"
   ]
  },
  {
   "cell_type": "code",
   "execution_count": 37,
   "metadata": {
    "ExecuteTime": {
     "end_time": "2022-06-30T22:40:10.570322Z",
     "start_time": "2022-06-30T22:40:10.557242Z"
    }
   },
   "outputs": [
    {
     "data": {
      "text/plain": [
       "China           0.390037\n",
       "India           0.343482\n",
       "UK              0.148090\n",
       "Arabia Saudi    0.055457\n",
       "Japón           0.036836\n",
       "EU              0.026098\n",
       "Name: Country of origin, dtype: float64"
      ]
     },
     "execution_count": 37,
     "metadata": {},
     "output_type": "execute_result"
    }
   ],
   "source": [
    "data[data['cl']==0]['Country of origin'].value_counts(1)"
   ]
  },
  {
   "cell_type": "code",
   "execution_count": 38,
   "metadata": {
    "ExecuteTime": {
     "end_time": "2022-06-30T22:40:14.802655Z",
     "start_time": "2022-06-30T22:40:14.793660Z"
    }
   },
   "outputs": [
    {
     "data": {
      "text/plain": [
       "China           0.403327\n",
       "India           0.332438\n",
       "UK              0.143826\n",
       "Arabia Saudi    0.053231\n",
       "Japón           0.038516\n",
       "EU              0.028663\n",
       "Name: Country of origin, dtype: float64"
      ]
     },
     "execution_count": 38,
     "metadata": {},
     "output_type": "execute_result"
    }
   ],
   "source": [
    "data[data['cl']==4]['Country of origin'].value_counts(1)"
   ]
  },
  {
   "cell_type": "code",
   "execution_count": 101,
   "metadata": {
    "ExecuteTime": {
     "end_time": "2022-01-08T07:09:58.213259Z",
     "start_time": "2022-01-08T07:09:58.192869Z"
    }
   },
   "outputs": [
    {
     "data": {
      "text/html": [
       "<div>\n",
       "<style scoped>\n",
       "    .dataframe tbody tr th:only-of-type {\n",
       "        vertical-align: middle;\n",
       "    }\n",
       "\n",
       "    .dataframe tbody tr th {\n",
       "        vertical-align: top;\n",
       "    }\n",
       "\n",
       "    .dataframe thead th {\n",
       "        text-align: right;\n",
       "    }\n",
       "</style>\n",
       "<table border=\"1\" class=\"dataframe\">\n",
       "  <thead>\n",
       "    <tr style=\"text-align: right;\">\n",
       "      <th></th>\n",
       "      <th>Height(cm)</th>\n",
       "      <th>Width(cm)</th>\n",
       "      <th>size(g)</th>\n",
       "      <th>Price</th>\n",
       "      <th>Customs tax</th>\n",
       "      <th>Shiping</th>\n",
       "      <th>Taxes (Without Custom)</th>\n",
       "      <th>Avg Arrival Time(days)</th>\n",
       "    </tr>\n",
       "  </thead>\n",
       "  <tbody>\n",
       "    <tr>\n",
       "      <th>0</th>\n",
       "      <td>0.32</td>\n",
       "      <td>0.72</td>\n",
       "      <td>0.675644</td>\n",
       "      <td>0.421814</td>\n",
       "      <td>0.223653</td>\n",
       "      <td>0.68</td>\n",
       "      <td>0.319883</td>\n",
       "      <td>0.285714</td>\n",
       "    </tr>\n",
       "    <tr>\n",
       "      <th>1</th>\n",
       "      <td>0.40</td>\n",
       "      <td>0.60</td>\n",
       "      <td>0.674473</td>\n",
       "      <td>0.504000</td>\n",
       "      <td>0.269876</td>\n",
       "      <td>0.64</td>\n",
       "      <td>0.356060</td>\n",
       "      <td>0.357143</td>\n",
       "    </tr>\n",
       "    <tr>\n",
       "      <th>2</th>\n",
       "      <td>0.36</td>\n",
       "      <td>0.60</td>\n",
       "      <td>0.756440</td>\n",
       "      <td>0.415637</td>\n",
       "      <td>0.203314</td>\n",
       "      <td>0.68</td>\n",
       "      <td>0.364793</td>\n",
       "      <td>0.500000</td>\n",
       "    </tr>\n",
       "    <tr>\n",
       "      <th>3</th>\n",
       "      <td>0.44</td>\n",
       "      <td>0.60</td>\n",
       "      <td>0.662763</td>\n",
       "      <td>0.467235</td>\n",
       "      <td>0.318770</td>\n",
       "      <td>0.72</td>\n",
       "      <td>0.229377</td>\n",
       "      <td>0.357143</td>\n",
       "    </tr>\n",
       "    <tr>\n",
       "      <th>4</th>\n",
       "      <td>0.40</td>\n",
       "      <td>0.64</td>\n",
       "      <td>0.749415</td>\n",
       "      <td>0.437768</td>\n",
       "      <td>0.270629</td>\n",
       "      <td>0.64</td>\n",
       "      <td>0.325310</td>\n",
       "      <td>0.500000</td>\n",
       "    </tr>\n",
       "    <tr>\n",
       "      <th>...</th>\n",
       "      <td>...</td>\n",
       "      <td>...</td>\n",
       "      <td>...</td>\n",
       "      <td>...</td>\n",
       "      <td>...</td>\n",
       "      <td>...</td>\n",
       "      <td>...</td>\n",
       "      <td>...</td>\n",
       "    </tr>\n",
       "    <tr>\n",
       "      <th>69019</th>\n",
       "      <td>0.20</td>\n",
       "      <td>0.68</td>\n",
       "      <td>0.372365</td>\n",
       "      <td>0.704381</td>\n",
       "      <td>0.650825</td>\n",
       "      <td>0.36</td>\n",
       "      <td>0.541327</td>\n",
       "      <td>0.357143</td>\n",
       "    </tr>\n",
       "    <tr>\n",
       "      <th>69020</th>\n",
       "      <td>0.28</td>\n",
       "      <td>0.72</td>\n",
       "      <td>0.281030</td>\n",
       "      <td>0.673677</td>\n",
       "      <td>0.818667</td>\n",
       "      <td>0.36</td>\n",
       "      <td>0.596143</td>\n",
       "      <td>0.142857</td>\n",
       "    </tr>\n",
       "    <tr>\n",
       "      <th>69021</th>\n",
       "      <td>0.28</td>\n",
       "      <td>0.80</td>\n",
       "      <td>0.271663</td>\n",
       "      <td>0.604249</td>\n",
       "      <td>0.419571</td>\n",
       "      <td>0.28</td>\n",
       "      <td>0.520813</td>\n",
       "      <td>0.285714</td>\n",
       "    </tr>\n",
       "    <tr>\n",
       "      <th>69022</th>\n",
       "      <td>0.12</td>\n",
       "      <td>0.72</td>\n",
       "      <td>0.174473</td>\n",
       "      <td>0.665454</td>\n",
       "      <td>0.686092</td>\n",
       "      <td>0.36</td>\n",
       "      <td>0.434620</td>\n",
       "      <td>0.214286</td>\n",
       "    </tr>\n",
       "    <tr>\n",
       "      <th>69023</th>\n",
       "      <td>0.32</td>\n",
       "      <td>0.80</td>\n",
       "      <td>0.277518</td>\n",
       "      <td>0.592253</td>\n",
       "      <td>0.610970</td>\n",
       "      <td>0.44</td>\n",
       "      <td>0.503363</td>\n",
       "      <td>0.285714</td>\n",
       "    </tr>\n",
       "  </tbody>\n",
       "</table>\n",
       "<p>69024 rows × 8 columns</p>\n",
       "</div>"
      ],
      "text/plain": [
       "       Height(cm)  Width(cm)   size(g)     Price  Customs tax  Shiping  \\\n",
       "0            0.32       0.72  0.675644  0.421814     0.223653     0.68   \n",
       "1            0.40       0.60  0.674473  0.504000     0.269876     0.64   \n",
       "2            0.36       0.60  0.756440  0.415637     0.203314     0.68   \n",
       "3            0.44       0.60  0.662763  0.467235     0.318770     0.72   \n",
       "4            0.40       0.64  0.749415  0.437768     0.270629     0.64   \n",
       "...           ...        ...       ...       ...          ...      ...   \n",
       "69019        0.20       0.68  0.372365  0.704381     0.650825     0.36   \n",
       "69020        0.28       0.72  0.281030  0.673677     0.818667     0.36   \n",
       "69021        0.28       0.80  0.271663  0.604249     0.419571     0.28   \n",
       "69022        0.12       0.72  0.174473  0.665454     0.686092     0.36   \n",
       "69023        0.32       0.80  0.277518  0.592253     0.610970     0.44   \n",
       "\n",
       "       Taxes (Without Custom)  Avg Arrival Time(days)  \n",
       "0                    0.319883                0.285714  \n",
       "1                    0.356060                0.357143  \n",
       "2                    0.364793                0.500000  \n",
       "3                    0.229377                0.357143  \n",
       "4                    0.325310                0.500000  \n",
       "...                       ...                     ...  \n",
       "69019                0.541327                0.357143  \n",
       "69020                0.596143                0.142857  \n",
       "69021                0.520813                0.285714  \n",
       "69022                0.434620                0.214286  \n",
       "69023                0.503363                0.285714  \n",
       "\n",
       "[69024 rows x 8 columns]"
      ]
     },
     "execution_count": 101,
     "metadata": {},
     "output_type": "execute_result"
    }
   ],
   "source": [
    "Xs"
   ]
  },
  {
   "cell_type": "code",
   "execution_count": 39,
   "metadata": {
    "ExecuteTime": {
     "end_time": "2022-06-30T22:40:24.105526Z",
     "start_time": "2022-06-30T22:40:23.989924Z"
    }
   },
   "outputs": [
    {
     "data": {
      "text/plain": [
       "array([[2.34983940e-30, 1.00000000e+00, 9.14465369e-21, 4.46246146e-28,\n",
       "        3.27114949e-25],\n",
       "       [1.49297816e-22, 1.00000000e+00, 8.20758412e-22, 5.83130948e-34,\n",
       "        1.74967490e-20],\n",
       "       [3.77154299e-25, 1.00000000e+00, 1.54045500e-28, 2.22554587e-25,\n",
       "        1.56813920e-24],\n",
       "       ...,\n",
       "       [1.23769069e-49, 1.01059425e-19, 9.99999977e-01, 3.14328834e-39,\n",
       "        2.29336929e-08],\n",
       "       [1.01298728e-97, 6.03263673e-41, 1.00000000e+00, 4.99922511e-46,\n",
       "        6.52024349e-22],\n",
       "       [8.26366179e-77, 2.87967844e-28, 1.00000000e+00, 1.33989777e-29,\n",
       "        4.16497886e-13]])"
      ]
     },
     "execution_count": 39,
     "metadata": {},
     "output_type": "execute_result"
    }
   ],
   "source": [
    "gmm.predict_proba(Xs)"
   ]
  },
  {
   "cell_type": "code",
   "execution_count": null,
   "metadata": {},
   "outputs": [],
   "source": [
    "gmm.predict_proba(Xs)[0]"
   ]
  },
  {
   "cell_type": "code",
   "execution_count": null,
   "metadata": {},
   "outputs": [],
   "source": [
    "data.iloc[0] #La asignacion se hace con lo que tenga mas probabilidad"
   ]
  },
  {
   "cell_type": "code",
   "execution_count": 103,
   "metadata": {
    "ExecuteTime": {
     "end_time": "2022-01-08T07:10:17.169455Z",
     "start_time": "2022-01-08T07:10:17.156001Z"
    }
   },
   "outputs": [
    {
     "data": {
      "text/plain": [
       "0        4\n",
       "1        4\n",
       "2        4\n",
       "3        4\n",
       "4        4\n",
       "        ..\n",
       "69019    3\n",
       "69020    3\n",
       "69021    3\n",
       "69022    3\n",
       "69023    3\n",
       "Name: cl, Length: 69024, dtype: int64"
      ]
     },
     "execution_count": 103,
     "metadata": {},
     "output_type": "execute_result"
    }
   ],
   "source": [
    "data['cl']"
   ]
  },
  {
   "cell_type": "code",
   "execution_count": null,
   "metadata": {},
   "outputs": [],
   "source": []
  }
 ],
 "metadata": {
  "kernelspec": {
   "display_name": "Python 3 (ipykernel)",
   "language": "python",
   "name": "python3"
  },
  "language_info": {
   "codemirror_mode": {
    "name": "ipython",
    "version": 3
   },
   "file_extension": ".py",
   "mimetype": "text/x-python",
   "name": "python",
   "nbconvert_exporter": "python",
   "pygments_lexer": "ipython3",
   "version": "3.9.6"
  },
  "varInspector": {
   "cols": {
    "lenName": 16,
    "lenType": 16,
    "lenVar": 40
   },
   "kernels_config": {
    "python": {
     "delete_cmd_postfix": "",
     "delete_cmd_prefix": "del ",
     "library": "var_list.py",
     "varRefreshCmd": "print(var_dic_list())"
    },
    "r": {
     "delete_cmd_postfix": ") ",
     "delete_cmd_prefix": "rm(",
     "library": "var_list.r",
     "varRefreshCmd": "cat(var_dic_list()) "
    }
   },
   "types_to_exclude": [
    "module",
    "function",
    "builtin_function_or_method",
    "instance",
    "_Feature"
   ],
   "window_display": false
  }
 },
 "nbformat": 4,
 "nbformat_minor": 4
}
