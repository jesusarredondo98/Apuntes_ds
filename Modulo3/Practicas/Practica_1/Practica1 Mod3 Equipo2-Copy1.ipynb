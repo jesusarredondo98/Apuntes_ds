{
 "cells": [
  {
   "cell_type": "code",
   "execution_count": 1,
   "id": "26da1e97",
   "metadata": {},
   "outputs": [],
   "source": [
    "import pandas as pd\n",
    "import numpy as np\n",
    "import matplotlib.pyplot as ply\n",
    "import seaborn as sns\n",
    "import os"
   ]
  },
  {
   "cell_type": "code",
   "execution_count": 2,
   "id": "60f37133",
   "metadata": {},
   "outputs": [
    {
     "data": {
      "text/plain": [
       "['.DS_Store',\n",
       " 'Practica1 Mod3 Equipo2-Copy1.ipynb',\n",
       " 'Fraud_Data_sep.txt',\n",
       " '.ipynb_checkpoints',\n",
       " 'P1 G1303.pdf',\n",
       " 'Practica1 Mod3 Equipo2.ipynb']"
      ]
     },
     "execution_count": 2,
     "metadata": {},
     "output_type": "execute_result"
    }
   ],
   "source": [
    "\"\"\"Importamos el archivo\"\"\"\n",
    "os.listdir()"
   ]
  },
  {
   "cell_type": "code",
   "execution_count": 3,
   "id": "c7fcfc22",
   "metadata": {},
   "outputs": [],
   "source": [
    "pd.set_option('display.max_columns', 500)"
   ]
  },
  {
   "cell_type": "code",
   "execution_count": 4,
   "id": "2f148daf",
   "metadata": {},
   "outputs": [
    {
     "data": {
      "text/html": [
       "<div>\n",
       "<style scoped>\n",
       "    .dataframe tbody tr th:only-of-type {\n",
       "        vertical-align: middle;\n",
       "    }\n",
       "\n",
       "    .dataframe tbody tr th {\n",
       "        vertical-align: top;\n",
       "    }\n",
       "\n",
       "    .dataframe thead th {\n",
       "        text-align: right;\n",
       "    }\n",
       "</style>\n",
       "<table border=\"1\" class=\"dataframe\">\n",
       "  <thead>\n",
       "    <tr style=\"text-align: right;\">\n",
       "      <th></th>\n",
       "      <th>step</th>\n",
       "      <th>customer</th>\n",
       "      <th>age</th>\n",
       "      <th>gender</th>\n",
       "      <th>zipcodeOri</th>\n",
       "      <th>merchant</th>\n",
       "      <th>zipMerchant</th>\n",
       "      <th>category</th>\n",
       "      <th>amount</th>\n",
       "      <th>fraud</th>\n",
       "      <th>interest_rate</th>\n",
       "      <th>debt</th>\n",
       "      <th>term</th>\n",
       "      <th>enrichment_CRIM</th>\n",
       "      <th>enrichment_ZN</th>\n",
       "      <th>enrichment_INDUS</th>\n",
       "      <th>enrichment_CHAS</th>\n",
       "      <th>enrichment_NOX</th>\n",
       "      <th>enrichment_RM</th>\n",
       "      <th>enrichment_DIS</th>\n",
       "      <th>enrichment_RAD</th>\n",
       "      <th>enrichment_TAX</th>\n",
       "      <th>enrichment_PTRATIO</th>\n",
       "      <th>enrichment_B</th>\n",
       "      <th>enrichment_LSTAT</th>\n",
       "    </tr>\n",
       "  </thead>\n",
       "  <tbody>\n",
       "    <tr>\n",
       "      <th>0</th>\n",
       "      <td>0</td>\n",
       "      <td>'C1093826151'</td>\n",
       "      <td>'4'</td>\n",
       "      <td>'M'</td>\n",
       "      <td>'28007'</td>\n",
       "      <td>'M348934600'</td>\n",
       "      <td>'28007'</td>\n",
       "      <td>'es_transportation'</td>\n",
       "      <td>4550.0</td>\n",
       "      <td>0</td>\n",
       "      <td>0.176965</td>\n",
       "      <td>384.701865</td>\n",
       "      <td>13</td>\n",
       "      <td>0.00632</td>\n",
       "      <td>18.0</td>\n",
       "      <td>2.31</td>\n",
       "      <td>0.0</td>\n",
       "      <td>0.538</td>\n",
       "      <td>6.575</td>\n",
       "      <td>4.0900</td>\n",
       "      <td>1.0</td>\n",
       "      <td>296.0</td>\n",
       "      <td>15.3</td>\n",
       "      <td>396.90</td>\n",
       "      <td>4.98</td>\n",
       "    </tr>\n",
       "    <tr>\n",
       "      <th>1</th>\n",
       "      <td>1</td>\n",
       "      <td>'C1093826151'</td>\n",
       "      <td>'4'</td>\n",
       "      <td>NaN</td>\n",
       "      <td>'28007'</td>\n",
       "      <td>'M855959430'</td>\n",
       "      <td>'28007'</td>\n",
       "      <td>'es_hyper'</td>\n",
       "      <td>14380.0</td>\n",
       "      <td>0</td>\n",
       "      <td>0.151851</td>\n",
       "      <td>5346.143350</td>\n",
       "      <td>13</td>\n",
       "      <td>0.00632</td>\n",
       "      <td>18.0</td>\n",
       "      <td>2.31</td>\n",
       "      <td>0.0</td>\n",
       "      <td>0.538</td>\n",
       "      <td>6.575</td>\n",
       "      <td>4.0900</td>\n",
       "      <td>1.0</td>\n",
       "      <td>NaN</td>\n",
       "      <td>15.3</td>\n",
       "      <td>NaN</td>\n",
       "      <td>4.98</td>\n",
       "    </tr>\n",
       "    <tr>\n",
       "      <th>2</th>\n",
       "      <td>2</td>\n",
       "      <td>'C1093826151'</td>\n",
       "      <td>'4'</td>\n",
       "      <td>'M'</td>\n",
       "      <td>'28007'</td>\n",
       "      <td>'M348934600'</td>\n",
       "      <td>'28007'</td>\n",
       "      <td>'es_transportation'</td>\n",
       "      <td>37210.0</td>\n",
       "      <td>0</td>\n",
       "      <td>0.114909</td>\n",
       "      <td>15249.782295</td>\n",
       "      <td>13</td>\n",
       "      <td>0.00632</td>\n",
       "      <td>18.0</td>\n",
       "      <td>2.31</td>\n",
       "      <td>0.0</td>\n",
       "      <td>0.538</td>\n",
       "      <td>6.575</td>\n",
       "      <td>4.0900</td>\n",
       "      <td>1.0</td>\n",
       "      <td>296.0</td>\n",
       "      <td>15.3</td>\n",
       "      <td>396.90</td>\n",
       "      <td>4.98</td>\n",
       "    </tr>\n",
       "    <tr>\n",
       "      <th>3</th>\n",
       "      <td>3</td>\n",
       "      <td>'C1093826151'</td>\n",
       "      <td>'4'</td>\n",
       "      <td>'M'</td>\n",
       "      <td>'28007'</td>\n",
       "      <td>'M348934600'</td>\n",
       "      <td>'28007'</td>\n",
       "      <td>'es_transportation'</td>\n",
       "      <td>31630.0</td>\n",
       "      <td>0</td>\n",
       "      <td>0.177298</td>\n",
       "      <td>4101.539296</td>\n",
       "      <td>13</td>\n",
       "      <td>0.00632</td>\n",
       "      <td>18.0</td>\n",
       "      <td>2.31</td>\n",
       "      <td>0.0</td>\n",
       "      <td>NaN</td>\n",
       "      <td>6.575</td>\n",
       "      <td>4.0900</td>\n",
       "      <td>NaN</td>\n",
       "      <td>296.0</td>\n",
       "      <td>15.3</td>\n",
       "      <td>NaN</td>\n",
       "      <td>4.98</td>\n",
       "    </tr>\n",
       "    <tr>\n",
       "      <th>4</th>\n",
       "      <td>4</td>\n",
       "      <td>'C1093826151'</td>\n",
       "      <td>'4'</td>\n",
       "      <td>'M'</td>\n",
       "      <td>'28007'</td>\n",
       "      <td>'M348934600'</td>\n",
       "      <td>'28007'</td>\n",
       "      <td>'es_transportation'</td>\n",
       "      <td>35860.0</td>\n",
       "      <td>0</td>\n",
       "      <td>0.087209</td>\n",
       "      <td>14069.969512</td>\n",
       "      <td>13</td>\n",
       "      <td>NaN</td>\n",
       "      <td>18.0</td>\n",
       "      <td>2.31</td>\n",
       "      <td>NaN</td>\n",
       "      <td>0.538</td>\n",
       "      <td>6.575</td>\n",
       "      <td>4.0900</td>\n",
       "      <td>1.0</td>\n",
       "      <td>296.0</td>\n",
       "      <td>15.3</td>\n",
       "      <td>NaN</td>\n",
       "      <td>4.98</td>\n",
       "    </tr>\n",
       "    <tr>\n",
       "      <th>...</th>\n",
       "      <td>...</td>\n",
       "      <td>...</td>\n",
       "      <td>...</td>\n",
       "      <td>...</td>\n",
       "      <td>...</td>\n",
       "      <td>...</td>\n",
       "      <td>...</td>\n",
       "      <td>...</td>\n",
       "      <td>...</td>\n",
       "      <td>...</td>\n",
       "      <td>...</td>\n",
       "      <td>...</td>\n",
       "      <td>...</td>\n",
       "      <td>...</td>\n",
       "      <td>...</td>\n",
       "      <td>...</td>\n",
       "      <td>...</td>\n",
       "      <td>...</td>\n",
       "      <td>...</td>\n",
       "      <td>...</td>\n",
       "      <td>...</td>\n",
       "      <td>...</td>\n",
       "      <td>...</td>\n",
       "      <td>...</td>\n",
       "      <td>...</td>\n",
       "    </tr>\n",
       "    <tr>\n",
       "      <th>594638</th>\n",
       "      <td>135</td>\n",
       "      <td>'C1809646275'</td>\n",
       "      <td>'3'</td>\n",
       "      <td>'F'</td>\n",
       "      <td>'28007'</td>\n",
       "      <td>'M480139044'</td>\n",
       "      <td>'28007'</td>\n",
       "      <td>'es_health'</td>\n",
       "      <td>274070.0</td>\n",
       "      <td>1</td>\n",
       "      <td>0.048787</td>\n",
       "      <td>132128.846791</td>\n",
       "      <td>0</td>\n",
       "      <td>NaN</td>\n",
       "      <td>25.0</td>\n",
       "      <td>5.13</td>\n",
       "      <td>0.0</td>\n",
       "      <td>0.453</td>\n",
       "      <td>6.762</td>\n",
       "      <td>7.9809</td>\n",
       "      <td>NaN</td>\n",
       "      <td>284.0</td>\n",
       "      <td>19.7</td>\n",
       "      <td>395.58</td>\n",
       "      <td>9.50</td>\n",
       "    </tr>\n",
       "    <tr>\n",
       "      <th>594639</th>\n",
       "      <td>149</td>\n",
       "      <td>'C1809646275'</td>\n",
       "      <td>'3'</td>\n",
       "      <td>'F'</td>\n",
       "      <td>'28007'</td>\n",
       "      <td>'M980657600'</td>\n",
       "      <td>'28007'</td>\n",
       "      <td>'es_sportsandtoys'</td>\n",
       "      <td>258290.0</td>\n",
       "      <td>1</td>\n",
       "      <td>0.087178</td>\n",
       "      <td>20163.667699</td>\n",
       "      <td>0</td>\n",
       "      <td>0.12650</td>\n",
       "      <td>25.0</td>\n",
       "      <td>5.13</td>\n",
       "      <td>NaN</td>\n",
       "      <td>NaN</td>\n",
       "      <td>6.762</td>\n",
       "      <td>7.9809</td>\n",
       "      <td>8.0</td>\n",
       "      <td>NaN</td>\n",
       "      <td>19.7</td>\n",
       "      <td>NaN</td>\n",
       "      <td>9.50</td>\n",
       "    </tr>\n",
       "    <tr>\n",
       "      <th>594640</th>\n",
       "      <td>152</td>\n",
       "      <td>'C1809646275'</td>\n",
       "      <td>'3'</td>\n",
       "      <td>'F'</td>\n",
       "      <td>'28007'</td>\n",
       "      <td>'M980657600'</td>\n",
       "      <td>'28007'</td>\n",
       "      <td>'es_sportsandtoys'</td>\n",
       "      <td>64760.0</td>\n",
       "      <td>0</td>\n",
       "      <td>0.012046</td>\n",
       "      <td>6484.634258</td>\n",
       "      <td>0</td>\n",
       "      <td>NaN</td>\n",
       "      <td>25.0</td>\n",
       "      <td>5.13</td>\n",
       "      <td>NaN</td>\n",
       "      <td>NaN</td>\n",
       "      <td>6.762</td>\n",
       "      <td>7.9809</td>\n",
       "      <td>8.0</td>\n",
       "      <td>284.0</td>\n",
       "      <td>19.7</td>\n",
       "      <td>NaN</td>\n",
       "      <td>9.50</td>\n",
       "    </tr>\n",
       "    <tr>\n",
       "      <th>594641</th>\n",
       "      <td>152</td>\n",
       "      <td>'C1809646275'</td>\n",
       "      <td>'3'</td>\n",
       "      <td>NaN</td>\n",
       "      <td>'28007'</td>\n",
       "      <td>'M2122776122'</td>\n",
       "      <td>'28007'</td>\n",
       "      <td>'es_home'</td>\n",
       "      <td>139140.0</td>\n",
       "      <td>1</td>\n",
       "      <td>NaN</td>\n",
       "      <td>48207.639552</td>\n",
       "      <td>0</td>\n",
       "      <td>NaN</td>\n",
       "      <td>25.0</td>\n",
       "      <td>NaN</td>\n",
       "      <td>0.0</td>\n",
       "      <td>0.453</td>\n",
       "      <td>6.762</td>\n",
       "      <td>7.9809</td>\n",
       "      <td>8.0</td>\n",
       "      <td>284.0</td>\n",
       "      <td>19.7</td>\n",
       "      <td>NaN</td>\n",
       "      <td>9.50</td>\n",
       "    </tr>\n",
       "    <tr>\n",
       "      <th>594642</th>\n",
       "      <td>152</td>\n",
       "      <td>'C1809646275'</td>\n",
       "      <td>'3'</td>\n",
       "      <td>'F'</td>\n",
       "      <td>'28007'</td>\n",
       "      <td>'M2122776122'</td>\n",
       "      <td>'28007'</td>\n",
       "      <td>'es_home'</td>\n",
       "      <td>615290.0</td>\n",
       "      <td>1</td>\n",
       "      <td>NaN</td>\n",
       "      <td>148448.602560</td>\n",
       "      <td>0</td>\n",
       "      <td>0.12650</td>\n",
       "      <td>25.0</td>\n",
       "      <td>5.13</td>\n",
       "      <td>0.0</td>\n",
       "      <td>NaN</td>\n",
       "      <td>6.762</td>\n",
       "      <td>7.9809</td>\n",
       "      <td>8.0</td>\n",
       "      <td>NaN</td>\n",
       "      <td>19.7</td>\n",
       "      <td>NaN</td>\n",
       "      <td>9.50</td>\n",
       "    </tr>\n",
       "  </tbody>\n",
       "</table>\n",
       "<p>594643 rows × 25 columns</p>\n",
       "</div>"
      ],
      "text/plain": [
       "        step       customer  age gender zipcodeOri       merchant zipMerchant  \\\n",
       "0          0  'C1093826151'  '4'    'M'    '28007'   'M348934600'     '28007'   \n",
       "1          1  'C1093826151'  '4'    NaN    '28007'   'M855959430'     '28007'   \n",
       "2          2  'C1093826151'  '4'    'M'    '28007'   'M348934600'     '28007'   \n",
       "3          3  'C1093826151'  '4'    'M'    '28007'   'M348934600'     '28007'   \n",
       "4          4  'C1093826151'  '4'    'M'    '28007'   'M348934600'     '28007'   \n",
       "...      ...            ...  ...    ...        ...            ...         ...   \n",
       "594638   135  'C1809646275'  '3'    'F'    '28007'   'M480139044'     '28007'   \n",
       "594639   149  'C1809646275'  '3'    'F'    '28007'   'M980657600'     '28007'   \n",
       "594640   152  'C1809646275'  '3'    'F'    '28007'   'M980657600'     '28007'   \n",
       "594641   152  'C1809646275'  '3'    NaN    '28007'  'M2122776122'     '28007'   \n",
       "594642   152  'C1809646275'  '3'    'F'    '28007'  'M2122776122'     '28007'   \n",
       "\n",
       "                   category    amount  fraud  interest_rate           debt  \\\n",
       "0       'es_transportation'    4550.0      0       0.176965     384.701865   \n",
       "1                'es_hyper'   14380.0      0       0.151851    5346.143350   \n",
       "2       'es_transportation'   37210.0      0       0.114909   15249.782295   \n",
       "3       'es_transportation'   31630.0      0       0.177298    4101.539296   \n",
       "4       'es_transportation'   35860.0      0       0.087209   14069.969512   \n",
       "...                     ...       ...    ...            ...            ...   \n",
       "594638          'es_health'  274070.0      1       0.048787  132128.846791   \n",
       "594639   'es_sportsandtoys'  258290.0      1       0.087178   20163.667699   \n",
       "594640   'es_sportsandtoys'   64760.0      0       0.012046    6484.634258   \n",
       "594641            'es_home'  139140.0      1            NaN   48207.639552   \n",
       "594642            'es_home'  615290.0      1            NaN  148448.602560   \n",
       "\n",
       "        term  enrichment_CRIM  enrichment_ZN  enrichment_INDUS  \\\n",
       "0         13          0.00632           18.0              2.31   \n",
       "1         13          0.00632           18.0              2.31   \n",
       "2         13          0.00632           18.0              2.31   \n",
       "3         13          0.00632           18.0              2.31   \n",
       "4         13              NaN           18.0              2.31   \n",
       "...      ...              ...            ...               ...   \n",
       "594638     0              NaN           25.0              5.13   \n",
       "594639     0          0.12650           25.0              5.13   \n",
       "594640     0              NaN           25.0              5.13   \n",
       "594641     0              NaN           25.0               NaN   \n",
       "594642     0          0.12650           25.0              5.13   \n",
       "\n",
       "        enrichment_CHAS  enrichment_NOX  enrichment_RM  enrichment_DIS  \\\n",
       "0                   0.0           0.538          6.575          4.0900   \n",
       "1                   0.0           0.538          6.575          4.0900   \n",
       "2                   0.0           0.538          6.575          4.0900   \n",
       "3                   0.0             NaN          6.575          4.0900   \n",
       "4                   NaN           0.538          6.575          4.0900   \n",
       "...                 ...             ...            ...             ...   \n",
       "594638              0.0           0.453          6.762          7.9809   \n",
       "594639              NaN             NaN          6.762          7.9809   \n",
       "594640              NaN             NaN          6.762          7.9809   \n",
       "594641              0.0           0.453          6.762          7.9809   \n",
       "594642              0.0             NaN          6.762          7.9809   \n",
       "\n",
       "        enrichment_RAD  enrichment_TAX  enrichment_PTRATIO  enrichment_B  \\\n",
       "0                  1.0           296.0                15.3        396.90   \n",
       "1                  1.0             NaN                15.3           NaN   \n",
       "2                  1.0           296.0                15.3        396.90   \n",
       "3                  NaN           296.0                15.3           NaN   \n",
       "4                  1.0           296.0                15.3           NaN   \n",
       "...                ...             ...                 ...           ...   \n",
       "594638             NaN           284.0                19.7        395.58   \n",
       "594639             8.0             NaN                19.7           NaN   \n",
       "594640             8.0           284.0                19.7           NaN   \n",
       "594641             8.0           284.0                19.7           NaN   \n",
       "594642             8.0             NaN                19.7           NaN   \n",
       "\n",
       "        enrichment_LSTAT  \n",
       "0                   4.98  \n",
       "1                   4.98  \n",
       "2                   4.98  \n",
       "3                   4.98  \n",
       "4                   4.98  \n",
       "...                  ...  \n",
       "594638              9.50  \n",
       "594639              9.50  \n",
       "594640              9.50  \n",
       "594641              9.50  \n",
       "594642              9.50  \n",
       "\n",
       "[594643 rows x 25 columns]"
      ]
     },
     "execution_count": 4,
     "metadata": {},
     "output_type": "execute_result"
    }
   ],
   "source": [
    "df=pd.read_csv(\"Fraud_Data_sep.txt\",sep=\"|\")\n",
    "df"
   ]
  },
  {
   "cell_type": "markdown",
   "id": "f1805919",
   "metadata": {},
   "source": [
    "# Exploración y limpieza de los datos"
   ]
  },
  {
   "cell_type": "code",
   "execution_count": 5,
   "id": "c764eaca",
   "metadata": {},
   "outputs": [
    {
     "data": {
      "text/plain": [
       "step                    int64\n",
       "customer               object\n",
       "age                    object\n",
       "gender                 object\n",
       "zipcodeOri             object\n",
       "merchant               object\n",
       "zipMerchant            object\n",
       "category               object\n",
       "amount                float64\n",
       "fraud                   int64\n",
       "interest_rate         float64\n",
       "debt                  float64\n",
       "term                    int64\n",
       "enrichment_CRIM       float64\n",
       "enrichment_ZN         float64\n",
       "enrichment_INDUS      float64\n",
       "enrichment_CHAS       float64\n",
       "enrichment_NOX        float64\n",
       "enrichment_RM         float64\n",
       "enrichment_DIS        float64\n",
       "enrichment_RAD        float64\n",
       "enrichment_TAX        float64\n",
       "enrichment_PTRATIO    float64\n",
       "enrichment_B          float64\n",
       "enrichment_LSTAT      float64\n",
       "dtype: object"
      ]
     },
     "execution_count": 5,
     "metadata": {},
     "output_type": "execute_result"
    }
   ],
   "source": [
    "df.dtypes"
   ]
  },
  {
   "cell_type": "code",
   "execution_count": 6,
   "id": "074e8bd0",
   "metadata": {},
   "outputs": [
    {
     "data": {
      "text/plain": [
       "step                       0\n",
       "customer                   0\n",
       "age                    29643\n",
       "gender                 71178\n",
       "zipcodeOri                 0\n",
       "merchant                   0\n",
       "zipMerchant                0\n",
       "category                   0\n",
       "amount                     0\n",
       "fraud                      0\n",
       "interest_rate         237305\n",
       "debt                       0\n",
       "term                       0\n",
       "enrichment_CRIM       238062\n",
       "enrichment_ZN          59529\n",
       "enrichment_INDUS       59109\n",
       "enrichment_CHAS       237659\n",
       "enrichment_NOX        237366\n",
       "enrichment_RM          59198\n",
       "enrichment_DIS         29750\n",
       "enrichment_RAD         59713\n",
       "enrichment_TAX        237700\n",
       "enrichment_PTRATIO     59202\n",
       "enrichment_B          237704\n",
       "enrichment_LSTAT       59571\n",
       "dtype: int64"
      ]
     },
     "execution_count": 6,
     "metadata": {},
     "output_type": "execute_result"
    }
   ],
   "source": [
    "df.isnull().sum()"
   ]
  },
  {
   "cell_type": "code",
   "execution_count": 7,
   "id": "9e4e16b6",
   "metadata": {},
   "outputs": [
    {
     "data": {
      "text/plain": [
       "'2'    177868\n",
       "'3'    139839\n",
       "'4'    103682\n",
       "'5'     59495\n",
       "'1'     55217\n",
       "NaN     29643\n",
       "'6'     25463\n",
       "'0'      2305\n",
       "'U'      1131\n",
       "Name: age, dtype: int64"
      ]
     },
     "execution_count": 7,
     "metadata": {},
     "output_type": "execute_result"
    }
   ],
   "source": [
    "df[\"age\"].value_counts(dropna=False)"
   ]
  },
  {
   "cell_type": "code",
   "execution_count": 8,
   "id": "22633535",
   "metadata": {},
   "outputs": [
    {
     "data": {
      "text/plain": [
       "'F'    285518\n",
       "'M'    236433\n",
       "NaN     71178\n",
       "'E'      1057\n",
       "'U'       457\n",
       "Name: gender, dtype: int64"
      ]
     },
     "execution_count": 8,
     "metadata": {},
     "output_type": "execute_result"
    }
   ],
   "source": [
    "df[\"gender\"].value_counts(dropna=False)"
   ]
  },
  {
   "cell_type": "code",
   "execution_count": 9,
   "id": "b52caaf0",
   "metadata": {},
   "outputs": [],
   "source": [
    "\"\"\"Normalizamos los nulos de age y gender en la categoria U\"\"\"\n",
    "df[\"age\"]=df[\"age\"].fillna(\"'U'\")\n",
    "df[\"gender\"]=df[\"gender\"].fillna(\"'U'\")"
   ]
  },
  {
   "cell_type": "code",
   "execution_count": 10,
   "id": "9d65a9d3",
   "metadata": {},
   "outputs": [
    {
     "data": {
      "text/plain": [
       "'2'    177868\n",
       "'3'    139839\n",
       "'4'    103682\n",
       "'5'     59495\n",
       "'1'     55217\n",
       "'U'     30774\n",
       "'6'     25463\n",
       "'0'      2305\n",
       "Name: age, dtype: int64"
      ]
     },
     "execution_count": 10,
     "metadata": {},
     "output_type": "execute_result"
    }
   ],
   "source": [
    "df[\"age\"].value_counts(dropna=False)"
   ]
  },
  {
   "cell_type": "code",
   "execution_count": 11,
   "id": "b4b5320e",
   "metadata": {},
   "outputs": [
    {
     "data": {
      "text/plain": [
       "'F'    285518\n",
       "'M'    236433\n",
       "'U'     71635\n",
       "'E'      1057\n",
       "Name: gender, dtype: int64"
      ]
     },
     "execution_count": 11,
     "metadata": {},
     "output_type": "execute_result"
    }
   ],
   "source": [
    "df[\"gender\"].value_counts(dropna=False)"
   ]
  },
  {
   "cell_type": "code",
   "execution_count": 12,
   "id": "132ba19c",
   "metadata": {},
   "outputs": [],
   "source": [
    "\"\"\"Limpiamos los datos de tipo texto\"\"\"\n",
    "df[\"customer\"]=df[\"customer\"].map(lambda x: x.strip(\"'\"))\n",
    "df[\"age\"]=df[\"age\"].map(lambda x: str(x).strip(\"'\"))\n",
    "df[\"gender\"]=df[\"gender\"].map(lambda x: str(x).strip(\"'\"))\n",
    "df[\"zipcodeOri\"]=df[\"zipcodeOri\"].map(lambda x:x.strip(\"'\"))\n",
    "df[\"merchant\"]=df[\"merchant\"].map(lambda x:x.strip(\"'\"))\n",
    "df[\"zipMerchant\"]=df[\"zipMerchant\"].map(lambda x:x.strip(\"'\"))\n",
    "df[\"category\"]=df[\"category\"].map(lambda x:x.strip(\"'\"))"
   ]
  },
  {
   "cell_type": "code",
   "execution_count": 13,
   "id": "a579ec12",
   "metadata": {},
   "outputs": [
    {
     "data": {
      "text/html": [
       "<div>\n",
       "<style scoped>\n",
       "    .dataframe tbody tr th:only-of-type {\n",
       "        vertical-align: middle;\n",
       "    }\n",
       "\n",
       "    .dataframe tbody tr th {\n",
       "        vertical-align: top;\n",
       "    }\n",
       "\n",
       "    .dataframe thead th {\n",
       "        text-align: right;\n",
       "    }\n",
       "</style>\n",
       "<table border=\"1\" class=\"dataframe\">\n",
       "  <thead>\n",
       "    <tr style=\"text-align: right;\">\n",
       "      <th></th>\n",
       "      <th>step</th>\n",
       "      <th>customer</th>\n",
       "      <th>age</th>\n",
       "      <th>gender</th>\n",
       "      <th>zipcodeOri</th>\n",
       "      <th>merchant</th>\n",
       "      <th>zipMerchant</th>\n",
       "      <th>category</th>\n",
       "      <th>amount</th>\n",
       "      <th>fraud</th>\n",
       "      <th>interest_rate</th>\n",
       "      <th>debt</th>\n",
       "      <th>term</th>\n",
       "      <th>enrichment_CRIM</th>\n",
       "      <th>enrichment_ZN</th>\n",
       "      <th>enrichment_INDUS</th>\n",
       "      <th>enrichment_CHAS</th>\n",
       "      <th>enrichment_NOX</th>\n",
       "      <th>enrichment_RM</th>\n",
       "      <th>enrichment_DIS</th>\n",
       "      <th>enrichment_RAD</th>\n",
       "      <th>enrichment_TAX</th>\n",
       "      <th>enrichment_PTRATIO</th>\n",
       "      <th>enrichment_B</th>\n",
       "      <th>enrichment_LSTAT</th>\n",
       "    </tr>\n",
       "  </thead>\n",
       "  <tbody>\n",
       "    <tr>\n",
       "      <th>0</th>\n",
       "      <td>0</td>\n",
       "      <td>C1093826151</td>\n",
       "      <td>4</td>\n",
       "      <td>M</td>\n",
       "      <td>28007</td>\n",
       "      <td>M348934600</td>\n",
       "      <td>28007</td>\n",
       "      <td>es_transportation</td>\n",
       "      <td>4550.0</td>\n",
       "      <td>0</td>\n",
       "      <td>0.176965</td>\n",
       "      <td>384.701865</td>\n",
       "      <td>13</td>\n",
       "      <td>0.00632</td>\n",
       "      <td>18.0</td>\n",
       "      <td>2.31</td>\n",
       "      <td>0.0</td>\n",
       "      <td>0.538</td>\n",
       "      <td>6.575</td>\n",
       "      <td>4.0900</td>\n",
       "      <td>1.0</td>\n",
       "      <td>296.0</td>\n",
       "      <td>15.3</td>\n",
       "      <td>396.90</td>\n",
       "      <td>4.98</td>\n",
       "    </tr>\n",
       "    <tr>\n",
       "      <th>1</th>\n",
       "      <td>1</td>\n",
       "      <td>C1093826151</td>\n",
       "      <td>4</td>\n",
       "      <td>U</td>\n",
       "      <td>28007</td>\n",
       "      <td>M855959430</td>\n",
       "      <td>28007</td>\n",
       "      <td>es_hyper</td>\n",
       "      <td>14380.0</td>\n",
       "      <td>0</td>\n",
       "      <td>0.151851</td>\n",
       "      <td>5346.143350</td>\n",
       "      <td>13</td>\n",
       "      <td>0.00632</td>\n",
       "      <td>18.0</td>\n",
       "      <td>2.31</td>\n",
       "      <td>0.0</td>\n",
       "      <td>0.538</td>\n",
       "      <td>6.575</td>\n",
       "      <td>4.0900</td>\n",
       "      <td>1.0</td>\n",
       "      <td>NaN</td>\n",
       "      <td>15.3</td>\n",
       "      <td>NaN</td>\n",
       "      <td>4.98</td>\n",
       "    </tr>\n",
       "    <tr>\n",
       "      <th>2</th>\n",
       "      <td>2</td>\n",
       "      <td>C1093826151</td>\n",
       "      <td>4</td>\n",
       "      <td>M</td>\n",
       "      <td>28007</td>\n",
       "      <td>M348934600</td>\n",
       "      <td>28007</td>\n",
       "      <td>es_transportation</td>\n",
       "      <td>37210.0</td>\n",
       "      <td>0</td>\n",
       "      <td>0.114909</td>\n",
       "      <td>15249.782295</td>\n",
       "      <td>13</td>\n",
       "      <td>0.00632</td>\n",
       "      <td>18.0</td>\n",
       "      <td>2.31</td>\n",
       "      <td>0.0</td>\n",
       "      <td>0.538</td>\n",
       "      <td>6.575</td>\n",
       "      <td>4.0900</td>\n",
       "      <td>1.0</td>\n",
       "      <td>296.0</td>\n",
       "      <td>15.3</td>\n",
       "      <td>396.90</td>\n",
       "      <td>4.98</td>\n",
       "    </tr>\n",
       "    <tr>\n",
       "      <th>3</th>\n",
       "      <td>3</td>\n",
       "      <td>C1093826151</td>\n",
       "      <td>4</td>\n",
       "      <td>M</td>\n",
       "      <td>28007</td>\n",
       "      <td>M348934600</td>\n",
       "      <td>28007</td>\n",
       "      <td>es_transportation</td>\n",
       "      <td>31630.0</td>\n",
       "      <td>0</td>\n",
       "      <td>0.177298</td>\n",
       "      <td>4101.539296</td>\n",
       "      <td>13</td>\n",
       "      <td>0.00632</td>\n",
       "      <td>18.0</td>\n",
       "      <td>2.31</td>\n",
       "      <td>0.0</td>\n",
       "      <td>NaN</td>\n",
       "      <td>6.575</td>\n",
       "      <td>4.0900</td>\n",
       "      <td>NaN</td>\n",
       "      <td>296.0</td>\n",
       "      <td>15.3</td>\n",
       "      <td>NaN</td>\n",
       "      <td>4.98</td>\n",
       "    </tr>\n",
       "    <tr>\n",
       "      <th>4</th>\n",
       "      <td>4</td>\n",
       "      <td>C1093826151</td>\n",
       "      <td>4</td>\n",
       "      <td>M</td>\n",
       "      <td>28007</td>\n",
       "      <td>M348934600</td>\n",
       "      <td>28007</td>\n",
       "      <td>es_transportation</td>\n",
       "      <td>35860.0</td>\n",
       "      <td>0</td>\n",
       "      <td>0.087209</td>\n",
       "      <td>14069.969512</td>\n",
       "      <td>13</td>\n",
       "      <td>NaN</td>\n",
       "      <td>18.0</td>\n",
       "      <td>2.31</td>\n",
       "      <td>NaN</td>\n",
       "      <td>0.538</td>\n",
       "      <td>6.575</td>\n",
       "      <td>4.0900</td>\n",
       "      <td>1.0</td>\n",
       "      <td>296.0</td>\n",
       "      <td>15.3</td>\n",
       "      <td>NaN</td>\n",
       "      <td>4.98</td>\n",
       "    </tr>\n",
       "    <tr>\n",
       "      <th>...</th>\n",
       "      <td>...</td>\n",
       "      <td>...</td>\n",
       "      <td>...</td>\n",
       "      <td>...</td>\n",
       "      <td>...</td>\n",
       "      <td>...</td>\n",
       "      <td>...</td>\n",
       "      <td>...</td>\n",
       "      <td>...</td>\n",
       "      <td>...</td>\n",
       "      <td>...</td>\n",
       "      <td>...</td>\n",
       "      <td>...</td>\n",
       "      <td>...</td>\n",
       "      <td>...</td>\n",
       "      <td>...</td>\n",
       "      <td>...</td>\n",
       "      <td>...</td>\n",
       "      <td>...</td>\n",
       "      <td>...</td>\n",
       "      <td>...</td>\n",
       "      <td>...</td>\n",
       "      <td>...</td>\n",
       "      <td>...</td>\n",
       "      <td>...</td>\n",
       "    </tr>\n",
       "    <tr>\n",
       "      <th>594638</th>\n",
       "      <td>135</td>\n",
       "      <td>C1809646275</td>\n",
       "      <td>3</td>\n",
       "      <td>F</td>\n",
       "      <td>28007</td>\n",
       "      <td>M480139044</td>\n",
       "      <td>28007</td>\n",
       "      <td>es_health</td>\n",
       "      <td>274070.0</td>\n",
       "      <td>1</td>\n",
       "      <td>0.048787</td>\n",
       "      <td>132128.846791</td>\n",
       "      <td>0</td>\n",
       "      <td>NaN</td>\n",
       "      <td>25.0</td>\n",
       "      <td>5.13</td>\n",
       "      <td>0.0</td>\n",
       "      <td>0.453</td>\n",
       "      <td>6.762</td>\n",
       "      <td>7.9809</td>\n",
       "      <td>NaN</td>\n",
       "      <td>284.0</td>\n",
       "      <td>19.7</td>\n",
       "      <td>395.58</td>\n",
       "      <td>9.50</td>\n",
       "    </tr>\n",
       "    <tr>\n",
       "      <th>594639</th>\n",
       "      <td>149</td>\n",
       "      <td>C1809646275</td>\n",
       "      <td>3</td>\n",
       "      <td>F</td>\n",
       "      <td>28007</td>\n",
       "      <td>M980657600</td>\n",
       "      <td>28007</td>\n",
       "      <td>es_sportsandtoys</td>\n",
       "      <td>258290.0</td>\n",
       "      <td>1</td>\n",
       "      <td>0.087178</td>\n",
       "      <td>20163.667699</td>\n",
       "      <td>0</td>\n",
       "      <td>0.12650</td>\n",
       "      <td>25.0</td>\n",
       "      <td>5.13</td>\n",
       "      <td>NaN</td>\n",
       "      <td>NaN</td>\n",
       "      <td>6.762</td>\n",
       "      <td>7.9809</td>\n",
       "      <td>8.0</td>\n",
       "      <td>NaN</td>\n",
       "      <td>19.7</td>\n",
       "      <td>NaN</td>\n",
       "      <td>9.50</td>\n",
       "    </tr>\n",
       "    <tr>\n",
       "      <th>594640</th>\n",
       "      <td>152</td>\n",
       "      <td>C1809646275</td>\n",
       "      <td>3</td>\n",
       "      <td>F</td>\n",
       "      <td>28007</td>\n",
       "      <td>M980657600</td>\n",
       "      <td>28007</td>\n",
       "      <td>es_sportsandtoys</td>\n",
       "      <td>64760.0</td>\n",
       "      <td>0</td>\n",
       "      <td>0.012046</td>\n",
       "      <td>6484.634258</td>\n",
       "      <td>0</td>\n",
       "      <td>NaN</td>\n",
       "      <td>25.0</td>\n",
       "      <td>5.13</td>\n",
       "      <td>NaN</td>\n",
       "      <td>NaN</td>\n",
       "      <td>6.762</td>\n",
       "      <td>7.9809</td>\n",
       "      <td>8.0</td>\n",
       "      <td>284.0</td>\n",
       "      <td>19.7</td>\n",
       "      <td>NaN</td>\n",
       "      <td>9.50</td>\n",
       "    </tr>\n",
       "    <tr>\n",
       "      <th>594641</th>\n",
       "      <td>152</td>\n",
       "      <td>C1809646275</td>\n",
       "      <td>3</td>\n",
       "      <td>U</td>\n",
       "      <td>28007</td>\n",
       "      <td>M2122776122</td>\n",
       "      <td>28007</td>\n",
       "      <td>es_home</td>\n",
       "      <td>139140.0</td>\n",
       "      <td>1</td>\n",
       "      <td>NaN</td>\n",
       "      <td>48207.639552</td>\n",
       "      <td>0</td>\n",
       "      <td>NaN</td>\n",
       "      <td>25.0</td>\n",
       "      <td>NaN</td>\n",
       "      <td>0.0</td>\n",
       "      <td>0.453</td>\n",
       "      <td>6.762</td>\n",
       "      <td>7.9809</td>\n",
       "      <td>8.0</td>\n",
       "      <td>284.0</td>\n",
       "      <td>19.7</td>\n",
       "      <td>NaN</td>\n",
       "      <td>9.50</td>\n",
       "    </tr>\n",
       "    <tr>\n",
       "      <th>594642</th>\n",
       "      <td>152</td>\n",
       "      <td>C1809646275</td>\n",
       "      <td>3</td>\n",
       "      <td>F</td>\n",
       "      <td>28007</td>\n",
       "      <td>M2122776122</td>\n",
       "      <td>28007</td>\n",
       "      <td>es_home</td>\n",
       "      <td>615290.0</td>\n",
       "      <td>1</td>\n",
       "      <td>NaN</td>\n",
       "      <td>148448.602560</td>\n",
       "      <td>0</td>\n",
       "      <td>0.12650</td>\n",
       "      <td>25.0</td>\n",
       "      <td>5.13</td>\n",
       "      <td>0.0</td>\n",
       "      <td>NaN</td>\n",
       "      <td>6.762</td>\n",
       "      <td>7.9809</td>\n",
       "      <td>8.0</td>\n",
       "      <td>NaN</td>\n",
       "      <td>19.7</td>\n",
       "      <td>NaN</td>\n",
       "      <td>9.50</td>\n",
       "    </tr>\n",
       "  </tbody>\n",
       "</table>\n",
       "<p>594643 rows × 25 columns</p>\n",
       "</div>"
      ],
      "text/plain": [
       "        step     customer age gender zipcodeOri     merchant zipMerchant  \\\n",
       "0          0  C1093826151   4      M      28007   M348934600       28007   \n",
       "1          1  C1093826151   4      U      28007   M855959430       28007   \n",
       "2          2  C1093826151   4      M      28007   M348934600       28007   \n",
       "3          3  C1093826151   4      M      28007   M348934600       28007   \n",
       "4          4  C1093826151   4      M      28007   M348934600       28007   \n",
       "...      ...          ...  ..    ...        ...          ...         ...   \n",
       "594638   135  C1809646275   3      F      28007   M480139044       28007   \n",
       "594639   149  C1809646275   3      F      28007   M980657600       28007   \n",
       "594640   152  C1809646275   3      F      28007   M980657600       28007   \n",
       "594641   152  C1809646275   3      U      28007  M2122776122       28007   \n",
       "594642   152  C1809646275   3      F      28007  M2122776122       28007   \n",
       "\n",
       "                 category    amount  fraud  interest_rate           debt  \\\n",
       "0       es_transportation    4550.0      0       0.176965     384.701865   \n",
       "1                es_hyper   14380.0      0       0.151851    5346.143350   \n",
       "2       es_transportation   37210.0      0       0.114909   15249.782295   \n",
       "3       es_transportation   31630.0      0       0.177298    4101.539296   \n",
       "4       es_transportation   35860.0      0       0.087209   14069.969512   \n",
       "...                   ...       ...    ...            ...            ...   \n",
       "594638          es_health  274070.0      1       0.048787  132128.846791   \n",
       "594639   es_sportsandtoys  258290.0      1       0.087178   20163.667699   \n",
       "594640   es_sportsandtoys   64760.0      0       0.012046    6484.634258   \n",
       "594641            es_home  139140.0      1            NaN   48207.639552   \n",
       "594642            es_home  615290.0      1            NaN  148448.602560   \n",
       "\n",
       "        term  enrichment_CRIM  enrichment_ZN  enrichment_INDUS  \\\n",
       "0         13          0.00632           18.0              2.31   \n",
       "1         13          0.00632           18.0              2.31   \n",
       "2         13          0.00632           18.0              2.31   \n",
       "3         13          0.00632           18.0              2.31   \n",
       "4         13              NaN           18.0              2.31   \n",
       "...      ...              ...            ...               ...   \n",
       "594638     0              NaN           25.0              5.13   \n",
       "594639     0          0.12650           25.0              5.13   \n",
       "594640     0              NaN           25.0              5.13   \n",
       "594641     0              NaN           25.0               NaN   \n",
       "594642     0          0.12650           25.0              5.13   \n",
       "\n",
       "        enrichment_CHAS  enrichment_NOX  enrichment_RM  enrichment_DIS  \\\n",
       "0                   0.0           0.538          6.575          4.0900   \n",
       "1                   0.0           0.538          6.575          4.0900   \n",
       "2                   0.0           0.538          6.575          4.0900   \n",
       "3                   0.0             NaN          6.575          4.0900   \n",
       "4                   NaN           0.538          6.575          4.0900   \n",
       "...                 ...             ...            ...             ...   \n",
       "594638              0.0           0.453          6.762          7.9809   \n",
       "594639              NaN             NaN          6.762          7.9809   \n",
       "594640              NaN             NaN          6.762          7.9809   \n",
       "594641              0.0           0.453          6.762          7.9809   \n",
       "594642              0.0             NaN          6.762          7.9809   \n",
       "\n",
       "        enrichment_RAD  enrichment_TAX  enrichment_PTRATIO  enrichment_B  \\\n",
       "0                  1.0           296.0                15.3        396.90   \n",
       "1                  1.0             NaN                15.3           NaN   \n",
       "2                  1.0           296.0                15.3        396.90   \n",
       "3                  NaN           296.0                15.3           NaN   \n",
       "4                  1.0           296.0                15.3           NaN   \n",
       "...                ...             ...                 ...           ...   \n",
       "594638             NaN           284.0                19.7        395.58   \n",
       "594639             8.0             NaN                19.7           NaN   \n",
       "594640             8.0           284.0                19.7           NaN   \n",
       "594641             8.0           284.0                19.7           NaN   \n",
       "594642             8.0             NaN                19.7           NaN   \n",
       "\n",
       "        enrichment_LSTAT  \n",
       "0                   4.98  \n",
       "1                   4.98  \n",
       "2                   4.98  \n",
       "3                   4.98  \n",
       "4                   4.98  \n",
       "...                  ...  \n",
       "594638              9.50  \n",
       "594639              9.50  \n",
       "594640              9.50  \n",
       "594641              9.50  \n",
       "594642              9.50  \n",
       "\n",
       "[594643 rows x 25 columns]"
      ]
     },
     "execution_count": 13,
     "metadata": {},
     "output_type": "execute_result"
    }
   ],
   "source": [
    "df"
   ]
  },
  {
   "cell_type": "markdown",
   "id": "c1c79f22",
   "metadata": {},
   "source": [
    "# Datos faltantes"
   ]
  },
  {
   "cell_type": "code",
   "execution_count": 14,
   "id": "ca85616b",
   "metadata": {},
   "outputs": [
    {
     "data": {
      "text/plain": [
       "step                       0\n",
       "customer                   0\n",
       "age                        0\n",
       "gender                     0\n",
       "zipcodeOri                 0\n",
       "merchant                   0\n",
       "zipMerchant                0\n",
       "category                   0\n",
       "amount                     0\n",
       "fraud                      0\n",
       "interest_rate         237305\n",
       "debt                       0\n",
       "term                       0\n",
       "enrichment_CRIM       238062\n",
       "enrichment_ZN          59529\n",
       "enrichment_INDUS       59109\n",
       "enrichment_CHAS       237659\n",
       "enrichment_NOX        237366\n",
       "enrichment_RM          59198\n",
       "enrichment_DIS         29750\n",
       "enrichment_RAD         59713\n",
       "enrichment_TAX        237700\n",
       "enrichment_PTRATIO     59202\n",
       "enrichment_B          237704\n",
       "enrichment_LSTAT       59571\n",
       "dtype: int64"
      ]
     },
     "execution_count": 14,
     "metadata": {},
     "output_type": "execute_result"
    }
   ],
   "source": [
    "df.isnull().sum()"
   ]
  },
  {
   "cell_type": "code",
   "execution_count": 15,
   "id": "39ff655e",
   "metadata": {},
   "outputs": [
    {
     "data": {
      "text/html": [
       "<div>\n",
       "<style scoped>\n",
       "    .dataframe tbody tr th:only-of-type {\n",
       "        vertical-align: middle;\n",
       "    }\n",
       "\n",
       "    .dataframe tbody tr th {\n",
       "        vertical-align: top;\n",
       "    }\n",
       "\n",
       "    .dataframe thead th {\n",
       "        text-align: right;\n",
       "    }\n",
       "</style>\n",
       "<table border=\"1\" class=\"dataframe\">\n",
       "  <thead>\n",
       "    <tr style=\"text-align: right;\">\n",
       "      <th></th>\n",
       "      <th>Zero Values</th>\n",
       "      <th>Missing Values</th>\n",
       "      <th>% of Total Values</th>\n",
       "      <th>Total Zero Missing Values</th>\n",
       "    </tr>\n",
       "  </thead>\n",
       "  <tbody>\n",
       "    <tr>\n",
       "      <th>step</th>\n",
       "      <td>2430</td>\n",
       "      <td>0</td>\n",
       "      <td>0.000000</td>\n",
       "      <td>2430</td>\n",
       "    </tr>\n",
       "    <tr>\n",
       "      <th>customer</th>\n",
       "      <td>0</td>\n",
       "      <td>0</td>\n",
       "      <td>0.000000</td>\n",
       "      <td>0</td>\n",
       "    </tr>\n",
       "    <tr>\n",
       "      <th>age</th>\n",
       "      <td>0</td>\n",
       "      <td>0</td>\n",
       "      <td>0.000000</td>\n",
       "      <td>0</td>\n",
       "    </tr>\n",
       "    <tr>\n",
       "      <th>gender</th>\n",
       "      <td>0</td>\n",
       "      <td>0</td>\n",
       "      <td>0.000000</td>\n",
       "      <td>0</td>\n",
       "    </tr>\n",
       "    <tr>\n",
       "      <th>zipcodeOri</th>\n",
       "      <td>0</td>\n",
       "      <td>0</td>\n",
       "      <td>0.000000</td>\n",
       "      <td>0</td>\n",
       "    </tr>\n",
       "    <tr>\n",
       "      <th>merchant</th>\n",
       "      <td>0</td>\n",
       "      <td>0</td>\n",
       "      <td>0.000000</td>\n",
       "      <td>0</td>\n",
       "    </tr>\n",
       "    <tr>\n",
       "      <th>zipMerchant</th>\n",
       "      <td>0</td>\n",
       "      <td>0</td>\n",
       "      <td>0.000000</td>\n",
       "      <td>0</td>\n",
       "    </tr>\n",
       "    <tr>\n",
       "      <th>category</th>\n",
       "      <td>0</td>\n",
       "      <td>0</td>\n",
       "      <td>0.000000</td>\n",
       "      <td>0</td>\n",
       "    </tr>\n",
       "    <tr>\n",
       "      <th>amount</th>\n",
       "      <td>52</td>\n",
       "      <td>0</td>\n",
       "      <td>0.000000</td>\n",
       "      <td>52</td>\n",
       "    </tr>\n",
       "    <tr>\n",
       "      <th>fraud</th>\n",
       "      <td>587443</td>\n",
       "      <td>0</td>\n",
       "      <td>0.000000</td>\n",
       "      <td>587443</td>\n",
       "    </tr>\n",
       "    <tr>\n",
       "      <th>interest_rate</th>\n",
       "      <td>0</td>\n",
       "      <td>237305</td>\n",
       "      <td>39.907138</td>\n",
       "      <td>237305</td>\n",
       "    </tr>\n",
       "    <tr>\n",
       "      <th>debt</th>\n",
       "      <td>52</td>\n",
       "      <td>0</td>\n",
       "      <td>0.000000</td>\n",
       "      <td>52</td>\n",
       "    </tr>\n",
       "    <tr>\n",
       "      <th>term</th>\n",
       "      <td>294</td>\n",
       "      <td>0</td>\n",
       "      <td>0.000000</td>\n",
       "      <td>294</td>\n",
       "    </tr>\n",
       "    <tr>\n",
       "      <th>enrichment_CRIM</th>\n",
       "      <td>0</td>\n",
       "      <td>238062</td>\n",
       "      <td>40.034441</td>\n",
       "      <td>238062</td>\n",
       "    </tr>\n",
       "    <tr>\n",
       "      <th>enrichment_ZN</th>\n",
       "      <td>392349</td>\n",
       "      <td>59529</td>\n",
       "      <td>10.010880</td>\n",
       "      <td>451878</td>\n",
       "    </tr>\n",
       "    <tr>\n",
       "      <th>enrichment_INDUS</th>\n",
       "      <td>0</td>\n",
       "      <td>59109</td>\n",
       "      <td>9.940250</td>\n",
       "      <td>59109</td>\n",
       "    </tr>\n",
       "    <tr>\n",
       "      <th>enrichment_CHAS</th>\n",
       "      <td>331662</td>\n",
       "      <td>237659</td>\n",
       "      <td>39.966669</td>\n",
       "      <td>569321</td>\n",
       "    </tr>\n",
       "    <tr>\n",
       "      <th>enrichment_NOX</th>\n",
       "      <td>0</td>\n",
       "      <td>237366</td>\n",
       "      <td>39.917396</td>\n",
       "      <td>237366</td>\n",
       "    </tr>\n",
       "    <tr>\n",
       "      <th>enrichment_RM</th>\n",
       "      <td>0</td>\n",
       "      <td>59198</td>\n",
       "      <td>9.955217</td>\n",
       "      <td>59198</td>\n",
       "    </tr>\n",
       "    <tr>\n",
       "      <th>enrichment_DIS</th>\n",
       "      <td>0</td>\n",
       "      <td>29750</td>\n",
       "      <td>5.003002</td>\n",
       "      <td>29750</td>\n",
       "    </tr>\n",
       "    <tr>\n",
       "      <th>enrichment_RAD</th>\n",
       "      <td>0</td>\n",
       "      <td>59713</td>\n",
       "      <td>10.041823</td>\n",
       "      <td>59713</td>\n",
       "    </tr>\n",
       "    <tr>\n",
       "      <th>enrichment_TAX</th>\n",
       "      <td>0</td>\n",
       "      <td>237700</td>\n",
       "      <td>39.973564</td>\n",
       "      <td>237700</td>\n",
       "    </tr>\n",
       "    <tr>\n",
       "      <th>enrichment_PTRATIO</th>\n",
       "      <td>0</td>\n",
       "      <td>59202</td>\n",
       "      <td>9.955890</td>\n",
       "      <td>59202</td>\n",
       "    </tr>\n",
       "    <tr>\n",
       "      <th>enrichment_B</th>\n",
       "      <td>0</td>\n",
       "      <td>237704</td>\n",
       "      <td>39.974237</td>\n",
       "      <td>237704</td>\n",
       "    </tr>\n",
       "    <tr>\n",
       "      <th>enrichment_LSTAT</th>\n",
       "      <td>0</td>\n",
       "      <td>59571</td>\n",
       "      <td>10.017944</td>\n",
       "      <td>59571</td>\n",
       "    </tr>\n",
       "  </tbody>\n",
       "</table>\n",
       "</div>"
      ],
      "text/plain": [
       "                    Zero Values  Missing Values  % of Total Values  \\\n",
       "step                       2430               0           0.000000   \n",
       "customer                      0               0           0.000000   \n",
       "age                           0               0           0.000000   \n",
       "gender                        0               0           0.000000   \n",
       "zipcodeOri                    0               0           0.000000   \n",
       "merchant                      0               0           0.000000   \n",
       "zipMerchant                   0               0           0.000000   \n",
       "category                      0               0           0.000000   \n",
       "amount                       52               0           0.000000   \n",
       "fraud                    587443               0           0.000000   \n",
       "interest_rate                 0          237305          39.907138   \n",
       "debt                         52               0           0.000000   \n",
       "term                        294               0           0.000000   \n",
       "enrichment_CRIM               0          238062          40.034441   \n",
       "enrichment_ZN            392349           59529          10.010880   \n",
       "enrichment_INDUS              0           59109           9.940250   \n",
       "enrichment_CHAS          331662          237659          39.966669   \n",
       "enrichment_NOX                0          237366          39.917396   \n",
       "enrichment_RM                 0           59198           9.955217   \n",
       "enrichment_DIS                0           29750           5.003002   \n",
       "enrichment_RAD                0           59713          10.041823   \n",
       "enrichment_TAX                0          237700          39.973564   \n",
       "enrichment_PTRATIO            0           59202           9.955890   \n",
       "enrichment_B                  0          237704          39.974237   \n",
       "enrichment_LSTAT              0           59571          10.017944   \n",
       "\n",
       "                    Total Zero Missing Values  \n",
       "step                                     2430  \n",
       "customer                                    0  \n",
       "age                                         0  \n",
       "gender                                      0  \n",
       "zipcodeOri                                  0  \n",
       "merchant                                    0  \n",
       "zipMerchant                                 0  \n",
       "category                                    0  \n",
       "amount                                     52  \n",
       "fraud                                  587443  \n",
       "interest_rate                          237305  \n",
       "debt                                       52  \n",
       "term                                      294  \n",
       "enrichment_CRIM                        238062  \n",
       "enrichment_ZN                          451878  \n",
       "enrichment_INDUS                        59109  \n",
       "enrichment_CHAS                        569321  \n",
       "enrichment_NOX                         237366  \n",
       "enrichment_RM                           59198  \n",
       "enrichment_DIS                          29750  \n",
       "enrichment_RAD                          59713  \n",
       "enrichment_TAX                         237700  \n",
       "enrichment_PTRATIO                      59202  \n",
       "enrichment_B                           237704  \n",
       "enrichment_LSTAT                        59571  "
      ]
     },
     "execution_count": 15,
     "metadata": {},
     "output_type": "execute_result"
    }
   ],
   "source": [
    "def missing_zero_values_table(df):\n",
    "        zero_val = (df == 0.00).astype(int).sum(axis=0)\n",
    "        mis_val = df.isnull().sum()\n",
    "        mis_val_percent = 100 * df.isnull().sum() / len(df)\n",
    "        mz_table = pd.concat([zero_val, mis_val, mis_val_percent], axis=1)\n",
    "        mz_table = mz_table.rename(\n",
    "        columns = {0 : 'Zero Values', 1 : 'Missing Values', 2 : '% of Total Values'})\n",
    "        mz_table['Total Zero Missing Values'] = mz_table['Zero Values'] + mz_table['Missing Values']\n",
    "        mz_table = pd.DataFrame(mz_table)\n",
    "        return mz_table\n",
    "table=missing_zero_values_table(df)\n",
    "table"
   ]
  },
  {
   "cell_type": "code",
   "execution_count": 16,
   "id": "2c066f5e",
   "metadata": {},
   "outputs": [],
   "source": [
    "variables_reducidas = list(table.loc[table[\"% of Total Values\"]<10.5].index) \n",
    "#Nos quedamos con las columnas con menos de 10.5% de nulos"
   ]
  },
  {
   "cell_type": "code",
   "execution_count": 17,
   "id": "dd99b2c1",
   "metadata": {},
   "outputs": [
    {
     "data": {
      "text/html": [
       "<div>\n",
       "<style scoped>\n",
       "    .dataframe tbody tr th:only-of-type {\n",
       "        vertical-align: middle;\n",
       "    }\n",
       "\n",
       "    .dataframe tbody tr th {\n",
       "        vertical-align: top;\n",
       "    }\n",
       "\n",
       "    .dataframe thead th {\n",
       "        text-align: right;\n",
       "    }\n",
       "</style>\n",
       "<table border=\"1\" class=\"dataframe\">\n",
       "  <thead>\n",
       "    <tr style=\"text-align: right;\">\n",
       "      <th></th>\n",
       "      <th>step</th>\n",
       "      <th>customer</th>\n",
       "      <th>age</th>\n",
       "      <th>gender</th>\n",
       "      <th>zipcodeOri</th>\n",
       "      <th>merchant</th>\n",
       "      <th>zipMerchant</th>\n",
       "      <th>category</th>\n",
       "      <th>amount</th>\n",
       "      <th>fraud</th>\n",
       "      <th>debt</th>\n",
       "      <th>term</th>\n",
       "      <th>enrichment_ZN</th>\n",
       "      <th>enrichment_INDUS</th>\n",
       "      <th>enrichment_RM</th>\n",
       "      <th>enrichment_DIS</th>\n",
       "      <th>enrichment_RAD</th>\n",
       "      <th>enrichment_PTRATIO</th>\n",
       "      <th>enrichment_LSTAT</th>\n",
       "    </tr>\n",
       "  </thead>\n",
       "  <tbody>\n",
       "    <tr>\n",
       "      <th>0</th>\n",
       "      <td>0</td>\n",
       "      <td>C1093826151</td>\n",
       "      <td>4</td>\n",
       "      <td>M</td>\n",
       "      <td>28007</td>\n",
       "      <td>M348934600</td>\n",
       "      <td>28007</td>\n",
       "      <td>es_transportation</td>\n",
       "      <td>4550.0</td>\n",
       "      <td>0</td>\n",
       "      <td>384.701865</td>\n",
       "      <td>13</td>\n",
       "      <td>18.0</td>\n",
       "      <td>2.31</td>\n",
       "      <td>6.575</td>\n",
       "      <td>4.0900</td>\n",
       "      <td>1.0</td>\n",
       "      <td>15.3</td>\n",
       "      <td>4.98</td>\n",
       "    </tr>\n",
       "    <tr>\n",
       "      <th>1</th>\n",
       "      <td>1</td>\n",
       "      <td>C1093826151</td>\n",
       "      <td>4</td>\n",
       "      <td>U</td>\n",
       "      <td>28007</td>\n",
       "      <td>M855959430</td>\n",
       "      <td>28007</td>\n",
       "      <td>es_hyper</td>\n",
       "      <td>14380.0</td>\n",
       "      <td>0</td>\n",
       "      <td>5346.143350</td>\n",
       "      <td>13</td>\n",
       "      <td>18.0</td>\n",
       "      <td>2.31</td>\n",
       "      <td>6.575</td>\n",
       "      <td>4.0900</td>\n",
       "      <td>1.0</td>\n",
       "      <td>15.3</td>\n",
       "      <td>4.98</td>\n",
       "    </tr>\n",
       "    <tr>\n",
       "      <th>2</th>\n",
       "      <td>2</td>\n",
       "      <td>C1093826151</td>\n",
       "      <td>4</td>\n",
       "      <td>M</td>\n",
       "      <td>28007</td>\n",
       "      <td>M348934600</td>\n",
       "      <td>28007</td>\n",
       "      <td>es_transportation</td>\n",
       "      <td>37210.0</td>\n",
       "      <td>0</td>\n",
       "      <td>15249.782295</td>\n",
       "      <td>13</td>\n",
       "      <td>18.0</td>\n",
       "      <td>2.31</td>\n",
       "      <td>6.575</td>\n",
       "      <td>4.0900</td>\n",
       "      <td>1.0</td>\n",
       "      <td>15.3</td>\n",
       "      <td>4.98</td>\n",
       "    </tr>\n",
       "    <tr>\n",
       "      <th>3</th>\n",
       "      <td>3</td>\n",
       "      <td>C1093826151</td>\n",
       "      <td>4</td>\n",
       "      <td>M</td>\n",
       "      <td>28007</td>\n",
       "      <td>M348934600</td>\n",
       "      <td>28007</td>\n",
       "      <td>es_transportation</td>\n",
       "      <td>31630.0</td>\n",
       "      <td>0</td>\n",
       "      <td>4101.539296</td>\n",
       "      <td>13</td>\n",
       "      <td>18.0</td>\n",
       "      <td>2.31</td>\n",
       "      <td>6.575</td>\n",
       "      <td>4.0900</td>\n",
       "      <td>NaN</td>\n",
       "      <td>15.3</td>\n",
       "      <td>4.98</td>\n",
       "    </tr>\n",
       "    <tr>\n",
       "      <th>4</th>\n",
       "      <td>4</td>\n",
       "      <td>C1093826151</td>\n",
       "      <td>4</td>\n",
       "      <td>M</td>\n",
       "      <td>28007</td>\n",
       "      <td>M348934600</td>\n",
       "      <td>28007</td>\n",
       "      <td>es_transportation</td>\n",
       "      <td>35860.0</td>\n",
       "      <td>0</td>\n",
       "      <td>14069.969512</td>\n",
       "      <td>13</td>\n",
       "      <td>18.0</td>\n",
       "      <td>2.31</td>\n",
       "      <td>6.575</td>\n",
       "      <td>4.0900</td>\n",
       "      <td>1.0</td>\n",
       "      <td>15.3</td>\n",
       "      <td>4.98</td>\n",
       "    </tr>\n",
       "    <tr>\n",
       "      <th>...</th>\n",
       "      <td>...</td>\n",
       "      <td>...</td>\n",
       "      <td>...</td>\n",
       "      <td>...</td>\n",
       "      <td>...</td>\n",
       "      <td>...</td>\n",
       "      <td>...</td>\n",
       "      <td>...</td>\n",
       "      <td>...</td>\n",
       "      <td>...</td>\n",
       "      <td>...</td>\n",
       "      <td>...</td>\n",
       "      <td>...</td>\n",
       "      <td>...</td>\n",
       "      <td>...</td>\n",
       "      <td>...</td>\n",
       "      <td>...</td>\n",
       "      <td>...</td>\n",
       "      <td>...</td>\n",
       "    </tr>\n",
       "    <tr>\n",
       "      <th>594638</th>\n",
       "      <td>135</td>\n",
       "      <td>C1809646275</td>\n",
       "      <td>3</td>\n",
       "      <td>F</td>\n",
       "      <td>28007</td>\n",
       "      <td>M480139044</td>\n",
       "      <td>28007</td>\n",
       "      <td>es_health</td>\n",
       "      <td>274070.0</td>\n",
       "      <td>1</td>\n",
       "      <td>132128.846791</td>\n",
       "      <td>0</td>\n",
       "      <td>25.0</td>\n",
       "      <td>5.13</td>\n",
       "      <td>6.762</td>\n",
       "      <td>7.9809</td>\n",
       "      <td>NaN</td>\n",
       "      <td>19.7</td>\n",
       "      <td>9.50</td>\n",
       "    </tr>\n",
       "    <tr>\n",
       "      <th>594639</th>\n",
       "      <td>149</td>\n",
       "      <td>C1809646275</td>\n",
       "      <td>3</td>\n",
       "      <td>F</td>\n",
       "      <td>28007</td>\n",
       "      <td>M980657600</td>\n",
       "      <td>28007</td>\n",
       "      <td>es_sportsandtoys</td>\n",
       "      <td>258290.0</td>\n",
       "      <td>1</td>\n",
       "      <td>20163.667699</td>\n",
       "      <td>0</td>\n",
       "      <td>25.0</td>\n",
       "      <td>5.13</td>\n",
       "      <td>6.762</td>\n",
       "      <td>7.9809</td>\n",
       "      <td>8.0</td>\n",
       "      <td>19.7</td>\n",
       "      <td>9.50</td>\n",
       "    </tr>\n",
       "    <tr>\n",
       "      <th>594640</th>\n",
       "      <td>152</td>\n",
       "      <td>C1809646275</td>\n",
       "      <td>3</td>\n",
       "      <td>F</td>\n",
       "      <td>28007</td>\n",
       "      <td>M980657600</td>\n",
       "      <td>28007</td>\n",
       "      <td>es_sportsandtoys</td>\n",
       "      <td>64760.0</td>\n",
       "      <td>0</td>\n",
       "      <td>6484.634258</td>\n",
       "      <td>0</td>\n",
       "      <td>25.0</td>\n",
       "      <td>5.13</td>\n",
       "      <td>6.762</td>\n",
       "      <td>7.9809</td>\n",
       "      <td>8.0</td>\n",
       "      <td>19.7</td>\n",
       "      <td>9.50</td>\n",
       "    </tr>\n",
       "    <tr>\n",
       "      <th>594641</th>\n",
       "      <td>152</td>\n",
       "      <td>C1809646275</td>\n",
       "      <td>3</td>\n",
       "      <td>U</td>\n",
       "      <td>28007</td>\n",
       "      <td>M2122776122</td>\n",
       "      <td>28007</td>\n",
       "      <td>es_home</td>\n",
       "      <td>139140.0</td>\n",
       "      <td>1</td>\n",
       "      <td>48207.639552</td>\n",
       "      <td>0</td>\n",
       "      <td>25.0</td>\n",
       "      <td>NaN</td>\n",
       "      <td>6.762</td>\n",
       "      <td>7.9809</td>\n",
       "      <td>8.0</td>\n",
       "      <td>19.7</td>\n",
       "      <td>9.50</td>\n",
       "    </tr>\n",
       "    <tr>\n",
       "      <th>594642</th>\n",
       "      <td>152</td>\n",
       "      <td>C1809646275</td>\n",
       "      <td>3</td>\n",
       "      <td>F</td>\n",
       "      <td>28007</td>\n",
       "      <td>M2122776122</td>\n",
       "      <td>28007</td>\n",
       "      <td>es_home</td>\n",
       "      <td>615290.0</td>\n",
       "      <td>1</td>\n",
       "      <td>148448.602560</td>\n",
       "      <td>0</td>\n",
       "      <td>25.0</td>\n",
       "      <td>5.13</td>\n",
       "      <td>6.762</td>\n",
       "      <td>7.9809</td>\n",
       "      <td>8.0</td>\n",
       "      <td>19.7</td>\n",
       "      <td>9.50</td>\n",
       "    </tr>\n",
       "  </tbody>\n",
       "</table>\n",
       "<p>594643 rows × 19 columns</p>\n",
       "</div>"
      ],
      "text/plain": [
       "        step     customer age gender zipcodeOri     merchant zipMerchant  \\\n",
       "0          0  C1093826151   4      M      28007   M348934600       28007   \n",
       "1          1  C1093826151   4      U      28007   M855959430       28007   \n",
       "2          2  C1093826151   4      M      28007   M348934600       28007   \n",
       "3          3  C1093826151   4      M      28007   M348934600       28007   \n",
       "4          4  C1093826151   4      M      28007   M348934600       28007   \n",
       "...      ...          ...  ..    ...        ...          ...         ...   \n",
       "594638   135  C1809646275   3      F      28007   M480139044       28007   \n",
       "594639   149  C1809646275   3      F      28007   M980657600       28007   \n",
       "594640   152  C1809646275   3      F      28007   M980657600       28007   \n",
       "594641   152  C1809646275   3      U      28007  M2122776122       28007   \n",
       "594642   152  C1809646275   3      F      28007  M2122776122       28007   \n",
       "\n",
       "                 category    amount  fraud           debt  term  \\\n",
       "0       es_transportation    4550.0      0     384.701865    13   \n",
       "1                es_hyper   14380.0      0    5346.143350    13   \n",
       "2       es_transportation   37210.0      0   15249.782295    13   \n",
       "3       es_transportation   31630.0      0    4101.539296    13   \n",
       "4       es_transportation   35860.0      0   14069.969512    13   \n",
       "...                   ...       ...    ...            ...   ...   \n",
       "594638          es_health  274070.0      1  132128.846791     0   \n",
       "594639   es_sportsandtoys  258290.0      1   20163.667699     0   \n",
       "594640   es_sportsandtoys   64760.0      0    6484.634258     0   \n",
       "594641            es_home  139140.0      1   48207.639552     0   \n",
       "594642            es_home  615290.0      1  148448.602560     0   \n",
       "\n",
       "        enrichment_ZN  enrichment_INDUS  enrichment_RM  enrichment_DIS  \\\n",
       "0                18.0              2.31          6.575          4.0900   \n",
       "1                18.0              2.31          6.575          4.0900   \n",
       "2                18.0              2.31          6.575          4.0900   \n",
       "3                18.0              2.31          6.575          4.0900   \n",
       "4                18.0              2.31          6.575          4.0900   \n",
       "...               ...               ...            ...             ...   \n",
       "594638           25.0              5.13          6.762          7.9809   \n",
       "594639           25.0              5.13          6.762          7.9809   \n",
       "594640           25.0              5.13          6.762          7.9809   \n",
       "594641           25.0               NaN          6.762          7.9809   \n",
       "594642           25.0              5.13          6.762          7.9809   \n",
       "\n",
       "        enrichment_RAD  enrichment_PTRATIO  enrichment_LSTAT  \n",
       "0                  1.0                15.3              4.98  \n",
       "1                  1.0                15.3              4.98  \n",
       "2                  1.0                15.3              4.98  \n",
       "3                  NaN                15.3              4.98  \n",
       "4                  1.0                15.3              4.98  \n",
       "...                ...                 ...               ...  \n",
       "594638             NaN                19.7              9.50  \n",
       "594639             8.0                19.7              9.50  \n",
       "594640             8.0                19.7              9.50  \n",
       "594641             8.0                19.7              9.50  \n",
       "594642             8.0                19.7              9.50  \n",
       "\n",
       "[594643 rows x 19 columns]"
      ]
     },
     "execution_count": 17,
     "metadata": {},
     "output_type": "execute_result"
    }
   ],
   "source": [
    "df_reducido=df[variables_reducidas].copy()\n",
    "df_reducido"
   ]
  },
  {
   "cell_type": "code",
   "execution_count": 18,
   "id": "29ff9207",
   "metadata": {},
   "outputs": [
    {
     "data": {
      "text/html": [
       "<div>\n",
       "<style scoped>\n",
       "    .dataframe tbody tr th:only-of-type {\n",
       "        vertical-align: middle;\n",
       "    }\n",
       "\n",
       "    .dataframe tbody tr th {\n",
       "        vertical-align: top;\n",
       "    }\n",
       "\n",
       "    .dataframe thead th {\n",
       "        text-align: right;\n",
       "    }\n",
       "</style>\n",
       "<table border=\"1\" class=\"dataframe\">\n",
       "  <thead>\n",
       "    <tr style=\"text-align: right;\">\n",
       "      <th></th>\n",
       "      <th>Zero Values</th>\n",
       "      <th>Missing Values</th>\n",
       "      <th>% of Total Values</th>\n",
       "      <th>Total Zero Missing Values</th>\n",
       "    </tr>\n",
       "  </thead>\n",
       "  <tbody>\n",
       "    <tr>\n",
       "      <th>step</th>\n",
       "      <td>2430</td>\n",
       "      <td>0</td>\n",
       "      <td>0.000000</td>\n",
       "      <td>2430</td>\n",
       "    </tr>\n",
       "    <tr>\n",
       "      <th>customer</th>\n",
       "      <td>0</td>\n",
       "      <td>0</td>\n",
       "      <td>0.000000</td>\n",
       "      <td>0</td>\n",
       "    </tr>\n",
       "    <tr>\n",
       "      <th>age</th>\n",
       "      <td>0</td>\n",
       "      <td>0</td>\n",
       "      <td>0.000000</td>\n",
       "      <td>0</td>\n",
       "    </tr>\n",
       "    <tr>\n",
       "      <th>gender</th>\n",
       "      <td>0</td>\n",
       "      <td>0</td>\n",
       "      <td>0.000000</td>\n",
       "      <td>0</td>\n",
       "    </tr>\n",
       "    <tr>\n",
       "      <th>zipcodeOri</th>\n",
       "      <td>0</td>\n",
       "      <td>0</td>\n",
       "      <td>0.000000</td>\n",
       "      <td>0</td>\n",
       "    </tr>\n",
       "    <tr>\n",
       "      <th>merchant</th>\n",
       "      <td>0</td>\n",
       "      <td>0</td>\n",
       "      <td>0.000000</td>\n",
       "      <td>0</td>\n",
       "    </tr>\n",
       "    <tr>\n",
       "      <th>zipMerchant</th>\n",
       "      <td>0</td>\n",
       "      <td>0</td>\n",
       "      <td>0.000000</td>\n",
       "      <td>0</td>\n",
       "    </tr>\n",
       "    <tr>\n",
       "      <th>category</th>\n",
       "      <td>0</td>\n",
       "      <td>0</td>\n",
       "      <td>0.000000</td>\n",
       "      <td>0</td>\n",
       "    </tr>\n",
       "    <tr>\n",
       "      <th>amount</th>\n",
       "      <td>52</td>\n",
       "      <td>0</td>\n",
       "      <td>0.000000</td>\n",
       "      <td>52</td>\n",
       "    </tr>\n",
       "    <tr>\n",
       "      <th>fraud</th>\n",
       "      <td>587443</td>\n",
       "      <td>0</td>\n",
       "      <td>0.000000</td>\n",
       "      <td>587443</td>\n",
       "    </tr>\n",
       "    <tr>\n",
       "      <th>debt</th>\n",
       "      <td>52</td>\n",
       "      <td>0</td>\n",
       "      <td>0.000000</td>\n",
       "      <td>52</td>\n",
       "    </tr>\n",
       "    <tr>\n",
       "      <th>term</th>\n",
       "      <td>294</td>\n",
       "      <td>0</td>\n",
       "      <td>0.000000</td>\n",
       "      <td>294</td>\n",
       "    </tr>\n",
       "    <tr>\n",
       "      <th>enrichment_ZN</th>\n",
       "      <td>392349</td>\n",
       "      <td>59529</td>\n",
       "      <td>10.010880</td>\n",
       "      <td>451878</td>\n",
       "    </tr>\n",
       "    <tr>\n",
       "      <th>enrichment_INDUS</th>\n",
       "      <td>0</td>\n",
       "      <td>59109</td>\n",
       "      <td>9.940250</td>\n",
       "      <td>59109</td>\n",
       "    </tr>\n",
       "    <tr>\n",
       "      <th>enrichment_RM</th>\n",
       "      <td>0</td>\n",
       "      <td>59198</td>\n",
       "      <td>9.955217</td>\n",
       "      <td>59198</td>\n",
       "    </tr>\n",
       "    <tr>\n",
       "      <th>enrichment_DIS</th>\n",
       "      <td>0</td>\n",
       "      <td>29750</td>\n",
       "      <td>5.003002</td>\n",
       "      <td>29750</td>\n",
       "    </tr>\n",
       "    <tr>\n",
       "      <th>enrichment_RAD</th>\n",
       "      <td>0</td>\n",
       "      <td>59713</td>\n",
       "      <td>10.041823</td>\n",
       "      <td>59713</td>\n",
       "    </tr>\n",
       "    <tr>\n",
       "      <th>enrichment_PTRATIO</th>\n",
       "      <td>0</td>\n",
       "      <td>59202</td>\n",
       "      <td>9.955890</td>\n",
       "      <td>59202</td>\n",
       "    </tr>\n",
       "    <tr>\n",
       "      <th>enrichment_LSTAT</th>\n",
       "      <td>0</td>\n",
       "      <td>59571</td>\n",
       "      <td>10.017944</td>\n",
       "      <td>59571</td>\n",
       "    </tr>\n",
       "  </tbody>\n",
       "</table>\n",
       "</div>"
      ],
      "text/plain": [
       "                    Zero Values  Missing Values  % of Total Values  \\\n",
       "step                       2430               0           0.000000   \n",
       "customer                      0               0           0.000000   \n",
       "age                           0               0           0.000000   \n",
       "gender                        0               0           0.000000   \n",
       "zipcodeOri                    0               0           0.000000   \n",
       "merchant                      0               0           0.000000   \n",
       "zipMerchant                   0               0           0.000000   \n",
       "category                      0               0           0.000000   \n",
       "amount                       52               0           0.000000   \n",
       "fraud                    587443               0           0.000000   \n",
       "debt                         52               0           0.000000   \n",
       "term                        294               0           0.000000   \n",
       "enrichment_ZN            392349           59529          10.010880   \n",
       "enrichment_INDUS              0           59109           9.940250   \n",
       "enrichment_RM                 0           59198           9.955217   \n",
       "enrichment_DIS                0           29750           5.003002   \n",
       "enrichment_RAD                0           59713          10.041823   \n",
       "enrichment_PTRATIO            0           59202           9.955890   \n",
       "enrichment_LSTAT              0           59571          10.017944   \n",
       "\n",
       "                    Total Zero Missing Values  \n",
       "step                                     2430  \n",
       "customer                                    0  \n",
       "age                                         0  \n",
       "gender                                      0  \n",
       "zipcodeOri                                  0  \n",
       "merchant                                    0  \n",
       "zipMerchant                                 0  \n",
       "category                                    0  \n",
       "amount                                     52  \n",
       "fraud                                  587443  \n",
       "debt                                       52  \n",
       "term                                      294  \n",
       "enrichment_ZN                          451878  \n",
       "enrichment_INDUS                        59109  \n",
       "enrichment_RM                           59198  \n",
       "enrichment_DIS                          29750  \n",
       "enrichment_RAD                          59713  \n",
       "enrichment_PTRATIO                      59202  \n",
       "enrichment_LSTAT                        59571  "
      ]
     },
     "execution_count": 18,
     "metadata": {},
     "output_type": "execute_result"
    }
   ],
   "source": [
    "missing_zero_values_table(df_reducido)"
   ]
  },
  {
   "cell_type": "code",
   "execution_count": 19,
   "id": "8596d6d6",
   "metadata": {},
   "outputs": [
    {
     "data": {
      "text/plain": [
       "str"
      ]
     },
     "execution_count": 19,
     "metadata": {},
     "output_type": "execute_result"
    }
   ],
   "source": [
    "type(df[\"gender\"][1])"
   ]
  },
  {
   "cell_type": "code",
   "execution_count": 20,
   "id": "435ba9f8",
   "metadata": {},
   "outputs": [
    {
     "data": {
      "text/plain": [
       "0    587443\n",
       "1      7200\n",
       "Name: fraud, dtype: int64"
      ]
     },
     "execution_count": 20,
     "metadata": {},
     "output_type": "execute_result"
    }
   ],
   "source": [
    "df_reducido[\"fraud\"].value_counts(dropna=True) #Vemos que tan bien esta balanceadas las clase de fraude"
   ]
  },
  {
   "cell_type": "code",
   "execution_count": 21,
   "id": "a48d9a42",
   "metadata": {},
   "outputs": [
    {
     "name": "stderr",
     "output_type": "stream",
     "text": [
      "/Users/jesusarredondo/Documents/Diplomado/Modulo3/mod3/lib/python3.9/site-packages/seaborn/_decorators.py:36: FutureWarning: Pass the following variable as a keyword arg: x. From version 0.12, the only valid positional argument will be `data`, and passing other arguments without an explicit keyword will result in an error or misinterpretation.\n",
      "  warnings.warn(\n"
     ]
    },
    {
     "data": {
      "text/plain": [
       "<AxesSubplot:xlabel='fraud', ylabel='count'>"
      ]
     },
     "execution_count": 21,
     "metadata": {},
     "output_type": "execute_result"
    },
    {
     "data": {
      "image/png": "[encoded data removed]",
      "text/plain": [
       "<Figure size 432x288 with 1 Axes>"
      ]
     },
     "metadata": {
      "needs_background": "light"
     },
     "output_type": "display_data"
    }
   ],
   "source": [
    "sns.countplot(df_reducido[\"fraud\"]) #Distribucion de clases"
   ]
  },
  {
   "cell_type": "code",
   "execution_count": 22,
   "id": "1cc01090",
   "metadata": {},
   "outputs": [
    {
     "data": {
      "text/plain": [
       "step                  0\n",
       "customer              0\n",
       "age                   0\n",
       "gender                0\n",
       "zipcodeOri            0\n",
       "merchant              0\n",
       "zipMerchant           0\n",
       "category              0\n",
       "amount                0\n",
       "fraud                 0\n",
       "debt                  0\n",
       "term                  0\n",
       "enrichment_ZN         0\n",
       "enrichment_INDUS      0\n",
       "enrichment_RM         0\n",
       "enrichment_DIS        0\n",
       "enrichment_RAD        0\n",
       "enrichment_PTRATIO    0\n",
       "enrichment_LSTAT      0\n",
       "dtype: int64"
      ]
     },
     "execution_count": 22,
     "metadata": {},
     "output_type": "execute_result"
    }
   ],
   "source": [
    "#Llenamos los valores nulos con 0\n",
    "df_reducido=df_reducido.fillna(0)\n",
    "df_reducido.isnull().sum()"
   ]
  },
  {
   "cell_type": "code",
   "execution_count": 23,
   "id": "409ccd0e",
   "metadata": {},
   "outputs": [
    {
     "data": {
      "text/html": [
       "<div>\n",
       "<style scoped>\n",
       "    .dataframe tbody tr th:only-of-type {\n",
       "        vertical-align: middle;\n",
       "    }\n",
       "\n",
       "    .dataframe tbody tr th {\n",
       "        vertical-align: top;\n",
       "    }\n",
       "\n",
       "    .dataframe thead th {\n",
       "        text-align: right;\n",
       "    }\n",
       "</style>\n",
       "<table border=\"1\" class=\"dataframe\">\n",
       "  <thead>\n",
       "    <tr style=\"text-align: right;\">\n",
       "      <th></th>\n",
       "      <th>step</th>\n",
       "      <th>amount</th>\n",
       "      <th>fraud</th>\n",
       "      <th>debt</th>\n",
       "      <th>term</th>\n",
       "      <th>enrichment_ZN</th>\n",
       "      <th>enrichment_INDUS</th>\n",
       "      <th>enrichment_RM</th>\n",
       "      <th>enrichment_DIS</th>\n",
       "      <th>enrichment_RAD</th>\n",
       "      <th>enrichment_PTRATIO</th>\n",
       "      <th>enrichment_LSTAT</th>\n",
       "    </tr>\n",
       "  </thead>\n",
       "  <tbody>\n",
       "    <tr>\n",
       "      <th>count</th>\n",
       "      <td>594643.000000</td>\n",
       "      <td>5.946430e+05</td>\n",
       "      <td>594643.000000</td>\n",
       "      <td>5.946430e+05</td>\n",
       "      <td>594643.000000</td>\n",
       "      <td>594643.000000</td>\n",
       "      <td>594643.000000</td>\n",
       "      <td>594643.000000</td>\n",
       "      <td>594643.000000</td>\n",
       "      <td>594643.000000</td>\n",
       "      <td>594643.000000</td>\n",
       "      <td>594643.000000</td>\n",
       "    </tr>\n",
       "    <tr>\n",
       "      <th>mean</th>\n",
       "      <td>94.986827</td>\n",
       "      <td>3.789014e+04</td>\n",
       "      <td>0.012108</td>\n",
       "      <td>1.018177e+04</td>\n",
       "      <td>12.650481</td>\n",
       "      <td>10.202065</td>\n",
       "      <td>9.975922</td>\n",
       "      <td>5.657943</td>\n",
       "      <td>3.615390</td>\n",
       "      <td>8.476763</td>\n",
       "      <td>16.607344</td>\n",
       "      <td>11.379066</td>\n",
       "    </tr>\n",
       "    <tr>\n",
       "      <th>std</th>\n",
       "      <td>51.053632</td>\n",
       "      <td>1.114028e+05</td>\n",
       "      <td>0.109369</td>\n",
       "      <td>3.331361e+04</td>\n",
       "      <td>2.390071</td>\n",
       "      <td>22.242157</td>\n",
       "      <td>7.273355</td>\n",
       "      <td>1.994641</td>\n",
       "      <td>2.215966</td>\n",
       "      <td>8.653769</td>\n",
       "      <td>5.894568</td>\n",
       "      <td>7.733939</td>\n",
       "    </tr>\n",
       "    <tr>\n",
       "      <th>min</th>\n",
       "      <td>0.000000</td>\n",
       "      <td>0.000000e+00</td>\n",
       "      <td>0.000000</td>\n",
       "      <td>0.000000e+00</td>\n",
       "      <td>0.000000</td>\n",
       "      <td>0.000000</td>\n",
       "      <td>0.000000</td>\n",
       "      <td>0.000000</td>\n",
       "      <td>0.000000</td>\n",
       "      <td>0.000000</td>\n",
       "      <td>0.000000</td>\n",
       "      <td>0.000000</td>\n",
       "    </tr>\n",
       "    <tr>\n",
       "      <th>10%</th>\n",
       "      <td>22.000000</td>\n",
       "      <td>5.580000e+03</td>\n",
       "      <td>0.000000</td>\n",
       "      <td>1.065175e+03</td>\n",
       "      <td>9.000000</td>\n",
       "      <td>0.000000</td>\n",
       "      <td>0.460000</td>\n",
       "      <td>3.561000</td>\n",
       "      <td>1.467200</td>\n",
       "      <td>0.000000</td>\n",
       "      <td>12.600000</td>\n",
       "      <td>0.000000</td>\n",
       "    </tr>\n",
       "    <tr>\n",
       "      <th>25%</th>\n",
       "      <td>52.000000</td>\n",
       "      <td>1.374000e+04</td>\n",
       "      <td>0.000000</td>\n",
       "      <td>2.651635e+03</td>\n",
       "      <td>12.000000</td>\n",
       "      <td>0.000000</td>\n",
       "      <td>3.970000</td>\n",
       "      <td>5.757000</td>\n",
       "      <td>1.978400</td>\n",
       "      <td>4.000000</td>\n",
       "      <td>16.000000</td>\n",
       "      <td>5.680000</td>\n",
       "    </tr>\n",
       "    <tr>\n",
       "      <th>50%</th>\n",
       "      <td>97.000000</td>\n",
       "      <td>2.690000e+04</td>\n",
       "      <td>0.000000</td>\n",
       "      <td>6.027737e+03</td>\n",
       "      <td>14.000000</td>\n",
       "      <td>0.000000</td>\n",
       "      <td>8.140000</td>\n",
       "      <td>6.130000</td>\n",
       "      <td>3.048000</td>\n",
       "      <td>5.000000</td>\n",
       "      <td>18.600000</td>\n",
       "      <td>10.210000</td>\n",
       "    </tr>\n",
       "    <tr>\n",
       "      <th>75%</th>\n",
       "      <td>139.000000</td>\n",
       "      <td>4.254000e+04</td>\n",
       "      <td>0.000000</td>\n",
       "      <td>1.171203e+04</td>\n",
       "      <td>14.000000</td>\n",
       "      <td>0.000000</td>\n",
       "      <td>18.100000</td>\n",
       "      <td>6.556000</td>\n",
       "      <td>5.100400</td>\n",
       "      <td>8.000000</td>\n",
       "      <td>20.200000</td>\n",
       "      <td>16.210000</td>\n",
       "    </tr>\n",
       "    <tr>\n",
       "      <th>90%</th>\n",
       "      <td>164.000000</td>\n",
       "      <td>6.019000e+04</td>\n",
       "      <td>0.000000</td>\n",
       "      <td>1.905290e+04</td>\n",
       "      <td>14.000000</td>\n",
       "      <td>40.000000</td>\n",
       "      <td>19.580000</td>\n",
       "      <td>7.088000</td>\n",
       "      <td>6.814700</td>\n",
       "      <td>24.000000</td>\n",
       "      <td>20.900000</td>\n",
       "      <td>21.780000</td>\n",
       "    </tr>\n",
       "    <tr>\n",
       "      <th>max</th>\n",
       "      <td>179.000000</td>\n",
       "      <td>8.329960e+06</td>\n",
       "      <td>1.000000</td>\n",
       "      <td>3.676065e+06</td>\n",
       "      <td>22.000000</td>\n",
       "      <td>100.000000</td>\n",
       "      <td>27.740000</td>\n",
       "      <td>8.780000</td>\n",
       "      <td>12.126500</td>\n",
       "      <td>24.000000</td>\n",
       "      <td>22.000000</td>\n",
       "      <td>37.970000</td>\n",
       "    </tr>\n",
       "  </tbody>\n",
       "</table>\n",
       "</div>"
      ],
      "text/plain": [
       "                step        amount          fraud          debt  \\\n",
       "count  594643.000000  5.946430e+05  594643.000000  5.946430e+05   \n",
       "mean       94.986827  3.789014e+04       0.012108  1.018177e+04   \n",
       "std        51.053632  1.114028e+05       0.109369  3.331361e+04   \n",
       "min         0.000000  0.000000e+00       0.000000  0.000000e+00   \n",
       "10%        22.000000  5.580000e+03       0.000000  1.065175e+03   \n",
       "25%        52.000000  1.374000e+04       0.000000  2.651635e+03   \n",
       "50%        97.000000  2.690000e+04       0.000000  6.027737e+03   \n",
       "75%       139.000000  4.254000e+04       0.000000  1.171203e+04   \n",
       "90%       164.000000  6.019000e+04       0.000000  1.905290e+04   \n",
       "max       179.000000  8.329960e+06       1.000000  3.676065e+06   \n",
       "\n",
       "                term  enrichment_ZN  enrichment_INDUS  enrichment_RM  \\\n",
       "count  594643.000000  594643.000000     594643.000000  594643.000000   \n",
       "mean       12.650481      10.202065          9.975922       5.657943   \n",
       "std         2.390071      22.242157          7.273355       1.994641   \n",
       "min         0.000000       0.000000          0.000000       0.000000   \n",
       "10%         9.000000       0.000000          0.460000       3.561000   \n",
       "25%        12.000000       0.000000          3.970000       5.757000   \n",
       "50%        14.000000       0.000000          8.140000       6.130000   \n",
       "75%        14.000000       0.000000         18.100000       6.556000   \n",
       "90%        14.000000      40.000000         19.580000       7.088000   \n",
       "max        22.000000     100.000000         27.740000       8.780000   \n",
       "\n",
       "       enrichment_DIS  enrichment_RAD  enrichment_PTRATIO  enrichment_LSTAT  \n",
       "count   594643.000000   594643.000000       594643.000000     594643.000000  \n",
       "mean         3.615390        8.476763           16.607344         11.379066  \n",
       "std          2.215966        8.653769            5.894568          7.733939  \n",
       "min          0.000000        0.000000            0.000000          0.000000  \n",
       "10%          1.467200        0.000000           12.600000          0.000000  \n",
       "25%          1.978400        4.000000           16.000000          5.680000  \n",
       "50%          3.048000        5.000000           18.600000         10.210000  \n",
       "75%          5.100400        8.000000           20.200000         16.210000  \n",
       "90%          6.814700       24.000000           20.900000         21.780000  \n",
       "max         12.126500       24.000000           22.000000         37.970000  "
      ]
     },
     "execution_count": 23,
     "metadata": {},
     "output_type": "execute_result"
    }
   ],
   "source": [
    "df_reducido.describe(percentiles=[0.1,0.25,0.5,0.75,0.9])"
   ]
  },
  {
   "cell_type": "code",
   "execution_count": 24,
   "id": "93daeb33",
   "metadata": {},
   "outputs": [
    {
     "data": {
      "text/plain": [
       "0"
      ]
     },
     "execution_count": 24,
     "metadata": {},
     "output_type": "execute_result"
    }
   ],
   "source": [
    "df_reducido.duplicated().sum()"
   ]
  },
  {
   "cell_type": "code",
   "execution_count": 25,
   "id": "5fcf1e46",
   "metadata": {},
   "outputs": [
    {
     "data": {
      "text/plain": [
       "4112"
      ]
     },
     "execution_count": 25,
     "metadata": {},
     "output_type": "execute_result"
    }
   ],
   "source": [
    "len(df_reducido[\"customer\"].unique())"
   ]
  },
  {
   "cell_type": "code",
   "execution_count": 26,
   "id": "8d0355c1",
   "metadata": {},
   "outputs": [
    {
     "data": {
      "text/plain": [
       "(594643, 19)"
      ]
     },
     "execution_count": 26,
     "metadata": {},
     "output_type": "execute_result"
    }
   ],
   "source": [
    "df_reducido.shape"
   ]
  },
  {
   "cell_type": "code",
   "execution_count": 27,
   "id": "ee6a704c",
   "metadata": {},
   "outputs": [
    {
     "data": {
      "text/html": [
       "<div>\n",
       "<style scoped>\n",
       "    .dataframe tbody tr th:only-of-type {\n",
       "        vertical-align: middle;\n",
       "    }\n",
       "\n",
       "    .dataframe tbody tr th {\n",
       "        vertical-align: top;\n",
       "    }\n",
       "\n",
       "    .dataframe thead th {\n",
       "        text-align: right;\n",
       "    }\n",
       "</style>\n",
       "<table border=\"1\" class=\"dataframe\">\n",
       "  <thead>\n",
       "    <tr style=\"text-align: right;\">\n",
       "      <th></th>\n",
       "      <th>Conteo</th>\n",
       "    </tr>\n",
       "  </thead>\n",
       "  <tbody>\n",
       "    <tr>\n",
       "      <th>C1978250683</th>\n",
       "      <td>265</td>\n",
       "    </tr>\n",
       "    <tr>\n",
       "      <th>C1275518867</th>\n",
       "      <td>252</td>\n",
       "    </tr>\n",
       "    <tr>\n",
       "      <th>C806399525</th>\n",
       "      <td>237</td>\n",
       "    </tr>\n",
       "    <tr>\n",
       "      <th>C515668508</th>\n",
       "      <td>205</td>\n",
       "    </tr>\n",
       "    <tr>\n",
       "      <th>C1338396147</th>\n",
       "      <td>195</td>\n",
       "    </tr>\n",
       "    <tr>\n",
       "      <th>C1896850232</th>\n",
       "      <td>192</td>\n",
       "    </tr>\n",
       "    <tr>\n",
       "      <th>C1350963410</th>\n",
       "      <td>191</td>\n",
       "    </tr>\n",
       "    <tr>\n",
       "      <th>C980876590</th>\n",
       "      <td>189</td>\n",
       "    </tr>\n",
       "    <tr>\n",
       "      <th>C359363895</th>\n",
       "      <td>188</td>\n",
       "    </tr>\n",
       "    <tr>\n",
       "      <th>C1090528803</th>\n",
       "      <td>188</td>\n",
       "    </tr>\n",
       "  </tbody>\n",
       "</table>\n",
       "</div>"
      ],
      "text/plain": [
       "             Conteo\n",
       "C1978250683     265\n",
       "C1275518867     252\n",
       "C806399525      237\n",
       "C515668508      205\n",
       "C1338396147     195\n",
       "C1896850232     192\n",
       "C1350963410     191\n",
       "C980876590      189\n",
       "C359363895      188\n",
       "C1090528803     188"
      ]
     },
     "execution_count": 27,
     "metadata": {},
     "output_type": "execute_result"
    }
   ],
   "source": [
    "aux = pd.DataFrame(df_reducido[\"customer\"].value_counts(dropna=False)).sort_values(by=\"customer\",ascending=False)\n",
    "aux.rename(columns={\"customer\":\"Conteo\"},inplace = True)\n",
    "aux.head(10)"
   ]
  },
  {
   "cell_type": "code",
   "execution_count": 28,
   "id": "42049ab8",
   "metadata": {},
   "outputs": [
    {
     "data": {
      "text/plain": [
       "0"
      ]
     },
     "execution_count": 28,
     "metadata": {},
     "output_type": "execute_result"
    }
   ],
   "source": [
    "(df_reducido[\"amount\"]<df_reducido[\"debt\"]).sum() #Nos fijamos que se cumpla que la deuda se menor o igual que el monto"
   ]
  },
  {
   "cell_type": "markdown",
   "id": "c561cb05",
   "metadata": {},
   "source": [
    "# Datos atipicos"
   ]
  },
  {
   "cell_type": "code",
   "execution_count": 29,
   "id": "614c3815",
   "metadata": {},
   "outputs": [
    {
     "data": {
      "image/png": "[encoded data removed]",
      "text/plain": [
       "<Figure size 432x288 with 1 Axes>"
      ]
     },
     "metadata": {},
     "output_type": "display_data"
    }
   ],
   "source": [
    "sns.set_theme(style=\"whitegrid\")\n",
    "ax = sns.boxplot(x=df_reducido[\"amount\"])"
   ]
  },
  {
   "cell_type": "code",
   "execution_count": 30,
   "id": "015b7393",
   "metadata": {},
   "outputs": [
    {
     "data": {
      "image/png": "[encoded data removed]",
      "text/plain": [
       "<Figure size 432x288 with 1 Axes>"
      ]
     },
     "metadata": {},
     "output_type": "display_data"
    }
   ],
   "source": [
    "ax = sns.boxplot(x=\"fraud\", y=\"amount\", data=df_reducido)"
   ]
  },
  {
   "cell_type": "code",
   "execution_count": 31,
   "id": "4ec523bf",
   "metadata": {},
   "outputs": [
    {
     "data": {
      "text/plain": [
       "count    5.946430e+05\n",
       "mean     3.789014e+04\n",
       "std      1.114028e+05\n",
       "min      0.000000e+00\n",
       "10%      5.580000e+03\n",
       "25%      1.374000e+04\n",
       "50%      2.690000e+04\n",
       "75%      4.254000e+04\n",
       "90%      6.019000e+04\n",
       "max      8.329960e+06\n",
       "Name: amount, dtype: float64"
      ]
     },
     "execution_count": 31,
     "metadata": {},
     "output_type": "execute_result"
    }
   ],
   "source": [
    "df_reducido[\"amount\"].describe(percentiles=[0.1,0.25,0.5,0.75,0.9])"
   ]
  },
  {
   "cell_type": "code",
   "execution_count": 32,
   "id": "21228f38",
   "metadata": {},
   "outputs": [
    {
     "data": {
      "text/plain": [
       "0.9369083635054982"
      ]
     },
     "execution_count": 32,
     "metadata": {},
     "output_type": "execute_result"
    }
   ],
   "source": [
    "def iqr_(df, variables, alpha = 1):\n",
    "\n",
    "    \n",
    "    for v in variables:\n",
    "        q3 = df[v].quantile(.75)\n",
    "        q1 = df[v].quantile(.25)        \n",
    "        iqr = q3 - q1\n",
    "        lb, up = q1-(alpha*iqr), q3+(alpha*iqr)\n",
    "        df = df.loc[(df[v]>=lb) & (df[v]<=up)].copy()\n",
    "        \n",
    "    return(df)\n",
    "iqr_(df_reducido,[\"amount\"],alpha=1).shape[0]/df_reducido.shape[0]"
   ]
  },
  {
   "cell_type": "code",
   "execution_count": 33,
   "id": "806fbcc4",
   "metadata": {},
   "outputs": [
    {
     "data": {
      "text/html": [
       "<div>\n",
       "<style scoped>\n",
       "    .dataframe tbody tr th:only-of-type {\n",
       "        vertical-align: middle;\n",
       "    }\n",
       "\n",
       "    .dataframe tbody tr th {\n",
       "        vertical-align: top;\n",
       "    }\n",
       "\n",
       "    .dataframe thead th {\n",
       "        text-align: right;\n",
       "    }\n",
       "</style>\n",
       "<table border=\"1\" class=\"dataframe\">\n",
       "  <thead>\n",
       "    <tr style=\"text-align: right;\">\n",
       "      <th></th>\n",
       "      <th>step</th>\n",
       "      <th>customer</th>\n",
       "      <th>age</th>\n",
       "      <th>gender</th>\n",
       "      <th>zipcodeOri</th>\n",
       "      <th>merchant</th>\n",
       "      <th>zipMerchant</th>\n",
       "      <th>category</th>\n",
       "      <th>amount</th>\n",
       "      <th>fraud</th>\n",
       "      <th>debt</th>\n",
       "      <th>term</th>\n",
       "      <th>enrichment_ZN</th>\n",
       "      <th>enrichment_INDUS</th>\n",
       "      <th>enrichment_RM</th>\n",
       "      <th>enrichment_DIS</th>\n",
       "      <th>enrichment_RAD</th>\n",
       "      <th>enrichment_PTRATIO</th>\n",
       "      <th>enrichment_LSTAT</th>\n",
       "    </tr>\n",
       "  </thead>\n",
       "  <tbody>\n",
       "    <tr>\n",
       "      <th>0</th>\n",
       "      <td>0</td>\n",
       "      <td>C1093826151</td>\n",
       "      <td>4</td>\n",
       "      <td>M</td>\n",
       "      <td>28007</td>\n",
       "      <td>M348934600</td>\n",
       "      <td>28007</td>\n",
       "      <td>es_transportation</td>\n",
       "      <td>4550.0</td>\n",
       "      <td>0</td>\n",
       "      <td>384.701865</td>\n",
       "      <td>13</td>\n",
       "      <td>18.0</td>\n",
       "      <td>2.31</td>\n",
       "      <td>6.575</td>\n",
       "      <td>4.0900</td>\n",
       "      <td>1.0</td>\n",
       "      <td>15.3</td>\n",
       "      <td>4.98</td>\n",
       "    </tr>\n",
       "    <tr>\n",
       "      <th>1</th>\n",
       "      <td>1</td>\n",
       "      <td>C1093826151</td>\n",
       "      <td>4</td>\n",
       "      <td>U</td>\n",
       "      <td>28007</td>\n",
       "      <td>M855959430</td>\n",
       "      <td>28007</td>\n",
       "      <td>es_hyper</td>\n",
       "      <td>14380.0</td>\n",
       "      <td>0</td>\n",
       "      <td>5346.143350</td>\n",
       "      <td>13</td>\n",
       "      <td>18.0</td>\n",
       "      <td>2.31</td>\n",
       "      <td>6.575</td>\n",
       "      <td>4.0900</td>\n",
       "      <td>1.0</td>\n",
       "      <td>15.3</td>\n",
       "      <td>4.98</td>\n",
       "    </tr>\n",
       "    <tr>\n",
       "      <th>2</th>\n",
       "      <td>2</td>\n",
       "      <td>C1093826151</td>\n",
       "      <td>4</td>\n",
       "      <td>M</td>\n",
       "      <td>28007</td>\n",
       "      <td>M348934600</td>\n",
       "      <td>28007</td>\n",
       "      <td>es_transportation</td>\n",
       "      <td>37210.0</td>\n",
       "      <td>0</td>\n",
       "      <td>15249.782295</td>\n",
       "      <td>13</td>\n",
       "      <td>18.0</td>\n",
       "      <td>2.31</td>\n",
       "      <td>6.575</td>\n",
       "      <td>4.0900</td>\n",
       "      <td>1.0</td>\n",
       "      <td>15.3</td>\n",
       "      <td>4.98</td>\n",
       "    </tr>\n",
       "    <tr>\n",
       "      <th>3</th>\n",
       "      <td>3</td>\n",
       "      <td>C1093826151</td>\n",
       "      <td>4</td>\n",
       "      <td>M</td>\n",
       "      <td>28007</td>\n",
       "      <td>M348934600</td>\n",
       "      <td>28007</td>\n",
       "      <td>es_transportation</td>\n",
       "      <td>31630.0</td>\n",
       "      <td>0</td>\n",
       "      <td>4101.539296</td>\n",
       "      <td>13</td>\n",
       "      <td>18.0</td>\n",
       "      <td>2.31</td>\n",
       "      <td>6.575</td>\n",
       "      <td>4.0900</td>\n",
       "      <td>0.0</td>\n",
       "      <td>15.3</td>\n",
       "      <td>4.98</td>\n",
       "    </tr>\n",
       "    <tr>\n",
       "      <th>4</th>\n",
       "      <td>4</td>\n",
       "      <td>C1093826151</td>\n",
       "      <td>4</td>\n",
       "      <td>M</td>\n",
       "      <td>28007</td>\n",
       "      <td>M348934600</td>\n",
       "      <td>28007</td>\n",
       "      <td>es_transportation</td>\n",
       "      <td>35860.0</td>\n",
       "      <td>0</td>\n",
       "      <td>14069.969512</td>\n",
       "      <td>13</td>\n",
       "      <td>18.0</td>\n",
       "      <td>2.31</td>\n",
       "      <td>6.575</td>\n",
       "      <td>4.0900</td>\n",
       "      <td>1.0</td>\n",
       "      <td>15.3</td>\n",
       "      <td>4.98</td>\n",
       "    </tr>\n",
       "    <tr>\n",
       "      <th>...</th>\n",
       "      <td>...</td>\n",
       "      <td>...</td>\n",
       "      <td>...</td>\n",
       "      <td>...</td>\n",
       "      <td>...</td>\n",
       "      <td>...</td>\n",
       "      <td>...</td>\n",
       "      <td>...</td>\n",
       "      <td>...</td>\n",
       "      <td>...</td>\n",
       "      <td>...</td>\n",
       "      <td>...</td>\n",
       "      <td>...</td>\n",
       "      <td>...</td>\n",
       "      <td>...</td>\n",
       "      <td>...</td>\n",
       "      <td>...</td>\n",
       "      <td>...</td>\n",
       "      <td>...</td>\n",
       "    </tr>\n",
       "    <tr>\n",
       "      <th>557121</th>\n",
       "      <td>101</td>\n",
       "      <td>C849065220</td>\n",
       "      <td>4</td>\n",
       "      <td>F</td>\n",
       "      <td>28007</td>\n",
       "      <td>M547558035</td>\n",
       "      <td>28007</td>\n",
       "      <td>es_fashion</td>\n",
       "      <td>44280.0</td>\n",
       "      <td>0</td>\n",
       "      <td>14435.818181</td>\n",
       "      <td>0</td>\n",
       "      <td>25.0</td>\n",
       "      <td>5.13</td>\n",
       "      <td>6.456</td>\n",
       "      <td>7.2255</td>\n",
       "      <td>8.0</td>\n",
       "      <td>19.7</td>\n",
       "      <td>6.73</td>\n",
       "    </tr>\n",
       "    <tr>\n",
       "      <th>557122</th>\n",
       "      <td>125</td>\n",
       "      <td>C849065220</td>\n",
       "      <td>4</td>\n",
       "      <td>F</td>\n",
       "      <td>28007</td>\n",
       "      <td>M980657600</td>\n",
       "      <td>28007</td>\n",
       "      <td>es_sportsandtoys</td>\n",
       "      <td>24700.0</td>\n",
       "      <td>0</td>\n",
       "      <td>11034.517175</td>\n",
       "      <td>0</td>\n",
       "      <td>0.0</td>\n",
       "      <td>5.13</td>\n",
       "      <td>6.456</td>\n",
       "      <td>7.2255</td>\n",
       "      <td>8.0</td>\n",
       "      <td>19.7</td>\n",
       "      <td>0.00</td>\n",
       "    </tr>\n",
       "    <tr>\n",
       "      <th>557123</th>\n",
       "      <td>140</td>\n",
       "      <td>C849065220</td>\n",
       "      <td>4</td>\n",
       "      <td>F</td>\n",
       "      <td>28007</td>\n",
       "      <td>M692898500</td>\n",
       "      <td>28007</td>\n",
       "      <td>es_health</td>\n",
       "      <td>44220.0</td>\n",
       "      <td>0</td>\n",
       "      <td>2231.904715</td>\n",
       "      <td>0</td>\n",
       "      <td>25.0</td>\n",
       "      <td>5.13</td>\n",
       "      <td>0.000</td>\n",
       "      <td>0.0000</td>\n",
       "      <td>8.0</td>\n",
       "      <td>19.7</td>\n",
       "      <td>0.00</td>\n",
       "    </tr>\n",
       "    <tr>\n",
       "      <th>557124</th>\n",
       "      <td>159</td>\n",
       "      <td>C849065220</td>\n",
       "      <td>4</td>\n",
       "      <td>U</td>\n",
       "      <td>28007</td>\n",
       "      <td>M1535107174</td>\n",
       "      <td>28007</td>\n",
       "      <td>es_wellnessandbeauty</td>\n",
       "      <td>32500.0</td>\n",
       "      <td>1</td>\n",
       "      <td>10707.487456</td>\n",
       "      <td>0</td>\n",
       "      <td>25.0</td>\n",
       "      <td>5.13</td>\n",
       "      <td>6.456</td>\n",
       "      <td>7.2255</td>\n",
       "      <td>8.0</td>\n",
       "      <td>19.7</td>\n",
       "      <td>6.73</td>\n",
       "    </tr>\n",
       "    <tr>\n",
       "      <th>557125</th>\n",
       "      <td>152</td>\n",
       "      <td>C1809646275</td>\n",
       "      <td>3</td>\n",
       "      <td>F</td>\n",
       "      <td>28007</td>\n",
       "      <td>M980657600</td>\n",
       "      <td>28007</td>\n",
       "      <td>es_sportsandtoys</td>\n",
       "      <td>64760.0</td>\n",
       "      <td>0</td>\n",
       "      <td>6484.634258</td>\n",
       "      <td>0</td>\n",
       "      <td>25.0</td>\n",
       "      <td>5.13</td>\n",
       "      <td>6.762</td>\n",
       "      <td>7.9809</td>\n",
       "      <td>8.0</td>\n",
       "      <td>19.7</td>\n",
       "      <td>9.50</td>\n",
       "    </tr>\n",
       "  </tbody>\n",
       "</table>\n",
       "<p>557126 rows × 19 columns</p>\n",
       "</div>"
      ],
      "text/plain": [
       "        step     customer age gender zipcodeOri     merchant zipMerchant  \\\n",
       "0          0  C1093826151   4      M      28007   M348934600       28007   \n",
       "1          1  C1093826151   4      U      28007   M855959430       28007   \n",
       "2          2  C1093826151   4      M      28007   M348934600       28007   \n",
       "3          3  C1093826151   4      M      28007   M348934600       28007   \n",
       "4          4  C1093826151   4      M      28007   M348934600       28007   \n",
       "...      ...          ...  ..    ...        ...          ...         ...   \n",
       "557121   101   C849065220   4      F      28007   M547558035       28007   \n",
       "557122   125   C849065220   4      F      28007   M980657600       28007   \n",
       "557123   140   C849065220   4      F      28007   M692898500       28007   \n",
       "557124   159   C849065220   4      U      28007  M1535107174       28007   \n",
       "557125   152  C1809646275   3      F      28007   M980657600       28007   \n",
       "\n",
       "                    category   amount  fraud          debt  term  \\\n",
       "0          es_transportation   4550.0      0    384.701865    13   \n",
       "1                   es_hyper  14380.0      0   5346.143350    13   \n",
       "2          es_transportation  37210.0      0  15249.782295    13   \n",
       "3          es_transportation  31630.0      0   4101.539296    13   \n",
       "4          es_transportation  35860.0      0  14069.969512    13   \n",
       "...                      ...      ...    ...           ...   ...   \n",
       "557121            es_fashion  44280.0      0  14435.818181     0   \n",
       "557122      es_sportsandtoys  24700.0      0  11034.517175     0   \n",
       "557123             es_health  44220.0      0   2231.904715     0   \n",
       "557124  es_wellnessandbeauty  32500.0      1  10707.487456     0   \n",
       "557125      es_sportsandtoys  64760.0      0   6484.634258     0   \n",
       "\n",
       "        enrichment_ZN  enrichment_INDUS  enrichment_RM  enrichment_DIS  \\\n",
       "0                18.0              2.31          6.575          4.0900   \n",
       "1                18.0              2.31          6.575          4.0900   \n",
       "2                18.0              2.31          6.575          4.0900   \n",
       "3                18.0              2.31          6.575          4.0900   \n",
       "4                18.0              2.31          6.575          4.0900   \n",
       "...               ...               ...            ...             ...   \n",
       "557121           25.0              5.13          6.456          7.2255   \n",
       "557122            0.0              5.13          6.456          7.2255   \n",
       "557123           25.0              5.13          0.000          0.0000   \n",
       "557124           25.0              5.13          6.456          7.2255   \n",
       "557125           25.0              5.13          6.762          7.9809   \n",
       "\n",
       "        enrichment_RAD  enrichment_PTRATIO  enrichment_LSTAT  \n",
       "0                  1.0                15.3              4.98  \n",
       "1                  1.0                15.3              4.98  \n",
       "2                  1.0                15.3              4.98  \n",
       "3                  0.0                15.3              4.98  \n",
       "4                  1.0                15.3              4.98  \n",
       "...                ...                 ...               ...  \n",
       "557121             8.0                19.7              6.73  \n",
       "557122             8.0                19.7              0.00  \n",
       "557123             8.0                19.7              0.00  \n",
       "557124             8.0                19.7              6.73  \n",
       "557125             8.0                19.7              9.50  \n",
       "\n",
       "[557126 rows x 19 columns]"
      ]
     },
     "execution_count": 33,
     "metadata": {},
     "output_type": "execute_result"
    }
   ],
   "source": [
    "df_reducido=iqr_(df_reducido,[\"amount\"],alpha=1)\n",
    "df_reducido.reset_index(drop=True,inplace=True)\n",
    "df_reducido"
   ]
  },
  {
   "cell_type": "markdown",
   "id": "338d6987",
   "metadata": {},
   "source": [
    "# Ingenieria de variables"
   ]
  },
  {
   "cell_type": "code",
   "execution_count": 34,
   "id": "c3294bdf",
   "metadata": {},
   "outputs": [
    {
     "data": {
      "text/html": [
       "<div>\n",
       "<style scoped>\n",
       "    .dataframe tbody tr th:only-of-type {\n",
       "        vertical-align: middle;\n",
       "    }\n",
       "\n",
       "    .dataframe tbody tr th {\n",
       "        vertical-align: top;\n",
       "    }\n",
       "\n",
       "    .dataframe thead th {\n",
       "        text-align: right;\n",
       "    }\n",
       "</style>\n",
       "<table border=\"1\" class=\"dataframe\">\n",
       "  <thead>\n",
       "    <tr style=\"text-align: right;\">\n",
       "      <th></th>\n",
       "      <th>step</th>\n",
       "      <th>customer</th>\n",
       "      <th>age</th>\n",
       "      <th>gender</th>\n",
       "      <th>zipcodeOri</th>\n",
       "      <th>merchant</th>\n",
       "      <th>zipMerchant</th>\n",
       "      <th>category</th>\n",
       "      <th>amount</th>\n",
       "      <th>fraud</th>\n",
       "      <th>debt</th>\n",
       "      <th>term</th>\n",
       "      <th>enrichment_ZN</th>\n",
       "      <th>enrichment_INDUS</th>\n",
       "      <th>enrichment_RM</th>\n",
       "      <th>enrichment_DIS</th>\n",
       "      <th>enrichment_RAD</th>\n",
       "      <th>enrichment_PTRATIO</th>\n",
       "      <th>enrichment_LSTAT</th>\n",
       "      <th>pagado</th>\n",
       "    </tr>\n",
       "  </thead>\n",
       "  <tbody>\n",
       "    <tr>\n",
       "      <th>0</th>\n",
       "      <td>0</td>\n",
       "      <td>C1093826151</td>\n",
       "      <td>4</td>\n",
       "      <td>M</td>\n",
       "      <td>28007</td>\n",
       "      <td>M348934600</td>\n",
       "      <td>28007</td>\n",
       "      <td>es_transportation</td>\n",
       "      <td>4550.0</td>\n",
       "      <td>0</td>\n",
       "      <td>384.701865</td>\n",
       "      <td>13</td>\n",
       "      <td>18.0</td>\n",
       "      <td>2.31</td>\n",
       "      <td>6.575</td>\n",
       "      <td>4.0900</td>\n",
       "      <td>1.0</td>\n",
       "      <td>15.3</td>\n",
       "      <td>4.98</td>\n",
       "      <td>4165.298135</td>\n",
       "    </tr>\n",
       "    <tr>\n",
       "      <th>1</th>\n",
       "      <td>1</td>\n",
       "      <td>C1093826151</td>\n",
       "      <td>4</td>\n",
       "      <td>U</td>\n",
       "      <td>28007</td>\n",
       "      <td>M855959430</td>\n",
       "      <td>28007</td>\n",
       "      <td>es_hyper</td>\n",
       "      <td>14380.0</td>\n",
       "      <td>0</td>\n",
       "      <td>5346.143350</td>\n",
       "      <td>13</td>\n",
       "      <td>18.0</td>\n",
       "      <td>2.31</td>\n",
       "      <td>6.575</td>\n",
       "      <td>4.0900</td>\n",
       "      <td>1.0</td>\n",
       "      <td>15.3</td>\n",
       "      <td>4.98</td>\n",
       "      <td>9033.856650</td>\n",
       "    </tr>\n",
       "    <tr>\n",
       "      <th>2</th>\n",
       "      <td>2</td>\n",
       "      <td>C1093826151</td>\n",
       "      <td>4</td>\n",
       "      <td>M</td>\n",
       "      <td>28007</td>\n",
       "      <td>M348934600</td>\n",
       "      <td>28007</td>\n",
       "      <td>es_transportation</td>\n",
       "      <td>37210.0</td>\n",
       "      <td>0</td>\n",
       "      <td>15249.782295</td>\n",
       "      <td>13</td>\n",
       "      <td>18.0</td>\n",
       "      <td>2.31</td>\n",
       "      <td>6.575</td>\n",
       "      <td>4.0900</td>\n",
       "      <td>1.0</td>\n",
       "      <td>15.3</td>\n",
       "      <td>4.98</td>\n",
       "      <td>21960.217705</td>\n",
       "    </tr>\n",
       "    <tr>\n",
       "      <th>3</th>\n",
       "      <td>3</td>\n",
       "      <td>C1093826151</td>\n",
       "      <td>4</td>\n",
       "      <td>M</td>\n",
       "      <td>28007</td>\n",
       "      <td>M348934600</td>\n",
       "      <td>28007</td>\n",
       "      <td>es_transportation</td>\n",
       "      <td>31630.0</td>\n",
       "      <td>0</td>\n",
       "      <td>4101.539296</td>\n",
       "      <td>13</td>\n",
       "      <td>18.0</td>\n",
       "      <td>2.31</td>\n",
       "      <td>6.575</td>\n",
       "      <td>4.0900</td>\n",
       "      <td>0.0</td>\n",
       "      <td>15.3</td>\n",
       "      <td>4.98</td>\n",
       "      <td>27528.460704</td>\n",
       "    </tr>\n",
       "    <tr>\n",
       "      <th>4</th>\n",
       "      <td>4</td>\n",
       "      <td>C1093826151</td>\n",
       "      <td>4</td>\n",
       "      <td>M</td>\n",
       "      <td>28007</td>\n",
       "      <td>M348934600</td>\n",
       "      <td>28007</td>\n",
       "      <td>es_transportation</td>\n",
       "      <td>35860.0</td>\n",
       "      <td>0</td>\n",
       "      <td>14069.969512</td>\n",
       "      <td>13</td>\n",
       "      <td>18.0</td>\n",
       "      <td>2.31</td>\n",
       "      <td>6.575</td>\n",
       "      <td>4.0900</td>\n",
       "      <td>1.0</td>\n",
       "      <td>15.3</td>\n",
       "      <td>4.98</td>\n",
       "      <td>21790.030488</td>\n",
       "    </tr>\n",
       "    <tr>\n",
       "      <th>...</th>\n",
       "      <td>...</td>\n",
       "      <td>...</td>\n",
       "      <td>...</td>\n",
       "      <td>...</td>\n",
       "      <td>...</td>\n",
       "      <td>...</td>\n",
       "      <td>...</td>\n",
       "      <td>...</td>\n",
       "      <td>...</td>\n",
       "      <td>...</td>\n",
       "      <td>...</td>\n",
       "      <td>...</td>\n",
       "      <td>...</td>\n",
       "      <td>...</td>\n",
       "      <td>...</td>\n",
       "      <td>...</td>\n",
       "      <td>...</td>\n",
       "      <td>...</td>\n",
       "      <td>...</td>\n",
       "      <td>...</td>\n",
       "    </tr>\n",
       "    <tr>\n",
       "      <th>557121</th>\n",
       "      <td>101</td>\n",
       "      <td>C849065220</td>\n",
       "      <td>4</td>\n",
       "      <td>F</td>\n",
       "      <td>28007</td>\n",
       "      <td>M547558035</td>\n",
       "      <td>28007</td>\n",
       "      <td>es_fashion</td>\n",
       "      <td>44280.0</td>\n",
       "      <td>0</td>\n",
       "      <td>14435.818181</td>\n",
       "      <td>0</td>\n",
       "      <td>25.0</td>\n",
       "      <td>5.13</td>\n",
       "      <td>6.456</td>\n",
       "      <td>7.2255</td>\n",
       "      <td>8.0</td>\n",
       "      <td>19.7</td>\n",
       "      <td>6.73</td>\n",
       "      <td>29844.181819</td>\n",
       "    </tr>\n",
       "    <tr>\n",
       "      <th>557122</th>\n",
       "      <td>125</td>\n",
       "      <td>C849065220</td>\n",
       "      <td>4</td>\n",
       "      <td>F</td>\n",
       "      <td>28007</td>\n",
       "      <td>M980657600</td>\n",
       "      <td>28007</td>\n",
       "      <td>es_sportsandtoys</td>\n",
       "      <td>24700.0</td>\n",
       "      <td>0</td>\n",
       "      <td>11034.517175</td>\n",
       "      <td>0</td>\n",
       "      <td>0.0</td>\n",
       "      <td>5.13</td>\n",
       "      <td>6.456</td>\n",
       "      <td>7.2255</td>\n",
       "      <td>8.0</td>\n",
       "      <td>19.7</td>\n",
       "      <td>0.00</td>\n",
       "      <td>13665.482825</td>\n",
       "    </tr>\n",
       "    <tr>\n",
       "      <th>557123</th>\n",
       "      <td>140</td>\n",
       "      <td>C849065220</td>\n",
       "      <td>4</td>\n",
       "      <td>F</td>\n",
       "      <td>28007</td>\n",
       "      <td>M692898500</td>\n",
       "      <td>28007</td>\n",
       "      <td>es_health</td>\n",
       "      <td>44220.0</td>\n",
       "      <td>0</td>\n",
       "      <td>2231.904715</td>\n",
       "      <td>0</td>\n",
       "      <td>25.0</td>\n",
       "      <td>5.13</td>\n",
       "      <td>0.000</td>\n",
       "      <td>0.0000</td>\n",
       "      <td>8.0</td>\n",
       "      <td>19.7</td>\n",
       "      <td>0.00</td>\n",
       "      <td>41988.095285</td>\n",
       "    </tr>\n",
       "    <tr>\n",
       "      <th>557124</th>\n",
       "      <td>159</td>\n",
       "      <td>C849065220</td>\n",
       "      <td>4</td>\n",
       "      <td>U</td>\n",
       "      <td>28007</td>\n",
       "      <td>M1535107174</td>\n",
       "      <td>28007</td>\n",
       "      <td>es_wellnessandbeauty</td>\n",
       "      <td>32500.0</td>\n",
       "      <td>1</td>\n",
       "      <td>10707.487456</td>\n",
       "      <td>0</td>\n",
       "      <td>25.0</td>\n",
       "      <td>5.13</td>\n",
       "      <td>6.456</td>\n",
       "      <td>7.2255</td>\n",
       "      <td>8.0</td>\n",
       "      <td>19.7</td>\n",
       "      <td>6.73</td>\n",
       "      <td>21792.512544</td>\n",
       "    </tr>\n",
       "    <tr>\n",
       "      <th>557125</th>\n",
       "      <td>152</td>\n",
       "      <td>C1809646275</td>\n",
       "      <td>3</td>\n",
       "      <td>F</td>\n",
       "      <td>28007</td>\n",
       "      <td>M980657600</td>\n",
       "      <td>28007</td>\n",
       "      <td>es_sportsandtoys</td>\n",
       "      <td>64760.0</td>\n",
       "      <td>0</td>\n",
       "      <td>6484.634258</td>\n",
       "      <td>0</td>\n",
       "      <td>25.0</td>\n",
       "      <td>5.13</td>\n",
       "      <td>6.762</td>\n",
       "      <td>7.9809</td>\n",
       "      <td>8.0</td>\n",
       "      <td>19.7</td>\n",
       "      <td>9.50</td>\n",
       "      <td>58275.365742</td>\n",
       "    </tr>\n",
       "  </tbody>\n",
       "</table>\n",
       "<p>557126 rows × 20 columns</p>\n",
       "</div>"
      ],
      "text/plain": [
       "        step     customer age gender zipcodeOri     merchant zipMerchant  \\\n",
       "0          0  C1093826151   4      M      28007   M348934600       28007   \n",
       "1          1  C1093826151   4      U      28007   M855959430       28007   \n",
       "2          2  C1093826151   4      M      28007   M348934600       28007   \n",
       "3          3  C1093826151   4      M      28007   M348934600       28007   \n",
       "4          4  C1093826151   4      M      28007   M348934600       28007   \n",
       "...      ...          ...  ..    ...        ...          ...         ...   \n",
       "557121   101   C849065220   4      F      28007   M547558035       28007   \n",
       "557122   125   C849065220   4      F      28007   M980657600       28007   \n",
       "557123   140   C849065220   4      F      28007   M692898500       28007   \n",
       "557124   159   C849065220   4      U      28007  M1535107174       28007   \n",
       "557125   152  C1809646275   3      F      28007   M980657600       28007   \n",
       "\n",
       "                    category   amount  fraud          debt  term  \\\n",
       "0          es_transportation   4550.0      0    384.701865    13   \n",
       "1                   es_hyper  14380.0      0   5346.143350    13   \n",
       "2          es_transportation  37210.0      0  15249.782295    13   \n",
       "3          es_transportation  31630.0      0   4101.539296    13   \n",
       "4          es_transportation  35860.0      0  14069.969512    13   \n",
       "...                      ...      ...    ...           ...   ...   \n",
       "557121            es_fashion  44280.0      0  14435.818181     0   \n",
       "557122      es_sportsandtoys  24700.0      0  11034.517175     0   \n",
       "557123             es_health  44220.0      0   2231.904715     0   \n",
       "557124  es_wellnessandbeauty  32500.0      1  10707.487456     0   \n",
       "557125      es_sportsandtoys  64760.0      0   6484.634258     0   \n",
       "\n",
       "        enrichment_ZN  enrichment_INDUS  enrichment_RM  enrichment_DIS  \\\n",
       "0                18.0              2.31          6.575          4.0900   \n",
       "1                18.0              2.31          6.575          4.0900   \n",
       "2                18.0              2.31          6.575          4.0900   \n",
       "3                18.0              2.31          6.575          4.0900   \n",
       "4                18.0              2.31          6.575          4.0900   \n",
       "...               ...               ...            ...             ...   \n",
       "557121           25.0              5.13          6.456          7.2255   \n",
       "557122            0.0              5.13          6.456          7.2255   \n",
       "557123           25.0              5.13          0.000          0.0000   \n",
       "557124           25.0              5.13          6.456          7.2255   \n",
       "557125           25.0              5.13          6.762          7.9809   \n",
       "\n",
       "        enrichment_RAD  enrichment_PTRATIO  enrichment_LSTAT        pagado  \n",
       "0                  1.0                15.3              4.98   4165.298135  \n",
       "1                  1.0                15.3              4.98   9033.856650  \n",
       "2                  1.0                15.3              4.98  21960.217705  \n",
       "3                  0.0                15.3              4.98  27528.460704  \n",
       "4                  1.0                15.3              4.98  21790.030488  \n",
       "...                ...                 ...               ...           ...  \n",
       "557121             8.0                19.7              6.73  29844.181819  \n",
       "557122             8.0                19.7              0.00  13665.482825  \n",
       "557123             8.0                19.7              0.00  41988.095285  \n",
       "557124             8.0                19.7              6.73  21792.512544  \n",
       "557125             8.0                19.7              9.50  58275.365742  \n",
       "\n",
       "[557126 rows x 20 columns]"
      ]
     },
     "execution_count": 34,
     "metadata": {},
     "output_type": "execute_result"
    }
   ],
   "source": [
    "#Ingenieria de variables\n",
    "df_reducido[\"pagado\"]=df_reducido[\"amount\"]-df_reducido[\"debt\"]\n",
    "df_reducido"
   ]
  },
  {
   "cell_type": "code",
   "execution_count": 35,
   "id": "536f2fe4",
   "metadata": {},
   "outputs": [
    {
     "data": {
      "image/png": "[encoded data removed]",
      "text/plain": [
       "<Figure size 432x288 with 1 Axes>"
      ]
     },
     "metadata": {},
     "output_type": "display_data"
    }
   ],
   "source": [
    "sns.set_theme(style=\"whitegrid\")\n",
    "ax = sns.boxplot(x=df_reducido[\"amount\"])"
   ]
  },
  {
   "cell_type": "code",
   "execution_count": 36,
   "id": "0acef80f",
   "metadata": {},
   "outputs": [
    {
     "data": {
      "image/png": "[encoded data removed]",
      "text/plain": [
       "<Figure size 432x288 with 1 Axes>"
      ]
     },
     "metadata": {},
     "output_type": "display_data"
    }
   ],
   "source": [
    "ax = sns.boxplot(x=\"fraud\", y=\"amount\", data=df_reducido)"
   ]
  },
  {
   "cell_type": "code",
   "execution_count": 37,
   "id": "02a22d45",
   "metadata": {},
   "outputs": [
    {
     "data": {
      "image/png": "[encoded data removed]",
      "text/plain": [
       "<Figure size 432x288 with 1 Axes>"
      ]
     },
     "metadata": {},
     "output_type": "display_data"
    }
   ],
   "source": [
    "ax = sns.boxplot(x=\"fraud\", y=\"pagado\", data=df_reducido)"
   ]
  },
  {
   "cell_type": "code",
   "execution_count": 38,
   "id": "4e659ffe",
   "metadata": {},
   "outputs": [
    {
     "data": {
      "text/html": [
       "        <script type=\"text/javascript\">\n",
       "        window.PlotlyConfig = {MathJaxConfig: 'local'};\n",
       "        if (window.MathJax && window.MathJax.Hub && window.MathJax.Hub.Config) {window.MathJax.Hub.Config({SVG: {font: \"STIX-Web\"}});}\n",
       "        if (typeof require !== 'undefined') {\n",
       "        require.undef(\"plotly\");\n",
       "        requirejs.config({\n",
       "            paths: {\n",
       "                'plotly': ['https://cdn.plot.ly/plotly-2.12.1.min']\n",
       "            }\n",
       "        });\n",
       "        require(['plotly'], function(Plotly) {\n",
       "            window._Plotly = Plotly;\n",
       "        });\n",
       "        }\n",
       "        </script>\n",
       "        "
      ]
     },
     "metadata": {},
     "output_type": "display_data"
    },
    {
     "data": {
      "application/vnd.plotly.v1+json": {
       "config": {
        "linkText": "Export to plot.ly",
        "plotlyServerURL": "https://plot.ly",
        "showLink": true
       },
       "data": [
        {
         "colorscale": [
          [
           0,
           "rgb(255,247,236)"
          ],
          [
           0.125,
           "rgb(254,232,200)"
          ],
          [
           0.25,
           "rgb(253,212,158)"
          ],
          [
           0.375,
           "rgb(253,187,132)"
          ],
          [
           0.5,
           "rgb(252,141,89)"
          ],
          [
           0.625,
           "rgb(239,101,72)"
          ],
          [
           0.75,
           "rgb(215,48,31)"
          ],
          [
           0.875,
           "rgb(179,0,0)"
          ],
          [
           1,
           "rgb(127,0,0)"
          ]
         ],
         "type": "heatmap",
         "x": [
          "fraud",
          "amount",
          "pagado"
         ],
         "y": [
          "fraud",
          "amount",
          "pagado"
         ],
         "z": [
          [
           1,
           0.017012414439289303,
           0.016578721919900247
          ],
          [
           0.017012414439289303,
           1,
           0.9681627309005558
          ],
          [
           0.016578721919900247,
           0.9681627309005558,
           1
          ]
         ],
         "zmax": 1,
         "zmin": 0.016578721919900247
        }
       ],
       "layout": {
        "legend": {
         "bgcolor": "#F5F6F9",
         "font": {
          "color": "#4D5663"
         }
        },
        "paper_bgcolor": "#F5F6F9",
        "plot_bgcolor": "#F5F6F9",
        "template": {
         "data": {
          "bar": [
           {
            "error_x": {
             "color": "#2a3f5f"
            },
            "error_y": {
             "color": "#2a3f5f"
            },
            "marker": {
             "line": {
              "color": "#E5ECF6",
              "width": 0.5
             },
             "pattern": {
              "fillmode": "overlay",
              "size": 10,
              "solidity": 0.2
             }
            },
            "type": "bar"
           }
          ],
          "barpolar": [
           {
            "marker": {
             "line": {
              "color": "#E5ECF6",
              "width": 0.5
             },
             "pattern": {
              "fillmode": "overlay",
              "size": 10,
              "solidity": 0.2
             }
            },
            "type": "barpolar"
           }
          ],
          "carpet": [
           {
            "aaxis": {
             "endlinecolor": "#2a3f5f",
             "gridcolor": "white",
             "linecolor": "white",
             "minorgridcolor": "white",
             "startlinecolor": "#2a3f5f"
            },
            "baxis": {
             "endlinecolor": "#2a3f5f",
             "gridcolor": "white",
             "linecolor": "white",
             "minorgridcolor": "white",
             "startlinecolor": "#2a3f5f"
            },
            "type": "carpet"
           }
          ],
          "choropleth": [
           {
            "colorbar": {
             "outlinewidth": 0,
             "ticks": ""
            },
            "type": "choropleth"
           }
          ],
          "contour": [
           {
            "colorbar": {
             "outlinewidth": 0,
             "ticks": ""
            },
            "colorscale": [
             [
              0,
              "#0d0887"
             ],
             [
              0.1111111111111111,
              "#46039f"
             ],
             [
              0.2222222222222222,
              "#7201a8"
             ],
             [
              0.3333333333333333,
              "#9c179e"
             ],
             [
              0.4444444444444444,
              "#bd3786"
             ],
             [
              0.5555555555555556,
              "#d8576b"
             ],
             [
              0.6666666666666666,
              "#ed7953"
             ],
             [
              0.7777777777777778,
              "#fb9f3a"
             ],
             [
              0.8888888888888888,
              "#fdca26"
             ],
             [
              1,
              "#f0f921"
             ]
            ],
            "type": "contour"
           }
          ],
          "contourcarpet": [
           {
            "colorbar": {
             "outlinewidth": 0,
             "ticks": ""
            },
            "type": "contourcarpet"
           }
          ],
          "heatmap": [
           {
            "colorbar": {
             "outlinewidth": 0,
             "ticks": ""
            },
            "colorscale": [
             [
              0,
              "#0d0887"
             ],
             [
              0.1111111111111111,
              "#46039f"
             ],
             [
              0.2222222222222222,
              "#7201a8"
             ],
             [
              0.3333333333333333,
              "#9c179e"
             ],
             [
              0.4444444444444444,
              "#bd3786"
             ],
             [
              0.5555555555555556,
              "#d8576b"
             ],
             [
              0.6666666666666666,
              "#ed7953"
             ],
             [
              0.7777777777777778,
              "#fb9f3a"
             ],
             [
              0.8888888888888888,
              "#fdca26"
             ],
             [
              1,
              "#f0f921"
             ]
            ],
            "type": "heatmap"
           }
          ],
          "heatmapgl": [
           {
            "colorbar": {
             "outlinewidth": 0,
             "ticks": ""
            },
            "colorscale": [
             [
              0,
              "#0d0887"
             ],
             [
              0.1111111111111111,
              "#46039f"
             ],
             [
              0.2222222222222222,
              "#7201a8"
             ],
             [
              0.3333333333333333,
              "#9c179e"
             ],
             [
              0.4444444444444444,
              "#bd3786"
             ],
             [
              0.5555555555555556,
              "#d8576b"
             ],
             [
              0.6666666666666666,
              "#ed7953"
             ],
             [
              0.7777777777777778,
              "#fb9f3a"
             ],
             [
              0.8888888888888888,
              "#fdca26"
             ],
             [
              1,
              "#f0f921"
             ]
            ],
            "type": "heatmapgl"
           }
          ],
          "histogram": [
           {
            "marker": {
             "pattern": {
              "fillmode": "overlay",
              "size": 10,
              "solidity": 0.2
             }
            },
            "type": "histogram"
           }
          ],
          "histogram2d": [
           {
            "colorbar": {
             "outlinewidth": 0,
             "ticks": ""
            },
            "colorscale": [
             [
              0,
              "#0d0887"
             ],
             [
              0.1111111111111111,
              "#46039f"
             ],
             [
              0.2222222222222222,
              "#7201a8"
             ],
             [
              0.3333333333333333,
              "#9c179e"
             ],
             [
              0.4444444444444444,
              "#bd3786"
             ],
             [
              0.5555555555555556,
              "#d8576b"
             ],
             [
              0.6666666666666666,
              "#ed7953"
             ],
             [
              0.7777777777777778,
              "#fb9f3a"
             ],
             [
              0.8888888888888888,
              "#fdca26"
             ],
             [
              1,
              "#f0f921"
             ]
            ],
            "type": "histogram2d"
           }
          ],
          "histogram2dcontour": [
           {
            "colorbar": {
             "outlinewidth": 0,
             "ticks": ""
            },
            "colorscale": [
             [
              0,
              "#0d0887"
             ],
             [
              0.1111111111111111,
              "#46039f"
             ],
             [
              0.2222222222222222,
              "#7201a8"
             ],
             [
              0.3333333333333333,
              "#9c179e"
             ],
             [
              0.4444444444444444,
              "#bd3786"
             ],
             [
              0.5555555555555556,
              "#d8576b"
             ],
             [
              0.6666666666666666,
              "#ed7953"
             ],
             [
              0.7777777777777778,
              "#fb9f3a"
             ],
             [
              0.8888888888888888,
              "#fdca26"
             ],
             [
              1,
              "#f0f921"
             ]
            ],
            "type": "histogram2dcontour"
           }
          ],
          "mesh3d": [
           {
            "colorbar": {
             "outlinewidth": 0,
             "ticks": ""
            },
            "type": "mesh3d"
           }
          ],
          "parcoords": [
           {
            "line": {
             "colorbar": {
              "outlinewidth": 0,
              "ticks": ""
             }
            },
            "type": "parcoords"
           }
          ],
          "pie": [
           {
            "automargin": true,
            "type": "pie"
           }
          ],
          "scatter": [
           {
            "fillpattern": {
             "fillmode": "overlay",
             "size": 10,
             "solidity": 0.2
            },
            "type": "scatter"
           }
          ],
          "scatter3d": [
           {
            "line": {
             "colorbar": {
              "outlinewidth": 0,
              "ticks": ""
             }
            },
            "marker": {
             "colorbar": {
              "outlinewidth": 0,
              "ticks": ""
             }
            },
            "type": "scatter3d"
           }
          ],
          "scattercarpet": [
           {
            "marker": {
             "colorbar": {
              "outlinewidth": 0,
              "ticks": ""
             }
            },
            "type": "scattercarpet"
           }
          ],
          "scattergeo": [
           {
            "marker": {
             "colorbar": {
              "outlinewidth": 0,
              "ticks": ""
             }
            },
            "type": "scattergeo"
           }
          ],
          "scattergl": [
           {
            "marker": {
             "colorbar": {
              "outlinewidth": 0,
              "ticks": ""
             }
            },
            "type": "scattergl"
           }
          ],
          "scattermapbox": [
           {
            "marker": {
             "colorbar": {
              "outlinewidth": 0,
              "ticks": ""
             }
            },
            "type": "scattermapbox"
           }
          ],
          "scatterpolar": [
           {
            "marker": {
             "colorbar": {
              "outlinewidth": 0,
              "ticks": ""
             }
            },
            "type": "scatterpolar"
           }
          ],
          "scatterpolargl": [
           {
            "marker": {
             "colorbar": {
              "outlinewidth": 0,
              "ticks": ""
             }
            },
            "type": "scatterpolargl"
           }
          ],
          "scatterternary": [
           {
            "marker": {
             "colorbar": {
              "outlinewidth": 0,
              "ticks": ""
             }
            },
            "type": "scatterternary"
           }
          ],
          "surface": [
           {
            "colorbar": {
             "outlinewidth": 0,
             "ticks": ""
            },
            "colorscale": [
             [
              0,
              "#0d0887"
             ],
             [
              0.1111111111111111,
              "#46039f"
             ],
             [
              0.2222222222222222,
              "#7201a8"
             ],
             [
              0.3333333333333333,
              "#9c179e"
             ],
             [
              0.4444444444444444,
              "#bd3786"
             ],
             [
              0.5555555555555556,
              "#d8576b"
             ],
             [
              0.6666666666666666,
              "#ed7953"
             ],
             [
              0.7777777777777778,
              "#fb9f3a"
             ],
             [
              0.8888888888888888,
              "#fdca26"
             ],
             [
              1,
              "#f0f921"
             ]
            ],
            "type": "surface"
           }
          ],
          "table": [
           {
            "cells": {
             "fill": {
              "color": "#EBF0F8"
             },
             "line": {
              "color": "white"
             }
            },
            "header": {
             "fill": {
              "color": "#C8D4E3"
             },
             "line": {
              "color": "white"
             }
            },
            "type": "table"
           }
          ]
         },
         "layout": {
          "annotationdefaults": {
           "arrowcolor": "#2a3f5f",
           "arrowhead": 0,
           "arrowwidth": 1
          },
          "autotypenumbers": "strict",
          "coloraxis": {
           "colorbar": {
            "outlinewidth": 0,
            "ticks": ""
           }
          },
          "colorscale": {
           "diverging": [
            [
             0,
             "#8e0152"
            ],
            [
             0.1,
             "#c51b7d"
            ],
            [
             0.2,
             "#de77ae"
            ],
            [
             0.3,
             "#f1b6da"
            ],
            [
             0.4,
             "#fde0ef"
            ],
            [
             0.5,
             "#f7f7f7"
            ],
            [
             0.6,
             "#e6f5d0"
            ],
            [
             0.7,
             "#b8e186"
            ],
            [
             0.8,
             "#7fbc41"
            ],
            [
             0.9,
             "#4d9221"
            ],
            [
             1,
             "#276419"
            ]
           ],
           "sequential": [
            [
             0,
             "#0d0887"
            ],
            [
             0.1111111111111111,
             "#46039f"
            ],
            [
             0.2222222222222222,
             "#7201a8"
            ],
            [
             0.3333333333333333,
             "#9c179e"
            ],
            [
             0.4444444444444444,
             "#bd3786"
            ],
            [
             0.5555555555555556,
             "#d8576b"
            ],
            [
             0.6666666666666666,
             "#ed7953"
            ],
            [
             0.7777777777777778,
             "#fb9f3a"
            ],
            [
             0.8888888888888888,
             "#fdca26"
            ],
            [
             1,
             "#f0f921"
            ]
           ],
           "sequentialminus": [
            [
             0,
             "#0d0887"
            ],
            [
             0.1111111111111111,
             "#46039f"
            ],
            [
             0.2222222222222222,
             "#7201a8"
            ],
            [
             0.3333333333333333,
             "#9c179e"
            ],
            [
             0.4444444444444444,
             "#bd3786"
            ],
            [
             0.5555555555555556,
             "#d8576b"
            ],
            [
             0.6666666666666666,
             "#ed7953"
            ],
            [
             0.7777777777777778,
             "#fb9f3a"
            ],
            [
             0.8888888888888888,
             "#fdca26"
            ],
            [
             1,
             "#f0f921"
            ]
           ]
          },
          "colorway": [
           "#636efa",
           "#EF553B",
           "#00cc96",
           "#ab63fa",
           "#FFA15A",
           "#19d3f3",
           "#FF6692",
           "#B6E880",
           "#FF97FF",
           "#FECB52"
          ],
          "font": {
           "color": "#2a3f5f"
          },
          "geo": {
           "bgcolor": "white",
           "lakecolor": "white",
           "landcolor": "#E5ECF6",
           "showlakes": true,
           "showland": true,
           "subunitcolor": "white"
          },
          "hoverlabel": {
           "align": "left"
          },
          "hovermode": "closest",
          "mapbox": {
           "style": "light"
          },
          "paper_bgcolor": "white",
          "plot_bgcolor": "#E5ECF6",
          "polar": {
           "angularaxis": {
            "gridcolor": "white",
            "linecolor": "white",
            "ticks": ""
           },
           "bgcolor": "#E5ECF6",
           "radialaxis": {
            "gridcolor": "white",
            "linecolor": "white",
            "ticks": ""
           }
          },
          "scene": {
           "xaxis": {
            "backgroundcolor": "#E5ECF6",
            "gridcolor": "white",
            "gridwidth": 2,
            "linecolor": "white",
            "showbackground": true,
            "ticks": "",
            "zerolinecolor": "white"
           },
           "yaxis": {
            "backgroundcolor": "#E5ECF6",
            "gridcolor": "white",
            "gridwidth": 2,
            "linecolor": "white",
            "showbackground": true,
            "ticks": "",
            "zerolinecolor": "white"
           },
           "zaxis": {
            "backgroundcolor": "#E5ECF6",
            "gridcolor": "white",
            "gridwidth": 2,
            "linecolor": "white",
            "showbackground": true,
            "ticks": "",
            "zerolinecolor": "white"
           }
          },
          "shapedefaults": {
           "line": {
            "color": "#2a3f5f"
           }
          },
          "ternary": {
           "aaxis": {
            "gridcolor": "white",
            "linecolor": "white",
            "ticks": ""
           },
           "baxis": {
            "gridcolor": "white",
            "linecolor": "white",
            "ticks": ""
           },
           "bgcolor": "#E5ECF6",
           "caxis": {
            "gridcolor": "white",
            "linecolor": "white",
            "ticks": ""
           }
          },
          "title": {
           "x": 0.05
          },
          "xaxis": {
           "automargin": true,
           "gridcolor": "white",
           "linecolor": "white",
           "ticks": "",
           "title": {
            "standoff": 15
           },
           "zerolinecolor": "white",
           "zerolinewidth": 2
          },
          "yaxis": {
           "automargin": true,
           "gridcolor": "white",
           "linecolor": "white",
           "ticks": "",
           "title": {
            "standoff": 15
           },
           "zerolinecolor": "white",
           "zerolinewidth": 2
          }
         }
        },
        "title": {
         "font": {
          "color": "#4D5663"
         },
         "text": "Matriz de Correlación"
        },
        "xaxis": {
         "gridcolor": "#E1E5ED",
         "showgrid": true,
         "tickfont": {
          "color": "#4D5663"
         },
         "title": {
          "font": {
           "color": "#4D5663"
          },
          "text": ""
         },
         "zerolinecolor": "#E1E5ED"
        },
        "yaxis": {
         "gridcolor": "#E1E5ED",
         "showgrid": true,
         "tickfont": {
          "color": "#4D5663"
         },
         "title": {
          "font": {
           "color": "#4D5663"
          },
          "text": ""
         },
         "zerolinecolor": "#E1E5ED"
        }
       }
      },
      "text/html": [
       "<div>                            <div id=\"b6616cc5-b039-4b63-9f34-1e9cbac92952\" class=\"plotly-graph-div\" style=\"height:525px; width:100%;\"></div>            <script type=\"text/javascript\">                require([\"plotly\"], function(Plotly) {                    window.PLOTLYENV=window.PLOTLYENV || {};\n",
       "                    window.PLOTLYENV.BASE_URL='https://plot.ly';                                    if (document.getElementById(\"b6616cc5-b039-4b63-9f34-1e9cbac92952\")) {                    Plotly.newPlot(                        \"b6616cc5-b039-4b63-9f34-1e9cbac92952\",                        [{\"colorscale\":[[0.0,\"rgb(255,247,236)\"],[0.125,\"rgb(254,232,200)\"],[0.25,\"rgb(253,212,158)\"],[0.375,\"rgb(253,187,132)\"],[0.5,\"rgb(252,141,89)\"],[0.625,\"rgb(239,101,72)\"],[0.75,\"rgb(215,48,31)\"],[0.875,\"rgb(179,0,0)\"],[1.0,\"rgb(127,0,0)\"]],\"x\":[\"fraud\",\"amount\",\"pagado\"],\"y\":[\"fraud\",\"amount\",\"pagado\"],\"z\":[[1.0,0.017012414439289303,0.016578721919900247],[0.017012414439289303,1.0,0.9681627309005558],[0.016578721919900247,0.9681627309005558,1.0]],\"zmax\":1.0,\"zmin\":0.016578721919900247,\"type\":\"heatmap\"}],                        {\"legend\":{\"bgcolor\":\"#F5F6F9\",\"font\":{\"color\":\"#4D5663\"}},\"paper_bgcolor\":\"#F5F6F9\",\"plot_bgcolor\":\"#F5F6F9\",\"template\":{\"data\":{\"barpolar\":[{\"marker\":{\"line\":{\"color\":\"#E5ECF6\",\"width\":0.5},\"pattern\":{\"fillmode\":\"overlay\",\"size\":10,\"solidity\":0.2}},\"type\":\"barpolar\"}],\"bar\":[{\"error_x\":{\"color\":\"#2a3f5f\"},\"error_y\":{\"color\":\"#2a3f5f\"},\"marker\":{\"line\":{\"color\":\"#E5ECF6\",\"width\":0.5},\"pattern\":{\"fillmode\":\"overlay\",\"size\":10,\"solidity\":0.2}},\"type\":\"bar\"}],\"carpet\":[{\"aaxis\":{\"endlinecolor\":\"#2a3f5f\",\"gridcolor\":\"white\",\"linecolor\":\"white\",\"minorgridcolor\":\"white\",\"startlinecolor\":\"#2a3f5f\"},\"baxis\":{\"endlinecolor\":\"#2a3f5f\",\"gridcolor\":\"white\",\"linecolor\":\"white\",\"minorgridcolor\":\"white\",\"startlinecolor\":\"#2a3f5f\"},\"type\":\"carpet\"}],\"choropleth\":[{\"colorbar\":{\"outlinewidth\":0,\"ticks\":\"\"},\"type\":\"choropleth\"}],\"contourcarpet\":[{\"colorbar\":{\"outlinewidth\":0,\"ticks\":\"\"},\"type\":\"contourcarpet\"}],\"contour\":[{\"colorbar\":{\"outlinewidth\":0,\"ticks\":\"\"},\"colorscale\":[[0.0,\"#0d0887\"],[0.1111111111111111,\"#46039f\"],[0.2222222222222222,\"#7201a8\"],[0.3333333333333333,\"#9c179e\"],[0.4444444444444444,\"#bd3786\"],[0.5555555555555556,\"#d8576b\"],[0.6666666666666666,\"#ed7953\"],[0.7777777777777778,\"#fb9f3a\"],[0.8888888888888888,\"#fdca26\"],[1.0,\"#f0f921\"]],\"type\":\"contour\"}],\"heatmapgl\":[{\"colorbar\":{\"outlinewidth\":0,\"ticks\":\"\"},\"colorscale\":[[0.0,\"#0d0887\"],[0.1111111111111111,\"#46039f\"],[0.2222222222222222,\"#7201a8\"],[0.3333333333333333,\"#9c179e\"],[0.4444444444444444,\"#bd3786\"],[0.5555555555555556,\"#d8576b\"],[0.6666666666666666,\"#ed7953\"],[0.7777777777777778,\"#fb9f3a\"],[0.8888888888888888,\"#fdca26\"],[1.0,\"#f0f921\"]],\"type\":\"heatmapgl\"}],\"heatmap\":[{\"colorbar\":{\"outlinewidth\":0,\"ticks\":\"\"},\"colorscale\":[[0.0,\"#0d0887\"],[0.1111111111111111,\"#46039f\"],[0.2222222222222222,\"#7201a8\"],[0.3333333333333333,\"#9c179e\"],[0.4444444444444444,\"#bd3786\"],[0.5555555555555556,\"#d8576b\"],[0.6666666666666666,\"#ed7953\"],[0.7777777777777778,\"#fb9f3a\"],[0.8888888888888888,\"#fdca26\"],[1.0,\"#f0f921\"]],\"type\":\"heatmap\"}],\"histogram2dcontour\":[{\"colorbar\":{\"outlinewidth\":0,\"ticks\":\"\"},\"colorscale\":[[0.0,\"#0d0887\"],[0.1111111111111111,\"#46039f\"],[0.2222222222222222,\"#7201a8\"],[0.3333333333333333,\"#9c179e\"],[0.4444444444444444,\"#bd3786\"],[0.5555555555555556,\"#d8576b\"],[0.6666666666666666,\"#ed7953\"],[0.7777777777777778,\"#fb9f3a\"],[0.8888888888888888,\"#fdca26\"],[1.0,\"#f0f921\"]],\"type\":\"histogram2dcontour\"}],\"histogram2d\":[{\"colorbar\":{\"outlinewidth\":0,\"ticks\":\"\"},\"colorscale\":[[0.0,\"#0d0887\"],[0.1111111111111111,\"#46039f\"],[0.2222222222222222,\"#7201a8\"],[0.3333333333333333,\"#9c179e\"],[0.4444444444444444,\"#bd3786\"],[0.5555555555555556,\"#d8576b\"],[0.6666666666666666,\"#ed7953\"],[0.7777777777777778,\"#fb9f3a\"],[0.8888888888888888,\"#fdca26\"],[1.0,\"#f0f921\"]],\"type\":\"histogram2d\"}],\"histogram\":[{\"marker\":{\"pattern\":{\"fillmode\":\"overlay\",\"size\":10,\"solidity\":0.2}},\"type\":\"histogram\"}],\"mesh3d\":[{\"colorbar\":{\"outlinewidth\":0,\"ticks\":\"\"},\"type\":\"mesh3d\"}],\"parcoords\":[{\"line\":{\"colorbar\":{\"outlinewidth\":0,\"ticks\":\"\"}},\"type\":\"parcoords\"}],\"pie\":[{\"automargin\":true,\"type\":\"pie\"}],\"scatter3d\":[{\"line\":{\"colorbar\":{\"outlinewidth\":0,\"ticks\":\"\"}},\"marker\":{\"colorbar\":{\"outlinewidth\":0,\"ticks\":\"\"}},\"type\":\"scatter3d\"}],\"scattercarpet\":[{\"marker\":{\"colorbar\":{\"outlinewidth\":0,\"ticks\":\"\"}},\"type\":\"scattercarpet\"}],\"scattergeo\":[{\"marker\":{\"colorbar\":{\"outlinewidth\":0,\"ticks\":\"\"}},\"type\":\"scattergeo\"}],\"scattergl\":[{\"marker\":{\"colorbar\":{\"outlinewidth\":0,\"ticks\":\"\"}},\"type\":\"scattergl\"}],\"scattermapbox\":[{\"marker\":{\"colorbar\":{\"outlinewidth\":0,\"ticks\":\"\"}},\"type\":\"scattermapbox\"}],\"scatterpolargl\":[{\"marker\":{\"colorbar\":{\"outlinewidth\":0,\"ticks\":\"\"}},\"type\":\"scatterpolargl\"}],\"scatterpolar\":[{\"marker\":{\"colorbar\":{\"outlinewidth\":0,\"ticks\":\"\"}},\"type\":\"scatterpolar\"}],\"scatter\":[{\"fillpattern\":{\"fillmode\":\"overlay\",\"size\":10,\"solidity\":0.2},\"type\":\"scatter\"}],\"scatterternary\":[{\"marker\":{\"colorbar\":{\"outlinewidth\":0,\"ticks\":\"\"}},\"type\":\"scatterternary\"}],\"surface\":[{\"colorbar\":{\"outlinewidth\":0,\"ticks\":\"\"},\"colorscale\":[[0.0,\"#0d0887\"],[0.1111111111111111,\"#46039f\"],[0.2222222222222222,\"#7201a8\"],[0.3333333333333333,\"#9c179e\"],[0.4444444444444444,\"#bd3786\"],[0.5555555555555556,\"#d8576b\"],[0.6666666666666666,\"#ed7953\"],[0.7777777777777778,\"#fb9f3a\"],[0.8888888888888888,\"#fdca26\"],[1.0,\"#f0f921\"]],\"type\":\"surface\"}],\"table\":[{\"cells\":{\"fill\":{\"color\":\"#EBF0F8\"},\"line\":{\"color\":\"white\"}},\"header\":{\"fill\":{\"color\":\"#C8D4E3\"},\"line\":{\"color\":\"white\"}},\"type\":\"table\"}]},\"layout\":{\"annotationdefaults\":{\"arrowcolor\":\"#2a3f5f\",\"arrowhead\":0,\"arrowwidth\":1},\"autotypenumbers\":\"strict\",\"coloraxis\":{\"colorbar\":{\"outlinewidth\":0,\"ticks\":\"\"}},\"colorscale\":{\"diverging\":[[0,\"#8e0152\"],[0.1,\"#c51b7d\"],[0.2,\"#de77ae\"],[0.3,\"#f1b6da\"],[0.4,\"#fde0ef\"],[0.5,\"#f7f7f7\"],[0.6,\"#e6f5d0\"],[0.7,\"#b8e186\"],[0.8,\"#7fbc41\"],[0.9,\"#4d9221\"],[1,\"#276419\"]],\"sequential\":[[0.0,\"#0d0887\"],[0.1111111111111111,\"#46039f\"],[0.2222222222222222,\"#7201a8\"],[0.3333333333333333,\"#9c179e\"],[0.4444444444444444,\"#bd3786\"],[0.5555555555555556,\"#d8576b\"],[0.6666666666666666,\"#ed7953\"],[0.7777777777777778,\"#fb9f3a\"],[0.8888888888888888,\"#fdca26\"],[1.0,\"#f0f921\"]],\"sequentialminus\":[[0.0,\"#0d0887\"],[0.1111111111111111,\"#46039f\"],[0.2222222222222222,\"#7201a8\"],[0.3333333333333333,\"#9c179e\"],[0.4444444444444444,\"#bd3786\"],[0.5555555555555556,\"#d8576b\"],[0.6666666666666666,\"#ed7953\"],[0.7777777777777778,\"#fb9f3a\"],[0.8888888888888888,\"#fdca26\"],[1.0,\"#f0f921\"]]},\"colorway\":[\"#636efa\",\"#EF553B\",\"#00cc96\",\"#ab63fa\",\"#FFA15A\",\"#19d3f3\",\"#FF6692\",\"#B6E880\",\"#FF97FF\",\"#FECB52\"],\"font\":{\"color\":\"#2a3f5f\"},\"geo\":{\"bgcolor\":\"white\",\"lakecolor\":\"white\",\"landcolor\":\"#E5ECF6\",\"showlakes\":true,\"showland\":true,\"subunitcolor\":\"white\"},\"hoverlabel\":{\"align\":\"left\"},\"hovermode\":\"closest\",\"mapbox\":{\"style\":\"light\"},\"paper_bgcolor\":\"white\",\"plot_bgcolor\":\"#E5ECF6\",\"polar\":{\"angularaxis\":{\"gridcolor\":\"white\",\"linecolor\":\"white\",\"ticks\":\"\"},\"bgcolor\":\"#E5ECF6\",\"radialaxis\":{\"gridcolor\":\"white\",\"linecolor\":\"white\",\"ticks\":\"\"}},\"scene\":{\"xaxis\":{\"backgroundcolor\":\"#E5ECF6\",\"gridcolor\":\"white\",\"gridwidth\":2,\"linecolor\":\"white\",\"showbackground\":true,\"ticks\":\"\",\"zerolinecolor\":\"white\"},\"yaxis\":{\"backgroundcolor\":\"#E5ECF6\",\"gridcolor\":\"white\",\"gridwidth\":2,\"linecolor\":\"white\",\"showbackground\":true,\"ticks\":\"\",\"zerolinecolor\":\"white\"},\"zaxis\":{\"backgroundcolor\":\"#E5ECF6\",\"gridcolor\":\"white\",\"gridwidth\":2,\"linecolor\":\"white\",\"showbackground\":true,\"ticks\":\"\",\"zerolinecolor\":\"white\"}},\"shapedefaults\":{\"line\":{\"color\":\"#2a3f5f\"}},\"ternary\":{\"aaxis\":{\"gridcolor\":\"white\",\"linecolor\":\"white\",\"ticks\":\"\"},\"baxis\":{\"gridcolor\":\"white\",\"linecolor\":\"white\",\"ticks\":\"\"},\"bgcolor\":\"#E5ECF6\",\"caxis\":{\"gridcolor\":\"white\",\"linecolor\":\"white\",\"ticks\":\"\"}},\"title\":{\"x\":0.05},\"xaxis\":{\"automargin\":true,\"gridcolor\":\"white\",\"linecolor\":\"white\",\"ticks\":\"\",\"title\":{\"standoff\":15},\"zerolinecolor\":\"white\",\"zerolinewidth\":2},\"yaxis\":{\"automargin\":true,\"gridcolor\":\"white\",\"linecolor\":\"white\",\"ticks\":\"\",\"title\":{\"standoff\":15},\"zerolinecolor\":\"white\",\"zerolinewidth\":2}}},\"title\":{\"font\":{\"color\":\"#4D5663\"},\"text\":\"Matriz de Correlaci\\u00f3n\"},\"xaxis\":{\"gridcolor\":\"#E1E5ED\",\"showgrid\":true,\"tickfont\":{\"color\":\"#4D5663\"},\"title\":{\"font\":{\"color\":\"#4D5663\"},\"text\":\"\"},\"zerolinecolor\":\"#E1E5ED\"},\"yaxis\":{\"gridcolor\":\"#E1E5ED\",\"showgrid\":true,\"tickfont\":{\"color\":\"#4D5663\"},\"title\":{\"font\":{\"color\":\"#4D5663\"},\"text\":\"\"},\"zerolinecolor\":\"#E1E5ED\"}},                        {\"showLink\": true, \"linkText\": \"Export to plot.ly\", \"plotlyServerURL\": \"https://plot.ly\", \"responsive\": true}                    ).then(function(){\n",
       "                            \n",
       "var gd = document.getElementById('b6616cc5-b039-4b63-9f34-1e9cbac92952');\n",
       "var x = new MutationObserver(function (mutations, observer) {{\n",
       "        var display = window.getComputedStyle(gd).display;\n",
       "        if (!display || display === 'none') {{\n",
       "            console.log([gd, 'removed!']);\n",
       "            Plotly.purge(gd);\n",
       "            observer.disconnect();\n",
       "        }}\n",
       "}});\n",
       "\n",
       "// Listen for the removal of the full notebook cells\n",
       "var notebookContainer = gd.closest('#notebook-container');\n",
       "if (notebookContainer) {{\n",
       "    x.observe(notebookContainer, {childList: true});\n",
       "}}\n",
       "\n",
       "// Listen for the clearing of the current output cell\n",
       "var outputEl = gd.closest('.output');\n",
       "if (outputEl) {{\n",
       "    x.observe(outputEl, {childList: true});\n",
       "}}\n",
       "\n",
       "                        })                };                });            </script>        </div>"
      ]
     },
     "metadata": {},
     "output_type": "display_data"
    }
   ],
   "source": [
    "import plotly\n",
    "import plotly.graph_objects as go\n",
    "import plotly.express as px\n",
    "from plotly.offline import plot,iplot\n",
    "import cufflinks as cf\n",
    "pd.options.plotting.backend = \"plotly\"\n",
    "cf.go_offline()\n",
    "#Veamos las correlaciones entre variables conyinuas\n",
    "df_reducido[[\"fraud\",\"amount\",\"pagado\"]].corr(method=\"spearman\").iplot(kind=\"heatmap\",colorscale=\"orrd\",title=\"Matriz de Correlación\")"
   ]
  },
  {
   "cell_type": "code",
   "execution_count": 39,
   "id": "670b4dda",
   "metadata": {},
   "outputs": [
    {
     "data": {
      "text/html": [
       "<style type=\"text/css\">\n",
       "#T_bee67_row0_col0 {\n",
       "  background-color: #023858;\n",
       "  color: #f1f1f1;\n",
       "}\n",
       "#T_bee67_row1_col0, #T_bee67_row2_col0 {\n",
       "  background-color: #fff7fb;\n",
       "  color: #000000;\n",
       "}\n",
       "</style>\n",
       "<table id=\"T_bee67\">\n",
       "  <thead>\n",
       "    <tr>\n",
       "      <th class=\"blank level0\" >&nbsp;</th>\n",
       "      <th id=\"T_bee67_level0_col0\" class=\"col_heading level0 col0\" >fraud</th>\n",
       "    </tr>\n",
       "  </thead>\n",
       "  <tbody>\n",
       "    <tr>\n",
       "      <th id=\"T_bee67_level0_row0\" class=\"row_heading level0 row0\" >fraud</th>\n",
       "      <td id=\"T_bee67_row0_col0\" class=\"data row0 col0\" >1.000000</td>\n",
       "    </tr>\n",
       "    <tr>\n",
       "      <th id=\"T_bee67_level0_row1\" class=\"row_heading level0 row1\" >amount</th>\n",
       "      <td id=\"T_bee67_row1_col0\" class=\"data row1 col0\" >0.017012</td>\n",
       "    </tr>\n",
       "    <tr>\n",
       "      <th id=\"T_bee67_level0_row2\" class=\"row_heading level0 row2\" >pagado</th>\n",
       "      <td id=\"T_bee67_row2_col0\" class=\"data row2 col0\" >0.016579</td>\n",
       "    </tr>\n",
       "  </tbody>\n",
       "</table>\n"
      ],
      "text/plain": [
       "<pandas.io.formats.style.Styler at 0x7fca6dbf3250>"
      ]
     },
     "execution_count": 39,
     "metadata": {},
     "output_type": "execute_result"
    }
   ],
   "source": [
    "correlaciones = df_reducido[[\"fraud\",\"amount\",\"pagado\"]].corr(method=\"spearman\")\n",
    "correlaciones=abs(correlaciones)\n",
    "correlaciones[[\"fraud\"]].sort_values(by ='fraud',ascending = False).style.background_gradient()"
   ]
  },
  {
   "cell_type": "code",
   "execution_count": 40,
   "id": "9a21b373",
   "metadata": {},
   "outputs": [
    {
     "data": {
      "text/plain": [
       "es_transportation        498963\n",
       "es_food                   23517\n",
       "es_wellnessandbeauty       9833\n",
       "es_health                  6158\n",
       "es_barsandrestaurants      5246\n",
       "es_hyper                   5038\n",
       "es_fashion                 3994\n",
       "es_sportsandtoys           1176\n",
       "es_tech                     950\n",
       "es_contents                 700\n",
       "es_home                     646\n",
       "es_hotelservices            481\n",
       "es_otherservices            388\n",
       "es_travel                    23\n",
       "es_leisure                   13\n",
       "Name: category, dtype: int64"
      ]
     },
     "execution_count": 40,
     "metadata": {},
     "output_type": "execute_result"
    }
   ],
   "source": [
    "df_reducido[\"category\"].value_counts(dropna=False)"
   ]
  },
  {
   "cell_type": "code",
   "execution_count": 41,
   "id": "97e42509",
   "metadata": {},
   "outputs": [],
   "source": [
    "df_reducido[\"Porcentaje pagado\"]=df_reducido[\"pagado\"]/df_reducido[\"amount\"]"
   ]
  },
  {
   "cell_type": "code",
   "execution_count": 42,
   "id": "67ad0cc2",
   "metadata": {},
   "outputs": [
    {
     "data": {
      "text/html": [
       "<div>\n",
       "<style scoped>\n",
       "    .dataframe tbody tr th:only-of-type {\n",
       "        vertical-align: middle;\n",
       "    }\n",
       "\n",
       "    .dataframe tbody tr th {\n",
       "        vertical-align: top;\n",
       "    }\n",
       "\n",
       "    .dataframe thead th {\n",
       "        text-align: right;\n",
       "    }\n",
       "</style>\n",
       "<table border=\"1\" class=\"dataframe\">\n",
       "  <thead>\n",
       "    <tr style=\"text-align: right;\">\n",
       "      <th></th>\n",
       "      <th>step</th>\n",
       "      <th>customer</th>\n",
       "      <th>age</th>\n",
       "      <th>gender</th>\n",
       "      <th>zipcodeOri</th>\n",
       "      <th>merchant</th>\n",
       "      <th>zipMerchant</th>\n",
       "      <th>category</th>\n",
       "      <th>amount</th>\n",
       "      <th>fraud</th>\n",
       "      <th>debt</th>\n",
       "      <th>term</th>\n",
       "      <th>enrichment_ZN</th>\n",
       "      <th>enrichment_INDUS</th>\n",
       "      <th>enrichment_RM</th>\n",
       "      <th>enrichment_DIS</th>\n",
       "      <th>enrichment_RAD</th>\n",
       "      <th>enrichment_PTRATIO</th>\n",
       "      <th>enrichment_LSTAT</th>\n",
       "      <th>pagado</th>\n",
       "      <th>Porcentaje pagado</th>\n",
       "      <th>Peso monto por customer</th>\n",
       "    </tr>\n",
       "  </thead>\n",
       "  <tbody>\n",
       "    <tr>\n",
       "      <th>0</th>\n",
       "      <td>0</td>\n",
       "      <td>C1093826151</td>\n",
       "      <td>4</td>\n",
       "      <td>M</td>\n",
       "      <td>28007</td>\n",
       "      <td>M348934600</td>\n",
       "      <td>28007</td>\n",
       "      <td>es_transportation</td>\n",
       "      <td>4550.0</td>\n",
       "      <td>0</td>\n",
       "      <td>384.701865</td>\n",
       "      <td>13</td>\n",
       "      <td>18.0</td>\n",
       "      <td>2.31</td>\n",
       "      <td>6.575</td>\n",
       "      <td>4.0900</td>\n",
       "      <td>1.0</td>\n",
       "      <td>15.3</td>\n",
       "      <td>4.98</td>\n",
       "      <td>4165.298135</td>\n",
       "      <td>0.915450</td>\n",
       "      <td>0.001021</td>\n",
       "    </tr>\n",
       "    <tr>\n",
       "      <th>1</th>\n",
       "      <td>1</td>\n",
       "      <td>C1093826151</td>\n",
       "      <td>4</td>\n",
       "      <td>U</td>\n",
       "      <td>28007</td>\n",
       "      <td>M855959430</td>\n",
       "      <td>28007</td>\n",
       "      <td>es_hyper</td>\n",
       "      <td>14380.0</td>\n",
       "      <td>0</td>\n",
       "      <td>5346.143350</td>\n",
       "      <td>13</td>\n",
       "      <td>18.0</td>\n",
       "      <td>2.31</td>\n",
       "      <td>6.575</td>\n",
       "      <td>4.0900</td>\n",
       "      <td>1.0</td>\n",
       "      <td>15.3</td>\n",
       "      <td>4.98</td>\n",
       "      <td>9033.856650</td>\n",
       "      <td>0.628224</td>\n",
       "      <td>0.003228</td>\n",
       "    </tr>\n",
       "    <tr>\n",
       "      <th>2</th>\n",
       "      <td>2</td>\n",
       "      <td>C1093826151</td>\n",
       "      <td>4</td>\n",
       "      <td>M</td>\n",
       "      <td>28007</td>\n",
       "      <td>M348934600</td>\n",
       "      <td>28007</td>\n",
       "      <td>es_transportation</td>\n",
       "      <td>37210.0</td>\n",
       "      <td>0</td>\n",
       "      <td>15249.782295</td>\n",
       "      <td>13</td>\n",
       "      <td>18.0</td>\n",
       "      <td>2.31</td>\n",
       "      <td>6.575</td>\n",
       "      <td>4.0900</td>\n",
       "      <td>1.0</td>\n",
       "      <td>15.3</td>\n",
       "      <td>4.98</td>\n",
       "      <td>21960.217705</td>\n",
       "      <td>0.590170</td>\n",
       "      <td>0.008354</td>\n",
       "    </tr>\n",
       "    <tr>\n",
       "      <th>3</th>\n",
       "      <td>3</td>\n",
       "      <td>C1093826151</td>\n",
       "      <td>4</td>\n",
       "      <td>M</td>\n",
       "      <td>28007</td>\n",
       "      <td>M348934600</td>\n",
       "      <td>28007</td>\n",
       "      <td>es_transportation</td>\n",
       "      <td>31630.0</td>\n",
       "      <td>0</td>\n",
       "      <td>4101.539296</td>\n",
       "      <td>13</td>\n",
       "      <td>18.0</td>\n",
       "      <td>2.31</td>\n",
       "      <td>6.575</td>\n",
       "      <td>4.0900</td>\n",
       "      <td>0.0</td>\n",
       "      <td>15.3</td>\n",
       "      <td>4.98</td>\n",
       "      <td>27528.460704</td>\n",
       "      <td>0.870328</td>\n",
       "      <td>0.007101</td>\n",
       "    </tr>\n",
       "    <tr>\n",
       "      <th>4</th>\n",
       "      <td>4</td>\n",
       "      <td>C1093826151</td>\n",
       "      <td>4</td>\n",
       "      <td>M</td>\n",
       "      <td>28007</td>\n",
       "      <td>M348934600</td>\n",
       "      <td>28007</td>\n",
       "      <td>es_transportation</td>\n",
       "      <td>35860.0</td>\n",
       "      <td>0</td>\n",
       "      <td>14069.969512</td>\n",
       "      <td>13</td>\n",
       "      <td>18.0</td>\n",
       "      <td>2.31</td>\n",
       "      <td>6.575</td>\n",
       "      <td>4.0900</td>\n",
       "      <td>1.0</td>\n",
       "      <td>15.3</td>\n",
       "      <td>4.98</td>\n",
       "      <td>21790.030488</td>\n",
       "      <td>0.607642</td>\n",
       "      <td>0.008051</td>\n",
       "    </tr>\n",
       "    <tr>\n",
       "      <th>...</th>\n",
       "      <td>...</td>\n",
       "      <td>...</td>\n",
       "      <td>...</td>\n",
       "      <td>...</td>\n",
       "      <td>...</td>\n",
       "      <td>...</td>\n",
       "      <td>...</td>\n",
       "      <td>...</td>\n",
       "      <td>...</td>\n",
       "      <td>...</td>\n",
       "      <td>...</td>\n",
       "      <td>...</td>\n",
       "      <td>...</td>\n",
       "      <td>...</td>\n",
       "      <td>...</td>\n",
       "      <td>...</td>\n",
       "      <td>...</td>\n",
       "      <td>...</td>\n",
       "      <td>...</td>\n",
       "      <td>...</td>\n",
       "      <td>...</td>\n",
       "      <td>...</td>\n",
       "    </tr>\n",
       "    <tr>\n",
       "      <th>557121</th>\n",
       "      <td>101</td>\n",
       "      <td>C849065220</td>\n",
       "      <td>4</td>\n",
       "      <td>F</td>\n",
       "      <td>28007</td>\n",
       "      <td>M547558035</td>\n",
       "      <td>28007</td>\n",
       "      <td>es_fashion</td>\n",
       "      <td>44280.0</td>\n",
       "      <td>0</td>\n",
       "      <td>14435.818181</td>\n",
       "      <td>0</td>\n",
       "      <td>25.0</td>\n",
       "      <td>5.13</td>\n",
       "      <td>6.456</td>\n",
       "      <td>7.2255</td>\n",
       "      <td>8.0</td>\n",
       "      <td>19.7</td>\n",
       "      <td>6.73</td>\n",
       "      <td>29844.181819</td>\n",
       "      <td>0.673988</td>\n",
       "      <td>0.303912</td>\n",
       "    </tr>\n",
       "    <tr>\n",
       "      <th>557122</th>\n",
       "      <td>125</td>\n",
       "      <td>C849065220</td>\n",
       "      <td>4</td>\n",
       "      <td>F</td>\n",
       "      <td>28007</td>\n",
       "      <td>M980657600</td>\n",
       "      <td>28007</td>\n",
       "      <td>es_sportsandtoys</td>\n",
       "      <td>24700.0</td>\n",
       "      <td>0</td>\n",
       "      <td>11034.517175</td>\n",
       "      <td>0</td>\n",
       "      <td>0.0</td>\n",
       "      <td>5.13</td>\n",
       "      <td>6.456</td>\n",
       "      <td>7.2255</td>\n",
       "      <td>8.0</td>\n",
       "      <td>19.7</td>\n",
       "      <td>0.00</td>\n",
       "      <td>13665.482825</td>\n",
       "      <td>0.553258</td>\n",
       "      <td>0.169526</td>\n",
       "    </tr>\n",
       "    <tr>\n",
       "      <th>557123</th>\n",
       "      <td>140</td>\n",
       "      <td>C849065220</td>\n",
       "      <td>4</td>\n",
       "      <td>F</td>\n",
       "      <td>28007</td>\n",
       "      <td>M692898500</td>\n",
       "      <td>28007</td>\n",
       "      <td>es_health</td>\n",
       "      <td>44220.0</td>\n",
       "      <td>0</td>\n",
       "      <td>2231.904715</td>\n",
       "      <td>0</td>\n",
       "      <td>25.0</td>\n",
       "      <td>5.13</td>\n",
       "      <td>0.000</td>\n",
       "      <td>0.0000</td>\n",
       "      <td>8.0</td>\n",
       "      <td>19.7</td>\n",
       "      <td>0.00</td>\n",
       "      <td>41988.095285</td>\n",
       "      <td>0.949527</td>\n",
       "      <td>0.303500</td>\n",
       "    </tr>\n",
       "    <tr>\n",
       "      <th>557124</th>\n",
       "      <td>159</td>\n",
       "      <td>C849065220</td>\n",
       "      <td>4</td>\n",
       "      <td>U</td>\n",
       "      <td>28007</td>\n",
       "      <td>M1535107174</td>\n",
       "      <td>28007</td>\n",
       "      <td>es_wellnessandbeauty</td>\n",
       "      <td>32500.0</td>\n",
       "      <td>1</td>\n",
       "      <td>10707.487456</td>\n",
       "      <td>0</td>\n",
       "      <td>25.0</td>\n",
       "      <td>5.13</td>\n",
       "      <td>6.456</td>\n",
       "      <td>7.2255</td>\n",
       "      <td>8.0</td>\n",
       "      <td>19.7</td>\n",
       "      <td>6.73</td>\n",
       "      <td>21792.512544</td>\n",
       "      <td>0.670539</td>\n",
       "      <td>0.223061</td>\n",
       "    </tr>\n",
       "    <tr>\n",
       "      <th>557125</th>\n",
       "      <td>152</td>\n",
       "      <td>C1809646275</td>\n",
       "      <td>3</td>\n",
       "      <td>F</td>\n",
       "      <td>28007</td>\n",
       "      <td>M980657600</td>\n",
       "      <td>28007</td>\n",
       "      <td>es_sportsandtoys</td>\n",
       "      <td>64760.0</td>\n",
       "      <td>0</td>\n",
       "      <td>6484.634258</td>\n",
       "      <td>0</td>\n",
       "      <td>25.0</td>\n",
       "      <td>5.13</td>\n",
       "      <td>6.762</td>\n",
       "      <td>7.9809</td>\n",
       "      <td>8.0</td>\n",
       "      <td>19.7</td>\n",
       "      <td>9.50</td>\n",
       "      <td>58275.365742</td>\n",
       "      <td>0.899867</td>\n",
       "      <td>1.000000</td>\n",
       "    </tr>\n",
       "  </tbody>\n",
       "</table>\n",
       "<p>557126 rows × 22 columns</p>\n",
       "</div>"
      ],
      "text/plain": [
       "        step     customer age gender zipcodeOri     merchant zipMerchant  \\\n",
       "0          0  C1093826151   4      M      28007   M348934600       28007   \n",
       "1          1  C1093826151   4      U      28007   M855959430       28007   \n",
       "2          2  C1093826151   4      M      28007   M348934600       28007   \n",
       "3          3  C1093826151   4      M      28007   M348934600       28007   \n",
       "4          4  C1093826151   4      M      28007   M348934600       28007   \n",
       "...      ...          ...  ..    ...        ...          ...         ...   \n",
       "557121   101   C849065220   4      F      28007   M547558035       28007   \n",
       "557122   125   C849065220   4      F      28007   M980657600       28007   \n",
       "557123   140   C849065220   4      F      28007   M692898500       28007   \n",
       "557124   159   C849065220   4      U      28007  M1535107174       28007   \n",
       "557125   152  C1809646275   3      F      28007   M980657600       28007   \n",
       "\n",
       "                    category   amount  fraud          debt  term  \\\n",
       "0          es_transportation   4550.0      0    384.701865    13   \n",
       "1                   es_hyper  14380.0      0   5346.143350    13   \n",
       "2          es_transportation  37210.0      0  15249.782295    13   \n",
       "3          es_transportation  31630.0      0   4101.539296    13   \n",
       "4          es_transportation  35860.0      0  14069.969512    13   \n",
       "...                      ...      ...    ...           ...   ...   \n",
       "557121            es_fashion  44280.0      0  14435.818181     0   \n",
       "557122      es_sportsandtoys  24700.0      0  11034.517175     0   \n",
       "557123             es_health  44220.0      0   2231.904715     0   \n",
       "557124  es_wellnessandbeauty  32500.0      1  10707.487456     0   \n",
       "557125      es_sportsandtoys  64760.0      0   6484.634258     0   \n",
       "\n",
       "        enrichment_ZN  enrichment_INDUS  enrichment_RM  enrichment_DIS  \\\n",
       "0                18.0              2.31          6.575          4.0900   \n",
       "1                18.0              2.31          6.575          4.0900   \n",
       "2                18.0              2.31          6.575          4.0900   \n",
       "3                18.0              2.31          6.575          4.0900   \n",
       "4                18.0              2.31          6.575          4.0900   \n",
       "...               ...               ...            ...             ...   \n",
       "557121           25.0              5.13          6.456          7.2255   \n",
       "557122            0.0              5.13          6.456          7.2255   \n",
       "557123           25.0              5.13          0.000          0.0000   \n",
       "557124           25.0              5.13          6.456          7.2255   \n",
       "557125           25.0              5.13          6.762          7.9809   \n",
       "\n",
       "        enrichment_RAD  enrichment_PTRATIO  enrichment_LSTAT        pagado  \\\n",
       "0                  1.0                15.3              4.98   4165.298135   \n",
       "1                  1.0                15.3              4.98   9033.856650   \n",
       "2                  1.0                15.3              4.98  21960.217705   \n",
       "3                  0.0                15.3              4.98  27528.460704   \n",
       "4                  1.0                15.3              4.98  21790.030488   \n",
       "...                ...                 ...               ...           ...   \n",
       "557121             8.0                19.7              6.73  29844.181819   \n",
       "557122             8.0                19.7              0.00  13665.482825   \n",
       "557123             8.0                19.7              0.00  41988.095285   \n",
       "557124             8.0                19.7              6.73  21792.512544   \n",
       "557125             8.0                19.7              9.50  58275.365742   \n",
       "\n",
       "        Porcentaje pagado  Peso monto por customer  \n",
       "0                0.915450                 0.001021  \n",
       "1                0.628224                 0.003228  \n",
       "2                0.590170                 0.008354  \n",
       "3                0.870328                 0.007101  \n",
       "4                0.607642                 0.008051  \n",
       "...                   ...                      ...  \n",
       "557121           0.673988                 0.303912  \n",
       "557122           0.553258                 0.169526  \n",
       "557123           0.949527                 0.303500  \n",
       "557124           0.670539                 0.223061  \n",
       "557125           0.899867                 1.000000  \n",
       "\n",
       "[557126 rows x 22 columns]"
      ]
     },
     "execution_count": 42,
     "metadata": {},
     "output_type": "execute_result"
    }
   ],
   "source": [
    "df_reducido[\"Peso monto por customer\"]=np.nan\n",
    "for c in df_reducido[\"customer\"].unique():\n",
    "    aux = df_reducido.loc[df_reducido[\"customer\"]==c]\n",
    "    df_reducido.loc[df_reducido[\"customer\"]==c,\"Peso monto por customer\"]=aux[\"amount\"]/aux[\"amount\"].sum()\n",
    "df_reducido"
   ]
  },
  {
   "cell_type": "code",
   "execution_count": 43,
   "id": "ef3acff0",
   "metadata": {},
   "outputs": [],
   "source": [
    "df_reducido[\"Porcentaje no pagado\"]=1-df_reducido[\"Porcentaje pagado\"]"
   ]
  },
  {
   "cell_type": "code",
   "execution_count": 44,
   "id": "d57c2af4",
   "metadata": {},
   "outputs": [],
   "source": [
    "df_reducido=df_reducido.fillna(0)"
   ]
  },
  {
   "cell_type": "code",
   "execution_count": 45,
   "id": "cf6a6786",
   "metadata": {},
   "outputs": [
    {
     "data": {
      "text/html": [
       "<div>\n",
       "<style scoped>\n",
       "    .dataframe tbody tr th:only-of-type {\n",
       "        vertical-align: middle;\n",
       "    }\n",
       "\n",
       "    .dataframe tbody tr th {\n",
       "        vertical-align: top;\n",
       "    }\n",
       "\n",
       "    .dataframe thead th {\n",
       "        text-align: right;\n",
       "    }\n",
       "</style>\n",
       "<table border=\"1\" class=\"dataframe\">\n",
       "  <thead>\n",
       "    <tr style=\"text-align: right;\">\n",
       "      <th></th>\n",
       "      <th>step</th>\n",
       "      <th>customer</th>\n",
       "      <th>age</th>\n",
       "      <th>gender</th>\n",
       "      <th>zipcodeOri</th>\n",
       "      <th>merchant</th>\n",
       "      <th>zipMerchant</th>\n",
       "      <th>category</th>\n",
       "      <th>amount</th>\n",
       "      <th>fraud</th>\n",
       "      <th>debt</th>\n",
       "      <th>term</th>\n",
       "      <th>enrichment_ZN</th>\n",
       "      <th>enrichment_INDUS</th>\n",
       "      <th>enrichment_RM</th>\n",
       "      <th>enrichment_DIS</th>\n",
       "      <th>enrichment_RAD</th>\n",
       "      <th>enrichment_PTRATIO</th>\n",
       "      <th>enrichment_LSTAT</th>\n",
       "      <th>pagado</th>\n",
       "      <th>Porcentaje pagado</th>\n",
       "      <th>Peso monto por customer</th>\n",
       "      <th>Porcentaje no pagado</th>\n",
       "    </tr>\n",
       "  </thead>\n",
       "  <tbody>\n",
       "    <tr>\n",
       "      <th>0</th>\n",
       "      <td>0</td>\n",
       "      <td>C1093826151</td>\n",
       "      <td>4</td>\n",
       "      <td>M</td>\n",
       "      <td>28007</td>\n",
       "      <td>M348934600</td>\n",
       "      <td>28007</td>\n",
       "      <td>es_transportation</td>\n",
       "      <td>4550.0</td>\n",
       "      <td>0</td>\n",
       "      <td>384.701865</td>\n",
       "      <td>13</td>\n",
       "      <td>18.0</td>\n",
       "      <td>2.31</td>\n",
       "      <td>6.575</td>\n",
       "      <td>4.0900</td>\n",
       "      <td>1.0</td>\n",
       "      <td>15.3</td>\n",
       "      <td>4.98</td>\n",
       "      <td>4165.298135</td>\n",
       "      <td>0.915450</td>\n",
       "      <td>0.001021</td>\n",
       "      <td>0.084550</td>\n",
       "    </tr>\n",
       "    <tr>\n",
       "      <th>1</th>\n",
       "      <td>1</td>\n",
       "      <td>C1093826151</td>\n",
       "      <td>4</td>\n",
       "      <td>U</td>\n",
       "      <td>28007</td>\n",
       "      <td>M855959430</td>\n",
       "      <td>28007</td>\n",
       "      <td>es_hyper</td>\n",
       "      <td>14380.0</td>\n",
       "      <td>0</td>\n",
       "      <td>5346.143350</td>\n",
       "      <td>13</td>\n",
       "      <td>18.0</td>\n",
       "      <td>2.31</td>\n",
       "      <td>6.575</td>\n",
       "      <td>4.0900</td>\n",
       "      <td>1.0</td>\n",
       "      <td>15.3</td>\n",
       "      <td>4.98</td>\n",
       "      <td>9033.856650</td>\n",
       "      <td>0.628224</td>\n",
       "      <td>0.003228</td>\n",
       "      <td>0.371776</td>\n",
       "    </tr>\n",
       "    <tr>\n",
       "      <th>2</th>\n",
       "      <td>2</td>\n",
       "      <td>C1093826151</td>\n",
       "      <td>4</td>\n",
       "      <td>M</td>\n",
       "      <td>28007</td>\n",
       "      <td>M348934600</td>\n",
       "      <td>28007</td>\n",
       "      <td>es_transportation</td>\n",
       "      <td>37210.0</td>\n",
       "      <td>0</td>\n",
       "      <td>15249.782295</td>\n",
       "      <td>13</td>\n",
       "      <td>18.0</td>\n",
       "      <td>2.31</td>\n",
       "      <td>6.575</td>\n",
       "      <td>4.0900</td>\n",
       "      <td>1.0</td>\n",
       "      <td>15.3</td>\n",
       "      <td>4.98</td>\n",
       "      <td>21960.217705</td>\n",
       "      <td>0.590170</td>\n",
       "      <td>0.008354</td>\n",
       "      <td>0.409830</td>\n",
       "    </tr>\n",
       "    <tr>\n",
       "      <th>3</th>\n",
       "      <td>3</td>\n",
       "      <td>C1093826151</td>\n",
       "      <td>4</td>\n",
       "      <td>M</td>\n",
       "      <td>28007</td>\n",
       "      <td>M348934600</td>\n",
       "      <td>28007</td>\n",
       "      <td>es_transportation</td>\n",
       "      <td>31630.0</td>\n",
       "      <td>0</td>\n",
       "      <td>4101.539296</td>\n",
       "      <td>13</td>\n",
       "      <td>18.0</td>\n",
       "      <td>2.31</td>\n",
       "      <td>6.575</td>\n",
       "      <td>4.0900</td>\n",
       "      <td>0.0</td>\n",
       "      <td>15.3</td>\n",
       "      <td>4.98</td>\n",
       "      <td>27528.460704</td>\n",
       "      <td>0.870328</td>\n",
       "      <td>0.007101</td>\n",
       "      <td>0.129672</td>\n",
       "    </tr>\n",
       "    <tr>\n",
       "      <th>4</th>\n",
       "      <td>4</td>\n",
       "      <td>C1093826151</td>\n",
       "      <td>4</td>\n",
       "      <td>M</td>\n",
       "      <td>28007</td>\n",
       "      <td>M348934600</td>\n",
       "      <td>28007</td>\n",
       "      <td>es_transportation</td>\n",
       "      <td>35860.0</td>\n",
       "      <td>0</td>\n",
       "      <td>14069.969512</td>\n",
       "      <td>13</td>\n",
       "      <td>18.0</td>\n",
       "      <td>2.31</td>\n",
       "      <td>6.575</td>\n",
       "      <td>4.0900</td>\n",
       "      <td>1.0</td>\n",
       "      <td>15.3</td>\n",
       "      <td>4.98</td>\n",
       "      <td>21790.030488</td>\n",
       "      <td>0.607642</td>\n",
       "      <td>0.008051</td>\n",
       "      <td>0.392358</td>\n",
       "    </tr>\n",
       "    <tr>\n",
       "      <th>...</th>\n",
       "      <td>...</td>\n",
       "      <td>...</td>\n",
       "      <td>...</td>\n",
       "      <td>...</td>\n",
       "      <td>...</td>\n",
       "      <td>...</td>\n",
       "      <td>...</td>\n",
       "      <td>...</td>\n",
       "      <td>...</td>\n",
       "      <td>...</td>\n",
       "      <td>...</td>\n",
       "      <td>...</td>\n",
       "      <td>...</td>\n",
       "      <td>...</td>\n",
       "      <td>...</td>\n",
       "      <td>...</td>\n",
       "      <td>...</td>\n",
       "      <td>...</td>\n",
       "      <td>...</td>\n",
       "      <td>...</td>\n",
       "      <td>...</td>\n",
       "      <td>...</td>\n",
       "      <td>...</td>\n",
       "    </tr>\n",
       "    <tr>\n",
       "      <th>557121</th>\n",
       "      <td>101</td>\n",
       "      <td>C849065220</td>\n",
       "      <td>4</td>\n",
       "      <td>F</td>\n",
       "      <td>28007</td>\n",
       "      <td>M547558035</td>\n",
       "      <td>28007</td>\n",
       "      <td>es_fashion</td>\n",
       "      <td>44280.0</td>\n",
       "      <td>0</td>\n",
       "      <td>14435.818181</td>\n",
       "      <td>0</td>\n",
       "      <td>25.0</td>\n",
       "      <td>5.13</td>\n",
       "      <td>6.456</td>\n",
       "      <td>7.2255</td>\n",
       "      <td>8.0</td>\n",
       "      <td>19.7</td>\n",
       "      <td>6.73</td>\n",
       "      <td>29844.181819</td>\n",
       "      <td>0.673988</td>\n",
       "      <td>0.303912</td>\n",
       "      <td>0.326012</td>\n",
       "    </tr>\n",
       "    <tr>\n",
       "      <th>557122</th>\n",
       "      <td>125</td>\n",
       "      <td>C849065220</td>\n",
       "      <td>4</td>\n",
       "      <td>F</td>\n",
       "      <td>28007</td>\n",
       "      <td>M980657600</td>\n",
       "      <td>28007</td>\n",
       "      <td>es_sportsandtoys</td>\n",
       "      <td>24700.0</td>\n",
       "      <td>0</td>\n",
       "      <td>11034.517175</td>\n",
       "      <td>0</td>\n",
       "      <td>0.0</td>\n",
       "      <td>5.13</td>\n",
       "      <td>6.456</td>\n",
       "      <td>7.2255</td>\n",
       "      <td>8.0</td>\n",
       "      <td>19.7</td>\n",
       "      <td>0.00</td>\n",
       "      <td>13665.482825</td>\n",
       "      <td>0.553258</td>\n",
       "      <td>0.169526</td>\n",
       "      <td>0.446742</td>\n",
       "    </tr>\n",
       "    <tr>\n",
       "      <th>557123</th>\n",
       "      <td>140</td>\n",
       "      <td>C849065220</td>\n",
       "      <td>4</td>\n",
       "      <td>F</td>\n",
       "      <td>28007</td>\n",
       "      <td>M692898500</td>\n",
       "      <td>28007</td>\n",
       "      <td>es_health</td>\n",
       "      <td>44220.0</td>\n",
       "      <td>0</td>\n",
       "      <td>2231.904715</td>\n",
       "      <td>0</td>\n",
       "      <td>25.0</td>\n",
       "      <td>5.13</td>\n",
       "      <td>0.000</td>\n",
       "      <td>0.0000</td>\n",
       "      <td>8.0</td>\n",
       "      <td>19.7</td>\n",
       "      <td>0.00</td>\n",
       "      <td>41988.095285</td>\n",
       "      <td>0.949527</td>\n",
       "      <td>0.303500</td>\n",
       "      <td>0.050473</td>\n",
       "    </tr>\n",
       "    <tr>\n",
       "      <th>557124</th>\n",
       "      <td>159</td>\n",
       "      <td>C849065220</td>\n",
       "      <td>4</td>\n",
       "      <td>U</td>\n",
       "      <td>28007</td>\n",
       "      <td>M1535107174</td>\n",
       "      <td>28007</td>\n",
       "      <td>es_wellnessandbeauty</td>\n",
       "      <td>32500.0</td>\n",
       "      <td>1</td>\n",
       "      <td>10707.487456</td>\n",
       "      <td>0</td>\n",
       "      <td>25.0</td>\n",
       "      <td>5.13</td>\n",
       "      <td>6.456</td>\n",
       "      <td>7.2255</td>\n",
       "      <td>8.0</td>\n",
       "      <td>19.7</td>\n",
       "      <td>6.73</td>\n",
       "      <td>21792.512544</td>\n",
       "      <td>0.670539</td>\n",
       "      <td>0.223061</td>\n",
       "      <td>0.329461</td>\n",
       "    </tr>\n",
       "    <tr>\n",
       "      <th>557125</th>\n",
       "      <td>152</td>\n",
       "      <td>C1809646275</td>\n",
       "      <td>3</td>\n",
       "      <td>F</td>\n",
       "      <td>28007</td>\n",
       "      <td>M980657600</td>\n",
       "      <td>28007</td>\n",
       "      <td>es_sportsandtoys</td>\n",
       "      <td>64760.0</td>\n",
       "      <td>0</td>\n",
       "      <td>6484.634258</td>\n",
       "      <td>0</td>\n",
       "      <td>25.0</td>\n",
       "      <td>5.13</td>\n",
       "      <td>6.762</td>\n",
       "      <td>7.9809</td>\n",
       "      <td>8.0</td>\n",
       "      <td>19.7</td>\n",
       "      <td>9.50</td>\n",
       "      <td>58275.365742</td>\n",
       "      <td>0.899867</td>\n",
       "      <td>1.000000</td>\n",
       "      <td>0.100133</td>\n",
       "    </tr>\n",
       "  </tbody>\n",
       "</table>\n",
       "<p>557126 rows × 23 columns</p>\n",
       "</div>"
      ],
      "text/plain": [
       "        step     customer age gender zipcodeOri     merchant zipMerchant  \\\n",
       "0          0  C1093826151   4      M      28007   M348934600       28007   \n",
       "1          1  C1093826151   4      U      28007   M855959430       28007   \n",
       "2          2  C1093826151   4      M      28007   M348934600       28007   \n",
       "3          3  C1093826151   4      M      28007   M348934600       28007   \n",
       "4          4  C1093826151   4      M      28007   M348934600       28007   \n",
       "...      ...          ...  ..    ...        ...          ...         ...   \n",
       "557121   101   C849065220   4      F      28007   M547558035       28007   \n",
       "557122   125   C849065220   4      F      28007   M980657600       28007   \n",
       "557123   140   C849065220   4      F      28007   M692898500       28007   \n",
       "557124   159   C849065220   4      U      28007  M1535107174       28007   \n",
       "557125   152  C1809646275   3      F      28007   M980657600       28007   \n",
       "\n",
       "                    category   amount  fraud          debt  term  \\\n",
       "0          es_transportation   4550.0      0    384.701865    13   \n",
       "1                   es_hyper  14380.0      0   5346.143350    13   \n",
       "2          es_transportation  37210.0      0  15249.782295    13   \n",
       "3          es_transportation  31630.0      0   4101.539296    13   \n",
       "4          es_transportation  35860.0      0  14069.969512    13   \n",
       "...                      ...      ...    ...           ...   ...   \n",
       "557121            es_fashion  44280.0      0  14435.818181     0   \n",
       "557122      es_sportsandtoys  24700.0      0  11034.517175     0   \n",
       "557123             es_health  44220.0      0   2231.904715     0   \n",
       "557124  es_wellnessandbeauty  32500.0      1  10707.487456     0   \n",
       "557125      es_sportsandtoys  64760.0      0   6484.634258     0   \n",
       "\n",
       "        enrichment_ZN  enrichment_INDUS  enrichment_RM  enrichment_DIS  \\\n",
       "0                18.0              2.31          6.575          4.0900   \n",
       "1                18.0              2.31          6.575          4.0900   \n",
       "2                18.0              2.31          6.575          4.0900   \n",
       "3                18.0              2.31          6.575          4.0900   \n",
       "4                18.0              2.31          6.575          4.0900   \n",
       "...               ...               ...            ...             ...   \n",
       "557121           25.0              5.13          6.456          7.2255   \n",
       "557122            0.0              5.13          6.456          7.2255   \n",
       "557123           25.0              5.13          0.000          0.0000   \n",
       "557124           25.0              5.13          6.456          7.2255   \n",
       "557125           25.0              5.13          6.762          7.9809   \n",
       "\n",
       "        enrichment_RAD  enrichment_PTRATIO  enrichment_LSTAT        pagado  \\\n",
       "0                  1.0                15.3              4.98   4165.298135   \n",
       "1                  1.0                15.3              4.98   9033.856650   \n",
       "2                  1.0                15.3              4.98  21960.217705   \n",
       "3                  0.0                15.3              4.98  27528.460704   \n",
       "4                  1.0                15.3              4.98  21790.030488   \n",
       "...                ...                 ...               ...           ...   \n",
       "557121             8.0                19.7              6.73  29844.181819   \n",
       "557122             8.0                19.7              0.00  13665.482825   \n",
       "557123             8.0                19.7              0.00  41988.095285   \n",
       "557124             8.0                19.7              6.73  21792.512544   \n",
       "557125             8.0                19.7              9.50  58275.365742   \n",
       "\n",
       "        Porcentaje pagado  Peso monto por customer  Porcentaje no pagado  \n",
       "0                0.915450                 0.001021              0.084550  \n",
       "1                0.628224                 0.003228              0.371776  \n",
       "2                0.590170                 0.008354              0.409830  \n",
       "3                0.870328                 0.007101              0.129672  \n",
       "4                0.607642                 0.008051              0.392358  \n",
       "...                   ...                      ...                   ...  \n",
       "557121           0.673988                 0.303912              0.326012  \n",
       "557122           0.553258                 0.169526              0.446742  \n",
       "557123           0.949527                 0.303500              0.050473  \n",
       "557124           0.670539                 0.223061              0.329461  \n",
       "557125           0.899867                 1.000000              0.100133  \n",
       "\n",
       "[557126 rows x 23 columns]"
      ]
     },
     "execution_count": 45,
     "metadata": {},
     "output_type": "execute_result"
    }
   ],
   "source": [
    "df_reducido"
   ]
  },
  {
   "cell_type": "markdown",
   "id": "b1c2e155",
   "metadata": {},
   "source": [
    "# Reducción de dimensiones"
   ]
  },
  {
   "cell_type": "code",
   "execution_count": 46,
   "id": "718dac56",
   "metadata": {},
   "outputs": [],
   "source": [
    "def iv_woe(data, target, bins=20, show_woe=False):\n",
    "    \n",
    "    #Empty Dataframe\n",
    "    newDF,woeDF = pd.DataFrame(), pd.DataFrame()\n",
    "    \n",
    "    #Extract Column Names\n",
    "    cols = data.columns\n",
    "    \n",
    "    #Run WOE and IV on all the independent variables\n",
    "    for ivars in cols[~cols.isin([target])]:\n",
    "        if (data[ivars].dtype.kind in 'bifc') and (len(np.unique(data[ivars]))>10):\n",
    "            binned_x = pd.qcut(data[ivars], bins,  duplicates='drop')\n",
    "            d0 = pd.DataFrame({'x': binned_x, 'y': data[target]})\n",
    "        else:\n",
    "            d0 = pd.DataFrame({'x': data[ivars], 'y': data[target]})\n",
    "        d = d0.groupby(\"x\", as_index=False).agg({\"y\": [\"count\", \"sum\"]})\n",
    "        d.columns = ['Cutoff', 'N', 'Events']\n",
    "        d['% of Events'] = np.maximum(d['Events'], 0.5) / d['Events'].sum()\n",
    "        d['Non-Events'] = d['N'] - d['Events']\n",
    "        d['% of Non-Events'] = np.maximum(d['Non-Events'], 0.5) / d['Non-Events'].sum()\n",
    "        d['WoE'] = np.log(d['% of Events']/d['% of Non-Events'])\n",
    "        d['IV'] = d['WoE'] * (d['% of Events'] - d['% of Non-Events'])\n",
    "        d.insert(loc=0, column='Variable', value=ivars)\n",
    "        print(\"Information value of \" + ivars + \" is \" + str(round(d['IV'].sum(),6)))\n",
    "        temp =pd.DataFrame({\"Variable\" : [ivars], \"IV\" : [d['IV'].sum()]}, columns = [\"Variable\", \"IV\"])\n",
    "        newDF=pd.concat([newDF,temp], axis=0)\n",
    "        woeDF=pd.concat([woeDF,d], axis=0)\n",
    "\n",
    "        #Show WOE Table\n",
    "        if show_woe == True:\n",
    "            print(d)\n",
    "    return newDF, woeDF"
   ]
  },
  {
   "cell_type": "code",
   "execution_count": 47,
   "id": "112c9c84",
   "metadata": {},
   "outputs": [
    {
     "data": {
      "text/plain": [
       "step                         int64\n",
       "customer                    object\n",
       "age                         object\n",
       "gender                      object\n",
       "zipcodeOri                  object\n",
       "merchant                    object\n",
       "zipMerchant                 object\n",
       "category                    object\n",
       "amount                     float64\n",
       "fraud                        int64\n",
       "debt                       float64\n",
       "term                         int64\n",
       "enrichment_ZN              float64\n",
       "enrichment_INDUS           float64\n",
       "enrichment_RM              float64\n",
       "enrichment_DIS             float64\n",
       "enrichment_RAD             float64\n",
       "enrichment_PTRATIO         float64\n",
       "enrichment_LSTAT           float64\n",
       "pagado                     float64\n",
       "Porcentaje pagado          float64\n",
       "Peso monto por customer    float64\n",
       "Porcentaje no pagado       float64\n",
       "dtype: object"
      ]
     },
     "execution_count": 47,
     "metadata": {},
     "output_type": "execute_result"
    }
   ],
   "source": [
    "#Separación de variables continuas y discretas\n",
    "df_reducido.dtypes"
   ]
  },
  {
   "cell_type": "code",
   "execution_count": 48,
   "id": "7f8d401b",
   "metadata": {},
   "outputs": [
    {
     "data": {
      "text/plain": [
       "['amount',\n",
       " 'debt',\n",
       " 'enrichment_ZN',\n",
       " 'enrichment_INDUS',\n",
       " 'enrichment_RM',\n",
       " 'enrichment_DIS',\n",
       " 'enrichment_RAD',\n",
       " 'enrichment_PTRATIO',\n",
       " 'enrichment_LSTAT',\n",
       " 'pagado',\n",
       " 'Porcentaje pagado',\n",
       " 'Peso monto por customer',\n",
       " 'Porcentaje no pagado']"
      ]
     },
     "execution_count": 48,
     "metadata": {},
     "output_type": "execute_result"
    }
   ],
   "source": [
    "no_incluir=[\"step\",\"customer\",\"zipcodeOri\",\"merchant\",\"zipMerchant\"]\n",
    "vdisc=[\"age\",\"gender\",\"category\",\"term\"]\n",
    "target=[\"fraud\"]\n",
    "v_cont=[c for c in df_reducido.columns if c not in no_incluir+vdisc+target]\n",
    "v_cont"
   ]
  },
  {
   "cell_type": "code",
   "execution_count": 49,
   "id": "6ec86683",
   "metadata": {},
   "outputs": [
    {
     "name": "stdout",
     "output_type": "stream",
     "text": [
      "Information value of age is 0.017148\n",
      "Information value of gender is 0.054638\n",
      "Information value of category is 10.107998\n",
      "Information value of term is 1.504732\n"
     ]
    }
   ],
   "source": [
    "is_canceled_woe = iv_woe(df_reducido[vdisc+target], 'fraud', bins=15, show_woe=False)"
   ]
  },
  {
   "cell_type": "code",
   "execution_count": 50,
   "id": "c31197d4",
   "metadata": {},
   "outputs": [
    {
     "data": {
      "text/html": [
       "<div>\n",
       "<style scoped>\n",
       "    .dataframe tbody tr th:only-of-type {\n",
       "        vertical-align: middle;\n",
       "    }\n",
       "\n",
       "    .dataframe tbody tr th {\n",
       "        vertical-align: top;\n",
       "    }\n",
       "\n",
       "    .dataframe thead th {\n",
       "        text-align: right;\n",
       "    }\n",
       "</style>\n",
       "<table border=\"1\" class=\"dataframe\">\n",
       "  <thead>\n",
       "    <tr style=\"text-align: right;\">\n",
       "      <th></th>\n",
       "      <th>Variable</th>\n",
       "      <th>IV</th>\n",
       "      <th>Pronostico</th>\n",
       "    </tr>\n",
       "  </thead>\n",
       "  <tbody>\n",
       "    <tr>\n",
       "      <th>0</th>\n",
       "      <td>category</td>\n",
       "      <td>10.107998</td>\n",
       "      <td>NaN</td>\n",
       "    </tr>\n",
       "    <tr>\n",
       "      <th>0</th>\n",
       "      <td>term</td>\n",
       "      <td>1.504732</td>\n",
       "      <td>NaN</td>\n",
       "    </tr>\n",
       "    <tr>\n",
       "      <th>0</th>\n",
       "      <td>gender</td>\n",
       "      <td>0.054638</td>\n",
       "      <td>NaN</td>\n",
       "    </tr>\n",
       "    <tr>\n",
       "      <th>0</th>\n",
       "      <td>age</td>\n",
       "      <td>0.017148</td>\n",
       "      <td>NaN</td>\n",
       "    </tr>\n",
       "  </tbody>\n",
       "</table>\n",
       "</div>"
      ],
      "text/plain": [
       "   Variable         IV  Pronostico\n",
       "0  category  10.107998         NaN\n",
       "0      term   1.504732         NaN\n",
       "0    gender   0.054638         NaN\n",
       "0       age   0.017148         NaN"
      ]
     },
     "execution_count": 50,
     "metadata": {},
     "output_type": "execute_result"
    }
   ],
   "source": [
    "IV=is_canceled_woe[0].sort_values(by=\"IV\",ascending=False)\n",
    "IV[\"Pronostico\"]=np.nan\n",
    "IV"
   ]
  },
  {
   "cell_type": "code",
   "execution_count": 51,
   "id": "eb14db2a",
   "metadata": {},
   "outputs": [
    {
     "data": {
      "text/html": [
       "<div>\n",
       "<style scoped>\n",
       "    .dataframe tbody tr th:only-of-type {\n",
       "        vertical-align: middle;\n",
       "    }\n",
       "\n",
       "    .dataframe tbody tr th {\n",
       "        vertical-align: top;\n",
       "    }\n",
       "\n",
       "    .dataframe thead th {\n",
       "        text-align: right;\n",
       "    }\n",
       "</style>\n",
       "<table border=\"1\" class=\"dataframe\">\n",
       "  <thead>\n",
       "    <tr style=\"text-align: right;\">\n",
       "      <th></th>\n",
       "      <th>Variable</th>\n",
       "      <th>IV</th>\n",
       "      <th>Pronostico</th>\n",
       "    </tr>\n",
       "  </thead>\n",
       "  <tbody>\n",
       "    <tr>\n",
       "      <th>0</th>\n",
       "      <td>category</td>\n",
       "      <td>10.107998</td>\n",
       "      <td>Sobrepredictiva</td>\n",
       "    </tr>\n",
       "    <tr>\n",
       "      <th>0</th>\n",
       "      <td>term</td>\n",
       "      <td>1.504732</td>\n",
       "      <td>Sobrepredictiva</td>\n",
       "    </tr>\n",
       "    <tr>\n",
       "      <th>0</th>\n",
       "      <td>gender</td>\n",
       "      <td>0.054638</td>\n",
       "      <td>Débil</td>\n",
       "    </tr>\n",
       "    <tr>\n",
       "      <th>0</th>\n",
       "      <td>age</td>\n",
       "      <td>0.017148</td>\n",
       "      <td>No es útil para predecir</td>\n",
       "    </tr>\n",
       "  </tbody>\n",
       "</table>\n",
       "</div>"
      ],
      "text/plain": [
       "   Variable         IV                Pronostico\n",
       "0  category  10.107998           Sobrepredictiva\n",
       "0      term   1.504732           Sobrepredictiva\n",
       "0    gender   0.054638                     Débil\n",
       "0       age   0.017148  No es útil para predecir"
      ]
     },
     "execution_count": 51,
     "metadata": {},
     "output_type": "execute_result"
    }
   ],
   "source": [
    "IV.loc[IV[\"IV\"]<0.02,\"Pronostico\"]=\"No es útil para predecir\"\n",
    "IV.loc[(IV[\"IV\"]>=0.02) & (IV[\"IV\"]<.1),\"Pronostico\"]=\"Débil\"\n",
    "IV.loc[(IV[\"IV\"]>=.1)&(IV[\"IV\"]<.3),\"Pronostico\"]=\"Medio\"\n",
    "IV.loc[(IV[\"IV\"]>=.3)&(IV[\"IV\"]<.5),\"Pronostico\"]=\"Fuerte\"\n",
    "IV.loc[(IV[\"IV\"]>=.5),\"Pronostico\"]=\"Sobrepredictiva\"\n",
    "IV"
   ]
  },
  {
   "cell_type": "code",
   "execution_count": 52,
   "id": "a13a8579",
   "metadata": {},
   "outputs": [
    {
     "data": {
      "application/vnd.plotly.v1+json": {
       "config": {
        "linkText": "Export to plot.ly",
        "plotlyServerURL": "https://plot.ly",
        "showLink": true
       },
       "data": [
        {
         "colorscale": [
          [
           0,
           "rgb(255,247,236)"
          ],
          [
           0.125,
           "rgb(254,232,200)"
          ],
          [
           0.25,
           "rgb(253,212,158)"
          ],
          [
           0.375,
           "rgb(253,187,132)"
          ],
          [
           0.5,
           "rgb(252,141,89)"
          ],
          [
           0.625,
           "rgb(239,101,72)"
          ],
          [
           0.75,
           "rgb(215,48,31)"
          ],
          [
           0.875,
           "rgb(179,0,0)"
          ],
          [
           1,
           "rgb(127,0,0)"
          ]
         ],
         "type": "heatmap",
         "x": [
          "fraud",
          "amount",
          "debt",
          "enrichment_ZN",
          "enrichment_INDUS",
          "enrichment_RM",
          "enrichment_DIS",
          "enrichment_RAD",
          "enrichment_PTRATIO",
          "enrichment_LSTAT",
          "pagado",
          "Porcentaje pagado",
          "Peso monto por customer",
          "Porcentaje no pagado"
         ],
         "y": [
          "fraud",
          "amount",
          "debt",
          "enrichment_ZN",
          "enrichment_INDUS",
          "enrichment_RM",
          "enrichment_DIS",
          "enrichment_RAD",
          "enrichment_PTRATIO",
          "enrichment_LSTAT",
          "pagado",
          "Porcentaje pagado",
          "Peso monto por customer",
          "Porcentaje no pagado"
         ],
         "z": [
          [
           1,
           0.017012414439289303,
           0.011730327260427565,
           0.0028883260350447046,
           -0.003109355754688486,
           -0.0021639954064113795,
           0.004624947176865224,
           -0.0016563252857382871,
           -0.0010658738403477104,
           0.0010813592549787513,
           0.016578721919900247,
           0.0008987212617908375,
           0.037238866985930395,
           -0.0008861721582233362
          ],
          [
           0.017012414439289303,
           1,
           0.7901927674232216,
           8.074066631496925e-05,
           0.001057907356883312,
           0.0008175081859563969,
           -0.0004895682100172434,
           0.002391705729906918,
           0.0006347271681862482,
           -0.0017328683381369035,
           0.9681627309005558,
           -0.0018586719983463714,
           0.9509959807380616,
           0.0024186366814827167
          ],
          [
           0.011730327260427565,
           0.7901927674232216,
           1,
           -5.394401009138853e-05,
           0.00020936788364725307,
           0.0006912018439856825,
           -0.0006841104585016042,
           0.0032917400153586887,
           0.0007396533727166939,
           -0.001086991041705129,
           0.6305079214293734,
           -0.5522470157757421,
           0.7560196256361703,
           0.5528069804500215
          ],
          [
           0.0028883260350447046,
           8.074066631496925e-05,
           -5.394401009138853e-05,
           1,
           -0.4856046400514144,
           0.27106249865690174,
           0.5178475222584287,
           -0.20162454315077513,
           -0.3398289996858893,
           -0.3672594234857917,
           -0.00010276335910194599,
           -0.00039614258040484,
           -0.002745741339135899,
           0.00030789885621086997
          ],
          [
           -0.003109355754688486,
           0.001057907356883312,
           0.00020936788364725307,
           -0.4856046400514144,
           1,
           -0.27017452886419996,
           -0.5519895879672746,
           0.29022443858057867,
           0.27828617856264487,
           0.41595945060153183,
           0.0010686230688571237,
           0.000731953239896762,
           1.742220858466375e-05,
           -0.0006910922306027317
          ],
          [
           -0.0021639954064113795,
           0.0008175081859563969,
           0.0006912018439856825,
           0.27106249865690174,
           -0.27017452886419996,
           1,
           0.1879315190835638,
           -0.06165119051227177,
           -0.20186924292252173,
           -0.4218799325976046,
           0.0008350697983454122,
           -0.00023285007328434202,
           -0.002189395825061818,
           0.00016312154609608677
          ],
          [
           0.004624947176865224,
           -0.0004895682100172434,
           -0.0006841104585016042,
           0.5178475222584287,
           -0.5519895879672746,
           0.1879315190835638,
           1,
           -0.354982783335025,
           -0.22450866051760024,
           -0.40820228930692337,
           -0.00017434586634155496,
           0.000616168383853463,
           0.0027204535129554466,
           -0.0006138484829941382
          ],
          [
           -0.0016563252857382871,
           0.002391705729906918,
           0.0032917400153586887,
           -0.20162454315077513,
           0.29022443858057867,
           -0.06165119051227177,
           -0.354982783335025,
           1,
           0.19233822525182745,
           0.2509044826491093,
           0.0018606442374816093,
           -0.0022061994754512784,
           0.001677421404541051,
           0.0022538418621535846
          ],
          [
           -0.0010658738403477104,
           0.0006347271681862482,
           0.0007396533727166939,
           -0.3398289996858893,
           0.27828617856264487,
           -0.20186924292252173,
           -0.22450866051760024,
           0.19233822525182745,
           1,
           0.3029203021419325,
           0.00044431535232990866,
           -0.0010363591675836047,
           0.003922557069628484,
           0.00099593925331799
          ],
          [
           0.0010813592549787513,
           -0.0017328683381369035,
           -0.001086991041705129,
           -0.3672594234857917,
           0.41595945060153183,
           -0.4218799325976046,
           -0.40820228930692337,
           0.2509044826491093,
           0.3029203021419325,
           1,
           -0.0017895236590878372,
           0.00028355790255933823,
           0.0006108896269137488,
           -0.00024509823275766716
          ],
          [
           0.016578721919900247,
           0.9681627309005558,
           0.6305079214293734,
           -0.00010276335910194599,
           0.0010686230688571237,
           0.0008350697983454122,
           -0.00017434586634155496,
           0.0018606442374816093,
           0.00044431535232990866,
           -0.0017895236590878372,
           1,
           0.22325520408290675,
           0.92186054808499,
           -0.22269523940862634
          ],
          [
           0.0008987212617908375,
           -0.0018586719983463714,
           -0.5522470157757421,
           -0.00039614258040484,
           0.000731953239896762,
           -0.00023285007328434202,
           0.000616168383853463,
           -0.0022061994754512784,
           -0.0010363591675836047,
           0.00028355790255933823,
           0.22325520408290675,
           1,
           -0.0014977614332026994,
           -0.9994400353257213
          ],
          [
           0.037238866985930395,
           0.9509959807380616,
           0.7560196256361703,
           -0.002745741339135899,
           1.742220858466375e-05,
           -0.002189395825061818,
           0.0027204535129554466,
           0.001677421404541051,
           0.003922557069628484,
           0.0006108896269137488,
           0.92186054808499,
           -0.0014977614332026994,
           1,
           0.00205772610748231
          ],
          [
           -0.0008861721582233362,
           0.0024186366814827167,
           0.5528069804500215,
           0.00030789885621086997,
           -0.0006910922306027317,
           0.00016312154609608677,
           -0.0006138484829941382,
           0.0022538418621535846,
           0.00099593925331799,
           -0.00024509823275766716,
           -0.22269523940862634,
           -0.9994400353257213,
           0.00205772610748231,
           1
          ]
         ],
         "zmax": 1,
         "zmin": -0.9994400353257213
        }
       ],
       "layout": {
        "legend": {
         "bgcolor": "#F5F6F9",
         "font": {
          "color": "#4D5663"
         }
        },
        "paper_bgcolor": "#F5F6F9",
        "plot_bgcolor": "#F5F6F9",
        "template": {
         "data": {
          "bar": [
           {
            "error_x": {
             "color": "#2a3f5f"
            },
            "error_y": {
             "color": "#2a3f5f"
            },
            "marker": {
             "line": {
              "color": "#E5ECF6",
              "width": 0.5
             },
             "pattern": {
              "fillmode": "overlay",
              "size": 10,
              "solidity": 0.2
             }
            },
            "type": "bar"
           }
          ],
          "barpolar": [
           {
            "marker": {
             "line": {
              "color": "#E5ECF6",
              "width": 0.5
             },
             "pattern": {
              "fillmode": "overlay",
              "size": 10,
              "solidity": 0.2
             }
            },
            "type": "barpolar"
           }
          ],
          "carpet": [
           {
            "aaxis": {
             "endlinecolor": "#2a3f5f",
             "gridcolor": "white",
             "linecolor": "white",
             "minorgridcolor": "white",
             "startlinecolor": "#2a3f5f"
            },
            "baxis": {
             "endlinecolor": "#2a3f5f",
             "gridcolor": "white",
             "linecolor": "white",
             "minorgridcolor": "white",
             "startlinecolor": "#2a3f5f"
            },
            "type": "carpet"
           }
          ],
          "choropleth": [
           {
            "colorbar": {
             "outlinewidth": 0,
             "ticks": ""
            },
            "type": "choropleth"
           }
          ],
          "contour": [
           {
            "colorbar": {
             "outlinewidth": 0,
             "ticks": ""
            },
            "colorscale": [
             [
              0,
              "#0d0887"
             ],
             [
              0.1111111111111111,
              "#46039f"
             ],
             [
              0.2222222222222222,
              "#7201a8"
             ],
             [
              0.3333333333333333,
              "#9c179e"
             ],
             [
              0.4444444444444444,
              "#bd3786"
             ],
             [
              0.5555555555555556,
              "#d8576b"
             ],
             [
              0.6666666666666666,
              "#ed7953"
             ],
             [
              0.7777777777777778,
              "#fb9f3a"
             ],
             [
              0.8888888888888888,
              "#fdca26"
             ],
             [
              1,
              "#f0f921"
             ]
            ],
            "type": "contour"
           }
          ],
          "contourcarpet": [
           {
            "colorbar": {
             "outlinewidth": 0,
             "ticks": ""
            },
            "type": "contourcarpet"
           }
          ],
          "heatmap": [
           {
            "colorbar": {
             "outlinewidth": 0,
             "ticks": ""
            },
            "colorscale": [
             [
              0,
              "#0d0887"
             ],
             [
              0.1111111111111111,
              "#46039f"
             ],
             [
              0.2222222222222222,
              "#7201a8"
             ],
             [
              0.3333333333333333,
              "#9c179e"
             ],
             [
              0.4444444444444444,
              "#bd3786"
             ],
             [
              0.5555555555555556,
              "#d8576b"
             ],
             [
              0.6666666666666666,
              "#ed7953"
             ],
             [
              0.7777777777777778,
              "#fb9f3a"
             ],
             [
              0.8888888888888888,
              "#fdca26"
             ],
             [
              1,
              "#f0f921"
             ]
            ],
            "type": "heatmap"
           }
          ],
          "heatmapgl": [
           {
            "colorbar": {
             "outlinewidth": 0,
             "ticks": ""
            },
            "colorscale": [
             [
              0,
              "#0d0887"
             ],
             [
              0.1111111111111111,
              "#46039f"
             ],
             [
              0.2222222222222222,
              "#7201a8"
             ],
             [
              0.3333333333333333,
              "#9c179e"
             ],
             [
              0.4444444444444444,
              "#bd3786"
             ],
             [
              0.5555555555555556,
              "#d8576b"
             ],
             [
              0.6666666666666666,
              "#ed7953"
             ],
             [
              0.7777777777777778,
              "#fb9f3a"
             ],
             [
              0.8888888888888888,
              "#fdca26"
             ],
             [
              1,
              "#f0f921"
             ]
            ],
            "type": "heatmapgl"
           }
          ],
          "histogram": [
           {
            "marker": {
             "pattern": {
              "fillmode": "overlay",
              "size": 10,
              "solidity": 0.2
             }
            },
            "type": "histogram"
           }
          ],
          "histogram2d": [
           {
            "colorbar": {
             "outlinewidth": 0,
             "ticks": ""
            },
            "colorscale": [
             [
              0,
              "#0d0887"
             ],
             [
              0.1111111111111111,
              "#46039f"
             ],
             [
              0.2222222222222222,
              "#7201a8"
             ],
             [
              0.3333333333333333,
              "#9c179e"
             ],
             [
              0.4444444444444444,
              "#bd3786"
             ],
             [
              0.5555555555555556,
              "#d8576b"
             ],
             [
              0.6666666666666666,
              "#ed7953"
             ],
             [
              0.7777777777777778,
              "#fb9f3a"
             ],
             [
              0.8888888888888888,
              "#fdca26"
             ],
             [
              1,
              "#f0f921"
             ]
            ],
            "type": "histogram2d"
           }
          ],
          "histogram2dcontour": [
           {
            "colorbar": {
             "outlinewidth": 0,
             "ticks": ""
            },
            "colorscale": [
             [
              0,
              "#0d0887"
             ],
             [
              0.1111111111111111,
              "#46039f"
             ],
             [
              0.2222222222222222,
              "#7201a8"
             ],
             [
              0.3333333333333333,
              "#9c179e"
             ],
             [
              0.4444444444444444,
              "#bd3786"
             ],
             [
              0.5555555555555556,
              "#d8576b"
             ],
             [
              0.6666666666666666,
              "#ed7953"
             ],
             [
              0.7777777777777778,
              "#fb9f3a"
             ],
             [
              0.8888888888888888,
              "#fdca26"
             ],
             [
              1,
              "#f0f921"
             ]
            ],
            "type": "histogram2dcontour"
           }
          ],
          "mesh3d": [
           {
            "colorbar": {
             "outlinewidth": 0,
             "ticks": ""
            },
            "type": "mesh3d"
           }
          ],
          "parcoords": [
           {
            "line": {
             "colorbar": {
              "outlinewidth": 0,
              "ticks": ""
             }
            },
            "type": "parcoords"
           }
          ],
          "pie": [
           {
            "automargin": true,
            "type": "pie"
           }
          ],
          "scatter": [
           {
            "fillpattern": {
             "fillmode": "overlay",
             "size": 10,
             "solidity": 0.2
            },
            "type": "scatter"
           }
          ],
          "scatter3d": [
           {
            "line": {
             "colorbar": {
              "outlinewidth": 0,
              "ticks": ""
             }
            },
            "marker": {
             "colorbar": {
              "outlinewidth": 0,
              "ticks": ""
             }
            },
            "type": "scatter3d"
           }
          ],
          "scattercarpet": [
           {
            "marker": {
             "colorbar": {
              "outlinewidth": 0,
              "ticks": ""
             }
            },
            "type": "scattercarpet"
           }
          ],
          "scattergeo": [
           {
            "marker": {
             "colorbar": {
              "outlinewidth": 0,
              "ticks": ""
             }
            },
            "type": "scattergeo"
           }
          ],
          "scattergl": [
           {
            "marker": {
             "colorbar": {
              "outlinewidth": 0,
              "ticks": ""
             }
            },
            "type": "scattergl"
           }
          ],
          "scattermapbox": [
           {
            "marker": {
             "colorbar": {
              "outlinewidth": 0,
              "ticks": ""
             }
            },
            "type": "scattermapbox"
           }
          ],
          "scatterpolar": [
           {
            "marker": {
             "colorbar": {
              "outlinewidth": 0,
              "ticks": ""
             }
            },
            "type": "scatterpolar"
           }
          ],
          "scatterpolargl": [
           {
            "marker": {
             "colorbar": {
              "outlinewidth": 0,
              "ticks": ""
             }
            },
            "type": "scatterpolargl"
           }
          ],
          "scatterternary": [
           {
            "marker": {
             "colorbar": {
              "outlinewidth": 0,
              "ticks": ""
             }
            },
            "type": "scatterternary"
           }
          ],
          "surface": [
           {
            "colorbar": {
             "outlinewidth": 0,
             "ticks": ""
            },
            "colorscale": [
             [
              0,
              "#0d0887"
             ],
             [
              0.1111111111111111,
              "#46039f"
             ],
             [
              0.2222222222222222,
              "#7201a8"
             ],
             [
              0.3333333333333333,
              "#9c179e"
             ],
             [
              0.4444444444444444,
              "#bd3786"
             ],
             [
              0.5555555555555556,
              "#d8576b"
             ],
             [
              0.6666666666666666,
              "#ed7953"
             ],
             [
              0.7777777777777778,
              "#fb9f3a"
             ],
             [
              0.8888888888888888,
              "#fdca26"
             ],
             [
              1,
              "#f0f921"
             ]
            ],
            "type": "surface"
           }
          ],
          "table": [
           {
            "cells": {
             "fill": {
              "color": "#EBF0F8"
             },
             "line": {
              "color": "white"
             }
            },
            "header": {
             "fill": {
              "color": "#C8D4E3"
             },
             "line": {
              "color": "white"
             }
            },
            "type": "table"
           }
          ]
         },
         "layout": {
          "annotationdefaults": {
           "arrowcolor": "#2a3f5f",
           "arrowhead": 0,
           "arrowwidth": 1
          },
          "autotypenumbers": "strict",
          "coloraxis": {
           "colorbar": {
            "outlinewidth": 0,
            "ticks": ""
           }
          },
          "colorscale": {
           "diverging": [
            [
             0,
             "#8e0152"
            ],
            [
             0.1,
             "#c51b7d"
            ],
            [
             0.2,
             "#de77ae"
            ],
            [
             0.3,
             "#f1b6da"
            ],
            [
             0.4,
             "#fde0ef"
            ],
            [
             0.5,
             "#f7f7f7"
            ],
            [
             0.6,
             "#e6f5d0"
            ],
            [
             0.7,
             "#b8e186"
            ],
            [
             0.8,
             "#7fbc41"
            ],
            [
             0.9,
             "#4d9221"
            ],
            [
             1,
             "#276419"
            ]
           ],
           "sequential": [
            [
             0,
             "#0d0887"
            ],
            [
             0.1111111111111111,
             "#46039f"
            ],
            [
             0.2222222222222222,
             "#7201a8"
            ],
            [
             0.3333333333333333,
             "#9c179e"
            ],
            [
             0.4444444444444444,
             "#bd3786"
            ],
            [
             0.5555555555555556,
             "#d8576b"
            ],
            [
             0.6666666666666666,
             "#ed7953"
            ],
            [
             0.7777777777777778,
             "#fb9f3a"
            ],
            [
             0.8888888888888888,
             "#fdca26"
            ],
            [
             1,
             "#f0f921"
            ]
           ],
           "sequentialminus": [
            [
             0,
             "#0d0887"
            ],
            [
             0.1111111111111111,
             "#46039f"
            ],
            [
             0.2222222222222222,
             "#7201a8"
            ],
            [
             0.3333333333333333,
             "#9c179e"
            ],
            [
             0.4444444444444444,
             "#bd3786"
            ],
            [
             0.5555555555555556,
             "#d8576b"
            ],
            [
             0.6666666666666666,
             "#ed7953"
            ],
            [
             0.7777777777777778,
             "#fb9f3a"
            ],
            [
             0.8888888888888888,
             "#fdca26"
            ],
            [
             1,
             "#f0f921"
            ]
           ]
          },
          "colorway": [
           "#636efa",
           "#EF553B",
           "#00cc96",
           "#ab63fa",
           "#FFA15A",
           "#19d3f3",
           "#FF6692",
           "#B6E880",
           "#FF97FF",
           "#FECB52"
          ],
          "font": {
           "color": "#2a3f5f"
          },
          "geo": {
           "bgcolor": "white",
           "lakecolor": "white",
           "landcolor": "#E5ECF6",
           "showlakes": true,
           "showland": true,
           "subunitcolor": "white"
          },
          "hoverlabel": {
           "align": "left"
          },
          "hovermode": "closest",
          "mapbox": {
           "style": "light"
          },
          "paper_bgcolor": "white",
          "plot_bgcolor": "#E5ECF6",
          "polar": {
           "angularaxis": {
            "gridcolor": "white",
            "linecolor": "white",
            "ticks": ""
           },
           "bgcolor": "#E5ECF6",
           "radialaxis": {
            "gridcolor": "white",
            "linecolor": "white",
            "ticks": ""
           }
          },
          "scene": {
           "xaxis": {
            "backgroundcolor": "#E5ECF6",
            "gridcolor": "white",
            "gridwidth": 2,
            "linecolor": "white",
            "showbackground": true,
            "ticks": "",
            "zerolinecolor": "white"
           },
           "yaxis": {
            "backgroundcolor": "#E5ECF6",
            "gridcolor": "white",
            "gridwidth": 2,
            "linecolor": "white",
            "showbackground": true,
            "ticks": "",
            "zerolinecolor": "white"
           },
           "zaxis": {
            "backgroundcolor": "#E5ECF6",
            "gridcolor": "white",
            "gridwidth": 2,
            "linecolor": "white",
            "showbackground": true,
            "ticks": "",
            "zerolinecolor": "white"
           }
          },
          "shapedefaults": {
           "line": {
            "color": "#2a3f5f"
           }
          },
          "ternary": {
           "aaxis": {
            "gridcolor": "white",
            "linecolor": "white",
            "ticks": ""
           },
           "baxis": {
            "gridcolor": "white",
            "linecolor": "white",
            "ticks": ""
           },
           "bgcolor": "#E5ECF6",
           "caxis": {
            "gridcolor": "white",
            "linecolor": "white",
            "ticks": ""
           }
          },
          "title": {
           "x": 0.05
          },
          "xaxis": {
           "automargin": true,
           "gridcolor": "white",
           "linecolor": "white",
           "ticks": "",
           "title": {
            "standoff": 15
           },
           "zerolinecolor": "white",
           "zerolinewidth": 2
          },
          "yaxis": {
           "automargin": true,
           "gridcolor": "white",
           "linecolor": "white",
           "ticks": "",
           "title": {
            "standoff": 15
           },
           "zerolinecolor": "white",
           "zerolinewidth": 2
          }
         }
        },
        "title": {
         "font": {
          "color": "#4D5663"
         },
         "text": "Matriz de Correlación"
        },
        "xaxis": {
         "gridcolor": "#E1E5ED",
         "showgrid": true,
         "tickfont": {
          "color": "#4D5663"
         },
         "title": {
          "font": {
           "color": "#4D5663"
          },
          "text": ""
         },
         "zerolinecolor": "#E1E5ED"
        },
        "yaxis": {
         "gridcolor": "#E1E5ED",
         "showgrid": true,
         "tickfont": {
          "color": "#4D5663"
         },
         "title": {
          "font": {
           "color": "#4D5663"
          },
          "text": ""
         },
         "zerolinecolor": "#E1E5ED"
        }
       }
      },
      "text/html": [
       "<div>                            <div id=\"9ed785d3-59a9-4137-bcb2-3b5eeb19dfef\" class=\"plotly-graph-div\" style=\"height:525px; width:100%;\"></div>            <script type=\"text/javascript\">                require([\"plotly\"], function(Plotly) {                    window.PLOTLYENV=window.PLOTLYENV || {};\n",
       "                    window.PLOTLYENV.BASE_URL='https://plot.ly';                                    if (document.getElementById(\"9ed785d3-59a9-4137-bcb2-3b5eeb19dfef\")) {                    Plotly.newPlot(                        \"9ed785d3-59a9-4137-bcb2-3b5eeb19dfef\",                        [{\"colorscale\":[[0.0,\"rgb(255,247,236)\"],[0.125,\"rgb(254,232,200)\"],[0.25,\"rgb(253,212,158)\"],[0.375,\"rgb(253,187,132)\"],[0.5,\"rgb(252,141,89)\"],[0.625,\"rgb(239,101,72)\"],[0.75,\"rgb(215,48,31)\"],[0.875,\"rgb(179,0,0)\"],[1.0,\"rgb(127,0,0)\"]],\"x\":[\"fraud\",\"amount\",\"debt\",\"enrichment_ZN\",\"enrichment_INDUS\",\"enrichment_RM\",\"enrichment_DIS\",\"enrichment_RAD\",\"enrichment_PTRATIO\",\"enrichment_LSTAT\",\"pagado\",\"Porcentaje pagado\",\"Peso monto por customer\",\"Porcentaje no pagado\"],\"y\":[\"fraud\",\"amount\",\"debt\",\"enrichment_ZN\",\"enrichment_INDUS\",\"enrichment_RM\",\"enrichment_DIS\",\"enrichment_RAD\",\"enrichment_PTRATIO\",\"enrichment_LSTAT\",\"pagado\",\"Porcentaje pagado\",\"Peso monto por customer\",\"Porcentaje no pagado\"],\"z\":[[1.0,0.017012414439289303,0.011730327260427565,0.0028883260350447046,-0.003109355754688486,-0.0021639954064113795,0.004624947176865224,-0.0016563252857382871,-0.0010658738403477104,0.0010813592549787513,0.016578721919900247,0.0008987212617908375,0.037238866985930395,-0.0008861721582233362],[0.017012414439289303,1.0,0.7901927674232216,8.074066631496925e-05,0.001057907356883312,0.0008175081859563969,-0.0004895682100172434,0.002391705729906918,0.0006347271681862482,-0.0017328683381369035,0.9681627309005558,-0.0018586719983463714,0.9509959807380616,0.0024186366814827167],[0.011730327260427565,0.7901927674232216,1.0,-5.394401009138853e-05,0.00020936788364725307,0.0006912018439856825,-0.0006841104585016042,0.0032917400153586887,0.0007396533727166939,-0.001086991041705129,0.6305079214293734,-0.5522470157757421,0.7560196256361703,0.5528069804500215],[0.0028883260350447046,8.074066631496925e-05,-5.394401009138853e-05,1.0,-0.4856046400514144,0.27106249865690174,0.5178475222584287,-0.20162454315077513,-0.3398289996858893,-0.3672594234857917,-0.00010276335910194599,-0.00039614258040484,-0.002745741339135899,0.00030789885621086997],[-0.003109355754688486,0.001057907356883312,0.00020936788364725307,-0.4856046400514144,1.0,-0.27017452886419996,-0.5519895879672746,0.29022443858057867,0.27828617856264487,0.41595945060153183,0.0010686230688571237,0.000731953239896762,1.742220858466375e-05,-0.0006910922306027317],[-0.0021639954064113795,0.0008175081859563969,0.0006912018439856825,0.27106249865690174,-0.27017452886419996,1.0,0.1879315190835638,-0.06165119051227177,-0.20186924292252173,-0.4218799325976046,0.0008350697983454122,-0.00023285007328434202,-0.002189395825061818,0.00016312154609608677],[0.004624947176865224,-0.0004895682100172434,-0.0006841104585016042,0.5178475222584287,-0.5519895879672746,0.1879315190835638,1.0,-0.354982783335025,-0.22450866051760024,-0.40820228930692337,-0.00017434586634155496,0.000616168383853463,0.0027204535129554466,-0.0006138484829941382],[-0.0016563252857382871,0.002391705729906918,0.0032917400153586887,-0.20162454315077513,0.29022443858057867,-0.06165119051227177,-0.354982783335025,1.0,0.19233822525182745,0.2509044826491093,0.0018606442374816093,-0.0022061994754512784,0.001677421404541051,0.0022538418621535846],[-0.0010658738403477104,0.0006347271681862482,0.0007396533727166939,-0.3398289996858893,0.27828617856264487,-0.20186924292252173,-0.22450866051760024,0.19233822525182745,1.0,0.3029203021419325,0.00044431535232990866,-0.0010363591675836047,0.003922557069628484,0.00099593925331799],[0.0010813592549787513,-0.0017328683381369035,-0.001086991041705129,-0.3672594234857917,0.41595945060153183,-0.4218799325976046,-0.40820228930692337,0.2509044826491093,0.3029203021419325,1.0,-0.0017895236590878372,0.00028355790255933823,0.0006108896269137488,-0.00024509823275766716],[0.016578721919900247,0.9681627309005558,0.6305079214293734,-0.00010276335910194599,0.0010686230688571237,0.0008350697983454122,-0.00017434586634155496,0.0018606442374816093,0.00044431535232990866,-0.0017895236590878372,1.0,0.22325520408290675,0.92186054808499,-0.22269523940862634],[0.0008987212617908375,-0.0018586719983463714,-0.5522470157757421,-0.00039614258040484,0.000731953239896762,-0.00023285007328434202,0.000616168383853463,-0.0022061994754512784,-0.0010363591675836047,0.00028355790255933823,0.22325520408290675,1.0,-0.0014977614332026994,-0.9994400353257213],[0.037238866985930395,0.9509959807380616,0.7560196256361703,-0.002745741339135899,1.742220858466375e-05,-0.002189395825061818,0.0027204535129554466,0.001677421404541051,0.003922557069628484,0.0006108896269137488,0.92186054808499,-0.0014977614332026994,1.0,0.00205772610748231],[-0.0008861721582233362,0.0024186366814827167,0.5528069804500215,0.00030789885621086997,-0.0006910922306027317,0.00016312154609608677,-0.0006138484829941382,0.0022538418621535846,0.00099593925331799,-0.00024509823275766716,-0.22269523940862634,-0.9994400353257213,0.00205772610748231,1.0]],\"zmax\":1.0,\"zmin\":-0.9994400353257213,\"type\":\"heatmap\"}],                        {\"legend\":{\"bgcolor\":\"#F5F6F9\",\"font\":{\"color\":\"#4D5663\"}},\"paper_bgcolor\":\"#F5F6F9\",\"plot_bgcolor\":\"#F5F6F9\",\"template\":{\"data\":{\"barpolar\":[{\"marker\":{\"line\":{\"color\":\"#E5ECF6\",\"width\":0.5},\"pattern\":{\"fillmode\":\"overlay\",\"size\":10,\"solidity\":0.2}},\"type\":\"barpolar\"}],\"bar\":[{\"error_x\":{\"color\":\"#2a3f5f\"},\"error_y\":{\"color\":\"#2a3f5f\"},\"marker\":{\"line\":{\"color\":\"#E5ECF6\",\"width\":0.5},\"pattern\":{\"fillmode\":\"overlay\",\"size\":10,\"solidity\":0.2}},\"type\":\"bar\"}],\"carpet\":[{\"aaxis\":{\"endlinecolor\":\"#2a3f5f\",\"gridcolor\":\"white\",\"linecolor\":\"white\",\"minorgridcolor\":\"white\",\"startlinecolor\":\"#2a3f5f\"},\"baxis\":{\"endlinecolor\":\"#2a3f5f\",\"gridcolor\":\"white\",\"linecolor\":\"white\",\"minorgridcolor\":\"white\",\"startlinecolor\":\"#2a3f5f\"},\"type\":\"carpet\"}],\"choropleth\":[{\"colorbar\":{\"outlinewidth\":0,\"ticks\":\"\"},\"type\":\"choropleth\"}],\"contourcarpet\":[{\"colorbar\":{\"outlinewidth\":0,\"ticks\":\"\"},\"type\":\"contourcarpet\"}],\"contour\":[{\"colorbar\":{\"outlinewidth\":0,\"ticks\":\"\"},\"colorscale\":[[0.0,\"#0d0887\"],[0.1111111111111111,\"#46039f\"],[0.2222222222222222,\"#7201a8\"],[0.3333333333333333,\"#9c179e\"],[0.4444444444444444,\"#bd3786\"],[0.5555555555555556,\"#d8576b\"],[0.6666666666666666,\"#ed7953\"],[0.7777777777777778,\"#fb9f3a\"],[0.8888888888888888,\"#fdca26\"],[1.0,\"#f0f921\"]],\"type\":\"contour\"}],\"heatmapgl\":[{\"colorbar\":{\"outlinewidth\":0,\"ticks\":\"\"},\"colorscale\":[[0.0,\"#0d0887\"],[0.1111111111111111,\"#46039f\"],[0.2222222222222222,\"#7201a8\"],[0.3333333333333333,\"#9c179e\"],[0.4444444444444444,\"#bd3786\"],[0.5555555555555556,\"#d8576b\"],[0.6666666666666666,\"#ed7953\"],[0.7777777777777778,\"#fb9f3a\"],[0.8888888888888888,\"#fdca26\"],[1.0,\"#f0f921\"]],\"type\":\"heatmapgl\"}],\"heatmap\":[{\"colorbar\":{\"outlinewidth\":0,\"ticks\":\"\"},\"colorscale\":[[0.0,\"#0d0887\"],[0.1111111111111111,\"#46039f\"],[0.2222222222222222,\"#7201a8\"],[0.3333333333333333,\"#9c179e\"],[0.4444444444444444,\"#bd3786\"],[0.5555555555555556,\"#d8576b\"],[0.6666666666666666,\"#ed7953\"],[0.7777777777777778,\"#fb9f3a\"],[0.8888888888888888,\"#fdca26\"],[1.0,\"#f0f921\"]],\"type\":\"heatmap\"}],\"histogram2dcontour\":[{\"colorbar\":{\"outlinewidth\":0,\"ticks\":\"\"},\"colorscale\":[[0.0,\"#0d0887\"],[0.1111111111111111,\"#46039f\"],[0.2222222222222222,\"#7201a8\"],[0.3333333333333333,\"#9c179e\"],[0.4444444444444444,\"#bd3786\"],[0.5555555555555556,\"#d8576b\"],[0.6666666666666666,\"#ed7953\"],[0.7777777777777778,\"#fb9f3a\"],[0.8888888888888888,\"#fdca26\"],[1.0,\"#f0f921\"]],\"type\":\"histogram2dcontour\"}],\"histogram2d\":[{\"colorbar\":{\"outlinewidth\":0,\"ticks\":\"\"},\"colorscale\":[[0.0,\"#0d0887\"],[0.1111111111111111,\"#46039f\"],[0.2222222222222222,\"#7201a8\"],[0.3333333333333333,\"#9c179e\"],[0.4444444444444444,\"#bd3786\"],[0.5555555555555556,\"#d8576b\"],[0.6666666666666666,\"#ed7953\"],[0.7777777777777778,\"#fb9f3a\"],[0.8888888888888888,\"#fdca26\"],[1.0,\"#f0f921\"]],\"type\":\"histogram2d\"}],\"histogram\":[{\"marker\":{\"pattern\":{\"fillmode\":\"overlay\",\"size\":10,\"solidity\":0.2}},\"type\":\"histogram\"}],\"mesh3d\":[{\"colorbar\":{\"outlinewidth\":0,\"ticks\":\"\"},\"type\":\"mesh3d\"}],\"parcoords\":[{\"line\":{\"colorbar\":{\"outlinewidth\":0,\"ticks\":\"\"}},\"type\":\"parcoords\"}],\"pie\":[{\"automargin\":true,\"type\":\"pie\"}],\"scatter3d\":[{\"line\":{\"colorbar\":{\"outlinewidth\":0,\"ticks\":\"\"}},\"marker\":{\"colorbar\":{\"outlinewidth\":0,\"ticks\":\"\"}},\"type\":\"scatter3d\"}],\"scattercarpet\":[{\"marker\":{\"colorbar\":{\"outlinewidth\":0,\"ticks\":\"\"}},\"type\":\"scattercarpet\"}],\"scattergeo\":[{\"marker\":{\"colorbar\":{\"outlinewidth\":0,\"ticks\":\"\"}},\"type\":\"scattergeo\"}],\"scattergl\":[{\"marker\":{\"colorbar\":{\"outlinewidth\":0,\"ticks\":\"\"}},\"type\":\"scattergl\"}],\"scattermapbox\":[{\"marker\":{\"colorbar\":{\"outlinewidth\":0,\"ticks\":\"\"}},\"type\":\"scattermapbox\"}],\"scatterpolargl\":[{\"marker\":{\"colorbar\":{\"outlinewidth\":0,\"ticks\":\"\"}},\"type\":\"scatterpolargl\"}],\"scatterpolar\":[{\"marker\":{\"colorbar\":{\"outlinewidth\":0,\"ticks\":\"\"}},\"type\":\"scatterpolar\"}],\"scatter\":[{\"fillpattern\":{\"fillmode\":\"overlay\",\"size\":10,\"solidity\":0.2},\"type\":\"scatter\"}],\"scatterternary\":[{\"marker\":{\"colorbar\":{\"outlinewidth\":0,\"ticks\":\"\"}},\"type\":\"scatterternary\"}],\"surface\":[{\"colorbar\":{\"outlinewidth\":0,\"ticks\":\"\"},\"colorscale\":[[0.0,\"#0d0887\"],[0.1111111111111111,\"#46039f\"],[0.2222222222222222,\"#7201a8\"],[0.3333333333333333,\"#9c179e\"],[0.4444444444444444,\"#bd3786\"],[0.5555555555555556,\"#d8576b\"],[0.6666666666666666,\"#ed7953\"],[0.7777777777777778,\"#fb9f3a\"],[0.8888888888888888,\"#fdca26\"],[1.0,\"#f0f921\"]],\"type\":\"surface\"}],\"table\":[{\"cells\":{\"fill\":{\"color\":\"#EBF0F8\"},\"line\":{\"color\":\"white\"}},\"header\":{\"fill\":{\"color\":\"#C8D4E3\"},\"line\":{\"color\":\"white\"}},\"type\":\"table\"}]},\"layout\":{\"annotationdefaults\":{\"arrowcolor\":\"#2a3f5f\",\"arrowhead\":0,\"arrowwidth\":1},\"autotypenumbers\":\"strict\",\"coloraxis\":{\"colorbar\":{\"outlinewidth\":0,\"ticks\":\"\"}},\"colorscale\":{\"diverging\":[[0,\"#8e0152\"],[0.1,\"#c51b7d\"],[0.2,\"#de77ae\"],[0.3,\"#f1b6da\"],[0.4,\"#fde0ef\"],[0.5,\"#f7f7f7\"],[0.6,\"#e6f5d0\"],[0.7,\"#b8e186\"],[0.8,\"#7fbc41\"],[0.9,\"#4d9221\"],[1,\"#276419\"]],\"sequential\":[[0.0,\"#0d0887\"],[0.1111111111111111,\"#46039f\"],[0.2222222222222222,\"#7201a8\"],[0.3333333333333333,\"#9c179e\"],[0.4444444444444444,\"#bd3786\"],[0.5555555555555556,\"#d8576b\"],[0.6666666666666666,\"#ed7953\"],[0.7777777777777778,\"#fb9f3a\"],[0.8888888888888888,\"#fdca26\"],[1.0,\"#f0f921\"]],\"sequentialminus\":[[0.0,\"#0d0887\"],[0.1111111111111111,\"#46039f\"],[0.2222222222222222,\"#7201a8\"],[0.3333333333333333,\"#9c179e\"],[0.4444444444444444,\"#bd3786\"],[0.5555555555555556,\"#d8576b\"],[0.6666666666666666,\"#ed7953\"],[0.7777777777777778,\"#fb9f3a\"],[0.8888888888888888,\"#fdca26\"],[1.0,\"#f0f921\"]]},\"colorway\":[\"#636efa\",\"#EF553B\",\"#00cc96\",\"#ab63fa\",\"#FFA15A\",\"#19d3f3\",\"#FF6692\",\"#B6E880\",\"#FF97FF\",\"#FECB52\"],\"font\":{\"color\":\"#2a3f5f\"},\"geo\":{\"bgcolor\":\"white\",\"lakecolor\":\"white\",\"landcolor\":\"#E5ECF6\",\"showlakes\":true,\"showland\":true,\"subunitcolor\":\"white\"},\"hoverlabel\":{\"align\":\"left\"},\"hovermode\":\"closest\",\"mapbox\":{\"style\":\"light\"},\"paper_bgcolor\":\"white\",\"plot_bgcolor\":\"#E5ECF6\",\"polar\":{\"angularaxis\":{\"gridcolor\":\"white\",\"linecolor\":\"white\",\"ticks\":\"\"},\"bgcolor\":\"#E5ECF6\",\"radialaxis\":{\"gridcolor\":\"white\",\"linecolor\":\"white\",\"ticks\":\"\"}},\"scene\":{\"xaxis\":{\"backgroundcolor\":\"#E5ECF6\",\"gridcolor\":\"white\",\"gridwidth\":2,\"linecolor\":\"white\",\"showbackground\":true,\"ticks\":\"\",\"zerolinecolor\":\"white\"},\"yaxis\":{\"backgroundcolor\":\"#E5ECF6\",\"gridcolor\":\"white\",\"gridwidth\":2,\"linecolor\":\"white\",\"showbackground\":true,\"ticks\":\"\",\"zerolinecolor\":\"white\"},\"zaxis\":{\"backgroundcolor\":\"#E5ECF6\",\"gridcolor\":\"white\",\"gridwidth\":2,\"linecolor\":\"white\",\"showbackground\":true,\"ticks\":\"\",\"zerolinecolor\":\"white\"}},\"shapedefaults\":{\"line\":{\"color\":\"#2a3f5f\"}},\"ternary\":{\"aaxis\":{\"gridcolor\":\"white\",\"linecolor\":\"white\",\"ticks\":\"\"},\"baxis\":{\"gridcolor\":\"white\",\"linecolor\":\"white\",\"ticks\":\"\"},\"bgcolor\":\"#E5ECF6\",\"caxis\":{\"gridcolor\":\"white\",\"linecolor\":\"white\",\"ticks\":\"\"}},\"title\":{\"x\":0.05},\"xaxis\":{\"automargin\":true,\"gridcolor\":\"white\",\"linecolor\":\"white\",\"ticks\":\"\",\"title\":{\"standoff\":15},\"zerolinecolor\":\"white\",\"zerolinewidth\":2},\"yaxis\":{\"automargin\":true,\"gridcolor\":\"white\",\"linecolor\":\"white\",\"ticks\":\"\",\"title\":{\"standoff\":15},\"zerolinecolor\":\"white\",\"zerolinewidth\":2}}},\"title\":{\"font\":{\"color\":\"#4D5663\"},\"text\":\"Matriz de Correlaci\\u00f3n\"},\"xaxis\":{\"gridcolor\":\"#E1E5ED\",\"showgrid\":true,\"tickfont\":{\"color\":\"#4D5663\"},\"title\":{\"font\":{\"color\":\"#4D5663\"},\"text\":\"\"},\"zerolinecolor\":\"#E1E5ED\"},\"yaxis\":{\"gridcolor\":\"#E1E5ED\",\"showgrid\":true,\"tickfont\":{\"color\":\"#4D5663\"},\"title\":{\"font\":{\"color\":\"#4D5663\"},\"text\":\"\"},\"zerolinecolor\":\"#E1E5ED\"}},                        {\"showLink\": true, \"linkText\": \"Export to plot.ly\", \"plotlyServerURL\": \"https://plot.ly\", \"responsive\": true}                    ).then(function(){\n",
       "                            \n",
       "var gd = document.getElementById('9ed785d3-59a9-4137-bcb2-3b5eeb19dfef');\n",
       "var x = new MutationObserver(function (mutations, observer) {{\n",
       "        var display = window.getComputedStyle(gd).display;\n",
       "        if (!display || display === 'none') {{\n",
       "            console.log([gd, 'removed!']);\n",
       "            Plotly.purge(gd);\n",
       "            observer.disconnect();\n",
       "        }}\n",
       "}});\n",
       "\n",
       "// Listen for the removal of the full notebook cells\n",
       "var notebookContainer = gd.closest('#notebook-container');\n",
       "if (notebookContainer) {{\n",
       "    x.observe(notebookContainer, {childList: true});\n",
       "}}\n",
       "\n",
       "// Listen for the clearing of the current output cell\n",
       "var outputEl = gd.closest('.output');\n",
       "if (outputEl) {{\n",
       "    x.observe(outputEl, {childList: true});\n",
       "}}\n",
       "\n",
       "                        })                };                });            </script>        </div>"
      ]
     },
     "metadata": {},
     "output_type": "display_data"
    }
   ],
   "source": [
    "df_reducido[target+v_cont].corr(method=\"spearman\").iplot(kind=\"heatmap\",colorscale=\"orrd\",title=\"Matriz de Correlación\")"
   ]
  },
  {
   "cell_type": "code",
   "execution_count": 53,
   "id": "e4967285",
   "metadata": {},
   "outputs": [
    {
     "data": {
      "text/html": [
       "<div>\n",
       "<style scoped>\n",
       "    .dataframe tbody tr th:only-of-type {\n",
       "        vertical-align: middle;\n",
       "    }\n",
       "\n",
       "    .dataframe tbody tr th {\n",
       "        vertical-align: top;\n",
       "    }\n",
       "\n",
       "    .dataframe thead th {\n",
       "        text-align: right;\n",
       "    }\n",
       "</style>\n",
       "<table border=\"1\" class=\"dataframe\">\n",
       "  <thead>\n",
       "    <tr style=\"text-align: right;\">\n",
       "      <th></th>\n",
       "      <th>fraud</th>\n",
       "      <th>amount</th>\n",
       "      <th>debt</th>\n",
       "      <th>enrichment_ZN</th>\n",
       "      <th>enrichment_INDUS</th>\n",
       "      <th>enrichment_RM</th>\n",
       "      <th>enrichment_DIS</th>\n",
       "      <th>enrichment_RAD</th>\n",
       "      <th>enrichment_PTRATIO</th>\n",
       "      <th>enrichment_LSTAT</th>\n",
       "      <th>pagado</th>\n",
       "      <th>Porcentaje pagado</th>\n",
       "      <th>Peso monto por customer</th>\n",
       "      <th>Porcentaje no pagado</th>\n",
       "    </tr>\n",
       "  </thead>\n",
       "  <tbody>\n",
       "    <tr>\n",
       "      <th>fraud</th>\n",
       "      <td>1.000000</td>\n",
       "      <td>0.017012</td>\n",
       "      <td>0.011730</td>\n",
       "      <td>0.002888</td>\n",
       "      <td>0.003109</td>\n",
       "      <td>0.002164</td>\n",
       "      <td>0.004625</td>\n",
       "      <td>0.001656</td>\n",
       "      <td>0.001066</td>\n",
       "      <td>0.001081</td>\n",
       "      <td>0.016579</td>\n",
       "      <td>0.000899</td>\n",
       "      <td>0.037239</td>\n",
       "      <td>0.000886</td>\n",
       "    </tr>\n",
       "    <tr>\n",
       "      <th>amount</th>\n",
       "      <td>0.017012</td>\n",
       "      <td>1.000000</td>\n",
       "      <td>0.790193</td>\n",
       "      <td>0.000081</td>\n",
       "      <td>0.001058</td>\n",
       "      <td>0.000818</td>\n",
       "      <td>0.000490</td>\n",
       "      <td>0.002392</td>\n",
       "      <td>0.000635</td>\n",
       "      <td>0.001733</td>\n",
       "      <td>0.968163</td>\n",
       "      <td>0.001859</td>\n",
       "      <td>0.950996</td>\n",
       "      <td>0.002419</td>\n",
       "    </tr>\n",
       "    <tr>\n",
       "      <th>debt</th>\n",
       "      <td>0.011730</td>\n",
       "      <td>0.790193</td>\n",
       "      <td>1.000000</td>\n",
       "      <td>0.000054</td>\n",
       "      <td>0.000209</td>\n",
       "      <td>0.000691</td>\n",
       "      <td>0.000684</td>\n",
       "      <td>0.003292</td>\n",
       "      <td>0.000740</td>\n",
       "      <td>0.001087</td>\n",
       "      <td>0.630508</td>\n",
       "      <td>0.552247</td>\n",
       "      <td>0.756020</td>\n",
       "      <td>0.552807</td>\n",
       "    </tr>\n",
       "    <tr>\n",
       "      <th>enrichment_ZN</th>\n",
       "      <td>0.002888</td>\n",
       "      <td>0.000081</td>\n",
       "      <td>0.000054</td>\n",
       "      <td>1.000000</td>\n",
       "      <td>0.485605</td>\n",
       "      <td>0.271062</td>\n",
       "      <td>0.517848</td>\n",
       "      <td>0.201625</td>\n",
       "      <td>0.339829</td>\n",
       "      <td>0.367259</td>\n",
       "      <td>0.000103</td>\n",
       "      <td>0.000396</td>\n",
       "      <td>0.002746</td>\n",
       "      <td>0.000308</td>\n",
       "    </tr>\n",
       "    <tr>\n",
       "      <th>enrichment_INDUS</th>\n",
       "      <td>0.003109</td>\n",
       "      <td>0.001058</td>\n",
       "      <td>0.000209</td>\n",
       "      <td>0.485605</td>\n",
       "      <td>1.000000</td>\n",
       "      <td>0.270175</td>\n",
       "      <td>0.551990</td>\n",
       "      <td>0.290224</td>\n",
       "      <td>0.278286</td>\n",
       "      <td>0.415959</td>\n",
       "      <td>0.001069</td>\n",
       "      <td>0.000732</td>\n",
       "      <td>0.000017</td>\n",
       "      <td>0.000691</td>\n",
       "    </tr>\n",
       "    <tr>\n",
       "      <th>enrichment_RM</th>\n",
       "      <td>0.002164</td>\n",
       "      <td>0.000818</td>\n",
       "      <td>0.000691</td>\n",
       "      <td>0.271062</td>\n",
       "      <td>0.270175</td>\n",
       "      <td>1.000000</td>\n",
       "      <td>0.187932</td>\n",
       "      <td>0.061651</td>\n",
       "      <td>0.201869</td>\n",
       "      <td>0.421880</td>\n",
       "      <td>0.000835</td>\n",
       "      <td>0.000233</td>\n",
       "      <td>0.002189</td>\n",
       "      <td>0.000163</td>\n",
       "    </tr>\n",
       "    <tr>\n",
       "      <th>enrichment_DIS</th>\n",
       "      <td>0.004625</td>\n",
       "      <td>0.000490</td>\n",
       "      <td>0.000684</td>\n",
       "      <td>0.517848</td>\n",
       "      <td>0.551990</td>\n",
       "      <td>0.187932</td>\n",
       "      <td>1.000000</td>\n",
       "      <td>0.354983</td>\n",
       "      <td>0.224509</td>\n",
       "      <td>0.408202</td>\n",
       "      <td>0.000174</td>\n",
       "      <td>0.000616</td>\n",
       "      <td>0.002720</td>\n",
       "      <td>0.000614</td>\n",
       "    </tr>\n",
       "    <tr>\n",
       "      <th>enrichment_RAD</th>\n",
       "      <td>0.001656</td>\n",
       "      <td>0.002392</td>\n",
       "      <td>0.003292</td>\n",
       "      <td>0.201625</td>\n",
       "      <td>0.290224</td>\n",
       "      <td>0.061651</td>\n",
       "      <td>0.354983</td>\n",
       "      <td>1.000000</td>\n",
       "      <td>0.192338</td>\n",
       "      <td>0.250904</td>\n",
       "      <td>0.001861</td>\n",
       "      <td>0.002206</td>\n",
       "      <td>0.001677</td>\n",
       "      <td>0.002254</td>\n",
       "    </tr>\n",
       "    <tr>\n",
       "      <th>enrichment_PTRATIO</th>\n",
       "      <td>0.001066</td>\n",
       "      <td>0.000635</td>\n",
       "      <td>0.000740</td>\n",
       "      <td>0.339829</td>\n",
       "      <td>0.278286</td>\n",
       "      <td>0.201869</td>\n",
       "      <td>0.224509</td>\n",
       "      <td>0.192338</td>\n",
       "      <td>1.000000</td>\n",
       "      <td>0.302920</td>\n",
       "      <td>0.000444</td>\n",
       "      <td>0.001036</td>\n",
       "      <td>0.003923</td>\n",
       "      <td>0.000996</td>\n",
       "    </tr>\n",
       "    <tr>\n",
       "      <th>enrichment_LSTAT</th>\n",
       "      <td>0.001081</td>\n",
       "      <td>0.001733</td>\n",
       "      <td>0.001087</td>\n",
       "      <td>0.367259</td>\n",
       "      <td>0.415959</td>\n",
       "      <td>0.421880</td>\n",
       "      <td>0.408202</td>\n",
       "      <td>0.250904</td>\n",
       "      <td>0.302920</td>\n",
       "      <td>1.000000</td>\n",
       "      <td>0.001790</td>\n",
       "      <td>0.000284</td>\n",
       "      <td>0.000611</td>\n",
       "      <td>0.000245</td>\n",
       "    </tr>\n",
       "    <tr>\n",
       "      <th>pagado</th>\n",
       "      <td>0.016579</td>\n",
       "      <td>0.968163</td>\n",
       "      <td>0.630508</td>\n",
       "      <td>0.000103</td>\n",
       "      <td>0.001069</td>\n",
       "      <td>0.000835</td>\n",
       "      <td>0.000174</td>\n",
       "      <td>0.001861</td>\n",
       "      <td>0.000444</td>\n",
       "      <td>0.001790</td>\n",
       "      <td>1.000000</td>\n",
       "      <td>0.223255</td>\n",
       "      <td>0.921861</td>\n",
       "      <td>0.222695</td>\n",
       "    </tr>\n",
       "    <tr>\n",
       "      <th>Porcentaje pagado</th>\n",
       "      <td>0.000899</td>\n",
       "      <td>0.001859</td>\n",
       "      <td>0.552247</td>\n",
       "      <td>0.000396</td>\n",
       "      <td>0.000732</td>\n",
       "      <td>0.000233</td>\n",
       "      <td>0.000616</td>\n",
       "      <td>0.002206</td>\n",
       "      <td>0.001036</td>\n",
       "      <td>0.000284</td>\n",
       "      <td>0.223255</td>\n",
       "      <td>1.000000</td>\n",
       "      <td>0.001498</td>\n",
       "      <td>0.999440</td>\n",
       "    </tr>\n",
       "    <tr>\n",
       "      <th>Peso monto por customer</th>\n",
       "      <td>0.037239</td>\n",
       "      <td>0.950996</td>\n",
       "      <td>0.756020</td>\n",
       "      <td>0.002746</td>\n",
       "      <td>0.000017</td>\n",
       "      <td>0.002189</td>\n",
       "      <td>0.002720</td>\n",
       "      <td>0.001677</td>\n",
       "      <td>0.003923</td>\n",
       "      <td>0.000611</td>\n",
       "      <td>0.921861</td>\n",
       "      <td>0.001498</td>\n",
       "      <td>1.000000</td>\n",
       "      <td>0.002058</td>\n",
       "    </tr>\n",
       "    <tr>\n",
       "      <th>Porcentaje no pagado</th>\n",
       "      <td>0.000886</td>\n",
       "      <td>0.002419</td>\n",
       "      <td>0.552807</td>\n",
       "      <td>0.000308</td>\n",
       "      <td>0.000691</td>\n",
       "      <td>0.000163</td>\n",
       "      <td>0.000614</td>\n",
       "      <td>0.002254</td>\n",
       "      <td>0.000996</td>\n",
       "      <td>0.000245</td>\n",
       "      <td>0.222695</td>\n",
       "      <td>0.999440</td>\n",
       "      <td>0.002058</td>\n",
       "      <td>1.000000</td>\n",
       "    </tr>\n",
       "  </tbody>\n",
       "</table>\n",
       "</div>"
      ],
      "text/plain": [
       "                            fraud    amount      debt  enrichment_ZN  \\\n",
       "fraud                    1.000000  0.017012  0.011730       0.002888   \n",
       "amount                   0.017012  1.000000  0.790193       0.000081   \n",
       "debt                     0.011730  0.790193  1.000000       0.000054   \n",
       "enrichment_ZN            0.002888  0.000081  0.000054       1.000000   \n",
       "enrichment_INDUS         0.003109  0.001058  0.000209       0.485605   \n",
       "enrichment_RM            0.002164  0.000818  0.000691       0.271062   \n",
       "enrichment_DIS           0.004625  0.000490  0.000684       0.517848   \n",
       "enrichment_RAD           0.001656  0.002392  0.003292       0.201625   \n",
       "enrichment_PTRATIO       0.001066  0.000635  0.000740       0.339829   \n",
       "enrichment_LSTAT         0.001081  0.001733  0.001087       0.367259   \n",
       "pagado                   0.016579  0.968163  0.630508       0.000103   \n",
       "Porcentaje pagado        0.000899  0.001859  0.552247       0.000396   \n",
       "Peso monto por customer  0.037239  0.950996  0.756020       0.002746   \n",
       "Porcentaje no pagado     0.000886  0.002419  0.552807       0.000308   \n",
       "\n",
       "                         enrichment_INDUS  enrichment_RM  enrichment_DIS  \\\n",
       "fraud                            0.003109       0.002164        0.004625   \n",
       "amount                           0.001058       0.000818        0.000490   \n",
       "debt                             0.000209       0.000691        0.000684   \n",
       "enrichment_ZN                    0.485605       0.271062        0.517848   \n",
       "enrichment_INDUS                 1.000000       0.270175        0.551990   \n",
       "enrichment_RM                    0.270175       1.000000        0.187932   \n",
       "enrichment_DIS                   0.551990       0.187932        1.000000   \n",
       "enrichment_RAD                   0.290224       0.061651        0.354983   \n",
       "enrichment_PTRATIO               0.278286       0.201869        0.224509   \n",
       "enrichment_LSTAT                 0.415959       0.421880        0.408202   \n",
       "pagado                           0.001069       0.000835        0.000174   \n",
       "Porcentaje pagado                0.000732       0.000233        0.000616   \n",
       "Peso monto por customer          0.000017       0.002189        0.002720   \n",
       "Porcentaje no pagado             0.000691       0.000163        0.000614   \n",
       "\n",
       "                         enrichment_RAD  enrichment_PTRATIO  enrichment_LSTAT  \\\n",
       "fraud                          0.001656            0.001066          0.001081   \n",
       "amount                         0.002392            0.000635          0.001733   \n",
       "debt                           0.003292            0.000740          0.001087   \n",
       "enrichment_ZN                  0.201625            0.339829          0.367259   \n",
       "enrichment_INDUS               0.290224            0.278286          0.415959   \n",
       "enrichment_RM                  0.061651            0.201869          0.421880   \n",
       "enrichment_DIS                 0.354983            0.224509          0.408202   \n",
       "enrichment_RAD                 1.000000            0.192338          0.250904   \n",
       "enrichment_PTRATIO             0.192338            1.000000          0.302920   \n",
       "enrichment_LSTAT               0.250904            0.302920          1.000000   \n",
       "pagado                         0.001861            0.000444          0.001790   \n",
       "Porcentaje pagado              0.002206            0.001036          0.000284   \n",
       "Peso monto por customer        0.001677            0.003923          0.000611   \n",
       "Porcentaje no pagado           0.002254            0.000996          0.000245   \n",
       "\n",
       "                           pagado  Porcentaje pagado  Peso monto por customer  \\\n",
       "fraud                    0.016579           0.000899                 0.037239   \n",
       "amount                   0.968163           0.001859                 0.950996   \n",
       "debt                     0.630508           0.552247                 0.756020   \n",
       "enrichment_ZN            0.000103           0.000396                 0.002746   \n",
       "enrichment_INDUS         0.001069           0.000732                 0.000017   \n",
       "enrichment_RM            0.000835           0.000233                 0.002189   \n",
       "enrichment_DIS           0.000174           0.000616                 0.002720   \n",
       "enrichment_RAD           0.001861           0.002206                 0.001677   \n",
       "enrichment_PTRATIO       0.000444           0.001036                 0.003923   \n",
       "enrichment_LSTAT         0.001790           0.000284                 0.000611   \n",
       "pagado                   1.000000           0.223255                 0.921861   \n",
       "Porcentaje pagado        0.223255           1.000000                 0.001498   \n",
       "Peso monto por customer  0.921861           0.001498                 1.000000   \n",
       "Porcentaje no pagado     0.222695           0.999440                 0.002058   \n",
       "\n",
       "                         Porcentaje no pagado  \n",
       "fraud                                0.000886  \n",
       "amount                               0.002419  \n",
       "debt                                 0.552807  \n",
       "enrichment_ZN                        0.000308  \n",
       "enrichment_INDUS                     0.000691  \n",
       "enrichment_RM                        0.000163  \n",
       "enrichment_DIS                       0.000614  \n",
       "enrichment_RAD                       0.002254  \n",
       "enrichment_PTRATIO                   0.000996  \n",
       "enrichment_LSTAT                     0.000245  \n",
       "pagado                               0.222695  \n",
       "Porcentaje pagado                    0.999440  \n",
       "Peso monto por customer              0.002058  \n",
       "Porcentaje no pagado                 1.000000  "
      ]
     },
     "execution_count": 53,
     "metadata": {},
     "output_type": "execute_result"
    }
   ],
   "source": [
    "correlacion_target=df_reducido[target+v_cont].corr(method=\"spearman\")\n",
    "correlacion_target=abs(correlacion_target)\n",
    "correlacion_target"
   ]
  },
  {
   "cell_type": "code",
   "execution_count": 54,
   "id": "80a4189d",
   "metadata": {},
   "outputs": [
    {
     "data": {
      "text/html": [
       "<style type=\"text/css\">\n",
       "#T_51a66_row0_col0 {\n",
       "  background-color: #023858;\n",
       "  color: #f1f1f1;\n",
       "}\n",
       "#T_51a66_row1_col0 {\n",
       "  background-color: #faf2f8;\n",
       "  color: #000000;\n",
       "}\n",
       "#T_51a66_row2_col0, #T_51a66_row3_col0 {\n",
       "  background-color: #fdf5fa;\n",
       "  color: #000000;\n",
       "}\n",
       "#T_51a66_row4_col0 {\n",
       "  background-color: #fef6fa;\n",
       "  color: #000000;\n",
       "}\n",
       "#T_51a66_row5_col0, #T_51a66_row6_col0, #T_51a66_row7_col0, #T_51a66_row8_col0, #T_51a66_row9_col0, #T_51a66_row10_col0, #T_51a66_row11_col0, #T_51a66_row12_col0, #T_51a66_row13_col0 {\n",
       "  background-color: #fff7fb;\n",
       "  color: #000000;\n",
       "}\n",
       "</style>\n",
       "<table id=\"T_51a66\">\n",
       "  <thead>\n",
       "    <tr>\n",
       "      <th class=\"blank level0\" >&nbsp;</th>\n",
       "      <th id=\"T_51a66_level0_col0\" class=\"col_heading level0 col0\" >fraud</th>\n",
       "    </tr>\n",
       "  </thead>\n",
       "  <tbody>\n",
       "    <tr>\n",
       "      <th id=\"T_51a66_level0_row0\" class=\"row_heading level0 row0\" >fraud</th>\n",
       "      <td id=\"T_51a66_row0_col0\" class=\"data row0 col0\" >1.000000</td>\n",
       "    </tr>\n",
       "    <tr>\n",
       "      <th id=\"T_51a66_level0_row1\" class=\"row_heading level0 row1\" >Peso monto por customer</th>\n",
       "      <td id=\"T_51a66_row1_col0\" class=\"data row1 col0\" >0.037239</td>\n",
       "    </tr>\n",
       "    <tr>\n",
       "      <th id=\"T_51a66_level0_row2\" class=\"row_heading level0 row2\" >amount</th>\n",
       "      <td id=\"T_51a66_row2_col0\" class=\"data row2 col0\" >0.017012</td>\n",
       "    </tr>\n",
       "    <tr>\n",
       "      <th id=\"T_51a66_level0_row3\" class=\"row_heading level0 row3\" >pagado</th>\n",
       "      <td id=\"T_51a66_row3_col0\" class=\"data row3 col0\" >0.016579</td>\n",
       "    </tr>\n",
       "    <tr>\n",
       "      <th id=\"T_51a66_level0_row4\" class=\"row_heading level0 row4\" >debt</th>\n",
       "      <td id=\"T_51a66_row4_col0\" class=\"data row4 col0\" >0.011730</td>\n",
       "    </tr>\n",
       "    <tr>\n",
       "      <th id=\"T_51a66_level0_row5\" class=\"row_heading level0 row5\" >enrichment_DIS</th>\n",
       "      <td id=\"T_51a66_row5_col0\" class=\"data row5 col0\" >0.004625</td>\n",
       "    </tr>\n",
       "    <tr>\n",
       "      <th id=\"T_51a66_level0_row6\" class=\"row_heading level0 row6\" >enrichment_INDUS</th>\n",
       "      <td id=\"T_51a66_row6_col0\" class=\"data row6 col0\" >0.003109</td>\n",
       "    </tr>\n",
       "    <tr>\n",
       "      <th id=\"T_51a66_level0_row7\" class=\"row_heading level0 row7\" >enrichment_ZN</th>\n",
       "      <td id=\"T_51a66_row7_col0\" class=\"data row7 col0\" >0.002888</td>\n",
       "    </tr>\n",
       "    <tr>\n",
       "      <th id=\"T_51a66_level0_row8\" class=\"row_heading level0 row8\" >enrichment_RM</th>\n",
       "      <td id=\"T_51a66_row8_col0\" class=\"data row8 col0\" >0.002164</td>\n",
       "    </tr>\n",
       "    <tr>\n",
       "      <th id=\"T_51a66_level0_row9\" class=\"row_heading level0 row9\" >enrichment_RAD</th>\n",
       "      <td id=\"T_51a66_row9_col0\" class=\"data row9 col0\" >0.001656</td>\n",
       "    </tr>\n",
       "    <tr>\n",
       "      <th id=\"T_51a66_level0_row10\" class=\"row_heading level0 row10\" >enrichment_LSTAT</th>\n",
       "      <td id=\"T_51a66_row10_col0\" class=\"data row10 col0\" >0.001081</td>\n",
       "    </tr>\n",
       "    <tr>\n",
       "      <th id=\"T_51a66_level0_row11\" class=\"row_heading level0 row11\" >enrichment_PTRATIO</th>\n",
       "      <td id=\"T_51a66_row11_col0\" class=\"data row11 col0\" >0.001066</td>\n",
       "    </tr>\n",
       "    <tr>\n",
       "      <th id=\"T_51a66_level0_row12\" class=\"row_heading level0 row12\" >Porcentaje pagado</th>\n",
       "      <td id=\"T_51a66_row12_col0\" class=\"data row12 col0\" >0.000899</td>\n",
       "    </tr>\n",
       "    <tr>\n",
       "      <th id=\"T_51a66_level0_row13\" class=\"row_heading level0 row13\" >Porcentaje no pagado</th>\n",
       "      <td id=\"T_51a66_row13_col0\" class=\"data row13 col0\" >0.000886</td>\n",
       "    </tr>\n",
       "  </tbody>\n",
       "</table>\n"
      ],
      "text/plain": [
       "<pandas.io.formats.style.Styler at 0x7fca515fc8e0>"
      ]
     },
     "execution_count": 54,
     "metadata": {},
     "output_type": "execute_result"
    }
   ],
   "source": [
    "correlacion_target[[\"fraud\"]].sort_values(by ='fraud',ascending = False).style.background_gradient()"
   ]
  },
  {
   "cell_type": "code",
   "execution_count": 55,
   "id": "36c1b277",
   "metadata": {},
   "outputs": [
    {
     "data": {
      "text/html": [
       "<div>\n",
       "<style scoped>\n",
       "    .dataframe tbody tr th:only-of-type {\n",
       "        vertical-align: middle;\n",
       "    }\n",
       "\n",
       "    .dataframe tbody tr th {\n",
       "        vertical-align: top;\n",
       "    }\n",
       "\n",
       "    .dataframe thead th {\n",
       "        text-align: right;\n",
       "    }\n",
       "</style>\n",
       "<table border=\"1\" class=\"dataframe\">\n",
       "  <thead>\n",
       "    <tr style=\"text-align: right;\">\n",
       "      <th></th>\n",
       "      <th>amount</th>\n",
       "      <th>debt</th>\n",
       "      <th>enrichment_ZN</th>\n",
       "      <th>enrichment_INDUS</th>\n",
       "      <th>enrichment_RM</th>\n",
       "      <th>enrichment_DIS</th>\n",
       "      <th>enrichment_RAD</th>\n",
       "      <th>enrichment_PTRATIO</th>\n",
       "      <th>enrichment_LSTAT</th>\n",
       "      <th>pagado</th>\n",
       "      <th>Porcentaje pagado</th>\n",
       "      <th>Peso monto por customer</th>\n",
       "      <th>Porcentaje no pagado</th>\n",
       "    </tr>\n",
       "  </thead>\n",
       "  <tbody>\n",
       "    <tr>\n",
       "      <th>0</th>\n",
       "      <td>4550.0</td>\n",
       "      <td>384.701865</td>\n",
       "      <td>18.0</td>\n",
       "      <td>2.31</td>\n",
       "      <td>6.575</td>\n",
       "      <td>4.0900</td>\n",
       "      <td>1.0</td>\n",
       "      <td>15.3</td>\n",
       "      <td>4.98</td>\n",
       "      <td>4165.298135</td>\n",
       "      <td>0.915450</td>\n",
       "      <td>0.001021</td>\n",
       "      <td>0.084550</td>\n",
       "    </tr>\n",
       "    <tr>\n",
       "      <th>1</th>\n",
       "      <td>14380.0</td>\n",
       "      <td>5346.143350</td>\n",
       "      <td>18.0</td>\n",
       "      <td>2.31</td>\n",
       "      <td>6.575</td>\n",
       "      <td>4.0900</td>\n",
       "      <td>1.0</td>\n",
       "      <td>15.3</td>\n",
       "      <td>4.98</td>\n",
       "      <td>9033.856650</td>\n",
       "      <td>0.628224</td>\n",
       "      <td>0.003228</td>\n",
       "      <td>0.371776</td>\n",
       "    </tr>\n",
       "    <tr>\n",
       "      <th>2</th>\n",
       "      <td>37210.0</td>\n",
       "      <td>15249.782295</td>\n",
       "      <td>18.0</td>\n",
       "      <td>2.31</td>\n",
       "      <td>6.575</td>\n",
       "      <td>4.0900</td>\n",
       "      <td>1.0</td>\n",
       "      <td>15.3</td>\n",
       "      <td>4.98</td>\n",
       "      <td>21960.217705</td>\n",
       "      <td>0.590170</td>\n",
       "      <td>0.008354</td>\n",
       "      <td>0.409830</td>\n",
       "    </tr>\n",
       "    <tr>\n",
       "      <th>3</th>\n",
       "      <td>31630.0</td>\n",
       "      <td>4101.539296</td>\n",
       "      <td>18.0</td>\n",
       "      <td>2.31</td>\n",
       "      <td>6.575</td>\n",
       "      <td>4.0900</td>\n",
       "      <td>0.0</td>\n",
       "      <td>15.3</td>\n",
       "      <td>4.98</td>\n",
       "      <td>27528.460704</td>\n",
       "      <td>0.870328</td>\n",
       "      <td>0.007101</td>\n",
       "      <td>0.129672</td>\n",
       "    </tr>\n",
       "    <tr>\n",
       "      <th>4</th>\n",
       "      <td>35860.0</td>\n",
       "      <td>14069.969512</td>\n",
       "      <td>18.0</td>\n",
       "      <td>2.31</td>\n",
       "      <td>6.575</td>\n",
       "      <td>4.0900</td>\n",
       "      <td>1.0</td>\n",
       "      <td>15.3</td>\n",
       "      <td>4.98</td>\n",
       "      <td>21790.030488</td>\n",
       "      <td>0.607642</td>\n",
       "      <td>0.008051</td>\n",
       "      <td>0.392358</td>\n",
       "    </tr>\n",
       "    <tr>\n",
       "      <th>...</th>\n",
       "      <td>...</td>\n",
       "      <td>...</td>\n",
       "      <td>...</td>\n",
       "      <td>...</td>\n",
       "      <td>...</td>\n",
       "      <td>...</td>\n",
       "      <td>...</td>\n",
       "      <td>...</td>\n",
       "      <td>...</td>\n",
       "      <td>...</td>\n",
       "      <td>...</td>\n",
       "      <td>...</td>\n",
       "      <td>...</td>\n",
       "    </tr>\n",
       "    <tr>\n",
       "      <th>557121</th>\n",
       "      <td>44280.0</td>\n",
       "      <td>14435.818181</td>\n",
       "      <td>25.0</td>\n",
       "      <td>5.13</td>\n",
       "      <td>6.456</td>\n",
       "      <td>7.2255</td>\n",
       "      <td>8.0</td>\n",
       "      <td>19.7</td>\n",
       "      <td>6.73</td>\n",
       "      <td>29844.181819</td>\n",
       "      <td>0.673988</td>\n",
       "      <td>0.303912</td>\n",
       "      <td>0.326012</td>\n",
       "    </tr>\n",
       "    <tr>\n",
       "      <th>557122</th>\n",
       "      <td>24700.0</td>\n",
       "      <td>11034.517175</td>\n",
       "      <td>0.0</td>\n",
       "      <td>5.13</td>\n",
       "      <td>6.456</td>\n",
       "      <td>7.2255</td>\n",
       "      <td>8.0</td>\n",
       "      <td>19.7</td>\n",
       "      <td>0.00</td>\n",
       "      <td>13665.482825</td>\n",
       "      <td>0.553258</td>\n",
       "      <td>0.169526</td>\n",
       "      <td>0.446742</td>\n",
       "    </tr>\n",
       "    <tr>\n",
       "      <th>557123</th>\n",
       "      <td>44220.0</td>\n",
       "      <td>2231.904715</td>\n",
       "      <td>25.0</td>\n",
       "      <td>5.13</td>\n",
       "      <td>0.000</td>\n",
       "      <td>0.0000</td>\n",
       "      <td>8.0</td>\n",
       "      <td>19.7</td>\n",
       "      <td>0.00</td>\n",
       "      <td>41988.095285</td>\n",
       "      <td>0.949527</td>\n",
       "      <td>0.303500</td>\n",
       "      <td>0.050473</td>\n",
       "    </tr>\n",
       "    <tr>\n",
       "      <th>557124</th>\n",
       "      <td>32500.0</td>\n",
       "      <td>10707.487456</td>\n",
       "      <td>25.0</td>\n",
       "      <td>5.13</td>\n",
       "      <td>6.456</td>\n",
       "      <td>7.2255</td>\n",
       "      <td>8.0</td>\n",
       "      <td>19.7</td>\n",
       "      <td>6.73</td>\n",
       "      <td>21792.512544</td>\n",
       "      <td>0.670539</td>\n",
       "      <td>0.223061</td>\n",
       "      <td>0.329461</td>\n",
       "    </tr>\n",
       "    <tr>\n",
       "      <th>557125</th>\n",
       "      <td>64760.0</td>\n",
       "      <td>6484.634258</td>\n",
       "      <td>25.0</td>\n",
       "      <td>5.13</td>\n",
       "      <td>6.762</td>\n",
       "      <td>7.9809</td>\n",
       "      <td>8.0</td>\n",
       "      <td>19.7</td>\n",
       "      <td>9.50</td>\n",
       "      <td>58275.365742</td>\n",
       "      <td>0.899867</td>\n",
       "      <td>1.000000</td>\n",
       "      <td>0.100133</td>\n",
       "    </tr>\n",
       "  </tbody>\n",
       "</table>\n",
       "<p>557126 rows × 13 columns</p>\n",
       "</div>"
      ],
      "text/plain": [
       "         amount          debt  enrichment_ZN  enrichment_INDUS  enrichment_RM  \\\n",
       "0        4550.0    384.701865           18.0              2.31          6.575   \n",
       "1       14380.0   5346.143350           18.0              2.31          6.575   \n",
       "2       37210.0  15249.782295           18.0              2.31          6.575   \n",
       "3       31630.0   4101.539296           18.0              2.31          6.575   \n",
       "4       35860.0  14069.969512           18.0              2.31          6.575   \n",
       "...         ...           ...            ...               ...            ...   \n",
       "557121  44280.0  14435.818181           25.0              5.13          6.456   \n",
       "557122  24700.0  11034.517175            0.0              5.13          6.456   \n",
       "557123  44220.0   2231.904715           25.0              5.13          0.000   \n",
       "557124  32500.0  10707.487456           25.0              5.13          6.456   \n",
       "557125  64760.0   6484.634258           25.0              5.13          6.762   \n",
       "\n",
       "        enrichment_DIS  enrichment_RAD  enrichment_PTRATIO  enrichment_LSTAT  \\\n",
       "0               4.0900             1.0                15.3              4.98   \n",
       "1               4.0900             1.0                15.3              4.98   \n",
       "2               4.0900             1.0                15.3              4.98   \n",
       "3               4.0900             0.0                15.3              4.98   \n",
       "4               4.0900             1.0                15.3              4.98   \n",
       "...                ...             ...                 ...               ...   \n",
       "557121          7.2255             8.0                19.7              6.73   \n",
       "557122          7.2255             8.0                19.7              0.00   \n",
       "557123          0.0000             8.0                19.7              0.00   \n",
       "557124          7.2255             8.0                19.7              6.73   \n",
       "557125          7.9809             8.0                19.7              9.50   \n",
       "\n",
       "              pagado  Porcentaje pagado  Peso monto por customer  \\\n",
       "0        4165.298135           0.915450                 0.001021   \n",
       "1        9033.856650           0.628224                 0.003228   \n",
       "2       21960.217705           0.590170                 0.008354   \n",
       "3       27528.460704           0.870328                 0.007101   \n",
       "4       21790.030488           0.607642                 0.008051   \n",
       "...              ...                ...                      ...   \n",
       "557121  29844.181819           0.673988                 0.303912   \n",
       "557122  13665.482825           0.553258                 0.169526   \n",
       "557123  41988.095285           0.949527                 0.303500   \n",
       "557124  21792.512544           0.670539                 0.223061   \n",
       "557125  58275.365742           0.899867                 1.000000   \n",
       "\n",
       "        Porcentaje no pagado  \n",
       "0                   0.084550  \n",
       "1                   0.371776  \n",
       "2                   0.409830  \n",
       "3                   0.129672  \n",
       "4                   0.392358  \n",
       "...                      ...  \n",
       "557121              0.326012  \n",
       "557122              0.446742  \n",
       "557123              0.050473  \n",
       "557124              0.329461  \n",
       "557125              0.100133  \n",
       "\n",
       "[557126 rows x 13 columns]"
      ]
     },
     "execution_count": 55,
     "metadata": {},
     "output_type": "execute_result"
    }
   ],
   "source": [
    "#No hay ninguna variable numerica que sobre ajuste el modelo y las categoricas no son necesarias para el modelo\n",
    "df_modelo=df_reducido[v_cont].copy()\n",
    "df_modelo"
   ]
  },
  {
   "cell_type": "markdown",
   "id": "c2dc8c31",
   "metadata": {},
   "source": [
    "# Balanceamiento de clases"
   ]
  },
  {
   "cell_type": "code",
   "execution_count": 56,
   "id": "d0961a7e",
   "metadata": {},
   "outputs": [],
   "source": [
    "#from imblearn.over_sampling import SMOTE\n",
    "#df_target=df_reducido[[\"fraud\"]]\n",
    "#smote = SMOTE(sampling_strategy='minority', random_state=0)\n",
    "#df_modelo, df_target = smote.fit_resample(df_modelo, df_target)"
   ]
  },
  {
   "cell_type": "code",
   "execution_count": 57,
   "id": "058a2bd7",
   "metadata": {},
   "outputs": [],
   "source": [
    "#from imblearn.under_sampling import RandomUnderSampler\n",
    "#ran=RandomUnderSampler()\n",
    "#df_target=df_reducido[[\"fraud\"]]\n",
    "#df_modelo, df_target= ran.fit_resample(df_modelo, df_target)"
   ]
  },
  {
   "cell_type": "code",
   "execution_count": 58,
   "id": "fd4f7cad",
   "metadata": {},
   "outputs": [],
   "source": [
    "from imblearn.over_sampling import RandomOverSampler\n",
    "ran=RandomOverSampler()\n",
    "df_target=df_reducido[[\"fraud\"]]\n",
    "df_modelo, df_target= ran.fit_resample(df_modelo, df_target)"
   ]
  },
  {
   "cell_type": "code",
   "execution_count": 59,
   "id": "039634da",
   "metadata": {},
   "outputs": [
    {
     "name": "stderr",
     "output_type": "stream",
     "text": [
      "/Users/jesusarredondo/Documents/Diplomado/Modulo3/mod3/lib/python3.9/site-packages/seaborn/_decorators.py:36: FutureWarning:\n",
      "\n",
      "Pass the following variable as a keyword arg: x. From version 0.12, the only valid positional argument will be `data`, and passing other arguments without an explicit keyword will result in an error or misinterpretation.\n",
      "\n"
     ]
    },
    {
     "data": {
      "text/plain": [
       "<AxesSubplot:xlabel='fraud', ylabel='count'>"
      ]
     },
     "execution_count": 59,
     "metadata": {},
     "output_type": "execute_result"
    },
    {
     "data": {
      "image/png": "[encoded data removed]",
      "text/plain": [
       "<Figure size 432x288 with 1 Axes>"
      ]
     },
     "metadata": {},
     "output_type": "display_data"
    }
   ],
   "source": [
    "sns.countplot(df_target[\"fraud\"])"
   ]
  },
  {
   "cell_type": "code",
   "execution_count": 60,
   "id": "534aa40f",
   "metadata": {},
   "outputs": [
    {
     "data": {
      "text/plain": [
       "(1112576, 1)"
      ]
     },
     "execution_count": 60,
     "metadata": {},
     "output_type": "execute_result"
    }
   ],
   "source": [
    "df_target.shape"
   ]
  },
  {
   "cell_type": "code",
   "execution_count": 61,
   "id": "14d96e70",
   "metadata": {},
   "outputs": [
    {
     "data": {
      "text/plain": [
       "(1112576, 13)"
      ]
     },
     "execution_count": 61,
     "metadata": {},
     "output_type": "execute_result"
    }
   ],
   "source": [
    "df_modelo.shape"
   ]
  },
  {
   "cell_type": "markdown",
   "id": "5b9af07f",
   "metadata": {},
   "source": [
    "# Estandarización de los datos"
   ]
  },
  {
   "cell_type": "code",
   "execution_count": 62,
   "id": "68012a67",
   "metadata": {},
   "outputs": [
    {
     "data": {
      "text/html": [
       "<div>\n",
       "<style scoped>\n",
       "    .dataframe tbody tr th:only-of-type {\n",
       "        vertical-align: middle;\n",
       "    }\n",
       "\n",
       "    .dataframe tbody tr th {\n",
       "        vertical-align: top;\n",
       "    }\n",
       "\n",
       "    .dataframe thead th {\n",
       "        text-align: right;\n",
       "    }\n",
       "</style>\n",
       "<table border=\"1\" class=\"dataframe\">\n",
       "  <thead>\n",
       "    <tr style=\"text-align: right;\">\n",
       "      <th></th>\n",
       "      <th>amount</th>\n",
       "      <th>debt</th>\n",
       "      <th>enrichment_ZN</th>\n",
       "      <th>enrichment_INDUS</th>\n",
       "      <th>enrichment_RM</th>\n",
       "      <th>enrichment_DIS</th>\n",
       "      <th>enrichment_RAD</th>\n",
       "      <th>enrichment_PTRATIO</th>\n",
       "      <th>enrichment_LSTAT</th>\n",
       "      <th>pagado</th>\n",
       "      <th>Porcentaje pagado</th>\n",
       "      <th>Peso monto por customer</th>\n",
       "      <th>Porcentaje no pagado</th>\n",
       "    </tr>\n",
       "  </thead>\n",
       "  <tbody>\n",
       "    <tr>\n",
       "      <th>0</th>\n",
       "      <td>-1.391784</td>\n",
       "      <td>-1.150205</td>\n",
       "      <td>0.270873</td>\n",
       "      <td>-1.032147</td>\n",
       "      <td>0.468223</td>\n",
       "      <td>0.131564</td>\n",
       "      <td>-0.856465</td>\n",
       "      <td>-0.198799</td>\n",
       "      <td>-0.837463</td>\n",
       "      <td>-1.276833</td>\n",
       "      <td>1.454841</td>\n",
       "      <td>-0.459325</td>\n",
       "      <td>-1.455474</td>\n",
       "    </tr>\n",
       "    <tr>\n",
       "      <th>1</th>\n",
       "      <td>-0.882986</td>\n",
       "      <td>-0.439027</td>\n",
       "      <td>0.270873</td>\n",
       "      <td>-1.032147</td>\n",
       "      <td>0.468223</td>\n",
       "      <td>0.131564</td>\n",
       "      <td>-0.856465</td>\n",
       "      <td>-0.198799</td>\n",
       "      <td>-0.837463</td>\n",
       "      <td>-0.947317</td>\n",
       "      <td>-0.833071</td>\n",
       "      <td>-0.405252</td>\n",
       "      <td>0.834019</td>\n",
       "    </tr>\n",
       "    <tr>\n",
       "      <th>2</th>\n",
       "      <td>0.298690</td>\n",
       "      <td>0.980572</td>\n",
       "      <td>0.270873</td>\n",
       "      <td>-1.032147</td>\n",
       "      <td>0.468223</td>\n",
       "      <td>0.131564</td>\n",
       "      <td>-0.856465</td>\n",
       "      <td>-0.198799</td>\n",
       "      <td>-0.837463</td>\n",
       "      <td>-0.072429</td>\n",
       "      <td>-1.136191</td>\n",
       "      <td>-0.279668</td>\n",
       "      <td>1.137348</td>\n",
       "    </tr>\n",
       "    <tr>\n",
       "      <th>3</th>\n",
       "      <td>0.009871</td>\n",
       "      <td>-0.617429</td>\n",
       "      <td>0.270873</td>\n",
       "      <td>-1.032147</td>\n",
       "      <td>0.468223</td>\n",
       "      <td>0.131564</td>\n",
       "      <td>-0.969415</td>\n",
       "      <td>-0.198799</td>\n",
       "      <td>-0.837463</td>\n",
       "      <td>0.304444</td>\n",
       "      <td>1.095415</td>\n",
       "      <td>-0.310363</td>\n",
       "      <td>-1.095800</td>\n",
       "    </tr>\n",
       "    <tr>\n",
       "      <th>4</th>\n",
       "      <td>0.228815</td>\n",
       "      <td>0.811456</td>\n",
       "      <td>0.270873</td>\n",
       "      <td>-1.032147</td>\n",
       "      <td>0.468223</td>\n",
       "      <td>0.131564</td>\n",
       "      <td>-0.856465</td>\n",
       "      <td>-0.198799</td>\n",
       "      <td>-0.837463</td>\n",
       "      <td>-0.083947</td>\n",
       "      <td>-0.997018</td>\n",
       "      <td>-0.287095</td>\n",
       "      <td>0.998079</td>\n",
       "    </tr>\n",
       "    <tr>\n",
       "      <th>...</th>\n",
       "      <td>...</td>\n",
       "      <td>...</td>\n",
       "      <td>...</td>\n",
       "      <td>...</td>\n",
       "      <td>...</td>\n",
       "      <td>...</td>\n",
       "      <td>...</td>\n",
       "      <td>...</td>\n",
       "      <td>...</td>\n",
       "      <td>...</td>\n",
       "      <td>...</td>\n",
       "      <td>...</td>\n",
       "      <td>...</td>\n",
       "    </tr>\n",
       "    <tr>\n",
       "      <th>1112571</th>\n",
       "      <td>0.923949</td>\n",
       "      <td>-0.607087</td>\n",
       "      <td>-0.470653</td>\n",
       "      <td>-0.326684</td>\n",
       "      <td>0.386183</td>\n",
       "      <td>0.402008</td>\n",
       "      <td>-0.404664</td>\n",
       "      <td>0.515926</td>\n",
       "      <td>-0.692249</td>\n",
       "      <td>1.494833</td>\n",
       "      <td>1.453834</td>\n",
       "      <td>-0.090351</td>\n",
       "      <td>-1.454467</td>\n",
       "    </tr>\n",
       "    <tr>\n",
       "      <th>1112572</th>\n",
       "      <td>0.112873</td>\n",
       "      <td>0.461907</td>\n",
       "      <td>-0.470653</td>\n",
       "      <td>-0.220934</td>\n",
       "      <td>0.026236</td>\n",
       "      <td>0.192843</td>\n",
       "      <td>-0.517614</td>\n",
       "      <td>-2.741890</td>\n",
       "      <td>1.406986</td>\n",
       "      <td>-0.070507</td>\n",
       "      <td>-0.627480</td>\n",
       "      <td>1.041456</td>\n",
       "      <td>0.628286</td>\n",
       "    </tr>\n",
       "    <tr>\n",
       "      <th>1112573</th>\n",
       "      <td>0.716909</td>\n",
       "      <td>-0.673110</td>\n",
       "      <td>-0.470653</td>\n",
       "      <td>-0.902742</td>\n",
       "      <td>0.344138</td>\n",
       "      <td>0.613486</td>\n",
       "      <td>-0.517614</td>\n",
       "      <td>0.067145</td>\n",
       "      <td>-0.536844</td>\n",
       "      <td>1.255278</td>\n",
       "      <td>1.475273</td>\n",
       "      <td>0.212023</td>\n",
       "      <td>-1.475920</td>\n",
       "    </tr>\n",
       "    <tr>\n",
       "      <th>1112574</th>\n",
       "      <td>-1.132468</td>\n",
       "      <td>-0.606222</td>\n",
       "      <td>-0.470653</td>\n",
       "      <td>1.164945</td>\n",
       "      <td>0.381056</td>\n",
       "      <td>-0.902558</td>\n",
       "      <td>1.741388</td>\n",
       "      <td>0.615655</td>\n",
       "      <td>0.995546</td>\n",
       "      <td>-1.194601</td>\n",
       "      <td>-1.354286</td>\n",
       "      <td>-0.125774</td>\n",
       "      <td>1.355595</td>\n",
       "    </tr>\n",
       "    <tr>\n",
       "      <th>1112575</th>\n",
       "      <td>0.476226</td>\n",
       "      <td>-0.233935</td>\n",
       "      <td>-0.470653</td>\n",
       "      <td>1.164945</td>\n",
       "      <td>-0.358324</td>\n",
       "      <td>-0.870204</td>\n",
       "      <td>1.741388</td>\n",
       "      <td>0.615655</td>\n",
       "      <td>0.311512</td>\n",
       "      <td>0.733185</td>\n",
       "      <td>0.800030</td>\n",
       "      <td>0.401828</td>\n",
       "      <td>-0.800210</td>\n",
       "    </tr>\n",
       "  </tbody>\n",
       "</table>\n",
       "<p>1112576 rows × 13 columns</p>\n",
       "</div>"
      ],
      "text/plain": [
       "           amount      debt  enrichment_ZN  enrichment_INDUS  enrichment_RM  \\\n",
       "0       -1.391784 -1.150205       0.270873         -1.032147       0.468223   \n",
       "1       -0.882986 -0.439027       0.270873         -1.032147       0.468223   \n",
       "2        0.298690  0.980572       0.270873         -1.032147       0.468223   \n",
       "3        0.009871 -0.617429       0.270873         -1.032147       0.468223   \n",
       "4        0.228815  0.811456       0.270873         -1.032147       0.468223   \n",
       "...           ...       ...            ...               ...            ...   \n",
       "1112571  0.923949 -0.607087      -0.470653         -0.326684       0.386183   \n",
       "1112572  0.112873  0.461907      -0.470653         -0.220934       0.026236   \n",
       "1112573  0.716909 -0.673110      -0.470653         -0.902742       0.344138   \n",
       "1112574 -1.132468 -0.606222      -0.470653          1.164945       0.381056   \n",
       "1112575  0.476226 -0.233935      -0.470653          1.164945      -0.358324   \n",
       "\n",
       "         enrichment_DIS  enrichment_RAD  enrichment_PTRATIO  enrichment_LSTAT  \\\n",
       "0              0.131564       -0.856465           -0.198799         -0.837463   \n",
       "1              0.131564       -0.856465           -0.198799         -0.837463   \n",
       "2              0.131564       -0.856465           -0.198799         -0.837463   \n",
       "3              0.131564       -0.969415           -0.198799         -0.837463   \n",
       "4              0.131564       -0.856465           -0.198799         -0.837463   \n",
       "...                 ...             ...                 ...               ...   \n",
       "1112571        0.402008       -0.404664            0.515926         -0.692249   \n",
       "1112572        0.192843       -0.517614           -2.741890          1.406986   \n",
       "1112573        0.613486       -0.517614            0.067145         -0.536844   \n",
       "1112574       -0.902558        1.741388            0.615655          0.995546   \n",
       "1112575       -0.870204        1.741388            0.615655          0.311512   \n",
       "\n",
       "           pagado  Porcentaje pagado  Peso monto por customer  \\\n",
       "0       -1.276833           1.454841                -0.459325   \n",
       "1       -0.947317          -0.833071                -0.405252   \n",
       "2       -0.072429          -1.136191                -0.279668   \n",
       "3        0.304444           1.095415                -0.310363   \n",
       "4       -0.083947          -0.997018                -0.287095   \n",
       "...           ...                ...                      ...   \n",
       "1112571  1.494833           1.453834                -0.090351   \n",
       "1112572 -0.070507          -0.627480                 1.041456   \n",
       "1112573  1.255278           1.475273                 0.212023   \n",
       "1112574 -1.194601          -1.354286                -0.125774   \n",
       "1112575  0.733185           0.800030                 0.401828   \n",
       "\n",
       "         Porcentaje no pagado  \n",
       "0                   -1.455474  \n",
       "1                    0.834019  \n",
       "2                    1.137348  \n",
       "3                   -1.095800  \n",
       "4                    0.998079  \n",
       "...                       ...  \n",
       "1112571             -1.454467  \n",
       "1112572              0.628286  \n",
       "1112573             -1.475920  \n",
       "1112574              1.355595  \n",
       "1112575             -0.800210  \n",
       "\n",
       "[1112576 rows x 13 columns]"
      ]
     },
     "execution_count": 62,
     "metadata": {},
     "output_type": "execute_result"
    }
   ],
   "source": [
    "#Estandarizacion de los datos\n",
    "# Import la clase\n",
    "from sklearn.preprocessing import StandardScaler\n",
    "\n",
    "# Instanciamos la clase\n",
    "sc = StandardScaler()\n",
    "\n",
    "# Ajustamos la clase\n",
    "sc.fit(df_modelo)\n",
    "\n",
    "# Transformamos nuestro dataframe\n",
    "X = pd.DataFrame(sc.transform(df_modelo), columns = df_modelo.columns, index = df_modelo.index)\n",
    "X"
   ]
  },
  {
   "cell_type": "code",
   "execution_count": 63,
   "id": "e4301e0b",
   "metadata": {},
   "outputs": [
    {
     "data": {
      "text/html": [
       "<div>\n",
       "<style scoped>\n",
       "    .dataframe tbody tr th:only-of-type {\n",
       "        vertical-align: middle;\n",
       "    }\n",
       "\n",
       "    .dataframe tbody tr th {\n",
       "        vertical-align: top;\n",
       "    }\n",
       "\n",
       "    .dataframe thead th {\n",
       "        text-align: right;\n",
       "    }\n",
       "</style>\n",
       "<table border=\"1\" class=\"dataframe\">\n",
       "  <thead>\n",
       "    <tr style=\"text-align: right;\">\n",
       "      <th></th>\n",
       "      <th>amount</th>\n",
       "      <th>debt</th>\n",
       "      <th>enrichment_ZN</th>\n",
       "      <th>enrichment_INDUS</th>\n",
       "      <th>enrichment_RM</th>\n",
       "      <th>enrichment_DIS</th>\n",
       "      <th>enrichment_RAD</th>\n",
       "      <th>enrichment_PTRATIO</th>\n",
       "      <th>enrichment_LSTAT</th>\n",
       "      <th>pagado</th>\n",
       "      <th>Porcentaje pagado</th>\n",
       "      <th>Peso monto por customer</th>\n",
       "      <th>Porcentaje no pagado</th>\n",
       "    </tr>\n",
       "  </thead>\n",
       "  <tbody>\n",
       "    <tr>\n",
       "      <th>count</th>\n",
       "      <td>1.112576e+06</td>\n",
       "      <td>1.112576e+06</td>\n",
       "      <td>1.112576e+06</td>\n",
       "      <td>1.112576e+06</td>\n",
       "      <td>1.112576e+06</td>\n",
       "      <td>1.112576e+06</td>\n",
       "      <td>1.112576e+06</td>\n",
       "      <td>1.112576e+06</td>\n",
       "      <td>1.112576e+06</td>\n",
       "      <td>1.112576e+06</td>\n",
       "      <td>1.112576e+06</td>\n",
       "      <td>1.112576e+06</td>\n",
       "      <td>1.112576e+06</td>\n",
       "    </tr>\n",
       "    <tr>\n",
       "      <th>mean</th>\n",
       "      <td>4.230394e-17</td>\n",
       "      <td>-1.070882e-16</td>\n",
       "      <td>7.382753e-17</td>\n",
       "      <td>-7.694413e-17</td>\n",
       "      <td>1.975844e-16</td>\n",
       "      <td>-2.391092e-17</td>\n",
       "      <td>-3.027823e-17</td>\n",
       "      <td>4.987573e-16</td>\n",
       "      <td>-2.072280e-16</td>\n",
       "      <td>-2.348175e-16</td>\n",
       "      <td>4.934055e-16</td>\n",
       "      <td>-2.656769e-17</td>\n",
       "      <td>-5.034642e-16</td>\n",
       "    </tr>\n",
       "    <tr>\n",
       "      <th>std</th>\n",
       "      <td>1.000000e+00</td>\n",
       "      <td>1.000000e+00</td>\n",
       "      <td>1.000000e+00</td>\n",
       "      <td>1.000000e+00</td>\n",
       "      <td>1.000000e+00</td>\n",
       "      <td>1.000000e+00</td>\n",
       "      <td>1.000000e+00</td>\n",
       "      <td>1.000000e+00</td>\n",
       "      <td>1.000000e+00</td>\n",
       "      <td>1.000000e+00</td>\n",
       "      <td>1.000000e+00</td>\n",
       "      <td>1.000000e+00</td>\n",
       "      <td>1.000000e+00</td>\n",
       "    </tr>\n",
       "    <tr>\n",
       "      <th>min</th>\n",
       "      <td>-1.627291e+00</td>\n",
       "      <td>-1.205349e+00</td>\n",
       "      <td>-4.706527e-01</td>\n",
       "      <td>-1.353570e+00</td>\n",
       "      <td>-2.903084e+00</td>\n",
       "      <td>-1.621113e+00</td>\n",
       "      <td>-9.694147e-01</td>\n",
       "      <td>-2.741890e+00</td>\n",
       "      <td>-1.471819e+00</td>\n",
       "      <td>-1.558751e+00</td>\n",
       "      <td>-5.837207e+00</td>\n",
       "      <td>-4.843542e-01</td>\n",
       "      <td>-2.129424e+00</td>\n",
       "    </tr>\n",
       "    <tr>\n",
       "      <th>25%</th>\n",
       "      <td>-8.358842e-01</td>\n",
       "      <td>-7.846760e-01</td>\n",
       "      <td>-4.706527e-01</td>\n",
       "      <td>-8.749133e-01</td>\n",
       "      <td>2.623553e-02</td>\n",
       "      <td>-7.671008e-01</td>\n",
       "      <td>-6.305645e-01</td>\n",
       "      <td>-9.907012e-02</td>\n",
       "      <td>-7.215462e-01</td>\n",
       "      <td>-8.282228e-01</td>\n",
       "      <td>-8.731862e-01</td>\n",
       "      <td>-3.716029e-01</td>\n",
       "      <td>-8.536117e-01</td>\n",
       "    </tr>\n",
       "    <tr>\n",
       "      <th>50%</th>\n",
       "      <td>-8.329689e-02</td>\n",
       "      <td>-2.703571e-01</td>\n",
       "      <td>-4.706527e-01</td>\n",
       "      <td>-2.585033e-01</td>\n",
       "      <td>2.349233e-01</td>\n",
       "      <td>-2.501682e-01</td>\n",
       "      <td>-4.046643e-01</td>\n",
       "      <td>3.164677e-01</td>\n",
       "      <td>-1.712613e-01</td>\n",
       "      <td>-1.103257e-01</td>\n",
       "      <td>1.850809e-02</td>\n",
       "      <td>-2.618007e-01</td>\n",
       "      <td>-1.846611e-02</td>\n",
       "    </tr>\n",
       "    <tr>\n",
       "      <th>75%</th>\n",
       "      <td>7.577997e-01</td>\n",
       "      <td>5.217315e-01</td>\n",
       "      <td>4.429593e-02</td>\n",
       "      <td>1.164945e+00</td>\n",
       "      <td>4.354071e-01</td>\n",
       "      <td>6.932350e-01</td>\n",
       "      <td>-6.581399e-02</td>\n",
       "      <td>6.156549e-01</td>\n",
       "      <td>6.044875e-01</td>\n",
       "      <td>7.291569e-01</td>\n",
       "      <td>8.533944e-01</td>\n",
       "      <td>-9.500306e-02</td>\n",
       "      <td>8.738095e-01</td>\n",
       "    </tr>\n",
       "    <tr>\n",
       "      <th>max</th>\n",
       "      <td>2.065252e+00</td>\n",
       "      <td>3.749458e+00</td>\n",
       "      <td>3.648937e+00</td>\n",
       "      <td>2.506297e+00</td>\n",
       "      <td>1.598828e+00</td>\n",
       "      <td>3.575425e+00</td>\n",
       "      <td>1.741388e+00</td>\n",
       "      <td>9.148421e-01</td>\n",
       "      <td>3.364828e+00</td>\n",
       "      <td>3.024020e+00</td>\n",
       "      <td>1.730032e+00</td>\n",
       "      <td>2.401802e+01</td>\n",
       "      <td>1.752464e+00</td>\n",
       "    </tr>\n",
       "  </tbody>\n",
       "</table>\n",
       "</div>"
      ],
      "text/plain": [
       "             amount          debt  enrichment_ZN  enrichment_INDUS  \\\n",
       "count  1.112576e+06  1.112576e+06   1.112576e+06      1.112576e+06   \n",
       "mean   4.230394e-17 -1.070882e-16   7.382753e-17     -7.694413e-17   \n",
       "std    1.000000e+00  1.000000e+00   1.000000e+00      1.000000e+00   \n",
       "min   -1.627291e+00 -1.205349e+00  -4.706527e-01     -1.353570e+00   \n",
       "25%   -8.358842e-01 -7.846760e-01  -4.706527e-01     -8.749133e-01   \n",
       "50%   -8.329689e-02 -2.703571e-01  -4.706527e-01     -2.585033e-01   \n",
       "75%    7.577997e-01  5.217315e-01   4.429593e-02      1.164945e+00   \n",
       "max    2.065252e+00  3.749458e+00   3.648937e+00      2.506297e+00   \n",
       "\n",
       "       enrichment_RM  enrichment_DIS  enrichment_RAD  enrichment_PTRATIO  \\\n",
       "count   1.112576e+06    1.112576e+06    1.112576e+06        1.112576e+06   \n",
       "mean    1.975844e-16   -2.391092e-17   -3.027823e-17        4.987573e-16   \n",
       "std     1.000000e+00    1.000000e+00    1.000000e+00        1.000000e+00   \n",
       "min    -2.903084e+00   -1.621113e+00   -9.694147e-01       -2.741890e+00   \n",
       "25%     2.623553e-02   -7.671008e-01   -6.305645e-01       -9.907012e-02   \n",
       "50%     2.349233e-01   -2.501682e-01   -4.046643e-01        3.164677e-01   \n",
       "75%     4.354071e-01    6.932350e-01   -6.581399e-02        6.156549e-01   \n",
       "max     1.598828e+00    3.575425e+00    1.741388e+00        9.148421e-01   \n",
       "\n",
       "       enrichment_LSTAT        pagado  Porcentaje pagado  \\\n",
       "count      1.112576e+06  1.112576e+06       1.112576e+06   \n",
       "mean      -2.072280e-16 -2.348175e-16       4.934055e-16   \n",
       "std        1.000000e+00  1.000000e+00       1.000000e+00   \n",
       "min       -1.471819e+00 -1.558751e+00      -5.837207e+00   \n",
       "25%       -7.215462e-01 -8.282228e-01      -8.731862e-01   \n",
       "50%       -1.712613e-01 -1.103257e-01       1.850809e-02   \n",
       "75%        6.044875e-01  7.291569e-01       8.533944e-01   \n",
       "max        3.364828e+00  3.024020e+00       1.730032e+00   \n",
       "\n",
       "       Peso monto por customer  Porcentaje no pagado  \n",
       "count             1.112576e+06          1.112576e+06  \n",
       "mean             -2.656769e-17         -5.034642e-16  \n",
       "std               1.000000e+00          1.000000e+00  \n",
       "min              -4.843542e-01         -2.129424e+00  \n",
       "25%              -3.716029e-01         -8.536117e-01  \n",
       "50%              -2.618007e-01         -1.846611e-02  \n",
       "75%              -9.500306e-02          8.738095e-01  \n",
       "max               2.401802e+01          1.752464e+00  "
      ]
     },
     "execution_count": 63,
     "metadata": {},
     "output_type": "execute_result"
    }
   ],
   "source": [
    "X.describe()"
   ]
  },
  {
   "cell_type": "code",
   "execution_count": 64,
   "id": "e71b673a",
   "metadata": {},
   "outputs": [
    {
     "data": {
      "text/plain": [
       "amount                     0\n",
       "debt                       0\n",
       "enrichment_ZN              0\n",
       "enrichment_INDUS           0\n",
       "enrichment_RM              0\n",
       "enrichment_DIS             0\n",
       "enrichment_RAD             0\n",
       "enrichment_PTRATIO         0\n",
       "enrichment_LSTAT           0\n",
       "pagado                     0\n",
       "Porcentaje pagado          0\n",
       "Peso monto por customer    0\n",
       "Porcentaje no pagado       0\n",
       "dtype: int64"
      ]
     },
     "execution_count": 64,
     "metadata": {},
     "output_type": "execute_result"
    }
   ],
   "source": [
    "X.isnull().sum()"
   ]
  },
  {
   "cell_type": "markdown",
   "id": "e31b35fd",
   "metadata": {},
   "source": [
    "# Modelación no supervisada"
   ]
  },
  {
   "cell_type": "markdown",
   "id": "fc862efd",
   "metadata": {},
   "source": [
    "## PCA (En dimension 2)"
   ]
  },
  {
   "cell_type": "code",
   "execution_count": 65,
   "id": "41c7e472",
   "metadata": {},
   "outputs": [],
   "source": [
    "from sklearn.decomposition import PCA\n",
    "pca=PCA(n_components=2)"
   ]
  },
  {
   "cell_type": "code",
   "execution_count": 66,
   "id": "d4b39370",
   "metadata": {},
   "outputs": [
    {
     "data": {
      "text/html": [
       "<style>#sk-container-id-1 {color: black;background-color: white;}#sk-container-id-1 pre{padding: 0;}#sk-container-id-1 div.sk-toggleable {background-color: white;}#sk-container-id-1 label.sk-toggleable__label {cursor: pointer;display: block;width: 100%;margin-bottom: 0;padding: 0.3em;box-sizing: border-box;text-align: center;}#sk-container-id-1 label.sk-toggleable__label-arrow:before {content: \"▸\";float: left;margin-right: 0.25em;color: #696969;}#sk-container-id-1 label.sk-toggleable__label-arrow:hover:before {color: black;}#sk-container-id-1 div.sk-estimator:hover label.sk-toggleable__label-arrow:before {color: black;}#sk-container-id-1 div.sk-toggleable__content {max-height: 0;max-width: 0;overflow: hidden;text-align: left;background-color: #f0f8ff;}#sk-container-id-1 div.sk-toggleable__content pre {margin: 0.2em;color: black;border-radius: 0.25em;background-color: #f0f8ff;}#sk-container-id-1 input.sk-toggleable__control:checked~div.sk-toggleable__content {max-height: 200px;max-width: 100%;overflow: auto;}#sk-container-id-1 input.sk-toggleable__control:checked~label.sk-toggleable__label-arrow:before {content: \"▾\";}#sk-container-id-1 div.sk-estimator input.sk-toggleable__control:checked~label.sk-toggleable__label {background-color: #d4ebff;}#sk-container-id-1 div.sk-label input.sk-toggleable__control:checked~label.sk-toggleable__label {background-color: #d4ebff;}#sk-container-id-1 input.sk-hidden--visually {border: 0;clip: rect(1px 1px 1px 1px);clip: rect(1px, 1px, 1px, 1px);height: 1px;margin: -1px;overflow: hidden;padding: 0;position: absolute;width: 1px;}#sk-container-id-1 div.sk-estimator {font-family: monospace;background-color: #f0f8ff;border: 1px dotted black;border-radius: 0.25em;box-sizing: border-box;margin-bottom: 0.5em;}#sk-container-id-1 div.sk-estimator:hover {background-color: #d4ebff;}#sk-container-id-1 div.sk-parallel-item::after {content: \"\";width: 100%;border-bottom: 1px solid gray;flex-grow: 1;}#sk-container-id-1 div.sk-label:hover label.sk-toggleable__label {background-color: #d4ebff;}#sk-container-id-1 div.sk-serial::before {content: \"\";position: absolute;border-left: 1px solid gray;box-sizing: border-box;top: 0;bottom: 0;left: 50%;z-index: 0;}#sk-container-id-1 div.sk-serial {display: flex;flex-direction: column;align-items: center;background-color: white;padding-right: 0.2em;padding-left: 0.2em;position: relative;}#sk-container-id-1 div.sk-item {position: relative;z-index: 1;}#sk-container-id-1 div.sk-parallel {display: flex;align-items: stretch;justify-content: center;background-color: white;position: relative;}#sk-container-id-1 div.sk-item::before, #sk-container-id-1 div.sk-parallel-item::before {content: \"\";position: absolute;border-left: 1px solid gray;box-sizing: border-box;top: 0;bottom: 0;left: 50%;z-index: -1;}#sk-container-id-1 div.sk-parallel-item {display: flex;flex-direction: column;z-index: 1;position: relative;background-color: white;}#sk-container-id-1 div.sk-parallel-item:first-child::after {align-self: flex-end;width: 50%;}#sk-container-id-1 div.sk-parallel-item:last-child::after {align-self: flex-start;width: 50%;}#sk-container-id-1 div.sk-parallel-item:only-child::after {width: 0;}#sk-container-id-1 div.sk-dashed-wrapped {border: 1px dashed gray;margin: 0 0.4em 0.5em 0.4em;box-sizing: border-box;padding-bottom: 0.4em;background-color: white;}#sk-container-id-1 div.sk-label label {font-family: monospace;font-weight: bold;display: inline-block;line-height: 1.2em;}#sk-container-id-1 div.sk-label-container {text-align: center;}#sk-container-id-1 div.sk-container {/* jupyter's `normalize.less` sets `[hidden] { display: none; }` but bootstrap.min.css set `[hidden] { display: none !important; }` so we also need the `!important` here to be able to override the default hidden behavior on the sphinx rendered scikit-learn.org. See: https://github.com/scikit-learn/scikit-learn/issues/21755 */display: inline-block !important;position: relative;}#sk-container-id-1 div.sk-text-repr-fallback {display: none;}</style><div id=\"sk-container-id-1\" class=\"sk-top-container\"><div class=\"sk-text-repr-fallback\"><pre>PCA(n_components=2)</pre><b>In a Jupyter environment, please rerun this cell to show the HTML representation or trust the notebook. <br />On GitHub, the HTML representation is unable to render, please try loading this page with nbviewer.org.</b></div><div class=\"sk-container\" hidden><div class=\"sk-item\"><div class=\"sk-estimator sk-toggleable\"><input class=\"sk-toggleable__control sk-hidden--visually\" id=\"sk-estimator-id-1\" type=\"checkbox\" checked><label for=\"sk-estimator-id-1\" class=\"sk-toggleable__label sk-toggleable__label-arrow\">PCA</label><div class=\"sk-toggleable__content\"><pre>PCA(n_components=2)</pre></div></div></div></div></div>"
      ],
      "text/plain": [
       "PCA(n_components=2)"
      ]
     },
     "execution_count": 66,
     "metadata": {},
     "output_type": "execute_result"
    }
   ],
   "source": [
    "pca.fit(X)"
   ]
  },
  {
   "cell_type": "code",
   "execution_count": 67,
   "id": "b425c675",
   "metadata": {},
   "outputs": [
    {
     "data": {
      "text/plain": [
       "array([0.212987  , 0.20829574])"
      ]
     },
     "execution_count": 67,
     "metadata": {},
     "output_type": "execute_result"
    }
   ],
   "source": [
    "pca.explained_variance_ratio_"
   ]
  },
  {
   "cell_type": "code",
   "execution_count": 68,
   "id": "2dd590ac",
   "metadata": {},
   "outputs": [
    {
     "data": {
      "text/plain": [
       "array([0.212987  , 0.42128274])"
      ]
     },
     "execution_count": 68,
     "metadata": {},
     "output_type": "execute_result"
    }
   ],
   "source": [
    "pca.explained_variance_ratio_.cumsum()"
   ]
  },
  {
   "cell_type": "code",
   "execution_count": 69,
   "id": "c4e78936",
   "metadata": {},
   "outputs": [
    {
     "data": {
      "text/html": [
       "<div>\n",
       "<style scoped>\n",
       "    .dataframe tbody tr th:only-of-type {\n",
       "        vertical-align: middle;\n",
       "    }\n",
       "\n",
       "    .dataframe tbody tr th {\n",
       "        vertical-align: top;\n",
       "    }\n",
       "\n",
       "    .dataframe thead th {\n",
       "        text-align: right;\n",
       "    }\n",
       "</style>\n",
       "<table border=\"1\" class=\"dataframe\">\n",
       "  <thead>\n",
       "    <tr style=\"text-align: right;\">\n",
       "      <th></th>\n",
       "      <th>p1</th>\n",
       "      <th>p2</th>\n",
       "    </tr>\n",
       "  </thead>\n",
       "  <tbody>\n",
       "    <tr>\n",
       "      <th>0</th>\n",
       "      <td>2.274428</td>\n",
       "      <td>-2.256394</td>\n",
       "    </tr>\n",
       "    <tr>\n",
       "      <th>1</th>\n",
       "      <td>1.703395</td>\n",
       "      <td>-0.158439</td>\n",
       "    </tr>\n",
       "    <tr>\n",
       "      <th>2</th>\n",
       "      <td>1.013091</td>\n",
       "      <td>1.722212</td>\n",
       "    </tr>\n",
       "    <tr>\n",
       "      <th>3</th>\n",
       "      <td>1.618514</td>\n",
       "      <td>-0.431375</td>\n",
       "    </tr>\n",
       "    <tr>\n",
       "      <th>4</th>\n",
       "      <td>1.077461</td>\n",
       "      <td>1.509569</td>\n",
       "    </tr>\n",
       "    <tr>\n",
       "      <th>...</th>\n",
       "      <td>...</td>\n",
       "      <td>...</td>\n",
       "    </tr>\n",
       "    <tr>\n",
       "      <th>1112571</th>\n",
       "      <td>0.385579</td>\n",
       "      <td>0.005139</td>\n",
       "    </tr>\n",
       "    <tr>\n",
       "      <th>1112572</th>\n",
       "      <td>-0.170144</td>\n",
       "      <td>0.869000</td>\n",
       "    </tr>\n",
       "    <tr>\n",
       "      <th>1112573</th>\n",
       "      <td>0.861650</td>\n",
       "      <td>-0.027876</td>\n",
       "    </tr>\n",
       "    <tr>\n",
       "      <th>1112574</th>\n",
       "      <td>-1.825933</td>\n",
       "      <td>-1.338440</td>\n",
       "    </tr>\n",
       "    <tr>\n",
       "      <th>1112575</th>\n",
       "      <td>-2.143225</td>\n",
       "      <td>-0.699231</td>\n",
       "    </tr>\n",
       "  </tbody>\n",
       "</table>\n",
       "<p>1112576 rows × 2 columns</p>\n",
       "</div>"
      ],
      "text/plain": [
       "               p1        p2\n",
       "0        2.274428 -2.256394\n",
       "1        1.703395 -0.158439\n",
       "2        1.013091  1.722212\n",
       "3        1.618514 -0.431375\n",
       "4        1.077461  1.509569\n",
       "...           ...       ...\n",
       "1112571  0.385579  0.005139\n",
       "1112572 -0.170144  0.869000\n",
       "1112573  0.861650 -0.027876\n",
       "1112574 -1.825933 -1.338440\n",
       "1112575 -2.143225 -0.699231\n",
       "\n",
       "[1112576 rows x 2 columns]"
      ]
     },
     "execution_count": 69,
     "metadata": {},
     "output_type": "execute_result"
    }
   ],
   "source": [
    "Xp = pd.DataFrame(pca.transform(X),columns=['p1','p2'])\n",
    "Xp"
   ]
  },
  {
   "cell_type": "code",
   "execution_count": 70,
   "id": "2e6ea1b1",
   "metadata": {},
   "outputs": [
    {
     "data": {
      "text/html": [
       "<div>\n",
       "<style scoped>\n",
       "    .dataframe tbody tr th:only-of-type {\n",
       "        vertical-align: middle;\n",
       "    }\n",
       "\n",
       "    .dataframe tbody tr th {\n",
       "        vertical-align: top;\n",
       "    }\n",
       "\n",
       "    .dataframe thead th {\n",
       "        text-align: right;\n",
       "    }\n",
       "</style>\n",
       "<table border=\"1\" class=\"dataframe\">\n",
       "  <thead>\n",
       "    <tr style=\"text-align: right;\">\n",
       "      <th></th>\n",
       "      <th>p1</th>\n",
       "      <th>p2</th>\n",
       "    </tr>\n",
       "  </thead>\n",
       "  <tbody>\n",
       "    <tr>\n",
       "      <th>p1</th>\n",
       "      <td>1.000000e+00</td>\n",
       "      <td>7.210269e-16</td>\n",
       "    </tr>\n",
       "    <tr>\n",
       "      <th>p2</th>\n",
       "      <td>7.210269e-16</td>\n",
       "      <td>1.000000e+00</td>\n",
       "    </tr>\n",
       "  </tbody>\n",
       "</table>\n",
       "</div>"
      ],
      "text/plain": [
       "              p1            p2\n",
       "p1  1.000000e+00  7.210269e-16\n",
       "p2  7.210269e-16  1.000000e+00"
      ]
     },
     "execution_count": 70,
     "metadata": {},
     "output_type": "execute_result"
    }
   ],
   "source": [
    "Xp.corr()"
   ]
  },
  {
   "cell_type": "code",
   "execution_count": 71,
   "id": "fd54b505",
   "metadata": {},
   "outputs": [
    {
     "data": {
      "text/html": [
       "<div>\n",
       "<style scoped>\n",
       "    .dataframe tbody tr th:only-of-type {\n",
       "        vertical-align: middle;\n",
       "    }\n",
       "\n",
       "    .dataframe tbody tr th {\n",
       "        vertical-align: top;\n",
       "    }\n",
       "\n",
       "    .dataframe thead th {\n",
       "        text-align: right;\n",
       "    }\n",
       "</style>\n",
       "<table border=\"1\" class=\"dataframe\">\n",
       "  <thead>\n",
       "    <tr style=\"text-align: right;\">\n",
       "      <th></th>\n",
       "      <th>p1</th>\n",
       "      <th>p2</th>\n",
       "      <th>label</th>\n",
       "    </tr>\n",
       "  </thead>\n",
       "  <tbody>\n",
       "    <tr>\n",
       "      <th>0</th>\n",
       "      <td>2.274428</td>\n",
       "      <td>-2.256394</td>\n",
       "      <td>0</td>\n",
       "    </tr>\n",
       "    <tr>\n",
       "      <th>1</th>\n",
       "      <td>1.703395</td>\n",
       "      <td>-0.158439</td>\n",
       "      <td>0</td>\n",
       "    </tr>\n",
       "    <tr>\n",
       "      <th>2</th>\n",
       "      <td>1.013091</td>\n",
       "      <td>1.722212</td>\n",
       "      <td>0</td>\n",
       "    </tr>\n",
       "    <tr>\n",
       "      <th>3</th>\n",
       "      <td>1.618514</td>\n",
       "      <td>-0.431375</td>\n",
       "      <td>0</td>\n",
       "    </tr>\n",
       "    <tr>\n",
       "      <th>4</th>\n",
       "      <td>1.077461</td>\n",
       "      <td>1.509569</td>\n",
       "      <td>0</td>\n",
       "    </tr>\n",
       "    <tr>\n",
       "      <th>...</th>\n",
       "      <td>...</td>\n",
       "      <td>...</td>\n",
       "      <td>...</td>\n",
       "    </tr>\n",
       "    <tr>\n",
       "      <th>1112571</th>\n",
       "      <td>0.385579</td>\n",
       "      <td>0.005139</td>\n",
       "      <td>1</td>\n",
       "    </tr>\n",
       "    <tr>\n",
       "      <th>1112572</th>\n",
       "      <td>-0.170144</td>\n",
       "      <td>0.869000</td>\n",
       "      <td>1</td>\n",
       "    </tr>\n",
       "    <tr>\n",
       "      <th>1112573</th>\n",
       "      <td>0.861650</td>\n",
       "      <td>-0.027876</td>\n",
       "      <td>1</td>\n",
       "    </tr>\n",
       "    <tr>\n",
       "      <th>1112574</th>\n",
       "      <td>-1.825933</td>\n",
       "      <td>-1.338440</td>\n",
       "      <td>1</td>\n",
       "    </tr>\n",
       "    <tr>\n",
       "      <th>1112575</th>\n",
       "      <td>-2.143225</td>\n",
       "      <td>-0.699231</td>\n",
       "      <td>1</td>\n",
       "    </tr>\n",
       "  </tbody>\n",
       "</table>\n",
       "<p>1112576 rows × 3 columns</p>\n",
       "</div>"
      ],
      "text/plain": [
       "               p1        p2  label\n",
       "0        2.274428 -2.256394      0\n",
       "1        1.703395 -0.158439      0\n",
       "2        1.013091  1.722212      0\n",
       "3        1.618514 -0.431375      0\n",
       "4        1.077461  1.509569      0\n",
       "...           ...       ...    ...\n",
       "1112571  0.385579  0.005139      1\n",
       "1112572 -0.170144  0.869000      1\n",
       "1112573  0.861650 -0.027876      1\n",
       "1112574 -1.825933 -1.338440      1\n",
       "1112575 -2.143225 -0.699231      1\n",
       "\n",
       "[1112576 rows x 3 columns]"
      ]
     },
     "execution_count": 71,
     "metadata": {},
     "output_type": "execute_result"
    }
   ],
   "source": [
    "Xp['label'] = df_target['fraud']\n",
    "Xp"
   ]
  },
  {
   "cell_type": "code",
   "execution_count": 72,
   "id": "457f8086",
   "metadata": {},
   "outputs": [
    {
     "data": {
      "text/plain": [
       "<seaborn.axisgrid.FacetGrid at 0x7fca44f53310>"
      ]
     },
     "execution_count": 72,
     "metadata": {},
     "output_type": "execute_result"
    },
    {
     "data": {
      "image/png": "[encoded data removed]",
      "text/plain": [
       "<Figure size 405.725x360 with 1 Axes>"
      ]
     },
     "metadata": {},
     "output_type": "display_data"
    }
   ],
   "source": [
    "sns.lmplot(data=Xp.sample(frac=0.5),x='p1',y='p2',fit_reg=False,hue='label').set(title=\"PCA\")"
   ]
  },
  {
   "cell_type": "code",
   "execution_count": 73,
   "id": "645f4946",
   "metadata": {},
   "outputs": [
    {
     "name": "stderr",
     "output_type": "stream",
     "text": [
      "/Users/jesusarredondo/Documents/Diplomado/Modulo3/mod3/lib/python3.9/site-packages/seaborn/_decorators.py:36: FutureWarning:\n",
      "\n",
      "Pass the following variable as a keyword arg: x. From version 0.12, the only valid positional argument will be `data`, and passing other arguments without an explicit keyword will result in an error or misinterpretation.\n",
      "\n"
     ]
    },
    {
     "data": {
      "text/plain": [
       "<AxesSubplot:xlabel='label', ylabel='count'>"
      ]
     },
     "execution_count": 73,
     "metadata": {},
     "output_type": "execute_result"
    },
    {
     "data": {
      "image/png": "[encoded data removed]",
      "text/plain": [
       "<Figure size 432x288 with 1 Axes>"
      ]
     },
     "metadata": {},
     "output_type": "display_data"
    }
   ],
   "source": [
    "sns.countplot(Xp[\"label\"])"
   ]
  },
  {
   "cell_type": "code",
   "execution_count": 74,
   "id": "7a5ad0ca",
   "metadata": {},
   "outputs": [
    {
     "data": {
      "text/plain": [
       "0    0.5\n",
       "1    0.5\n",
       "Name: label, dtype: float64"
      ]
     },
     "execution_count": 74,
     "metadata": {},
     "output_type": "execute_result"
    }
   ],
   "source": [
    "Xp[\"label\"].value_counts(1,dropna=False)"
   ]
  },
  {
   "cell_type": "code",
   "execution_count": 75,
   "id": "1a9fe02e",
   "metadata": {},
   "outputs": [
    {
     "data": {
      "text/plain": [
       "0    0.5\n",
       "1    0.5\n",
       "Name: fraud, dtype: float64"
      ]
     },
     "execution_count": 75,
     "metadata": {},
     "output_type": "execute_result"
    }
   ],
   "source": [
    "df_target[\"fraud\"].value_counts(1,dropna=False)"
   ]
  },
  {
   "cell_type": "markdown",
   "id": "8ef4d059",
   "metadata": {},
   "source": [
    "# TSNE"
   ]
  },
  {
   "cell_type": "code",
   "execution_count": 76,
   "id": "a386ff2a",
   "metadata": {},
   "outputs": [
    {
     "data": {
      "text/plain": [
       "0.050075320697192824"
      ]
     },
     "execution_count": 76,
     "metadata": {},
     "output_type": "execute_result"
    }
   ],
   "source": [
    "(df_reducido.shape[0]*0.1)/df_modelo.shape[0]"
   ]
  },
  {
   "cell_type": "code",
   "execution_count": 77,
   "id": "b0de2eec",
   "metadata": {},
   "outputs": [
    {
     "data": {
      "text/plain": [
       "55628.8"
      ]
     },
     "execution_count": 77,
     "metadata": {},
     "output_type": "execute_result"
    }
   ],
   "source": [
    "df_modelo.shape[0]*0.05"
   ]
  },
  {
   "cell_type": "code",
   "execution_count": 78,
   "id": "03a3ec55",
   "metadata": {},
   "outputs": [
    {
     "data": {
      "text/plain": [
       "55712.600000000006"
      ]
     },
     "execution_count": 78,
     "metadata": {},
     "output_type": "execute_result"
    }
   ],
   "source": [
    "df_reducido.shape[0]*0.1"
   ]
  },
  {
   "cell_type": "code",
   "execution_count": 79,
   "id": "32c90016",
   "metadata": {},
   "outputs": [
    {
     "data": {
      "text/plain": [
       "0.5007532069719282"
      ]
     },
     "execution_count": 79,
     "metadata": {},
     "output_type": "execute_result"
    }
   ],
   "source": [
    "df_reducido.shape[0]/df_modelo.shape[0]"
   ]
  },
  {
   "cell_type": "code",
   "execution_count": 80,
   "id": "3ee806a0",
   "metadata": {},
   "outputs": [
    {
     "data": {
      "text/plain": [
       "556288.0"
      ]
     },
     "execution_count": 80,
     "metadata": {},
     "output_type": "execute_result"
    }
   ],
   "source": [
    "df_modelo.shape[0]*0.5"
   ]
  },
  {
   "cell_type": "code",
   "execution_count": 82,
   "id": "dcc16bb8",
   "metadata": {},
   "outputs": [
    {
     "data": {
      "text/plain": [
       "557126"
      ]
     },
     "execution_count": 82,
     "metadata": {},
     "output_type": "execute_result"
    }
   ],
   "source": [
    "df_reducido.shape[0]"
   ]
  },
  {
   "cell_type": "code",
   "execution_count": 83,
   "id": "19485254",
   "metadata": {},
   "outputs": [],
   "source": [
    "from sklearn.manifold import TSNE"
   ]
  },
  {
   "cell_type": "code",
   "execution_count": 84,
   "id": "23300bf7",
   "metadata": {},
   "outputs": [],
   "source": [
    "tsne = TSNE(n_components=2, perplexity=30, learning_rate=400)"
   ]
  },
  {
   "cell_type": "code",
   "execution_count": 85,
   "id": "80c1126e",
   "metadata": {},
   "outputs": [],
   "source": [
    "X_sample=X.sample(frac=.5) #Creacion de la muestra con 1% de los datos\n",
    "indice = list(X_sample.index)\n",
    "Y_sample= df_target.loc[df_target.index.isin(indice)]\n",
    "Y_sample.reset_index(drop=True,inplace=True)"
   ]
  },
  {
   "cell_type": "code",
   "execution_count": 86,
   "id": "0b0f7fdd",
   "metadata": {},
   "outputs": [
    {
     "data": {
      "text/plain": [
       "(556288, 13)"
      ]
     },
     "execution_count": 86,
     "metadata": {},
     "output_type": "execute_result"
    }
   ],
   "source": [
    "X_sample.shape"
   ]
  },
  {
   "cell_type": "code",
   "execution_count": 87,
   "id": "05930f67",
   "metadata": {},
   "outputs": [
    {
     "name": "stderr",
     "output_type": "stream",
     "text": [
      "/Users/jesusarredondo/Documents/Diplomado/Modulo3/mod3/lib/python3.9/site-packages/sklearn/manifold/_t_sne.py:795: FutureWarning:\n",
      "\n",
      "The default initialization in TSNE will change from 'random' to 'pca' in 1.2.\n",
      "\n"
     ]
    }
   ],
   "source": [
    "Xt  = pd.DataFrame(tsne.fit_transform(X_sample),columns=['t1','t2'])"
   ]
  },
  {
   "cell_type": "code",
   "execution_count": 88,
   "id": "61da5d4b",
   "metadata": {},
   "outputs": [
    {
     "data": {
      "text/plain": [
       "3.2259135246276855"
      ]
     },
     "execution_count": 88,
     "metadata": {},
     "output_type": "execute_result"
    }
   ],
   "source": [
    "tsne.kl_divergence_ #Divergencia de kurbal"
   ]
  },
  {
   "cell_type": "code",
   "execution_count": 89,
   "id": "45b9a497",
   "metadata": {},
   "outputs": [],
   "source": [
    "Xt['label'] = Y_sample['fraud']"
   ]
  },
  {
   "cell_type": "code",
   "execution_count": 90,
   "id": "45920f1b",
   "metadata": {},
   "outputs": [
    {
     "data": {
      "text/plain": [
       "<seaborn.axisgrid.FacetGrid at 0x7fca5e20ef10>"
      ]
     },
     "execution_count": 90,
     "metadata": {},
     "output_type": "execute_result"
    },
    {
     "data": {
      "image/png": "[encoded data removed]",
      "text/plain": [
       "<Figure size 405.725x360 with 1 Axes>"
      ]
     },
     "metadata": {},
     "output_type": "display_data"
    }
   ],
   "source": [
    "sns.lmplot(data=Xt.sample(frac=0.5),x='t1',y='t2',fit_reg=False,hue='label').set(title=\"TSNE\")"
   ]
  },
  {
   "cell_type": "code",
   "execution_count": 91,
   "id": "9c61bd13",
   "metadata": {},
   "outputs": [
    {
     "name": "stderr",
     "output_type": "stream",
     "text": [
      "/Users/jesusarredondo/Documents/Diplomado/Modulo3/mod3/lib/python3.9/site-packages/seaborn/_decorators.py:36: FutureWarning:\n",
      "\n",
      "Pass the following variable as a keyword arg: x. From version 0.12, the only valid positional argument will be `data`, and passing other arguments without an explicit keyword will result in an error or misinterpretation.\n",
      "\n"
     ]
    },
    {
     "data": {
      "text/plain": [
       "<AxesSubplot:xlabel='label', ylabel='count'>"
      ]
     },
     "execution_count": 91,
     "metadata": {},
     "output_type": "execute_result"
    },
    {
     "data": {
      "image/png": "[encoded data removed]",
      "text/plain": [
       "<Figure size 432x288 with 1 Axes>"
      ]
     },
     "metadata": {},
     "output_type": "display_data"
    }
   ],
   "source": [
    "sns.countplot(Xt[\"label\"])"
   ]
  },
  {
   "cell_type": "markdown",
   "id": "9e8cff50",
   "metadata": {},
   "source": [
    "# MDS"
   ]
  },
  {
   "cell_type": "code",
   "execution_count": 92,
   "id": "54277e2b",
   "metadata": {},
   "outputs": [],
   "source": [
    "from sklearn.manifold import MDS\n",
    "mds = MDS(n_components=2,n_jobs=-1)"
   ]
  },
  {
   "cell_type": "code",
   "execution_count": 93,
   "id": "0f68e509",
   "metadata": {},
   "outputs": [],
   "source": [
    "X_sample=X.sample(frac=.05) #Creacion de la muestra con 1% de los datos\n",
    "indice = list(X_sample.index)\n",
    "Y_sample= df_target.loc[df_target.index.isin(indice)]\n",
    "Y_sample.reset_index(drop=True,inplace=True)"
   ]
  },
  {
   "cell_type": "code",
   "execution_count": 94,
   "id": "50ed0108",
   "metadata": {},
   "outputs": [
    {
     "data": {
      "text/plain": [
       "(55629, 13)"
      ]
     },
     "execution_count": 94,
     "metadata": {},
     "output_type": "execute_result"
    }
   ],
   "source": [
    "X_sample.shape"
   ]
  },
  {
   "cell_type": "code",
   "execution_count": null,
   "id": "28cf70f5",
   "metadata": {},
   "outputs": [],
   "source": [
    "Xm  = pd.DataFrame(mds.fit_transform(X_sample),columns=['d1','d2'])\n",
    "Xm"
   ]
  },
  {
   "cell_type": "code",
   "execution_count": null,
   "id": "8b283338",
   "metadata": {},
   "outputs": [],
   "source": [
    "Xm['label'] = Y_sample['fraud']"
   ]
  },
  {
   "cell_type": "code",
   "execution_count": null,
   "id": "42d2ad7f",
   "metadata": {},
   "outputs": [],
   "source": [
    "Xm"
   ]
  },
  {
   "cell_type": "code",
   "execution_count": null,
   "id": "21ec18f4",
   "metadata": {},
   "outputs": [],
   "source": [
    "sns.lmplot(data=Xm.sample(frac=0.5),x='d1',y='d2',fit_reg=False,hue='label').set(title=\"MDS\")"
   ]
  },
  {
   "cell_type": "code",
   "execution_count": null,
   "id": "853fd1f9",
   "metadata": {},
   "outputs": [],
   "source": [
    "sns.countplot(Xm[\"label\"])"
   ]
  },
  {
   "cell_type": "code",
   "execution_count": null,
   "id": "c9e9ef36",
   "metadata": {},
   "outputs": [],
   "source": [
    "(X_sample.shape[0]/df_reducido.shape[0])*100"
   ]
  },
  {
   "cell_type": "code",
   "execution_count": null,
   "id": "1d3e1f6c",
   "metadata": {},
   "outputs": [],
   "source": []
  }
 ],
 "metadata": {
  "kernelspec": {
   "display_name": "Python 3 (ipykernel)",
   "language": "python",
   "name": "python3"
  },
  "language_info": {
   "codemirror_mode": {
    "name": "ipython",
    "version": 3
   },
   "file_extension": ".py",
   "mimetype": "text/x-python",
   "name": "python",
   "nbconvert_exporter": "python",
   "pygments_lexer": "ipython3",
   "version": "3.9.6"
  }
 },
 "nbformat": 4,
 "nbformat_minor": 5
}
