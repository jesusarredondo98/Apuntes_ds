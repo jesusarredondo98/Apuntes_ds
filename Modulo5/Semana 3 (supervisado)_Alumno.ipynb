{
 "cells": [
  {
   "cell_type": "markdown",
   "metadata": {},
   "source": [
    "## Dependencias"
   ]
  },
  {
   "cell_type": "code",
   "execution_count": 2,
   "metadata": {},
   "outputs": [],
   "source": [
    "import numpy as np\n",
    "import pandas as pd\n",
    "\n",
    "from sklearn.model_selection import GridSearchCV\n",
    "from sklearn.metrics import roc_auc_score,accuracy_score\n",
    "\n",
    "from sklearn.linear_model import LogisticRegression\n",
    "from sklearn.tree import DecisionTreeClassifier\n",
    "from sklearn.neural_network import MLPClassifier\n",
    "from sklearn.ensemble import RandomForestClassifier\n",
    "\n",
    "from scikitplot.metrics import plot_roc\n",
    "\n",
    "import pickle"
   ]
  },
  {
   "cell_type": "markdown",
   "metadata": {},
   "source": [
    "## Espacios para aprendizaje"
   ]
  },
  {
   "cell_type": "code",
   "execution_count": 3,
   "metadata": {},
   "outputs": [],
   "source": [
    "\"\"\"Cargamos los objetos importantes creados en nuestro eda\"\"\"\n",
    "mapa_norm,mapa_woe,sc01,sc,im,pipe_pca,oh,best,vart,varn,vard,um,var,train,valid = pickle.load(open('objetos_persistencia.pkl','rb'))"
   ]
  },
  {
   "cell_type": "code",
   "execution_count": 4,
   "metadata": {},
   "outputs": [],
   "source": [
    "\"\"\"Cargamos los distintos espacios de representación vectorial\"\"\"\n",
    "X,X01,Xs,Xp,Xw = pickle.load(open('espacios.pkl','rb'))"
   ]
  },
  {
   "cell_type": "code",
   "execution_count": 158,
   "metadata": {},
   "outputs": [
    {
     "data": {
      "text/plain": [
       "(2343, 35)"
      ]
     },
     "execution_count": 158,
     "metadata": {},
     "output_type": "execute_result"
    }
   ],
   "source": [
    "\"\"\"Definimos el conjuunto de entrenamiento según la hiper caja elegida\"\"\"\n",
    "Xt = X01.copy()\n",
    "Xt.shape\n",
    "#Xt = Xt.loc[~Xt[um[0]].isin(list(Xw[np.isinf(Xw['amount'])][um[0]]))].reset_index(drop=True)"
   ]
  },
  {
   "cell_type": "code",
   "execution_count": 159,
   "metadata": {},
   "outputs": [],
   "source": [
    "yt = Xt[um].merge(train[um+vart],on=um,how='inner')[vart[0]] #Guardamos la variable objetivo\n",
    "Xt = Xt.drop(um,axis=1)"
   ]
  },
  {
   "cell_type": "code",
   "execution_count": 160,
   "metadata": {},
   "outputs": [
    {
     "data": {
      "text/plain": [
       "((2343, 34), (2343,))"
      ]
     },
     "execution_count": 160,
     "metadata": {},
     "output_type": "execute_result"
    }
   ],
   "source": [
    "Xt.shape,yt.shape #comprobamos dimensiones"
   ]
  },
  {
   "cell_type": "markdown",
   "metadata": {},
   "source": [
    "## Aprendizaje"
   ]
  },
  {
   "cell_type": "code",
   "execution_count": 161,
   "metadata": {},
   "outputs": [],
   "source": [
    "\"\"\"Instanciamos los modelos\"\"\"\n",
    "lr = LogisticRegression(max_iter=1000)\n",
    "dt = DecisionTreeClassifier()\n",
    "nn = MLPClassifier()\n",
    "rf = RandomForestClassifier()"
   ]
  },
  {
   "cell_type": "markdown",
   "metadata": {},
   "source": [
    "### Regresión Logística"
   ]
  },
  {
   "cell_type": "code",
   "execution_count": 162,
   "metadata": {},
   "outputs": [],
   "source": [
    "\"\"\"Cargamos los hiperparametros de la reg logistica\"\"\"\n",
    "hp = {\"penalty\" : ['l1', 'l2', 'elasticnet', 'none'],\n",
    "\"C\": np.arange(0,2,0.1)}"
   ]
  },
  {
   "cell_type": "code",
   "execution_count": 163,
   "metadata": {},
   "outputs": [],
   "source": [
    "\"\"\"Realizamos una busqueda de gradilla para encontrar los mejores hiperparametros\"\"\"\n",
    "grid = GridSearchCV(estimator=lr,param_grid=hp,n_jobs=-1,verbose=True,scoring='accuracy',cv=4)"
   ]
  },
  {
   "cell_type": "code",
   "execution_count": 164,
   "metadata": {},
   "outputs": [
    {
     "name": "stdout",
     "output_type": "stream",
     "text": [
      "Fitting 4 folds for each of 80 candidates, totalling 320 fits\n"
     ]
    },
    {
     "name": "stderr",
     "output_type": "stream",
     "text": [
      "/Users/jesusarredondo/Documents/Diplomado Ciencia de Datos/Modulo5/mod5/lib/python3.9/site-packages/sklearn/linear_model/_logistic.py:1113: UserWarning: Setting penalty='none' will ignore the C and l1_ratio parameters\n",
      "  warnings.warn(\n",
      "/Users/jesusarredondo/Documents/Diplomado Ciencia de Datos/Modulo5/mod5/lib/python3.9/site-packages/sklearn/linear_model/_logistic.py:1113: UserWarning: Setting penalty='none' will ignore the C and l1_ratio parameters\n",
      "  warnings.warn(\n",
      "/Users/jesusarredondo/Documents/Diplomado Ciencia de Datos/Modulo5/mod5/lib/python3.9/site-packages/sklearn/linear_model/_logistic.py:1113: UserWarning: Setting penalty='none' will ignore the C and l1_ratio parameters\n",
      "  warnings.warn(\n",
      "/Users/jesusarredondo/Documents/Diplomado Ciencia de Datos/Modulo5/mod5/lib/python3.9/site-packages/sklearn/linear_model/_logistic.py:1113: UserWarning: Setting penalty='none' will ignore the C and l1_ratio parameters\n",
      "  warnings.warn(\n",
      "/Users/jesusarredondo/Documents/Diplomado Ciencia de Datos/Modulo5/mod5/lib/python3.9/site-packages/sklearn/linear_model/_logistic.py:432: RuntimeWarning: divide by zero encountered in double_scalars\n",
      "  l2_reg_strength = 1.0 / C\n",
      "/Users/jesusarredondo/Documents/Diplomado Ciencia de Datos/Modulo5/mod5/lib/python3.9/site-packages/sklearn/linear_model/_linear_loss.py:198: RuntimeWarning: invalid value encountered in double_scalars\n",
      "  loss += 0.5 * l2_reg_strength * (weights @ weights)\n",
      "/Users/jesusarredondo/Documents/Diplomado Ciencia de Datos/Modulo5/mod5/lib/python3.9/site-packages/sklearn/linear_model/_linear_loss.py:200: RuntimeWarning: invalid value encountered in multiply\n",
      "  grad[:n_features] = X.T @ grad_per_sample + l2_reg_strength * weights\n",
      "/Users/jesusarredondo/Documents/Diplomado Ciencia de Datos/Modulo5/mod5/lib/python3.9/site-packages/sklearn/linear_model/_logistic.py:444: ConvergenceWarning: lbfgs failed to converge (status=2):\n",
      "ABNORMAL_TERMINATION_IN_LNSRCH.\n",
      "\n",
      "Increase the number of iterations (max_iter) or scale the data as shown in:\n",
      "    https://scikit-learn.org/stable/modules/preprocessing.html\n",
      "Please also refer to the documentation for alternative solver options:\n",
      "    https://scikit-learn.org/stable/modules/linear_model.html#logistic-regression\n",
      "  n_iter_i = _check_optimize_result(\n",
      "/Users/jesusarredondo/Documents/Diplomado Ciencia de Datos/Modulo5/mod5/lib/python3.9/site-packages/sklearn/linear_model/_logistic.py:432: RuntimeWarning: divide by zero encountered in double_scalars\n",
      "  l2_reg_strength = 1.0 / C\n",
      "/Users/jesusarredondo/Documents/Diplomado Ciencia de Datos/Modulo5/mod5/lib/python3.9/site-packages/sklearn/linear_model/_logistic.py:432: RuntimeWarning: divide by zero encountered in double_scalars\n",
      "  l2_reg_strength = 1.0 / C\n",
      "/Users/jesusarredondo/Documents/Diplomado Ciencia de Datos/Modulo5/mod5/lib/python3.9/site-packages/sklearn/linear_model/_linear_loss.py:198: RuntimeWarning: invalid value encountered in double_scalars\n",
      "  loss += 0.5 * l2_reg_strength * (weights @ weights)\n",
      "/Users/jesusarredondo/Documents/Diplomado Ciencia de Datos/Modulo5/mod5/lib/python3.9/site-packages/sklearn/linear_model/_linear_loss.py:200: RuntimeWarning: invalid value encountered in multiply\n",
      "  grad[:n_features] = X.T @ grad_per_sample + l2_reg_strength * weights\n",
      "/Users/jesusarredondo/Documents/Diplomado Ciencia de Datos/Modulo5/mod5/lib/python3.9/site-packages/sklearn/linear_model/_logistic.py:432: RuntimeWarning: divide by zero encountered in double_scalars\n",
      "  l2_reg_strength = 1.0 / C\n",
      "/Users/jesusarredondo/Documents/Diplomado Ciencia de Datos/Modulo5/mod5/lib/python3.9/site-packages/sklearn/linear_model/_linear_loss.py:198: RuntimeWarning: invalid value encountered in double_scalars\n",
      "  loss += 0.5 * l2_reg_strength * (weights @ weights)\n",
      "/Users/jesusarredondo/Documents/Diplomado Ciencia de Datos/Modulo5/mod5/lib/python3.9/site-packages/sklearn/linear_model/_linear_loss.py:200: RuntimeWarning: invalid value encountered in multiply\n",
      "  grad[:n_features] = X.T @ grad_per_sample + l2_reg_strength * weights\n",
      "/Users/jesusarredondo/Documents/Diplomado Ciencia de Datos/Modulo5/mod5/lib/python3.9/site-packages/sklearn/linear_model/_linear_loss.py:198: RuntimeWarning: invalid value encountered in double_scalars\n",
      "  loss += 0.5 * l2_reg_strength * (weights @ weights)\n",
      "/Users/jesusarredondo/Documents/Diplomado Ciencia de Datos/Modulo5/mod5/lib/python3.9/site-packages/sklearn/linear_model/_linear_loss.py:200: RuntimeWarning: invalid value encountered in multiply\n",
      "  grad[:n_features] = X.T @ grad_per_sample + l2_reg_strength * weights\n",
      "/Users/jesusarredondo/Documents/Diplomado Ciencia de Datos/Modulo5/mod5/lib/python3.9/site-packages/sklearn/linear_model/_logistic.py:444: ConvergenceWarning: lbfgs failed to converge (status=2):\n",
      "ABNORMAL_TERMINATION_IN_LNSRCH.\n",
      "\n",
      "Increase the number of iterations (max_iter) or scale the data as shown in:\n",
      "    https://scikit-learn.org/stable/modules/preprocessing.html\n",
      "Please also refer to the documentation for alternative solver options:\n",
      "    https://scikit-learn.org/stable/modules/linear_model.html#logistic-regression\n",
      "  n_iter_i = _check_optimize_result(\n",
      "/Users/jesusarredondo/Documents/Diplomado Ciencia de Datos/Modulo5/mod5/lib/python3.9/site-packages/sklearn/linear_model/_logistic.py:444: ConvergenceWarning: lbfgs failed to converge (status=2):\n",
      "ABNORMAL_TERMINATION_IN_LNSRCH.\n",
      "\n",
      "Increase the number of iterations (max_iter) or scale the data as shown in:\n",
      "    https://scikit-learn.org/stable/modules/preprocessing.html\n",
      "Please also refer to the documentation for alternative solver options:\n",
      "    https://scikit-learn.org/stable/modules/linear_model.html#logistic-regression\n",
      "  n_iter_i = _check_optimize_result(\n",
      "/Users/jesusarredondo/Documents/Diplomado Ciencia de Datos/Modulo5/mod5/lib/python3.9/site-packages/sklearn/linear_model/_logistic.py:444: ConvergenceWarning: lbfgs failed to converge (status=2):\n",
      "ABNORMAL_TERMINATION_IN_LNSRCH.\n",
      "\n",
      "Increase the number of iterations (max_iter) or scale the data as shown in:\n",
      "    https://scikit-learn.org/stable/modules/preprocessing.html\n",
      "Please also refer to the documentation for alternative solver options:\n",
      "    https://scikit-learn.org/stable/modules/linear_model.html#logistic-regression\n",
      "  n_iter_i = _check_optimize_result(\n",
      "/Users/jesusarredondo/Documents/Diplomado Ciencia de Datos/Modulo5/mod5/lib/python3.9/site-packages/sklearn/linear_model/_logistic.py:1113: UserWarning: Setting penalty='none' will ignore the C and l1_ratio parameters\n",
      "  warnings.warn(\n",
      "/Users/jesusarredondo/Documents/Diplomado Ciencia de Datos/Modulo5/mod5/lib/python3.9/site-packages/sklearn/linear_model/_logistic.py:1113: UserWarning: Setting penalty='none' will ignore the C and l1_ratio parameters\n",
      "  warnings.warn(\n",
      "/Users/jesusarredondo/Documents/Diplomado Ciencia de Datos/Modulo5/mod5/lib/python3.9/site-packages/sklearn/linear_model/_logistic.py:1113: UserWarning: Setting penalty='none' will ignore the C and l1_ratio parameters\n",
      "  warnings.warn(\n",
      "/Users/jesusarredondo/Documents/Diplomado Ciencia de Datos/Modulo5/mod5/lib/python3.9/site-packages/sklearn/linear_model/_logistic.py:1113: UserWarning: Setting penalty='none' will ignore the C and l1_ratio parameters\n",
      "  warnings.warn(\n",
      "/Users/jesusarredondo/Documents/Diplomado Ciencia de Datos/Modulo5/mod5/lib/python3.9/site-packages/sklearn/linear_model/_logistic.py:1113: UserWarning: Setting penalty='none' will ignore the C and l1_ratio parameters\n",
      "  warnings.warn(\n",
      "/Users/jesusarredondo/Documents/Diplomado Ciencia de Datos/Modulo5/mod5/lib/python3.9/site-packages/sklearn/linear_model/_logistic.py:1113: UserWarning: Setting penalty='none' will ignore the C and l1_ratio parameters\n",
      "  warnings.warn(\n",
      "/Users/jesusarredondo/Documents/Diplomado Ciencia de Datos/Modulo5/mod5/lib/python3.9/site-packages/sklearn/linear_model/_logistic.py:1113: UserWarning: Setting penalty='none' will ignore the C and l1_ratio parameters\n",
      "  warnings.warn(\n",
      "/Users/jesusarredondo/Documents/Diplomado Ciencia de Datos/Modulo5/mod5/lib/python3.9/site-packages/sklearn/linear_model/_logistic.py:1113: UserWarning: Setting penalty='none' will ignore the C and l1_ratio parameters\n",
      "  warnings.warn(\n",
      "/Users/jesusarredondo/Documents/Diplomado Ciencia de Datos/Modulo5/mod5/lib/python3.9/site-packages/sklearn/linear_model/_logistic.py:1113: UserWarning: Setting penalty='none' will ignore the C and l1_ratio parameters\n",
      "  warnings.warn(\n",
      "/Users/jesusarredondo/Documents/Diplomado Ciencia de Datos/Modulo5/mod5/lib/python3.9/site-packages/sklearn/linear_model/_logistic.py:1113: UserWarning: Setting penalty='none' will ignore the C and l1_ratio parameters\n",
      "  warnings.warn(\n",
      "/Users/jesusarredondo/Documents/Diplomado Ciencia de Datos/Modulo5/mod5/lib/python3.9/site-packages/sklearn/linear_model/_logistic.py:1113: UserWarning: Setting penalty='none' will ignore the C and l1_ratio parameters\n",
      "  warnings.warn(\n",
      "/Users/jesusarredondo/Documents/Diplomado Ciencia de Datos/Modulo5/mod5/lib/python3.9/site-packages/sklearn/linear_model/_logistic.py:1113: UserWarning: Setting penalty='none' will ignore the C and l1_ratio parameters\n",
      "  warnings.warn(\n",
      "/Users/jesusarredondo/Documents/Diplomado Ciencia de Datos/Modulo5/mod5/lib/python3.9/site-packages/sklearn/linear_model/_logistic.py:1113: UserWarning: Setting penalty='none' will ignore the C and l1_ratio parameters\n",
      "  warnings.warn(\n",
      "/Users/jesusarredondo/Documents/Diplomado Ciencia de Datos/Modulo5/mod5/lib/python3.9/site-packages/sklearn/linear_model/_logistic.py:1113: UserWarning: Setting penalty='none' will ignore the C and l1_ratio parameters\n",
      "  warnings.warn(\n",
      "/Users/jesusarredondo/Documents/Diplomado Ciencia de Datos/Modulo5/mod5/lib/python3.9/site-packages/sklearn/linear_model/_logistic.py:1113: UserWarning: Setting penalty='none' will ignore the C and l1_ratio parameters\n",
      "  warnings.warn(\n",
      "/Users/jesusarredondo/Documents/Diplomado Ciencia de Datos/Modulo5/mod5/lib/python3.9/site-packages/sklearn/linear_model/_logistic.py:1113: UserWarning: Setting penalty='none' will ignore the C and l1_ratio parameters\n",
      "  warnings.warn(\n",
      "/Users/jesusarredondo/Documents/Diplomado Ciencia de Datos/Modulo5/mod5/lib/python3.9/site-packages/sklearn/linear_model/_logistic.py:1113: UserWarning: Setting penalty='none' will ignore the C and l1_ratio parameters\n",
      "  warnings.warn(\n",
      "/Users/jesusarredondo/Documents/Diplomado Ciencia de Datos/Modulo5/mod5/lib/python3.9/site-packages/sklearn/linear_model/_logistic.py:1113: UserWarning: Setting penalty='none' will ignore the C and l1_ratio parameters\n",
      "  warnings.warn(\n",
      "/Users/jesusarredondo/Documents/Diplomado Ciencia de Datos/Modulo5/mod5/lib/python3.9/site-packages/sklearn/linear_model/_logistic.py:1113: UserWarning: Setting penalty='none' will ignore the C and l1_ratio parameters\n",
      "  warnings.warn(\n",
      "/Users/jesusarredondo/Documents/Diplomado Ciencia de Datos/Modulo5/mod5/lib/python3.9/site-packages/sklearn/linear_model/_logistic.py:1113: UserWarning: Setting penalty='none' will ignore the C and l1_ratio parameters\n",
      "  warnings.warn(\n",
      "/Users/jesusarredondo/Documents/Diplomado Ciencia de Datos/Modulo5/mod5/lib/python3.9/site-packages/sklearn/linear_model/_logistic.py:1113: UserWarning: Setting penalty='none' will ignore the C and l1_ratio parameters\n",
      "  warnings.warn(\n",
      "/Users/jesusarredondo/Documents/Diplomado Ciencia de Datos/Modulo5/mod5/lib/python3.9/site-packages/sklearn/linear_model/_logistic.py:1113: UserWarning: Setting penalty='none' will ignore the C and l1_ratio parameters\n",
      "  warnings.warn(\n",
      "/Users/jesusarredondo/Documents/Diplomado Ciencia de Datos/Modulo5/mod5/lib/python3.9/site-packages/sklearn/linear_model/_logistic.py:1113: UserWarning: Setting penalty='none' will ignore the C and l1_ratio parameters\n",
      "  warnings.warn(\n",
      "/Users/jesusarredondo/Documents/Diplomado Ciencia de Datos/Modulo5/mod5/lib/python3.9/site-packages/sklearn/linear_model/_logistic.py:1113: UserWarning: Setting penalty='none' will ignore the C and l1_ratio parameters\n",
      "  warnings.warn(\n",
      "/Users/jesusarredondo/Documents/Diplomado Ciencia de Datos/Modulo5/mod5/lib/python3.9/site-packages/sklearn/linear_model/_logistic.py:1113: UserWarning: Setting penalty='none' will ignore the C and l1_ratio parameters\n",
      "  warnings.warn(\n",
      "/Users/jesusarredondo/Documents/Diplomado Ciencia de Datos/Modulo5/mod5/lib/python3.9/site-packages/sklearn/linear_model/_logistic.py:1113: UserWarning: Setting penalty='none' will ignore the C and l1_ratio parameters\n",
      "  warnings.warn(\n",
      "/Users/jesusarredondo/Documents/Diplomado Ciencia de Datos/Modulo5/mod5/lib/python3.9/site-packages/sklearn/linear_model/_logistic.py:1113: UserWarning: Setting penalty='none' will ignore the C and l1_ratio parameters\n",
      "  warnings.warn(\n",
      "/Users/jesusarredondo/Documents/Diplomado Ciencia de Datos/Modulo5/mod5/lib/python3.9/site-packages/sklearn/linear_model/_logistic.py:1113: UserWarning: Setting penalty='none' will ignore the C and l1_ratio parameters\n",
      "  warnings.warn(\n",
      "/Users/jesusarredondo/Documents/Diplomado Ciencia de Datos/Modulo5/mod5/lib/python3.9/site-packages/sklearn/linear_model/_logistic.py:1113: UserWarning: Setting penalty='none' will ignore the C and l1_ratio parameters\n",
      "  warnings.warn(\n",
      "/Users/jesusarredondo/Documents/Diplomado Ciencia de Datos/Modulo5/mod5/lib/python3.9/site-packages/sklearn/linear_model/_logistic.py:1113: UserWarning: Setting penalty='none' will ignore the C and l1_ratio parameters\n",
      "  warnings.warn(\n",
      "/Users/jesusarredondo/Documents/Diplomado Ciencia de Datos/Modulo5/mod5/lib/python3.9/site-packages/sklearn/linear_model/_logistic.py:1113: UserWarning: Setting penalty='none' will ignore the C and l1_ratio parameters\n",
      "  warnings.warn(\n",
      "/Users/jesusarredondo/Documents/Diplomado Ciencia de Datos/Modulo5/mod5/lib/python3.9/site-packages/sklearn/linear_model/_logistic.py:1113: UserWarning: Setting penalty='none' will ignore the C and l1_ratio parameters\n",
      "  warnings.warn(\n",
      "/Users/jesusarredondo/Documents/Diplomado Ciencia de Datos/Modulo5/mod5/lib/python3.9/site-packages/sklearn/linear_model/_logistic.py:1113: UserWarning: Setting penalty='none' will ignore the C and l1_ratio parameters\n",
      "  warnings.warn(\n",
      "/Users/jesusarredondo/Documents/Diplomado Ciencia de Datos/Modulo5/mod5/lib/python3.9/site-packages/sklearn/linear_model/_logistic.py:1113: UserWarning: Setting penalty='none' will ignore the C and l1_ratio parameters\n",
      "  warnings.warn(\n",
      "/Users/jesusarredondo/Documents/Diplomado Ciencia de Datos/Modulo5/mod5/lib/python3.9/site-packages/sklearn/linear_model/_logistic.py:1113: UserWarning: Setting penalty='none' will ignore the C and l1_ratio parameters\n",
      "  warnings.warn(\n",
      "/Users/jesusarredondo/Documents/Diplomado Ciencia de Datos/Modulo5/mod5/lib/python3.9/site-packages/sklearn/linear_model/_logistic.py:1113: UserWarning: Setting penalty='none' will ignore the C and l1_ratio parameters\n",
      "  warnings.warn(\n",
      "/Users/jesusarredondo/Documents/Diplomado Ciencia de Datos/Modulo5/mod5/lib/python3.9/site-packages/sklearn/linear_model/_logistic.py:1113: UserWarning: Setting penalty='none' will ignore the C and l1_ratio parameters\n",
      "  warnings.warn(\n",
      "/Users/jesusarredondo/Documents/Diplomado Ciencia de Datos/Modulo5/mod5/lib/python3.9/site-packages/sklearn/linear_model/_logistic.py:1113: UserWarning: Setting penalty='none' will ignore the C and l1_ratio parameters\n",
      "  warnings.warn(\n",
      "/Users/jesusarredondo/Documents/Diplomado Ciencia de Datos/Modulo5/mod5/lib/python3.9/site-packages/sklearn/linear_model/_logistic.py:1113: UserWarning: Setting penalty='none' will ignore the C and l1_ratio parameters\n",
      "  warnings.warn(\n",
      "/Users/jesusarredondo/Documents/Diplomado Ciencia de Datos/Modulo5/mod5/lib/python3.9/site-packages/sklearn/linear_model/_logistic.py:1113: UserWarning: Setting penalty='none' will ignore the C and l1_ratio parameters\n",
      "  warnings.warn(\n",
      "/Users/jesusarredondo/Documents/Diplomado Ciencia de Datos/Modulo5/mod5/lib/python3.9/site-packages/sklearn/linear_model/_logistic.py:1113: UserWarning: Setting penalty='none' will ignore the C and l1_ratio parameters\n",
      "  warnings.warn(\n",
      "/Users/jesusarredondo/Documents/Diplomado Ciencia de Datos/Modulo5/mod5/lib/python3.9/site-packages/sklearn/linear_model/_logistic.py:1113: UserWarning: Setting penalty='none' will ignore the C and l1_ratio parameters\n",
      "  warnings.warn(\n",
      "/Users/jesusarredondo/Documents/Diplomado Ciencia de Datos/Modulo5/mod5/lib/python3.9/site-packages/sklearn/linear_model/_logistic.py:1113: UserWarning: Setting penalty='none' will ignore the C and l1_ratio parameters\n",
      "  warnings.warn(\n",
      "/Users/jesusarredondo/Documents/Diplomado Ciencia de Datos/Modulo5/mod5/lib/python3.9/site-packages/sklearn/linear_model/_logistic.py:1113: UserWarning: Setting penalty='none' will ignore the C and l1_ratio parameters\n",
      "  warnings.warn(\n",
      "/Users/jesusarredondo/Documents/Diplomado Ciencia de Datos/Modulo5/mod5/lib/python3.9/site-packages/sklearn/linear_model/_logistic.py:1113: UserWarning: Setting penalty='none' will ignore the C and l1_ratio parameters\n",
      "  warnings.warn(\n",
      "/Users/jesusarredondo/Documents/Diplomado Ciencia de Datos/Modulo5/mod5/lib/python3.9/site-packages/sklearn/linear_model/_logistic.py:1113: UserWarning: Setting penalty='none' will ignore the C and l1_ratio parameters\n",
      "  warnings.warn(\n",
      "/Users/jesusarredondo/Documents/Diplomado Ciencia de Datos/Modulo5/mod5/lib/python3.9/site-packages/sklearn/linear_model/_logistic.py:1113: UserWarning: Setting penalty='none' will ignore the C and l1_ratio parameters\n",
      "  warnings.warn(\n",
      "/Users/jesusarredondo/Documents/Diplomado Ciencia de Datos/Modulo5/mod5/lib/python3.9/site-packages/sklearn/linear_model/_logistic.py:1113: UserWarning: Setting penalty='none' will ignore the C and l1_ratio parameters\n",
      "  warnings.warn(\n",
      "/Users/jesusarredondo/Documents/Diplomado Ciencia de Datos/Modulo5/mod5/lib/python3.9/site-packages/sklearn/linear_model/_logistic.py:1113: UserWarning: Setting penalty='none' will ignore the C and l1_ratio parameters\n",
      "  warnings.warn(\n",
      "/Users/jesusarredondo/Documents/Diplomado Ciencia de Datos/Modulo5/mod5/lib/python3.9/site-packages/sklearn/linear_model/_logistic.py:1113: UserWarning: Setting penalty='none' will ignore the C and l1_ratio parameters\n",
      "  warnings.warn(\n",
      "/Users/jesusarredondo/Documents/Diplomado Ciencia de Datos/Modulo5/mod5/lib/python3.9/site-packages/sklearn/linear_model/_logistic.py:1113: UserWarning: Setting penalty='none' will ignore the C and l1_ratio parameters\n",
      "  warnings.warn(\n",
      "/Users/jesusarredondo/Documents/Diplomado Ciencia de Datos/Modulo5/mod5/lib/python3.9/site-packages/sklearn/linear_model/_logistic.py:1113: UserWarning: Setting penalty='none' will ignore the C and l1_ratio parameters\n",
      "  warnings.warn(\n",
      "/Users/jesusarredondo/Documents/Diplomado Ciencia de Datos/Modulo5/mod5/lib/python3.9/site-packages/sklearn/linear_model/_logistic.py:1113: UserWarning: Setting penalty='none' will ignore the C and l1_ratio parameters\n",
      "  warnings.warn(\n",
      "/Users/jesusarredondo/Documents/Diplomado Ciencia de Datos/Modulo5/mod5/lib/python3.9/site-packages/sklearn/linear_model/_logistic.py:1113: UserWarning: Setting penalty='none' will ignore the C and l1_ratio parameters\n",
      "  warnings.warn(\n",
      "/Users/jesusarredondo/Documents/Diplomado Ciencia de Datos/Modulo5/mod5/lib/python3.9/site-packages/sklearn/linear_model/_logistic.py:1113: UserWarning: Setting penalty='none' will ignore the C and l1_ratio parameters\n",
      "  warnings.warn(\n",
      "/Users/jesusarredondo/Documents/Diplomado Ciencia de Datos/Modulo5/mod5/lib/python3.9/site-packages/sklearn/linear_model/_logistic.py:1113: UserWarning: Setting penalty='none' will ignore the C and l1_ratio parameters\n",
      "  warnings.warn(\n",
      "/Users/jesusarredondo/Documents/Diplomado Ciencia de Datos/Modulo5/mod5/lib/python3.9/site-packages/sklearn/linear_model/_logistic.py:1113: UserWarning: Setting penalty='none' will ignore the C and l1_ratio parameters\n",
      "  warnings.warn(\n",
      "/Users/jesusarredondo/Documents/Diplomado Ciencia de Datos/Modulo5/mod5/lib/python3.9/site-packages/sklearn/linear_model/_logistic.py:1113: UserWarning: Setting penalty='none' will ignore the C and l1_ratio parameters\n",
      "  warnings.warn(\n",
      "/Users/jesusarredondo/Documents/Diplomado Ciencia de Datos/Modulo5/mod5/lib/python3.9/site-packages/sklearn/linear_model/_logistic.py:1113: UserWarning: Setting penalty='none' will ignore the C and l1_ratio parameters\n",
      "  warnings.warn(\n",
      "/Users/jesusarredondo/Documents/Diplomado Ciencia de Datos/Modulo5/mod5/lib/python3.9/site-packages/sklearn/linear_model/_logistic.py:1113: UserWarning: Setting penalty='none' will ignore the C and l1_ratio parameters\n",
      "  warnings.warn(\n",
      "/Users/jesusarredondo/Documents/Diplomado Ciencia de Datos/Modulo5/mod5/lib/python3.9/site-packages/sklearn/linear_model/_logistic.py:1113: UserWarning: Setting penalty='none' will ignore the C and l1_ratio parameters\n",
      "  warnings.warn(\n",
      "/Users/jesusarredondo/Documents/Diplomado Ciencia de Datos/Modulo5/mod5/lib/python3.9/site-packages/sklearn/linear_model/_logistic.py:1113: UserWarning: Setting penalty='none' will ignore the C and l1_ratio parameters\n",
      "  warnings.warn(\n",
      "/Users/jesusarredondo/Documents/Diplomado Ciencia de Datos/Modulo5/mod5/lib/python3.9/site-packages/sklearn/linear_model/_logistic.py:1113: UserWarning: Setting penalty='none' will ignore the C and l1_ratio parameters\n",
      "  warnings.warn(\n",
      "/Users/jesusarredondo/Documents/Diplomado Ciencia de Datos/Modulo5/mod5/lib/python3.9/site-packages/sklearn/linear_model/_logistic.py:1113: UserWarning: Setting penalty='none' will ignore the C and l1_ratio parameters\n",
      "  warnings.warn(\n",
      "/Users/jesusarredondo/Documents/Diplomado Ciencia de Datos/Modulo5/mod5/lib/python3.9/site-packages/sklearn/linear_model/_logistic.py:1113: UserWarning: Setting penalty='none' will ignore the C and l1_ratio parameters\n",
      "  warnings.warn(\n",
      "/Users/jesusarredondo/Documents/Diplomado Ciencia de Datos/Modulo5/mod5/lib/python3.9/site-packages/sklearn/linear_model/_logistic.py:1113: UserWarning: Setting penalty='none' will ignore the C and l1_ratio parameters\n",
      "  warnings.warn(\n",
      "/Users/jesusarredondo/Documents/Diplomado Ciencia de Datos/Modulo5/mod5/lib/python3.9/site-packages/sklearn/linear_model/_logistic.py:1113: UserWarning: Setting penalty='none' will ignore the C and l1_ratio parameters\n",
      "  warnings.warn(\n",
      "/Users/jesusarredondo/Documents/Diplomado Ciencia de Datos/Modulo5/mod5/lib/python3.9/site-packages/sklearn/linear_model/_logistic.py:1113: UserWarning: Setting penalty='none' will ignore the C and l1_ratio parameters\n",
      "  warnings.warn(\n",
      "/Users/jesusarredondo/Documents/Diplomado Ciencia de Datos/Modulo5/mod5/lib/python3.9/site-packages/sklearn/linear_model/_logistic.py:1113: UserWarning: Setting penalty='none' will ignore the C and l1_ratio parameters\n",
      "  warnings.warn(\n",
      "/Users/jesusarredondo/Documents/Diplomado Ciencia de Datos/Modulo5/mod5/lib/python3.9/site-packages/sklearn/linear_model/_logistic.py:1113: UserWarning: Setting penalty='none' will ignore the C and l1_ratio parameters\n",
      "  warnings.warn(\n",
      "/Users/jesusarredondo/Documents/Diplomado Ciencia de Datos/Modulo5/mod5/lib/python3.9/site-packages/sklearn/linear_model/_logistic.py:1113: UserWarning: Setting penalty='none' will ignore the C and l1_ratio parameters\n",
      "  warnings.warn(\n",
      "/Users/jesusarredondo/Documents/Diplomado Ciencia de Datos/Modulo5/mod5/lib/python3.9/site-packages/sklearn/linear_model/_logistic.py:1113: UserWarning: Setting penalty='none' will ignore the C and l1_ratio parameters\n",
      "  warnings.warn(\n",
      "/Users/jesusarredondo/Documents/Diplomado Ciencia de Datos/Modulo5/mod5/lib/python3.9/site-packages/sklearn/model_selection/_validation.py:378: FitFailedWarning: \n",
      "160 fits failed out of a total of 320.\n",
      "The score on these train-test partitions for these parameters will be set to nan.\n",
      "If these failures are not expected, you can try to debug them by setting error_score='raise'.\n",
      "\n",
      "Below are more details about the failures:\n",
      "--------------------------------------------------------------------------------\n",
      "80 fits failed with the following error:\n",
      "Traceback (most recent call last):\n",
      "  File \"/Users/jesusarredondo/Documents/Diplomado Ciencia de Datos/Modulo5/mod5/lib/python3.9/site-packages/sklearn/model_selection/_validation.py\", line 686, in _fit_and_score\n",
      "    estimator.fit(X_train, y_train, **fit_params)\n",
      "  File \"/Users/jesusarredondo/Documents/Diplomado Ciencia de Datos/Modulo5/mod5/lib/python3.9/site-packages/sklearn/linear_model/_logistic.py\", line 1091, in fit\n",
      "    solver = _check_solver(self.solver, self.penalty, self.dual)\n",
      "  File \"/Users/jesusarredondo/Documents/Diplomado Ciencia de Datos/Modulo5/mod5/lib/python3.9/site-packages/sklearn/linear_model/_logistic.py\", line 61, in _check_solver\n",
      "    raise ValueError(\n",
      "ValueError: Solver lbfgs supports only 'l2' or 'none' penalties, got l1 penalty.\n",
      "\n",
      "--------------------------------------------------------------------------------\n",
      "80 fits failed with the following error:\n",
      "Traceback (most recent call last):\n",
      "  File \"/Users/jesusarredondo/Documents/Diplomado Ciencia de Datos/Modulo5/mod5/lib/python3.9/site-packages/sklearn/model_selection/_validation.py\", line 686, in _fit_and_score\n",
      "    estimator.fit(X_train, y_train, **fit_params)\n",
      "  File \"/Users/jesusarredondo/Documents/Diplomado Ciencia de Datos/Modulo5/mod5/lib/python3.9/site-packages/sklearn/linear_model/_logistic.py\", line 1091, in fit\n",
      "    solver = _check_solver(self.solver, self.penalty, self.dual)\n",
      "  File \"/Users/jesusarredondo/Documents/Diplomado Ciencia de Datos/Modulo5/mod5/lib/python3.9/site-packages/sklearn/linear_model/_logistic.py\", line 61, in _check_solver\n",
      "    raise ValueError(\n",
      "ValueError: Solver lbfgs supports only 'l2' or 'none' penalties, got elasticnet penalty.\n",
      "\n",
      "  warnings.warn(some_fits_failed_message, FitFailedWarning)\n",
      "/Users/jesusarredondo/Documents/Diplomado Ciencia de Datos/Modulo5/mod5/lib/python3.9/site-packages/sklearn/model_selection/_search.py:953: UserWarning: One or more of the test scores are non-finite: [       nan 0.50320075        nan 0.65216374        nan 0.65429684\n",
      "        nan 0.65216374        nan 0.65472638        nan 0.65216374\n",
      "        nan 0.65216446        nan 0.65216374        nan 0.65344506\n",
      "        nan 0.65216374        nan 0.65301844        nan 0.65216374\n",
      "        nan 0.65259181        nan 0.65216374        nan 0.65173784\n",
      "        nan 0.65216374        nan 0.65173784        nan 0.65216374\n",
      "        nan 0.65259181        nan 0.65216374        nan 0.65344506\n",
      "        nan 0.65216374        nan 0.65344506        nan 0.65216374\n",
      "        nan 0.65344506        nan 0.65216374        nan 0.65387168\n",
      "        nan 0.65216374        nan 0.65301771        nan 0.65216374\n",
      "        nan 0.65301771        nan 0.65216374        nan 0.65259036\n",
      "        nan 0.65216374        nan 0.65301698        nan 0.65216374\n",
      "        nan 0.65258963        nan 0.65216374        nan 0.65258963\n",
      "        nan 0.65216374]\n",
      "  warnings.warn(\n"
     ]
    },
    {
     "data": {
      "text/html": [
       "<style>#sk-container-id-25 {color: black;background-color: white;}#sk-container-id-25 pre{padding: 0;}#sk-container-id-25 div.sk-toggleable {background-color: white;}#sk-container-id-25 label.sk-toggleable__label {cursor: pointer;display: block;width: 100%;margin-bottom: 0;padding: 0.3em;box-sizing: border-box;text-align: center;}#sk-container-id-25 label.sk-toggleable__label-arrow:before {content: \"▸\";float: left;margin-right: 0.25em;color: #696969;}#sk-container-id-25 label.sk-toggleable__label-arrow:hover:before {color: black;}#sk-container-id-25 div.sk-estimator:hover label.sk-toggleable__label-arrow:before {color: black;}#sk-container-id-25 div.sk-toggleable__content {max-height: 0;max-width: 0;overflow: hidden;text-align: left;background-color: #f0f8ff;}#sk-container-id-25 div.sk-toggleable__content pre {margin: 0.2em;color: black;border-radius: 0.25em;background-color: #f0f8ff;}#sk-container-id-25 input.sk-toggleable__control:checked~div.sk-toggleable__content {max-height: 200px;max-width: 100%;overflow: auto;}#sk-container-id-25 input.sk-toggleable__control:checked~label.sk-toggleable__label-arrow:before {content: \"▾\";}#sk-container-id-25 div.sk-estimator input.sk-toggleable__control:checked~label.sk-toggleable__label {background-color: #d4ebff;}#sk-container-id-25 div.sk-label input.sk-toggleable__control:checked~label.sk-toggleable__label {background-color: #d4ebff;}#sk-container-id-25 input.sk-hidden--visually {border: 0;clip: rect(1px 1px 1px 1px);clip: rect(1px, 1px, 1px, 1px);height: 1px;margin: -1px;overflow: hidden;padding: 0;position: absolute;width: 1px;}#sk-container-id-25 div.sk-estimator {font-family: monospace;background-color: #f0f8ff;border: 1px dotted black;border-radius: 0.25em;box-sizing: border-box;margin-bottom: 0.5em;}#sk-container-id-25 div.sk-estimator:hover {background-color: #d4ebff;}#sk-container-id-25 div.sk-parallel-item::after {content: \"\";width: 100%;border-bottom: 1px solid gray;flex-grow: 1;}#sk-container-id-25 div.sk-label:hover label.sk-toggleable__label {background-color: #d4ebff;}#sk-container-id-25 div.sk-serial::before {content: \"\";position: absolute;border-left: 1px solid gray;box-sizing: border-box;top: 0;bottom: 0;left: 50%;z-index: 0;}#sk-container-id-25 div.sk-serial {display: flex;flex-direction: column;align-items: center;background-color: white;padding-right: 0.2em;padding-left: 0.2em;position: relative;}#sk-container-id-25 div.sk-item {position: relative;z-index: 1;}#sk-container-id-25 div.sk-parallel {display: flex;align-items: stretch;justify-content: center;background-color: white;position: relative;}#sk-container-id-25 div.sk-item::before, #sk-container-id-25 div.sk-parallel-item::before {content: \"\";position: absolute;border-left: 1px solid gray;box-sizing: border-box;top: 0;bottom: 0;left: 50%;z-index: -1;}#sk-container-id-25 div.sk-parallel-item {display: flex;flex-direction: column;z-index: 1;position: relative;background-color: white;}#sk-container-id-25 div.sk-parallel-item:first-child::after {align-self: flex-end;width: 50%;}#sk-container-id-25 div.sk-parallel-item:last-child::after {align-self: flex-start;width: 50%;}#sk-container-id-25 div.sk-parallel-item:only-child::after {width: 0;}#sk-container-id-25 div.sk-dashed-wrapped {border: 1px dashed gray;margin: 0 0.4em 0.5em 0.4em;box-sizing: border-box;padding-bottom: 0.4em;background-color: white;}#sk-container-id-25 div.sk-label label {font-family: monospace;font-weight: bold;display: inline-block;line-height: 1.2em;}#sk-container-id-25 div.sk-label-container {text-align: center;}#sk-container-id-25 div.sk-container {/* jupyter's `normalize.less` sets `[hidden] { display: none; }` but bootstrap.min.css set `[hidden] { display: none !important; }` so we also need the `!important` here to be able to override the default hidden behavior on the sphinx rendered scikit-learn.org. See: https://github.com/scikit-learn/scikit-learn/issues/21755 */display: inline-block !important;position: relative;}#sk-container-id-25 div.sk-text-repr-fallback {display: none;}</style><div id=\"sk-container-id-25\" class=\"sk-top-container\"><div class=\"sk-text-repr-fallback\"><pre>GridSearchCV(cv=4, estimator=LogisticRegression(max_iter=1000), n_jobs=-1,\n",
       "             param_grid={&#x27;C&#x27;: array([0. , 0.1, 0.2, 0.3, 0.4, 0.5, 0.6, 0.7, 0.8, 0.9, 1. , 1.1, 1.2,\n",
       "       1.3, 1.4, 1.5, 1.6, 1.7, 1.8, 1.9]),\n",
       "                         &#x27;penalty&#x27;: [&#x27;l1&#x27;, &#x27;l2&#x27;, &#x27;elasticnet&#x27;, &#x27;none&#x27;]},\n",
       "             scoring=&#x27;accuracy&#x27;, verbose=True)</pre><b>In a Jupyter environment, please rerun this cell to show the HTML representation or trust the notebook. <br />On GitHub, the HTML representation is unable to render, please try loading this page with nbviewer.org.</b></div><div class=\"sk-container\" hidden><div class=\"sk-item sk-dashed-wrapped\"><div class=\"sk-label-container\"><div class=\"sk-label sk-toggleable\"><input class=\"sk-toggleable__control sk-hidden--visually\" id=\"sk-estimator-id-49\" type=\"checkbox\" ><label for=\"sk-estimator-id-49\" class=\"sk-toggleable__label sk-toggleable__label-arrow\">GridSearchCV</label><div class=\"sk-toggleable__content\"><pre>GridSearchCV(cv=4, estimator=LogisticRegression(max_iter=1000), n_jobs=-1,\n",
       "             param_grid={&#x27;C&#x27;: array([0. , 0.1, 0.2, 0.3, 0.4, 0.5, 0.6, 0.7, 0.8, 0.9, 1. , 1.1, 1.2,\n",
       "       1.3, 1.4, 1.5, 1.6, 1.7, 1.8, 1.9]),\n",
       "                         &#x27;penalty&#x27;: [&#x27;l1&#x27;, &#x27;l2&#x27;, &#x27;elasticnet&#x27;, &#x27;none&#x27;]},\n",
       "             scoring=&#x27;accuracy&#x27;, verbose=True)</pre></div></div></div><div class=\"sk-parallel\"><div class=\"sk-parallel-item\"><div class=\"sk-item\"><div class=\"sk-label-container\"><div class=\"sk-label sk-toggleable\"><input class=\"sk-toggleable__control sk-hidden--visually\" id=\"sk-estimator-id-50\" type=\"checkbox\" ><label for=\"sk-estimator-id-50\" class=\"sk-toggleable__label sk-toggleable__label-arrow\">estimator: LogisticRegression</label><div class=\"sk-toggleable__content\"><pre>LogisticRegression(max_iter=1000)</pre></div></div></div><div class=\"sk-serial\"><div class=\"sk-item\"><div class=\"sk-estimator sk-toggleable\"><input class=\"sk-toggleable__control sk-hidden--visually\" id=\"sk-estimator-id-51\" type=\"checkbox\" ><label for=\"sk-estimator-id-51\" class=\"sk-toggleable__label sk-toggleable__label-arrow\">LogisticRegression</label><div class=\"sk-toggleable__content\"><pre>LogisticRegression(max_iter=1000)</pre></div></div></div></div></div></div></div></div></div></div>"
      ],
      "text/plain": [
       "GridSearchCV(cv=4, estimator=LogisticRegression(max_iter=1000), n_jobs=-1,\n",
       "             param_grid={'C': array([0. , 0.1, 0.2, 0.3, 0.4, 0.5, 0.6, 0.7, 0.8, 0.9, 1. , 1.1, 1.2,\n",
       "       1.3, 1.4, 1.5, 1.6, 1.7, 1.8, 1.9]),\n",
       "                         'penalty': ['l1', 'l2', 'elasticnet', 'none']},\n",
       "             scoring='accuracy', verbose=True)"
      ]
     },
     "execution_count": 164,
     "metadata": {},
     "output_type": "execute_result"
    }
   ],
   "source": [
    "grid.fit(Xt,yt) #entrenamos el modelo"
   ]
  },
  {
   "cell_type": "code",
   "execution_count": 165,
   "metadata": {},
   "outputs": [],
   "source": [
    "lr = grid.best_estimator_ #usamos el modelo ganador"
   ]
  },
  {
   "cell_type": "code",
   "execution_count": 166,
   "metadata": {},
   "outputs": [
    {
     "data": {
      "text/plain": [
       "0.6547263790437852"
      ]
     },
     "execution_count": 166,
     "metadata": {},
     "output_type": "execute_result"
    }
   ],
   "source": [
    "grid.best_score_ #vemos el score obtenido"
   ]
  },
  {
   "cell_type": "code",
   "execution_count": 167,
   "metadata": {},
   "outputs": [
    {
     "data": {
      "text/plain": [
       "{'C': 0.2, 'penalty': 'l2'}"
      ]
     },
     "execution_count": 167,
     "metadata": {},
     "output_type": "execute_result"
    }
   ],
   "source": [
    "grid.best_params_ #visualizamos los hiperparametros ganadores"
   ]
  },
  {
   "cell_type": "code",
   "execution_count": 168,
   "metadata": {},
   "outputs": [
    {
     "data": {
      "text/html": [
       "<style>#sk-container-id-26 {color: black;background-color: white;}#sk-container-id-26 pre{padding: 0;}#sk-container-id-26 div.sk-toggleable {background-color: white;}#sk-container-id-26 label.sk-toggleable__label {cursor: pointer;display: block;width: 100%;margin-bottom: 0;padding: 0.3em;box-sizing: border-box;text-align: center;}#sk-container-id-26 label.sk-toggleable__label-arrow:before {content: \"▸\";float: left;margin-right: 0.25em;color: #696969;}#sk-container-id-26 label.sk-toggleable__label-arrow:hover:before {color: black;}#sk-container-id-26 div.sk-estimator:hover label.sk-toggleable__label-arrow:before {color: black;}#sk-container-id-26 div.sk-toggleable__content {max-height: 0;max-width: 0;overflow: hidden;text-align: left;background-color: #f0f8ff;}#sk-container-id-26 div.sk-toggleable__content pre {margin: 0.2em;color: black;border-radius: 0.25em;background-color: #f0f8ff;}#sk-container-id-26 input.sk-toggleable__control:checked~div.sk-toggleable__content {max-height: 200px;max-width: 100%;overflow: auto;}#sk-container-id-26 input.sk-toggleable__control:checked~label.sk-toggleable__label-arrow:before {content: \"▾\";}#sk-container-id-26 div.sk-estimator input.sk-toggleable__control:checked~label.sk-toggleable__label {background-color: #d4ebff;}#sk-container-id-26 div.sk-label input.sk-toggleable__control:checked~label.sk-toggleable__label {background-color: #d4ebff;}#sk-container-id-26 input.sk-hidden--visually {border: 0;clip: rect(1px 1px 1px 1px);clip: rect(1px, 1px, 1px, 1px);height: 1px;margin: -1px;overflow: hidden;padding: 0;position: absolute;width: 1px;}#sk-container-id-26 div.sk-estimator {font-family: monospace;background-color: #f0f8ff;border: 1px dotted black;border-radius: 0.25em;box-sizing: border-box;margin-bottom: 0.5em;}#sk-container-id-26 div.sk-estimator:hover {background-color: #d4ebff;}#sk-container-id-26 div.sk-parallel-item::after {content: \"\";width: 100%;border-bottom: 1px solid gray;flex-grow: 1;}#sk-container-id-26 div.sk-label:hover label.sk-toggleable__label {background-color: #d4ebff;}#sk-container-id-26 div.sk-serial::before {content: \"\";position: absolute;border-left: 1px solid gray;box-sizing: border-box;top: 0;bottom: 0;left: 50%;z-index: 0;}#sk-container-id-26 div.sk-serial {display: flex;flex-direction: column;align-items: center;background-color: white;padding-right: 0.2em;padding-left: 0.2em;position: relative;}#sk-container-id-26 div.sk-item {position: relative;z-index: 1;}#sk-container-id-26 div.sk-parallel {display: flex;align-items: stretch;justify-content: center;background-color: white;position: relative;}#sk-container-id-26 div.sk-item::before, #sk-container-id-26 div.sk-parallel-item::before {content: \"\";position: absolute;border-left: 1px solid gray;box-sizing: border-box;top: 0;bottom: 0;left: 50%;z-index: -1;}#sk-container-id-26 div.sk-parallel-item {display: flex;flex-direction: column;z-index: 1;position: relative;background-color: white;}#sk-container-id-26 div.sk-parallel-item:first-child::after {align-self: flex-end;width: 50%;}#sk-container-id-26 div.sk-parallel-item:last-child::after {align-self: flex-start;width: 50%;}#sk-container-id-26 div.sk-parallel-item:only-child::after {width: 0;}#sk-container-id-26 div.sk-dashed-wrapped {border: 1px dashed gray;margin: 0 0.4em 0.5em 0.4em;box-sizing: border-box;padding-bottom: 0.4em;background-color: white;}#sk-container-id-26 div.sk-label label {font-family: monospace;font-weight: bold;display: inline-block;line-height: 1.2em;}#sk-container-id-26 div.sk-label-container {text-align: center;}#sk-container-id-26 div.sk-container {/* jupyter's `normalize.less` sets `[hidden] { display: none; }` but bootstrap.min.css set `[hidden] { display: none !important; }` so we also need the `!important` here to be able to override the default hidden behavior on the sphinx rendered scikit-learn.org. See: https://github.com/scikit-learn/scikit-learn/issues/21755 */display: inline-block !important;position: relative;}#sk-container-id-26 div.sk-text-repr-fallback {display: none;}</style><div id=\"sk-container-id-26\" class=\"sk-top-container\"><div class=\"sk-text-repr-fallback\"><pre>LogisticRegression(C=0.2, max_iter=1000)</pre><b>In a Jupyter environment, please rerun this cell to show the HTML representation or trust the notebook. <br />On GitHub, the HTML representation is unable to render, please try loading this page with nbviewer.org.</b></div><div class=\"sk-container\" hidden><div class=\"sk-item\"><div class=\"sk-estimator sk-toggleable\"><input class=\"sk-toggleable__control sk-hidden--visually\" id=\"sk-estimator-id-52\" type=\"checkbox\" checked><label for=\"sk-estimator-id-52\" class=\"sk-toggleable__label sk-toggleable__label-arrow\">LogisticRegression</label><div class=\"sk-toggleable__content\"><pre>LogisticRegression(C=0.2, max_iter=1000)</pre></div></div></div></div></div>"
      ],
      "text/plain": [
       "LogisticRegression(C=0.2, max_iter=1000)"
      ]
     },
     "execution_count": 168,
     "metadata": {},
     "output_type": "execute_result"
    }
   ],
   "source": [
    "lr.fit(Xt,yt) #Entrenamos el mejor modelo"
   ]
  },
  {
   "cell_type": "markdown",
   "metadata": {},
   "source": [
    "#### Parámetros $\\vec{\\theta},\\theta_0$"
   ]
  },
  {
   "cell_type": "code",
   "execution_count": 169,
   "metadata": {},
   "outputs": [
    {
     "data": {
      "text/plain": [
       "(array([[-0.99429362, -0.38566511,  0.83349934,  0.56592593,  0.2878732 ,\n",
       "          0.26662237,  0.16909723,  0.21792311,  0.25961388, -0.33067836,\n",
       "         -0.53009324, -0.14116462,  0.07552014, -0.84062887,  0.02152158,\n",
       "         -0.15300084,  0.19667141,  0.49522126,  0.2062165 ,  0.11037243,\n",
       "          0.04198774, -0.11643136, -0.13044806, -0.32078373, -0.12790135,\n",
       "         -0.22341481,  0.32521199,  0.33796441, -0.2706652 ,  0.1074023 ,\n",
       "         -0.29281555,  0.03008336, -0.23717054,  1.35266259]]),\n",
       " array([-0.39735453]))"
      ]
     },
     "execution_count": 169,
     "metadata": {},
     "output_type": "execute_result"
    }
   ],
   "source": [
    "lr.coef_,lr.intercept_ #visulizamos los parametros del modelo de reg log"
   ]
  },
  {
   "cell_type": "code",
   "execution_count": 170,
   "metadata": {},
   "outputs": [
    {
     "name": "stdout",
     "output_type": "stream",
     "text": [
      "0.6649594536918481\n",
      "0.7367840414586302\n"
     ]
    }
   ],
   "source": [
    "\"\"\"Vemos sus metricas\"\"\"\n",
    "print(accuracy_score(y_true=yt,y_pred=lr.predict(Xt)))\n",
    "print(roc_auc_score(y_true=yt,y_score=lr.predict_proba(Xt)[:,1]))"
   ]
  },
  {
   "cell_type": "markdown",
   "metadata": {},
   "source": [
    "### Árbol de Decisión"
   ]
  },
  {
   "cell_type": "code",
   "execution_count": 171,
   "metadata": {},
   "outputs": [],
   "source": [
    "\"\"\"Hiperparametros del arbol de decision\"\"\"\n",
    "hp = {\"criterion\" : [\"gini\", \"entropy\", \"log_loss\"],\n",
    "\"splitter\" : [\"best\", \"random\"],\n",
    "\"max_depth\" : range(2,Xt.shape[-1]),\n",
    "\"min_samples_split\" : np.arange(0.01,0.1,0.01)}"
   ]
  },
  {
   "cell_type": "code",
   "execution_count": 172,
   "metadata": {},
   "outputs": [],
   "source": [
    "\"\"\"Busqueda de gradilla\"\"\"\n",
    "grid = GridSearchCV(estimator=dt,param_grid=hp,n_jobs=-1,verbose=True,scoring='accuracy',cv=4)"
   ]
  },
  {
   "cell_type": "code",
   "execution_count": 173,
   "metadata": {},
   "outputs": [
    {
     "name": "stdout",
     "output_type": "stream",
     "text": [
      "Fitting 4 folds for each of 1728 candidates, totalling 6912 fits\n"
     ]
    },
    {
     "data": {
      "text/html": [
       "<style>#sk-container-id-27 {color: black;background-color: white;}#sk-container-id-27 pre{padding: 0;}#sk-container-id-27 div.sk-toggleable {background-color: white;}#sk-container-id-27 label.sk-toggleable__label {cursor: pointer;display: block;width: 100%;margin-bottom: 0;padding: 0.3em;box-sizing: border-box;text-align: center;}#sk-container-id-27 label.sk-toggleable__label-arrow:before {content: \"▸\";float: left;margin-right: 0.25em;color: #696969;}#sk-container-id-27 label.sk-toggleable__label-arrow:hover:before {color: black;}#sk-container-id-27 div.sk-estimator:hover label.sk-toggleable__label-arrow:before {color: black;}#sk-container-id-27 div.sk-toggleable__content {max-height: 0;max-width: 0;overflow: hidden;text-align: left;background-color: #f0f8ff;}#sk-container-id-27 div.sk-toggleable__content pre {margin: 0.2em;color: black;border-radius: 0.25em;background-color: #f0f8ff;}#sk-container-id-27 input.sk-toggleable__control:checked~div.sk-toggleable__content {max-height: 200px;max-width: 100%;overflow: auto;}#sk-container-id-27 input.sk-toggleable__control:checked~label.sk-toggleable__label-arrow:before {content: \"▾\";}#sk-container-id-27 div.sk-estimator input.sk-toggleable__control:checked~label.sk-toggleable__label {background-color: #d4ebff;}#sk-container-id-27 div.sk-label input.sk-toggleable__control:checked~label.sk-toggleable__label {background-color: #d4ebff;}#sk-container-id-27 input.sk-hidden--visually {border: 0;clip: rect(1px 1px 1px 1px);clip: rect(1px, 1px, 1px, 1px);height: 1px;margin: -1px;overflow: hidden;padding: 0;position: absolute;width: 1px;}#sk-container-id-27 div.sk-estimator {font-family: monospace;background-color: #f0f8ff;border: 1px dotted black;border-radius: 0.25em;box-sizing: border-box;margin-bottom: 0.5em;}#sk-container-id-27 div.sk-estimator:hover {background-color: #d4ebff;}#sk-container-id-27 div.sk-parallel-item::after {content: \"\";width: 100%;border-bottom: 1px solid gray;flex-grow: 1;}#sk-container-id-27 div.sk-label:hover label.sk-toggleable__label {background-color: #d4ebff;}#sk-container-id-27 div.sk-serial::before {content: \"\";position: absolute;border-left: 1px solid gray;box-sizing: border-box;top: 0;bottom: 0;left: 50%;z-index: 0;}#sk-container-id-27 div.sk-serial {display: flex;flex-direction: column;align-items: center;background-color: white;padding-right: 0.2em;padding-left: 0.2em;position: relative;}#sk-container-id-27 div.sk-item {position: relative;z-index: 1;}#sk-container-id-27 div.sk-parallel {display: flex;align-items: stretch;justify-content: center;background-color: white;position: relative;}#sk-container-id-27 div.sk-item::before, #sk-container-id-27 div.sk-parallel-item::before {content: \"\";position: absolute;border-left: 1px solid gray;box-sizing: border-box;top: 0;bottom: 0;left: 50%;z-index: -1;}#sk-container-id-27 div.sk-parallel-item {display: flex;flex-direction: column;z-index: 1;position: relative;background-color: white;}#sk-container-id-27 div.sk-parallel-item:first-child::after {align-self: flex-end;width: 50%;}#sk-container-id-27 div.sk-parallel-item:last-child::after {align-self: flex-start;width: 50%;}#sk-container-id-27 div.sk-parallel-item:only-child::after {width: 0;}#sk-container-id-27 div.sk-dashed-wrapped {border: 1px dashed gray;margin: 0 0.4em 0.5em 0.4em;box-sizing: border-box;padding-bottom: 0.4em;background-color: white;}#sk-container-id-27 div.sk-label label {font-family: monospace;font-weight: bold;display: inline-block;line-height: 1.2em;}#sk-container-id-27 div.sk-label-container {text-align: center;}#sk-container-id-27 div.sk-container {/* jupyter's `normalize.less` sets `[hidden] { display: none; }` but bootstrap.min.css set `[hidden] { display: none !important; }` so we also need the `!important` here to be able to override the default hidden behavior on the sphinx rendered scikit-learn.org. See: https://github.com/scikit-learn/scikit-learn/issues/21755 */display: inline-block !important;position: relative;}#sk-container-id-27 div.sk-text-repr-fallback {display: none;}</style><div id=\"sk-container-id-27\" class=\"sk-top-container\"><div class=\"sk-text-repr-fallback\"><pre>GridSearchCV(cv=4, estimator=DecisionTreeClassifier(), n_jobs=-1,\n",
       "             param_grid={&#x27;criterion&#x27;: [&#x27;gini&#x27;, &#x27;entropy&#x27;, &#x27;log_loss&#x27;],\n",
       "                         &#x27;max_depth&#x27;: range(2, 34),\n",
       "                         &#x27;min_samples_split&#x27;: array([0.01, 0.02, 0.03, 0.04, 0.05, 0.06, 0.07, 0.08, 0.09]),\n",
       "                         &#x27;splitter&#x27;: [&#x27;best&#x27;, &#x27;random&#x27;]},\n",
       "             scoring=&#x27;accuracy&#x27;, verbose=True)</pre><b>In a Jupyter environment, please rerun this cell to show the HTML representation or trust the notebook. <br />On GitHub, the HTML representation is unable to render, please try loading this page with nbviewer.org.</b></div><div class=\"sk-container\" hidden><div class=\"sk-item sk-dashed-wrapped\"><div class=\"sk-label-container\"><div class=\"sk-label sk-toggleable\"><input class=\"sk-toggleable__control sk-hidden--visually\" id=\"sk-estimator-id-53\" type=\"checkbox\" ><label for=\"sk-estimator-id-53\" class=\"sk-toggleable__label sk-toggleable__label-arrow\">GridSearchCV</label><div class=\"sk-toggleable__content\"><pre>GridSearchCV(cv=4, estimator=DecisionTreeClassifier(), n_jobs=-1,\n",
       "             param_grid={&#x27;criterion&#x27;: [&#x27;gini&#x27;, &#x27;entropy&#x27;, &#x27;log_loss&#x27;],\n",
       "                         &#x27;max_depth&#x27;: range(2, 34),\n",
       "                         &#x27;min_samples_split&#x27;: array([0.01, 0.02, 0.03, 0.04, 0.05, 0.06, 0.07, 0.08, 0.09]),\n",
       "                         &#x27;splitter&#x27;: [&#x27;best&#x27;, &#x27;random&#x27;]},\n",
       "             scoring=&#x27;accuracy&#x27;, verbose=True)</pre></div></div></div><div class=\"sk-parallel\"><div class=\"sk-parallel-item\"><div class=\"sk-item\"><div class=\"sk-label-container\"><div class=\"sk-label sk-toggleable\"><input class=\"sk-toggleable__control sk-hidden--visually\" id=\"sk-estimator-id-54\" type=\"checkbox\" ><label for=\"sk-estimator-id-54\" class=\"sk-toggleable__label sk-toggleable__label-arrow\">estimator: DecisionTreeClassifier</label><div class=\"sk-toggleable__content\"><pre>DecisionTreeClassifier()</pre></div></div></div><div class=\"sk-serial\"><div class=\"sk-item\"><div class=\"sk-estimator sk-toggleable\"><input class=\"sk-toggleable__control sk-hidden--visually\" id=\"sk-estimator-id-55\" type=\"checkbox\" ><label for=\"sk-estimator-id-55\" class=\"sk-toggleable__label sk-toggleable__label-arrow\">DecisionTreeClassifier</label><div class=\"sk-toggleable__content\"><pre>DecisionTreeClassifier()</pre></div></div></div></div></div></div></div></div></div></div>"
      ],
      "text/plain": [
       "GridSearchCV(cv=4, estimator=DecisionTreeClassifier(), n_jobs=-1,\n",
       "             param_grid={'criterion': ['gini', 'entropy', 'log_loss'],\n",
       "                         'max_depth': range(2, 34),\n",
       "                         'min_samples_split': array([0.01, 0.02, 0.03, 0.04, 0.05, 0.06, 0.07, 0.08, 0.09]),\n",
       "                         'splitter': ['best', 'random']},\n",
       "             scoring='accuracy', verbose=True)"
      ]
     },
     "execution_count": 173,
     "metadata": {},
     "output_type": "execute_result"
    }
   ],
   "source": [
    "grid.fit(Xt,yt) #Buscamos los hiperparametros"
   ]
  },
  {
   "cell_type": "code",
   "execution_count": 174,
   "metadata": {},
   "outputs": [],
   "source": [
    "dt = grid.best_estimator_ #guardamos el modelo con mejores hipeparametros"
   ]
  },
  {
   "cell_type": "code",
   "execution_count": 175,
   "metadata": {},
   "outputs": [
    {
     "data": {
      "text/plain": [
       "0.6649623698258511"
      ]
     },
     "execution_count": 175,
     "metadata": {},
     "output_type": "execute_result"
    }
   ],
   "source": [
    "grid.best_score_ #vemos su escore"
   ]
  },
  {
   "cell_type": "code",
   "execution_count": 176,
   "metadata": {},
   "outputs": [
    {
     "data": {
      "text/plain": [
       "{'criterion': 'entropy',\n",
       " 'max_depth': 23,\n",
       " 'min_samples_split': 0.08,\n",
       " 'splitter': 'random'}"
      ]
     },
     "execution_count": 176,
     "metadata": {},
     "output_type": "execute_result"
    }
   ],
   "source": [
    "grid.best_params_ #hipeparametros ganadores"
   ]
  },
  {
   "cell_type": "code",
   "execution_count": 177,
   "metadata": {},
   "outputs": [
    {
     "data": {
      "text/html": [
       "<style>#sk-container-id-28 {color: black;background-color: white;}#sk-container-id-28 pre{padding: 0;}#sk-container-id-28 div.sk-toggleable {background-color: white;}#sk-container-id-28 label.sk-toggleable__label {cursor: pointer;display: block;width: 100%;margin-bottom: 0;padding: 0.3em;box-sizing: border-box;text-align: center;}#sk-container-id-28 label.sk-toggleable__label-arrow:before {content: \"▸\";float: left;margin-right: 0.25em;color: #696969;}#sk-container-id-28 label.sk-toggleable__label-arrow:hover:before {color: black;}#sk-container-id-28 div.sk-estimator:hover label.sk-toggleable__label-arrow:before {color: black;}#sk-container-id-28 div.sk-toggleable__content {max-height: 0;max-width: 0;overflow: hidden;text-align: left;background-color: #f0f8ff;}#sk-container-id-28 div.sk-toggleable__content pre {margin: 0.2em;color: black;border-radius: 0.25em;background-color: #f0f8ff;}#sk-container-id-28 input.sk-toggleable__control:checked~div.sk-toggleable__content {max-height: 200px;max-width: 100%;overflow: auto;}#sk-container-id-28 input.sk-toggleable__control:checked~label.sk-toggleable__label-arrow:before {content: \"▾\";}#sk-container-id-28 div.sk-estimator input.sk-toggleable__control:checked~label.sk-toggleable__label {background-color: #d4ebff;}#sk-container-id-28 div.sk-label input.sk-toggleable__control:checked~label.sk-toggleable__label {background-color: #d4ebff;}#sk-container-id-28 input.sk-hidden--visually {border: 0;clip: rect(1px 1px 1px 1px);clip: rect(1px, 1px, 1px, 1px);height: 1px;margin: -1px;overflow: hidden;padding: 0;position: absolute;width: 1px;}#sk-container-id-28 div.sk-estimator {font-family: monospace;background-color: #f0f8ff;border: 1px dotted black;border-radius: 0.25em;box-sizing: border-box;margin-bottom: 0.5em;}#sk-container-id-28 div.sk-estimator:hover {background-color: #d4ebff;}#sk-container-id-28 div.sk-parallel-item::after {content: \"\";width: 100%;border-bottom: 1px solid gray;flex-grow: 1;}#sk-container-id-28 div.sk-label:hover label.sk-toggleable__label {background-color: #d4ebff;}#sk-container-id-28 div.sk-serial::before {content: \"\";position: absolute;border-left: 1px solid gray;box-sizing: border-box;top: 0;bottom: 0;left: 50%;z-index: 0;}#sk-container-id-28 div.sk-serial {display: flex;flex-direction: column;align-items: center;background-color: white;padding-right: 0.2em;padding-left: 0.2em;position: relative;}#sk-container-id-28 div.sk-item {position: relative;z-index: 1;}#sk-container-id-28 div.sk-parallel {display: flex;align-items: stretch;justify-content: center;background-color: white;position: relative;}#sk-container-id-28 div.sk-item::before, #sk-container-id-28 div.sk-parallel-item::before {content: \"\";position: absolute;border-left: 1px solid gray;box-sizing: border-box;top: 0;bottom: 0;left: 50%;z-index: -1;}#sk-container-id-28 div.sk-parallel-item {display: flex;flex-direction: column;z-index: 1;position: relative;background-color: white;}#sk-container-id-28 div.sk-parallel-item:first-child::after {align-self: flex-end;width: 50%;}#sk-container-id-28 div.sk-parallel-item:last-child::after {align-self: flex-start;width: 50%;}#sk-container-id-28 div.sk-parallel-item:only-child::after {width: 0;}#sk-container-id-28 div.sk-dashed-wrapped {border: 1px dashed gray;margin: 0 0.4em 0.5em 0.4em;box-sizing: border-box;padding-bottom: 0.4em;background-color: white;}#sk-container-id-28 div.sk-label label {font-family: monospace;font-weight: bold;display: inline-block;line-height: 1.2em;}#sk-container-id-28 div.sk-label-container {text-align: center;}#sk-container-id-28 div.sk-container {/* jupyter's `normalize.less` sets `[hidden] { display: none; }` but bootstrap.min.css set `[hidden] { display: none !important; }` so we also need the `!important` here to be able to override the default hidden behavior on the sphinx rendered scikit-learn.org. See: https://github.com/scikit-learn/scikit-learn/issues/21755 */display: inline-block !important;position: relative;}#sk-container-id-28 div.sk-text-repr-fallback {display: none;}</style><div id=\"sk-container-id-28\" class=\"sk-top-container\"><div class=\"sk-text-repr-fallback\"><pre>DecisionTreeClassifier(criterion=&#x27;entropy&#x27;, max_depth=23,\n",
       "                       min_samples_split=0.08, splitter=&#x27;random&#x27;)</pre><b>In a Jupyter environment, please rerun this cell to show the HTML representation or trust the notebook. <br />On GitHub, the HTML representation is unable to render, please try loading this page with nbviewer.org.</b></div><div class=\"sk-container\" hidden><div class=\"sk-item\"><div class=\"sk-estimator sk-toggleable\"><input class=\"sk-toggleable__control sk-hidden--visually\" id=\"sk-estimator-id-56\" type=\"checkbox\" checked><label for=\"sk-estimator-id-56\" class=\"sk-toggleable__label sk-toggleable__label-arrow\">DecisionTreeClassifier</label><div class=\"sk-toggleable__content\"><pre>DecisionTreeClassifier(criterion=&#x27;entropy&#x27;, max_depth=23,\n",
       "                       min_samples_split=0.08, splitter=&#x27;random&#x27;)</pre></div></div></div></div></div>"
      ],
      "text/plain": [
       "DecisionTreeClassifier(criterion='entropy', max_depth=23,\n",
       "                       min_samples_split=0.08, splitter='random')"
      ]
     },
     "execution_count": 177,
     "metadata": {},
     "output_type": "execute_result"
    }
   ],
   "source": [
    "dt.fit(Xt,yt) #entrenamos el modelo con los mejores hiperparametros"
   ]
  },
  {
   "cell_type": "markdown",
   "metadata": {},
   "source": [
    "#### Parámetros"
   ]
  },
  {
   "cell_type": "code",
   "execution_count": 178,
   "metadata": {},
   "outputs": [],
   "source": [
    "from sklearn.tree import plot_tree\n",
    "import matplotlib.pyplot as plt"
   ]
  },
  {
   "cell_type": "code",
   "execution_count": 179,
   "metadata": {},
   "outputs": [
    {
     "data": {
      "text/plain": [
       "[Text(0.7540322580645161, 0.9736842105263158, 'n_dif_estado_True <= 0.758\\nentropy = 1.0\\nsamples = 2343\\nvalue = [1179, 1164]'),\n",
       " Text(0.6048387096774194, 0.9210526315789473, 'n_hora_Otros <= 0.808\\nentropy = 0.991\\nsamples = 1985\\nvalue = [1101, 884]'),\n",
       " Text(0.46774193548387094, 0.868421052631579, 'n_txn_type_S <= 0.562\\nentropy = 1.0\\nsamples = 1566\\nvalue = [792, 774]'),\n",
       " Text(0.3870967741935484, 0.8157894736842105, 'n_hora_7 <= 0.166\\nentropy = 0.953\\nsamples = 357\\nvalue = [224, 133]'),\n",
       " Text(0.3548387096774194, 0.7631578947368421, 'n_hora_8 <= 0.056\\nentropy = 0.969\\nsamples = 335\\nvalue = [202, 133]'),\n",
       " Text(0.3225806451612903, 0.7105263157894737, 'n_mes_4 <= 0.22\\nentropy = 0.98\\nsamples = 316\\nvalue = [184, 132]'),\n",
       " Text(0.2903225806451613, 0.6578947368421053, 'n_diasem_D <= 0.367\\nentropy = 0.962\\nsamples = 283\\nvalue = [174, 109]'),\n",
       " Text(0.25806451612903225, 0.6052631578947368, 'n_mes_3 <= 0.37\\nentropy = 0.92\\nsamples = 221\\nvalue = [147, 74]'),\n",
       " Text(0.22580645161290322, 0.5526315789473685, 'n_diasem_M <= 0.997\\nentropy = 0.941\\nsamples = 201\\nvalue = [129, 72]'),\n",
       " Text(0.1935483870967742, 0.5, 'entropy = 0.907\\nsamples = 155\\nvalue = [105, 50]'),\n",
       " Text(0.25806451612903225, 0.5, 'entropy = 0.999\\nsamples = 46\\nvalue = [24, 22]'),\n",
       " Text(0.2903225806451613, 0.5526315789473685, 'entropy = 0.469\\nsamples = 20\\nvalue = [18, 2]'),\n",
       " Text(0.3225806451612903, 0.6052631578947368, 'entropy = 0.988\\nsamples = 62\\nvalue = [27, 35]'),\n",
       " Text(0.3548387096774194, 0.6578947368421053, 'entropy = 0.885\\nsamples = 33\\nvalue = [10, 23]'),\n",
       " Text(0.3870967741935484, 0.7105263157894737, 'entropy = 0.297\\nsamples = 19\\nvalue = [18, 1]'),\n",
       " Text(0.41935483870967744, 0.7631578947368421, 'entropy = 0.0\\nsamples = 22\\nvalue = [22, 0]'),\n",
       " Text(0.5483870967741935, 0.8157894736842105, 'n_diasem_J <= 0.606\\nentropy = 0.997\\nsamples = 1209\\nvalue = [568, 641]'),\n",
       " Text(0.4838709677419355, 0.7631578947368421, 'n_hora_16 <= 0.377\\nentropy = 1.0\\nsamples = 996\\nvalue = [493, 503]'),\n",
       " Text(0.45161290322580644, 0.7105263157894737, 'n_mes_7 <= 0.284\\nentropy = 0.999\\nsamples = 923\\nvalue = [441, 482]'),\n",
       " Text(0.41935483870967744, 0.6578947368421053, 'num_txn_ult_mes <= 0.577\\nentropy = 0.996\\nsamples = 864\\nvalue = [400, 464]'),\n",
       " Text(0.3870967741935484, 0.6052631578947368, 'n_hora_7 <= 0.691\\nentropy = 0.991\\nsamples = 770\\nvalue = [342, 428]'),\n",
       " Text(0.3548387096774194, 0.5526315789473685, 'n_mes_4 <= 0.79\\nentropy = 0.985\\nsamples = 704\\nvalue = [302, 402]'),\n",
       " Text(0.3225806451612903, 0.5, 'n_hora_8 <= 0.104\\nentropy = 0.98\\nsamples = 669\\nvalue = [279, 390]'),\n",
       " Text(0.2903225806451613, 0.4473684210526316, 'n_diasem_S <= 0.267\\nentropy = 0.973\\nsamples = 604\\nvalue = [244, 360]'),\n",
       " Text(0.25806451612903225, 0.39473684210526316, 'n_mes_8 <= 0.3\\nentropy = 0.962\\nsamples = 526\\nvalue = [203, 323]'),\n",
       " Text(0.22580645161290322, 0.34210526315789475, 'n_diasem_X <= 0.825\\nentropy = 0.952\\nsamples = 482\\nvalue = [179, 303]'),\n",
       " Text(0.1935483870967742, 0.2894736842105263, 'n_mes_12 <= 0.884\\nentropy = 0.931\\nsamples = 364\\nvalue = [126, 238]'),\n",
       " Text(0.16129032258064516, 0.23684210526315788, 'n_diasem_L <= 0.434\\nentropy = 0.948\\nsamples = 322\\nvalue = [118, 204]'),\n",
       " Text(0.12903225806451613, 0.18421052631578946, 'n_mes_9 <= 0.946\\nentropy = 0.925\\nsamples = 256\\nvalue = [87, 169]'),\n",
       " Text(0.0967741935483871, 0.13157894736842105, 'n_hora_10 <= 0.467\\nentropy = 0.902\\nsamples = 233\\nvalue = [74, 159]'),\n",
       " Text(0.06451612903225806, 0.07894736842105263, 'n_hora_11 <= 0.722\\nentropy = 0.93\\nsamples = 194\\nvalue = [67, 127]'),\n",
       " Text(0.03225806451612903, 0.02631578947368421, 'entropy = 0.961\\nsamples = 151\\nvalue = [58, 93]'),\n",
       " Text(0.0967741935483871, 0.02631578947368421, 'entropy = 0.74\\nsamples = 43\\nvalue = [9, 34]'),\n",
       " Text(0.12903225806451613, 0.07894736842105263, 'entropy = 0.679\\nsamples = 39\\nvalue = [7, 32]'),\n",
       " Text(0.16129032258064516, 0.13157894736842105, 'entropy = 0.988\\nsamples = 23\\nvalue = [13, 10]'),\n",
       " Text(0.1935483870967742, 0.18421052631578946, 'entropy = 0.997\\nsamples = 66\\nvalue = [31, 35]'),\n",
       " Text(0.22580645161290322, 0.23684210526315788, 'entropy = 0.702\\nsamples = 42\\nvalue = [8, 34]'),\n",
       " Text(0.25806451612903225, 0.2894736842105263, 'entropy = 0.993\\nsamples = 118\\nvalue = [53, 65]'),\n",
       " Text(0.2903225806451613, 0.34210526315789475, 'entropy = 0.994\\nsamples = 44\\nvalue = [24, 20]'),\n",
       " Text(0.3225806451612903, 0.39473684210526316, 'entropy = 0.998\\nsamples = 78\\nvalue = [41, 37]'),\n",
       " Text(0.3548387096774194, 0.4473684210526316, 'entropy = 0.996\\nsamples = 65\\nvalue = [35, 30]'),\n",
       " Text(0.3870967741935484, 0.5, 'entropy = 0.928\\nsamples = 35\\nvalue = [23, 12]'),\n",
       " Text(0.41935483870967744, 0.5526315789473685, 'entropy = 0.967\\nsamples = 66\\nvalue = [40, 26]'),\n",
       " Text(0.45161290322580644, 0.6052631578947368, 'entropy = 0.96\\nsamples = 94\\nvalue = [58, 36]'),\n",
       " Text(0.4838709677419355, 0.6578947368421053, 'entropy = 0.887\\nsamples = 59\\nvalue = [41, 18]'),\n",
       " Text(0.5161290322580645, 0.7105263157894737, 'entropy = 0.866\\nsamples = 73\\nvalue = [52, 21]'),\n",
       " Text(0.6129032258064516, 0.7631578947368421, 'n_mes_6 <= 0.469\\nentropy = 0.936\\nsamples = 213\\nvalue = [75, 138]'),\n",
       " Text(0.5806451612903226, 0.7105263157894737, 'n_mes_11 <= 0.67\\nentropy = 0.954\\nsamples = 195\\nvalue = [73, 122]'),\n",
       " Text(0.5483870967741935, 0.6578947368421053, 'entropy = 0.97\\nsamples = 173\\nvalue = [69, 104]'),\n",
       " Text(0.6129032258064516, 0.6578947368421053, 'entropy = 0.684\\nsamples = 22\\nvalue = [4, 18]'),\n",
       " Text(0.6451612903225806, 0.7105263157894737, 'entropy = 0.503\\nsamples = 18\\nvalue = [2, 16]'),\n",
       " Text(0.7419354838709677, 0.868421052631579, 'n_txn_type_S <= 0.909\\nentropy = 0.831\\nsamples = 419\\nvalue = [309, 110]'),\n",
       " Text(0.7096774193548387, 0.8157894736842105, 'entropy = 0.482\\nsamples = 96\\nvalue = [86, 10]'),\n",
       " Text(0.7741935483870968, 0.8157894736842105, 'n_mes_10 <= 0.153\\nentropy = 0.893\\nsamples = 323\\nvalue = [223, 100]'),\n",
       " Text(0.7419354838709677, 0.7631578947368421, 'n_mes_9 <= 0.462\\nentropy = 0.914\\nsamples = 295\\nvalue = [198, 97]'),\n",
       " Text(0.7096774193548387, 0.7105263157894737, 'n_diasem_L <= 0.625\\nentropy = 0.937\\nsamples = 260\\nvalue = [168, 92]'),\n",
       " Text(0.6774193548387096, 0.6578947368421053, 'n_mes_12 <= 0.675\\nentropy = 0.958\\nsamples = 221\\nvalue = [137, 84]'),\n",
       " Text(0.6451612903225806, 0.6052631578947368, 'n_mes_2 <= 0.458\\nentropy = 0.972\\nsamples = 204\\nvalue = [122, 82]'),\n",
       " Text(0.6129032258064516, 0.5526315789473685, 'entropy = 0.955\\nsamples = 181\\nvalue = [113, 68]'),\n",
       " Text(0.6774193548387096, 0.5526315789473685, 'entropy = 0.966\\nsamples = 23\\nvalue = [9, 14]'),\n",
       " Text(0.7096774193548387, 0.6052631578947368, 'entropy = 0.523\\nsamples = 17\\nvalue = [15, 2]'),\n",
       " Text(0.7419354838709677, 0.6578947368421053, 'entropy = 0.732\\nsamples = 39\\nvalue = [31, 8]'),\n",
       " Text(0.7741935483870968, 0.7105263157894737, 'entropy = 0.592\\nsamples = 35\\nvalue = [30, 5]'),\n",
       " Text(0.8064516129032258, 0.7631578947368421, 'entropy = 0.491\\nsamples = 28\\nvalue = [25, 3]'),\n",
       " Text(0.9032258064516129, 0.9210526315789473, 'n_txn_type_S <= 0.47\\nentropy = 0.756\\nsamples = 358\\nvalue = [78, 280]'),\n",
       " Text(0.8709677419354839, 0.868421052631579, 'entropy = 0.874\\nsamples = 34\\nvalue = [24, 10]'),\n",
       " Text(0.9354838709677419, 0.868421052631579, 'n_hora_Otros <= 0.009\\nentropy = 0.65\\nsamples = 324\\nvalue = [54, 270]'),\n",
       " Text(0.9032258064516129, 0.8157894736842105, 'antig_cta <= 0.175\\nentropy = 0.56\\nsamples = 275\\nvalue = [36, 239]'),\n",
       " Text(0.8709677419354839, 0.7631578947368421, 'entropy = 0.439\\nsamples = 143\\nvalue = [13, 130]'),\n",
       " Text(0.9354838709677419, 0.7631578947368421, 'entropy = 0.667\\nsamples = 132\\nvalue = [23, 109]'),\n",
       " Text(0.967741935483871, 0.8157894736842105, 'entropy = 0.949\\nsamples = 49\\nvalue = [18, 31]')]"
      ]
     },
     "execution_count": 179,
     "metadata": {},
     "output_type": "execute_result"
    },
    {
     "data": {
      "image/png": "[encoded data removed]",
      "text/plain": [
       "<Figure size 2000x2000 with 1 Axes>"
      ]
     },
     "metadata": {},
     "output_type": "display_data"
    }
   ],
   "source": [
    "plt.figure(figsize=(20,20))\n",
    "plot_tree(dt,feature_names=Xt.columns)"
   ]
  },
  {
   "cell_type": "code",
   "execution_count": 180,
   "metadata": {},
   "outputs": [
    {
     "name": "stdout",
     "output_type": "stream",
     "text": [
      "0.6875800256081946\n",
      "0.7580897376482487\n"
     ]
    }
   ],
   "source": [
    "\"\"\"Metricas\"\"\"\n",
    "print(accuracy_score(y_true=yt,y_pred=dt.predict(Xt)))\n",
    "print(roc_auc_score(y_true=yt,y_score=dt.predict_proba(Xt)[:,1]))"
   ]
  },
  {
   "cell_type": "markdown",
   "metadata": {},
   "source": [
    "### Red Neuronal"
   ]
  },
  {
   "cell_type": "code",
   "execution_count": 181,
   "metadata": {},
   "outputs": [],
   "source": [
    "\"\"\"Hiperparametros de la red neuronal\"\"\"\n",
    "hp = {\"activation\" : ['identity', 'logistic', 'tanh', 'relu'],\n",
    "\"learning_rate\" : ['constant', 'invscaling', 'adaptive'],\n",
    "\"hidden_layer_sizes\": [(a,b, ) for a in range(2,8) for b in range(2,7)], #dos capas ocultas con un rango de 2 a 8 neuronas\n",
    "\"max_iter\" : [1000] }"
   ]
  },
  {
   "cell_type": "code",
   "execution_count": 182,
   "metadata": {},
   "outputs": [
    {
     "data": {
      "text/plain": [
       "360"
      ]
     },
     "execution_count": 182,
     "metadata": {},
     "output_type": "execute_result"
    }
   ],
   "source": [
    "from functools import reduce\n",
    "reduce(lambda x,y:x*y,map(len,[y for _,y in hp.items()])) #checamos las combinaciones posibles"
   ]
  },
  {
   "cell_type": "code",
   "execution_count": 183,
   "metadata": {},
   "outputs": [],
   "source": [
    "from sklearn.model_selection import RandomizedSearchCV"
   ]
  },
  {
   "cell_type": "code",
   "execution_count": 184,
   "metadata": {},
   "outputs": [],
   "source": [
    "\"\"\"Busqueda aleatoria ya que es menos pesada\"\"\"\n",
    "grid = RandomizedSearchCV(estimator=nn,\n",
    "param_distributions=hp,n_jobs=-1,verbose=True,scoring='accuracy',cv=4,n_iter=30)"
   ]
  },
  {
   "cell_type": "code",
   "execution_count": 185,
   "metadata": {},
   "outputs": [
    {
     "name": "stdout",
     "output_type": "stream",
     "text": [
      "Fitting 4 folds for each of 30 candidates, totalling 120 fits\n"
     ]
    },
    {
     "name": "stderr",
     "output_type": "stream",
     "text": [
      "/Users/jesusarredondo/Documents/Diplomado Ciencia de Datos/Modulo5/mod5/lib/python3.9/site-packages/sklearn/neural_network/_multilayer_perceptron.py:702: ConvergenceWarning: Stochastic Optimizer: Maximum iterations (1000) reached and the optimization hasn't converged yet.\n",
      "  warnings.warn(\n",
      "/Users/jesusarredondo/Documents/Diplomado Ciencia de Datos/Modulo5/mod5/lib/python3.9/site-packages/sklearn/neural_network/_multilayer_perceptron.py:702: ConvergenceWarning: Stochastic Optimizer: Maximum iterations (1000) reached and the optimization hasn't converged yet.\n",
      "  warnings.warn(\n",
      "/Users/jesusarredondo/Documents/Diplomado Ciencia de Datos/Modulo5/mod5/lib/python3.9/site-packages/sklearn/neural_network/_multilayer_perceptron.py:702: ConvergenceWarning: Stochastic Optimizer: Maximum iterations (1000) reached and the optimization hasn't converged yet.\n",
      "  warnings.warn(\n",
      "/Users/jesusarredondo/Documents/Diplomado Ciencia de Datos/Modulo5/mod5/lib/python3.9/site-packages/sklearn/neural_network/_multilayer_perceptron.py:702: ConvergenceWarning: Stochastic Optimizer: Maximum iterations (1000) reached and the optimization hasn't converged yet.\n",
      "  warnings.warn(\n",
      "/Users/jesusarredondo/Documents/Diplomado Ciencia de Datos/Modulo5/mod5/lib/python3.9/site-packages/sklearn/neural_network/_multilayer_perceptron.py:702: ConvergenceWarning: Stochastic Optimizer: Maximum iterations (1000) reached and the optimization hasn't converged yet.\n",
      "  warnings.warn(\n",
      "/Users/jesusarredondo/Documents/Diplomado Ciencia de Datos/Modulo5/mod5/lib/python3.9/site-packages/sklearn/neural_network/_multilayer_perceptron.py:702: ConvergenceWarning: Stochastic Optimizer: Maximum iterations (1000) reached and the optimization hasn't converged yet.\n",
      "  warnings.warn(\n",
      "/Users/jesusarredondo/Documents/Diplomado Ciencia de Datos/Modulo5/mod5/lib/python3.9/site-packages/sklearn/neural_network/_multilayer_perceptron.py:702: ConvergenceWarning: Stochastic Optimizer: Maximum iterations (1000) reached and the optimization hasn't converged yet.\n",
      "  warnings.warn(\n",
      "/Users/jesusarredondo/Documents/Diplomado Ciencia de Datos/Modulo5/mod5/lib/python3.9/site-packages/sklearn/neural_network/_multilayer_perceptron.py:702: ConvergenceWarning: Stochastic Optimizer: Maximum iterations (1000) reached and the optimization hasn't converged yet.\n",
      "  warnings.warn(\n",
      "/Users/jesusarredondo/Documents/Diplomado Ciencia de Datos/Modulo5/mod5/lib/python3.9/site-packages/sklearn/neural_network/_multilayer_perceptron.py:702: ConvergenceWarning: Stochastic Optimizer: Maximum iterations (1000) reached and the optimization hasn't converged yet.\n",
      "  warnings.warn(\n",
      "/Users/jesusarredondo/Documents/Diplomado Ciencia de Datos/Modulo5/mod5/lib/python3.9/site-packages/sklearn/neural_network/_multilayer_perceptron.py:702: ConvergenceWarning: Stochastic Optimizer: Maximum iterations (1000) reached and the optimization hasn't converged yet.\n",
      "  warnings.warn(\n",
      "/Users/jesusarredondo/Documents/Diplomado Ciencia de Datos/Modulo5/mod5/lib/python3.9/site-packages/sklearn/neural_network/_multilayer_perceptron.py:702: ConvergenceWarning: Stochastic Optimizer: Maximum iterations (1000) reached and the optimization hasn't converged yet.\n",
      "  warnings.warn(\n",
      "/Users/jesusarredondo/Documents/Diplomado Ciencia de Datos/Modulo5/mod5/lib/python3.9/site-packages/sklearn/neural_network/_multilayer_perceptron.py:702: ConvergenceWarning: Stochastic Optimizer: Maximum iterations (1000) reached and the optimization hasn't converged yet.\n",
      "  warnings.warn(\n"
     ]
    },
    {
     "data": {
      "text/html": [
       "<style>#sk-container-id-29 {color: black;background-color: white;}#sk-container-id-29 pre{padding: 0;}#sk-container-id-29 div.sk-toggleable {background-color: white;}#sk-container-id-29 label.sk-toggleable__label {cursor: pointer;display: block;width: 100%;margin-bottom: 0;padding: 0.3em;box-sizing: border-box;text-align: center;}#sk-container-id-29 label.sk-toggleable__label-arrow:before {content: \"▸\";float: left;margin-right: 0.25em;color: #696969;}#sk-container-id-29 label.sk-toggleable__label-arrow:hover:before {color: black;}#sk-container-id-29 div.sk-estimator:hover label.sk-toggleable__label-arrow:before {color: black;}#sk-container-id-29 div.sk-toggleable__content {max-height: 0;max-width: 0;overflow: hidden;text-align: left;background-color: #f0f8ff;}#sk-container-id-29 div.sk-toggleable__content pre {margin: 0.2em;color: black;border-radius: 0.25em;background-color: #f0f8ff;}#sk-container-id-29 input.sk-toggleable__control:checked~div.sk-toggleable__content {max-height: 200px;max-width: 100%;overflow: auto;}#sk-container-id-29 input.sk-toggleable__control:checked~label.sk-toggleable__label-arrow:before {content: \"▾\";}#sk-container-id-29 div.sk-estimator input.sk-toggleable__control:checked~label.sk-toggleable__label {background-color: #d4ebff;}#sk-container-id-29 div.sk-label input.sk-toggleable__control:checked~label.sk-toggleable__label {background-color: #d4ebff;}#sk-container-id-29 input.sk-hidden--visually {border: 0;clip: rect(1px 1px 1px 1px);clip: rect(1px, 1px, 1px, 1px);height: 1px;margin: -1px;overflow: hidden;padding: 0;position: absolute;width: 1px;}#sk-container-id-29 div.sk-estimator {font-family: monospace;background-color: #f0f8ff;border: 1px dotted black;border-radius: 0.25em;box-sizing: border-box;margin-bottom: 0.5em;}#sk-container-id-29 div.sk-estimator:hover {background-color: #d4ebff;}#sk-container-id-29 div.sk-parallel-item::after {content: \"\";width: 100%;border-bottom: 1px solid gray;flex-grow: 1;}#sk-container-id-29 div.sk-label:hover label.sk-toggleable__label {background-color: #d4ebff;}#sk-container-id-29 div.sk-serial::before {content: \"\";position: absolute;border-left: 1px solid gray;box-sizing: border-box;top: 0;bottom: 0;left: 50%;z-index: 0;}#sk-container-id-29 div.sk-serial {display: flex;flex-direction: column;align-items: center;background-color: white;padding-right: 0.2em;padding-left: 0.2em;position: relative;}#sk-container-id-29 div.sk-item {position: relative;z-index: 1;}#sk-container-id-29 div.sk-parallel {display: flex;align-items: stretch;justify-content: center;background-color: white;position: relative;}#sk-container-id-29 div.sk-item::before, #sk-container-id-29 div.sk-parallel-item::before {content: \"\";position: absolute;border-left: 1px solid gray;box-sizing: border-box;top: 0;bottom: 0;left: 50%;z-index: -1;}#sk-container-id-29 div.sk-parallel-item {display: flex;flex-direction: column;z-index: 1;position: relative;background-color: white;}#sk-container-id-29 div.sk-parallel-item:first-child::after {align-self: flex-end;width: 50%;}#sk-container-id-29 div.sk-parallel-item:last-child::after {align-self: flex-start;width: 50%;}#sk-container-id-29 div.sk-parallel-item:only-child::after {width: 0;}#sk-container-id-29 div.sk-dashed-wrapped {border: 1px dashed gray;margin: 0 0.4em 0.5em 0.4em;box-sizing: border-box;padding-bottom: 0.4em;background-color: white;}#sk-container-id-29 div.sk-label label {font-family: monospace;font-weight: bold;display: inline-block;line-height: 1.2em;}#sk-container-id-29 div.sk-label-container {text-align: center;}#sk-container-id-29 div.sk-container {/* jupyter's `normalize.less` sets `[hidden] { display: none; }` but bootstrap.min.css set `[hidden] { display: none !important; }` so we also need the `!important` here to be able to override the default hidden behavior on the sphinx rendered scikit-learn.org. See: https://github.com/scikit-learn/scikit-learn/issues/21755 */display: inline-block !important;position: relative;}#sk-container-id-29 div.sk-text-repr-fallback {display: none;}</style><div id=\"sk-container-id-29\" class=\"sk-top-container\"><div class=\"sk-text-repr-fallback\"><pre>RandomizedSearchCV(cv=4, estimator=MLPClassifier(), n_iter=30, n_jobs=-1,\n",
       "                   param_distributions={&#x27;activation&#x27;: [&#x27;identity&#x27;, &#x27;logistic&#x27;,\n",
       "                                                       &#x27;tanh&#x27;, &#x27;relu&#x27;],\n",
       "                                        &#x27;hidden_layer_sizes&#x27;: [(2, 2), (2, 3),\n",
       "                                                               (2, 4), (2, 5),\n",
       "                                                               (2, 6), (3, 2),\n",
       "                                                               (3, 3), (3, 4),\n",
       "                                                               (3, 5), (3, 6),\n",
       "                                                               (4, 2), (4, 3),\n",
       "                                                               (4, 4), (4, 5),\n",
       "                                                               (4, 6), (5, 2),\n",
       "                                                               (5, 3), (5, 4),\n",
       "                                                               (5, 5), (5, 6),\n",
       "                                                               (6, 2), (6, 3),\n",
       "                                                               (6, 4), (6, 5),\n",
       "                                                               (6, 6), (7, 2),\n",
       "                                                               (7, 3), (7, 4),\n",
       "                                                               (7, 5), (7, 6)],\n",
       "                                        &#x27;learning_rate&#x27;: [&#x27;constant&#x27;,\n",
       "                                                          &#x27;invscaling&#x27;,\n",
       "                                                          &#x27;adaptive&#x27;],\n",
       "                                        &#x27;max_iter&#x27;: [1000]},\n",
       "                   scoring=&#x27;accuracy&#x27;, verbose=True)</pre><b>In a Jupyter environment, please rerun this cell to show the HTML representation or trust the notebook. <br />On GitHub, the HTML representation is unable to render, please try loading this page with nbviewer.org.</b></div><div class=\"sk-container\" hidden><div class=\"sk-item sk-dashed-wrapped\"><div class=\"sk-label-container\"><div class=\"sk-label sk-toggleable\"><input class=\"sk-toggleable__control sk-hidden--visually\" id=\"sk-estimator-id-57\" type=\"checkbox\" ><label for=\"sk-estimator-id-57\" class=\"sk-toggleable__label sk-toggleable__label-arrow\">RandomizedSearchCV</label><div class=\"sk-toggleable__content\"><pre>RandomizedSearchCV(cv=4, estimator=MLPClassifier(), n_iter=30, n_jobs=-1,\n",
       "                   param_distributions={&#x27;activation&#x27;: [&#x27;identity&#x27;, &#x27;logistic&#x27;,\n",
       "                                                       &#x27;tanh&#x27;, &#x27;relu&#x27;],\n",
       "                                        &#x27;hidden_layer_sizes&#x27;: [(2, 2), (2, 3),\n",
       "                                                               (2, 4), (2, 5),\n",
       "                                                               (2, 6), (3, 2),\n",
       "                                                               (3, 3), (3, 4),\n",
       "                                                               (3, 5), (3, 6),\n",
       "                                                               (4, 2), (4, 3),\n",
       "                                                               (4, 4), (4, 5),\n",
       "                                                               (4, 6), (5, 2),\n",
       "                                                               (5, 3), (5, 4),\n",
       "                                                               (5, 5), (5, 6),\n",
       "                                                               (6, 2), (6, 3),\n",
       "                                                               (6, 4), (6, 5),\n",
       "                                                               (6, 6), (7, 2),\n",
       "                                                               (7, 3), (7, 4),\n",
       "                                                               (7, 5), (7, 6)],\n",
       "                                        &#x27;learning_rate&#x27;: [&#x27;constant&#x27;,\n",
       "                                                          &#x27;invscaling&#x27;,\n",
       "                                                          &#x27;adaptive&#x27;],\n",
       "                                        &#x27;max_iter&#x27;: [1000]},\n",
       "                   scoring=&#x27;accuracy&#x27;, verbose=True)</pre></div></div></div><div class=\"sk-parallel\"><div class=\"sk-parallel-item\"><div class=\"sk-item\"><div class=\"sk-label-container\"><div class=\"sk-label sk-toggleable\"><input class=\"sk-toggleable__control sk-hidden--visually\" id=\"sk-estimator-id-58\" type=\"checkbox\" ><label for=\"sk-estimator-id-58\" class=\"sk-toggleable__label sk-toggleable__label-arrow\">estimator: MLPClassifier</label><div class=\"sk-toggleable__content\"><pre>MLPClassifier()</pre></div></div></div><div class=\"sk-serial\"><div class=\"sk-item\"><div class=\"sk-estimator sk-toggleable\"><input class=\"sk-toggleable__control sk-hidden--visually\" id=\"sk-estimator-id-59\" type=\"checkbox\" ><label for=\"sk-estimator-id-59\" class=\"sk-toggleable__label sk-toggleable__label-arrow\">MLPClassifier</label><div class=\"sk-toggleable__content\"><pre>MLPClassifier()</pre></div></div></div></div></div></div></div></div></div></div>"
      ],
      "text/plain": [
       "RandomizedSearchCV(cv=4, estimator=MLPClassifier(), n_iter=30, n_jobs=-1,\n",
       "                   param_distributions={'activation': ['identity', 'logistic',\n",
       "                                                       'tanh', 'relu'],\n",
       "                                        'hidden_layer_sizes': [(2, 2), (2, 3),\n",
       "                                                               (2, 4), (2, 5),\n",
       "                                                               (2, 6), (3, 2),\n",
       "                                                               (3, 3), (3, 4),\n",
       "                                                               (3, 5), (3, 6),\n",
       "                                                               (4, 2), (4, 3),\n",
       "                                                               (4, 4), (4, 5),\n",
       "                                                               (4, 6), (5, 2),\n",
       "                                                               (5, 3), (5, 4),\n",
       "                                                               (5, 5), (5, 6),\n",
       "                                                               (6, 2), (6, 3),\n",
       "                                                               (6, 4), (6, 5),\n",
       "                                                               (6, 6), (7, 2),\n",
       "                                                               (7, 3), (7, 4),\n",
       "                                                               (7, 5), (7, 6)],\n",
       "                                        'learning_rate': ['constant',\n",
       "                                                          'invscaling',\n",
       "                                                          'adaptive'],\n",
       "                                        'max_iter': [1000]},\n",
       "                   scoring='accuracy', verbose=True)"
      ]
     },
     "execution_count": 185,
     "metadata": {},
     "output_type": "execute_result"
    }
   ],
   "source": [
    "grid.fit(Xt,yt) #buscamos los mejores hipeparametros"
   ]
  },
  {
   "cell_type": "code",
   "execution_count": 186,
   "metadata": {},
   "outputs": [],
   "source": [
    "nn = grid.best_estimator_ #guardamos el modelo con los mejores hiperparamtros"
   ]
  },
  {
   "cell_type": "code",
   "execution_count": 187,
   "metadata": {},
   "outputs": [
    {
     "data": {
      "text/plain": [
       "0.6560098888597181"
      ]
     },
     "execution_count": 187,
     "metadata": {},
     "output_type": "execute_result"
    }
   ],
   "source": [
    "grid.best_score_ #vemos su score"
   ]
  },
  {
   "cell_type": "code",
   "execution_count": 188,
   "metadata": {},
   "outputs": [
    {
     "data": {
      "text/plain": [
       "{'max_iter': 1000,\n",
       " 'learning_rate': 'adaptive',\n",
       " 'hidden_layer_sizes': (2, 5),\n",
       " 'activation': 'relu'}"
      ]
     },
     "execution_count": 188,
     "metadata": {},
     "output_type": "execute_result"
    }
   ],
   "source": [
    "grid.best_params_ #hiperparametros ganadores"
   ]
  },
  {
   "cell_type": "code",
   "execution_count": 189,
   "metadata": {},
   "outputs": [
    {
     "data": {
      "text/html": [
       "<style>#sk-container-id-30 {color: black;background-color: white;}#sk-container-id-30 pre{padding: 0;}#sk-container-id-30 div.sk-toggleable {background-color: white;}#sk-container-id-30 label.sk-toggleable__label {cursor: pointer;display: block;width: 100%;margin-bottom: 0;padding: 0.3em;box-sizing: border-box;text-align: center;}#sk-container-id-30 label.sk-toggleable__label-arrow:before {content: \"▸\";float: left;margin-right: 0.25em;color: #696969;}#sk-container-id-30 label.sk-toggleable__label-arrow:hover:before {color: black;}#sk-container-id-30 div.sk-estimator:hover label.sk-toggleable__label-arrow:before {color: black;}#sk-container-id-30 div.sk-toggleable__content {max-height: 0;max-width: 0;overflow: hidden;text-align: left;background-color: #f0f8ff;}#sk-container-id-30 div.sk-toggleable__content pre {margin: 0.2em;color: black;border-radius: 0.25em;background-color: #f0f8ff;}#sk-container-id-30 input.sk-toggleable__control:checked~div.sk-toggleable__content {max-height: 200px;max-width: 100%;overflow: auto;}#sk-container-id-30 input.sk-toggleable__control:checked~label.sk-toggleable__label-arrow:before {content: \"▾\";}#sk-container-id-30 div.sk-estimator input.sk-toggleable__control:checked~label.sk-toggleable__label {background-color: #d4ebff;}#sk-container-id-30 div.sk-label input.sk-toggleable__control:checked~label.sk-toggleable__label {background-color: #d4ebff;}#sk-container-id-30 input.sk-hidden--visually {border: 0;clip: rect(1px 1px 1px 1px);clip: rect(1px, 1px, 1px, 1px);height: 1px;margin: -1px;overflow: hidden;padding: 0;position: absolute;width: 1px;}#sk-container-id-30 div.sk-estimator {font-family: monospace;background-color: #f0f8ff;border: 1px dotted black;border-radius: 0.25em;box-sizing: border-box;margin-bottom: 0.5em;}#sk-container-id-30 div.sk-estimator:hover {background-color: #d4ebff;}#sk-container-id-30 div.sk-parallel-item::after {content: \"\";width: 100%;border-bottom: 1px solid gray;flex-grow: 1;}#sk-container-id-30 div.sk-label:hover label.sk-toggleable__label {background-color: #d4ebff;}#sk-container-id-30 div.sk-serial::before {content: \"\";position: absolute;border-left: 1px solid gray;box-sizing: border-box;top: 0;bottom: 0;left: 50%;z-index: 0;}#sk-container-id-30 div.sk-serial {display: flex;flex-direction: column;align-items: center;background-color: white;padding-right: 0.2em;padding-left: 0.2em;position: relative;}#sk-container-id-30 div.sk-item {position: relative;z-index: 1;}#sk-container-id-30 div.sk-parallel {display: flex;align-items: stretch;justify-content: center;background-color: white;position: relative;}#sk-container-id-30 div.sk-item::before, #sk-container-id-30 div.sk-parallel-item::before {content: \"\";position: absolute;border-left: 1px solid gray;box-sizing: border-box;top: 0;bottom: 0;left: 50%;z-index: -1;}#sk-container-id-30 div.sk-parallel-item {display: flex;flex-direction: column;z-index: 1;position: relative;background-color: white;}#sk-container-id-30 div.sk-parallel-item:first-child::after {align-self: flex-end;width: 50%;}#sk-container-id-30 div.sk-parallel-item:last-child::after {align-self: flex-start;width: 50%;}#sk-container-id-30 div.sk-parallel-item:only-child::after {width: 0;}#sk-container-id-30 div.sk-dashed-wrapped {border: 1px dashed gray;margin: 0 0.4em 0.5em 0.4em;box-sizing: border-box;padding-bottom: 0.4em;background-color: white;}#sk-container-id-30 div.sk-label label {font-family: monospace;font-weight: bold;display: inline-block;line-height: 1.2em;}#sk-container-id-30 div.sk-label-container {text-align: center;}#sk-container-id-30 div.sk-container {/* jupyter's `normalize.less` sets `[hidden] { display: none; }` but bootstrap.min.css set `[hidden] { display: none !important; }` so we also need the `!important` here to be able to override the default hidden behavior on the sphinx rendered scikit-learn.org. See: https://github.com/scikit-learn/scikit-learn/issues/21755 */display: inline-block !important;position: relative;}#sk-container-id-30 div.sk-text-repr-fallback {display: none;}</style><div id=\"sk-container-id-30\" class=\"sk-top-container\"><div class=\"sk-text-repr-fallback\"><pre>MLPClassifier(hidden_layer_sizes=(2, 5), learning_rate=&#x27;adaptive&#x27;,\n",
       "              max_iter=1000)</pre><b>In a Jupyter environment, please rerun this cell to show the HTML representation or trust the notebook. <br />On GitHub, the HTML representation is unable to render, please try loading this page with nbviewer.org.</b></div><div class=\"sk-container\" hidden><div class=\"sk-item\"><div class=\"sk-estimator sk-toggleable\"><input class=\"sk-toggleable__control sk-hidden--visually\" id=\"sk-estimator-id-60\" type=\"checkbox\" checked><label for=\"sk-estimator-id-60\" class=\"sk-toggleable__label sk-toggleable__label-arrow\">MLPClassifier</label><div class=\"sk-toggleable__content\"><pre>MLPClassifier(hidden_layer_sizes=(2, 5), learning_rate=&#x27;adaptive&#x27;,\n",
       "              max_iter=1000)</pre></div></div></div></div></div>"
      ],
      "text/plain": [
       "MLPClassifier(hidden_layer_sizes=(2, 5), learning_rate='adaptive',\n",
       "              max_iter=1000)"
      ]
     },
     "execution_count": 189,
     "metadata": {},
     "output_type": "execute_result"
    }
   ],
   "source": [
    "nn.fit(Xt,yt) #entrenamos el modelo con los mejores hipeparametros"
   ]
  },
  {
   "cell_type": "markdown",
   "metadata": {},
   "source": [
    "#### Parámetros $\\mathcal{W}$"
   ]
  },
  {
   "cell_type": "code",
   "execution_count": 190,
   "metadata": {},
   "outputs": [
    {
     "data": {
      "text/plain": [
       "[array([[-0.37985451, -0.64356407],\n",
       "        [-0.18198616, -0.1612994 ],\n",
       "        [ 0.20446322,  0.46345389],\n",
       "        [ 0.19749094,  0.59764818],\n",
       "        [ 0.37703161,  0.179666  ],\n",
       "        [ 0.14469062,  0.40560046],\n",
       "        [ 0.13497458,  0.29082149],\n",
       "        [-0.00573668,  0.5100753 ],\n",
       "        [ 0.39691802,  0.10635209],\n",
       "        [-0.31507085,  0.08201744],\n",
       "        [-0.42570938,  0.01852148],\n",
       "        [ 0.02835312,  0.12716567],\n",
       "        [-0.05910301,  0.4041237 ],\n",
       "        [-0.09197033, -0.3824324 ],\n",
       "        [ 0.24354843, -0.04998381],\n",
       "        [ 0.01147301,  0.09610363],\n",
       "        [-0.08832114,  0.41035172],\n",
       "        [ 0.07995998,  0.56572366],\n",
       "        [ 0.02279733,  0.39545182],\n",
       "        [ 0.15848572,  0.14311131],\n",
       "        [ 0.05156068,  0.1717826 ],\n",
       "        [ 0.08544455, -0.01139518],\n",
       "        [ 0.18766548, -0.07327254],\n",
       "        [-0.26239717,  0.04956172],\n",
       "        [ 0.18730711, -0.11862026],\n",
       "        [-0.1259198 ,  0.11326079],\n",
       "        [ 0.09837393,  0.12916509],\n",
       "        [-0.21410294,  0.36300729],\n",
       "        [-0.25949496, -0.09309242],\n",
       "        [ 0.32937864, -0.51545495],\n",
       "        [-0.08848549, -0.22145874],\n",
       "        [-0.0252121 ,  0.01868316],\n",
       "        [-0.08490023, -0.23535565],\n",
       "        [ 0.9158444 ,  0.33559122]]),\n",
       " array([[ 2.33195459e-01, -1.16045487e-15, -9.30108090e-01,\n",
       "          8.81466612e-01,  5.62487001e-02],\n",
       "        [-9.61639321e-02, -6.18968321e-07, -2.69079960e-01,\n",
       "          1.08173801e+00,  7.17656682e-01]]),\n",
       " array([[-1.02177142e-01],\n",
       "        [-1.21628700e-06],\n",
       "        [-1.25766425e+00],\n",
       "        [ 9.07349352e-01],\n",
       "        [ 2.15888559e-02]])]"
      ]
     },
     "execution_count": 190,
     "metadata": {},
     "output_type": "execute_result"
    }
   ],
   "source": [
    "nn.coefs_ #parametros del modelo"
   ]
  },
  {
   "cell_type": "code",
   "execution_count": 191,
   "metadata": {},
   "outputs": [
    {
     "name": "stdout",
     "output_type": "stream",
     "text": [
      "0.6752027315407597\n",
      "0.7439993704257496\n"
     ]
    }
   ],
   "source": [
    "\"\"\"Mejores metricas\"\"\"\n",
    "print(accuracy_score(y_true=yt,y_pred=nn.predict(Xt)))\n",
    "print(roc_auc_score(y_true=yt,y_score=nn.predict_proba(Xt)[:,1]))"
   ]
  },
  {
   "cell_type": "markdown",
   "metadata": {},
   "source": [
    "### Ensambles"
   ]
  },
  {
   "cell_type": "code",
   "execution_count": 192,
   "metadata": {},
   "outputs": [],
   "source": [
    "\"\"\"Hiperparametros para un random forest\"\"\"\n",
    "hp = {\"n_estimators\": range(1,50),\"criterion\" : [\"gini\", \"entropy\", \"log_loss\"],\n",
    "\"max_depth\" : range(2,Xt.shape[-1]),\n",
    "\"min_samples_split\" : np.arange(0.01,0.1,0.01)}"
   ]
  },
  {
   "cell_type": "code",
   "execution_count": 193,
   "metadata": {},
   "outputs": [
    {
     "data": {
      "text/plain": [
       "42336"
      ]
     },
     "execution_count": 193,
     "metadata": {},
     "output_type": "execute_result"
    }
   ],
   "source": [
    "\"\"\"Combinaciones posibles de hiperparametros\"\"\"\n",
    "from functools import reduce\n",
    "reduce(lambda x,y:x*y,map(len,[y for _,y in hp.items()]))"
   ]
  },
  {
   "cell_type": "code",
   "execution_count": 194,
   "metadata": {},
   "outputs": [],
   "source": [
    "\"\"\"Busqueda aleatoria de hiperparametros\"\"\"\n",
    "grid = RandomizedSearchCV(estimator=rf,\n",
    "param_distributions=hp,n_jobs=-1,verbose=True,scoring='accuracy',cv=4,n_iter=200)"
   ]
  },
  {
   "cell_type": "code",
   "execution_count": 195,
   "metadata": {},
   "outputs": [
    {
     "name": "stdout",
     "output_type": "stream",
     "text": [
      "Fitting 4 folds for each of 200 candidates, totalling 800 fits\n"
     ]
    },
    {
     "data": {
      "text/html": [
       "<style>#sk-container-id-31 {color: black;background-color: white;}#sk-container-id-31 pre{padding: 0;}#sk-container-id-31 div.sk-toggleable {background-color: white;}#sk-container-id-31 label.sk-toggleable__label {cursor: pointer;display: block;width: 100%;margin-bottom: 0;padding: 0.3em;box-sizing: border-box;text-align: center;}#sk-container-id-31 label.sk-toggleable__label-arrow:before {content: \"▸\";float: left;margin-right: 0.25em;color: #696969;}#sk-container-id-31 label.sk-toggleable__label-arrow:hover:before {color: black;}#sk-container-id-31 div.sk-estimator:hover label.sk-toggleable__label-arrow:before {color: black;}#sk-container-id-31 div.sk-toggleable__content {max-height: 0;max-width: 0;overflow: hidden;text-align: left;background-color: #f0f8ff;}#sk-container-id-31 div.sk-toggleable__content pre {margin: 0.2em;color: black;border-radius: 0.25em;background-color: #f0f8ff;}#sk-container-id-31 input.sk-toggleable__control:checked~div.sk-toggleable__content {max-height: 200px;max-width: 100%;overflow: auto;}#sk-container-id-31 input.sk-toggleable__control:checked~label.sk-toggleable__label-arrow:before {content: \"▾\";}#sk-container-id-31 div.sk-estimator input.sk-toggleable__control:checked~label.sk-toggleable__label {background-color: #d4ebff;}#sk-container-id-31 div.sk-label input.sk-toggleable__control:checked~label.sk-toggleable__label {background-color: #d4ebff;}#sk-container-id-31 input.sk-hidden--visually {border: 0;clip: rect(1px 1px 1px 1px);clip: rect(1px, 1px, 1px, 1px);height: 1px;margin: -1px;overflow: hidden;padding: 0;position: absolute;width: 1px;}#sk-container-id-31 div.sk-estimator {font-family: monospace;background-color: #f0f8ff;border: 1px dotted black;border-radius: 0.25em;box-sizing: border-box;margin-bottom: 0.5em;}#sk-container-id-31 div.sk-estimator:hover {background-color: #d4ebff;}#sk-container-id-31 div.sk-parallel-item::after {content: \"\";width: 100%;border-bottom: 1px solid gray;flex-grow: 1;}#sk-container-id-31 div.sk-label:hover label.sk-toggleable__label {background-color: #d4ebff;}#sk-container-id-31 div.sk-serial::before {content: \"\";position: absolute;border-left: 1px solid gray;box-sizing: border-box;top: 0;bottom: 0;left: 50%;z-index: 0;}#sk-container-id-31 div.sk-serial {display: flex;flex-direction: column;align-items: center;background-color: white;padding-right: 0.2em;padding-left: 0.2em;position: relative;}#sk-container-id-31 div.sk-item {position: relative;z-index: 1;}#sk-container-id-31 div.sk-parallel {display: flex;align-items: stretch;justify-content: center;background-color: white;position: relative;}#sk-container-id-31 div.sk-item::before, #sk-container-id-31 div.sk-parallel-item::before {content: \"\";position: absolute;border-left: 1px solid gray;box-sizing: border-box;top: 0;bottom: 0;left: 50%;z-index: -1;}#sk-container-id-31 div.sk-parallel-item {display: flex;flex-direction: column;z-index: 1;position: relative;background-color: white;}#sk-container-id-31 div.sk-parallel-item:first-child::after {align-self: flex-end;width: 50%;}#sk-container-id-31 div.sk-parallel-item:last-child::after {align-self: flex-start;width: 50%;}#sk-container-id-31 div.sk-parallel-item:only-child::after {width: 0;}#sk-container-id-31 div.sk-dashed-wrapped {border: 1px dashed gray;margin: 0 0.4em 0.5em 0.4em;box-sizing: border-box;padding-bottom: 0.4em;background-color: white;}#sk-container-id-31 div.sk-label label {font-family: monospace;font-weight: bold;display: inline-block;line-height: 1.2em;}#sk-container-id-31 div.sk-label-container {text-align: center;}#sk-container-id-31 div.sk-container {/* jupyter's `normalize.less` sets `[hidden] { display: none; }` but bootstrap.min.css set `[hidden] { display: none !important; }` so we also need the `!important` here to be able to override the default hidden behavior on the sphinx rendered scikit-learn.org. See: https://github.com/scikit-learn/scikit-learn/issues/21755 */display: inline-block !important;position: relative;}#sk-container-id-31 div.sk-text-repr-fallback {display: none;}</style><div id=\"sk-container-id-31\" class=\"sk-top-container\"><div class=\"sk-text-repr-fallback\"><pre>RandomizedSearchCV(cv=4, estimator=RandomForestClassifier(), n_iter=200,\n",
       "                   n_jobs=-1,\n",
       "                   param_distributions={&#x27;criterion&#x27;: [&#x27;gini&#x27;, &#x27;entropy&#x27;,\n",
       "                                                      &#x27;log_loss&#x27;],\n",
       "                                        &#x27;max_depth&#x27;: range(2, 34),\n",
       "                                        &#x27;min_samples_split&#x27;: array([0.01, 0.02, 0.03, 0.04, 0.05, 0.06, 0.07, 0.08, 0.09]),\n",
       "                                        &#x27;n_estimators&#x27;: range(1, 50)},\n",
       "                   scoring=&#x27;accuracy&#x27;, verbose=True)</pre><b>In a Jupyter environment, please rerun this cell to show the HTML representation or trust the notebook. <br />On GitHub, the HTML representation is unable to render, please try loading this page with nbviewer.org.</b></div><div class=\"sk-container\" hidden><div class=\"sk-item sk-dashed-wrapped\"><div class=\"sk-label-container\"><div class=\"sk-label sk-toggleable\"><input class=\"sk-toggleable__control sk-hidden--visually\" id=\"sk-estimator-id-61\" type=\"checkbox\" ><label for=\"sk-estimator-id-61\" class=\"sk-toggleable__label sk-toggleable__label-arrow\">RandomizedSearchCV</label><div class=\"sk-toggleable__content\"><pre>RandomizedSearchCV(cv=4, estimator=RandomForestClassifier(), n_iter=200,\n",
       "                   n_jobs=-1,\n",
       "                   param_distributions={&#x27;criterion&#x27;: [&#x27;gini&#x27;, &#x27;entropy&#x27;,\n",
       "                                                      &#x27;log_loss&#x27;],\n",
       "                                        &#x27;max_depth&#x27;: range(2, 34),\n",
       "                                        &#x27;min_samples_split&#x27;: array([0.01, 0.02, 0.03, 0.04, 0.05, 0.06, 0.07, 0.08, 0.09]),\n",
       "                                        &#x27;n_estimators&#x27;: range(1, 50)},\n",
       "                   scoring=&#x27;accuracy&#x27;, verbose=True)</pre></div></div></div><div class=\"sk-parallel\"><div class=\"sk-parallel-item\"><div class=\"sk-item\"><div class=\"sk-label-container\"><div class=\"sk-label sk-toggleable\"><input class=\"sk-toggleable__control sk-hidden--visually\" id=\"sk-estimator-id-62\" type=\"checkbox\" ><label for=\"sk-estimator-id-62\" class=\"sk-toggleable__label sk-toggleable__label-arrow\">estimator: RandomForestClassifier</label><div class=\"sk-toggleable__content\"><pre>RandomForestClassifier()</pre></div></div></div><div class=\"sk-serial\"><div class=\"sk-item\"><div class=\"sk-estimator sk-toggleable\"><input class=\"sk-toggleable__control sk-hidden--visually\" id=\"sk-estimator-id-63\" type=\"checkbox\" ><label for=\"sk-estimator-id-63\" class=\"sk-toggleable__label sk-toggleable__label-arrow\">RandomForestClassifier</label><div class=\"sk-toggleable__content\"><pre>RandomForestClassifier()</pre></div></div></div></div></div></div></div></div></div></div>"
      ],
      "text/plain": [
       "RandomizedSearchCV(cv=4, estimator=RandomForestClassifier(), n_iter=200,\n",
       "                   n_jobs=-1,\n",
       "                   param_distributions={'criterion': ['gini', 'entropy',\n",
       "                                                      'log_loss'],\n",
       "                                        'max_depth': range(2, 34),\n",
       "                                        'min_samples_split': array([0.01, 0.02, 0.03, 0.04, 0.05, 0.06, 0.07, 0.08, 0.09]),\n",
       "                                        'n_estimators': range(1, 50)},\n",
       "                   scoring='accuracy', verbose=True)"
      ]
     },
     "execution_count": 195,
     "metadata": {},
     "output_type": "execute_result"
    }
   ],
   "source": [
    "grid.fit(Xt,yt) #buscamos los mejores hiperparametros"
   ]
  },
  {
   "cell_type": "code",
   "execution_count": 196,
   "metadata": {},
   "outputs": [],
   "source": [
    "rf = grid.best_estimator_ #guardamos el modelo con los mejores hp"
   ]
  },
  {
   "cell_type": "code",
   "execution_count": 197,
   "metadata": {},
   "outputs": [
    {
     "data": {
      "text/plain": [
       "0.6837519325573933"
      ]
     },
     "execution_count": 197,
     "metadata": {},
     "output_type": "execute_result"
    }
   ],
   "source": [
    "grid.best_score_ #score del modelo"
   ]
  },
  {
   "cell_type": "code",
   "execution_count": 198,
   "metadata": {},
   "outputs": [
    {
     "data": {
      "text/plain": [
       "{'n_estimators': 31,\n",
       " 'min_samples_split': 0.01,\n",
       " 'max_depth': 27,\n",
       " 'criterion': 'gini'}"
      ]
     },
     "execution_count": 198,
     "metadata": {},
     "output_type": "execute_result"
    }
   ],
   "source": [
    "grid.best_params_ #mejores hiperparametros"
   ]
  },
  {
   "cell_type": "code",
   "execution_count": 199,
   "metadata": {},
   "outputs": [
    {
     "data": {
      "text/html": [
       "<style>#sk-container-id-32 {color: black;background-color: white;}#sk-container-id-32 pre{padding: 0;}#sk-container-id-32 div.sk-toggleable {background-color: white;}#sk-container-id-32 label.sk-toggleable__label {cursor: pointer;display: block;width: 100%;margin-bottom: 0;padding: 0.3em;box-sizing: border-box;text-align: center;}#sk-container-id-32 label.sk-toggleable__label-arrow:before {content: \"▸\";float: left;margin-right: 0.25em;color: #696969;}#sk-container-id-32 label.sk-toggleable__label-arrow:hover:before {color: black;}#sk-container-id-32 div.sk-estimator:hover label.sk-toggleable__label-arrow:before {color: black;}#sk-container-id-32 div.sk-toggleable__content {max-height: 0;max-width: 0;overflow: hidden;text-align: left;background-color: #f0f8ff;}#sk-container-id-32 div.sk-toggleable__content pre {margin: 0.2em;color: black;border-radius: 0.25em;background-color: #f0f8ff;}#sk-container-id-32 input.sk-toggleable__control:checked~div.sk-toggleable__content {max-height: 200px;max-width: 100%;overflow: auto;}#sk-container-id-32 input.sk-toggleable__control:checked~label.sk-toggleable__label-arrow:before {content: \"▾\";}#sk-container-id-32 div.sk-estimator input.sk-toggleable__control:checked~label.sk-toggleable__label {background-color: #d4ebff;}#sk-container-id-32 div.sk-label input.sk-toggleable__control:checked~label.sk-toggleable__label {background-color: #d4ebff;}#sk-container-id-32 input.sk-hidden--visually {border: 0;clip: rect(1px 1px 1px 1px);clip: rect(1px, 1px, 1px, 1px);height: 1px;margin: -1px;overflow: hidden;padding: 0;position: absolute;width: 1px;}#sk-container-id-32 div.sk-estimator {font-family: monospace;background-color: #f0f8ff;border: 1px dotted black;border-radius: 0.25em;box-sizing: border-box;margin-bottom: 0.5em;}#sk-container-id-32 div.sk-estimator:hover {background-color: #d4ebff;}#sk-container-id-32 div.sk-parallel-item::after {content: \"\";width: 100%;border-bottom: 1px solid gray;flex-grow: 1;}#sk-container-id-32 div.sk-label:hover label.sk-toggleable__label {background-color: #d4ebff;}#sk-container-id-32 div.sk-serial::before {content: \"\";position: absolute;border-left: 1px solid gray;box-sizing: border-box;top: 0;bottom: 0;left: 50%;z-index: 0;}#sk-container-id-32 div.sk-serial {display: flex;flex-direction: column;align-items: center;background-color: white;padding-right: 0.2em;padding-left: 0.2em;position: relative;}#sk-container-id-32 div.sk-item {position: relative;z-index: 1;}#sk-container-id-32 div.sk-parallel {display: flex;align-items: stretch;justify-content: center;background-color: white;position: relative;}#sk-container-id-32 div.sk-item::before, #sk-container-id-32 div.sk-parallel-item::before {content: \"\";position: absolute;border-left: 1px solid gray;box-sizing: border-box;top: 0;bottom: 0;left: 50%;z-index: -1;}#sk-container-id-32 div.sk-parallel-item {display: flex;flex-direction: column;z-index: 1;position: relative;background-color: white;}#sk-container-id-32 div.sk-parallel-item:first-child::after {align-self: flex-end;width: 50%;}#sk-container-id-32 div.sk-parallel-item:last-child::after {align-self: flex-start;width: 50%;}#sk-container-id-32 div.sk-parallel-item:only-child::after {width: 0;}#sk-container-id-32 div.sk-dashed-wrapped {border: 1px dashed gray;margin: 0 0.4em 0.5em 0.4em;box-sizing: border-box;padding-bottom: 0.4em;background-color: white;}#sk-container-id-32 div.sk-label label {font-family: monospace;font-weight: bold;display: inline-block;line-height: 1.2em;}#sk-container-id-32 div.sk-label-container {text-align: center;}#sk-container-id-32 div.sk-container {/* jupyter's `normalize.less` sets `[hidden] { display: none; }` but bootstrap.min.css set `[hidden] { display: none !important; }` so we also need the `!important` here to be able to override the default hidden behavior on the sphinx rendered scikit-learn.org. See: https://github.com/scikit-learn/scikit-learn/issues/21755 */display: inline-block !important;position: relative;}#sk-container-id-32 div.sk-text-repr-fallback {display: none;}</style><div id=\"sk-container-id-32\" class=\"sk-top-container\"><div class=\"sk-text-repr-fallback\"><pre>RandomForestClassifier(max_depth=27, min_samples_split=0.01, n_estimators=31)</pre><b>In a Jupyter environment, please rerun this cell to show the HTML representation or trust the notebook. <br />On GitHub, the HTML representation is unable to render, please try loading this page with nbviewer.org.</b></div><div class=\"sk-container\" hidden><div class=\"sk-item\"><div class=\"sk-estimator sk-toggleable\"><input class=\"sk-toggleable__control sk-hidden--visually\" id=\"sk-estimator-id-64\" type=\"checkbox\" checked><label for=\"sk-estimator-id-64\" class=\"sk-toggleable__label sk-toggleable__label-arrow\">RandomForestClassifier</label><div class=\"sk-toggleable__content\"><pre>RandomForestClassifier(max_depth=27, min_samples_split=0.01, n_estimators=31)</pre></div></div></div></div></div>"
      ],
      "text/plain": [
       "RandomForestClassifier(max_depth=27, min_samples_split=0.01, n_estimators=31)"
      ]
     },
     "execution_count": 199,
     "metadata": {},
     "output_type": "execute_result"
    }
   ],
   "source": [
    "rf.fit(Xt,yt) #entrenamos el modelo ganador"
   ]
  },
  {
   "cell_type": "code",
   "execution_count": 200,
   "metadata": {},
   "outputs": [
    {
     "name": "stdout",
     "output_type": "stream",
     "text": [
      "0.8258642765685019\n",
      "0.9051878667051406\n"
     ]
    }
   ],
   "source": [
    "\"\"\"Metricas de valuacion\"\"\"\n",
    "print(accuracy_score(y_true=yt,y_pred=rf.predict(Xt)))\n",
    "print(roc_auc_score(y_true=yt,y_score=rf.predict_proba(Xt)[:,1]))"
   ]
  },
  {
   "cell_type": "markdown",
   "metadata": {},
   "source": [
    "## Generalización"
   ]
  },
  {
   "cell_type": "code",
   "execution_count": 201,
   "metadata": {},
   "outputs": [],
   "source": [
    "\"\"\"Llenamos los valores faltantes como missing en la porcion de validacion de las variables discretas\"\"\"\n",
    "for v in vard:\n",
    "    valid[v] = valid[v].fillna('MISSING')"
   ]
  },
  {
   "cell_type": "code",
   "execution_count": 202,
   "metadata": {},
   "outputs": [],
   "source": [
    "\"\"\"Normalizamos las variables discetras en la porcopm de validación\"\"\"\n",
    "for v,mapa in mapa_norm:\n",
    "    valid[f'n_{v}'] = valid[v].map(mapa)"
   ]
  },
  {
   "cell_type": "code",
   "execution_count": 203,
   "metadata": {},
   "outputs": [
    {
     "data": {
      "text/plain": [
       "((1200, 34), (1200,))"
      ]
     },
     "execution_count": 203,
     "metadata": {},
     "output_type": "execute_result"
    }
   ],
   "source": [
    "\"\"\"Repetimos las transformaciones aplicadas a la porcion de train pero ahora a la de validación\"\"\"\n",
    "Xv = pd.DataFrame(im.transform(valid[best]),columns=best)\n",
    "Xv[um] = valid[um]\n",
    "Xv = Xv[um+best].copy().merge(valid[um+varn],on=um,how='inner')\n",
    "Xv[oh.get_feature_names_out()] = oh.transform(Xv[varn]).toarray()\n",
    "Xv.drop(varn,axis=1,inplace=True)\n",
    "Xv = pd.DataFrame(sc01.transform(Xv[var]),columns=var)\n",
    "#Xv = pd.DataFrame(pipe_pca.transform(Xv[var]))\n",
    "Xv.insert(0,um[0],valid[um])\n",
    "yv = Xv[um].merge(valid[um+vart],on=um,how='inner')[vart[0]]\n",
    "Xv = Xv.drop(um,axis=1)\n",
    "Xv.shape,yv.shape #comprobamos dimensiones de la variables dependientes y la targed de la porcion de validación"
   ]
  },
  {
   "cell_type": "code",
   "execution_count": 204,
   "metadata": {},
   "outputs": [
    {
     "name": "stdout",
     "output_type": "stream",
     "text": [
      "0.6716666666666666\n",
      "0.6691666666666667\n",
      "0.6658333333333334\n",
      "0.6758333333333333\n"
     ]
    }
   ],
   "source": [
    "\"\"\"Porcion de validacion\"\"\"\n",
    "print(accuracy_score(y_true=yv,y_pred=lr.predict(Xv)))\n",
    "print(accuracy_score(y_true=yv,y_pred=dt.predict(Xv)))\n",
    "print(accuracy_score(y_true=yv,y_pred=nn.predict(Xv)))\n",
    "print(accuracy_score(y_true=yv,y_pred=rf.predict(Xv)))"
   ]
  },
  {
   "cell_type": "code",
   "execution_count": 205,
   "metadata": {},
   "outputs": [
    {
     "name": "stdout",
     "output_type": "stream",
     "text": [
      "0.6649594536918481\n",
      "0.6875800256081946\n",
      "0.6752027315407597\n",
      "0.8258642765685019\n"
     ]
    }
   ],
   "source": [
    "\"\"\"Porcion de entrenamiento\"\"\"\n",
    "print(accuracy_score(y_true=yt,y_pred=lr.predict(Xt)))\n",
    "print(accuracy_score(y_true=yt,y_pred=dt.predict(Xt)))\n",
    "print(accuracy_score(y_true=yt,y_pred=nn.predict(Xt)))\n",
    "print(accuracy_score(y_true=yt,y_pred=rf\n",
    ".predict(Xt)))"
   ]
  },
  {
   "cell_type": "code",
   "execution_count": 206,
   "metadata": {},
   "outputs": [
    {
     "name": "stdout",
     "output_type": "stream",
     "text": [
      "0.7265636284847609\n",
      "0.7226719185768731\n",
      "0.7265400171113012\n",
      "0.751927799197769\n"
     ]
    }
   ],
   "source": [
    "\"\"\"Porcion de validacion\"\"\"\n",
    "print(roc_auc_score(y_true=yv,y_score=lr.predict_proba(Xv)[:,1]))\n",
    "print(roc_auc_score(y_true=yv,y_score=dt.predict_proba(Xv)[:,1]))\n",
    "print(roc_auc_score(y_true=yv,y_score=nn.predict_proba(Xv)[:,1]))\n",
    "print(roc_auc_score(y_true=yv,y_score=rf.predict_proba(Xv)[:,1]))"
   ]
  },
  {
   "cell_type": "code",
   "execution_count": 207,
   "metadata": {},
   "outputs": [
    {
     "name": "stdout",
     "output_type": "stream",
     "text": [
      "0.7367840414586302\n",
      "0.7580897376482487\n",
      "0.7439993704257496\n",
      "0.9051878667051406\n"
     ]
    }
   ],
   "source": [
    "\"\"\"Porcion de validacion\"\"\"\n",
    "print(roc_auc_score(y_true=yt,y_score=lr.predict_proba(Xt)[:,1]))\n",
    "print(roc_auc_score(y_true=yt,y_score=dt.predict_proba(Xt)[:,1]))\n",
    "print(roc_auc_score(y_true=yt,y_score=nn.predict_proba(Xt)[:,1]))\n",
    "print(roc_auc_score(y_true=yt,y_score=rf.predict_proba(Xt)[:,1]))"
   ]
  },
  {
   "cell_type": "markdown",
   "metadata": {},
   "source": [
    "Podemos observar que tanto en accuracy como con el ROC tenemos presencia de sobreajuste en nuestros modelos dado que no estan generalizando en la porcion de validacion.\n",
    "Dentro de las posibles soluciones es cambiar de hiperespacio, quitarle complejidad al modelo reduciendo los hiperparametros o ir a la parte del eda."
   ]
  },
  {
   "cell_type": "markdown",
   "metadata": {},
   "source": [
    "## Reportes"
   ]
  },
  {
   "cell_type": "code",
   "execution_count": 208,
   "metadata": {},
   "outputs": [],
   "source": [
    "Xt = X01.copy()\n",
    "Xt[vart[0]] = yt"
   ]
  },
  {
   "cell_type": "code",
   "execution_count": 209,
   "metadata": {},
   "outputs": [],
   "source": [
    "nombres = ['reg','arb','red','rf']\n",
    "\n",
    "for m,n in zip([lr,dt,nn,rf],nombres):\n",
    "    Xt[f'p_{n}'] = m.predict_proba(Xt[var])[:,1]\n",
    "Xt.drop(var,axis=1,inplace=True)\n",
    "Xt = Xt.assign(muestra='ent')"
   ]
  },
  {
   "cell_type": "code",
   "execution_count": 210,
   "metadata": {},
   "outputs": [],
   "source": [
    "Xv[um] = valid[um]\n",
    "Xv[vart[0]]=yv \n",
    "for m,n in zip([lr,dt,nn,rf],nombres):\n",
    "    Xv[f'p_{n}'] = m.predict_proba(Xv[var])[:,1]\n",
    "Xv.drop(var,axis=1,inplace=True)\n",
    "Xv = Xv.assign(muestra='val')"
   ]
  },
  {
   "cell_type": "code",
   "execution_count": 211,
   "metadata": {},
   "outputs": [
    {
     "data": {
      "text/html": [
       "<div>\n",
       "<style scoped>\n",
       "    .dataframe tbody tr th:only-of-type {\n",
       "        vertical-align: middle;\n",
       "    }\n",
       "\n",
       "    .dataframe tbody tr th {\n",
       "        vertical-align: top;\n",
       "    }\n",
       "\n",
       "    .dataframe thead th {\n",
       "        text-align: right;\n",
       "    }\n",
       "</style>\n",
       "<table border=\"1\" class=\"dataframe\">\n",
       "  <thead>\n",
       "    <tr style=\"text-align: right;\">\n",
       "      <th></th>\n",
       "      <th>id_txn</th>\n",
       "      <th>is_fraud</th>\n",
       "      <th>p_reg</th>\n",
       "      <th>p_arb</th>\n",
       "      <th>p_red</th>\n",
       "      <th>p_rf</th>\n",
       "      <th>muestra</th>\n",
       "    </tr>\n",
       "  </thead>\n",
       "  <tbody>\n",
       "    <tr>\n",
       "      <th>0</th>\n",
       "      <td>11213037</td>\n",
       "      <td>0</td>\n",
       "      <td>0.508335</td>\n",
       "      <td>0.615894</td>\n",
       "      <td>0.502867</td>\n",
       "      <td>0.431490</td>\n",
       "      <td>ent</td>\n",
       "    </tr>\n",
       "    <tr>\n",
       "      <th>1</th>\n",
       "      <td>18182765</td>\n",
       "      <td>1</td>\n",
       "      <td>0.372379</td>\n",
       "      <td>0.564516</td>\n",
       "      <td>0.404080</td>\n",
       "      <td>0.558925</td>\n",
       "      <td>ent</td>\n",
       "    </tr>\n",
       "    <tr>\n",
       "      <th>2</th>\n",
       "      <td>21001891</td>\n",
       "      <td>1</td>\n",
       "      <td>0.818995</td>\n",
       "      <td>0.825758</td>\n",
       "      <td>0.834018</td>\n",
       "      <td>0.753187</td>\n",
       "      <td>ent</td>\n",
       "    </tr>\n",
       "    <tr>\n",
       "      <th>3</th>\n",
       "      <td>6349333</td>\n",
       "      <td>0</td>\n",
       "      <td>0.190861</td>\n",
       "      <td>0.000000</td>\n",
       "      <td>0.227620</td>\n",
       "      <td>0.307818</td>\n",
       "      <td>ent</td>\n",
       "    </tr>\n",
       "    <tr>\n",
       "      <th>4</th>\n",
       "      <td>7089553</td>\n",
       "      <td>1</td>\n",
       "      <td>0.377469</td>\n",
       "      <td>0.100000</td>\n",
       "      <td>0.444564</td>\n",
       "      <td>0.427534</td>\n",
       "      <td>ent</td>\n",
       "    </tr>\n",
       "  </tbody>\n",
       "</table>\n",
       "</div>"
      ],
      "text/plain": [
       "     id_txn  is_fraud     p_reg     p_arb     p_red      p_rf muestra\n",
       "0  11213037         0  0.508335  0.615894  0.502867  0.431490     ent\n",
       "1  18182765         1  0.372379  0.564516  0.404080  0.558925     ent\n",
       "2  21001891         1  0.818995  0.825758  0.834018  0.753187     ent\n",
       "3   6349333         0  0.190861  0.000000  0.227620  0.307818     ent\n",
       "4   7089553         1  0.377469  0.100000  0.444564  0.427534     ent"
      ]
     },
     "execution_count": 211,
     "metadata": {},
     "output_type": "execute_result"
    }
   ],
   "source": [
    "Xt.head()"
   ]
  },
  {
   "cell_type": "code",
   "execution_count": 212,
   "metadata": {},
   "outputs": [
    {
     "data": {
      "text/html": [
       "<div>\n",
       "<style scoped>\n",
       "    .dataframe tbody tr th:only-of-type {\n",
       "        vertical-align: middle;\n",
       "    }\n",
       "\n",
       "    .dataframe tbody tr th {\n",
       "        vertical-align: top;\n",
       "    }\n",
       "\n",
       "    .dataframe thead th {\n",
       "        text-align: right;\n",
       "    }\n",
       "</style>\n",
       "<table border=\"1\" class=\"dataframe\">\n",
       "  <thead>\n",
       "    <tr style=\"text-align: right;\">\n",
       "      <th></th>\n",
       "      <th>id_txn</th>\n",
       "      <th>is_fraud</th>\n",
       "      <th>p_reg</th>\n",
       "      <th>p_arb</th>\n",
       "      <th>p_red</th>\n",
       "      <th>p_rf</th>\n",
       "      <th>muestra</th>\n",
       "    </tr>\n",
       "  </thead>\n",
       "  <tbody>\n",
       "    <tr>\n",
       "      <th>0</th>\n",
       "      <td>755695</td>\n",
       "      <td>0</td>\n",
       "      <td>0.298343</td>\n",
       "      <td>0.287671</td>\n",
       "      <td>0.284767</td>\n",
       "      <td>0.326156</td>\n",
       "      <td>val</td>\n",
       "    </tr>\n",
       "    <tr>\n",
       "      <th>1</th>\n",
       "      <td>13247014</td>\n",
       "      <td>0</td>\n",
       "      <td>0.325999</td>\n",
       "      <td>0.382979</td>\n",
       "      <td>0.391635</td>\n",
       "      <td>0.310883</td>\n",
       "      <td>val</td>\n",
       "    </tr>\n",
       "    <tr>\n",
       "      <th>2</th>\n",
       "      <td>4802298</td>\n",
       "      <td>1</td>\n",
       "      <td>0.905700</td>\n",
       "      <td>0.909091</td>\n",
       "      <td>0.914159</td>\n",
       "      <td>0.817964</td>\n",
       "      <td>val</td>\n",
       "    </tr>\n",
       "    <tr>\n",
       "      <th>3</th>\n",
       "      <td>21060260</td>\n",
       "      <td>1</td>\n",
       "      <td>0.599503</td>\n",
       "      <td>0.601156</td>\n",
       "      <td>0.561055</td>\n",
       "      <td>0.523938</td>\n",
       "      <td>val</td>\n",
       "    </tr>\n",
       "    <tr>\n",
       "      <th>4</th>\n",
       "      <td>21070083</td>\n",
       "      <td>1</td>\n",
       "      <td>0.490248</td>\n",
       "      <td>0.530303</td>\n",
       "      <td>0.478786</td>\n",
       "      <td>0.593089</td>\n",
       "      <td>val</td>\n",
       "    </tr>\n",
       "  </tbody>\n",
       "</table>\n",
       "</div>"
      ],
      "text/plain": [
       "     id_txn  is_fraud     p_reg     p_arb     p_red      p_rf muestra\n",
       "0    755695         0  0.298343  0.287671  0.284767  0.326156     val\n",
       "1  13247014         0  0.325999  0.382979  0.391635  0.310883     val\n",
       "2   4802298         1  0.905700  0.909091  0.914159  0.817964     val\n",
       "3  21060260         1  0.599503  0.601156  0.561055  0.523938     val\n",
       "4  21070083         1  0.490248  0.530303  0.478786  0.593089     val"
      ]
     },
     "execution_count": 212,
     "metadata": {},
     "output_type": "execute_result"
    }
   ],
   "source": [
    "Xv.head()"
   ]
  },
  {
   "cell_type": "code",
   "execution_count": 213,
   "metadata": {},
   "outputs": [],
   "source": [
    "reporte = pd.concat([Xt,Xv],ignore_index=False)"
   ]
  },
  {
   "cell_type": "code",
   "execution_count": 214,
   "metadata": {},
   "outputs": [
    {
     "data": {
      "text/plain": [
       "(3543, 7)"
      ]
     },
     "execution_count": 214,
     "metadata": {},
     "output_type": "execute_result"
    }
   ],
   "source": [
    "reporte.shape"
   ]
  },
  {
   "cell_type": "code",
   "execution_count": 215,
   "metadata": {},
   "outputs": [],
   "source": [
    "probas = list(reporte.filter(like='p_').columns)\n",
    "\n",
    "for v in probas:\n",
    "    reporte[v] = pd.cut(reporte[v],bins=np.arange(0,1.2,0.2),include_lowest=True).astype(str)"
   ]
  },
  {
   "cell_type": "code",
   "execution_count": 216,
   "metadata": {},
   "outputs": [],
   "source": [
    "reporte.groupby(probas+vart+['muestra']).count().to_clipboard() #copiamos el df en el portapapeles y lo pegamos en una hoja de google sheets"
   ]
  },
  {
   "cell_type": "code",
   "execution_count": null,
   "metadata": {},
   "outputs": [],
   "source": []
  }
 ],
 "metadata": {
  "kernelspec": {
   "display_name": "Python 3.9.12 ('mod5': venv)",
   "language": "python",
   "name": "python3"
  },
  "language_info": {
   "codemirror_mode": {
    "name": "ipython",
    "version": 3
   },
   "file_extension": ".py",
   "mimetype": "text/x-python",
   "name": "python",
   "nbconvert_exporter": "python",
   "pygments_lexer": "ipython3",
   "version": "3.8.10"
  },
  "orig_nbformat": 4,
  "vscode": {
   "interpreter": {
    "hash": "b147c4aad7b0dd7a46ac3abd42c4e5e4d0db5c04fc14de93177847ef3b9b69af"
   }
  }
 },
 "nbformat": 4,
 "nbformat_minor": 2
}
