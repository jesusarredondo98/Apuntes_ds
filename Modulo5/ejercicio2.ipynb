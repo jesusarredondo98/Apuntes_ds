{
 "cells": [
  {
   "cell_type": "code",
   "execution_count": 14,
   "metadata": {},
   "outputs": [],
   "source": [
    "import pandas as pd\n",
    "import seaborn as sns\n",
    "import os"
   ]
  },
  {
   "cell_type": "code",
   "execution_count": 18,
   "metadata": {},
   "outputs": [],
   "source": [
    "df = pd.read_excel(\"Case study Datasets.xlsx\",sheet_name=\"Sales Data\")"
   ]
  },
  {
   "cell_type": "code",
   "execution_count": 19,
   "metadata": {},
   "outputs": [
    {
     "data": {
      "text/plain": [
       "Index(['Store', 'Month_Year', 'Year', 'Brand', 'Brakes_Sales', 'Exhaust_Sales',\n",
       "       'Other_Tires_Sales', 'Retail_Tire_Sales', 'Tire_Shocks_Sales',\n",
       "       'Tire_Services_Sales', 'Tire_Wiper_Sales', 'Brakes_Cost',\n",
       "       'Exhaust_Cost', 'Other_Tires_Cost', 'Retail_Tire_Cost',\n",
       "       'Tire_Shocks_Cost', 'Tire_Services_Cost', 'Tire_Wiper_Cost',\n",
       "       'Total Sales', 'Total Cost'],\n",
       "      dtype='object')"
      ]
     },
     "execution_count": 19,
     "metadata": {},
     "output_type": "execute_result"
    }
   ],
   "source": [
    "df.columns"
   ]
  },
  {
   "cell_type": "code",
   "execution_count": 20,
   "metadata": {},
   "outputs": [
    {
     "data": {
      "text/plain": [
       "2016    4074\n",
       "2017    3822\n",
       "2015    2383\n",
       "2014    1843\n",
       "2013    1684\n",
       "2012    1611\n",
       "2011    1441\n",
       "2010    1333\n",
       "2009    1319\n",
       "2008     519\n",
       "Name: Year, dtype: int64"
      ]
     },
     "execution_count": 20,
     "metadata": {},
     "output_type": "execute_result"
    }
   ],
   "source": [
    "#Ordenamos por año y mes\n",
    "df[\"Year\"].value_counts()"
   ]
  },
  {
   "cell_type": "code",
   "execution_count": 21,
   "metadata": {},
   "outputs": [
    {
     "data": {
      "text/plain": [
       "September.2017    352\n",
       "November.2017     351\n",
       "October.2017      351\n",
       "August.2017       350\n",
       "July.2017         350\n",
       "                 ... \n",
       "September.2008     61\n",
       "October.2008       61\n",
       "August.2008        61\n",
       "July.2008          59\n",
       "June.2008          58\n",
       "Name: Month_Year, Length: 114, dtype: int64"
      ]
     },
     "execution_count": 21,
     "metadata": {},
     "output_type": "execute_result"
    }
   ],
   "source": [
    "df[\"Month_Year\"].value_counts()"
   ]
  },
  {
   "cell_type": "code",
   "execution_count": 22,
   "metadata": {},
   "outputs": [],
   "source": [
    "#Creamos la columna Mes\n",
    "df[\"Month\"] = df[\"Month_Year\"].map(lambda x: x.split(\".\")[0])"
   ]
  },
  {
   "cell_type": "code",
   "execution_count": 23,
   "metadata": {},
   "outputs": [],
   "source": [
    "from datetime import datetime\n",
    "def mes_texto_a_numero(mes_texto):\n",
    "    fecha = datetime.strptime(mes_texto, '%B')\n",
    "    return fecha.month"
   ]
  },
  {
   "cell_type": "code",
   "execution_count": 24,
   "metadata": {},
   "outputs": [],
   "source": [
    "df[\"Num_month\"] = df[\"Month\"].map(mes_texto_a_numero)"
   ]
  },
  {
   "cell_type": "code",
   "execution_count": 25,
   "metadata": {},
   "outputs": [],
   "source": [
    "df = df.sort_values(by = [\"Year\",\"Num_month\"]).reset_index(drop=True)"
   ]
  },
  {
   "cell_type": "code",
   "execution_count": 26,
   "metadata": {},
   "outputs": [
    {
     "data": {
      "text/html": [
       "<div>\n",
       "<style scoped>\n",
       "    .dataframe tbody tr th:only-of-type {\n",
       "        vertical-align: middle;\n",
       "    }\n",
       "\n",
       "    .dataframe tbody tr th {\n",
       "        vertical-align: top;\n",
       "    }\n",
       "\n",
       "    .dataframe thead th {\n",
       "        text-align: right;\n",
       "    }\n",
       "</style>\n",
       "<table border=\"1\" class=\"dataframe\">\n",
       "  <thead>\n",
       "    <tr style=\"text-align: right;\">\n",
       "      <th></th>\n",
       "      <th>Store</th>\n",
       "      <th>Month_Year</th>\n",
       "      <th>Year</th>\n",
       "      <th>Brand</th>\n",
       "      <th>Brakes_Sales</th>\n",
       "      <th>Exhaust_Sales</th>\n",
       "      <th>Other_Tires_Sales</th>\n",
       "      <th>Retail_Tire_Sales</th>\n",
       "      <th>Tire_Shocks_Sales</th>\n",
       "      <th>Tire_Services_Sales</th>\n",
       "      <th>...</th>\n",
       "      <th>Exhaust_Cost</th>\n",
       "      <th>Other_Tires_Cost</th>\n",
       "      <th>Retail_Tire_Cost</th>\n",
       "      <th>Tire_Shocks_Cost</th>\n",
       "      <th>Tire_Services_Cost</th>\n",
       "      <th>Tire_Wiper_Cost</th>\n",
       "      <th>Total Sales</th>\n",
       "      <th>Total Cost</th>\n",
       "      <th>Month</th>\n",
       "      <th>Num_month</th>\n",
       "    </tr>\n",
       "  </thead>\n",
       "  <tbody>\n",
       "    <tr>\n",
       "      <th>0</th>\n",
       "      <td>St# 1</td>\n",
       "      <td>June.2008</td>\n",
       "      <td>2008</td>\n",
       "      <td>Brand 1</td>\n",
       "      <td>29.981015</td>\n",
       "      <td>NaN</td>\n",
       "      <td>13.478336</td>\n",
       "      <td>121.265221</td>\n",
       "      <td>12.329510</td>\n",
       "      <td>30.229047</td>\n",
       "      <td>...</td>\n",
       "      <td>0.000000</td>\n",
       "      <td>4.312631</td>\n",
       "      <td>84.487182</td>\n",
       "      <td>4.061809</td>\n",
       "      <td>0.060276</td>\n",
       "      <td>0.000000</td>\n",
       "      <td>207.283128</td>\n",
       "      <td>101.114365</td>\n",
       "      <td>June</td>\n",
       "      <td>6</td>\n",
       "    </tr>\n",
       "    <tr>\n",
       "      <th>1</th>\n",
       "      <td>St# 10</td>\n",
       "      <td>June.2008</td>\n",
       "      <td>2008</td>\n",
       "      <td>Brand 1</td>\n",
       "      <td>27.942487</td>\n",
       "      <td>1.366913</td>\n",
       "      <td>8.116181</td>\n",
       "      <td>102.648709</td>\n",
       "      <td>9.292106</td>\n",
       "      <td>27.194628</td>\n",
       "      <td>...</td>\n",
       "      <td>0.463016</td>\n",
       "      <td>4.276353</td>\n",
       "      <td>69.419506</td>\n",
       "      <td>4.167882</td>\n",
       "      <td>0.050518</td>\n",
       "      <td>0.000000</td>\n",
       "      <td>176.561023</td>\n",
       "      <td>86.934289</td>\n",
       "      <td>June</td>\n",
       "      <td>6</td>\n",
       "    </tr>\n",
       "    <tr>\n",
       "      <th>2</th>\n",
       "      <td>St# 12</td>\n",
       "      <td>June.2008</td>\n",
       "      <td>2008</td>\n",
       "      <td>Brand 1</td>\n",
       "      <td>33.156370</td>\n",
       "      <td>0.718848</td>\n",
       "      <td>13.656036</td>\n",
       "      <td>88.719478</td>\n",
       "      <td>7.393022</td>\n",
       "      <td>25.259399</td>\n",
       "      <td>...</td>\n",
       "      <td>0.211399</td>\n",
       "      <td>2.458391</td>\n",
       "      <td>59.470181</td>\n",
       "      <td>2.806138</td>\n",
       "      <td>0.071442</td>\n",
       "      <td>0.000000</td>\n",
       "      <td>168.903152</td>\n",
       "      <td>73.903594</td>\n",
       "      <td>June</td>\n",
       "      <td>6</td>\n",
       "    </tr>\n",
       "    <tr>\n",
       "      <th>3</th>\n",
       "      <td>St# 14</td>\n",
       "      <td>June.2008</td>\n",
       "      <td>2008</td>\n",
       "      <td>Brand 1</td>\n",
       "      <td>39.598110</td>\n",
       "      <td>0.978756</td>\n",
       "      <td>12.956090</td>\n",
       "      <td>102.002520</td>\n",
       "      <td>11.133489</td>\n",
       "      <td>26.590242</td>\n",
       "      <td>...</td>\n",
       "      <td>0.394685</td>\n",
       "      <td>4.664281</td>\n",
       "      <td>67.151373</td>\n",
       "      <td>4.524717</td>\n",
       "      <td>0.043893</td>\n",
       "      <td>0.000000</td>\n",
       "      <td>193.259208</td>\n",
       "      <td>89.229855</td>\n",
       "      <td>June</td>\n",
       "      <td>6</td>\n",
       "    </tr>\n",
       "    <tr>\n",
       "      <th>4</th>\n",
       "      <td>St# 15</td>\n",
       "      <td>June.2008</td>\n",
       "      <td>2008</td>\n",
       "      <td>Brand 1</td>\n",
       "      <td>22.501869</td>\n",
       "      <td>0.458743</td>\n",
       "      <td>26.931727</td>\n",
       "      <td>104.366153</td>\n",
       "      <td>13.670623</td>\n",
       "      <td>23.329770</td>\n",
       "      <td>...</td>\n",
       "      <td>0.199978</td>\n",
       "      <td>11.558404</td>\n",
       "      <td>69.560339</td>\n",
       "      <td>4.098962</td>\n",
       "      <td>0.000055</td>\n",
       "      <td>0.000000</td>\n",
       "      <td>191.258885</td>\n",
       "      <td>91.621628</td>\n",
       "      <td>June</td>\n",
       "      <td>6</td>\n",
       "    </tr>\n",
       "    <tr>\n",
       "      <th>...</th>\n",
       "      <td>...</td>\n",
       "      <td>...</td>\n",
       "      <td>...</td>\n",
       "      <td>...</td>\n",
       "      <td>...</td>\n",
       "      <td>...</td>\n",
       "      <td>...</td>\n",
       "      <td>...</td>\n",
       "      <td>...</td>\n",
       "      <td>...</td>\n",
       "      <td>...</td>\n",
       "      <td>...</td>\n",
       "      <td>...</td>\n",
       "      <td>...</td>\n",
       "      <td>...</td>\n",
       "      <td>...</td>\n",
       "      <td>...</td>\n",
       "      <td>...</td>\n",
       "      <td>...</td>\n",
       "      <td>...</td>\n",
       "      <td>...</td>\n",
       "    </tr>\n",
       "    <tr>\n",
       "      <th>20024</th>\n",
       "      <td>St# 85</td>\n",
       "      <td>November.2017</td>\n",
       "      <td>2017</td>\n",
       "      <td>Brand 1</td>\n",
       "      <td>18.006685</td>\n",
       "      <td>20.464259</td>\n",
       "      <td>20.743841</td>\n",
       "      <td>122.372776</td>\n",
       "      <td>4.726954</td>\n",
       "      <td>30.649609</td>\n",
       "      <td>...</td>\n",
       "      <td>9.785930</td>\n",
       "      <td>7.097345</td>\n",
       "      <td>102.690364</td>\n",
       "      <td>2.286334</td>\n",
       "      <td>1.320957</td>\n",
       "      <td>0.122062</td>\n",
       "      <td>217.374326</td>\n",
       "      <td>129.193989</td>\n",
       "      <td>November</td>\n",
       "      <td>11</td>\n",
       "    </tr>\n",
       "    <tr>\n",
       "      <th>20025</th>\n",
       "      <td>St# 86</td>\n",
       "      <td>November.2017</td>\n",
       "      <td>2017</td>\n",
       "      <td>Brand 1</td>\n",
       "      <td>20.384756</td>\n",
       "      <td>6.572471</td>\n",
       "      <td>24.755431</td>\n",
       "      <td>106.749095</td>\n",
       "      <td>13.561063</td>\n",
       "      <td>31.808132</td>\n",
       "      <td>...</td>\n",
       "      <td>2.453922</td>\n",
       "      <td>8.313922</td>\n",
       "      <td>87.611422</td>\n",
       "      <td>4.815187</td>\n",
       "      <td>0.849899</td>\n",
       "      <td>0.155977</td>\n",
       "      <td>204.555244</td>\n",
       "      <td>110.002198</td>\n",
       "      <td>November</td>\n",
       "      <td>11</td>\n",
       "    </tr>\n",
       "    <tr>\n",
       "      <th>20026</th>\n",
       "      <td>St# 87</td>\n",
       "      <td>November.2017</td>\n",
       "      <td>2017</td>\n",
       "      <td>Brand 1</td>\n",
       "      <td>16.907971</td>\n",
       "      <td>15.483150</td>\n",
       "      <td>38.747661</td>\n",
       "      <td>108.388258</td>\n",
       "      <td>9.351026</td>\n",
       "      <td>28.371074</td>\n",
       "      <td>...</td>\n",
       "      <td>6.694845</td>\n",
       "      <td>15.382840</td>\n",
       "      <td>89.052673</td>\n",
       "      <td>5.031002</td>\n",
       "      <td>0.527637</td>\n",
       "      <td>0.031933</td>\n",
       "      <td>217.368473</td>\n",
       "      <td>123.345442</td>\n",
       "      <td>November</td>\n",
       "      <td>11</td>\n",
       "    </tr>\n",
       "    <tr>\n",
       "      <th>20027</th>\n",
       "      <td>St# 88</td>\n",
       "      <td>November.2017</td>\n",
       "      <td>2017</td>\n",
       "      <td>Brand 1</td>\n",
       "      <td>18.407593</td>\n",
       "      <td>6.535691</td>\n",
       "      <td>17.650093</td>\n",
       "      <td>124.669014</td>\n",
       "      <td>3.468766</td>\n",
       "      <td>30.914635</td>\n",
       "      <td>...</td>\n",
       "      <td>2.577135</td>\n",
       "      <td>4.373253</td>\n",
       "      <td>100.616250</td>\n",
       "      <td>1.326530</td>\n",
       "      <td>0.204270</td>\n",
       "      <td>0.119130</td>\n",
       "      <td>202.284045</td>\n",
       "      <td>114.491056</td>\n",
       "      <td>November</td>\n",
       "      <td>11</td>\n",
       "    </tr>\n",
       "    <tr>\n",
       "      <th>20028</th>\n",
       "      <td>St# 89</td>\n",
       "      <td>November.2017</td>\n",
       "      <td>2017</td>\n",
       "      <td>Brand 1</td>\n",
       "      <td>31.594520</td>\n",
       "      <td>12.420887</td>\n",
       "      <td>39.465494</td>\n",
       "      <td>125.081250</td>\n",
       "      <td>8.969259</td>\n",
       "      <td>34.352602</td>\n",
       "      <td>...</td>\n",
       "      <td>3.629172</td>\n",
       "      <td>10.743808</td>\n",
       "      <td>98.093677</td>\n",
       "      <td>3.766265</td>\n",
       "      <td>0.625044</td>\n",
       "      <td>0.174898</td>\n",
       "      <td>252.378343</td>\n",
       "      <td>125.271337</td>\n",
       "      <td>November</td>\n",
       "      <td>11</td>\n",
       "    </tr>\n",
       "  </tbody>\n",
       "</table>\n",
       "<p>20029 rows × 22 columns</p>\n",
       "</div>"
      ],
      "text/plain": [
       "        Store     Month_Year  Year    Brand  Brakes_Sales  Exhaust_Sales  \\\n",
       "0       St# 1      June.2008  2008  Brand 1     29.981015            NaN   \n",
       "1      St# 10      June.2008  2008  Brand 1     27.942487       1.366913   \n",
       "2      St# 12      June.2008  2008  Brand 1     33.156370       0.718848   \n",
       "3      St# 14      June.2008  2008  Brand 1     39.598110       0.978756   \n",
       "4      St# 15      June.2008  2008  Brand 1     22.501869       0.458743   \n",
       "...       ...            ...   ...      ...           ...            ...   \n",
       "20024  St# 85  November.2017  2017  Brand 1     18.006685      20.464259   \n",
       "20025  St# 86  November.2017  2017  Brand 1     20.384756       6.572471   \n",
       "20026  St# 87  November.2017  2017  Brand 1     16.907971      15.483150   \n",
       "20027  St# 88  November.2017  2017  Brand 1     18.407593       6.535691   \n",
       "20028  St# 89  November.2017  2017  Brand 1     31.594520      12.420887   \n",
       "\n",
       "       Other_Tires_Sales  Retail_Tire_Sales  Tire_Shocks_Sales  \\\n",
       "0              13.478336         121.265221          12.329510   \n",
       "1               8.116181         102.648709           9.292106   \n",
       "2              13.656036          88.719478           7.393022   \n",
       "3              12.956090         102.002520          11.133489   \n",
       "4              26.931727         104.366153          13.670623   \n",
       "...                  ...                ...                ...   \n",
       "20024          20.743841         122.372776           4.726954   \n",
       "20025          24.755431         106.749095          13.561063   \n",
       "20026          38.747661         108.388258           9.351026   \n",
       "20027          17.650093         124.669014           3.468766   \n",
       "20028          39.465494         125.081250           8.969259   \n",
       "\n",
       "       Tire_Services_Sales  ...  Exhaust_Cost  Other_Tires_Cost  \\\n",
       "0                30.229047  ...      0.000000          4.312631   \n",
       "1                27.194628  ...      0.463016          4.276353   \n",
       "2                25.259399  ...      0.211399          2.458391   \n",
       "3                26.590242  ...      0.394685          4.664281   \n",
       "4                23.329770  ...      0.199978         11.558404   \n",
       "...                    ...  ...           ...               ...   \n",
       "20024            30.649609  ...      9.785930          7.097345   \n",
       "20025            31.808132  ...      2.453922          8.313922   \n",
       "20026            28.371074  ...      6.694845         15.382840   \n",
       "20027            30.914635  ...      2.577135          4.373253   \n",
       "20028            34.352602  ...      3.629172         10.743808   \n",
       "\n",
       "       Retail_Tire_Cost  Tire_Shocks_Cost  Tire_Services_Cost  \\\n",
       "0             84.487182          4.061809            0.060276   \n",
       "1             69.419506          4.167882            0.050518   \n",
       "2             59.470181          2.806138            0.071442   \n",
       "3             67.151373          4.524717            0.043893   \n",
       "4             69.560339          4.098962            0.000055   \n",
       "...                 ...               ...                 ...   \n",
       "20024        102.690364          2.286334            1.320957   \n",
       "20025         87.611422          4.815187            0.849899   \n",
       "20026         89.052673          5.031002            0.527637   \n",
       "20027        100.616250          1.326530            0.204270   \n",
       "20028         98.093677          3.766265            0.625044   \n",
       "\n",
       "       Tire_Wiper_Cost  Total Sales  Total Cost     Month  Num_month  \n",
       "0             0.000000   207.283128  101.114365      June          6  \n",
       "1             0.000000   176.561023   86.934289      June          6  \n",
       "2             0.000000   168.903152   73.903594      June          6  \n",
       "3             0.000000   193.259208   89.229855      June          6  \n",
       "4             0.000000   191.258885   91.621628      June          6  \n",
       "...                ...          ...         ...       ...        ...  \n",
       "20024         0.122062   217.374326  129.193989  November         11  \n",
       "20025         0.155977   204.555244  110.002198  November         11  \n",
       "20026         0.031933   217.368473  123.345442  November         11  \n",
       "20027         0.119130   202.284045  114.491056  November         11  \n",
       "20028         0.174898   252.378343  125.271337  November         11  \n",
       "\n",
       "[20029 rows x 22 columns]"
      ]
     },
     "execution_count": 26,
     "metadata": {},
     "output_type": "execute_result"
    }
   ],
   "source": [
    "df"
   ]
  },
  {
   "cell_type": "markdown",
   "metadata": {},
   "source": [
    "\n",
    "¿Cuantas tiendas hay?"
   ]
  },
  {
   "cell_type": "code",
   "execution_count": 27,
   "metadata": {},
   "outputs": [
    {
     "data": {
      "text/plain": [
       "St# 1      114\n",
       "St# 54     114\n",
       "St# 42     114\n",
       "St# 43     114\n",
       "St# 44     114\n",
       "          ... \n",
       "St# 210      5\n",
       "St# 220      5\n",
       "St# 207      3\n",
       "St# 175      2\n",
       "St# 335      1\n",
       "Name: Store, Length: 349, dtype: int64"
      ]
     },
     "execution_count": 27,
     "metadata": {},
     "output_type": "execute_result"
    }
   ],
   "source": [
    "df[\"Store\"].value_counts()"
   ]
  },
  {
   "cell_type": "code",
   "execution_count": 28,
   "metadata": {},
   "outputs": [
    {
     "data": {
      "text/plain": [
       "114"
      ]
     },
     "execution_count": 28,
     "metadata": {},
     "output_type": "execute_result"
    }
   ],
   "source": [
    "len(df.loc[df[\"Store\"]==\"St# 1\"])"
   ]
  },
  {
   "cell_type": "code",
   "execution_count": 29,
   "metadata": {},
   "outputs": [
    {
     "data": {
      "text/plain": [
       "Series([], Name: Year, dtype: int64)"
      ]
     },
     "execution_count": 29,
     "metadata": {},
     "output_type": "execute_result"
    }
   ],
   "source": [
    "#Estimamos el numero de registros por año\n",
    "df.loc[df[\"Store\"]==\"St# 9\",\"Year\"].value_counts()"
   ]
  },
  {
   "cell_type": "code",
   "execution_count": 30,
   "metadata": {},
   "outputs": [
    {
     "data": {
      "text/plain": [
       "0      1\n",
       "8      2\n",
       "18     3\n",
       "29     4\n",
       "40     5\n",
       "51     6\n",
       "56     7\n",
       "57     8\n",
       "1     10\n",
       "2     12\n",
       "Name: Store, dtype: int64"
      ]
     },
     "execution_count": 30,
     "metadata": {},
     "output_type": "execute_result"
    }
   ],
   "source": [
    "df[\"Store\"].map(lambda x: x.split(\" \")[1]).map(int).drop_duplicates().sort_values().head(10)"
   ]
  },
  {
   "cell_type": "code",
   "execution_count": 31,
   "metadata": {},
   "outputs": [],
   "source": [
    "#Seleccion unica de los registros y columnas utiles\n",
    "df_ = df.loc[df[\"Year\"]!=2008].reset_index(drop=True)"
   ]
  },
  {
   "cell_type": "code",
   "execution_count": 32,
   "metadata": {},
   "outputs": [
    {
     "data": {
      "text/html": [
       "<div>\n",
       "<style scoped>\n",
       "    .dataframe tbody tr th:only-of-type {\n",
       "        vertical-align: middle;\n",
       "    }\n",
       "\n",
       "    .dataframe tbody tr th {\n",
       "        vertical-align: top;\n",
       "    }\n",
       "\n",
       "    .dataframe thead th {\n",
       "        text-align: right;\n",
       "    }\n",
       "</style>\n",
       "<table border=\"1\" class=\"dataframe\">\n",
       "  <thead>\n",
       "    <tr style=\"text-align: right;\">\n",
       "      <th></th>\n",
       "      <th>Store</th>\n",
       "      <th>Month_Year</th>\n",
       "      <th>Year</th>\n",
       "      <th>Brand</th>\n",
       "      <th>Brakes_Sales</th>\n",
       "      <th>Exhaust_Sales</th>\n",
       "      <th>Other_Tires_Sales</th>\n",
       "      <th>Retail_Tire_Sales</th>\n",
       "      <th>Tire_Shocks_Sales</th>\n",
       "      <th>Tire_Services_Sales</th>\n",
       "      <th>...</th>\n",
       "      <th>Exhaust_Cost</th>\n",
       "      <th>Other_Tires_Cost</th>\n",
       "      <th>Retail_Tire_Cost</th>\n",
       "      <th>Tire_Shocks_Cost</th>\n",
       "      <th>Tire_Services_Cost</th>\n",
       "      <th>Tire_Wiper_Cost</th>\n",
       "      <th>Total Sales</th>\n",
       "      <th>Total Cost</th>\n",
       "      <th>Month</th>\n",
       "      <th>Num_month</th>\n",
       "    </tr>\n",
       "  </thead>\n",
       "  <tbody>\n",
       "    <tr>\n",
       "      <th>0</th>\n",
       "      <td>St# 1</td>\n",
       "      <td>January.2009</td>\n",
       "      <td>2009</td>\n",
       "      <td>Brand 1</td>\n",
       "      <td>23.468063</td>\n",
       "      <td>0.669953</td>\n",
       "      <td>12.978816</td>\n",
       "      <td>128.159312</td>\n",
       "      <td>7.413110</td>\n",
       "      <td>28.565770</td>\n",
       "      <td>...</td>\n",
       "      <td>0.322351</td>\n",
       "      <td>6.021984</td>\n",
       "      <td>88.556669</td>\n",
       "      <td>2.760659</td>\n",
       "      <td>0.155741</td>\n",
       "      <td>0.000000</td>\n",
       "      <td>201.255023</td>\n",
       "      <td>104.993221</td>\n",
       "      <td>January</td>\n",
       "      <td>1</td>\n",
       "    </tr>\n",
       "    <tr>\n",
       "      <th>1</th>\n",
       "      <td>St# 10</td>\n",
       "      <td>January.2009</td>\n",
       "      <td>2009</td>\n",
       "      <td>Brand 1</td>\n",
       "      <td>29.139252</td>\n",
       "      <td>1.236081</td>\n",
       "      <td>8.270027</td>\n",
       "      <td>110.933930</td>\n",
       "      <td>6.983339</td>\n",
       "      <td>26.312569</td>\n",
       "      <td>...</td>\n",
       "      <td>0.406520</td>\n",
       "      <td>5.226141</td>\n",
       "      <td>78.266558</td>\n",
       "      <td>3.179182</td>\n",
       "      <td>0.008683</td>\n",
       "      <td>0.000000</td>\n",
       "      <td>182.875198</td>\n",
       "      <td>95.799989</td>\n",
       "      <td>January</td>\n",
       "      <td>1</td>\n",
       "    </tr>\n",
       "    <tr>\n",
       "      <th>2</th>\n",
       "      <td>St# 101</td>\n",
       "      <td>January.2009</td>\n",
       "      <td>2009</td>\n",
       "      <td>Brand 1</td>\n",
       "      <td>119.208519</td>\n",
       "      <td>447.825370</td>\n",
       "      <td>116.798704</td>\n",
       "      <td>76.563333</td>\n",
       "      <td>11.755926</td>\n",
       "      <td>2.851852</td>\n",
       "      <td>...</td>\n",
       "      <td>113.270000</td>\n",
       "      <td>23.712407</td>\n",
       "      <td>55.305926</td>\n",
       "      <td>4.884630</td>\n",
       "      <td>0.000000</td>\n",
       "      <td>0.000000</td>\n",
       "      <td>775.003704</td>\n",
       "      <td>222.141667</td>\n",
       "      <td>January</td>\n",
       "      <td>1</td>\n",
       "    </tr>\n",
       "    <tr>\n",
       "      <th>3</th>\n",
       "      <td>St# 102</td>\n",
       "      <td>January.2009</td>\n",
       "      <td>2009</td>\n",
       "      <td>Brand 1</td>\n",
       "      <td>584.485455</td>\n",
       "      <td>860.497273</td>\n",
       "      <td>411.980909</td>\n",
       "      <td>75.302727</td>\n",
       "      <td>156.562727</td>\n",
       "      <td>7.720909</td>\n",
       "      <td>...</td>\n",
       "      <td>314.624545</td>\n",
       "      <td>133.180909</td>\n",
       "      <td>51.858182</td>\n",
       "      <td>75.978182</td>\n",
       "      <td>0.000000</td>\n",
       "      <td>0.000000</td>\n",
       "      <td>2096.550000</td>\n",
       "      <td>733.562727</td>\n",
       "      <td>January</td>\n",
       "      <td>1</td>\n",
       "    </tr>\n",
       "    <tr>\n",
       "      <th>4</th>\n",
       "      <td>St# 103</td>\n",
       "      <td>January.2009</td>\n",
       "      <td>2009</td>\n",
       "      <td>Brand 1</td>\n",
       "      <td>79.817317</td>\n",
       "      <td>175.999512</td>\n",
       "      <td>53.024146</td>\n",
       "      <td>82.125854</td>\n",
       "      <td>13.232927</td>\n",
       "      <td>7.847073</td>\n",
       "      <td>...</td>\n",
       "      <td>53.345122</td>\n",
       "      <td>19.643659</td>\n",
       "      <td>72.080976</td>\n",
       "      <td>9.829756</td>\n",
       "      <td>0.000000</td>\n",
       "      <td>0.000000</td>\n",
       "      <td>412.046829</td>\n",
       "      <td>181.687561</td>\n",
       "      <td>January</td>\n",
       "      <td>1</td>\n",
       "    </tr>\n",
       "    <tr>\n",
       "      <th>...</th>\n",
       "      <td>...</td>\n",
       "      <td>...</td>\n",
       "      <td>...</td>\n",
       "      <td>...</td>\n",
       "      <td>...</td>\n",
       "      <td>...</td>\n",
       "      <td>...</td>\n",
       "      <td>...</td>\n",
       "      <td>...</td>\n",
       "      <td>...</td>\n",
       "      <td>...</td>\n",
       "      <td>...</td>\n",
       "      <td>...</td>\n",
       "      <td>...</td>\n",
       "      <td>...</td>\n",
       "      <td>...</td>\n",
       "      <td>...</td>\n",
       "      <td>...</td>\n",
       "      <td>...</td>\n",
       "      <td>...</td>\n",
       "      <td>...</td>\n",
       "    </tr>\n",
       "    <tr>\n",
       "      <th>19505</th>\n",
       "      <td>St# 85</td>\n",
       "      <td>November.2017</td>\n",
       "      <td>2017</td>\n",
       "      <td>Brand 1</td>\n",
       "      <td>18.006685</td>\n",
       "      <td>20.464259</td>\n",
       "      <td>20.743841</td>\n",
       "      <td>122.372776</td>\n",
       "      <td>4.726954</td>\n",
       "      <td>30.649609</td>\n",
       "      <td>...</td>\n",
       "      <td>9.785930</td>\n",
       "      <td>7.097345</td>\n",
       "      <td>102.690364</td>\n",
       "      <td>2.286334</td>\n",
       "      <td>1.320957</td>\n",
       "      <td>0.122062</td>\n",
       "      <td>217.374326</td>\n",
       "      <td>129.193989</td>\n",
       "      <td>November</td>\n",
       "      <td>11</td>\n",
       "    </tr>\n",
       "    <tr>\n",
       "      <th>19506</th>\n",
       "      <td>St# 86</td>\n",
       "      <td>November.2017</td>\n",
       "      <td>2017</td>\n",
       "      <td>Brand 1</td>\n",
       "      <td>20.384756</td>\n",
       "      <td>6.572471</td>\n",
       "      <td>24.755431</td>\n",
       "      <td>106.749095</td>\n",
       "      <td>13.561063</td>\n",
       "      <td>31.808132</td>\n",
       "      <td>...</td>\n",
       "      <td>2.453922</td>\n",
       "      <td>8.313922</td>\n",
       "      <td>87.611422</td>\n",
       "      <td>4.815187</td>\n",
       "      <td>0.849899</td>\n",
       "      <td>0.155977</td>\n",
       "      <td>204.555244</td>\n",
       "      <td>110.002198</td>\n",
       "      <td>November</td>\n",
       "      <td>11</td>\n",
       "    </tr>\n",
       "    <tr>\n",
       "      <th>19507</th>\n",
       "      <td>St# 87</td>\n",
       "      <td>November.2017</td>\n",
       "      <td>2017</td>\n",
       "      <td>Brand 1</td>\n",
       "      <td>16.907971</td>\n",
       "      <td>15.483150</td>\n",
       "      <td>38.747661</td>\n",
       "      <td>108.388258</td>\n",
       "      <td>9.351026</td>\n",
       "      <td>28.371074</td>\n",
       "      <td>...</td>\n",
       "      <td>6.694845</td>\n",
       "      <td>15.382840</td>\n",
       "      <td>89.052673</td>\n",
       "      <td>5.031002</td>\n",
       "      <td>0.527637</td>\n",
       "      <td>0.031933</td>\n",
       "      <td>217.368473</td>\n",
       "      <td>123.345442</td>\n",
       "      <td>November</td>\n",
       "      <td>11</td>\n",
       "    </tr>\n",
       "    <tr>\n",
       "      <th>19508</th>\n",
       "      <td>St# 88</td>\n",
       "      <td>November.2017</td>\n",
       "      <td>2017</td>\n",
       "      <td>Brand 1</td>\n",
       "      <td>18.407593</td>\n",
       "      <td>6.535691</td>\n",
       "      <td>17.650093</td>\n",
       "      <td>124.669014</td>\n",
       "      <td>3.468766</td>\n",
       "      <td>30.914635</td>\n",
       "      <td>...</td>\n",
       "      <td>2.577135</td>\n",
       "      <td>4.373253</td>\n",
       "      <td>100.616250</td>\n",
       "      <td>1.326530</td>\n",
       "      <td>0.204270</td>\n",
       "      <td>0.119130</td>\n",
       "      <td>202.284045</td>\n",
       "      <td>114.491056</td>\n",
       "      <td>November</td>\n",
       "      <td>11</td>\n",
       "    </tr>\n",
       "    <tr>\n",
       "      <th>19509</th>\n",
       "      <td>St# 89</td>\n",
       "      <td>November.2017</td>\n",
       "      <td>2017</td>\n",
       "      <td>Brand 1</td>\n",
       "      <td>31.594520</td>\n",
       "      <td>12.420887</td>\n",
       "      <td>39.465494</td>\n",
       "      <td>125.081250</td>\n",
       "      <td>8.969259</td>\n",
       "      <td>34.352602</td>\n",
       "      <td>...</td>\n",
       "      <td>3.629172</td>\n",
       "      <td>10.743808</td>\n",
       "      <td>98.093677</td>\n",
       "      <td>3.766265</td>\n",
       "      <td>0.625044</td>\n",
       "      <td>0.174898</td>\n",
       "      <td>252.378343</td>\n",
       "      <td>125.271337</td>\n",
       "      <td>November</td>\n",
       "      <td>11</td>\n",
       "    </tr>\n",
       "  </tbody>\n",
       "</table>\n",
       "<p>19510 rows × 22 columns</p>\n",
       "</div>"
      ],
      "text/plain": [
       "         Store     Month_Year  Year    Brand  Brakes_Sales  Exhaust_Sales  \\\n",
       "0        St# 1   January.2009  2009  Brand 1     23.468063       0.669953   \n",
       "1       St# 10   January.2009  2009  Brand 1     29.139252       1.236081   \n",
       "2      St# 101   January.2009  2009  Brand 1    119.208519     447.825370   \n",
       "3      St# 102   January.2009  2009  Brand 1    584.485455     860.497273   \n",
       "4      St# 103   January.2009  2009  Brand 1     79.817317     175.999512   \n",
       "...        ...            ...   ...      ...           ...            ...   \n",
       "19505   St# 85  November.2017  2017  Brand 1     18.006685      20.464259   \n",
       "19506   St# 86  November.2017  2017  Brand 1     20.384756       6.572471   \n",
       "19507   St# 87  November.2017  2017  Brand 1     16.907971      15.483150   \n",
       "19508   St# 88  November.2017  2017  Brand 1     18.407593       6.535691   \n",
       "19509   St# 89  November.2017  2017  Brand 1     31.594520      12.420887   \n",
       "\n",
       "       Other_Tires_Sales  Retail_Tire_Sales  Tire_Shocks_Sales  \\\n",
       "0              12.978816         128.159312           7.413110   \n",
       "1               8.270027         110.933930           6.983339   \n",
       "2             116.798704          76.563333          11.755926   \n",
       "3             411.980909          75.302727         156.562727   \n",
       "4              53.024146          82.125854          13.232927   \n",
       "...                  ...                ...                ...   \n",
       "19505          20.743841         122.372776           4.726954   \n",
       "19506          24.755431         106.749095          13.561063   \n",
       "19507          38.747661         108.388258           9.351026   \n",
       "19508          17.650093         124.669014           3.468766   \n",
       "19509          39.465494         125.081250           8.969259   \n",
       "\n",
       "       Tire_Services_Sales  ...  Exhaust_Cost  Other_Tires_Cost  \\\n",
       "0                28.565770  ...      0.322351          6.021984   \n",
       "1                26.312569  ...      0.406520          5.226141   \n",
       "2                 2.851852  ...    113.270000         23.712407   \n",
       "3                 7.720909  ...    314.624545        133.180909   \n",
       "4                 7.847073  ...     53.345122         19.643659   \n",
       "...                    ...  ...           ...               ...   \n",
       "19505            30.649609  ...      9.785930          7.097345   \n",
       "19506            31.808132  ...      2.453922          8.313922   \n",
       "19507            28.371074  ...      6.694845         15.382840   \n",
       "19508            30.914635  ...      2.577135          4.373253   \n",
       "19509            34.352602  ...      3.629172         10.743808   \n",
       "\n",
       "       Retail_Tire_Cost  Tire_Shocks_Cost  Tire_Services_Cost  \\\n",
       "0             88.556669          2.760659            0.155741   \n",
       "1             78.266558          3.179182            0.008683   \n",
       "2             55.305926          4.884630            0.000000   \n",
       "3             51.858182         75.978182            0.000000   \n",
       "4             72.080976          9.829756            0.000000   \n",
       "...                 ...               ...                 ...   \n",
       "19505        102.690364          2.286334            1.320957   \n",
       "19506         87.611422          4.815187            0.849899   \n",
       "19507         89.052673          5.031002            0.527637   \n",
       "19508        100.616250          1.326530            0.204270   \n",
       "19509         98.093677          3.766265            0.625044   \n",
       "\n",
       "       Tire_Wiper_Cost  Total Sales  Total Cost     Month  Num_month  \n",
       "0             0.000000   201.255023  104.993221   January          1  \n",
       "1             0.000000   182.875198   95.799989   January          1  \n",
       "2             0.000000   775.003704  222.141667   January          1  \n",
       "3             0.000000  2096.550000  733.562727   January          1  \n",
       "4             0.000000   412.046829  181.687561   January          1  \n",
       "...                ...          ...         ...       ...        ...  \n",
       "19505         0.122062   217.374326  129.193989  November         11  \n",
       "19506         0.155977   204.555244  110.002198  November         11  \n",
       "19507         0.031933   217.368473  123.345442  November         11  \n",
       "19508         0.119130   202.284045  114.491056  November         11  \n",
       "19509         0.174898   252.378343  125.271337  November         11  \n",
       "\n",
       "[19510 rows x 22 columns]"
      ]
     },
     "execution_count": 32,
     "metadata": {},
     "output_type": "execute_result"
    }
   ],
   "source": [
    "df_"
   ]
  },
  {
   "cell_type": "code",
   "execution_count": 33,
   "metadata": {},
   "outputs": [],
   "source": [
    "df_ = df_.drop([\"Brand\",\"Num_month\"],axis=1).groupby(by=[\"Store\",\"Year\"]).sum().reset_index().drop([\"Store\"],axis=1)"
   ]
  },
  {
   "cell_type": "code",
   "execution_count": 34,
   "metadata": {},
   "outputs": [
    {
     "data": {
      "text/html": [
       "<div>\n",
       "<style scoped>\n",
       "    .dataframe tbody tr th:only-of-type {\n",
       "        vertical-align: middle;\n",
       "    }\n",
       "\n",
       "    .dataframe tbody tr th {\n",
       "        vertical-align: top;\n",
       "    }\n",
       "\n",
       "    .dataframe thead th {\n",
       "        text-align: right;\n",
       "    }\n",
       "</style>\n",
       "<table border=\"1\" class=\"dataframe\">\n",
       "  <thead>\n",
       "    <tr style=\"text-align: right;\">\n",
       "      <th></th>\n",
       "      <th>Year</th>\n",
       "      <th>Brakes_Sales</th>\n",
       "      <th>Exhaust_Sales</th>\n",
       "      <th>Other_Tires_Sales</th>\n",
       "      <th>Retail_Tire_Sales</th>\n",
       "      <th>Tire_Shocks_Sales</th>\n",
       "      <th>Tire_Services_Sales</th>\n",
       "      <th>Tire_Wiper_Sales</th>\n",
       "      <th>Brakes_Cost</th>\n",
       "      <th>Exhaust_Cost</th>\n",
       "      <th>Other_Tires_Cost</th>\n",
       "      <th>Retail_Tire_Cost</th>\n",
       "      <th>Tire_Shocks_Cost</th>\n",
       "      <th>Tire_Services_Cost</th>\n",
       "      <th>Tire_Wiper_Cost</th>\n",
       "      <th>Total Sales</th>\n",
       "      <th>Total Cost</th>\n",
       "    </tr>\n",
       "  </thead>\n",
       "  <tbody>\n",
       "    <tr>\n",
       "      <th>0</th>\n",
       "      <td>2009</td>\n",
       "      <td>397.490054</td>\n",
       "      <td>11.329402</td>\n",
       "      <td>179.531798</td>\n",
       "      <td>1521.233767</td>\n",
       "      <td>116.495537</td>\n",
       "      <td>369.503548</td>\n",
       "      <td>0.000000</td>\n",
       "      <td>113.695014</td>\n",
       "      <td>4.778943</td>\n",
       "      <td>60.918643</td>\n",
       "      <td>1061.868875</td>\n",
       "      <td>44.695519</td>\n",
       "      <td>3.241220</td>\n",
       "      <td>0.000000</td>\n",
       "      <td>2595.584107</td>\n",
       "      <td>1289.198214</td>\n",
       "    </tr>\n",
       "    <tr>\n",
       "      <th>1</th>\n",
       "      <td>2010</td>\n",
       "      <td>388.790964</td>\n",
       "      <td>18.267819</td>\n",
       "      <td>229.231676</td>\n",
       "      <td>1594.523750</td>\n",
       "      <td>104.035559</td>\n",
       "      <td>392.874079</td>\n",
       "      <td>0.000000</td>\n",
       "      <td>116.344917</td>\n",
       "      <td>8.723832</td>\n",
       "      <td>82.785077</td>\n",
       "      <td>1121.079579</td>\n",
       "      <td>40.855871</td>\n",
       "      <td>6.624431</td>\n",
       "      <td>0.000000</td>\n",
       "      <td>2727.723846</td>\n",
       "      <td>1376.413708</td>\n",
       "    </tr>\n",
       "    <tr>\n",
       "      <th>2</th>\n",
       "      <td>2011</td>\n",
       "      <td>397.732499</td>\n",
       "      <td>12.091816</td>\n",
       "      <td>265.017888</td>\n",
       "      <td>1777.466504</td>\n",
       "      <td>148.939882</td>\n",
       "      <td>407.494784</td>\n",
       "      <td>0.000000</td>\n",
       "      <td>119.291233</td>\n",
       "      <td>5.098805</td>\n",
       "      <td>76.674373</td>\n",
       "      <td>1290.624190</td>\n",
       "      <td>56.037698</td>\n",
       "      <td>6.132569</td>\n",
       "      <td>0.000000</td>\n",
       "      <td>3008.743373</td>\n",
       "      <td>1553.858868</td>\n",
       "    </tr>\n",
       "    <tr>\n",
       "      <th>3</th>\n",
       "      <td>2012</td>\n",
       "      <td>392.832809</td>\n",
       "      <td>10.485556</td>\n",
       "      <td>273.025582</td>\n",
       "      <td>1776.108337</td>\n",
       "      <td>178.169847</td>\n",
       "      <td>432.085445</td>\n",
       "      <td>0.845107</td>\n",
       "      <td>127.451450</td>\n",
       "      <td>4.849228</td>\n",
       "      <td>81.321733</td>\n",
       "      <td>1357.046228</td>\n",
       "      <td>73.217151</td>\n",
       "      <td>4.213708</td>\n",
       "      <td>0.395120</td>\n",
       "      <td>3063.552684</td>\n",
       "      <td>1648.494616</td>\n",
       "    </tr>\n",
       "    <tr>\n",
       "      <th>4</th>\n",
       "      <td>2013</td>\n",
       "      <td>446.312305</td>\n",
       "      <td>13.516711</td>\n",
       "      <td>257.115526</td>\n",
       "      <td>1635.330474</td>\n",
       "      <td>152.118673</td>\n",
       "      <td>421.314732</td>\n",
       "      <td>2.205573</td>\n",
       "      <td>150.560091</td>\n",
       "      <td>7.044616</td>\n",
       "      <td>73.621044</td>\n",
       "      <td>1288.917395</td>\n",
       "      <td>72.038961</td>\n",
       "      <td>6.363100</td>\n",
       "      <td>1.073480</td>\n",
       "      <td>2927.913994</td>\n",
       "      <td>1599.618688</td>\n",
       "    </tr>\n",
       "    <tr>\n",
       "      <th>...</th>\n",
       "      <td>...</td>\n",
       "      <td>...</td>\n",
       "      <td>...</td>\n",
       "      <td>...</td>\n",
       "      <td>...</td>\n",
       "      <td>...</td>\n",
       "      <td>...</td>\n",
       "      <td>...</td>\n",
       "      <td>...</td>\n",
       "      <td>...</td>\n",
       "      <td>...</td>\n",
       "      <td>...</td>\n",
       "      <td>...</td>\n",
       "      <td>...</td>\n",
       "      <td>...</td>\n",
       "      <td>...</td>\n",
       "      <td>...</td>\n",
       "    </tr>\n",
       "    <tr>\n",
       "      <th>1821</th>\n",
       "      <td>2013</td>\n",
       "      <td>544.077074</td>\n",
       "      <td>492.152011</td>\n",
       "      <td>440.717813</td>\n",
       "      <td>1322.892406</td>\n",
       "      <td>220.910229</td>\n",
       "      <td>314.197509</td>\n",
       "      <td>3.176782</td>\n",
       "      <td>178.536250</td>\n",
       "      <td>186.607975</td>\n",
       "      <td>155.945712</td>\n",
       "      <td>1041.663587</td>\n",
       "      <td>96.809280</td>\n",
       "      <td>7.614444</td>\n",
       "      <td>1.740171</td>\n",
       "      <td>3338.123823</td>\n",
       "      <td>1668.917419</td>\n",
       "    </tr>\n",
       "    <tr>\n",
       "      <th>1822</th>\n",
       "      <td>2014</td>\n",
       "      <td>582.760509</td>\n",
       "      <td>473.624060</td>\n",
       "      <td>510.610305</td>\n",
       "      <td>1378.641352</td>\n",
       "      <td>194.935353</td>\n",
       "      <td>388.515441</td>\n",
       "      <td>2.992830</td>\n",
       "      <td>176.962550</td>\n",
       "      <td>161.877746</td>\n",
       "      <td>164.692531</td>\n",
       "      <td>1063.276691</td>\n",
       "      <td>81.177013</td>\n",
       "      <td>3.625780</td>\n",
       "      <td>1.490409</td>\n",
       "      <td>3532.079849</td>\n",
       "      <td>1653.102719</td>\n",
       "    </tr>\n",
       "    <tr>\n",
       "      <th>1823</th>\n",
       "      <td>2015</td>\n",
       "      <td>719.311572</td>\n",
       "      <td>431.026130</td>\n",
       "      <td>614.810813</td>\n",
       "      <td>1372.064478</td>\n",
       "      <td>252.159259</td>\n",
       "      <td>475.022164</td>\n",
       "      <td>5.811789</td>\n",
       "      <td>200.348137</td>\n",
       "      <td>117.033007</td>\n",
       "      <td>171.380831</td>\n",
       "      <td>1071.682017</td>\n",
       "      <td>95.087314</td>\n",
       "      <td>7.101996</td>\n",
       "      <td>3.074485</td>\n",
       "      <td>3870.206203</td>\n",
       "      <td>1665.707787</td>\n",
       "    </tr>\n",
       "    <tr>\n",
       "      <th>1824</th>\n",
       "      <td>2016</td>\n",
       "      <td>626.756901</td>\n",
       "      <td>418.214079</td>\n",
       "      <td>608.075578</td>\n",
       "      <td>1300.372435</td>\n",
       "      <td>246.134689</td>\n",
       "      <td>494.224053</td>\n",
       "      <td>6.564679</td>\n",
       "      <td>155.884932</td>\n",
       "      <td>126.264095</td>\n",
       "      <td>169.295617</td>\n",
       "      <td>1019.092455</td>\n",
       "      <td>88.330344</td>\n",
       "      <td>9.856227</td>\n",
       "      <td>3.117545</td>\n",
       "      <td>3700.342414</td>\n",
       "      <td>1571.841215</td>\n",
       "    </tr>\n",
       "    <tr>\n",
       "      <th>1825</th>\n",
       "      <td>2017</td>\n",
       "      <td>869.667294</td>\n",
       "      <td>393.998697</td>\n",
       "      <td>735.014830</td>\n",
       "      <td>1221.441451</td>\n",
       "      <td>235.064325</td>\n",
       "      <td>450.845316</td>\n",
       "      <td>12.893584</td>\n",
       "      <td>223.568997</td>\n",
       "      <td>116.745565</td>\n",
       "      <td>224.636885</td>\n",
       "      <td>946.082012</td>\n",
       "      <td>86.530261</td>\n",
       "      <td>8.707937</td>\n",
       "      <td>3.497153</td>\n",
       "      <td>3918.925497</td>\n",
       "      <td>1609.768810</td>\n",
       "    </tr>\n",
       "  </tbody>\n",
       "</table>\n",
       "<p>1826 rows × 17 columns</p>\n",
       "</div>"
      ],
      "text/plain": [
       "      Year  Brakes_Sales  Exhaust_Sales  Other_Tires_Sales  Retail_Tire_Sales  \\\n",
       "0     2009    397.490054      11.329402         179.531798        1521.233767   \n",
       "1     2010    388.790964      18.267819         229.231676        1594.523750   \n",
       "2     2011    397.732499      12.091816         265.017888        1777.466504   \n",
       "3     2012    392.832809      10.485556         273.025582        1776.108337   \n",
       "4     2013    446.312305      13.516711         257.115526        1635.330474   \n",
       "...    ...           ...            ...                ...                ...   \n",
       "1821  2013    544.077074     492.152011         440.717813        1322.892406   \n",
       "1822  2014    582.760509     473.624060         510.610305        1378.641352   \n",
       "1823  2015    719.311572     431.026130         614.810813        1372.064478   \n",
       "1824  2016    626.756901     418.214079         608.075578        1300.372435   \n",
       "1825  2017    869.667294     393.998697         735.014830        1221.441451   \n",
       "\n",
       "      Tire_Shocks_Sales  Tire_Services_Sales  Tire_Wiper_Sales  Brakes_Cost  \\\n",
       "0            116.495537           369.503548          0.000000   113.695014   \n",
       "1            104.035559           392.874079          0.000000   116.344917   \n",
       "2            148.939882           407.494784          0.000000   119.291233   \n",
       "3            178.169847           432.085445          0.845107   127.451450   \n",
       "4            152.118673           421.314732          2.205573   150.560091   \n",
       "...                 ...                  ...               ...          ...   \n",
       "1821         220.910229           314.197509          3.176782   178.536250   \n",
       "1822         194.935353           388.515441          2.992830   176.962550   \n",
       "1823         252.159259           475.022164          5.811789   200.348137   \n",
       "1824         246.134689           494.224053          6.564679   155.884932   \n",
       "1825         235.064325           450.845316         12.893584   223.568997   \n",
       "\n",
       "      Exhaust_Cost  Other_Tires_Cost  Retail_Tire_Cost  Tire_Shocks_Cost  \\\n",
       "0         4.778943         60.918643       1061.868875         44.695519   \n",
       "1         8.723832         82.785077       1121.079579         40.855871   \n",
       "2         5.098805         76.674373       1290.624190         56.037698   \n",
       "3         4.849228         81.321733       1357.046228         73.217151   \n",
       "4         7.044616         73.621044       1288.917395         72.038961   \n",
       "...            ...               ...               ...               ...   \n",
       "1821    186.607975        155.945712       1041.663587         96.809280   \n",
       "1822    161.877746        164.692531       1063.276691         81.177013   \n",
       "1823    117.033007        171.380831       1071.682017         95.087314   \n",
       "1824    126.264095        169.295617       1019.092455         88.330344   \n",
       "1825    116.745565        224.636885        946.082012         86.530261   \n",
       "\n",
       "      Tire_Services_Cost  Tire_Wiper_Cost  Total Sales   Total Cost  \n",
       "0               3.241220         0.000000  2595.584107  1289.198214  \n",
       "1               6.624431         0.000000  2727.723846  1376.413708  \n",
       "2               6.132569         0.000000  3008.743373  1553.858868  \n",
       "3               4.213708         0.395120  3063.552684  1648.494616  \n",
       "4               6.363100         1.073480  2927.913994  1599.618688  \n",
       "...                  ...              ...          ...          ...  \n",
       "1821            7.614444         1.740171  3338.123823  1668.917419  \n",
       "1822            3.625780         1.490409  3532.079849  1653.102719  \n",
       "1823            7.101996         3.074485  3870.206203  1665.707787  \n",
       "1824            9.856227         3.117545  3700.342414  1571.841215  \n",
       "1825            8.707937         3.497153  3918.925497  1609.768810  \n",
       "\n",
       "[1826 rows x 17 columns]"
      ]
     },
     "execution_count": 34,
     "metadata": {},
     "output_type": "execute_result"
    }
   ],
   "source": [
    "df_"
   ]
  },
  {
   "cell_type": "code",
   "execution_count": 35,
   "metadata": {},
   "outputs": [
    {
     "data": {
      "text/plain": [
       "<AxesSubplot:>"
      ]
     },
     "execution_count": 35,
     "metadata": {},
     "output_type": "execute_result"
    },
    {
     "data": {
      "image/png": "[encoded data removed]",
      "text/plain": [
       "<Figure size 1800x720 with 2 Axes>"
      ]
     },
     "metadata": {
      "needs_background": "light"
     },
     "output_type": "display_data"
    }
   ],
   "source": [
    "#Nulos y outliers\n",
    "import missingno as msno\n",
    "msno.matrix(df_)"
   ]
  },
  {
   "cell_type": "code",
   "execution_count": 36,
   "metadata": {},
   "outputs": [
    {
     "name": "stdout",
     "output_type": "stream",
     "text": [
      "Your selected dataframe has 17 columns and 1826 Rows.\n",
      "There are 0 columns that have missing values.\n"
     ]
    },
    {
     "data": {
      "text/html": [
       "<div>\n",
       "<style scoped>\n",
       "    .dataframe tbody tr th:only-of-type {\n",
       "        vertical-align: middle;\n",
       "    }\n",
       "\n",
       "    .dataframe tbody tr th {\n",
       "        vertical-align: top;\n",
       "    }\n",
       "\n",
       "    .dataframe thead th {\n",
       "        text-align: right;\n",
       "    }\n",
       "</style>\n",
       "<table border=\"1\" class=\"dataframe\">\n",
       "  <thead>\n",
       "    <tr style=\"text-align: right;\">\n",
       "      <th></th>\n",
       "      <th>Zero Values</th>\n",
       "      <th>Missing Values</th>\n",
       "      <th>% of Total Values</th>\n",
       "      <th>Total Zero Missing Values</th>\n",
       "      <th>% Total Zero Missing Values</th>\n",
       "      <th>Data Type</th>\n",
       "    </tr>\n",
       "  </thead>\n",
       "  <tbody>\n",
       "  </tbody>\n",
       "</table>\n",
       "</div>"
      ],
      "text/plain": [
       "Empty DataFrame\n",
       "Columns: [Zero Values, Missing Values, % of Total Values, Total Zero Missing Values, % Total Zero Missing Values, Data Type]\n",
       "Index: []"
      ]
     },
     "execution_count": 36,
     "metadata": {},
     "output_type": "execute_result"
    }
   ],
   "source": [
    "def missing_zero_values_table(df):\n",
    "\n",
    "        zero_val = (df == 0.00).astype(int).sum(axis=0)\n",
    "\n",
    "        mis_val = df.isnull().sum()\n",
    "\n",
    "        mis_val_percent = 100 * df.isnull().sum() / len(df)\n",
    "\n",
    "        mz_table = pd.concat([zero_val, mis_val, mis_val_percent], axis=1)\n",
    "\n",
    "        mz_table = mz_table.rename(\n",
    "\n",
    "        columns = {0 : 'Zero Values', 1 : 'Missing Values', 2 : '% of Total Values'})\n",
    "\n",
    "        mz_table['Total Zero Missing Values'] = mz_table['Zero Values'] + mz_table['Missing Values']\n",
    "\n",
    "        mz_table['% Total Zero Missing Values'] = 100 * mz_table['Total Zero Missing Values'] / len(df)\n",
    "\n",
    "        mz_table['Data Type'] = df.dtypes\n",
    "\n",
    "        mz_table = mz_table[\n",
    "\n",
    "            mz_table.iloc[:,1] != 0].sort_values(\n",
    "\n",
    "        '% of Total Values', ascending=False).round(1)\n",
    "\n",
    "        print (\"Your selected dataframe has \" + str(df.shape[1]) + \" columns and \" + str(df.shape[0]) + \" Rows.\\n\"      \n",
    "\n",
    "            \"There are \" + str(mz_table.shape[0]) +\n",
    "\n",
    "              \" columns that have missing values.\")\n",
    "\n",
    "        return mz_table\n",
    "    \n",
    "missing_zero_values_table(df_)"
   ]
  },
  {
   "cell_type": "code",
   "execution_count": 37,
   "metadata": {},
   "outputs": [
    {
     "data": {
      "text/plain": [
       "Index(['Year', 'Brakes_Sales', 'Exhaust_Sales', 'Other_Tires_Sales',\n",
       "       'Retail_Tire_Sales', 'Tire_Shocks_Sales', 'Tire_Services_Sales',\n",
       "       'Tire_Wiper_Sales', 'Brakes_Cost', 'Exhaust_Cost', 'Other_Tires_Cost',\n",
       "       'Retail_Tire_Cost', 'Tire_Shocks_Cost', 'Tire_Services_Cost',\n",
       "       'Tire_Wiper_Cost', 'Total Sales', 'Total Cost'],\n",
       "      dtype='object')"
      ]
     },
     "execution_count": 37,
     "metadata": {},
     "output_type": "execute_result"
    }
   ],
   "source": [
    "df_.columns"
   ]
  },
  {
   "cell_type": "code",
   "execution_count": 38,
   "metadata": {},
   "outputs": [],
   "source": [
    "v_disc = [\"Year\"]\n",
    "target = [\"Total Sales\"]\n",
    "v_cont = [c for c in df_.columns if c not in v_disc+target]"
   ]
  },
  {
   "cell_type": "code",
   "execution_count": 39,
   "metadata": {},
   "outputs": [
    {
     "name": "stderr",
     "output_type": "stream",
     "text": [
      "/opt/anaconda3/lib/python3.9/site-packages/sklearn/base.py:450: UserWarning:\n",
      "\n",
      "X does not have valid feature names, but IsolationForest was fitted with feature names\n",
      "\n"
     ]
    },
    {
     "data": {
      "text/plain": [
       " 1    1461\n",
       "-1     365\n",
       "Name: outlier, dtype: int64"
      ]
     },
     "execution_count": 39,
     "metadata": {},
     "output_type": "execute_result"
    }
   ],
   "source": [
    "#Tratamiento de atipicos\n",
    "# Se utilizará isolation Forest\n",
    "from sklearn.ensemble import IsolationForest\n",
    "\n",
    "# Seleccionamos el conjunto de datos\n",
    "df_iso=df_[v_cont]\n",
    "\n",
    "# Entrenamos el modelo\n",
    "max_features=df_iso.shape[1]\n",
    "n_estimators=50\n",
    "max_samples='auto'\n",
    "contamination=float(0.2)\n",
    "model=IsolationForest(max_features = max_features, n_estimators=n_estimators, max_samples=max_samples, contamination=contamination)\n",
    "model.fit(df_iso)\n",
    "\n",
    "# Predecimos si es Outlier o no\n",
    "df_iso[\"outlier\"]=model.predict(df_iso)\n",
    "# Vemos la proporción\n",
    "df_iso[\"outlier\"].value_counts()"
   ]
  },
  {
   "cell_type": "code",
   "execution_count": 40,
   "metadata": {},
   "outputs": [
    {
     "data": {
      "text/plain": [
       "0.19989047097480833"
      ]
     },
     "execution_count": 40,
     "metadata": {},
     "output_type": "execute_result"
    }
   ],
   "source": [
    "len(df_iso.loc[df_iso[\"outlier\"]==-1])/len(df_)"
   ]
  },
  {
   "cell_type": "code",
   "execution_count": 41,
   "metadata": {},
   "outputs": [],
   "source": [
    "indice_outliers = list(df_iso.loc[df_iso[\"outlier\"]==-1].index)\n",
    "df_.drop(indice_outliers,axis=0,inplace=True,errors=\"ignore\")"
   ]
  },
  {
   "cell_type": "code",
   "execution_count": 42,
   "metadata": {},
   "outputs": [
    {
     "data": {
      "text/plain": [
       "1461"
      ]
     },
     "execution_count": 42,
     "metadata": {},
     "output_type": "execute_result"
    }
   ],
   "source": [
    "df_.shape[0]"
   ]
  },
  {
   "cell_type": "code",
   "execution_count": 43,
   "metadata": {},
   "outputs": [
    {
     "data": {
      "text/html": [
       "        <script type=\"text/javascript\">\n",
       "        window.PlotlyConfig = {MathJaxConfig: 'local'};\n",
       "        if (window.MathJax) {MathJax.Hub.Config({SVG: {font: \"STIX-Web\"}});}\n",
       "        if (typeof require !== 'undefined') {\n",
       "        require.undef(\"plotly\");\n",
       "        requirejs.config({\n",
       "            paths: {\n",
       "                'plotly': ['https://cdn.plot.ly/plotly-2.9.0.min']\n",
       "            }\n",
       "        });\n",
       "        require(['plotly'], function(Plotly) {\n",
       "            window._Plotly = Plotly;\n",
       "        });\n",
       "        }\n",
       "        </script>\n",
       "        "
      ]
     },
     "metadata": {},
     "output_type": "display_data"
    },
    {
     "data": {
      "application/vnd.plotly.v1+json": {
       "config": {
        "linkText": "Export to plot.ly",
        "plotlyServerURL": "https://plot.ly",
        "showLink": true
       },
       "data": [
        {
         "colorscale": [
          [
           0,
           "rgb(255,247,236)"
          ],
          [
           0.125,
           "rgb(254,232,200)"
          ],
          [
           0.25,
           "rgb(253,212,158)"
          ],
          [
           0.375,
           "rgb(253,187,132)"
          ],
          [
           0.5,
           "rgb(252,141,89)"
          ],
          [
           0.625,
           "rgb(239,101,72)"
          ],
          [
           0.75,
           "rgb(215,48,31)"
          ],
          [
           0.875,
           "rgb(179,0,0)"
          ],
          [
           1,
           "rgb(127,0,0)"
          ]
         ],
         "type": "heatmap",
         "x": [
          "Brakes_Sales",
          "Exhaust_Sales",
          "Other_Tires_Sales",
          "Retail_Tire_Sales",
          "Tire_Shocks_Sales",
          "Tire_Services_Sales",
          "Tire_Wiper_Sales",
          "Brakes_Cost",
          "Exhaust_Cost",
          "Other_Tires_Cost",
          "Retail_Tire_Cost",
          "Tire_Shocks_Cost",
          "Tire_Services_Cost",
          "Tire_Wiper_Cost",
          "Total Cost"
         ],
         "y": [
          "Brakes_Sales",
          "Exhaust_Sales",
          "Other_Tires_Sales",
          "Retail_Tire_Sales",
          "Tire_Shocks_Sales",
          "Tire_Services_Sales",
          "Tire_Wiper_Sales",
          "Brakes_Cost",
          "Exhaust_Cost",
          "Other_Tires_Cost",
          "Retail_Tire_Cost",
          "Tire_Shocks_Cost",
          "Tire_Services_Cost",
          "Tire_Wiper_Cost",
          "Total Cost"
         ],
         "z": [
          [
           1,
           0.5936293125382909,
           0.744038088515522,
           0.18405523349608033,
           0.7180050616864903,
           0.47066392855934874,
           0.4154110587586974,
           0.9263660872007502,
           0.5878135510290344,
           0.717184560697968,
           0.2442038933604989,
           0.6948829336371581,
           0.40511264120626533,
           0.4650140264354858,
           0.7733841415702248
          ],
          [
           0.5936293125382909,
           1,
           0.560532189742005,
           -0.06718115174140912,
           0.4571908852103237,
           0.06543689925882043,
           0.22630981789132473,
           0.6234583589697817,
           0.9905187139508836,
           0.5934770217315747,
           0.015832314188474774,
           0.47347741672491184,
           0.1992125751063935,
           0.29175564830879025,
           0.5790593666568513
          ],
          [
           0.744038088515522,
           0.560532189742005,
           1,
           0.11574770850962612,
           0.6336952739443202,
           0.5120652702129512,
           0.7031028739493224,
           0.6025923105939672,
           0.544435844460805,
           0.9349904749466682,
           0.1988061389312154,
           0.5730995154992263,
           0.42364243026366893,
           0.7380736162283619,
           0.7139688186536588
          ],
          [
           0.18405523349608033,
           -0.06718115174140912,
           0.11574770850962612,
           1,
           0.30236004759313617,
           0.3576680748541016,
           -0.02574674423566384,
           0.2070113104308521,
           -0.059444814736068295,
           0.04847557781097201,
           0.919892094673262,
           0.29084754100398186,
           0.23929037265628797,
           0.046974911383919564,
           0.4750112100759969
          ],
          [
           0.7180050616864903,
           0.4571908852103237,
           0.6336952739443202,
           0.30236004759313617,
           1,
           0.5367422789964252,
           0.37247766299697094,
           0.65144445768571,
           0.45339049508105317,
           0.6232755463038572,
           0.35801943613423554,
           0.9687364265536946,
           0.3847284575778132,
           0.4218577583040686,
           0.7356940517545534
          ],
          [
           0.47066392855934874,
           0.06543689925882043,
           0.5120652702129512,
           0.3576680748541016,
           0.5367422789964252,
           1,
           0.5527566404822545,
           0.3341893022724795,
           0.0597110168201982,
           0.4975953083489506,
           0.48039137700906437,
           0.4783441995297713,
           0.7052610455659912,
           0.5553536075408958,
           0.4706757379554645
          ],
          [
           0.4154110587586974,
           0.22630981789132473,
           0.7031028739493224,
           -0.02574674423566384,
           0.37247766299697094,
           0.5527566404822545,
           1,
           0.24034488948241725,
           0.2138865890580296,
           0.6503015439465073,
           0.14695675891302623,
           0.30434012903786184,
           0.5001275062020445,
           0.9630309228461048,
           0.4211693609926415
          ],
          [
           0.9263660872007502,
           0.6234583589697817,
           0.6025923105939672,
           0.2070113104308521,
           0.65144445768571,
           0.3341893022724795,
           0.24034488948241725,
           1,
           0.6326044720526529,
           0.5942596984328904,
           0.268669672104748,
           0.6831318418452118,
           0.3421512440789,
           0.32641610727652276,
           0.770987973155538
          ],
          [
           0.5878135510290344,
           0.9905187139508836,
           0.544435844460805,
           -0.059444814736068295,
           0.45339049508105317,
           0.0597110168201982,
           0.2138865890580296,
           0.6326044720526529,
           1,
           0.5814578858433012,
           0.024861381459910428,
           0.47918458045784945,
           0.19978182049479826,
           0.28527488135787277,
           0.5835125018684396
          ],
          [
           0.717184560697968,
           0.5934770217315747,
           0.9349904749466682,
           0.04847557781097201,
           0.6232755463038572,
           0.4975953083489506,
           0.6503015439465073,
           0.5942596984328904,
           0.5814578858433012,
           1,
           0.16073325383186815,
           0.5741503054839503,
           0.47063244068433546,
           0.688307699013227,
           0.7114224257931064
          ],
          [
           0.2442038933604989,
           0.015832314188474774,
           0.1988061389312154,
           0.919892094673262,
           0.35801943613423554,
           0.48039137700906437,
           0.14695675891302623,
           0.268669672104748,
           0.024861381459910428,
           0.16073325383186815,
           1,
           0.35262717505584645,
           0.4029615110270477,
           0.2213466528933179,
           0.6006472157049499
          ],
          [
           0.6948829336371581,
           0.47347741672491184,
           0.5730995154992263,
           0.29084754100398186,
           0.9687364265536946,
           0.4783441995297713,
           0.30434012903786184,
           0.6831318418452118,
           0.47918458045784945,
           0.5741503054839503,
           0.35262717505584645,
           1,
           0.37553210872448095,
           0.3695096764078441,
           0.7353647008184346
          ],
          [
           0.40511264120626533,
           0.1992125751063935,
           0.42364243026366893,
           0.23929037265628797,
           0.3847284575778132,
           0.7052610455659912,
           0.5001275062020445,
           0.3421512440789,
           0.19978182049479826,
           0.47063244068433546,
           0.4029615110270477,
           0.37553210872448095,
           1,
           0.5310628288627744,
           0.44870299237938016
          ],
          [
           0.4650140264354858,
           0.29175564830879025,
           0.7380736162283619,
           0.046974911383919564,
           0.4218577583040686,
           0.5553536075408958,
           0.9630309228461048,
           0.32641610727652276,
           0.28527488135787277,
           0.688307699013227,
           0.2213466528933179,
           0.3695096764078441,
           0.5310628288627744,
           1,
           0.5143000905934944
          ],
          [
           0.7733841415702248,
           0.5790593666568513,
           0.7139688186536588,
           0.4750112100759969,
           0.7356940517545534,
           0.4706757379554645,
           0.4211693609926415,
           0.770987973155538,
           0.5835125018684396,
           0.7114224257931064,
           0.6006472157049499,
           0.7353647008184346,
           0.44870299237938016,
           0.5143000905934944,
           1
          ]
         ],
         "zmax": 1,
         "zmin": -0.06718115174140912
        }
       ],
       "layout": {
        "legend": {
         "bgcolor": "#F5F6F9",
         "font": {
          "color": "#4D5663"
         }
        },
        "paper_bgcolor": "#F5F6F9",
        "plot_bgcolor": "#F5F6F9",
        "template": {
         "data": {
          "bar": [
           {
            "error_x": {
             "color": "#2a3f5f"
            },
            "error_y": {
             "color": "#2a3f5f"
            },
            "marker": {
             "line": {
              "color": "#E5ECF6",
              "width": 0.5
             },
             "pattern": {
              "fillmode": "overlay",
              "size": 10,
              "solidity": 0.2
             }
            },
            "type": "bar"
           }
          ],
          "barpolar": [
           {
            "marker": {
             "line": {
              "color": "#E5ECF6",
              "width": 0.5
             },
             "pattern": {
              "fillmode": "overlay",
              "size": 10,
              "solidity": 0.2
             }
            },
            "type": "barpolar"
           }
          ],
          "carpet": [
           {
            "aaxis": {
             "endlinecolor": "#2a3f5f",
             "gridcolor": "white",
             "linecolor": "white",
             "minorgridcolor": "white",
             "startlinecolor": "#2a3f5f"
            },
            "baxis": {
             "endlinecolor": "#2a3f5f",
             "gridcolor": "white",
             "linecolor": "white",
             "minorgridcolor": "white",
             "startlinecolor": "#2a3f5f"
            },
            "type": "carpet"
           }
          ],
          "choropleth": [
           {
            "colorbar": {
             "outlinewidth": 0,
             "ticks": ""
            },
            "type": "choropleth"
           }
          ],
          "contour": [
           {
            "colorbar": {
             "outlinewidth": 0,
             "ticks": ""
            },
            "colorscale": [
             [
              0,
              "#0d0887"
             ],
             [
              0.1111111111111111,
              "#46039f"
             ],
             [
              0.2222222222222222,
              "#7201a8"
             ],
             [
              0.3333333333333333,
              "#9c179e"
             ],
             [
              0.4444444444444444,
              "#bd3786"
             ],
             [
              0.5555555555555556,
              "#d8576b"
             ],
             [
              0.6666666666666666,
              "#ed7953"
             ],
             [
              0.7777777777777778,
              "#fb9f3a"
             ],
             [
              0.8888888888888888,
              "#fdca26"
             ],
             [
              1,
              "#f0f921"
             ]
            ],
            "type": "contour"
           }
          ],
          "contourcarpet": [
           {
            "colorbar": {
             "outlinewidth": 0,
             "ticks": ""
            },
            "type": "contourcarpet"
           }
          ],
          "heatmap": [
           {
            "colorbar": {
             "outlinewidth": 0,
             "ticks": ""
            },
            "colorscale": [
             [
              0,
              "#0d0887"
             ],
             [
              0.1111111111111111,
              "#46039f"
             ],
             [
              0.2222222222222222,
              "#7201a8"
             ],
             [
              0.3333333333333333,
              "#9c179e"
             ],
             [
              0.4444444444444444,
              "#bd3786"
             ],
             [
              0.5555555555555556,
              "#d8576b"
             ],
             [
              0.6666666666666666,
              "#ed7953"
             ],
             [
              0.7777777777777778,
              "#fb9f3a"
             ],
             [
              0.8888888888888888,
              "#fdca26"
             ],
             [
              1,
              "#f0f921"
             ]
            ],
            "type": "heatmap"
           }
          ],
          "heatmapgl": [
           {
            "colorbar": {
             "outlinewidth": 0,
             "ticks": ""
            },
            "colorscale": [
             [
              0,
              "#0d0887"
             ],
             [
              0.1111111111111111,
              "#46039f"
             ],
             [
              0.2222222222222222,
              "#7201a8"
             ],
             [
              0.3333333333333333,
              "#9c179e"
             ],
             [
              0.4444444444444444,
              "#bd3786"
             ],
             [
              0.5555555555555556,
              "#d8576b"
             ],
             [
              0.6666666666666666,
              "#ed7953"
             ],
             [
              0.7777777777777778,
              "#fb9f3a"
             ],
             [
              0.8888888888888888,
              "#fdca26"
             ],
             [
              1,
              "#f0f921"
             ]
            ],
            "type": "heatmapgl"
           }
          ],
          "histogram": [
           {
            "marker": {
             "pattern": {
              "fillmode": "overlay",
              "size": 10,
              "solidity": 0.2
             }
            },
            "type": "histogram"
           }
          ],
          "histogram2d": [
           {
            "colorbar": {
             "outlinewidth": 0,
             "ticks": ""
            },
            "colorscale": [
             [
              0,
              "#0d0887"
             ],
             [
              0.1111111111111111,
              "#46039f"
             ],
             [
              0.2222222222222222,
              "#7201a8"
             ],
             [
              0.3333333333333333,
              "#9c179e"
             ],
             [
              0.4444444444444444,
              "#bd3786"
             ],
             [
              0.5555555555555556,
              "#d8576b"
             ],
             [
              0.6666666666666666,
              "#ed7953"
             ],
             [
              0.7777777777777778,
              "#fb9f3a"
             ],
             [
              0.8888888888888888,
              "#fdca26"
             ],
             [
              1,
              "#f0f921"
             ]
            ],
            "type": "histogram2d"
           }
          ],
          "histogram2dcontour": [
           {
            "colorbar": {
             "outlinewidth": 0,
             "ticks": ""
            },
            "colorscale": [
             [
              0,
              "#0d0887"
             ],
             [
              0.1111111111111111,
              "#46039f"
             ],
             [
              0.2222222222222222,
              "#7201a8"
             ],
             [
              0.3333333333333333,
              "#9c179e"
             ],
             [
              0.4444444444444444,
              "#bd3786"
             ],
             [
              0.5555555555555556,
              "#d8576b"
             ],
             [
              0.6666666666666666,
              "#ed7953"
             ],
             [
              0.7777777777777778,
              "#fb9f3a"
             ],
             [
              0.8888888888888888,
              "#fdca26"
             ],
             [
              1,
              "#f0f921"
             ]
            ],
            "type": "histogram2dcontour"
           }
          ],
          "mesh3d": [
           {
            "colorbar": {
             "outlinewidth": 0,
             "ticks": ""
            },
            "type": "mesh3d"
           }
          ],
          "parcoords": [
           {
            "line": {
             "colorbar": {
              "outlinewidth": 0,
              "ticks": ""
             }
            },
            "type": "parcoords"
           }
          ],
          "pie": [
           {
            "automargin": true,
            "type": "pie"
           }
          ],
          "scatter": [
           {
            "marker": {
             "colorbar": {
              "outlinewidth": 0,
              "ticks": ""
             }
            },
            "type": "scatter"
           }
          ],
          "scatter3d": [
           {
            "line": {
             "colorbar": {
              "outlinewidth": 0,
              "ticks": ""
             }
            },
            "marker": {
             "colorbar": {
              "outlinewidth": 0,
              "ticks": ""
             }
            },
            "type": "scatter3d"
           }
          ],
          "scattercarpet": [
           {
            "marker": {
             "colorbar": {
              "outlinewidth": 0,
              "ticks": ""
             }
            },
            "type": "scattercarpet"
           }
          ],
          "scattergeo": [
           {
            "marker": {
             "colorbar": {
              "outlinewidth": 0,
              "ticks": ""
             }
            },
            "type": "scattergeo"
           }
          ],
          "scattergl": [
           {
            "marker": {
             "colorbar": {
              "outlinewidth": 0,
              "ticks": ""
             }
            },
            "type": "scattergl"
           }
          ],
          "scattermapbox": [
           {
            "marker": {
             "colorbar": {
              "outlinewidth": 0,
              "ticks": ""
             }
            },
            "type": "scattermapbox"
           }
          ],
          "scatterpolar": [
           {
            "marker": {
             "colorbar": {
              "outlinewidth": 0,
              "ticks": ""
             }
            },
            "type": "scatterpolar"
           }
          ],
          "scatterpolargl": [
           {
            "marker": {
             "colorbar": {
              "outlinewidth": 0,
              "ticks": ""
             }
            },
            "type": "scatterpolargl"
           }
          ],
          "scatterternary": [
           {
            "marker": {
             "colorbar": {
              "outlinewidth": 0,
              "ticks": ""
             }
            },
            "type": "scatterternary"
           }
          ],
          "surface": [
           {
            "colorbar": {
             "outlinewidth": 0,
             "ticks": ""
            },
            "colorscale": [
             [
              0,
              "#0d0887"
             ],
             [
              0.1111111111111111,
              "#46039f"
             ],
             [
              0.2222222222222222,
              "#7201a8"
             ],
             [
              0.3333333333333333,
              "#9c179e"
             ],
             [
              0.4444444444444444,
              "#bd3786"
             ],
             [
              0.5555555555555556,
              "#d8576b"
             ],
             [
              0.6666666666666666,
              "#ed7953"
             ],
             [
              0.7777777777777778,
              "#fb9f3a"
             ],
             [
              0.8888888888888888,
              "#fdca26"
             ],
             [
              1,
              "#f0f921"
             ]
            ],
            "type": "surface"
           }
          ],
          "table": [
           {
            "cells": {
             "fill": {
              "color": "#EBF0F8"
             },
             "line": {
              "color": "white"
             }
            },
            "header": {
             "fill": {
              "color": "#C8D4E3"
             },
             "line": {
              "color": "white"
             }
            },
            "type": "table"
           }
          ]
         },
         "layout": {
          "annotationdefaults": {
           "arrowcolor": "#2a3f5f",
           "arrowhead": 0,
           "arrowwidth": 1
          },
          "autotypenumbers": "strict",
          "coloraxis": {
           "colorbar": {
            "outlinewidth": 0,
            "ticks": ""
           }
          },
          "colorscale": {
           "diverging": [
            [
             0,
             "#8e0152"
            ],
            [
             0.1,
             "#c51b7d"
            ],
            [
             0.2,
             "#de77ae"
            ],
            [
             0.3,
             "#f1b6da"
            ],
            [
             0.4,
             "#fde0ef"
            ],
            [
             0.5,
             "#f7f7f7"
            ],
            [
             0.6,
             "#e6f5d0"
            ],
            [
             0.7,
             "#b8e186"
            ],
            [
             0.8,
             "#7fbc41"
            ],
            [
             0.9,
             "#4d9221"
            ],
            [
             1,
             "#276419"
            ]
           ],
           "sequential": [
            [
             0,
             "#0d0887"
            ],
            [
             0.1111111111111111,
             "#46039f"
            ],
            [
             0.2222222222222222,
             "#7201a8"
            ],
            [
             0.3333333333333333,
             "#9c179e"
            ],
            [
             0.4444444444444444,
             "#bd3786"
            ],
            [
             0.5555555555555556,
             "#d8576b"
            ],
            [
             0.6666666666666666,
             "#ed7953"
            ],
            [
             0.7777777777777778,
             "#fb9f3a"
            ],
            [
             0.8888888888888888,
             "#fdca26"
            ],
            [
             1,
             "#f0f921"
            ]
           ],
           "sequentialminus": [
            [
             0,
             "#0d0887"
            ],
            [
             0.1111111111111111,
             "#46039f"
            ],
            [
             0.2222222222222222,
             "#7201a8"
            ],
            [
             0.3333333333333333,
             "#9c179e"
            ],
            [
             0.4444444444444444,
             "#bd3786"
            ],
            [
             0.5555555555555556,
             "#d8576b"
            ],
            [
             0.6666666666666666,
             "#ed7953"
            ],
            [
             0.7777777777777778,
             "#fb9f3a"
            ],
            [
             0.8888888888888888,
             "#fdca26"
            ],
            [
             1,
             "#f0f921"
            ]
           ]
          },
          "colorway": [
           "#636efa",
           "#EF553B",
           "#00cc96",
           "#ab63fa",
           "#FFA15A",
           "#19d3f3",
           "#FF6692",
           "#B6E880",
           "#FF97FF",
           "#FECB52"
          ],
          "font": {
           "color": "#2a3f5f"
          },
          "geo": {
           "bgcolor": "white",
           "lakecolor": "white",
           "landcolor": "#E5ECF6",
           "showlakes": true,
           "showland": true,
           "subunitcolor": "white"
          },
          "hoverlabel": {
           "align": "left"
          },
          "hovermode": "closest",
          "mapbox": {
           "style": "light"
          },
          "paper_bgcolor": "white",
          "plot_bgcolor": "#E5ECF6",
          "polar": {
           "angularaxis": {
            "gridcolor": "white",
            "linecolor": "white",
            "ticks": ""
           },
           "bgcolor": "#E5ECF6",
           "radialaxis": {
            "gridcolor": "white",
            "linecolor": "white",
            "ticks": ""
           }
          },
          "scene": {
           "xaxis": {
            "backgroundcolor": "#E5ECF6",
            "gridcolor": "white",
            "gridwidth": 2,
            "linecolor": "white",
            "showbackground": true,
            "ticks": "",
            "zerolinecolor": "white"
           },
           "yaxis": {
            "backgroundcolor": "#E5ECF6",
            "gridcolor": "white",
            "gridwidth": 2,
            "linecolor": "white",
            "showbackground": true,
            "ticks": "",
            "zerolinecolor": "white"
           },
           "zaxis": {
            "backgroundcolor": "#E5ECF6",
            "gridcolor": "white",
            "gridwidth": 2,
            "linecolor": "white",
            "showbackground": true,
            "ticks": "",
            "zerolinecolor": "white"
           }
          },
          "shapedefaults": {
           "line": {
            "color": "#2a3f5f"
           }
          },
          "ternary": {
           "aaxis": {
            "gridcolor": "white",
            "linecolor": "white",
            "ticks": ""
           },
           "baxis": {
            "gridcolor": "white",
            "linecolor": "white",
            "ticks": ""
           },
           "bgcolor": "#E5ECF6",
           "caxis": {
            "gridcolor": "white",
            "linecolor": "white",
            "ticks": ""
           }
          },
          "title": {
           "x": 0.05
          },
          "xaxis": {
           "automargin": true,
           "gridcolor": "white",
           "linecolor": "white",
           "ticks": "",
           "title": {
            "standoff": 15
           },
           "zerolinecolor": "white",
           "zerolinewidth": 2
          },
          "yaxis": {
           "automargin": true,
           "gridcolor": "white",
           "linecolor": "white",
           "ticks": "",
           "title": {
            "standoff": 15
           },
           "zerolinecolor": "white",
           "zerolinewidth": 2
          }
         }
        },
        "title": {
         "font": {
          "color": "#4D5663"
         },
         "text": "Correlation Matrix"
        },
        "xaxis": {
         "gridcolor": "#E1E5ED",
         "showgrid": true,
         "tickfont": {
          "color": "#4D5663"
         },
         "title": {
          "font": {
           "color": "#4D5663"
          },
          "text": ""
         },
         "zerolinecolor": "#E1E5ED"
        },
        "yaxis": {
         "gridcolor": "#E1E5ED",
         "showgrid": true,
         "tickfont": {
          "color": "#4D5663"
         },
         "title": {
          "font": {
           "color": "#4D5663"
          },
          "text": ""
         },
         "zerolinecolor": "#E1E5ED"
        }
       }
      },
      "text/html": [
       "<div>                            <div id=\"331728dd-11c1-4671-ab09-32f87e173658\" class=\"plotly-graph-div\" style=\"height:525px; width:100%;\"></div>            <script type=\"text/javascript\">                require([\"plotly\"], function(Plotly) {                    window.PLOTLYENV=window.PLOTLYENV || {};\n",
       "                    window.PLOTLYENV.BASE_URL='https://plot.ly';                                    if (document.getElementById(\"331728dd-11c1-4671-ab09-32f87e173658\")) {                    Plotly.newPlot(                        \"331728dd-11c1-4671-ab09-32f87e173658\",                        [{\"colorscale\":[[0.0,\"rgb(255,247,236)\"],[0.125,\"rgb(254,232,200)\"],[0.25,\"rgb(253,212,158)\"],[0.375,\"rgb(253,187,132)\"],[0.5,\"rgb(252,141,89)\"],[0.625,\"rgb(239,101,72)\"],[0.75,\"rgb(215,48,31)\"],[0.875,\"rgb(179,0,0)\"],[1.0,\"rgb(127,0,0)\"]],\"x\":[\"Brakes_Sales\",\"Exhaust_Sales\",\"Other_Tires_Sales\",\"Retail_Tire_Sales\",\"Tire_Shocks_Sales\",\"Tire_Services_Sales\",\"Tire_Wiper_Sales\",\"Brakes_Cost\",\"Exhaust_Cost\",\"Other_Tires_Cost\",\"Retail_Tire_Cost\",\"Tire_Shocks_Cost\",\"Tire_Services_Cost\",\"Tire_Wiper_Cost\",\"Total Cost\"],\"y\":[\"Brakes_Sales\",\"Exhaust_Sales\",\"Other_Tires_Sales\",\"Retail_Tire_Sales\",\"Tire_Shocks_Sales\",\"Tire_Services_Sales\",\"Tire_Wiper_Sales\",\"Brakes_Cost\",\"Exhaust_Cost\",\"Other_Tires_Cost\",\"Retail_Tire_Cost\",\"Tire_Shocks_Cost\",\"Tire_Services_Cost\",\"Tire_Wiper_Cost\",\"Total Cost\"],\"z\":[[1.0,0.5936293125382909,0.744038088515522,0.18405523349608033,0.7180050616864903,0.47066392855934874,0.4154110587586974,0.9263660872007502,0.5878135510290344,0.717184560697968,0.2442038933604989,0.6948829336371581,0.40511264120626533,0.4650140264354858,0.7733841415702248],[0.5936293125382909,1.0,0.560532189742005,-0.06718115174140912,0.4571908852103237,0.06543689925882043,0.22630981789132473,0.6234583589697817,0.9905187139508836,0.5934770217315747,0.015832314188474774,0.47347741672491184,0.1992125751063935,0.29175564830879025,0.5790593666568513],[0.744038088515522,0.560532189742005,1.0,0.11574770850962612,0.6336952739443202,0.5120652702129512,0.7031028739493224,0.6025923105939672,0.544435844460805,0.9349904749466682,0.1988061389312154,0.5730995154992263,0.42364243026366893,0.7380736162283619,0.7139688186536588],[0.18405523349608033,-0.06718115174140912,0.11574770850962612,1.0,0.30236004759313617,0.3576680748541016,-0.02574674423566384,0.2070113104308521,-0.059444814736068295,0.04847557781097201,0.919892094673262,0.29084754100398186,0.23929037265628797,0.046974911383919564,0.4750112100759969],[0.7180050616864903,0.4571908852103237,0.6336952739443202,0.30236004759313617,1.0,0.5367422789964252,0.37247766299697094,0.65144445768571,0.45339049508105317,0.6232755463038572,0.35801943613423554,0.9687364265536946,0.3847284575778132,0.4218577583040686,0.7356940517545534],[0.47066392855934874,0.06543689925882043,0.5120652702129512,0.3576680748541016,0.5367422789964252,1.0,0.5527566404822545,0.3341893022724795,0.0597110168201982,0.4975953083489506,0.48039137700906437,0.4783441995297713,0.7052610455659912,0.5553536075408958,0.4706757379554645],[0.4154110587586974,0.22630981789132473,0.7031028739493224,-0.02574674423566384,0.37247766299697094,0.5527566404822545,1.0,0.24034488948241725,0.2138865890580296,0.6503015439465073,0.14695675891302623,0.30434012903786184,0.5001275062020445,0.9630309228461048,0.4211693609926415],[0.9263660872007502,0.6234583589697817,0.6025923105939672,0.2070113104308521,0.65144445768571,0.3341893022724795,0.24034488948241725,1.0,0.6326044720526529,0.5942596984328904,0.268669672104748,0.6831318418452118,0.3421512440789,0.32641610727652276,0.770987973155538],[0.5878135510290344,0.9905187139508836,0.544435844460805,-0.059444814736068295,0.45339049508105317,0.0597110168201982,0.2138865890580296,0.6326044720526529,1.0,0.5814578858433012,0.024861381459910428,0.47918458045784945,0.19978182049479826,0.28527488135787277,0.5835125018684396],[0.717184560697968,0.5934770217315747,0.9349904749466682,0.04847557781097201,0.6232755463038572,0.4975953083489506,0.6503015439465073,0.5942596984328904,0.5814578858433012,1.0,0.16073325383186815,0.5741503054839503,0.47063244068433546,0.688307699013227,0.7114224257931064],[0.2442038933604989,0.015832314188474774,0.1988061389312154,0.919892094673262,0.35801943613423554,0.48039137700906437,0.14695675891302623,0.268669672104748,0.024861381459910428,0.16073325383186815,1.0,0.35262717505584645,0.4029615110270477,0.2213466528933179,0.6006472157049499],[0.6948829336371581,0.47347741672491184,0.5730995154992263,0.29084754100398186,0.9687364265536946,0.4783441995297713,0.30434012903786184,0.6831318418452118,0.47918458045784945,0.5741503054839503,0.35262717505584645,1.0,0.37553210872448095,0.3695096764078441,0.7353647008184346],[0.40511264120626533,0.1992125751063935,0.42364243026366893,0.23929037265628797,0.3847284575778132,0.7052610455659912,0.5001275062020445,0.3421512440789,0.19978182049479826,0.47063244068433546,0.4029615110270477,0.37553210872448095,1.0,0.5310628288627744,0.44870299237938016],[0.4650140264354858,0.29175564830879025,0.7380736162283619,0.046974911383919564,0.4218577583040686,0.5553536075408958,0.9630309228461048,0.32641610727652276,0.28527488135787277,0.688307699013227,0.2213466528933179,0.3695096764078441,0.5310628288627744,1.0,0.5143000905934944],[0.7733841415702248,0.5790593666568513,0.7139688186536588,0.4750112100759969,0.7356940517545534,0.4706757379554645,0.4211693609926415,0.770987973155538,0.5835125018684396,0.7114224257931064,0.6006472157049499,0.7353647008184346,0.44870299237938016,0.5143000905934944,1.0]],\"zmax\":1.0,\"zmin\":-0.06718115174140912,\"type\":\"heatmap\"}],                        {\"legend\":{\"bgcolor\":\"#F5F6F9\",\"font\":{\"color\":\"#4D5663\"}},\"paper_bgcolor\":\"#F5F6F9\",\"plot_bgcolor\":\"#F5F6F9\",\"template\":{\"data\":{\"barpolar\":[{\"marker\":{\"line\":{\"color\":\"#E5ECF6\",\"width\":0.5},\"pattern\":{\"fillmode\":\"overlay\",\"size\":10,\"solidity\":0.2}},\"type\":\"barpolar\"}],\"bar\":[{\"error_x\":{\"color\":\"#2a3f5f\"},\"error_y\":{\"color\":\"#2a3f5f\"},\"marker\":{\"line\":{\"color\":\"#E5ECF6\",\"width\":0.5},\"pattern\":{\"fillmode\":\"overlay\",\"size\":10,\"solidity\":0.2}},\"type\":\"bar\"}],\"carpet\":[{\"aaxis\":{\"endlinecolor\":\"#2a3f5f\",\"gridcolor\":\"white\",\"linecolor\":\"white\",\"minorgridcolor\":\"white\",\"startlinecolor\":\"#2a3f5f\"},\"baxis\":{\"endlinecolor\":\"#2a3f5f\",\"gridcolor\":\"white\",\"linecolor\":\"white\",\"minorgridcolor\":\"white\",\"startlinecolor\":\"#2a3f5f\"},\"type\":\"carpet\"}],\"choropleth\":[{\"colorbar\":{\"outlinewidth\":0,\"ticks\":\"\"},\"type\":\"choropleth\"}],\"contourcarpet\":[{\"colorbar\":{\"outlinewidth\":0,\"ticks\":\"\"},\"type\":\"contourcarpet\"}],\"contour\":[{\"colorbar\":{\"outlinewidth\":0,\"ticks\":\"\"},\"colorscale\":[[0.0,\"#0d0887\"],[0.1111111111111111,\"#46039f\"],[0.2222222222222222,\"#7201a8\"],[0.3333333333333333,\"#9c179e\"],[0.4444444444444444,\"#bd3786\"],[0.5555555555555556,\"#d8576b\"],[0.6666666666666666,\"#ed7953\"],[0.7777777777777778,\"#fb9f3a\"],[0.8888888888888888,\"#fdca26\"],[1.0,\"#f0f921\"]],\"type\":\"contour\"}],\"heatmapgl\":[{\"colorbar\":{\"outlinewidth\":0,\"ticks\":\"\"},\"colorscale\":[[0.0,\"#0d0887\"],[0.1111111111111111,\"#46039f\"],[0.2222222222222222,\"#7201a8\"],[0.3333333333333333,\"#9c179e\"],[0.4444444444444444,\"#bd3786\"],[0.5555555555555556,\"#d8576b\"],[0.6666666666666666,\"#ed7953\"],[0.7777777777777778,\"#fb9f3a\"],[0.8888888888888888,\"#fdca26\"],[1.0,\"#f0f921\"]],\"type\":\"heatmapgl\"}],\"heatmap\":[{\"colorbar\":{\"outlinewidth\":0,\"ticks\":\"\"},\"colorscale\":[[0.0,\"#0d0887\"],[0.1111111111111111,\"#46039f\"],[0.2222222222222222,\"#7201a8\"],[0.3333333333333333,\"#9c179e\"],[0.4444444444444444,\"#bd3786\"],[0.5555555555555556,\"#d8576b\"],[0.6666666666666666,\"#ed7953\"],[0.7777777777777778,\"#fb9f3a\"],[0.8888888888888888,\"#fdca26\"],[1.0,\"#f0f921\"]],\"type\":\"heatmap\"}],\"histogram2dcontour\":[{\"colorbar\":{\"outlinewidth\":0,\"ticks\":\"\"},\"colorscale\":[[0.0,\"#0d0887\"],[0.1111111111111111,\"#46039f\"],[0.2222222222222222,\"#7201a8\"],[0.3333333333333333,\"#9c179e\"],[0.4444444444444444,\"#bd3786\"],[0.5555555555555556,\"#d8576b\"],[0.6666666666666666,\"#ed7953\"],[0.7777777777777778,\"#fb9f3a\"],[0.8888888888888888,\"#fdca26\"],[1.0,\"#f0f921\"]],\"type\":\"histogram2dcontour\"}],\"histogram2d\":[{\"colorbar\":{\"outlinewidth\":0,\"ticks\":\"\"},\"colorscale\":[[0.0,\"#0d0887\"],[0.1111111111111111,\"#46039f\"],[0.2222222222222222,\"#7201a8\"],[0.3333333333333333,\"#9c179e\"],[0.4444444444444444,\"#bd3786\"],[0.5555555555555556,\"#d8576b\"],[0.6666666666666666,\"#ed7953\"],[0.7777777777777778,\"#fb9f3a\"],[0.8888888888888888,\"#fdca26\"],[1.0,\"#f0f921\"]],\"type\":\"histogram2d\"}],\"histogram\":[{\"marker\":{\"pattern\":{\"fillmode\":\"overlay\",\"size\":10,\"solidity\":0.2}},\"type\":\"histogram\"}],\"mesh3d\":[{\"colorbar\":{\"outlinewidth\":0,\"ticks\":\"\"},\"type\":\"mesh3d\"}],\"parcoords\":[{\"line\":{\"colorbar\":{\"outlinewidth\":0,\"ticks\":\"\"}},\"type\":\"parcoords\"}],\"pie\":[{\"automargin\":true,\"type\":\"pie\"}],\"scatter3d\":[{\"line\":{\"colorbar\":{\"outlinewidth\":0,\"ticks\":\"\"}},\"marker\":{\"colorbar\":{\"outlinewidth\":0,\"ticks\":\"\"}},\"type\":\"scatter3d\"}],\"scattercarpet\":[{\"marker\":{\"colorbar\":{\"outlinewidth\":0,\"ticks\":\"\"}},\"type\":\"scattercarpet\"}],\"scattergeo\":[{\"marker\":{\"colorbar\":{\"outlinewidth\":0,\"ticks\":\"\"}},\"type\":\"scattergeo\"}],\"scattergl\":[{\"marker\":{\"colorbar\":{\"outlinewidth\":0,\"ticks\":\"\"}},\"type\":\"scattergl\"}],\"scattermapbox\":[{\"marker\":{\"colorbar\":{\"outlinewidth\":0,\"ticks\":\"\"}},\"type\":\"scattermapbox\"}],\"scatterpolargl\":[{\"marker\":{\"colorbar\":{\"outlinewidth\":0,\"ticks\":\"\"}},\"type\":\"scatterpolargl\"}],\"scatterpolar\":[{\"marker\":{\"colorbar\":{\"outlinewidth\":0,\"ticks\":\"\"}},\"type\":\"scatterpolar\"}],\"scatter\":[{\"marker\":{\"colorbar\":{\"outlinewidth\":0,\"ticks\":\"\"}},\"type\":\"scatter\"}],\"scatterternary\":[{\"marker\":{\"colorbar\":{\"outlinewidth\":0,\"ticks\":\"\"}},\"type\":\"scatterternary\"}],\"surface\":[{\"colorbar\":{\"outlinewidth\":0,\"ticks\":\"\"},\"colorscale\":[[0.0,\"#0d0887\"],[0.1111111111111111,\"#46039f\"],[0.2222222222222222,\"#7201a8\"],[0.3333333333333333,\"#9c179e\"],[0.4444444444444444,\"#bd3786\"],[0.5555555555555556,\"#d8576b\"],[0.6666666666666666,\"#ed7953\"],[0.7777777777777778,\"#fb9f3a\"],[0.8888888888888888,\"#fdca26\"],[1.0,\"#f0f921\"]],\"type\":\"surface\"}],\"table\":[{\"cells\":{\"fill\":{\"color\":\"#EBF0F8\"},\"line\":{\"color\":\"white\"}},\"header\":{\"fill\":{\"color\":\"#C8D4E3\"},\"line\":{\"color\":\"white\"}},\"type\":\"table\"}]},\"layout\":{\"annotationdefaults\":{\"arrowcolor\":\"#2a3f5f\",\"arrowhead\":0,\"arrowwidth\":1},\"autotypenumbers\":\"strict\",\"coloraxis\":{\"colorbar\":{\"outlinewidth\":0,\"ticks\":\"\"}},\"colorscale\":{\"diverging\":[[0,\"#8e0152\"],[0.1,\"#c51b7d\"],[0.2,\"#de77ae\"],[0.3,\"#f1b6da\"],[0.4,\"#fde0ef\"],[0.5,\"#f7f7f7\"],[0.6,\"#e6f5d0\"],[0.7,\"#b8e186\"],[0.8,\"#7fbc41\"],[0.9,\"#4d9221\"],[1,\"#276419\"]],\"sequential\":[[0.0,\"#0d0887\"],[0.1111111111111111,\"#46039f\"],[0.2222222222222222,\"#7201a8\"],[0.3333333333333333,\"#9c179e\"],[0.4444444444444444,\"#bd3786\"],[0.5555555555555556,\"#d8576b\"],[0.6666666666666666,\"#ed7953\"],[0.7777777777777778,\"#fb9f3a\"],[0.8888888888888888,\"#fdca26\"],[1.0,\"#f0f921\"]],\"sequentialminus\":[[0.0,\"#0d0887\"],[0.1111111111111111,\"#46039f\"],[0.2222222222222222,\"#7201a8\"],[0.3333333333333333,\"#9c179e\"],[0.4444444444444444,\"#bd3786\"],[0.5555555555555556,\"#d8576b\"],[0.6666666666666666,\"#ed7953\"],[0.7777777777777778,\"#fb9f3a\"],[0.8888888888888888,\"#fdca26\"],[1.0,\"#f0f921\"]]},\"colorway\":[\"#636efa\",\"#EF553B\",\"#00cc96\",\"#ab63fa\",\"#FFA15A\",\"#19d3f3\",\"#FF6692\",\"#B6E880\",\"#FF97FF\",\"#FECB52\"],\"font\":{\"color\":\"#2a3f5f\"},\"geo\":{\"bgcolor\":\"white\",\"lakecolor\":\"white\",\"landcolor\":\"#E5ECF6\",\"showlakes\":true,\"showland\":true,\"subunitcolor\":\"white\"},\"hoverlabel\":{\"align\":\"left\"},\"hovermode\":\"closest\",\"mapbox\":{\"style\":\"light\"},\"paper_bgcolor\":\"white\",\"plot_bgcolor\":\"#E5ECF6\",\"polar\":{\"angularaxis\":{\"gridcolor\":\"white\",\"linecolor\":\"white\",\"ticks\":\"\"},\"bgcolor\":\"#E5ECF6\",\"radialaxis\":{\"gridcolor\":\"white\",\"linecolor\":\"white\",\"ticks\":\"\"}},\"scene\":{\"xaxis\":{\"backgroundcolor\":\"#E5ECF6\",\"gridcolor\":\"white\",\"gridwidth\":2,\"linecolor\":\"white\",\"showbackground\":true,\"ticks\":\"\",\"zerolinecolor\":\"white\"},\"yaxis\":{\"backgroundcolor\":\"#E5ECF6\",\"gridcolor\":\"white\",\"gridwidth\":2,\"linecolor\":\"white\",\"showbackground\":true,\"ticks\":\"\",\"zerolinecolor\":\"white\"},\"zaxis\":{\"backgroundcolor\":\"#E5ECF6\",\"gridcolor\":\"white\",\"gridwidth\":2,\"linecolor\":\"white\",\"showbackground\":true,\"ticks\":\"\",\"zerolinecolor\":\"white\"}},\"shapedefaults\":{\"line\":{\"color\":\"#2a3f5f\"}},\"ternary\":{\"aaxis\":{\"gridcolor\":\"white\",\"linecolor\":\"white\",\"ticks\":\"\"},\"baxis\":{\"gridcolor\":\"white\",\"linecolor\":\"white\",\"ticks\":\"\"},\"bgcolor\":\"#E5ECF6\",\"caxis\":{\"gridcolor\":\"white\",\"linecolor\":\"white\",\"ticks\":\"\"}},\"title\":{\"x\":0.05},\"xaxis\":{\"automargin\":true,\"gridcolor\":\"white\",\"linecolor\":\"white\",\"ticks\":\"\",\"title\":{\"standoff\":15},\"zerolinecolor\":\"white\",\"zerolinewidth\":2},\"yaxis\":{\"automargin\":true,\"gridcolor\":\"white\",\"linecolor\":\"white\",\"ticks\":\"\",\"title\":{\"standoff\":15},\"zerolinecolor\":\"white\",\"zerolinewidth\":2}}},\"title\":{\"font\":{\"color\":\"#4D5663\"},\"text\":\"Correlation Matrix\"},\"xaxis\":{\"gridcolor\":\"#E1E5ED\",\"showgrid\":true,\"tickfont\":{\"color\":\"#4D5663\"},\"title\":{\"font\":{\"color\":\"#4D5663\"},\"text\":\"\"},\"zerolinecolor\":\"#E1E5ED\"},\"yaxis\":{\"gridcolor\":\"#E1E5ED\",\"showgrid\":true,\"tickfont\":{\"color\":\"#4D5663\"},\"title\":{\"font\":{\"color\":\"#4D5663\"},\"text\":\"\"},\"zerolinecolor\":\"#E1E5ED\"}},                        {\"showLink\": true, \"linkText\": \"Export to plot.ly\", \"plotlyServerURL\": \"https://plot.ly\", \"responsive\": true}                    ).then(function(){\n",
       "                            \n",
       "var gd = document.getElementById('331728dd-11c1-4671-ab09-32f87e173658');\n",
       "var x = new MutationObserver(function (mutations, observer) {{\n",
       "        var display = window.getComputedStyle(gd).display;\n",
       "        if (!display || display === 'none') {{\n",
       "            console.log([gd, 'removed!']);\n",
       "            Plotly.purge(gd);\n",
       "            observer.disconnect();\n",
       "        }}\n",
       "}});\n",
       "\n",
       "// Listen for the removal of the full notebook cells\n",
       "var notebookContainer = gd.closest('#notebook-container');\n",
       "if (notebookContainer) {{\n",
       "    x.observe(notebookContainer, {childList: true});\n",
       "}}\n",
       "\n",
       "// Listen for the clearing of the current output cell\n",
       "var outputEl = gd.closest('.output');\n",
       "if (outputEl) {{\n",
       "    x.observe(outputEl, {childList: true});\n",
       "}}\n",
       "\n",
       "                        })                };                });            </script>        </div>"
      ]
     },
     "metadata": {},
     "output_type": "display_data"
    }
   ],
   "source": [
    "import plotly\n",
    "import plotly.graph_objects as go\n",
    "import plotly.express as px\n",
    "from plotly.offline import plot,iplot\n",
    "import cufflinks as cf\n",
    "pd.options.plotting.backend = \"plotly\"\n",
    "cf.go_offline()\n",
    "#Veamos las correlaciones entre variables conyinuas\n",
    "df_[[x for x in v_cont]].corr(method=\"spearman\").iplot(kind=\"heatmap\",colorscale=\"orrd\",title=\"Correlation Matrix\")"
   ]
  },
  {
   "cell_type": "code",
   "execution_count": 44,
   "metadata": {},
   "outputs": [],
   "source": [
    "#De las correlaciones obtenidas con el target sacamos su valor absoluto\n",
    "correlacion_target=df[v_cont+target].corr(method=\"spearman\")\n",
    "correlacion_target=abs(correlacion_target)"
   ]
  },
  {
   "cell_type": "code",
   "execution_count": 46,
   "metadata": {},
   "outputs": [
    {
     "data": {
      "text/html": [
       "<style type=\"text/css\">\n",
       "#T_87a6f_row0_col0 {\n",
       "  background-color: #023858;\n",
       "  color: #f1f1f1;\n",
       "}\n",
       "#T_87a6f_row1_col0 {\n",
       "  background-color: #034e7b;\n",
       "  color: #f1f1f1;\n",
       "}\n",
       "#T_87a6f_row2_col0 {\n",
       "  background-color: #045382;\n",
       "  color: #f1f1f1;\n",
       "}\n",
       "#T_87a6f_row3_col0 {\n",
       "  background-color: #045e94;\n",
       "  color: #f1f1f1;\n",
       "}\n",
       "#T_87a6f_row4_col0 {\n",
       "  background-color: #046096;\n",
       "  color: #f1f1f1;\n",
       "}\n",
       "#T_87a6f_row5_col0 {\n",
       "  background-color: #056ba7;\n",
       "  color: #f1f1f1;\n",
       "}\n",
       "#T_87a6f_row6_col0 {\n",
       "  background-color: #1e80b8;\n",
       "  color: #f1f1f1;\n",
       "}\n",
       "#T_87a6f_row7_col0 {\n",
       "  background-color: #2987bc;\n",
       "  color: #f1f1f1;\n",
       "}\n",
       "#T_87a6f_row8_col0 {\n",
       "  background-color: #4094c3;\n",
       "  color: #f1f1f1;\n",
       "}\n",
       "#T_87a6f_row9_col0 {\n",
       "  background-color: #509ac6;\n",
       "  color: #f1f1f1;\n",
       "}\n",
       "#T_87a6f_row10_col0 {\n",
       "  background-color: #5c9fc9;\n",
       "  color: #f1f1f1;\n",
       "}\n",
       "#T_87a6f_row11_col0 {\n",
       "  background-color: #99b8d8;\n",
       "  color: #000000;\n",
       "}\n",
       "#T_87a6f_row12_col0 {\n",
       "  background-color: #b0c2de;\n",
       "  color: #000000;\n",
       "}\n",
       "#T_87a6f_row13_col0 {\n",
       "  background-color: #dfddec;\n",
       "  color: #000000;\n",
       "}\n",
       "#T_87a6f_row14_col0 {\n",
       "  background-color: #efe9f3;\n",
       "  color: #000000;\n",
       "}\n",
       "#T_87a6f_row15_col0 {\n",
       "  background-color: #fff7fb;\n",
       "  color: #000000;\n",
       "}\n",
       "</style>\n",
       "<table id=\"T_87a6f\">\n",
       "  <thead>\n",
       "    <tr>\n",
       "      <th class=\"blank level0\" >&nbsp;</th>\n",
       "      <th id=\"T_87a6f_level0_col0\" class=\"col_heading level0 col0\" >Total Sales</th>\n",
       "    </tr>\n",
       "  </thead>\n",
       "  <tbody>\n",
       "    <tr>\n",
       "      <th id=\"T_87a6f_level0_row0\" class=\"row_heading level0 row0\" >Total Sales</th>\n",
       "      <td id=\"T_87a6f_row0_col0\" class=\"data row0 col0\" >1.000000</td>\n",
       "    </tr>\n",
       "    <tr>\n",
       "      <th id=\"T_87a6f_level0_row1\" class=\"row_heading level0 row1\" >Total Cost</th>\n",
       "      <td id=\"T_87a6f_row1_col0\" class=\"data row1 col0\" >0.918065</td>\n",
       "    </tr>\n",
       "    <tr>\n",
       "      <th id=\"T_87a6f_level0_row2\" class=\"row_heading level0 row2\" >Other_Tires_Sales</th>\n",
       "      <td id=\"T_87a6f_row2_col0\" class=\"data row2 col0\" >0.899862</td>\n",
       "    </tr>\n",
       "    <tr>\n",
       "      <th id=\"T_87a6f_level0_row3\" class=\"row_heading level0 row3\" >Other_Tires_Cost</th>\n",
       "      <td id=\"T_87a6f_row3_col0\" class=\"data row3 col0\" >0.851261</td>\n",
       "    </tr>\n",
       "    <tr>\n",
       "      <th id=\"T_87a6f_level0_row4\" class=\"row_heading level0 row4\" >Brakes_Sales</th>\n",
       "      <td id=\"T_87a6f_row4_col0\" class=\"data row4 col0\" >0.841862</td>\n",
       "    </tr>\n",
       "    <tr>\n",
       "      <th id=\"T_87a6f_level0_row5\" class=\"row_heading level0 row5\" >Brakes_Cost</th>\n",
       "      <td id=\"T_87a6f_row5_col0\" class=\"data row5 col0\" >0.780082</td>\n",
       "    </tr>\n",
       "    <tr>\n",
       "      <th id=\"T_87a6f_level0_row6\" class=\"row_heading level0 row6\" >Tire_Shocks_Sales</th>\n",
       "      <td id=\"T_87a6f_row6_col0\" class=\"data row6 col0\" >0.686292</td>\n",
       "    </tr>\n",
       "    <tr>\n",
       "      <th id=\"T_87a6f_level0_row7\" class=\"row_heading level0 row7\" >Tire_Shocks_Cost</th>\n",
       "      <td id=\"T_87a6f_row7_col0\" class=\"data row7 col0\" >0.660434</td>\n",
       "    </tr>\n",
       "    <tr>\n",
       "      <th id=\"T_87a6f_level0_row8\" class=\"row_heading level0 row8\" >Tire_Wiper_Sales</th>\n",
       "      <td id=\"T_87a6f_row8_col0\" class=\"data row8 col0\" >0.603076</td>\n",
       "    </tr>\n",
       "    <tr>\n",
       "      <th id=\"T_87a6f_level0_row9\" class=\"row_heading level0 row9\" >Exhaust_Sales</th>\n",
       "      <td id=\"T_87a6f_row9_col0\" class=\"data row9 col0\" >0.573396</td>\n",
       "    </tr>\n",
       "    <tr>\n",
       "      <th id=\"T_87a6f_level0_row10\" class=\"row_heading level0 row10\" >Exhaust_Cost</th>\n",
       "      <td id=\"T_87a6f_row10_col0\" class=\"data row10 col0\" >0.548874</td>\n",
       "    </tr>\n",
       "    <tr>\n",
       "      <th id=\"T_87a6f_level0_row11\" class=\"row_heading level0 row11\" >Tire_Wiper_Cost</th>\n",
       "      <td id=\"T_87a6f_row11_col0\" class=\"data row11 col0\" >0.409964</td>\n",
       "    </tr>\n",
       "    <tr>\n",
       "      <th id=\"T_87a6f_level0_row12\" class=\"row_heading level0 row12\" >Tire_Services_Sales</th>\n",
       "      <td id=\"T_87a6f_row12_col0\" class=\"data row12 col0\" >0.346497</td>\n",
       "    </tr>\n",
       "    <tr>\n",
       "      <th id=\"T_87a6f_level0_row13\" class=\"row_heading level0 row13\" >Tire_Services_Cost</th>\n",
       "      <td id=\"T_87a6f_row13_col0\" class=\"data row13 col0\" >0.189538</td>\n",
       "    </tr>\n",
       "    <tr>\n",
       "      <th id=\"T_87a6f_level0_row14\" class=\"row_heading level0 row14\" >Retail_Tire_Cost</th>\n",
       "      <td id=\"T_87a6f_row14_col0\" class=\"data row14 col0\" >0.111071</td>\n",
       "    </tr>\n",
       "    <tr>\n",
       "      <th id=\"T_87a6f_level0_row15\" class=\"row_heading level0 row15\" >Retail_Tire_Sales</th>\n",
       "      <td id=\"T_87a6f_row15_col0\" class=\"data row15 col0\" >0.003305</td>\n",
       "    </tr>\n",
       "  </tbody>\n",
       "</table>\n"
      ],
      "text/plain": [
       "<pandas.io.formats.style.Styler at 0x16cd71130>"
      ]
     },
     "execution_count": 46,
     "metadata": {},
     "output_type": "execute_result"
    }
   ],
   "source": [
    "correlacion_target[target].sort_values(by =target,ascending = False).style.background_gradient()"
   ]
  },
  {
   "cell_type": "code",
   "execution_count": 48,
   "metadata": {},
   "outputs": [],
   "source": [
    "#Variables de modelo\n",
    "X=df_[v_cont+v_disc] #Variables predictoras\n",
    "y=df_[target] #Variable objetivo"
   ]
  },
  {
   "cell_type": "code",
   "execution_count": 49,
   "metadata": {},
   "outputs": [],
   "source": [
    "#Dividimos nuestros datos en conjunto de prueba y conjunto de entrenamiento\n",
    "from sklearn.model_selection import train_test_split\n",
    "X_train, X_test, y_train, y_test = train_test_split(X, y,test_size = 0.15, random_state = 0)"
   ]
  },
  {
   "cell_type": "code",
   "execution_count": 50,
   "metadata": {},
   "outputs": [
    {
     "data": {
      "text/plain": [
       "16"
      ]
     },
     "execution_count": 50,
     "metadata": {},
     "output_type": "execute_result"
    }
   ],
   "source": [
    "X_train.shape[1]"
   ]
  },
  {
   "cell_type": "code",
   "execution_count": 51,
   "metadata": {},
   "outputs": [],
   "source": [
    "from sklearn.feature_selection import SelectKBest, f_classif, f_regression\n",
    "kb = SelectKBest(k = 12, score_func=f_regression) #De las 16 variables solo vamos a seleccionar las 12 mejores"
   ]
  },
  {
   "cell_type": "code",
   "execution_count": 52,
   "metadata": {},
   "outputs": [
    {
     "name": "stderr",
     "output_type": "stream",
     "text": [
      "/opt/anaconda3/lib/python3.9/site-packages/sklearn/utils/validation.py:1111: DataConversionWarning:\n",
      "\n",
      "A column-vector y was passed when a 1d array was expected. Please change the shape of y to (n_samples, ), for example using ravel().\n",
      "\n"
     ]
    },
    {
     "data": {
      "text/html": [
       "<style>#sk-container-id-1 {color: black;background-color: white;}#sk-container-id-1 pre{padding: 0;}#sk-container-id-1 div.sk-toggleable {background-color: white;}#sk-container-id-1 label.sk-toggleable__label {cursor: pointer;display: block;width: 100%;margin-bottom: 0;padding: 0.3em;box-sizing: border-box;text-align: center;}#sk-container-id-1 label.sk-toggleable__label-arrow:before {content: \"▸\";float: left;margin-right: 0.25em;color: #696969;}#sk-container-id-1 label.sk-toggleable__label-arrow:hover:before {color: black;}#sk-container-id-1 div.sk-estimator:hover label.sk-toggleable__label-arrow:before {color: black;}#sk-container-id-1 div.sk-toggleable__content {max-height: 0;max-width: 0;overflow: hidden;text-align: left;background-color: #f0f8ff;}#sk-container-id-1 div.sk-toggleable__content pre {margin: 0.2em;color: black;border-radius: 0.25em;background-color: #f0f8ff;}#sk-container-id-1 input.sk-toggleable__control:checked~div.sk-toggleable__content {max-height: 200px;max-width: 100%;overflow: auto;}#sk-container-id-1 input.sk-toggleable__control:checked~label.sk-toggleable__label-arrow:before {content: \"▾\";}#sk-container-id-1 div.sk-estimator input.sk-toggleable__control:checked~label.sk-toggleable__label {background-color: #d4ebff;}#sk-container-id-1 div.sk-label input.sk-toggleable__control:checked~label.sk-toggleable__label {background-color: #d4ebff;}#sk-container-id-1 input.sk-hidden--visually {border: 0;clip: rect(1px 1px 1px 1px);clip: rect(1px, 1px, 1px, 1px);height: 1px;margin: -1px;overflow: hidden;padding: 0;position: absolute;width: 1px;}#sk-container-id-1 div.sk-estimator {font-family: monospace;background-color: #f0f8ff;border: 1px dotted black;border-radius: 0.25em;box-sizing: border-box;margin-bottom: 0.5em;}#sk-container-id-1 div.sk-estimator:hover {background-color: #d4ebff;}#sk-container-id-1 div.sk-parallel-item::after {content: \"\";width: 100%;border-bottom: 1px solid gray;flex-grow: 1;}#sk-container-id-1 div.sk-label:hover label.sk-toggleable__label {background-color: #d4ebff;}#sk-container-id-1 div.sk-serial::before {content: \"\";position: absolute;border-left: 1px solid gray;box-sizing: border-box;top: 0;bottom: 0;left: 50%;z-index: 0;}#sk-container-id-1 div.sk-serial {display: flex;flex-direction: column;align-items: center;background-color: white;padding-right: 0.2em;padding-left: 0.2em;position: relative;}#sk-container-id-1 div.sk-item {position: relative;z-index: 1;}#sk-container-id-1 div.sk-parallel {display: flex;align-items: stretch;justify-content: center;background-color: white;position: relative;}#sk-container-id-1 div.sk-item::before, #sk-container-id-1 div.sk-parallel-item::before {content: \"\";position: absolute;border-left: 1px solid gray;box-sizing: border-box;top: 0;bottom: 0;left: 50%;z-index: -1;}#sk-container-id-1 div.sk-parallel-item {display: flex;flex-direction: column;z-index: 1;position: relative;background-color: white;}#sk-container-id-1 div.sk-parallel-item:first-child::after {align-self: flex-end;width: 50%;}#sk-container-id-1 div.sk-parallel-item:last-child::after {align-self: flex-start;width: 50%;}#sk-container-id-1 div.sk-parallel-item:only-child::after {width: 0;}#sk-container-id-1 div.sk-dashed-wrapped {border: 1px dashed gray;margin: 0 0.4em 0.5em 0.4em;box-sizing: border-box;padding-bottom: 0.4em;background-color: white;}#sk-container-id-1 div.sk-label label {font-family: monospace;font-weight: bold;display: inline-block;line-height: 1.2em;}#sk-container-id-1 div.sk-label-container {text-align: center;}#sk-container-id-1 div.sk-container {/* jupyter's `normalize.less` sets `[hidden] { display: none; }` but bootstrap.min.css set `[hidden] { display: none !important; }` so we also need the `!important` here to be able to override the default hidden behavior on the sphinx rendered scikit-learn.org. See: https://github.com/scikit-learn/scikit-learn/issues/21755 */display: inline-block !important;position: relative;}#sk-container-id-1 div.sk-text-repr-fallback {display: none;}</style><div id=\"sk-container-id-1\" class=\"sk-top-container\"><div class=\"sk-text-repr-fallback\"><pre>SelectKBest(k=12, score_func=&lt;function f_regression at 0x16cdc8700&gt;)</pre><b>In a Jupyter environment, please rerun this cell to show the HTML representation or trust the notebook. <br />On GitHub, the HTML representation is unable to render, please try loading this page with nbviewer.org.</b></div><div class=\"sk-container\" hidden><div class=\"sk-item\"><div class=\"sk-estimator sk-toggleable\"><input class=\"sk-toggleable__control sk-hidden--visually\" id=\"sk-estimator-id-1\" type=\"checkbox\" checked><label for=\"sk-estimator-id-1\" class=\"sk-toggleable__label sk-toggleable__label-arrow\">SelectKBest</label><div class=\"sk-toggleable__content\"><pre>SelectKBest(k=12, score_func=&lt;function f_regression at 0x16cdc8700&gt;)</pre></div></div></div></div></div>"
      ],
      "text/plain": [
       "SelectKBest(k=12, score_func=<function f_regression at 0x16cdc8700>)"
      ]
     },
     "execution_count": 52,
     "metadata": {},
     "output_type": "execute_result"
    }
   ],
   "source": [
    "kb.fit(X_train, y_train) #Cargamos la instancia"
   ]
  },
  {
   "cell_type": "code",
   "execution_count": 53,
   "metadata": {},
   "outputs": [],
   "source": [
    "ls_best = [x for x, y in zip(X.columns, kb.get_support()) if y] #Creamos la lista con las mejores variables"
   ]
  },
  {
   "cell_type": "code",
   "execution_count": 54,
   "metadata": {},
   "outputs": [
    {
     "data": {
      "text/plain": [
       "['Brakes_Sales',\n",
       " 'Exhaust_Sales',\n",
       " 'Other_Tires_Sales',\n",
       " 'Retail_Tire_Sales',\n",
       " 'Tire_Shocks_Sales',\n",
       " 'Tire_Services_Sales',\n",
       " 'Brakes_Cost',\n",
       " 'Exhaust_Cost',\n",
       " 'Other_Tires_Cost',\n",
       " 'Retail_Tire_Cost',\n",
       " 'Tire_Shocks_Cost',\n",
       " 'Total Cost']"
      ]
     },
     "execution_count": 54,
     "metadata": {},
     "output_type": "execute_result"
    }
   ],
   "source": [
    "ls_best"
   ]
  },
  {
   "cell_type": "code",
   "execution_count": 55,
   "metadata": {},
   "outputs": [],
   "source": [
    "X_train=X_train[ls_best] #Quitamos las columnas inecesarias en los subconjunto de entrenamiento y prueba\n",
    "X_test=X_test[ls_best]"
   ]
  },
  {
   "cell_type": "code",
   "execution_count": 56,
   "metadata": {},
   "outputs": [],
   "source": [
    "from sklearn.linear_model import LogisticRegression, LinearRegression\n",
    "linreg = LinearRegression() #Creamos la instancia"
   ]
  },
  {
   "cell_type": "code",
   "execution_count": 57,
   "metadata": {},
   "outputs": [
    {
     "data": {
      "text/html": [
       "<style>#sk-container-id-2 {color: black;background-color: white;}#sk-container-id-2 pre{padding: 0;}#sk-container-id-2 div.sk-toggleable {background-color: white;}#sk-container-id-2 label.sk-toggleable__label {cursor: pointer;display: block;width: 100%;margin-bottom: 0;padding: 0.3em;box-sizing: border-box;text-align: center;}#sk-container-id-2 label.sk-toggleable__label-arrow:before {content: \"▸\";float: left;margin-right: 0.25em;color: #696969;}#sk-container-id-2 label.sk-toggleable__label-arrow:hover:before {color: black;}#sk-container-id-2 div.sk-estimator:hover label.sk-toggleable__label-arrow:before {color: black;}#sk-container-id-2 div.sk-toggleable__content {max-height: 0;max-width: 0;overflow: hidden;text-align: left;background-color: #f0f8ff;}#sk-container-id-2 div.sk-toggleable__content pre {margin: 0.2em;color: black;border-radius: 0.25em;background-color: #f0f8ff;}#sk-container-id-2 input.sk-toggleable__control:checked~div.sk-toggleable__content {max-height: 200px;max-width: 100%;overflow: auto;}#sk-container-id-2 input.sk-toggleable__control:checked~label.sk-toggleable__label-arrow:before {content: \"▾\";}#sk-container-id-2 div.sk-estimator input.sk-toggleable__control:checked~label.sk-toggleable__label {background-color: #d4ebff;}#sk-container-id-2 div.sk-label input.sk-toggleable__control:checked~label.sk-toggleable__label {background-color: #d4ebff;}#sk-container-id-2 input.sk-hidden--visually {border: 0;clip: rect(1px 1px 1px 1px);clip: rect(1px, 1px, 1px, 1px);height: 1px;margin: -1px;overflow: hidden;padding: 0;position: absolute;width: 1px;}#sk-container-id-2 div.sk-estimator {font-family: monospace;background-color: #f0f8ff;border: 1px dotted black;border-radius: 0.25em;box-sizing: border-box;margin-bottom: 0.5em;}#sk-container-id-2 div.sk-estimator:hover {background-color: #d4ebff;}#sk-container-id-2 div.sk-parallel-item::after {content: \"\";width: 100%;border-bottom: 1px solid gray;flex-grow: 1;}#sk-container-id-2 div.sk-label:hover label.sk-toggleable__label {background-color: #d4ebff;}#sk-container-id-2 div.sk-serial::before {content: \"\";position: absolute;border-left: 1px solid gray;box-sizing: border-box;top: 0;bottom: 0;left: 50%;z-index: 0;}#sk-container-id-2 div.sk-serial {display: flex;flex-direction: column;align-items: center;background-color: white;padding-right: 0.2em;padding-left: 0.2em;position: relative;}#sk-container-id-2 div.sk-item {position: relative;z-index: 1;}#sk-container-id-2 div.sk-parallel {display: flex;align-items: stretch;justify-content: center;background-color: white;position: relative;}#sk-container-id-2 div.sk-item::before, #sk-container-id-2 div.sk-parallel-item::before {content: \"\";position: absolute;border-left: 1px solid gray;box-sizing: border-box;top: 0;bottom: 0;left: 50%;z-index: -1;}#sk-container-id-2 div.sk-parallel-item {display: flex;flex-direction: column;z-index: 1;position: relative;background-color: white;}#sk-container-id-2 div.sk-parallel-item:first-child::after {align-self: flex-end;width: 50%;}#sk-container-id-2 div.sk-parallel-item:last-child::after {align-self: flex-start;width: 50%;}#sk-container-id-2 div.sk-parallel-item:only-child::after {width: 0;}#sk-container-id-2 div.sk-dashed-wrapped {border: 1px dashed gray;margin: 0 0.4em 0.5em 0.4em;box-sizing: border-box;padding-bottom: 0.4em;background-color: white;}#sk-container-id-2 div.sk-label label {font-family: monospace;font-weight: bold;display: inline-block;line-height: 1.2em;}#sk-container-id-2 div.sk-label-container {text-align: center;}#sk-container-id-2 div.sk-container {/* jupyter's `normalize.less` sets `[hidden] { display: none; }` but bootstrap.min.css set `[hidden] { display: none !important; }` so we also need the `!important` here to be able to override the default hidden behavior on the sphinx rendered scikit-learn.org. See: https://github.com/scikit-learn/scikit-learn/issues/21755 */display: inline-block !important;position: relative;}#sk-container-id-2 div.sk-text-repr-fallback {display: none;}</style><div id=\"sk-container-id-2\" class=\"sk-top-container\"><div class=\"sk-text-repr-fallback\"><pre>LinearRegression()</pre><b>In a Jupyter environment, please rerun this cell to show the HTML representation or trust the notebook. <br />On GitHub, the HTML representation is unable to render, please try loading this page with nbviewer.org.</b></div><div class=\"sk-container\" hidden><div class=\"sk-item\"><div class=\"sk-estimator sk-toggleable\"><input class=\"sk-toggleable__control sk-hidden--visually\" id=\"sk-estimator-id-2\" type=\"checkbox\" checked><label for=\"sk-estimator-id-2\" class=\"sk-toggleable__label sk-toggleable__label-arrow\">LinearRegression</label><div class=\"sk-toggleable__content\"><pre>LinearRegression()</pre></div></div></div></div></div>"
      ],
      "text/plain": [
       "LinearRegression()"
      ]
     },
     "execution_count": 57,
     "metadata": {},
     "output_type": "execute_result"
    }
   ],
   "source": [
    "linreg.fit(X_train, y_train) #Entrenamos el modelo"
   ]
  },
  {
   "cell_type": "code",
   "execution_count": 58,
   "metadata": {},
   "outputs": [
    {
     "data": {
      "text/plain": [
       "array([[2084.71055697],\n",
       "       [ 611.98211641],\n",
       "       [2199.23558062],\n",
       "       [2873.8831706 ],\n",
       "       [3003.56064556],\n",
       "       [2829.88216126],\n",
       "       [2955.92269876],\n",
       "       [2861.39604372],\n",
       "       [2330.90799123],\n",
       "       [4114.26740957],\n",
       "       [2489.68374422],\n",
       "       [3905.47473421],\n",
       "       [2734.31209181],\n",
       "       [2165.61800961],\n",
       "       [3009.88653283],\n",
       "       [3017.39184874],\n",
       "       [3040.7351858 ],\n",
       "       [2608.19364618],\n",
       "       [4230.62172512],\n",
       "       [2389.59054276],\n",
       "       [2906.69052781],\n",
       "       [3003.67018684],\n",
       "       [4494.88282412],\n",
       "       [2404.5643325 ],\n",
       "       [3014.26275245],\n",
       "       [2307.60279108],\n",
       "       [2826.15056053],\n",
       "       [2787.30465665],\n",
       "       [3084.90093462],\n",
       "       [3038.86818331],\n",
       "       [3019.06497748],\n",
       "       [3265.08399036],\n",
       "       [2468.98487806],\n",
       "       [2927.60719073],\n",
       "       [3002.11072129],\n",
       "       [1878.26248779],\n",
       "       [3786.08874966],\n",
       "       [2212.94936272],\n",
       "       [2528.91018688],\n",
       "       [3335.31680521],\n",
       "       [2815.44489089],\n",
       "       [3663.69179411],\n",
       "       [2441.39857546],\n",
       "       [3167.20777932],\n",
       "       [2343.45108492],\n",
       "       [2486.4695172 ],\n",
       "       [4113.74933155],\n",
       "       [2411.26220691],\n",
       "       [2511.89465303],\n",
       "       [ 702.6898033 ],\n",
       "       [3644.18896107],\n",
       "       [ 346.35773642],\n",
       "       [2588.27701697],\n",
       "       [2393.69547134],\n",
       "       [2498.476956  ],\n",
       "       [3105.4079306 ],\n",
       "       [2354.5220301 ],\n",
       "       [2371.99681907],\n",
       "       [2873.79084219],\n",
       "       [2729.31746216],\n",
       "       [2728.9968076 ],\n",
       "       [3145.25483573],\n",
       "       [2411.01209974],\n",
       "       [2534.51195418],\n",
       "       [2397.82367363],\n",
       "       [2869.30574278],\n",
       "       [2772.97598187],\n",
       "       [3402.28974915],\n",
       "       [2730.91400474],\n",
       "       [3665.76236717],\n",
       "       [2828.54413935],\n",
       "       [2174.03047134],\n",
       "       [2144.4145869 ],\n",
       "       [3623.88048747],\n",
       "       [2698.6416526 ],\n",
       "       [3067.28618461],\n",
       "       [2878.28202574],\n",
       "       [2790.61905512],\n",
       "       [2799.59479016],\n",
       "       [2545.27931422],\n",
       "       [3259.096709  ],\n",
       "       [2183.40887743],\n",
       "       [2741.15721131],\n",
       "       [2756.45183646],\n",
       "       [3202.38498415],\n",
       "       [2460.2627143 ],\n",
       "       [3270.72166187],\n",
       "       [2333.12944843],\n",
       "       [2653.80588526],\n",
       "       [3069.92331329],\n",
       "       [2777.01638699],\n",
       "       [2286.22578867],\n",
       "       [2761.1116848 ],\n",
       "       [3065.85314802],\n",
       "       [2269.27030138],\n",
       "       [2635.88411562],\n",
       "       [2681.05672313],\n",
       "       [3099.32311104],\n",
       "       [ 572.8517987 ],\n",
       "       [1920.16322957],\n",
       "       [3189.54312554],\n",
       "       [2446.88875469],\n",
       "       [2905.68406444],\n",
       "       [ 711.87245271],\n",
       "       [2409.16747118],\n",
       "       [2826.08270628],\n",
       "       [3166.30312413],\n",
       "       [2547.35926012],\n",
       "       [2631.45791969],\n",
       "       [2526.60834025],\n",
       "       [2568.57463754],\n",
       "       [3337.44953093],\n",
       "       [4352.39489728],\n",
       "       [2779.0114348 ],\n",
       "       [2550.33403117],\n",
       "       [3725.70968824],\n",
       "       [2850.08160895],\n",
       "       [2674.34025168],\n",
       "       [2973.62383628],\n",
       "       [2115.01107336],\n",
       "       [4879.55126145],\n",
       "       [2768.33833969],\n",
       "       [3859.0628329 ],\n",
       "       [2839.87263212],\n",
       "       [2813.26540493],\n",
       "       [4017.6339167 ],\n",
       "       [2588.67222847],\n",
       "       [2237.50828051],\n",
       "       [2675.46970081],\n",
       "       [1982.5234598 ],\n",
       "       [2266.56379966],\n",
       "       [2556.6268564 ],\n",
       "       [2533.20235194],\n",
       "       [2364.23461061],\n",
       "       [3986.82122664],\n",
       "       [2706.18051151],\n",
       "       [3377.47433299],\n",
       "       [3348.68986032],\n",
       "       [2931.03461365],\n",
       "       [2577.52534   ],\n",
       "       [3330.04702488],\n",
       "       [2498.96253706],\n",
       "       [2946.26593538],\n",
       "       [2564.46873362],\n",
       "       [2366.66092118],\n",
       "       [2954.42786292],\n",
       "       [3104.21709466],\n",
       "       [2379.10634149],\n",
       "       [4884.00992165],\n",
       "       [2370.65780005],\n",
       "       [2893.05298089],\n",
       "       [2747.31169369],\n",
       "       [2576.78046124],\n",
       "       [3532.18175674],\n",
       "       [2090.57680963],\n",
       "       [3988.57687621],\n",
       "       [ 290.2790905 ],\n",
       "       [2618.73642936],\n",
       "       [2598.45916595],\n",
       "       [2750.12105078],\n",
       "       [3085.65718908],\n",
       "       [ 518.90112274],\n",
       "       [2980.49374516],\n",
       "       [3441.13950778],\n",
       "       [2072.89566592],\n",
       "       [3052.55214204],\n",
       "       [2156.9945506 ],\n",
       "       [2583.33792993],\n",
       "       [2588.18890056],\n",
       "       [2868.03742712],\n",
       "       [2313.87821102],\n",
       "       [4008.58377869],\n",
       "       [2723.47084246],\n",
       "       [2669.26811678],\n",
       "       [1987.16347958],\n",
       "       [ 530.72480594],\n",
       "       [ 527.26980445],\n",
       "       [3213.73926031],\n",
       "       [2773.83403052],\n",
       "       [2370.05911462],\n",
       "       [2032.55766108],\n",
       "       [2388.72932567],\n",
       "       [2556.94835275],\n",
       "       [3058.08333381],\n",
       "       [2715.30416375],\n",
       "       [3532.47749503],\n",
       "       [2112.22722032],\n",
       "       [2884.67837901],\n",
       "       [2462.95750466],\n",
       "       [2696.48762983],\n",
       "       [2660.51027046],\n",
       "       [2537.05870668],\n",
       "       [2384.59930619],\n",
       "       [3381.61652321],\n",
       "       [2118.37781328],\n",
       "       [3396.15346651],\n",
       "       [3948.79767187],\n",
       "       [2061.85154098],\n",
       "       [2508.05944308],\n",
       "       [2613.11881799],\n",
       "       [4255.49977209],\n",
       "       [ 721.36991979],\n",
       "       [2596.08026367],\n",
       "       [1873.35318052],\n",
       "       [2473.55153163],\n",
       "       [2645.29690921],\n",
       "       [3521.7317202 ],\n",
       "       [3922.33653399],\n",
       "       [2172.53014967],\n",
       "       [2953.62360048],\n",
       "       [5161.93644671],\n",
       "       [3486.1929411 ],\n",
       "       [2232.45110042],\n",
       "       [3372.8149706 ],\n",
       "       [3848.43788075],\n",
       "       [2530.18260375],\n",
       "       [4556.3007519 ],\n",
       "       [2006.65167685],\n",
       "       [3605.97574894],\n",
       "       [2468.16397662]])"
      ]
     },
     "execution_count": 58,
     "metadata": {},
     "output_type": "execute_result"
    }
   ],
   "source": [
    "linreg.predict(X_test) #Predecimos los valores"
   ]
  },
  {
   "cell_type": "code",
   "execution_count": 59,
   "metadata": {},
   "outputs": [
    {
     "data": {
      "text/html": [
       "<div>\n",
       "<style scoped>\n",
       "    .dataframe tbody tr th:only-of-type {\n",
       "        vertical-align: middle;\n",
       "    }\n",
       "\n",
       "    .dataframe tbody tr th {\n",
       "        vertical-align: top;\n",
       "    }\n",
       "\n",
       "    .dataframe thead th {\n",
       "        text-align: right;\n",
       "    }\n",
       "</style>\n",
       "<table border=\"1\" class=\"dataframe\">\n",
       "  <thead>\n",
       "    <tr style=\"text-align: right;\">\n",
       "      <th></th>\n",
       "      <th>Total Sales</th>\n",
       "      <th>linreg</th>\n",
       "    </tr>\n",
       "  </thead>\n",
       "  <tbody>\n",
       "    <tr>\n",
       "      <th>0</th>\n",
       "      <td>2085.854568</td>\n",
       "      <td>2084.710557</td>\n",
       "    </tr>\n",
       "    <tr>\n",
       "      <th>1</th>\n",
       "      <td>611.143505</td>\n",
       "      <td>611.982116</td>\n",
       "    </tr>\n",
       "    <tr>\n",
       "      <th>2</th>\n",
       "      <td>2200.353606</td>\n",
       "      <td>2199.235581</td>\n",
       "    </tr>\n",
       "    <tr>\n",
       "      <th>3</th>\n",
       "      <td>2874.478248</td>\n",
       "      <td>2873.883171</td>\n",
       "    </tr>\n",
       "    <tr>\n",
       "      <th>4</th>\n",
       "      <td>3004.069186</td>\n",
       "      <td>3003.560646</td>\n",
       "    </tr>\n",
       "    <tr>\n",
       "      <th>...</th>\n",
       "      <td>...</td>\n",
       "      <td>...</td>\n",
       "    </tr>\n",
       "    <tr>\n",
       "      <th>215</th>\n",
       "      <td>2533.276803</td>\n",
       "      <td>2530.182604</td>\n",
       "    </tr>\n",
       "    <tr>\n",
       "      <th>216</th>\n",
       "      <td>4555.849823</td>\n",
       "      <td>4556.300752</td>\n",
       "    </tr>\n",
       "    <tr>\n",
       "      <th>217</th>\n",
       "      <td>2007.106399</td>\n",
       "      <td>2006.651677</td>\n",
       "    </tr>\n",
       "    <tr>\n",
       "      <th>218</th>\n",
       "      <td>3605.470933</td>\n",
       "      <td>3605.975749</td>\n",
       "    </tr>\n",
       "    <tr>\n",
       "      <th>219</th>\n",
       "      <td>2466.354531</td>\n",
       "      <td>2468.163977</td>\n",
       "    </tr>\n",
       "  </tbody>\n",
       "</table>\n",
       "<p>220 rows × 2 columns</p>\n",
       "</div>"
      ],
      "text/plain": [
       "     Total Sales       linreg\n",
       "0    2085.854568  2084.710557\n",
       "1     611.143505   611.982116\n",
       "2    2200.353606  2199.235581\n",
       "3    2874.478248  2873.883171\n",
       "4    3004.069186  3003.560646\n",
       "..           ...          ...\n",
       "215  2533.276803  2530.182604\n",
       "216  4555.849823  4556.300752\n",
       "217  2007.106399  2006.651677\n",
       "218  3605.470933  3605.975749\n",
       "219  2466.354531  2468.163977\n",
       "\n",
       "[220 rows x 2 columns]"
      ]
     },
     "execution_count": 59,
     "metadata": {},
     "output_type": "execute_result"
    }
   ],
   "source": [
    "predicciones=y_test.copy()\n",
    "predicciones['linreg']=linreg.predict(X_test)\n",
    "predicciones.reset_index(drop=True,inplace=True)\n",
    "predicciones #Comparamos los valores relaes con los estimados"
   ]
  },
  {
   "cell_type": "code",
   "execution_count": 60,
   "metadata": {},
   "outputs": [],
   "source": [
    "from sklearn.metrics import r2_score,mean_absolute_error,mean_squared_error\n",
    "def metricas(y_true,y_pred):\n",
    "    r2=r2_score(y_true,y_pred)\n",
    "    mae=mean_absolute_error(y_true,y_pred)\n",
    "    mse=mean_squared_error(y_true,y_pred)\n",
    "    print(f'El r2 score es {r2}') #Obtenemos las metricas\n",
    "    print(f'El error cuadrático medio es {mse}')\n",
    "    print(f'El error medio absoluto es {mae}')"
   ]
  },
  {
   "cell_type": "code",
   "execution_count": 61,
   "metadata": {},
   "outputs": [
    {
     "name": "stdout",
     "output_type": "stream",
     "text": [
      "El r2 score es 0.9999879742422403\n",
      "El error cuadrático medio es 6.888585201559698\n",
      "El error medio absoluto es 1.9769942250977564\n"
     ]
    }
   ],
   "source": [
    "metricas(y_test,linreg.predict(X_test))"
   ]
  },
  {
   "cell_type": "code",
   "execution_count": 64,
   "metadata": {},
   "outputs": [
    {
     "data": {
      "application/vnd.plotly.v1+json": {
       "config": {
        "plotlyServerURL": "https://plot.ly"
       },
       "data": [
        {
         "hovertemplate": "variable=Total Sales<br>index=%{x}<br>value=%{y}<extra></extra>",
         "legendgroup": "Total Sales",
         "line": {
          "color": "#636efa",
          "dash": "solid"
         },
         "marker": {
          "symbol": "circle"
         },
         "mode": "lines",
         "name": "Total Sales",
         "orientation": "v",
         "showlegend": true,
         "type": "scatter",
         "x": [
          0,
          1,
          2,
          3,
          4,
          5,
          6,
          7,
          8,
          9,
          10,
          11,
          12,
          13,
          14,
          15,
          16,
          17,
          18,
          19,
          20,
          21,
          22,
          23,
          24,
          25,
          26,
          27,
          28,
          29,
          30,
          31,
          32,
          33,
          34,
          35,
          36,
          37,
          38,
          39,
          40,
          41,
          42,
          43,
          44,
          45,
          46,
          47,
          48,
          49,
          50,
          51,
          52,
          53,
          54,
          55,
          56,
          57,
          58,
          59,
          60,
          61,
          62,
          63,
          64,
          65,
          66,
          67,
          68,
          69,
          70,
          71,
          72,
          73,
          74,
          75,
          76,
          77,
          78,
          79,
          80,
          81,
          82,
          83,
          84,
          85,
          86,
          87,
          88,
          89,
          90,
          91,
          92,
          93,
          94,
          95,
          96,
          97,
          98,
          99,
          100,
          101,
          102,
          103,
          104,
          105,
          106,
          107,
          108,
          109,
          110,
          111,
          112,
          113,
          114,
          115,
          116,
          117,
          118,
          119,
          120,
          121,
          122,
          123,
          124,
          125,
          126,
          127,
          128,
          129,
          130,
          131,
          132,
          133,
          134,
          135,
          136,
          137,
          138,
          139,
          140,
          141,
          142,
          143,
          144,
          145,
          146,
          147,
          148,
          149,
          150,
          151,
          152,
          153,
          154,
          155,
          156,
          157,
          158,
          159,
          160,
          161,
          162,
          163,
          164,
          165,
          166,
          167,
          168,
          169,
          170,
          171,
          172,
          173,
          174,
          175,
          176,
          177,
          178,
          179,
          180,
          181,
          182,
          183,
          184,
          185,
          186,
          187,
          188,
          189,
          190,
          191,
          192,
          193,
          194,
          195,
          196,
          197,
          198,
          199,
          200,
          201,
          202,
          203,
          204,
          205,
          206,
          207,
          208,
          209,
          210,
          211,
          212,
          213,
          214,
          215,
          216,
          217,
          218,
          219
         ],
         "xaxis": "x",
         "y": [
          2085.854568471319,
          611.1435045420837,
          2200.353605649437,
          2874.4782475459706,
          3004.0691855091245,
          2825.5212411558196,
          2954.5754207557293,
          2859.4021490192167,
          2328.0589367263874,
          4115.889683644184,
          2490.979469903078,
          3910.8835328374203,
          2732.8400464976357,
          2165.08477216059,
          3010.02472575914,
          3017.146657397497,
          3043.9288711682852,
          2607.1637980612068,
          4227.024430017861,
          2386.418495696161,
          2911.9748532573913,
          3002.0536507157385,
          4492.383588541364,
          2404.0855050352666,
          3017.8670823193347,
          2310.6530120872685,
          2827.0651525557905,
          2787.3468364786495,
          3081.0482897680313,
          3037.7637278049947,
          3016.614236842361,
          3272.107577569424,
          2469.5634507566233,
          2927.913994362808,
          3009.148966324595,
          1879.7269341167025,
          3784.8631940715923,
          2211.909670931015,
          2528.3778196748995,
          3334.8347338689973,
          2813.7981230262203,
          3661.8342920306122,
          2440.359919515328,
          3165.261908782949,
          2347.346839897735,
          2483.793341102837,
          4116.783613641227,
          2411.7213177842514,
          2510.828745777964,
          699.0285189125289,
          3643.4391242367215,
          345.40322538466273,
          2587.2317779552377,
          2394.1546774035032,
          2502.0318498697807,
          3101.992674438937,
          2353.7254979101626,
          2372.7222278835575,
          2871.405654565141,
          2730.422718831912,
          2728.9004870111526,
          3149.1469051594977,
          2411.350420422482,
          2532.3872655785467,
          2399.9537358208786,
          2873.659413804606,
          2772.0421191132727,
          3403.938582660114,
          2728.6034408605565,
          3664.9225049833776,
          2836.767133327884,
          2177.148722326296,
          2145.2043838990885,
          3622.1429069757123,
          2694.811717725069,
          3066.348683762461,
          2887.929167688119,
          2790.2060855491004,
          2796.1735856551604,
          2545.580874807162,
          3253.5975823188537,
          2183.9181425131223,
          2740.9430381925313,
          2757.576691380882,
          3199.88161088095,
          2459.277330652884,
          3268.498836430421,
          2334.716700326991,
          2653.4370075363013,
          3074.058683381543,
          2780.4263493955696,
          2288.865641236201,
          2762.5981250938953,
          3066.437283916239,
          2269.5505669225263,
          2634.9360168067974,
          2682.1725414834054,
          3100.591927491191,
          573.5894710902819,
          1914.0685662333165,
          3191.933992803381,
          2444.4060716922577,
          2901.829543880659,
          709.4954191176469,
          2411.6355543101845,
          2827.219213605484,
          3164.870982207476,
          2547.7614054548403,
          2629.0035028668985,
          2525.459386986381,
          2568.674755944495,
          3339.9269850097326,
          4355.080890364611,
          2780.1240708031924,
          2548.6055107056864,
          3724.6450317899375,
          2845.5458648015324,
          2674.1778225742482,
          2973.63338935157,
          2114.288183441042,
          4873.682921125273,
          2770.3051542414796,
          3859.147064300035,
          2843.41753308733,
          2816.815372427855,
          4025.921284311831,
          2588.1188547933857,
          2236.6497722227696,
          2674.0137490238717,
          1984.5461845204761,
          2263.2044545097087,
          2554.3091568433615,
          2534.4228901835154,
          2367.0479171291395,
          3990.2554786261144,
          2706.9143288899754,
          3377.8583301469475,
          3354.28210480077,
          2933.1345798334423,
          2577.0668608139017,
          3325.933926124572,
          2498.327955641266,
          2944.9407831836247,
          2565.1338992170076,
          2363.549182482932,
          2954.645220278213,
          3110.0421639172105,
          2376.6569301050367,
          4886.066567627141,
          2371.819972738128,
          2893.0224352855375,
          2745.8869720106795,
          2580.2604230691845,
          3532.079848984536,
          2086.8823007920646,
          3987.9170932664524,
          287.96439554188186,
          2619.7625990045235,
          2598.672769547935,
          2748.849905677807,
          3081.8509234505746,
          518.2432023809519,
          2978.2398969311294,
          3440.166637599726,
          2075.2965823696522,
          3052.0103045759133,
          2157.6809690176215,
          2583.7672331246945,
          2586.8515429980025,
          2868.983368499489,
          2311.5826421123393,
          4008.5509935827963,
          2723.538291675605,
          2669.191799234622,
          1986.7845921464782,
          527.6628376165994,
          525.2407244968472,
          3220.2279055299855,
          2772.7145872798965,
          2371.5770213883575,
          2034.458293674029,
          2385.64331716993,
          2558.1216429734927,
          3056.5330660986374,
          2714.4978630993223,
          3530.826812726305,
          2112.2474449386364,
          2889.9086602041543,
          2462.110338672431,
          2700.843188699493,
          2662.225858220168,
          2538.199167927657,
          2386.336181579785,
          3379.001747424648,
          2121.448402858871,
          3403.0012177256967,
          3947.9461207695585,
          2061.3585129714093,
          2509.5106369212936,
          2616.0605135470496,
          4260.519696181854,
          720.4811655435249,
          2598.0586549823065,
          1875.363113976477,
          2473.718058816768,
          2644.9766253448906,
          3522.881156145648,
          3922.2356552610613,
          2170.3652838760054,
          2950.41274751179,
          5164.0247485758555,
          3484.947860131844,
          2232.4571655302407,
          3375.4417846063566,
          3844.8338737927775,
          2533.2768028265086,
          4555.849823380764,
          2007.1063986117276,
          3605.4709328922595,
          2466.354531414494
         ],
         "yaxis": "y"
        },
        {
         "hovertemplate": "variable=linreg<br>index=%{x}<br>value=%{y}<extra></extra>",
         "legendgroup": "linreg",
         "line": {
          "color": "#EF553B",
          "dash": "solid"
         },
         "marker": {
          "symbol": "circle"
         },
         "mode": "lines",
         "name": "linreg",
         "orientation": "v",
         "showlegend": true,
         "type": "scatter",
         "x": [
          0,
          1,
          2,
          3,
          4,
          5,
          6,
          7,
          8,
          9,
          10,
          11,
          12,
          13,
          14,
          15,
          16,
          17,
          18,
          19,
          20,
          21,
          22,
          23,
          24,
          25,
          26,
          27,
          28,
          29,
          30,
          31,
          32,
          33,
          34,
          35,
          36,
          37,
          38,
          39,
          40,
          41,
          42,
          43,
          44,
          45,
          46,
          47,
          48,
          49,
          50,
          51,
          52,
          53,
          54,
          55,
          56,
          57,
          58,
          59,
          60,
          61,
          62,
          63,
          64,
          65,
          66,
          67,
          68,
          69,
          70,
          71,
          72,
          73,
          74,
          75,
          76,
          77,
          78,
          79,
          80,
          81,
          82,
          83,
          84,
          85,
          86,
          87,
          88,
          89,
          90,
          91,
          92,
          93,
          94,
          95,
          96,
          97,
          98,
          99,
          100,
          101,
          102,
          103,
          104,
          105,
          106,
          107,
          108,
          109,
          110,
          111,
          112,
          113,
          114,
          115,
          116,
          117,
          118,
          119,
          120,
          121,
          122,
          123,
          124,
          125,
          126,
          127,
          128,
          129,
          130,
          131,
          132,
          133,
          134,
          135,
          136,
          137,
          138,
          139,
          140,
          141,
          142,
          143,
          144,
          145,
          146,
          147,
          148,
          149,
          150,
          151,
          152,
          153,
          154,
          155,
          156,
          157,
          158,
          159,
          160,
          161,
          162,
          163,
          164,
          165,
          166,
          167,
          168,
          169,
          170,
          171,
          172,
          173,
          174,
          175,
          176,
          177,
          178,
          179,
          180,
          181,
          182,
          183,
          184,
          185,
          186,
          187,
          188,
          189,
          190,
          191,
          192,
          193,
          194,
          195,
          196,
          197,
          198,
          199,
          200,
          201,
          202,
          203,
          204,
          205,
          206,
          207,
          208,
          209,
          210,
          211,
          212,
          213,
          214,
          215,
          216,
          217,
          218,
          219
         ],
         "xaxis": "x",
         "y": [
          2084.7105569689966,
          611.9821164090368,
          2199.235580623655,
          2873.8831706015944,
          3003.5606455611523,
          2829.882161264767,
          2955.9226987564098,
          2861.3960437184896,
          2330.9079912265306,
          4114.267409569135,
          2489.6837442239284,
          3905.47473421463,
          2734.3120918125974,
          2165.6180096111457,
          3009.8865328283264,
          3017.3918487436626,
          3040.735185803261,
          2608.193646181483,
          4230.621725124277,
          2389.590542755254,
          2906.690527814301,
          3003.670186840597,
          4494.882824116493,
          2404.5643324961393,
          3014.2627524546283,
          2307.602791079534,
          2826.1505605252064,
          2787.3046566457224,
          3084.9009346249018,
          3038.86818330829,
          3019.0649774833046,
          3265.083990359065,
          2468.984878058693,
          2927.607190727618,
          3002.1107212908523,
          1878.2624877907485,
          3786.088749657003,
          2212.949362718364,
          2528.9101868800126,
          3335.3168052068304,
          2815.4448908874633,
          3663.6917941129127,
          2441.3985754614937,
          3167.2077793163394,
          2343.451084921724,
          2486.4695172003635,
          4113.74933154884,
          2411.26220691122,
          2511.8946530326743,
          702.6898032971822,
          3644.188961071256,
          346.35773642231715,
          2588.2770169674895,
          2393.6954713442333,
          2498.476955995954,
          3105.407930602595,
          2354.522030102402,
          2371.996819066509,
          2873.7908421910397,
          2729.3174621598823,
          2728.996807599346,
          3145.254835726896,
          2411.012099744969,
          2534.511954179059,
          2397.8236736332487,
          2869.305742783921,
          2772.9759818653915,
          3402.2897491495155,
          2730.914004739764,
          3665.7623671678966,
          2828.5441393474134,
          2174.030471340188,
          2144.41458690254,
          3623.8804874697594,
          2698.6416525966715,
          3067.2861846095902,
          2878.282025739812,
          2790.6190551230466,
          2799.5947901623686,
          2545.2793142150663,
          3259.096708998782,
          2183.408877429804,
          2741.157211308502,
          2756.4518364640785,
          3202.3849841481747,
          2460.26271430245,
          3270.721661873361,
          2333.1294484327736,
          2653.8058852628633,
          3069.9233132856316,
          2777.0163869864364,
          2286.225788668035,
          2761.111684799851,
          3065.8531480154443,
          2269.2703013777577,
          2635.884115619349,
          2681.056723127706,
          3099.323111043044,
          572.8517987013571,
          1920.1632295712297,
          3189.543125542587,
          2446.8887546901237,
          2905.6840644358253,
          711.8724527069472,
          2409.167471180174,
          2826.082706279908,
          3166.3031241340254,
          2547.3592601176374,
          2631.4579196851223,
          2526.608340245638,
          2568.574637541502,
          3337.4495309255462,
          4352.394897282013,
          2779.0114347971876,
          2550.3340311708703,
          3725.709688239361,
          2850.0816089523687,
          2674.340251678307,
          2973.6238362761096,
          2115.0110733560136,
          4879.551261450196,
          2768.3383396913755,
          3859.062832895516,
          2839.87263212433,
          2813.2654049254184,
          4017.6339167013875,
          2588.6722284725224,
          2237.5082805133234,
          2675.4697008138146,
          1982.523459795538,
          2266.5637996583505,
          2556.626856400082,
          2533.2023519382474,
          2364.2346106144205,
          3986.8212266369533,
          2706.180511513712,
          3377.4743329863027,
          3348.6898603154523,
          2931.0346136499393,
          2577.5253399981652,
          3330.047024876355,
          2498.9625370611902,
          2946.265935379189,
          2564.468733623546,
          2366.6609211760165,
          2954.4278629185005,
          3104.217094655448,
          2379.106341490434,
          4884.009921647273,
          2370.6578000467352,
          2893.0529808906613,
          2747.3116936856204,
          2576.7804612423106,
          3532.1817567389394,
          2090.5768096315846,
          3988.576876213714,
          290.27909049506434,
          2618.736429361455,
          2598.4591659502958,
          2750.1210507757805,
          3085.657189084008,
          518.9011227375827,
          2980.4937451596215,
          3441.1395077785933,
          2072.895665923708,
          3052.5521420399,
          2156.9945505971828,
          2583.3379299275216,
          2588.188900557722,
          2868.037427118382,
          2313.878211015349,
          4008.5837786870284,
          2723.4708424642436,
          2669.2681167806504,
          1987.163479577308,
          530.7248059433729,
          527.2698044469666,
          3213.7392603106573,
          2773.8340305173856,
          2370.0591146180627,
          2032.5576610797812,
          2388.7293256694406,
          2556.9483527518905,
          3058.0833338091475,
          2715.3041637546557,
          3532.4774950324854,
          2112.227220324128,
          2884.678379007548,
          2462.957504659143,
          2696.4876298254862,
          2660.510270458293,
          2537.0587066840917,
          2384.5993061901245,
          3381.6165232093913,
          2118.37781327551,
          3396.153466505094,
          3948.797671865766,
          2061.8515409781344,
          2508.0594430764886,
          2613.1188179890446,
          4255.49977209173,
          721.3699197929254,
          2596.0802636681387,
          1873.3531805230414,
          2473.5515316265414,
          2645.296909208135,
          3521.731720196487,
          3922.336533993229,
          2172.5301496698476,
          2953.6236004801203,
          5161.936446707503,
          3486.192941098244,
          2232.4511004204082,
          3372.8149705968585,
          3848.4378807521393,
          2530.182603747123,
          4556.300751902739,
          2006.6516768519214,
          3605.9757489407425,
          2468.1639766225785
         ],
         "yaxis": "y"
        }
       ],
       "layout": {
        "legend": {
         "title": {
          "text": "variable"
         },
         "tracegroupgap": 0
        },
        "template": {
         "data": {
          "bar": [
           {
            "error_x": {
             "color": "#2a3f5f"
            },
            "error_y": {
             "color": "#2a3f5f"
            },
            "marker": {
             "line": {
              "color": "#E5ECF6",
              "width": 0.5
             },
             "pattern": {
              "fillmode": "overlay",
              "size": 10,
              "solidity": 0.2
             }
            },
            "type": "bar"
           }
          ],
          "barpolar": [
           {
            "marker": {
             "line": {
              "color": "#E5ECF6",
              "width": 0.5
             },
             "pattern": {
              "fillmode": "overlay",
              "size": 10,
              "solidity": 0.2
             }
            },
            "type": "barpolar"
           }
          ],
          "carpet": [
           {
            "aaxis": {
             "endlinecolor": "#2a3f5f",
             "gridcolor": "white",
             "linecolor": "white",
             "minorgridcolor": "white",
             "startlinecolor": "#2a3f5f"
            },
            "baxis": {
             "endlinecolor": "#2a3f5f",
             "gridcolor": "white",
             "linecolor": "white",
             "minorgridcolor": "white",
             "startlinecolor": "#2a3f5f"
            },
            "type": "carpet"
           }
          ],
          "choropleth": [
           {
            "colorbar": {
             "outlinewidth": 0,
             "ticks": ""
            },
            "type": "choropleth"
           }
          ],
          "contour": [
           {
            "colorbar": {
             "outlinewidth": 0,
             "ticks": ""
            },
            "colorscale": [
             [
              0,
              "#0d0887"
             ],
             [
              0.1111111111111111,
              "#46039f"
             ],
             [
              0.2222222222222222,
              "#7201a8"
             ],
             [
              0.3333333333333333,
              "#9c179e"
             ],
             [
              0.4444444444444444,
              "#bd3786"
             ],
             [
              0.5555555555555556,
              "#d8576b"
             ],
             [
              0.6666666666666666,
              "#ed7953"
             ],
             [
              0.7777777777777778,
              "#fb9f3a"
             ],
             [
              0.8888888888888888,
              "#fdca26"
             ],
             [
              1,
              "#f0f921"
             ]
            ],
            "type": "contour"
           }
          ],
          "contourcarpet": [
           {
            "colorbar": {
             "outlinewidth": 0,
             "ticks": ""
            },
            "type": "contourcarpet"
           }
          ],
          "heatmap": [
           {
            "colorbar": {
             "outlinewidth": 0,
             "ticks": ""
            },
            "colorscale": [
             [
              0,
              "#0d0887"
             ],
             [
              0.1111111111111111,
              "#46039f"
             ],
             [
              0.2222222222222222,
              "#7201a8"
             ],
             [
              0.3333333333333333,
              "#9c179e"
             ],
             [
              0.4444444444444444,
              "#bd3786"
             ],
             [
              0.5555555555555556,
              "#d8576b"
             ],
             [
              0.6666666666666666,
              "#ed7953"
             ],
             [
              0.7777777777777778,
              "#fb9f3a"
             ],
             [
              0.8888888888888888,
              "#fdca26"
             ],
             [
              1,
              "#f0f921"
             ]
            ],
            "type": "heatmap"
           }
          ],
          "heatmapgl": [
           {
            "colorbar": {
             "outlinewidth": 0,
             "ticks": ""
            },
            "colorscale": [
             [
              0,
              "#0d0887"
             ],
             [
              0.1111111111111111,
              "#46039f"
             ],
             [
              0.2222222222222222,
              "#7201a8"
             ],
             [
              0.3333333333333333,
              "#9c179e"
             ],
             [
              0.4444444444444444,
              "#bd3786"
             ],
             [
              0.5555555555555556,
              "#d8576b"
             ],
             [
              0.6666666666666666,
              "#ed7953"
             ],
             [
              0.7777777777777778,
              "#fb9f3a"
             ],
             [
              0.8888888888888888,
              "#fdca26"
             ],
             [
              1,
              "#f0f921"
             ]
            ],
            "type": "heatmapgl"
           }
          ],
          "histogram": [
           {
            "marker": {
             "pattern": {
              "fillmode": "overlay",
              "size": 10,
              "solidity": 0.2
             }
            },
            "type": "histogram"
           }
          ],
          "histogram2d": [
           {
            "colorbar": {
             "outlinewidth": 0,
             "ticks": ""
            },
            "colorscale": [
             [
              0,
              "#0d0887"
             ],
             [
              0.1111111111111111,
              "#46039f"
             ],
             [
              0.2222222222222222,
              "#7201a8"
             ],
             [
              0.3333333333333333,
              "#9c179e"
             ],
             [
              0.4444444444444444,
              "#bd3786"
             ],
             [
              0.5555555555555556,
              "#d8576b"
             ],
             [
              0.6666666666666666,
              "#ed7953"
             ],
             [
              0.7777777777777778,
              "#fb9f3a"
             ],
             [
              0.8888888888888888,
              "#fdca26"
             ],
             [
              1,
              "#f0f921"
             ]
            ],
            "type": "histogram2d"
           }
          ],
          "histogram2dcontour": [
           {
            "colorbar": {
             "outlinewidth": 0,
             "ticks": ""
            },
            "colorscale": [
             [
              0,
              "#0d0887"
             ],
             [
              0.1111111111111111,
              "#46039f"
             ],
             [
              0.2222222222222222,
              "#7201a8"
             ],
             [
              0.3333333333333333,
              "#9c179e"
             ],
             [
              0.4444444444444444,
              "#bd3786"
             ],
             [
              0.5555555555555556,
              "#d8576b"
             ],
             [
              0.6666666666666666,
              "#ed7953"
             ],
             [
              0.7777777777777778,
              "#fb9f3a"
             ],
             [
              0.8888888888888888,
              "#fdca26"
             ],
             [
              1,
              "#f0f921"
             ]
            ],
            "type": "histogram2dcontour"
           }
          ],
          "mesh3d": [
           {
            "colorbar": {
             "outlinewidth": 0,
             "ticks": ""
            },
            "type": "mesh3d"
           }
          ],
          "parcoords": [
           {
            "line": {
             "colorbar": {
              "outlinewidth": 0,
              "ticks": ""
             }
            },
            "type": "parcoords"
           }
          ],
          "pie": [
           {
            "automargin": true,
            "type": "pie"
           }
          ],
          "scatter": [
           {
            "marker": {
             "colorbar": {
              "outlinewidth": 0,
              "ticks": ""
             }
            },
            "type": "scatter"
           }
          ],
          "scatter3d": [
           {
            "line": {
             "colorbar": {
              "outlinewidth": 0,
              "ticks": ""
             }
            },
            "marker": {
             "colorbar": {
              "outlinewidth": 0,
              "ticks": ""
             }
            },
            "type": "scatter3d"
           }
          ],
          "scattercarpet": [
           {
            "marker": {
             "colorbar": {
              "outlinewidth": 0,
              "ticks": ""
             }
            },
            "type": "scattercarpet"
           }
          ],
          "scattergeo": [
           {
            "marker": {
             "colorbar": {
              "outlinewidth": 0,
              "ticks": ""
             }
            },
            "type": "scattergeo"
           }
          ],
          "scattergl": [
           {
            "marker": {
             "colorbar": {
              "outlinewidth": 0,
              "ticks": ""
             }
            },
            "type": "scattergl"
           }
          ],
          "scattermapbox": [
           {
            "marker": {
             "colorbar": {
              "outlinewidth": 0,
              "ticks": ""
             }
            },
            "type": "scattermapbox"
           }
          ],
          "scatterpolar": [
           {
            "marker": {
             "colorbar": {
              "outlinewidth": 0,
              "ticks": ""
             }
            },
            "type": "scatterpolar"
           }
          ],
          "scatterpolargl": [
           {
            "marker": {
             "colorbar": {
              "outlinewidth": 0,
              "ticks": ""
             }
            },
            "type": "scatterpolargl"
           }
          ],
          "scatterternary": [
           {
            "marker": {
             "colorbar": {
              "outlinewidth": 0,
              "ticks": ""
             }
            },
            "type": "scatterternary"
           }
          ],
          "surface": [
           {
            "colorbar": {
             "outlinewidth": 0,
             "ticks": ""
            },
            "colorscale": [
             [
              0,
              "#0d0887"
             ],
             [
              0.1111111111111111,
              "#46039f"
             ],
             [
              0.2222222222222222,
              "#7201a8"
             ],
             [
              0.3333333333333333,
              "#9c179e"
             ],
             [
              0.4444444444444444,
              "#bd3786"
             ],
             [
              0.5555555555555556,
              "#d8576b"
             ],
             [
              0.6666666666666666,
              "#ed7953"
             ],
             [
              0.7777777777777778,
              "#fb9f3a"
             ],
             [
              0.8888888888888888,
              "#fdca26"
             ],
             [
              1,
              "#f0f921"
             ]
            ],
            "type": "surface"
           }
          ],
          "table": [
           {
            "cells": {
             "fill": {
              "color": "#EBF0F8"
             },
             "line": {
              "color": "white"
             }
            },
            "header": {
             "fill": {
              "color": "#C8D4E3"
             },
             "line": {
              "color": "white"
             }
            },
            "type": "table"
           }
          ]
         },
         "layout": {
          "annotationdefaults": {
           "arrowcolor": "#2a3f5f",
           "arrowhead": 0,
           "arrowwidth": 1
          },
          "autotypenumbers": "strict",
          "coloraxis": {
           "colorbar": {
            "outlinewidth": 0,
            "ticks": ""
           }
          },
          "colorscale": {
           "diverging": [
            [
             0,
             "#8e0152"
            ],
            [
             0.1,
             "#c51b7d"
            ],
            [
             0.2,
             "#de77ae"
            ],
            [
             0.3,
             "#f1b6da"
            ],
            [
             0.4,
             "#fde0ef"
            ],
            [
             0.5,
             "#f7f7f7"
            ],
            [
             0.6,
             "#e6f5d0"
            ],
            [
             0.7,
             "#b8e186"
            ],
            [
             0.8,
             "#7fbc41"
            ],
            [
             0.9,
             "#4d9221"
            ],
            [
             1,
             "#276419"
            ]
           ],
           "sequential": [
            [
             0,
             "#0d0887"
            ],
            [
             0.1111111111111111,
             "#46039f"
            ],
            [
             0.2222222222222222,
             "#7201a8"
            ],
            [
             0.3333333333333333,
             "#9c179e"
            ],
            [
             0.4444444444444444,
             "#bd3786"
            ],
            [
             0.5555555555555556,
             "#d8576b"
            ],
            [
             0.6666666666666666,
             "#ed7953"
            ],
            [
             0.7777777777777778,
             "#fb9f3a"
            ],
            [
             0.8888888888888888,
             "#fdca26"
            ],
            [
             1,
             "#f0f921"
            ]
           ],
           "sequentialminus": [
            [
             0,
             "#0d0887"
            ],
            [
             0.1111111111111111,
             "#46039f"
            ],
            [
             0.2222222222222222,
             "#7201a8"
            ],
            [
             0.3333333333333333,
             "#9c179e"
            ],
            [
             0.4444444444444444,
             "#bd3786"
            ],
            [
             0.5555555555555556,
             "#d8576b"
            ],
            [
             0.6666666666666666,
             "#ed7953"
            ],
            [
             0.7777777777777778,
             "#fb9f3a"
            ],
            [
             0.8888888888888888,
             "#fdca26"
            ],
            [
             1,
             "#f0f921"
            ]
           ]
          },
          "colorway": [
           "#636efa",
           "#EF553B",
           "#00cc96",
           "#ab63fa",
           "#FFA15A",
           "#19d3f3",
           "#FF6692",
           "#B6E880",
           "#FF97FF",
           "#FECB52"
          ],
          "font": {
           "color": "#2a3f5f"
          },
          "geo": {
           "bgcolor": "white",
           "lakecolor": "white",
           "landcolor": "#E5ECF6",
           "showlakes": true,
           "showland": true,
           "subunitcolor": "white"
          },
          "hoverlabel": {
           "align": "left"
          },
          "hovermode": "closest",
          "mapbox": {
           "style": "light"
          },
          "paper_bgcolor": "white",
          "plot_bgcolor": "#E5ECF6",
          "polar": {
           "angularaxis": {
            "gridcolor": "white",
            "linecolor": "white",
            "ticks": ""
           },
           "bgcolor": "#E5ECF6",
           "radialaxis": {
            "gridcolor": "white",
            "linecolor": "white",
            "ticks": ""
           }
          },
          "scene": {
           "xaxis": {
            "backgroundcolor": "#E5ECF6",
            "gridcolor": "white",
            "gridwidth": 2,
            "linecolor": "white",
            "showbackground": true,
            "ticks": "",
            "zerolinecolor": "white"
           },
           "yaxis": {
            "backgroundcolor": "#E5ECF6",
            "gridcolor": "white",
            "gridwidth": 2,
            "linecolor": "white",
            "showbackground": true,
            "ticks": "",
            "zerolinecolor": "white"
           },
           "zaxis": {
            "backgroundcolor": "#E5ECF6",
            "gridcolor": "white",
            "gridwidth": 2,
            "linecolor": "white",
            "showbackground": true,
            "ticks": "",
            "zerolinecolor": "white"
           }
          },
          "shapedefaults": {
           "line": {
            "color": "#2a3f5f"
           }
          },
          "ternary": {
           "aaxis": {
            "gridcolor": "white",
            "linecolor": "white",
            "ticks": ""
           },
           "baxis": {
            "gridcolor": "white",
            "linecolor": "white",
            "ticks": ""
           },
           "bgcolor": "#E5ECF6",
           "caxis": {
            "gridcolor": "white",
            "linecolor": "white",
            "ticks": ""
           }
          },
          "title": {
           "x": 0.05
          },
          "xaxis": {
           "automargin": true,
           "gridcolor": "white",
           "linecolor": "white",
           "ticks": "",
           "title": {
            "standoff": 15
           },
           "zerolinecolor": "white",
           "zerolinewidth": 2
          },
          "yaxis": {
           "automargin": true,
           "gridcolor": "white",
           "linecolor": "white",
           "ticks": "",
           "title": {
            "standoff": 15
           },
           "zerolinecolor": "white",
           "zerolinewidth": 2
          }
         }
        },
        "title": {
         "text": "Regresion Lineal"
        },
        "xaxis": {
         "anchor": "y",
         "domain": [
          0,
          1
         ],
         "title": {
          "text": "index"
         }
        },
        "yaxis": {
         "anchor": "x",
         "domain": [
          0,
          1
         ],
         "title": {
          "text": "value"
         }
        }
       }
      },
      "text/html": [
       "<div>                            <div id=\"897a2ce9-5ae9-452f-a71b-368079778505\" class=\"plotly-graph-div\" style=\"height:525px; width:100%;\"></div>            <script type=\"text/javascript\">                require([\"plotly\"], function(Plotly) {                    window.PLOTLYENV=window.PLOTLYENV || {};                                    if (document.getElementById(\"897a2ce9-5ae9-452f-a71b-368079778505\")) {                    Plotly.newPlot(                        \"897a2ce9-5ae9-452f-a71b-368079778505\",                        [{\"hovertemplate\":\"variable=Total Sales<br>index=%{x}<br>value=%{y}<extra></extra>\",\"legendgroup\":\"Total Sales\",\"line\":{\"color\":\"#636efa\",\"dash\":\"solid\"},\"marker\":{\"symbol\":\"circle\"},\"mode\":\"lines\",\"name\":\"Total Sales\",\"orientation\":\"v\",\"showlegend\":true,\"x\":[0,1,2,3,4,5,6,7,8,9,10,11,12,13,14,15,16,17,18,19,20,21,22,23,24,25,26,27,28,29,30,31,32,33,34,35,36,37,38,39,40,41,42,43,44,45,46,47,48,49,50,51,52,53,54,55,56,57,58,59,60,61,62,63,64,65,66,67,68,69,70,71,72,73,74,75,76,77,78,79,80,81,82,83,84,85,86,87,88,89,90,91,92,93,94,95,96,97,98,99,100,101,102,103,104,105,106,107,108,109,110,111,112,113,114,115,116,117,118,119,120,121,122,123,124,125,126,127,128,129,130,131,132,133,134,135,136,137,138,139,140,141,142,143,144,145,146,147,148,149,150,151,152,153,154,155,156,157,158,159,160,161,162,163,164,165,166,167,168,169,170,171,172,173,174,175,176,177,178,179,180,181,182,183,184,185,186,187,188,189,190,191,192,193,194,195,196,197,198,199,200,201,202,203,204,205,206,207,208,209,210,211,212,213,214,215,216,217,218,219],\"xaxis\":\"x\",\"y\":[2085.854568471319,611.1435045420837,2200.353605649437,2874.4782475459706,3004.0691855091245,2825.5212411558196,2954.5754207557293,2859.4021490192167,2328.0589367263874,4115.889683644184,2490.979469903078,3910.8835328374203,2732.8400464976357,2165.08477216059,3010.02472575914,3017.146657397497,3043.9288711682852,2607.1637980612068,4227.024430017861,2386.418495696161,2911.9748532573913,3002.0536507157385,4492.383588541364,2404.0855050352666,3017.8670823193347,2310.6530120872685,2827.0651525557905,2787.3468364786495,3081.0482897680313,3037.7637278049947,3016.614236842361,3272.107577569424,2469.5634507566233,2927.913994362808,3009.148966324595,1879.7269341167025,3784.8631940715923,2211.909670931015,2528.3778196748995,3334.8347338689973,2813.7981230262203,3661.8342920306122,2440.359919515328,3165.261908782949,2347.346839897735,2483.793341102837,4116.783613641227,2411.7213177842514,2510.828745777964,699.0285189125289,3643.4391242367215,345.40322538466273,2587.2317779552377,2394.1546774035032,2502.0318498697807,3101.992674438937,2353.7254979101626,2372.7222278835575,2871.405654565141,2730.422718831912,2728.9004870111526,3149.1469051594977,2411.350420422482,2532.3872655785467,2399.9537358208786,2873.659413804606,2772.0421191132727,3403.938582660114,2728.6034408605565,3664.9225049833776,2836.767133327884,2177.148722326296,2145.2043838990885,3622.1429069757123,2694.811717725069,3066.348683762461,2887.929167688119,2790.2060855491004,2796.1735856551604,2545.580874807162,3253.5975823188537,2183.9181425131223,2740.9430381925313,2757.576691380882,3199.88161088095,2459.277330652884,3268.498836430421,2334.716700326991,2653.4370075363013,3074.058683381543,2780.4263493955696,2288.865641236201,2762.5981250938953,3066.437283916239,2269.5505669225263,2634.9360168067974,2682.1725414834054,3100.591927491191,573.5894710902819,1914.0685662333165,3191.933992803381,2444.4060716922577,2901.829543880659,709.4954191176469,2411.6355543101845,2827.219213605484,3164.870982207476,2547.7614054548403,2629.0035028668985,2525.459386986381,2568.674755944495,3339.9269850097326,4355.080890364611,2780.1240708031924,2548.6055107056864,3724.6450317899375,2845.5458648015324,2674.1778225742482,2973.63338935157,2114.288183441042,4873.682921125273,2770.3051542414796,3859.147064300035,2843.41753308733,2816.815372427855,4025.921284311831,2588.1188547933857,2236.6497722227696,2674.0137490238717,1984.5461845204761,2263.2044545097087,2554.3091568433615,2534.4228901835154,2367.0479171291395,3990.2554786261144,2706.9143288899754,3377.8583301469475,3354.28210480077,2933.1345798334423,2577.0668608139017,3325.933926124572,2498.327955641266,2944.9407831836247,2565.1338992170076,2363.549182482932,2954.645220278213,3110.0421639172105,2376.6569301050367,4886.066567627141,2371.819972738128,2893.0224352855375,2745.8869720106795,2580.2604230691845,3532.079848984536,2086.8823007920646,3987.9170932664524,287.96439554188186,2619.7625990045235,2598.672769547935,2748.849905677807,3081.8509234505746,518.2432023809519,2978.2398969311294,3440.166637599726,2075.2965823696522,3052.0103045759133,2157.6809690176215,2583.7672331246945,2586.8515429980025,2868.983368499489,2311.5826421123393,4008.5509935827963,2723.538291675605,2669.191799234622,1986.7845921464782,527.6628376165994,525.2407244968472,3220.2279055299855,2772.7145872798965,2371.5770213883575,2034.458293674029,2385.64331716993,2558.1216429734927,3056.5330660986374,2714.4978630993223,3530.826812726305,2112.2474449386364,2889.9086602041543,2462.110338672431,2700.843188699493,2662.225858220168,2538.199167927657,2386.336181579785,3379.001747424648,2121.448402858871,3403.0012177256967,3947.9461207695585,2061.3585129714093,2509.5106369212936,2616.0605135470496,4260.519696181854,720.4811655435249,2598.0586549823065,1875.363113976477,2473.718058816768,2644.9766253448906,3522.881156145648,3922.2356552610613,2170.3652838760054,2950.41274751179,5164.0247485758555,3484.947860131844,2232.4571655302407,3375.4417846063566,3844.8338737927775,2533.2768028265086,4555.849823380764,2007.1063986117276,3605.4709328922595,2466.354531414494],\"yaxis\":\"y\",\"type\":\"scatter\"},{\"hovertemplate\":\"variable=linreg<br>index=%{x}<br>value=%{y}<extra></extra>\",\"legendgroup\":\"linreg\",\"line\":{\"color\":\"#EF553B\",\"dash\":\"solid\"},\"marker\":{\"symbol\":\"circle\"},\"mode\":\"lines\",\"name\":\"linreg\",\"orientation\":\"v\",\"showlegend\":true,\"x\":[0,1,2,3,4,5,6,7,8,9,10,11,12,13,14,15,16,17,18,19,20,21,22,23,24,25,26,27,28,29,30,31,32,33,34,35,36,37,38,39,40,41,42,43,44,45,46,47,48,49,50,51,52,53,54,55,56,57,58,59,60,61,62,63,64,65,66,67,68,69,70,71,72,73,74,75,76,77,78,79,80,81,82,83,84,85,86,87,88,89,90,91,92,93,94,95,96,97,98,99,100,101,102,103,104,105,106,107,108,109,110,111,112,113,114,115,116,117,118,119,120,121,122,123,124,125,126,127,128,129,130,131,132,133,134,135,136,137,138,139,140,141,142,143,144,145,146,147,148,149,150,151,152,153,154,155,156,157,158,159,160,161,162,163,164,165,166,167,168,169,170,171,172,173,174,175,176,177,178,179,180,181,182,183,184,185,186,187,188,189,190,191,192,193,194,195,196,197,198,199,200,201,202,203,204,205,206,207,208,209,210,211,212,213,214,215,216,217,218,219],\"xaxis\":\"x\",\"y\":[2084.7105569689966,611.9821164090368,2199.235580623655,2873.8831706015944,3003.5606455611523,2829.882161264767,2955.9226987564098,2861.3960437184896,2330.9079912265306,4114.267409569135,2489.6837442239284,3905.47473421463,2734.3120918125974,2165.6180096111457,3009.8865328283264,3017.3918487436626,3040.735185803261,2608.193646181483,4230.621725124277,2389.590542755254,2906.690527814301,3003.670186840597,4494.882824116493,2404.5643324961393,3014.2627524546283,2307.602791079534,2826.1505605252064,2787.3046566457224,3084.9009346249018,3038.86818330829,3019.0649774833046,3265.083990359065,2468.984878058693,2927.607190727618,3002.1107212908523,1878.2624877907485,3786.088749657003,2212.949362718364,2528.9101868800126,3335.3168052068304,2815.4448908874633,3663.6917941129127,2441.3985754614937,3167.2077793163394,2343.451084921724,2486.4695172003635,4113.74933154884,2411.26220691122,2511.8946530326743,702.6898032971822,3644.188961071256,346.35773642231715,2588.2770169674895,2393.6954713442333,2498.476955995954,3105.407930602595,2354.522030102402,2371.996819066509,2873.7908421910397,2729.3174621598823,2728.996807599346,3145.254835726896,2411.012099744969,2534.511954179059,2397.8236736332487,2869.305742783921,2772.9759818653915,3402.2897491495155,2730.914004739764,3665.7623671678966,2828.5441393474134,2174.030471340188,2144.41458690254,3623.8804874697594,2698.6416525966715,3067.2861846095902,2878.282025739812,2790.6190551230466,2799.5947901623686,2545.2793142150663,3259.096708998782,2183.408877429804,2741.157211308502,2756.4518364640785,3202.3849841481747,2460.26271430245,3270.721661873361,2333.1294484327736,2653.8058852628633,3069.9233132856316,2777.0163869864364,2286.225788668035,2761.111684799851,3065.8531480154443,2269.2703013777577,2635.884115619349,2681.056723127706,3099.323111043044,572.8517987013571,1920.1632295712297,3189.543125542587,2446.8887546901237,2905.6840644358253,711.8724527069472,2409.167471180174,2826.082706279908,3166.3031241340254,2547.3592601176374,2631.4579196851223,2526.608340245638,2568.574637541502,3337.4495309255462,4352.394897282013,2779.0114347971876,2550.3340311708703,3725.709688239361,2850.0816089523687,2674.340251678307,2973.6238362761096,2115.0110733560136,4879.551261450196,2768.3383396913755,3859.062832895516,2839.87263212433,2813.2654049254184,4017.6339167013875,2588.6722284725224,2237.5082805133234,2675.4697008138146,1982.523459795538,2266.5637996583505,2556.626856400082,2533.2023519382474,2364.2346106144205,3986.8212266369533,2706.180511513712,3377.4743329863027,3348.6898603154523,2931.0346136499393,2577.5253399981652,3330.047024876355,2498.9625370611902,2946.265935379189,2564.468733623546,2366.6609211760165,2954.4278629185005,3104.217094655448,2379.106341490434,4884.009921647273,2370.6578000467352,2893.0529808906613,2747.3116936856204,2576.7804612423106,3532.1817567389394,2090.5768096315846,3988.576876213714,290.27909049506434,2618.736429361455,2598.4591659502958,2750.1210507757805,3085.657189084008,518.9011227375827,2980.4937451596215,3441.1395077785933,2072.895665923708,3052.5521420399,2156.9945505971828,2583.3379299275216,2588.188900557722,2868.037427118382,2313.878211015349,4008.5837786870284,2723.4708424642436,2669.2681167806504,1987.163479577308,530.7248059433729,527.2698044469666,3213.7392603106573,2773.8340305173856,2370.0591146180627,2032.5576610797812,2388.7293256694406,2556.9483527518905,3058.0833338091475,2715.3041637546557,3532.4774950324854,2112.227220324128,2884.678379007548,2462.957504659143,2696.4876298254862,2660.510270458293,2537.0587066840917,2384.5993061901245,3381.6165232093913,2118.37781327551,3396.153466505094,3948.797671865766,2061.8515409781344,2508.0594430764886,2613.1188179890446,4255.49977209173,721.3699197929254,2596.0802636681387,1873.3531805230414,2473.5515316265414,2645.296909208135,3521.731720196487,3922.336533993229,2172.5301496698476,2953.6236004801203,5161.936446707503,3486.192941098244,2232.4511004204082,3372.8149705968585,3848.4378807521393,2530.182603747123,4556.300751902739,2006.6516768519214,3605.9757489407425,2468.1639766225785],\"yaxis\":\"y\",\"type\":\"scatter\"}],                        {\"template\":{\"data\":{\"bar\":[{\"error_x\":{\"color\":\"#2a3f5f\"},\"error_y\":{\"color\":\"#2a3f5f\"},\"marker\":{\"line\":{\"color\":\"#E5ECF6\",\"width\":0.5},\"pattern\":{\"fillmode\":\"overlay\",\"size\":10,\"solidity\":0.2}},\"type\":\"bar\"}],\"barpolar\":[{\"marker\":{\"line\":{\"color\":\"#E5ECF6\",\"width\":0.5},\"pattern\":{\"fillmode\":\"overlay\",\"size\":10,\"solidity\":0.2}},\"type\":\"barpolar\"}],\"carpet\":[{\"aaxis\":{\"endlinecolor\":\"#2a3f5f\",\"gridcolor\":\"white\",\"linecolor\":\"white\",\"minorgridcolor\":\"white\",\"startlinecolor\":\"#2a3f5f\"},\"baxis\":{\"endlinecolor\":\"#2a3f5f\",\"gridcolor\":\"white\",\"linecolor\":\"white\",\"minorgridcolor\":\"white\",\"startlinecolor\":\"#2a3f5f\"},\"type\":\"carpet\"}],\"choropleth\":[{\"colorbar\":{\"outlinewidth\":0,\"ticks\":\"\"},\"type\":\"choropleth\"}],\"contour\":[{\"colorbar\":{\"outlinewidth\":0,\"ticks\":\"\"},\"colorscale\":[[0.0,\"#0d0887\"],[0.1111111111111111,\"#46039f\"],[0.2222222222222222,\"#7201a8\"],[0.3333333333333333,\"#9c179e\"],[0.4444444444444444,\"#bd3786\"],[0.5555555555555556,\"#d8576b\"],[0.6666666666666666,\"#ed7953\"],[0.7777777777777778,\"#fb9f3a\"],[0.8888888888888888,\"#fdca26\"],[1.0,\"#f0f921\"]],\"type\":\"contour\"}],\"contourcarpet\":[{\"colorbar\":{\"outlinewidth\":0,\"ticks\":\"\"},\"type\":\"contourcarpet\"}],\"heatmap\":[{\"colorbar\":{\"outlinewidth\":0,\"ticks\":\"\"},\"colorscale\":[[0.0,\"#0d0887\"],[0.1111111111111111,\"#46039f\"],[0.2222222222222222,\"#7201a8\"],[0.3333333333333333,\"#9c179e\"],[0.4444444444444444,\"#bd3786\"],[0.5555555555555556,\"#d8576b\"],[0.6666666666666666,\"#ed7953\"],[0.7777777777777778,\"#fb9f3a\"],[0.8888888888888888,\"#fdca26\"],[1.0,\"#f0f921\"]],\"type\":\"heatmap\"}],\"heatmapgl\":[{\"colorbar\":{\"outlinewidth\":0,\"ticks\":\"\"},\"colorscale\":[[0.0,\"#0d0887\"],[0.1111111111111111,\"#46039f\"],[0.2222222222222222,\"#7201a8\"],[0.3333333333333333,\"#9c179e\"],[0.4444444444444444,\"#bd3786\"],[0.5555555555555556,\"#d8576b\"],[0.6666666666666666,\"#ed7953\"],[0.7777777777777778,\"#fb9f3a\"],[0.8888888888888888,\"#fdca26\"],[1.0,\"#f0f921\"]],\"type\":\"heatmapgl\"}],\"histogram\":[{\"marker\":{\"pattern\":{\"fillmode\":\"overlay\",\"size\":10,\"solidity\":0.2}},\"type\":\"histogram\"}],\"histogram2d\":[{\"colorbar\":{\"outlinewidth\":0,\"ticks\":\"\"},\"colorscale\":[[0.0,\"#0d0887\"],[0.1111111111111111,\"#46039f\"],[0.2222222222222222,\"#7201a8\"],[0.3333333333333333,\"#9c179e\"],[0.4444444444444444,\"#bd3786\"],[0.5555555555555556,\"#d8576b\"],[0.6666666666666666,\"#ed7953\"],[0.7777777777777778,\"#fb9f3a\"],[0.8888888888888888,\"#fdca26\"],[1.0,\"#f0f921\"]],\"type\":\"histogram2d\"}],\"histogram2dcontour\":[{\"colorbar\":{\"outlinewidth\":0,\"ticks\":\"\"},\"colorscale\":[[0.0,\"#0d0887\"],[0.1111111111111111,\"#46039f\"],[0.2222222222222222,\"#7201a8\"],[0.3333333333333333,\"#9c179e\"],[0.4444444444444444,\"#bd3786\"],[0.5555555555555556,\"#d8576b\"],[0.6666666666666666,\"#ed7953\"],[0.7777777777777778,\"#fb9f3a\"],[0.8888888888888888,\"#fdca26\"],[1.0,\"#f0f921\"]],\"type\":\"histogram2dcontour\"}],\"mesh3d\":[{\"colorbar\":{\"outlinewidth\":0,\"ticks\":\"\"},\"type\":\"mesh3d\"}],\"parcoords\":[{\"line\":{\"colorbar\":{\"outlinewidth\":0,\"ticks\":\"\"}},\"type\":\"parcoords\"}],\"pie\":[{\"automargin\":true,\"type\":\"pie\"}],\"scatter\":[{\"marker\":{\"colorbar\":{\"outlinewidth\":0,\"ticks\":\"\"}},\"type\":\"scatter\"}],\"scatter3d\":[{\"line\":{\"colorbar\":{\"outlinewidth\":0,\"ticks\":\"\"}},\"marker\":{\"colorbar\":{\"outlinewidth\":0,\"ticks\":\"\"}},\"type\":\"scatter3d\"}],\"scattercarpet\":[{\"marker\":{\"colorbar\":{\"outlinewidth\":0,\"ticks\":\"\"}},\"type\":\"scattercarpet\"}],\"scattergeo\":[{\"marker\":{\"colorbar\":{\"outlinewidth\":0,\"ticks\":\"\"}},\"type\":\"scattergeo\"}],\"scattergl\":[{\"marker\":{\"colorbar\":{\"outlinewidth\":0,\"ticks\":\"\"}},\"type\":\"scattergl\"}],\"scattermapbox\":[{\"marker\":{\"colorbar\":{\"outlinewidth\":0,\"ticks\":\"\"}},\"type\":\"scattermapbox\"}],\"scatterpolar\":[{\"marker\":{\"colorbar\":{\"outlinewidth\":0,\"ticks\":\"\"}},\"type\":\"scatterpolar\"}],\"scatterpolargl\":[{\"marker\":{\"colorbar\":{\"outlinewidth\":0,\"ticks\":\"\"}},\"type\":\"scatterpolargl\"}],\"scatterternary\":[{\"marker\":{\"colorbar\":{\"outlinewidth\":0,\"ticks\":\"\"}},\"type\":\"scatterternary\"}],\"surface\":[{\"colorbar\":{\"outlinewidth\":0,\"ticks\":\"\"},\"colorscale\":[[0.0,\"#0d0887\"],[0.1111111111111111,\"#46039f\"],[0.2222222222222222,\"#7201a8\"],[0.3333333333333333,\"#9c179e\"],[0.4444444444444444,\"#bd3786\"],[0.5555555555555556,\"#d8576b\"],[0.6666666666666666,\"#ed7953\"],[0.7777777777777778,\"#fb9f3a\"],[0.8888888888888888,\"#fdca26\"],[1.0,\"#f0f921\"]],\"type\":\"surface\"}],\"table\":[{\"cells\":{\"fill\":{\"color\":\"#EBF0F8\"},\"line\":{\"color\":\"white\"}},\"header\":{\"fill\":{\"color\":\"#C8D4E3\"},\"line\":{\"color\":\"white\"}},\"type\":\"table\"}]},\"layout\":{\"annotationdefaults\":{\"arrowcolor\":\"#2a3f5f\",\"arrowhead\":0,\"arrowwidth\":1},\"autotypenumbers\":\"strict\",\"coloraxis\":{\"colorbar\":{\"outlinewidth\":0,\"ticks\":\"\"}},\"colorscale\":{\"diverging\":[[0,\"#8e0152\"],[0.1,\"#c51b7d\"],[0.2,\"#de77ae\"],[0.3,\"#f1b6da\"],[0.4,\"#fde0ef\"],[0.5,\"#f7f7f7\"],[0.6,\"#e6f5d0\"],[0.7,\"#b8e186\"],[0.8,\"#7fbc41\"],[0.9,\"#4d9221\"],[1,\"#276419\"]],\"sequential\":[[0.0,\"#0d0887\"],[0.1111111111111111,\"#46039f\"],[0.2222222222222222,\"#7201a8\"],[0.3333333333333333,\"#9c179e\"],[0.4444444444444444,\"#bd3786\"],[0.5555555555555556,\"#d8576b\"],[0.6666666666666666,\"#ed7953\"],[0.7777777777777778,\"#fb9f3a\"],[0.8888888888888888,\"#fdca26\"],[1.0,\"#f0f921\"]],\"sequentialminus\":[[0.0,\"#0d0887\"],[0.1111111111111111,\"#46039f\"],[0.2222222222222222,\"#7201a8\"],[0.3333333333333333,\"#9c179e\"],[0.4444444444444444,\"#bd3786\"],[0.5555555555555556,\"#d8576b\"],[0.6666666666666666,\"#ed7953\"],[0.7777777777777778,\"#fb9f3a\"],[0.8888888888888888,\"#fdca26\"],[1.0,\"#f0f921\"]]},\"colorway\":[\"#636efa\",\"#EF553B\",\"#00cc96\",\"#ab63fa\",\"#FFA15A\",\"#19d3f3\",\"#FF6692\",\"#B6E880\",\"#FF97FF\",\"#FECB52\"],\"font\":{\"color\":\"#2a3f5f\"},\"geo\":{\"bgcolor\":\"white\",\"lakecolor\":\"white\",\"landcolor\":\"#E5ECF6\",\"showlakes\":true,\"showland\":true,\"subunitcolor\":\"white\"},\"hoverlabel\":{\"align\":\"left\"},\"hovermode\":\"closest\",\"mapbox\":{\"style\":\"light\"},\"paper_bgcolor\":\"white\",\"plot_bgcolor\":\"#E5ECF6\",\"polar\":{\"angularaxis\":{\"gridcolor\":\"white\",\"linecolor\":\"white\",\"ticks\":\"\"},\"bgcolor\":\"#E5ECF6\",\"radialaxis\":{\"gridcolor\":\"white\",\"linecolor\":\"white\",\"ticks\":\"\"}},\"scene\":{\"xaxis\":{\"backgroundcolor\":\"#E5ECF6\",\"gridcolor\":\"white\",\"gridwidth\":2,\"linecolor\":\"white\",\"showbackground\":true,\"ticks\":\"\",\"zerolinecolor\":\"white\"},\"yaxis\":{\"backgroundcolor\":\"#E5ECF6\",\"gridcolor\":\"white\",\"gridwidth\":2,\"linecolor\":\"white\",\"showbackground\":true,\"ticks\":\"\",\"zerolinecolor\":\"white\"},\"zaxis\":{\"backgroundcolor\":\"#E5ECF6\",\"gridcolor\":\"white\",\"gridwidth\":2,\"linecolor\":\"white\",\"showbackground\":true,\"ticks\":\"\",\"zerolinecolor\":\"white\"}},\"shapedefaults\":{\"line\":{\"color\":\"#2a3f5f\"}},\"ternary\":{\"aaxis\":{\"gridcolor\":\"white\",\"linecolor\":\"white\",\"ticks\":\"\"},\"baxis\":{\"gridcolor\":\"white\",\"linecolor\":\"white\",\"ticks\":\"\"},\"bgcolor\":\"#E5ECF6\",\"caxis\":{\"gridcolor\":\"white\",\"linecolor\":\"white\",\"ticks\":\"\"}},\"title\":{\"x\":0.05},\"xaxis\":{\"automargin\":true,\"gridcolor\":\"white\",\"linecolor\":\"white\",\"ticks\":\"\",\"title\":{\"standoff\":15},\"zerolinecolor\":\"white\",\"zerolinewidth\":2},\"yaxis\":{\"automargin\":true,\"gridcolor\":\"white\",\"linecolor\":\"white\",\"ticks\":\"\",\"title\":{\"standoff\":15},\"zerolinecolor\":\"white\",\"zerolinewidth\":2}}},\"xaxis\":{\"anchor\":\"y\",\"domain\":[0.0,1.0],\"title\":{\"text\":\"index\"}},\"yaxis\":{\"anchor\":\"x\",\"domain\":[0.0,1.0],\"title\":{\"text\":\"value\"}},\"legend\":{\"title\":{\"text\":\"variable\"},\"tracegroupgap\":0},\"title\":{\"text\":\"Regresion Lineal\"}},                        {\"responsive\": true}                    ).then(function(){\n",
       "                            \n",
       "var gd = document.getElementById('897a2ce9-5ae9-452f-a71b-368079778505');\n",
       "var x = new MutationObserver(function (mutations, observer) {{\n",
       "        var display = window.getComputedStyle(gd).display;\n",
       "        if (!display || display === 'none') {{\n",
       "            console.log([gd, 'removed!']);\n",
       "            Plotly.purge(gd);\n",
       "            observer.disconnect();\n",
       "        }}\n",
       "}});\n",
       "\n",
       "// Listen for the removal of the full notebook cells\n",
       "var notebookContainer = gd.closest('#notebook-container');\n",
       "if (notebookContainer) {{\n",
       "    x.observe(notebookContainer, {childList: true});\n",
       "}}\n",
       "\n",
       "// Listen for the clearing of the current output cell\n",
       "var outputEl = gd.closest('.output');\n",
       "if (outputEl) {{\n",
       "    x.observe(outputEl, {childList: true});\n",
       "}}\n",
       "\n",
       "                        })                };                });            </script>        </div>"
      ]
     },
     "metadata": {},
     "output_type": "display_data"
    }
   ],
   "source": [
    "from matplotlib import pyplot as plt\n",
    "predicciones.plot(title=\"Linear Regresion\")"
   ]
  },
  {
   "cell_type": "markdown",
   "metadata": {},
   "source": [
    "# Random Forest"
   ]
  },
  {
   "cell_type": "code",
   "execution_count": 68,
   "metadata": {},
   "outputs": [
    {
     "name": "stderr",
     "output_type": "stream",
     "text": [
      "/opt/anaconda3/lib/python3.9/site-packages/sklearn/model_selection/_validation.py:686: DataConversionWarning: A column-vector y was passed when a 1d array was expected. Please change the shape of y to (n_samples,), for example using ravel().\n",
      "  estimator.fit(X_train, y_train, **fit_params)\n",
      "/opt/anaconda3/lib/python3.9/site-packages/sklearn/model_selection/_validation.py:686: DataConversionWarning: A column-vector y was passed when a 1d array was expected. Please change the shape of y to (n_samples,), for example using ravel().\n",
      "  estimator.fit(X_train, y_train, **fit_params)\n",
      "/opt/anaconda3/lib/python3.9/site-packages/sklearn/model_selection/_validation.py:686: DataConversionWarning: A column-vector y was passed when a 1d array was expected. Please change the shape of y to (n_samples,), for example using ravel().\n",
      "  estimator.fit(X_train, y_train, **fit_params)\n",
      "/opt/anaconda3/lib/python3.9/site-packages/sklearn/model_selection/_validation.py:686: DataConversionWarning: A column-vector y was passed when a 1d array was expected. Please change the shape of y to (n_samples,), for example using ravel().\n",
      "  estimator.fit(X_train, y_train, **fit_params)\n",
      "/opt/anaconda3/lib/python3.9/site-packages/sklearn/model_selection/_validation.py:686: DataConversionWarning: A column-vector y was passed when a 1d array was expected. Please change the shape of y to (n_samples,), for example using ravel().\n",
      "  estimator.fit(X_train, y_train, **fit_params)\n",
      "/opt/anaconda3/lib/python3.9/site-packages/sklearn/model_selection/_validation.py:686: DataConversionWarning: A column-vector y was passed when a 1d array was expected. Please change the shape of y to (n_samples,), for example using ravel().\n",
      "  estimator.fit(X_train, y_train, **fit_params)\n",
      "/opt/anaconda3/lib/python3.9/site-packages/sklearn/model_selection/_validation.py:686: DataConversionWarning: A column-vector y was passed when a 1d array was expected. Please change the shape of y to (n_samples,), for example using ravel().\n",
      "  estimator.fit(X_train, y_train, **fit_params)\n",
      "/opt/anaconda3/lib/python3.9/site-packages/sklearn/model_selection/_validation.py:686: DataConversionWarning: A column-vector y was passed when a 1d array was expected. Please change the shape of y to (n_samples,), for example using ravel().\n",
      "  estimator.fit(X_train, y_train, **fit_params)\n",
      "/opt/anaconda3/lib/python3.9/site-packages/sklearn/model_selection/_validation.py:686: DataConversionWarning: A column-vector y was passed when a 1d array was expected. Please change the shape of y to (n_samples,), for example using ravel().\n",
      "  estimator.fit(X_train, y_train, **fit_params)\n",
      "/opt/anaconda3/lib/python3.9/site-packages/sklearn/model_selection/_validation.py:686: DataConversionWarning: A column-vector y was passed when a 1d array was expected. Please change the shape of y to (n_samples,), for example using ravel().\n",
      "  estimator.fit(X_train, y_train, **fit_params)\n",
      "/opt/anaconda3/lib/python3.9/site-packages/sklearn/model_selection/_validation.py:686: DataConversionWarning: A column-vector y was passed when a 1d array was expected. Please change the shape of y to (n_samples,), for example using ravel().\n",
      "  estimator.fit(X_train, y_train, **fit_params)\n",
      "/opt/anaconda3/lib/python3.9/site-packages/sklearn/model_selection/_validation.py:686: DataConversionWarning: A column-vector y was passed when a 1d array was expected. Please change the shape of y to (n_samples,), for example using ravel().\n",
      "  estimator.fit(X_train, y_train, **fit_params)\n",
      "/opt/anaconda3/lib/python3.9/site-packages/sklearn/model_selection/_validation.py:686: DataConversionWarning: A column-vector y was passed when a 1d array was expected. Please change the shape of y to (n_samples,), for example using ravel().\n",
      "  estimator.fit(X_train, y_train, **fit_params)\n",
      "/opt/anaconda3/lib/python3.9/site-packages/sklearn/model_selection/_validation.py:686: DataConversionWarning: A column-vector y was passed when a 1d array was expected. Please change the shape of y to (n_samples,), for example using ravel().\n",
      "  estimator.fit(X_train, y_train, **fit_params)\n",
      "/opt/anaconda3/lib/python3.9/site-packages/sklearn/model_selection/_validation.py:686: DataConversionWarning: A column-vector y was passed when a 1d array was expected. Please change the shape of y to (n_samples,), for example using ravel().\n",
      "  estimator.fit(X_train, y_train, **fit_params)\n",
      "/opt/anaconda3/lib/python3.9/site-packages/sklearn/model_selection/_validation.py:686: DataConversionWarning: A column-vector y was passed when a 1d array was expected. Please change the shape of y to (n_samples,), for example using ravel().\n",
      "  estimator.fit(X_train, y_train, **fit_params)\n",
      "/opt/anaconda3/lib/python3.9/site-packages/sklearn/model_selection/_validation.py:686: DataConversionWarning: A column-vector y was passed when a 1d array was expected. Please change the shape of y to (n_samples,), for example using ravel().\n",
      "  estimator.fit(X_train, y_train, **fit_params)\n",
      "/opt/anaconda3/lib/python3.9/site-packages/sklearn/model_selection/_validation.py:686: DataConversionWarning: A column-vector y was passed when a 1d array was expected. Please change the shape of y to (n_samples,), for example using ravel().\n",
      "  estimator.fit(X_train, y_train, **fit_params)\n",
      "/opt/anaconda3/lib/python3.9/site-packages/sklearn/model_selection/_validation.py:686: DataConversionWarning: A column-vector y was passed when a 1d array was expected. Please change the shape of y to (n_samples,), for example using ravel().\n",
      "  estimator.fit(X_train, y_train, **fit_params)\n",
      "/opt/anaconda3/lib/python3.9/site-packages/sklearn/model_selection/_validation.py:686: DataConversionWarning: A column-vector y was passed when a 1d array was expected. Please change the shape of y to (n_samples,), for example using ravel().\n",
      "  estimator.fit(X_train, y_train, **fit_params)\n",
      "/opt/anaconda3/lib/python3.9/site-packages/sklearn/model_selection/_validation.py:686: DataConversionWarning: A column-vector y was passed when a 1d array was expected. Please change the shape of y to (n_samples,), for example using ravel().\n",
      "  estimator.fit(X_train, y_train, **fit_params)\n",
      "/opt/anaconda3/lib/python3.9/site-packages/sklearn/model_selection/_validation.py:686: DataConversionWarning: A column-vector y was passed when a 1d array was expected. Please change the shape of y to (n_samples,), for example using ravel().\n",
      "  estimator.fit(X_train, y_train, **fit_params)\n",
      "/opt/anaconda3/lib/python3.9/site-packages/sklearn/model_selection/_validation.py:686: DataConversionWarning: A column-vector y was passed when a 1d array was expected. Please change the shape of y to (n_samples,), for example using ravel().\n",
      "  estimator.fit(X_train, y_train, **fit_params)\n",
      "/opt/anaconda3/lib/python3.9/site-packages/sklearn/model_selection/_validation.py:686: DataConversionWarning: A column-vector y was passed when a 1d array was expected. Please change the shape of y to (n_samples,), for example using ravel().\n",
      "  estimator.fit(X_train, y_train, **fit_params)\n",
      "/opt/anaconda3/lib/python3.9/site-packages/sklearn/model_selection/_validation.py:686: DataConversionWarning: A column-vector y was passed when a 1d array was expected. Please change the shape of y to (n_samples,), for example using ravel().\n",
      "  estimator.fit(X_train, y_train, **fit_params)\n",
      "/opt/anaconda3/lib/python3.9/site-packages/sklearn/model_selection/_validation.py:686: DataConversionWarning: A column-vector y was passed when a 1d array was expected. Please change the shape of y to (n_samples,), for example using ravel().\n",
      "  estimator.fit(X_train, y_train, **fit_params)\n",
      "/opt/anaconda3/lib/python3.9/site-packages/sklearn/model_selection/_validation.py:686: DataConversionWarning: A column-vector y was passed when a 1d array was expected. Please change the shape of y to (n_samples,), for example using ravel().\n",
      "  estimator.fit(X_train, y_train, **fit_params)\n",
      "/opt/anaconda3/lib/python3.9/site-packages/sklearn/model_selection/_validation.py:686: DataConversionWarning: A column-vector y was passed when a 1d array was expected. Please change the shape of y to (n_samples,), for example using ravel().\n",
      "  estimator.fit(X_train, y_train, **fit_params)\n",
      "/opt/anaconda3/lib/python3.9/site-packages/sklearn/model_selection/_validation.py:686: DataConversionWarning: A column-vector y was passed when a 1d array was expected. Please change the shape of y to (n_samples,), for example using ravel().\n",
      "  estimator.fit(X_train, y_train, **fit_params)\n",
      "/opt/anaconda3/lib/python3.9/site-packages/sklearn/model_selection/_validation.py:686: DataConversionWarning: A column-vector y was passed when a 1d array was expected. Please change the shape of y to (n_samples,), for example using ravel().\n",
      "  estimator.fit(X_train, y_train, **fit_params)\n",
      "/opt/anaconda3/lib/python3.9/site-packages/sklearn/model_selection/_validation.py:686: DataConversionWarning: A column-vector y was passed when a 1d array was expected. Please change the shape of y to (n_samples,), for example using ravel().\n",
      "  estimator.fit(X_train, y_train, **fit_params)\n",
      "/opt/anaconda3/lib/python3.9/site-packages/sklearn/model_selection/_validation.py:686: DataConversionWarning: A column-vector y was passed when a 1d array was expected. Please change the shape of y to (n_samples,), for example using ravel().\n",
      "  estimator.fit(X_train, y_train, **fit_params)\n",
      "/opt/anaconda3/lib/python3.9/site-packages/sklearn/model_selection/_validation.py:686: DataConversionWarning: A column-vector y was passed when a 1d array was expected. Please change the shape of y to (n_samples,), for example using ravel().\n",
      "  estimator.fit(X_train, y_train, **fit_params)\n",
      "/opt/anaconda3/lib/python3.9/site-packages/sklearn/model_selection/_validation.py:686: DataConversionWarning: A column-vector y was passed when a 1d array was expected. Please change the shape of y to (n_samples,), for example using ravel().\n",
      "  estimator.fit(X_train, y_train, **fit_params)\n",
      "/opt/anaconda3/lib/python3.9/site-packages/sklearn/model_selection/_validation.py:686: DataConversionWarning: A column-vector y was passed when a 1d array was expected. Please change the shape of y to (n_samples,), for example using ravel().\n",
      "  estimator.fit(X_train, y_train, **fit_params)\n",
      "/opt/anaconda3/lib/python3.9/site-packages/sklearn/model_selection/_validation.py:686: DataConversionWarning: A column-vector y was passed when a 1d array was expected. Please change the shape of y to (n_samples,), for example using ravel().\n",
      "  estimator.fit(X_train, y_train, **fit_params)\n",
      "/opt/anaconda3/lib/python3.9/site-packages/sklearn/model_selection/_validation.py:686: DataConversionWarning: A column-vector y was passed when a 1d array was expected. Please change the shape of y to (n_samples,), for example using ravel().\n",
      "  estimator.fit(X_train, y_train, **fit_params)\n",
      "/opt/anaconda3/lib/python3.9/site-packages/sklearn/model_selection/_validation.py:686: DataConversionWarning: A column-vector y was passed when a 1d array was expected. Please change the shape of y to (n_samples,), for example using ravel().\n",
      "  estimator.fit(X_train, y_train, **fit_params)\n",
      "/opt/anaconda3/lib/python3.9/site-packages/sklearn/model_selection/_validation.py:686: DataConversionWarning: A column-vector y was passed when a 1d array was expected. Please change the shape of y to (n_samples,), for example using ravel().\n",
      "  estimator.fit(X_train, y_train, **fit_params)\n",
      "/opt/anaconda3/lib/python3.9/site-packages/sklearn/model_selection/_validation.py:686: DataConversionWarning: A column-vector y was passed when a 1d array was expected. Please change the shape of y to (n_samples,), for example using ravel().\n",
      "  estimator.fit(X_train, y_train, **fit_params)\n",
      "/opt/anaconda3/lib/python3.9/site-packages/sklearn/model_selection/_validation.py:686: DataConversionWarning: A column-vector y was passed when a 1d array was expected. Please change the shape of y to (n_samples,), for example using ravel().\n",
      "  estimator.fit(X_train, y_train, **fit_params)\n",
      "/opt/anaconda3/lib/python3.9/site-packages/sklearn/model_selection/_validation.py:686: DataConversionWarning: A column-vector y was passed when a 1d array was expected. Please change the shape of y to (n_samples,), for example using ravel().\n",
      "  estimator.fit(X_train, y_train, **fit_params)\n",
      "/opt/anaconda3/lib/python3.9/site-packages/sklearn/model_selection/_validation.py:686: DataConversionWarning: A column-vector y was passed when a 1d array was expected. Please change the shape of y to (n_samples,), for example using ravel().\n",
      "  estimator.fit(X_train, y_train, **fit_params)\n",
      "/opt/anaconda3/lib/python3.9/site-packages/sklearn/model_selection/_validation.py:686: DataConversionWarning: A column-vector y was passed when a 1d array was expected. Please change the shape of y to (n_samples,), for example using ravel().\n",
      "  estimator.fit(X_train, y_train, **fit_params)\n",
      "/opt/anaconda3/lib/python3.9/site-packages/sklearn/model_selection/_validation.py:686: DataConversionWarning: A column-vector y was passed when a 1d array was expected. Please change the shape of y to (n_samples,), for example using ravel().\n",
      "  estimator.fit(X_train, y_train, **fit_params)\n",
      "/opt/anaconda3/lib/python3.9/site-packages/sklearn/model_selection/_validation.py:686: DataConversionWarning: A column-vector y was passed when a 1d array was expected. Please change the shape of y to (n_samples,), for example using ravel().\n",
      "  estimator.fit(X_train, y_train, **fit_params)\n",
      "/opt/anaconda3/lib/python3.9/site-packages/sklearn/model_selection/_validation.py:686: DataConversionWarning: A column-vector y was passed when a 1d array was expected. Please change the shape of y to (n_samples,), for example using ravel().\n",
      "  estimator.fit(X_train, y_train, **fit_params)\n",
      "/opt/anaconda3/lib/python3.9/site-packages/sklearn/model_selection/_validation.py:686: DataConversionWarning: A column-vector y was passed when a 1d array was expected. Please change the shape of y to (n_samples,), for example using ravel().\n",
      "  estimator.fit(X_train, y_train, **fit_params)\n",
      "/opt/anaconda3/lib/python3.9/site-packages/sklearn/model_selection/_validation.py:686: DataConversionWarning: A column-vector y was passed when a 1d array was expected. Please change the shape of y to (n_samples,), for example using ravel().\n",
      "  estimator.fit(X_train, y_train, **fit_params)\n",
      "/opt/anaconda3/lib/python3.9/site-packages/sklearn/model_selection/_validation.py:686: DataConversionWarning: A column-vector y was passed when a 1d array was expected. Please change the shape of y to (n_samples,), for example using ravel().\n",
      "  estimator.fit(X_train, y_train, **fit_params)\n",
      "/opt/anaconda3/lib/python3.9/site-packages/sklearn/model_selection/_search.py:910: DataConversionWarning:\n",
      "\n",
      "A column-vector y was passed when a 1d array was expected. Please change the shape of y to (n_samples,), for example using ravel().\n",
      "\n"
     ]
    },
    {
     "data": {
      "text/html": [
       "<style>#sk-container-id-3 {color: black;background-color: white;}#sk-container-id-3 pre{padding: 0;}#sk-container-id-3 div.sk-toggleable {background-color: white;}#sk-container-id-3 label.sk-toggleable__label {cursor: pointer;display: block;width: 100%;margin-bottom: 0;padding: 0.3em;box-sizing: border-box;text-align: center;}#sk-container-id-3 label.sk-toggleable__label-arrow:before {content: \"▸\";float: left;margin-right: 0.25em;color: #696969;}#sk-container-id-3 label.sk-toggleable__label-arrow:hover:before {color: black;}#sk-container-id-3 div.sk-estimator:hover label.sk-toggleable__label-arrow:before {color: black;}#sk-container-id-3 div.sk-toggleable__content {max-height: 0;max-width: 0;overflow: hidden;text-align: left;background-color: #f0f8ff;}#sk-container-id-3 div.sk-toggleable__content pre {margin: 0.2em;color: black;border-radius: 0.25em;background-color: #f0f8ff;}#sk-container-id-3 input.sk-toggleable__control:checked~div.sk-toggleable__content {max-height: 200px;max-width: 100%;overflow: auto;}#sk-container-id-3 input.sk-toggleable__control:checked~label.sk-toggleable__label-arrow:before {content: \"▾\";}#sk-container-id-3 div.sk-estimator input.sk-toggleable__control:checked~label.sk-toggleable__label {background-color: #d4ebff;}#sk-container-id-3 div.sk-label input.sk-toggleable__control:checked~label.sk-toggleable__label {background-color: #d4ebff;}#sk-container-id-3 input.sk-hidden--visually {border: 0;clip: rect(1px 1px 1px 1px);clip: rect(1px, 1px, 1px, 1px);height: 1px;margin: -1px;overflow: hidden;padding: 0;position: absolute;width: 1px;}#sk-container-id-3 div.sk-estimator {font-family: monospace;background-color: #f0f8ff;border: 1px dotted black;border-radius: 0.25em;box-sizing: border-box;margin-bottom: 0.5em;}#sk-container-id-3 div.sk-estimator:hover {background-color: #d4ebff;}#sk-container-id-3 div.sk-parallel-item::after {content: \"\";width: 100%;border-bottom: 1px solid gray;flex-grow: 1;}#sk-container-id-3 div.sk-label:hover label.sk-toggleable__label {background-color: #d4ebff;}#sk-container-id-3 div.sk-serial::before {content: \"\";position: absolute;border-left: 1px solid gray;box-sizing: border-box;top: 0;bottom: 0;left: 50%;z-index: 0;}#sk-container-id-3 div.sk-serial {display: flex;flex-direction: column;align-items: center;background-color: white;padding-right: 0.2em;padding-left: 0.2em;position: relative;}#sk-container-id-3 div.sk-item {position: relative;z-index: 1;}#sk-container-id-3 div.sk-parallel {display: flex;align-items: stretch;justify-content: center;background-color: white;position: relative;}#sk-container-id-3 div.sk-item::before, #sk-container-id-3 div.sk-parallel-item::before {content: \"\";position: absolute;border-left: 1px solid gray;box-sizing: border-box;top: 0;bottom: 0;left: 50%;z-index: -1;}#sk-container-id-3 div.sk-parallel-item {display: flex;flex-direction: column;z-index: 1;position: relative;background-color: white;}#sk-container-id-3 div.sk-parallel-item:first-child::after {align-self: flex-end;width: 50%;}#sk-container-id-3 div.sk-parallel-item:last-child::after {align-self: flex-start;width: 50%;}#sk-container-id-3 div.sk-parallel-item:only-child::after {width: 0;}#sk-container-id-3 div.sk-dashed-wrapped {border: 1px dashed gray;margin: 0 0.4em 0.5em 0.4em;box-sizing: border-box;padding-bottom: 0.4em;background-color: white;}#sk-container-id-3 div.sk-label label {font-family: monospace;font-weight: bold;display: inline-block;line-height: 1.2em;}#sk-container-id-3 div.sk-label-container {text-align: center;}#sk-container-id-3 div.sk-container {/* jupyter's `normalize.less` sets `[hidden] { display: none; }` but bootstrap.min.css set `[hidden] { display: none !important; }` so we also need the `!important` here to be able to override the default hidden behavior on the sphinx rendered scikit-learn.org. See: https://github.com/scikit-learn/scikit-learn/issues/21755 */display: inline-block !important;position: relative;}#sk-container-id-3 div.sk-text-repr-fallback {display: none;}</style><div id=\"sk-container-id-3\" class=\"sk-top-container\"><div class=\"sk-text-repr-fallback\"><pre>RandomizedSearchCV(cv=5, estimator=RandomForestRegressor(), n_jobs=-1,\n",
       "                   param_distributions={&#x27;max_depth&#x27;: [None, 10, 20, 30],\n",
       "                                        &#x27;min_samples_leaf&#x27;: [1, 2, 4],\n",
       "                                        &#x27;min_samples_split&#x27;: [2, 5, 10],\n",
       "                                        &#x27;n_estimators&#x27;: [10, 50, 100, 200]},\n",
       "                   random_state=42, scoring=&#x27;neg_mean_squared_error&#x27;)</pre><b>In a Jupyter environment, please rerun this cell to show the HTML representation or trust the notebook. <br />On GitHub, the HTML representation is unable to render, please try loading this page with nbviewer.org.</b></div><div class=\"sk-container\" hidden><div class=\"sk-item sk-dashed-wrapped\"><div class=\"sk-label-container\"><div class=\"sk-label sk-toggleable\"><input class=\"sk-toggleable__control sk-hidden--visually\" id=\"sk-estimator-id-3\" type=\"checkbox\" ><label for=\"sk-estimator-id-3\" class=\"sk-toggleable__label sk-toggleable__label-arrow\">RandomizedSearchCV</label><div class=\"sk-toggleable__content\"><pre>RandomizedSearchCV(cv=5, estimator=RandomForestRegressor(), n_jobs=-1,\n",
       "                   param_distributions={&#x27;max_depth&#x27;: [None, 10, 20, 30],\n",
       "                                        &#x27;min_samples_leaf&#x27;: [1, 2, 4],\n",
       "                                        &#x27;min_samples_split&#x27;: [2, 5, 10],\n",
       "                                        &#x27;n_estimators&#x27;: [10, 50, 100, 200]},\n",
       "                   random_state=42, scoring=&#x27;neg_mean_squared_error&#x27;)</pre></div></div></div><div class=\"sk-parallel\"><div class=\"sk-parallel-item\"><div class=\"sk-item\"><div class=\"sk-label-container\"><div class=\"sk-label sk-toggleable\"><input class=\"sk-toggleable__control sk-hidden--visually\" id=\"sk-estimator-id-4\" type=\"checkbox\" ><label for=\"sk-estimator-id-4\" class=\"sk-toggleable__label sk-toggleable__label-arrow\">estimator: RandomForestRegressor</label><div class=\"sk-toggleable__content\"><pre>RandomForestRegressor()</pre></div></div></div><div class=\"sk-serial\"><div class=\"sk-item\"><div class=\"sk-estimator sk-toggleable\"><input class=\"sk-toggleable__control sk-hidden--visually\" id=\"sk-estimator-id-5\" type=\"checkbox\" ><label for=\"sk-estimator-id-5\" class=\"sk-toggleable__label sk-toggleable__label-arrow\">RandomForestRegressor</label><div class=\"sk-toggleable__content\"><pre>RandomForestRegressor()</pre></div></div></div></div></div></div></div></div></div></div>"
      ],
      "text/plain": [
       "RandomizedSearchCV(cv=5, estimator=RandomForestRegressor(), n_jobs=-1,\n",
       "                   param_distributions={'max_depth': [None, 10, 20, 30],\n",
       "                                        'min_samples_leaf': [1, 2, 4],\n",
       "                                        'min_samples_split': [2, 5, 10],\n",
       "                                        'n_estimators': [10, 50, 100, 200]},\n",
       "                   random_state=42, scoring='neg_mean_squared_error')"
      ]
     },
     "execution_count": 68,
     "metadata": {},
     "output_type": "execute_result"
    }
   ],
   "source": [
    "from sklearn.model_selection import RandomizedSearchCV\n",
    "from sklearn.ensemble import RandomForestRegressor\n",
    "from sklearn.model_selection import train_test_split\n",
    "from sklearn.metrics import mean_squared_error\n",
    "import pandas as pd\n",
    "\n",
    "# Definir el modelo de Random Forest\n",
    "rf_model = RandomForestRegressor()\n",
    "\n",
    "# Definir la cuadrícula de hiperparámetros a explorar\n",
    "param_dist = {\n",
    "    'n_estimators': [10, 50, 100, 200],\n",
    "    'max_depth': [None, 10, 20, 30],\n",
    "    'min_samples_split': [2, 5, 10],\n",
    "    'min_samples_leaf': [1, 2, 4]\n",
    "}\n",
    "\n",
    "# Configurar la búsqueda de cuadrícula\n",
    "grid_search =RandomizedSearchCV(estimator=rf_model, param_distributions=param_dist, n_iter=10, cv=5, scoring='neg_mean_squared_error', n_jobs=-1, random_state=42)\n",
    "\n",
    "\n",
    "# Realizar la búsqueda de cuadrícula en el conjunto de entrenamiento\n",
    "grid_search.fit(X_train, y_train)\n",
    "\n"
   ]
  },
  {
   "cell_type": "code",
   "execution_count": 70,
   "metadata": {},
   "outputs": [],
   "source": [
    "best_rf_model = grid_search.best_estimator_"
   ]
  },
  {
   "cell_type": "code",
   "execution_count": 71,
   "metadata": {},
   "outputs": [],
   "source": [
    "predictions = best_rf_model.predict(X_test)"
   ]
  },
  {
   "cell_type": "code",
   "execution_count": 72,
   "metadata": {},
   "outputs": [
    {
     "name": "stdout",
     "output_type": "stream",
     "text": [
      "El r2 score es 0.970354315259124\n",
      "El error cuadrático medio es 16981.618063149846\n",
      "El error medio absoluto es 82.32241786899027\n"
     ]
    }
   ],
   "source": [
    "metricas(y_test,predictions)"
   ]
  },
  {
   "cell_type": "code",
   "execution_count": null,
   "metadata": {},
   "outputs": [],
   "source": []
  }
 ],
 "metadata": {
  "kernelspec": {
   "display_name": "Python 3",
   "language": "python",
   "name": "python3"
  },
  "language_info": {
   "codemirror_mode": {
    "name": "ipython",
    "version": 3
   },
   "file_extension": ".py",
   "mimetype": "text/x-python",
   "name": "python",
   "nbconvert_exporter": "python",
   "pygments_lexer": "ipython3",
   "version": "3.9.12"
  }
 },
 "nbformat": 4,
 "nbformat_minor": 2
}
