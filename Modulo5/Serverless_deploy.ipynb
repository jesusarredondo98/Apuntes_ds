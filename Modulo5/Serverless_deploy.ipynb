{
 "cells": [
  {
   "cell_type": "code",
   "execution_count": 21,
   "metadata": {},
   "outputs": [],
   "source": [
    "import pickle\n",
    "import pandas as pd\n",
    "import re\n",
    "import unicodedata"
   ]
  },
  {
   "cell_type": "code",
   "execution_count": 22,
   "metadata": {},
   "outputs": [],
   "source": [
    "def clean_text(text):\n",
    "    res =  unicodedata.normalize('NFD', text).encode('ascii', 'ignore')\n",
    "    res = re.sub(\"[^a-zA-Z0-9 ]\",\" \", res.decode(\"utf-8\"), flags=re.UNICODE)\n",
    "    res =  u' '.join(res.lower().split())\n",
    "    return res"
   ]
  },
  {
   "cell_type": "code",
   "execution_count": 23,
   "metadata": {},
   "outputs": [],
   "source": [
    "STOP_WORDS,nlp,hapaxes,tfidf,var,pipe,best,lr = pickle.load(open('obj_bib_cor.pkl','rb'))"
   ]
  },
  {
   "cell_type": "code",
   "execution_count": 61,
   "metadata": {},
   "outputs": [],
   "source": [
    "prueba = \"Diles [¡oh, Mujámmad!]: \"\"¿Acaso [ese tormento] es mejor que el Paraíso eterno que se les ha prometido a los piadosos? Para ellos [los piadosos] el Paraíso será su recompensa y destino final\""
   ]
  },
  {
   "cell_type": "code",
   "execution_count": 64,
   "metadata": {},
   "outputs": [
    {
     "name": "stdout",
     "output_type": "stream",
     "text": [
      "Diles [¡oh, Mujámmad!]: ¿Acaso [ese tormento] es mejor que el Paraíso eterno que se les ha prometido a los piadosos? Para ellos [los piadosos] el Paraíso será su recompensa y destino final\n"
     ]
    }
   ],
   "source": [
    "print(prueba)"
   ]
  },
  {
   "cell_type": "code",
   "execution_count": 62,
   "metadata": {},
   "outputs": [],
   "source": [
    "def guessDivineBook(text:str)->dict:\n",
    "    text = text.lower()\n",
    "    text = \" \".join([w for w in text.split(' ') if w not in STOP_WORDS])\n",
    "    text = \" \".join([w.lemma_ for w in nlp(text)])\n",
    "    text = clean_text(text)\n",
    "    text = \" \".join([w for w in text.split(' ') if w not in hapaxes])\n",
    "    text = pd.DataFrame(tfidf.transform([text]).toarray(),columns=var)[best]\n",
    "    text = pipe.transform(text)\n",
    "    return {'probabilidad_coran':lr.predict_proba(text)[0][0],\n",
    "    'probabilidad_biblia':lr.predict_proba(text)[0][1],'libro':'biblia' if lr.predict(text)[0] else 'coran'}\n"
   ]
  },
  {
   "cell_type": "code",
   "execution_count": 63,
   "metadata": {},
   "outputs": [
    {
     "data": {
      "text/plain": [
       "{'probabilidad_coran': 0.9932898936730871,\n",
       " 'probabilidad_biblia': 0.006710106326912922,\n",
       " 'libro': 'coran'}"
      ]
     },
     "execution_count": 63,
     "metadata": {},
     "output_type": "execute_result"
    }
   ],
   "source": [
    "guessDivineBook(prueba)"
   ]
  },
  {
   "cell_type": "code",
   "execution_count": null,
   "metadata": {},
   "outputs": [],
   "source": [
    "pandas==1.4.2\n",
    "scikit-learn==0.24.2\n",
    "spacy==3.3.1"
   ]
  },
  {
   "cell_type": "code",
   "execution_count": null,
   "metadata": {},
   "outputs": [],
   "source": [
    "scikit-learn\n",
    "spacy\n",
    "pandas\n"
   ]
  }
 ],
 "metadata": {
  "kernelspec": {
   "display_name": "Python 3.8.10 ('ins')",
   "language": "python",
   "name": "python3"
  },
  "language_info": {
   "codemirror_mode": {
    "name": "ipython",
    "version": 3
   },
   "file_extension": ".py",
   "mimetype": "text/x-python",
   "name": "python",
   "nbconvert_exporter": "python",
   "pygments_lexer": "ipython3",
   "version": "3.8.10"
  },
  "orig_nbformat": 4,
  "vscode": {
   "interpreter": {
    "hash": "7e11c88f35c2c5fde0a38a51094f5e2fce5b626769864a25001c06b80821448c"
   }
  }
 },
 "nbformat": 4,
 "nbformat_minor": 2
}
