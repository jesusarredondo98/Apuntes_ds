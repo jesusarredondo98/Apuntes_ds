{
 "cells": [
  {
   "cell_type": "markdown",
   "metadata": {},
   "source": [
    "## Dependencias"
   ]
  },
  {
   "cell_type": "code",
   "execution_count": 1,
   "metadata": {},
   "outputs": [
    {
     "data": {
      "text/html": [
       "        <script type=\"text/javascript\">\n",
       "        window.PlotlyConfig = {MathJaxConfig: 'local'};\n",
       "        if (window.MathJax && window.MathJax.Hub && window.MathJax.Hub.Config) {window.MathJax.Hub.Config({SVG: {font: \"STIX-Web\"}});}\n",
       "        if (typeof require !== 'undefined') {\n",
       "        require.undef(\"plotly\");\n",
       "        requirejs.config({\n",
       "            paths: {\n",
       "                'plotly': ['https://cdn.plot.ly/plotly-2.14.0.min']\n",
       "            }\n",
       "        });\n",
       "        require(['plotly'], function(Plotly) {\n",
       "            window._Plotly = Plotly;\n",
       "        });\n",
       "        }\n",
       "        </script>\n",
       "        "
      ]
     },
     "metadata": {},
     "output_type": "display_data"
    }
   ],
   "source": [
    "import numpy as np\n",
    "import pandas as pd\n",
    "\n",
    "import matplotlib.pyplot as plt\n",
    "import seaborn as sns\n",
    "import cufflinks as cf\n",
    "\n",
    "from datetime import date,time,datetime\n",
    "from dateutil.relativedelta import relativedelta as rd\n",
    "\n",
    "from sqlalchemy.engine import create_engine\n",
    "from sqlalchemy.types import BIGINT,INT,VARCHAR,CHAR,BLOB,DATE,DATETIME,NUMERIC,FLOAT,TEXT,BOOLEAN\n",
    "\n",
    "from sklearn.model_selection import train_test_split\n",
    "from sklearn.impute import SimpleImputer\n",
    "from sklearn.preprocessing import MinMaxScaler,StandardScaler\n",
    "from sklearn.feature_selection import VarianceThreshold\n",
    "from sklearn.mixture import GaussianMixture\n",
    "from sklearn.feature_selection import SelectKBest\n",
    "from sklearn.decomposition import PCA\n",
    "from sklearn.preprocessing import OneHotEncoder\n",
    "from sklearn.pipeline import make_pipeline\n",
    "from sklearn.preprocessing import KBinsDiscretizer\n",
    "\n",
    "from varclushi import VarClusHi\n",
    "from scipy import stats\n",
    "\n",
    "from functools import reduce\n",
    "\n",
    "import json \n",
    "import glob \n",
    "import os\n",
    "\n",
    "from multiprocessing import Pool\n",
    "\n",
    "pd.set_option('display.max_columns',None)\n",
    "pd.set_option('display.float_format',lambda x:'%.2f'%x)\n",
    "\n",
    "cf.go_offline()"
   ]
  },
  {
   "cell_type": "code",
   "execution_count": 12,
   "metadata": {},
   "outputs": [],
   "source": [
    "def make_pool(func, params, threads):\n",
    "    \"\"\"\n",
    "    Ejecuta de forma paralela múltiples llamadas a una función\n",
    "    :param func: function, objeto función a paralelizar\n",
    "    :param params: iterable, parámetros de evaluación paralela\n",
    "    :param threads: int, número de hilos de multiprocesamiento\n",
    "    :return: list, resultado de la ejecución paralela agrupada en una lista\n",
    "    \"\"\"\n",
    "    pool = Pool(threads)\n",
    "    data = pool.starmap(func, params)\n",
    "    pool.close()\n",
    "    pool.join()\n",
    "    del pool\n",
    "    return [x for x in data]"
   ]
  },
  {
   "cell_type": "markdown",
   "metadata": {},
   "source": [
    "## Conexión Base de Datos"
   ]
  },
  {
   "cell_type": "code",
   "execution_count": null,
   "metadata": {},
   "outputs": [],
   "source": [
    "creds = json.load(open('creds.json','rb'))\n",
    "cnx = create_engine(f'mysql+pymysql://{creds[\"u\"]}:{creds[\"p\"]}@{creds[\"h\"]}/{creds[\"d\"]}').connect()\n",
    "cnx.closed"
   ]
  },
  {
   "cell_type": "markdown",
   "metadata": {},
   "source": [
    "## Lectura de datos y preparación universo inicial"
   ]
  },
  {
   "cell_type": "code",
   "execution_count": null,
   "metadata": {},
   "outputs": [],
   "source": [
    "query = \"\"\"\n",
    "    SELECT \n",
    "        A.id_txn,\n",
    "        A.id_user,\n",
    "        A.amount,\n",
    "        A.rej_reason,\n",
    "        A.txn_type,\n",
    "        A.is_fraud,\n",
    "        A.ts,\n",
    "        B.territory,\n",
    "        B.mcc,\n",
    "        C.gender,\n",
    "        C.state,\n",
    "        C.dob,\n",
    "        D.card_brand,\n",
    "        D.card_type,\n",
    "        D.acct_open_date\n",
    "    FROM\n",
    "        tbl_txn A\n",
    "            INNER JOIN\n",
    "        tbl_merchant B USING (id_merchant)\n",
    "            INNER JOIN\n",
    "        tbl_user C USING (id_user)\n",
    "            INNER JOIN\n",
    "        tbl_card D USING (pan)\n",
    "    ;\n",
    "    \"\"\""
   ]
  },
  {
   "cell_type": "code",
   "execution_count": null,
   "metadata": {},
   "outputs": [],
   "source": [
    "\"\"\"Cargamos en python la información obtenida de la conexion con sql\"\"\"\n",
    "df = pd.read_sql(con=cnx,sql=query)"
   ]
  },
  {
   "cell_type": "markdown",
   "metadata": {},
   "source": [
    "## Ingeniería de características"
   ]
  },
  {
   "cell_type": "code",
   "execution_count": 79,
   "metadata": {},
   "outputs": [],
   "source": [
    "#Fijamos una semilla para replicar resultados\n",
    "rs = np.random.RandomState(seed=20221015)"
   ]
  },
  {
   "cell_type": "code",
   "execution_count": 2,
   "metadata": {},
   "outputs": [],
   "source": [
    "\"\"\"Como la carga de la informacion es tardada una vez obtenida se guarda en un pickle\"\"\"\n",
    "#df.to_pickle('txn.pkl')\n",
    "df = pd.read_pickle('txn.pkl')"
   ]
  },
  {
   "cell_type": "code",
   "execution_count": 4,
   "metadata": {},
   "outputs": [],
   "source": [
    "\"\"\"Dividimos la base en los que son fraudes y los que no son fraudes\"\"\"\n",
    "nof,f = [d.reset_index(drop=True) for _,d in df.groupby('is_fraud')]"
   ]
  },
  {
   "cell_type": "code",
   "execution_count": 5,
   "metadata": {},
   "outputs": [],
   "source": [
    "\"\"\"Obtenemos una muestra de 2000 elementos que son fraudes y 2000 que no son fraudes para tener la clase balanceada\"\"\"\n",
    "nof = nof.sample(n=2000,random_state=rs).reset_index(drop=True)\n",
    "f = f.sample(n=2000,random_state=rs).reset_index(drop=True)"
   ]
  },
  {
   "cell_type": "code",
   "execution_count": 6,
   "metadata": {},
   "outputs": [],
   "source": [
    "\"\"\"Las dos muestras se juntan en un solo dataframe\"\"\"\n",
    "muestra = pd.concat([nof,f],ignore_index=True)"
   ]
  },
  {
   "cell_type": "code",
   "execution_count": 7,
   "metadata": {},
   "outputs": [],
   "source": [
    "\"\"\"De la variable ts extraemos información importante con la que podamos identificar patrones\"\"\"\n",
    "muestra['hora'] = muestra['ts'].map(lambda x:x.hour)\n",
    "muestra['mes'] = muestra['ts'].map(lambda x:x.month)\n",
    "muestra['diasem'] = muestra['ts'].map(lambda x:x.weekday()).map(dict(zip(range(7),'LMXJVSD')))"
   ]
  },
  {
   "cell_type": "code",
   "execution_count": 8,
   "metadata": {},
   "outputs": [],
   "source": [
    "\"\"\"Creamos nuevas variables, con conversion a años usando el time delta\"\"\"\n",
    "muestra['edad_usuario'] = np.round((muestra['ts'].dt.date-muestra['dob'])/np.timedelta64(1,'Y'),1) # del dia del movimiento se resta la fecha de cumpleaños para saber su edad\n",
    "muestra['antig_cta'] = np.round((muestra['ts'].dt.date-muestra['acct_open_date'])/np.timedelta64(1,'Y'),1) #del movimiento se resta la fecha de apertura de la cuenta"
   ]
  },
  {
   "cell_type": "code",
   "execution_count": 9,
   "metadata": {},
   "outputs": [],
   "source": [
    "\n",
    "\"\"\"Funcuon con la que creamos nuestras variables nuevas\"\"\"\n",
    "usuario = 262\n",
    "ancla = datetime(2014,2,9,7,57)\n",
    "\n",
    "def caract_pasado(usuario:int,ancla:datetime)->tuple:\n",
    "    ancla = pd.to_datetime(ancla)\n",
    "    aux = df.loc[(df['id_user']==usuario)&((df['ts']>=(ancla+rd(days=-30)))&(df['ts']<ancla))].copy().reset_index(drop=True)\n",
    "    aux['hora'] = aux['ts'].map(lambda x:x.hour)\n",
    "    aux['diasem'] = aux['ts'].map(lambda x:x.weekday())\n",
    "    horas_freq = \"|\".join(map(str,sorted(aux['hora'].value_counts().head(3).index)))\n",
    "    dias_freq  = \"|\".join(aux['diasem'].value_counts().head(3).sort_index().index.map(dict(zip(range(7),'LMXJVSD'))))\n",
    "    tiempo_desde_ult_txn = (ancla-aux['ts'].max())/np.timedelta64(1,'s')\n",
    "    monto_ult_txn = aux.loc[aux['ts']==aux['ts'].max()]['amount'].max()\n",
    "    monto_prom = aux['amount'].mean()\n",
    "    num_op = aux.shape[0]\n",
    "    monto_prom_anio_pasado = df.loc[(df['id_user']==usuario)&((df['ts']>=(ancla+rd(years=-1,days=-30)))&(df['ts']<=ancla+rd(years=-1)))].copy().reset_index(drop=True)['amount'].mean()\n",
    "    return horas_freq,dias_freq,tiempo_desde_ult_txn,monto_ult_txn,monto_prom,num_op,monto_prom_anio_pasado"
   ]
  },
  {
   "cell_type": "code",
   "execution_count": 10,
   "metadata": {},
   "outputs": [
    {
     "data": {
      "text/plain": [
       "('7|15|18', 'M|J|S', 1080.0, 66.0, 17.139908536585363, 328, 18.505357142857143)"
      ]
     },
     "execution_count": 10,
     "metadata": {},
     "output_type": "execute_result"
    }
   ],
   "source": [
    "caract_pasado(usuario,ancla) #corroboramos que funcione la funcion"
   ]
  },
  {
   "cell_type": "code",
   "execution_count": 18,
   "metadata": {},
   "outputs": [],
   "source": [
    "\"\"\"Damos el nombre de las nuevas variables\"\"\"\n",
    "nuevas_var = ['horas_frec','dias_frec','tiempo_desde_ult_txn',\n",
    "'monto_ult_txn','monto_prom_ult_mes','num_txn_ult_mes','monto_prom_anio_pasado']\n",
    "#muestra ['vector'] = np.vectorize(caract_pasado)(muestra['id_user'],muestra['ts'])"
   ]
  },
  {
   "cell_type": "code",
   "execution_count": 13,
   "metadata": {},
   "outputs": [],
   "source": [
    "\"\"\"Ejecutamos las dos funciones de manera simultanea, con un hilo de 100 operaciones al mismo tiempo\"\"\"\n",
    "vectores = make_pool(caract_pasado,[(u,a) for u,a in zip(muestra['id_user'],muestra['ts'])],100)"
   ]
  },
  {
   "cell_type": "code",
   "execution_count": 15,
   "metadata": {},
   "outputs": [],
   "source": [
    "\"\"\"Guardamos el una columna cada vector\"\"\"\n",
    "muestra['vector'] = vectores"
   ]
  },
  {
   "cell_type": "code",
   "execution_count": 19,
   "metadata": {},
   "outputs": [],
   "source": [
    "\"\"\"Convertimos cada elemento del vector en una serie y cada componente se adigna a cada una de las nuevas variables\n",
    "nombradas anteriormente\"\"\"\n",
    "muestra[nuevas_var] = muestra['vector'].apply(pd.Series)"
   ]
  },
  {
   "cell_type": "code",
   "execution_count": 21,
   "metadata": {},
   "outputs": [],
   "source": [
    "\"\"\"Eliminamos la columna del vector\"\"\"\n",
    "muestra.drop('vector',axis=1,inplace=True)"
   ]
  },
  {
   "cell_type": "code",
   "execution_count": 31,
   "metadata": {},
   "outputs": [],
   "source": [
    "\"\"\"Identificamos si la transaccion se hizo en el mismo estado, y eso se convierte en str\"\"\"\n",
    "muestra['dif_estado'] = (muestra['territory']!=muestra['state']).astype(str)"
   ]
  },
  {
   "cell_type": "code",
   "execution_count": 86,
   "metadata": {},
   "outputs": [],
   "source": [
    "\"\"\"Guardamos la tabla de muestra y la leemos\"\"\"\n",
    "#muestra.to_pickle('muestra.pkl')\n",
    "muestra = pd.read_pickle('muestra.pkl')"
   ]
  },
  {
   "cell_type": "code",
   "execution_count": 87,
   "metadata": {},
   "outputs": [
    {
     "data": {
      "text/plain": [
       "(4000, 28)"
      ]
     },
     "execution_count": 87,
     "metadata": {},
     "output_type": "execute_result"
    }
   ],
   "source": [
    "\"\"\"Dimensiones de nuestra TAD\"\"\"\n",
    "muestra.shape"
   ]
  },
  {
   "cell_type": "code",
   "execution_count": 88,
   "metadata": {},
   "outputs": [
    {
     "data": {
      "text/html": [
       "<div>\n",
       "<style scoped>\n",
       "    .dataframe tbody tr th:only-of-type {\n",
       "        vertical-align: middle;\n",
       "    }\n",
       "\n",
       "    .dataframe tbody tr th {\n",
       "        vertical-align: top;\n",
       "    }\n",
       "\n",
       "    .dataframe thead th {\n",
       "        text-align: right;\n",
       "    }\n",
       "</style>\n",
       "<table border=\"1\" class=\"dataframe\">\n",
       "  <thead>\n",
       "    <tr style=\"text-align: right;\">\n",
       "      <th></th>\n",
       "      <th>id_txn</th>\n",
       "      <th>amount</th>\n",
       "      <th>rej_reason</th>\n",
       "      <th>txn_type</th>\n",
       "      <th>is_fraud</th>\n",
       "      <th>ts</th>\n",
       "      <th>territory</th>\n",
       "      <th>mcc</th>\n",
       "      <th>gender</th>\n",
       "      <th>state</th>\n",
       "      <th>dob</th>\n",
       "      <th>card_brand</th>\n",
       "      <th>card_type</th>\n",
       "      <th>acct_open_date</th>\n",
       "      <th>id_user</th>\n",
       "      <th>hora</th>\n",
       "      <th>mes</th>\n",
       "      <th>diasem</th>\n",
       "      <th>edad_usuario</th>\n",
       "      <th>antig_cta</th>\n",
       "      <th>horas_frec</th>\n",
       "      <th>dias_frec</th>\n",
       "      <th>tiempo_desde_ult_txn</th>\n",
       "      <th>monto_ult_txn</th>\n",
       "      <th>monto_prom_ult_mes</th>\n",
       "      <th>num_txn_ult_mes</th>\n",
       "      <th>monto_prom_anio_pasado</th>\n",
       "      <th>dif_estado</th>\n",
       "    </tr>\n",
       "  </thead>\n",
       "  <tbody>\n",
       "    <tr>\n",
       "      <th>0</th>\n",
       "      <td>12060187</td>\n",
       "      <td>44.91</td>\n",
       "      <td>None</td>\n",
       "      <td>S</td>\n",
       "      <td>0</td>\n",
       "      <td>2001-06-02 22:08:00</td>\n",
       "      <td>CA</td>\n",
       "      <td>5211</td>\n",
       "      <td>F</td>\n",
       "      <td>CA</td>\n",
       "      <td>1964-12-01</td>\n",
       "      <td>V</td>\n",
       "      <td>D</td>\n",
       "      <td>1999-07-01</td>\n",
       "      <td>956</td>\n",
       "      <td>22</td>\n",
       "      <td>6</td>\n",
       "      <td>S</td>\n",
       "      <td>36.50</td>\n",
       "      <td>1.90</td>\n",
       "      <td>10|17|21</td>\n",
       "      <td>L|S|D</td>\n",
       "      <td>6180.00</td>\n",
       "      <td>36.99</td>\n",
       "      <td>40.19</td>\n",
       "      <td>69</td>\n",
       "      <td>39.88</td>\n",
       "      <td>False</td>\n",
       "    </tr>\n",
       "    <tr>\n",
       "      <th>1</th>\n",
       "      <td>6325687</td>\n",
       "      <td>24.35</td>\n",
       "      <td>None</td>\n",
       "      <td>S</td>\n",
       "      <td>0</td>\n",
       "      <td>2009-03-27 14:19:00</td>\n",
       "      <td>MI</td>\n",
       "      <td>5813</td>\n",
       "      <td>M</td>\n",
       "      <td>MI</td>\n",
       "      <td>1980-10-01</td>\n",
       "      <td>V</td>\n",
       "      <td>D</td>\n",
       "      <td>2008-09-01</td>\n",
       "      <td>633</td>\n",
       "      <td>14</td>\n",
       "      <td>3</td>\n",
       "      <td>V</td>\n",
       "      <td>28.50</td>\n",
       "      <td>0.60</td>\n",
       "      <td>7|14|16</td>\n",
       "      <td>L|J|D</td>\n",
       "      <td>22320.00</td>\n",
       "      <td>24.49</td>\n",
       "      <td>34.63</td>\n",
       "      <td>57</td>\n",
       "      <td>NaN</td>\n",
       "      <td>False</td>\n",
       "    </tr>\n",
       "  </tbody>\n",
       "</table>\n",
       "</div>"
      ],
      "text/plain": [
       "     id_txn  amount rej_reason txn_type  is_fraud                  ts  \\\n",
       "0  12060187   44.91       None        S         0 2001-06-02 22:08:00   \n",
       "1   6325687   24.35       None        S         0 2009-03-27 14:19:00   \n",
       "\n",
       "  territory   mcc gender state         dob card_brand card_type  \\\n",
       "0        CA  5211      F    CA  1964-12-01          V         D   \n",
       "1        MI  5813      M    MI  1980-10-01          V         D   \n",
       "\n",
       "  acct_open_date  id_user  hora  mes diasem  edad_usuario  antig_cta  \\\n",
       "0     1999-07-01      956    22    6      S         36.50       1.90   \n",
       "1     2008-09-01      633    14    3      V         28.50       0.60   \n",
       "\n",
       "  horas_frec dias_frec  tiempo_desde_ult_txn  monto_ult_txn  \\\n",
       "0   10|17|21     L|S|D               6180.00          36.99   \n",
       "1    7|14|16     L|J|D              22320.00          24.49   \n",
       "\n",
       "   monto_prom_ult_mes  num_txn_ult_mes  monto_prom_anio_pasado dif_estado  \n",
       "0               40.19               69                   39.88      False  \n",
       "1               34.63               57                     NaN      False  "
      ]
     },
     "execution_count": 88,
     "metadata": {},
     "output_type": "execute_result"
    }
   ],
   "source": [
    "muestra.head(2)"
   ]
  },
  {
   "cell_type": "markdown",
   "metadata": {},
   "source": [
    "## Caracterización de variables"
   ]
  },
  {
   "cell_type": "code",
   "execution_count": 89,
   "metadata": {},
   "outputs": [
    {
     "data": {
      "text/plain": [
       "Index(['id_txn', 'amount', 'rej_reason', 'txn_type', 'is_fraud', 'ts',\n",
       "       'territory', 'mcc', 'gender', 'state', 'dob', 'card_brand', 'card_type',\n",
       "       'acct_open_date', 'id_user', 'hora', 'mes', 'diasem', 'edad_usuario',\n",
       "       'antig_cta', 'horas_frec', 'dias_frec', 'tiempo_desde_ult_txn',\n",
       "       'monto_ult_txn', 'monto_prom_ult_mes', 'num_txn_ult_mes',\n",
       "       'monto_prom_anio_pasado', 'dif_estado'],\n",
       "      dtype='object')"
      ]
     },
     "execution_count": 89,
     "metadata": {},
     "output_type": "execute_result"
    }
   ],
   "source": [
    "muestra.columns"
   ]
  },
  {
   "cell_type": "code",
   "execution_count": 90,
   "metadata": {},
   "outputs": [],
   "source": [
    "\"\"\"Agrupamos las variables de acuerdo a su tipo\"\"\"\n",
    "um = ['id_txn']\n",
    "varc = ['amount','edad_usuario','antig_cta','tiempo_desde_ult_txn',\n",
    "       'monto_ult_txn', 'monto_prom_ult_mes', 'num_txn_ult_mes','monto_prom_anio_pasado']\n",
    "vard = ['rej_reason','txn_type','hora', 'mes', 'diasem','horas_frec', 'dias_frec','dif_estado']\n",
    "vart = ['is_fraud']"
   ]
  },
  {
   "cell_type": "code",
   "execution_count": 91,
   "metadata": {},
   "outputs": [],
   "source": [
    "\"\"\"Creamos un nuevo df para operar\"\"\"\n",
    "df = muestra[um+vart+vard+varc]"
   ]
  },
  {
   "cell_type": "code",
   "execution_count": 92,
   "metadata": {},
   "outputs": [
    {
     "data": {
      "text/html": [
       "<div>\n",
       "<style scoped>\n",
       "    .dataframe tbody tr th:only-of-type {\n",
       "        vertical-align: middle;\n",
       "    }\n",
       "\n",
       "    .dataframe tbody tr th {\n",
       "        vertical-align: top;\n",
       "    }\n",
       "\n",
       "    .dataframe thead th {\n",
       "        text-align: right;\n",
       "    }\n",
       "</style>\n",
       "<table border=\"1\" class=\"dataframe\">\n",
       "  <thead>\n",
       "    <tr style=\"text-align: right;\">\n",
       "      <th></th>\n",
       "      <th>id_txn</th>\n",
       "      <th>is_fraud</th>\n",
       "      <th>rej_reason</th>\n",
       "      <th>txn_type</th>\n",
       "      <th>hora</th>\n",
       "      <th>mes</th>\n",
       "      <th>diasem</th>\n",
       "      <th>horas_frec</th>\n",
       "      <th>dias_frec</th>\n",
       "      <th>dif_estado</th>\n",
       "      <th>amount</th>\n",
       "      <th>edad_usuario</th>\n",
       "      <th>antig_cta</th>\n",
       "      <th>tiempo_desde_ult_txn</th>\n",
       "      <th>monto_ult_txn</th>\n",
       "      <th>monto_prom_ult_mes</th>\n",
       "      <th>num_txn_ult_mes</th>\n",
       "      <th>monto_prom_anio_pasado</th>\n",
       "    </tr>\n",
       "  </thead>\n",
       "  <tbody>\n",
       "    <tr>\n",
       "      <th>0</th>\n",
       "      <td>12060187</td>\n",
       "      <td>0</td>\n",
       "      <td>None</td>\n",
       "      <td>S</td>\n",
       "      <td>22</td>\n",
       "      <td>6</td>\n",
       "      <td>S</td>\n",
       "      <td>10|17|21</td>\n",
       "      <td>L|S|D</td>\n",
       "      <td>False</td>\n",
       "      <td>44.91</td>\n",
       "      <td>36.50</td>\n",
       "      <td>1.90</td>\n",
       "      <td>6180.00</td>\n",
       "      <td>36.99</td>\n",
       "      <td>40.19</td>\n",
       "      <td>69</td>\n",
       "      <td>39.88</td>\n",
       "    </tr>\n",
       "    <tr>\n",
       "      <th>1</th>\n",
       "      <td>6325687</td>\n",
       "      <td>0</td>\n",
       "      <td>None</td>\n",
       "      <td>S</td>\n",
       "      <td>14</td>\n",
       "      <td>3</td>\n",
       "      <td>V</td>\n",
       "      <td>7|14|16</td>\n",
       "      <td>L|J|D</td>\n",
       "      <td>False</td>\n",
       "      <td>24.35</td>\n",
       "      <td>28.50</td>\n",
       "      <td>0.60</td>\n",
       "      <td>22320.00</td>\n",
       "      <td>24.49</td>\n",
       "      <td>34.63</td>\n",
       "      <td>57</td>\n",
       "      <td>NaN</td>\n",
       "    </tr>\n",
       "    <tr>\n",
       "      <th>2</th>\n",
       "      <td>19414350</td>\n",
       "      <td>0</td>\n",
       "      <td>None</td>\n",
       "      <td>S</td>\n",
       "      <td>14</td>\n",
       "      <td>2</td>\n",
       "      <td>D</td>\n",
       "      <td>0|11|12</td>\n",
       "      <td>M|J|V</td>\n",
       "      <td>False</td>\n",
       "      <td>43.87</td>\n",
       "      <td>25.30</td>\n",
       "      <td>2.20</td>\n",
       "      <td>48600.00</td>\n",
       "      <td>65.36</td>\n",
       "      <td>38.35</td>\n",
       "      <td>87</td>\n",
       "      <td>48.00</td>\n",
       "    </tr>\n",
       "    <tr>\n",
       "      <th>3</th>\n",
       "      <td>7741346</td>\n",
       "      <td>0</td>\n",
       "      <td>None</td>\n",
       "      <td>S</td>\n",
       "      <td>16</td>\n",
       "      <td>10</td>\n",
       "      <td>V</td>\n",
       "      <td>7|8|16</td>\n",
       "      <td>V|S|D</td>\n",
       "      <td>False</td>\n",
       "      <td>45.34</td>\n",
       "      <td>25.90</td>\n",
       "      <td>5.70</td>\n",
       "      <td>93240.00</td>\n",
       "      <td>44.36</td>\n",
       "      <td>21.32</td>\n",
       "      <td>28</td>\n",
       "      <td>22.70</td>\n",
       "    </tr>\n",
       "    <tr>\n",
       "      <th>4</th>\n",
       "      <td>8688631</td>\n",
       "      <td>0</td>\n",
       "      <td>None</td>\n",
       "      <td>C</td>\n",
       "      <td>11</td>\n",
       "      <td>9</td>\n",
       "      <td>S</td>\n",
       "      <td>7|11|12</td>\n",
       "      <td>L|V|D</td>\n",
       "      <td>False</td>\n",
       "      <td>55.12</td>\n",
       "      <td>39.80</td>\n",
       "      <td>14.50</td>\n",
       "      <td>2160.00</td>\n",
       "      <td>10.24</td>\n",
       "      <td>38.48</td>\n",
       "      <td>83</td>\n",
       "      <td>33.43</td>\n",
       "    </tr>\n",
       "  </tbody>\n",
       "</table>\n",
       "</div>"
      ],
      "text/plain": [
       "     id_txn  is_fraud rej_reason txn_type  hora  mes diasem horas_frec  \\\n",
       "0  12060187         0       None        S    22    6      S   10|17|21   \n",
       "1   6325687         0       None        S    14    3      V    7|14|16   \n",
       "2  19414350         0       None        S    14    2      D    0|11|12   \n",
       "3   7741346         0       None        S    16   10      V     7|8|16   \n",
       "4   8688631         0       None        C    11    9      S    7|11|12   \n",
       "\n",
       "  dias_frec dif_estado  amount  edad_usuario  antig_cta  tiempo_desde_ult_txn  \\\n",
       "0     L|S|D      False   44.91         36.50       1.90               6180.00   \n",
       "1     L|J|D      False   24.35         28.50       0.60              22320.00   \n",
       "2     M|J|V      False   43.87         25.30       2.20              48600.00   \n",
       "3     V|S|D      False   45.34         25.90       5.70              93240.00   \n",
       "4     L|V|D      False   55.12         39.80      14.50               2160.00   \n",
       "\n",
       "   monto_ult_txn  monto_prom_ult_mes  num_txn_ult_mes  monto_prom_anio_pasado  \n",
       "0          36.99               40.19               69                   39.88  \n",
       "1          24.49               34.63               57                     NaN  \n",
       "2          65.36               38.35               87                   48.00  \n",
       "3          44.36               21.32               28                   22.70  \n",
       "4          10.24               38.48               83                   33.43  "
      ]
     },
     "execution_count": 92,
     "metadata": {},
     "output_type": "execute_result"
    }
   ],
   "source": [
    "df.head()"
   ]
  },
  {
   "cell_type": "markdown",
   "metadata": {},
   "source": [
    "## Partición"
   ]
  },
  {
   "cell_type": "code",
   "execution_count": 93,
   "metadata": {},
   "outputs": [],
   "source": [
    "\"\"\"Dividimos el dataset en conjunto de entrenamiento y prueba\"\"\"\n",
    "train,valid = train_test_split(df,train_size=0.7,random_state=rs)"
   ]
  },
  {
   "cell_type": "code",
   "execution_count": 94,
   "metadata": {},
   "outputs": [],
   "source": [
    "\"\"\"Reseteamos indices\"\"\"\n",
    "train.reset_index(drop=True,inplace=True)\n",
    "valid.reset_index(drop=True,inplace=True)"
   ]
  },
  {
   "cell_type": "code",
   "execution_count": 95,
   "metadata": {},
   "outputs": [
    {
     "data": {
      "text/plain": [
       "((2800, 18), (1200, 18))"
      ]
     },
     "execution_count": 95,
     "metadata": {},
     "output_type": "execute_result"
    }
   ],
   "source": [
    "\"\"\"Vemos su dimensiones\"\"\"\n",
    "train.shape,valid.shape"
   ]
  },
  {
   "cell_type": "markdown",
   "metadata": {},
   "source": [
    "## Análisis Exploratorio de Datos"
   ]
  },
  {
   "cell_type": "markdown",
   "metadata": {},
   "source": [
    "### Continuo"
   ]
  },
  {
   "cell_type": "code",
   "execution_count": 96,
   "metadata": {},
   "outputs": [],
   "source": [
    "\"\"\"Para la variables agrupadas como continuas las hacemos numericas\"\"\"\n",
    "for v in varc:\n",
    "    train[v] = pd.to_numeric(train[v],errors='coerce')"
   ]
  },
  {
   "cell_type": "markdown",
   "metadata": {},
   "source": [
    "#### Ausentes"
   ]
  },
  {
   "cell_type": "code",
   "execution_count": 97,
   "metadata": {},
   "outputs": [
    {
     "data": {
      "text/html": [
       "<div>\n",
       "<style scoped>\n",
       "    .dataframe tbody tr th:only-of-type {\n",
       "        vertical-align: middle;\n",
       "    }\n",
       "\n",
       "    .dataframe tbody tr th {\n",
       "        vertical-align: top;\n",
       "    }\n",
       "\n",
       "    .dataframe thead th {\n",
       "        text-align: right;\n",
       "    }\n",
       "</style>\n",
       "<table border=\"1\" class=\"dataframe\">\n",
       "  <thead>\n",
       "    <tr style=\"text-align: right;\">\n",
       "      <th></th>\n",
       "      <th>count</th>\n",
       "      <th>mean</th>\n",
       "      <th>std</th>\n",
       "      <th>min</th>\n",
       "      <th>25%</th>\n",
       "      <th>50%</th>\n",
       "      <th>75%</th>\n",
       "      <th>max</th>\n",
       "    </tr>\n",
       "  </thead>\n",
       "  <tbody>\n",
       "    <tr>\n",
       "      <th>monto_prom_anio_pasado</th>\n",
       "      <td>0.06</td>\n",
       "      <td>0.98</td>\n",
       "      <td>0.98</td>\n",
       "      <td>1.00</td>\n",
       "      <td>0.99</td>\n",
       "      <td>0.99</td>\n",
       "      <td>0.98</td>\n",
       "      <td>0.56</td>\n",
       "    </tr>\n",
       "    <tr>\n",
       "      <th>amount</th>\n",
       "      <td>0.00</td>\n",
       "      <td>0.98</td>\n",
       "      <td>0.96</td>\n",
       "      <td>1.17</td>\n",
       "      <td>1.00</td>\n",
       "      <td>0.98</td>\n",
       "      <td>0.97</td>\n",
       "      <td>0.56</td>\n",
       "    </tr>\n",
       "    <tr>\n",
       "      <th>edad_usuario</th>\n",
       "      <td>0.00</td>\n",
       "      <td>0.98</td>\n",
       "      <td>0.99</td>\n",
       "      <td>0.99</td>\n",
       "      <td>0.99</td>\n",
       "      <td>0.98</td>\n",
       "      <td>0.98</td>\n",
       "      <td>0.96</td>\n",
       "    </tr>\n",
       "    <tr>\n",
       "      <th>antig_cta</th>\n",
       "      <td>0.00</td>\n",
       "      <td>1.00</td>\n",
       "      <td>1.00</td>\n",
       "      <td>1.00</td>\n",
       "      <td>1.00</td>\n",
       "      <td>1.00</td>\n",
       "      <td>1.00</td>\n",
       "      <td>0.99</td>\n",
       "    </tr>\n",
       "    <tr>\n",
       "      <th>tiempo_desde_ult_txn</th>\n",
       "      <td>0.00</td>\n",
       "      <td>-9.77</td>\n",
       "      <td>-13.72</td>\n",
       "      <td>0.98</td>\n",
       "      <td>-0.16</td>\n",
       "      <td>-3.59</td>\n",
       "      <td>-15.51</td>\n",
       "      <td>-162.16</td>\n",
       "    </tr>\n",
       "    <tr>\n",
       "      <th>monto_ult_txn</th>\n",
       "      <td>0.00</td>\n",
       "      <td>0.98</td>\n",
       "      <td>0.97</td>\n",
       "      <td>1.17</td>\n",
       "      <td>1.00</td>\n",
       "      <td>0.99</td>\n",
       "      <td>0.97</td>\n",
       "      <td>0.51</td>\n",
       "    </tr>\n",
       "    <tr>\n",
       "      <th>monto_prom_ult_mes</th>\n",
       "      <td>0.00</td>\n",
       "      <td>0.98</td>\n",
       "      <td>0.99</td>\n",
       "      <td>1.00</td>\n",
       "      <td>0.99</td>\n",
       "      <td>0.99</td>\n",
       "      <td>0.98</td>\n",
       "      <td>0.95</td>\n",
       "    </tr>\n",
       "    <tr>\n",
       "      <th>num_txn_ult_mes</th>\n",
       "      <td>0.00</td>\n",
       "      <td>0.97</td>\n",
       "      <td>0.98</td>\n",
       "      <td>1.00</td>\n",
       "      <td>0.98</td>\n",
       "      <td>0.97</td>\n",
       "      <td>0.96</td>\n",
       "      <td>0.85</td>\n",
       "    </tr>\n",
       "  </tbody>\n",
       "</table>\n",
       "</div>"
      ],
      "text/plain": [
       "                        count  mean    std  min   25%   50%    75%     max\n",
       "monto_prom_anio_pasado   0.06  0.98   0.98 1.00  0.99  0.99   0.98    0.56\n",
       "amount                   0.00  0.98   0.96 1.17  1.00  0.98   0.97    0.56\n",
       "edad_usuario             0.00  0.98   0.99 0.99  0.99  0.98   0.98    0.96\n",
       "antig_cta                0.00  1.00   1.00 1.00  1.00  1.00   1.00    0.99\n",
       "tiempo_desde_ult_txn     0.00 -9.77 -13.72 0.98 -0.16 -3.59 -15.51 -162.16\n",
       "monto_ult_txn            0.00  0.98   0.97 1.17  1.00  0.99   0.97    0.51\n",
       "monto_prom_ult_mes       0.00  0.98   0.99 1.00  0.99  0.99   0.98    0.95\n",
       "num_txn_ult_mes          0.00  0.97   0.98 1.00  0.98  0.97   0.96    0.85"
      ]
     },
     "execution_count": 97,
     "metadata": {},
     "output_type": "execute_result"
    }
   ],
   "source": [
    "\"\"\"Creamos una tabla para identificar el numero de datos ausented\"\"\"\n",
    "miss = 1-train[varc].describe().T/len(train)\n",
    "miss.sort_values(by='count',ascending=False,inplace=True)\n",
    "miss"
   ]
  },
  {
   "cell_type": "code",
   "execution_count": 98,
   "metadata": {},
   "outputs": [
    {
     "data": {
      "text/plain": [
       "((2800, 8), (2800, 8))"
      ]
     },
     "execution_count": 98,
     "metadata": {},
     "output_type": "execute_result"
    }
   ],
   "source": [
    "\"\"\"Hacemos una imputacion de valores ausentes tomando como estrategia la media por si hay valores atipicos\"\"\"\n",
    "im = SimpleImputer(strategy='median')\n",
    "im.fit(train[varc])\n",
    "Xi = pd.DataFrame(im.transform(train[varc]),columns=varc)\n",
    "Xi.dropna().shape,Xi.shape"
   ]
  },
  {
   "cell_type": "code",
   "execution_count": 99,
   "metadata": {},
   "outputs": [],
   "source": [
    "\"\"\"Hacemos una prueba de bondad de ajuste para verificar que no dañamos la distribucion de la variables,\n",
    "en este caso se muestra el valor del estadistico donde si es menor a .1 no hay problema\"\"\"\n",
    "ks = pd.DataFrame(map(lambda v:(v,stats.ks_2samp(Xi[v],train[v]).statistic),varc),columns=['var','ks'])"
   ]
  },
  {
   "cell_type": "code",
   "execution_count": 100,
   "metadata": {},
   "outputs": [
    {
     "data": {
      "text/html": [
       "<div>\n",
       "<style scoped>\n",
       "    .dataframe tbody tr th:only-of-type {\n",
       "        vertical-align: middle;\n",
       "    }\n",
       "\n",
       "    .dataframe tbody tr th {\n",
       "        vertical-align: top;\n",
       "    }\n",
       "\n",
       "    .dataframe thead th {\n",
       "        text-align: right;\n",
       "    }\n",
       "</style>\n",
       "<table border=\"1\" class=\"dataframe\">\n",
       "  <thead>\n",
       "    <tr style=\"text-align: right;\">\n",
       "      <th></th>\n",
       "      <th>var</th>\n",
       "      <th>ks</th>\n",
       "    </tr>\n",
       "  </thead>\n",
       "  <tbody>\n",
       "    <tr>\n",
       "      <th>0</th>\n",
       "      <td>amount</td>\n",
       "      <td>0.00</td>\n",
       "    </tr>\n",
       "    <tr>\n",
       "      <th>1</th>\n",
       "      <td>edad_usuario</td>\n",
       "      <td>0.00</td>\n",
       "    </tr>\n",
       "    <tr>\n",
       "      <th>2</th>\n",
       "      <td>antig_cta</td>\n",
       "      <td>0.00</td>\n",
       "    </tr>\n",
       "    <tr>\n",
       "      <th>3</th>\n",
       "      <td>tiempo_desde_ult_txn</td>\n",
       "      <td>0.00</td>\n",
       "    </tr>\n",
       "    <tr>\n",
       "      <th>4</th>\n",
       "      <td>monto_ult_txn</td>\n",
       "      <td>0.00</td>\n",
       "    </tr>\n",
       "    <tr>\n",
       "      <th>5</th>\n",
       "      <td>monto_prom_ult_mes</td>\n",
       "      <td>0.00</td>\n",
       "    </tr>\n",
       "    <tr>\n",
       "      <th>6</th>\n",
       "      <td>num_txn_ult_mes</td>\n",
       "      <td>0.00</td>\n",
       "    </tr>\n",
       "    <tr>\n",
       "      <th>7</th>\n",
       "      <td>monto_prom_anio_pasado</td>\n",
       "      <td>0.06</td>\n",
       "    </tr>\n",
       "  </tbody>\n",
       "</table>\n",
       "</div>"
      ],
      "text/plain": [
       "                      var   ks\n",
       "0                  amount 0.00\n",
       "1            edad_usuario 0.00\n",
       "2               antig_cta 0.00\n",
       "3    tiempo_desde_ult_txn 0.00\n",
       "4           monto_ult_txn 0.00\n",
       "5      monto_prom_ult_mes 0.00\n",
       "6         num_txn_ult_mes 0.00\n",
       "7  monto_prom_anio_pasado 0.06"
      ]
     },
     "execution_count": 100,
     "metadata": {},
     "output_type": "execute_result"
    }
   ],
   "source": [
    "ks"
   ]
  },
  {
   "cell_type": "markdown",
   "metadata": {},
   "source": [
    "#### Varianza Explicada"
   ]
  },
  {
   "cell_type": "code",
   "execution_count": 101,
   "metadata": {},
   "outputs": [],
   "source": [
    "\"\"\"Segun la varianza ve,ps cuales quedaron fuera y cuales se mantienen\"\"\"\n",
    "vt = VarianceThreshold()\n",
    "vt.fit(Xi)\n",
    "fuera = [v for v,var in zip(vt.feature_names_in_,vt.get_support()) if not var]\n",
    "varc = [v for v in varc if v not in fuera]"
   ]
  },
  {
   "cell_type": "code",
   "execution_count": 102,
   "metadata": {},
   "outputs": [
    {
     "data": {
      "text/plain": [
       "['amount',\n",
       " 'edad_usuario',\n",
       " 'antig_cta',\n",
       " 'tiempo_desde_ult_txn',\n",
       " 'monto_ult_txn',\n",
       " 'monto_prom_ult_mes',\n",
       " 'num_txn_ult_mes',\n",
       " 'monto_prom_anio_pasado']"
      ]
     },
     "execution_count": 102,
     "metadata": {},
     "output_type": "execute_result"
    }
   ],
   "source": [
    "varc"
   ]
  },
  {
   "cell_type": "markdown",
   "metadata": {},
   "source": [
    "#### Extremos"
   ]
  },
  {
   "cell_type": "code",
   "execution_count": 103,
   "metadata": {},
   "outputs": [
    {
     "data": {
      "text/plain": [
       "array([[<AxesSubplot: title={'center': 'amount'}>,\n",
       "        <AxesSubplot: title={'center': 'edad_usuario'}>,\n",
       "        <AxesSubplot: title={'center': 'antig_cta'}>],\n",
       "       [<AxesSubplot: title={'center': 'tiempo_desde_ult_txn'}>,\n",
       "        <AxesSubplot: title={'center': 'monto_ult_txn'}>,\n",
       "        <AxesSubplot: title={'center': 'monto_prom_ult_mes'}>],\n",
       "       [<AxesSubplot: title={'center': 'num_txn_ult_mes'}>,\n",
       "        <AxesSubplot: title={'center': 'monto_prom_anio_pasado'}>,\n",
       "        <AxesSubplot: >]], dtype=object)"
      ]
     },
     "execution_count": 103,
     "metadata": {},
     "output_type": "execute_result"
    },
    {
     "data": {
      "image/png": "[encoded data removed]",
      "text/plain": [
       "<Figure size 1000x1000 with 9 Axes>"
      ]
     },
     "metadata": {},
     "output_type": "display_data"
    }
   ],
   "source": [
    "\"\"\"Checamos la distribucion de cada variable continua\"\"\"\n",
    "Xi.hist(figsize=(10,10))"
   ]
  },
  {
   "cell_type": "code",
   "execution_count": 104,
   "metadata": {},
   "outputs": [],
   "source": [
    "\"\"\"Prueba univariada por IQR\"\"\"\n",
    "for v,li,ls in Xi.describe(percentiles=[0.01,0.99]).T[['1%','99%']].reset_index().values.tolist():\n",
    "    Xi[f'ex_{v}'] = ((Xi[v]<li)|(Xi[v]>ls)).astype(int)\n",
    "Xi['ex'] = Xi.filter(like='ex_').max(axis=1)"
   ]
  },
  {
   "cell_type": "code",
   "execution_count": 105,
   "metadata": {},
   "outputs": [
    {
     "data": {
      "text/plain": [
       "0   0.88\n",
       "1   0.12\n",
       "Name: ex, dtype: float64"
      ]
     },
     "execution_count": 105,
     "metadata": {},
     "output_type": "execute_result"
    }
   ],
   "source": [
    "\"\"\"Porcentaje de eliminados\"\"\"\n",
    "Xi['ex'].value_counts(1)"
   ]
  },
  {
   "cell_type": "code",
   "execution_count": 106,
   "metadata": {},
   "outputs": [],
   "source": [
    "\"\"\"Agregamos la unidad muestral para identificar a cuantos eliminados\"\"\"\n",
    "Xi[um] = train[um]"
   ]
  },
  {
   "cell_type": "code",
   "execution_count": 107,
   "metadata": {},
   "outputs": [],
   "source": [
    "\"\"\"Metodo multivariante, declaramos el # componentes igual a 10 por su intepretabilidad pero puede rondear por ese numero\"\"\"\n",
    "gmm = GaussianMixture(n_components=10)"
   ]
  },
  {
   "cell_type": "code",
   "execution_count": 108,
   "metadata": {},
   "outputs": [
    {
     "data": {
      "text/html": [
       "<style>#sk-container-id-6 {color: black;background-color: white;}#sk-container-id-6 pre{padding: 0;}#sk-container-id-6 div.sk-toggleable {background-color: white;}#sk-container-id-6 label.sk-toggleable__label {cursor: pointer;display: block;width: 100%;margin-bottom: 0;padding: 0.3em;box-sizing: border-box;text-align: center;}#sk-container-id-6 label.sk-toggleable__label-arrow:before {content: \"▸\";float: left;margin-right: 0.25em;color: #696969;}#sk-container-id-6 label.sk-toggleable__label-arrow:hover:before {color: black;}#sk-container-id-6 div.sk-estimator:hover label.sk-toggleable__label-arrow:before {color: black;}#sk-container-id-6 div.sk-toggleable__content {max-height: 0;max-width: 0;overflow: hidden;text-align: left;background-color: #f0f8ff;}#sk-container-id-6 div.sk-toggleable__content pre {margin: 0.2em;color: black;border-radius: 0.25em;background-color: #f0f8ff;}#sk-container-id-6 input.sk-toggleable__control:checked~div.sk-toggleable__content {max-height: 200px;max-width: 100%;overflow: auto;}#sk-container-id-6 input.sk-toggleable__control:checked~label.sk-toggleable__label-arrow:before {content: \"▾\";}#sk-container-id-6 div.sk-estimator input.sk-toggleable__control:checked~label.sk-toggleable__label {background-color: #d4ebff;}#sk-container-id-6 div.sk-label input.sk-toggleable__control:checked~label.sk-toggleable__label {background-color: #d4ebff;}#sk-container-id-6 input.sk-hidden--visually {border: 0;clip: rect(1px 1px 1px 1px);clip: rect(1px, 1px, 1px, 1px);height: 1px;margin: -1px;overflow: hidden;padding: 0;position: absolute;width: 1px;}#sk-container-id-6 div.sk-estimator {font-family: monospace;background-color: #f0f8ff;border: 1px dotted black;border-radius: 0.25em;box-sizing: border-box;margin-bottom: 0.5em;}#sk-container-id-6 div.sk-estimator:hover {background-color: #d4ebff;}#sk-container-id-6 div.sk-parallel-item::after {content: \"\";width: 100%;border-bottom: 1px solid gray;flex-grow: 1;}#sk-container-id-6 div.sk-label:hover label.sk-toggleable__label {background-color: #d4ebff;}#sk-container-id-6 div.sk-serial::before {content: \"\";position: absolute;border-left: 1px solid gray;box-sizing: border-box;top: 0;bottom: 0;left: 50%;z-index: 0;}#sk-container-id-6 div.sk-serial {display: flex;flex-direction: column;align-items: center;background-color: white;padding-right: 0.2em;padding-left: 0.2em;position: relative;}#sk-container-id-6 div.sk-item {position: relative;z-index: 1;}#sk-container-id-6 div.sk-parallel {display: flex;align-items: stretch;justify-content: center;background-color: white;position: relative;}#sk-container-id-6 div.sk-item::before, #sk-container-id-6 div.sk-parallel-item::before {content: \"\";position: absolute;border-left: 1px solid gray;box-sizing: border-box;top: 0;bottom: 0;left: 50%;z-index: -1;}#sk-container-id-6 div.sk-parallel-item {display: flex;flex-direction: column;z-index: 1;position: relative;background-color: white;}#sk-container-id-6 div.sk-parallel-item:first-child::after {align-self: flex-end;width: 50%;}#sk-container-id-6 div.sk-parallel-item:last-child::after {align-self: flex-start;width: 50%;}#sk-container-id-6 div.sk-parallel-item:only-child::after {width: 0;}#sk-container-id-6 div.sk-dashed-wrapped {border: 1px dashed gray;margin: 0 0.4em 0.5em 0.4em;box-sizing: border-box;padding-bottom: 0.4em;background-color: white;}#sk-container-id-6 div.sk-label label {font-family: monospace;font-weight: bold;display: inline-block;line-height: 1.2em;}#sk-container-id-6 div.sk-label-container {text-align: center;}#sk-container-id-6 div.sk-container {/* jupyter's `normalize.less` sets `[hidden] { display: none; }` but bootstrap.min.css set `[hidden] { display: none !important; }` so we also need the `!important` here to be able to override the default hidden behavior on the sphinx rendered scikit-learn.org. See: https://github.com/scikit-learn/scikit-learn/issues/21755 */display: inline-block !important;position: relative;}#sk-container-id-6 div.sk-text-repr-fallback {display: none;}</style><div id=\"sk-container-id-6\" class=\"sk-top-container\"><div class=\"sk-text-repr-fallback\"><pre>GaussianMixture(n_components=10)</pre><b>In a Jupyter environment, please rerun this cell to show the HTML representation or trust the notebook. <br />On GitHub, the HTML representation is unable to render, please try loading this page with nbviewer.org.</b></div><div class=\"sk-container\" hidden><div class=\"sk-item\"><div class=\"sk-estimator sk-toggleable\"><input class=\"sk-toggleable__control sk-hidden--visually\" id=\"sk-estimator-id-9\" type=\"checkbox\" checked><label for=\"sk-estimator-id-9\" class=\"sk-toggleable__label sk-toggleable__label-arrow\">GaussianMixture</label><div class=\"sk-toggleable__content\"><pre>GaussianMixture(n_components=10)</pre></div></div></div></div></div>"
      ],
      "text/plain": [
       "GaussianMixture(n_components=10)"
      ]
     },
     "execution_count": 108,
     "metadata": {},
     "output_type": "execute_result"
    }
   ],
   "source": [
    "gmm.fit(Xi[varc]) #entrenamos"
   ]
  },
  {
   "cell_type": "code",
   "execution_count": 109,
   "metadata": {},
   "outputs": [],
   "source": [
    "Xi['ex_mv'] = gmm.predict(Xi[varc]) #predecimos"
   ]
  },
  {
   "cell_type": "code",
   "execution_count": 110,
   "metadata": {},
   "outputs": [
    {
     "data": {
      "text/plain": [
       "0   0.21\n",
       "8   0.21\n",
       "5   0.18\n",
       "3   0.18\n",
       "1   0.07\n",
       "7   0.07\n",
       "2   0.06\n",
       "6   0.01\n",
       "4   0.01\n",
       "9   0.00\n",
       "Name: ex_mv, dtype: float64"
      ]
     },
     "execution_count": 110,
     "metadata": {},
     "output_type": "execute_result"
    }
   ],
   "source": [
    "Xi['ex_mv'].value_counts(1) #checamos los elementos por clause y si es menor a 0.05 se dice que es outlier"
   ]
  },
  {
   "cell_type": "code",
   "execution_count": 111,
   "metadata": {},
   "outputs": [
    {
     "data": {
      "text/plain": [
       "array([[<AxesSubplot: title={'center': 'amount'}>,\n",
       "        <AxesSubplot: title={'center': 'edad_usuario'}>,\n",
       "        <AxesSubplot: title={'center': 'antig_cta'}>],\n",
       "       [<AxesSubplot: title={'center': 'tiempo_desde_ult_txn'}>,\n",
       "        <AxesSubplot: title={'center': 'monto_ult_txn'}>,\n",
       "        <AxesSubplot: title={'center': 'monto_prom_ult_mes'}>],\n",
       "       [<AxesSubplot: title={'center': 'num_txn_ult_mes'}>,\n",
       "        <AxesSubplot: title={'center': 'monto_prom_anio_pasado'}>,\n",
       "        <AxesSubplot: >]], dtype=object)"
      ]
     },
     "execution_count": 111,
     "metadata": {},
     "output_type": "execute_result"
    },
    {
     "data": {
      "image/png": "[encoded data removed]",
      "text/plain": [
       "<Figure size 1000x1000 with 9 Axes>"
      ]
     },
     "metadata": {},
     "output_type": "display_data"
    }
   ],
   "source": [
    "\"\"\"Resultados univariados\"\"\"\n",
    "Xi.loc[Xi['ex']==0].reset_index(drop=True).drop(Xi.filter(like='ex_').columns,axis=1)[varc].hist(figsize=(10,10))"
   ]
  },
  {
   "cell_type": "code",
   "execution_count": 112,
   "metadata": {},
   "outputs": [
    {
     "data": {
      "text/plain": [
       "array([[<AxesSubplot: title={'center': 'amount'}>,\n",
       "        <AxesSubplot: title={'center': 'edad_usuario'}>,\n",
       "        <AxesSubplot: title={'center': 'antig_cta'}>],\n",
       "       [<AxesSubplot: title={'center': 'tiempo_desde_ult_txn'}>,\n",
       "        <AxesSubplot: title={'center': 'monto_ult_txn'}>,\n",
       "        <AxesSubplot: title={'center': 'monto_prom_ult_mes'}>],\n",
       "       [<AxesSubplot: title={'center': 'num_txn_ult_mes'}>,\n",
       "        <AxesSubplot: title={'center': 'monto_prom_anio_pasado'}>,\n",
       "        <AxesSubplot: >]], dtype=object)"
      ]
     },
     "execution_count": 112,
     "metadata": {},
     "output_type": "execute_result"
    },
    {
     "data": {
      "image/png": "[encoded data removed]",
      "text/plain": [
       "<Figure size 1000x1000 with 9 Axes>"
      ]
     },
     "metadata": {},
     "output_type": "display_data"
    }
   ],
   "source": [
    "\"\"\"Resultados multivariados quitando los clusters 3,9,4\"\"\"\n",
    "Xi.loc[~Xi['ex_mv'].isin([3,9,4])].reset_index(drop=True).drop(Xi.filter(like='ex_').columns,axis=1)[varc].hist(figsize=(10,10))"
   ]
  },
  {
   "cell_type": "code",
   "execution_count": 113,
   "metadata": {},
   "outputs": [],
   "source": [
    "\"\"\"Quitamos los outliers identificados por el metodo multivariado\"\"\"\n",
    "Xi = Xi.loc[~Xi['ex_mv'].isin([3,9,4])].reset_index(drop=True).drop(Xi.filter(like='ex_').columns,axis=1)"
   ]
  },
  {
   "cell_type": "code",
   "execution_count": 114,
   "metadata": {},
   "outputs": [
    {
     "data": {
      "text/html": [
       "<div>\n",
       "<style scoped>\n",
       "    .dataframe tbody tr th:only-of-type {\n",
       "        vertical-align: middle;\n",
       "    }\n",
       "\n",
       "    .dataframe tbody tr th {\n",
       "        vertical-align: top;\n",
       "    }\n",
       "\n",
       "    .dataframe thead th {\n",
       "        text-align: right;\n",
       "    }\n",
       "</style>\n",
       "<table border=\"1\" class=\"dataframe\">\n",
       "  <thead>\n",
       "    <tr style=\"text-align: right;\">\n",
       "      <th></th>\n",
       "      <th>amount</th>\n",
       "      <th>edad_usuario</th>\n",
       "      <th>antig_cta</th>\n",
       "      <th>tiempo_desde_ult_txn</th>\n",
       "      <th>monto_ult_txn</th>\n",
       "      <th>monto_prom_ult_mes</th>\n",
       "      <th>num_txn_ult_mes</th>\n",
       "      <th>monto_prom_anio_pasado</th>\n",
       "      <th>ex</th>\n",
       "      <th>id_txn</th>\n",
       "    </tr>\n",
       "  </thead>\n",
       "  <tbody>\n",
       "    <tr>\n",
       "      <th>0</th>\n",
       "      <td>97.84</td>\n",
       "      <td>44.00</td>\n",
       "      <td>9.40</td>\n",
       "      <td>16980.00</td>\n",
       "      <td>23.26</td>\n",
       "      <td>64.80</td>\n",
       "      <td>73.00</td>\n",
       "      <td>58.24</td>\n",
       "      <td>0</td>\n",
       "      <td>18182765</td>\n",
       "    </tr>\n",
       "    <tr>\n",
       "      <th>1</th>\n",
       "      <td>22.74</td>\n",
       "      <td>46.70</td>\n",
       "      <td>5.00</td>\n",
       "      <td>38700.00</td>\n",
       "      <td>20.53</td>\n",
       "      <td>59.92</td>\n",
       "      <td>121.00</td>\n",
       "      <td>57.57</td>\n",
       "      <td>0</td>\n",
       "      <td>21001891</td>\n",
       "    </tr>\n",
       "    <tr>\n",
       "      <th>2</th>\n",
       "      <td>311.83</td>\n",
       "      <td>25.20</td>\n",
       "      <td>5.40</td>\n",
       "      <td>8940.00</td>\n",
       "      <td>48.02</td>\n",
       "      <td>28.01</td>\n",
       "      <td>122.00</td>\n",
       "      <td>22.87</td>\n",
       "      <td>0</td>\n",
       "      <td>7089553</td>\n",
       "    </tr>\n",
       "    <tr>\n",
       "      <th>3</th>\n",
       "      <td>26.01</td>\n",
       "      <td>37.30</td>\n",
       "      <td>5.00</td>\n",
       "      <td>1860.00</td>\n",
       "      <td>18.30</td>\n",
       "      <td>35.59</td>\n",
       "      <td>157.00</td>\n",
       "      <td>39.83</td>\n",
       "      <td>0</td>\n",
       "      <td>15603055</td>\n",
       "    </tr>\n",
       "    <tr>\n",
       "      <th>4</th>\n",
       "      <td>-61.00</td>\n",
       "      <td>26.50</td>\n",
       "      <td>6.70</td>\n",
       "      <td>23520.00</td>\n",
       "      <td>39.56</td>\n",
       "      <td>35.17</td>\n",
       "      <td>130.00</td>\n",
       "      <td>25.65</td>\n",
       "      <td>0</td>\n",
       "      <td>7085120</td>\n",
       "    </tr>\n",
       "  </tbody>\n",
       "</table>\n",
       "</div>"
      ],
      "text/plain": [
       "   amount  edad_usuario  antig_cta  tiempo_desde_ult_txn  monto_ult_txn  \\\n",
       "0   97.84         44.00       9.40              16980.00          23.26   \n",
       "1   22.74         46.70       5.00              38700.00          20.53   \n",
       "2  311.83         25.20       5.40               8940.00          48.02   \n",
       "3   26.01         37.30       5.00               1860.00          18.30   \n",
       "4  -61.00         26.50       6.70              23520.00          39.56   \n",
       "\n",
       "   monto_prom_ult_mes  num_txn_ult_mes  monto_prom_anio_pasado  ex    id_txn  \n",
       "0               64.80            73.00                   58.24   0  18182765  \n",
       "1               59.92           121.00                   57.57   0  21001891  \n",
       "2               28.01           122.00                   22.87   0   7089553  \n",
       "3               35.59           157.00                   39.83   0  15603055  \n",
       "4               35.17           130.00                   25.65   0   7085120  "
      ]
     },
     "execution_count": 114,
     "metadata": {},
     "output_type": "execute_result"
    }
   ],
   "source": [
    "Xi.head()"
   ]
  },
  {
   "cell_type": "markdown",
   "metadata": {},
   "source": [
    "#### Multicolinealidad"
   ]
  },
  {
   "cell_type": "code",
   "execution_count": 115,
   "metadata": {},
   "outputs": [
    {
     "data": {
      "text/plain": [
       "<varclushi.varclushi.VarClusHi at 0x14184f040>"
      ]
     },
     "execution_count": 115,
     "metadata": {},
     "output_type": "execute_result"
    }
   ],
   "source": [
    "\"\"\"Usando varclushi se generan cluster de variables por su colinealidad\"\"\"\n",
    "vc = VarClusHi(df=Xi,feat_list=varc)\n",
    "vc.varclus()"
   ]
  },
  {
   "cell_type": "code",
   "execution_count": 116,
   "metadata": {},
   "outputs": [
    {
     "data": {
      "text/html": [
       "<div>\n",
       "<style scoped>\n",
       "    .dataframe tbody tr th:only-of-type {\n",
       "        vertical-align: middle;\n",
       "    }\n",
       "\n",
       "    .dataframe tbody tr th {\n",
       "        vertical-align: top;\n",
       "    }\n",
       "\n",
       "    .dataframe thead th {\n",
       "        text-align: right;\n",
       "    }\n",
       "</style>\n",
       "<table border=\"1\" class=\"dataframe\">\n",
       "  <thead>\n",
       "    <tr style=\"text-align: right;\">\n",
       "      <th></th>\n",
       "      <th>Cluster</th>\n",
       "      <th>Variable</th>\n",
       "      <th>RS_Own</th>\n",
       "      <th>RS_NC</th>\n",
       "      <th>RS_Ratio</th>\n",
       "    </tr>\n",
       "  </thead>\n",
       "  <tbody>\n",
       "    <tr>\n",
       "      <th>1</th>\n",
       "      <td>0</td>\n",
       "      <td>monto_prom_ult_mes</td>\n",
       "      <td>0.63</td>\n",
       "      <td>0.01</td>\n",
       "      <td>0.38</td>\n",
       "    </tr>\n",
       "    <tr>\n",
       "      <th>2</th>\n",
       "      <td>0</td>\n",
       "      <td>monto_prom_anio_pasado</td>\n",
       "      <td>0.39</td>\n",
       "      <td>0.01</td>\n",
       "      <td>0.61</td>\n",
       "    </tr>\n",
       "    <tr>\n",
       "      <th>0</th>\n",
       "      <td>0</td>\n",
       "      <td>monto_ult_txn</td>\n",
       "      <td>0.34</td>\n",
       "      <td>0.00</td>\n",
       "      <td>0.66</td>\n",
       "    </tr>\n",
       "    <tr>\n",
       "      <th>5</th>\n",
       "      <td>1</td>\n",
       "      <td>num_txn_ult_mes</td>\n",
       "      <td>0.61</td>\n",
       "      <td>0.01</td>\n",
       "      <td>0.40</td>\n",
       "    </tr>\n",
       "    <tr>\n",
       "      <th>4</th>\n",
       "      <td>1</td>\n",
       "      <td>tiempo_desde_ult_txn</td>\n",
       "      <td>0.56</td>\n",
       "      <td>0.00</td>\n",
       "      <td>0.44</td>\n",
       "    </tr>\n",
       "    <tr>\n",
       "      <th>3</th>\n",
       "      <td>1</td>\n",
       "      <td>amount</td>\n",
       "      <td>0.08</td>\n",
       "      <td>0.00</td>\n",
       "      <td>0.92</td>\n",
       "    </tr>\n",
       "    <tr>\n",
       "      <th>6</th>\n",
       "      <td>2</td>\n",
       "      <td>edad_usuario</td>\n",
       "      <td>0.61</td>\n",
       "      <td>0.00</td>\n",
       "      <td>0.39</td>\n",
       "    </tr>\n",
       "    <tr>\n",
       "      <th>7</th>\n",
       "      <td>2</td>\n",
       "      <td>antig_cta</td>\n",
       "      <td>0.61</td>\n",
       "      <td>0.01</td>\n",
       "      <td>0.40</td>\n",
       "    </tr>\n",
       "  </tbody>\n",
       "</table>\n",
       "</div>"
      ],
      "text/plain": [
       "   Cluster                Variable  RS_Own  RS_NC  RS_Ratio\n",
       "1        0      monto_prom_ult_mes    0.63   0.01      0.38\n",
       "2        0  monto_prom_anio_pasado    0.39   0.01      0.61\n",
       "0        0           monto_ult_txn    0.34   0.00      0.66\n",
       "5        1         num_txn_ult_mes    0.61   0.01      0.40\n",
       "4        1    tiempo_desde_ult_txn    0.56   0.00      0.44\n",
       "3        1                  amount    0.08   0.00      0.92\n",
       "6        2            edad_usuario    0.61   0.00      0.39\n",
       "7        2               antig_cta    0.61   0.01      0.40"
      ]
     },
     "execution_count": 116,
     "metadata": {},
     "output_type": "execute_result"
    }
   ],
   "source": [
    "vc.rsquare.sort_values(by=['Cluster','RS_Ratio'])"
   ]
  },
  {
   "cell_type": "code",
   "execution_count": 117,
   "metadata": {},
   "outputs": [],
   "source": [
    "\"\"\"Se toma el de menor RS_Ratop de cada cluster\"\"\"\n",
    "best = list(vc.rsquare.sort_values(by=['Cluster','RS_Ratio']).groupby('Cluster').first()['Variable'])"
   ]
  },
  {
   "cell_type": "code",
   "execution_count": 118,
   "metadata": {},
   "outputs": [
    {
     "data": {
      "text/plain": [
       "['monto_prom_ult_mes', 'num_txn_ult_mes', 'edad_usuario']"
      ]
     },
     "execution_count": 118,
     "metadata": {},
     "output_type": "execute_result"
    }
   ],
   "source": [
    "best"
   ]
  },
  {
   "cell_type": "markdown",
   "metadata": {},
   "source": [
    "#### Poder Predictivo"
   ]
  },
  {
   "cell_type": "code",
   "execution_count": 119,
   "metadata": {},
   "outputs": [],
   "source": [
    "\"\"\"Unimos la variable objetivo\"\"\"\n",
    "Xi = Xi.merge(train[um+vart],on=um,how='inner')"
   ]
  },
  {
   "cell_type": "code",
   "execution_count": 120,
   "metadata": {},
   "outputs": [],
   "source": [
    "\"\"\"Aplicamos selectkbest a con numero de las variables seleccionadas por multicolinealidad\"\"\"\n",
    "sk = SelectKBest(k=len(best))"
   ]
  },
  {
   "cell_type": "code",
   "execution_count": 121,
   "metadata": {},
   "outputs": [
    {
     "data": {
      "text/html": [
       "<style>#sk-container-id-7 {color: black;background-color: white;}#sk-container-id-7 pre{padding: 0;}#sk-container-id-7 div.sk-toggleable {background-color: white;}#sk-container-id-7 label.sk-toggleable__label {cursor: pointer;display: block;width: 100%;margin-bottom: 0;padding: 0.3em;box-sizing: border-box;text-align: center;}#sk-container-id-7 label.sk-toggleable__label-arrow:before {content: \"▸\";float: left;margin-right: 0.25em;color: #696969;}#sk-container-id-7 label.sk-toggleable__label-arrow:hover:before {color: black;}#sk-container-id-7 div.sk-estimator:hover label.sk-toggleable__label-arrow:before {color: black;}#sk-container-id-7 div.sk-toggleable__content {max-height: 0;max-width: 0;overflow: hidden;text-align: left;background-color: #f0f8ff;}#sk-container-id-7 div.sk-toggleable__content pre {margin: 0.2em;color: black;border-radius: 0.25em;background-color: #f0f8ff;}#sk-container-id-7 input.sk-toggleable__control:checked~div.sk-toggleable__content {max-height: 200px;max-width: 100%;overflow: auto;}#sk-container-id-7 input.sk-toggleable__control:checked~label.sk-toggleable__label-arrow:before {content: \"▾\";}#sk-container-id-7 div.sk-estimator input.sk-toggleable__control:checked~label.sk-toggleable__label {background-color: #d4ebff;}#sk-container-id-7 div.sk-label input.sk-toggleable__control:checked~label.sk-toggleable__label {background-color: #d4ebff;}#sk-container-id-7 input.sk-hidden--visually {border: 0;clip: rect(1px 1px 1px 1px);clip: rect(1px, 1px, 1px, 1px);height: 1px;margin: -1px;overflow: hidden;padding: 0;position: absolute;width: 1px;}#sk-container-id-7 div.sk-estimator {font-family: monospace;background-color: #f0f8ff;border: 1px dotted black;border-radius: 0.25em;box-sizing: border-box;margin-bottom: 0.5em;}#sk-container-id-7 div.sk-estimator:hover {background-color: #d4ebff;}#sk-container-id-7 div.sk-parallel-item::after {content: \"\";width: 100%;border-bottom: 1px solid gray;flex-grow: 1;}#sk-container-id-7 div.sk-label:hover label.sk-toggleable__label {background-color: #d4ebff;}#sk-container-id-7 div.sk-serial::before {content: \"\";position: absolute;border-left: 1px solid gray;box-sizing: border-box;top: 0;bottom: 0;left: 50%;z-index: 0;}#sk-container-id-7 div.sk-serial {display: flex;flex-direction: column;align-items: center;background-color: white;padding-right: 0.2em;padding-left: 0.2em;position: relative;}#sk-container-id-7 div.sk-item {position: relative;z-index: 1;}#sk-container-id-7 div.sk-parallel {display: flex;align-items: stretch;justify-content: center;background-color: white;position: relative;}#sk-container-id-7 div.sk-item::before, #sk-container-id-7 div.sk-parallel-item::before {content: \"\";position: absolute;border-left: 1px solid gray;box-sizing: border-box;top: 0;bottom: 0;left: 50%;z-index: -1;}#sk-container-id-7 div.sk-parallel-item {display: flex;flex-direction: column;z-index: 1;position: relative;background-color: white;}#sk-container-id-7 div.sk-parallel-item:first-child::after {align-self: flex-end;width: 50%;}#sk-container-id-7 div.sk-parallel-item:last-child::after {align-self: flex-start;width: 50%;}#sk-container-id-7 div.sk-parallel-item:only-child::after {width: 0;}#sk-container-id-7 div.sk-dashed-wrapped {border: 1px dashed gray;margin: 0 0.4em 0.5em 0.4em;box-sizing: border-box;padding-bottom: 0.4em;background-color: white;}#sk-container-id-7 div.sk-label label {font-family: monospace;font-weight: bold;display: inline-block;line-height: 1.2em;}#sk-container-id-7 div.sk-label-container {text-align: center;}#sk-container-id-7 div.sk-container {/* jupyter's `normalize.less` sets `[hidden] { display: none; }` but bootstrap.min.css set `[hidden] { display: none !important; }` so we also need the `!important` here to be able to override the default hidden behavior on the sphinx rendered scikit-learn.org. See: https://github.com/scikit-learn/scikit-learn/issues/21755 */display: inline-block !important;position: relative;}#sk-container-id-7 div.sk-text-repr-fallback {display: none;}</style><div id=\"sk-container-id-7\" class=\"sk-top-container\"><div class=\"sk-text-repr-fallback\"><pre>SelectKBest(k=3)</pre><b>In a Jupyter environment, please rerun this cell to show the HTML representation or trust the notebook. <br />On GitHub, the HTML representation is unable to render, please try loading this page with nbviewer.org.</b></div><div class=\"sk-container\" hidden><div class=\"sk-item\"><div class=\"sk-estimator sk-toggleable\"><input class=\"sk-toggleable__control sk-hidden--visually\" id=\"sk-estimator-id-10\" type=\"checkbox\" checked><label for=\"sk-estimator-id-10\" class=\"sk-toggleable__label sk-toggleable__label-arrow\">SelectKBest</label><div class=\"sk-toggleable__content\"><pre>SelectKBest(k=3)</pre></div></div></div></div></div>"
      ],
      "text/plain": [
       "SelectKBest(k=3)"
      ]
     },
     "execution_count": 121,
     "metadata": {},
     "output_type": "execute_result"
    }
   ],
   "source": [
    "\"\"\"Entrenamos con las variables escogidas por multicolinealidad con respecto a la target\"\"\"\n",
    "sk.fit(Xi[best],Xi[vart[0]])"
   ]
  },
  {
   "cell_type": "code",
   "execution_count": 122,
   "metadata": {},
   "outputs": [
    {
     "data": {
      "application/vnd.plotly.v1+json": {
       "config": {
        "linkText": "Export to plot.ly",
        "plotlyServerURL": "https://plot.ly",
        "showLink": true
       },
       "data": [
        {
         "marker": {
          "color": "rgba(128, 0, 128, 0.6)",
          "line": {
           "color": "rgba(128, 0, 128, 1.0)",
           "width": 1
          }
         },
         "name": "score",
         "orientation": "v",
         "text": "",
         "type": "bar",
         "x": [
          "num_txn_ult_mes",
          "monto_prom_ult_mes",
          "edad_usuario"
         ],
         "y": [
          44.97903512630862,
          8.431124177711336,
          3.6184448558262665
         ]
        }
       ],
       "layout": {
        "legend": {
         "bgcolor": "#F5F6F9",
         "font": {
          "color": "#4D5663"
         }
        },
        "paper_bgcolor": "#F5F6F9",
        "plot_bgcolor": "#F5F6F9",
        "template": {
         "data": {
          "bar": [
           {
            "error_x": {
             "color": "#2a3f5f"
            },
            "error_y": {
             "color": "#2a3f5f"
            },
            "marker": {
             "line": {
              "color": "#E5ECF6",
              "width": 0.5
             },
             "pattern": {
              "fillmode": "overlay",
              "size": 10,
              "solidity": 0.2
             }
            },
            "type": "bar"
           }
          ],
          "barpolar": [
           {
            "marker": {
             "line": {
              "color": "#E5ECF6",
              "width": 0.5
             },
             "pattern": {
              "fillmode": "overlay",
              "size": 10,
              "solidity": 0.2
             }
            },
            "type": "barpolar"
           }
          ],
          "carpet": [
           {
            "aaxis": {
             "endlinecolor": "#2a3f5f",
             "gridcolor": "white",
             "linecolor": "white",
             "minorgridcolor": "white",
             "startlinecolor": "#2a3f5f"
            },
            "baxis": {
             "endlinecolor": "#2a3f5f",
             "gridcolor": "white",
             "linecolor": "white",
             "minorgridcolor": "white",
             "startlinecolor": "#2a3f5f"
            },
            "type": "carpet"
           }
          ],
          "choropleth": [
           {
            "colorbar": {
             "outlinewidth": 0,
             "ticks": ""
            },
            "type": "choropleth"
           }
          ],
          "contour": [
           {
            "colorbar": {
             "outlinewidth": 0,
             "ticks": ""
            },
            "colorscale": [
             [
              0,
              "#0d0887"
             ],
             [
              0.1111111111111111,
              "#46039f"
             ],
             [
              0.2222222222222222,
              "#7201a8"
             ],
             [
              0.3333333333333333,
              "#9c179e"
             ],
             [
              0.4444444444444444,
              "#bd3786"
             ],
             [
              0.5555555555555556,
              "#d8576b"
             ],
             [
              0.6666666666666666,
              "#ed7953"
             ],
             [
              0.7777777777777778,
              "#fb9f3a"
             ],
             [
              0.8888888888888888,
              "#fdca26"
             ],
             [
              1,
              "#f0f921"
             ]
            ],
            "type": "contour"
           }
          ],
          "contourcarpet": [
           {
            "colorbar": {
             "outlinewidth": 0,
             "ticks": ""
            },
            "type": "contourcarpet"
           }
          ],
          "heatmap": [
           {
            "colorbar": {
             "outlinewidth": 0,
             "ticks": ""
            },
            "colorscale": [
             [
              0,
              "#0d0887"
             ],
             [
              0.1111111111111111,
              "#46039f"
             ],
             [
              0.2222222222222222,
              "#7201a8"
             ],
             [
              0.3333333333333333,
              "#9c179e"
             ],
             [
              0.4444444444444444,
              "#bd3786"
             ],
             [
              0.5555555555555556,
              "#d8576b"
             ],
             [
              0.6666666666666666,
              "#ed7953"
             ],
             [
              0.7777777777777778,
              "#fb9f3a"
             ],
             [
              0.8888888888888888,
              "#fdca26"
             ],
             [
              1,
              "#f0f921"
             ]
            ],
            "type": "heatmap"
           }
          ],
          "heatmapgl": [
           {
            "colorbar": {
             "outlinewidth": 0,
             "ticks": ""
            },
            "colorscale": [
             [
              0,
              "#0d0887"
             ],
             [
              0.1111111111111111,
              "#46039f"
             ],
             [
              0.2222222222222222,
              "#7201a8"
             ],
             [
              0.3333333333333333,
              "#9c179e"
             ],
             [
              0.4444444444444444,
              "#bd3786"
             ],
             [
              0.5555555555555556,
              "#d8576b"
             ],
             [
              0.6666666666666666,
              "#ed7953"
             ],
             [
              0.7777777777777778,
              "#fb9f3a"
             ],
             [
              0.8888888888888888,
              "#fdca26"
             ],
             [
              1,
              "#f0f921"
             ]
            ],
            "type": "heatmapgl"
           }
          ],
          "histogram": [
           {
            "marker": {
             "pattern": {
              "fillmode": "overlay",
              "size": 10,
              "solidity": 0.2
             }
            },
            "type": "histogram"
           }
          ],
          "histogram2d": [
           {
            "colorbar": {
             "outlinewidth": 0,
             "ticks": ""
            },
            "colorscale": [
             [
              0,
              "#0d0887"
             ],
             [
              0.1111111111111111,
              "#46039f"
             ],
             [
              0.2222222222222222,
              "#7201a8"
             ],
             [
              0.3333333333333333,
              "#9c179e"
             ],
             [
              0.4444444444444444,
              "#bd3786"
             ],
             [
              0.5555555555555556,
              "#d8576b"
             ],
             [
              0.6666666666666666,
              "#ed7953"
             ],
             [
              0.7777777777777778,
              "#fb9f3a"
             ],
             [
              0.8888888888888888,
              "#fdca26"
             ],
             [
              1,
              "#f0f921"
             ]
            ],
            "type": "histogram2d"
           }
          ],
          "histogram2dcontour": [
           {
            "colorbar": {
             "outlinewidth": 0,
             "ticks": ""
            },
            "colorscale": [
             [
              0,
              "#0d0887"
             ],
             [
              0.1111111111111111,
              "#46039f"
             ],
             [
              0.2222222222222222,
              "#7201a8"
             ],
             [
              0.3333333333333333,
              "#9c179e"
             ],
             [
              0.4444444444444444,
              "#bd3786"
             ],
             [
              0.5555555555555556,
              "#d8576b"
             ],
             [
              0.6666666666666666,
              "#ed7953"
             ],
             [
              0.7777777777777778,
              "#fb9f3a"
             ],
             [
              0.8888888888888888,
              "#fdca26"
             ],
             [
              1,
              "#f0f921"
             ]
            ],
            "type": "histogram2dcontour"
           }
          ],
          "mesh3d": [
           {
            "colorbar": {
             "outlinewidth": 0,
             "ticks": ""
            },
            "type": "mesh3d"
           }
          ],
          "parcoords": [
           {
            "line": {
             "colorbar": {
              "outlinewidth": 0,
              "ticks": ""
             }
            },
            "type": "parcoords"
           }
          ],
          "pie": [
           {
            "automargin": true,
            "type": "pie"
           }
          ],
          "scatter": [
           {
            "fillpattern": {
             "fillmode": "overlay",
             "size": 10,
             "solidity": 0.2
            },
            "type": "scatter"
           }
          ],
          "scatter3d": [
           {
            "line": {
             "colorbar": {
              "outlinewidth": 0,
              "ticks": ""
             }
            },
            "marker": {
             "colorbar": {
              "outlinewidth": 0,
              "ticks": ""
             }
            },
            "type": "scatter3d"
           }
          ],
          "scattercarpet": [
           {
            "marker": {
             "colorbar": {
              "outlinewidth": 0,
              "ticks": ""
             }
            },
            "type": "scattercarpet"
           }
          ],
          "scattergeo": [
           {
            "marker": {
             "colorbar": {
              "outlinewidth": 0,
              "ticks": ""
             }
            },
            "type": "scattergeo"
           }
          ],
          "scattergl": [
           {
            "marker": {
             "colorbar": {
              "outlinewidth": 0,
              "ticks": ""
             }
            },
            "type": "scattergl"
           }
          ],
          "scattermapbox": [
           {
            "marker": {
             "colorbar": {
              "outlinewidth": 0,
              "ticks": ""
             }
            },
            "type": "scattermapbox"
           }
          ],
          "scatterpolar": [
           {
            "marker": {
             "colorbar": {
              "outlinewidth": 0,
              "ticks": ""
             }
            },
            "type": "scatterpolar"
           }
          ],
          "scatterpolargl": [
           {
            "marker": {
             "colorbar": {
              "outlinewidth": 0,
              "ticks": ""
             }
            },
            "type": "scatterpolargl"
           }
          ],
          "scatterternary": [
           {
            "marker": {
             "colorbar": {
              "outlinewidth": 0,
              "ticks": ""
             }
            },
            "type": "scatterternary"
           }
          ],
          "surface": [
           {
            "colorbar": {
             "outlinewidth": 0,
             "ticks": ""
            },
            "colorscale": [
             [
              0,
              "#0d0887"
             ],
             [
              0.1111111111111111,
              "#46039f"
             ],
             [
              0.2222222222222222,
              "#7201a8"
             ],
             [
              0.3333333333333333,
              "#9c179e"
             ],
             [
              0.4444444444444444,
              "#bd3786"
             ],
             [
              0.5555555555555556,
              "#d8576b"
             ],
             [
              0.6666666666666666,
              "#ed7953"
             ],
             [
              0.7777777777777778,
              "#fb9f3a"
             ],
             [
              0.8888888888888888,
              "#fdca26"
             ],
             [
              1,
              "#f0f921"
             ]
            ],
            "type": "surface"
           }
          ],
          "table": [
           {
            "cells": {
             "fill": {
              "color": "#EBF0F8"
             },
             "line": {
              "color": "white"
             }
            },
            "header": {
             "fill": {
              "color": "#C8D4E3"
             },
             "line": {
              "color": "white"
             }
            },
            "type": "table"
           }
          ]
         },
         "layout": {
          "annotationdefaults": {
           "arrowcolor": "#2a3f5f",
           "arrowhead": 0,
           "arrowwidth": 1
          },
          "autotypenumbers": "strict",
          "coloraxis": {
           "colorbar": {
            "outlinewidth": 0,
            "ticks": ""
           }
          },
          "colorscale": {
           "diverging": [
            [
             0,
             "#8e0152"
            ],
            [
             0.1,
             "#c51b7d"
            ],
            [
             0.2,
             "#de77ae"
            ],
            [
             0.3,
             "#f1b6da"
            ],
            [
             0.4,
             "#fde0ef"
            ],
            [
             0.5,
             "#f7f7f7"
            ],
            [
             0.6,
             "#e6f5d0"
            ],
            [
             0.7,
             "#b8e186"
            ],
            [
             0.8,
             "#7fbc41"
            ],
            [
             0.9,
             "#4d9221"
            ],
            [
             1,
             "#276419"
            ]
           ],
           "sequential": [
            [
             0,
             "#0d0887"
            ],
            [
             0.1111111111111111,
             "#46039f"
            ],
            [
             0.2222222222222222,
             "#7201a8"
            ],
            [
             0.3333333333333333,
             "#9c179e"
            ],
            [
             0.4444444444444444,
             "#bd3786"
            ],
            [
             0.5555555555555556,
             "#d8576b"
            ],
            [
             0.6666666666666666,
             "#ed7953"
            ],
            [
             0.7777777777777778,
             "#fb9f3a"
            ],
            [
             0.8888888888888888,
             "#fdca26"
            ],
            [
             1,
             "#f0f921"
            ]
           ],
           "sequentialminus": [
            [
             0,
             "#0d0887"
            ],
            [
             0.1111111111111111,
             "#46039f"
            ],
            [
             0.2222222222222222,
             "#7201a8"
            ],
            [
             0.3333333333333333,
             "#9c179e"
            ],
            [
             0.4444444444444444,
             "#bd3786"
            ],
            [
             0.5555555555555556,
             "#d8576b"
            ],
            [
             0.6666666666666666,
             "#ed7953"
            ],
            [
             0.7777777777777778,
             "#fb9f3a"
            ],
            [
             0.8888888888888888,
             "#fdca26"
            ],
            [
             1,
             "#f0f921"
            ]
           ]
          },
          "colorway": [
           "#636efa",
           "#EF553B",
           "#00cc96",
           "#ab63fa",
           "#FFA15A",
           "#19d3f3",
           "#FF6692",
           "#B6E880",
           "#FF97FF",
           "#FECB52"
          ],
          "font": {
           "color": "#2a3f5f"
          },
          "geo": {
           "bgcolor": "white",
           "lakecolor": "white",
           "landcolor": "#E5ECF6",
           "showlakes": true,
           "showland": true,
           "subunitcolor": "white"
          },
          "hoverlabel": {
           "align": "left"
          },
          "hovermode": "closest",
          "mapbox": {
           "style": "light"
          },
          "paper_bgcolor": "white",
          "plot_bgcolor": "#E5ECF6",
          "polar": {
           "angularaxis": {
            "gridcolor": "white",
            "linecolor": "white",
            "ticks": ""
           },
           "bgcolor": "#E5ECF6",
           "radialaxis": {
            "gridcolor": "white",
            "linecolor": "white",
            "ticks": ""
           }
          },
          "scene": {
           "xaxis": {
            "backgroundcolor": "#E5ECF6",
            "gridcolor": "white",
            "gridwidth": 2,
            "linecolor": "white",
            "showbackground": true,
            "ticks": "",
            "zerolinecolor": "white"
           },
           "yaxis": {
            "backgroundcolor": "#E5ECF6",
            "gridcolor": "white",
            "gridwidth": 2,
            "linecolor": "white",
            "showbackground": true,
            "ticks": "",
            "zerolinecolor": "white"
           },
           "zaxis": {
            "backgroundcolor": "#E5ECF6",
            "gridcolor": "white",
            "gridwidth": 2,
            "linecolor": "white",
            "showbackground": true,
            "ticks": "",
            "zerolinecolor": "white"
           }
          },
          "shapedefaults": {
           "line": {
            "color": "#2a3f5f"
           }
          },
          "ternary": {
           "aaxis": {
            "gridcolor": "white",
            "linecolor": "white",
            "ticks": ""
           },
           "baxis": {
            "gridcolor": "white",
            "linecolor": "white",
            "ticks": ""
           },
           "bgcolor": "#E5ECF6",
           "caxis": {
            "gridcolor": "white",
            "linecolor": "white",
            "ticks": ""
           }
          },
          "title": {
           "x": 0.05
          },
          "xaxis": {
           "automargin": true,
           "gridcolor": "white",
           "linecolor": "white",
           "ticks": "",
           "title": {
            "standoff": 15
           },
           "zerolinecolor": "white",
           "zerolinewidth": 2
          },
          "yaxis": {
           "automargin": true,
           "gridcolor": "white",
           "linecolor": "white",
           "ticks": "",
           "title": {
            "standoff": 15
           },
           "zerolinecolor": "white",
           "zerolinewidth": 2
          }
         }
        },
        "title": {
         "font": {
          "color": "#4D5663"
         }
        },
        "xaxis": {
         "gridcolor": "#E1E5ED",
         "showgrid": true,
         "tickfont": {
          "color": "#4D5663"
         },
         "title": {
          "font": {
           "color": "#4D5663"
          },
          "text": ""
         },
         "zerolinecolor": "#E1E5ED"
        },
        "yaxis": {
         "gridcolor": "#E1E5ED",
         "showgrid": true,
         "tickfont": {
          "color": "#4D5663"
         },
         "title": {
          "font": {
           "color": "#4D5663"
          },
          "text": ""
         },
         "zerolinecolor": "#E1E5ED"
        }
       }
      },
      "text/html": [
       "<div>                            <div id=\"41acb291-7b77-4625-9f9f-f3a167a451d2\" class=\"plotly-graph-div\" style=\"height:525px; width:100%;\"></div>            <script type=\"text/javascript\">                require([\"plotly\"], function(Plotly) {                    window.PLOTLYENV=window.PLOTLYENV || {};\n",
       "                    window.PLOTLYENV.BASE_URL='https://plot.ly';                                    if (document.getElementById(\"41acb291-7b77-4625-9f9f-f3a167a451d2\")) {                    Plotly.newPlot(                        \"41acb291-7b77-4625-9f9f-f3a167a451d2\",                        [{\"marker\":{\"color\":\"rgba(128, 0, 128, 0.6)\",\"line\":{\"color\":\"rgba(128, 0, 128, 1.0)\",\"width\":1}},\"name\":\"score\",\"orientation\":\"v\",\"text\":\"\",\"x\":[\"num_txn_ult_mes\",\"monto_prom_ult_mes\",\"edad_usuario\"],\"y\":[44.97903512630862,8.431124177711336,3.6184448558262665],\"type\":\"bar\"}],                        {\"legend\":{\"bgcolor\":\"#F5F6F9\",\"font\":{\"color\":\"#4D5663\"}},\"paper_bgcolor\":\"#F5F6F9\",\"plot_bgcolor\":\"#F5F6F9\",\"template\":{\"data\":{\"barpolar\":[{\"marker\":{\"line\":{\"color\":\"#E5ECF6\",\"width\":0.5},\"pattern\":{\"fillmode\":\"overlay\",\"size\":10,\"solidity\":0.2}},\"type\":\"barpolar\"}],\"bar\":[{\"error_x\":{\"color\":\"#2a3f5f\"},\"error_y\":{\"color\":\"#2a3f5f\"},\"marker\":{\"line\":{\"color\":\"#E5ECF6\",\"width\":0.5},\"pattern\":{\"fillmode\":\"overlay\",\"size\":10,\"solidity\":0.2}},\"type\":\"bar\"}],\"carpet\":[{\"aaxis\":{\"endlinecolor\":\"#2a3f5f\",\"gridcolor\":\"white\",\"linecolor\":\"white\",\"minorgridcolor\":\"white\",\"startlinecolor\":\"#2a3f5f\"},\"baxis\":{\"endlinecolor\":\"#2a3f5f\",\"gridcolor\":\"white\",\"linecolor\":\"white\",\"minorgridcolor\":\"white\",\"startlinecolor\":\"#2a3f5f\"},\"type\":\"carpet\"}],\"choropleth\":[{\"colorbar\":{\"outlinewidth\":0,\"ticks\":\"\"},\"type\":\"choropleth\"}],\"contourcarpet\":[{\"colorbar\":{\"outlinewidth\":0,\"ticks\":\"\"},\"type\":\"contourcarpet\"}],\"contour\":[{\"colorbar\":{\"outlinewidth\":0,\"ticks\":\"\"},\"colorscale\":[[0.0,\"#0d0887\"],[0.1111111111111111,\"#46039f\"],[0.2222222222222222,\"#7201a8\"],[0.3333333333333333,\"#9c179e\"],[0.4444444444444444,\"#bd3786\"],[0.5555555555555556,\"#d8576b\"],[0.6666666666666666,\"#ed7953\"],[0.7777777777777778,\"#fb9f3a\"],[0.8888888888888888,\"#fdca26\"],[1.0,\"#f0f921\"]],\"type\":\"contour\"}],\"heatmapgl\":[{\"colorbar\":{\"outlinewidth\":0,\"ticks\":\"\"},\"colorscale\":[[0.0,\"#0d0887\"],[0.1111111111111111,\"#46039f\"],[0.2222222222222222,\"#7201a8\"],[0.3333333333333333,\"#9c179e\"],[0.4444444444444444,\"#bd3786\"],[0.5555555555555556,\"#d8576b\"],[0.6666666666666666,\"#ed7953\"],[0.7777777777777778,\"#fb9f3a\"],[0.8888888888888888,\"#fdca26\"],[1.0,\"#f0f921\"]],\"type\":\"heatmapgl\"}],\"heatmap\":[{\"colorbar\":{\"outlinewidth\":0,\"ticks\":\"\"},\"colorscale\":[[0.0,\"#0d0887\"],[0.1111111111111111,\"#46039f\"],[0.2222222222222222,\"#7201a8\"],[0.3333333333333333,\"#9c179e\"],[0.4444444444444444,\"#bd3786\"],[0.5555555555555556,\"#d8576b\"],[0.6666666666666666,\"#ed7953\"],[0.7777777777777778,\"#fb9f3a\"],[0.8888888888888888,\"#fdca26\"],[1.0,\"#f0f921\"]],\"type\":\"heatmap\"}],\"histogram2dcontour\":[{\"colorbar\":{\"outlinewidth\":0,\"ticks\":\"\"},\"colorscale\":[[0.0,\"#0d0887\"],[0.1111111111111111,\"#46039f\"],[0.2222222222222222,\"#7201a8\"],[0.3333333333333333,\"#9c179e\"],[0.4444444444444444,\"#bd3786\"],[0.5555555555555556,\"#d8576b\"],[0.6666666666666666,\"#ed7953\"],[0.7777777777777778,\"#fb9f3a\"],[0.8888888888888888,\"#fdca26\"],[1.0,\"#f0f921\"]],\"type\":\"histogram2dcontour\"}],\"histogram2d\":[{\"colorbar\":{\"outlinewidth\":0,\"ticks\":\"\"},\"colorscale\":[[0.0,\"#0d0887\"],[0.1111111111111111,\"#46039f\"],[0.2222222222222222,\"#7201a8\"],[0.3333333333333333,\"#9c179e\"],[0.4444444444444444,\"#bd3786\"],[0.5555555555555556,\"#d8576b\"],[0.6666666666666666,\"#ed7953\"],[0.7777777777777778,\"#fb9f3a\"],[0.8888888888888888,\"#fdca26\"],[1.0,\"#f0f921\"]],\"type\":\"histogram2d\"}],\"histogram\":[{\"marker\":{\"pattern\":{\"fillmode\":\"overlay\",\"size\":10,\"solidity\":0.2}},\"type\":\"histogram\"}],\"mesh3d\":[{\"colorbar\":{\"outlinewidth\":0,\"ticks\":\"\"},\"type\":\"mesh3d\"}],\"parcoords\":[{\"line\":{\"colorbar\":{\"outlinewidth\":0,\"ticks\":\"\"}},\"type\":\"parcoords\"}],\"pie\":[{\"automargin\":true,\"type\":\"pie\"}],\"scatter3d\":[{\"line\":{\"colorbar\":{\"outlinewidth\":0,\"ticks\":\"\"}},\"marker\":{\"colorbar\":{\"outlinewidth\":0,\"ticks\":\"\"}},\"type\":\"scatter3d\"}],\"scattercarpet\":[{\"marker\":{\"colorbar\":{\"outlinewidth\":0,\"ticks\":\"\"}},\"type\":\"scattercarpet\"}],\"scattergeo\":[{\"marker\":{\"colorbar\":{\"outlinewidth\":0,\"ticks\":\"\"}},\"type\":\"scattergeo\"}],\"scattergl\":[{\"marker\":{\"colorbar\":{\"outlinewidth\":0,\"ticks\":\"\"}},\"type\":\"scattergl\"}],\"scattermapbox\":[{\"marker\":{\"colorbar\":{\"outlinewidth\":0,\"ticks\":\"\"}},\"type\":\"scattermapbox\"}],\"scatterpolargl\":[{\"marker\":{\"colorbar\":{\"outlinewidth\":0,\"ticks\":\"\"}},\"type\":\"scatterpolargl\"}],\"scatterpolar\":[{\"marker\":{\"colorbar\":{\"outlinewidth\":0,\"ticks\":\"\"}},\"type\":\"scatterpolar\"}],\"scatter\":[{\"fillpattern\":{\"fillmode\":\"overlay\",\"size\":10,\"solidity\":0.2},\"type\":\"scatter\"}],\"scatterternary\":[{\"marker\":{\"colorbar\":{\"outlinewidth\":0,\"ticks\":\"\"}},\"type\":\"scatterternary\"}],\"surface\":[{\"colorbar\":{\"outlinewidth\":0,\"ticks\":\"\"},\"colorscale\":[[0.0,\"#0d0887\"],[0.1111111111111111,\"#46039f\"],[0.2222222222222222,\"#7201a8\"],[0.3333333333333333,\"#9c179e\"],[0.4444444444444444,\"#bd3786\"],[0.5555555555555556,\"#d8576b\"],[0.6666666666666666,\"#ed7953\"],[0.7777777777777778,\"#fb9f3a\"],[0.8888888888888888,\"#fdca26\"],[1.0,\"#f0f921\"]],\"type\":\"surface\"}],\"table\":[{\"cells\":{\"fill\":{\"color\":\"#EBF0F8\"},\"line\":{\"color\":\"white\"}},\"header\":{\"fill\":{\"color\":\"#C8D4E3\"},\"line\":{\"color\":\"white\"}},\"type\":\"table\"}]},\"layout\":{\"annotationdefaults\":{\"arrowcolor\":\"#2a3f5f\",\"arrowhead\":0,\"arrowwidth\":1},\"autotypenumbers\":\"strict\",\"coloraxis\":{\"colorbar\":{\"outlinewidth\":0,\"ticks\":\"\"}},\"colorscale\":{\"diverging\":[[0,\"#8e0152\"],[0.1,\"#c51b7d\"],[0.2,\"#de77ae\"],[0.3,\"#f1b6da\"],[0.4,\"#fde0ef\"],[0.5,\"#f7f7f7\"],[0.6,\"#e6f5d0\"],[0.7,\"#b8e186\"],[0.8,\"#7fbc41\"],[0.9,\"#4d9221\"],[1,\"#276419\"]],\"sequential\":[[0.0,\"#0d0887\"],[0.1111111111111111,\"#46039f\"],[0.2222222222222222,\"#7201a8\"],[0.3333333333333333,\"#9c179e\"],[0.4444444444444444,\"#bd3786\"],[0.5555555555555556,\"#d8576b\"],[0.6666666666666666,\"#ed7953\"],[0.7777777777777778,\"#fb9f3a\"],[0.8888888888888888,\"#fdca26\"],[1.0,\"#f0f921\"]],\"sequentialminus\":[[0.0,\"#0d0887\"],[0.1111111111111111,\"#46039f\"],[0.2222222222222222,\"#7201a8\"],[0.3333333333333333,\"#9c179e\"],[0.4444444444444444,\"#bd3786\"],[0.5555555555555556,\"#d8576b\"],[0.6666666666666666,\"#ed7953\"],[0.7777777777777778,\"#fb9f3a\"],[0.8888888888888888,\"#fdca26\"],[1.0,\"#f0f921\"]]},\"colorway\":[\"#636efa\",\"#EF553B\",\"#00cc96\",\"#ab63fa\",\"#FFA15A\",\"#19d3f3\",\"#FF6692\",\"#B6E880\",\"#FF97FF\",\"#FECB52\"],\"font\":{\"color\":\"#2a3f5f\"},\"geo\":{\"bgcolor\":\"white\",\"lakecolor\":\"white\",\"landcolor\":\"#E5ECF6\",\"showlakes\":true,\"showland\":true,\"subunitcolor\":\"white\"},\"hoverlabel\":{\"align\":\"left\"},\"hovermode\":\"closest\",\"mapbox\":{\"style\":\"light\"},\"paper_bgcolor\":\"white\",\"plot_bgcolor\":\"#E5ECF6\",\"polar\":{\"angularaxis\":{\"gridcolor\":\"white\",\"linecolor\":\"white\",\"ticks\":\"\"},\"bgcolor\":\"#E5ECF6\",\"radialaxis\":{\"gridcolor\":\"white\",\"linecolor\":\"white\",\"ticks\":\"\"}},\"scene\":{\"xaxis\":{\"backgroundcolor\":\"#E5ECF6\",\"gridcolor\":\"white\",\"gridwidth\":2,\"linecolor\":\"white\",\"showbackground\":true,\"ticks\":\"\",\"zerolinecolor\":\"white\"},\"yaxis\":{\"backgroundcolor\":\"#E5ECF6\",\"gridcolor\":\"white\",\"gridwidth\":2,\"linecolor\":\"white\",\"showbackground\":true,\"ticks\":\"\",\"zerolinecolor\":\"white\"},\"zaxis\":{\"backgroundcolor\":\"#E5ECF6\",\"gridcolor\":\"white\",\"gridwidth\":2,\"linecolor\":\"white\",\"showbackground\":true,\"ticks\":\"\",\"zerolinecolor\":\"white\"}},\"shapedefaults\":{\"line\":{\"color\":\"#2a3f5f\"}},\"ternary\":{\"aaxis\":{\"gridcolor\":\"white\",\"linecolor\":\"white\",\"ticks\":\"\"},\"baxis\":{\"gridcolor\":\"white\",\"linecolor\":\"white\",\"ticks\":\"\"},\"bgcolor\":\"#E5ECF6\",\"caxis\":{\"gridcolor\":\"white\",\"linecolor\":\"white\",\"ticks\":\"\"}},\"title\":{\"x\":0.05},\"xaxis\":{\"automargin\":true,\"gridcolor\":\"white\",\"linecolor\":\"white\",\"ticks\":\"\",\"title\":{\"standoff\":15},\"zerolinecolor\":\"white\",\"zerolinewidth\":2},\"yaxis\":{\"automargin\":true,\"gridcolor\":\"white\",\"linecolor\":\"white\",\"ticks\":\"\",\"title\":{\"standoff\":15},\"zerolinecolor\":\"white\",\"zerolinewidth\":2}}},\"title\":{\"font\":{\"color\":\"#4D5663\"}},\"xaxis\":{\"gridcolor\":\"#E1E5ED\",\"showgrid\":true,\"tickfont\":{\"color\":\"#4D5663\"},\"title\":{\"font\":{\"color\":\"#4D5663\"},\"text\":\"\"},\"zerolinecolor\":\"#E1E5ED\"},\"yaxis\":{\"gridcolor\":\"#E1E5ED\",\"showgrid\":true,\"tickfont\":{\"color\":\"#4D5663\"},\"title\":{\"font\":{\"color\":\"#4D5663\"},\"text\":\"\"},\"zerolinecolor\":\"#E1E5ED\"}},                        {\"showLink\": true, \"linkText\": \"Export to plot.ly\", \"plotlyServerURL\": \"https://plot.ly\", \"responsive\": true}                    ).then(function(){\n",
       "                            \n",
       "var gd = document.getElementById('41acb291-7b77-4625-9f9f-f3a167a451d2');\n",
       "var x = new MutationObserver(function (mutations, observer) {{\n",
       "        var display = window.getComputedStyle(gd).display;\n",
       "        if (!display || display === 'none') {{\n",
       "            console.log([gd, 'removed!']);\n",
       "            Plotly.purge(gd);\n",
       "            observer.disconnect();\n",
       "        }}\n",
       "}});\n",
       "\n",
       "// Listen for the removal of the full notebook cells\n",
       "var notebookContainer = gd.closest('#notebook-container');\n",
       "if (notebookContainer) {{\n",
       "    x.observe(notebookContainer, {childList: true});\n",
       "}}\n",
       "\n",
       "// Listen for the clearing of the current output cell\n",
       "var outputEl = gd.closest('.output');\n",
       "if (outputEl) {{\n",
       "    x.observe(outputEl, {childList: true});\n",
       "}}\n",
       "\n",
       "                        })                };                });            </script>        </div>"
      ]
     },
     "metadata": {},
     "output_type": "display_data"
    }
   ],
   "source": [
    "\"\"\"Visualizamos su poder predictibo\"\"\"\n",
    "pd.DataFrame(zip(best,sk.scores_),\n",
    "columns=['var','score']).sort_values(by='score',ascending=False).set_index('var').iplot(kind='bar',color='purple')"
   ]
  },
  {
   "cell_type": "code",
   "execution_count": 123,
   "metadata": {},
   "outputs": [],
   "source": [
    "\"\"\"Removemos la de valor mas bajo\"\"\"\n",
    "best.remove('monto_prom_ult_mes')"
   ]
  },
  {
   "cell_type": "code",
   "execution_count": 124,
   "metadata": {},
   "outputs": [
    {
     "data": {
      "text/plain": [
       "['num_txn_ult_mes', 'edad_usuario']"
      ]
     },
     "execution_count": 124,
     "metadata": {},
     "output_type": "execute_result"
    }
   ],
   "source": [
    "best #Variables continuas seleccionadas"
   ]
  },
  {
   "cell_type": "code",
   "execution_count": 125,
   "metadata": {},
   "outputs": [
    {
     "data": {
      "text/plain": [
       "array([[<AxesSubplot: title={'center': 'num_txn_ult_mes'}>,\n",
       "        <AxesSubplot: title={'center': 'edad_usuario'}>]], dtype=object)"
      ]
     },
     "execution_count": 125,
     "metadata": {},
     "output_type": "execute_result"
    },
    {
     "data": {
      "image/png": "[encoded data removed]",
      "text/plain": [
       "<Figure size 640x480 with 2 Axes>"
      ]
     },
     "metadata": {},
     "output_type": "display_data"
    }
   ],
   "source": [
    "Xi[best].hist() #vemos sus distribucioones"
   ]
  },
  {
   "cell_type": "markdown",
   "metadata": {},
   "source": [
    "#### Consideraciones Finales"
   ]
  },
  {
   "cell_type": "code",
   "execution_count": 126,
   "metadata": {},
   "outputs": [
    {
     "data": {
      "text/html": [
       "<style>#sk-container-id-8 {color: black;background-color: white;}#sk-container-id-8 pre{padding: 0;}#sk-container-id-8 div.sk-toggleable {background-color: white;}#sk-container-id-8 label.sk-toggleable__label {cursor: pointer;display: block;width: 100%;margin-bottom: 0;padding: 0.3em;box-sizing: border-box;text-align: center;}#sk-container-id-8 label.sk-toggleable__label-arrow:before {content: \"▸\";float: left;margin-right: 0.25em;color: #696969;}#sk-container-id-8 label.sk-toggleable__label-arrow:hover:before {color: black;}#sk-container-id-8 div.sk-estimator:hover label.sk-toggleable__label-arrow:before {color: black;}#sk-container-id-8 div.sk-toggleable__content {max-height: 0;max-width: 0;overflow: hidden;text-align: left;background-color: #f0f8ff;}#sk-container-id-8 div.sk-toggleable__content pre {margin: 0.2em;color: black;border-radius: 0.25em;background-color: #f0f8ff;}#sk-container-id-8 input.sk-toggleable__control:checked~div.sk-toggleable__content {max-height: 200px;max-width: 100%;overflow: auto;}#sk-container-id-8 input.sk-toggleable__control:checked~label.sk-toggleable__label-arrow:before {content: \"▾\";}#sk-container-id-8 div.sk-estimator input.sk-toggleable__control:checked~label.sk-toggleable__label {background-color: #d4ebff;}#sk-container-id-8 div.sk-label input.sk-toggleable__control:checked~label.sk-toggleable__label {background-color: #d4ebff;}#sk-container-id-8 input.sk-hidden--visually {border: 0;clip: rect(1px 1px 1px 1px);clip: rect(1px, 1px, 1px, 1px);height: 1px;margin: -1px;overflow: hidden;padding: 0;position: absolute;width: 1px;}#sk-container-id-8 div.sk-estimator {font-family: monospace;background-color: #f0f8ff;border: 1px dotted black;border-radius: 0.25em;box-sizing: border-box;margin-bottom: 0.5em;}#sk-container-id-8 div.sk-estimator:hover {background-color: #d4ebff;}#sk-container-id-8 div.sk-parallel-item::after {content: \"\";width: 100%;border-bottom: 1px solid gray;flex-grow: 1;}#sk-container-id-8 div.sk-label:hover label.sk-toggleable__label {background-color: #d4ebff;}#sk-container-id-8 div.sk-serial::before {content: \"\";position: absolute;border-left: 1px solid gray;box-sizing: border-box;top: 0;bottom: 0;left: 50%;z-index: 0;}#sk-container-id-8 div.sk-serial {display: flex;flex-direction: column;align-items: center;background-color: white;padding-right: 0.2em;padding-left: 0.2em;position: relative;}#sk-container-id-8 div.sk-item {position: relative;z-index: 1;}#sk-container-id-8 div.sk-parallel {display: flex;align-items: stretch;justify-content: center;background-color: white;position: relative;}#sk-container-id-8 div.sk-item::before, #sk-container-id-8 div.sk-parallel-item::before {content: \"\";position: absolute;border-left: 1px solid gray;box-sizing: border-box;top: 0;bottom: 0;left: 50%;z-index: -1;}#sk-container-id-8 div.sk-parallel-item {display: flex;flex-direction: column;z-index: 1;position: relative;background-color: white;}#sk-container-id-8 div.sk-parallel-item:first-child::after {align-self: flex-end;width: 50%;}#sk-container-id-8 div.sk-parallel-item:last-child::after {align-self: flex-start;width: 50%;}#sk-container-id-8 div.sk-parallel-item:only-child::after {width: 0;}#sk-container-id-8 div.sk-dashed-wrapped {border: 1px dashed gray;margin: 0 0.4em 0.5em 0.4em;box-sizing: border-box;padding-bottom: 0.4em;background-color: white;}#sk-container-id-8 div.sk-label label {font-family: monospace;font-weight: bold;display: inline-block;line-height: 1.2em;}#sk-container-id-8 div.sk-label-container {text-align: center;}#sk-container-id-8 div.sk-container {/* jupyter's `normalize.less` sets `[hidden] { display: none; }` but bootstrap.min.css set `[hidden] { display: none !important; }` so we also need the `!important` here to be able to override the default hidden behavior on the sphinx rendered scikit-learn.org. See: https://github.com/scikit-learn/scikit-learn/issues/21755 */display: inline-block !important;position: relative;}#sk-container-id-8 div.sk-text-repr-fallback {display: none;}</style><div id=\"sk-container-id-8\" class=\"sk-top-container\"><div class=\"sk-text-repr-fallback\"><pre>SimpleImputer(strategy=&#x27;median&#x27;)</pre><b>In a Jupyter environment, please rerun this cell to show the HTML representation or trust the notebook. <br />On GitHub, the HTML representation is unable to render, please try loading this page with nbviewer.org.</b></div><div class=\"sk-container\" hidden><div class=\"sk-item\"><div class=\"sk-estimator sk-toggleable\"><input class=\"sk-toggleable__control sk-hidden--visually\" id=\"sk-estimator-id-11\" type=\"checkbox\" checked><label for=\"sk-estimator-id-11\" class=\"sk-toggleable__label sk-toggleable__label-arrow\">SimpleImputer</label><div class=\"sk-toggleable__content\"><pre>SimpleImputer(strategy=&#x27;median&#x27;)</pre></div></div></div></div></div>"
      ],
      "text/plain": [
       "SimpleImputer(strategy='median')"
      ]
     },
     "execution_count": 126,
     "metadata": {},
     "output_type": "execute_result"
    }
   ],
   "source": [
    "im.fit(train[best])"
   ]
  },
  {
   "cell_type": "markdown",
   "metadata": {},
   "source": [
    "### Discreto"
   ]
  },
  {
   "cell_type": "code",
   "execution_count": 127,
   "metadata": {},
   "outputs": [],
   "source": [
    "\"\"\"Funcion para crear la tabla de frecuencias\"\"\"\n",
    "def freq(df:pd.DataFrame,var:list):\n",
    "    if type(var)!=list:\n",
    "        var = [var]\n",
    "    for v in var:\n",
    "        aux = df[v].value_counts().to_frame().sort_index()\n",
    "        aux.columns = ['FA']\n",
    "        aux['FR'] = aux['FA']/aux['FA'].sum()\n",
    "        aux[['FAA','FRA']] = aux.cumsum()\n",
    "        print(f'****Tabla de frecuencias  {v}  ***\\n\\n')\n",
    "        print(aux)\n",
    "        print(\"\\n\"*3)"
   ]
  },
  {
   "cell_type": "code",
   "execution_count": 128,
   "metadata": {},
   "outputs": [],
   "source": [
    "\"\"\"A los missings los mandamos a esa categoria\"\"\"\n",
    "for v in vard:\n",
    "    train[v] = train[v].fillna('MISSING')"
   ]
  },
  {
   "cell_type": "code",
   "execution_count": 129,
   "metadata": {},
   "outputs": [
    {
     "name": "stdout",
     "output_type": "stream",
     "text": [
      "****Tabla de frecuencias  rej_reason  ***\n",
      "\n",
      "\n",
      "                                FA   FR   FAA  FRA\n",
      "Bad PIN                         31 0.01    31 0.01\n",
      "Bad PIN,Insufficient Balance     3 0.00    34 0.01\n",
      "Bad PIN,Technical Glitch         1 0.00    35 0.01\n",
      "Insufficient Balance            29 0.01    64 0.02\n",
      "MISSING                       2732 0.98  2796 1.00\n",
      "Technical Glitch                 4 0.00  2800 1.00\n",
      "\n",
      "\n",
      "\n",
      "\n",
      "****Tabla de frecuencias  txn_type  ***\n",
      "\n",
      "\n",
      "     FA   FR   FAA  FRA\n",
      "C   578 0.21   578 0.21\n",
      "S  2222 0.79  2800 1.00\n",
      "\n",
      "\n",
      "\n",
      "\n",
      "****Tabla de frecuencias  hora  ***\n",
      "\n",
      "\n",
      "     FA   FR   FAA  FRA\n",
      "0    18 0.01    18 0.01\n",
      "1    10 0.00    28 0.01\n",
      "2    10 0.00    38 0.01\n",
      "3    18 0.01    56 0.02\n",
      "4    11 0.00    67 0.02\n",
      "5    25 0.01    92 0.03\n",
      "6    89 0.03   181 0.06\n",
      "7   181 0.06   362 0.13\n",
      "8   169 0.06   531 0.19\n",
      "9   236 0.08   767 0.27\n",
      "10  293 0.10  1060 0.38\n",
      "11  268 0.10  1328 0.47\n",
      "12  251 0.09  1579 0.56\n",
      "13  227 0.08  1806 0.65\n",
      "14  224 0.08  2030 0.72\n",
      "15  185 0.07  2215 0.79\n",
      "16  161 0.06  2376 0.85\n",
      "17   92 0.03  2468 0.88\n",
      "18   93 0.03  2561 0.91\n",
      "19   74 0.03  2635 0.94\n",
      "20   52 0.02  2687 0.96\n",
      "21   46 0.02  2733 0.98\n",
      "22   53 0.02  2786 0.99\n",
      "23   14 0.01  2800 1.00\n",
      "\n",
      "\n",
      "\n",
      "\n",
      "****Tabla de frecuencias  mes  ***\n",
      "\n",
      "\n",
      "     FA   FR   FAA  FRA\n",
      "1   258 0.09   258 0.09\n",
      "2   253 0.09   511 0.18\n",
      "3   247 0.09   758 0.27\n",
      "4   193 0.07   951 0.34\n",
      "5   194 0.07  1145 0.41\n",
      "6   230 0.08  1375 0.49\n",
      "7   231 0.08  1606 0.57\n",
      "8   227 0.08  1833 0.65\n",
      "9   255 0.09  2088 0.75\n",
      "10  232 0.08  2320 0.83\n",
      "11  228 0.08  2548 0.91\n",
      "12  252 0.09  2800 1.00\n",
      "\n",
      "\n",
      "\n",
      "\n",
      "****Tabla de frecuencias  diasem  ***\n",
      "\n",
      "\n",
      "    FA   FR   FAA  FRA\n",
      "D  451 0.16   451 0.16\n",
      "J  439 0.16   890 0.32\n",
      "L  347 0.12  1237 0.44\n",
      "M  409 0.15  1646 0.59\n",
      "S  376 0.13  2022 0.72\n",
      "V  378 0.14  2400 0.86\n",
      "X  400 0.14  2800 1.00\n",
      "\n",
      "\n",
      "\n",
      "\n",
      "****Tabla de frecuencias  horas_frec  ***\n",
      "\n",
      "\n",
      "         FA   FR   FAA  FRA\n",
      "0|10|14   5 0.00     5 0.00\n",
      "0|10|15   3 0.00     8 0.00\n",
      "0|11|12   1 0.00     9 0.00\n",
      "0|11|19   2 0.00    11 0.00\n",
      "0|11|20   1 0.00    12 0.00\n",
      "...      ..  ...   ...  ...\n",
      "9|18|23   1 0.00  2794 1.00\n",
      "9|19|21   3 0.00  2797 1.00\n",
      "9|19|22   1 0.00  2798 1.00\n",
      "9|20|21   1 0.00  2799 1.00\n",
      "9|20|22   1 0.00  2800 1.00\n",
      "\n",
      "[743 rows x 4 columns]\n",
      "\n",
      "\n",
      "\n",
      "\n",
      "****Tabla de frecuencias  dias_frec  ***\n",
      "\n",
      "\n",
      "        FA   FR   FAA  FRA\n",
      "J|S|D   85 0.03    85 0.03\n",
      "J|V|D   87 0.03   172 0.06\n",
      "J|V|S  111 0.04   283 0.10\n",
      "L|J|D   73 0.03   356 0.13\n",
      "L|J|S   62 0.02   418 0.15\n",
      "L|J|V   64 0.02   482 0.17\n",
      "L|M|D  110 0.04   592 0.21\n",
      "L|M|J   76 0.03   668 0.24\n",
      "L|M|S   80 0.03   748 0.27\n",
      "L|M|V   65 0.02   813 0.29\n",
      "L|M|X  107 0.04   920 0.33\n",
      "L|S|D  121 0.04  1041 0.37\n",
      "L|V|D   76 0.03  1117 0.40\n",
      "L|V|S   79 0.03  1196 0.43\n",
      "L|X|D   76 0.03  1272 0.45\n",
      "L|X|J   78 0.03  1350 0.48\n",
      "L|X|S   51 0.02  1401 0.50\n",
      "L|X|V   58 0.02  1459 0.52\n",
      "M|J|D   72 0.03  1531 0.55\n",
      "M|J|S   68 0.02  1599 0.57\n",
      "M|J|V   68 0.02  1667 0.60\n",
      "M|S|D   92 0.03  1759 0.63\n",
      "M|V|D   55 0.02  1814 0.65\n",
      "M|V|S   76 0.03  1890 0.67\n",
      "M|X|D   66 0.02  1956 0.70\n",
      "M|X|J  118 0.04  2074 0.74\n",
      "M|X|S   79 0.03  2153 0.77\n",
      "M|X|V   78 0.03  2231 0.80\n",
      "V|S|D  112 0.04  2343 0.84\n",
      "X        1 0.00  2344 0.84\n",
      "X|J|D   75 0.03  2419 0.86\n",
      "X|J|S   81 0.03  2500 0.89\n",
      "X|J|V  116 0.04  2616 0.93\n",
      "X|S|D   58 0.02  2674 0.95\n",
      "X|V|D   47 0.02  2721 0.97\n",
      "X|V|S   79 0.03  2800 1.00\n",
      "\n",
      "\n",
      "\n",
      "\n",
      "****Tabla de frecuencias  dif_estado  ***\n",
      "\n",
      "\n",
      "         FA   FR   FAA  FRA\n",
      "False  2335 0.83  2335 0.83\n",
      "True    465 0.17  2800 1.00\n",
      "\n",
      "\n",
      "\n",
      "\n"
     ]
    }
   ],
   "source": [
    "freq(train,vard)"
   ]
  },
  {
   "cell_type": "code",
   "execution_count": 130,
   "metadata": {},
   "outputs": [],
   "source": [
    "\"\"\"Funcion para normalizar las variables discetas\"\"\"\n",
    "def normalizar(df:pd.DataFrame,var:str,umbral:float=0.05)->tuple:\n",
    "    aux = df[var].value_counts(1).to_frame()\n",
    "    aux['map'] = np.where(aux[var]<umbral,'Otros',aux.index)\n",
    "    if aux.loc[aux['map']=='Otros'][var].sum()<umbral:\n",
    "        aux['map'].replace({'Otros':aux.head(1)['map'].values[0]},inplace=True)\n",
    "    aux.drop(var,axis=1,inplace=True)\n",
    "    return var,aux['map'].to_dict()"
   ]
  },
  {
   "cell_type": "code",
   "execution_count": 131,
   "metadata": {},
   "outputs": [],
   "source": [
    "\"\"\"Se guarda el resiltado en una lista\"\"\"\n",
    "mapa_norm = list(map(lambda v:normalizar(train,v),vard))"
   ]
  },
  {
   "cell_type": "code",
   "execution_count": 132,
   "metadata": {},
   "outputs": [],
   "source": [
    "\"\"\"Se crean nuevas columnas ya con la normalizacion\"\"\"\n",
    "for v,mapa in mapa_norm:\n",
    "    train[f'n_{v}'] = train[v].map(mapa)"
   ]
  },
  {
   "cell_type": "code",
   "execution_count": 133,
   "metadata": {},
   "outputs": [],
   "source": [
    "\"\"\"Lista de variables normalizadas\"\"\"\n",
    "varn = [v for v in train.columns if v[:2]=='n_']"
   ]
  },
  {
   "cell_type": "code",
   "execution_count": 134,
   "metadata": {},
   "outputs": [
    {
     "data": {
      "text/plain": [
       "['n_rej_reason', 'n_horas_frec', 'n_dias_frec']"
      ]
     },
     "execution_count": 134,
     "metadata": {},
     "output_type": "execute_result"
    }
   ],
   "source": [
    "\"\"\"Variables con una categoria\"\"\"\n",
    "unarias = [v for v in varn if train[v].nunique()==1]\n",
    "unarias"
   ]
  },
  {
   "cell_type": "code",
   "execution_count": 135,
   "metadata": {},
   "outputs": [],
   "source": [
    "\"\"\"Quiramos las unarias\"\"\"\n",
    "varn = [v for v in varn if v not in unarias]"
   ]
  },
  {
   "cell_type": "code",
   "execution_count": 136,
   "metadata": {},
   "outputs": [
    {
     "data": {
      "text/plain": [
       "['n_txn_type', 'n_hora', 'n_mes', 'n_diasem', 'n_dif_estado']"
      ]
     },
     "execution_count": 136,
     "metadata": {},
     "output_type": "execute_result"
    }
   ],
   "source": [
    "\"\"\"Variables discretas seleccionadas\"\"\"\n",
    "varn"
   ]
  },
  {
   "cell_type": "markdown",
   "metadata": {},
   "source": [
    "## Espacios Vectoriales a Trabajar"
   ]
  },
  {
   "cell_type": "markdown",
   "metadata": {},
   "source": [
    "### Espacio $\\mathcal{X}$"
   ]
  },
  {
   "cell_type": "code",
   "execution_count": 137,
   "metadata": {},
   "outputs": [
    {
     "data": {
      "text/html": [
       "<div>\n",
       "<style scoped>\n",
       "    .dataframe tbody tr th:only-of-type {\n",
       "        vertical-align: middle;\n",
       "    }\n",
       "\n",
       "    .dataframe tbody tr th {\n",
       "        vertical-align: top;\n",
       "    }\n",
       "\n",
       "    .dataframe thead th {\n",
       "        text-align: right;\n",
       "    }\n",
       "</style>\n",
       "<table border=\"1\" class=\"dataframe\">\n",
       "  <thead>\n",
       "    <tr style=\"text-align: right;\">\n",
       "      <th></th>\n",
       "      <th>id_txn</th>\n",
       "      <th>num_txn_ult_mes</th>\n",
       "      <th>edad_usuario</th>\n",
       "      <th>n_txn_type</th>\n",
       "      <th>n_hora</th>\n",
       "      <th>n_mes</th>\n",
       "      <th>n_diasem</th>\n",
       "      <th>n_dif_estado</th>\n",
       "    </tr>\n",
       "  </thead>\n",
       "  <tbody>\n",
       "    <tr>\n",
       "      <th>0</th>\n",
       "      <td>18182765</td>\n",
       "      <td>73.00</td>\n",
       "      <td>44.00</td>\n",
       "      <td>C</td>\n",
       "      <td>14</td>\n",
       "      <td>9</td>\n",
       "      <td>D</td>\n",
       "      <td>False</td>\n",
       "    </tr>\n",
       "    <tr>\n",
       "      <th>1</th>\n",
       "      <td>21001891</td>\n",
       "      <td>121.00</td>\n",
       "      <td>46.70</td>\n",
       "      <td>S</td>\n",
       "      <td>7</td>\n",
       "      <td>12</td>\n",
       "      <td>D</td>\n",
       "      <td>True</td>\n",
       "    </tr>\n",
       "    <tr>\n",
       "      <th>2</th>\n",
       "      <td>7089553</td>\n",
       "      <td>122.00</td>\n",
       "      <td>25.20</td>\n",
       "      <td>C</td>\n",
       "      <td>15</td>\n",
       "      <td>3</td>\n",
       "      <td>M</td>\n",
       "      <td>False</td>\n",
       "    </tr>\n",
       "    <tr>\n",
       "      <th>3</th>\n",
       "      <td>15603055</td>\n",
       "      <td>157.00</td>\n",
       "      <td>37.30</td>\n",
       "      <td>S</td>\n",
       "      <td>7</td>\n",
       "      <td>12</td>\n",
       "      <td>M</td>\n",
       "      <td>False</td>\n",
       "    </tr>\n",
       "    <tr>\n",
       "      <th>4</th>\n",
       "      <td>7085120</td>\n",
       "      <td>130.00</td>\n",
       "      <td>26.50</td>\n",
       "      <td>C</td>\n",
       "      <td>Otros</td>\n",
       "      <td>6</td>\n",
       "      <td>M</td>\n",
       "      <td>False</td>\n",
       "    </tr>\n",
       "  </tbody>\n",
       "</table>\n",
       "</div>"
      ],
      "text/plain": [
       "     id_txn  num_txn_ult_mes  edad_usuario n_txn_type n_hora n_mes n_diasem  \\\n",
       "0  18182765            73.00         44.00          C     14     9        D   \n",
       "1  21001891           121.00         46.70          S      7    12        D   \n",
       "2   7089553           122.00         25.20          C     15     3        M   \n",
       "3  15603055           157.00         37.30          S      7    12        M   \n",
       "4   7085120           130.00         26.50          C  Otros     6        M   \n",
       "\n",
       "  n_dif_estado  \n",
       "0        False  \n",
       "1         True  \n",
       "2        False  \n",
       "3        False  \n",
       "4        False  "
      ]
     },
     "execution_count": 137,
     "metadata": {},
     "output_type": "execute_result"
    }
   ],
   "source": [
    "\"\"\"Unimos las variables continuas y discretas eleginas usando como llave a um\"\"\"\n",
    "X = Xi[um+best].copy().merge(train[um+varn],on=um,how='inner')\n",
    "X.head()"
   ]
  },
  {
   "cell_type": "code",
   "execution_count": 138,
   "metadata": {},
   "outputs": [],
   "source": [
    "\"\"\"Usamos OHE y se elimina una categoria si es binaria\"\"\"\n",
    "oh = OneHotEncoder(drop='if_binary')"
   ]
  },
  {
   "cell_type": "code",
   "execution_count": 139,
   "metadata": {},
   "outputs": [
    {
     "data": {
      "text/html": [
       "<style>#sk-container-id-9 {color: black;background-color: white;}#sk-container-id-9 pre{padding: 0;}#sk-container-id-9 div.sk-toggleable {background-color: white;}#sk-container-id-9 label.sk-toggleable__label {cursor: pointer;display: block;width: 100%;margin-bottom: 0;padding: 0.3em;box-sizing: border-box;text-align: center;}#sk-container-id-9 label.sk-toggleable__label-arrow:before {content: \"▸\";float: left;margin-right: 0.25em;color: #696969;}#sk-container-id-9 label.sk-toggleable__label-arrow:hover:before {color: black;}#sk-container-id-9 div.sk-estimator:hover label.sk-toggleable__label-arrow:before {color: black;}#sk-container-id-9 div.sk-toggleable__content {max-height: 0;max-width: 0;overflow: hidden;text-align: left;background-color: #f0f8ff;}#sk-container-id-9 div.sk-toggleable__content pre {margin: 0.2em;color: black;border-radius: 0.25em;background-color: #f0f8ff;}#sk-container-id-9 input.sk-toggleable__control:checked~div.sk-toggleable__content {max-height: 200px;max-width: 100%;overflow: auto;}#sk-container-id-9 input.sk-toggleable__control:checked~label.sk-toggleable__label-arrow:before {content: \"▾\";}#sk-container-id-9 div.sk-estimator input.sk-toggleable__control:checked~label.sk-toggleable__label {background-color: #d4ebff;}#sk-container-id-9 div.sk-label input.sk-toggleable__control:checked~label.sk-toggleable__label {background-color: #d4ebff;}#sk-container-id-9 input.sk-hidden--visually {border: 0;clip: rect(1px 1px 1px 1px);clip: rect(1px, 1px, 1px, 1px);height: 1px;margin: -1px;overflow: hidden;padding: 0;position: absolute;width: 1px;}#sk-container-id-9 div.sk-estimator {font-family: monospace;background-color: #f0f8ff;border: 1px dotted black;border-radius: 0.25em;box-sizing: border-box;margin-bottom: 0.5em;}#sk-container-id-9 div.sk-estimator:hover {background-color: #d4ebff;}#sk-container-id-9 div.sk-parallel-item::after {content: \"\";width: 100%;border-bottom: 1px solid gray;flex-grow: 1;}#sk-container-id-9 div.sk-label:hover label.sk-toggleable__label {background-color: #d4ebff;}#sk-container-id-9 div.sk-serial::before {content: \"\";position: absolute;border-left: 1px solid gray;box-sizing: border-box;top: 0;bottom: 0;left: 50%;z-index: 0;}#sk-container-id-9 div.sk-serial {display: flex;flex-direction: column;align-items: center;background-color: white;padding-right: 0.2em;padding-left: 0.2em;position: relative;}#sk-container-id-9 div.sk-item {position: relative;z-index: 1;}#sk-container-id-9 div.sk-parallel {display: flex;align-items: stretch;justify-content: center;background-color: white;position: relative;}#sk-container-id-9 div.sk-item::before, #sk-container-id-9 div.sk-parallel-item::before {content: \"\";position: absolute;border-left: 1px solid gray;box-sizing: border-box;top: 0;bottom: 0;left: 50%;z-index: -1;}#sk-container-id-9 div.sk-parallel-item {display: flex;flex-direction: column;z-index: 1;position: relative;background-color: white;}#sk-container-id-9 div.sk-parallel-item:first-child::after {align-self: flex-end;width: 50%;}#sk-container-id-9 div.sk-parallel-item:last-child::after {align-self: flex-start;width: 50%;}#sk-container-id-9 div.sk-parallel-item:only-child::after {width: 0;}#sk-container-id-9 div.sk-dashed-wrapped {border: 1px dashed gray;margin: 0 0.4em 0.5em 0.4em;box-sizing: border-box;padding-bottom: 0.4em;background-color: white;}#sk-container-id-9 div.sk-label label {font-family: monospace;font-weight: bold;display: inline-block;line-height: 1.2em;}#sk-container-id-9 div.sk-label-container {text-align: center;}#sk-container-id-9 div.sk-container {/* jupyter's `normalize.less` sets `[hidden] { display: none; }` but bootstrap.min.css set `[hidden] { display: none !important; }` so we also need the `!important` here to be able to override the default hidden behavior on the sphinx rendered scikit-learn.org. See: https://github.com/scikit-learn/scikit-learn/issues/21755 */display: inline-block !important;position: relative;}#sk-container-id-9 div.sk-text-repr-fallback {display: none;}</style><div id=\"sk-container-id-9\" class=\"sk-top-container\"><div class=\"sk-text-repr-fallback\"><pre>OneHotEncoder(drop=&#x27;if_binary&#x27;)</pre><b>In a Jupyter environment, please rerun this cell to show the HTML representation or trust the notebook. <br />On GitHub, the HTML representation is unable to render, please try loading this page with nbviewer.org.</b></div><div class=\"sk-container\" hidden><div class=\"sk-item\"><div class=\"sk-estimator sk-toggleable\"><input class=\"sk-toggleable__control sk-hidden--visually\" id=\"sk-estimator-id-12\" type=\"checkbox\" checked><label for=\"sk-estimator-id-12\" class=\"sk-toggleable__label sk-toggleable__label-arrow\">OneHotEncoder</label><div class=\"sk-toggleable__content\"><pre>OneHotEncoder(drop=&#x27;if_binary&#x27;)</pre></div></div></div></div></div>"
      ],
      "text/plain": [
       "OneHotEncoder(drop='if_binary')"
      ]
     },
     "execution_count": 139,
     "metadata": {},
     "output_type": "execute_result"
    }
   ],
   "source": [
    "oh.fit(X[varn])"
   ]
  },
  {
   "cell_type": "code",
   "execution_count": 140,
   "metadata": {},
   "outputs": [],
   "source": [
    "#Creamos las nuevas columnas con sus nombre signados\n",
    "X[oh.get_feature_names_out()] = oh.transform(X[varn]).toarray()"
   ]
  },
  {
   "cell_type": "code",
   "execution_count": 141,
   "metadata": {},
   "outputs": [],
   "source": [
    "#Eliminamos las variables anteriores, antes de los dummies\n",
    "X.drop(varn,axis=1,inplace=True)"
   ]
  },
  {
   "cell_type": "code",
   "execution_count": 142,
   "metadata": {},
   "outputs": [
    {
     "data": {
      "text/html": [
       "<div>\n",
       "<style scoped>\n",
       "    .dataframe tbody tr th:only-of-type {\n",
       "        vertical-align: middle;\n",
       "    }\n",
       "\n",
       "    .dataframe tbody tr th {\n",
       "        vertical-align: top;\n",
       "    }\n",
       "\n",
       "    .dataframe thead th {\n",
       "        text-align: right;\n",
       "    }\n",
       "</style>\n",
       "<table border=\"1\" class=\"dataframe\">\n",
       "  <thead>\n",
       "    <tr style=\"text-align: right;\">\n",
       "      <th></th>\n",
       "      <th>id_txn</th>\n",
       "      <th>num_txn_ult_mes</th>\n",
       "      <th>edad_usuario</th>\n",
       "      <th>n_txn_type_S</th>\n",
       "      <th>n_hora_10</th>\n",
       "      <th>n_hora_11</th>\n",
       "      <th>n_hora_12</th>\n",
       "      <th>n_hora_13</th>\n",
       "      <th>n_hora_14</th>\n",
       "      <th>n_hora_15</th>\n",
       "      <th>n_hora_16</th>\n",
       "      <th>n_hora_7</th>\n",
       "      <th>n_hora_8</th>\n",
       "      <th>n_hora_9</th>\n",
       "      <th>n_hora_Otros</th>\n",
       "      <th>n_mes_1</th>\n",
       "      <th>n_mes_10</th>\n",
       "      <th>n_mes_11</th>\n",
       "      <th>n_mes_12</th>\n",
       "      <th>n_mes_2</th>\n",
       "      <th>n_mes_3</th>\n",
       "      <th>n_mes_4</th>\n",
       "      <th>n_mes_5</th>\n",
       "      <th>n_mes_6</th>\n",
       "      <th>n_mes_7</th>\n",
       "      <th>n_mes_8</th>\n",
       "      <th>n_mes_9</th>\n",
       "      <th>n_diasem_D</th>\n",
       "      <th>n_diasem_J</th>\n",
       "      <th>n_diasem_L</th>\n",
       "      <th>n_diasem_M</th>\n",
       "      <th>n_diasem_S</th>\n",
       "      <th>n_diasem_V</th>\n",
       "      <th>n_diasem_X</th>\n",
       "      <th>n_dif_estado_True</th>\n",
       "    </tr>\n",
       "  </thead>\n",
       "  <tbody>\n",
       "    <tr>\n",
       "      <th>0</th>\n",
       "      <td>18182765</td>\n",
       "      <td>73.00</td>\n",
       "      <td>44.00</td>\n",
       "      <td>0.00</td>\n",
       "      <td>0.00</td>\n",
       "      <td>0.00</td>\n",
       "      <td>0.00</td>\n",
       "      <td>0.00</td>\n",
       "      <td>1.00</td>\n",
       "      <td>0.00</td>\n",
       "      <td>0.00</td>\n",
       "      <td>0.00</td>\n",
       "      <td>0.00</td>\n",
       "      <td>0.00</td>\n",
       "      <td>0.00</td>\n",
       "      <td>0.00</td>\n",
       "      <td>0.00</td>\n",
       "      <td>0.00</td>\n",
       "      <td>0.00</td>\n",
       "      <td>0.00</td>\n",
       "      <td>0.00</td>\n",
       "      <td>0.00</td>\n",
       "      <td>0.00</td>\n",
       "      <td>0.00</td>\n",
       "      <td>0.00</td>\n",
       "      <td>0.00</td>\n",
       "      <td>1.00</td>\n",
       "      <td>1.00</td>\n",
       "      <td>0.00</td>\n",
       "      <td>0.00</td>\n",
       "      <td>0.00</td>\n",
       "      <td>0.00</td>\n",
       "      <td>0.00</td>\n",
       "      <td>0.00</td>\n",
       "      <td>0.00</td>\n",
       "    </tr>\n",
       "    <tr>\n",
       "      <th>1</th>\n",
       "      <td>21001891</td>\n",
       "      <td>121.00</td>\n",
       "      <td>46.70</td>\n",
       "      <td>1.00</td>\n",
       "      <td>0.00</td>\n",
       "      <td>0.00</td>\n",
       "      <td>0.00</td>\n",
       "      <td>0.00</td>\n",
       "      <td>0.00</td>\n",
       "      <td>0.00</td>\n",
       "      <td>0.00</td>\n",
       "      <td>1.00</td>\n",
       "      <td>0.00</td>\n",
       "      <td>0.00</td>\n",
       "      <td>0.00</td>\n",
       "      <td>0.00</td>\n",
       "      <td>0.00</td>\n",
       "      <td>0.00</td>\n",
       "      <td>1.00</td>\n",
       "      <td>0.00</td>\n",
       "      <td>0.00</td>\n",
       "      <td>0.00</td>\n",
       "      <td>0.00</td>\n",
       "      <td>0.00</td>\n",
       "      <td>0.00</td>\n",
       "      <td>0.00</td>\n",
       "      <td>0.00</td>\n",
       "      <td>1.00</td>\n",
       "      <td>0.00</td>\n",
       "      <td>0.00</td>\n",
       "      <td>0.00</td>\n",
       "      <td>0.00</td>\n",
       "      <td>0.00</td>\n",
       "      <td>0.00</td>\n",
       "      <td>1.00</td>\n",
       "    </tr>\n",
       "    <tr>\n",
       "      <th>2</th>\n",
       "      <td>7089553</td>\n",
       "      <td>122.00</td>\n",
       "      <td>25.20</td>\n",
       "      <td>0.00</td>\n",
       "      <td>0.00</td>\n",
       "      <td>0.00</td>\n",
       "      <td>0.00</td>\n",
       "      <td>0.00</td>\n",
       "      <td>0.00</td>\n",
       "      <td>1.00</td>\n",
       "      <td>0.00</td>\n",
       "      <td>0.00</td>\n",
       "      <td>0.00</td>\n",
       "      <td>0.00</td>\n",
       "      <td>0.00</td>\n",
       "      <td>0.00</td>\n",
       "      <td>0.00</td>\n",
       "      <td>0.00</td>\n",
       "      <td>0.00</td>\n",
       "      <td>0.00</td>\n",
       "      <td>1.00</td>\n",
       "      <td>0.00</td>\n",
       "      <td>0.00</td>\n",
       "      <td>0.00</td>\n",
       "      <td>0.00</td>\n",
       "      <td>0.00</td>\n",
       "      <td>0.00</td>\n",
       "      <td>0.00</td>\n",
       "      <td>0.00</td>\n",
       "      <td>0.00</td>\n",
       "      <td>1.00</td>\n",
       "      <td>0.00</td>\n",
       "      <td>0.00</td>\n",
       "      <td>0.00</td>\n",
       "      <td>0.00</td>\n",
       "    </tr>\n",
       "    <tr>\n",
       "      <th>3</th>\n",
       "      <td>15603055</td>\n",
       "      <td>157.00</td>\n",
       "      <td>37.30</td>\n",
       "      <td>1.00</td>\n",
       "      <td>0.00</td>\n",
       "      <td>0.00</td>\n",
       "      <td>0.00</td>\n",
       "      <td>0.00</td>\n",
       "      <td>0.00</td>\n",
       "      <td>0.00</td>\n",
       "      <td>0.00</td>\n",
       "      <td>1.00</td>\n",
       "      <td>0.00</td>\n",
       "      <td>0.00</td>\n",
       "      <td>0.00</td>\n",
       "      <td>0.00</td>\n",
       "      <td>0.00</td>\n",
       "      <td>0.00</td>\n",
       "      <td>1.00</td>\n",
       "      <td>0.00</td>\n",
       "      <td>0.00</td>\n",
       "      <td>0.00</td>\n",
       "      <td>0.00</td>\n",
       "      <td>0.00</td>\n",
       "      <td>0.00</td>\n",
       "      <td>0.00</td>\n",
       "      <td>0.00</td>\n",
       "      <td>0.00</td>\n",
       "      <td>0.00</td>\n",
       "      <td>0.00</td>\n",
       "      <td>1.00</td>\n",
       "      <td>0.00</td>\n",
       "      <td>0.00</td>\n",
       "      <td>0.00</td>\n",
       "      <td>0.00</td>\n",
       "    </tr>\n",
       "    <tr>\n",
       "      <th>4</th>\n",
       "      <td>7085120</td>\n",
       "      <td>130.00</td>\n",
       "      <td>26.50</td>\n",
       "      <td>0.00</td>\n",
       "      <td>0.00</td>\n",
       "      <td>0.00</td>\n",
       "      <td>0.00</td>\n",
       "      <td>0.00</td>\n",
       "      <td>0.00</td>\n",
       "      <td>0.00</td>\n",
       "      <td>0.00</td>\n",
       "      <td>0.00</td>\n",
       "      <td>0.00</td>\n",
       "      <td>0.00</td>\n",
       "      <td>1.00</td>\n",
       "      <td>0.00</td>\n",
       "      <td>0.00</td>\n",
       "      <td>0.00</td>\n",
       "      <td>0.00</td>\n",
       "      <td>0.00</td>\n",
       "      <td>0.00</td>\n",
       "      <td>0.00</td>\n",
       "      <td>0.00</td>\n",
       "      <td>1.00</td>\n",
       "      <td>0.00</td>\n",
       "      <td>0.00</td>\n",
       "      <td>0.00</td>\n",
       "      <td>0.00</td>\n",
       "      <td>0.00</td>\n",
       "      <td>0.00</td>\n",
       "      <td>1.00</td>\n",
       "      <td>0.00</td>\n",
       "      <td>0.00</td>\n",
       "      <td>0.00</td>\n",
       "      <td>0.00</td>\n",
       "    </tr>\n",
       "  </tbody>\n",
       "</table>\n",
       "</div>"
      ],
      "text/plain": [
       "     id_txn  num_txn_ult_mes  edad_usuario  n_txn_type_S  n_hora_10  \\\n",
       "0  18182765            73.00         44.00          0.00       0.00   \n",
       "1  21001891           121.00         46.70          1.00       0.00   \n",
       "2   7089553           122.00         25.20          0.00       0.00   \n",
       "3  15603055           157.00         37.30          1.00       0.00   \n",
       "4   7085120           130.00         26.50          0.00       0.00   \n",
       "\n",
       "   n_hora_11  n_hora_12  n_hora_13  n_hora_14  n_hora_15  n_hora_16  n_hora_7  \\\n",
       "0       0.00       0.00       0.00       1.00       0.00       0.00      0.00   \n",
       "1       0.00       0.00       0.00       0.00       0.00       0.00      1.00   \n",
       "2       0.00       0.00       0.00       0.00       1.00       0.00      0.00   \n",
       "3       0.00       0.00       0.00       0.00       0.00       0.00      1.00   \n",
       "4       0.00       0.00       0.00       0.00       0.00       0.00      0.00   \n",
       "\n",
       "   n_hora_8  n_hora_9  n_hora_Otros  n_mes_1  n_mes_10  n_mes_11  n_mes_12  \\\n",
       "0      0.00      0.00          0.00     0.00      0.00      0.00      0.00   \n",
       "1      0.00      0.00          0.00     0.00      0.00      0.00      1.00   \n",
       "2      0.00      0.00          0.00     0.00      0.00      0.00      0.00   \n",
       "3      0.00      0.00          0.00     0.00      0.00      0.00      1.00   \n",
       "4      0.00      0.00          1.00     0.00      0.00      0.00      0.00   \n",
       "\n",
       "   n_mes_2  n_mes_3  n_mes_4  n_mes_5  n_mes_6  n_mes_7  n_mes_8  n_mes_9  \\\n",
       "0     0.00     0.00     0.00     0.00     0.00     0.00     0.00     1.00   \n",
       "1     0.00     0.00     0.00     0.00     0.00     0.00     0.00     0.00   \n",
       "2     0.00     1.00     0.00     0.00     0.00     0.00     0.00     0.00   \n",
       "3     0.00     0.00     0.00     0.00     0.00     0.00     0.00     0.00   \n",
       "4     0.00     0.00     0.00     0.00     1.00     0.00     0.00     0.00   \n",
       "\n",
       "   n_diasem_D  n_diasem_J  n_diasem_L  n_diasem_M  n_diasem_S  n_diasem_V  \\\n",
       "0        1.00        0.00        0.00        0.00        0.00        0.00   \n",
       "1        1.00        0.00        0.00        0.00        0.00        0.00   \n",
       "2        0.00        0.00        0.00        1.00        0.00        0.00   \n",
       "3        0.00        0.00        0.00        1.00        0.00        0.00   \n",
       "4        0.00        0.00        0.00        1.00        0.00        0.00   \n",
       "\n",
       "   n_diasem_X  n_dif_estado_True  \n",
       "0        0.00               0.00  \n",
       "1        0.00               1.00  \n",
       "2        0.00               0.00  \n",
       "3        0.00               0.00  \n",
       "4        0.00               0.00  "
      ]
     },
     "execution_count": 142,
     "metadata": {},
     "output_type": "execute_result"
    }
   ],
   "source": [
    "X.head()"
   ]
  },
  {
   "cell_type": "code",
   "execution_count": 143,
   "metadata": {},
   "outputs": [],
   "source": [
    "#Agrupamos las variables a modelas para modelar\n",
    "var = best+list(oh.get_feature_names_out())"
   ]
  },
  {
   "cell_type": "markdown",
   "metadata": {},
   "source": [
    "### Espacio $\\mathcal{X}_{[0,1]}$"
   ]
  },
  {
   "cell_type": "code",
   "execution_count": 144,
   "metadata": {},
   "outputs": [],
   "source": [
    "sc01 = MinMaxScaler() #Instanciamos el escalador\n",
    "sc01.fit(X[var])\n",
    "X01 = pd.DataFrame(sc01.transform(X[var]),columns=var) #Creamos el dataset con los datos escalados\n",
    "X01.insert(0,um[0],X[um]) #Insertamos la columna de unidad muestral"
   ]
  },
  {
   "cell_type": "code",
   "execution_count": 145,
   "metadata": {},
   "outputs": [
    {
     "data": {
      "text/html": [
       "<div>\n",
       "<style scoped>\n",
       "    .dataframe tbody tr th:only-of-type {\n",
       "        vertical-align: middle;\n",
       "    }\n",
       "\n",
       "    .dataframe tbody tr th {\n",
       "        vertical-align: top;\n",
       "    }\n",
       "\n",
       "    .dataframe thead th {\n",
       "        text-align: right;\n",
       "    }\n",
       "</style>\n",
       "<table border=\"1\" class=\"dataframe\">\n",
       "  <thead>\n",
       "    <tr style=\"text-align: right;\">\n",
       "      <th></th>\n",
       "      <th>num_txn_ult_mes</th>\n",
       "      <th>edad_usuario</th>\n",
       "      <th>n_txn_type_S</th>\n",
       "      <th>n_hora_10</th>\n",
       "      <th>n_hora_11</th>\n",
       "      <th>n_hora_12</th>\n",
       "      <th>n_hora_13</th>\n",
       "      <th>n_hora_14</th>\n",
       "      <th>n_hora_15</th>\n",
       "      <th>n_hora_16</th>\n",
       "      <th>n_hora_7</th>\n",
       "      <th>n_hora_8</th>\n",
       "      <th>n_hora_9</th>\n",
       "      <th>n_hora_Otros</th>\n",
       "      <th>n_mes_1</th>\n",
       "      <th>n_mes_10</th>\n",
       "      <th>n_mes_11</th>\n",
       "      <th>n_mes_12</th>\n",
       "      <th>n_mes_2</th>\n",
       "      <th>n_mes_3</th>\n",
       "      <th>n_mes_4</th>\n",
       "      <th>n_mes_5</th>\n",
       "      <th>n_mes_6</th>\n",
       "      <th>n_mes_7</th>\n",
       "      <th>n_mes_8</th>\n",
       "      <th>n_mes_9</th>\n",
       "      <th>n_diasem_D</th>\n",
       "      <th>n_diasem_J</th>\n",
       "      <th>n_diasem_L</th>\n",
       "      <th>n_diasem_M</th>\n",
       "      <th>n_diasem_S</th>\n",
       "      <th>n_diasem_V</th>\n",
       "      <th>n_diasem_X</th>\n",
       "      <th>n_dif_estado_True</th>\n",
       "    </tr>\n",
       "  </thead>\n",
       "  <tbody>\n",
       "    <tr>\n",
       "      <th>count</th>\n",
       "      <td>2276.00</td>\n",
       "      <td>2276.00</td>\n",
       "      <td>2276.00</td>\n",
       "      <td>2276.00</td>\n",
       "      <td>2276.00</td>\n",
       "      <td>2276.00</td>\n",
       "      <td>2276.00</td>\n",
       "      <td>2276.00</td>\n",
       "      <td>2276.00</td>\n",
       "      <td>2276.00</td>\n",
       "      <td>2276.00</td>\n",
       "      <td>2276.00</td>\n",
       "      <td>2276.00</td>\n",
       "      <td>2276.00</td>\n",
       "      <td>2276.00</td>\n",
       "      <td>2276.00</td>\n",
       "      <td>2276.00</td>\n",
       "      <td>2276.00</td>\n",
       "      <td>2276.00</td>\n",
       "      <td>2276.00</td>\n",
       "      <td>2276.00</td>\n",
       "      <td>2276.00</td>\n",
       "      <td>2276.00</td>\n",
       "      <td>2276.00</td>\n",
       "      <td>2276.00</td>\n",
       "      <td>2276.00</td>\n",
       "      <td>2276.00</td>\n",
       "      <td>2276.00</td>\n",
       "      <td>2276.00</td>\n",
       "      <td>2276.00</td>\n",
       "      <td>2276.00</td>\n",
       "      <td>2276.00</td>\n",
       "      <td>2276.00</td>\n",
       "      <td>2276.00</td>\n",
       "    </tr>\n",
       "    <tr>\n",
       "      <th>mean</th>\n",
       "      <td>0.22</td>\n",
       "      <td>0.36</td>\n",
       "      <td>0.81</td>\n",
       "      <td>0.10</td>\n",
       "      <td>0.10</td>\n",
       "      <td>0.09</td>\n",
       "      <td>0.08</td>\n",
       "      <td>0.08</td>\n",
       "      <td>0.07</td>\n",
       "      <td>0.06</td>\n",
       "      <td>0.06</td>\n",
       "      <td>0.06</td>\n",
       "      <td>0.08</td>\n",
       "      <td>0.21</td>\n",
       "      <td>0.09</td>\n",
       "      <td>0.08</td>\n",
       "      <td>0.08</td>\n",
       "      <td>0.09</td>\n",
       "      <td>0.09</td>\n",
       "      <td>0.08</td>\n",
       "      <td>0.07</td>\n",
       "      <td>0.07</td>\n",
       "      <td>0.09</td>\n",
       "      <td>0.08</td>\n",
       "      <td>0.08</td>\n",
       "      <td>0.09</td>\n",
       "      <td>0.16</td>\n",
       "      <td>0.16</td>\n",
       "      <td>0.13</td>\n",
       "      <td>0.15</td>\n",
       "      <td>0.13</td>\n",
       "      <td>0.13</td>\n",
       "      <td>0.14</td>\n",
       "      <td>0.17</td>\n",
       "    </tr>\n",
       "    <tr>\n",
       "      <th>std</th>\n",
       "      <td>0.13</td>\n",
       "      <td>0.20</td>\n",
       "      <td>0.39</td>\n",
       "      <td>0.30</td>\n",
       "      <td>0.30</td>\n",
       "      <td>0.29</td>\n",
       "      <td>0.28</td>\n",
       "      <td>0.28</td>\n",
       "      <td>0.26</td>\n",
       "      <td>0.23</td>\n",
       "      <td>0.24</td>\n",
       "      <td>0.24</td>\n",
       "      <td>0.27</td>\n",
       "      <td>0.41</td>\n",
       "      <td>0.28</td>\n",
       "      <td>0.28</td>\n",
       "      <td>0.28</td>\n",
       "      <td>0.28</td>\n",
       "      <td>0.29</td>\n",
       "      <td>0.28</td>\n",
       "      <td>0.26</td>\n",
       "      <td>0.26</td>\n",
       "      <td>0.28</td>\n",
       "      <td>0.28</td>\n",
       "      <td>0.27</td>\n",
       "      <td>0.29</td>\n",
       "      <td>0.36</td>\n",
       "      <td>0.36</td>\n",
       "      <td>0.33</td>\n",
       "      <td>0.35</td>\n",
       "      <td>0.34</td>\n",
       "      <td>0.34</td>\n",
       "      <td>0.35</td>\n",
       "      <td>0.38</td>\n",
       "    </tr>\n",
       "    <tr>\n",
       "      <th>min</th>\n",
       "      <td>0.00</td>\n",
       "      <td>0.00</td>\n",
       "      <td>0.00</td>\n",
       "      <td>0.00</td>\n",
       "      <td>0.00</td>\n",
       "      <td>0.00</td>\n",
       "      <td>0.00</td>\n",
       "      <td>0.00</td>\n",
       "      <td>0.00</td>\n",
       "      <td>0.00</td>\n",
       "      <td>0.00</td>\n",
       "      <td>0.00</td>\n",
       "      <td>0.00</td>\n",
       "      <td>0.00</td>\n",
       "      <td>0.00</td>\n",
       "      <td>0.00</td>\n",
       "      <td>0.00</td>\n",
       "      <td>0.00</td>\n",
       "      <td>0.00</td>\n",
       "      <td>0.00</td>\n",
       "      <td>0.00</td>\n",
       "      <td>0.00</td>\n",
       "      <td>0.00</td>\n",
       "      <td>0.00</td>\n",
       "      <td>0.00</td>\n",
       "      <td>0.00</td>\n",
       "      <td>0.00</td>\n",
       "      <td>0.00</td>\n",
       "      <td>0.00</td>\n",
       "      <td>0.00</td>\n",
       "      <td>0.00</td>\n",
       "      <td>0.00</td>\n",
       "      <td>0.00</td>\n",
       "      <td>0.00</td>\n",
       "    </tr>\n",
       "    <tr>\n",
       "      <th>25%</th>\n",
       "      <td>0.14</td>\n",
       "      <td>0.21</td>\n",
       "      <td>1.00</td>\n",
       "      <td>0.00</td>\n",
       "      <td>0.00</td>\n",
       "      <td>0.00</td>\n",
       "      <td>0.00</td>\n",
       "      <td>0.00</td>\n",
       "      <td>0.00</td>\n",
       "      <td>0.00</td>\n",
       "      <td>0.00</td>\n",
       "      <td>0.00</td>\n",
       "      <td>0.00</td>\n",
       "      <td>0.00</td>\n",
       "      <td>0.00</td>\n",
       "      <td>0.00</td>\n",
       "      <td>0.00</td>\n",
       "      <td>0.00</td>\n",
       "      <td>0.00</td>\n",
       "      <td>0.00</td>\n",
       "      <td>0.00</td>\n",
       "      <td>0.00</td>\n",
       "      <td>0.00</td>\n",
       "      <td>0.00</td>\n",
       "      <td>0.00</td>\n",
       "      <td>0.00</td>\n",
       "      <td>0.00</td>\n",
       "      <td>0.00</td>\n",
       "      <td>0.00</td>\n",
       "      <td>0.00</td>\n",
       "      <td>0.00</td>\n",
       "      <td>0.00</td>\n",
       "      <td>0.00</td>\n",
       "      <td>0.00</td>\n",
       "    </tr>\n",
       "    <tr>\n",
       "      <th>50%</th>\n",
       "      <td>0.19</td>\n",
       "      <td>0.33</td>\n",
       "      <td>1.00</td>\n",
       "      <td>0.00</td>\n",
       "      <td>0.00</td>\n",
       "      <td>0.00</td>\n",
       "      <td>0.00</td>\n",
       "      <td>0.00</td>\n",
       "      <td>0.00</td>\n",
       "      <td>0.00</td>\n",
       "      <td>0.00</td>\n",
       "      <td>0.00</td>\n",
       "      <td>0.00</td>\n",
       "      <td>0.00</td>\n",
       "      <td>0.00</td>\n",
       "      <td>0.00</td>\n",
       "      <td>0.00</td>\n",
       "      <td>0.00</td>\n",
       "      <td>0.00</td>\n",
       "      <td>0.00</td>\n",
       "      <td>0.00</td>\n",
       "      <td>0.00</td>\n",
       "      <td>0.00</td>\n",
       "      <td>0.00</td>\n",
       "      <td>0.00</td>\n",
       "      <td>0.00</td>\n",
       "      <td>0.00</td>\n",
       "      <td>0.00</td>\n",
       "      <td>0.00</td>\n",
       "      <td>0.00</td>\n",
       "      <td>0.00</td>\n",
       "      <td>0.00</td>\n",
       "      <td>0.00</td>\n",
       "      <td>0.00</td>\n",
       "    </tr>\n",
       "    <tr>\n",
       "      <th>75%</th>\n",
       "      <td>0.27</td>\n",
       "      <td>0.48</td>\n",
       "      <td>1.00</td>\n",
       "      <td>0.00</td>\n",
       "      <td>0.00</td>\n",
       "      <td>0.00</td>\n",
       "      <td>0.00</td>\n",
       "      <td>0.00</td>\n",
       "      <td>0.00</td>\n",
       "      <td>0.00</td>\n",
       "      <td>0.00</td>\n",
       "      <td>0.00</td>\n",
       "      <td>0.00</td>\n",
       "      <td>0.00</td>\n",
       "      <td>0.00</td>\n",
       "      <td>0.00</td>\n",
       "      <td>0.00</td>\n",
       "      <td>0.00</td>\n",
       "      <td>0.00</td>\n",
       "      <td>0.00</td>\n",
       "      <td>0.00</td>\n",
       "      <td>0.00</td>\n",
       "      <td>0.00</td>\n",
       "      <td>0.00</td>\n",
       "      <td>0.00</td>\n",
       "      <td>0.00</td>\n",
       "      <td>0.00</td>\n",
       "      <td>0.00</td>\n",
       "      <td>0.00</td>\n",
       "      <td>0.00</td>\n",
       "      <td>0.00</td>\n",
       "      <td>0.00</td>\n",
       "      <td>0.00</td>\n",
       "      <td>0.00</td>\n",
       "    </tr>\n",
       "    <tr>\n",
       "      <th>max</th>\n",
       "      <td>1.00</td>\n",
       "      <td>1.00</td>\n",
       "      <td>1.00</td>\n",
       "      <td>1.00</td>\n",
       "      <td>1.00</td>\n",
       "      <td>1.00</td>\n",
       "      <td>1.00</td>\n",
       "      <td>1.00</td>\n",
       "      <td>1.00</td>\n",
       "      <td>1.00</td>\n",
       "      <td>1.00</td>\n",
       "      <td>1.00</td>\n",
       "      <td>1.00</td>\n",
       "      <td>1.00</td>\n",
       "      <td>1.00</td>\n",
       "      <td>1.00</td>\n",
       "      <td>1.00</td>\n",
       "      <td>1.00</td>\n",
       "      <td>1.00</td>\n",
       "      <td>1.00</td>\n",
       "      <td>1.00</td>\n",
       "      <td>1.00</td>\n",
       "      <td>1.00</td>\n",
       "      <td>1.00</td>\n",
       "      <td>1.00</td>\n",
       "      <td>1.00</td>\n",
       "      <td>1.00</td>\n",
       "      <td>1.00</td>\n",
       "      <td>1.00</td>\n",
       "      <td>1.00</td>\n",
       "      <td>1.00</td>\n",
       "      <td>1.00</td>\n",
       "      <td>1.00</td>\n",
       "      <td>1.00</td>\n",
       "    </tr>\n",
       "  </tbody>\n",
       "</table>\n",
       "</div>"
      ],
      "text/plain": [
       "       num_txn_ult_mes  edad_usuario  n_txn_type_S  n_hora_10  n_hora_11  \\\n",
       "count          2276.00       2276.00       2276.00    2276.00    2276.00   \n",
       "mean              0.22          0.36          0.81       0.10       0.10   \n",
       "std               0.13          0.20          0.39       0.30       0.30   \n",
       "min               0.00          0.00          0.00       0.00       0.00   \n",
       "25%               0.14          0.21          1.00       0.00       0.00   \n",
       "50%               0.19          0.33          1.00       0.00       0.00   \n",
       "75%               0.27          0.48          1.00       0.00       0.00   \n",
       "max               1.00          1.00          1.00       1.00       1.00   \n",
       "\n",
       "       n_hora_12  n_hora_13  n_hora_14  n_hora_15  n_hora_16  n_hora_7  \\\n",
       "count    2276.00    2276.00    2276.00    2276.00    2276.00   2276.00   \n",
       "mean        0.09       0.08       0.08       0.07       0.06      0.06   \n",
       "std         0.29       0.28       0.28       0.26       0.23      0.24   \n",
       "min         0.00       0.00       0.00       0.00       0.00      0.00   \n",
       "25%         0.00       0.00       0.00       0.00       0.00      0.00   \n",
       "50%         0.00       0.00       0.00       0.00       0.00      0.00   \n",
       "75%         0.00       0.00       0.00       0.00       0.00      0.00   \n",
       "max         1.00       1.00       1.00       1.00       1.00      1.00   \n",
       "\n",
       "       n_hora_8  n_hora_9  n_hora_Otros  n_mes_1  n_mes_10  n_mes_11  \\\n",
       "count   2276.00   2276.00       2276.00  2276.00   2276.00   2276.00   \n",
       "mean       0.06      0.08          0.21     0.09      0.08      0.08   \n",
       "std        0.24      0.27          0.41     0.28      0.28      0.28   \n",
       "min        0.00      0.00          0.00     0.00      0.00      0.00   \n",
       "25%        0.00      0.00          0.00     0.00      0.00      0.00   \n",
       "50%        0.00      0.00          0.00     0.00      0.00      0.00   \n",
       "75%        0.00      0.00          0.00     0.00      0.00      0.00   \n",
       "max        1.00      1.00          1.00     1.00      1.00      1.00   \n",
       "\n",
       "       n_mes_12  n_mes_2  n_mes_3  n_mes_4  n_mes_5  n_mes_6  n_mes_7  \\\n",
       "count   2276.00  2276.00  2276.00  2276.00  2276.00  2276.00  2276.00   \n",
       "mean       0.09     0.09     0.08     0.07     0.07     0.09     0.08   \n",
       "std        0.28     0.29     0.28     0.26     0.26     0.28     0.28   \n",
       "min        0.00     0.00     0.00     0.00     0.00     0.00     0.00   \n",
       "25%        0.00     0.00     0.00     0.00     0.00     0.00     0.00   \n",
       "50%        0.00     0.00     0.00     0.00     0.00     0.00     0.00   \n",
       "75%        0.00     0.00     0.00     0.00     0.00     0.00     0.00   \n",
       "max        1.00     1.00     1.00     1.00     1.00     1.00     1.00   \n",
       "\n",
       "       n_mes_8  n_mes_9  n_diasem_D  n_diasem_J  n_diasem_L  n_diasem_M  \\\n",
       "count  2276.00  2276.00     2276.00     2276.00     2276.00     2276.00   \n",
       "mean      0.08     0.09        0.16        0.16        0.13        0.15   \n",
       "std       0.27     0.29        0.36        0.36        0.33        0.35   \n",
       "min       0.00     0.00        0.00        0.00        0.00        0.00   \n",
       "25%       0.00     0.00        0.00        0.00        0.00        0.00   \n",
       "50%       0.00     0.00        0.00        0.00        0.00        0.00   \n",
       "75%       0.00     0.00        0.00        0.00        0.00        0.00   \n",
       "max       1.00     1.00        1.00        1.00        1.00        1.00   \n",
       "\n",
       "       n_diasem_S  n_diasem_V  n_diasem_X  n_dif_estado_True  \n",
       "count     2276.00     2276.00     2276.00            2276.00  \n",
       "mean         0.13        0.13        0.14               0.17  \n",
       "std          0.34        0.34        0.35               0.38  \n",
       "min          0.00        0.00        0.00               0.00  \n",
       "25%          0.00        0.00        0.00               0.00  \n",
       "50%          0.00        0.00        0.00               0.00  \n",
       "75%          0.00        0.00        0.00               0.00  \n",
       "max          1.00        1.00        1.00               1.00  "
      ]
     },
     "execution_count": 145,
     "metadata": {},
     "output_type": "execute_result"
    }
   ],
   "source": [
    "X01[var].describe() #validamos"
   ]
  },
  {
   "cell_type": "markdown",
   "metadata": {},
   "source": [
    "### Espacio estandarizado ($\\mu=0;\\sigma=1$) $\\mathcal{X}_s$"
   ]
  },
  {
   "cell_type": "code",
   "execution_count": 146,
   "metadata": {},
   "outputs": [],
   "source": [
    "sc = StandardScaler()\n",
    "sc.fit(X[var])\n",
    "Xs = pd.DataFrame(sc.transform(X[var]),columns=var) #datafram ya estandarizado\n",
    "Xs.insert(0,um[0],X[um])"
   ]
  },
  {
   "cell_type": "code",
   "execution_count": 147,
   "metadata": {},
   "outputs": [
    {
     "data": {
      "text/html": [
       "<div>\n",
       "<style scoped>\n",
       "    .dataframe tbody tr th:only-of-type {\n",
       "        vertical-align: middle;\n",
       "    }\n",
       "\n",
       "    .dataframe tbody tr th {\n",
       "        vertical-align: top;\n",
       "    }\n",
       "\n",
       "    .dataframe thead th {\n",
       "        text-align: right;\n",
       "    }\n",
       "</style>\n",
       "<table border=\"1\" class=\"dataframe\">\n",
       "  <thead>\n",
       "    <tr style=\"text-align: right;\">\n",
       "      <th></th>\n",
       "      <th>id_txn</th>\n",
       "      <th>num_txn_ult_mes</th>\n",
       "      <th>edad_usuario</th>\n",
       "      <th>n_txn_type_S</th>\n",
       "      <th>n_hora_10</th>\n",
       "      <th>n_hora_11</th>\n",
       "      <th>n_hora_12</th>\n",
       "      <th>n_hora_13</th>\n",
       "      <th>n_hora_14</th>\n",
       "      <th>n_hora_15</th>\n",
       "      <th>n_hora_16</th>\n",
       "      <th>n_hora_7</th>\n",
       "      <th>n_hora_8</th>\n",
       "      <th>n_hora_9</th>\n",
       "      <th>n_hora_Otros</th>\n",
       "      <th>n_mes_1</th>\n",
       "      <th>n_mes_10</th>\n",
       "      <th>n_mes_11</th>\n",
       "      <th>n_mes_12</th>\n",
       "      <th>n_mes_2</th>\n",
       "      <th>n_mes_3</th>\n",
       "      <th>n_mes_4</th>\n",
       "      <th>n_mes_5</th>\n",
       "      <th>n_mes_6</th>\n",
       "      <th>n_mes_7</th>\n",
       "      <th>n_mes_8</th>\n",
       "      <th>n_mes_9</th>\n",
       "      <th>n_diasem_D</th>\n",
       "      <th>n_diasem_J</th>\n",
       "      <th>n_diasem_L</th>\n",
       "      <th>n_diasem_M</th>\n",
       "      <th>n_diasem_S</th>\n",
       "      <th>n_diasem_V</th>\n",
       "      <th>n_diasem_X</th>\n",
       "      <th>n_dif_estado_True</th>\n",
       "    </tr>\n",
       "  </thead>\n",
       "  <tbody>\n",
       "    <tr>\n",
       "      <th>count</th>\n",
       "      <td>2276.00</td>\n",
       "      <td>2276.00</td>\n",
       "      <td>2276.00</td>\n",
       "      <td>2276.00</td>\n",
       "      <td>2276.00</td>\n",
       "      <td>2276.00</td>\n",
       "      <td>2276.00</td>\n",
       "      <td>2276.00</td>\n",
       "      <td>2276.00</td>\n",
       "      <td>2276.00</td>\n",
       "      <td>2276.00</td>\n",
       "      <td>2276.00</td>\n",
       "      <td>2276.00</td>\n",
       "      <td>2276.00</td>\n",
       "      <td>2276.00</td>\n",
       "      <td>2276.00</td>\n",
       "      <td>2276.00</td>\n",
       "      <td>2276.00</td>\n",
       "      <td>2276.00</td>\n",
       "      <td>2276.00</td>\n",
       "      <td>2276.00</td>\n",
       "      <td>2276.00</td>\n",
       "      <td>2276.00</td>\n",
       "      <td>2276.00</td>\n",
       "      <td>2276.00</td>\n",
       "      <td>2276.00</td>\n",
       "      <td>2276.00</td>\n",
       "      <td>2276.00</td>\n",
       "      <td>2276.00</td>\n",
       "      <td>2276.00</td>\n",
       "      <td>2276.00</td>\n",
       "      <td>2276.00</td>\n",
       "      <td>2276.00</td>\n",
       "      <td>2276.00</td>\n",
       "      <td>2276.00</td>\n",
       "    </tr>\n",
       "    <tr>\n",
       "      <th>mean</th>\n",
       "      <td>10868203.63</td>\n",
       "      <td>-0.00</td>\n",
       "      <td>-0.00</td>\n",
       "      <td>0.00</td>\n",
       "      <td>-0.00</td>\n",
       "      <td>-0.00</td>\n",
       "      <td>-0.00</td>\n",
       "      <td>0.00</td>\n",
       "      <td>0.00</td>\n",
       "      <td>0.00</td>\n",
       "      <td>0.00</td>\n",
       "      <td>0.00</td>\n",
       "      <td>0.00</td>\n",
       "      <td>0.00</td>\n",
       "      <td>0.00</td>\n",
       "      <td>-0.00</td>\n",
       "      <td>0.00</td>\n",
       "      <td>0.00</td>\n",
       "      <td>0.00</td>\n",
       "      <td>-0.00</td>\n",
       "      <td>0.00</td>\n",
       "      <td>0.00</td>\n",
       "      <td>0.00</td>\n",
       "      <td>-0.00</td>\n",
       "      <td>0.00</td>\n",
       "      <td>-0.00</td>\n",
       "      <td>0.00</td>\n",
       "      <td>-0.00</td>\n",
       "      <td>0.00</td>\n",
       "      <td>-0.00</td>\n",
       "      <td>0.00</td>\n",
       "      <td>-0.00</td>\n",
       "      <td>-0.00</td>\n",
       "      <td>0.00</td>\n",
       "      <td>-0.00</td>\n",
       "    </tr>\n",
       "    <tr>\n",
       "      <th>std</th>\n",
       "      <td>6500475.43</td>\n",
       "      <td>1.00</td>\n",
       "      <td>1.00</td>\n",
       "      <td>1.00</td>\n",
       "      <td>1.00</td>\n",
       "      <td>1.00</td>\n",
       "      <td>1.00</td>\n",
       "      <td>1.00</td>\n",
       "      <td>1.00</td>\n",
       "      <td>1.00</td>\n",
       "      <td>1.00</td>\n",
       "      <td>1.00</td>\n",
       "      <td>1.00</td>\n",
       "      <td>1.00</td>\n",
       "      <td>1.00</td>\n",
       "      <td>1.00</td>\n",
       "      <td>1.00</td>\n",
       "      <td>1.00</td>\n",
       "      <td>1.00</td>\n",
       "      <td>1.00</td>\n",
       "      <td>1.00</td>\n",
       "      <td>1.00</td>\n",
       "      <td>1.00</td>\n",
       "      <td>1.00</td>\n",
       "      <td>1.00</td>\n",
       "      <td>1.00</td>\n",
       "      <td>1.00</td>\n",
       "      <td>1.00</td>\n",
       "      <td>1.00</td>\n",
       "      <td>1.00</td>\n",
       "      <td>1.00</td>\n",
       "      <td>1.00</td>\n",
       "      <td>1.00</td>\n",
       "      <td>1.00</td>\n",
       "      <td>1.00</td>\n",
       "    </tr>\n",
       "    <tr>\n",
       "      <th>min</th>\n",
       "      <td>12978.00</td>\n",
       "      <td>-1.71</td>\n",
       "      <td>-1.83</td>\n",
       "      <td>-2.06</td>\n",
       "      <td>-0.34</td>\n",
       "      <td>-0.33</td>\n",
       "      <td>-0.31</td>\n",
       "      <td>-0.30</td>\n",
       "      <td>-0.30</td>\n",
       "      <td>-0.28</td>\n",
       "      <td>-0.25</td>\n",
       "      <td>-0.26</td>\n",
       "      <td>-0.25</td>\n",
       "      <td>-0.30</td>\n",
       "      <td>-0.51</td>\n",
       "      <td>-0.31</td>\n",
       "      <td>-0.30</td>\n",
       "      <td>-0.30</td>\n",
       "      <td>-0.31</td>\n",
       "      <td>-0.32</td>\n",
       "      <td>-0.30</td>\n",
       "      <td>-0.28</td>\n",
       "      <td>-0.28</td>\n",
       "      <td>-0.31</td>\n",
       "      <td>-0.30</td>\n",
       "      <td>-0.29</td>\n",
       "      <td>-0.31</td>\n",
       "      <td>-0.43</td>\n",
       "      <td>-0.43</td>\n",
       "      <td>-0.38</td>\n",
       "      <td>-0.42</td>\n",
       "      <td>-0.39</td>\n",
       "      <td>-0.39</td>\n",
       "      <td>-0.41</td>\n",
       "      <td>-0.45</td>\n",
       "    </tr>\n",
       "    <tr>\n",
       "      <th>25%</th>\n",
       "      <td>4974533.25</td>\n",
       "      <td>-0.63</td>\n",
       "      <td>-0.75</td>\n",
       "      <td>0.49</td>\n",
       "      <td>-0.34</td>\n",
       "      <td>-0.33</td>\n",
       "      <td>-0.31</td>\n",
       "      <td>-0.30</td>\n",
       "      <td>-0.30</td>\n",
       "      <td>-0.28</td>\n",
       "      <td>-0.25</td>\n",
       "      <td>-0.26</td>\n",
       "      <td>-0.25</td>\n",
       "      <td>-0.30</td>\n",
       "      <td>-0.51</td>\n",
       "      <td>-0.31</td>\n",
       "      <td>-0.30</td>\n",
       "      <td>-0.30</td>\n",
       "      <td>-0.31</td>\n",
       "      <td>-0.32</td>\n",
       "      <td>-0.30</td>\n",
       "      <td>-0.28</td>\n",
       "      <td>-0.28</td>\n",
       "      <td>-0.31</td>\n",
       "      <td>-0.30</td>\n",
       "      <td>-0.29</td>\n",
       "      <td>-0.31</td>\n",
       "      <td>-0.43</td>\n",
       "      <td>-0.43</td>\n",
       "      <td>-0.38</td>\n",
       "      <td>-0.42</td>\n",
       "      <td>-0.39</td>\n",
       "      <td>-0.39</td>\n",
       "      <td>-0.41</td>\n",
       "      <td>-0.45</td>\n",
       "    </tr>\n",
       "    <tr>\n",
       "      <th>50%</th>\n",
       "      <td>11088496.50</td>\n",
       "      <td>-0.25</td>\n",
       "      <td>-0.14</td>\n",
       "      <td>0.49</td>\n",
       "      <td>-0.34</td>\n",
       "      <td>-0.33</td>\n",
       "      <td>-0.31</td>\n",
       "      <td>-0.30</td>\n",
       "      <td>-0.30</td>\n",
       "      <td>-0.28</td>\n",
       "      <td>-0.25</td>\n",
       "      <td>-0.26</td>\n",
       "      <td>-0.25</td>\n",
       "      <td>-0.30</td>\n",
       "      <td>-0.51</td>\n",
       "      <td>-0.31</td>\n",
       "      <td>-0.30</td>\n",
       "      <td>-0.30</td>\n",
       "      <td>-0.31</td>\n",
       "      <td>-0.32</td>\n",
       "      <td>-0.30</td>\n",
       "      <td>-0.28</td>\n",
       "      <td>-0.28</td>\n",
       "      <td>-0.31</td>\n",
       "      <td>-0.30</td>\n",
       "      <td>-0.29</td>\n",
       "      <td>-0.31</td>\n",
       "      <td>-0.43</td>\n",
       "      <td>-0.43</td>\n",
       "      <td>-0.38</td>\n",
       "      <td>-0.42</td>\n",
       "      <td>-0.39</td>\n",
       "      <td>-0.39</td>\n",
       "      <td>-0.41</td>\n",
       "      <td>-0.45</td>\n",
       "    </tr>\n",
       "    <tr>\n",
       "      <th>75%</th>\n",
       "      <td>16829217.25</td>\n",
       "      <td>0.36</td>\n",
       "      <td>0.62</td>\n",
       "      <td>0.49</td>\n",
       "      <td>-0.34</td>\n",
       "      <td>-0.33</td>\n",
       "      <td>-0.31</td>\n",
       "      <td>-0.30</td>\n",
       "      <td>-0.30</td>\n",
       "      <td>-0.28</td>\n",
       "      <td>-0.25</td>\n",
       "      <td>-0.26</td>\n",
       "      <td>-0.25</td>\n",
       "      <td>-0.30</td>\n",
       "      <td>-0.51</td>\n",
       "      <td>-0.31</td>\n",
       "      <td>-0.30</td>\n",
       "      <td>-0.30</td>\n",
       "      <td>-0.31</td>\n",
       "      <td>-0.32</td>\n",
       "      <td>-0.30</td>\n",
       "      <td>-0.28</td>\n",
       "      <td>-0.28</td>\n",
       "      <td>-0.31</td>\n",
       "      <td>-0.30</td>\n",
       "      <td>-0.29</td>\n",
       "      <td>-0.31</td>\n",
       "      <td>-0.43</td>\n",
       "      <td>-0.43</td>\n",
       "      <td>-0.38</td>\n",
       "      <td>-0.42</td>\n",
       "      <td>-0.39</td>\n",
       "      <td>-0.39</td>\n",
       "      <td>-0.41</td>\n",
       "      <td>-0.45</td>\n",
       "    </tr>\n",
       "    <tr>\n",
       "      <th>max</th>\n",
       "      <td>21498595.00</td>\n",
       "      <td>6.04</td>\n",
       "      <td>3.28</td>\n",
       "      <td>0.49</td>\n",
       "      <td>2.97</td>\n",
       "      <td>3.00</td>\n",
       "      <td>3.18</td>\n",
       "      <td>3.31</td>\n",
       "      <td>3.33</td>\n",
       "      <td>3.61</td>\n",
       "      <td>4.01</td>\n",
       "      <td>3.86</td>\n",
       "      <td>3.95</td>\n",
       "      <td>3.34</td>\n",
       "      <td>1.96</td>\n",
       "      <td>3.20</td>\n",
       "      <td>3.32</td>\n",
       "      <td>3.31</td>\n",
       "      <td>3.26</td>\n",
       "      <td>3.17</td>\n",
       "      <td>3.29</td>\n",
       "      <td>3.61</td>\n",
       "      <td>3.62</td>\n",
       "      <td>3.21</td>\n",
       "      <td>3.31</td>\n",
       "      <td>3.39</td>\n",
       "      <td>3.19</td>\n",
       "      <td>2.32</td>\n",
       "      <td>2.31</td>\n",
       "      <td>2.64</td>\n",
       "      <td>2.41</td>\n",
       "      <td>2.53</td>\n",
       "      <td>2.54</td>\n",
       "      <td>2.44</td>\n",
       "      <td>2.21</td>\n",
       "    </tr>\n",
       "  </tbody>\n",
       "</table>\n",
       "</div>"
      ],
      "text/plain": [
       "           id_txn  num_txn_ult_mes  edad_usuario  n_txn_type_S  n_hora_10  \\\n",
       "count     2276.00          2276.00       2276.00       2276.00    2276.00   \n",
       "mean  10868203.63            -0.00         -0.00          0.00      -0.00   \n",
       "std    6500475.43             1.00          1.00          1.00       1.00   \n",
       "min      12978.00            -1.71         -1.83         -2.06      -0.34   \n",
       "25%    4974533.25            -0.63         -0.75          0.49      -0.34   \n",
       "50%   11088496.50            -0.25         -0.14          0.49      -0.34   \n",
       "75%   16829217.25             0.36          0.62          0.49      -0.34   \n",
       "max   21498595.00             6.04          3.28          0.49       2.97   \n",
       "\n",
       "       n_hora_11  n_hora_12  n_hora_13  n_hora_14  n_hora_15  n_hora_16  \\\n",
       "count    2276.00    2276.00    2276.00    2276.00    2276.00    2276.00   \n",
       "mean       -0.00      -0.00       0.00       0.00       0.00       0.00   \n",
       "std         1.00       1.00       1.00       1.00       1.00       1.00   \n",
       "min        -0.33      -0.31      -0.30      -0.30      -0.28      -0.25   \n",
       "25%        -0.33      -0.31      -0.30      -0.30      -0.28      -0.25   \n",
       "50%        -0.33      -0.31      -0.30      -0.30      -0.28      -0.25   \n",
       "75%        -0.33      -0.31      -0.30      -0.30      -0.28      -0.25   \n",
       "max         3.00       3.18       3.31       3.33       3.61       4.01   \n",
       "\n",
       "       n_hora_7  n_hora_8  n_hora_9  n_hora_Otros  n_mes_1  n_mes_10  \\\n",
       "count   2276.00   2276.00   2276.00       2276.00  2276.00   2276.00   \n",
       "mean       0.00      0.00      0.00          0.00    -0.00      0.00   \n",
       "std        1.00      1.00      1.00          1.00     1.00      1.00   \n",
       "min       -0.26     -0.25     -0.30         -0.51    -0.31     -0.30   \n",
       "25%       -0.26     -0.25     -0.30         -0.51    -0.31     -0.30   \n",
       "50%       -0.26     -0.25     -0.30         -0.51    -0.31     -0.30   \n",
       "75%       -0.26     -0.25     -0.30         -0.51    -0.31     -0.30   \n",
       "max        3.86      3.95      3.34          1.96     3.20      3.32   \n",
       "\n",
       "       n_mes_11  n_mes_12  n_mes_2  n_mes_3  n_mes_4  n_mes_5  n_mes_6  \\\n",
       "count   2276.00   2276.00  2276.00  2276.00  2276.00  2276.00  2276.00   \n",
       "mean       0.00      0.00    -0.00     0.00     0.00     0.00    -0.00   \n",
       "std        1.00      1.00     1.00     1.00     1.00     1.00     1.00   \n",
       "min       -0.30     -0.31    -0.32    -0.30    -0.28    -0.28    -0.31   \n",
       "25%       -0.30     -0.31    -0.32    -0.30    -0.28    -0.28    -0.31   \n",
       "50%       -0.30     -0.31    -0.32    -0.30    -0.28    -0.28    -0.31   \n",
       "75%       -0.30     -0.31    -0.32    -0.30    -0.28    -0.28    -0.31   \n",
       "max        3.31      3.26     3.17     3.29     3.61     3.62     3.21   \n",
       "\n",
       "       n_mes_7  n_mes_8  n_mes_9  n_diasem_D  n_diasem_J  n_diasem_L  \\\n",
       "count  2276.00  2276.00  2276.00     2276.00     2276.00     2276.00   \n",
       "mean      0.00    -0.00     0.00       -0.00        0.00       -0.00   \n",
       "std       1.00     1.00     1.00        1.00        1.00        1.00   \n",
       "min      -0.30    -0.29    -0.31       -0.43       -0.43       -0.38   \n",
       "25%      -0.30    -0.29    -0.31       -0.43       -0.43       -0.38   \n",
       "50%      -0.30    -0.29    -0.31       -0.43       -0.43       -0.38   \n",
       "75%      -0.30    -0.29    -0.31       -0.43       -0.43       -0.38   \n",
       "max       3.31     3.39     3.19        2.32        2.31        2.64   \n",
       "\n",
       "       n_diasem_M  n_diasem_S  n_diasem_V  n_diasem_X  n_dif_estado_True  \n",
       "count     2276.00     2276.00     2276.00     2276.00            2276.00  \n",
       "mean         0.00       -0.00       -0.00        0.00              -0.00  \n",
       "std          1.00        1.00        1.00        1.00               1.00  \n",
       "min         -0.42       -0.39       -0.39       -0.41              -0.45  \n",
       "25%         -0.42       -0.39       -0.39       -0.41              -0.45  \n",
       "50%         -0.42       -0.39       -0.39       -0.41              -0.45  \n",
       "75%         -0.42       -0.39       -0.39       -0.41              -0.45  \n",
       "max          2.41        2.53        2.54        2.44               2.21  "
      ]
     },
     "execution_count": 147,
     "metadata": {},
     "output_type": "execute_result"
    }
   ],
   "source": [
    "Xs.describe()"
   ]
  },
  {
   "cell_type": "markdown",
   "metadata": {},
   "source": [
    "### Espacio de componentes principales (combinación lineal ortogonal) $\\mathcal{X}_p$"
   ]
  },
  {
   "cell_type": "code",
   "execution_count": 148,
   "metadata": {},
   "outputs": [],
   "source": [
    "pipe_pca = make_pipeline(StandardScaler(),PCA(0.9),MinMaxScaler()) #creamos el pipline con 90% varianza explicada"
   ]
  },
  {
   "cell_type": "code",
   "execution_count": 149,
   "metadata": {},
   "outputs": [
    {
     "data": {
      "text/html": [
       "<style>#sk-container-id-10 {color: black;background-color: white;}#sk-container-id-10 pre{padding: 0;}#sk-container-id-10 div.sk-toggleable {background-color: white;}#sk-container-id-10 label.sk-toggleable__label {cursor: pointer;display: block;width: 100%;margin-bottom: 0;padding: 0.3em;box-sizing: border-box;text-align: center;}#sk-container-id-10 label.sk-toggleable__label-arrow:before {content: \"▸\";float: left;margin-right: 0.25em;color: #696969;}#sk-container-id-10 label.sk-toggleable__label-arrow:hover:before {color: black;}#sk-container-id-10 div.sk-estimator:hover label.sk-toggleable__label-arrow:before {color: black;}#sk-container-id-10 div.sk-toggleable__content {max-height: 0;max-width: 0;overflow: hidden;text-align: left;background-color: #f0f8ff;}#sk-container-id-10 div.sk-toggleable__content pre {margin: 0.2em;color: black;border-radius: 0.25em;background-color: #f0f8ff;}#sk-container-id-10 input.sk-toggleable__control:checked~div.sk-toggleable__content {max-height: 200px;max-width: 100%;overflow: auto;}#sk-container-id-10 input.sk-toggleable__control:checked~label.sk-toggleable__label-arrow:before {content: \"▾\";}#sk-container-id-10 div.sk-estimator input.sk-toggleable__control:checked~label.sk-toggleable__label {background-color: #d4ebff;}#sk-container-id-10 div.sk-label input.sk-toggleable__control:checked~label.sk-toggleable__label {background-color: #d4ebff;}#sk-container-id-10 input.sk-hidden--visually {border: 0;clip: rect(1px 1px 1px 1px);clip: rect(1px, 1px, 1px, 1px);height: 1px;margin: -1px;overflow: hidden;padding: 0;position: absolute;width: 1px;}#sk-container-id-10 div.sk-estimator {font-family: monospace;background-color: #f0f8ff;border: 1px dotted black;border-radius: 0.25em;box-sizing: border-box;margin-bottom: 0.5em;}#sk-container-id-10 div.sk-estimator:hover {background-color: #d4ebff;}#sk-container-id-10 div.sk-parallel-item::after {content: \"\";width: 100%;border-bottom: 1px solid gray;flex-grow: 1;}#sk-container-id-10 div.sk-label:hover label.sk-toggleable__label {background-color: #d4ebff;}#sk-container-id-10 div.sk-serial::before {content: \"\";position: absolute;border-left: 1px solid gray;box-sizing: border-box;top: 0;bottom: 0;left: 50%;z-index: 0;}#sk-container-id-10 div.sk-serial {display: flex;flex-direction: column;align-items: center;background-color: white;padding-right: 0.2em;padding-left: 0.2em;position: relative;}#sk-container-id-10 div.sk-item {position: relative;z-index: 1;}#sk-container-id-10 div.sk-parallel {display: flex;align-items: stretch;justify-content: center;background-color: white;position: relative;}#sk-container-id-10 div.sk-item::before, #sk-container-id-10 div.sk-parallel-item::before {content: \"\";position: absolute;border-left: 1px solid gray;box-sizing: border-box;top: 0;bottom: 0;left: 50%;z-index: -1;}#sk-container-id-10 div.sk-parallel-item {display: flex;flex-direction: column;z-index: 1;position: relative;background-color: white;}#sk-container-id-10 div.sk-parallel-item:first-child::after {align-self: flex-end;width: 50%;}#sk-container-id-10 div.sk-parallel-item:last-child::after {align-self: flex-start;width: 50%;}#sk-container-id-10 div.sk-parallel-item:only-child::after {width: 0;}#sk-container-id-10 div.sk-dashed-wrapped {border: 1px dashed gray;margin: 0 0.4em 0.5em 0.4em;box-sizing: border-box;padding-bottom: 0.4em;background-color: white;}#sk-container-id-10 div.sk-label label {font-family: monospace;font-weight: bold;display: inline-block;line-height: 1.2em;}#sk-container-id-10 div.sk-label-container {text-align: center;}#sk-container-id-10 div.sk-container {/* jupyter's `normalize.less` sets `[hidden] { display: none; }` but bootstrap.min.css set `[hidden] { display: none !important; }` so we also need the `!important` here to be able to override the default hidden behavior on the sphinx rendered scikit-learn.org. See: https://github.com/scikit-learn/scikit-learn/issues/21755 */display: inline-block !important;position: relative;}#sk-container-id-10 div.sk-text-repr-fallback {display: none;}</style><div id=\"sk-container-id-10\" class=\"sk-top-container\"><div class=\"sk-text-repr-fallback\"><pre>Pipeline(steps=[(&#x27;standardscaler&#x27;, StandardScaler()),\n",
       "                (&#x27;pca&#x27;, PCA(n_components=0.9)),\n",
       "                (&#x27;minmaxscaler&#x27;, MinMaxScaler())])</pre><b>In a Jupyter environment, please rerun this cell to show the HTML representation or trust the notebook. <br />On GitHub, the HTML representation is unable to render, please try loading this page with nbviewer.org.</b></div><div class=\"sk-container\" hidden><div class=\"sk-item sk-dashed-wrapped\"><div class=\"sk-label-container\"><div class=\"sk-label sk-toggleable\"><input class=\"sk-toggleable__control sk-hidden--visually\" id=\"sk-estimator-id-13\" type=\"checkbox\" ><label for=\"sk-estimator-id-13\" class=\"sk-toggleable__label sk-toggleable__label-arrow\">Pipeline</label><div class=\"sk-toggleable__content\"><pre>Pipeline(steps=[(&#x27;standardscaler&#x27;, StandardScaler()),\n",
       "                (&#x27;pca&#x27;, PCA(n_components=0.9)),\n",
       "                (&#x27;minmaxscaler&#x27;, MinMaxScaler())])</pre></div></div></div><div class=\"sk-serial\"><div class=\"sk-item\"><div class=\"sk-estimator sk-toggleable\"><input class=\"sk-toggleable__control sk-hidden--visually\" id=\"sk-estimator-id-14\" type=\"checkbox\" ><label for=\"sk-estimator-id-14\" class=\"sk-toggleable__label sk-toggleable__label-arrow\">StandardScaler</label><div class=\"sk-toggleable__content\"><pre>StandardScaler()</pre></div></div></div><div class=\"sk-item\"><div class=\"sk-estimator sk-toggleable\"><input class=\"sk-toggleable__control sk-hidden--visually\" id=\"sk-estimator-id-15\" type=\"checkbox\" ><label for=\"sk-estimator-id-15\" class=\"sk-toggleable__label sk-toggleable__label-arrow\">PCA</label><div class=\"sk-toggleable__content\"><pre>PCA(n_components=0.9)</pre></div></div></div><div class=\"sk-item\"><div class=\"sk-estimator sk-toggleable\"><input class=\"sk-toggleable__control sk-hidden--visually\" id=\"sk-estimator-id-16\" type=\"checkbox\" ><label for=\"sk-estimator-id-16\" class=\"sk-toggleable__label sk-toggleable__label-arrow\">MinMaxScaler</label><div class=\"sk-toggleable__content\"><pre>MinMaxScaler()</pre></div></div></div></div></div></div></div>"
      ],
      "text/plain": [
       "Pipeline(steps=[('standardscaler', StandardScaler()),\n",
       "                ('pca', PCA(n_components=0.9)),\n",
       "                ('minmaxscaler', MinMaxScaler())])"
      ]
     },
     "execution_count": 149,
     "metadata": {},
     "output_type": "execute_result"
    }
   ],
   "source": [
    "pipe_pca.fit(X[var])"
   ]
  },
  {
   "cell_type": "code",
   "execution_count": 150,
   "metadata": {},
   "outputs": [
    {
     "data": {
      "text/plain": [
       "array([0.04120041, 0.08091006, 0.12059154, 0.15831795, 0.19525873,\n",
       "       0.2318979 , 0.26772362, 0.30310681, 0.33779341, 0.37241364,\n",
       "       0.40634094, 0.44014401, 0.47330729, 0.50617447, 0.53877369,\n",
       "       0.57103744, 0.60262189, 0.63391301, 0.66512892, 0.6958412 ,\n",
       "       0.72609868, 0.75562682, 0.78504476, 0.81405848, 0.84252005,\n",
       "       0.87046781, 0.89812119, 0.92560213])"
      ]
     },
     "execution_count": 150,
     "metadata": {},
     "output_type": "execute_result"
    }
   ],
   "source": [
    "pipe_pca.steps[1][-1].explained_variance_ratio_.cumsum()"
   ]
  },
  {
   "cell_type": "code",
   "execution_count": 151,
   "metadata": {},
   "outputs": [],
   "source": [
    "Xp = pd.DataFrame(pipe_pca.transform(X[var])) #cramos el df de pca\n",
    "Xp.insert(0,um[0],X[um])"
   ]
  },
  {
   "cell_type": "code",
   "execution_count": 152,
   "metadata": {},
   "outputs": [
    {
     "data": {
      "text/plain": [
       "array([[<AxesSubplot: title={'center': 'id_txn'}>,\n",
       "        <AxesSubplot: title={'center': '0'}>,\n",
       "        <AxesSubplot: title={'center': '1'}>,\n",
       "        <AxesSubplot: title={'center': '2'}>,\n",
       "        <AxesSubplot: title={'center': '3'}>],\n",
       "       [<AxesSubplot: title={'center': '4'}>,\n",
       "        <AxesSubplot: title={'center': '5'}>,\n",
       "        <AxesSubplot: title={'center': '6'}>,\n",
       "        <AxesSubplot: title={'center': '7'}>,\n",
       "        <AxesSubplot: title={'center': '8'}>],\n",
       "       [<AxesSubplot: title={'center': '9'}>,\n",
       "        <AxesSubplot: title={'center': '10'}>,\n",
       "        <AxesSubplot: title={'center': '11'}>,\n",
       "        <AxesSubplot: title={'center': '12'}>,\n",
       "        <AxesSubplot: title={'center': '13'}>],\n",
       "       [<AxesSubplot: title={'center': '14'}>,\n",
       "        <AxesSubplot: title={'center': '15'}>,\n",
       "        <AxesSubplot: title={'center': '16'}>,\n",
       "        <AxesSubplot: title={'center': '17'}>,\n",
       "        <AxesSubplot: title={'center': '18'}>],\n",
       "       [<AxesSubplot: title={'center': '19'}>,\n",
       "        <AxesSubplot: title={'center': '20'}>,\n",
       "        <AxesSubplot: title={'center': '21'}>,\n",
       "        <AxesSubplot: title={'center': '22'}>,\n",
       "        <AxesSubplot: title={'center': '23'}>],\n",
       "       [<AxesSubplot: title={'center': '24'}>,\n",
       "        <AxesSubplot: title={'center': '25'}>,\n",
       "        <AxesSubplot: title={'center': '26'}>,\n",
       "        <AxesSubplot: title={'center': '27'}>, <AxesSubplot: >]],\n",
       "      dtype=object)"
      ]
     },
     "execution_count": 152,
     "metadata": {},
     "output_type": "execute_result"
    },
    {
     "data": {
      "image/png": "[encoded data removed]",
      "text/plain": [
       "<Figure size 1000x1000 with 30 Axes>"
      ]
     },
     "metadata": {},
     "output_type": "display_data"
    }
   ],
   "source": [
    "Xp.hist(figsize=(10,10)) #checamos las distribuciones"
   ]
  },
  {
   "cell_type": "markdown",
   "metadata": {},
   "source": [
    "### Espacio Weight of Evidence (WoE) $\\mathcal{X}_w$"
   ]
  },
  {
   "cell_type": "code",
   "execution_count": 153,
   "metadata": {},
   "outputs": [],
   "source": [
    "Xw = Xi[um+best+vart].copy().merge(train[um+varn],on=um,how='inner') #juntamos las variables de unidad muestral,\n",
    "#la target, las mejores variables continuas y las mejores variables discretas"
   ]
  },
  {
   "cell_type": "code",
   "execution_count": 154,
   "metadata": {},
   "outputs": [
    {
     "data": {
      "text/html": [
       "<div>\n",
       "<style scoped>\n",
       "    .dataframe tbody tr th:only-of-type {\n",
       "        vertical-align: middle;\n",
       "    }\n",
       "\n",
       "    .dataframe tbody tr th {\n",
       "        vertical-align: top;\n",
       "    }\n",
       "\n",
       "    .dataframe thead th {\n",
       "        text-align: right;\n",
       "    }\n",
       "</style>\n",
       "<table border=\"1\" class=\"dataframe\">\n",
       "  <thead>\n",
       "    <tr style=\"text-align: right;\">\n",
       "      <th></th>\n",
       "      <th>id_txn</th>\n",
       "      <th>num_txn_ult_mes</th>\n",
       "      <th>edad_usuario</th>\n",
       "      <th>is_fraud</th>\n",
       "      <th>n_txn_type</th>\n",
       "      <th>n_hora</th>\n",
       "      <th>n_mes</th>\n",
       "      <th>n_diasem</th>\n",
       "      <th>n_dif_estado</th>\n",
       "    </tr>\n",
       "  </thead>\n",
       "  <tbody>\n",
       "    <tr>\n",
       "      <th>0</th>\n",
       "      <td>18182765</td>\n",
       "      <td>73.00</td>\n",
       "      <td>44.00</td>\n",
       "      <td>1</td>\n",
       "      <td>C</td>\n",
       "      <td>14</td>\n",
       "      <td>9</td>\n",
       "      <td>D</td>\n",
       "      <td>False</td>\n",
       "    </tr>\n",
       "    <tr>\n",
       "      <th>1</th>\n",
       "      <td>21001891</td>\n",
       "      <td>121.00</td>\n",
       "      <td>46.70</td>\n",
       "      <td>1</td>\n",
       "      <td>S</td>\n",
       "      <td>7</td>\n",
       "      <td>12</td>\n",
       "      <td>D</td>\n",
       "      <td>True</td>\n",
       "    </tr>\n",
       "    <tr>\n",
       "      <th>2</th>\n",
       "      <td>7089553</td>\n",
       "      <td>122.00</td>\n",
       "      <td>25.20</td>\n",
       "      <td>1</td>\n",
       "      <td>C</td>\n",
       "      <td>15</td>\n",
       "      <td>3</td>\n",
       "      <td>M</td>\n",
       "      <td>False</td>\n",
       "    </tr>\n",
       "    <tr>\n",
       "      <th>3</th>\n",
       "      <td>15603055</td>\n",
       "      <td>157.00</td>\n",
       "      <td>37.30</td>\n",
       "      <td>0</td>\n",
       "      <td>S</td>\n",
       "      <td>7</td>\n",
       "      <td>12</td>\n",
       "      <td>M</td>\n",
       "      <td>False</td>\n",
       "    </tr>\n",
       "    <tr>\n",
       "      <th>4</th>\n",
       "      <td>7085120</td>\n",
       "      <td>130.00</td>\n",
       "      <td>26.50</td>\n",
       "      <td>0</td>\n",
       "      <td>C</td>\n",
       "      <td>Otros</td>\n",
       "      <td>6</td>\n",
       "      <td>M</td>\n",
       "      <td>False</td>\n",
       "    </tr>\n",
       "  </tbody>\n",
       "</table>\n",
       "</div>"
      ],
      "text/plain": [
       "     id_txn  num_txn_ult_mes  edad_usuario  is_fraud n_txn_type n_hora n_mes  \\\n",
       "0  18182765            73.00         44.00         1          C     14     9   \n",
       "1  21001891           121.00         46.70         1          S      7    12   \n",
       "2   7089553           122.00         25.20         1          C     15     3   \n",
       "3  15603055           157.00         37.30         0          S      7    12   \n",
       "4   7085120           130.00         26.50         0          C  Otros     6   \n",
       "\n",
       "  n_diasem n_dif_estado  \n",
       "0        D        False  \n",
       "1        D         True  \n",
       "2        M        False  \n",
       "3        M        False  \n",
       "4        M        False  "
      ]
     },
     "execution_count": 154,
     "metadata": {},
     "output_type": "execute_result"
    }
   ],
   "source": [
    "Xw.head()"
   ]
  },
  {
   "cell_type": "markdown",
   "metadata": {},
   "source": [
    "#### Discretizar variables continuas"
   ]
  },
  {
   "cell_type": "code",
   "execution_count": 155,
   "metadata": {},
   "outputs": [],
   "source": [
    "\"\"\"Funcion para discretizar las variables continuas\"\"\"\n",
    "def discretizar(df:pd.DataFrame,v:str)->pd.DataFrame:\n",
    "    aux = df[um+[v]].copy()\n",
    "    l = [d for _,d in aux.groupby(aux[v].isnull())]\n",
    "    if len(l)==2:\n",
    "        nm,m  = l\n",
    "    else:\n",
    "        nm,m = l[0], l[0].loc[l[0].index==-1]\n",
    "    m.reset_index(drop=True,inplace=True)\n",
    "    nm.reset_index(drop=True,inplace=True)\n",
    "    m[v].fillna('MISSING',inplace=True)\n",
    "\n",
    "    kb = KBinsDiscretizer(n_bins=5,encode='ordinal',strategy='uniform')\n",
    "\n",
    "    kb.fit(nm[[v]])\n",
    "\n",
    "    nm['d'] = kb.transform(nm[[v]])\n",
    "\n",
    "    nm['d'].value_counts(1)\n",
    "    mapa = nm[[v,'d']].groupby('d').agg(['min','max'])\n",
    "    mapa.columns = ['min','max']\n",
    "    mapa['intervalo'] = mapa.index.astype(int).map(lambda x:'%02d. '%(x+1))+mapa['min'].astype(str)+'|'+mapa['max'].astype(str)\n",
    "    mapa.drop(['min','max'],axis=1,inplace=True)\n",
    "    nm[v] = nm['d'].replace(mapa['intervalo'].to_dict())\n",
    "    return pd.concat([nm[um+[v]],m[um+[v]]],ignore_index=True)"
   ]
  },
  {
   "cell_type": "code",
   "execution_count": 156,
   "metadata": {},
   "outputs": [],
   "source": [
    "#Funcion para cruzar dos tablas con ambos codigo como full outer join\n",
    "cruzar = lambda x,y:x.merge(y,on=um,how='outer')"
   ]
  },
  {
   "cell_type": "code",
   "execution_count": 157,
   "metadata": {},
   "outputs": [],
   "source": [
    "#Aplicamos las dos funciones\n",
    "Xwd = reduce(cruzar,map(lambda v:discretizar(Xw,v),best))"
   ]
  },
  {
   "cell_type": "code",
   "execution_count": 158,
   "metadata": {},
   "outputs": [],
   "source": [
    "\n",
    "\"\"\"Juntamos las variables continuas discretizadas con la um, target y variables discretas normalizadas\"\"\"\n",
    "Xw = Xwd.merge(Xw[um+varn+vart],on=um,how='inner')"
   ]
  },
  {
   "cell_type": "code",
   "execution_count": 159,
   "metadata": {},
   "outputs": [
    {
     "data": {
      "text/html": [
       "<div>\n",
       "<style scoped>\n",
       "    .dataframe tbody tr th:only-of-type {\n",
       "        vertical-align: middle;\n",
       "    }\n",
       "\n",
       "    .dataframe tbody tr th {\n",
       "        vertical-align: top;\n",
       "    }\n",
       "\n",
       "    .dataframe thead th {\n",
       "        text-align: right;\n",
       "    }\n",
       "</style>\n",
       "<table border=\"1\" class=\"dataframe\">\n",
       "  <thead>\n",
       "    <tr style=\"text-align: right;\">\n",
       "      <th></th>\n",
       "      <th>id_txn</th>\n",
       "      <th>num_txn_ult_mes</th>\n",
       "      <th>edad_usuario</th>\n",
       "      <th>n_txn_type</th>\n",
       "      <th>n_hora</th>\n",
       "      <th>n_mes</th>\n",
       "      <th>n_diasem</th>\n",
       "      <th>n_dif_estado</th>\n",
       "      <th>is_fraud</th>\n",
       "    </tr>\n",
       "  </thead>\n",
       "  <tbody>\n",
       "    <tr>\n",
       "      <th>0</th>\n",
       "      <td>18182765</td>\n",
       "      <td>01. 3.0|88.0</td>\n",
       "      <td>02. 34.1|50.1</td>\n",
       "      <td>C</td>\n",
       "      <td>14</td>\n",
       "      <td>9</td>\n",
       "      <td>D</td>\n",
       "      <td>False</td>\n",
       "      <td>1</td>\n",
       "    </tr>\n",
       "    <tr>\n",
       "      <th>1</th>\n",
       "      <td>21001891</td>\n",
       "      <td>02. 89.0|174.0</td>\n",
       "      <td>02. 34.1|50.1</td>\n",
       "      <td>S</td>\n",
       "      <td>7</td>\n",
       "      <td>12</td>\n",
       "      <td>D</td>\n",
       "      <td>True</td>\n",
       "      <td>1</td>\n",
       "    </tr>\n",
       "    <tr>\n",
       "      <th>2</th>\n",
       "      <td>7089553</td>\n",
       "      <td>02. 89.0|174.0</td>\n",
       "      <td>01. 18.0|34.0</td>\n",
       "      <td>C</td>\n",
       "      <td>15</td>\n",
       "      <td>3</td>\n",
       "      <td>M</td>\n",
       "      <td>False</td>\n",
       "      <td>1</td>\n",
       "    </tr>\n",
       "    <tr>\n",
       "      <th>3</th>\n",
       "      <td>15603055</td>\n",
       "      <td>02. 89.0|174.0</td>\n",
       "      <td>02. 34.1|50.1</td>\n",
       "      <td>S</td>\n",
       "      <td>7</td>\n",
       "      <td>12</td>\n",
       "      <td>M</td>\n",
       "      <td>False</td>\n",
       "      <td>0</td>\n",
       "    </tr>\n",
       "    <tr>\n",
       "      <th>4</th>\n",
       "      <td>7085120</td>\n",
       "      <td>02. 89.0|174.0</td>\n",
       "      <td>01. 18.0|34.0</td>\n",
       "      <td>C</td>\n",
       "      <td>Otros</td>\n",
       "      <td>6</td>\n",
       "      <td>M</td>\n",
       "      <td>False</td>\n",
       "      <td>0</td>\n",
       "    </tr>\n",
       "  </tbody>\n",
       "</table>\n",
       "</div>"
      ],
      "text/plain": [
       "     id_txn num_txn_ult_mes   edad_usuario n_txn_type n_hora n_mes n_diasem  \\\n",
       "0  18182765    01. 3.0|88.0  02. 34.1|50.1          C     14     9        D   \n",
       "1  21001891  02. 89.0|174.0  02. 34.1|50.1          S      7    12        D   \n",
       "2   7089553  02. 89.0|174.0  01. 18.0|34.0          C     15     3        M   \n",
       "3  15603055  02. 89.0|174.0  02. 34.1|50.1          S      7    12        M   \n",
       "4   7085120  02. 89.0|174.0  01. 18.0|34.0          C  Otros     6        M   \n",
       "\n",
       "  n_dif_estado  is_fraud  \n",
       "0        False         1  \n",
       "1         True         1  \n",
       "2        False         1  \n",
       "3        False         0  \n",
       "4        False         0  "
      ]
     },
     "execution_count": 159,
     "metadata": {},
     "output_type": "execute_result"
    }
   ],
   "source": [
    "Xw.head()"
   ]
  },
  {
   "cell_type": "code",
   "execution_count": 160,
   "metadata": {},
   "outputs": [],
   "source": [
    "\"\"\"Funcion para calcular el woe\"\"\"\n",
    "def codif_woe(df:pd.DataFrame,v:str,tgt:str)->tuple:\n",
    "    aux = df.pivot_table(index=v,\n",
    "              columns=tgt,\n",
    "              values=um[0],\n",
    "              aggfunc='count',\n",
    "              fill_value=0)\n",
    "    aux/=aux.sum()\n",
    "    aux['w'] = np.log(aux[0]/aux[1])\n",
    "    aux.drop(range(2),axis=1,inplace=True)\n",
    "    return v,aux['w'].to_dict()"
   ]
  },
  {
   "cell_type": "code",
   "execution_count": 161,
   "metadata": {},
   "outputs": [],
   "source": [
    "\"\"\"Mapeamos los valores del woe a las variables discretas para convertirlas en continuas\"\"\"\n",
    "mapa_woe = list(map(lambda v:codif_woe(Xw,v,vart[0]),best+varn))"
   ]
  },
  {
   "cell_type": "code",
   "execution_count": 164,
   "metadata": {},
   "outputs": [
    {
     "data": {
      "text/plain": [
       "[('num_txn_ult_mes',\n",
       "  {'01. 3.0|88.0': -0.21199908694832262,\n",
       "   '02. 89.0|174.0': 0.13446276854556835,\n",
       "   '03. 175.0|255.0': 1.2533104437357885,\n",
       "   '04. 264.0|345.0': 0.4814401070463157,\n",
       "   '05. 352.0|432.0': 0.8236103647821663}),\n",
       " ('edad_usuario',\n",
       "  {'01. 18.0|34.0': 0.17121156543315652,\n",
       "   '02. 34.1|50.1': -0.022640854572747886,\n",
       "   '03. 50.2|66.2': -0.043392024377521175,\n",
       "   '04. 66.3|82.3': -0.19988533454846275,\n",
       "   '05. 82.4|98.4': 0.1221643814075257}),\n",
       " ('n_txn_type', {'C': 0.9099704880854762, 'S': -0.20389302269037238}),\n",
       " ('n_hora',\n",
       "  {'10': -0.5876776777245895,\n",
       "   '11': -0.42198411423458915,\n",
       "   '12': -0.37031210369026835,\n",
       "   '13': -0.09133114269122355,\n",
       "   '14': -0.3305717750407542,\n",
       "   '15': -0.390931390893004,\n",
       "   '16': 0.3536067355364305,\n",
       "   '7': 0.5646707611960393,\n",
       "   '8': -0.008649618240496914,\n",
       "   '9': -0.1471685523760585,\n",
       "   'Otros': 0.7602517847844437}),\n",
       " ('n_mes',\n",
       "  {'1': 0.07476214251294196,\n",
       "   '10': 0.1942176990475835,\n",
       "   '11': -0.24025897544207053,\n",
       "   '12': -0.44314942764253473,\n",
       "   '2': -0.3581907431579235,\n",
       "   '3': -0.1206015249913369,\n",
       "   '4': -0.06369283021873673,\n",
       "   '5': 0.1221643814075259,\n",
       "   '6': 0.04510333527106421,\n",
       "   '7': 0.4406181125260604,\n",
       "   '8': 0.035153004417896094,\n",
       "   '9': 0.33141882056106853}),\n",
       " ('n_diasem',\n",
       "  {'D': -0.28693049475121724,\n",
       "   'J': -0.33100068347538003,\n",
       "   'L': 0.3167188498522409,\n",
       "   'M': 0.11280393864796195,\n",
       "   'S': 0.1721748019821871,\n",
       "   'V': 0.01548023881919121,\n",
       "   'X': 0.10245668631400262}),\n",
       " ('n_dif_estado', {'False': 0.2048713890585253, 'True': -1.1124201114459151})]"
      ]
     },
     "execution_count": 164,
     "metadata": {},
     "output_type": "execute_result"
    }
   ],
   "source": [
    "mapa_woe"
   ]
  },
  {
   "cell_type": "code",
   "execution_count": 162,
   "metadata": {},
   "outputs": [],
   "source": [
    "\"\"\"Convertimos los valores continuos en discretos\"\"\"\n",
    "for v,mapa in mapa_woe:\n",
    "    Xw[v] = Xw[v].map(mapa)"
   ]
  },
  {
   "cell_type": "code",
   "execution_count": 163,
   "metadata": {},
   "outputs": [
    {
     "data": {
      "text/html": [
       "<div>\n",
       "<style scoped>\n",
       "    .dataframe tbody tr th:only-of-type {\n",
       "        vertical-align: middle;\n",
       "    }\n",
       "\n",
       "    .dataframe tbody tr th {\n",
       "        vertical-align: top;\n",
       "    }\n",
       "\n",
       "    .dataframe thead th {\n",
       "        text-align: right;\n",
       "    }\n",
       "</style>\n",
       "<table border=\"1\" class=\"dataframe\">\n",
       "  <thead>\n",
       "    <tr style=\"text-align: right;\">\n",
       "      <th></th>\n",
       "      <th>id_txn</th>\n",
       "      <th>num_txn_ult_mes</th>\n",
       "      <th>edad_usuario</th>\n",
       "      <th>n_txn_type</th>\n",
       "      <th>n_hora</th>\n",
       "      <th>n_mes</th>\n",
       "      <th>n_diasem</th>\n",
       "      <th>n_dif_estado</th>\n",
       "      <th>is_fraud</th>\n",
       "    </tr>\n",
       "  </thead>\n",
       "  <tbody>\n",
       "    <tr>\n",
       "      <th>0</th>\n",
       "      <td>18182765</td>\n",
       "      <td>-0.21</td>\n",
       "      <td>-0.02</td>\n",
       "      <td>0.91</td>\n",
       "      <td>-0.33</td>\n",
       "      <td>0.33</td>\n",
       "      <td>-0.29</td>\n",
       "      <td>0.20</td>\n",
       "      <td>1</td>\n",
       "    </tr>\n",
       "    <tr>\n",
       "      <th>1</th>\n",
       "      <td>21001891</td>\n",
       "      <td>0.13</td>\n",
       "      <td>-0.02</td>\n",
       "      <td>-0.20</td>\n",
       "      <td>0.56</td>\n",
       "      <td>-0.44</td>\n",
       "      <td>-0.29</td>\n",
       "      <td>-1.11</td>\n",
       "      <td>1</td>\n",
       "    </tr>\n",
       "    <tr>\n",
       "      <th>2</th>\n",
       "      <td>7089553</td>\n",
       "      <td>0.13</td>\n",
       "      <td>0.17</td>\n",
       "      <td>0.91</td>\n",
       "      <td>-0.39</td>\n",
       "      <td>-0.12</td>\n",
       "      <td>0.11</td>\n",
       "      <td>0.20</td>\n",
       "      <td>1</td>\n",
       "    </tr>\n",
       "    <tr>\n",
       "      <th>3</th>\n",
       "      <td>15603055</td>\n",
       "      <td>0.13</td>\n",
       "      <td>-0.02</td>\n",
       "      <td>-0.20</td>\n",
       "      <td>0.56</td>\n",
       "      <td>-0.44</td>\n",
       "      <td>0.11</td>\n",
       "      <td>0.20</td>\n",
       "      <td>0</td>\n",
       "    </tr>\n",
       "    <tr>\n",
       "      <th>4</th>\n",
       "      <td>7085120</td>\n",
       "      <td>0.13</td>\n",
       "      <td>0.17</td>\n",
       "      <td>0.91</td>\n",
       "      <td>0.76</td>\n",
       "      <td>0.05</td>\n",
       "      <td>0.11</td>\n",
       "      <td>0.20</td>\n",
       "      <td>0</td>\n",
       "    </tr>\n",
       "  </tbody>\n",
       "</table>\n",
       "</div>"
      ],
      "text/plain": [
       "     id_txn  num_txn_ult_mes  edad_usuario  n_txn_type  n_hora  n_mes  \\\n",
       "0  18182765            -0.21         -0.02        0.91   -0.33   0.33   \n",
       "1  21001891             0.13         -0.02       -0.20    0.56  -0.44   \n",
       "2   7089553             0.13          0.17        0.91   -0.39  -0.12   \n",
       "3  15603055             0.13         -0.02       -0.20    0.56  -0.44   \n",
       "4   7085120             0.13          0.17        0.91    0.76   0.05   \n",
       "\n",
       "   n_diasem  n_dif_estado  is_fraud  \n",
       "0     -0.29          0.20         1  \n",
       "1     -0.29         -1.11         1  \n",
       "2      0.11          0.20         1  \n",
       "3      0.11          0.20         0  \n",
       "4      0.11          0.20         0  "
      ]
     },
     "execution_count": 163,
     "metadata": {},
     "output_type": "execute_result"
    }
   ],
   "source": [
    "Xw.head()"
   ]
  },
  {
   "cell_type": "code",
   "execution_count": null,
   "metadata": {},
   "outputs": [],
   "source": []
  }
 ],
 "metadata": {
  "kernelspec": {
   "display_name": "Python 3.9.12 ('mod5': venv)",
   "language": "python",
   "name": "python3"
  },
  "language_info": {
   "codemirror_mode": {
    "name": "ipython",
    "version": 3
   },
   "file_extension": ".py",
   "mimetype": "text/x-python",
   "name": "python",
   "nbconvert_exporter": "python",
   "pygments_lexer": "ipython3",
   "version": "3.8.10"
  },
  "orig_nbformat": 4,
  "vscode": {
   "interpreter": {
    "hash": "b147c4aad7b0dd7a46ac3abd42c4e5e4d0db5c04fc14de93177847ef3b9b69af"
   }
  }
 },
 "nbformat": 4,
 "nbformat_minor": 2
}
