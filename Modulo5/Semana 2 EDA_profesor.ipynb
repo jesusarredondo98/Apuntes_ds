{
 "cells": [
  {
   "cell_type": "markdown",
   "metadata": {},
   "source": [
    "## Dependencias"
   ]
  },
  {
   "cell_type": "code",
   "execution_count": 237,
   "metadata": {},
   "outputs": [
    {
     "data": {
      "text/html": [
       "        <script type=\"text/javascript\">\n",
       "        window.PlotlyConfig = {MathJaxConfig: 'local'};\n",
       "        if (window.MathJax && window.MathJax.Hub && window.MathJax.Hub.Config) {window.MathJax.Hub.Config({SVG: {font: \"STIX-Web\"}});}\n",
       "        if (typeof require !== 'undefined') {\n",
       "        require.undef(\"plotly\");\n",
       "        requirejs.config({\n",
       "            paths: {\n",
       "                'plotly': ['https://cdn.plot.ly/plotly-2.12.1.min']\n",
       "            }\n",
       "        });\n",
       "        require(['plotly'], function(Plotly) {\n",
       "            window._Plotly = Plotly;\n",
       "        });\n",
       "        }\n",
       "        </script>\n",
       "        "
      ]
     },
     "metadata": {},
     "output_type": "display_data"
    }
   ],
   "source": [
    "import numpy as np\n",
    "import pandas as pd\n",
    "\n",
    "import matplotlib.pyplot as plt\n",
    "import seaborn as sns\n",
    "import cufflinks as cf\n",
    "\n",
    "from datetime import date,time,datetime\n",
    "from dateutil.relativedelta import relativedelta as rd\n",
    "\n",
    "from sqlalchemy.engine import create_engine\n",
    "from sqlalchemy.types import BIGINT,INT,VARCHAR,CHAR,BLOB,DATE,DATETIME,NUMERIC,FLOAT,TEXT,BOOLEAN\n",
    "\n",
    "from sklearn.model_selection import train_test_split\n",
    "from sklearn.impute import SimpleImputer\n",
    "from sklearn.preprocessing import MinMaxScaler,StandardScaler\n",
    "from sklearn.feature_selection import VarianceThreshold\n",
    "from sklearn.mixture import GaussianMixture\n",
    "from sklearn.feature_selection import SelectKBest\n",
    "from sklearn.decomposition import PCA\n",
    "from sklearn.preprocessing import OneHotEncoder\n",
    "from sklearn.pipeline import make_pipeline\n",
    "from sklearn.preprocessing import KBinsDiscretizer\n",
    "\n",
    "from varclushi import VarClusHi\n",
    "from scipy import stats\n",
    "\n",
    "from functools import reduce\n",
    "\n",
    "import json \n",
    "import glob \n",
    "import os\n",
    "\n",
    "from multiprocessing import Pool\n",
    "\n",
    "pd.set_option('display.max_columns',None)\n",
    "pd.set_option('display.float_format',lambda x:'%.2f'%x)\n",
    "\n",
    "cf.go_offline()"
   ]
  },
  {
   "cell_type": "code",
   "execution_count": 12,
   "metadata": {},
   "outputs": [],
   "source": [
    "def make_pool(func, params, threads):\n",
    "    \"\"\"\n",
    "    Ejecuta de forma paralela múltiples llamadas a una función\n",
    "    :param func: function, objeto función a paralelizar\n",
    "    :param params: iterable, parámetros de evaluación paralela\n",
    "    :param threads: int, número de hilos de multiprocesamiento\n",
    "    :return: list, resultado de la ejecución paralela agrupada en una lista\n",
    "    \"\"\"\n",
    "    pool = Pool(threads)\n",
    "    data = pool.starmap(func, params)\n",
    "    pool.close()\n",
    "    pool.join()\n",
    "    del pool\n",
    "    return [x for x in data]"
   ]
  },
  {
   "cell_type": "markdown",
   "metadata": {},
   "source": [
    "## Conexión Base de Datos"
   ]
  },
  {
   "cell_type": "code",
   "execution_count": null,
   "metadata": {},
   "outputs": [],
   "source": [
    "creds = json.load(open('creds.json','rb'))\n",
    "cnx = create_engine(f'mysql+pymysql://{creds[\"u\"]}:{creds[\"p\"]}@{creds[\"h\"]}/{creds[\"d\"]}').connect()\n",
    "cnx.closed"
   ]
  },
  {
   "cell_type": "markdown",
   "metadata": {},
   "source": [
    "## Lectura de datos y preparación universo inicial"
   ]
  },
  {
   "cell_type": "code",
   "execution_count": null,
   "metadata": {},
   "outputs": [],
   "source": [
    "query = \"\"\"\n",
    "    SELECT \n",
    "        A.id_txn,\n",
    "        A.id_user,\n",
    "        A.amount,\n",
    "        A.rej_reason,\n",
    "        A.txn_type,\n",
    "        A.is_fraud,\n",
    "        A.ts,\n",
    "        B.territory,\n",
    "        B.mcc,\n",
    "        C.gender,\n",
    "        C.state,\n",
    "        C.dob,\n",
    "        D.card_brand,\n",
    "        D.card_type,\n",
    "        D.acct_open_date\n",
    "    FROM\n",
    "        tbl_txn A\n",
    "            INNER JOIN\n",
    "        tbl_merchant B USING (id_merchant)\n",
    "            INNER JOIN\n",
    "        tbl_user C USING (id_user)\n",
    "            INNER JOIN\n",
    "        tbl_card D USING (pan)\n",
    "    ;\n",
    "    \"\"\""
   ]
  },
  {
   "cell_type": "code",
   "execution_count": null,
   "metadata": {},
   "outputs": [],
   "source": [
    "df = pd.read_sql(con=cnx,sql=query)"
   ]
  },
  {
   "cell_type": "markdown",
   "metadata": {},
   "source": [
    "## Ingeniería de características"
   ]
  },
  {
   "cell_type": "code",
   "execution_count": 3,
   "metadata": {},
   "outputs": [],
   "source": [
    "rs = np.random.RandomState(seed=20221015)"
   ]
  },
  {
   "cell_type": "code",
   "execution_count": 2,
   "metadata": {},
   "outputs": [],
   "source": [
    "#df.to_pickle('txn.pkl')\n",
    "df = pd.read_pickle('txn.pkl')"
   ]
  },
  {
   "cell_type": "code",
   "execution_count": 4,
   "metadata": {},
   "outputs": [],
   "source": [
    "nof,f = [d.reset_index(drop=True) for _,d in df.groupby('is_fraud')]"
   ]
  },
  {
   "cell_type": "code",
   "execution_count": 5,
   "metadata": {},
   "outputs": [],
   "source": [
    "nof = nof.sample(n=2000,random_state=rs).reset_index(drop=True)\n",
    "f = f.sample(n=2000,random_state=rs).reset_index(drop=True)"
   ]
  },
  {
   "cell_type": "code",
   "execution_count": 6,
   "metadata": {},
   "outputs": [],
   "source": [
    "muestra = pd.concat([nof,f],ignore_index=True)"
   ]
  },
  {
   "cell_type": "code",
   "execution_count": 7,
   "metadata": {},
   "outputs": [],
   "source": [
    "muestra['hora'] = muestra['ts'].map(lambda x:x.hour)\n",
    "muestra['mes'] = muestra['ts'].map(lambda x:x.month)\n",
    "muestra['diasem'] = muestra['ts'].map(lambda x:x.weekday()).map(dict(zip(range(7),'LMXJVSD')))"
   ]
  },
  {
   "cell_type": "code",
   "execution_count": 8,
   "metadata": {},
   "outputs": [],
   "source": [
    "muestra['edad_usuario'] = np.round((muestra['ts'].dt.date-muestra['dob'])/np.timedelta64(1,'Y'),1)\n",
    "muestra['antig_cta'] = np.round((muestra['ts'].dt.date-muestra['acct_open_date'])/np.timedelta64(1,'Y'),1)"
   ]
  },
  {
   "cell_type": "code",
   "execution_count": 9,
   "metadata": {},
   "outputs": [],
   "source": [
    "usuario = 262\n",
    "ancla = datetime(2014,2,9,7,57)\n",
    "\n",
    "def caract_pasado(usuario:int,ancla:datetime)->tuple:\n",
    "    ancla = pd.to_datetime(ancla)\n",
    "    aux = df.loc[(df['id_user']==usuario)&((df['ts']>=(ancla+rd(days=-30)))&(df['ts']<ancla))].copy().reset_index(drop=True)\n",
    "    aux['hora'] = aux['ts'].map(lambda x:x.hour)\n",
    "    aux['diasem'] = aux['ts'].map(lambda x:x.weekday())\n",
    "    horas_freq = \"|\".join(map(str,sorted(aux['hora'].value_counts().head(3).index)))\n",
    "    dias_freq  = \"|\".join(aux['diasem'].value_counts().head(3).sort_index().index.map(dict(zip(range(7),'LMXJVSD'))))\n",
    "    tiempo_desde_ult_txn = (ancla-aux['ts'].max())/np.timedelta64(1,'s')\n",
    "    monto_ult_txn = aux.loc[aux['ts']==aux['ts'].max()]['amount'].max()\n",
    "    monto_prom = aux['amount'].mean()\n",
    "    num_op = aux.shape[0]\n",
    "    monto_prom_anio_pasado = df.loc[(df['id_user']==usuario)&((df['ts']>=(ancla+rd(years=-1,days=-30)))&(df['ts']<=ancla+rd(years=-1)))].copy().reset_index(drop=True)['amount'].mean()\n",
    "    return horas_freq,dias_freq,tiempo_desde_ult_txn,monto_ult_txn,monto_prom,num_op,monto_prom_anio_pasado"
   ]
  },
  {
   "cell_type": "code",
   "execution_count": 10,
   "metadata": {},
   "outputs": [
    {
     "data": {
      "text/plain": [
       "('7|15|18', 'M|J|S', 1080.0, 66.0, 17.139908536585363, 328, 18.505357142857143)"
      ]
     },
     "execution_count": 10,
     "metadata": {},
     "output_type": "execute_result"
    }
   ],
   "source": [
    "caract_pasado(usuario,ancla)"
   ]
  },
  {
   "cell_type": "code",
   "execution_count": 18,
   "metadata": {},
   "outputs": [],
   "source": [
    "nuevas_var = ['horas_frec','dias_frec','tiempo_desde_ult_txn',\n",
    "'monto_ult_txn','monto_prom_ult_mes','num_txn_ult_mes','monto_prom_anio_pasado']\n",
    "#muestra ['vector'] = np.vectorize(caract_pasado)(muestra['id_user'],muestra['ts'])"
   ]
  },
  {
   "cell_type": "code",
   "execution_count": 13,
   "metadata": {},
   "outputs": [],
   "source": [
    "vectores = make_pool(caract_pasado,[(u,a) for u,a in zip(muestra['id_user'],muestra['ts'])],100)"
   ]
  },
  {
   "cell_type": "code",
   "execution_count": 15,
   "metadata": {},
   "outputs": [],
   "source": [
    "muestra['vector'] = vectores"
   ]
  },
  {
   "cell_type": "code",
   "execution_count": 19,
   "metadata": {},
   "outputs": [],
   "source": [
    "muestra[nuevas_var] = muestra['vector'].apply(pd.Series)"
   ]
  },
  {
   "cell_type": "code",
   "execution_count": 21,
   "metadata": {},
   "outputs": [],
   "source": [
    "muestra.drop('vector',axis=1,inplace=True)"
   ]
  },
  {
   "cell_type": "code",
   "execution_count": 31,
   "metadata": {},
   "outputs": [],
   "source": [
    "muestra['dif_estado'] = (muestra['territory']!=muestra['state']).astype(str)"
   ]
  },
  {
   "cell_type": "code",
   "execution_count": 32,
   "metadata": {},
   "outputs": [],
   "source": [
    "#muestra.to_pickle('muestra.pkl')\n",
    "muestra = pd.read_pickle('muestra.pkl')"
   ]
  },
  {
   "cell_type": "code",
   "execution_count": 33,
   "metadata": {},
   "outputs": [
    {
     "data": {
      "text/plain": [
       "(4000, 28)"
      ]
     },
     "execution_count": 33,
     "metadata": {},
     "output_type": "execute_result"
    }
   ],
   "source": [
    "muestra.shape"
   ]
  },
  {
   "cell_type": "code",
   "execution_count": 34,
   "metadata": {},
   "outputs": [
    {
     "data": {
      "text/html": [
       "<div>\n",
       "<style scoped>\n",
       "    .dataframe tbody tr th:only-of-type {\n",
       "        vertical-align: middle;\n",
       "    }\n",
       "\n",
       "    .dataframe tbody tr th {\n",
       "        vertical-align: top;\n",
       "    }\n",
       "\n",
       "    .dataframe thead th {\n",
       "        text-align: right;\n",
       "    }\n",
       "</style>\n",
       "<table border=\"1\" class=\"dataframe\">\n",
       "  <thead>\n",
       "    <tr style=\"text-align: right;\">\n",
       "      <th></th>\n",
       "      <th>id_txn</th>\n",
       "      <th>amount</th>\n",
       "      <th>rej_reason</th>\n",
       "      <th>txn_type</th>\n",
       "      <th>is_fraud</th>\n",
       "      <th>ts</th>\n",
       "      <th>territory</th>\n",
       "      <th>mcc</th>\n",
       "      <th>gender</th>\n",
       "      <th>state</th>\n",
       "      <th>dob</th>\n",
       "      <th>card_brand</th>\n",
       "      <th>card_type</th>\n",
       "      <th>acct_open_date</th>\n",
       "      <th>id_user</th>\n",
       "      <th>hora</th>\n",
       "      <th>mes</th>\n",
       "      <th>diasem</th>\n",
       "      <th>edad_usuario</th>\n",
       "      <th>antig_cta</th>\n",
       "      <th>horas_frec</th>\n",
       "      <th>dias_frec</th>\n",
       "      <th>tiempo_desde_ult_txn</th>\n",
       "      <th>monto_ult_txn</th>\n",
       "      <th>monto_prom_ult_mes</th>\n",
       "      <th>num_txn_ult_mes</th>\n",
       "      <th>monto_prom_anio_pasado</th>\n",
       "      <th>dif_estado</th>\n",
       "    </tr>\n",
       "  </thead>\n",
       "  <tbody>\n",
       "    <tr>\n",
       "      <th>0</th>\n",
       "      <td>12060187</td>\n",
       "      <td>44.91</td>\n",
       "      <td>None</td>\n",
       "      <td>S</td>\n",
       "      <td>0</td>\n",
       "      <td>2001-06-02 22:08:00</td>\n",
       "      <td>CA</td>\n",
       "      <td>5211</td>\n",
       "      <td>F</td>\n",
       "      <td>CA</td>\n",
       "      <td>1964-12-01</td>\n",
       "      <td>V</td>\n",
       "      <td>D</td>\n",
       "      <td>1999-07-01</td>\n",
       "      <td>956</td>\n",
       "      <td>22</td>\n",
       "      <td>6</td>\n",
       "      <td>S</td>\n",
       "      <td>36.5</td>\n",
       "      <td>1.9</td>\n",
       "      <td>10|17|21</td>\n",
       "      <td>L|S|D</td>\n",
       "      <td>6180.0</td>\n",
       "      <td>36.99</td>\n",
       "      <td>40.187101</td>\n",
       "      <td>69</td>\n",
       "      <td>39.87726</td>\n",
       "      <td>False</td>\n",
       "    </tr>\n",
       "    <tr>\n",
       "      <th>1</th>\n",
       "      <td>6325687</td>\n",
       "      <td>24.35</td>\n",
       "      <td>None</td>\n",
       "      <td>S</td>\n",
       "      <td>0</td>\n",
       "      <td>2009-03-27 14:19:00</td>\n",
       "      <td>MI</td>\n",
       "      <td>5813</td>\n",
       "      <td>M</td>\n",
       "      <td>MI</td>\n",
       "      <td>1980-10-01</td>\n",
       "      <td>V</td>\n",
       "      <td>D</td>\n",
       "      <td>2008-09-01</td>\n",
       "      <td>633</td>\n",
       "      <td>14</td>\n",
       "      <td>3</td>\n",
       "      <td>V</td>\n",
       "      <td>28.5</td>\n",
       "      <td>0.6</td>\n",
       "      <td>7|14|16</td>\n",
       "      <td>L|J|D</td>\n",
       "      <td>22320.0</td>\n",
       "      <td>24.49</td>\n",
       "      <td>34.627368</td>\n",
       "      <td>57</td>\n",
       "      <td>NaN</td>\n",
       "      <td>False</td>\n",
       "    </tr>\n",
       "  </tbody>\n",
       "</table>\n",
       "</div>"
      ],
      "text/plain": [
       "     id_txn  amount rej_reason txn_type  is_fraud                  ts  \\\n",
       "0  12060187   44.91       None        S         0 2001-06-02 22:08:00   \n",
       "1   6325687   24.35       None        S         0 2009-03-27 14:19:00   \n",
       "\n",
       "  territory   mcc gender state         dob card_brand card_type  \\\n",
       "0        CA  5211      F    CA  1964-12-01          V         D   \n",
       "1        MI  5813      M    MI  1980-10-01          V         D   \n",
       "\n",
       "  acct_open_date  id_user  hora  mes diasem  edad_usuario  antig_cta  \\\n",
       "0     1999-07-01      956    22    6      S          36.5        1.9   \n",
       "1     2008-09-01      633    14    3      V          28.5        0.6   \n",
       "\n",
       "  horas_frec dias_frec  tiempo_desde_ult_txn  monto_ult_txn  \\\n",
       "0   10|17|21     L|S|D                6180.0          36.99   \n",
       "1    7|14|16     L|J|D               22320.0          24.49   \n",
       "\n",
       "   monto_prom_ult_mes  num_txn_ult_mes  monto_prom_anio_pasado dif_estado  \n",
       "0           40.187101               69                39.87726      False  \n",
       "1           34.627368               57                     NaN      False  "
      ]
     },
     "execution_count": 34,
     "metadata": {},
     "output_type": "execute_result"
    }
   ],
   "source": [
    "muestra.head(2)"
   ]
  },
  {
   "cell_type": "markdown",
   "metadata": {},
   "source": [
    "## Caracterización de variables"
   ]
  },
  {
   "cell_type": "code",
   "execution_count": 36,
   "metadata": {},
   "outputs": [
    {
     "data": {
      "text/plain": [
       "Index(['id_txn', 'amount', 'rej_reason', 'txn_type', 'is_fraud', 'ts',\n",
       "       'territory', 'mcc', 'gender', 'state', 'dob', 'card_brand', 'card_type',\n",
       "       'acct_open_date', 'id_user', 'hora', 'mes', 'diasem', 'edad_usuario',\n",
       "       'antig_cta', 'horas_frec', 'dias_frec', 'tiempo_desde_ult_txn',\n",
       "       'monto_ult_txn', 'monto_prom_ult_mes', 'num_txn_ult_mes',\n",
       "       'monto_prom_anio_pasado', 'dif_estado'],\n",
       "      dtype='object')"
      ]
     },
     "execution_count": 36,
     "metadata": {},
     "output_type": "execute_result"
    }
   ],
   "source": [
    "muestra.columns"
   ]
  },
  {
   "cell_type": "code",
   "execution_count": 37,
   "metadata": {},
   "outputs": [],
   "source": [
    "um = ['id_txn']\n",
    "varc = ['amount','edad_usuario','antig_cta','tiempo_desde_ult_txn',\n",
    "       'monto_ult_txn', 'monto_prom_ult_mes', 'num_txn_ult_mes','monto_prom_anio_pasado']\n",
    "vard = ['rej_reason','txn_type','hora', 'mes', 'diasem','horas_frec', 'dias_frec','dif_estado']\n",
    "vart = ['is_fraud']"
   ]
  },
  {
   "cell_type": "code",
   "execution_count": 38,
   "metadata": {},
   "outputs": [],
   "source": [
    "df = muestra[um+vart+vard+varc]"
   ]
  },
  {
   "cell_type": "code",
   "execution_count": 39,
   "metadata": {},
   "outputs": [
    {
     "data": {
      "text/html": [
       "<div>\n",
       "<style scoped>\n",
       "    .dataframe tbody tr th:only-of-type {\n",
       "        vertical-align: middle;\n",
       "    }\n",
       "\n",
       "    .dataframe tbody tr th {\n",
       "        vertical-align: top;\n",
       "    }\n",
       "\n",
       "    .dataframe thead th {\n",
       "        text-align: right;\n",
       "    }\n",
       "</style>\n",
       "<table border=\"1\" class=\"dataframe\">\n",
       "  <thead>\n",
       "    <tr style=\"text-align: right;\">\n",
       "      <th></th>\n",
       "      <th>id_txn</th>\n",
       "      <th>is_fraud</th>\n",
       "      <th>rej_reason</th>\n",
       "      <th>txn_type</th>\n",
       "      <th>hora</th>\n",
       "      <th>mes</th>\n",
       "      <th>diasem</th>\n",
       "      <th>horas_frec</th>\n",
       "      <th>dias_frec</th>\n",
       "      <th>dif_estado</th>\n",
       "      <th>amount</th>\n",
       "      <th>edad_usuario</th>\n",
       "      <th>antig_cta</th>\n",
       "      <th>tiempo_desde_ult_txn</th>\n",
       "      <th>monto_ult_txn</th>\n",
       "      <th>monto_prom_ult_mes</th>\n",
       "      <th>num_txn_ult_mes</th>\n",
       "      <th>monto_prom_anio_pasado</th>\n",
       "    </tr>\n",
       "  </thead>\n",
       "  <tbody>\n",
       "    <tr>\n",
       "      <th>0</th>\n",
       "      <td>12060187</td>\n",
       "      <td>0</td>\n",
       "      <td>None</td>\n",
       "      <td>S</td>\n",
       "      <td>22</td>\n",
       "      <td>6</td>\n",
       "      <td>S</td>\n",
       "      <td>10|17|21</td>\n",
       "      <td>L|S|D</td>\n",
       "      <td>False</td>\n",
       "      <td>44.91</td>\n",
       "      <td>36.5</td>\n",
       "      <td>1.9</td>\n",
       "      <td>6180.0</td>\n",
       "      <td>36.99</td>\n",
       "      <td>40.187101</td>\n",
       "      <td>69</td>\n",
       "      <td>39.877260</td>\n",
       "    </tr>\n",
       "    <tr>\n",
       "      <th>1</th>\n",
       "      <td>6325687</td>\n",
       "      <td>0</td>\n",
       "      <td>None</td>\n",
       "      <td>S</td>\n",
       "      <td>14</td>\n",
       "      <td>3</td>\n",
       "      <td>V</td>\n",
       "      <td>7|14|16</td>\n",
       "      <td>L|J|D</td>\n",
       "      <td>False</td>\n",
       "      <td>24.35</td>\n",
       "      <td>28.5</td>\n",
       "      <td>0.6</td>\n",
       "      <td>22320.0</td>\n",
       "      <td>24.49</td>\n",
       "      <td>34.627368</td>\n",
       "      <td>57</td>\n",
       "      <td>NaN</td>\n",
       "    </tr>\n",
       "    <tr>\n",
       "      <th>2</th>\n",
       "      <td>19414350</td>\n",
       "      <td>0</td>\n",
       "      <td>None</td>\n",
       "      <td>S</td>\n",
       "      <td>14</td>\n",
       "      <td>2</td>\n",
       "      <td>D</td>\n",
       "      <td>0|11|12</td>\n",
       "      <td>M|J|V</td>\n",
       "      <td>False</td>\n",
       "      <td>43.87</td>\n",
       "      <td>25.3</td>\n",
       "      <td>2.2</td>\n",
       "      <td>48600.0</td>\n",
       "      <td>65.36</td>\n",
       "      <td>38.351494</td>\n",
       "      <td>87</td>\n",
       "      <td>48.001071</td>\n",
       "    </tr>\n",
       "    <tr>\n",
       "      <th>3</th>\n",
       "      <td>7741346</td>\n",
       "      <td>0</td>\n",
       "      <td>None</td>\n",
       "      <td>S</td>\n",
       "      <td>16</td>\n",
       "      <td>10</td>\n",
       "      <td>V</td>\n",
       "      <td>7|8|16</td>\n",
       "      <td>V|S|D</td>\n",
       "      <td>False</td>\n",
       "      <td>45.34</td>\n",
       "      <td>25.9</td>\n",
       "      <td>5.7</td>\n",
       "      <td>93240.0</td>\n",
       "      <td>44.36</td>\n",
       "      <td>21.321786</td>\n",
       "      <td>28</td>\n",
       "      <td>22.697907</td>\n",
       "    </tr>\n",
       "    <tr>\n",
       "      <th>4</th>\n",
       "      <td>8688631</td>\n",
       "      <td>0</td>\n",
       "      <td>None</td>\n",
       "      <td>C</td>\n",
       "      <td>11</td>\n",
       "      <td>9</td>\n",
       "      <td>S</td>\n",
       "      <td>7|11|12</td>\n",
       "      <td>L|V|D</td>\n",
       "      <td>False</td>\n",
       "      <td>55.12</td>\n",
       "      <td>39.8</td>\n",
       "      <td>14.5</td>\n",
       "      <td>2160.0</td>\n",
       "      <td>10.24</td>\n",
       "      <td>38.478434</td>\n",
       "      <td>83</td>\n",
       "      <td>33.430000</td>\n",
       "    </tr>\n",
       "  </tbody>\n",
       "</table>\n",
       "</div>"
      ],
      "text/plain": [
       "     id_txn  is_fraud rej_reason txn_type  hora  mes diasem horas_frec  \\\n",
       "0  12060187         0       None        S    22    6      S   10|17|21   \n",
       "1   6325687         0       None        S    14    3      V    7|14|16   \n",
       "2  19414350         0       None        S    14    2      D    0|11|12   \n",
       "3   7741346         0       None        S    16   10      V     7|8|16   \n",
       "4   8688631         0       None        C    11    9      S    7|11|12   \n",
       "\n",
       "  dias_frec dif_estado  amount  edad_usuario  antig_cta  tiempo_desde_ult_txn  \\\n",
       "0     L|S|D      False   44.91          36.5        1.9                6180.0   \n",
       "1     L|J|D      False   24.35          28.5        0.6               22320.0   \n",
       "2     M|J|V      False   43.87          25.3        2.2               48600.0   \n",
       "3     V|S|D      False   45.34          25.9        5.7               93240.0   \n",
       "4     L|V|D      False   55.12          39.8       14.5                2160.0   \n",
       "\n",
       "   monto_ult_txn  monto_prom_ult_mes  num_txn_ult_mes  monto_prom_anio_pasado  \n",
       "0          36.99           40.187101               69               39.877260  \n",
       "1          24.49           34.627368               57                     NaN  \n",
       "2          65.36           38.351494               87               48.001071  \n",
       "3          44.36           21.321786               28               22.697907  \n",
       "4          10.24           38.478434               83               33.430000  "
      ]
     },
     "execution_count": 39,
     "metadata": {},
     "output_type": "execute_result"
    }
   ],
   "source": [
    "df.head()"
   ]
  },
  {
   "cell_type": "markdown",
   "metadata": {},
   "source": [
    "## Partición"
   ]
  },
  {
   "cell_type": "code",
   "execution_count": 42,
   "metadata": {},
   "outputs": [],
   "source": [
    "train,valid = train_test_split(df,train_size=0.7,random_state=rs)"
   ]
  },
  {
   "cell_type": "code",
   "execution_count": 44,
   "metadata": {},
   "outputs": [],
   "source": [
    "train.reset_index(drop=True,inplace=True)\n",
    "valid.reset_index(drop=True,inplace=True)"
   ]
  },
  {
   "cell_type": "code",
   "execution_count": 45,
   "metadata": {},
   "outputs": [
    {
     "data": {
      "text/plain": [
       "((2800, 18), (1200, 18))"
      ]
     },
     "execution_count": 45,
     "metadata": {},
     "output_type": "execute_result"
    }
   ],
   "source": [
    "train.shape,valid.shape"
   ]
  },
  {
   "cell_type": "markdown",
   "metadata": {},
   "source": [
    "## Análisis Exploratorio de Datos"
   ]
  },
  {
   "cell_type": "markdown",
   "metadata": {},
   "source": [
    "### Continuo"
   ]
  },
  {
   "cell_type": "code",
   "execution_count": 46,
   "metadata": {},
   "outputs": [],
   "source": [
    "for v in varc:\n",
    "    train[v] = pd.to_numeric(train[v],errors='coerce')"
   ]
  },
  {
   "cell_type": "markdown",
   "metadata": {},
   "source": [
    "#### Ausentes"
   ]
  },
  {
   "cell_type": "code",
   "execution_count": 53,
   "metadata": {},
   "outputs": [
    {
     "data": {
      "text/html": [
       "<div>\n",
       "<style scoped>\n",
       "    .dataframe tbody tr th:only-of-type {\n",
       "        vertical-align: middle;\n",
       "    }\n",
       "\n",
       "    .dataframe tbody tr th {\n",
       "        vertical-align: top;\n",
       "    }\n",
       "\n",
       "    .dataframe thead th {\n",
       "        text-align: right;\n",
       "    }\n",
       "</style>\n",
       "<table border=\"1\" class=\"dataframe\">\n",
       "  <thead>\n",
       "    <tr style=\"text-align: right;\">\n",
       "      <th></th>\n",
       "      <th>count</th>\n",
       "      <th>mean</th>\n",
       "      <th>std</th>\n",
       "      <th>min</th>\n",
       "      <th>25%</th>\n",
       "      <th>50%</th>\n",
       "      <th>75%</th>\n",
       "      <th>max</th>\n",
       "    </tr>\n",
       "  </thead>\n",
       "  <tbody>\n",
       "    <tr>\n",
       "      <th>monto_prom_anio_pasado</th>\n",
       "      <td>0.060714</td>\n",
       "      <td>0.983996</td>\n",
       "      <td>0.980231</td>\n",
       "      <td>0.997843</td>\n",
       "      <td>0.989922</td>\n",
       "      <td>0.986157</td>\n",
       "      <td>0.981412</td>\n",
       "      <td>0.563314</td>\n",
       "    </tr>\n",
       "    <tr>\n",
       "      <th>amount</th>\n",
       "      <td>0.000000</td>\n",
       "      <td>0.975119</td>\n",
       "      <td>0.957218</td>\n",
       "      <td>1.173571</td>\n",
       "      <td>0.996055</td>\n",
       "      <td>0.984854</td>\n",
       "      <td>0.966607</td>\n",
       "      <td>0.471079</td>\n",
       "    </tr>\n",
       "    <tr>\n",
       "      <th>edad_usuario</th>\n",
       "      <td>0.000000</td>\n",
       "      <td>0.983217</td>\n",
       "      <td>0.994414</td>\n",
       "      <td>0.993571</td>\n",
       "      <td>0.987393</td>\n",
       "      <td>0.983821</td>\n",
       "      <td>0.979786</td>\n",
       "      <td>0.964857</td>\n",
       "    </tr>\n",
       "    <tr>\n",
       "      <th>antig_cta</th>\n",
       "      <td>0.000000</td>\n",
       "      <td>0.998101</td>\n",
       "      <td>0.998499</td>\n",
       "      <td>1.000000</td>\n",
       "      <td>0.999286</td>\n",
       "      <td>0.998429</td>\n",
       "      <td>0.997250</td>\n",
       "      <td>0.991107</td>\n",
       "    </tr>\n",
       "    <tr>\n",
       "      <th>tiempo_desde_ult_txn</th>\n",
       "      <td>0.000000</td>\n",
       "      <td>-9.650245</td>\n",
       "      <td>-14.228378</td>\n",
       "      <td>0.978571</td>\n",
       "      <td>-0.108929</td>\n",
       "      <td>-3.521429</td>\n",
       "      <td>-14.969643</td>\n",
       "      <td>-199.357143</td>\n",
       "    </tr>\n",
       "    <tr>\n",
       "      <th>monto_ult_txn</th>\n",
       "      <td>0.000000</td>\n",
       "      <td>0.982325</td>\n",
       "      <td>0.968642</td>\n",
       "      <td>1.165357</td>\n",
       "      <td>0.996830</td>\n",
       "      <td>0.989021</td>\n",
       "      <td>0.974529</td>\n",
       "      <td>0.507771</td>\n",
       "    </tr>\n",
       "    <tr>\n",
       "      <th>monto_prom_ult_mes</th>\n",
       "      <td>0.000000</td>\n",
       "      <td>0.984715</td>\n",
       "      <td>0.993262</td>\n",
       "      <td>0.997884</td>\n",
       "      <td>0.989588</td>\n",
       "      <td>0.985982</td>\n",
       "      <td>0.980968</td>\n",
       "      <td>0.948461</td>\n",
       "    </tr>\n",
       "    <tr>\n",
       "      <th>num_txn_ult_mes</th>\n",
       "      <td>0.000000</td>\n",
       "      <td>0.965987</td>\n",
       "      <td>0.981429</td>\n",
       "      <td>0.998214</td>\n",
       "      <td>0.977857</td>\n",
       "      <td>0.970357</td>\n",
       "      <td>0.958571</td>\n",
       "      <td>0.845714</td>\n",
       "    </tr>\n",
       "  </tbody>\n",
       "</table>\n",
       "</div>"
      ],
      "text/plain": [
       "                           count      mean        std       min       25%  \\\n",
       "monto_prom_anio_pasado  0.060714  0.983996   0.980231  0.997843  0.989922   \n",
       "amount                  0.000000  0.975119   0.957218  1.173571  0.996055   \n",
       "edad_usuario            0.000000  0.983217   0.994414  0.993571  0.987393   \n",
       "antig_cta               0.000000  0.998101   0.998499  1.000000  0.999286   \n",
       "tiempo_desde_ult_txn    0.000000 -9.650245 -14.228378  0.978571 -0.108929   \n",
       "monto_ult_txn           0.000000  0.982325   0.968642  1.165357  0.996830   \n",
       "monto_prom_ult_mes      0.000000  0.984715   0.993262  0.997884  0.989588   \n",
       "num_txn_ult_mes         0.000000  0.965987   0.981429  0.998214  0.977857   \n",
       "\n",
       "                             50%        75%         max  \n",
       "monto_prom_anio_pasado  0.986157   0.981412    0.563314  \n",
       "amount                  0.984854   0.966607    0.471079  \n",
       "edad_usuario            0.983821   0.979786    0.964857  \n",
       "antig_cta               0.998429   0.997250    0.991107  \n",
       "tiempo_desde_ult_txn   -3.521429 -14.969643 -199.357143  \n",
       "monto_ult_txn           0.989021   0.974529    0.507771  \n",
       "monto_prom_ult_mes      0.985982   0.980968    0.948461  \n",
       "num_txn_ult_mes         0.970357   0.958571    0.845714  "
      ]
     },
     "execution_count": 53,
     "metadata": {},
     "output_type": "execute_result"
    }
   ],
   "source": [
    "miss = 1-train[varc].describe().T/len(train)\n",
    "miss.sort_values(by='count',ascending=False,inplace=True)\n",
    "miss"
   ]
  },
  {
   "cell_type": "code",
   "execution_count": 70,
   "metadata": {},
   "outputs": [
    {
     "data": {
      "text/plain": [
       "((2800, 8), (2800, 8))"
      ]
     },
     "execution_count": 70,
     "metadata": {},
     "output_type": "execute_result"
    }
   ],
   "source": [
    "im = SimpleImputer(strategy='median')\n",
    "im.fit(train[varc])\n",
    "Xi = pd.DataFrame(im.transform(train[varc]),columns=varc)\n",
    "Xi.dropna().shape,Xi.shape"
   ]
  },
  {
   "cell_type": "code",
   "execution_count": 71,
   "metadata": {},
   "outputs": [],
   "source": [
    "ks = pd.DataFrame(map(lambda v:(v,stats.ks_2samp(Xi[v],train[v]).statistic),varc),columns=['var','ks'])"
   ]
  },
  {
   "cell_type": "code",
   "execution_count": 72,
   "metadata": {},
   "outputs": [
    {
     "data": {
      "text/html": [
       "<div>\n",
       "<style scoped>\n",
       "    .dataframe tbody tr th:only-of-type {\n",
       "        vertical-align: middle;\n",
       "    }\n",
       "\n",
       "    .dataframe tbody tr th {\n",
       "        vertical-align: top;\n",
       "    }\n",
       "\n",
       "    .dataframe thead th {\n",
       "        text-align: right;\n",
       "    }\n",
       "</style>\n",
       "<table border=\"1\" class=\"dataframe\">\n",
       "  <thead>\n",
       "    <tr style=\"text-align: right;\">\n",
       "      <th></th>\n",
       "      <th>var</th>\n",
       "      <th>ks</th>\n",
       "    </tr>\n",
       "  </thead>\n",
       "  <tbody>\n",
       "    <tr>\n",
       "      <th>0</th>\n",
       "      <td>amount</td>\n",
       "      <td>0.000000</td>\n",
       "    </tr>\n",
       "    <tr>\n",
       "      <th>1</th>\n",
       "      <td>edad_usuario</td>\n",
       "      <td>0.000000</td>\n",
       "    </tr>\n",
       "    <tr>\n",
       "      <th>2</th>\n",
       "      <td>antig_cta</td>\n",
       "      <td>0.000000</td>\n",
       "    </tr>\n",
       "    <tr>\n",
       "      <th>3</th>\n",
       "      <td>tiempo_desde_ult_txn</td>\n",
       "      <td>0.000000</td>\n",
       "    </tr>\n",
       "    <tr>\n",
       "      <th>4</th>\n",
       "      <td>monto_ult_txn</td>\n",
       "      <td>0.000000</td>\n",
       "    </tr>\n",
       "    <tr>\n",
       "      <th>5</th>\n",
       "      <td>monto_prom_ult_mes</td>\n",
       "      <td>0.000000</td>\n",
       "    </tr>\n",
       "    <tr>\n",
       "      <th>6</th>\n",
       "      <td>num_txn_ult_mes</td>\n",
       "      <td>0.000000</td>\n",
       "    </tr>\n",
       "    <tr>\n",
       "      <th>7</th>\n",
       "      <td>monto_prom_anio_pasado</td>\n",
       "      <td>0.060714</td>\n",
       "    </tr>\n",
       "  </tbody>\n",
       "</table>\n",
       "</div>"
      ],
      "text/plain": [
       "                      var        ks\n",
       "0                  amount  0.000000\n",
       "1            edad_usuario  0.000000\n",
       "2               antig_cta  0.000000\n",
       "3    tiempo_desde_ult_txn  0.000000\n",
       "4           monto_ult_txn  0.000000\n",
       "5      monto_prom_ult_mes  0.000000\n",
       "6         num_txn_ult_mes  0.000000\n",
       "7  monto_prom_anio_pasado  0.060714"
      ]
     },
     "execution_count": 72,
     "metadata": {},
     "output_type": "execute_result"
    }
   ],
   "source": [
    "ks"
   ]
  },
  {
   "cell_type": "markdown",
   "metadata": {},
   "source": [
    "#### Varianza Explicada"
   ]
  },
  {
   "cell_type": "code",
   "execution_count": 91,
   "metadata": {},
   "outputs": [],
   "source": [
    "vt = VarianceThreshold()\n",
    "vt.fit(Xi)\n",
    "fuera = [v for v,var in zip(vt.feature_names_in_,vt.get_support()) if not var]\n",
    "varc = [v for v in varc if v not in fuera]"
   ]
  },
  {
   "cell_type": "markdown",
   "metadata": {},
   "source": [
    "#### Extremos"
   ]
  },
  {
   "cell_type": "code",
   "execution_count": 98,
   "metadata": {},
   "outputs": [
    {
     "data": {
      "text/plain": [
       "array([[<AxesSubplot:title={'center':'amount'}>,\n",
       "        <AxesSubplot:title={'center':'edad_usuario'}>,\n",
       "        <AxesSubplot:title={'center':'antig_cta'}>],\n",
       "       [<AxesSubplot:title={'center':'tiempo_desde_ult_txn'}>,\n",
       "        <AxesSubplot:title={'center':'monto_ult_txn'}>,\n",
       "        <AxesSubplot:title={'center':'monto_prom_ult_mes'}>],\n",
       "       [<AxesSubplot:title={'center':'num_txn_ult_mes'}>,\n",
       "        <AxesSubplot:title={'center':'monto_prom_anio_pasado'}>,\n",
       "        <AxesSubplot:>]], dtype=object)"
      ]
     },
     "execution_count": 98,
     "metadata": {},
     "output_type": "execute_result"
    },
    {
     "data": {
      "image/png": "[encoded data removed]",
      "text/plain": [
       "<Figure size 720x720 with 9 Axes>"
      ]
     },
     "metadata": {
      "needs_background": "light"
     },
     "output_type": "display_data"
    }
   ],
   "source": [
    "Xi.hist(figsize=(10,10))"
   ]
  },
  {
   "cell_type": "code",
   "execution_count": 103,
   "metadata": {},
   "outputs": [],
   "source": [
    "for v,li,ls in Xi.describe(percentiles=[0.01,0.99]).T[['1%','99%']].reset_index().values.tolist():\n",
    "    Xi[f'ex_{v}'] = ((Xi[v]<li)|(Xi[v]>ls)).astype(int)\n",
    "Xi['ex'] = Xi.filter(like='ex_').max(axis=1)"
   ]
  },
  {
   "cell_type": "code",
   "execution_count": 104,
   "metadata": {},
   "outputs": [
    {
     "data": {
      "text/plain": [
       "0   0.87\n",
       "1   0.13\n",
       "Name: ex, dtype: float64"
      ]
     },
     "execution_count": 104,
     "metadata": {},
     "output_type": "execute_result"
    }
   ],
   "source": [
    "Xi['ex'].value_counts(1)"
   ]
  },
  {
   "cell_type": "code",
   "execution_count": 105,
   "metadata": {},
   "outputs": [],
   "source": [
    "Xi[um] = train[um]"
   ]
  },
  {
   "cell_type": "code",
   "execution_count": 110,
   "metadata": {},
   "outputs": [],
   "source": [
    "gmm = GaussianMixture(n_components=10)"
   ]
  },
  {
   "cell_type": "code",
   "execution_count": 111,
   "metadata": {},
   "outputs": [
    {
     "data": {
      "text/html": [
       "<style>#sk-container-id-4 {color: black;background-color: white;}#sk-container-id-4 pre{padding: 0;}#sk-container-id-4 div.sk-toggleable {background-color: white;}#sk-container-id-4 label.sk-toggleable__label {cursor: pointer;display: block;width: 100%;margin-bottom: 0;padding: 0.3em;box-sizing: border-box;text-align: center;}#sk-container-id-4 label.sk-toggleable__label-arrow:before {content: \"▸\";float: left;margin-right: 0.25em;color: #696969;}#sk-container-id-4 label.sk-toggleable__label-arrow:hover:before {color: black;}#sk-container-id-4 div.sk-estimator:hover label.sk-toggleable__label-arrow:before {color: black;}#sk-container-id-4 div.sk-toggleable__content {max-height: 0;max-width: 0;overflow: hidden;text-align: left;background-color: #f0f8ff;}#sk-container-id-4 div.sk-toggleable__content pre {margin: 0.2em;color: black;border-radius: 0.25em;background-color: #f0f8ff;}#sk-container-id-4 input.sk-toggleable__control:checked~div.sk-toggleable__content {max-height: 200px;max-width: 100%;overflow: auto;}#sk-container-id-4 input.sk-toggleable__control:checked~label.sk-toggleable__label-arrow:before {content: \"▾\";}#sk-container-id-4 div.sk-estimator input.sk-toggleable__control:checked~label.sk-toggleable__label {background-color: #d4ebff;}#sk-container-id-4 div.sk-label input.sk-toggleable__control:checked~label.sk-toggleable__label {background-color: #d4ebff;}#sk-container-id-4 input.sk-hidden--visually {border: 0;clip: rect(1px 1px 1px 1px);clip: rect(1px, 1px, 1px, 1px);height: 1px;margin: -1px;overflow: hidden;padding: 0;position: absolute;width: 1px;}#sk-container-id-4 div.sk-estimator {font-family: monospace;background-color: #f0f8ff;border: 1px dotted black;border-radius: 0.25em;box-sizing: border-box;margin-bottom: 0.5em;}#sk-container-id-4 div.sk-estimator:hover {background-color: #d4ebff;}#sk-container-id-4 div.sk-parallel-item::after {content: \"\";width: 100%;border-bottom: 1px solid gray;flex-grow: 1;}#sk-container-id-4 div.sk-label:hover label.sk-toggleable__label {background-color: #d4ebff;}#sk-container-id-4 div.sk-serial::before {content: \"\";position: absolute;border-left: 1px solid gray;box-sizing: border-box;top: 0;bottom: 0;left: 50%;z-index: 0;}#sk-container-id-4 div.sk-serial {display: flex;flex-direction: column;align-items: center;background-color: white;padding-right: 0.2em;padding-left: 0.2em;position: relative;}#sk-container-id-4 div.sk-item {position: relative;z-index: 1;}#sk-container-id-4 div.sk-parallel {display: flex;align-items: stretch;justify-content: center;background-color: white;position: relative;}#sk-container-id-4 div.sk-item::before, #sk-container-id-4 div.sk-parallel-item::before {content: \"\";position: absolute;border-left: 1px solid gray;box-sizing: border-box;top: 0;bottom: 0;left: 50%;z-index: -1;}#sk-container-id-4 div.sk-parallel-item {display: flex;flex-direction: column;z-index: 1;position: relative;background-color: white;}#sk-container-id-4 div.sk-parallel-item:first-child::after {align-self: flex-end;width: 50%;}#sk-container-id-4 div.sk-parallel-item:last-child::after {align-self: flex-start;width: 50%;}#sk-container-id-4 div.sk-parallel-item:only-child::after {width: 0;}#sk-container-id-4 div.sk-dashed-wrapped {border: 1px dashed gray;margin: 0 0.4em 0.5em 0.4em;box-sizing: border-box;padding-bottom: 0.4em;background-color: white;}#sk-container-id-4 div.sk-label label {font-family: monospace;font-weight: bold;display: inline-block;line-height: 1.2em;}#sk-container-id-4 div.sk-label-container {text-align: center;}#sk-container-id-4 div.sk-container {/* jupyter's `normalize.less` sets `[hidden] { display: none; }` but bootstrap.min.css set `[hidden] { display: none !important; }` so we also need the `!important` here to be able to override the default hidden behavior on the sphinx rendered scikit-learn.org. See: https://github.com/scikit-learn/scikit-learn/issues/21755 */display: inline-block !important;position: relative;}#sk-container-id-4 div.sk-text-repr-fallback {display: none;}</style><div id=\"sk-container-id-4\" class=\"sk-top-container\"><div class=\"sk-text-repr-fallback\"><pre>GaussianMixture(n_components=10)</pre><b>In a Jupyter environment, please rerun this cell to show the HTML representation or trust the notebook. <br />On GitHub, the HTML representation is unable to render, please try loading this page with nbviewer.org.</b></div><div class=\"sk-container\" hidden><div class=\"sk-item\"><div class=\"sk-estimator sk-toggleable\"><input class=\"sk-toggleable__control sk-hidden--visually\" id=\"sk-estimator-id-4\" type=\"checkbox\" checked><label for=\"sk-estimator-id-4\" class=\"sk-toggleable__label sk-toggleable__label-arrow\">GaussianMixture</label><div class=\"sk-toggleable__content\"><pre>GaussianMixture(n_components=10)</pre></div></div></div></div></div>"
      ],
      "text/plain": [
       "GaussianMixture(n_components=10)"
      ]
     },
     "execution_count": 111,
     "metadata": {},
     "output_type": "execute_result"
    }
   ],
   "source": [
    "gmm.fit(Xi[varc])"
   ]
  },
  {
   "cell_type": "code",
   "execution_count": 113,
   "metadata": {},
   "outputs": [],
   "source": [
    "Xi['ex_mv'] = gmm.predict(Xi[varc])"
   ]
  },
  {
   "cell_type": "code",
   "execution_count": 115,
   "metadata": {},
   "outputs": [
    {
     "data": {
      "text/plain": [
       "7   0.22\n",
       "8   0.20\n",
       "1   0.16\n",
       "6   0.13\n",
       "2   0.12\n",
       "0   0.09\n",
       "5   0.08\n",
       "3   0.01\n",
       "9   0.00\n",
       "4   0.00\n",
       "Name: ex_mv, dtype: float64"
      ]
     },
     "execution_count": 115,
     "metadata": {},
     "output_type": "execute_result"
    }
   ],
   "source": [
    "Xi['ex_mv'].value_counts(1)"
   ]
  },
  {
   "cell_type": "code",
   "execution_count": 119,
   "metadata": {},
   "outputs": [
    {
     "data": {
      "text/plain": [
       "array([[<AxesSubplot:title={'center':'amount'}>,\n",
       "        <AxesSubplot:title={'center':'edad_usuario'}>,\n",
       "        <AxesSubplot:title={'center':'antig_cta'}>],\n",
       "       [<AxesSubplot:title={'center':'tiempo_desde_ult_txn'}>,\n",
       "        <AxesSubplot:title={'center':'monto_ult_txn'}>,\n",
       "        <AxesSubplot:title={'center':'monto_prom_ult_mes'}>],\n",
       "       [<AxesSubplot:title={'center':'num_txn_ult_mes'}>,\n",
       "        <AxesSubplot:title={'center':'monto_prom_anio_pasado'}>,\n",
       "        <AxesSubplot:>]], dtype=object)"
      ]
     },
     "execution_count": 119,
     "metadata": {},
     "output_type": "execute_result"
    },
    {
     "data": {
      "image/png": "[encoded data removed]",
      "text/plain": [
       "<Figure size 720x720 with 9 Axes>"
      ]
     },
     "metadata": {
      "needs_background": "light"
     },
     "output_type": "display_data"
    }
   ],
   "source": [
    "Xi.loc[Xi['ex']==0].reset_index(drop=True).drop(Xi.filter(like='ex_').columns,axis=1)[varc].hist(figsize=(10,10))"
   ]
  },
  {
   "cell_type": "code",
   "execution_count": 120,
   "metadata": {},
   "outputs": [
    {
     "data": {
      "text/plain": [
       "array([[<AxesSubplot:title={'center':'amount'}>,\n",
       "        <AxesSubplot:title={'center':'edad_usuario'}>,\n",
       "        <AxesSubplot:title={'center':'antig_cta'}>],\n",
       "       [<AxesSubplot:title={'center':'tiempo_desde_ult_txn'}>,\n",
       "        <AxesSubplot:title={'center':'monto_ult_txn'}>,\n",
       "        <AxesSubplot:title={'center':'monto_prom_ult_mes'}>],\n",
       "       [<AxesSubplot:title={'center':'num_txn_ult_mes'}>,\n",
       "        <AxesSubplot:title={'center':'monto_prom_anio_pasado'}>,\n",
       "        <AxesSubplot:>]], dtype=object)"
      ]
     },
     "execution_count": 120,
     "metadata": {},
     "output_type": "execute_result"
    },
    {
     "data": {
      "image/png": "[encoded data removed]",
      "text/plain": [
       "<Figure size 720x720 with 9 Axes>"
      ]
     },
     "metadata": {
      "needs_background": "light"
     },
     "output_type": "display_data"
    }
   ],
   "source": [
    "Xi.loc[~Xi['ex_mv'].isin([3,9,4])].reset_index(drop=True).drop(Xi.filter(like='ex_').columns,axis=1)[varc].hist(figsize=(10,10))"
   ]
  },
  {
   "cell_type": "code",
   "execution_count": 124,
   "metadata": {},
   "outputs": [],
   "source": [
    "Xi = Xi.loc[~Xi['ex_mv'].isin([3,9,4])].reset_index(drop=True).drop(Xi.filter(like='ex_').columns,axis=1)"
   ]
  },
  {
   "cell_type": "code",
   "execution_count": 126,
   "metadata": {},
   "outputs": [
    {
     "data": {
      "text/html": [
       "<div>\n",
       "<style scoped>\n",
       "    .dataframe tbody tr th:only-of-type {\n",
       "        vertical-align: middle;\n",
       "    }\n",
       "\n",
       "    .dataframe tbody tr th {\n",
       "        vertical-align: top;\n",
       "    }\n",
       "\n",
       "    .dataframe thead th {\n",
       "        text-align: right;\n",
       "    }\n",
       "</style>\n",
       "<table border=\"1\" class=\"dataframe\">\n",
       "  <thead>\n",
       "    <tr style=\"text-align: right;\">\n",
       "      <th></th>\n",
       "      <th>amount</th>\n",
       "      <th>edad_usuario</th>\n",
       "      <th>antig_cta</th>\n",
       "      <th>tiempo_desde_ult_txn</th>\n",
       "      <th>monto_ult_txn</th>\n",
       "      <th>monto_prom_ult_mes</th>\n",
       "      <th>num_txn_ult_mes</th>\n",
       "      <th>monto_prom_anio_pasado</th>\n",
       "      <th>ex</th>\n",
       "      <th>id_txn</th>\n",
       "    </tr>\n",
       "  </thead>\n",
       "  <tbody>\n",
       "    <tr>\n",
       "      <th>0</th>\n",
       "      <td>7.62</td>\n",
       "      <td>21.50</td>\n",
       "      <td>2.40</td>\n",
       "      <td>6240.00</td>\n",
       "      <td>6.27</td>\n",
       "      <td>66.71</td>\n",
       "      <td>103.00</td>\n",
       "      <td>56.15</td>\n",
       "      <td>0</td>\n",
       "      <td>4574298</td>\n",
       "    </tr>\n",
       "    <tr>\n",
       "      <th>1</th>\n",
       "      <td>38.63</td>\n",
       "      <td>63.90</td>\n",
       "      <td>2.40</td>\n",
       "      <td>35940.00</td>\n",
       "      <td>3.24</td>\n",
       "      <td>46.63</td>\n",
       "      <td>122.00</td>\n",
       "      <td>48.87</td>\n",
       "      <td>0</td>\n",
       "      <td>7560347</td>\n",
       "    </tr>\n",
       "    <tr>\n",
       "      <th>2</th>\n",
       "      <td>83.31</td>\n",
       "      <td>35.10</td>\n",
       "      <td>1.60</td>\n",
       "      <td>4380.00</td>\n",
       "      <td>0.55</td>\n",
       "      <td>28.15</td>\n",
       "      <td>102.00</td>\n",
       "      <td>26.13</td>\n",
       "      <td>0</td>\n",
       "      <td>9284378</td>\n",
       "    </tr>\n",
       "    <tr>\n",
       "      <th>3</th>\n",
       "      <td>122.95</td>\n",
       "      <td>54.10</td>\n",
       "      <td>17.30</td>\n",
       "      <td>6180.00</td>\n",
       "      <td>60.31</td>\n",
       "      <td>16.47</td>\n",
       "      <td>104.00</td>\n",
       "      <td>16.08</td>\n",
       "      <td>0</td>\n",
       "      <td>8295122</td>\n",
       "    </tr>\n",
       "    <tr>\n",
       "      <th>4</th>\n",
       "      <td>1.71</td>\n",
       "      <td>77.40</td>\n",
       "      <td>2.00</td>\n",
       "      <td>1380.00</td>\n",
       "      <td>140.00</td>\n",
       "      <td>23.76</td>\n",
       "      <td>150.00</td>\n",
       "      <td>26.79</td>\n",
       "      <td>0</td>\n",
       "      <td>16070544</td>\n",
       "    </tr>\n",
       "  </tbody>\n",
       "</table>\n",
       "</div>"
      ],
      "text/plain": [
       "   amount  edad_usuario  antig_cta  tiempo_desde_ult_txn  monto_ult_txn  \\\n",
       "0    7.62         21.50       2.40               6240.00           6.27   \n",
       "1   38.63         63.90       2.40              35940.00           3.24   \n",
       "2   83.31         35.10       1.60               4380.00           0.55   \n",
       "3  122.95         54.10      17.30               6180.00          60.31   \n",
       "4    1.71         77.40       2.00               1380.00         140.00   \n",
       "\n",
       "   monto_prom_ult_mes  num_txn_ult_mes  monto_prom_anio_pasado  ex    id_txn  \n",
       "0               66.71           103.00                   56.15   0   4574298  \n",
       "1               46.63           122.00                   48.87   0   7560347  \n",
       "2               28.15           102.00                   26.13   0   9284378  \n",
       "3               16.47           104.00                   16.08   0   8295122  \n",
       "4               23.76           150.00                   26.79   0  16070544  "
      ]
     },
     "execution_count": 126,
     "metadata": {},
     "output_type": "execute_result"
    }
   ],
   "source": [
    "Xi.head()"
   ]
  },
  {
   "cell_type": "markdown",
   "metadata": {},
   "source": [
    "#### Multicolinealidad"
   ]
  },
  {
   "cell_type": "code",
   "execution_count": 128,
   "metadata": {},
   "outputs": [
    {
     "data": {
      "text/plain": [
       "<varclushi.varclushi.VarClusHi at 0x7f5e7ae617c0>"
      ]
     },
     "execution_count": 128,
     "metadata": {},
     "output_type": "execute_result"
    }
   ],
   "source": [
    "vc = VarClusHi(df=Xi,feat_list=varc)\n",
    "vc.varclus()"
   ]
  },
  {
   "cell_type": "code",
   "execution_count": 139,
   "metadata": {},
   "outputs": [],
   "source": [
    "best = list(vc.rsquare.sort_values(by=['Cluster','RS_Ratio']).groupby('Cluster').first()['Variable'])"
   ]
  },
  {
   "cell_type": "markdown",
   "metadata": {},
   "source": [
    "#### Poder Predictivo"
   ]
  },
  {
   "cell_type": "code",
   "execution_count": 145,
   "metadata": {},
   "outputs": [],
   "source": [
    "Xi = Xi.merge(train[um+vart],on=um,how='inner')"
   ]
  },
  {
   "cell_type": "code",
   "execution_count": 140,
   "metadata": {},
   "outputs": [],
   "source": [
    "sk = SelectKBest(k=len(best))"
   ]
  },
  {
   "cell_type": "code",
   "execution_count": 148,
   "metadata": {},
   "outputs": [
    {
     "data": {
      "text/html": [
       "<style>#sk-container-id-6 {color: black;background-color: white;}#sk-container-id-6 pre{padding: 0;}#sk-container-id-6 div.sk-toggleable {background-color: white;}#sk-container-id-6 label.sk-toggleable__label {cursor: pointer;display: block;width: 100%;margin-bottom: 0;padding: 0.3em;box-sizing: border-box;text-align: center;}#sk-container-id-6 label.sk-toggleable__label-arrow:before {content: \"▸\";float: left;margin-right: 0.25em;color: #696969;}#sk-container-id-6 label.sk-toggleable__label-arrow:hover:before {color: black;}#sk-container-id-6 div.sk-estimator:hover label.sk-toggleable__label-arrow:before {color: black;}#sk-container-id-6 div.sk-toggleable__content {max-height: 0;max-width: 0;overflow: hidden;text-align: left;background-color: #f0f8ff;}#sk-container-id-6 div.sk-toggleable__content pre {margin: 0.2em;color: black;border-radius: 0.25em;background-color: #f0f8ff;}#sk-container-id-6 input.sk-toggleable__control:checked~div.sk-toggleable__content {max-height: 200px;max-width: 100%;overflow: auto;}#sk-container-id-6 input.sk-toggleable__control:checked~label.sk-toggleable__label-arrow:before {content: \"▾\";}#sk-container-id-6 div.sk-estimator input.sk-toggleable__control:checked~label.sk-toggleable__label {background-color: #d4ebff;}#sk-container-id-6 div.sk-label input.sk-toggleable__control:checked~label.sk-toggleable__label {background-color: #d4ebff;}#sk-container-id-6 input.sk-hidden--visually {border: 0;clip: rect(1px 1px 1px 1px);clip: rect(1px, 1px, 1px, 1px);height: 1px;margin: -1px;overflow: hidden;padding: 0;position: absolute;width: 1px;}#sk-container-id-6 div.sk-estimator {font-family: monospace;background-color: #f0f8ff;border: 1px dotted black;border-radius: 0.25em;box-sizing: border-box;margin-bottom: 0.5em;}#sk-container-id-6 div.sk-estimator:hover {background-color: #d4ebff;}#sk-container-id-6 div.sk-parallel-item::after {content: \"\";width: 100%;border-bottom: 1px solid gray;flex-grow: 1;}#sk-container-id-6 div.sk-label:hover label.sk-toggleable__label {background-color: #d4ebff;}#sk-container-id-6 div.sk-serial::before {content: \"\";position: absolute;border-left: 1px solid gray;box-sizing: border-box;top: 0;bottom: 0;left: 50%;z-index: 0;}#sk-container-id-6 div.sk-serial {display: flex;flex-direction: column;align-items: center;background-color: white;padding-right: 0.2em;padding-left: 0.2em;position: relative;}#sk-container-id-6 div.sk-item {position: relative;z-index: 1;}#sk-container-id-6 div.sk-parallel {display: flex;align-items: stretch;justify-content: center;background-color: white;position: relative;}#sk-container-id-6 div.sk-item::before, #sk-container-id-6 div.sk-parallel-item::before {content: \"\";position: absolute;border-left: 1px solid gray;box-sizing: border-box;top: 0;bottom: 0;left: 50%;z-index: -1;}#sk-container-id-6 div.sk-parallel-item {display: flex;flex-direction: column;z-index: 1;position: relative;background-color: white;}#sk-container-id-6 div.sk-parallel-item:first-child::after {align-self: flex-end;width: 50%;}#sk-container-id-6 div.sk-parallel-item:last-child::after {align-self: flex-start;width: 50%;}#sk-container-id-6 div.sk-parallel-item:only-child::after {width: 0;}#sk-container-id-6 div.sk-dashed-wrapped {border: 1px dashed gray;margin: 0 0.4em 0.5em 0.4em;box-sizing: border-box;padding-bottom: 0.4em;background-color: white;}#sk-container-id-6 div.sk-label label {font-family: monospace;font-weight: bold;display: inline-block;line-height: 1.2em;}#sk-container-id-6 div.sk-label-container {text-align: center;}#sk-container-id-6 div.sk-container {/* jupyter's `normalize.less` sets `[hidden] { display: none; }` but bootstrap.min.css set `[hidden] { display: none !important; }` so we also need the `!important` here to be able to override the default hidden behavior on the sphinx rendered scikit-learn.org. See: https://github.com/scikit-learn/scikit-learn/issues/21755 */display: inline-block !important;position: relative;}#sk-container-id-6 div.sk-text-repr-fallback {display: none;}</style><div id=\"sk-container-id-6\" class=\"sk-top-container\"><div class=\"sk-text-repr-fallback\"><pre>SelectKBest(k=4)</pre><b>In a Jupyter environment, please rerun this cell to show the HTML representation or trust the notebook. <br />On GitHub, the HTML representation is unable to render, please try loading this page with nbviewer.org.</b></div><div class=\"sk-container\" hidden><div class=\"sk-item\"><div class=\"sk-estimator sk-toggleable\"><input class=\"sk-toggleable__control sk-hidden--visually\" id=\"sk-estimator-id-6\" type=\"checkbox\" checked><label for=\"sk-estimator-id-6\" class=\"sk-toggleable__label sk-toggleable__label-arrow\">SelectKBest</label><div class=\"sk-toggleable__content\"><pre>SelectKBest(k=4)</pre></div></div></div></div></div>"
      ],
      "text/plain": [
       "SelectKBest(k=4)"
      ]
     },
     "execution_count": 148,
     "metadata": {},
     "output_type": "execute_result"
    }
   ],
   "source": [
    "sk.fit(Xi[best],Xi[vart[0]])"
   ]
  },
  {
   "cell_type": "code",
   "execution_count": 155,
   "metadata": {},
   "outputs": [
    {
     "data": {
      "application/vnd.plotly.v1+json": {
       "config": {
        "linkText": "Export to plot.ly",
        "plotlyServerURL": "https://plot.ly",
        "showLink": true
       },
       "data": [
        {
         "marker": {
          "color": "rgba(128, 0, 128, 0.6)",
          "line": {
           "color": "rgba(128, 0, 128, 1.0)",
           "width": 1
          }
         },
         "name": "score",
         "orientation": "v",
         "text": "",
         "type": "bar",
         "x": [
          "antig_cta",
          "monto_ult_txn",
          "tiempo_desde_ult_txn",
          "monto_prom_ult_mes"
         ],
         "y": [
          39.278148939508135,
          24.066615637940302,
          13.771513573250596,
          3.2527438228324286
         ]
        }
       ],
       "layout": {
        "legend": {
         "bgcolor": "#F5F6F9",
         "font": {
          "color": "#4D5663"
         }
        },
        "paper_bgcolor": "#F5F6F9",
        "plot_bgcolor": "#F5F6F9",
        "template": {
         "data": {
          "bar": [
           {
            "error_x": {
             "color": "#2a3f5f"
            },
            "error_y": {
             "color": "#2a3f5f"
            },
            "marker": {
             "line": {
              "color": "#E5ECF6",
              "width": 0.5
             },
             "pattern": {
              "fillmode": "overlay",
              "size": 10,
              "solidity": 0.2
             }
            },
            "type": "bar"
           }
          ],
          "barpolar": [
           {
            "marker": {
             "line": {
              "color": "#E5ECF6",
              "width": 0.5
             },
             "pattern": {
              "fillmode": "overlay",
              "size": 10,
              "solidity": 0.2
             }
            },
            "type": "barpolar"
           }
          ],
          "carpet": [
           {
            "aaxis": {
             "endlinecolor": "#2a3f5f",
             "gridcolor": "white",
             "linecolor": "white",
             "minorgridcolor": "white",
             "startlinecolor": "#2a3f5f"
            },
            "baxis": {
             "endlinecolor": "#2a3f5f",
             "gridcolor": "white",
             "linecolor": "white",
             "minorgridcolor": "white",
             "startlinecolor": "#2a3f5f"
            },
            "type": "carpet"
           }
          ],
          "choropleth": [
           {
            "colorbar": {
             "outlinewidth": 0,
             "ticks": ""
            },
            "type": "choropleth"
           }
          ],
          "contour": [
           {
            "colorbar": {
             "outlinewidth": 0,
             "ticks": ""
            },
            "colorscale": [
             [
              0,
              "#0d0887"
             ],
             [
              0.1111111111111111,
              "#46039f"
             ],
             [
              0.2222222222222222,
              "#7201a8"
             ],
             [
              0.3333333333333333,
              "#9c179e"
             ],
             [
              0.4444444444444444,
              "#bd3786"
             ],
             [
              0.5555555555555556,
              "#d8576b"
             ],
             [
              0.6666666666666666,
              "#ed7953"
             ],
             [
              0.7777777777777778,
              "#fb9f3a"
             ],
             [
              0.8888888888888888,
              "#fdca26"
             ],
             [
              1,
              "#f0f921"
             ]
            ],
            "type": "contour"
           }
          ],
          "contourcarpet": [
           {
            "colorbar": {
             "outlinewidth": 0,
             "ticks": ""
            },
            "type": "contourcarpet"
           }
          ],
          "heatmap": [
           {
            "colorbar": {
             "outlinewidth": 0,
             "ticks": ""
            },
            "colorscale": [
             [
              0,
              "#0d0887"
             ],
             [
              0.1111111111111111,
              "#46039f"
             ],
             [
              0.2222222222222222,
              "#7201a8"
             ],
             [
              0.3333333333333333,
              "#9c179e"
             ],
             [
              0.4444444444444444,
              "#bd3786"
             ],
             [
              0.5555555555555556,
              "#d8576b"
             ],
             [
              0.6666666666666666,
              "#ed7953"
             ],
             [
              0.7777777777777778,
              "#fb9f3a"
             ],
             [
              0.8888888888888888,
              "#fdca26"
             ],
             [
              1,
              "#f0f921"
             ]
            ],
            "type": "heatmap"
           }
          ],
          "heatmapgl": [
           {
            "colorbar": {
             "outlinewidth": 0,
             "ticks": ""
            },
            "colorscale": [
             [
              0,
              "#0d0887"
             ],
             [
              0.1111111111111111,
              "#46039f"
             ],
             [
              0.2222222222222222,
              "#7201a8"
             ],
             [
              0.3333333333333333,
              "#9c179e"
             ],
             [
              0.4444444444444444,
              "#bd3786"
             ],
             [
              0.5555555555555556,
              "#d8576b"
             ],
             [
              0.6666666666666666,
              "#ed7953"
             ],
             [
              0.7777777777777778,
              "#fb9f3a"
             ],
             [
              0.8888888888888888,
              "#fdca26"
             ],
             [
              1,
              "#f0f921"
             ]
            ],
            "type": "heatmapgl"
           }
          ],
          "histogram": [
           {
            "marker": {
             "pattern": {
              "fillmode": "overlay",
              "size": 10,
              "solidity": 0.2
             }
            },
            "type": "histogram"
           }
          ],
          "histogram2d": [
           {
            "colorbar": {
             "outlinewidth": 0,
             "ticks": ""
            },
            "colorscale": [
             [
              0,
              "#0d0887"
             ],
             [
              0.1111111111111111,
              "#46039f"
             ],
             [
              0.2222222222222222,
              "#7201a8"
             ],
             [
              0.3333333333333333,
              "#9c179e"
             ],
             [
              0.4444444444444444,
              "#bd3786"
             ],
             [
              0.5555555555555556,
              "#d8576b"
             ],
             [
              0.6666666666666666,
              "#ed7953"
             ],
             [
              0.7777777777777778,
              "#fb9f3a"
             ],
             [
              0.8888888888888888,
              "#fdca26"
             ],
             [
              1,
              "#f0f921"
             ]
            ],
            "type": "histogram2d"
           }
          ],
          "histogram2dcontour": [
           {
            "colorbar": {
             "outlinewidth": 0,
             "ticks": ""
            },
            "colorscale": [
             [
              0,
              "#0d0887"
             ],
             [
              0.1111111111111111,
              "#46039f"
             ],
             [
              0.2222222222222222,
              "#7201a8"
             ],
             [
              0.3333333333333333,
              "#9c179e"
             ],
             [
              0.4444444444444444,
              "#bd3786"
             ],
             [
              0.5555555555555556,
              "#d8576b"
             ],
             [
              0.6666666666666666,
              "#ed7953"
             ],
             [
              0.7777777777777778,
              "#fb9f3a"
             ],
             [
              0.8888888888888888,
              "#fdca26"
             ],
             [
              1,
              "#f0f921"
             ]
            ],
            "type": "histogram2dcontour"
           }
          ],
          "mesh3d": [
           {
            "colorbar": {
             "outlinewidth": 0,
             "ticks": ""
            },
            "type": "mesh3d"
           }
          ],
          "parcoords": [
           {
            "line": {
             "colorbar": {
              "outlinewidth": 0,
              "ticks": ""
             }
            },
            "type": "parcoords"
           }
          ],
          "pie": [
           {
            "automargin": true,
            "type": "pie"
           }
          ],
          "scatter": [
           {
            "fillpattern": {
             "fillmode": "overlay",
             "size": 10,
             "solidity": 0.2
            },
            "type": "scatter"
           }
          ],
          "scatter3d": [
           {
            "line": {
             "colorbar": {
              "outlinewidth": 0,
              "ticks": ""
             }
            },
            "marker": {
             "colorbar": {
              "outlinewidth": 0,
              "ticks": ""
             }
            },
            "type": "scatter3d"
           }
          ],
          "scattercarpet": [
           {
            "marker": {
             "colorbar": {
              "outlinewidth": 0,
              "ticks": ""
             }
            },
            "type": "scattercarpet"
           }
          ],
          "scattergeo": [
           {
            "marker": {
             "colorbar": {
              "outlinewidth": 0,
              "ticks": ""
             }
            },
            "type": "scattergeo"
           }
          ],
          "scattergl": [
           {
            "marker": {
             "colorbar": {
              "outlinewidth": 0,
              "ticks": ""
             }
            },
            "type": "scattergl"
           }
          ],
          "scattermapbox": [
           {
            "marker": {
             "colorbar": {
              "outlinewidth": 0,
              "ticks": ""
             }
            },
            "type": "scattermapbox"
           }
          ],
          "scatterpolar": [
           {
            "marker": {
             "colorbar": {
              "outlinewidth": 0,
              "ticks": ""
             }
            },
            "type": "scatterpolar"
           }
          ],
          "scatterpolargl": [
           {
            "marker": {
             "colorbar": {
              "outlinewidth": 0,
              "ticks": ""
             }
            },
            "type": "scatterpolargl"
           }
          ],
          "scatterternary": [
           {
            "marker": {
             "colorbar": {
              "outlinewidth": 0,
              "ticks": ""
             }
            },
            "type": "scatterternary"
           }
          ],
          "surface": [
           {
            "colorbar": {
             "outlinewidth": 0,
             "ticks": ""
            },
            "colorscale": [
             [
              0,
              "#0d0887"
             ],
             [
              0.1111111111111111,
              "#46039f"
             ],
             [
              0.2222222222222222,
              "#7201a8"
             ],
             [
              0.3333333333333333,
              "#9c179e"
             ],
             [
              0.4444444444444444,
              "#bd3786"
             ],
             [
              0.5555555555555556,
              "#d8576b"
             ],
             [
              0.6666666666666666,
              "#ed7953"
             ],
             [
              0.7777777777777778,
              "#fb9f3a"
             ],
             [
              0.8888888888888888,
              "#fdca26"
             ],
             [
              1,
              "#f0f921"
             ]
            ],
            "type": "surface"
           }
          ],
          "table": [
           {
            "cells": {
             "fill": {
              "color": "#EBF0F8"
             },
             "line": {
              "color": "white"
             }
            },
            "header": {
             "fill": {
              "color": "#C8D4E3"
             },
             "line": {
              "color": "white"
             }
            },
            "type": "table"
           }
          ]
         },
         "layout": {
          "annotationdefaults": {
           "arrowcolor": "#2a3f5f",
           "arrowhead": 0,
           "arrowwidth": 1
          },
          "autotypenumbers": "strict",
          "coloraxis": {
           "colorbar": {
            "outlinewidth": 0,
            "ticks": ""
           }
          },
          "colorscale": {
           "diverging": [
            [
             0,
             "#8e0152"
            ],
            [
             0.1,
             "#c51b7d"
            ],
            [
             0.2,
             "#de77ae"
            ],
            [
             0.3,
             "#f1b6da"
            ],
            [
             0.4,
             "#fde0ef"
            ],
            [
             0.5,
             "#f7f7f7"
            ],
            [
             0.6,
             "#e6f5d0"
            ],
            [
             0.7,
             "#b8e186"
            ],
            [
             0.8,
             "#7fbc41"
            ],
            [
             0.9,
             "#4d9221"
            ],
            [
             1,
             "#276419"
            ]
           ],
           "sequential": [
            [
             0,
             "#0d0887"
            ],
            [
             0.1111111111111111,
             "#46039f"
            ],
            [
             0.2222222222222222,
             "#7201a8"
            ],
            [
             0.3333333333333333,
             "#9c179e"
            ],
            [
             0.4444444444444444,
             "#bd3786"
            ],
            [
             0.5555555555555556,
             "#d8576b"
            ],
            [
             0.6666666666666666,
             "#ed7953"
            ],
            [
             0.7777777777777778,
             "#fb9f3a"
            ],
            [
             0.8888888888888888,
             "#fdca26"
            ],
            [
             1,
             "#f0f921"
            ]
           ],
           "sequentialminus": [
            [
             0,
             "#0d0887"
            ],
            [
             0.1111111111111111,
             "#46039f"
            ],
            [
             0.2222222222222222,
             "#7201a8"
            ],
            [
             0.3333333333333333,
             "#9c179e"
            ],
            [
             0.4444444444444444,
             "#bd3786"
            ],
            [
             0.5555555555555556,
             "#d8576b"
            ],
            [
             0.6666666666666666,
             "#ed7953"
            ],
            [
             0.7777777777777778,
             "#fb9f3a"
            ],
            [
             0.8888888888888888,
             "#fdca26"
            ],
            [
             1,
             "#f0f921"
            ]
           ]
          },
          "colorway": [
           "#636efa",
           "#EF553B",
           "#00cc96",
           "#ab63fa",
           "#FFA15A",
           "#19d3f3",
           "#FF6692",
           "#B6E880",
           "#FF97FF",
           "#FECB52"
          ],
          "font": {
           "color": "#2a3f5f"
          },
          "geo": {
           "bgcolor": "white",
           "lakecolor": "white",
           "landcolor": "#E5ECF6",
           "showlakes": true,
           "showland": true,
           "subunitcolor": "white"
          },
          "hoverlabel": {
           "align": "left"
          },
          "hovermode": "closest",
          "mapbox": {
           "style": "light"
          },
          "paper_bgcolor": "white",
          "plot_bgcolor": "#E5ECF6",
          "polar": {
           "angularaxis": {
            "gridcolor": "white",
            "linecolor": "white",
            "ticks": ""
           },
           "bgcolor": "#E5ECF6",
           "radialaxis": {
            "gridcolor": "white",
            "linecolor": "white",
            "ticks": ""
           }
          },
          "scene": {
           "xaxis": {
            "backgroundcolor": "#E5ECF6",
            "gridcolor": "white",
            "gridwidth": 2,
            "linecolor": "white",
            "showbackground": true,
            "ticks": "",
            "zerolinecolor": "white"
           },
           "yaxis": {
            "backgroundcolor": "#E5ECF6",
            "gridcolor": "white",
            "gridwidth": 2,
            "linecolor": "white",
            "showbackground": true,
            "ticks": "",
            "zerolinecolor": "white"
           },
           "zaxis": {
            "backgroundcolor": "#E5ECF6",
            "gridcolor": "white",
            "gridwidth": 2,
            "linecolor": "white",
            "showbackground": true,
            "ticks": "",
            "zerolinecolor": "white"
           }
          },
          "shapedefaults": {
           "line": {
            "color": "#2a3f5f"
           }
          },
          "ternary": {
           "aaxis": {
            "gridcolor": "white",
            "linecolor": "white",
            "ticks": ""
           },
           "baxis": {
            "gridcolor": "white",
            "linecolor": "white",
            "ticks": ""
           },
           "bgcolor": "#E5ECF6",
           "caxis": {
            "gridcolor": "white",
            "linecolor": "white",
            "ticks": ""
           }
          },
          "title": {
           "x": 0.05
          },
          "xaxis": {
           "automargin": true,
           "gridcolor": "white",
           "linecolor": "white",
           "ticks": "",
           "title": {
            "standoff": 15
           },
           "zerolinecolor": "white",
           "zerolinewidth": 2
          },
          "yaxis": {
           "automargin": true,
           "gridcolor": "white",
           "linecolor": "white",
           "ticks": "",
           "title": {
            "standoff": 15
           },
           "zerolinecolor": "white",
           "zerolinewidth": 2
          }
         }
        },
        "title": {
         "font": {
          "color": "#4D5663"
         }
        },
        "xaxis": {
         "gridcolor": "#E1E5ED",
         "showgrid": true,
         "tickfont": {
          "color": "#4D5663"
         },
         "title": {
          "font": {
           "color": "#4D5663"
          },
          "text": ""
         },
         "zerolinecolor": "#E1E5ED"
        },
        "yaxis": {
         "gridcolor": "#E1E5ED",
         "showgrid": true,
         "tickfont": {
          "color": "#4D5663"
         },
         "title": {
          "font": {
           "color": "#4D5663"
          },
          "text": ""
         },
         "zerolinecolor": "#E1E5ED"
        }
       }
      },
      "text/html": [
       "<div>                            <div id=\"c54e2a39-134a-42bc-82dc-256f7e24317f\" class=\"plotly-graph-div\" style=\"height:525px; width:100%;\"></div>            <script type=\"text/javascript\">                require([\"plotly\"], function(Plotly) {                    window.PLOTLYENV=window.PLOTLYENV || {};\n",
       "                    window.PLOTLYENV.BASE_URL='https://plot.ly';                                    if (document.getElementById(\"c54e2a39-134a-42bc-82dc-256f7e24317f\")) {                    Plotly.newPlot(                        \"c54e2a39-134a-42bc-82dc-256f7e24317f\",                        [{\"marker\":{\"color\":\"rgba(128, 0, 128, 0.6)\",\"line\":{\"color\":\"rgba(128, 0, 128, 1.0)\",\"width\":1}},\"name\":\"score\",\"orientation\":\"v\",\"text\":\"\",\"x\":[\"antig_cta\",\"monto_ult_txn\",\"tiempo_desde_ult_txn\",\"monto_prom_ult_mes\"],\"y\":[39.278148939508135,24.066615637940302,13.771513573250596,3.2527438228324286],\"type\":\"bar\"}],                        {\"legend\":{\"bgcolor\":\"#F5F6F9\",\"font\":{\"color\":\"#4D5663\"}},\"paper_bgcolor\":\"#F5F6F9\",\"plot_bgcolor\":\"#F5F6F9\",\"template\":{\"data\":{\"barpolar\":[{\"marker\":{\"line\":{\"color\":\"#E5ECF6\",\"width\":0.5},\"pattern\":{\"fillmode\":\"overlay\",\"size\":10,\"solidity\":0.2}},\"type\":\"barpolar\"}],\"bar\":[{\"error_x\":{\"color\":\"#2a3f5f\"},\"error_y\":{\"color\":\"#2a3f5f\"},\"marker\":{\"line\":{\"color\":\"#E5ECF6\",\"width\":0.5},\"pattern\":{\"fillmode\":\"overlay\",\"size\":10,\"solidity\":0.2}},\"type\":\"bar\"}],\"carpet\":[{\"aaxis\":{\"endlinecolor\":\"#2a3f5f\",\"gridcolor\":\"white\",\"linecolor\":\"white\",\"minorgridcolor\":\"white\",\"startlinecolor\":\"#2a3f5f\"},\"baxis\":{\"endlinecolor\":\"#2a3f5f\",\"gridcolor\":\"white\",\"linecolor\":\"white\",\"minorgridcolor\":\"white\",\"startlinecolor\":\"#2a3f5f\"},\"type\":\"carpet\"}],\"choropleth\":[{\"colorbar\":{\"outlinewidth\":0,\"ticks\":\"\"},\"type\":\"choropleth\"}],\"contourcarpet\":[{\"colorbar\":{\"outlinewidth\":0,\"ticks\":\"\"},\"type\":\"contourcarpet\"}],\"contour\":[{\"colorbar\":{\"outlinewidth\":0,\"ticks\":\"\"},\"colorscale\":[[0.0,\"#0d0887\"],[0.1111111111111111,\"#46039f\"],[0.2222222222222222,\"#7201a8\"],[0.3333333333333333,\"#9c179e\"],[0.4444444444444444,\"#bd3786\"],[0.5555555555555556,\"#d8576b\"],[0.6666666666666666,\"#ed7953\"],[0.7777777777777778,\"#fb9f3a\"],[0.8888888888888888,\"#fdca26\"],[1.0,\"#f0f921\"]],\"type\":\"contour\"}],\"heatmapgl\":[{\"colorbar\":{\"outlinewidth\":0,\"ticks\":\"\"},\"colorscale\":[[0.0,\"#0d0887\"],[0.1111111111111111,\"#46039f\"],[0.2222222222222222,\"#7201a8\"],[0.3333333333333333,\"#9c179e\"],[0.4444444444444444,\"#bd3786\"],[0.5555555555555556,\"#d8576b\"],[0.6666666666666666,\"#ed7953\"],[0.7777777777777778,\"#fb9f3a\"],[0.8888888888888888,\"#fdca26\"],[1.0,\"#f0f921\"]],\"type\":\"heatmapgl\"}],\"heatmap\":[{\"colorbar\":{\"outlinewidth\":0,\"ticks\":\"\"},\"colorscale\":[[0.0,\"#0d0887\"],[0.1111111111111111,\"#46039f\"],[0.2222222222222222,\"#7201a8\"],[0.3333333333333333,\"#9c179e\"],[0.4444444444444444,\"#bd3786\"],[0.5555555555555556,\"#d8576b\"],[0.6666666666666666,\"#ed7953\"],[0.7777777777777778,\"#fb9f3a\"],[0.8888888888888888,\"#fdca26\"],[1.0,\"#f0f921\"]],\"type\":\"heatmap\"}],\"histogram2dcontour\":[{\"colorbar\":{\"outlinewidth\":0,\"ticks\":\"\"},\"colorscale\":[[0.0,\"#0d0887\"],[0.1111111111111111,\"#46039f\"],[0.2222222222222222,\"#7201a8\"],[0.3333333333333333,\"#9c179e\"],[0.4444444444444444,\"#bd3786\"],[0.5555555555555556,\"#d8576b\"],[0.6666666666666666,\"#ed7953\"],[0.7777777777777778,\"#fb9f3a\"],[0.8888888888888888,\"#fdca26\"],[1.0,\"#f0f921\"]],\"type\":\"histogram2dcontour\"}],\"histogram2d\":[{\"colorbar\":{\"outlinewidth\":0,\"ticks\":\"\"},\"colorscale\":[[0.0,\"#0d0887\"],[0.1111111111111111,\"#46039f\"],[0.2222222222222222,\"#7201a8\"],[0.3333333333333333,\"#9c179e\"],[0.4444444444444444,\"#bd3786\"],[0.5555555555555556,\"#d8576b\"],[0.6666666666666666,\"#ed7953\"],[0.7777777777777778,\"#fb9f3a\"],[0.8888888888888888,\"#fdca26\"],[1.0,\"#f0f921\"]],\"type\":\"histogram2d\"}],\"histogram\":[{\"marker\":{\"pattern\":{\"fillmode\":\"overlay\",\"size\":10,\"solidity\":0.2}},\"type\":\"histogram\"}],\"mesh3d\":[{\"colorbar\":{\"outlinewidth\":0,\"ticks\":\"\"},\"type\":\"mesh3d\"}],\"parcoords\":[{\"line\":{\"colorbar\":{\"outlinewidth\":0,\"ticks\":\"\"}},\"type\":\"parcoords\"}],\"pie\":[{\"automargin\":true,\"type\":\"pie\"}],\"scatter3d\":[{\"line\":{\"colorbar\":{\"outlinewidth\":0,\"ticks\":\"\"}},\"marker\":{\"colorbar\":{\"outlinewidth\":0,\"ticks\":\"\"}},\"type\":\"scatter3d\"}],\"scattercarpet\":[{\"marker\":{\"colorbar\":{\"outlinewidth\":0,\"ticks\":\"\"}},\"type\":\"scattercarpet\"}],\"scattergeo\":[{\"marker\":{\"colorbar\":{\"outlinewidth\":0,\"ticks\":\"\"}},\"type\":\"scattergeo\"}],\"scattergl\":[{\"marker\":{\"colorbar\":{\"outlinewidth\":0,\"ticks\":\"\"}},\"type\":\"scattergl\"}],\"scattermapbox\":[{\"marker\":{\"colorbar\":{\"outlinewidth\":0,\"ticks\":\"\"}},\"type\":\"scattermapbox\"}],\"scatterpolargl\":[{\"marker\":{\"colorbar\":{\"outlinewidth\":0,\"ticks\":\"\"}},\"type\":\"scatterpolargl\"}],\"scatterpolar\":[{\"marker\":{\"colorbar\":{\"outlinewidth\":0,\"ticks\":\"\"}},\"type\":\"scatterpolar\"}],\"scatter\":[{\"fillpattern\":{\"fillmode\":\"overlay\",\"size\":10,\"solidity\":0.2},\"type\":\"scatter\"}],\"scatterternary\":[{\"marker\":{\"colorbar\":{\"outlinewidth\":0,\"ticks\":\"\"}},\"type\":\"scatterternary\"}],\"surface\":[{\"colorbar\":{\"outlinewidth\":0,\"ticks\":\"\"},\"colorscale\":[[0.0,\"#0d0887\"],[0.1111111111111111,\"#46039f\"],[0.2222222222222222,\"#7201a8\"],[0.3333333333333333,\"#9c179e\"],[0.4444444444444444,\"#bd3786\"],[0.5555555555555556,\"#d8576b\"],[0.6666666666666666,\"#ed7953\"],[0.7777777777777778,\"#fb9f3a\"],[0.8888888888888888,\"#fdca26\"],[1.0,\"#f0f921\"]],\"type\":\"surface\"}],\"table\":[{\"cells\":{\"fill\":{\"color\":\"#EBF0F8\"},\"line\":{\"color\":\"white\"}},\"header\":{\"fill\":{\"color\":\"#C8D4E3\"},\"line\":{\"color\":\"white\"}},\"type\":\"table\"}]},\"layout\":{\"annotationdefaults\":{\"arrowcolor\":\"#2a3f5f\",\"arrowhead\":0,\"arrowwidth\":1},\"autotypenumbers\":\"strict\",\"coloraxis\":{\"colorbar\":{\"outlinewidth\":0,\"ticks\":\"\"}},\"colorscale\":{\"diverging\":[[0,\"#8e0152\"],[0.1,\"#c51b7d\"],[0.2,\"#de77ae\"],[0.3,\"#f1b6da\"],[0.4,\"#fde0ef\"],[0.5,\"#f7f7f7\"],[0.6,\"#e6f5d0\"],[0.7,\"#b8e186\"],[0.8,\"#7fbc41\"],[0.9,\"#4d9221\"],[1,\"#276419\"]],\"sequential\":[[0.0,\"#0d0887\"],[0.1111111111111111,\"#46039f\"],[0.2222222222222222,\"#7201a8\"],[0.3333333333333333,\"#9c179e\"],[0.4444444444444444,\"#bd3786\"],[0.5555555555555556,\"#d8576b\"],[0.6666666666666666,\"#ed7953\"],[0.7777777777777778,\"#fb9f3a\"],[0.8888888888888888,\"#fdca26\"],[1.0,\"#f0f921\"]],\"sequentialminus\":[[0.0,\"#0d0887\"],[0.1111111111111111,\"#46039f\"],[0.2222222222222222,\"#7201a8\"],[0.3333333333333333,\"#9c179e\"],[0.4444444444444444,\"#bd3786\"],[0.5555555555555556,\"#d8576b\"],[0.6666666666666666,\"#ed7953\"],[0.7777777777777778,\"#fb9f3a\"],[0.8888888888888888,\"#fdca26\"],[1.0,\"#f0f921\"]]},\"colorway\":[\"#636efa\",\"#EF553B\",\"#00cc96\",\"#ab63fa\",\"#FFA15A\",\"#19d3f3\",\"#FF6692\",\"#B6E880\",\"#FF97FF\",\"#FECB52\"],\"font\":{\"color\":\"#2a3f5f\"},\"geo\":{\"bgcolor\":\"white\",\"lakecolor\":\"white\",\"landcolor\":\"#E5ECF6\",\"showlakes\":true,\"showland\":true,\"subunitcolor\":\"white\"},\"hoverlabel\":{\"align\":\"left\"},\"hovermode\":\"closest\",\"mapbox\":{\"style\":\"light\"},\"paper_bgcolor\":\"white\",\"plot_bgcolor\":\"#E5ECF6\",\"polar\":{\"angularaxis\":{\"gridcolor\":\"white\",\"linecolor\":\"white\",\"ticks\":\"\"},\"bgcolor\":\"#E5ECF6\",\"radialaxis\":{\"gridcolor\":\"white\",\"linecolor\":\"white\",\"ticks\":\"\"}},\"scene\":{\"xaxis\":{\"backgroundcolor\":\"#E5ECF6\",\"gridcolor\":\"white\",\"gridwidth\":2,\"linecolor\":\"white\",\"showbackground\":true,\"ticks\":\"\",\"zerolinecolor\":\"white\"},\"yaxis\":{\"backgroundcolor\":\"#E5ECF6\",\"gridcolor\":\"white\",\"gridwidth\":2,\"linecolor\":\"white\",\"showbackground\":true,\"ticks\":\"\",\"zerolinecolor\":\"white\"},\"zaxis\":{\"backgroundcolor\":\"#E5ECF6\",\"gridcolor\":\"white\",\"gridwidth\":2,\"linecolor\":\"white\",\"showbackground\":true,\"ticks\":\"\",\"zerolinecolor\":\"white\"}},\"shapedefaults\":{\"line\":{\"color\":\"#2a3f5f\"}},\"ternary\":{\"aaxis\":{\"gridcolor\":\"white\",\"linecolor\":\"white\",\"ticks\":\"\"},\"baxis\":{\"gridcolor\":\"white\",\"linecolor\":\"white\",\"ticks\":\"\"},\"bgcolor\":\"#E5ECF6\",\"caxis\":{\"gridcolor\":\"white\",\"linecolor\":\"white\",\"ticks\":\"\"}},\"title\":{\"x\":0.05},\"xaxis\":{\"automargin\":true,\"gridcolor\":\"white\",\"linecolor\":\"white\",\"ticks\":\"\",\"title\":{\"standoff\":15},\"zerolinecolor\":\"white\",\"zerolinewidth\":2},\"yaxis\":{\"automargin\":true,\"gridcolor\":\"white\",\"linecolor\":\"white\",\"ticks\":\"\",\"title\":{\"standoff\":15},\"zerolinecolor\":\"white\",\"zerolinewidth\":2}}},\"title\":{\"font\":{\"color\":\"#4D5663\"}},\"xaxis\":{\"gridcolor\":\"#E1E5ED\",\"showgrid\":true,\"tickfont\":{\"color\":\"#4D5663\"},\"title\":{\"font\":{\"color\":\"#4D5663\"},\"text\":\"\"},\"zerolinecolor\":\"#E1E5ED\"},\"yaxis\":{\"gridcolor\":\"#E1E5ED\",\"showgrid\":true,\"tickfont\":{\"color\":\"#4D5663\"},\"title\":{\"font\":{\"color\":\"#4D5663\"},\"text\":\"\"},\"zerolinecolor\":\"#E1E5ED\"}},                        {\"showLink\": true, \"linkText\": \"Export to plot.ly\", \"plotlyServerURL\": \"https://plot.ly\", \"responsive\": true}                    ).then(function(){\n",
       "                            \n",
       "var gd = document.getElementById('c54e2a39-134a-42bc-82dc-256f7e24317f');\n",
       "var x = new MutationObserver(function (mutations, observer) {{\n",
       "        var display = window.getComputedStyle(gd).display;\n",
       "        if (!display || display === 'none') {{\n",
       "            console.log([gd, 'removed!']);\n",
       "            Plotly.purge(gd);\n",
       "            observer.disconnect();\n",
       "        }}\n",
       "}});\n",
       "\n",
       "// Listen for the removal of the full notebook cells\n",
       "var notebookContainer = gd.closest('#notebook-container');\n",
       "if (notebookContainer) {{\n",
       "    x.observe(notebookContainer, {childList: true});\n",
       "}}\n",
       "\n",
       "// Listen for the clearing of the current output cell\n",
       "var outputEl = gd.closest('.output');\n",
       "if (outputEl) {{\n",
       "    x.observe(outputEl, {childList: true});\n",
       "}}\n",
       "\n",
       "                        })                };                });            </script>        </div>"
      ]
     },
     "metadata": {},
     "output_type": "display_data"
    }
   ],
   "source": [
    "pd.DataFrame(zip(best,sk.scores_),\n",
    "columns=['var','score']).sort_values(by='score',ascending=False).set_index('var').iplot(kind='bar',color='purple')"
   ]
  },
  {
   "cell_type": "code",
   "execution_count": 158,
   "metadata": {},
   "outputs": [],
   "source": [
    "best.remove('monto_prom_ult_mes')"
   ]
  },
  {
   "cell_type": "code",
   "execution_count": 159,
   "metadata": {},
   "outputs": [
    {
     "data": {
      "text/plain": [
       "['tiempo_desde_ult_txn', 'antig_cta', 'monto_ult_txn']"
      ]
     },
     "execution_count": 159,
     "metadata": {},
     "output_type": "execute_result"
    }
   ],
   "source": [
    "best"
   ]
  },
  {
   "cell_type": "code",
   "execution_count": 161,
   "metadata": {},
   "outputs": [
    {
     "data": {
      "text/plain": [
       "array([[<AxesSubplot:title={'center':'tiempo_desde_ult_txn'}>,\n",
       "        <AxesSubplot:title={'center':'antig_cta'}>],\n",
       "       [<AxesSubplot:title={'center':'monto_ult_txn'}>, <AxesSubplot:>]],\n",
       "      dtype=object)"
      ]
     },
     "execution_count": 161,
     "metadata": {},
     "output_type": "execute_result"
    },
    {
     "data": {
      "image/png": "[encoded data removed]",
      "text/plain": [
       "<Figure size 432x288 with 4 Axes>"
      ]
     },
     "metadata": {
      "needs_background": "light"
     },
     "output_type": "display_data"
    }
   ],
   "source": [
    "Xi[best].hist()"
   ]
  },
  {
   "cell_type": "markdown",
   "metadata": {},
   "source": [
    "#### Consideraciones Finales"
   ]
  },
  {
   "cell_type": "code",
   "execution_count": 162,
   "metadata": {},
   "outputs": [
    {
     "data": {
      "text/html": [
       "<style>#sk-container-id-7 {color: black;background-color: white;}#sk-container-id-7 pre{padding: 0;}#sk-container-id-7 div.sk-toggleable {background-color: white;}#sk-container-id-7 label.sk-toggleable__label {cursor: pointer;display: block;width: 100%;margin-bottom: 0;padding: 0.3em;box-sizing: border-box;text-align: center;}#sk-container-id-7 label.sk-toggleable__label-arrow:before {content: \"▸\";float: left;margin-right: 0.25em;color: #696969;}#sk-container-id-7 label.sk-toggleable__label-arrow:hover:before {color: black;}#sk-container-id-7 div.sk-estimator:hover label.sk-toggleable__label-arrow:before {color: black;}#sk-container-id-7 div.sk-toggleable__content {max-height: 0;max-width: 0;overflow: hidden;text-align: left;background-color: #f0f8ff;}#sk-container-id-7 div.sk-toggleable__content pre {margin: 0.2em;color: black;border-radius: 0.25em;background-color: #f0f8ff;}#sk-container-id-7 input.sk-toggleable__control:checked~div.sk-toggleable__content {max-height: 200px;max-width: 100%;overflow: auto;}#sk-container-id-7 input.sk-toggleable__control:checked~label.sk-toggleable__label-arrow:before {content: \"▾\";}#sk-container-id-7 div.sk-estimator input.sk-toggleable__control:checked~label.sk-toggleable__label {background-color: #d4ebff;}#sk-container-id-7 div.sk-label input.sk-toggleable__control:checked~label.sk-toggleable__label {background-color: #d4ebff;}#sk-container-id-7 input.sk-hidden--visually {border: 0;clip: rect(1px 1px 1px 1px);clip: rect(1px, 1px, 1px, 1px);height: 1px;margin: -1px;overflow: hidden;padding: 0;position: absolute;width: 1px;}#sk-container-id-7 div.sk-estimator {font-family: monospace;background-color: #f0f8ff;border: 1px dotted black;border-radius: 0.25em;box-sizing: border-box;margin-bottom: 0.5em;}#sk-container-id-7 div.sk-estimator:hover {background-color: #d4ebff;}#sk-container-id-7 div.sk-parallel-item::after {content: \"\";width: 100%;border-bottom: 1px solid gray;flex-grow: 1;}#sk-container-id-7 div.sk-label:hover label.sk-toggleable__label {background-color: #d4ebff;}#sk-container-id-7 div.sk-serial::before {content: \"\";position: absolute;border-left: 1px solid gray;box-sizing: border-box;top: 0;bottom: 0;left: 50%;z-index: 0;}#sk-container-id-7 div.sk-serial {display: flex;flex-direction: column;align-items: center;background-color: white;padding-right: 0.2em;padding-left: 0.2em;position: relative;}#sk-container-id-7 div.sk-item {position: relative;z-index: 1;}#sk-container-id-7 div.sk-parallel {display: flex;align-items: stretch;justify-content: center;background-color: white;position: relative;}#sk-container-id-7 div.sk-item::before, #sk-container-id-7 div.sk-parallel-item::before {content: \"\";position: absolute;border-left: 1px solid gray;box-sizing: border-box;top: 0;bottom: 0;left: 50%;z-index: -1;}#sk-container-id-7 div.sk-parallel-item {display: flex;flex-direction: column;z-index: 1;position: relative;background-color: white;}#sk-container-id-7 div.sk-parallel-item:first-child::after {align-self: flex-end;width: 50%;}#sk-container-id-7 div.sk-parallel-item:last-child::after {align-self: flex-start;width: 50%;}#sk-container-id-7 div.sk-parallel-item:only-child::after {width: 0;}#sk-container-id-7 div.sk-dashed-wrapped {border: 1px dashed gray;margin: 0 0.4em 0.5em 0.4em;box-sizing: border-box;padding-bottom: 0.4em;background-color: white;}#sk-container-id-7 div.sk-label label {font-family: monospace;font-weight: bold;display: inline-block;line-height: 1.2em;}#sk-container-id-7 div.sk-label-container {text-align: center;}#sk-container-id-7 div.sk-container {/* jupyter's `normalize.less` sets `[hidden] { display: none; }` but bootstrap.min.css set `[hidden] { display: none !important; }` so we also need the `!important` here to be able to override the default hidden behavior on the sphinx rendered scikit-learn.org. See: https://github.com/scikit-learn/scikit-learn/issues/21755 */display: inline-block !important;position: relative;}#sk-container-id-7 div.sk-text-repr-fallback {display: none;}</style><div id=\"sk-container-id-7\" class=\"sk-top-container\"><div class=\"sk-text-repr-fallback\"><pre>SimpleImputer(strategy=&#x27;median&#x27;)</pre><b>In a Jupyter environment, please rerun this cell to show the HTML representation or trust the notebook. <br />On GitHub, the HTML representation is unable to render, please try loading this page with nbviewer.org.</b></div><div class=\"sk-container\" hidden><div class=\"sk-item\"><div class=\"sk-estimator sk-toggleable\"><input class=\"sk-toggleable__control sk-hidden--visually\" id=\"sk-estimator-id-7\" type=\"checkbox\" checked><label for=\"sk-estimator-id-7\" class=\"sk-toggleable__label sk-toggleable__label-arrow\">SimpleImputer</label><div class=\"sk-toggleable__content\"><pre>SimpleImputer(strategy=&#x27;median&#x27;)</pre></div></div></div></div></div>"
      ],
      "text/plain": [
       "SimpleImputer(strategy='median')"
      ]
     },
     "execution_count": 162,
     "metadata": {},
     "output_type": "execute_result"
    }
   ],
   "source": [
    "im.fit(train[best])"
   ]
  },
  {
   "cell_type": "markdown",
   "metadata": {},
   "source": [
    "### Discreto"
   ]
  },
  {
   "cell_type": "code",
   "execution_count": 163,
   "metadata": {},
   "outputs": [],
   "source": [
    "def freq(df:pd.DataFrame,var:list):\n",
    "    if type(var)!=list:\n",
    "        var = [var]\n",
    "    for v in var:\n",
    "        aux = df[v].value_counts().to_frame().sort_index()\n",
    "        aux.columns = ['FA']\n",
    "        aux['FR'] = aux['FA']/aux['FA'].sum()\n",
    "        aux[['FAA','FRA']] = aux.cumsum()\n",
    "        print(f'****Tabla de frecuencias  {v}  ***\\n\\n')\n",
    "        print(aux)\n",
    "        print(\"\\n\"*3)"
   ]
  },
  {
   "cell_type": "code",
   "execution_count": 165,
   "metadata": {},
   "outputs": [],
   "source": [
    "for v in vard:\n",
    "    train[v] = train[v].fillna('MISSING')"
   ]
  },
  {
   "cell_type": "code",
   "execution_count": 166,
   "metadata": {},
   "outputs": [
    {
     "name": "stdout",
     "output_type": "stream",
     "text": [
      "****Tabla de frecuencias  rej_reason  ***\n",
      "\n",
      "\n",
      "                                FA   FR   FAA  FRA\n",
      "Bad PIN                         41 0.01    41 0.01\n",
      "Bad PIN,Insufficient Balance     4 0.00    45 0.02\n",
      "Bad PIN,Technical Glitch         1 0.00    46 0.02\n",
      "Insufficient Balance            33 0.01    79 0.03\n",
      "MISSING                       2717 0.97  2796 1.00\n",
      "Technical Glitch                 4 0.00  2800 1.00\n",
      "\n",
      "\n",
      "\n",
      "\n",
      "****Tabla de frecuencias  txn_type  ***\n",
      "\n",
      "\n",
      "     FA   FR   FAA  FRA\n",
      "C   595 0.21   595 0.21\n",
      "S  2205 0.79  2800 1.00\n",
      "\n",
      "\n",
      "\n",
      "\n",
      "****Tabla de frecuencias  hora  ***\n",
      "\n",
      "\n",
      "     FA   FR   FAA  FRA\n",
      "0    14 0.01    14 0.01\n",
      "1    11 0.00    25 0.01\n",
      "2    12 0.00    37 0.01\n",
      "3    18 0.01    55 0.02\n",
      "4    12 0.00    67 0.02\n",
      "5    26 0.01    93 0.03\n",
      "6    93 0.03   186 0.07\n",
      "7   168 0.06   354 0.13\n",
      "8   170 0.06   524 0.19\n",
      "9   227 0.08   751 0.27\n",
      "10  280 0.10  1031 0.37\n",
      "11  260 0.09  1291 0.46\n",
      "12  250 0.09  1541 0.55\n",
      "13  232 0.08  1773 0.63\n",
      "14  230 0.08  2003 0.72\n",
      "15  185 0.07  2188 0.78\n",
      "16  182 0.07  2370 0.85\n",
      "17   92 0.03  2462 0.88\n",
      "18   94 0.03  2556 0.91\n",
      "19   67 0.02  2623 0.94\n",
      "20   62 0.02  2685 0.96\n",
      "21   43 0.02  2728 0.97\n",
      "22   56 0.02  2784 0.99\n",
      "23   16 0.01  2800 1.00\n",
      "\n",
      "\n",
      "\n",
      "\n",
      "****Tabla de frecuencias  mes  ***\n",
      "\n",
      "\n",
      "     FA   FR   FAA  FRA\n",
      "1   245 0.09   245 0.09\n",
      "2   248 0.09   493 0.18\n",
      "3   240 0.09   733 0.26\n",
      "4   197 0.07   930 0.33\n",
      "5   205 0.07  1135 0.41\n",
      "6   219 0.08  1354 0.48\n",
      "7   221 0.08  1575 0.56\n",
      "8   241 0.09  1816 0.65\n",
      "9   242 0.09  2058 0.73\n",
      "10  240 0.09  2298 0.82\n",
      "11  242 0.09  2540 0.91\n",
      "12  260 0.09  2800 1.00\n",
      "\n",
      "\n",
      "\n",
      "\n",
      "****Tabla de frecuencias  diasem  ***\n",
      "\n",
      "\n",
      "    FA   FR   FAA  FRA\n",
      "D  447 0.16   447 0.16\n",
      "J  451 0.16   898 0.32\n",
      "L  347 0.12  1245 0.44\n",
      "M  406 0.14  1651 0.59\n",
      "S  358 0.13  2009 0.72\n",
      "V  398 0.14  2407 0.86\n",
      "X  393 0.14  2800 1.00\n",
      "\n",
      "\n",
      "\n",
      "\n",
      "****Tabla de frecuencias  horas_frec  ***\n",
      "\n",
      "\n",
      "         FA   FR   FAA  FRA\n",
      "0|10|11   1 0.00     1 0.00\n",
      "0|10|14   4 0.00     5 0.00\n",
      "0|10|15   3 0.00     8 0.00\n",
      "0|10|17   1 0.00     9 0.00\n",
      "0|11|12   2 0.00    11 0.00\n",
      "...      ..  ...   ...  ...\n",
      "9|18|21   6 0.00  2796 1.00\n",
      "9|18|22   1 0.00  2797 1.00\n",
      "9|19|21   1 0.00  2798 1.00\n",
      "9|19|22   1 0.00  2799 1.00\n",
      "9|20|22   1 0.00  2800 1.00\n",
      "\n",
      "[742 rows x 4 columns]\n",
      "\n",
      "\n",
      "\n",
      "\n",
      "****Tabla de frecuencias  dias_frec  ***\n",
      "\n",
      "\n",
      "        FA   FR   FAA  FRA\n",
      "J|S|D   89 0.03    89 0.03\n",
      "J|V|D   81 0.03   170 0.06\n",
      "J|V|S  115 0.04   285 0.10\n",
      "L|J|D   66 0.02   351 0.13\n",
      "L|J|S   62 0.02   413 0.15\n",
      "L|J|V   68 0.02   481 0.17\n",
      "L|M|D  116 0.04   597 0.21\n",
      "L|M|J   69 0.02   666 0.24\n",
      "L|M|S   83 0.03   749 0.27\n",
      "L|M|V   56 0.02   805 0.29\n",
      "L|M|X   99 0.04   904 0.32\n",
      "L|S|D  125 0.04  1029 0.37\n",
      "L|V|D   73 0.03  1102 0.39\n",
      "L|V|S   75 0.03  1177 0.42\n",
      "L|X|D   65 0.02  1242 0.44\n",
      "L|X|J   86 0.03  1328 0.47\n",
      "L|X|S   49 0.02  1377 0.49\n",
      "L|X|V   60 0.02  1437 0.51\n",
      "M|J|D   75 0.03  1512 0.54\n",
      "M|J|S   69 0.02  1581 0.56\n",
      "M|J|V   63 0.02  1644 0.59\n",
      "M|S|D   82 0.03  1726 0.62\n",
      "M|V|D   60 0.02  1786 0.64\n",
      "M|V|S   75 0.03  1861 0.66\n",
      "M|X|D   65 0.02  1926 0.69\n",
      "M|X|J  130 0.05  2056 0.73\n",
      "M|X|S   86 0.03  2142 0.77\n",
      "M|X|V   86 0.03  2228 0.80\n",
      "V|S|D  126 0.04  2354 0.84\n",
      "X|J|D   78 0.03  2432 0.87\n",
      "X|J|S   74 0.03  2506 0.90\n",
      "X|J|V  110 0.04  2616 0.93\n",
      "X|S|D   49 0.02  2665 0.95\n",
      "X|V|D   53 0.02  2718 0.97\n",
      "X|V|S   82 0.03  2800 1.00\n",
      "\n",
      "\n",
      "\n",
      "\n",
      "****Tabla de frecuencias  dif_estado  ***\n",
      "\n",
      "\n",
      "         FA   FR   FAA  FRA\n",
      "False  2319 0.83  2319 0.83\n",
      "True    481 0.17  2800 1.00\n",
      "\n",
      "\n",
      "\n",
      "\n"
     ]
    }
   ],
   "source": [
    "freq(train,vard)"
   ]
  },
  {
   "cell_type": "code",
   "execution_count": 168,
   "metadata": {},
   "outputs": [],
   "source": [
    "def normalizar(df:pd.DataFrame,var:str,umbral:float=0.05)->tuple:\n",
    "    aux = df[var].value_counts(1).to_frame()\n",
    "    aux['map'] = np.where(aux[var]<umbral,'Otros',aux.index)\n",
    "    if aux.loc[aux['map']=='Otros'][var].sum()<umbral:\n",
    "        aux['map'].replace({'Otros':aux.head(1)['map'].values[0]},inplace=True)\n",
    "    aux.drop(var,axis=1,inplace=True)\n",
    "    return var,aux['map'].to_dict()"
   ]
  },
  {
   "cell_type": "code",
   "execution_count": 174,
   "metadata": {},
   "outputs": [],
   "source": [
    "mapa_norm = list(map(lambda v:normalizar(train,v),vard))"
   ]
  },
  {
   "cell_type": "code",
   "execution_count": 176,
   "metadata": {},
   "outputs": [],
   "source": [
    "for v,mapa in mapa_norm:\n",
    "    train[f'n_{v}'] = train[v].map(mapa)"
   ]
  },
  {
   "cell_type": "code",
   "execution_count": 177,
   "metadata": {},
   "outputs": [],
   "source": [
    "varn = [v for v in train.columns if v[:2]=='n_']"
   ]
  },
  {
   "cell_type": "code",
   "execution_count": 179,
   "metadata": {},
   "outputs": [
    {
     "data": {
      "text/plain": [
       "['n_rej_reason', 'n_horas_frec', 'n_dias_frec']"
      ]
     },
     "execution_count": 179,
     "metadata": {},
     "output_type": "execute_result"
    }
   ],
   "source": [
    "unarias = [v for v in varn if train[v].nunique()==1]\n",
    "unarias"
   ]
  },
  {
   "cell_type": "code",
   "execution_count": 180,
   "metadata": {},
   "outputs": [],
   "source": [
    "varn = [v for v in varn if v not in unarias]"
   ]
  },
  {
   "cell_type": "code",
   "execution_count": 181,
   "metadata": {},
   "outputs": [
    {
     "data": {
      "text/plain": [
       "['n_txn_type', 'n_hora', 'n_mes', 'n_diasem', 'n_dif_estado']"
      ]
     },
     "execution_count": 181,
     "metadata": {},
     "output_type": "execute_result"
    }
   ],
   "source": [
    "varn"
   ]
  },
  {
   "cell_type": "markdown",
   "metadata": {},
   "source": [
    "## Espacios Vectoriales a Trabajar"
   ]
  },
  {
   "cell_type": "markdown",
   "metadata": {},
   "source": [
    "### Espacio $\\mathcal{X}$"
   ]
  },
  {
   "cell_type": "code",
   "execution_count": 185,
   "metadata": {},
   "outputs": [
    {
     "data": {
      "text/html": [
       "<div>\n",
       "<style scoped>\n",
       "    .dataframe tbody tr th:only-of-type {\n",
       "        vertical-align: middle;\n",
       "    }\n",
       "\n",
       "    .dataframe tbody tr th {\n",
       "        vertical-align: top;\n",
       "    }\n",
       "\n",
       "    .dataframe thead th {\n",
       "        text-align: right;\n",
       "    }\n",
       "</style>\n",
       "<table border=\"1\" class=\"dataframe\">\n",
       "  <thead>\n",
       "    <tr style=\"text-align: right;\">\n",
       "      <th></th>\n",
       "      <th>id_txn</th>\n",
       "      <th>tiempo_desde_ult_txn</th>\n",
       "      <th>antig_cta</th>\n",
       "      <th>monto_ult_txn</th>\n",
       "      <th>n_txn_type</th>\n",
       "      <th>n_hora</th>\n",
       "      <th>n_mes</th>\n",
       "      <th>n_diasem</th>\n",
       "      <th>n_dif_estado</th>\n",
       "    </tr>\n",
       "  </thead>\n",
       "  <tbody>\n",
       "    <tr>\n",
       "      <th>0</th>\n",
       "      <td>4574298</td>\n",
       "      <td>6240.00</td>\n",
       "      <td>2.40</td>\n",
       "      <td>6.27</td>\n",
       "      <td>S</td>\n",
       "      <td>10</td>\n",
       "      <td>12</td>\n",
       "      <td>S</td>\n",
       "      <td>False</td>\n",
       "    </tr>\n",
       "    <tr>\n",
       "      <th>1</th>\n",
       "      <td>7560347</td>\n",
       "      <td>35940.00</td>\n",
       "      <td>2.40</td>\n",
       "      <td>3.24</td>\n",
       "      <td>C</td>\n",
       "      <td>Otros</td>\n",
       "      <td>2</td>\n",
       "      <td>M</td>\n",
       "      <td>False</td>\n",
       "    </tr>\n",
       "    <tr>\n",
       "      <th>2</th>\n",
       "      <td>9284378</td>\n",
       "      <td>4380.00</td>\n",
       "      <td>1.60</td>\n",
       "      <td>0.55</td>\n",
       "      <td>S</td>\n",
       "      <td>14</td>\n",
       "      <td>6</td>\n",
       "      <td>J</td>\n",
       "      <td>False</td>\n",
       "    </tr>\n",
       "    <tr>\n",
       "      <th>3</th>\n",
       "      <td>8295122</td>\n",
       "      <td>6180.00</td>\n",
       "      <td>17.30</td>\n",
       "      <td>60.31</td>\n",
       "      <td>C</td>\n",
       "      <td>16</td>\n",
       "      <td>4</td>\n",
       "      <td>M</td>\n",
       "      <td>False</td>\n",
       "    </tr>\n",
       "    <tr>\n",
       "      <th>4</th>\n",
       "      <td>16070544</td>\n",
       "      <td>1380.00</td>\n",
       "      <td>2.00</td>\n",
       "      <td>140.00</td>\n",
       "      <td>C</td>\n",
       "      <td>15</td>\n",
       "      <td>5</td>\n",
       "      <td>X</td>\n",
       "      <td>False</td>\n",
       "    </tr>\n",
       "  </tbody>\n",
       "</table>\n",
       "</div>"
      ],
      "text/plain": [
       "     id_txn  tiempo_desde_ult_txn  antig_cta  monto_ult_txn n_txn_type n_hora  \\\n",
       "0   4574298               6240.00       2.40           6.27          S     10   \n",
       "1   7560347              35940.00       2.40           3.24          C  Otros   \n",
       "2   9284378               4380.00       1.60           0.55          S     14   \n",
       "3   8295122               6180.00      17.30          60.31          C     16   \n",
       "4  16070544               1380.00       2.00         140.00          C     15   \n",
       "\n",
       "  n_mes n_diasem n_dif_estado  \n",
       "0    12        S        False  \n",
       "1     2        M        False  \n",
       "2     6        J        False  \n",
       "3     4        M        False  \n",
       "4     5        X        False  "
      ]
     },
     "execution_count": 185,
     "metadata": {},
     "output_type": "execute_result"
    }
   ],
   "source": [
    "X = Xi[um+best].copy().merge(train[um+varn],on=um,how='inner')\n",
    "X.head()"
   ]
  },
  {
   "cell_type": "code",
   "execution_count": 186,
   "metadata": {},
   "outputs": [],
   "source": [
    "oh = OneHotEncoder(drop='if_binary')"
   ]
  },
  {
   "cell_type": "code",
   "execution_count": 187,
   "metadata": {},
   "outputs": [
    {
     "data": {
      "text/html": [
       "<style>#sk-container-id-8 {color: black;background-color: white;}#sk-container-id-8 pre{padding: 0;}#sk-container-id-8 div.sk-toggleable {background-color: white;}#sk-container-id-8 label.sk-toggleable__label {cursor: pointer;display: block;width: 100%;margin-bottom: 0;padding: 0.3em;box-sizing: border-box;text-align: center;}#sk-container-id-8 label.sk-toggleable__label-arrow:before {content: \"▸\";float: left;margin-right: 0.25em;color: #696969;}#sk-container-id-8 label.sk-toggleable__label-arrow:hover:before {color: black;}#sk-container-id-8 div.sk-estimator:hover label.sk-toggleable__label-arrow:before {color: black;}#sk-container-id-8 div.sk-toggleable__content {max-height: 0;max-width: 0;overflow: hidden;text-align: left;background-color: #f0f8ff;}#sk-container-id-8 div.sk-toggleable__content pre {margin: 0.2em;color: black;border-radius: 0.25em;background-color: #f0f8ff;}#sk-container-id-8 input.sk-toggleable__control:checked~div.sk-toggleable__content {max-height: 200px;max-width: 100%;overflow: auto;}#sk-container-id-8 input.sk-toggleable__control:checked~label.sk-toggleable__label-arrow:before {content: \"▾\";}#sk-container-id-8 div.sk-estimator input.sk-toggleable__control:checked~label.sk-toggleable__label {background-color: #d4ebff;}#sk-container-id-8 div.sk-label input.sk-toggleable__control:checked~label.sk-toggleable__label {background-color: #d4ebff;}#sk-container-id-8 input.sk-hidden--visually {border: 0;clip: rect(1px 1px 1px 1px);clip: rect(1px, 1px, 1px, 1px);height: 1px;margin: -1px;overflow: hidden;padding: 0;position: absolute;width: 1px;}#sk-container-id-8 div.sk-estimator {font-family: monospace;background-color: #f0f8ff;border: 1px dotted black;border-radius: 0.25em;box-sizing: border-box;margin-bottom: 0.5em;}#sk-container-id-8 div.sk-estimator:hover {background-color: #d4ebff;}#sk-container-id-8 div.sk-parallel-item::after {content: \"\";width: 100%;border-bottom: 1px solid gray;flex-grow: 1;}#sk-container-id-8 div.sk-label:hover label.sk-toggleable__label {background-color: #d4ebff;}#sk-container-id-8 div.sk-serial::before {content: \"\";position: absolute;border-left: 1px solid gray;box-sizing: border-box;top: 0;bottom: 0;left: 50%;z-index: 0;}#sk-container-id-8 div.sk-serial {display: flex;flex-direction: column;align-items: center;background-color: white;padding-right: 0.2em;padding-left: 0.2em;position: relative;}#sk-container-id-8 div.sk-item {position: relative;z-index: 1;}#sk-container-id-8 div.sk-parallel {display: flex;align-items: stretch;justify-content: center;background-color: white;position: relative;}#sk-container-id-8 div.sk-item::before, #sk-container-id-8 div.sk-parallel-item::before {content: \"\";position: absolute;border-left: 1px solid gray;box-sizing: border-box;top: 0;bottom: 0;left: 50%;z-index: -1;}#sk-container-id-8 div.sk-parallel-item {display: flex;flex-direction: column;z-index: 1;position: relative;background-color: white;}#sk-container-id-8 div.sk-parallel-item:first-child::after {align-self: flex-end;width: 50%;}#sk-container-id-8 div.sk-parallel-item:last-child::after {align-self: flex-start;width: 50%;}#sk-container-id-8 div.sk-parallel-item:only-child::after {width: 0;}#sk-container-id-8 div.sk-dashed-wrapped {border: 1px dashed gray;margin: 0 0.4em 0.5em 0.4em;box-sizing: border-box;padding-bottom: 0.4em;background-color: white;}#sk-container-id-8 div.sk-label label {font-family: monospace;font-weight: bold;display: inline-block;line-height: 1.2em;}#sk-container-id-8 div.sk-label-container {text-align: center;}#sk-container-id-8 div.sk-container {/* jupyter's `normalize.less` sets `[hidden] { display: none; }` but bootstrap.min.css set `[hidden] { display: none !important; }` so we also need the `!important` here to be able to override the default hidden behavior on the sphinx rendered scikit-learn.org. See: https://github.com/scikit-learn/scikit-learn/issues/21755 */display: inline-block !important;position: relative;}#sk-container-id-8 div.sk-text-repr-fallback {display: none;}</style><div id=\"sk-container-id-8\" class=\"sk-top-container\"><div class=\"sk-text-repr-fallback\"><pre>OneHotEncoder(drop=&#x27;if_binary&#x27;)</pre><b>In a Jupyter environment, please rerun this cell to show the HTML representation or trust the notebook. <br />On GitHub, the HTML representation is unable to render, please try loading this page with nbviewer.org.</b></div><div class=\"sk-container\" hidden><div class=\"sk-item\"><div class=\"sk-estimator sk-toggleable\"><input class=\"sk-toggleable__control sk-hidden--visually\" id=\"sk-estimator-id-8\" type=\"checkbox\" checked><label for=\"sk-estimator-id-8\" class=\"sk-toggleable__label sk-toggleable__label-arrow\">OneHotEncoder</label><div class=\"sk-toggleable__content\"><pre>OneHotEncoder(drop=&#x27;if_binary&#x27;)</pre></div></div></div></div></div>"
      ],
      "text/plain": [
       "OneHotEncoder(drop='if_binary')"
      ]
     },
     "execution_count": 187,
     "metadata": {},
     "output_type": "execute_result"
    }
   ],
   "source": [
    "oh.fit(X[varn])"
   ]
  },
  {
   "cell_type": "code",
   "execution_count": 193,
   "metadata": {},
   "outputs": [],
   "source": [
    "X[oh.get_feature_names_out()] = oh.transform(X[varn]).toarray()"
   ]
  },
  {
   "cell_type": "code",
   "execution_count": 195,
   "metadata": {},
   "outputs": [],
   "source": [
    "X.drop(varn,axis=1,inplace=True)"
   ]
  },
  {
   "cell_type": "code",
   "execution_count": 196,
   "metadata": {},
   "outputs": [
    {
     "data": {
      "text/html": [
       "<div>\n",
       "<style scoped>\n",
       "    .dataframe tbody tr th:only-of-type {\n",
       "        vertical-align: middle;\n",
       "    }\n",
       "\n",
       "    .dataframe tbody tr th {\n",
       "        vertical-align: top;\n",
       "    }\n",
       "\n",
       "    .dataframe thead th {\n",
       "        text-align: right;\n",
       "    }\n",
       "</style>\n",
       "<table border=\"1\" class=\"dataframe\">\n",
       "  <thead>\n",
       "    <tr style=\"text-align: right;\">\n",
       "      <th></th>\n",
       "      <th>id_txn</th>\n",
       "      <th>tiempo_desde_ult_txn</th>\n",
       "      <th>antig_cta</th>\n",
       "      <th>monto_ult_txn</th>\n",
       "      <th>n_txn_type_S</th>\n",
       "      <th>n_hora_10</th>\n",
       "      <th>n_hora_11</th>\n",
       "      <th>n_hora_12</th>\n",
       "      <th>n_hora_13</th>\n",
       "      <th>n_hora_14</th>\n",
       "      <th>n_hora_15</th>\n",
       "      <th>n_hora_16</th>\n",
       "      <th>n_hora_7</th>\n",
       "      <th>n_hora_8</th>\n",
       "      <th>n_hora_9</th>\n",
       "      <th>n_hora_Otros</th>\n",
       "      <th>n_mes_1</th>\n",
       "      <th>n_mes_10</th>\n",
       "      <th>n_mes_11</th>\n",
       "      <th>n_mes_12</th>\n",
       "      <th>n_mes_2</th>\n",
       "      <th>n_mes_3</th>\n",
       "      <th>n_mes_4</th>\n",
       "      <th>n_mes_5</th>\n",
       "      <th>n_mes_6</th>\n",
       "      <th>n_mes_7</th>\n",
       "      <th>n_mes_8</th>\n",
       "      <th>n_mes_9</th>\n",
       "      <th>n_diasem_D</th>\n",
       "      <th>n_diasem_J</th>\n",
       "      <th>n_diasem_L</th>\n",
       "      <th>n_diasem_M</th>\n",
       "      <th>n_diasem_S</th>\n",
       "      <th>n_diasem_V</th>\n",
       "      <th>n_diasem_X</th>\n",
       "      <th>n_dif_estado_True</th>\n",
       "    </tr>\n",
       "  </thead>\n",
       "  <tbody>\n",
       "    <tr>\n",
       "      <th>0</th>\n",
       "      <td>4574298</td>\n",
       "      <td>6240.00</td>\n",
       "      <td>2.40</td>\n",
       "      <td>6.27</td>\n",
       "      <td>1.00</td>\n",
       "      <td>1.00</td>\n",
       "      <td>0.00</td>\n",
       "      <td>0.00</td>\n",
       "      <td>0.00</td>\n",
       "      <td>0.00</td>\n",
       "      <td>0.00</td>\n",
       "      <td>0.00</td>\n",
       "      <td>0.00</td>\n",
       "      <td>0.00</td>\n",
       "      <td>0.00</td>\n",
       "      <td>0.00</td>\n",
       "      <td>0.00</td>\n",
       "      <td>0.00</td>\n",
       "      <td>0.00</td>\n",
       "      <td>1.00</td>\n",
       "      <td>0.00</td>\n",
       "      <td>0.00</td>\n",
       "      <td>0.00</td>\n",
       "      <td>0.00</td>\n",
       "      <td>0.00</td>\n",
       "      <td>0.00</td>\n",
       "      <td>0.00</td>\n",
       "      <td>0.00</td>\n",
       "      <td>0.00</td>\n",
       "      <td>0.00</td>\n",
       "      <td>0.00</td>\n",
       "      <td>0.00</td>\n",
       "      <td>1.00</td>\n",
       "      <td>0.00</td>\n",
       "      <td>0.00</td>\n",
       "      <td>0.00</td>\n",
       "    </tr>\n",
       "    <tr>\n",
       "      <th>1</th>\n",
       "      <td>7560347</td>\n",
       "      <td>35940.00</td>\n",
       "      <td>2.40</td>\n",
       "      <td>3.24</td>\n",
       "      <td>0.00</td>\n",
       "      <td>0.00</td>\n",
       "      <td>0.00</td>\n",
       "      <td>0.00</td>\n",
       "      <td>0.00</td>\n",
       "      <td>0.00</td>\n",
       "      <td>0.00</td>\n",
       "      <td>0.00</td>\n",
       "      <td>0.00</td>\n",
       "      <td>0.00</td>\n",
       "      <td>0.00</td>\n",
       "      <td>1.00</td>\n",
       "      <td>0.00</td>\n",
       "      <td>0.00</td>\n",
       "      <td>0.00</td>\n",
       "      <td>0.00</td>\n",
       "      <td>1.00</td>\n",
       "      <td>0.00</td>\n",
       "      <td>0.00</td>\n",
       "      <td>0.00</td>\n",
       "      <td>0.00</td>\n",
       "      <td>0.00</td>\n",
       "      <td>0.00</td>\n",
       "      <td>0.00</td>\n",
       "      <td>0.00</td>\n",
       "      <td>0.00</td>\n",
       "      <td>0.00</td>\n",
       "      <td>1.00</td>\n",
       "      <td>0.00</td>\n",
       "      <td>0.00</td>\n",
       "      <td>0.00</td>\n",
       "      <td>0.00</td>\n",
       "    </tr>\n",
       "    <tr>\n",
       "      <th>2</th>\n",
       "      <td>9284378</td>\n",
       "      <td>4380.00</td>\n",
       "      <td>1.60</td>\n",
       "      <td>0.55</td>\n",
       "      <td>1.00</td>\n",
       "      <td>0.00</td>\n",
       "      <td>0.00</td>\n",
       "      <td>0.00</td>\n",
       "      <td>0.00</td>\n",
       "      <td>1.00</td>\n",
       "      <td>0.00</td>\n",
       "      <td>0.00</td>\n",
       "      <td>0.00</td>\n",
       "      <td>0.00</td>\n",
       "      <td>0.00</td>\n",
       "      <td>0.00</td>\n",
       "      <td>0.00</td>\n",
       "      <td>0.00</td>\n",
       "      <td>0.00</td>\n",
       "      <td>0.00</td>\n",
       "      <td>0.00</td>\n",
       "      <td>0.00</td>\n",
       "      <td>0.00</td>\n",
       "      <td>0.00</td>\n",
       "      <td>1.00</td>\n",
       "      <td>0.00</td>\n",
       "      <td>0.00</td>\n",
       "      <td>0.00</td>\n",
       "      <td>0.00</td>\n",
       "      <td>1.00</td>\n",
       "      <td>0.00</td>\n",
       "      <td>0.00</td>\n",
       "      <td>0.00</td>\n",
       "      <td>0.00</td>\n",
       "      <td>0.00</td>\n",
       "      <td>0.00</td>\n",
       "    </tr>\n",
       "    <tr>\n",
       "      <th>3</th>\n",
       "      <td>8295122</td>\n",
       "      <td>6180.00</td>\n",
       "      <td>17.30</td>\n",
       "      <td>60.31</td>\n",
       "      <td>0.00</td>\n",
       "      <td>0.00</td>\n",
       "      <td>0.00</td>\n",
       "      <td>0.00</td>\n",
       "      <td>0.00</td>\n",
       "      <td>0.00</td>\n",
       "      <td>0.00</td>\n",
       "      <td>1.00</td>\n",
       "      <td>0.00</td>\n",
       "      <td>0.00</td>\n",
       "      <td>0.00</td>\n",
       "      <td>0.00</td>\n",
       "      <td>0.00</td>\n",
       "      <td>0.00</td>\n",
       "      <td>0.00</td>\n",
       "      <td>0.00</td>\n",
       "      <td>0.00</td>\n",
       "      <td>0.00</td>\n",
       "      <td>1.00</td>\n",
       "      <td>0.00</td>\n",
       "      <td>0.00</td>\n",
       "      <td>0.00</td>\n",
       "      <td>0.00</td>\n",
       "      <td>0.00</td>\n",
       "      <td>0.00</td>\n",
       "      <td>0.00</td>\n",
       "      <td>0.00</td>\n",
       "      <td>1.00</td>\n",
       "      <td>0.00</td>\n",
       "      <td>0.00</td>\n",
       "      <td>0.00</td>\n",
       "      <td>0.00</td>\n",
       "    </tr>\n",
       "    <tr>\n",
       "      <th>4</th>\n",
       "      <td>16070544</td>\n",
       "      <td>1380.00</td>\n",
       "      <td>2.00</td>\n",
       "      <td>140.00</td>\n",
       "      <td>0.00</td>\n",
       "      <td>0.00</td>\n",
       "      <td>0.00</td>\n",
       "      <td>0.00</td>\n",
       "      <td>0.00</td>\n",
       "      <td>0.00</td>\n",
       "      <td>1.00</td>\n",
       "      <td>0.00</td>\n",
       "      <td>0.00</td>\n",
       "      <td>0.00</td>\n",
       "      <td>0.00</td>\n",
       "      <td>0.00</td>\n",
       "      <td>0.00</td>\n",
       "      <td>0.00</td>\n",
       "      <td>0.00</td>\n",
       "      <td>0.00</td>\n",
       "      <td>0.00</td>\n",
       "      <td>0.00</td>\n",
       "      <td>0.00</td>\n",
       "      <td>1.00</td>\n",
       "      <td>0.00</td>\n",
       "      <td>0.00</td>\n",
       "      <td>0.00</td>\n",
       "      <td>0.00</td>\n",
       "      <td>0.00</td>\n",
       "      <td>0.00</td>\n",
       "      <td>0.00</td>\n",
       "      <td>0.00</td>\n",
       "      <td>0.00</td>\n",
       "      <td>0.00</td>\n",
       "      <td>1.00</td>\n",
       "      <td>0.00</td>\n",
       "    </tr>\n",
       "  </tbody>\n",
       "</table>\n",
       "</div>"
      ],
      "text/plain": [
       "     id_txn  tiempo_desde_ult_txn  antig_cta  monto_ult_txn  n_txn_type_S  \\\n",
       "0   4574298               6240.00       2.40           6.27          1.00   \n",
       "1   7560347              35940.00       2.40           3.24          0.00   \n",
       "2   9284378               4380.00       1.60           0.55          1.00   \n",
       "3   8295122               6180.00      17.30          60.31          0.00   \n",
       "4  16070544               1380.00       2.00         140.00          0.00   \n",
       "\n",
       "   n_hora_10  n_hora_11  n_hora_12  n_hora_13  n_hora_14  n_hora_15  \\\n",
       "0       1.00       0.00       0.00       0.00       0.00       0.00   \n",
       "1       0.00       0.00       0.00       0.00       0.00       0.00   \n",
       "2       0.00       0.00       0.00       0.00       1.00       0.00   \n",
       "3       0.00       0.00       0.00       0.00       0.00       0.00   \n",
       "4       0.00       0.00       0.00       0.00       0.00       1.00   \n",
       "\n",
       "   n_hora_16  n_hora_7  n_hora_8  n_hora_9  n_hora_Otros  n_mes_1  n_mes_10  \\\n",
       "0       0.00      0.00      0.00      0.00          0.00     0.00      0.00   \n",
       "1       0.00      0.00      0.00      0.00          1.00     0.00      0.00   \n",
       "2       0.00      0.00      0.00      0.00          0.00     0.00      0.00   \n",
       "3       1.00      0.00      0.00      0.00          0.00     0.00      0.00   \n",
       "4       0.00      0.00      0.00      0.00          0.00     0.00      0.00   \n",
       "\n",
       "   n_mes_11  n_mes_12  n_mes_2  n_mes_3  n_mes_4  n_mes_5  n_mes_6  n_mes_7  \\\n",
       "0      0.00      1.00     0.00     0.00     0.00     0.00     0.00     0.00   \n",
       "1      0.00      0.00     1.00     0.00     0.00     0.00     0.00     0.00   \n",
       "2      0.00      0.00     0.00     0.00     0.00     0.00     1.00     0.00   \n",
       "3      0.00      0.00     0.00     0.00     1.00     0.00     0.00     0.00   \n",
       "4      0.00      0.00     0.00     0.00     0.00     1.00     0.00     0.00   \n",
       "\n",
       "   n_mes_8  n_mes_9  n_diasem_D  n_diasem_J  n_diasem_L  n_diasem_M  \\\n",
       "0     0.00     0.00        0.00        0.00        0.00        0.00   \n",
       "1     0.00     0.00        0.00        0.00        0.00        1.00   \n",
       "2     0.00     0.00        0.00        1.00        0.00        0.00   \n",
       "3     0.00     0.00        0.00        0.00        0.00        1.00   \n",
       "4     0.00     0.00        0.00        0.00        0.00        0.00   \n",
       "\n",
       "   n_diasem_S  n_diasem_V  n_diasem_X  n_dif_estado_True  \n",
       "0        1.00        0.00        0.00               0.00  \n",
       "1        0.00        0.00        0.00               0.00  \n",
       "2        0.00        0.00        0.00               0.00  \n",
       "3        0.00        0.00        0.00               0.00  \n",
       "4        0.00        0.00        1.00               0.00  "
      ]
     },
     "execution_count": 196,
     "metadata": {},
     "output_type": "execute_result"
    }
   ],
   "source": [
    "X.head()"
   ]
  },
  {
   "cell_type": "code",
   "execution_count": 197,
   "metadata": {},
   "outputs": [],
   "source": [
    "var = best+list(oh.get_feature_names_out())"
   ]
  },
  {
   "cell_type": "markdown",
   "metadata": {},
   "source": [
    "### Espacio $\\mathcal{X}_{[0,1]}$"
   ]
  },
  {
   "cell_type": "code",
   "execution_count": 203,
   "metadata": {},
   "outputs": [],
   "source": [
    "sc01 = MinMaxScaler()\n",
    "sc01.fit(X[var])\n",
    "X01 = pd.DataFrame(sc01.transform(X[var]),columns=var)\n",
    "X01.insert(0,um[0],X[um])"
   ]
  },
  {
   "cell_type": "code",
   "execution_count": 205,
   "metadata": {},
   "outputs": [
    {
     "data": {
      "text/html": [
       "<div>\n",
       "<style scoped>\n",
       "    .dataframe tbody tr th:only-of-type {\n",
       "        vertical-align: middle;\n",
       "    }\n",
       "\n",
       "    .dataframe tbody tr th {\n",
       "        vertical-align: top;\n",
       "    }\n",
       "\n",
       "    .dataframe thead th {\n",
       "        text-align: right;\n",
       "    }\n",
       "</style>\n",
       "<table border=\"1\" class=\"dataframe\">\n",
       "  <thead>\n",
       "    <tr style=\"text-align: right;\">\n",
       "      <th></th>\n",
       "      <th>tiempo_desde_ult_txn</th>\n",
       "      <th>antig_cta</th>\n",
       "      <th>monto_ult_txn</th>\n",
       "      <th>n_txn_type_S</th>\n",
       "      <th>n_hora_10</th>\n",
       "      <th>n_hora_11</th>\n",
       "      <th>n_hora_12</th>\n",
       "      <th>n_hora_13</th>\n",
       "      <th>n_hora_14</th>\n",
       "      <th>n_hora_15</th>\n",
       "      <th>n_hora_16</th>\n",
       "      <th>n_hora_7</th>\n",
       "      <th>n_hora_8</th>\n",
       "      <th>n_hora_9</th>\n",
       "      <th>n_hora_Otros</th>\n",
       "      <th>n_mes_1</th>\n",
       "      <th>n_mes_10</th>\n",
       "      <th>n_mes_11</th>\n",
       "      <th>n_mes_12</th>\n",
       "      <th>n_mes_2</th>\n",
       "      <th>n_mes_3</th>\n",
       "      <th>n_mes_4</th>\n",
       "      <th>n_mes_5</th>\n",
       "      <th>n_mes_6</th>\n",
       "      <th>n_mes_7</th>\n",
       "      <th>n_mes_8</th>\n",
       "      <th>n_mes_9</th>\n",
       "      <th>n_diasem_D</th>\n",
       "      <th>n_diasem_J</th>\n",
       "      <th>n_diasem_L</th>\n",
       "      <th>n_diasem_M</th>\n",
       "      <th>n_diasem_S</th>\n",
       "      <th>n_diasem_V</th>\n",
       "      <th>n_diasem_X</th>\n",
       "      <th>n_dif_estado_True</th>\n",
       "    </tr>\n",
       "  </thead>\n",
       "  <tbody>\n",
       "    <tr>\n",
       "      <th>count</th>\n",
       "      <td>2751.00</td>\n",
       "      <td>2751.00</td>\n",
       "      <td>2751.00</td>\n",
       "      <td>2751.00</td>\n",
       "      <td>2751.00</td>\n",
       "      <td>2751.00</td>\n",
       "      <td>2751.00</td>\n",
       "      <td>2751.00</td>\n",
       "      <td>2751.00</td>\n",
       "      <td>2751.00</td>\n",
       "      <td>2751.00</td>\n",
       "      <td>2751.00</td>\n",
       "      <td>2751.00</td>\n",
       "      <td>2751.00</td>\n",
       "      <td>2751.00</td>\n",
       "      <td>2751.00</td>\n",
       "      <td>2751.00</td>\n",
       "      <td>2751.00</td>\n",
       "      <td>2751.00</td>\n",
       "      <td>2751.00</td>\n",
       "      <td>2751.00</td>\n",
       "      <td>2751.00</td>\n",
       "      <td>2751.00</td>\n",
       "      <td>2751.00</td>\n",
       "      <td>2751.00</td>\n",
       "      <td>2751.00</td>\n",
       "      <td>2751.00</td>\n",
       "      <td>2751.00</td>\n",
       "      <td>2751.00</td>\n",
       "      <td>2751.00</td>\n",
       "      <td>2751.00</td>\n",
       "      <td>2751.00</td>\n",
       "      <td>2751.00</td>\n",
       "      <td>2751.00</td>\n",
       "      <td>2751.00</td>\n",
       "    </tr>\n",
       "    <tr>\n",
       "      <th>mean</th>\n",
       "      <td>0.11</td>\n",
       "      <td>0.22</td>\n",
       "      <td>0.46</td>\n",
       "      <td>0.79</td>\n",
       "      <td>0.10</td>\n",
       "      <td>0.09</td>\n",
       "      <td>0.09</td>\n",
       "      <td>0.08</td>\n",
       "      <td>0.08</td>\n",
       "      <td>0.07</td>\n",
       "      <td>0.07</td>\n",
       "      <td>0.06</td>\n",
       "      <td>0.06</td>\n",
       "      <td>0.08</td>\n",
       "      <td>0.22</td>\n",
       "      <td>0.09</td>\n",
       "      <td>0.09</td>\n",
       "      <td>0.09</td>\n",
       "      <td>0.09</td>\n",
       "      <td>0.09</td>\n",
       "      <td>0.09</td>\n",
       "      <td>0.07</td>\n",
       "      <td>0.07</td>\n",
       "      <td>0.08</td>\n",
       "      <td>0.08</td>\n",
       "      <td>0.08</td>\n",
       "      <td>0.09</td>\n",
       "      <td>0.16</td>\n",
       "      <td>0.16</td>\n",
       "      <td>0.13</td>\n",
       "      <td>0.14</td>\n",
       "      <td>0.13</td>\n",
       "      <td>0.14</td>\n",
       "      <td>0.14</td>\n",
       "      <td>0.17</td>\n",
       "    </tr>\n",
       "    <tr>\n",
       "      <th>std</th>\n",
       "      <td>0.14</td>\n",
       "      <td>0.17</td>\n",
       "      <td>0.07</td>\n",
       "      <td>0.41</td>\n",
       "      <td>0.30</td>\n",
       "      <td>0.29</td>\n",
       "      <td>0.28</td>\n",
       "      <td>0.28</td>\n",
       "      <td>0.27</td>\n",
       "      <td>0.25</td>\n",
       "      <td>0.25</td>\n",
       "      <td>0.24</td>\n",
       "      <td>0.24</td>\n",
       "      <td>0.27</td>\n",
       "      <td>0.41</td>\n",
       "      <td>0.28</td>\n",
       "      <td>0.28</td>\n",
       "      <td>0.28</td>\n",
       "      <td>0.29</td>\n",
       "      <td>0.28</td>\n",
       "      <td>0.28</td>\n",
       "      <td>0.25</td>\n",
       "      <td>0.26</td>\n",
       "      <td>0.27</td>\n",
       "      <td>0.27</td>\n",
       "      <td>0.28</td>\n",
       "      <td>0.28</td>\n",
       "      <td>0.37</td>\n",
       "      <td>0.37</td>\n",
       "      <td>0.33</td>\n",
       "      <td>0.35</td>\n",
       "      <td>0.33</td>\n",
       "      <td>0.35</td>\n",
       "      <td>0.35</td>\n",
       "      <td>0.38</td>\n",
       "    </tr>\n",
       "    <tr>\n",
       "      <th>min</th>\n",
       "      <td>0.00</td>\n",
       "      <td>0.00</td>\n",
       "      <td>0.00</td>\n",
       "      <td>0.00</td>\n",
       "      <td>0.00</td>\n",
       "      <td>0.00</td>\n",
       "      <td>0.00</td>\n",
       "      <td>0.00</td>\n",
       "      <td>0.00</td>\n",
       "      <td>0.00</td>\n",
       "      <td>0.00</td>\n",
       "      <td>0.00</td>\n",
       "      <td>0.00</td>\n",
       "      <td>0.00</td>\n",
       "      <td>0.00</td>\n",
       "      <td>0.00</td>\n",
       "      <td>0.00</td>\n",
       "      <td>0.00</td>\n",
       "      <td>0.00</td>\n",
       "      <td>0.00</td>\n",
       "      <td>0.00</td>\n",
       "      <td>0.00</td>\n",
       "      <td>0.00</td>\n",
       "      <td>0.00</td>\n",
       "      <td>0.00</td>\n",
       "      <td>0.00</td>\n",
       "      <td>0.00</td>\n",
       "      <td>0.00</td>\n",
       "      <td>0.00</td>\n",
       "      <td>0.00</td>\n",
       "      <td>0.00</td>\n",
       "      <td>0.00</td>\n",
       "      <td>0.00</td>\n",
       "      <td>0.00</td>\n",
       "      <td>0.00</td>\n",
       "    </tr>\n",
       "    <tr>\n",
       "      <th>25%</th>\n",
       "      <td>0.01</td>\n",
       "      <td>0.08</td>\n",
       "      <td>0.43</td>\n",
       "      <td>1.00</td>\n",
       "      <td>0.00</td>\n",
       "      <td>0.00</td>\n",
       "      <td>0.00</td>\n",
       "      <td>0.00</td>\n",
       "      <td>0.00</td>\n",
       "      <td>0.00</td>\n",
       "      <td>0.00</td>\n",
       "      <td>0.00</td>\n",
       "      <td>0.00</td>\n",
       "      <td>0.00</td>\n",
       "      <td>0.00</td>\n",
       "      <td>0.00</td>\n",
       "      <td>0.00</td>\n",
       "      <td>0.00</td>\n",
       "      <td>0.00</td>\n",
       "      <td>0.00</td>\n",
       "      <td>0.00</td>\n",
       "      <td>0.00</td>\n",
       "      <td>0.00</td>\n",
       "      <td>0.00</td>\n",
       "      <td>0.00</td>\n",
       "      <td>0.00</td>\n",
       "      <td>0.00</td>\n",
       "      <td>0.00</td>\n",
       "      <td>0.00</td>\n",
       "      <td>0.00</td>\n",
       "      <td>0.00</td>\n",
       "      <td>0.00</td>\n",
       "      <td>0.00</td>\n",
       "      <td>0.00</td>\n",
       "      <td>0.00</td>\n",
       "    </tr>\n",
       "    <tr>\n",
       "      <th>50%</th>\n",
       "      <td>0.05</td>\n",
       "      <td>0.18</td>\n",
       "      <td>0.45</td>\n",
       "      <td>1.00</td>\n",
       "      <td>0.00</td>\n",
       "      <td>0.00</td>\n",
       "      <td>0.00</td>\n",
       "      <td>0.00</td>\n",
       "      <td>0.00</td>\n",
       "      <td>0.00</td>\n",
       "      <td>0.00</td>\n",
       "      <td>0.00</td>\n",
       "      <td>0.00</td>\n",
       "      <td>0.00</td>\n",
       "      <td>0.00</td>\n",
       "      <td>0.00</td>\n",
       "      <td>0.00</td>\n",
       "      <td>0.00</td>\n",
       "      <td>0.00</td>\n",
       "      <td>0.00</td>\n",
       "      <td>0.00</td>\n",
       "      <td>0.00</td>\n",
       "      <td>0.00</td>\n",
       "      <td>0.00</td>\n",
       "      <td>0.00</td>\n",
       "      <td>0.00</td>\n",
       "      <td>0.00</td>\n",
       "      <td>0.00</td>\n",
       "      <td>0.00</td>\n",
       "      <td>0.00</td>\n",
       "      <td>0.00</td>\n",
       "      <td>0.00</td>\n",
       "      <td>0.00</td>\n",
       "      <td>0.00</td>\n",
       "      <td>0.00</td>\n",
       "    </tr>\n",
       "    <tr>\n",
       "      <th>75%</th>\n",
       "      <td>0.17</td>\n",
       "      <td>0.31</td>\n",
       "      <td>0.48</td>\n",
       "      <td>1.00</td>\n",
       "      <td>0.00</td>\n",
       "      <td>0.00</td>\n",
       "      <td>0.00</td>\n",
       "      <td>0.00</td>\n",
       "      <td>0.00</td>\n",
       "      <td>0.00</td>\n",
       "      <td>0.00</td>\n",
       "      <td>0.00</td>\n",
       "      <td>0.00</td>\n",
       "      <td>0.00</td>\n",
       "      <td>0.00</td>\n",
       "      <td>0.00</td>\n",
       "      <td>0.00</td>\n",
       "      <td>0.00</td>\n",
       "      <td>0.00</td>\n",
       "      <td>0.00</td>\n",
       "      <td>0.00</td>\n",
       "      <td>0.00</td>\n",
       "      <td>0.00</td>\n",
       "      <td>0.00</td>\n",
       "      <td>0.00</td>\n",
       "      <td>0.00</td>\n",
       "      <td>0.00</td>\n",
       "      <td>0.00</td>\n",
       "      <td>0.00</td>\n",
       "      <td>0.00</td>\n",
       "      <td>0.00</td>\n",
       "      <td>0.00</td>\n",
       "      <td>0.00</td>\n",
       "      <td>0.00</td>\n",
       "      <td>0.00</td>\n",
       "    </tr>\n",
       "    <tr>\n",
       "      <th>max</th>\n",
       "      <td>1.00</td>\n",
       "      <td>1.00</td>\n",
       "      <td>1.00</td>\n",
       "      <td>1.00</td>\n",
       "      <td>1.00</td>\n",
       "      <td>1.00</td>\n",
       "      <td>1.00</td>\n",
       "      <td>1.00</td>\n",
       "      <td>1.00</td>\n",
       "      <td>1.00</td>\n",
       "      <td>1.00</td>\n",
       "      <td>1.00</td>\n",
       "      <td>1.00</td>\n",
       "      <td>1.00</td>\n",
       "      <td>1.00</td>\n",
       "      <td>1.00</td>\n",
       "      <td>1.00</td>\n",
       "      <td>1.00</td>\n",
       "      <td>1.00</td>\n",
       "      <td>1.00</td>\n",
       "      <td>1.00</td>\n",
       "      <td>1.00</td>\n",
       "      <td>1.00</td>\n",
       "      <td>1.00</td>\n",
       "      <td>1.00</td>\n",
       "      <td>1.00</td>\n",
       "      <td>1.00</td>\n",
       "      <td>1.00</td>\n",
       "      <td>1.00</td>\n",
       "      <td>1.00</td>\n",
       "      <td>1.00</td>\n",
       "      <td>1.00</td>\n",
       "      <td>1.00</td>\n",
       "      <td>1.00</td>\n",
       "      <td>1.00</td>\n",
       "    </tr>\n",
       "  </tbody>\n",
       "</table>\n",
       "</div>"
      ],
      "text/plain": [
       "       tiempo_desde_ult_txn  antig_cta  monto_ult_txn  n_txn_type_S  \\\n",
       "count               2751.00    2751.00        2751.00       2751.00   \n",
       "mean                   0.11       0.22           0.46          0.79   \n",
       "std                    0.14       0.17           0.07          0.41   \n",
       "min                    0.00       0.00           0.00          0.00   \n",
       "25%                    0.01       0.08           0.43          1.00   \n",
       "50%                    0.05       0.18           0.45          1.00   \n",
       "75%                    0.17       0.31           0.48          1.00   \n",
       "max                    1.00       1.00           1.00          1.00   \n",
       "\n",
       "       n_hora_10  n_hora_11  n_hora_12  n_hora_13  n_hora_14  n_hora_15  \\\n",
       "count    2751.00    2751.00    2751.00    2751.00    2751.00    2751.00   \n",
       "mean        0.10       0.09       0.09       0.08       0.08       0.07   \n",
       "std         0.30       0.29       0.28       0.28       0.27       0.25   \n",
       "min         0.00       0.00       0.00       0.00       0.00       0.00   \n",
       "25%         0.00       0.00       0.00       0.00       0.00       0.00   \n",
       "50%         0.00       0.00       0.00       0.00       0.00       0.00   \n",
       "75%         0.00       0.00       0.00       0.00       0.00       0.00   \n",
       "max         1.00       1.00       1.00       1.00       1.00       1.00   \n",
       "\n",
       "       n_hora_16  n_hora_7  n_hora_8  n_hora_9  n_hora_Otros  n_mes_1  \\\n",
       "count    2751.00   2751.00   2751.00   2751.00       2751.00  2751.00   \n",
       "mean        0.07      0.06      0.06      0.08          0.22     0.09   \n",
       "std         0.25      0.24      0.24      0.27          0.41     0.28   \n",
       "min         0.00      0.00      0.00      0.00          0.00     0.00   \n",
       "25%         0.00      0.00      0.00      0.00          0.00     0.00   \n",
       "50%         0.00      0.00      0.00      0.00          0.00     0.00   \n",
       "75%         0.00      0.00      0.00      0.00          0.00     0.00   \n",
       "max         1.00      1.00      1.00      1.00          1.00     1.00   \n",
       "\n",
       "       n_mes_10  n_mes_11  n_mes_12  n_mes_2  n_mes_3  n_mes_4  n_mes_5  \\\n",
       "count   2751.00   2751.00   2751.00  2751.00  2751.00  2751.00  2751.00   \n",
       "mean       0.09      0.09      0.09     0.09     0.09     0.07     0.07   \n",
       "std        0.28      0.28      0.29     0.28     0.28     0.25     0.26   \n",
       "min        0.00      0.00      0.00     0.00     0.00     0.00     0.00   \n",
       "25%        0.00      0.00      0.00     0.00     0.00     0.00     0.00   \n",
       "50%        0.00      0.00      0.00     0.00     0.00     0.00     0.00   \n",
       "75%        0.00      0.00      0.00     0.00     0.00     0.00     0.00   \n",
       "max        1.00      1.00      1.00     1.00     1.00     1.00     1.00   \n",
       "\n",
       "       n_mes_6  n_mes_7  n_mes_8  n_mes_9  n_diasem_D  n_diasem_J  n_diasem_L  \\\n",
       "count  2751.00  2751.00  2751.00  2751.00     2751.00     2751.00     2751.00   \n",
       "mean      0.08     0.08     0.08     0.09        0.16        0.16        0.13   \n",
       "std       0.27     0.27     0.28     0.28        0.37        0.37        0.33   \n",
       "min       0.00     0.00     0.00     0.00        0.00        0.00        0.00   \n",
       "25%       0.00     0.00     0.00     0.00        0.00        0.00        0.00   \n",
       "50%       0.00     0.00     0.00     0.00        0.00        0.00        0.00   \n",
       "75%       0.00     0.00     0.00     0.00        0.00        0.00        0.00   \n",
       "max       1.00     1.00     1.00     1.00        1.00        1.00        1.00   \n",
       "\n",
       "       n_diasem_M  n_diasem_S  n_diasem_V  n_diasem_X  n_dif_estado_True  \n",
       "count     2751.00     2751.00     2751.00     2751.00            2751.00  \n",
       "mean         0.14        0.13        0.14        0.14               0.17  \n",
       "std          0.35        0.33        0.35        0.35               0.38  \n",
       "min          0.00        0.00        0.00        0.00               0.00  \n",
       "25%          0.00        0.00        0.00        0.00               0.00  \n",
       "50%          0.00        0.00        0.00        0.00               0.00  \n",
       "75%          0.00        0.00        0.00        0.00               0.00  \n",
       "max          1.00        1.00        1.00        1.00               1.00  "
      ]
     },
     "execution_count": 205,
     "metadata": {},
     "output_type": "execute_result"
    }
   ],
   "source": [
    "X01[var].describe()"
   ]
  },
  {
   "cell_type": "markdown",
   "metadata": {},
   "source": [
    "### Espacio estandarizado ($\\mu=0;\\sigma=1$) $\\mathcal{X}_s$"
   ]
  },
  {
   "cell_type": "code",
   "execution_count": 206,
   "metadata": {},
   "outputs": [],
   "source": [
    "sc = StandardScaler()\n",
    "sc.fit(X[var])\n",
    "Xs = pd.DataFrame(sc.transform(X[var]),columns=var)\n",
    "Xs.insert(0,um[0],X[um])"
   ]
  },
  {
   "cell_type": "code",
   "execution_count": 207,
   "metadata": {},
   "outputs": [
    {
     "data": {
      "text/html": [
       "<div>\n",
       "<style scoped>\n",
       "    .dataframe tbody tr th:only-of-type {\n",
       "        vertical-align: middle;\n",
       "    }\n",
       "\n",
       "    .dataframe tbody tr th {\n",
       "        vertical-align: top;\n",
       "    }\n",
       "\n",
       "    .dataframe thead th {\n",
       "        text-align: right;\n",
       "    }\n",
       "</style>\n",
       "<table border=\"1\" class=\"dataframe\">\n",
       "  <thead>\n",
       "    <tr style=\"text-align: right;\">\n",
       "      <th></th>\n",
       "      <th>id_txn</th>\n",
       "      <th>tiempo_desde_ult_txn</th>\n",
       "      <th>antig_cta</th>\n",
       "      <th>monto_ult_txn</th>\n",
       "      <th>n_txn_type_S</th>\n",
       "      <th>n_hora_10</th>\n",
       "      <th>n_hora_11</th>\n",
       "      <th>n_hora_12</th>\n",
       "      <th>n_hora_13</th>\n",
       "      <th>n_hora_14</th>\n",
       "      <th>n_hora_15</th>\n",
       "      <th>n_hora_16</th>\n",
       "      <th>n_hora_7</th>\n",
       "      <th>n_hora_8</th>\n",
       "      <th>n_hora_9</th>\n",
       "      <th>n_hora_Otros</th>\n",
       "      <th>n_mes_1</th>\n",
       "      <th>n_mes_10</th>\n",
       "      <th>n_mes_11</th>\n",
       "      <th>n_mes_12</th>\n",
       "      <th>n_mes_2</th>\n",
       "      <th>n_mes_3</th>\n",
       "      <th>n_mes_4</th>\n",
       "      <th>n_mes_5</th>\n",
       "      <th>n_mes_6</th>\n",
       "      <th>n_mes_7</th>\n",
       "      <th>n_mes_8</th>\n",
       "      <th>n_mes_9</th>\n",
       "      <th>n_diasem_D</th>\n",
       "      <th>n_diasem_J</th>\n",
       "      <th>n_diasem_L</th>\n",
       "      <th>n_diasem_M</th>\n",
       "      <th>n_diasem_S</th>\n",
       "      <th>n_diasem_V</th>\n",
       "      <th>n_diasem_X</th>\n",
       "      <th>n_dif_estado_True</th>\n",
       "    </tr>\n",
       "  </thead>\n",
       "  <tbody>\n",
       "    <tr>\n",
       "      <th>count</th>\n",
       "      <td>2751.00</td>\n",
       "      <td>2751.00</td>\n",
       "      <td>2751.00</td>\n",
       "      <td>2751.00</td>\n",
       "      <td>2751.00</td>\n",
       "      <td>2751.00</td>\n",
       "      <td>2751.00</td>\n",
       "      <td>2751.00</td>\n",
       "      <td>2751.00</td>\n",
       "      <td>2751.00</td>\n",
       "      <td>2751.00</td>\n",
       "      <td>2751.00</td>\n",
       "      <td>2751.00</td>\n",
       "      <td>2751.00</td>\n",
       "      <td>2751.00</td>\n",
       "      <td>2751.00</td>\n",
       "      <td>2751.00</td>\n",
       "      <td>2751.00</td>\n",
       "      <td>2751.00</td>\n",
       "      <td>2751.00</td>\n",
       "      <td>2751.00</td>\n",
       "      <td>2751.00</td>\n",
       "      <td>2751.00</td>\n",
       "      <td>2751.00</td>\n",
       "      <td>2751.00</td>\n",
       "      <td>2751.00</td>\n",
       "      <td>2751.00</td>\n",
       "      <td>2751.00</td>\n",
       "      <td>2751.00</td>\n",
       "      <td>2751.00</td>\n",
       "      <td>2751.00</td>\n",
       "      <td>2751.00</td>\n",
       "      <td>2751.00</td>\n",
       "      <td>2751.00</td>\n",
       "      <td>2751.00</td>\n",
       "      <td>2751.00</td>\n",
       "    </tr>\n",
       "    <tr>\n",
       "      <th>mean</th>\n",
       "      <td>10920049.20</td>\n",
       "      <td>0.00</td>\n",
       "      <td>0.00</td>\n",
       "      <td>0.00</td>\n",
       "      <td>0.00</td>\n",
       "      <td>-0.00</td>\n",
       "      <td>-0.00</td>\n",
       "      <td>0.00</td>\n",
       "      <td>-0.00</td>\n",
       "      <td>-0.00</td>\n",
       "      <td>-0.00</td>\n",
       "      <td>0.00</td>\n",
       "      <td>-0.00</td>\n",
       "      <td>-0.00</td>\n",
       "      <td>-0.00</td>\n",
       "      <td>-0.00</td>\n",
       "      <td>-0.00</td>\n",
       "      <td>0.00</td>\n",
       "      <td>-0.00</td>\n",
       "      <td>0.00</td>\n",
       "      <td>-0.00</td>\n",
       "      <td>0.00</td>\n",
       "      <td>0.00</td>\n",
       "      <td>0.00</td>\n",
       "      <td>0.00</td>\n",
       "      <td>0.00</td>\n",
       "      <td>-0.00</td>\n",
       "      <td>-0.00</td>\n",
       "      <td>0.00</td>\n",
       "      <td>0.00</td>\n",
       "      <td>-0.00</td>\n",
       "      <td>0.00</td>\n",
       "      <td>-0.00</td>\n",
       "      <td>0.00</td>\n",
       "      <td>0.00</td>\n",
       "      <td>-0.00</td>\n",
       "    </tr>\n",
       "    <tr>\n",
       "      <th>std</th>\n",
       "      <td>6371339.54</td>\n",
       "      <td>1.00</td>\n",
       "      <td>1.00</td>\n",
       "      <td>1.00</td>\n",
       "      <td>1.00</td>\n",
       "      <td>1.00</td>\n",
       "      <td>1.00</td>\n",
       "      <td>1.00</td>\n",
       "      <td>1.00</td>\n",
       "      <td>1.00</td>\n",
       "      <td>1.00</td>\n",
       "      <td>1.00</td>\n",
       "      <td>1.00</td>\n",
       "      <td>1.00</td>\n",
       "      <td>1.00</td>\n",
       "      <td>1.00</td>\n",
       "      <td>1.00</td>\n",
       "      <td>1.00</td>\n",
       "      <td>1.00</td>\n",
       "      <td>1.00</td>\n",
       "      <td>1.00</td>\n",
       "      <td>1.00</td>\n",
       "      <td>1.00</td>\n",
       "      <td>1.00</td>\n",
       "      <td>1.00</td>\n",
       "      <td>1.00</td>\n",
       "      <td>1.00</td>\n",
       "      <td>1.00</td>\n",
       "      <td>1.00</td>\n",
       "      <td>1.00</td>\n",
       "      <td>1.00</td>\n",
       "      <td>1.00</td>\n",
       "      <td>1.00</td>\n",
       "      <td>1.00</td>\n",
       "      <td>1.00</td>\n",
       "      <td>1.00</td>\n",
       "    </tr>\n",
       "    <tr>\n",
       "      <th>min</th>\n",
       "      <td>8848.00</td>\n",
       "      <td>-0.77</td>\n",
       "      <td>-1.28</td>\n",
       "      <td>-6.65</td>\n",
       "      <td>-1.91</td>\n",
       "      <td>-0.33</td>\n",
       "      <td>-0.32</td>\n",
       "      <td>-0.31</td>\n",
       "      <td>-0.30</td>\n",
       "      <td>-0.30</td>\n",
       "      <td>-0.27</td>\n",
       "      <td>-0.27</td>\n",
       "      <td>-0.25</td>\n",
       "      <td>-0.25</td>\n",
       "      <td>-0.30</td>\n",
       "      <td>-0.53</td>\n",
       "      <td>-0.31</td>\n",
       "      <td>-0.30</td>\n",
       "      <td>-0.31</td>\n",
       "      <td>-0.32</td>\n",
       "      <td>-0.31</td>\n",
       "      <td>-0.30</td>\n",
       "      <td>-0.27</td>\n",
       "      <td>-0.28</td>\n",
       "      <td>-0.29</td>\n",
       "      <td>-0.29</td>\n",
       "      <td>-0.30</td>\n",
       "      <td>-0.31</td>\n",
       "      <td>-0.44</td>\n",
       "      <td>-0.44</td>\n",
       "      <td>-0.38</td>\n",
       "      <td>-0.41</td>\n",
       "      <td>-0.38</td>\n",
       "      <td>-0.41</td>\n",
       "      <td>-0.40</td>\n",
       "      <td>-0.45</td>\n",
       "    </tr>\n",
       "    <tr>\n",
       "      <th>25%</th>\n",
       "      <td>5073737.00</td>\n",
       "      <td>-0.69</td>\n",
       "      <td>-0.80</td>\n",
       "      <td>-0.52</td>\n",
       "      <td>0.52</td>\n",
       "      <td>-0.33</td>\n",
       "      <td>-0.32</td>\n",
       "      <td>-0.31</td>\n",
       "      <td>-0.30</td>\n",
       "      <td>-0.30</td>\n",
       "      <td>-0.27</td>\n",
       "      <td>-0.27</td>\n",
       "      <td>-0.25</td>\n",
       "      <td>-0.25</td>\n",
       "      <td>-0.30</td>\n",
       "      <td>-0.53</td>\n",
       "      <td>-0.31</td>\n",
       "      <td>-0.30</td>\n",
       "      <td>-0.31</td>\n",
       "      <td>-0.32</td>\n",
       "      <td>-0.31</td>\n",
       "      <td>-0.30</td>\n",
       "      <td>-0.27</td>\n",
       "      <td>-0.28</td>\n",
       "      <td>-0.29</td>\n",
       "      <td>-0.29</td>\n",
       "      <td>-0.30</td>\n",
       "      <td>-0.31</td>\n",
       "      <td>-0.44</td>\n",
       "      <td>-0.44</td>\n",
       "      <td>-0.38</td>\n",
       "      <td>-0.41</td>\n",
       "      <td>-0.38</td>\n",
       "      <td>-0.41</td>\n",
       "      <td>-0.40</td>\n",
       "      <td>-0.45</td>\n",
       "    </tr>\n",
       "    <tr>\n",
       "      <th>50%</th>\n",
       "      <td>11122216.00</td>\n",
       "      <td>-0.44</td>\n",
       "      <td>-0.21</td>\n",
       "      <td>-0.22</td>\n",
       "      <td>0.52</td>\n",
       "      <td>-0.33</td>\n",
       "      <td>-0.32</td>\n",
       "      <td>-0.31</td>\n",
       "      <td>-0.30</td>\n",
       "      <td>-0.30</td>\n",
       "      <td>-0.27</td>\n",
       "      <td>-0.27</td>\n",
       "      <td>-0.25</td>\n",
       "      <td>-0.25</td>\n",
       "      <td>-0.30</td>\n",
       "      <td>-0.53</td>\n",
       "      <td>-0.31</td>\n",
       "      <td>-0.30</td>\n",
       "      <td>-0.31</td>\n",
       "      <td>-0.32</td>\n",
       "      <td>-0.31</td>\n",
       "      <td>-0.30</td>\n",
       "      <td>-0.27</td>\n",
       "      <td>-0.28</td>\n",
       "      <td>-0.29</td>\n",
       "      <td>-0.29</td>\n",
       "      <td>-0.30</td>\n",
       "      <td>-0.31</td>\n",
       "      <td>-0.44</td>\n",
       "      <td>-0.44</td>\n",
       "      <td>-0.38</td>\n",
       "      <td>-0.41</td>\n",
       "      <td>-0.38</td>\n",
       "      <td>-0.41</td>\n",
       "      <td>-0.40</td>\n",
       "      <td>-0.45</td>\n",
       "    </tr>\n",
       "    <tr>\n",
       "      <th>75%</th>\n",
       "      <td>16679454.50</td>\n",
       "      <td>0.43</td>\n",
       "      <td>0.58</td>\n",
       "      <td>0.32</td>\n",
       "      <td>0.52</td>\n",
       "      <td>-0.33</td>\n",
       "      <td>-0.32</td>\n",
       "      <td>-0.31</td>\n",
       "      <td>-0.30</td>\n",
       "      <td>-0.30</td>\n",
       "      <td>-0.27</td>\n",
       "      <td>-0.27</td>\n",
       "      <td>-0.25</td>\n",
       "      <td>-0.25</td>\n",
       "      <td>-0.30</td>\n",
       "      <td>-0.53</td>\n",
       "      <td>-0.31</td>\n",
       "      <td>-0.30</td>\n",
       "      <td>-0.31</td>\n",
       "      <td>-0.32</td>\n",
       "      <td>-0.31</td>\n",
       "      <td>-0.30</td>\n",
       "      <td>-0.27</td>\n",
       "      <td>-0.28</td>\n",
       "      <td>-0.29</td>\n",
       "      <td>-0.29</td>\n",
       "      <td>-0.30</td>\n",
       "      <td>-0.31</td>\n",
       "      <td>-0.44</td>\n",
       "      <td>-0.44</td>\n",
       "      <td>-0.38</td>\n",
       "      <td>-0.41</td>\n",
       "      <td>-0.38</td>\n",
       "      <td>-0.41</td>\n",
       "      <td>-0.40</td>\n",
       "      <td>-0.45</td>\n",
       "    </tr>\n",
       "    <tr>\n",
       "      <th>max</th>\n",
       "      <td>21498595.00</td>\n",
       "      <td>6.34</td>\n",
       "      <td>4.64</td>\n",
       "      <td>7.74</td>\n",
       "      <td>0.52</td>\n",
       "      <td>2.99</td>\n",
       "      <td>3.13</td>\n",
       "      <td>3.21</td>\n",
       "      <td>3.33</td>\n",
       "      <td>3.35</td>\n",
       "      <td>3.75</td>\n",
       "      <td>3.77</td>\n",
       "      <td>3.96</td>\n",
       "      <td>3.93</td>\n",
       "      <td>3.35</td>\n",
       "      <td>1.89</td>\n",
       "      <td>3.23</td>\n",
       "      <td>3.28</td>\n",
       "      <td>3.23</td>\n",
       "      <td>3.10</td>\n",
       "      <td>3.20</td>\n",
       "      <td>3.28</td>\n",
       "      <td>3.67</td>\n",
       "      <td>3.57</td>\n",
       "      <td>3.43</td>\n",
       "      <td>3.41</td>\n",
       "      <td>3.30</td>\n",
       "      <td>3.23</td>\n",
       "      <td>2.29</td>\n",
       "      <td>2.29</td>\n",
       "      <td>2.65</td>\n",
       "      <td>2.43</td>\n",
       "      <td>2.61</td>\n",
       "      <td>2.45</td>\n",
       "      <td>2.48</td>\n",
       "      <td>2.21</td>\n",
       "    </tr>\n",
       "  </tbody>\n",
       "</table>\n",
       "</div>"
      ],
      "text/plain": [
       "           id_txn  tiempo_desde_ult_txn  antig_cta  monto_ult_txn  \\\n",
       "count     2751.00               2751.00    2751.00        2751.00   \n",
       "mean  10920049.20                  0.00       0.00           0.00   \n",
       "std    6371339.54                  1.00       1.00           1.00   \n",
       "min       8848.00                 -0.77      -1.28          -6.65   \n",
       "25%    5073737.00                 -0.69      -0.80          -0.52   \n",
       "50%   11122216.00                 -0.44      -0.21          -0.22   \n",
       "75%   16679454.50                  0.43       0.58           0.32   \n",
       "max   21498595.00                  6.34       4.64           7.74   \n",
       "\n",
       "       n_txn_type_S  n_hora_10  n_hora_11  n_hora_12  n_hora_13  n_hora_14  \\\n",
       "count       2751.00    2751.00    2751.00    2751.00    2751.00    2751.00   \n",
       "mean           0.00      -0.00      -0.00       0.00      -0.00      -0.00   \n",
       "std            1.00       1.00       1.00       1.00       1.00       1.00   \n",
       "min           -1.91      -0.33      -0.32      -0.31      -0.30      -0.30   \n",
       "25%            0.52      -0.33      -0.32      -0.31      -0.30      -0.30   \n",
       "50%            0.52      -0.33      -0.32      -0.31      -0.30      -0.30   \n",
       "75%            0.52      -0.33      -0.32      -0.31      -0.30      -0.30   \n",
       "max            0.52       2.99       3.13       3.21       3.33       3.35   \n",
       "\n",
       "       n_hora_15  n_hora_16  n_hora_7  n_hora_8  n_hora_9  n_hora_Otros  \\\n",
       "count    2751.00    2751.00   2751.00   2751.00   2751.00       2751.00   \n",
       "mean       -0.00       0.00     -0.00     -0.00     -0.00         -0.00   \n",
       "std         1.00       1.00      1.00      1.00      1.00          1.00   \n",
       "min        -0.27      -0.27     -0.25     -0.25     -0.30         -0.53   \n",
       "25%        -0.27      -0.27     -0.25     -0.25     -0.30         -0.53   \n",
       "50%        -0.27      -0.27     -0.25     -0.25     -0.30         -0.53   \n",
       "75%        -0.27      -0.27     -0.25     -0.25     -0.30         -0.53   \n",
       "max         3.75       3.77      3.96      3.93      3.35          1.89   \n",
       "\n",
       "       n_mes_1  n_mes_10  n_mes_11  n_mes_12  n_mes_2  n_mes_3  n_mes_4  \\\n",
       "count  2751.00   2751.00   2751.00   2751.00  2751.00  2751.00  2751.00   \n",
       "mean     -0.00      0.00     -0.00      0.00    -0.00     0.00     0.00   \n",
       "std       1.00      1.00      1.00      1.00     1.00     1.00     1.00   \n",
       "min      -0.31     -0.30     -0.31     -0.32    -0.31    -0.30    -0.27   \n",
       "25%      -0.31     -0.30     -0.31     -0.32    -0.31    -0.30    -0.27   \n",
       "50%      -0.31     -0.30     -0.31     -0.32    -0.31    -0.30    -0.27   \n",
       "75%      -0.31     -0.30     -0.31     -0.32    -0.31    -0.30    -0.27   \n",
       "max       3.23      3.28      3.23      3.10     3.20     3.28     3.67   \n",
       "\n",
       "       n_mes_5  n_mes_6  n_mes_7  n_mes_8  n_mes_9  n_diasem_D  n_diasem_J  \\\n",
       "count  2751.00  2751.00  2751.00  2751.00  2751.00     2751.00     2751.00   \n",
       "mean      0.00     0.00     0.00    -0.00    -0.00        0.00        0.00   \n",
       "std       1.00     1.00     1.00     1.00     1.00        1.00        1.00   \n",
       "min      -0.28    -0.29    -0.29    -0.30    -0.31       -0.44       -0.44   \n",
       "25%      -0.28    -0.29    -0.29    -0.30    -0.31       -0.44       -0.44   \n",
       "50%      -0.28    -0.29    -0.29    -0.30    -0.31       -0.44       -0.44   \n",
       "75%      -0.28    -0.29    -0.29    -0.30    -0.31       -0.44       -0.44   \n",
       "max       3.57     3.43     3.41     3.30     3.23        2.29        2.29   \n",
       "\n",
       "       n_diasem_L  n_diasem_M  n_diasem_S  n_diasem_V  n_diasem_X  \\\n",
       "count     2751.00     2751.00     2751.00     2751.00     2751.00   \n",
       "mean        -0.00        0.00       -0.00        0.00        0.00   \n",
       "std          1.00        1.00        1.00        1.00        1.00   \n",
       "min         -0.38       -0.41       -0.38       -0.41       -0.40   \n",
       "25%         -0.38       -0.41       -0.38       -0.41       -0.40   \n",
       "50%         -0.38       -0.41       -0.38       -0.41       -0.40   \n",
       "75%         -0.38       -0.41       -0.38       -0.41       -0.40   \n",
       "max          2.65        2.43        2.61        2.45        2.48   \n",
       "\n",
       "       n_dif_estado_True  \n",
       "count            2751.00  \n",
       "mean               -0.00  \n",
       "std                 1.00  \n",
       "min                -0.45  \n",
       "25%                -0.45  \n",
       "50%                -0.45  \n",
       "75%                -0.45  \n",
       "max                 2.21  "
      ]
     },
     "execution_count": 207,
     "metadata": {},
     "output_type": "execute_result"
    }
   ],
   "source": [
    "Xs.describe()"
   ]
  },
  {
   "cell_type": "markdown",
   "metadata": {},
   "source": [
    "### Espacio de componentes principales (combinación lineal ortogonal) $\\mathcal{X}_p$"
   ]
  },
  {
   "cell_type": "code",
   "execution_count": 216,
   "metadata": {},
   "outputs": [],
   "source": [
    "pipe_pca = make_pipeline(StandardScaler(),PCA(0.9),MinMaxScaler())"
   ]
  },
  {
   "cell_type": "code",
   "execution_count": 217,
   "metadata": {},
   "outputs": [
    {
     "data": {
      "text/html": [
       "<style>#sk-container-id-11 {color: black;background-color: white;}#sk-container-id-11 pre{padding: 0;}#sk-container-id-11 div.sk-toggleable {background-color: white;}#sk-container-id-11 label.sk-toggleable__label {cursor: pointer;display: block;width: 100%;margin-bottom: 0;padding: 0.3em;box-sizing: border-box;text-align: center;}#sk-container-id-11 label.sk-toggleable__label-arrow:before {content: \"▸\";float: left;margin-right: 0.25em;color: #696969;}#sk-container-id-11 label.sk-toggleable__label-arrow:hover:before {color: black;}#sk-container-id-11 div.sk-estimator:hover label.sk-toggleable__label-arrow:before {color: black;}#sk-container-id-11 div.sk-toggleable__content {max-height: 0;max-width: 0;overflow: hidden;text-align: left;background-color: #f0f8ff;}#sk-container-id-11 div.sk-toggleable__content pre {margin: 0.2em;color: black;border-radius: 0.25em;background-color: #f0f8ff;}#sk-container-id-11 input.sk-toggleable__control:checked~div.sk-toggleable__content {max-height: 200px;max-width: 100%;overflow: auto;}#sk-container-id-11 input.sk-toggleable__control:checked~label.sk-toggleable__label-arrow:before {content: \"▾\";}#sk-container-id-11 div.sk-estimator input.sk-toggleable__control:checked~label.sk-toggleable__label {background-color: #d4ebff;}#sk-container-id-11 div.sk-label input.sk-toggleable__control:checked~label.sk-toggleable__label {background-color: #d4ebff;}#sk-container-id-11 input.sk-hidden--visually {border: 0;clip: rect(1px 1px 1px 1px);clip: rect(1px, 1px, 1px, 1px);height: 1px;margin: -1px;overflow: hidden;padding: 0;position: absolute;width: 1px;}#sk-container-id-11 div.sk-estimator {font-family: monospace;background-color: #f0f8ff;border: 1px dotted black;border-radius: 0.25em;box-sizing: border-box;margin-bottom: 0.5em;}#sk-container-id-11 div.sk-estimator:hover {background-color: #d4ebff;}#sk-container-id-11 div.sk-parallel-item::after {content: \"\";width: 100%;border-bottom: 1px solid gray;flex-grow: 1;}#sk-container-id-11 div.sk-label:hover label.sk-toggleable__label {background-color: #d4ebff;}#sk-container-id-11 div.sk-serial::before {content: \"\";position: absolute;border-left: 1px solid gray;box-sizing: border-box;top: 0;bottom: 0;left: 50%;z-index: 0;}#sk-container-id-11 div.sk-serial {display: flex;flex-direction: column;align-items: center;background-color: white;padding-right: 0.2em;padding-left: 0.2em;position: relative;}#sk-container-id-11 div.sk-item {position: relative;z-index: 1;}#sk-container-id-11 div.sk-parallel {display: flex;align-items: stretch;justify-content: center;background-color: white;position: relative;}#sk-container-id-11 div.sk-item::before, #sk-container-id-11 div.sk-parallel-item::before {content: \"\";position: absolute;border-left: 1px solid gray;box-sizing: border-box;top: 0;bottom: 0;left: 50%;z-index: -1;}#sk-container-id-11 div.sk-parallel-item {display: flex;flex-direction: column;z-index: 1;position: relative;background-color: white;}#sk-container-id-11 div.sk-parallel-item:first-child::after {align-self: flex-end;width: 50%;}#sk-container-id-11 div.sk-parallel-item:last-child::after {align-self: flex-start;width: 50%;}#sk-container-id-11 div.sk-parallel-item:only-child::after {width: 0;}#sk-container-id-11 div.sk-dashed-wrapped {border: 1px dashed gray;margin: 0 0.4em 0.5em 0.4em;box-sizing: border-box;padding-bottom: 0.4em;background-color: white;}#sk-container-id-11 div.sk-label label {font-family: monospace;font-weight: bold;display: inline-block;line-height: 1.2em;}#sk-container-id-11 div.sk-label-container {text-align: center;}#sk-container-id-11 div.sk-container {/* jupyter's `normalize.less` sets `[hidden] { display: none; }` but bootstrap.min.css set `[hidden] { display: none !important; }` so we also need the `!important` here to be able to override the default hidden behavior on the sphinx rendered scikit-learn.org. See: https://github.com/scikit-learn/scikit-learn/issues/21755 */display: inline-block !important;position: relative;}#sk-container-id-11 div.sk-text-repr-fallback {display: none;}</style><div id=\"sk-container-id-11\" class=\"sk-top-container\"><div class=\"sk-text-repr-fallback\"><pre>Pipeline(steps=[(&#x27;standardscaler&#x27;, StandardScaler()),\n",
       "                (&#x27;pca&#x27;, PCA(n_components=0.9)),\n",
       "                (&#x27;minmaxscaler&#x27;, MinMaxScaler())])</pre><b>In a Jupyter environment, please rerun this cell to show the HTML representation or trust the notebook. <br />On GitHub, the HTML representation is unable to render, please try loading this page with nbviewer.org.</b></div><div class=\"sk-container\" hidden><div class=\"sk-item sk-dashed-wrapped\"><div class=\"sk-label-container\"><div class=\"sk-label sk-toggleable\"><input class=\"sk-toggleable__control sk-hidden--visually\" id=\"sk-estimator-id-14\" type=\"checkbox\" ><label for=\"sk-estimator-id-14\" class=\"sk-toggleable__label sk-toggleable__label-arrow\">Pipeline</label><div class=\"sk-toggleable__content\"><pre>Pipeline(steps=[(&#x27;standardscaler&#x27;, StandardScaler()),\n",
       "                (&#x27;pca&#x27;, PCA(n_components=0.9)),\n",
       "                (&#x27;minmaxscaler&#x27;, MinMaxScaler())])</pre></div></div></div><div class=\"sk-serial\"><div class=\"sk-item\"><div class=\"sk-estimator sk-toggleable\"><input class=\"sk-toggleable__control sk-hidden--visually\" id=\"sk-estimator-id-15\" type=\"checkbox\" ><label for=\"sk-estimator-id-15\" class=\"sk-toggleable__label sk-toggleable__label-arrow\">StandardScaler</label><div class=\"sk-toggleable__content\"><pre>StandardScaler()</pre></div></div></div><div class=\"sk-item\"><div class=\"sk-estimator sk-toggleable\"><input class=\"sk-toggleable__control sk-hidden--visually\" id=\"sk-estimator-id-16\" type=\"checkbox\" ><label for=\"sk-estimator-id-16\" class=\"sk-toggleable__label sk-toggleable__label-arrow\">PCA</label><div class=\"sk-toggleable__content\"><pre>PCA(n_components=0.9)</pre></div></div></div><div class=\"sk-item\"><div class=\"sk-estimator sk-toggleable\"><input class=\"sk-toggleable__control sk-hidden--visually\" id=\"sk-estimator-id-17\" type=\"checkbox\" ><label for=\"sk-estimator-id-17\" class=\"sk-toggleable__label sk-toggleable__label-arrow\">MinMaxScaler</label><div class=\"sk-toggleable__content\"><pre>MinMaxScaler()</pre></div></div></div></div></div></div></div>"
      ],
      "text/plain": [
       "Pipeline(steps=[('standardscaler', StandardScaler()),\n",
       "                ('pca', PCA(n_components=0.9)),\n",
       "                ('minmaxscaler', MinMaxScaler())])"
      ]
     },
     "execution_count": 217,
     "metadata": {},
     "output_type": "execute_result"
    }
   ],
   "source": [
    "pipe_pca.fit(X[var])"
   ]
  },
  {
   "cell_type": "code",
   "execution_count": 218,
   "metadata": {},
   "outputs": [
    {
     "data": {
      "text/plain": [
       "array([0.04335126, 0.08253324, 0.12095575, 0.15842191, 0.19410096,\n",
       "       0.22957225, 0.2642485 , 0.29871779, 0.33271935, 0.36625506,\n",
       "       0.3995707 , 0.43237726, 0.46459214, 0.49650807, 0.52807835,\n",
       "       0.55934221, 0.59041047, 0.62102665, 0.6513638 , 0.68143294,\n",
       "       0.71125259, 0.74065925, 0.76976308, 0.79826933, 0.82639428,\n",
       "       0.85407843, 0.88137156, 0.90846658])"
      ]
     },
     "execution_count": 218,
     "metadata": {},
     "output_type": "execute_result"
    }
   ],
   "source": [
    "pipe_pca.steps[1][-1].explained_variance_ratio_.cumsum()"
   ]
  },
  {
   "cell_type": "code",
   "execution_count": 225,
   "metadata": {},
   "outputs": [],
   "source": [
    "Xp = pd.DataFrame(pipe_pca.transform(X[var]))\n",
    "Xp.insert(0,um[0],X[um])"
   ]
  },
  {
   "cell_type": "code",
   "execution_count": 227,
   "metadata": {},
   "outputs": [
    {
     "data": {
      "text/plain": [
       "array([[<AxesSubplot:title={'center':'id_txn'}>,\n",
       "        <AxesSubplot:title={'center':'0'}>,\n",
       "        <AxesSubplot:title={'center':'1'}>,\n",
       "        <AxesSubplot:title={'center':'2'}>,\n",
       "        <AxesSubplot:title={'center':'3'}>],\n",
       "       [<AxesSubplot:title={'center':'4'}>,\n",
       "        <AxesSubplot:title={'center':'5'}>,\n",
       "        <AxesSubplot:title={'center':'6'}>,\n",
       "        <AxesSubplot:title={'center':'7'}>,\n",
       "        <AxesSubplot:title={'center':'8'}>],\n",
       "       [<AxesSubplot:title={'center':'9'}>,\n",
       "        <AxesSubplot:title={'center':'10'}>,\n",
       "        <AxesSubplot:title={'center':'11'}>,\n",
       "        <AxesSubplot:title={'center':'12'}>,\n",
       "        <AxesSubplot:title={'center':'13'}>],\n",
       "       [<AxesSubplot:title={'center':'14'}>,\n",
       "        <AxesSubplot:title={'center':'15'}>,\n",
       "        <AxesSubplot:title={'center':'16'}>,\n",
       "        <AxesSubplot:title={'center':'17'}>,\n",
       "        <AxesSubplot:title={'center':'18'}>],\n",
       "       [<AxesSubplot:title={'center':'19'}>,\n",
       "        <AxesSubplot:title={'center':'20'}>,\n",
       "        <AxesSubplot:title={'center':'21'}>,\n",
       "        <AxesSubplot:title={'center':'22'}>,\n",
       "        <AxesSubplot:title={'center':'23'}>],\n",
       "       [<AxesSubplot:title={'center':'24'}>,\n",
       "        <AxesSubplot:title={'center':'25'}>,\n",
       "        <AxesSubplot:title={'center':'26'}>,\n",
       "        <AxesSubplot:title={'center':'27'}>, <AxesSubplot:>]],\n",
       "      dtype=object)"
      ]
     },
     "execution_count": 227,
     "metadata": {},
     "output_type": "execute_result"
    },
    {
     "data": {
      "image/png": "[encoded data removed]",
      "text/plain": [
       "<Figure size 720x720 with 30 Axes>"
      ]
     },
     "metadata": {
      "needs_background": "light"
     },
     "output_type": "display_data"
    }
   ],
   "source": [
    "Xp.hist(figsize=(10,10))"
   ]
  },
  {
   "cell_type": "markdown",
   "metadata": {},
   "source": [
    "### Espacio Weight of Evidence (WoE) $\\mathcal{X}_w$"
   ]
  },
  {
   "cell_type": "code",
   "execution_count": 230,
   "metadata": {},
   "outputs": [],
   "source": [
    "Xw = Xi[um+best+vart].copy().merge(train[um+varn],on=um,how='inner')"
   ]
  },
  {
   "cell_type": "code",
   "execution_count": 231,
   "metadata": {},
   "outputs": [
    {
     "data": {
      "text/html": [
       "<div>\n",
       "<style scoped>\n",
       "    .dataframe tbody tr th:only-of-type {\n",
       "        vertical-align: middle;\n",
       "    }\n",
       "\n",
       "    .dataframe tbody tr th {\n",
       "        vertical-align: top;\n",
       "    }\n",
       "\n",
       "    .dataframe thead th {\n",
       "        text-align: right;\n",
       "    }\n",
       "</style>\n",
       "<table border=\"1\" class=\"dataframe\">\n",
       "  <thead>\n",
       "    <tr style=\"text-align: right;\">\n",
       "      <th></th>\n",
       "      <th>id_txn</th>\n",
       "      <th>tiempo_desde_ult_txn</th>\n",
       "      <th>antig_cta</th>\n",
       "      <th>monto_ult_txn</th>\n",
       "      <th>is_fraud</th>\n",
       "      <th>n_txn_type</th>\n",
       "      <th>n_hora</th>\n",
       "      <th>n_mes</th>\n",
       "      <th>n_diasem</th>\n",
       "      <th>n_dif_estado</th>\n",
       "    </tr>\n",
       "  </thead>\n",
       "  <tbody>\n",
       "    <tr>\n",
       "      <th>0</th>\n",
       "      <td>4574298</td>\n",
       "      <td>6240.00</td>\n",
       "      <td>2.40</td>\n",
       "      <td>6.27</td>\n",
       "      <td>0</td>\n",
       "      <td>S</td>\n",
       "      <td>10</td>\n",
       "      <td>12</td>\n",
       "      <td>S</td>\n",
       "      <td>False</td>\n",
       "    </tr>\n",
       "    <tr>\n",
       "      <th>1</th>\n",
       "      <td>7560347</td>\n",
       "      <td>35940.00</td>\n",
       "      <td>2.40</td>\n",
       "      <td>3.24</td>\n",
       "      <td>0</td>\n",
       "      <td>C</td>\n",
       "      <td>Otros</td>\n",
       "      <td>2</td>\n",
       "      <td>M</td>\n",
       "      <td>False</td>\n",
       "    </tr>\n",
       "    <tr>\n",
       "      <th>2</th>\n",
       "      <td>9284378</td>\n",
       "      <td>4380.00</td>\n",
       "      <td>1.60</td>\n",
       "      <td>0.55</td>\n",
       "      <td>1</td>\n",
       "      <td>S</td>\n",
       "      <td>14</td>\n",
       "      <td>6</td>\n",
       "      <td>J</td>\n",
       "      <td>False</td>\n",
       "    </tr>\n",
       "    <tr>\n",
       "      <th>3</th>\n",
       "      <td>8295122</td>\n",
       "      <td>6180.00</td>\n",
       "      <td>17.30</td>\n",
       "      <td>60.31</td>\n",
       "      <td>1</td>\n",
       "      <td>C</td>\n",
       "      <td>16</td>\n",
       "      <td>4</td>\n",
       "      <td>M</td>\n",
       "      <td>False</td>\n",
       "    </tr>\n",
       "    <tr>\n",
       "      <th>4</th>\n",
       "      <td>16070544</td>\n",
       "      <td>1380.00</td>\n",
       "      <td>2.00</td>\n",
       "      <td>140.00</td>\n",
       "      <td>0</td>\n",
       "      <td>C</td>\n",
       "      <td>15</td>\n",
       "      <td>5</td>\n",
       "      <td>X</td>\n",
       "      <td>False</td>\n",
       "    </tr>\n",
       "  </tbody>\n",
       "</table>\n",
       "</div>"
      ],
      "text/plain": [
       "     id_txn  tiempo_desde_ult_txn  antig_cta  monto_ult_txn  is_fraud  \\\n",
       "0   4574298               6240.00       2.40           6.27         0   \n",
       "1   7560347              35940.00       2.40           3.24         0   \n",
       "2   9284378               4380.00       1.60           0.55         1   \n",
       "3   8295122               6180.00      17.30          60.31         1   \n",
       "4  16070544               1380.00       2.00         140.00         0   \n",
       "\n",
       "  n_txn_type n_hora n_mes n_diasem n_dif_estado  \n",
       "0          S     10    12        S        False  \n",
       "1          C  Otros     2        M        False  \n",
       "2          S     14     6        J        False  \n",
       "3          C     16     4        M        False  \n",
       "4          C     15     5        X        False  "
      ]
     },
     "execution_count": 231,
     "metadata": {},
     "output_type": "execute_result"
    }
   ],
   "source": [
    "Xw.head()"
   ]
  },
  {
   "cell_type": "markdown",
   "metadata": {},
   "source": [
    "#### Discretizar variables continuas"
   ]
  },
  {
   "cell_type": "code",
   "execution_count": 234,
   "metadata": {},
   "outputs": [],
   "source": [
    "def discretizar(df:pd.DataFrame,v:str)->pd.DataFrame:\n",
    "    aux = df[um+[v]].copy()\n",
    "    l = [d for _,d in aux.groupby(aux[v].isnull())]\n",
    "    if len(l)==2:\n",
    "        nm,m  = l\n",
    "    else:\n",
    "        nm,m = l[0], l[0].loc[l[0].index==-1]\n",
    "    m.reset_index(drop=True,inplace=True)\n",
    "    nm.reset_index(drop=True,inplace=True)\n",
    "    m[v].fillna('MISSING',inplace=True)\n",
    "\n",
    "    kb = KBinsDiscretizer(n_bins=5,encode='ordinal',strategy='uniform')\n",
    "\n",
    "    kb.fit(nm[[v]])\n",
    "\n",
    "    nm['d'] = kb.transform(nm[[v]])\n",
    "\n",
    "    nm['d'].value_counts(1)\n",
    "    mapa = nm[[v,'d']].groupby('d').agg(['min','max'])\n",
    "    mapa.columns = ['min','max']\n",
    "    mapa['intervalo'] = mapa.index.astype(int).map(lambda x:'%02d. '%(x+1))+mapa['min'].astype(str)+'|'+mapa['max'].astype(str)\n",
    "    mapa.drop(['min','max'],axis=1,inplace=True)\n",
    "    nm[v] = nm['d'].replace(mapa['intervalo'].to_dict())\n",
    "    return pd.concat([nm[um+[v]],m[um+[v]]],ignore_index=True)"
   ]
  },
  {
   "cell_type": "code",
   "execution_count": 236,
   "metadata": {},
   "outputs": [],
   "source": [
    "cruzar = lambda x,y:x.merge(y,on=um,how='outer')"
   ]
  },
  {
   "cell_type": "code",
   "execution_count": 239,
   "metadata": {},
   "outputs": [],
   "source": [
    "Xwd = reduce(cruzar,map(lambda v:discretizar(Xw,v),best))"
   ]
  },
  {
   "cell_type": "code",
   "execution_count": 241,
   "metadata": {},
   "outputs": [],
   "source": [
    "Xw = Xwd.merge(Xw[um+varn+vart],on=um,how='inner')"
   ]
  },
  {
   "cell_type": "code",
   "execution_count": 242,
   "metadata": {},
   "outputs": [
    {
     "data": {
      "text/html": [
       "<div>\n",
       "<style scoped>\n",
       "    .dataframe tbody tr th:only-of-type {\n",
       "        vertical-align: middle;\n",
       "    }\n",
       "\n",
       "    .dataframe tbody tr th {\n",
       "        vertical-align: top;\n",
       "    }\n",
       "\n",
       "    .dataframe thead th {\n",
       "        text-align: right;\n",
       "    }\n",
       "</style>\n",
       "<table border=\"1\" class=\"dataframe\">\n",
       "  <thead>\n",
       "    <tr style=\"text-align: right;\">\n",
       "      <th></th>\n",
       "      <th>id_txn</th>\n",
       "      <th>tiempo_desde_ult_txn</th>\n",
       "      <th>antig_cta</th>\n",
       "      <th>monto_ult_txn</th>\n",
       "      <th>n_txn_type</th>\n",
       "      <th>n_hora</th>\n",
       "      <th>n_mes</th>\n",
       "      <th>n_diasem</th>\n",
       "      <th>n_dif_estado</th>\n",
       "      <th>is_fraud</th>\n",
       "    </tr>\n",
       "  </thead>\n",
       "  <tbody>\n",
       "    <tr>\n",
       "      <th>0</th>\n",
       "      <td>4574298</td>\n",
       "      <td>01. 60.0|51900.0</td>\n",
       "      <td>01. 0.0|4.9</td>\n",
       "      <td>03. 0.0|189.79</td>\n",
       "      <td>S</td>\n",
       "      <td>10</td>\n",
       "      <td>12</td>\n",
       "      <td>S</td>\n",
       "      <td>False</td>\n",
       "      <td>0</td>\n",
       "    </tr>\n",
       "    <tr>\n",
       "      <th>1</th>\n",
       "      <td>7560347</td>\n",
       "      <td>01. 60.0|51900.0</td>\n",
       "      <td>01. 0.0|4.9</td>\n",
       "      <td>03. 0.0|189.79</td>\n",
       "      <td>C</td>\n",
       "      <td>Otros</td>\n",
       "      <td>2</td>\n",
       "      <td>M</td>\n",
       "      <td>False</td>\n",
       "      <td>0</td>\n",
       "    </tr>\n",
       "    <tr>\n",
       "      <th>2</th>\n",
       "      <td>9284378</td>\n",
       "      <td>01. 60.0|51900.0</td>\n",
       "      <td>01. 0.0|4.9</td>\n",
       "      <td>03. 0.0|189.79</td>\n",
       "      <td>S</td>\n",
       "      <td>14</td>\n",
       "      <td>6</td>\n",
       "      <td>J</td>\n",
       "      <td>False</td>\n",
       "      <td>1</td>\n",
       "    </tr>\n",
       "    <tr>\n",
       "      <th>3</th>\n",
       "      <td>8295122</td>\n",
       "      <td>01. 60.0|51900.0</td>\n",
       "      <td>04. 15.0|19.8</td>\n",
       "      <td>03. 0.0|189.79</td>\n",
       "      <td>C</td>\n",
       "      <td>16</td>\n",
       "      <td>4</td>\n",
       "      <td>M</td>\n",
       "      <td>False</td>\n",
       "      <td>1</td>\n",
       "    </tr>\n",
       "    <tr>\n",
       "      <th>4</th>\n",
       "      <td>16070544</td>\n",
       "      <td>01. 60.0|51900.0</td>\n",
       "      <td>01. 0.0|4.9</td>\n",
       "      <td>03. 0.0|189.79</td>\n",
       "      <td>C</td>\n",
       "      <td>15</td>\n",
       "      <td>5</td>\n",
       "      <td>X</td>\n",
       "      <td>False</td>\n",
       "      <td>0</td>\n",
       "    </tr>\n",
       "  </tbody>\n",
       "</table>\n",
       "</div>"
      ],
      "text/plain": [
       "     id_txn tiempo_desde_ult_txn      antig_cta   monto_ult_txn n_txn_type  \\\n",
       "0   4574298     01. 60.0|51900.0    01. 0.0|4.9  03. 0.0|189.79          S   \n",
       "1   7560347     01. 60.0|51900.0    01. 0.0|4.9  03. 0.0|189.79          C   \n",
       "2   9284378     01. 60.0|51900.0    01. 0.0|4.9  03. 0.0|189.79          S   \n",
       "3   8295122     01. 60.0|51900.0  04. 15.0|19.8  03. 0.0|189.79          C   \n",
       "4  16070544     01. 60.0|51900.0    01. 0.0|4.9  03. 0.0|189.79          C   \n",
       "\n",
       "  n_hora n_mes n_diasem n_dif_estado  is_fraud  \n",
       "0     10    12        S        False         0  \n",
       "1  Otros     2        M        False         0  \n",
       "2     14     6        J        False         1  \n",
       "3     16     4        M        False         1  \n",
       "4     15     5        X        False         0  "
      ]
     },
     "execution_count": 242,
     "metadata": {},
     "output_type": "execute_result"
    }
   ],
   "source": [
    "Xw.head()"
   ]
  },
  {
   "cell_type": "code",
   "execution_count": 243,
   "metadata": {},
   "outputs": [],
   "source": [
    "def codif_woe(df:pd.DataFrame,v:str,tgt:str)->tuple:\n",
    "    aux = df.pivot_table(index=v,\n",
    "              columns=tgt,\n",
    "              values=um[0],\n",
    "              aggfunc='count',\n",
    "              fill_value=0)\n",
    "    aux/=aux.sum()\n",
    "    aux['w'] = np.log(aux[0]/aux[1])\n",
    "    aux.drop(range(2),axis=1,inplace=True)\n",
    "    return v,aux['w'].to_dict()"
   ]
  },
  {
   "cell_type": "code",
   "execution_count": 246,
   "metadata": {},
   "outputs": [],
   "source": [
    "mapa_woe = list(map(lambda v:codif_woe(Xw,v,vart[0]),best+varn))"
   ]
  },
  {
   "cell_type": "code",
   "execution_count": 247,
   "metadata": {},
   "outputs": [],
   "source": [
    "for v,mapa in mapa_woe:\n",
    "    Xw[v] = Xw[v].map(mapa)"
   ]
  },
  {
   "cell_type": "code",
   "execution_count": 248,
   "metadata": {},
   "outputs": [
    {
     "data": {
      "text/html": [
       "<div>\n",
       "<style scoped>\n",
       "    .dataframe tbody tr th:only-of-type {\n",
       "        vertical-align: middle;\n",
       "    }\n",
       "\n",
       "    .dataframe tbody tr th {\n",
       "        vertical-align: top;\n",
       "    }\n",
       "\n",
       "    .dataframe thead th {\n",
       "        text-align: right;\n",
       "    }\n",
       "</style>\n",
       "<table border=\"1\" class=\"dataframe\">\n",
       "  <thead>\n",
       "    <tr style=\"text-align: right;\">\n",
       "      <th></th>\n",
       "      <th>id_txn</th>\n",
       "      <th>tiempo_desde_ult_txn</th>\n",
       "      <th>antig_cta</th>\n",
       "      <th>monto_ult_txn</th>\n",
       "      <th>n_txn_type</th>\n",
       "      <th>n_hora</th>\n",
       "      <th>n_mes</th>\n",
       "      <th>n_diasem</th>\n",
       "      <th>n_dif_estado</th>\n",
       "      <th>is_fraud</th>\n",
       "    </tr>\n",
       "  </thead>\n",
       "  <tbody>\n",
       "    <tr>\n",
       "      <th>0</th>\n",
       "      <td>4574298</td>\n",
       "      <td>-0.04</td>\n",
       "      <td>-0.17</td>\n",
       "      <td>0.01</td>\n",
       "      <td>-0.21</td>\n",
       "      <td>-0.46</td>\n",
       "      <td>-0.34</td>\n",
       "      <td>0.26</td>\n",
       "      <td>0.20</td>\n",
       "      <td>0</td>\n",
       "    </tr>\n",
       "    <tr>\n",
       "      <th>1</th>\n",
       "      <td>7560347</td>\n",
       "      <td>-0.04</td>\n",
       "      <td>-0.17</td>\n",
       "      <td>0.01</td>\n",
       "      <td>0.81</td>\n",
       "      <td>0.97</td>\n",
       "      <td>-0.20</td>\n",
       "      <td>-0.05</td>\n",
       "      <td>0.20</td>\n",
       "      <td>0</td>\n",
       "    </tr>\n",
       "    <tr>\n",
       "      <th>2</th>\n",
       "      <td>9284378</td>\n",
       "      <td>-0.04</td>\n",
       "      <td>-0.17</td>\n",
       "      <td>0.01</td>\n",
       "      <td>-0.21</td>\n",
       "      <td>-0.38</td>\n",
       "      <td>0.09</td>\n",
       "      <td>-0.22</td>\n",
       "      <td>0.20</td>\n",
       "      <td>1</td>\n",
       "    </tr>\n",
       "    <tr>\n",
       "      <th>3</th>\n",
       "      <td>8295122</td>\n",
       "      <td>-0.04</td>\n",
       "      <td>0.43</td>\n",
       "      <td>0.01</td>\n",
       "      <td>0.81</td>\n",
       "      <td>0.24</td>\n",
       "      <td>-0.00</td>\n",
       "      <td>-0.05</td>\n",
       "      <td>0.20</td>\n",
       "      <td>1</td>\n",
       "    </tr>\n",
       "    <tr>\n",
       "      <th>4</th>\n",
       "      <td>16070544</td>\n",
       "      <td>-0.04</td>\n",
       "      <td>-0.17</td>\n",
       "      <td>0.01</td>\n",
       "      <td>0.81</td>\n",
       "      <td>-0.32</td>\n",
       "      <td>0.06</td>\n",
       "      <td>0.15</td>\n",
       "      <td>0.20</td>\n",
       "      <td>0</td>\n",
       "    </tr>\n",
       "  </tbody>\n",
       "</table>\n",
       "</div>"
      ],
      "text/plain": [
       "     id_txn  tiempo_desde_ult_txn  antig_cta  monto_ult_txn  n_txn_type  \\\n",
       "0   4574298                 -0.04      -0.17           0.01       -0.21   \n",
       "1   7560347                 -0.04      -0.17           0.01        0.81   \n",
       "2   9284378                 -0.04      -0.17           0.01       -0.21   \n",
       "3   8295122                 -0.04       0.43           0.01        0.81   \n",
       "4  16070544                 -0.04      -0.17           0.01        0.81   \n",
       "\n",
       "   n_hora  n_mes  n_diasem  n_dif_estado  is_fraud  \n",
       "0   -0.46  -0.34      0.26          0.20         0  \n",
       "1    0.97  -0.20     -0.05          0.20         0  \n",
       "2   -0.38   0.09     -0.22          0.20         1  \n",
       "3    0.24  -0.00     -0.05          0.20         1  \n",
       "4   -0.32   0.06      0.15          0.20         0  "
      ]
     },
     "execution_count": 248,
     "metadata": {},
     "output_type": "execute_result"
    }
   ],
   "source": [
    "Xw.head()"
   ]
  },
  {
   "cell_type": "code",
   "execution_count": null,
   "metadata": {},
   "outputs": [],
   "source": []
  }
 ],
 "metadata": {
  "kernelspec": {
   "display_name": "Python 3.9.12 ('mod5': venv)",
   "language": "python",
   "name": "python3"
  },
  "language_info": {
   "codemirror_mode": {
    "name": "ipython",
    "version": 3
   },
   "file_extension": ".py",
   "mimetype": "text/x-python",
   "name": "python",
   "nbconvert_exporter": "python",
   "pygments_lexer": "ipython3",
   "version": "3.9.12"
  },
  "orig_nbformat": 4,
  "vscode": {
   "interpreter": {
    "hash": "b147c4aad7b0dd7a46ac3abd42c4e5e4d0db5c04fc14de93177847ef3b9b69af"
   }
  }
 },
 "nbformat": 4,
 "nbformat_minor": 2
}
