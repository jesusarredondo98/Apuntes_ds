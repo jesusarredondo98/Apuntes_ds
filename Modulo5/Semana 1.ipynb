{
  "cells": [
    {
      "cell_type": "markdown",
      "metadata": {
        "id": "cwXv59eLRTsZ"
      },
      "source": [
        "## Dependencias"
      ]
    },
    {
      "cell_type": "code",
      "execution_count": 12,
      "metadata": {
        "id": "Q9YRLcl6RTsb",
        "outputId": "37396cab-28d8-4c44-d667-531da258a5c4"
      },
      "outputs": [
        {
          "data": {
            "text/html": [
              "        <script type=\"text/javascript\">\n",
              "        window.PlotlyConfig = {MathJaxConfig: 'local'};\n",
              "        if (window.MathJax && window.MathJax.Hub && window.MathJax.Hub.Config) {window.MathJax.Hub.Config({SVG: {font: \"STIX-Web\"}});}\n",
              "        if (typeof require !== 'undefined') {\n",
              "        require.undef(\"plotly\");\n",
              "        requirejs.config({\n",
              "            paths: {\n",
              "                'plotly': ['https://cdn.plot.ly/plotly-2.14.0.min']\n",
              "            }\n",
              "        });\n",
              "        require(['plotly'], function(Plotly) {\n",
              "            window._Plotly = Plotly;\n",
              "        });\n",
              "        }\n",
              "        </script>\n",
              "        "
            ]
          },
          "metadata": {},
          "output_type": "display_data"
        }
      ],
      "source": [
        "\"\"\"Importamos las librerias que ocuparemos mas adelante\"\"\"\n",
        "import numpy as np\n",
        "import pandas as pd\n",
        "\n",
        "import matplotlib.pyplot as plt\n",
        "import seaborn as sns\n",
        "import cufflinks as cf\n",
        "\n",
        "from datetime import date,time,datetime\n",
        "from dateutil.relativedelta import relativedelta as rd\n",
        "\n",
        "\"\"\"Relativo a conexiones con sql\"\"\"\n",
        "from sqlalchemy.engine import create_engine\n",
        "from sqlalchemy.types import BIGINT,INT,VARCHAR,CHAR,BLOB,DATE,DATETIME,NUMERIC,FLOAT,TEXT,BOOLEAN\n",
        "\n",
        "import json \n",
        "import glob \n",
        "import os\n",
        "\n",
        "\n",
        "cf.go_offline()"
      ]
    },
    {
      "cell_type": "markdown",
      "metadata": {
        "id": "hhAD1Im1RTsc"
      },
      "source": [
        "## Rutas de archivos"
      ]
    },
    {
      "cell_type": "code",
      "execution_count": 7,
      "metadata": {
        "id": "lllSMK-MRTsc"
      },
      "outputs": [],
      "source": [
        "\"\"\"Rutas de archivos a las distintas tablas a limpiar\"\"\"\n",
        "\n",
        "arch_usuario = '../Modulo5/Data/sd254_users.csv'\n",
        "arch_tarj = '../Modulo5/Data/sd254_cards.csv'\n",
        "arch_mcc = '../Modulo5/Data/MerchantCategoryCodeList.xls'\n",
        "arch_txn = '../Modulo5/Data/credit_card_transactions-ibm_v2.csv'\n",
        "arch_estados = '../Modulo5/Data/lista_estados.xlsx'\n"
      ]
    },
    {
      "cell_type": "markdown",
      "metadata": {
        "id": "c3xJnI4-RTsc"
      },
      "source": [
        "## Usuarios"
      ]
    },
    {
      "cell_type": "code",
      "execution_count": 8,
      "metadata": {
        "id": "APNRtTPGRTsc"
      },
      "outputs": [],
      "source": [
        "usuarios = pd.read_csv(arch_usuario)"
      ]
    },
    {
      "cell_type": "code",
      "execution_count": 9,
      "metadata": {
        "id": "wl14WmTyRTsd",
        "outputId": "3c1c64f7-eca6-4080-d90e-6123f07adb51"
      },
      "outputs": [
        {
          "data": {
            "text/html": [
              "<div>\n",
              "<style scoped>\n",
              "    .dataframe tbody tr th:only-of-type {\n",
              "        vertical-align: middle;\n",
              "    }\n",
              "\n",
              "    .dataframe tbody tr th {\n",
              "        vertical-align: top;\n",
              "    }\n",
              "\n",
              "    .dataframe thead th {\n",
              "        text-align: right;\n",
              "    }\n",
              "</style>\n",
              "<table border=\"1\" class=\"dataframe\">\n",
              "  <thead>\n",
              "    <tr style=\"text-align: right;\">\n",
              "      <th></th>\n",
              "      <th>Person</th>\n",
              "      <th>Current Age</th>\n",
              "      <th>Retirement Age</th>\n",
              "      <th>Birth Year</th>\n",
              "      <th>Birth Month</th>\n",
              "      <th>Gender</th>\n",
              "      <th>Address</th>\n",
              "      <th>Apartment</th>\n",
              "      <th>City</th>\n",
              "      <th>State</th>\n",
              "      <th>Zipcode</th>\n",
              "      <th>Latitude</th>\n",
              "      <th>Longitude</th>\n",
              "      <th>Per Capita Income - Zipcode</th>\n",
              "      <th>Yearly Income - Person</th>\n",
              "      <th>Total Debt</th>\n",
              "      <th>FICO Score</th>\n",
              "      <th>Num Credit Cards</th>\n",
              "    </tr>\n",
              "  </thead>\n",
              "  <tbody>\n",
              "    <tr>\n",
              "      <th>1998</th>\n",
              "      <td>Juelz Roman</td>\n",
              "      <td>66</td>\n",
              "      <td>60</td>\n",
              "      <td>1954</td>\n",
              "      <td>2</td>\n",
              "      <td>Male</td>\n",
              "      <td>259 Valley Boulevard</td>\n",
              "      <td>NaN</td>\n",
              "      <td>Camp Hill</td>\n",
              "      <td>PA</td>\n",
              "      <td>17011</td>\n",
              "      <td>40.24</td>\n",
              "      <td>-76.92</td>\n",
              "      <td>$25336</td>\n",
              "      <td>$54654</td>\n",
              "      <td>$27241</td>\n",
              "      <td>618</td>\n",
              "      <td>1</td>\n",
              "    </tr>\n",
              "    <tr>\n",
              "      <th>1999</th>\n",
              "      <td>Kenia Harris</td>\n",
              "      <td>21</td>\n",
              "      <td>60</td>\n",
              "      <td>1998</td>\n",
              "      <td>11</td>\n",
              "      <td>Female</td>\n",
              "      <td>472 Ocean View Street</td>\n",
              "      <td>NaN</td>\n",
              "      <td>Merrimack</td>\n",
              "      <td>NH</td>\n",
              "      <td>3054</td>\n",
              "      <td>42.86</td>\n",
              "      <td>-71.48</td>\n",
              "      <td>$32325</td>\n",
              "      <td>$65909</td>\n",
              "      <td>$181261</td>\n",
              "      <td>673</td>\n",
              "      <td>2</td>\n",
              "    </tr>\n",
              "  </tbody>\n",
              "</table>\n",
              "</div>"
            ],
            "text/plain": [
              "            Person  Current Age  Retirement Age  Birth Year  Birth Month  \\\n",
              "1998   Juelz Roman           66              60        1954            2   \n",
              "1999  Kenia Harris           21              60        1998           11   \n",
              "\n",
              "      Gender                Address  Apartment       City State  Zipcode  \\\n",
              "1998    Male   259 Valley Boulevard        NaN  Camp Hill    PA    17011   \n",
              "1999  Female  472 Ocean View Street        NaN  Merrimack    NH     3054   \n",
              "\n",
              "      Latitude  Longitude Per Capita Income - Zipcode Yearly Income - Person  \\\n",
              "1998     40.24     -76.92                      $25336                 $54654   \n",
              "1999     42.86     -71.48                      $32325                 $65909   \n",
              "\n",
              "     Total Debt  FICO Score  Num Credit Cards  \n",
              "1998     $27241         618                 1  \n",
              "1999    $181261         673                 2  "
            ]
          },
          "execution_count": 9,
          "metadata": {},
          "output_type": "execute_result"
        }
      ],
      "source": [
        "usuarios.tail(2)"
      ]
    },
    {
      "cell_type": "code",
      "execution_count": null,
      "metadata": {
        "id": "Fhw9MyqrRTsd"
      },
      "outputs": [],
      "source": [
        "cols = ['Birth Year','Birth Month','Gender','State','Zipcode','Latitude','Longitude']\n",
        "#Se seleccionarón las columnas más importantes para el análisis"
      ]
    },
    {
      "cell_type": "code",
      "execution_count": null,
      "metadata": {
        "id": "DcJ29s22RTsd"
      },
      "outputs": [],
      "source": [
        "usuarios = usuarios[cols]\n",
        "#Nos quedamos solo con las columnas previamente seleccionamos"
      ]
    },
    {
      "cell_type": "code",
      "execution_count": null,
      "metadata": {
        "id": "o7-ikz9zRTse"
      },
      "outputs": [],
      "source": [
        "usuarios.insert(0,'id_user',usuarios.index)\n",
        "#Creamos una nueva columna con el indice de los usuarios, esto para usarla como llave en la base de datos"
      ]
    },
    {
      "cell_type": "code",
      "execution_count": null,
      "metadata": {
        "id": "UghKchUZRTse"
      },
      "outputs": [],
      "source": [
        "usuarios['dob'] = np.vectorize(date)(usuarios['Birth Year'],usuarios['Birth Month'],1)\n",
        "#Se hace un vector de fecha donde el vector esta conformado por (birth year, birth mont, 1), ya en formato date"
      ]
    },
    {
      "cell_type": "code",
      "execution_count": null,
      "metadata": {
        "id": "qwsW8lenRTse"
      },
      "outputs": [],
      "source": [
        "usuarios['Zipcode'] = usuarios['Zipcode'].fillna(99999).map(int).map(lambda x:'%05d'%x)\n",
        "#Se llena los datos nulos con el codigo 99999 y se mapea los codigos para que solo tengan 5 digitos"
      ]
    },
    {
      "cell_type": "code",
      "execution_count": null,
      "metadata": {
        "id": "m1u3TGqpRTse"
      },
      "outputs": [],
      "source": [
        "usuarios['Gender'] = usuarios['Gender'].map(lambda x:x[0])\n",
        "#Nos quedamos con la primer letra de la columna de genero (de cada elemento)"
      ]
    },
    {
      "cell_type": "code",
      "execution_count": null,
      "metadata": {
        "id": "BKdtQVCURTse"
      },
      "outputs": [],
      "source": [
        "usuarios.drop(['Birth Year','Birth Month'],axis=1,inplace=True)\n",
        "#Eliminamos las columnas de bith year y birth month porque ya no se ocuparan, dado que esa info ya la tenemos en dob"
      ]
    },
    {
      "cell_type": "code",
      "execution_count": null,
      "metadata": {
        "id": "NsYuAmX1RTse"
      },
      "outputs": [],
      "source": [
        "usuarios.columns = ['id_user','gender','state','zip','lat','lon','dob']\n",
        "#Renombramos las columnas de la tabla para darles un formato más limpio"
      ]
    },
    {
      "cell_type": "code",
      "execution_count": null,
      "metadata": {
        "id": "O6IZn6vYRTse",
        "outputId": "7a299c87-d0f9-4325-d198-4b8c54f4105c"
      },
      "outputs": [
        {
          "data": {
            "text/html": [
              "<div>\n",
              "<style scoped>\n",
              "    .dataframe tbody tr th:only-of-type {\n",
              "        vertical-align: middle;\n",
              "    }\n",
              "\n",
              "    .dataframe tbody tr th {\n",
              "        vertical-align: top;\n",
              "    }\n",
              "\n",
              "    .dataframe thead th {\n",
              "        text-align: right;\n",
              "    }\n",
              "</style>\n",
              "<table border=\"1\" class=\"dataframe\">\n",
              "  <thead>\n",
              "    <tr style=\"text-align: right;\">\n",
              "      <th></th>\n",
              "      <th>id_user</th>\n",
              "      <th>gender</th>\n",
              "      <th>state</th>\n",
              "      <th>zip</th>\n",
              "      <th>lat</th>\n",
              "      <th>lon</th>\n",
              "      <th>dob</th>\n",
              "    </tr>\n",
              "  </thead>\n",
              "  <tbody>\n",
              "    <tr>\n",
              "      <th>0</th>\n",
              "      <td>0</td>\n",
              "      <td>F</td>\n",
              "      <td>CA</td>\n",
              "      <td>91750</td>\n",
              "      <td>34.15</td>\n",
              "      <td>-117.76</td>\n",
              "      <td>1966-11-01</td>\n",
              "    </tr>\n",
              "    <tr>\n",
              "      <th>1</th>\n",
              "      <td>1</td>\n",
              "      <td>F</td>\n",
              "      <td>NY</td>\n",
              "      <td>11363</td>\n",
              "      <td>40.76</td>\n",
              "      <td>-73.74</td>\n",
              "      <td>1966-12-01</td>\n",
              "    </tr>\n",
              "    <tr>\n",
              "      <th>2</th>\n",
              "      <td>2</td>\n",
              "      <td>F</td>\n",
              "      <td>CA</td>\n",
              "      <td>91792</td>\n",
              "      <td>34.02</td>\n",
              "      <td>-117.89</td>\n",
              "      <td>1938-11-01</td>\n",
              "    </tr>\n",
              "    <tr>\n",
              "      <th>3</th>\n",
              "      <td>3</td>\n",
              "      <td>F</td>\n",
              "      <td>NY</td>\n",
              "      <td>10069</td>\n",
              "      <td>40.71</td>\n",
              "      <td>-73.99</td>\n",
              "      <td>1957-01-01</td>\n",
              "    </tr>\n",
              "    <tr>\n",
              "      <th>4</th>\n",
              "      <td>4</td>\n",
              "      <td>M</td>\n",
              "      <td>CA</td>\n",
              "      <td>94117</td>\n",
              "      <td>37.76</td>\n",
              "      <td>-122.44</td>\n",
              "      <td>1976-09-01</td>\n",
              "    </tr>\n",
              "  </tbody>\n",
              "</table>\n",
              "</div>"
            ],
            "text/plain": [
              "   id_user gender state    zip    lat     lon         dob\n",
              "0        0      F    CA  91750  34.15 -117.76  1966-11-01\n",
              "1        1      F    NY  11363  40.76  -73.74  1966-12-01\n",
              "2        2      F    CA  91792  34.02 -117.89  1938-11-01\n",
              "3        3      F    NY  10069  40.71  -73.99  1957-01-01\n",
              "4        4      M    CA  94117  37.76 -122.44  1976-09-01"
            ]
          },
          "execution_count": 25,
          "metadata": {},
          "output_type": "execute_result"
        }
      ],
      "source": [
        "usuarios.head()\n",
        "#Mostramos los primeros 5 elementos de la tabla"
      ]
    },
    {
      "cell_type": "code",
      "execution_count": 15,
      "metadata": {
        "id": "StKpe-LJRTse"
      },
      "outputs": [],
      "source": [
        "creds = json.load(open('../Modulo5//Data/creds.json','rb'))\n",
        "#abrimos las credenciales para acceder a la base de daros"
      ]
    },
    {
      "cell_type": "code",
      "execution_count": null,
      "metadata": {
        "id": "NRXLLcEoRTsf",
        "outputId": "99d96b4c-1b17-4e42-a6c5-35dc6f97e651"
      },
      "outputs": [
        {
          "data": {
            "text/plain": [
              "False"
            ]
          },
          "execution_count": 32,
          "metadata": {},
          "output_type": "execute_result"
        }
      ],
      "source": [
        "cnx = create_engine(f'mysql+pymysql://{creds[\"u\"]}:{creds[\"p\"]}@{creds[\"h\"]}/{creds[\"d\"]}').connect()\n",
        "cnx.closed\n",
        "#se hace la conexion con mysql"
      ]
    },
    {
      "cell_type": "code",
      "execution_count": null,
      "metadata": {
        "id": "6gZquImIRTsf",
        "outputId": "8ae16b3a-aafb-4d11-f737-bb824d38a196"
      },
      "outputs": [
        {
          "data": {
            "text/plain": [
              "2000"
            ]
          },
          "execution_count": 33,
          "metadata": {},
          "output_type": "execute_result"
        }
      ],
      "source": [
        "usuarios.to_sql(con=cnx,\n",
        "name='tbl_user',\n",
        "if_exists='replace',\n",
        "index=False,\n",
        "dtype=dict(zip(usuarios.columns,[INT,CHAR(1),CHAR(2),CHAR(5),NUMERIC(10,2),NUMERIC(10,2),DATE])))\n",
        "#Cargamos la tabla en la base de datos en mysql, con tipos de datos se la sintaxis de sql"
      ]
    },
    {
      "cell_type": "markdown",
      "metadata": {
        "id": "lK3VPwI4RTsf"
      },
      "source": [
        "## Tarjetas"
      ]
    },
    {
      "cell_type": "code",
      "execution_count": 10,
      "metadata": {
        "id": "vINeuNO-RTsf"
      },
      "outputs": [],
      "source": [
        "tarj = pd.read_csv(arch_tarj)\n",
        "#Leemos la tabala de tarjetas"
      ]
    },
    {
      "cell_type": "code",
      "execution_count": null,
      "metadata": {
        "id": "lQ_iHmoBRTsf"
      },
      "outputs": [],
      "source": [
        "cols = ['User','CARD INDEX','Card Brand','Card Type','Card Number','Acct Open Date']\n",
        "tarj = tarj[cols]\n",
        "#Se seleccionas las variables mas importantes para el analisis"
      ]
    },
    {
      "cell_type": "code",
      "execution_count": null,
      "metadata": {
        "id": "cXMtOYJSRTsf"
      },
      "outputs": [],
      "source": [
        "tarj['Card Brand'] = tarj['Card Brand'].map(lambda x:x[0])\n",
        "#Nos quedamos con la primer letra del card brand"
      ]
    },
    {
      "cell_type": "code",
      "execution_count": null,
      "metadata": {
        "id": "-jmQd4R1RTsf"
      },
      "outputs": [],
      "source": [
        "tarj['Card Type'] = np.where(tarj['Card Type']=='Debit (Prepaid)','P',tarj['Card Type'].map(lambda x:x[0]))\n",
        "#Llenamos la columna con un condicional donde si el valor es debit prepaid se pone p y si no es asi se escoge la primer letra del valor que tome la columna"
      ]
    },
    {
      "cell_type": "code",
      "execution_count": null,
      "metadata": {
        "id": "kKsjKkQPRTsf"
      },
      "outputs": [],
      "source": [
        "tarj['Card Number'] = tarj['Card Number'].map(str)\n",
        "#se hace string a los valores de la columna"
      ]
    },
    {
      "cell_type": "code",
      "execution_count": null,
      "metadata": {
        "id": "eHvtHRITRTsf"
      },
      "outputs": [],
      "source": [
        "tarj['Acct Open Date'] = pd.to_datetime(tarj['Acct Open Date'],format='%m/%Y').dt.date\n",
        "#Pasamos la columna a formato datetime"
      ]
    },
    {
      "cell_type": "code",
      "execution_count": null,
      "metadata": {
        "id": "04WcfAM_RTsg",
        "outputId": "a8424060-6d4b-4eef-8d9f-b58ec18aad1a"
      },
      "outputs": [
        {
          "data": {
            "text/html": [
              "<div>\n",
              "<style scoped>\n",
              "    .dataframe tbody tr th:only-of-type {\n",
              "        vertical-align: middle;\n",
              "    }\n",
              "\n",
              "    .dataframe tbody tr th {\n",
              "        vertical-align: top;\n",
              "    }\n",
              "\n",
              "    .dataframe thead th {\n",
              "        text-align: right;\n",
              "    }\n",
              "</style>\n",
              "<table border=\"1\" class=\"dataframe\">\n",
              "  <thead>\n",
              "    <tr style=\"text-align: right;\">\n",
              "      <th></th>\n",
              "      <th>id_user</th>\n",
              "      <th>card_index</th>\n",
              "      <th>card_brand</th>\n",
              "      <th>card_type</th>\n",
              "      <th>pan</th>\n",
              "      <th>acct_open_date</th>\n",
              "    </tr>\n",
              "  </thead>\n",
              "  <tbody>\n",
              "    <tr>\n",
              "      <th>0</th>\n",
              "      <td>0</td>\n",
              "      <td>0</td>\n",
              "      <td>V</td>\n",
              "      <td>D</td>\n",
              "      <td>4344676511950444</td>\n",
              "      <td>2002-09-01</td>\n",
              "    </tr>\n",
              "    <tr>\n",
              "      <th>1</th>\n",
              "      <td>0</td>\n",
              "      <td>1</td>\n",
              "      <td>V</td>\n",
              "      <td>D</td>\n",
              "      <td>4956965974959986</td>\n",
              "      <td>2014-04-01</td>\n",
              "    </tr>\n",
              "    <tr>\n",
              "      <th>2</th>\n",
              "      <td>0</td>\n",
              "      <td>2</td>\n",
              "      <td>V</td>\n",
              "      <td>D</td>\n",
              "      <td>4582313478255491</td>\n",
              "      <td>2003-07-01</td>\n",
              "    </tr>\n",
              "    <tr>\n",
              "      <th>3</th>\n",
              "      <td>0</td>\n",
              "      <td>3</td>\n",
              "      <td>V</td>\n",
              "      <td>C</td>\n",
              "      <td>4879494103069057</td>\n",
              "      <td>2003-01-01</td>\n",
              "    </tr>\n",
              "    <tr>\n",
              "      <th>4</th>\n",
              "      <td>0</td>\n",
              "      <td>4</td>\n",
              "      <td>M</td>\n",
              "      <td>P</td>\n",
              "      <td>5722874738736011</td>\n",
              "      <td>2008-09-01</td>\n",
              "    </tr>\n",
              "  </tbody>\n",
              "</table>\n",
              "</div>"
            ],
            "text/plain": [
              "   id_user  card_index card_brand card_type               pan acct_open_date\n",
              "0        0           0          V         D  4344676511950444     2002-09-01\n",
              "1        0           1          V         D  4956965974959986     2014-04-01\n",
              "2        0           2          V         D  4582313478255491     2003-07-01\n",
              "3        0           3          V         C  4879494103069057     2003-01-01\n",
              "4        0           4          M         P  5722874738736011     2008-09-01"
            ]
          },
          "execution_count": 53,
          "metadata": {},
          "output_type": "execute_result"
        }
      ],
      "source": [
        "tarj.head()\n",
        "#mostramos los primeros elementos de la tabla"
      ]
    },
    {
      "cell_type": "code",
      "execution_count": null,
      "metadata": {
        "id": "XdgM-lcpRTsg"
      },
      "outputs": [],
      "source": [
        "tarj.columns = ['id_user','card_index','card_brand','card_type','pan','acct_open_date']\n",
        "#renombramos las columnas"
      ]
    },
    {
      "cell_type": "code",
      "execution_count": null,
      "metadata": {
        "id": "poxDshGRRTsg",
        "outputId": "4c271277-a62f-42e3-fc6e-3f0596a1d492"
      },
      "outputs": [
        {
          "data": {
            "text/plain": [
              "6146"
            ]
          },
          "execution_count": 55,
          "metadata": {},
          "output_type": "execute_result"
        }
      ],
      "source": [
        "tarj.to_sql(con=cnx,\n",
        "name='tbl_card',\n",
        "if_exists='replace',\n",
        "index=False,\n",
        "dtype=dict(zip(tarj.columns,[INT,INT,CHAR(1),CHAR(1),CHAR(16),DATE])))\n",
        "#cargamos la información  a la base de datos de mysql."
      ]
    },
    {
      "cell_type": "markdown",
      "metadata": {
        "id": "QXMs6h45RTsg"
      },
      "source": [
        "## MCC"
      ]
    },
    {
      "cell_type": "code",
      "execution_count": null,
      "metadata": {
        "id": "v1FrocO3RTsg"
      },
      "outputs": [],
      "source": [
        "mcc = pd.read_excel(arch_mcc)\n",
        "#Cargamos la tabla de mcc"
      ]
    },
    {
      "cell_type": "code",
      "execution_count": null,
      "metadata": {
        "id": "vpg1ze6ARTsg"
      },
      "outputs": [],
      "source": [
        "mcc.drop('Unnamed: 2',axis=1,inplace=True)\n",
        "#Borramos una columna vacia que nos arroja el excel"
      ]
    },
    {
      "cell_type": "code",
      "execution_count": null,
      "metadata": {
        "id": "tYvC7PnJRTsg"
      },
      "outputs": [],
      "source": [
        "mcc.columns = ['mcc','merchant_category']\n",
        "#Seleccionamos las columnas a usar"
      ]
    },
    {
      "cell_type": "code",
      "execution_count": null,
      "metadata": {
        "id": "xspyofw6RTsg"
      },
      "outputs": [],
      "source": [
        "mcc['mcc'] = mcc['mcc'].map(lambda x:'%04d'%x)\n",
        "#Sobre la columna de mcc, hacemos que todos los codigos tengan 4 digitos"
      ]
    },
    {
      "cell_type": "code",
      "execution_count": null,
      "metadata": {
        "id": "ab4dhI1YRTsg",
        "outputId": "b12c8658-57d4-4e82-b5aa-fa1ad32e762c"
      },
      "outputs": [
        {
          "data": {
            "text/plain": [
              "160"
            ]
          },
          "execution_count": 68,
          "metadata": {},
          "output_type": "execute_result"
        }
      ],
      "source": [
        "mcc['merchant_category'].map(len).max()\n",
        "#Checamos la lingitud de la cadena de texto mas grande de la categroría merchant category"
      ]
    },
    {
      "cell_type": "code",
      "execution_count": null,
      "metadata": {
        "id": "szLo48fBRTsg",
        "outputId": "c4de7e78-f8d4-4b0c-a943-78d060e79b39"
      },
      "outputs": [
        {
          "data": {
            "text/plain": [
              "880"
            ]
          },
          "execution_count": 69,
          "metadata": {},
          "output_type": "execute_result"
        }
      ],
      "source": [
        "mcc.to_sql(con=cnx,\n",
        "name='tbl_mcc',\n",
        "if_exists='replace',\n",
        "index=False,\n",
        "dtype=dict(zip(mcc.columns,[CHAR(4),VARCHAR(160)])))\n",
        "#Pasamos la tabla ya limpia a la base de datos"
      ]
    },
    {
      "cell_type": "markdown",
      "metadata": {
        "id": "3XOZpX6HRTsg"
      },
      "source": [
        "## Transacciones"
      ]
    },
    {
      "cell_type": "code",
      "execution_count": null,
      "metadata": {
        "id": "WqAS8zX2RTsg"
      },
      "outputs": [],
      "source": [
        "cols = ['Merchant State','Zip','MCC']\n",
        "merchant = pd.read_csv(arch_txn,usecols=cols,dtype=str).drop_duplicates().reset_index(drop=True)\n",
        "#Seleccionamos las columnas mas importante de la tabla de mechant"
      ]
    },
    {
      "cell_type": "code",
      "execution_count": null,
      "metadata": {
        "id": "F2Y-XNQuRTsg",
        "outputId": "3a6674b9-0186-4c3d-ac01-b5ad0dfa3a91"
      },
      "outputs": [
        {
          "data": {
            "text/html": [
              "<div>\n",
              "<style scoped>\n",
              "    .dataframe tbody tr th:only-of-type {\n",
              "        vertical-align: middle;\n",
              "    }\n",
              "\n",
              "    .dataframe tbody tr th {\n",
              "        vertical-align: top;\n",
              "    }\n",
              "\n",
              "    .dataframe thead th {\n",
              "        text-align: right;\n",
              "    }\n",
              "</style>\n",
              "<table border=\"1\" class=\"dataframe\">\n",
              "  <thead>\n",
              "    <tr style=\"text-align: right;\">\n",
              "      <th></th>\n",
              "      <th>state_name</th>\n",
              "      <th>state_code</th>\n",
              "    </tr>\n",
              "  </thead>\n",
              "  <tbody>\n",
              "    <tr>\n",
              "      <th>0</th>\n",
              "      <td>Alabama</td>\n",
              "      <td>AL</td>\n",
              "    </tr>\n",
              "    <tr>\n",
              "      <th>1</th>\n",
              "      <td>Alaska</td>\n",
              "      <td>AK</td>\n",
              "    </tr>\n",
              "    <tr>\n",
              "      <th>2</th>\n",
              "      <td>Arizona</td>\n",
              "      <td>AZ</td>\n",
              "    </tr>\n",
              "    <tr>\n",
              "      <th>3</th>\n",
              "      <td>Arkansas</td>\n",
              "      <td>AR</td>\n",
              "    </tr>\n",
              "    <tr>\n",
              "      <th>4</th>\n",
              "      <td>California</td>\n",
              "      <td>CA</td>\n",
              "    </tr>\n",
              "  </tbody>\n",
              "</table>\n",
              "</div>"
            ],
            "text/plain": [
              "   state_name state_code\n",
              "0     Alabama         AL\n",
              "1      Alaska         AK\n",
              "2     Arizona         AZ\n",
              "3    Arkansas         AR\n",
              "4  California         CA"
            ]
          },
          "execution_count": 122,
          "metadata": {},
          "output_type": "execute_result"
        }
      ],
      "source": [
        "estados = pd.read_excel(arch_estados,usecols=['state_name','state_code'])\n",
        "estados.head()\n",
        "#Cargamos la tabla artesanal de estados de usa, recordando que la limpieza se hizo manual"
      ]
    },
    {
      "cell_type": "code",
      "execution_count": null,
      "metadata": {
        "id": "yqxx4aB-RTsg"
      },
      "outputs": [],
      "source": [
        "merchant['territory'] = np.where(merchant['Merchant State'].isin(estados['state_code']),merchant['Merchant State'],'XX')\n",
        "#Aplicamos una condicion, donde si el estado estan en la lista de estados con codigo, se deja el codigo, si no se le pone XX\n",
        "merchant['MCC'] = merchant['MCC'].fillna(9999).map(int).map(lambda x:'%04d'%x)\n",
        "#Para los MCC nulos se llena con el codigo 9999, se hace entero y solo van a tener 4 digitos\n",
        "merchant['Zip'] = merchant['Zip'].fillna(99999).map(float).map(int).map(lambda x:'%05d'%x)\n",
        "#Para el Zip los nulos se llenan con el codigo 99999, se hacen primero flotantes, luego entero y se le pone que la columna este llena de 5 digitos"
      ]
    },
    {
      "cell_type": "code",
      "execution_count": null,
      "metadata": {
        "id": "vWg8joF6RTsg"
      },
      "outputs": [],
      "source": [
        "merchant = merchant[~((merchant['Zip']=='99999')|(merchant['MCC']=='9999'))]\n",
        "#Guardamos aquellos datos que no cumplan con tener codigo zip 99999 y mc 9999\n",
        "#(merchant['Zip']!='99999')&(merchant['MCC']!='9999')"
      ]
    },
    {
      "cell_type": "code",
      "execution_count": null,
      "metadata": {
        "id": "2vAdxS4wRTsg"
      },
      "outputs": [],
      "source": [
        "merchant.drop('Merchant State',axis=1,inplace=True)\n",
        "#Eliminamos la columna de Merchant State"
      ]
    },
    {
      "cell_type": "code",
      "execution_count": null,
      "metadata": {
        "id": "iD64bPh8RTsg"
      },
      "outputs": [],
      "source": [
        "merchant = merchant.merge(mcc,left_on='MCC',right_on='mcc',how='inner')\n",
        "#Unimos las tablas de merchant y mcc usando como llave \"MCC\" y \"mcc\", con un inner join (la inteseccion de los 2 conjuntos)"
      ]
    },
    {
      "cell_type": "code",
      "execution_count": null,
      "metadata": {
        "id": "u-Oroj-fRTsh"
      },
      "outputs": [],
      "source": [
        "merchant.drop(['mcc','merchant_category'],axis=1,inplace=True)\n",
        "#De la tabla merchant eliminamos las columnas mcc y merchant_category"
      ]
    },
    {
      "cell_type": "code",
      "execution_count": null,
      "metadata": {
        "id": "ST0rokCuRTsh"
      },
      "outputs": [],
      "source": [
        "merchant.insert(0,'id',merchant.index+1)\n",
        "#Creamos una nueva tabla con el id de merchant"
      ]
    },
    {
      "cell_type": "code",
      "execution_count": null,
      "metadata": {
        "id": "ZYLwxsAFRTsh",
        "outputId": "36f52fe2-b8ae-4c0c-8634-41daa3c6997f"
      },
      "outputs": [
        {
          "data": {
            "text/html": [
              "<div>\n",
              "<style scoped>\n",
              "    .dataframe tbody tr th:only-of-type {\n",
              "        vertical-align: middle;\n",
              "    }\n",
              "\n",
              "    .dataframe tbody tr th {\n",
              "        vertical-align: top;\n",
              "    }\n",
              "\n",
              "    .dataframe thead th {\n",
              "        text-align: right;\n",
              "    }\n",
              "</style>\n",
              "<table border=\"1\" class=\"dataframe\">\n",
              "  <thead>\n",
              "    <tr style=\"text-align: right;\">\n",
              "      <th></th>\n",
              "      <th>id</th>\n",
              "      <th>Zip</th>\n",
              "      <th>MCC</th>\n",
              "      <th>territory</th>\n",
              "    </tr>\n",
              "  </thead>\n",
              "  <tbody>\n",
              "    <tr>\n",
              "      <th>0</th>\n",
              "      <td>1</td>\n",
              "      <td>91750</td>\n",
              "      <td>5300</td>\n",
              "      <td>CA</td>\n",
              "    </tr>\n",
              "    <tr>\n",
              "      <th>1</th>\n",
              "      <td>2</td>\n",
              "      <td>79927</td>\n",
              "      <td>5300</td>\n",
              "      <td>TX</td>\n",
              "    </tr>\n",
              "    <tr>\n",
              "      <th>2</th>\n",
              "      <td>3</td>\n",
              "      <td>60643</td>\n",
              "      <td>5300</td>\n",
              "      <td>IL</td>\n",
              "    </tr>\n",
              "    <tr>\n",
              "      <th>3</th>\n",
              "      <td>4</td>\n",
              "      <td>48170</td>\n",
              "      <td>5300</td>\n",
              "      <td>MI</td>\n",
              "    </tr>\n",
              "    <tr>\n",
              "      <th>4</th>\n",
              "      <td>5</td>\n",
              "      <td>98198</td>\n",
              "      <td>5300</td>\n",
              "      <td>WA</td>\n",
              "    </tr>\n",
              "  </tbody>\n",
              "</table>\n",
              "</div>"
            ],
            "text/plain": [
              "   id    Zip   MCC territory\n",
              "0   1  91750  5300        CA\n",
              "1   2  79927  5300        TX\n",
              "2   3  60643  5300        IL\n",
              "3   4  48170  5300        MI\n",
              "4   5  98198  5300        WA"
            ]
          },
          "execution_count": 133,
          "metadata": {},
          "output_type": "execute_result"
        }
      ],
      "source": [
        "merchant.head()\n",
        "#Visualizamos los primeros 5 elementos de la tabla"
      ]
    },
    {
      "cell_type": "code",
      "execution_count": null,
      "metadata": {
        "id": "VP3BnKr7RTsi"
      },
      "outputs": [],
      "source": [
        "merchant.columns =['id_merchant','zip_merchant','mcc','territory']\n",
        "#Renombramos las variables de la tabla"
      ]
    },
    {
      "cell_type": "code",
      "execution_count": null,
      "metadata": {
        "id": "EWO0RILdRTsi",
        "outputId": "d0e2aea5-1943-43d6-c5ed-1911be28e6f3"
      },
      "outputs": [
        {
          "data": {
            "text/html": [
              "<div>\n",
              "<style scoped>\n",
              "    .dataframe tbody tr th:only-of-type {\n",
              "        vertical-align: middle;\n",
              "    }\n",
              "\n",
              "    .dataframe tbody tr th {\n",
              "        vertical-align: top;\n",
              "    }\n",
              "\n",
              "    .dataframe thead th {\n",
              "        text-align: right;\n",
              "    }\n",
              "</style>\n",
              "<table border=\"1\" class=\"dataframe\">\n",
              "  <thead>\n",
              "    <tr style=\"text-align: right;\">\n",
              "      <th></th>\n",
              "      <th>id_merchant</th>\n",
              "      <th>zip_merchant</th>\n",
              "      <th>mcc</th>\n",
              "      <th>territory</th>\n",
              "    </tr>\n",
              "  </thead>\n",
              "  <tbody>\n",
              "    <tr>\n",
              "      <th>0</th>\n",
              "      <td>1</td>\n",
              "      <td>91750</td>\n",
              "      <td>5300</td>\n",
              "      <td>CA</td>\n",
              "    </tr>\n",
              "    <tr>\n",
              "      <th>1</th>\n",
              "      <td>2</td>\n",
              "      <td>79927</td>\n",
              "      <td>5300</td>\n",
              "      <td>TX</td>\n",
              "    </tr>\n",
              "    <tr>\n",
              "      <th>2</th>\n",
              "      <td>3</td>\n",
              "      <td>60643</td>\n",
              "      <td>5300</td>\n",
              "      <td>IL</td>\n",
              "    </tr>\n",
              "    <tr>\n",
              "      <th>3</th>\n",
              "      <td>4</td>\n",
              "      <td>48170</td>\n",
              "      <td>5300</td>\n",
              "      <td>MI</td>\n",
              "    </tr>\n",
              "    <tr>\n",
              "      <th>4</th>\n",
              "      <td>5</td>\n",
              "      <td>98198</td>\n",
              "      <td>5300</td>\n",
              "      <td>WA</td>\n",
              "    </tr>\n",
              "  </tbody>\n",
              "</table>\n",
              "</div>"
            ],
            "text/plain": [
              "   id_merchant zip_merchant   mcc territory\n",
              "0            1        91750  5300        CA\n",
              "1            2        79927  5300        TX\n",
              "2            3        60643  5300        IL\n",
              "3            4        48170  5300        MI\n",
              "4            5        98198  5300        WA"
            ]
          },
          "execution_count": 135,
          "metadata": {},
          "output_type": "execute_result"
        }
      ],
      "source": [
        "merchant.head()"
      ]
    },
    {
      "cell_type": "code",
      "execution_count": null,
      "metadata": {
        "id": "EH3FAbgURTsi",
        "outputId": "76514a5c-9c5b-44d3-9e7c-0d5cc701c854"
      },
      "outputs": [
        {
          "data": {
            "text/plain": [
              "248870"
            ]
          },
          "execution_count": 136,
          "metadata": {},
          "output_type": "execute_result"
        }
      ],
      "source": [
        "merchant.to_sql(con=cnx,\n",
        "name='tbl_merchant',\n",
        "if_exists='replace',\n",
        "index=False,\n",
        "dtype=dict(zip(merchant.columns,[INT,CHAR(5),CHAR(4),CHAR(2)])))\n",
        "#cargamos la tabla de merchant a la base de datos"
      ]
    },
    {
      "cell_type": "code",
      "execution_count": null,
      "metadata": {
        "id": "XT9tmGiJRTsi"
      },
      "outputs": [],
      "source": [
        "cols = ['User','Card','Year','Month','Day','Time','Amount','Use Chip','Merchant State','Zip','MCC','Errors?','Is Fraud?']\n",
        "txn = pd.read_csv(arch_txn,usecols=cols,dtype=str)\n",
        "#Cargamos la tabla de transacciones, con nrows podemos hacer una muestra pequeña para hacer la limpieza mas rapido y luego hacerlo de manera general, seleccionamos las columnas\n",
        "#mas importantes segun nuestro criterio"
      ]
    },
    {
      "cell_type": "code",
      "execution_count": null,
      "metadata": {
        "id": "I5VRORv_RTsi"
      },
      "outputs": [],
      "source": [
        "txn['date'] = np.vectorize(date)(txn['Year'].astype(int),txn['Month'].astype(int),txn['Day'].astype(int))\n",
        "#Hacemos una vectorizacion de variable date, donde lo llenamos con Year con formato de enter, month con formato de entero y day con formato de entero"
      ]
    },
    {
      "cell_type": "code",
      "execution_count": null,
      "metadata": {
        "id": "Nb5cBwuhRTsi"
      },
      "outputs": [],
      "source": [
        "txn['ts'] = pd.to_datetime(txn['date'].map(lambda x:x.strftime('%Y-%m-%d'))+' '+txn['Time'],format='%Y-%m-%d %H:%M')\n",
        "#Creamos un timestamp donde juntamos las columnas de date y time"
      ]
    },
    {
      "cell_type": "code",
      "execution_count": null,
      "metadata": {
        "id": "l8fZVF0rRTsi"
      },
      "outputs": [],
      "source": [
        "txn.drop(['Year','Month','Day','Time','date'],axis=1,inplace=True)\n",
        "#Eliminamos las columnas que ya no usaran por la creacion de la variable ts"
      ]
    },
    {
      "cell_type": "code",
      "execution_count": null,
      "metadata": {
        "id": "mJsmVWdbRTsi"
      },
      "outputs": [],
      "source": [
        "txn['Amount'] = txn['Amount'].map(lambda x:x.replace('$','')).map(float)\n",
        "#De la columna amount quitamos el signo de pesos y lo cambiamos por vacio, ademas lo convertimos en flotante"
      ]
    },
    {
      "cell_type": "code",
      "execution_count": null,
      "metadata": {
        "id": "2Fc0qxleRTsi"
      },
      "outputs": [],
      "source": [
        "txn['Is Fraud?'] = (txn['Is Fraud?']=='Yes').astype(int)\n",
        "#La variable Is fraud lo convertimos en entero donde yes es 1 y no es 0"
      ]
    },
    {
      "cell_type": "code",
      "execution_count": null,
      "metadata": {
        "id": "RWvJbybJRTsi"
      },
      "outputs": [],
      "source": [
        "txn['territory'] = np.where(txn['Merchant State'].isin(estados['state_code']),txn['Merchant State'],'XX')\n",
        "txn['MCC'] = txn['MCC'].fillna(9999).map(int).map(lambda x:'%04d'%x)\n",
        "txn['Zip'] = txn['Zip'].fillna(99999).map(float).map(int).map(lambda x:'%05d'%x)\n",
        "#Aplicamos las mismas tranformaciones hechas a la variable merchant"
      ]
    },
    {
      "cell_type": "code",
      "execution_count": null,
      "metadata": {
        "id": "nawxNYBARTsi",
        "outputId": "0339fd5a-cce3-4b6e-dd4f-af71b2612f38"
      },
      "outputs": [
        {
          "data": {
            "text/html": [
              "<div>\n",
              "<style scoped>\n",
              "    .dataframe tbody tr th:only-of-type {\n",
              "        vertical-align: middle;\n",
              "    }\n",
              "\n",
              "    .dataframe tbody tr th {\n",
              "        vertical-align: top;\n",
              "    }\n",
              "\n",
              "    .dataframe thead th {\n",
              "        text-align: right;\n",
              "    }\n",
              "</style>\n",
              "<table border=\"1\" class=\"dataframe\">\n",
              "  <thead>\n",
              "    <tr style=\"text-align: right;\">\n",
              "      <th></th>\n",
              "      <th>id_merchant</th>\n",
              "      <th>zip_merchant</th>\n",
              "      <th>mcc</th>\n",
              "      <th>territory</th>\n",
              "    </tr>\n",
              "  </thead>\n",
              "  <tbody>\n",
              "    <tr>\n",
              "      <th>0</th>\n",
              "      <td>1</td>\n",
              "      <td>91750</td>\n",
              "      <td>5300</td>\n",
              "      <td>CA</td>\n",
              "    </tr>\n",
              "    <tr>\n",
              "      <th>1</th>\n",
              "      <td>2</td>\n",
              "      <td>79927</td>\n",
              "      <td>5300</td>\n",
              "      <td>TX</td>\n",
              "    </tr>\n",
              "    <tr>\n",
              "      <th>2</th>\n",
              "      <td>3</td>\n",
              "      <td>60643</td>\n",
              "      <td>5300</td>\n",
              "      <td>IL</td>\n",
              "    </tr>\n",
              "    <tr>\n",
              "      <th>3</th>\n",
              "      <td>4</td>\n",
              "      <td>48170</td>\n",
              "      <td>5300</td>\n",
              "      <td>MI</td>\n",
              "    </tr>\n",
              "    <tr>\n",
              "      <th>4</th>\n",
              "      <td>5</td>\n",
              "      <td>98198</td>\n",
              "      <td>5300</td>\n",
              "      <td>WA</td>\n",
              "    </tr>\n",
              "    <tr>\n",
              "      <th>...</th>\n",
              "      <td>...</td>\n",
              "      <td>...</td>\n",
              "      <td>...</td>\n",
              "      <td>...</td>\n",
              "    </tr>\n",
              "    <tr>\n",
              "      <th>248865</th>\n",
              "      <td>248866</td>\n",
              "      <td>92553</td>\n",
              "      <td>5192</td>\n",
              "      <td>CA</td>\n",
              "    </tr>\n",
              "    <tr>\n",
              "      <th>248866</th>\n",
              "      <td>248867</td>\n",
              "      <td>76262</td>\n",
              "      <td>5192</td>\n",
              "      <td>TX</td>\n",
              "    </tr>\n",
              "    <tr>\n",
              "      <th>248867</th>\n",
              "      <td>248868</td>\n",
              "      <td>33183</td>\n",
              "      <td>5192</td>\n",
              "      <td>FL</td>\n",
              "    </tr>\n",
              "    <tr>\n",
              "      <th>248868</th>\n",
              "      <td>248869</td>\n",
              "      <td>37918</td>\n",
              "      <td>5192</td>\n",
              "      <td>TN</td>\n",
              "    </tr>\n",
              "    <tr>\n",
              "      <th>248869</th>\n",
              "      <td>248870</td>\n",
              "      <td>72703</td>\n",
              "      <td>7393</td>\n",
              "      <td>AR</td>\n",
              "    </tr>\n",
              "  </tbody>\n",
              "</table>\n",
              "<p>248870 rows × 4 columns</p>\n",
              "</div>"
            ],
            "text/plain": [
              "        id_merchant zip_merchant   mcc territory\n",
              "0                 1        91750  5300        CA\n",
              "1                 2        79927  5300        TX\n",
              "2                 3        60643  5300        IL\n",
              "3                 4        48170  5300        MI\n",
              "4                 5        98198  5300        WA\n",
              "...             ...          ...   ...       ...\n",
              "248865       248866        92553  5192        CA\n",
              "248866       248867        76262  5192        TX\n",
              "248867       248868        33183  5192        FL\n",
              "248868       248869        37918  5192        TN\n",
              "248869       248870        72703  7393        AR\n",
              "\n",
              "[248870 rows x 4 columns]"
            ]
          },
          "execution_count": 187,
          "metadata": {},
          "output_type": "execute_result"
        }
      ],
      "source": [
        "merchant"
      ]
    },
    {
      "cell_type": "code",
      "execution_count": null,
      "metadata": {
        "id": "xR_BIVJJRTsi"
      },
      "outputs": [],
      "source": [
        "txn.rename(columns={'Zip':'zip_merchant','MCC':'mcc'},inplace=True)\n",
        "#Renombramos columnas"
      ]
    },
    {
      "cell_type": "code",
      "execution_count": null,
      "metadata": {
        "id": "Vaj--4mlRTsi"
      },
      "outputs": [],
      "source": [
        "txn = txn.merge(merchant,\n",
        "on=['zip_merchant','mcc','territory'],\n",
        "how='inner').drop(['zip_merchant','mcc','territory','Merchant State'],axis=1)\n",
        "#Juntamos la tabla de transacciones con merchan y borramos las variables repetids"
      ]
    },
    {
      "cell_type": "code",
      "execution_count": null,
      "metadata": {
        "id": "ArSdKaMzRTsi",
        "outputId": "5cc59c14-4c35-42f6-a290-dbdd0be26336"
      },
      "outputs": [
        {
          "data": {
            "text/html": [
              "<div>\n",
              "<style scoped>\n",
              "    .dataframe tbody tr th:only-of-type {\n",
              "        vertical-align: middle;\n",
              "    }\n",
              "\n",
              "    .dataframe tbody tr th {\n",
              "        vertical-align: top;\n",
              "    }\n",
              "\n",
              "    .dataframe thead th {\n",
              "        text-align: right;\n",
              "    }\n",
              "</style>\n",
              "<table border=\"1\" class=\"dataframe\">\n",
              "  <thead>\n",
              "    <tr style=\"text-align: right;\">\n",
              "      <th></th>\n",
              "      <th>User</th>\n",
              "      <th>Card</th>\n",
              "      <th>Amount</th>\n",
              "      <th>Use Chip</th>\n",
              "      <th>Errors?</th>\n",
              "      <th>Is Fraud?</th>\n",
              "      <th>ts</th>\n",
              "      <th>id_merchant</th>\n",
              "    </tr>\n",
              "  </thead>\n",
              "  <tbody>\n",
              "    <tr>\n",
              "      <th>0</th>\n",
              "      <td>0</td>\n",
              "      <td>0</td>\n",
              "      <td>134.09</td>\n",
              "      <td>Swipe Transaction</td>\n",
              "      <td>NaN</td>\n",
              "      <td>0</td>\n",
              "      <td>2002-09-01 06:21:00</td>\n",
              "      <td>1</td>\n",
              "    </tr>\n",
              "    <tr>\n",
              "      <th>1</th>\n",
              "      <td>0</td>\n",
              "      <td>0</td>\n",
              "      <td>102.18</td>\n",
              "      <td>Swipe Transaction</td>\n",
              "      <td>NaN</td>\n",
              "      <td>0</td>\n",
              "      <td>2002-09-10 06:22:00</td>\n",
              "      <td>1</td>\n",
              "    </tr>\n",
              "    <tr>\n",
              "      <th>2</th>\n",
              "      <td>0</td>\n",
              "      <td>0</td>\n",
              "      <td>126.79</td>\n",
              "      <td>Swipe Transaction</td>\n",
              "      <td>NaN</td>\n",
              "      <td>0</td>\n",
              "      <td>2002-09-13 06:22:00</td>\n",
              "      <td>1</td>\n",
              "    </tr>\n",
              "    <tr>\n",
              "      <th>3</th>\n",
              "      <td>0</td>\n",
              "      <td>0</td>\n",
              "      <td>115.34</td>\n",
              "      <td>Swipe Transaction</td>\n",
              "      <td>NaN</td>\n",
              "      <td>0</td>\n",
              "      <td>2002-09-16 06:00:00</td>\n",
              "      <td>1</td>\n",
              "    </tr>\n",
              "    <tr>\n",
              "      <th>4</th>\n",
              "      <td>0</td>\n",
              "      <td>0</td>\n",
              "      <td>128.85</td>\n",
              "      <td>Swipe Transaction</td>\n",
              "      <td>NaN</td>\n",
              "      <td>0</td>\n",
              "      <td>2002-09-18 06:19:00</td>\n",
              "      <td>1</td>\n",
              "    </tr>\n",
              "  </tbody>\n",
              "</table>\n",
              "</div>"
            ],
            "text/plain": [
              "  User Card  Amount           Use Chip Errors?  Is Fraud?                  ts  \\\n",
              "0    0    0  134.09  Swipe Transaction     NaN          0 2002-09-01 06:21:00   \n",
              "1    0    0  102.18  Swipe Transaction     NaN          0 2002-09-10 06:22:00   \n",
              "2    0    0  126.79  Swipe Transaction     NaN          0 2002-09-13 06:22:00   \n",
              "3    0    0  115.34  Swipe Transaction     NaN          0 2002-09-16 06:00:00   \n",
              "4    0    0  128.85  Swipe Transaction     NaN          0 2002-09-18 06:19:00   \n",
              "\n",
              "   id_merchant  \n",
              "0            1  \n",
              "1            1  \n",
              "2            1  \n",
              "3            1  \n",
              "4            1  "
            ]
          },
          "execution_count": 190,
          "metadata": {},
          "output_type": "execute_result"
        }
      ],
      "source": [
        "txn.head(5)"
      ]
    },
    {
      "cell_type": "code",
      "execution_count": null,
      "metadata": {
        "id": "E9Sm3sj0RTsj"
      },
      "outputs": [],
      "source": [
        "txn[['User','Card']] = txn[['User','Card']].astype(int)\n",
        "#Las variables user y cars se hacen numerixas"
      ]
    },
    {
      "cell_type": "code",
      "execution_count": null,
      "metadata": {
        "id": "DSvjoNogRTsj"
      },
      "outputs": [],
      "source": [
        "txn = txn.merge(tarj[['id_user','card_index','pan']],left_on=['User','Card'],right_on=['id_user','card_index'],how='inner')\n",
        "#Junramos la tabla de transacciones con las de tarjetas tomando solo unas cuantas columnas, y se toma como llave a user y card"
      ]
    },
    {
      "cell_type": "code",
      "execution_count": null,
      "metadata": {
        "id": "o5rf2M6PRTsj"
      },
      "outputs": [],
      "source": [
        "txn.drop(['Card','card_index','User'],axis=1,inplace=True)\n",
        "#Eliminamos las columnas que no nos puedan servir, esto para conservar el pan"
      ]
    },
    {
      "cell_type": "code",
      "execution_count": null,
      "metadata": {
        "id": "2vl_5GFZRTsj"
      },
      "outputs": [],
      "source": [
        "txn['Use Chip'] = txn['Use Chip'].map(lambda x:x[0])\n",
        "#Nos quedamos con la primer letra del use chip"
      ]
    },
    {
      "cell_type": "code",
      "execution_count": null,
      "metadata": {
        "id": "OE3KrqGJRTsj"
      },
      "outputs": [],
      "source": [
        "txn.insert(0,'id_txn',txn.index+1) #creamos una nueva columna con el indice +1\n",
        "txn.columns = ['id_txn','amount','txn_type','rej_reason','is_fraud','ts','id_merchant','id_user','pan'] #nombramos las columnas"
      ]
    },
    {
      "cell_type": "code",
      "execution_count": null,
      "metadata": {
        "id": "yNQImWnyRTsj",
        "outputId": "e0a0ef01-ab44-4e76-e0f8-08d06bccd8ab"
      },
      "outputs": [
        {
          "data": {
            "text/plain": [
              "37"
            ]
          },
          "execution_count": 200,
          "metadata": {},
          "output_type": "execute_result"
        }
      ],
      "source": [
        "txn['rej_reason'].fillna('').map(len).max()\n",
        "#Para la variable rej_reason llenamos los nulos con vacio vemos su longitud maxima para el tipo de dato para sql"
      ]
    },
    {
      "cell_type": "code",
      "execution_count": null,
      "metadata": {
        "id": "MYuDlzIVRTsj",
        "outputId": "a00b3428-57e3-4189-a676-257de89d320e"
      },
      "outputs": [
        {
          "data": {
            "text/html": [
              "<div>\n",
              "<style scoped>\n",
              "    .dataframe tbody tr th:only-of-type {\n",
              "        vertical-align: middle;\n",
              "    }\n",
              "\n",
              "    .dataframe tbody tr th {\n",
              "        vertical-align: top;\n",
              "    }\n",
              "\n",
              "    .dataframe thead th {\n",
              "        text-align: right;\n",
              "    }\n",
              "</style>\n",
              "<table border=\"1\" class=\"dataframe\">\n",
              "  <thead>\n",
              "    <tr style=\"text-align: right;\">\n",
              "      <th></th>\n",
              "      <th>id_txn</th>\n",
              "      <th>amount</th>\n",
              "      <th>txn_type</th>\n",
              "      <th>rej_reason</th>\n",
              "      <th>is_fraud</th>\n",
              "      <th>ts</th>\n",
              "      <th>id_merchant</th>\n",
              "      <th>id_user</th>\n",
              "      <th>pan</th>\n",
              "    </tr>\n",
              "  </thead>\n",
              "  <tbody>\n",
              "    <tr>\n",
              "      <th>0</th>\n",
              "      <td>1</td>\n",
              "      <td>134.09</td>\n",
              "      <td>S</td>\n",
              "      <td>NaN</td>\n",
              "      <td>0</td>\n",
              "      <td>2002-09-01 06:21:00</td>\n",
              "      <td>1</td>\n",
              "      <td>0</td>\n",
              "      <td>4344676511950444</td>\n",
              "    </tr>\n",
              "    <tr>\n",
              "      <th>1</th>\n",
              "      <td>2</td>\n",
              "      <td>102.18</td>\n",
              "      <td>S</td>\n",
              "      <td>NaN</td>\n",
              "      <td>0</td>\n",
              "      <td>2002-09-10 06:22:00</td>\n",
              "      <td>1</td>\n",
              "      <td>0</td>\n",
              "      <td>4344676511950444</td>\n",
              "    </tr>\n",
              "    <tr>\n",
              "      <th>2</th>\n",
              "      <td>3</td>\n",
              "      <td>126.79</td>\n",
              "      <td>S</td>\n",
              "      <td>NaN</td>\n",
              "      <td>0</td>\n",
              "      <td>2002-09-13 06:22:00</td>\n",
              "      <td>1</td>\n",
              "      <td>0</td>\n",
              "      <td>4344676511950444</td>\n",
              "    </tr>\n",
              "    <tr>\n",
              "      <th>3</th>\n",
              "      <td>4</td>\n",
              "      <td>115.34</td>\n",
              "      <td>S</td>\n",
              "      <td>NaN</td>\n",
              "      <td>0</td>\n",
              "      <td>2002-09-16 06:00:00</td>\n",
              "      <td>1</td>\n",
              "      <td>0</td>\n",
              "      <td>4344676511950444</td>\n",
              "    </tr>\n",
              "    <tr>\n",
              "      <th>4</th>\n",
              "      <td>5</td>\n",
              "      <td>128.85</td>\n",
              "      <td>S</td>\n",
              "      <td>NaN</td>\n",
              "      <td>0</td>\n",
              "      <td>2002-09-18 06:19:00</td>\n",
              "      <td>1</td>\n",
              "      <td>0</td>\n",
              "      <td>4344676511950444</td>\n",
              "    </tr>\n",
              "  </tbody>\n",
              "</table>\n",
              "</div>"
            ],
            "text/plain": [
              "   id_txn  amount txn_type rej_reason  is_fraud                  ts  \\\n",
              "0       1  134.09        S        NaN         0 2002-09-01 06:21:00   \n",
              "1       2  102.18        S        NaN         0 2002-09-10 06:22:00   \n",
              "2       3  126.79        S        NaN         0 2002-09-13 06:22:00   \n",
              "3       4  115.34        S        NaN         0 2002-09-16 06:00:00   \n",
              "4       5  128.85        S        NaN         0 2002-09-18 06:19:00   \n",
              "\n",
              "   id_merchant  id_user               pan  \n",
              "0            1        0  4344676511950444  \n",
              "1            1        0  4344676511950444  \n",
              "2            1        0  4344676511950444  \n",
              "3            1        0  4344676511950444  \n",
              "4            1        0  4344676511950444  "
            ]
          },
          "execution_count": 201,
          "metadata": {},
          "output_type": "execute_result"
        }
      ],
      "source": [
        "txn.head()"
      ]
    },
    {
      "cell_type": "code",
      "execution_count": null,
      "metadata": {
        "id": "0az3a_-bRTsj",
        "outputId": "75715077-709f-49fe-f400-114294e47e7d"
      },
      "outputs": [
        {
          "data": {
            "text/plain": [
              "21508765"
            ]
          },
          "execution_count": 203,
          "metadata": {},
          "output_type": "execute_result"
        }
      ],
      "source": [
        "txn.to_sql(con=cnx,chunksize=1000000,\n",
        "name='tbl_txn',\n",
        "if_exists='replace',\n",
        "index=False,\n",
        "dtype=dict(zip(txn.columns,[INT,NUMERIC(10,2),CHAR(1),VARCHAR(37),BOOLEAN,DATETIME,INT,INT,CHAR(16)])))\n",
        "#Cargamos los datos en la base de datos de mysql"
      ]
    },
    {
      "cell_type": "code",
      "execution_count": null,
      "metadata": {
        "id": "BYdmFUFlRTsj",
        "outputId": "51ee1a49-786a-4b76-fea6-6209cc87b0ff"
      },
      "outputs": [
        {
          "data": {
            "text/plain": [
              "10596"
            ]
          },
          "execution_count": 205,
          "metadata": {},
          "output_type": "execute_result"
        }
      ],
      "source": [
        "txn['ts'].map(lambda x:x.strftime('%Y%m%d')).nunique()\n",
        "#Checamos cuantos dias distintos hay con transacciones registradas"
      ]
    },
    {
      "cell_type": "code",
      "execution_count": null,
      "metadata": {
        "id": "qi7ZhIbERTsj"
      },
      "outputs": [],
      "source": []
    }
  ],
  "metadata": {
    "colab": {
      "provenance": []
    },
    "kernelspec": {
      "display_name": "Python 3.9.12 ('mod5': venv)",
      "language": "python",
      "name": "python3"
    },
    "language_info": {
      "codemirror_mode": {
        "name": "ipython",
        "version": 3
      },
      "file_extension": ".py",
      "mimetype": "text/x-python",
      "name": "python",
      "nbconvert_exporter": "python",
      "pygments_lexer": "ipython3",
      "version": "3.9.12"
    },
    "orig_nbformat": 4,
    "vscode": {
      "interpreter": {
        "hash": "b147c4aad7b0dd7a46ac3abd42c4e5e4d0db5c04fc14de93177847ef3b9b69af"
      }
    }
  },
  "nbformat": 4,
  "nbformat_minor": 0
}
